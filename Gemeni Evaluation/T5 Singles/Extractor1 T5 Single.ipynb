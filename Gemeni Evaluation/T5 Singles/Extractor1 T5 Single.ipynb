{
 "cells": [
  {
   "cell_type": "code",
   "execution_count": 1,
   "id": "f28882d7-9c12-48f2-a012-e0c743173369",
   "metadata": {},
   "outputs": [],
   "source": [
    "# Importing necessary libraries\n",
    "import pandas as pd"
   ]
  },
  {
   "cell_type": "code",
   "execution_count": 2,
   "id": "858d03e4-7c1c-473c-a257-f62251b9ebd0",
   "metadata": {},
   "outputs": [],
   "source": [
    "file_path = 'Factual Context CF+F+A  - single.csv'"
   ]
  },
  {
   "cell_type": "code",
   "execution_count": 3,
   "id": "c33083ff-2ca7-4cfa-9768-bffef23dfc04",
   "metadata": {},
   "outputs": [],
   "source": [
    "# Reading the CSV file into a pandas DataFrame\n",
    "df = pd.read_csv(file_path)"
   ]
  },
  {
   "cell_type": "code",
   "execution_count": 4,
   "id": "4d5d3635-c91f-4d93-bc27-cc3ef97042e6",
   "metadata": {},
   "outputs": [
    {
     "name": "stdout",
     "output_type": "stream",
     "text": [
      "First row of the 'Predicted Answer' column:\n",
      "জিয়ান ও সুনেওর\n"
     ]
    }
   ],
   "source": [
    "# # Print the 'Predicted Answer' column\n",
    "# print(\"Predicted Answer Column:\")\n",
    "# print(df['Predicted Answer'])\n",
    "\n",
    "# Print the first row of the 'Predicted Answer' column\n",
    "print(\"First row of the 'Predicted Answer' column:\")\n",
    "print(df['Predicted_Answer'].iloc[9])"
   ]
  },
  {
   "cell_type": "code",
   "execution_count": null,
   "id": "1431f440-a301-439f-b228-6d03d32c2c30",
   "metadata": {},
   "outputs": [],
   "source": []
  },
  {
   "cell_type": "code",
   "execution_count": 5,
   "id": "dd44ec2e-235c-48c0-ab59-d1eca8927300",
   "metadata": {},
   "outputs": [
    {
     "data": {
      "text/html": [
       "<div>\n",
       "<style scoped>\n",
       "    .dataframe tbody tr th:only-of-type {\n",
       "        vertical-align: middle;\n",
       "    }\n",
       "\n",
       "    .dataframe tbody tr th {\n",
       "        vertical-align: top;\n",
       "    }\n",
       "\n",
       "    .dataframe thead th {\n",
       "        text-align: right;\n",
       "    }\n",
       "</style>\n",
       "<table border=\"1\" class=\"dataframe\">\n",
       "  <thead>\n",
       "    <tr style=\"text-align: right;\">\n",
       "      <th></th>\n",
       "      <th>Question</th>\n",
       "      <th>Answer</th>\n",
       "      <th>Predicted_Answer</th>\n",
       "    </tr>\n",
       "  </thead>\n",
       "  <tbody>\n",
       "    <tr>\n",
       "      <th>0</th>\n",
       "      <td>Question: কোন জাদুঘরে সারগনিক বিজয় ফলক আছে?\\nC...</td>\n",
       "      <td>parametric answer: ল্যুভর জাদুঘরে\\ncontextual ...</td>\n",
       "      <td>ল্যুভর</td>\n",
       "    </tr>\n",
       "    <tr>\n",
       "      <th>1</th>\n",
       "      <td>Question: ল্যুভর জাদুঘরে দুটি সারগনিক বিজয় ফল...</td>\n",
       "      <td>parametric answer: খুব সম্ভবত মেসোপটেমিয়া ত্থ...</td>\n",
       "      <td>সুসা</td>\n",
       "    </tr>\n",
       "    <tr>\n",
       "      <th>2</th>\n",
       "      <td>Question: ল্যুভর জাদুঘরে দুটি সারগনিক বিজয় ফল...</td>\n",
       "      <td>parametric answer: দ্বাদশ শতাব্দীতে\\ncontextua...</td>\n",
       "      <td>দ্বাদশ</td>\n",
       "    </tr>\n",
       "    <tr>\n",
       "      <th>3</th>\n",
       "      <td>Question: সরগন কোন ভাষার লিপির প্রসার ঘটিয়ে ছি...</td>\n",
       "      <td>parametric answer: সেমেটিক (আক্কাদীয়ান)\\ncont...</td>\n",
       "      <td>সেমেটিক (আক্কাদীয়ান)</td>\n",
       "    </tr>\n",
       "    <tr>\n",
       "      <th>4</th>\n",
       "      <td>Question: সুমেরিয়ান কারা?\\nContext:&lt;p&gt; আস্যাইর...</td>\n",
       "      <td>parametric answer: nan\\ncontextual answer: nan</td>\n",
       "      <td>NaN</td>\n",
       "    </tr>\n",
       "    <tr>\n",
       "      <th>...</th>\n",
       "      <td>...</td>\n",
       "      <td>...</td>\n",
       "      <td>...</td>\n",
       "    </tr>\n",
       "    <tr>\n",
       "      <th>1315</th>\n",
       "      <td>Question: পানামা উপসাগরে সর্বোচ্চ গভীরতা কত?\\n...</td>\n",
       "      <td>parametric answer: ২২০ মিটার\\ncontextual answe...</td>\n",
       "      <td>২২০ মিটার</td>\n",
       "    </tr>\n",
       "    <tr>\n",
       "      <th>1316</th>\n",
       "      <td>Question: পানামা উপসাগরে কয়টি দ্বীপও আছে?\\nCon...</td>\n",
       "      <td>parametric answer: nan\\ncontextual answer: nan</td>\n",
       "      <td>NaN</td>\n",
       "    </tr>\n",
       "    <tr>\n",
       "      <th>1317</th>\n",
       "      <td>Question: সাংবাদিকতা বলতে কী বুঝায়?\\nContext:&lt;...</td>\n",
       "      <td>parametric answer: বিভিন্ন ঘটনাবলী, বিষয়, ধার...</td>\n",
       "      <td>বিভিন্ন ঘটনাবলী, বিষয়, ধারণা, মানুষ, প্রকৃতি,...</td>\n",
       "    </tr>\n",
       "    <tr>\n",
       "      <th>1318</th>\n",
       "      <td>Question: কোন দশকে আধুনিক সাংবাদিকতা রূপ ধারণ ...</td>\n",
       "      <td>parametric answer: ১৯২০\\ncontextual answer: ১৯২০</td>\n",
       "      <td>১৯২০</td>\n",
       "    </tr>\n",
       "    <tr>\n",
       "      <th>1319</th>\n",
       "      <td>Question: কোনটি কে প্রথম সংবাদপত্র বলে অভিহিত ...</td>\n",
       "      <td>parametric answer: nan\\ncontextual answer: nan</td>\n",
       "      <td>নিউজরিল</td>\n",
       "    </tr>\n",
       "  </tbody>\n",
       "</table>\n",
       "<p>1320 rows × 3 columns</p>\n",
       "</div>"
      ],
      "text/plain": [
       "                                               Question  \\\n",
       "0     Question: কোন জাদুঘরে সারগনিক বিজয় ফলক আছে?\\nC...   \n",
       "1     Question: ল্যুভর জাদুঘরে দুটি সারগনিক বিজয় ফল...   \n",
       "2     Question: ল্যুভর জাদুঘরে দুটি সারগনিক বিজয় ফল...   \n",
       "3     Question: সরগন কোন ভাষার লিপির প্রসার ঘটিয়ে ছি...   \n",
       "4     Question: সুমেরিয়ান কারা?\\nContext:<p> আস্যাইর...   \n",
       "...                                                 ...   \n",
       "1315  Question: পানামা উপসাগরে সর্বোচ্চ গভীরতা কত?\\n...   \n",
       "1316  Question: পানামা উপসাগরে কয়টি দ্বীপও আছে?\\nCon...   \n",
       "1317  Question: সাংবাদিকতা বলতে কী বুঝায়?\\nContext:<...   \n",
       "1318  Question: কোন দশকে আধুনিক সাংবাদিকতা রূপ ধারণ ...   \n",
       "1319  Question: কোনটি কে প্রথম সংবাদপত্র বলে অভিহিত ...   \n",
       "\n",
       "                                                 Answer  \\\n",
       "0     parametric answer: ল্যুভর জাদুঘরে\\ncontextual ...   \n",
       "1     parametric answer: খুব সম্ভবত মেসোপটেমিয়া ত্থ...   \n",
       "2     parametric answer: দ্বাদশ শতাব্দীতে\\ncontextua...   \n",
       "3     parametric answer: সেমেটিক (আক্কাদীয়ান)\\ncont...   \n",
       "4        parametric answer: nan\\ncontextual answer: nan   \n",
       "...                                                 ...   \n",
       "1315  parametric answer: ২২০ মিটার\\ncontextual answe...   \n",
       "1316     parametric answer: nan\\ncontextual answer: nan   \n",
       "1317  parametric answer: বিভিন্ন ঘটনাবলী, বিষয়, ধার...   \n",
       "1318   parametric answer: ১৯২০\\ncontextual answer: ১৯২০   \n",
       "1319     parametric answer: nan\\ncontextual answer: nan   \n",
       "\n",
       "                                       Predicted_Answer  \n",
       "0                                                ল্যুভর  \n",
       "1                                                  সুসা  \n",
       "2                                                দ্বাদশ  \n",
       "3                                 সেমেটিক (আক্কাদীয়ান)  \n",
       "4                                                   NaN  \n",
       "...                                                 ...  \n",
       "1315                                          ২২০ মিটার  \n",
       "1316                                                NaN  \n",
       "1317  বিভিন্ন ঘটনাবলী, বিষয়, ধারণা, মানুষ, প্রকৃতি,...  \n",
       "1318                                               ১৯২০  \n",
       "1319                                            নিউজরিল  \n",
       "\n",
       "[1320 rows x 3 columns]"
      ]
     },
     "execution_count": 5,
     "metadata": {},
     "output_type": "execute_result"
    }
   ],
   "source": [
    "df"
   ]
  },
  {
   "cell_type": "code",
   "execution_count": null,
   "id": "e2804246-077d-4431-a15c-cbd7334639ff",
   "metadata": {},
   "outputs": [],
   "source": []
  },
  {
   "cell_type": "code",
   "execution_count": null,
   "id": "a21587f8-3a88-494c-9b09-d42e2244c383",
   "metadata": {},
   "outputs": [
    {
     "name": "stdout",
     "output_type": "stream",
     "text": [
      "Contextual Answer similarity: 100%\n",
      "Parametric Answer similarity: 0%\n",
      "\n"
     ]
    }
   ],
   "source": [
    "import google.generativeai as genai\n",
    "\n",
    "genai.configure(api_key=\"\")\n",
    "model = genai.GenerativeModel(\"gemini-2.0-flash-exp\")\n",
    "\n",
    "response = model.generate_content('''\n",
    "Target:\n",
    "parametric answer: সাতোশি টোবা\n",
    "contextual answer: সাতোশি টোবা\n",
    "\n",
    "\n",
    "Generated:\n",
    "Contextual Answer: সাতোশি তোবা\n",
    "Parametric Answer: শিনিচিরো টোবা\n",
    "\n",
    "\n",
    "\n",
    "In the above section compare bewtween traget and contextual and both of them are in Bengali. You need to just compare the answers, you will check if they are presenting same meaning, do not check length if they are meaning the same asnwer or not. If the generated answer is long but giving the actual value like target provide me good result and provide me score in following format in %\n",
    "\n",
    "Format:\n",
    "Contextual Answer smilirarity:\n",
    "Parametric Answer similarity:\n",
    "''')\n",
    "print(response.text)"
   ]
  },
  {
   "cell_type": "code",
   "execution_count": null,
   "id": "efdf6c5f-d508-4c7c-957a-d5d18b6650c3",
   "metadata": {},
   "outputs": [],
   "source": []
  },
  {
   "cell_type": "code",
   "execution_count": null,
   "id": "0bf4d9ea-1737-41d1-99d6-7b8d6e36b9a6",
   "metadata": {},
   "outputs": [
    {
     "name": "stderr",
     "output_type": "stream",
     "text": [
      "Processing rows:   0%|                                                                        | 0/700 [00:00<?, ?row/s]"
     ]
    },
    {
     "name": "stdout",
     "output_type": "stream",
     "text": [
      "Target: parametric answer: ল্যুভর জাদুঘরে\n",
      "contextual answer: ল্যুভর জাদুঘরে\n",
      "generated: ল্যুভর\n"
     ]
    },
    {
     "name": "stderr",
     "output_type": "stream",
     "text": [
      "Processing rows:   0%|                                                              | 1/700 [00:17<3:21:59, 17.34s/row]"
     ]
    },
    {
     "name": "stdout",
     "output_type": "stream",
     "text": [
      "Target: parametric answer: খুব সম্ভবত মেসোপটেমিয়া ত্থেকে\n",
      "contextual answer: খুব সম্ভবত মেসোপটেমিয়া ত্থেকে\n",
      "generated: সুসা\n"
     ]
    },
    {
     "name": "stderr",
     "output_type": "stream",
     "text": [
      "Processing rows:   0%|▏                                                             | 2/700 [00:32<3:13:31, 16.63s/row]"
     ]
    },
    {
     "name": "stdout",
     "output_type": "stream",
     "text": [
      "Target: parametric answer: দ্বাদশ শতাব্দীতে\n",
      "contextual answer: দ্বাদশ শতাব্দীতে\n",
      "generated: দ্বাদশ\n"
     ]
    },
    {
     "name": "stderr",
     "output_type": "stream",
     "text": [
      "Processing rows:   0%|▎                                                             | 3/700 [00:47<3:07:09, 16.11s/row]"
     ]
    },
    {
     "name": "stdout",
     "output_type": "stream",
     "text": [
      "Target: parametric answer: সেমেটিক (আক্কাদীয়ান)\n",
      "contextual answer: সেমেটিক (আক্কাদীয়ান)\n",
      "generated: সেমেটিক (আক্কাদীয়ান)\n"
     ]
    },
    {
     "name": "stderr",
     "output_type": "stream",
     "text": [
      "Processing rows:   1%|▎                                                             | 4/700 [01:01<3:01:01, 15.61s/row]"
     ]
    },
    {
     "name": "stdout",
     "output_type": "stream",
     "text": [
      "Target: parametric answer: মাৎসুশিবা রোবোট\n",
      "contextual answer: মাৎসুশিবা রোবোট\n",
      "generated: মাৎসুশিবা রোবোট ফ্যাক্টরি\n"
     ]
    },
    {
     "name": "stderr",
     "output_type": "stream",
     "text": [
      "Processing rows:   1%|▌                                                             | 6/700 [01:17<2:33:05, 13.24s/row]"
     ]
    },
    {
     "name": "stdout",
     "output_type": "stream",
     "text": [
      "Target: parametric answer: ২১১২\n",
      "contextual answer: ২১১২\n",
      "generated: ২১১২\n"
     ]
    },
    {
     "name": "stderr",
     "output_type": "stream",
     "text": [
      "Processing rows:   1%|▌                                                             | 7/700 [01:31<2:35:38, 13.48s/row]"
     ]
    },
    {
     "name": "stdout",
     "output_type": "stream",
     "text": [
      "Target: parametric answer: ডোরেমন তৈরির সময় দুজন সন্ত্রাসী টাইম ওয়ার্প দিয়ে টাইম প্যাট্রোল থেকে পালাচ্ছিলো যার ফলে\n",
      "contextual answer: ডোরেমন তৈরির সময় দুজন সন্ত্রাসী টাইম ওয়ার্প দিয়ে টাইম প্যাট্রোল থেকে পালাচ্ছিলো যার ফলে\n",
      "generated: ডোরেমন তৈরির সময় দুজন সন্ত্রাসী টাইম ওয়ার্প দিয়ে টাইম প্যাট্রোল থেকে পালাচ্ছিলো যার ফলে\n"
     ]
    },
    {
     "name": "stderr",
     "output_type": "stream",
     "text": [
      "Processing rows:   1%|▊                                                             | 9/700 [01:45<2:12:48, 11.53s/row]"
     ]
    },
    {
     "name": "stdout",
     "output_type": "stream",
     "text": [
      "Target: parametric answer: জিয়ান ও সুনেওর\n",
      "contextual answer: জিয়ান ও সুনেওর\n",
      "generated: জিয়ান ও সুনেওর\n"
     ]
    },
    {
     "name": "stderr",
     "output_type": "stream",
     "text": [
      "Processing rows:   1%|▊                                                            | 10/700 [01:59<2:20:57, 12.26s/row]"
     ]
    },
    {
     "name": "stdout",
     "output_type": "stream",
     "text": [
      "Target: parametric answer: ৫৫ লাখ\n",
      "contextual answer: ৫৫ লাখ\n",
      "generated: ৫৫ লাখ\n"
     ]
    },
    {
     "name": "stderr",
     "output_type": "stream",
     "text": [
      "Processing rows:   2%|▉                                                            | 11/700 [02:13<2:26:37, 12.77s/row]"
     ]
    },
    {
     "name": "stdout",
     "output_type": "stream",
     "text": [
      "Target: parametric answer: ২৬টি\n",
      "contextual answer: ২৬টি\n",
      "generated: ২৬টি\n"
     ]
    },
    {
     "name": "stderr",
     "output_type": "stream",
     "text": [
      "Processing rows:   2%|█                                                            | 12/700 [02:27<2:33:44, 13.41s/row]"
     ]
    },
    {
     "name": "stdout",
     "output_type": "stream",
     "text": [
      "Target: parametric answer: দুটি\n",
      "contextual answer: দুটি\n",
      "generated: দুটি\n"
     ]
    },
    {
     "name": "stderr",
     "output_type": "stream",
     "text": [
      "Processing rows:   2%|█▏                                                           | 13/700 [02:42<2:36:42, 13.69s/row]"
     ]
    },
    {
     "name": "stdout",
     "output_type": "stream",
     "text": [
      "Target: parametric answer: গাড়ি সামের্থ্যর সর্বোচ্চ পর্যায়ে পৌছা পর্যন্ত গাড়িকে স্থিতিশীল রাখতে সাহায্য করে\n",
      "contextual answer: গাড়ি সামের্থ্যর সর্বোচ্চ পর্যায়ে পৌছা পর্যন্ত গাড়িকে স্থিতিশীল রাখতে সাহায্য করে\n",
      "generated: গাড়ি সামের্থ্যর সর্বোচ্চ পর্যায়ে পৌছা পর্যন্ত গাড়িকে স্থিতিশীল রাখতে সাহায্য করে\n"
     ]
    },
    {
     "name": "stderr",
     "output_type": "stream",
     "text": [
      "Processing rows:   2%|█▏                                                           | 14/700 [02:57<2:40:46, 14.06s/row]"
     ]
    },
    {
     "name": "stdout",
     "output_type": "stream",
     "text": [
      "Target: parametric answer: ২০১৫ সালের\n",
      "contextual answer: ২০১৫ সালের\n",
      "generated: ২০১৫\n"
     ]
    },
    {
     "name": "stderr",
     "output_type": "stream",
     "text": [
      "Processing rows:   2%|█▍                                                           | 17/700 [03:12<2:09:39, 11.39s/row]"
     ]
    },
    {
     "name": "stdout",
     "output_type": "stream",
     "text": [
      "Target: parametric answer: ইলেক্ট্রিক্যাল এন্ড মেকানিক্যাল ইঞ্জিনিয়ার্স\n",
      "contextual answer: ইলেক্ট্রিক্যাল এন্ড মেকানিক্যাল ইঞ্জিনিয়ার্স\n",
      "generated: ইলেক্ট্রিক্যাল এন্ড মেকানিক্যাল ইঞ্জিনিয়ার\n"
     ]
    },
    {
     "name": "stderr",
     "output_type": "stream",
     "text": [
      "Processing rows:   3%|█▌                                                           | 18/700 [03:28<2:23:53, 12.66s/row]"
     ]
    },
    {
     "name": "stdout",
     "output_type": "stream",
     "text": [
      "Target: parametric answer: স্লাটওয়াকের\n",
      "contextual answer: স্লাটওয়াকের\n",
      "generated: স্লাটওয়াকের\n"
     ]
    },
    {
     "name": "stderr",
     "output_type": "stream",
     "text": [
      "Processing rows:   3%|█▊                                                           | 21/700 [03:42<1:56:21, 10.28s/row]"
     ]
    },
    {
     "name": "stdout",
     "output_type": "stream",
     "text": [
      "Target: parametric answer: ভোপালে\n",
      "contextual answer: ভোপালে\n",
      "generated: ভোপালে\n"
     ]
    },
    {
     "name": "stderr",
     "output_type": "stream",
     "text": [
      "Processing rows:   3%|█▉                                                           | 22/700 [03:56<2:08:33, 11.38s/row]"
     ]
    },
    {
     "name": "stdout",
     "output_type": "stream",
     "text": [
      "Target: parametric answer: নাম\n",
      "contextual answer: নাম\n",
      "generated: নাম\n"
     ]
    },
    {
     "name": "stderr",
     "output_type": "stream",
     "text": [
      "Processing rows:   3%|██                                                           | 23/700 [04:10<2:17:08, 12.15s/row]"
     ]
    },
    {
     "name": "stdout",
     "output_type": "stream",
     "text": [
      "Target: parametric answer: জাপান\n",
      "contextual answer: জাপান\n",
      "generated: জাপান\n"
     ]
    },
    {
     "name": "stderr",
     "output_type": "stream",
     "text": [
      "Processing rows:   4%|██▎                                                          | 26/700 [04:24<1:51:13,  9.90s/row]"
     ]
    },
    {
     "name": "stdout",
     "output_type": "stream",
     "text": [
      "Target: parametric answer: ১৯৯৭ সালের ১ এপ্রিল\n",
      "contextual answer: ১৯৯৭ সালের ১ এপ্রিল\n",
      "generated: ১৯৯৭ সালের ১ এপ্রিল\n"
     ]
    },
    {
     "name": "stderr",
     "output_type": "stream",
     "text": [
      "Processing rows:   4%|██▍                                                          | 28/700 [04:38<1:40:59,  9.02s/row]"
     ]
    },
    {
     "name": "stdout",
     "output_type": "stream",
     "text": [
      "Target: parametric answer: অ্যাশ কেচম\n",
      "contextual answer: অ্যাশ কেচম\n",
      "generated: nan\n"
     ]
    },
    {
     "name": "stderr",
     "output_type": "stream",
     "text": [
      "Processing rows:   4%|██▌                                                          | 29/700 [04:51<1:54:50, 10.27s/row]"
     ]
    },
    {
     "name": "stdout",
     "output_type": "stream",
     "text": [
      "Target: parametric answer: টয়োটা\n",
      "contextual answer: টয়োটা\n",
      "generated: টয়োটা\n"
     ]
    },
    {
     "name": "stderr",
     "output_type": "stream",
     "text": [
      "Processing rows:   4%|██▋                                                          | 31/700 [05:06<1:45:17,  9.44s/row]"
     ]
    },
    {
     "name": "stdout",
     "output_type": "stream",
     "text": [
      "Target: parametric answer: ১৯৯৮\n",
      "contextual answer: ১৯৯৮\n",
      "generated: ১৯৯৮\n"
     ]
    },
    {
     "name": "stderr",
     "output_type": "stream",
     "text": [
      "Processing rows:   5%|██▊                                                          | 32/700 [05:20<2:00:18, 10.81s/row]"
     ]
    },
    {
     "name": "stdout",
     "output_type": "stream",
     "text": [
      "Target: parametric answer: টয়োটা গাড়ি\n",
      "contextual answer: টয়োটা গাড়ি\n",
      "generated: টয়োটা\n"
     ]
    },
    {
     "name": "stderr",
     "output_type": "stream",
     "text": [
      "Processing rows:   5%|██▉                                                          | 33/700 [05:34<2:10:14, 11.72s/row]"
     ]
    },
    {
     "name": "stdout",
     "output_type": "stream",
     "text": [
      "Target: parametric answer: টয়োটা ক্রাউন-এ অ্যাডাপটিভ ভেরিয়েবল সাসপেনশন সিস্টেমের (এনএভিআই / এআই-এভিএস) সাথে সংযুক্ত বিশ্বের প্রথম নেভিগেশন সিস্টেম-সংযুক্ত ব্রেক সহায়তা ফাংশন এবং নেভিগেশন সিস্টেম\n",
      "contextual answer: টয়োটা ক্রাউন-এ অ্যাডাপটিভ ভেরিয়েবল সাসপেনশন সিস্টেমের (এনএভিআই / এআই-এভিএস) সাথে সংযুক্ত বিশ্বের প্রথম নেভিগেশন সিস্টেম-সংযুক্ত ব্রেক সহায়তা ফাংশন এবং নেভিগেশন সিস্টেম\n",
      "generated: টয়োটা ক্রাউন-এ অ্যাডাপটিভ ভেরিয়েবল সাসপেনশন সিস্টেমের\n"
     ]
    },
    {
     "name": "stderr",
     "output_type": "stream",
     "text": [
      "Processing rows:   5%|██▉                                                          | 34/700 [05:50<2:26:23, 13.19s/row]"
     ]
    },
    {
     "name": "stdout",
     "output_type": "stream",
     "text": [
      "Target: parametric answer: সাউদার্ন ক্যালিফোর্নিয়া বিশ্ববিদ্যালয়ের ইনস্টিটিউট ফর ক্রিয়েটিভ টেকনোলজিস এবং ইউএস আর্মি রিসার্চ ল্যাবরেটরি\n",
      "contextual answer: সাউদার্ন ক্যালিফোর্নিয়া বিশ্ববিদ্যালয়ের ইনস্টিটিউট ফর ক্রিয়েটিভ টেকনোলজিস এবং ইউএস আর্মি রিসার্চ ল্যাবরেটরি\n",
      "generated: সাউদার্ন ক্যালিফোর্নিয়া বিশ্ববিদ্যালয়ের ইনস্টিটিউট ফর ক্রিয়েটিভ টেকনোলজিস এবং ইউএস আর্মি রিসার্চ ল্যাবরেটরি (এআরএল)\n"
     ]
    },
    {
     "name": "stderr",
     "output_type": "stream",
     "text": [
      "Processing rows:   5%|███▏                                                         | 37/700 [06:05<1:57:56, 10.67s/row]"
     ]
    },
    {
     "name": "stdout",
     "output_type": "stream",
     "text": [
      "Target: parametric answer: কমান্ড দলের\n",
      "contextual answer: কমান্ড দলের\n",
      "generated: কমান্ড দল\n"
     ]
    },
    {
     "name": "stderr",
     "output_type": "stream",
     "text": [
      "Processing rows:   5%|███▎                                                         | 38/700 [06:20<2:13:13, 12.07s/row]"
     ]
    },
    {
     "name": "stdout",
     "output_type": "stream",
     "text": [
      "Target: parametric answer: ২০১৬ সালের ২১ মার্চ\n",
      "contextual answer: ২০১৬ সালের ২১ মার্চ\n",
      "generated: ২০১৬ সালের ২১ মার্চ\n"
     ]
    },
    {
     "name": "stderr",
     "output_type": "stream",
     "text": [
      "Processing rows:   6%|███▍                                                         | 39/700 [06:34<2:19:46, 12.69s/row]"
     ]
    },
    {
     "name": "stdout",
     "output_type": "stream",
     "text": [
      "Target: parametric answer: ১১০০ অব্দ থেকে শুরু করে খ্রিস্টপূর্ব ৯ম শতাব্দীতে\n",
      "contextual answer: ১১০০ অব্দ থেকে শুরু করে খ্রিস্টপূর্ব ৯ম শতাব্দীতে\n",
      "generated: মিসিনিয়ান সভ্যতার শেষ দিকে খ্রিস্টপূর্ব ১১০০ অব্দ থেকে শুরু করে খ্রিস্টপূর্ব ৯ম শতাব্দীতে প্রাচীন গ্রীসের প্রথম নিদর্শন\n"
     ]
    },
    {
     "name": "stderr",
     "output_type": "stream",
     "text": [
      "Processing rows:   6%|███▌                                                         | 41/700 [06:48<2:00:47, 11.00s/row]"
     ]
    },
    {
     "name": "stdout",
     "output_type": "stream",
     "text": [
      "Target: parametric answer: ইউবোয়ার লেলান্টাইন সমভূমির লেফকান্দি থেকে প্রাপ্ত হস্তনির্মিত দ্রব্যাদি\n",
      "contextual answer: ইউবোয়ার লেলান্টাইন সমভূমির লেফকান্দি থেকে প্রাপ্ত হস্তনির্মিত দ্রব্যাদি\n",
      "generated: স্বল্পবিস্তর সাংস্কৃতিক উন্নতির কারণে পূর্বে ধারণা করা হত এই সময়ে প্রধান ভূমি হেলেনেসের এবং বিদেশীদের মধ্যকার সকল যোগাযোগ বিচ্যুত হয়েছে\n"
     ]
    },
    {
     "name": "stderr",
     "output_type": "stream",
     "text": [
      "Processing rows:   6%|███▋                                                         | 42/700 [07:05<2:18:36, 12.64s/row]"
     ]
    },
    {
     "name": "stdout",
     "output_type": "stream",
     "text": [
      "Target: parametric answer: ১৯৭৩\n",
      "contextual answer: ১৯৭৩\n",
      "generated: ১৯৭৩\n"
     ]
    },
    {
     "name": "stderr",
     "output_type": "stream",
     "text": [
      "Processing rows:   6%|███▉                                                         | 45/700 [07:50<2:25:28, 13.33s/row]"
     ]
    },
    {
     "name": "stdout",
     "output_type": "stream",
     "text": [
      "Target: parametric answer: আইবিএম ৫১০০\n",
      "contextual answer: আইবিএম ৫১০০\n",
      "generated: আইবিএম ৫১০০\n"
     ]
    },
    {
     "name": "stderr",
     "output_type": "stream",
     "text": [
      "Processing rows:   7%|████                                                         | 46/700 [08:05<2:30:46, 13.83s/row]"
     ]
    },
    {
     "name": "stdout",
     "output_type": "stream",
     "text": [
      "Target: parametric answer: ১৯৭৫\n",
      "contextual answer: ১৯৭৫\n",
      "generated: ১৯৭৫\n"
     ]
    },
    {
     "name": "stderr",
     "output_type": "stream",
     "text": [
      "Processing rows:   7%|████                                                         | 47/700 [08:19<2:30:48, 13.86s/row]"
     ]
    },
    {
     "name": "stdout",
     "output_type": "stream",
     "text": [
      "Target: parametric answer: আন্তর্জাতিক ক্যাপিটাল মুভমেন্টের কালজয়ী অবদান রাখার জন্য\n",
      "contextual answer: আন্তর্জাতিক ক্যাপিটাল মুভমেন্টের কালজয়ী অবদান রাখার জন্য\n",
      "generated: আন্তর্জাতিক বাণিজ্য ও আন্তর্জাতিক ক্যাপিটাল মুভমেন্টের কালজয়ী অবদান রাখার জন্য\n"
     ]
    },
    {
     "name": "stderr",
     "output_type": "stream",
     "text": [
      "Processing rows:   7%|████▎                                                        | 49/700 [08:32<2:07:54, 11.79s/row]"
     ]
    },
    {
     "name": "stdout",
     "output_type": "stream",
     "text": [
      "Target: parametric answer: বার্টিল ওহলিনের\n",
      "contextual answer: বার্টিল ওহলিনের\n",
      "generated: সুইডিশ অর্থনীতিবিদ বার্টিল ওহলিনের\n"
     ]
    },
    {
     "name": "stderr",
     "output_type": "stream",
     "text": [
      "Processing rows:   7%|████▎                                                        | 50/700 [08:46<2:14:45, 12.44s/row]"
     ]
    },
    {
     "name": "stdout",
     "output_type": "stream",
     "text": [
      "Target: parametric answer: পাঁচ\n",
      "contextual answer: পাঁচ\n",
      "generated: পাঁচ\n"
     ]
    },
    {
     "name": "stderr",
     "output_type": "stream",
     "text": [
      "Processing rows:   7%|████▌                                                        | 52/700 [09:01<1:57:43, 10.90s/row]"
     ]
    },
    {
     "name": "stdout",
     "output_type": "stream",
     "text": [
      "Target: parametric answer: সরকারকে উৎখাতের ষড়যন্ত্রে মালাস্পিনার সম্পৃক্ততার অভিযোগ আসে তাই\n",
      "contextual answer: সরকারকে উৎখাতের ষড়যন্ত্রে মালাস্পিনার সম্পৃক্ততার অভিযোগ আসে তাই\n",
      "generated: সরকার উৎখাতের ষড়যন্ত্রে মালাস্পিনার সম্পৃক্ততার অভিযোগে আসে\n"
     ]
    },
    {
     "name": "stderr",
     "output_type": "stream",
     "text": [
      "Processing rows:   8%|████▌                                                        | 53/700 [09:17<2:15:17, 12.55s/row]"
     ]
    },
    {
     "name": "stdout",
     "output_type": "stream",
     "text": [
      "Target: parametric answer: ১৫,০০,০০,০০০ কি.মি\n",
      "contextual answer: ১৫,০০,০০,০০০ কি.মি\n",
      "generated: ১৫,০০,০০,০০০\n"
     ]
    },
    {
     "name": "stderr",
     "output_type": "stream",
     "text": [
      "Processing rows:   8%|████▉                                                        | 56/700 [09:31<1:49:17, 10.18s/row]"
     ]
    },
    {
     "name": "stdout",
     "output_type": "stream",
     "text": [
      "Target: parametric answer: ৩০%\n",
      "contextual answer: ৩০%\n",
      "generated: ৩০%\n"
     ]
    },
    {
     "name": "stderr",
     "output_type": "stream",
     "text": [
      "Processing rows:   8%|████▉                                                        | 57/700 [09:47<2:05:46, 11.74s/row]"
     ]
    },
    {
     "name": "stdout",
     "output_type": "stream",
     "text": [
      "Target: parametric answer: ১.৭ এইউ\n",
      "contextual answer: ১.৭ এইউ\n",
      "generated: ১.৭\n"
     ]
    },
    {
     "name": "stderr",
     "output_type": "stream",
     "text": [
      "Processing rows:   8%|█████                                                        | 58/700 [10:02<2:17:01, 12.81s/row]"
     ]
    },
    {
     "name": "stdout",
     "output_type": "stream",
     "text": [
      "Target: parametric answer:  ২০০৮ সালে করা একটি সিমুলেশনের ফলাফল ইঙ্গিত দেয় যে, জোয়ার-ভাটার প্রভাব না থাকার কারণে পৃথিবীর কক্ষপথ এক সময় হ্রাস পাবে\n",
      "contextual answer:  ২০০৮ সালে করা একটি সিমুলেশনের ফলাফল ইঙ্গিত দেয় যে, জোয়ার-ভাটার প্রভাব না থাকার কারণে পৃথিবীর কক্ষপথ এক সময় হ্রাস পাবে\n",
      "generated: জোয়ার-ভাটার প্রভাব না থাকার কারণে\n"
     ]
    },
    {
     "name": "stderr",
     "output_type": "stream",
     "text": [
      "Processing rows:   8%|█████▏                                                       | 59/700 [10:16<2:21:36, 13.26s/row]"
     ]
    },
    {
     "name": "stdout",
     "output_type": "stream",
     "text": [
      "Target: parametric answer: অনলাইনে খাবার অর্ডার করার একধরনের ব্র্যান্ড বা কোম্পানি\n",
      "contextual answer: অনলাইনে খাবার অর্ডার করার একধরনের ব্র্যান্ড বা কোম্পানি\n",
      "generated: অনলাইনে খাবার অর্ডার করার একধরনের ব্র্যান্ড বা কোম্পানি\n"
     ]
    },
    {
     "name": "stderr",
     "output_type": "stream",
     "text": [
      "Processing rows:   9%|█████▏                                                       | 60/700 [10:32<2:28:49, 13.95s/row]"
     ]
    },
    {
     "name": "stdout",
     "output_type": "stream",
     "text": [
      "Target: parametric answer: কোনও দলীয় ম্যাচের শুরুতে\n",
      "contextual answer: কোনও দলীয় ম্যাচের শুরুতে\n",
      "generated: কোনও দলীয় ম্যাচের শুরুতে\n"
     ]
    },
    {
     "name": "stderr",
     "output_type": "stream",
     "text": [
      "Processing rows:   9%|█████▌                                                       | 64/700 [10:47<1:55:09, 10.86s/row]"
     ]
    },
    {
     "name": "stdout",
     "output_type": "stream",
     "text": [
      "Target: parametric answer: পিচটি যদি নরম বা ধূলিময় হয়\n",
      "contextual answer: পিচটি যদি নরম বা ধূলিময় হয়\n",
      "generated: nan\n"
     ]
    },
    {
     "name": "stderr",
     "output_type": "stream",
     "text": [
      "Processing rows:   9%|█████▋                                                       | 65/700 [11:00<2:02:20, 11.56s/row]"
     ]
    },
    {
     "name": "stdout",
     "output_type": "stream",
     "text": [
      "Target: parametric answer: আধঘণ্টা\n",
      "contextual answer: আধঘণ্টা\n",
      "generated: আধঘণ্টা\n"
     ]
    },
    {
     "name": "stderr",
     "output_type": "stream",
     "text": [
      "Processing rows:   9%|█████▊                                                       | 66/700 [11:15<2:12:10, 12.51s/row]"
     ]
    },
    {
     "name": "stdout",
     "output_type": "stream",
     "text": [
      "Target: parametric answer: কনকাসন\n",
      "contextual answer: কনকাসন\n",
      "generated: nan\n"
     ]
    },
    {
     "name": "stderr",
     "output_type": "stream",
     "text": [
      "Processing rows:  10%|█████▉                                                       | 68/700 [11:28<1:53:02, 10.73s/row]"
     ]
    },
    {
     "name": "stdout",
     "output_type": "stream",
     "text": [
      "Target: parametric answer: প্রশাসনিক বা নির্বাহী সংস্থাগুলির হাতে\n",
      "contextual answer: প্রশাসনিক বা নির্বাহী সংস্থাগুলির হাতে\n",
      "generated: প্রশাসনিক বা নির্বাহী সংস্থাগুলির\n"
     ]
    },
    {
     "name": "stderr",
     "output_type": "stream",
     "text": [
      "Processing rows:  10%|██████                                                       | 70/700 [11:43<1:42:26,  9.76s/row]"
     ]
    },
    {
     "name": "stdout",
     "output_type": "stream",
     "text": [
      "Target: parametric answer: ডেস্কটপের তুলনায় ল্যাপটপের সম্প্রসারণ ক্ষমতা খুব কম\n",
      "contextual answer: ডেস্কটপের তুলনায় ল্যাপটপের সম্প্রসারণ ক্ষমতা খুব কম\n",
      "generated: পিছিয়ে আছে\n"
     ]
    },
    {
     "name": "stderr",
     "output_type": "stream",
     "text": [
      "Processing rows:  10%|██████▏                                                      | 71/700 [11:59<2:04:04, 11.83s/row]"
     ]
    },
    {
     "name": "stdout",
     "output_type": "stream",
     "text": [
      "Target: parametric answer: সম্প্রসারণ ক্ষমতা\n",
      "contextual answer: সম্প্রসারণ ক্ষমতা\n",
      "generated: হ্যাঁ\n"
     ]
    },
    {
     "name": "stderr",
     "output_type": "stream",
     "text": [
      "Processing rows:  10%|██████▎                                                      | 72/700 [12:15<2:14:58, 12.90s/row]"
     ]
    },
    {
     "name": "stdout",
     "output_type": "stream",
     "text": [
      "Target: parametric answer: আফ্রিকা এবং মধ্যপ্রাচ্যে\n",
      "contextual answer: আফ্রিকা এবং মধ্যপ্রাচ্যে\n",
      "generated: আফ্রিকা এবং মধ্যপ্রাচ্যে\n"
     ]
    },
    {
     "name": "stderr",
     "output_type": "stream",
     "text": [
      "Processing rows:  11%|██████▌                                                      | 75/700 [12:29<1:48:36, 10.43s/row]"
     ]
    },
    {
     "name": "stdout",
     "output_type": "stream",
     "text": [
      "Target: parametric answer: সুনসু আও\n",
      "contextual answer: সুনসু আও\n",
      "generated: সুনসু আও\n"
     ]
    },
    {
     "name": "stderr",
     "output_type": "stream",
     "text": [
      "Processing rows:  11%|██████▌                                                      | 76/700 [12:43<2:00:46, 11.61s/row]"
     ]
    },
    {
     "name": "stdout",
     "output_type": "stream",
     "text": [
      "Target: parametric answer: ঘড়িতে একটি অর্ধবৃত্তাকার ভর পর্যায়বৃত্ত গতিতে আন্দোলিত হতে থাকে\n",
      "contextual answer: ঘড়িতে একটি অর্ধবৃত্তাকার ভর পর্যায়বৃত্ত গতিতে আন্দোলিত হতে থাকে\n",
      "generated: স্বয়ংক্রিয়ভাবে গতিপ্রাপ্ত হয়\n"
     ]
    },
    {
     "name": "stderr",
     "output_type": "stream",
     "text": [
      "Processing rows:  11%|██████▋                                                      | 77/700 [12:59<2:12:57, 12.81s/row]"
     ]
    },
    {
     "name": "stdout",
     "output_type": "stream",
     "text": [
      "Target: parametric answer: কোয়ার্জ গতি\n",
      "contextual answer: কোয়ার্জ গতি\n",
      "generated: কোয়ার্জ গতি\n"
     ]
    },
    {
     "name": "stderr",
     "output_type": "stream",
     "text": [
      "Processing rows:  11%|██████▊                                                      | 78/700 [13:13<2:17:11, 13.23s/row]"
     ]
    },
    {
     "name": "stdout",
     "output_type": "stream",
     "text": [
      "Target: parametric answer: জাপানিজ 'সিকো'\n",
      "contextual answer: জাপানিজ 'সিকো'\n",
      "generated: জাপানিজ 'সিকো'\n"
     ]
    },
    {
     "name": "stderr",
     "output_type": "stream",
     "text": [
      "Processing rows:  11%|██████▉                                                      | 79/700 [13:28<2:24:00, 13.91s/row]"
     ]
    },
    {
     "name": "stdout",
     "output_type": "stream",
     "text": [
      "Target: parametric answer: কোয়ার্টজ ঘড়ি\n",
      "contextual answer: কোয়ার্টজ ঘড়ি\n",
      "generated: কোয়ার্টজ ঘড়ি\n"
     ]
    },
    {
     "name": "stderr",
     "output_type": "stream",
     "text": [
      "Processing rows:  11%|██████▉                                                      | 80/700 [13:43<2:27:12, 14.25s/row]"
     ]
    },
    {
     "name": "stdout",
     "output_type": "stream",
     "text": [
      "Target: parametric answer: ডেনড্রোক্রোনোলজির\n",
      "contextual answer: ডেনড্রোক্রোনোলজির\n",
      "generated: ডেনড্রোক্রোনোলজির\n"
     ]
    },
    {
     "name": "stderr",
     "output_type": "stream",
     "text": [
      "Processing rows:  12%|███████▏                                                     | 82/700 [13:58<2:04:49, 12.12s/row]"
     ]
    },
    {
     "name": "stdout",
     "output_type": "stream",
     "text": [
      "Target: parametric answer: ১১\n",
      "contextual answer: ১১\n",
      "generated: ১১ হাজার বছর\n"
     ]
    },
    {
     "name": "stderr",
     "output_type": "stream",
     "text": [
      "Processing rows:  12%|███████▏                                                     | 83/700 [14:12<2:12:10, 12.85s/row]"
     ]
    },
    {
     "name": "stdout",
     "output_type": "stream",
     "text": [
      "Target: parametric answer: পঞ্চম\n",
      "contextual answer: পঞ্চম\n",
      "generated: পঞ্চম\n"
     ]
    },
    {
     "name": "stderr",
     "output_type": "stream",
     "text": [
      "Processing rows:  12%|███████▍                                                     | 86/700 [14:28<1:47:43, 10.53s/row]"
     ]
    },
    {
     "name": "stdout",
     "output_type": "stream",
     "text": [
      "Target: parametric answer: প্লুটোর\n",
      "contextual answer: প্লুটোর\n",
      "generated: nan\n"
     ]
    },
    {
     "name": "stderr",
     "output_type": "stream",
     "text": [
      "Processing rows:  12%|███████▌                                                     | 87/700 [14:41<1:55:29, 11.30s/row]"
     ]
    },
    {
     "name": "stdout",
     "output_type": "stream",
     "text": [
      "Target: parametric answer: ২০০৭ সালের ফেব্রুয়ারি মাসে\n",
      "contextual answer: ২০০৭ সালের ফেব্রুয়ারি মাসে\n",
      "generated: nan\n"
     ]
    },
    {
     "name": "stderr",
     "output_type": "stream",
     "text": [
      "Processing rows:  13%|███████▋                                                     | 88/700 [14:54<2:00:54, 11.85s/row]"
     ]
    },
    {
     "name": "stdout",
     "output_type": "stream",
     "text": [
      "Target: parametric answer: জিউস\n",
      "contextual answer: জিউস\n",
      "generated: জিউস\n"
     ]
    },
    {
     "name": "stderr",
     "output_type": "stream",
     "text": [
      "Processing rows:  13%|███████▊                                                     | 89/700 [15:08<2:07:16, 12.50s/row]"
     ]
    },
    {
     "name": "stdout",
     "output_type": "stream",
     "text": [
      "Target: parametric answer: ২.৮\n",
      "contextual answer: ২.৮\n",
      "generated: ২.৮\n"
     ]
    },
    {
     "name": "stderr",
     "output_type": "stream",
     "text": [
      "Processing rows:  13%|███████▊                                                     | 90/700 [15:22<2:11:30, 12.93s/row]"
     ]
    },
    {
     "name": "stdout",
     "output_type": "stream",
     "text": [
      "Target: parametric answer: টি এ গাঙ্গুলী\n",
      "contextual answer: টি এ গাঙ্গুলী\n",
      "generated: টি এ গাঙ্গুলী\n"
     ]
    },
    {
     "name": "stderr",
     "output_type": "stream",
     "text": [
      "Processing rows:  13%|███████▉                                                     | 91/700 [15:37<2:16:58, 13.49s/row]"
     ]
    },
    {
     "name": "stdout",
     "output_type": "stream",
     "text": [
      "Target: parametric answer: নিজের গলার স্বর্ণের চেইন ও ক্রুশ\n",
      "contextual answer: নিজের গলার স্বর্ণের চেইন ও ক্রুশ\n",
      "generated: নিজের গলার স্বর্ণের চেইন ও ক্রুশ\n"
     ]
    },
    {
     "name": "stderr",
     "output_type": "stream",
     "text": [
      "Processing rows:  13%|████████                                                     | 92/700 [15:51<2:18:10, 13.64s/row]"
     ]
    },
    {
     "name": "stdout",
     "output_type": "stream",
     "text": [
      "Target: parametric answer: বিশিষ্ট মুক্তিযোদ্ধা ,যিনি বর্তমান সরকারের একজন সমাজ কল্যাণ প্রতিমন্ত্রী হিসেবে দায়িত্ব পালন করছেন\n",
      "contextual answer: বিশিষ্ট মুক্তিযোদ্ধা ,যিনি বর্তমান সরকারের একজন সমাজ কল্যাণ প্রতিমন্ত্রী হিসেবে দায়িত্ব পালন করছেন\n",
      "generated: একজন সমাজ কল্যাণ প্রতিমন্ত্রী\n"
     ]
    },
    {
     "name": "stderr",
     "output_type": "stream",
     "text": [
      "Processing rows:  13%|████████                                                     | 93/700 [16:07<2:25:02, 14.34s/row]"
     ]
    },
    {
     "name": "stdout",
     "output_type": "stream",
     "text": [
      "Target: parametric answer: মুক্তিযোদ্ধা ও বিশিষ্ট সাংবাদিক চিত্ত\n",
      "contextual answer: মুক্তিযোদ্ধা ও বিশিষ্ট সাংবাদিক চিত্ত\n",
      "generated: মুক্তিযোদ্ধা ও বিশিষ্ট সাংবাদিক\n"
     ]
    },
    {
     "name": "stderr",
     "output_type": "stream",
     "text": [
      "Processing rows:  13%|████████▏                                                    | 94/700 [16:21<2:23:39, 14.22s/row]"
     ]
    },
    {
     "name": "stdout",
     "output_type": "stream",
     "text": [
      "Target: parametric answer: নেটস্কেপের মত কোম্পানিগুলোর জন্যে প্রযুক্তি প্রদান করা\n",
      "contextual answer: নেটস্কেপের মত কোম্পানিগুলোর জন্যে প্রযুক্তি প্রদান করা\n",
      "generated: নেটস্কেপের মত কোম্পানিগুলোর জন্যে প্রযুক্তি প্রদান করা, যারা তাদের ওপেন সোর্স কোডকে বাণিজ্যিকীকরণ করবে\n"
     ]
    },
    {
     "name": "stderr",
     "output_type": "stream",
     "text": [
      "Processing rows:  14%|████████▎                                                    | 96/700 [16:35<2:02:14, 12.14s/row]"
     ]
    },
    {
     "name": "stdout",
     "output_type": "stream",
     "text": [
      "Target: parametric answer: $১৬৩ মিলিয়ন\n",
      "contextual answer: $১৬৩ মিলিয়ন\n",
      "generated: $১৬৩ মিলিয়ন\n"
     ]
    },
    {
     "name": "stderr",
     "output_type": "stream",
     "text": [
      "Processing rows:  14%|████████▍                                                    | 97/700 [16:50<2:09:54, 12.93s/row]"
     ]
    },
    {
     "name": "stdout",
     "output_type": "stream",
     "text": [
      "Target: parametric answer: ডিসেম্বর ২০১৩ সালে\n",
      "contextual answer: ডিসেম্বর ২০১৩ সালে\n",
      "generated: ডিসেম্বর ২০১৩ সালে\n"
     ]
    },
    {
     "name": "stderr",
     "output_type": "stream",
     "text": [
      "Processing rows:  14%|████████▌                                                    | 98/700 [17:04<2:13:10, 13.27s/row]"
     ]
    },
    {
     "name": "stdout",
     "output_type": "stream",
     "text": [
      "Target: parametric answer: চীনা অ্যান্ড্রয়েড ডিভাইসগুলিকে\n",
      "contextual answer: চীনা অ্যান্ড্রয়েড ডিভাইসগুলিকে\n",
      "generated: চীনা অ্যান্ড্রয়েড ডিভাইসগুলিকে\n"
     ]
    },
    {
     "name": "stderr",
     "output_type": "stream",
     "text": [
      "Processing rows:  15%|████████▋                                                   | 102/700 [17:18<1:43:13, 10.36s/row]"
     ]
    },
    {
     "name": "stdout",
     "output_type": "stream",
     "text": [
      "Target: parametric answer: ২০০৫\n",
      "contextual answer: ২০০৫\n",
      "generated: ২০০৫\n"
     ]
    },
    {
     "name": "stderr",
     "output_type": "stream",
     "text": [
      "Processing rows:  15%|████████▊                                                   | 103/700 [17:32<1:53:59, 11.46s/row]"
     ]
    },
    {
     "name": "stdout",
     "output_type": "stream",
     "text": [
      "Target: parametric answer: শহরের পাচারকৃত নারী ও মেয়েদের জীবন উন্নয়নে অক্লান্ত পরিশ্রমের জন্য\n",
      "contextual answer: শহরের পাচারকৃত নারী ও মেয়েদের জীবন উন্নয়নে অক্লান্ত পরিশ্রমের জন্য\n",
      "generated: শহরের পাচারকৃত নারী ও মেয়েদের জীবন উন্নয়নে অক্লান্ত পরিশ্রমের জন্য\n"
     ]
    },
    {
     "name": "stderr",
     "output_type": "stream",
     "text": [
      "Processing rows:  15%|█████████                                                   | 105/700 [17:49<1:44:46, 10.57s/row]"
     ]
    },
    {
     "name": "stdout",
     "output_type": "stream",
     "text": [
      "Target: parametric answer: যাবির ইবনে জায়েদের\n",
      "contextual answer: যাবির ইবনে জায়েদের\n",
      "generated: যাবির ইবনে জায়েদের\n"
     ]
    },
    {
     "name": "stderr",
     "output_type": "stream",
     "text": [
      "Processing rows:  15%|█████████▏                                                  | 107/700 [18:04<1:35:38,  9.68s/row]"
     ]
    },
    {
     "name": "stdout",
     "output_type": "stream",
     "text": [
      "Target: parametric answer: আধ্যাত্মিক এবং ব্যক্তিগত গুণাবলীর অধিকারী যারা আছে, সেই প্রার্থীদের কাছ থেকে বিভিন্ন সম্প্রদায়ের দ্বারা নির্বাচিত ইমামের দ্বারা ইসলামের নেতৃত্বের মনোনীত করা উচিত\n",
      "contextual answer: আধ্যাত্মিক এবং ব্যক্তিগত গুণাবলীর অধিকারী যারা আছে, সেই প্রার্থীদের কাছ থেকে বিভিন্ন সম্প্রদায়ের দ্বারা নির্বাচিত ইমামের দ্বারা ইসলামের নেতৃত্বের মনোনীত করা উচিত\n",
      "generated: আধ্যাত্মিক এবং ব্যক্তিগত গুণাবলীর অধিকারী যারা আছে, সেই প্রার্থীদের কাছ থেকে বিভিন্ন সম্প্রদায়ের দ্বারা নির্বাচিত ইমামের দ্বারা ইসলামের নেতৃত্বের মনোনীত করা উচিত\n"
     ]
    },
    {
     "name": "stderr",
     "output_type": "stream",
     "text": [
      "Processing rows:  15%|█████████▎                                                  | 108/700 [18:18<1:48:15, 10.97s/row]"
     ]
    },
    {
     "name": "stdout",
     "output_type": "stream",
     "text": [
      "Target: parametric answer: একজন ইমামের উপর\n",
      "contextual answer: একজন ইমামের উপর\n",
      "generated: একজন ইমামের\n"
     ]
    },
    {
     "name": "stderr",
     "output_type": "stream",
     "text": [
      "Processing rows:  16%|█████████▎                                                  | 109/700 [18:34<2:00:35, 12.24s/row]"
     ]
    },
    {
     "name": "stdout",
     "output_type": "stream",
     "text": [
      "Target: parametric answer: ইমাম বিশিষ্ট ব্যক্তিদের বা শায়েখদের কাউন্সিল দ্বারা\n",
      "contextual answer: ইমাম বিশিষ্ট ব্যক্তিদের বা শায়েখদের কাউন্সিল দ্বারা\n",
      "generated: বিশিষ্ট ব্যক্তিদের বা শায়েখদের কাউন্সিল\n"
     ]
    },
    {
     "name": "stderr",
     "output_type": "stream",
     "text": [
      "Processing rows:  16%|█████████▍                                                  | 110/700 [18:51<2:14:27, 13.67s/row]"
     ]
    },
    {
     "name": "stdout",
     "output_type": "stream",
     "text": [
      "Target: parametric answer: রেশম সুতা উৎপাদনের লক্ষ্যে রেশমপোকা প্রতিপালনকে\n",
      "contextual answer: রেশম সুতা উৎপাদনের লক্ষ্যে রেশমপোকা প্রতিপালনকে\n",
      "generated: রেশম সুতা উৎপাদনের লক্ষ্যে রেশমপোকা প্রতিপালন\n"
     ]
    },
    {
     "name": "stderr",
     "output_type": "stream",
     "text": [
      "Processing rows:  16%|█████████▌                                                  | 112/700 [19:06<1:55:54, 11.83s/row]"
     ]
    },
    {
     "name": "stdout",
     "output_type": "stream",
     "text": [
      "Target: parametric answer: সেরিসিন\n",
      "contextual answer: সেরিসিন\n",
      "generated: সেরিসিন\n"
     ]
    },
    {
     "name": "stderr",
     "output_type": "stream",
     "text": [
      "Processing rows:  16%|█████████▋                                                  | 113/700 [19:20<2:01:54, 12.46s/row]"
     ]
    },
    {
     "name": "stdout",
     "output_type": "stream",
     "text": [
      "Target: parametric answer: চীন\n",
      "contextual answer: চীন\n",
      "generated: চীন\n"
     ]
    },
    {
     "name": "stderr",
     "output_type": "stream",
     "text": [
      "Processing rows:  16%|█████████▊                                                  | 114/700 [19:34<2:06:13, 12.92s/row]"
     ]
    },
    {
     "name": "stdout",
     "output_type": "stream",
     "text": [
      "Target: parametric answer: চুরি করে\n",
      "contextual answer: চুরি করে\n",
      "generated: চুরি করে\n"
     ]
    },
    {
     "name": "stderr",
     "output_type": "stream",
     "text": [
      "Processing rows:  16%|█████████▊                                                  | 115/700 [19:47<2:08:55, 13.22s/row]"
     ]
    },
    {
     "name": "stdout",
     "output_type": "stream",
     "text": [
      "Target: parametric answer: ভাষাবিজ্ঞান শাস্ত্রে\n",
      "contextual answer: ভাষাবিজ্ঞান শাস্ত্রে\n",
      "generated: ভাষাবিজ্ঞান\n"
     ]
    },
    {
     "name": "stderr",
     "output_type": "stream",
     "text": [
      "Processing rows:  17%|█████████▉                                                  | 116/700 [20:01<2:10:48, 13.44s/row]"
     ]
    },
    {
     "name": "stdout",
     "output_type": "stream",
     "text": [
      "Target: parametric answer: \"রূপান্তরমূলক উৎপাদনশীল ব্যাকরণ\"\n",
      "contextual answer: \"রূপান্তরমূলক উৎপাদনশীল ব্যাকরণ\"\n",
      "generated: রূপান্তরমূলক উৎপাদনশীল ব্যাকরণ\n"
     ]
    },
    {
     "name": "stderr",
     "output_type": "stream",
     "text": [
      "Processing rows:  17%|██████████                                                  | 117/700 [20:23<2:35:22, 15.99s/row]"
     ]
    },
    {
     "name": "stdout",
     "output_type": "stream",
     "text": [
      "Target: parametric answer: মানবমন-সংক্রান্ত\n",
      "contextual answer: মানবমন-সংক্রান্ত\n",
      "generated: মানবমন-সংক্রান্ত\n"
     ]
    },
    {
     "name": "stderr",
     "output_type": "stream",
     "text": [
      "Processing rows:  17%|██████████                                                  | 118/700 [20:39<2:32:52, 15.76s/row]"
     ]
    },
    {
     "name": "stdout",
     "output_type": "stream",
     "text": [
      "Target: parametric answer: ওসামু তেজুকা\n",
      "contextual answer: ওসামু তেজুকা\n",
      "generated: ওসামু তেজুকা\n"
     ]
    },
    {
     "name": "stderr",
     "output_type": "stream",
     "text": [
      "Processing rows:  17%|██████████▎                                                 | 121/700 [20:53<1:59:55, 12.43s/row]"
     ]
    },
    {
     "name": "stdout",
     "output_type": "stream",
     "text": [
      "Target: parametric answer: ১৯৫২\n",
      "contextual answer: ১৯৫২\n",
      "generated: ১৯৫২ থেকে ১৯৬৮\n"
     ]
    },
    {
     "name": "stderr",
     "output_type": "stream",
     "text": [
      "Processing rows:  17%|██████████▍                                                 | 122/700 [21:06<2:04:09, 12.89s/row]"
     ]
    },
    {
     "name": "stdout",
     "output_type": "stream",
     "text": [
      "Target: parametric answer: ১৯৮০\n",
      "contextual answer: ১৯৮০\n",
      "generated: ১৯৮০\n"
     ]
    },
    {
     "name": "stderr",
     "output_type": "stream",
     "text": [
      "Processing rows:  18%|██████████▌                                                 | 123/700 [21:21<2:07:44, 13.28s/row]"
     ]
    },
    {
     "name": "stdout",
     "output_type": "stream",
     "text": [
      "Target: parametric answer: ২৩ অক্টোবর, ২০০৯\n",
      "contextual answer: ২৩ অক্টোবর, ২০০৯\n",
      "generated: ২৩ অক্টোবর, ২০০৯\n"
     ]
    },
    {
     "name": "stderr",
     "output_type": "stream",
     "text": [
      "Processing rows:  18%|██████████▋                                                 | 124/700 [21:36<2:14:10, 13.98s/row]"
     ]
    },
    {
     "name": "stdout",
     "output_type": "stream",
     "text": [
      "Target: parametric answer: আয়ারল্যান্ডের ডাবলিনের সেন্ট স্টিফেনস গ্রীণ এর দক্ষিণ পাশে একটি সুষমা-মণ্ডিত অট্টালিকায়\n",
      "contextual answer: আয়ারল্যান্ডের ডাবলিনের সেন্ট স্টিফেনস গ্রীণ এর দক্ষিণ পাশে একটি সুষমা-মণ্ডিত অট্টালিকায়\n",
      "generated: আয়ারল্যান্ডের ডাবলিনের সেন্ট স্টিফেনস গ্রীণ এর দক্ষিণ পাশে একটি সুষমা-মণ্ডিত অট্টালিকায়\n"
     ]
    },
    {
     "name": "stderr",
     "output_type": "stream",
     "text": [
      "Processing rows:  18%|██████████▊                                                 | 126/700 [21:50<1:53:38, 11.88s/row]"
     ]
    },
    {
     "name": "stdout",
     "output_type": "stream",
     "text": [
      "Target: parametric answer: ম্যারিয়ট ইন্টারন্যাশনাল\n",
      "contextual answer: ম্যারিয়ট ইন্টারন্যাশনাল\n",
      "generated: ম্যারিয়ট ইন্টারন্যাশনাল\n"
     ]
    },
    {
     "name": "stderr",
     "output_type": "stream",
     "text": [
      "Processing rows:  18%|██████████▉                                                 | 127/700 [22:06<2:04:49, 13.07s/row]"
     ]
    },
    {
     "name": "stdout",
     "output_type": "stream",
     "text": [
      "Target: parametric answer: জন ম্যাক কার্ডি\n",
      "contextual answer: জন ম্যাক কার্ডি\n",
      "generated: জন ম্যাক কার্ডি\n"
     ]
    },
    {
     "name": "stderr",
     "output_type": "stream",
     "text": [
      "Processing rows:  18%|██████████▉                                                 | 128/700 [22:20<2:08:13, 13.45s/row]"
     ]
    },
    {
     "name": "stdout",
     "output_type": "stream",
     "text": [
      "Target: parametric answer: পূর্বে অ্যামেরিটেক প্লাজা এবং এসবিসি প্লাজা\n",
      "contextual answer: পূর্বে অ্যামেরিটেক প্লাজা এবং এসবিসি প্লাজা\n",
      "generated: অ্যামেরিটেক প্লাজা এবং এসবিসি প্লাজা\n"
     ]
    },
    {
     "name": "stderr",
     "output_type": "stream",
     "text": [
      "Processing rows:  19%|███████████▏                                                | 130/700 [22:35<1:50:11, 11.60s/row]"
     ]
    },
    {
     "name": "stdout",
     "output_type": "stream",
     "text": [
      "Target: parametric answer: মিলেনিয়াম পার্কে\n",
      "contextual answer: মিলেনিয়াম পার্কে\n",
      "generated: যুক্তরাষ্ট্রের শিকাগো, ইলিনয়-এর লুপ সম্প্রদায় এলাকার মধ্যে\n"
     ]
    },
    {
     "name": "stderr",
     "output_type": "stream",
     "text": [
      "Processing rows:  19%|███████████▏                                                | 131/700 [22:52<2:06:38, 13.35s/row]"
     ]
    },
    {
     "name": "stdout",
     "output_type": "stream",
     "text": [
      "Target: parametric answer: তৃতীয় সহস্রাব্দ উদযাপনের জন্য নির্মাণ করা হয়\n",
      "contextual answer: তৃতীয় সহস্রাব্দ উদযাপনের জন্য নির্মাণ করা হয়\n",
      "generated: তৃতীয় সহস্রাব্দ উদযাপনের জন্য\n"
     ]
    },
    {
     "name": "stderr",
     "output_type": "stream",
     "text": [
      "Processing rows:  19%|███████████▎                                                | 132/700 [23:08<2:12:34, 14.00s/row]"
     ]
    },
    {
     "name": "stdout",
     "output_type": "stream",
     "text": [
      "Target: parametric answer: কংক্রিটের তৈরি\n",
      "contextual answer: কংক্রিটের তৈরি\n",
      "generated: কংক্রিট\n"
     ]
    },
    {
     "name": "stderr",
     "output_type": "stream",
     "text": [
      "Processing rows:  19%|███████████▍                                                | 133/700 [23:23<2:16:27, 14.44s/row]"
     ]
    },
    {
     "name": "stdout",
     "output_type": "stream",
     "text": [
      "Target: parametric answer: অসমতল বিশেষকরে পাহাড়ী রাস্তায় সাইকেল চালনার এক ধরনের ক্রীড়া\n",
      "contextual answer: অসমতল বিশেষকরে পাহাড়ী রাস্তায় সাইকেল চালনার এক ধরনের ক্রীড়া\n",
      "generated: অসমতল বিশেষকরে পাহাড়ী রাস্তায় সাইকেল চালনার এক ধরনের ক্রীড়া\n"
     ]
    },
    {
     "name": "stderr",
     "output_type": "stream",
     "text": [
      "Processing rows:  19%|███████████▌                                                | 135/700 [23:37<1:54:50, 12.20s/row]"
     ]
    },
    {
     "name": "stdout",
     "output_type": "stream",
     "text": [
      "Target: parametric answer: ১৮৮৬ সালের আগস্টে\n",
      "contextual answer: ১৮৮৬ সালের আগস্টে\n",
      "generated: ১৮৮৬ সালের আগস্টে\n"
     ]
    },
    {
     "name": "stderr",
     "output_type": "stream",
     "text": [
      "Processing rows:  19%|███████████▋                                                | 136/700 [23:55<2:10:58, 13.93s/row]"
     ]
    },
    {
     "name": "stdout",
     "output_type": "stream",
     "text": [
      "Target: parametric answer: না\n",
      "contextual answer: না\n",
      "generated: হ্যাঁ\n"
     ]
    },
    {
     "name": "stderr",
     "output_type": "stream",
     "text": [
      "Processing rows:  20%|███████████▋                                                | 137/700 [24:09<2:10:38, 13.92s/row]"
     ]
    },
    {
     "name": "stdout",
     "output_type": "stream",
     "text": [
      "Target: parametric answer: মাউন্টেন বাইকিং\n",
      "contextual answer: মাউন্টেন বাইকিং\n",
      "generated: মাউন্টেন বাইকিং\n"
     ]
    },
    {
     "name": "stderr",
     "output_type": "stream",
     "text": [
      "Processing rows:  20%|███████████▊                                                | 138/700 [24:23<2:10:22, 13.92s/row]"
     ]
    },
    {
     "name": "stdout",
     "output_type": "stream",
     "text": [
      "Target: parametric answer: ৮৩৭\n",
      "contextual answer: ৮৩৭\n",
      "generated: ৮৩৭\n"
     ]
    },
    {
     "name": "stderr",
     "output_type": "stream",
     "text": [
      "Processing rows:  20%|████████████▏                                               | 142/700 [24:37<1:40:20, 10.79s/row]"
     ]
    },
    {
     "name": "stdout",
     "output_type": "stream",
     "text": [
      "Target: parametric answer: খলিফা আল-মুতাসিমের\n",
      "contextual answer: খলিফা আল-মুতাসিমের\n",
      "generated: খলিফা আল-মুতাসিমের\n"
     ]
    },
    {
     "name": "stderr",
     "output_type": "stream",
     "text": [
      "Processing rows:  20%|████████████▎                                               | 143/700 [24:51<1:49:02, 11.75s/row]"
     ]
    },
    {
     "name": "stdout",
     "output_type": "stream",
     "text": [
      "Target: parametric answer: ডোরিলাইয়ামে\n",
      "contextual answer: ডোরিলাইয়ামে\n",
      "generated: ডোরিলাইয়ামে\n"
     ]
    },
    {
     "name": "stderr",
     "output_type": "stream",
     "text": [
      "Processing rows:  21%|████████████▎                                               | 144/700 [25:05<1:54:51, 12.39s/row]"
     ]
    },
    {
     "name": "stdout",
     "output_type": "stream",
     "text": [
      "Target: parametric answer: গৌণ ব্যাটারি\n",
      "contextual answer: গৌণ ব্যাটারি\n",
      "generated: গৌণ ব্যাটারি\n"
     ]
    },
    {
     "name": "stderr",
     "output_type": "stream",
     "text": [
      "Processing rows:  21%|████████████▍                                               | 145/700 [25:19<1:58:50, 12.85s/row]"
     ]
    },
    {
     "name": "stdout",
     "output_type": "stream",
     "text": [
      "Target: parametric answer: বৈদ্যুতিক প্রবাহ প্রয়োগ করে\n",
      "contextual answer: বৈদ্যুতিক প্রবাহ প্রয়োগ করে\n",
      "generated: বৈদ্যুতিক প্রবাহ প্রয়োগ করে\n"
     ]
    },
    {
     "name": "stderr",
     "output_type": "stream",
     "text": [
      "Processing rows:  21%|████████████▌                                               | 146/700 [25:33<2:01:38, 13.17s/row]"
     ]
    },
    {
     "name": "stdout",
     "output_type": "stream",
     "text": [
      "Target: parametric answer: লেড-অ্যাসিড ব্যাটারি\n",
      "contextual answer: লেড-অ্যাসিড ব্যাটারি\n",
      "generated: লেড-অ্যাসিড ব্যাটারি\n"
     ]
    },
    {
     "name": "stderr",
     "output_type": "stream",
     "text": [
      "Processing rows:  21%|████████████▌                                               | 147/700 [25:47<2:03:34, 13.41s/row]"
     ]
    },
    {
     "name": "stdout",
     "output_type": "stream",
     "text": [
      "Target: parametric answer: ডিম্বাণু\n",
      "contextual answer: ডিম্বাণু\n",
      "generated: ডিম্বাণু\n"
     ]
    },
    {
     "name": "stderr",
     "output_type": "stream",
     "text": [
      "Processing rows:  21%|████████████▊                                               | 150/700 [26:01<1:38:46, 10.77s/row]"
     ]
    },
    {
     "name": "stdout",
     "output_type": "stream",
     "text": [
      "Target: parametric answer: দুই\n",
      "contextual answer: দুই\n",
      "generated: দুই\n"
     ]
    },
    {
     "name": "stderr",
     "output_type": "stream",
     "text": [
      "Processing rows:  22%|████████████▉                                               | 151/700 [26:15<1:47:30, 11.75s/row]"
     ]
    },
    {
     "name": "stdout",
     "output_type": "stream",
     "text": [
      "Target: parametric answer: পুরুষের শুক্রাণু যোনিপথ দিয়ে ডিম্ববাহী নালীতে গিয়ে পৌঁছে। সেখানে ডিম্বাণুর সাথে মিলিত হবার ফলে ভ্রুণ তৈরি হয়। একে গর্ভধারণ বলে।\n",
      "contextual answer: পুরুষের শুক্রাণু যোনিপথ দিয়ে ডিম্ববাহী নালীতে গিয়ে পৌঁছে। সেখানে ডিম্বাণুর সাথে মিলিত হবার ফলে ভ্রুণ তৈরি হয়। একে গর্ভধারণ বলে।\n",
      "generated: সেখানে ডিম্বাণুর সাথে মিলিত হবার ফলে ভ্রুণ তৈরি হয়\n"
     ]
    },
    {
     "name": "stderr",
     "output_type": "stream",
     "text": [
      "Processing rows:  22%|█████████████                                               | 152/700 [26:29<1:53:58, 12.48s/row]"
     ]
    },
    {
     "name": "stdout",
     "output_type": "stream",
     "text": [
      "Target: parametric answer: জরায়ুতে\n",
      "contextual answer: জরায়ুতে\n",
      "generated: জরায়ুতে\n"
     ]
    },
    {
     "name": "stderr",
     "output_type": "stream",
     "text": [
      "Processing rows:  22%|█████████████                                               | 153/700 [26:43<1:59:07, 13.07s/row]"
     ]
    },
    {
     "name": "stdout",
     "output_type": "stream",
     "text": [
      "Target: parametric answer: ১৯৬০ ও ১৯৭০ এর দশকে\n",
      "contextual answer: ১৯৬০ ও ১৯৭০ এর দশকে\n",
      "generated: ১৯৬০ ও ১৯৭০ এর দশকে\n"
     ]
    },
    {
     "name": "stderr",
     "output_type": "stream",
     "text": [
      "Processing rows:  22%|█████████████▎                                              | 155/700 [26:58<1:42:53, 11.33s/row]"
     ]
    },
    {
     "name": "stdout",
     "output_type": "stream",
     "text": [
      "Target: parametric answer: পিতৃতন্ত্র ও পুঁজিবাদের মধ্যে যে সংযোগ তার উপরই\n",
      "contextual answer: পিতৃতন্ত্র ও পুঁজিবাদের মধ্যে যে সংযোগ তার উপরই\n",
      "generated: পিতৃতন্ত্র ও পুঁজিবাদের মধ্যে যে সংযোগ তার উপর\n"
     ]
    },
    {
     "name": "stderr",
     "output_type": "stream",
     "text": [
      "Processing rows:  22%|█████████████▎                                              | 156/700 [27:13<1:53:32, 12.52s/row]"
     ]
    },
    {
     "name": "stdout",
     "output_type": "stream",
     "text": [
      "Target: parametric answer: অর্থনৈতিক নির্ভরতাকে\n",
      "contextual answer: অর্থনৈতিক নির্ভরতাকে\n",
      "generated: অর্থনৈতিক নির্ভরতাকে\n"
     ]
    },
    {
     "name": "stderr",
     "output_type": "stream",
     "text": [
      "Processing rows:  22%|█████████████▍                                              | 157/700 [27:28<2:00:14, 13.29s/row]"
     ]
    },
    {
     "name": "stdout",
     "output_type": "stream",
     "text": [
      "Target: parametric answer: রঞ্জন রশ্মি প্রতিফলক\n",
      "contextual answer: রঞ্জন রশ্মি প্রতিফলক\n",
      "generated: রঞ্জন রশ্মি\n"
     ]
    },
    {
     "name": "stderr",
     "output_type": "stream",
     "text": [
      "Processing rows:  23%|█████████████▋                                              | 160/700 [27:47<1:40:44, 11.19s/row]"
     ]
    },
    {
     "name": "stdout",
     "output_type": "stream",
     "text": [
      "Target: parametric answer: লেন্সের মত\n",
      "contextual answer: লেন্সের মত\n",
      "generated: কাচ\n"
     ]
    },
    {
     "name": "stderr",
     "output_type": "stream",
     "text": [
      "Processing rows:  23%|█████████████▊                                              | 161/700 [28:04<1:55:06, 12.81s/row]"
     ]
    },
    {
     "name": "stdout",
     "output_type": "stream",
     "text": [
      "Target: parametric answer: ইতালীয় অধ্যাপক নিকোলো জুচ্চি\n",
      "contextual answer: ইতালীয় অধ্যাপক নিকোলো জুচ্চি\n",
      "generated: নিকোলো জুচ্চি\n"
     ]
    },
    {
     "name": "stderr",
     "output_type": "stream",
     "text": [
      "Processing rows:  23%|█████████████▉                                              | 162/700 [28:19<2:02:04, 13.61s/row]"
     ]
    },
    {
     "name": "stdout",
     "output_type": "stream",
     "text": [
      "Target: parametric answer: রবার্ট হুক\n",
      "contextual answer: রবার্ট হুক\n",
      "generated: রবার্ট হুক\n"
     ]
    },
    {
     "name": "stderr",
     "output_type": "stream",
     "text": [
      "Processing rows:  23%|█████████████▉                                              | 163/700 [28:33<2:02:38, 13.70s/row]"
     ]
    },
    {
     "name": "stdout",
     "output_type": "stream",
     "text": [
      "Target: parametric answer: ১৭তম শতাব্দীর\n",
      "contextual answer: ১৭তম শতাব্দীর\n",
      "generated: ১৭তম\n"
     ]
    },
    {
     "name": "stderr",
     "output_type": "stream",
     "text": [
      "Processing rows:  24%|██████████████▏                                             | 165/700 [28:48<1:45:25, 11.82s/row]"
     ]
    },
    {
     "name": "stdout",
     "output_type": "stream",
     "text": [
      "Target: parametric answer: ১৭০৭\n",
      "contextual answer: ১৭০৭\n",
      "generated: ১৭০৭\n"
     ]
    },
    {
     "name": "stderr",
     "output_type": "stream",
     "text": [
      "Processing rows:  24%|██████████████▎                                             | 167/700 [29:02<1:32:06, 10.37s/row]"
     ]
    },
    {
     "name": "stdout",
     "output_type": "stream",
     "text": [
      "Target: parametric answer: ১৭১৭\n",
      "contextual answer: ১৭১৭\n",
      "generated: ১৭১৭\n"
     ]
    },
    {
     "name": "stderr",
     "output_type": "stream",
     "text": [
      "Processing rows:  24%|██████████████▍                                             | 168/700 [29:16<1:41:22, 11.43s/row]"
     ]
    },
    {
     "name": "stdout",
     "output_type": "stream",
     "text": [
      "Target: parametric answer: একটি পরিবহন অবস্থা থেকে অন্য পরিবহন অবস্থায় স্থানান্তর প্রক্রিয়া\n",
      "contextual answer: একটি পরিবহন অবস্থা থেকে অন্য পরিবহন অবস্থায় স্থানান্তর প্রক্রিয়া\n",
      "generated: একটি পরিবহন অবস্থা থেকে অন্য পরিবহন অবস্থায় স্থানান্তর প্রক্রিয়া\n"
     ]
    },
    {
     "name": "stderr",
     "output_type": "stream",
     "text": [
      "Processing rows:  24%|██████████████▌                                             | 170/700 [29:30<1:29:43, 10.16s/row]"
     ]
    },
    {
     "name": "stdout",
     "output_type": "stream",
     "text": [
      "Target: parametric answer: ট্রান্সলোডিং\n",
      "contextual answer: ট্রান্সলোডিং\n",
      "generated: ট্রান্সলোডিং\n"
     ]
    },
    {
     "name": "stderr",
     "output_type": "stream",
     "text": [
      "Processing rows:  24%|██████████████▋                                             | 171/700 [29:44<1:39:29, 11.28s/row]"
     ]
    },
    {
     "name": "stdout",
     "output_type": "stream",
     "text": [
      "Target: parametric answer: গুদাম ঘর\n",
      "contextual answer: গুদাম ঘর\n",
      "generated: nan\n"
     ]
    },
    {
     "name": "stderr",
     "output_type": "stream",
     "text": [
      "Processing rows:  25%|██████████████▋                                             | 172/700 [29:57<1:44:09, 11.84s/row]"
     ]
    },
    {
     "name": "stdout",
     "output_type": "stream",
     "text": [
      "Target: parametric answer: যেহেতু সঞ্চয়ের জন্য পণ্যগুলি পরিচালনা করা প্রয়োজন\n",
      "contextual answer: যেহেতু সঞ্চয়ের জন্য পণ্যগুলি পরিচালনা করা প্রয়োজন\n",
      "generated: সঞ্চয়ের জন্য পণ্যগুলি পরিচালনা করা প্রয়োজন\n"
     ]
    },
    {
     "name": "stderr",
     "output_type": "stream",
     "text": [
      "Processing rows:  25%|██████████████▊                                             | 173/700 [30:12<1:51:16, 12.67s/row]"
     ]
    },
    {
     "name": "stdout",
     "output_type": "stream",
     "text": [
      "Target: parametric answer: পৃথিবী গোলাকার নয়, বরং সমতল, এই ধারণাকে বোঝানো হচ্ছে\n",
      "contextual answer: পৃথিবী গোলাকার নয়, বরং সমতল, এই ধারণাকে বোঝানো হচ্ছে\n",
      "generated: পৃথিবী গোলাকার নয়, বরং সমতল, এই ধারণাকে\n"
     ]
    },
    {
     "name": "stderr",
     "output_type": "stream",
     "text": [
      "Processing rows:  25%|███████████████                                             | 175/700 [30:26<1:35:57, 10.97s/row]"
     ]
    },
    {
     "name": "stdout",
     "output_type": "stream",
     "text": [
      "Target: parametric answer: খ্রিস্টপূর্ব ৪র্থ শতক\n",
      "contextual answer: খ্রিস্টপূর্ব ৪র্থ শতক\n",
      "generated: খ্রিস্টপূর্ব ৪র্থ শতকে গ্রিকরা পৃথিবীর আকৃতি নিয়ে সঠিক ধারণা পোষণ করতে শুরু করে\n"
     ]
    },
    {
     "name": "stderr",
     "output_type": "stream",
     "text": [
      "Processing rows:  25%|███████████████                                             | 176/700 [30:40<1:44:18, 11.94s/row]"
     ]
    },
    {
     "name": "stdout",
     "output_type": "stream",
     "text": [
      "Target: parametric answer: কারণ পৃথিবী এতো বড় গোলক যে, কোন নির্দিষ্ট স্থান থেকে চারপাশটা সমতল মনে হয়\n",
      "contextual answer: কারণ পৃথিবী এতো বড় গোলক যে, কোন নির্দিষ্ট স্থান থেকে চারপাশটা সমতল মনে হয়\n",
      "generated: পৃথিবী এতো বড় গোলক যে, কোন নির্দিষ্ট স্থান থেকে চারপাশটা সমতল মনে হয়\n"
     ]
    },
    {
     "name": "stderr",
     "output_type": "stream",
     "text": [
      "Processing rows:  25%|███████████████▏                                            | 177/700 [30:54<1:49:57, 12.61s/row]"
     ]
    },
    {
     "name": "stdout",
     "output_type": "stream",
     "text": [
      "Target: parametric answer: বিদ ধাতু\n",
      "contextual answer: বিদ ধাতু\n",
      "generated: বিদ ধাতু\n"
     ]
    },
    {
     "name": "stderr",
     "output_type": "stream",
     "text": [
      "Processing rows:  26%|███████████████▍                                            | 180/700 [31:09<1:29:17, 10.30s/row]"
     ]
    },
    {
     "name": "stdout",
     "output_type": "stream",
     "text": [
      "Target: parametric answer: জ্ঞান\n",
      "contextual answer: জ্ঞান\n",
      "generated: বেদজ্ঞানী\n"
     ]
    },
    {
     "name": "stderr",
     "output_type": "stream",
     "text": [
      "Processing rows:  26%|███████████████▌                                            | 181/700 [31:25<1:43:03, 11.91s/row]"
     ]
    },
    {
     "name": "stdout",
     "output_type": "stream",
     "text": [
      "Target: parametric answer: বেদজ্ঞানী\n",
      "contextual answer: বেদজ্ঞানী\n",
      "generated: বেদজ্ঞানী\n"
     ]
    },
    {
     "name": "stderr",
     "output_type": "stream",
     "text": [
      "Processing rows:  26%|███████████████▌                                            | 182/700 [31:42<1:55:41, 13.40s/row]"
     ]
    },
    {
     "name": "stdout",
     "output_type": "stream",
     "text": [
      "Target: parametric answer: গুরুশিষ্য\n",
      "contextual answer: গুরুশিষ্য\n",
      "generated: গুরুশিষ্য\n"
     ]
    },
    {
     "name": "stderr",
     "output_type": "stream",
     "text": [
      "Processing rows:  26%|███████████████▋                                            | 183/700 [31:56<1:59:16, 13.84s/row]"
     ]
    },
    {
     "name": "stdout",
     "output_type": "stream",
     "text": [
      "Target: parametric answer: দুটি\n",
      "contextual answer: দুটি\n",
      "generated: দুটি\n"
     ]
    },
    {
     "name": "stderr",
     "output_type": "stream",
     "text": [
      "Processing rows:  26%|███████████████▊                                            | 184/700 [32:10<1:59:17, 13.87s/row]"
     ]
    },
    {
     "name": "stdout",
     "output_type": "stream",
     "text": [
      "Target: parametric answer: সুশ্রুত সংহিতা\n",
      "contextual answer: সুশ্রুত সংহিতা\n",
      "generated: সুশ্রুত সংহিতা\n"
     ]
    },
    {
     "name": "stderr",
     "output_type": "stream",
     "text": [
      "Processing rows:  27%|███████████████▉                                            | 186/700 [32:24<1:41:10, 11.81s/row]"
     ]
    },
    {
     "name": "stdout",
     "output_type": "stream",
     "text": [
      "Target: parametric answer: হিতোমি কিসুগি\n",
      "contextual answer: হিতোমি কিসুগি\n",
      "generated: অ্যালেক্সিস টিপটন\n"
     ]
    },
    {
     "name": "stderr",
     "output_type": "stream",
     "text": [
      "Processing rows:  27%|████████████████                                            | 188/700 [32:39<1:29:52, 10.53s/row]"
     ]
    },
    {
     "name": "stdout",
     "output_type": "stream",
     "text": [
      "Target: parametric answer: এর মাধ্যমে মুন্সিগঞ্জের লৌহজংয়ের সাথে শরীয়তপুর ও মাদারীপুর জেলা যুক্ত হবে\n",
      "contextual answer: এর মাধ্যমে মুন্সিগঞ্জের লৌহজংয়ের সাথে শরীয়তপুর ও মাদারীপুর জেলা যুক্ত হবে\n",
      "generated: শরীয়তপুর ও মাদারীপুর\n"
     ]
    },
    {
     "name": "stderr",
     "output_type": "stream",
     "text": [
      "Processing rows:  27%|████████████████▎                                           | 191/700 [32:56<1:16:33,  9.02s/row]"
     ]
    },
    {
     "name": "stdout",
     "output_type": "stream",
     "text": [
      "Target: parametric answer: ৪১টি স্পান\n",
      "contextual answer: ৪১টি স্পান\n",
      "generated: ৪১টি\n"
     ]
    },
    {
     "name": "stderr",
     "output_type": "stream",
     "text": [
      "Processing rows:  28%|████████████████▌                                           | 193/700 [33:11<1:12:28,  8.58s/row]"
     ]
    },
    {
     "name": "stdout",
     "output_type": "stream",
     "text": [
      "Target: parametric answer: প্রকল্প প্রস্তুতির সাথে যুক্ত কিছু লোকের দুর্নীতির অভিযোগ উঠায়\n",
      "contextual answer: প্রকল্প প্রস্তুতির সাথে যুক্ত কিছু লোকের দুর্নীতির অভিযোগ উঠায়\n",
      "generated: প্রকল্প প্রস্তুতির সাথে যুক্ত কিছু লোকের দুর্নীতির অভিযোগ উঠায়\n"
     ]
    },
    {
     "name": "stderr",
     "output_type": "stream",
     "text": [
      "Processing rows:  28%|████████████████▋                                           | 194/700 [33:29<1:35:41, 11.35s/row]"
     ]
    },
    {
     "name": "stdout",
     "output_type": "stream",
     "text": [
      "Target: parametric answer: এন্ডোগ্যামাস\n",
      "contextual answer: এন্ডোগ্যামাস\n",
      "generated: এন্ডোগ্যামাস\n"
     ]
    },
    {
     "name": "stderr",
     "output_type": "stream",
     "text": [
      "Processing rows:  28%|████████████████▊                                           | 196/700 [33:43<1:24:19, 10.04s/row]"
     ]
    },
    {
     "name": "stdout",
     "output_type": "stream",
     "text": [
      "Target: parametric answer: ১৯২৫\n",
      "contextual answer: ১৯২৫\n",
      "generated: ১৯২৫\n"
     ]
    },
    {
     "name": "stderr",
     "output_type": "stream",
     "text": [
      "Processing rows:  28%|████████████████▉                                           | 198/700 [33:57<1:16:17,  9.12s/row]"
     ]
    },
    {
     "name": "stdout",
     "output_type": "stream",
     "text": [
      "Target: parametric answer: বাঙালি হিন্দুদের সাথে অন্যান্য হিন্দুরাও অভিন্ন হিন্দু আইন দ্বারা পরিচালিত হচ্ছে\n",
      "contextual answer: বাঙালি হিন্দুদের সাথে অন্যান্য হিন্দুরাও অভিন্ন হিন্দু আইন দ্বারা পরিচালিত হচ্ছে\n",
      "generated: বাঙালি হিন্দুদের সাথে অন্যান্য হিন্দুও অভিন্ন হিন্দু আইন দ্বারা পরিচালিত হচ্ছে\n"
     ]
    },
    {
     "name": "stderr",
     "output_type": "stream",
     "text": [
      "Processing rows:  28%|█████████████████                                           | 199/700 [34:11<1:28:39, 10.62s/row]"
     ]
    },
    {
     "name": "stdout",
     "output_type": "stream",
     "text": [
      "Target: parametric answer: বাংলাদেশী অমনিবাস ওয়েব ধারাবাহিক\n",
      "contextual answer: বাংলাদেশী অমনিবাস ওয়েব ধারাবাহিক\n",
      "generated: বাংলাদেশী অমনিবাস ওয়েব ধারাবাহিক\n"
     ]
    },
    {
     "name": "stderr",
     "output_type": "stream",
     "text": [
      "Processing rows:  29%|█████████████████▏                                          | 200/700 [34:26<1:38:44, 11.85s/row]"
     ]
    },
    {
     "name": "stdout",
     "output_type": "stream",
     "text": [
      "Target: parametric answer: চরকি ওয়েব প্ল্যাটফর্মে\n",
      "contextual answer: চরকি ওয়েব প্ল্যাটফর্মে\n",
      "generated: চরকি ওয়েব প্ল্যাটফর্মে\n"
     ]
    },
    {
     "name": "stderr",
     "output_type": "stream",
     "text": [
      "Processing rows:  29%|█████████████████▏                                          | 201/700 [34:41<1:48:20, 13.03s/row]"
     ]
    },
    {
     "name": "stdout",
     "output_type": "stream",
     "text": [
      "Target: parametric answer: পাঁচটি\n",
      "contextual answer: পাঁচটি\n",
      "generated: পাঁচটি\n"
     ]
    },
    {
     "name": "stderr",
     "output_type": "stream",
     "text": [
      "Processing rows:  29%|█████████████████▎                                          | 202/700 [34:55<1:50:22, 13.30s/row]"
     ]
    },
    {
     "name": "stdout",
     "output_type": "stream",
     "text": [
      "Target: parametric answer: মঙ্গল\n",
      "contextual answer: মঙ্গল\n",
      "generated: মঙ্গল\n"
     ]
    },
    {
     "name": "stderr",
     "output_type": "stream",
     "text": [
      "Processing rows:  29%|█████████████████▍                                          | 204/700 [35:09<1:34:21, 11.41s/row]"
     ]
    },
    {
     "name": "stdout",
     "output_type": "stream",
     "text": [
      "Target: parametric answer: সাতোশি টোবা\n",
      "contextual answer: সাতোশি টোবা\n",
      "generated: সাতোশি টোবা\n"
     ]
    },
    {
     "name": "stderr",
     "output_type": "stream",
     "text": [
      "Processing rows:  29%|█████████████████▌                                          | 205/700 [35:23<1:40:24, 12.17s/row]"
     ]
    },
    {
     "name": "stdout",
     "output_type": "stream",
     "text": [
      "Target: parametric answer: রাষ্ট্রহীনের চেয়ে বহুজাতিক\n",
      "contextual answer: রাষ্ট্রহীনের চেয়ে বহুজাতিক\n",
      "generated: রাষ্ট্রহীনের চেয়ে বহুজাতিক\n"
     ]
    },
    {
     "name": "stderr",
     "output_type": "stream",
     "text": [
      "Processing rows:  29%|█████████████████▋                                          | 206/700 [35:39<1:49:34, 13.31s/row]"
     ]
    },
    {
     "name": "stdout",
     "output_type": "stream",
     "text": [
      "Target: parametric answer: জ্যোতির্বিদ্যা\n",
      "contextual answer: জ্যোতির্বিদ্যা\n",
      "generated: জ্যোতির্বিদ্যার\n"
     ]
    },
    {
     "name": "stderr",
     "output_type": "stream",
     "text": [
      "Processing rows:  30%|█████████████████▊                                          | 208/700 [35:54<1:35:08, 11.60s/row]"
     ]
    },
    {
     "name": "stdout",
     "output_type": "stream",
     "text": [
      "Target: parametric answer: মধ্যযুগীয়\n",
      "contextual answer: মধ্যযুগীয়\n",
      "generated: মধ্যযুগীয়\n"
     ]
    },
    {
     "name": "stderr",
     "output_type": "stream",
     "text": [
      "Processing rows:  30%|█████████████████▉                                          | 209/700 [36:08<1:40:40, 12.30s/row]"
     ]
    },
    {
     "name": "stdout",
     "output_type": "stream",
     "text": [
      "Target: parametric answer: অষ্টম শতাব্দীর গণিতবিদ মুহাম্মদ আল-ফাজারী\n",
      "contextual answer: অষ্টম শতাব্দীর গণিতবিদ মুহাম্মদ আল-ফাজারী\n",
      "generated: অষ্টম শতাব্দীর গণিতবিদ মুহাম্মদ আল-ফাজারী\n"
     ]
    },
    {
     "name": "stderr",
     "output_type": "stream",
     "text": [
      "Processing rows:  30%|██████████████████                                          | 210/700 [36:22<1:44:29, 12.79s/row]"
     ]
    },
    {
     "name": "stdout",
     "output_type": "stream",
     "text": [
      "Target: parametric answer: কনকাকাফ\n",
      "contextual answer: কনকাকাফ\n",
      "generated: কনকাকাফ\n"
     ]
    },
    {
     "name": "stderr",
     "output_type": "stream",
     "text": [
      "Processing rows:  30%|██████████████████▏                                         | 212/700 [36:36<1:29:53, 11.05s/row]"
     ]
    },
    {
     "name": "stdout",
     "output_type": "stream",
     "text": [
      "Target: parametric answer: মেক্সিকো\n",
      "contextual answer: মেক্সিকো\n",
      "generated: মেক্সিকো\n"
     ]
    },
    {
     "name": "stderr",
     "output_type": "stream",
     "text": [
      "Processing rows:  30%|██████████████████▎                                         | 213/700 [36:51<1:37:21, 11.99s/row]"
     ]
    },
    {
     "name": "stdout",
     "output_type": "stream",
     "text": [
      "Target: parametric answer: না\n",
      "contextual answer: না\n",
      "generated: হ্যাঁ\n"
     ]
    },
    {
     "name": "stderr",
     "output_type": "stream",
     "text": [
      "Processing rows:  31%|██████████████████▎                                         | 214/700 [37:04<1:41:49, 12.57s/row]"
     ]
    },
    {
     "name": "stdout",
     "output_type": "stream",
     "text": [
      "Target: parametric answer: চার\n",
      "contextual answer: চার\n",
      "generated: চারবার\n"
     ]
    },
    {
     "name": "stderr",
     "output_type": "stream",
     "text": [
      "Processing rows:  31%|██████████████████▍                                         | 215/700 [37:23<1:55:53, 14.34s/row]"
     ]
    },
    {
     "name": "stdout",
     "output_type": "stream",
     "text": [
      "Target: parametric answer: প্রায় ২৫০০ বছর আগের\n",
      "contextual answer: প্রায় ২৫০০ বছর আগের\n",
      "generated: ২৫০০ বছর\n"
     ]
    },
    {
     "name": "stderr",
     "output_type": "stream",
     "text": [
      "Processing rows:  31%|██████████████████▌                                         | 217/700 [37:39<1:40:23, 12.47s/row]"
     ]
    },
    {
     "name": "stdout",
     "output_type": "stream",
     "text": [
      "Target: parametric answer: ১৬৯৬\n",
      "contextual answer: ১৬৯৬\n",
      "generated: ১৬৯৬\n"
     ]
    },
    {
     "name": "stderr",
     "output_type": "stream",
     "text": [
      "Processing rows:  31%|██████████████████▋                                         | 218/700 [37:53<1:43:56, 12.94s/row]"
     ]
    },
    {
     "name": "stdout",
     "output_type": "stream",
     "text": [
      "Target: parametric answer: একজন নৈরাজ্যবাদী রাশিয়ান লেখক\n",
      "contextual answer: একজন নৈরাজ্যবাদী রাশিয়ান লেখক\n",
      "generated: নৈরাজ্যবাদী রাশিয়ান লেখক\n"
     ]
    },
    {
     "name": "stderr",
     "output_type": "stream",
     "text": [
      "Processing rows:  32%|██████████████████▉                                         | 221/700 [38:08<1:24:11, 10.55s/row]"
     ]
    },
    {
     "name": "stdout",
     "output_type": "stream",
     "text": [
      "Target: parametric answer: রাশিয়ান সাম্রাজ্যের কভ্ন\n",
      "contextual answer: রাশিয়ান সাম্রাজ্যের কভ্ন\n",
      "generated: রাশিয়ান সাম্রাজ্যের কভ্ন (বর্তমানে কাউনাস, লিত্ভা) এক ইহুদী পরিবারে\n"
     ]
    },
    {
     "name": "stderr",
     "output_type": "stream",
     "text": [
      "Processing rows:  32%|███████████████████                                         | 222/700 [38:22<1:31:59, 11.55s/row]"
     ]
    },
    {
     "name": "stdout",
     "output_type": "stream",
     "text": [
      "Target: parametric answer: অবৈধভাবে জন্ম নিয়ন্ত্রণ সম্পর্কে তথ্য বিতরণের জন্য\n",
      "contextual answer: অবৈধভাবে জন্ম নিয়ন্ত্রণ সম্পর্কে তথ্য বিতরণের জন্য\n",
      "generated: \"দাঙ্গা উস্কে\" এবং অবৈধভাবে জন্ম নিয়ন্ত্রণ সম্পর্কে তথ্য বিতরণের জন্য\n"
     ]
    },
    {
     "name": "stderr",
     "output_type": "stream",
     "text": [
      "Processing rows:  32%|███████████████████                                         | 223/700 [38:37<1:41:12, 12.73s/row]"
     ]
    },
    {
     "name": "stdout",
     "output_type": "stream",
     "text": [
      "Target: parametric answer: ১৮৮৫\n",
      "contextual answer: ১৮৮৫\n",
      "generated: ১৮৮৫\n"
     ]
    },
    {
     "name": "stderr",
     "output_type": "stream",
     "text": [
      "Processing rows:  32%|███████████████████▏                                        | 224/700 [38:51<1:43:50, 13.09s/row]"
     ]
    },
    {
     "name": "stdout",
     "output_type": "stream",
     "text": [
      "Target: parametric answer: অ্যানিমেশন স্টুডিও সানরাইজ\n",
      "contextual answer: অ্যানিমেশন স্টুডিও সানরাইজ\n",
      "generated: সানরাইজ\n"
     ]
    },
    {
     "name": "stderr",
     "output_type": "stream",
     "text": [
      "Processing rows:  32%|███████████████████▎                                        | 226/700 [39:05<1:28:55, 11.26s/row]"
     ]
    },
    {
     "name": "stdout",
     "output_type": "stream",
     "text": [
      "Target: parametric answer: শিনিচিরো ওয়াতানাবে\n",
      "contextual answer: শিনিচিরো ওয়াতানাবে\n",
      "generated: শিনিচিরো ওয়াতানাবে\n"
     ]
    },
    {
     "name": "stderr",
     "output_type": "stream",
     "text": [
      "Processing rows:  32%|███████████████████▍                                        | 227/700 [39:19<1:35:08, 12.07s/row]"
     ]
    },
    {
     "name": "stdout",
     "output_type": "stream",
     "text": [
      "Target: parametric answer: কারণ তিনি মেচা অ্যানিমেতে তার আগের কাজ থেকে ভিন্ন কিছু করতে চেয়েছিলেন\n",
      "contextual answer: কারণ তিনি মেচা অ্যানিমেতে তার আগের কাজ থেকে ভিন্ন কিছু করতে চেয়েছিলেন\n",
      "generated: মেচা অ্যানিমেতে তার আগের কাজ থেকে ভিন্ন কিছু করতে চেয়েছিলেন\n"
     ]
    },
    {
     "name": "stderr",
     "output_type": "stream",
     "text": [
      "Processing rows:  33%|███████████████████▌                                        | 228/700 [39:34<1:42:23, 13.01s/row]"
     ]
    },
    {
     "name": "stdout",
     "output_type": "stream",
     "text": [
      "Target: parametric answer: ৩০ হাজার ১৯৩ দশমিক ৩৯ কোটি টাকা\n",
      "contextual answer: ৩০ হাজার ১৯৩ দশমিক ৩৯ কোটি টাকা\n",
      "generated: ৩০ হাজার ১৯৩ দশমিক ৩৯ কোটি টাকা\n"
     ]
    },
    {
     "name": "stderr",
     "output_type": "stream",
     "text": [
      "Processing rows:  33%|███████████████████▋                                        | 230/700 [39:48<1:27:45, 11.20s/row]"
     ]
    },
    {
     "name": "stdout",
     "output_type": "stream",
     "text": [
      "Target: parametric answer: ১২,০০০/- কোটি টাকা\n",
      "contextual answer: ১২,০০০/- কোটি টাকা\n",
      "generated: ১২,০০০/- কোটি টাকা\n"
     ]
    },
    {
     "name": "stderr",
     "output_type": "stream",
     "text": [
      "Processing rows:  33%|███████████████████▊                                        | 231/700 [40:02<1:34:06, 12.04s/row]"
     ]
    },
    {
     "name": "stdout",
     "output_type": "stream",
     "text": [
      "Target: parametric answer: ২০১৪\n",
      "contextual answer: ২০১৪\n",
      "generated: ২০১৪\n"
     ]
    },
    {
     "name": "stderr",
     "output_type": "stream",
     "text": [
      "Processing rows:  33%|███████████████████▉                                        | 232/700 [40:16<1:38:30, 12.63s/row]"
     ]
    },
    {
     "name": "stdout",
     "output_type": "stream",
     "text": [
      "Target: parametric answer: পরিবেশ আচরণ;ধর্ম;সংস্কৃতি;অর্থনৈতিক অনুশীলনকে প্রভাবিত করে\n",
      "contextual answer: পরিবেশ আচরণ;ধর্ম;সংস্কৃতি;অর্থনৈতিক অনুশীলনকে প্রভাবিত করে\n",
      "generated: আচরণ, ধর্ম, সংস্কৃতি এবং অর্থনৈতিক অনুশীলনকে প্রভাবিত করে\n"
     ]
    },
    {
     "name": "stderr",
     "output_type": "stream",
     "text": [
      "Processing rows:  34%|████████████████████▏                                       | 235/700 [40:31<1:19:55, 10.31s/row]"
     ]
    },
    {
     "name": "stdout",
     "output_type": "stream",
     "text": [
      "Target: parametric answer: দু’ধরনের\n",
      "contextual answer: দু’ধরনের\n",
      "generated: অ্যানালগ ও ডিজিটাল\n"
     ]
    },
    {
     "name": "stderr",
     "output_type": "stream",
     "text": [
      "Processing rows:  34%|████████████████████▎                                       | 237/700 [40:47<1:14:03,  9.60s/row]"
     ]
    },
    {
     "name": "stdout",
     "output_type": "stream",
     "text": [
      "Target: parametric answer: দু’ধরনের\n",
      "contextual answer: চার ধরনের\n",
      "generated: চার\n"
     ]
    },
    {
     "name": "stderr",
     "output_type": "stream",
     "text": [
      "Processing rows:  34%|████████████████████▍                                       | 238/700 [41:03<1:27:39, 11.39s/row]"
     ]
    },
    {
     "name": "stdout",
     "output_type": "stream",
     "text": [
      "Target: parametric answer: পরস্পরের সাথে সংযুক্ত এক গুচ্ছ ট্রান্সমিটার, রিসিভার বা ট্রান্সিভারের সমন্বয়ে\n",
      "contextual answer: পরস্পরের সাথে সংযুক্ত এক গুচ্ছ ট্রান্সমিটার, রিসিভার বা ট্রান্সিভারের সমন্বয়ে\n",
      "generated: পরস্পরের সাথে সংযুক্ত এক গুচ্ছ ট্রান্সমিটার, রিসিভার বা ট্রান্সিভারের সমন্বয়ে গঠিত হয় নেটওয়ার্ক\n"
     ]
    },
    {
     "name": "stderr",
     "output_type": "stream",
     "text": [
      "Processing rows:  34%|████████████████████▍                                       | 239/700 [41:17<1:34:25, 12.29s/row]"
     ]
    },
    {
     "name": "stdout",
     "output_type": "stream",
     "text": [
      "Target: parametric answer: একটি নির্দিষ্ট বাবহারকারীর কাছে তথ্য পাঠানো\n",
      "contextual answer: একটি নির্দিষ্ট বাবহারকারীর কাছে তথ্য পাঠানো\n",
      "generated: একটি নির্দিষ্ট বাবহারকারীর কাছে তথ্য পাঠানো\n"
     ]
    },
    {
     "name": "stderr",
     "output_type": "stream",
     "text": [
      "Processing rows:  34%|████████████████████▌                                       | 240/700 [41:33<1:42:06, 13.32s/row]"
     ]
    },
    {
     "name": "stdout",
     "output_type": "stream",
     "text": [
      "Target: parametric answer: যাতে দুর্বল অ্যানালগ সিগনালকে বিবর্ধিত করে শক্তিশালী;বিকৃত ডিজিটাল সিগনালকে পুনর্গঠন করা যায়\n",
      "contextual answer: যাতে দুর্বল অ্যানালগ সিগনালকে বিবর্ধিত করে শক্তিশালী;বিকৃত ডিজিটাল সিগনালকে পুনর্গঠন করা যায়\n",
      "generated: দুর্বল অ্যানালগ সিগনালকে বিবর্ধিত করে শক্তিশালী এবং বিকৃত ডিজিটাল সিগনালকে পুনর্গঠন করা যায়\n"
     ]
    },
    {
     "name": "stderr",
     "output_type": "stream",
     "text": [
      "Processing rows:  34%|████████████████████▋                                       | 241/700 [41:47<1:43:23, 13.52s/row]"
     ]
    },
    {
     "name": "stdout",
     "output_type": "stream",
     "text": [
      "Target: parametric answer: নতুন\n",
      "contextual answer: নতুন\n",
      "generated: নতুন\n"
     ]
    },
    {
     "name": "stderr",
     "output_type": "stream",
     "text": [
      "Processing rows:  35%|████████████████████▊                                       | 243/700 [42:05<1:32:53, 12.20s/row]"
     ]
    },
    {
     "name": "stdout",
     "output_type": "stream",
     "text": [
      "Target: parametric answer: ১৯২৬\n",
      "contextual answer: ১৯২৬\n",
      "generated: ১৯২৬\n"
     ]
    },
    {
     "name": "stderr",
     "output_type": "stream",
     "text": [
      "Processing rows:  35%|████████████████████▉                                       | 244/700 [42:20<1:38:38, 12.98s/row]"
     ]
    },
    {
     "name": "stdout",
     "output_type": "stream",
     "text": [
      "Target: parametric answer: ৩৬৭\n",
      "contextual answer: ৩৬৭\n",
      "generated: ৩৬৭টি\n"
     ]
    },
    {
     "name": "stderr",
     "output_type": "stream",
     "text": [
      "Processing rows:  35%|█████████████████████                                       | 245/700 [42:34<1:40:34, 13.26s/row]"
     ]
    },
    {
     "name": "stdout",
     "output_type": "stream",
     "text": [
      "Target: parametric answer: ইন্টারন্যাশনাল অ্যাস্ট্রোনমিক্যাল ইউনিয়ন-এর সেন্ট্রাল ব্যুরো ফর অ্যাস্ট্রোনমিক্যাল টেলিগ্রাম্‌স শীর্ষক\n",
      "contextual answer: ইন্টারন্যাশনাল অ্যাস্ট্রোনমিক্যাল ইউনিয়ন-এর সেন্ট্রাল ব্যুরো ফর অ্যাস্ট্রোনমিক্যাল টেলিগ্রাম্‌স শীর্ষক\n",
      "generated: ইন্টারন্যাশনাল অ্যাস্ট্রোনমিক্যাল ইউনিয়ন-এর সেন্ট্রাল ব্যুরো ফর অ্যাস্ট্রোনমিক্যাল টেলিগ্রাম্ স শিরোনামে বিভাগে\n"
     ]
    },
    {
     "name": "stderr",
     "output_type": "stream",
     "text": [
      "Processing rows:  35%|█████████████████████                                       | 246/700 [42:52<1:51:54, 14.79s/row]"
     ]
    },
    {
     "name": "stdout",
     "output_type": "stream",
     "text": [
      "Target: parametric answer: একটি সেলুলার ওবিডি সন্ধানার সরাসরি সেলুলার টাওয়ারের সাথে যোগাযোগ স্থাপন করে এবং সেলুলার ওয়্যারলেস নেটওয়ার্কের মধ্যমে যানবাহনের অবস্থান এবং অন্যান্য তথ্য সার্ভারে প্রেরণ করে দেয়\n",
      "contextual answer: একটি সেলুলার ওবিডি সন্ধানার সরাসরি সেলুলার টাওয়ারের সাথে যোগাযোগ স্থাপন করে এবং সেলুলার ওয়্যারলেস নেটওয়ার্কের মধ্যমে যানবাহনের অবস্থান এবং অন্যান্য তথ্য সার্ভারে প্রেরণ করে দেয়\n",
      "generated: একটি ওবিডি জিপিএস সন্ধানার হালকা বা মধ্যম কর্মক্ষমতার গাড়ির ওবিডি পোর্টে যুক্ত করে দেয়া হয়\n"
     ]
    },
    {
     "name": "stderr",
     "output_type": "stream",
     "text": [
      "Processing rows:  35%|█████████████████████▎                                      | 248/700 [43:07<1:35:03, 12.62s/row]"
     ]
    },
    {
     "name": "stdout",
     "output_type": "stream",
     "text": [
      "Target: parametric answer: টেকোগ্রাফ\n",
      "contextual answer: টেকোগ্রাফ\n",
      "generated: টেকোগ্রাফ\n"
     ]
    },
    {
     "name": "stderr",
     "output_type": "stream",
     "text": [
      "Processing rows:  36%|█████████████████████▎                                      | 249/700 [43:22<1:39:32, 13.24s/row]"
     ]
    },
    {
     "name": "stdout",
     "output_type": "stream",
     "text": [
      "Target: parametric answer: ২০০২\n",
      "contextual answer: ২০০২\n",
      "generated: ২০০২\n"
     ]
    },
    {
     "name": "stderr",
     "output_type": "stream",
     "text": [
      "Processing rows:  36%|█████████████████████▌                                      | 251/700 [43:36<1:25:00, 11.36s/row]"
     ]
    },
    {
     "name": "stdout",
     "output_type": "stream",
     "text": [
      "Target: parametric answer: ২০১৪\n",
      "contextual answer: ২০১৪\n",
      "generated: ২০১৪\n"
     ]
    },
    {
     "name": "stderr",
     "output_type": "stream",
     "text": [
      "Processing rows:  36%|█████████████████████▌                                      | 252/700 [43:50<1:30:38, 12.14s/row]"
     ]
    },
    {
     "name": "stdout",
     "output_type": "stream",
     "text": [
      "Target: parametric answer: ঢাকা রেসিং, রাস্তায় দৌড় ভিডিও গেম সেট ঢাকা\n",
      "contextual answer: ঢাকা রেসিং, রাস্তায় দৌড় ভিডিও গেম সেট ঢাকা\n",
      "generated: ঢাকা রেসিং\n"
     ]
    },
    {
     "name": "stderr",
     "output_type": "stream",
     "text": [
      "Processing rows:  36%|█████████████████████▋                                      | 253/700 [44:05<1:37:57, 13.15s/row]"
     ]
    },
    {
     "name": "stdout",
     "output_type": "stream",
     "text": [
      "Target: parametric answer: দেশজুড়ে গেমারদের কাছ থেকে ইতিবাচক সাড়া পেয়ে\n",
      "contextual answer: দেশজুড়ে গেমারদের কাছ থেকে ইতিবাচক সাড়া পেয়ে\n",
      "generated: দেশজুড়ে গেমারদের কাছ থেকে ইতিবাচক সাড়া পেয়ে\n"
     ]
    },
    {
     "name": "stderr",
     "output_type": "stream",
     "text": [
      "Processing rows:  36%|█████████████████████▊                                      | 254/700 [44:20<1:40:32, 13.53s/row]"
     ]
    },
    {
     "name": "stdout",
     "output_type": "stream",
     "text": [
      "Target: parametric answer: চট্টগ্রাম\n",
      "contextual answer: চট্টগ্রাম\n",
      "generated: চট্টগ্রাম\n"
     ]
    },
    {
     "name": "stderr",
     "output_type": "stream",
     "text": [
      "Processing rows:  36%|█████████████████████▊                                      | 255/700 [44:34<1:41:52, 13.73s/row]"
     ]
    },
    {
     "name": "stdout",
     "output_type": "stream",
     "text": [
      "Target: parametric answer: কোন বস্তুকে সরাসরি স্পর্শ না করে সেই বস্তু হতে তার গুনাবলি সম্পর্কিত উপাত্ত সংগ্রহ করা এবং পর্যবেক্ষন করার এক ধরনের কৌশল\n",
      "contextual answer: কোন বস্তুকে সরাসরি স্পর্শ না করে সেই বস্তু হতে তার গুনাবলি সম্পর্কিত উপাত্ত সংগ্রহ করা এবং পর্যবেক্ষন করার এক ধরনের কৌশল\n",
      "generated: কোন বস্তুকে সরাসরি স্পর্শ না করে সেই বস্তু হতে তার গুণাবলি সম্পর্কিত উপাত্ত সংগ্রহ করা এবং পর্যবেক্ষন করার এক ধরনের কৌশল\n"
     ]
    },
    {
     "name": "stderr",
     "output_type": "stream",
     "text": [
      "Processing rows:  37%|█████████████████████▉                                      | 256/700 [44:48<1:42:41, 13.88s/row]"
     ]
    },
    {
     "name": "stdout",
     "output_type": "stream",
     "text": [
      "Target: parametric answer: ১৯৪৮\n",
      "contextual answer: ১৯৪৮\n",
      "generated: ১৯৪৮\n"
     ]
    },
    {
     "name": "stderr",
     "output_type": "stream",
     "text": [
      "Processing rows:  37%|██████████████████████▏                                     | 259/700 [45:02<1:22:00, 11.16s/row]"
     ]
    },
    {
     "name": "stdout",
     "output_type": "stream",
     "text": [
      "Target: parametric answer: ২০২০\n",
      "contextual answer: ২০২০\n",
      "generated: ২০২০\n"
     ]
    },
    {
     "name": "stderr",
     "output_type": "stream",
     "text": [
      "Processing rows:  37%|██████████████████████▎                                     | 261/700 [45:17<1:13:30, 10.05s/row]"
     ]
    },
    {
     "name": "stdout",
     "output_type": "stream",
     "text": [
      "Target: parametric answer: সান ভিটলে\n",
      "contextual answer: সান ভিটলে\n",
      "generated: সান ভিটলে চার্চের\n"
     ]
    },
    {
     "name": "stderr",
     "output_type": "stream",
     "text": [
      "Processing rows:  37%|██████████████████████▍                                     | 262/700 [45:34<1:27:21, 11.97s/row]"
     ]
    },
    {
     "name": "stdout",
     "output_type": "stream",
     "text": [
      "Target: parametric answer: চাপা আতঙ্ক ও ভয় এবং অদৃশ্য কারও অনুভূতি পাবার কারণ দেখিয়ে\n",
      "contextual answer: চাপা আতঙ্ক ও ভয় এবং অদৃশ্য কারও অনুভূতি পাবার কারণ দেখিয়ে\n",
      "generated: চাপা আতঙ্ক ও ভয় এবং অদৃশ্য কারও অনুভূতি পাবার কারণ দেখিয়ে\n"
     ]
    },
    {
     "name": "stderr",
     "output_type": "stream",
     "text": [
      "Processing rows:  38%|██████████████████████▋                                     | 264/700 [45:49<1:17:04, 10.61s/row]"
     ]
    },
    {
     "name": "stdout",
     "output_type": "stream",
     "text": [
      "Target: parametric answer: মারা যাওয়া এই মানুষগুলোর অতৃপ্ত আত্মা ঘুরে ফেরে এই দ্বীপে এবং এসব আত্মা অন্যের আধিপত্য মেনে নিতে পারে না\n",
      "contextual answer: মারা যাওয়া এই মানুষগুলোর অতৃপ্ত আত্মা ঘুরে ফেরে এই দ্বীপে এবং এসব আত্মা অন্যের আধিপত্য মেনে নিতে পারে না\n",
      "generated: মারা যাওয়া এই মানুষগুলোর অতৃপ্ত আত্মা ঘুরে ফেরে এই দ্বীপে এবং এসব আত্মা অন্যের আধিপত্য মেনে নিতে পারে না\n"
     ]
    },
    {
     "name": "stderr",
     "output_type": "stream",
     "text": [
      "Processing rows:  38%|██████████████████████▋                                     | 265/700 [46:04<1:27:05, 12.01s/row]"
     ]
    },
    {
     "name": "stdout",
     "output_type": "stream",
     "text": [
      "Target: parametric answer: প্রদর্শনীর জন্য ব্যবহৃত একটি স্থান, সাধারণত দৃশ্য শিল্পের জন্য\n",
      "contextual answer: প্রদর্শনীর জন্য ব্যবহৃত একটি স্থান, সাধারণত দৃশ্য শিল্পের জন্য\n",
      "generated: প্রদর্শনী জন্য ব্যবহৃত একটি স্থান, সাধারণত দৃশ্য শিল্পের জন্য\n"
     ]
    },
    {
     "name": "stderr",
     "output_type": "stream",
     "text": [
      "Processing rows:  38%|██████████████████████▊                                     | 266/700 [46:18<1:32:21, 12.77s/row]"
     ]
    },
    {
     "name": "stdout",
     "output_type": "stream",
     "text": [
      "Target: parametric answer: একপ্রকারের বাণিজ্যিক প্রতিষ্ঠান যারা শিল্পকর্ম বিক্রয় করে\n",
      "contextual answer: একপ্রকারের বাণিজ্যিক প্রতিষ্ঠান যারা শিল্পকর্ম বিক্রয় করে\n",
      "generated: একপ্রকারের বাণিজ্যিক প্রতিষ্ঠান যারা শিল্পকর্ম বিক্রয় করে\n"
     ]
    },
    {
     "name": "stderr",
     "output_type": "stream",
     "text": [
      "Processing rows:  38%|███████████████████████                                     | 269/700 [46:33<1:14:48, 10.41s/row]"
     ]
    },
    {
     "name": "stdout",
     "output_type": "stream",
     "text": [
      "Target: parametric answer: লউফির\n",
      "contextual answer: লউফির\n",
      "generated: লউফির\n"
     ]
    },
    {
     "name": "stderr",
     "output_type": "stream",
     "text": [
      "Processing rows:  39%|███████████████████████▏                                    | 271/700 [46:47<1:06:59,  9.37s/row]"
     ]
    },
    {
     "name": "stdout",
     "output_type": "stream",
     "text": [
      "Target: parametric answer: \"ওডিনস্লিপে\"\n",
      "contextual answer: \"ওডিনস্লিপে\"\n",
      "generated: ওডিনস্লিপে\n"
     ]
    },
    {
     "name": "stderr",
     "output_type": "stream",
     "text": [
      "Processing rows:  39%|███████████████████████▎                                    | 272/700 [47:02<1:18:07, 10.95s/row]"
     ]
    },
    {
     "name": "stdout",
     "output_type": "stream",
     "text": [
      "Target: parametric answer: ডেস্ট্রয়ারকে\n",
      "contextual answer: ডেস্ট্রয়ারকে\n",
      "generated: ডেস্ট্রয়ারকে\n"
     ]
    },
    {
     "name": "stderr",
     "output_type": "stream",
     "text": [
      "Processing rows:  39%|███████████████████████▍                                    | 273/700 [47:16<1:24:18, 11.85s/row]"
     ]
    },
    {
     "name": "stdout",
     "output_type": "stream",
     "text": [
      "Target: parametric answer: যাতে লোকি যুদ্ধে যেতে না পারে\n",
      "contextual answer: যাতে লোকি যুদ্ধে যেতে না পারে\n",
      "generated: লোকি যুদ্ধে যেতে না পারে\n"
     ]
    },
    {
     "name": "stderr",
     "output_type": "stream",
     "text": [
      "Processing rows:  39%|███████████████████████▍                                    | 274/700 [47:30<1:28:45, 12.50s/row]"
     ]
    },
    {
     "name": "stdout",
     "output_type": "stream",
     "text": [
      "Target: parametric answer: ১৭৫৭\n",
      "contextual answer: ১৭৫৭\n",
      "generated: ১৭৫৭\n"
     ]
    },
    {
     "name": "stderr",
     "output_type": "stream",
     "text": [
      "Processing rows:  39%|███████████████████████▋                                    | 276/700 [47:44<1:16:36, 10.84s/row]"
     ]
    },
    {
     "name": "stdout",
     "output_type": "stream",
     "text": [
      "Target: parametric answer: ১৭৯৯\n",
      "contextual answer: ১৭৯৯\n",
      "generated: ১৭৯৯\n"
     ]
    },
    {
     "name": "stderr",
     "output_type": "stream",
     "text": [
      "Processing rows:  40%|███████████████████████▊                                    | 278/700 [47:58<1:08:08,  9.69s/row]"
     ]
    },
    {
     "name": "stdout",
     "output_type": "stream",
     "text": [
      "Target: parametric answer: ১৭৯৩\n",
      "contextual answer: ১৭৯৩\n",
      "generated: ১৭৯৩\n"
     ]
    },
    {
     "name": "stderr",
     "output_type": "stream",
     "text": [
      "Processing rows:  40%|████████████████████████                                    | 280/700 [48:12<1:02:59,  9.00s/row]"
     ]
    },
    {
     "name": "stdout",
     "output_type": "stream",
     "text": [
      "Target: parametric answer: ১৯৮৯\n",
      "contextual answer: ১৯৮৯\n",
      "generated: ১৯৮৯\n"
     ]
    },
    {
     "name": "stderr",
     "output_type": "stream",
     "text": [
      "Processing rows:  40%|█████████████████████████                                     | 283/700 [48:26<53:30,  7.70s/row]"
     ]
    },
    {
     "name": "stdout",
     "output_type": "stream",
     "text": [
      "Target: parametric answer: ১৯৭২\n",
      "contextual answer: ১৯৭২\n",
      "generated: ১৯৭২\n"
     ]
    },
    {
     "name": "stderr",
     "output_type": "stream",
     "text": [
      "Processing rows:  41%|████████████████████████▎                                   | 284/700 [48:40<1:06:25,  9.58s/row]"
     ]
    },
    {
     "name": "stdout",
     "output_type": "stream",
     "text": [
      "Target: parametric answer: ১৯৭৩\n",
      "contextual answer: ১৯৭৩\n",
      "generated: ১৯৭৩\n"
     ]
    },
    {
     "name": "stderr",
     "output_type": "stream",
     "text": [
      "Processing rows:  41%|████████████████████████▍                                   | 285/700 [48:55<1:16:07, 11.01s/row]"
     ]
    },
    {
     "name": "stdout",
     "output_type": "stream",
     "text": [
      "Target: parametric answer: লাইম্যান স্পিটজার\n",
      "contextual answer: লাইম্যান স্পিটজার\n",
      "generated: লাইম্যান স্পিটজার\n"
     ]
    },
    {
     "name": "stderr",
     "output_type": "stream",
     "text": [
      "Processing rows:  41%|████████████████████████▌                                   | 286/700 [49:09<1:22:12, 11.91s/row]"
     ]
    },
    {
     "name": "stdout",
     "output_type": "stream",
     "text": [
      "Target: parametric answer: জ্যোতির্বৈজ্ঞানিক মানমন্দির অর্বিটিং অ্যাস্ট্রোনমিকাল অবজারভেটরি-২\n",
      "contextual answer: জ্যোতির্বৈজ্ঞানিক মানমন্দির অর্বিটিং অ্যাস্ট্রোনমিকাল অবজারভেটরি-২\n",
      "generated: অর্বিটিং অ্যাস্ট্রোনমিকাল অবজারভেটরি-২\n"
     ]
    },
    {
     "name": "stderr",
     "output_type": "stream",
     "text": [
      "Processing rows:  41%|████████████████████████▌                                   | 287/700 [49:24<1:28:41, 12.88s/row]"
     ]
    },
    {
     "name": "stdout",
     "output_type": "stream",
     "text": [
      "Target: parametric answer: ডিস্কভারি\n",
      "contextual answer: ডিস্কভারি\n",
      "generated: ডিস্কভারি\n"
     ]
    },
    {
     "name": "stderr",
     "output_type": "stream",
     "text": [
      "Processing rows:  41%|████████████████████████▋                                   | 288/700 [49:39<1:33:42, 13.65s/row]"
     ]
    },
    {
     "name": "stdout",
     "output_type": "stream",
     "text": [
      "Target: parametric answer: সালিউত মহাকাশ বিরোতিস্থলের উপর\n",
      "contextual answer: সালিউত মহাকাশ বিরোতিস্থলের উপর\n",
      "generated: সোভিয়েত ইউনিয়নের সালিউত\n"
     ]
    },
    {
     "name": "stderr",
     "output_type": "stream",
     "text": [
      "Processing rows:  41%|████████████████████████▊                                   | 289/700 [49:56<1:40:01, 14.60s/row]"
     ]
    },
    {
     "name": "stdout",
     "output_type": "stream",
     "text": [
      "Target: parametric answer: জার্মান ব্যারন কার্ল ভন ড্রাইস\n",
      "contextual answer: জার্মান ব্যারন কার্ল ভন ড্রাইস\n",
      "generated: জার্মান ব্যারন কার্ল ভন ড্রাইস\n"
     ]
    },
    {
     "name": "stderr",
     "output_type": "stream",
     "text": [
      "Processing rows:  42%|████████████████████████▉                                   | 291/700 [50:10<1:24:00, 12.32s/row]"
     ]
    },
    {
     "name": "stdout",
     "output_type": "stream",
     "text": [
      "Target: parametric answer: ১৮১৭ সালের ১২ জুন\n",
      "contextual answer: ১৮১৭ সালের ১২ জুন\n",
      "generated: এক ঘণ্টারও কম সময়ে\n"
     ]
    },
    {
     "name": "stderr",
     "output_type": "stream",
     "text": [
      "Processing rows:  42%|█████████████████████████                                   | 292/700 [50:24<1:27:25, 12.86s/row]"
     ]
    },
    {
     "name": "stdout",
     "output_type": "stream",
     "text": [
      "Target: parametric answer: আংশিক ক্রমবর্ধমান দুর্ঘটনার কারণে\n",
      "contextual answer: আংশিক ক্রমবর্ধমান দুর্ঘটনার কারণে\n",
      "generated: আংশিক ক্রমবর্ধমান দুর্ঘটনার কারণে\n"
     ]
    },
    {
     "name": "stderr",
     "output_type": "stream",
     "text": [
      "Processing rows:  42%|█████████████████████████                                   | 293/700 [50:38<1:29:26, 13.19s/row]"
     ]
    },
    {
     "name": "stdout",
     "output_type": "stream",
     "text": [
      "Target: parametric answer: এ.আই সাবরা\n",
      "contextual answer: এ.আই সাবরা\n",
      "generated: এ.আই সাবরা\n"
     ]
    },
    {
     "name": "stderr",
     "output_type": "stream",
     "text": [
      "Processing rows:  42%|█████████████████████████▏                                  | 294/700 [50:50<1:25:57, 12.70s/row]"
     ]
    },
    {
     "name": "stdout",
     "output_type": "stream",
     "text": [
      "Target: parametric answer: আলকেমি রিস্টোরড\n",
      "contextual answer: আলকেমি রিস্টোরড\n",
      "generated: আলকেমি রিস্টোরড\n"
     ]
    },
    {
     "name": "stderr",
     "output_type": "stream",
     "text": [
      "Processing rows:  42%|█████████████████████████▎                                  | 295/700 [51:05<1:29:46, 13.30s/row]"
     ]
    },
    {
     "name": "stdout",
     "output_type": "stream",
     "text": [
      "Target: parametric answer: ধাতুকে অন্য পদার্থে রূপান্তরের জন্য অনুসন্ধান ও পরীক্ষা-নিরীক্ষা\n",
      "contextual answer: ধাতুকে অন্য পদার্থে রূপান্তরের জন্য অনুসন্ধান ও পরীক্ষা-নিরীক্ষা\n",
      "generated: nan\n"
     ]
    },
    {
     "name": "stderr",
     "output_type": "stream",
     "text": [
      "Processing rows:  42%|█████████████████████████▎                                  | 296/700 [51:18<1:29:13, 13.25s/row]"
     ]
    },
    {
     "name": "stdout",
     "output_type": "stream",
     "text": [
      "Target: parametric answer: আলকেমি এবং প্রথম দিকের রসায়নকে অন্তর্ভুক্ত করে একীভূত বিজ্ঞানকে\n",
      "contextual answer: আলকেমি এবং প্রথম দিকের রসায়নকে অন্তর্ভুক্ত করে একীভূত বিজ্ঞানকে\n",
      "generated: আলকেমি এবং প্রথম দিকের রসায়নকে অন্তর্ভুক্ত করে একীভূত বিজ্ঞানকেই বোঝায়\n"
     ]
    },
    {
     "name": "stderr",
     "output_type": "stream",
     "text": [
      "Processing rows:  42%|█████████████████████████▍                                  | 297/700 [51:33<1:33:55, 13.98s/row]"
     ]
    },
    {
     "name": "stdout",
     "output_type": "stream",
     "text": [
      "Target: parametric answer: ক্রিয়োসোপিয়া\n",
      "contextual answer: ক্রিয়োসোপিয়া\n",
      "generated: লরেন্স প্রিন্সিপ\n"
     ]
    },
    {
     "name": "stderr",
     "output_type": "stream",
     "text": [
      "Processing rows:  43%|█████████████████████████▌                                  | 298/700 [51:50<1:39:35, 14.86s/row]"
     ]
    },
    {
     "name": "stdout",
     "output_type": "stream",
     "text": [
      "Target: parametric answer: মহাপুরুষ\n",
      "contextual answer: মহাপুরুষ\n",
      "generated: মহাপুরুষ\n"
     ]
    },
    {
     "name": "stderr",
     "output_type": "stream",
     "text": [
      "Processing rows:  43%|█████████████████████████▋                                  | 299/700 [52:05<1:38:20, 14.71s/row]"
     ]
    },
    {
     "name": "stdout",
     "output_type": "stream",
     "text": [
      "Target: parametric answer: রূপা\n",
      "contextual answer: রূপা\n",
      "generated: রূপা\n"
     ]
    },
    {
     "name": "stderr",
     "output_type": "stream",
     "text": [
      "Processing rows:  43%|█████████████████████████▊                                  | 301/700 [52:19<1:22:21, 12.39s/row]"
     ]
    },
    {
     "name": "stdout",
     "output_type": "stream",
     "text": [
      "Target: parametric answer: না\n",
      "contextual answer: না\n",
      "generated: হ্যাঁ\n"
     ]
    },
    {
     "name": "stderr",
     "output_type": "stream",
     "text": [
      "Processing rows:  43%|█████████████████████████▉                                  | 302/700 [52:32<1:25:16, 12.85s/row]"
     ]
    },
    {
     "name": "stdout",
     "output_type": "stream",
     "text": [
      "Target: parametric answer: যা হিমালয় পর্বতের ন্যায় মহত্ব প্রকাশ করে\n",
      "contextual answer: যা হিমালয় পর্বতের ন্যায় মহত্ব প্রকাশ করে\n",
      "generated: হিমুর বাবা তাকে একজন মহাপুরুষ হিসাবে গড়ে তুলতে চেয়েছিলেন তাই\n"
     ]
    },
    {
     "name": "stderr",
     "output_type": "stream",
     "text": [
      "Processing rows:  43%|█████████████████████████▉                                  | 303/700 [52:49<1:31:42, 13.86s/row]"
     ]
    },
    {
     "name": "stdout",
     "output_type": "stream",
     "text": [
      "Target: parametric answer: স্তন্যপায়ী প্রাণী\n",
      "contextual answer: স্তন্যপায়ী প্রাণী\n",
      "generated: স্তন্যপায়ী\n"
     ]
    },
    {
     "name": "stderr",
     "output_type": "stream",
     "text": [
      "Processing rows:  43%|██████████████████████████                                  | 304/700 [53:03<1:31:37, 13.88s/row]"
     ]
    },
    {
     "name": "stdout",
     "output_type": "stream",
     "text": [
      "Target: parametric answer: ২\n",
      "contextual answer: ২\n",
      "generated: nan\n"
     ]
    },
    {
     "name": "stderr",
     "output_type": "stream",
     "text": [
      "Processing rows:  44%|██████████████████████████▏                                 | 305/700 [53:16<1:29:54, 13.66s/row]"
     ]
    },
    {
     "name": "stdout",
     "output_type": "stream",
     "text": [
      "Target: parametric answer: চুল অন্তস্ত্বক বা ত্বকের বহিঃস্তরে অবস্থিত ফলিকল থেকে উৎপন্ন চিকন লম্বা সুতার মতোন প্রোটিন তন্তু।\n",
      "contextual answer: চুল অন্তস্ত্বক বা ত্বকের বহিঃস্তরে অবস্থিত ফলিকল থেকে উৎপন্ন চিকন লম্বা সুতার মতোন প্রোটিন তন্তু।\n",
      "generated: অন্তস্ত্বক বা ত্বকের বহিঃস্তরে অবস্থিত ফলিকল থেকে উৎপন্ন চিকন লম্বা সুতার মতোন প্রোটিন তন্তু\n"
     ]
    },
    {
     "name": "stderr",
     "output_type": "stream",
     "text": [
      "Processing rows:  44%|██████████████████████████▏                                 | 306/700 [53:30<1:30:11, 13.73s/row]"
     ]
    },
    {
     "name": "stdout",
     "output_type": "stream",
     "text": [
      "Target: parametric answer: কেরাটিন\n",
      "contextual answer: কেরাটিন\n",
      "generated: কেরাটিন\n"
     ]
    },
    {
     "name": "stderr",
     "output_type": "stream",
     "text": [
      "Processing rows:  44%|██████████████████████████▎                                 | 307/700 [53:44<1:30:21, 13.79s/row]"
     ]
    },
    {
     "name": "stdout",
     "output_type": "stream",
     "text": [
      "Target: parametric answer: সাধারণ গণিতের বাইরে গিয়ে যে সমস্ত গণিতবিদেরা গাণিতিক সমস্যার সমাধানের কাজে নিযুক্ত থাকেন\n",
      "contextual answer: সাধারণ গণিতের বাইরে গিয়ে যে সমস্ত গণিতবিদেরা গাণিতিক সমস্যার সমাধানের কাজে নিযুক্ত থাকেন\n",
      "generated: সাধারণ গণিতের বাইরে গিয়ে যে সমস্ত গণিতবিদেরা গাণিতিক সমস্যার সমাধানের কাজে নিযুক্ত থাকেন\n"
     ]
    },
    {
     "name": "stderr",
     "output_type": "stream",
     "text": [
      "Processing rows:  44%|██████████████████████████▍                                 | 309/700 [53:58<1:16:38, 11.76s/row]"
     ]
    },
    {
     "name": "stdout",
     "output_type": "stream",
     "text": [
      "Target: parametric answer: যাঁরা তাদের বিশেষ জ্ঞান এবং পেশাদারী পদ্ধতির সঙ্গে, অনেক ভাবগম্ভীর বৈজ্ঞানিক ক্ষেত্রের সমস্যার মধ্যে উপস্থিত হয়ে অগ্রসর হন\n",
      "contextual answer: যাঁরা তাদের বিশেষ জ্ঞান এবং পেশাদারী পদ্ধতির সঙ্গে, অনেক ভাবগম্ভীর বৈজ্ঞানিক ক্ষেত্রের সমস্যার মধ্যে উপস্থিত হয়ে অগ্রসর হন\n",
      "generated: যারা তাদের বিশেষ জ্ঞান এবং পেশাদারী পদ্ধতির সঙ্গে, অনেক ভাবগম্ভীর বৈজ্ঞানিক ক্ষেত্রের সমস্যার মধ্যে উপস্থিত হয়ে অগ্রসর হন\n"
     ]
    },
    {
     "name": "stderr",
     "output_type": "stream",
     "text": [
      "Processing rows:  44%|██████████████████████████▌                                 | 310/700 [54:12<1:20:45, 12.42s/row]"
     ]
    },
    {
     "name": "stdout",
     "output_type": "stream",
     "text": [
      "Target: parametric answer: সাধারণত ভুলভাবে ব্যবহার বা ত্রুটিযুক্ত কারণে\n",
      "contextual answer: সাধারণত ভুলভাবে ব্যবহার বা ত্রুটিযুক্ত কারণে\n",
      "generated: সাধারণত ভুলভাবে ব্যবহার বা ত্রুটিযুক্ত কারণে\n"
     ]
    },
    {
     "name": "stderr",
     "output_type": "stream",
     "text": [
      "Processing rows:  45%|██████████████████████████▋                                 | 312/700 [54:25<1:09:42, 10.78s/row]"
     ]
    },
    {
     "name": "stdout",
     "output_type": "stream",
     "text": [
      "Target: parametric answer: হাইড্রোজেন এবং অক্সিজেনের একটি বিস্ফোরক গ্যাস\n",
      "contextual answer: হাইড্রোজেন এবং অক্সিজেনের একটি বিস্ফোরক গ্যাস\n",
      "generated: হাইড্রোজেন এবং অক্সিজেনের\n"
     ]
    },
    {
     "name": "stderr",
     "output_type": "stream",
     "text": [
      "Processing rows:  45%|██████████████████████████▊                                 | 313/700 [54:41<1:18:31, 12.17s/row]"
     ]
    },
    {
     "name": "stdout",
     "output_type": "stream",
     "text": [
      "Target: parametric answer: বদ্ধ কেসটির মধ্যে\n",
      "contextual answer: বদ্ধ কেসটির মধ্যে\n",
      "generated: বদ্ধ কেসটির মধ্যে\n"
     ]
    },
    {
     "name": "stderr",
     "output_type": "stream",
     "text": [
      "Processing rows:  45%|██████████████████████████▉                                 | 314/700 [54:55<1:22:44, 12.86s/row]"
     ]
    },
    {
     "name": "stdout",
     "output_type": "stream",
     "text": [
      "Target: parametric answer: ঢাকা\n",
      "contextual answer: ঢাকা\n",
      "generated: বাংলাদেশের রাজধানী ঢাকায়\n"
     ]
    },
    {
     "name": "stderr",
     "output_type": "stream",
     "text": [
      "Processing rows:  45%|███████████████████████████▏                                | 317/700 [55:11<1:07:13, 10.53s/row]"
     ]
    },
    {
     "name": "stdout",
     "output_type": "stream",
     "text": [
      "Target: parametric answer: ১৯৩৬ সাল\n",
      "contextual answer: ১৯৩৬ সাল\n",
      "generated: ১৯৩৬ সালে\n"
     ]
    },
    {
     "name": "stderr",
     "output_type": "stream",
     "text": [
      "Processing rows:  45%|███████████████████████████▎                                | 318/700 [55:25<1:14:31, 11.71s/row]"
     ]
    },
    {
     "name": "stdout",
     "output_type": "stream",
     "text": [
      "Target: parametric answer: ১৯৫১\n",
      "contextual answer: ১৯৫১\n",
      "generated: ১৯৫১\n"
     ]
    },
    {
     "name": "stderr",
     "output_type": "stream",
     "text": [
      "Processing rows:  46%|███████████████████████████▎                                | 319/700 [55:39<1:18:38, 12.38s/row]"
     ]
    },
    {
     "name": "stdout",
     "output_type": "stream",
     "text": [
      "Target: parametric answer: আনুভূমিক সারি\n",
      "contextual answer: আনুভূমিক সারি\n",
      "generated: nan\n"
     ]
    },
    {
     "name": "stderr",
     "output_type": "stream",
     "text": [
      "Processing rows:  46%|███████████████████████████▌                                | 322/700 [55:52<1:02:53,  9.98s/row]"
     ]
    },
    {
     "name": "stdout",
     "output_type": "stream",
     "text": [
      "Target: parametric answer: খাড়া স্তম্ভ\n",
      "contextual answer: খাড়া স্তম্ভ\n",
      "generated: nan\n"
     ]
    },
    {
     "name": "stderr",
     "output_type": "stream",
     "text": [
      "Processing rows:  46%|███████████████████████████▋                                | 323/700 [56:05<1:08:38, 10.92s/row]"
     ]
    },
    {
     "name": "stdout",
     "output_type": "stream",
     "text": [
      "Target: parametric answer: গ্রুপ-২ এবং গ্রুপ-৩ এর মধ্যবর্তী স্থানে অবস্থানকারী মৌল\n",
      "contextual answer: গ্রুপ-২ এবং গ্রুপ-৩ এর মধ্যবর্তী স্থানে অবস্থানকারী মৌল\n",
      "generated: গ্রুপ-২ এবং গ্রুপ-৩ এর মধ্যবর্তী স্থানে অবস্থানকারী মৌলগুলোকে\n"
     ]
    },
    {
     "name": "stderr",
     "output_type": "stream",
     "text": [
      "Processing rows:  46%|███████████████████████████▊                                | 324/700 [56:22<1:19:29, 12.68s/row]"
     ]
    },
    {
     "name": "stdout",
     "output_type": "stream",
     "text": [
      "Target: parametric answer: ৩২টি\n",
      "contextual answer: ৩২টি\n",
      "generated: ৩২টি\n"
     ]
    },
    {
     "name": "stderr",
     "output_type": "stream",
     "text": [
      "Processing rows:  46%|███████████████████████████▊                                | 325/700 [56:36<1:21:28, 13.04s/row]"
     ]
    },
    {
     "name": "stdout",
     "output_type": "stream",
     "text": [
      "Target: parametric answer: ৭টি\n",
      "contextual answer: ৭টি\n",
      "generated: ৭\n"
     ]
    },
    {
     "name": "stderr",
     "output_type": "stream",
     "text": [
      "Processing rows:  47%|███████████████████████████▉                                | 326/700 [56:51<1:25:37, 13.74s/row]"
     ]
    },
    {
     "name": "stdout",
     "output_type": "stream",
     "text": [
      "Target: parametric answer: গোলাকৃতি\n",
      "contextual answer: গোলাকৃতি\n",
      "generated: nan\n"
     ]
    },
    {
     "name": "stderr",
     "output_type": "stream",
     "text": [
      "Processing rows:  47%|████████████████████████████                                | 327/700 [57:04<1:24:16, 13.56s/row]"
     ]
    },
    {
     "name": "stdout",
     "output_type": "stream",
     "text": [
      "Target: parametric answer: কোর্টে উলম্বভাবে স্থাপিত একটি বাস্কেট বা ঝুড়িতে বল নিক্ষেপের মাধ্যমে পয়েন্ট সংগ্রহ করা\n",
      "contextual answer: কোর্টে উলম্বভাবে স্থাপিত একটি বাস্কেট বা ঝুড়িতে বল নিক্ষেপের মাধ্যমে পয়েন্ট সংগ্রহ করা\n",
      "generated: কোর্টে উলম্বভাবে স্থাপিত একটি বাস্কেট বা ঝুড়িতে বল নিক্ষেপের মাধ্যমে পয়েন্ট সংগ্রহ করা\n"
     ]
    },
    {
     "name": "stderr",
     "output_type": "stream",
     "text": [
      "Processing rows:  47%|████████████████████████████                                | 328/700 [57:19<1:25:38, 13.81s/row]"
     ]
    },
    {
     "name": "stdout",
     "output_type": "stream",
     "text": [
      "Target: parametric answer: ৫\n",
      "contextual answer: ৫\n",
      "generated: ৫ জন\n"
     ]
    },
    {
     "name": "stderr",
     "output_type": "stream",
     "text": [
      "Processing rows:  47%|████████████████████████████▏                               | 329/700 [57:33<1:25:40, 13.86s/row]"
     ]
    },
    {
     "name": "stdout",
     "output_type": "stream",
     "text": [
      "Target: parametric answer: চতুর্ভূজ আকৃতির বাস্কেটবল কোর্টের উভয় দিকের শেষ প্রান্তে বাস্কেট\n",
      "contextual answer: চতুর্ভূজ আকৃতির বাস্কেটবল কোর্টের উভয় দিকের শেষ প্রান্তে বাস্কেট\n",
      "generated: চতুর্ভূজ আকৃতির বাস্কেটবল কোর্টের উভয় দিকের শেষ প্রান্তে বাস্কেট ঝুলিয়ে রাখা হয়\n"
     ]
    },
    {
     "name": "stderr",
     "output_type": "stream",
     "text": [
      "Processing rows:  47%|████████████████████████████▎                               | 330/700 [57:48<1:28:31, 14.36s/row]"
     ]
    },
    {
     "name": "stdout",
     "output_type": "stream",
     "text": [
      "Target: parametric answer: এক ধরনের প্রহসন\n",
      "contextual answer: এক ধরনের প্রহসন\n",
      "generated: এক ধরনের প্রহসন\n"
     ]
    },
    {
     "name": "stderr",
     "output_type": "stream",
     "text": [
      "Processing rows:  47%|████████████████████████████▍                               | 332/700 [58:03<1:14:37, 12.17s/row]"
     ]
    },
    {
     "name": "stdout",
     "output_type": "stream",
     "text": [
      "Target: parametric answer: হাস্যরসাত্মক\n",
      "contextual answer: হাস্যরসাত্মক\n",
      "generated: হাস্যরসাত্মক\n"
     ]
    },
    {
     "name": "stderr",
     "output_type": "stream",
     "text": [
      "Processing rows:  48%|████████████████████████████▌                               | 333/700 [58:17<1:19:05, 12.93s/row]"
     ]
    },
    {
     "name": "stdout",
     "output_type": "stream",
     "text": [
      "Target: parametric answer: বাংলাদেশী অপরাধ থ্রিলার ওয়েব ধারাবাহিক\n",
      "contextual answer: বাংলাদেশী অপরাধ থ্রিলার ওয়েব ধারাবাহিক\n",
      "generated: বাংলাদেশী অপরাধ থ্রিলার ওয়েব ধারাবাহিক\n"
     ]
    },
    {
     "name": "stderr",
     "output_type": "stream",
     "text": [
      "Processing rows:  48%|████████████████████████████▋                               | 335/700 [58:31<1:07:41, 11.13s/row]"
     ]
    },
    {
     "name": "stdout",
     "output_type": "stream",
     "text": [
      "Target: parametric answer: রেদওয়ান রনি\n",
      "contextual answer: রেদওয়ান রনি\n",
      "generated: রেদওয়ান রনি\n"
     ]
    },
    {
     "name": "stderr",
     "output_type": "stream",
     "text": [
      "Processing rows:  48%|████████████████████████████▊                               | 336/700 [58:46<1:13:38, 12.14s/row]"
     ]
    },
    {
     "name": "stdout",
     "output_type": "stream",
     "text": [
      "Target: parametric answer: মরীচিকা\n",
      "contextual answer: মরীচিকা\n",
      "generated: মরীচিকা শিহাব শাহীন রচিত ও পরিচালিত বাংলাদেশী অপরাধ থ্রিলার ওয়েব ধারাবাহিক\n"
     ]
    },
    {
     "name": "stderr",
     "output_type": "stream",
     "text": [
      "Processing rows:  48%|████████████████████████████▉                               | 337/700 [59:01<1:18:45, 13.02s/row]"
     ]
    },
    {
     "name": "stdout",
     "output_type": "stream",
     "text": [
      "Target: parametric answer: স্নায়ুরোগের কারণে\n",
      "contextual answer: স্নায়ুরোগের কারণে\n",
      "generated: স্নায়ুরোগের কারণে\n"
     ]
    },
    {
     "name": "stderr",
     "output_type": "stream",
     "text": [
      "Processing rows:  49%|█████████████████████████████▏                              | 340/700 [59:15<1:03:01, 10.50s/row]"
     ]
    },
    {
     "name": "stdout",
     "output_type": "stream",
     "text": [
      "Target: parametric answer: ২০১৩ এর জানুয়ারিতে\n",
      "contextual answer: ২০১৩ এর জানুয়ারিতে\n",
      "generated: ২০১৩ এর জানুয়ারিতে\n"
     ]
    },
    {
     "name": "stderr",
     "output_type": "stream",
     "text": [
      "Processing rows:  49%|█████████████████████████████▏                              | 341/700 [59:28<1:09:03, 11.54s/row]"
     ]
    },
    {
     "name": "stdout",
     "output_type": "stream",
     "text": [
      "Target: parametric answer: দ্য ওয়াশিংটন পোস্টের\n",
      "contextual answer: দ্য ওয়াশিংটন পোস্টের\n",
      "generated: দ্য ওয়াশিংটন পোস্টের\n"
     ]
    },
    {
     "name": "stderr",
     "output_type": "stream",
     "text": [
      "Processing rows:  49%|█████████████████████████████▎                              | 342/700 [59:43<1:14:58, 12.57s/row]"
     ]
    },
    {
     "name": "stdout",
     "output_type": "stream",
     "text": [
      "Target: parametric answer: লেন্স এবং দর্পণের সাহায্যে\n",
      "contextual answer: লেন্স এবং দর্পণের সাহায্যে\n",
      "generated: লেন্স এবং দর্পণের\n"
     ]
    },
    {
     "name": "stderr",
     "output_type": "stream",
     "text": [
      "Processing rows:  50%|██████████████████████████████▉                               | 349/700 [59:59<55:20,  9.46s/row]"
     ]
    },
    {
     "name": "stdout",
     "output_type": "stream",
     "text": [
      "Target: parametric answer: ১৬০৯\n",
      "contextual answer: ১৬০৯\n",
      "generated: ১৬০৯\n"
     ]
    },
    {
     "name": "stderr",
     "output_type": "stream",
     "text": [
      "Processing rows:  50%|█████████████████████████████                             | 350/700 [1:00:13<1:02:57, 10.79s/row]"
     ]
    },
    {
     "name": "stdout",
     "output_type": "stream",
     "text": [
      "Target: parametric answer: ৩য়\n",
      "contextual answer: ৩য়\n",
      "generated: ৩য়\n"
     ]
    },
    {
     "name": "stderr",
     "output_type": "stream",
     "text": [
      "Processing rows:  50%|██████████████████████████████▎                             | 353/700 [1:00:29<52:53,  9.14s/row]"
     ]
    },
    {
     "name": "stdout",
     "output_type": "stream",
     "text": [
      "Target: parametric answer: খাদিজার পরে তার আর কোন স্ত্রী সন্তান জন্ম দেননি। আর বংশ রক্ষার জন্য কোন পুত্র সন্তান ছিলোও না\n",
      "contextual answer: খাদিজার পরে তার আর কোন স্ত্রী সন্তান জন্ম দেননি। আর বংশ রক্ষার জন্য কোন পুত্র সন্তান ছিলোও না\n",
      "generated: খাদিজার পরে তার আর কোন স্ত্রী সন্তান জন্ম দেননি আর বংশ রক্ষার জন্য কোন পুত্র সন্তান ছিলোও না\n"
     ]
    },
    {
     "name": "stderr",
     "output_type": "stream",
     "text": [
      "Processing rows:  51%|█████████████████████████████▎                            | 354/700 [1:00:43<1:01:24, 10.65s/row]"
     ]
    },
    {
     "name": "stdout",
     "output_type": "stream",
     "text": [
      "Target: parametric answer: জীবনের বাকি ৪০\n",
      "contextual answer: জীবনের বাকি ৪০\n",
      "generated: ৪০\n"
     ]
    },
    {
     "name": "stderr",
     "output_type": "stream",
     "text": [
      "Processing rows:  51%|██████████████████████████████▌                             | 356/700 [1:00:59<56:24,  9.84s/row]"
     ]
    },
    {
     "name": "stdout",
     "output_type": "stream",
     "text": [
      "Target: parametric answer: কারণ দেশের নিজস্ব খাদ্য, অর্থ, এবং ধন সম্পদ একই ছিল\n",
      "contextual answer: কারণ দেশের নিজস্ব খাদ্য, অর্থ, এবং ধন সম্পদ একই ছিল\n",
      "generated: দেশের নিজস্ব খাদ্য, অর্থ, এবং ধন সম্পদ একই ছিল\n"
     ]
    },
    {
     "name": "stderr",
     "output_type": "stream",
     "text": [
      "Processing rows:  51%|█████████████████████████████▌                            | 357/700 [1:01:15<1:07:00, 11.72s/row]"
     ]
    },
    {
     "name": "stdout",
     "output_type": "stream",
     "text": [
      "Target: parametric answer: তার মামার\n",
      "contextual answer: তার মামার\n",
      "generated: তার মামার\n"
     ]
    },
    {
     "name": "stderr",
     "output_type": "stream",
     "text": [
      "Processing rows:  51%|█████████████████████████████▋                            | 358/700 [1:01:29<1:10:42, 12.40s/row]"
     ]
    },
    {
     "name": "stdout",
     "output_type": "stream",
     "text": [
      "Target: parametric answer: পিটার মেইস্টার এবং তার সহযোগীরা\n",
      "contextual answer: পিটার মেইস্টার এবং তার সহযোগীরা\n",
      "generated: পিটার মেইস্টার এবং তার সহযোগীরা\n"
     ]
    },
    {
     "name": "stderr",
     "output_type": "stream",
     "text": [
      "Processing rows:  51%|█████████████████████████████▊                            | 360/700 [1:01:48<1:05:09, 11.50s/row]"
     ]
    },
    {
     "name": "stdout",
     "output_type": "stream",
     "text": [
      "Target: parametric answer: মেইস্টারের\n",
      "contextual answer: মেইস্টারের\n",
      "generated: মেইস্টারের\n"
     ]
    },
    {
     "name": "stderr",
     "output_type": "stream",
     "text": [
      "Processing rows:  52%|█████████████████████████████▉                            | 361/700 [1:02:02<1:09:20, 12.27s/row]"
     ]
    },
    {
     "name": "stdout",
     "output_type": "stream",
     "text": [
      "Target: parametric answer: ইউক্যারিওটিক\n",
      "contextual answer: ইউক্যারিওটিক\n",
      "generated: ইউক্যারিওটিক\n"
     ]
    },
    {
     "name": "stderr",
     "output_type": "stream",
     "text": [
      "Processing rows:  52%|█████████████████████████████▉                            | 362/700 [1:02:16<1:12:02, 12.79s/row]"
     ]
    },
    {
     "name": "stdout",
     "output_type": "stream",
     "text": [
      "Target: parametric answer: পেনসিলভানিয়ার ওয়িলমেরডিং-এ অবস্থিত\n",
      "contextual answer: পেনসিলভানিয়ার ওয়িলমেরডিং-এ অবস্থিত\n",
      "generated: পেনসিলভানিয়ার ওয়িলমেরডিং-এ\n"
     ]
    },
    {
     "name": "stderr",
     "output_type": "stream",
     "text": [
      "Processing rows:  52%|██████████████████████████████                            | 363/700 [1:02:31<1:16:33, 13.63s/row]"
     ]
    },
    {
     "name": "stdout",
     "output_type": "stream",
     "text": [
      "Target: parametric answer: লাইব্রেরি হল' বা 'প্রাসাদ'\n",
      "contextual answer: লাইব্রেরি হল' বা 'প্রাসাদ'\n",
      "generated: লাইব্রেরি হল' বা 'প্রাসাদ'\n"
     ]
    },
    {
     "name": "stderr",
     "output_type": "stream",
     "text": [
      "Processing rows:  52%|██████████████████████████████▏                           | 364/700 [1:02:46<1:18:02, 13.94s/row]"
     ]
    },
    {
     "name": "stdout",
     "output_type": "stream",
     "text": [
      "Target: parametric answer: ১৮৯০\n",
      "contextual answer: ১৮৯০\n",
      "generated: ১৮৯০\n"
     ]
    },
    {
     "name": "stderr",
     "output_type": "stream",
     "text": [
      "Processing rows:  52%|██████████████████████████████▏                           | 365/700 [1:03:00<1:18:15, 14.02s/row]"
     ]
    },
    {
     "name": "stdout",
     "output_type": "stream",
     "text": [
      "Target: parametric answer: জর্জ ওয়েস্টিংহাউস জাদুঘর\n",
      "contextual answer: জর্জ ওয়েস্টিংহাউস জাদুঘর\n",
      "generated: জর্জ ওয়েস্টিংহাউস জাদুঘর\n"
     ]
    },
    {
     "name": "stderr",
     "output_type": "stream",
     "text": [
      "Processing rows:  52%|██████████████████████████████▎                           | 366/700 [1:03:14<1:18:09, 14.04s/row]"
     ]
    },
    {
     "name": "stdout",
     "output_type": "stream",
     "text": [
      "Target: parametric answer: এডি/সিই ভিত্তিক বর্ষ সংখ্যা পদ্ধতি\n",
      "contextual answer: এডি/সিই ভিত্তিক বর্ষ সংখ্যা পদ্ধতি\n",
      "generated: সাধারণ দশমিক পূর্ণ সংখ্যা পদ্ধতি\n"
     ]
    },
    {
     "name": "stderr",
     "output_type": "stream",
     "text": [
      "Processing rows:  53%|██████████████████████████████▍                           | 368/700 [1:03:31<1:08:22, 12.36s/row]"
     ]
    },
    {
     "name": "stdout",
     "output_type": "stream",
     "text": [
      "Target: parametric answer: জুলীয়\n",
      "contextual answer: জুলীয়\n",
      "generated: জুলীয়\n"
     ]
    },
    {
     "name": "stderr",
     "output_type": "stream",
     "text": [
      "Processing rows:  53%|███████████████████████████████▊                            | 371/700 [1:03:45<55:07, 10.05s/row]"
     ]
    },
    {
     "name": "stdout",
     "output_type": "stream",
     "text": [
      "Target: parametric answer: দেশের সরকার\n",
      "contextual answer: দেশের সরকার\n",
      "generated: nan\n"
     ]
    },
    {
     "name": "stderr",
     "output_type": "stream",
     "text": [
      "Processing rows:  53%|███████████████████████████████▉                            | 373/700 [1:03:58<49:04,  9.01s/row]"
     ]
    },
    {
     "name": "stdout",
     "output_type": "stream",
     "text": [
      "Target: parametric answer: না\n",
      "contextual answer: না\n",
      "generated: হ্যাঁ\n"
     ]
    },
    {
     "name": "stderr",
     "output_type": "stream",
     "text": [
      "Processing rows:  53%|████████████████████████████████                            | 374/700 [1:04:14<59:03, 10.87s/row]"
     ]
    },
    {
     "name": "stdout",
     "output_type": "stream",
     "text": [
      "Target: parametric answer: মুদ্রার চাহিদা ও যোগানের উপর ভিত্তি করে\n",
      "contextual answer: মুদ্রার চাহিদা ও যোগানের উপর ভিত্তি করে\n",
      "generated: বৈদেশিক মুদ্রা বাজারে মুদ্রা বিনিময় ব্যবস্থা সর্বদা চলমান থাকে\n"
     ]
    },
    {
     "name": "stderr",
     "output_type": "stream",
     "text": [
      "Processing rows:  54%|████████████████████████████████▏                           | 376/700 [1:04:29<53:52,  9.98s/row]"
     ]
    },
    {
     "name": "stdout",
     "output_type": "stream",
     "text": [
      "Target: parametric answer: ইংরেজি\n",
      "contextual answer: ইংরেজি\n",
      "generated: ইংরেজি\n"
     ]
    },
    {
     "name": "stderr",
     "output_type": "stream",
     "text": [
      "Processing rows:  54%|███████████████████████████████▏                          | 377/700 [1:04:45<1:02:23, 11.59s/row]"
     ]
    },
    {
     "name": "stdout",
     "output_type": "stream",
     "text": [
      "Target: parametric answer: দ্বিতীয় বিশ্বযুদ্ধ-পরবর্তী\n",
      "contextual answer: দ্বিতীয় বিশ্বযুদ্ধ-পরবর্তী\n",
      "generated: দ্বিতীয় বিশ্বযুদ্ধ-পরবর্তী\n"
     ]
    },
    {
     "name": "stderr",
     "output_type": "stream",
     "text": [
      "Processing rows:  54%|███████████████████████████████▎                          | 378/700 [1:05:03<1:12:49, 13.57s/row]"
     ]
    },
    {
     "name": "stdout",
     "output_type": "stream",
     "text": [
      "Target: parametric answer: জীবিত মানুষের দেহাকৃতি অঙ্কন\n",
      "contextual answer: জীবিত মানুষের দেহাকৃতি অঙ্কন\n",
      "generated: জীবিত মানুষের দেহাকৃতি অঙ্কন\n"
     ]
    },
    {
     "name": "stderr",
     "output_type": "stream",
     "text": [
      "Processing rows:  54%|███████████████████████████████▍                          | 380/700 [1:05:18<1:02:36, 11.74s/row]"
     ]
    },
    {
     "name": "stdout",
     "output_type": "stream",
     "text": [
      "Target: parametric answer:  আর্ট স্কুল, শ্রেণীকক্ষ প্রভৃতি স্থানে, যেখানে উদ্দেশ্য আকার, বয়স, বর্ণভেদে মানুষের দেহাকৃতি অঙ্কণ শেখানো, সেসকল স্থানে\n",
      "contextual answer:  আর্ট স্কুল, শ্রেণীকক্ষ প্রভৃতি স্থানে, যেখানে উদ্দেশ্য আকার, বয়স, বর্ণভেদে মানুষের দেহাকৃতি অঙ্কণ শেখানো, সেসকল স্থানে\n",
      "generated: আর্ট স্কুল, শ্রেণীকক্ষ প্রভৃতি স্থানে\n"
     ]
    },
    {
     "name": "stderr",
     "output_type": "stream",
     "text": [
      "Processing rows:  54%|███████████████████████████████▌                          | 381/700 [1:05:34<1:10:01, 13.17s/row]"
     ]
    },
    {
     "name": "stdout",
     "output_type": "stream",
     "text": [
      "Target: parametric answer: দেহাকৃতি অঙ্কনের জন্য\n",
      "contextual answer: দেহাকৃতি অঙ্কনের জন্য\n",
      "generated: দেহাকৃতি অঙ্কনের জন্য\n"
     ]
    },
    {
     "name": "stderr",
     "output_type": "stream",
     "text": [
      "Processing rows:  55%|███████████████████████████████▋                          | 382/700 [1:05:49<1:12:25, 13.66s/row]"
     ]
    },
    {
     "name": "stdout",
     "output_type": "stream",
     "text": [
      "Target: parametric answer: না\n",
      "contextual answer: না\n",
      "generated: না\n"
     ]
    },
    {
     "name": "stderr",
     "output_type": "stream",
     "text": [
      "Processing rows:  55%|███████████████████████████████▋                          | 383/700 [1:06:04<1:13:39, 13.94s/row]"
     ]
    },
    {
     "name": "stdout",
     "output_type": "stream",
     "text": [
      "Target: parametric answer: ব্রাহ্মস্ফুটসিদ্ধান্ত\n",
      "contextual answer: ব্রাহ্মস্ফুটসিদ্ধান্ত\n",
      "generated: ব্রাহ্মস্ফুটসিদ্ধান্ত\n"
     ]
    },
    {
     "name": "stderr",
     "output_type": "stream",
     "text": [
      "Processing rows:  55%|███████████████████████████████▊                          | 384/700 [1:06:18<1:13:21, 13.93s/row]"
     ]
    },
    {
     "name": "stdout",
     "output_type": "stream",
     "text": [
      "Target: parametric answer: গাণিতিক জ্যোতির্বিজ্ঞানের উপর লিখিত একটি পুস্তক\n",
      "contextual answer: গাণিতিক জ্যোতির্বিজ্ঞানের উপর লিখিত একটি পুস্তক\n",
      "generated: ব্রহ্মের সংশোধিত নীতিমালা বা সিদ্ধান্ত\n"
     ]
    },
    {
     "name": "stderr",
     "output_type": "stream",
     "text": [
      "Processing rows:  55%|███████████████████████████████▉                          | 385/700 [1:06:33<1:15:49, 14.44s/row]"
     ]
    },
    {
     "name": "stdout",
     "output_type": "stream",
     "text": [
      "Target: parametric answer: ব্রহ্মগুপ্ত\n",
      "contextual answer: ব্রহ্মগুপ্ত\n",
      "generated: ব্রহ্মগুপ্তের\n"
     ]
    },
    {
     "name": "stderr",
     "output_type": "stream",
     "text": [
      "Processing rows:  55%|███████████████████████████████▉                          | 386/700 [1:06:47<1:14:56, 14.32s/row]"
     ]
    },
    {
     "name": "stdout",
     "output_type": "stream",
     "text": [
      "Target: parametric answer: যে কম্পিউটার একটি রাশিকে অপর একটি রাশির সাপেক্ষে পরিমাপ করতে পারে\n",
      "contextual answer: যে কম্পিউটার একটি রাশিকে অপর একটি রাশির সাপেক্ষে পরিমাপ করতে পারে\n",
      "generated: যে কম্পিউটার একটি রাশিকে অপর একটি রাশির সাপেক্ষে পরিমাপ করতে পারে\n"
     ]
    },
    {
     "name": "stderr",
     "output_type": "stream",
     "text": [
      "Processing rows:  55%|████████████████████████████████▏                         | 388/700 [1:07:03<1:04:02, 12.31s/row]"
     ]
    },
    {
     "name": "stdout",
     "output_type": "stream",
     "text": [
      "Target: parametric answer: দুই\n",
      "contextual answer: দুই\n",
      "generated: দুই\n"
     ]
    },
    {
     "name": "stderr",
     "output_type": "stream",
     "text": [
      "Processing rows:  56%|████████████████████████████████▏                         | 389/700 [1:07:20<1:12:06, 13.91s/row]"
     ]
    },
    {
     "name": "stdout",
     "output_type": "stream",
     "text": [
      "Target: parametric answer: এমন একটি কম্পিউটার যা এনালগ ও ডিজিটাল কম্পিউটারের সর্বোত্তম বৈশিষ্ট্যগুলোর সমন্বয়ে গঠিত\n",
      "contextual answer: এমন একটি কম্পিউটার যা এনালগ ও ডিজিটাল কম্পিউটারের সর্বোত্তম বৈশিষ্ট্যগুলোর সমন্বয়ে গঠিত\n",
      "generated: এনালগ ও ডিজিটাল কম্পিউটারের সর্বোত্তম বৈশিষ্ট্যগুলোর সমন্বয়ে গঠিত\n"
     ]
    },
    {
     "name": "stderr",
     "output_type": "stream",
     "text": [
      "Processing rows:  56%|████████████████████████████████▍                         | 391/700 [1:07:34<1:00:57, 11.84s/row]"
     ]
    },
    {
     "name": "stdout",
     "output_type": "stream",
     "text": [
      "Target: parametric answer: বৈজ্ঞানিক গবেষণায়\n",
      "contextual answer: বৈজ্ঞানিক গবেষণায়\n",
      "generated: বৈজ্ঞানিক গবেষণায়\n"
     ]
    },
    {
     "name": "stderr",
     "output_type": "stream",
     "text": [
      "Processing rows:  56%|████████████████████████████████▍                         | 392/700 [1:07:48<1:03:56, 12.45s/row]"
     ]
    },
    {
     "name": "stdout",
     "output_type": "stream",
     "text": [
      "Target: parametric answer: না\n",
      "contextual answer: না\n",
      "generated: হ্যাঁ\n"
     ]
    },
    {
     "name": "stderr",
     "output_type": "stream",
     "text": [
      "Processing rows:  56%|████████████████████████████████▌                         | 393/700 [1:08:03<1:07:21, 13.16s/row]"
     ]
    },
    {
     "name": "stdout",
     "output_type": "stream",
     "text": [
      "Target: parametric answer: লোভনীয় অফার দিয়ে ক্রেতা টানার কৌশলের কারণে\n",
      "contextual answer: লোভনীয় অফার দিয়ে ক্রেতা টানার কৌশলের কারণে\n",
      "generated: nan\n"
     ]
    },
    {
     "name": "stderr",
     "output_type": "stream",
     "text": [
      "Processing rows:  56%|█████████████████████████████████▊                          | 395/700 [1:08:16<56:51, 11.18s/row]"
     ]
    },
    {
     "name": "stdout",
     "output_type": "stream",
     "text": [
      "Target: parametric answer: ইংরেজি ভাষায়\n",
      "contextual answer: ইংরেজি ভাষায়\n",
      "generated: ইংরেজি\n"
     ]
    },
    {
     "name": "stderr",
     "output_type": "stream",
     "text": [
      "Processing rows:  57%|████████████████████████████████▊                         | 396/700 [1:08:32<1:03:25, 12.52s/row]"
     ]
    },
    {
     "name": "stdout",
     "output_type": "stream",
     "text": [
      "Target: parametric answer: নতুন গ্রাহকদের অর্থ দিয়ে পুরোনো গ্রাহকদের লোভনীয় অফার সম্পন্ন করায়\n",
      "contextual answer: নতুন গ্রাহকদের অর্থ দিয়ে পুরোনো গ্রাহকদের লোভনীয় অফার সম্পন্ন করায়\n",
      "generated: নতুন গ্রাহকদের অর্থ দিয়ে পুরোনো গ্রাহকদের লোভনীয় অফার সম্পন্ন করায়\n"
     ]
    },
    {
     "name": "stderr",
     "output_type": "stream",
     "text": [
      "Processing rows:  57%|████████████████████████████████▉                         | 397/700 [1:08:46<1:05:35, 12.99s/row]"
     ]
    },
    {
     "name": "stdout",
     "output_type": "stream",
     "text": [
      "Target: parametric answer: এস্থার লিডারবার্গ\n",
      "contextual answer: এস্থার লিডারবার্গ\n",
      "generated: এস্থার লিডারবার্গ\n"
     ]
    },
    {
     "name": "stderr",
     "output_type": "stream",
     "text": [
      "Processing rows:  57%|██████████████████████████████████▎                         | 400/700 [1:09:00<52:35, 10.52s/row]"
     ]
    },
    {
     "name": "stdout",
     "output_type": "stream",
     "text": [
      "Target: parametric answer: এদের বিরুদ্ধে রেজিস্টেন্স হওয়ার প্রবণতা অপেক্ষাকৃত কম\n",
      "contextual answer: এদের বিরুদ্ধে রেজিস্টেন্স হওয়ার প্রবণতা অপেক্ষাকৃত কম\n",
      "generated: এদের বিরুদ্ধে রেজিস্টেন্স হওয়ার প্রবণতা অপেক্ষাকৃত কম, কারণ\n"
     ]
    },
    {
     "name": "stderr",
     "output_type": "stream",
     "text": [
      "Processing rows:  57%|██████████████████████████████████▍                         | 402/700 [1:09:18<49:35,  9.99s/row]"
     ]
    },
    {
     "name": "stdout",
     "output_type": "stream",
     "text": [
      "Target: parametric answer: টোপোয়াইসোমারেজ-২\n",
      "contextual answer: টোপোয়াইসোমারেজ-২\n",
      "generated: জাইরেজ একধরনের টোপোয়াইসোমারেজ-২\n"
     ]
    },
    {
     "name": "stderr",
     "output_type": "stream",
     "text": [
      "Processing rows:  58%|██████████████████████████████████▋                         | 405/700 [1:09:34<42:21,  8.62s/row]"
     ]
    },
    {
     "name": "stdout",
     "output_type": "stream",
     "text": [
      "Target: parametric answer: তৃতীয়তম\n",
      "contextual answer: তৃতীয়তম\n",
      "generated: তৃতীয়\n"
     ]
    },
    {
     "name": "stderr",
     "output_type": "stream",
     "text": [
      "Processing rows:  58%|██████████████████████████████████▊                         | 406/700 [1:09:49<52:30, 10.71s/row]"
     ]
    },
    {
     "name": "stdout",
     "output_type": "stream",
     "text": [
      "Target: parametric answer: টিমোথি ডাল্টন\n",
      "contextual answer: টিমোথি ডাল্টন\n",
      "generated: টিমোথি ডাল্টন\n"
     ]
    },
    {
     "name": "stderr",
     "output_type": "stream",
     "text": [
      "Processing rows:  58%|██████████████████████████████████▉                         | 407/700 [1:10:03<57:08, 11.70s/row]"
     ]
    },
    {
     "name": "stdout",
     "output_type": "stream",
     "text": [
      "Target: parametric answer: প্যাকেজ ম্যানেজার প্যাকম্যান\n",
      "contextual answer: প্যাকেজ ম্যানেজার প্যাকম্যান\n",
      "generated: প্যাকেজ ম্যানেজার প্যাকম্যান\n"
     ]
    },
    {
     "name": "stderr",
     "output_type": "stream",
     "text": [
      "Processing rows:  59%|███████████████████████████████████▍                        | 413/700 [1:10:21<43:20,  9.06s/row]"
     ]
    },
    {
     "name": "stdout",
     "output_type": "stream",
     "text": [
      "Target: parametric answer: রোলিং রিলিজ বা চলতি প্রকাশনা নীতি\n",
      "contextual answer: রোলিং রিলিজ বা চলতি প্রকাশনা নীতি\n",
      "generated: রোলিং রিলিজ বা চলতি প্রকাশনা\n"
     ]
    },
    {
     "name": "stderr",
     "output_type": "stream",
     "text": [
      "Processing rows:  59%|███████████████████████████████████▍                        | 414/700 [1:10:39<56:16, 11.80s/row]"
     ]
    },
    {
     "name": "stdout",
     "output_type": "stream",
     "text": [
      "Target: parametric answer: মার্কিন যুক্তরাষ্ট্রের\n",
      "contextual answer: মার্কিন যুক্তরাষ্ট্রের\n",
      "generated: মার্কিন যুক্তরাষ্ট্র\n"
     ]
    },
    {
     "name": "stderr",
     "output_type": "stream",
     "text": [
      "Processing rows:  59%|███████████████████████████████████▋                        | 416/700 [1:10:54<49:56, 10.55s/row]"
     ]
    },
    {
     "name": "stdout",
     "output_type": "stream",
     "text": [
      "Target: parametric answer: ৬০০ এরও বেশি\n",
      "contextual answer: ৬০০ এরও বেশি\n",
      "generated: ৬০০ এরও বেশি\n"
     ]
    },
    {
     "name": "stderr",
     "output_type": "stream",
     "text": [
      "Processing rows:  60%|███████████████████████████████████▋                        | 417/700 [1:11:08<54:39, 11.59s/row]"
     ]
    },
    {
     "name": "stdout",
     "output_type": "stream",
     "text": [
      "Target: parametric answer: প্রকৌশল পাঠ্যক্রম\n",
      "contextual answer: প্রকৌশল পাঠ্যক্রম\n",
      "generated: প্রকৌশল পাঠ্যক্রম\n"
     ]
    },
    {
     "name": "stderr",
     "output_type": "stream",
     "text": [
      "Processing rows:  60%|███████████████████████████████████▊                        | 418/700 [1:11:23<58:59, 12.55s/row]"
     ]
    },
    {
     "name": "stdout",
     "output_type": "stream",
     "text": [
      "Target: parametric answer: ৩৬৫.২৬\n",
      "contextual answer: ৩৬৫.২৬\n",
      "generated: ৩৬৫.২৬\n"
     ]
    },
    {
     "name": "stderr",
     "output_type": "stream",
     "text": [
      "Processing rows:  61%|████████████████████████████████████▌                       | 426/700 [1:11:37<42:31,  9.31s/row]"
     ]
    },
    {
     "name": "stdout",
     "output_type": "stream",
     "text": [
      "Target: parametric answer: ৬৬.১/২\n",
      "contextual answer: ৬৬.১/২\n",
      "generated: ৬৬.১/২\n"
     ]
    },
    {
     "name": "stderr",
     "output_type": "stream",
     "text": [
      "Processing rows:  61%|████████████████████████████████████▌                       | 427/700 [1:11:51<48:50, 10.73s/row]"
     ]
    },
    {
     "name": "stdout",
     "output_type": "stream",
     "text": [
      "Target: parametric answer: পৃথিবী নিজ অক্ষের ৬৬.১/২ ডিগ্রি কোণে হেলে রয়েছে। এর ফলে এক বিষুবীয় বছর (৩৬৫.২৪ সৌরদিন) সময়কালের মধ্যে এই বিশ্বের বুকে ঋতুপরিবর্তন ঘটে থাকে\n",
      "contextual answer: পৃথিবী নিজ অক্ষের ৬৬.১/২ ডিগ্রি কোণে হেলে রয়েছে। এর ফলে এক বিষুবীয় বছর (৩৬৫.২৪ সৌরদিন) সময়কালের মধ্যে এই বিশ্বের বুকে ঋতুপরিবর্তন ঘটে থাকে\n",
      "generated: পৃথিবী নিজ অক্ষের ৬৬.১/২ ডিগ্রি কোণে হেলে রয়েছে\n"
     ]
    },
    {
     "name": "stderr",
     "output_type": "stream",
     "text": [
      "Processing rows:  61%|████████████████████████████████████▋                       | 428/700 [1:12:07<55:42, 12.29s/row]"
     ]
    },
    {
     "name": "stdout",
     "output_type": "stream",
     "text": [
      "Target: parametric answer: ৪.৩৫\n",
      "contextual answer: ৪.৩৫\n",
      "generated: ৪.৩৫\n"
     ]
    },
    {
     "name": "stderr",
     "output_type": "stream",
     "text": [
      "Processing rows:  61%|████████████████████████████████████▊                       | 429/700 [1:12:22<58:28, 12.95s/row]"
     ]
    },
    {
     "name": "stdout",
     "output_type": "stream",
     "text": [
      "Target: parametric answer: ‘পেরিপ্লাস অব দ্য এরিথ্রিয়ান সি’\n",
      "contextual answer: ‘পেরিপ্লাস অব দ্য এরিথ্রিয়ান সি’\n",
      "generated: পেরিপ্লাস অব দ্য এরিথ্রিয়ান সি\n"
     ]
    },
    {
     "name": "stderr",
     "output_type": "stream",
     "text": [
      "Processing rows:  61%|████████████████████████████████████▊                       | 430/700 [1:12:36<59:47, 13.29s/row]"
     ]
    },
    {
     "name": "stdout",
     "output_type": "stream",
     "text": [
      "Target: parametric answer: ৪০ হাত লম্বা ও ২ হাত চাওড়া\n",
      "contextual answer: ৪০ হাত লম্বা ও ২ হাত চাওড়া\n",
      "generated: সূক্ষ্ম ও মিহি\n"
     ]
    },
    {
     "name": "stderr",
     "output_type": "stream",
     "text": [
      "Processing rows:  62%|███████████████████████████████████▋                      | 431/700 [1:12:49<1:00:18, 13.45s/row]"
     ]
    },
    {
     "name": "stdout",
     "output_type": "stream",
     "text": [
      "Target: parametric answer: কিতাবুর রেহালায়'\n",
      "contextual answer: কিতাবুর রেহালায়'\n",
      "generated: কিতাবুর রেহালায়\n"
     ]
    },
    {
     "name": "stderr",
     "output_type": "stream",
     "text": [
      "Processing rows:  62%|███████████████████████████████████▊                      | 432/700 [1:13:06<1:03:40, 14.26s/row]"
     ]
    },
    {
     "name": "stdout",
     "output_type": "stream",
     "text": [
      "Target: parametric answer: ১৭৫৭\n",
      "contextual answer: ১৭৫৭\n",
      "generated: ১৭৫৭ সালে পলাশির যুদ্ধে ইংরেজরা ক্ষমতাকে তাদের হাতে কুক্ষিগত করে ফেললে\n"
     ]
    },
    {
     "name": "stderr",
     "output_type": "stream",
     "text": [
      "Processing rows:  62%|███████████████████████████████████▉                      | 433/700 [1:13:20<1:03:17, 14.22s/row]"
     ]
    },
    {
     "name": "stdout",
     "output_type": "stream",
     "text": [
      "Target: parametric answer: ২০০২ সালের এপ্রিলে\n",
      "contextual answer: ২০০২ সালের এপ্রিলে\n",
      "generated: ২০০২ সালের এপ্রিলে\n"
     ]
    },
    {
     "name": "stderr",
     "output_type": "stream",
     "text": [
      "Processing rows:  62%|█████████████████████████████████████▎                      | 435/700 [1:13:34<53:20, 12.08s/row]"
     ]
    },
    {
     "name": "stdout",
     "output_type": "stream",
     "text": [
      "Target: parametric answer: পাওয়ারপিসি-অনলি\n",
      "contextual answer: পাওয়ারপিসি-অনলি\n",
      "generated: পাওয়ারপিসি-অনলি সফটওয়্যার\n"
     ]
    },
    {
     "name": "stderr",
     "output_type": "stream",
     "text": [
      "Processing rows:  62%|█████████████████████████████████████▍                      | 437/700 [1:13:48<46:13, 10.55s/row]"
     ]
    },
    {
     "name": "stdout",
     "output_type": "stream",
     "text": [
      "Target: parametric answer: ৭০-১৪০\n",
      "contextual answer: ৭০-১৪০\n",
      "generated: ৭০-১৪০\n"
     ]
    },
    {
     "name": "stderr",
     "output_type": "stream",
     "text": [
      "Processing rows:  63%|█████████████████████████████████████▋                      | 440/700 [1:14:02<38:01,  8.78s/row]"
     ]
    },
    {
     "name": "stdout",
     "output_type": "stream",
     "text": [
      "Target: parametric answer: ০.১৬%\n",
      "contextual answer: ০.১৬%\n",
      "generated: ০.১৬%\n"
     ]
    },
    {
     "name": "stderr",
     "output_type": "stream",
     "text": [
      "Processing rows:  63%|█████████████████████████████████████▊                      | 441/700 [1:14:16<45:10, 10.46s/row]"
     ]
    },
    {
     "name": "stdout",
     "output_type": "stream",
     "text": [
      "Target: parametric answer: ০.১৬%\n",
      "contextual answer: ০.৬৬%\n",
      "generated: ০.৬৬%\n"
     ]
    },
    {
     "name": "stderr",
     "output_type": "stream",
     "text": [
      "Processing rows:  63%|█████████████████████████████████████▉                      | 442/700 [1:14:32<51:37, 12.01s/row]"
     ]
    },
    {
     "name": "stdout",
     "output_type": "stream",
     "text": [
      "Target: parametric answer: সায়ানোব্যাকটেরিয়া\n",
      "contextual answer: সায়ানোব্যাকটেরিয়া\n",
      "generated: সায়ানোব্যাকটেরিয়া\n"
     ]
    },
    {
     "name": "stderr",
     "output_type": "stream",
     "text": [
      "Processing rows:  63%|█████████████████████████████████████▉                      | 443/700 [1:14:46<54:55, 12.82s/row]"
     ]
    },
    {
     "name": "stdout",
     "output_type": "stream",
     "text": [
      "Target: parametric answer: নিম্ন অক্ষাংশ বিশিষ্ট\n",
      "contextual answer: নিম্ন অক্ষাংশ বিশিষ্ট\n",
      "generated: নিম্ন অক্ষাংশ বিশিষ্ট\n"
     ]
    },
    {
     "name": "stderr",
     "output_type": "stream",
     "text": [
      "Processing rows:  63%|██████████████████████████████████████                      | 444/700 [1:15:02<57:39, 13.51s/row]"
     ]
    },
    {
     "name": "stdout",
     "output_type": "stream",
     "text": [
      "Target: parametric answer: ১৯৫০এর\n",
      "contextual answer: ১৯৫০এর\n",
      "generated: ১৯৫০\n"
     ]
    },
    {
     "name": "stderr",
     "output_type": "stream",
     "text": [
      "Processing rows:  64%|██████████████████████████████████████▏                     | 446/700 [1:15:16<48:54, 11.55s/row]"
     ]
    },
    {
     "name": "stdout",
     "output_type": "stream",
     "text": [
      "Target: parametric answer: চিনামাটির বাসন\n",
      "contextual answer: চিনামাটির বাসন\n",
      "generated: চিনামাটির বাসন\n"
     ]
    },
    {
     "name": "stderr",
     "output_type": "stream",
     "text": [
      "Processing rows:  64%|██████████████████████████████████████▎                     | 447/700 [1:15:30<52:53, 12.54s/row]"
     ]
    },
    {
     "name": "stdout",
     "output_type": "stream",
     "text": [
      "Target: parametric answer: ময়মনসিংহের বিজয়পুরে\n",
      "contextual answer: ময়মনসিংহের বিজয়পুরে\n",
      "generated: ময়মনসিংহের বিজয়পুরে\n"
     ]
    },
    {
     "name": "stderr",
     "output_type": "stream",
     "text": [
      "Processing rows:  64%|██████████████████████████████████████▍                     | 448/700 [1:15:45<55:40, 13.26s/row]"
     ]
    },
    {
     "name": "stdout",
     "output_type": "stream",
     "text": [
      "Target: parametric answer: ১৮১৬\n",
      "contextual answer: ১৮১৬\n",
      "generated: ১৮১৬\n"
     ]
    },
    {
     "name": "stderr",
     "output_type": "stream",
     "text": [
      "Processing rows:  64%|██████████████████████████████████████▌                     | 450/700 [1:16:00<47:49, 11.48s/row]"
     ]
    },
    {
     "name": "stdout",
     "output_type": "stream",
     "text": [
      "Target: parametric answer: ফরাসি বিরোধী হিসেবে\n",
      "contextual answer: ফরাসি বিরোধী হিসেবে\n",
      "generated: মোটের উপর স্বাদেশিকরূপে এবং সুস্পষ্টভাবেই ফরাসি বিরোধী\n"
     ]
    },
    {
     "name": "stderr",
     "output_type": "stream",
     "text": [
      "Processing rows:  64%|██████████████████████████████████████▋                     | 451/700 [1:16:15<52:30, 12.65s/row]"
     ]
    },
    {
     "name": "stdout",
     "output_type": "stream",
     "text": [
      "Target: parametric answer: ড্রেসডেন ভিত্তিক বন্ধু গ্রাফ ভিৎসজিয়াম ভন ইক্সটেট এর সহায়তায়\n",
      "contextual answer: ড্রেসডেন ভিত্তিক বন্ধু গ্রাফ ভিৎসজিয়াম ভন ইক্সটেট এর সহায়তায়\n",
      "generated: ড্রেসডেন ভিত্তিক বন্ধু গ্রাফ ভিৎসজিয়াম ভন ইক্সটেট এর সহায়তায়\n"
     ]
    },
    {
     "name": "stderr",
     "output_type": "stream",
     "text": [
      "Processing rows:  65%|██████████████████████████████████████▋                     | 452/700 [1:16:30<54:21, 13.15s/row]"
     ]
    },
    {
     "name": "stdout",
     "output_type": "stream",
     "text": [
      "Target: parametric answer: ১৫০ থ্যালার\n",
      "contextual answer: ১৫০ থ্যালার\n",
      "generated: ১৫০ থ্যালারের\n"
     ]
    },
    {
     "name": "stderr",
     "output_type": "stream",
     "text": [
      "Processing rows:  65%|██████████████████████████████████████▊                     | 453/700 [1:16:44<55:10, 13.40s/row]"
     ]
    },
    {
     "name": "stdout",
     "output_type": "stream",
     "text": [
      "Target: parametric answer: পালামনইডা\n",
      "contextual answer: পালামনইডা\n",
      "generated: পালামনইডা'\n"
     ]
    },
    {
     "name": "stderr",
     "output_type": "stream",
     "text": [
      "Processing rows:  65%|███████████████████████████████████████                     | 455/700 [1:16:59<47:50, 11.72s/row]"
     ]
    },
    {
     "name": "stdout",
     "output_type": "stream",
     "text": [
      "Target: parametric answer: রাতে\n",
      "contextual answer: রাতে\n",
      "generated: রাতে\n"
     ]
    },
    {
     "name": "stderr",
     "output_type": "stream",
     "text": [
      "Processing rows:  65%|███████████████████████████████████████▏                    | 457/700 [1:17:13<41:40, 10.29s/row]"
     ]
    },
    {
     "name": "stdout",
     "output_type": "stream",
     "text": [
      "Target: parametric answer: রবার্ট এইচ\n",
      "contextual answer: রবার্ট এইচ\n",
      "generated: রবার্ট এইচ\n"
     ]
    },
    {
     "name": "stderr",
     "output_type": "stream",
     "text": [
      "Processing rows:  66%|███████████████████████████████████████▎                    | 459/700 [1:17:30<38:55,  9.69s/row]"
     ]
    },
    {
     "name": "stdout",
     "output_type": "stream",
     "text": [
      "Target: parametric answer: ০.৫-১.০ টি\n",
      "contextual answer: ০.৫-১.০ টি\n",
      "generated: ০.৫-১.০ টি\n"
     ]
    },
    {
     "name": "stderr",
     "output_type": "stream",
     "text": [
      "Processing rows:  66%|███████████████████████████████████████▍                    | 460/700 [1:17:45<45:39, 11.41s/row]"
     ]
    },
    {
     "name": "stdout",
     "output_type": "stream",
     "text": [
      "Target: parametric answer: পারস্য\n",
      "contextual answer: পারস্য\n",
      "generated: পারস্য\n"
     ]
    },
    {
     "name": "stderr",
     "output_type": "stream",
     "text": [
      "Processing rows:  66%|███████████████████████████████████████▋                    | 463/700 [1:17:59<37:04,  9.39s/row]"
     ]
    },
    {
     "name": "stdout",
     "output_type": "stream",
     "text": [
      "Target: parametric answer: তেলবাহী জাহাজের নিয়মিত চলাচলে প্রায়শঃই তেল নির্গত হয়ে এর জলরাশিকে বিষাক্ত করে তুলছে\n",
      "contextual answer: তেলবাহী জাহাজের নিয়মিত চলাচলে প্রায়শঃই তেল নির্গত হয়ে এর জলরাশিকে বিষাক্ত করে তুলছে\n",
      "generated: তেলবাহী জাহাজের নিয়মিত চলাচলে প্রায়শঃই তেল নির্গত হয়ে\n"
     ]
    },
    {
     "name": "stderr",
     "output_type": "stream",
     "text": [
      "Processing rows:  66%|███████████████████████████████████████▊                    | 464/700 [1:18:15<44:27, 11.30s/row]"
     ]
    },
    {
     "name": "stdout",
     "output_type": "stream",
     "text": [
      "Target: parametric answer: বিশ্ব রাজনৈতিক প্রেক্ষাপটে\n",
      "contextual answer: বিশ্ব রাজনৈতিক প্রেক্ষাপটে\n",
      "generated: বিশ্ব রাজনৈতিক\n"
     ]
    },
    {
     "name": "stderr",
     "output_type": "stream",
     "text": [
      "Processing rows:  66%|███████████████████████████████████████▊                    | 465/700 [1:18:30<49:08, 12.55s/row]"
     ]
    },
    {
     "name": "stdout",
     "output_type": "stream",
     "text": [
      "Target: parametric answer: পারস্য উপসাগর\n",
      "contextual answer: পারস্য উপসাগর\n",
      "generated: পারস্য উপসাগর\n"
     ]
    },
    {
     "name": "stderr",
     "output_type": "stream",
     "text": [
      "Processing rows:  67%|███████████████████████████████████████▉                    | 466/700 [1:18:45<51:55, 13.31s/row]"
     ]
    },
    {
     "name": "stdout",
     "output_type": "stream",
     "text": [
      "Target: parametric answer: কাতার\n",
      "contextual answer: কাতার\n",
      "generated: কাতার\n"
     ]
    },
    {
     "name": "stderr",
     "output_type": "stream",
     "text": [
      "Processing rows:  67%|████████████████████████████████████████                    | 468/700 [1:19:00<44:41, 11.56s/row]"
     ]
    },
    {
     "name": "stdout",
     "output_type": "stream",
     "text": [
      "Target: parametric answer: দোহার ওয়াদি আল সাইলের রেডিও এবং টেলিভিশন কর্পোরেশন কমপ্লেক্সে\n",
      "contextual answer: দোহার ওয়াদি আল সাইলের রেডিও এবং টেলিভিশন কর্পোরেশন কমপ্লেক্সে\n",
      "generated: দোহার ওয়াদি আল সাইলের রেডিও এবং টেলিভিশন কর্পোরেশন কমপ্লেক্সে\n"
     ]
    },
    {
     "name": "stderr",
     "output_type": "stream",
     "text": [
      "Processing rows:  67%|████████████████████████████████████████▏                   | 469/700 [1:19:15<48:23, 12.57s/row]"
     ]
    },
    {
     "name": "stdout",
     "output_type": "stream",
     "text": [
      "Target: parametric answer: আরবি\n",
      "contextual answer: আরবি\n",
      "generated: আরবি\n"
     ]
    },
    {
     "name": "stderr",
     "output_type": "stream",
     "text": [
      "Processing rows:  67%|████████████████████████████████████████▎                   | 470/700 [1:19:29<49:52, 13.01s/row]"
     ]
    },
    {
     "name": "stdout",
     "output_type": "stream",
     "text": [
      "Target: parametric answer: শেখ হামাদ বিন থামির আল থানি\n",
      "contextual answer: শেখ হামাদ বিন থামির আল থানি\n",
      "generated: শেখ হামাদ বিন থামির আল থানি\n"
     ]
    },
    {
     "name": "stderr",
     "output_type": "stream",
     "text": [
      "Processing rows:  67%|████████████████████████████████████████▎                   | 471/700 [1:19:44<51:06, 13.39s/row]"
     ]
    },
    {
     "name": "stdout",
     "output_type": "stream",
     "text": [
      "Target: parametric answer: দুই চাকাবিশিষ্ট গরু বা বলদে টানা একপ্রকার যান বিশেষ\n",
      "contextual answer: দুই চাকাবিশিষ্ট গরু বা বলদে টানা একপ্রকার যান বিশেষ\n",
      "generated: দুই চাকাবিশিষ্ট গরু বা বলদে টানা একপ্রকার যান বিশেষ\n"
     ]
    },
    {
     "name": "stderr",
     "output_type": "stream",
     "text": [
      "Processing rows:  68%|████████████████████████████████████████▌                   | 473/700 [1:19:58<43:31, 11.50s/row]"
     ]
    },
    {
     "name": "stdout",
     "output_type": "stream",
     "text": [
      "Target: parametric answer: মোটরচালিত যানের আধিক্য, অপেক্ষাকৃত ধীর গতির\n",
      "contextual answer: মোটরচালিত যানের আধিক্য, অপেক্ষাকৃত ধীর গতির\n",
      "generated: নানাধরনের মোটরচালিত যানের আধিক্যর কারণে\n"
     ]
    },
    {
     "name": "stderr",
     "output_type": "stream",
     "text": [
      "Processing rows:  68%|████████████████████████████████████████▋                   | 474/700 [1:20:15<49:14, 13.07s/row]"
     ]
    },
    {
     "name": "stdout",
     "output_type": "stream",
     "text": [
      "Target: parametric answer: আল্পস পর্বতের উপত্যকায় একটি গুহায় গরুর গাড়ির যে ছবি পাওয়া যায়\n",
      "contextual answer: আল্পস পর্বতের উপত্যকায় একটি গুহায় গরুর গাড়ির যে ছবি পাওয়া যায়\n",
      "generated: ফ্রান্সের ফঁতান অঞ্চলে আল্পস পর্বতের উপত্যকায় একটি গুহায় গরুর গাড়ির যে ছবি পাওয়া যায়\n"
     ]
    },
    {
     "name": "stderr",
     "output_type": "stream",
     "text": [
      "Processing rows:  68%|████████████████████████████████████████▋                   | 475/700 [1:20:31<52:55, 14.11s/row]"
     ]
    },
    {
     "name": "stdout",
     "output_type": "stream",
     "text": [
      "Target: parametric answer: প্রায় ৯৯%\n",
      "contextual answer: প্রায় ৯৯%\n",
      "generated: ৯৯%\n"
     ]
    },
    {
     "name": "stderr",
     "output_type": "stream",
     "text": [
      "Processing rows:  68%|████████████████████████████████████████▉                   | 478/700 [1:20:45<41:44, 11.28s/row]"
     ]
    },
    {
     "name": "stdout",
     "output_type": "stream",
     "text": [
      "Target: parametric answer: ১৯৮৭\n",
      "contextual answer: ১৯৮৭\n",
      "generated: ১৯৮৭\n"
     ]
    },
    {
     "name": "stderr",
     "output_type": "stream",
     "text": [
      "Processing rows:  68%|█████████████████████████████████████████                   | 479/700 [1:20:59<44:39, 12.12s/row]"
     ]
    },
    {
     "name": "stdout",
     "output_type": "stream",
     "text": [
      "Target: parametric answer: ৪১ ভাষা\n",
      "contextual answer: ৪১ ভাষা\n",
      "generated: ৪১\n"
     ]
    },
    {
     "name": "stderr",
     "output_type": "stream",
     "text": [
      "Processing rows:  69%|█████████████████████████████████████████▏                  | 480/700 [1:21:13<46:37, 12.71s/row]"
     ]
    },
    {
     "name": "stdout",
     "output_type": "stream",
     "text": [
      "Target: parametric answer: ইসলামী শিক্ষা ও বৃত্তির\n",
      "contextual answer: ইসলামী শিক্ষা ও বৃত্তির\n",
      "generated: ইসলামী শিক্ষা ও বৃত্তির\n"
     ]
    },
    {
     "name": "stderr",
     "output_type": "stream",
     "text": [
      "Processing rows:  69%|█████████████████████████████████████████▏                  | 481/700 [1:21:28<48:06, 13.18s/row]"
     ]
    },
    {
     "name": "stdout",
     "output_type": "stream",
     "text": [
      "Target: parametric answer: বাগদাদ\n",
      "contextual answer: বাগদাদ\n",
      "generated: বাগদাদে\n"
     ]
    },
    {
     "name": "stderr",
     "output_type": "stream",
     "text": [
      "Processing rows:  69%|█████████████████████████████████████████▎                  | 482/700 [1:21:44<51:02, 14.05s/row]"
     ]
    },
    {
     "name": "stdout",
     "output_type": "stream",
     "text": [
      "Target: parametric answer: ইরাকের নাজাফ শহরে\n",
      "contextual answer: ইরাকের নাজাফ শহরে\n",
      "generated: নাজাফ\n"
     ]
    },
    {
     "name": "stderr",
     "output_type": "stream",
     "text": [
      "Processing rows:  69%|█████████████████████████████████████████▍                  | 483/700 [1:21:59<52:17, 14.46s/row]"
     ]
    },
    {
     "name": "stdout",
     "output_type": "stream",
     "text": [
      "Target: parametric answer: ইরাকের কুফা শহরে\n",
      "contextual answer: ইরাকের কুফা শহরে\n",
      "generated: ইরাকের কুফা শহরে\n"
     ]
    },
    {
     "name": "stderr",
     "output_type": "stream",
     "text": [
      "Processing rows:  69%|█████████████████████████████████████████▍                  | 484/700 [1:22:13<51:30, 14.31s/row]"
     ]
    },
    {
     "name": "stdout",
     "output_type": "stream",
     "text": [
      "Target: parametric answer: ক্রোম ওএস\n",
      "contextual answer: ক্রোম ওএস\n",
      "generated: ক্রোম ওএস\n"
     ]
    },
    {
     "name": "stderr",
     "output_type": "stream",
     "text": [
      "Processing rows:  69%|█████████████████████████████████████████▋                  | 486/700 [1:22:27<43:11, 12.11s/row]"
     ]
    },
    {
     "name": "stdout",
     "output_type": "stream",
     "text": [
      "Target: parametric answer: গুগলের প্রস্তুতকারক সহযোগীদের\n",
      "contextual answer: গুগলের প্রস্তুতকারক সহযোগীদের\n",
      "generated: গুগলের প্রস্তুতকারক সহযোগীদের\n"
     ]
    },
    {
     "name": "stderr",
     "output_type": "stream",
     "text": [
      "Processing rows:  70%|█████████████████████████████████████████▊                  | 488/700 [1:22:42<37:37, 10.65s/row]"
     ]
    },
    {
     "name": "stdout",
     "output_type": "stream",
     "text": [
      "Target: parametric answer: ইসলাম ও নারীবাদের একটি সমন্বয়\n",
      "contextual answer: ইসলাম ও নারীবাদের একটি সমন্বয়\n",
      "generated: ইসলামি দৃষ্টান্তে একটি নারীবাদী আলোচনা ও চর্চা\n"
     ]
    },
    {
     "name": "stderr",
     "output_type": "stream",
     "text": [
      "Processing rows:  70%|██████████████████████████████████████████                  | 490/700 [1:22:59<35:04, 10.02s/row]"
     ]
    },
    {
     "name": "stdout",
     "output_type": "stream",
     "text": [
      "Target: parametric answer: লন্ডনের সেন্ট জনসে\n",
      "contextual answer: লন্ডনের সেন্ট জনসে\n",
      "generated: লন্ডনের সেন্ট জনসে\n"
     ]
    },
    {
     "name": "stderr",
     "output_type": "stream",
     "text": [
      "Processing rows:  71%|██████████████████████████████████████████▎                 | 494/700 [1:23:13<27:48,  8.10s/row]"
     ]
    },
    {
     "name": "stdout",
     "output_type": "stream",
     "text": [
      "Target: parametric answer: এসচাম সেন্ট ভিনসেন্ট’স প্রিপ্যাটরি স্কুল ও এটনে\n",
      "contextual answer: এসচাম সেন্ট ভিনসেন্ট’স প্রিপ্যাটরি স্কুল ও এটনে\n",
      "generated: এসচাম সেন্ট ভিনসেন্টস প্রিপ্যাটরি স্কুল ও অ্যাটনে\n"
     ]
    },
    {
     "name": "stderr",
     "output_type": "stream",
     "text": [
      "Processing rows:  71%|██████████████████████████████████████████▍                 | 495/700 [1:23:31<37:25, 10.95s/row]"
     ]
    },
    {
     "name": "stdout",
     "output_type": "stream",
     "text": [
      "Target: parametric answer: আইইটিএফ রিকোয়েস্ট ফর কমেন্ট;তাদের কাজের দল;বিস্তারিত ভাবে স্টাইল গাইডস দ্বারা\n",
      "contextual answer: আইইটিএফ রিকোয়েস্ট ফর কমেন্ট;তাদের কাজের দল;বিস্তারিত ভাবে স্টাইল গাইডস দ্বারা\n",
      "generated: তাদের কাজের দল এবং বিস্তৃত ভাবে স্টাইল গাইডস\n"
     ]
    },
    {
     "name": "stderr",
     "output_type": "stream",
     "text": [
      "Processing rows:  71%|██████████████████████████████████████████▋                 | 498/700 [1:23:45<30:46,  9.14s/row]"
     ]
    },
    {
     "name": "stdout",
     "output_type": "stream",
     "text": [
      "Target: parametric answer: ইমেইল\n",
      "contextual answer: ইমেইল\n",
      "generated: ইমেইল\n"
     ]
    },
    {
     "name": "stderr",
     "output_type": "stream",
     "text": [
      "Processing rows:  71%|██████████████████████████████████████████▊                 | 499/700 [1:24:00<36:17, 10.83s/row]"
     ]
    },
    {
     "name": "stdout",
     "output_type": "stream",
     "text": [
      "Target: parametric answer: ১৯৭১\n",
      "contextual answer: ১৯৭১\n",
      "generated: ১৯৭১\n"
     ]
    },
    {
     "name": "stderr",
     "output_type": "stream",
     "text": [
      "Processing rows:  71%|██████████████████████████████████████████▊                 | 500/700 [1:24:16<41:16, 12.38s/row]"
     ]
    },
    {
     "name": "stdout",
     "output_type": "stream",
     "text": [
      "Target: parametric answer: রোমান্ড স্যামুয়েল টমলিসন\n",
      "contextual answer: রোমান্ড স্যামুয়েল টমলিসন\n",
      "generated: আমেরিকার\n"
     ]
    },
    {
     "name": "stderr",
     "output_type": "stream",
     "text": [
      "Processing rows:  72%|██████████████████████████████████████████▉                 | 501/700 [1:24:33<45:35, 13.75s/row]"
     ]
    },
    {
     "name": "stdout",
     "output_type": "stream",
     "text": [
      "Target: parametric answer: রুডল্ফ লুডভিগ কার্ল ফিরখো\n",
      "contextual answer: রুডল্ফ লুডভিগ কার্ল ফিরখো\n",
      "generated: রুডল্ফ লুডভিগ কার্ল ফিরখো\n"
     ]
    },
    {
     "name": "stderr",
     "output_type": "stream",
     "text": [
      "Processing rows:  72%|███████████████████████████████████████████                 | 503/700 [1:24:47<38:28, 11.72s/row]"
     ]
    },
    {
     "name": "stdout",
     "output_type": "stream",
     "text": [
      "Target: parametric answer: পিটার মুলারের অধীনে\n",
      "contextual answer: পিটার মুলারের অধীনে\n",
      "generated: ইয়োহানেস পিটার মুলারের\n"
     ]
    },
    {
     "name": "stderr",
     "output_type": "stream",
     "text": [
      "Processing rows:  72%|███████████████████████████████████████████▎                | 505/700 [1:25:02<33:57, 10.45s/row]"
     ]
    },
    {
     "name": "stdout",
     "output_type": "stream",
     "text": [
      "Target: parametric answer: বিংশ শতাব্দীর শেষভাগে এসে (১৯৮০-র দশকের শুরুতে এসে) সারা বিশ্বে তথ্য ও যোগাযোগ প্রযুক্তির ক্ষেত্রে বিভিন্ন যন্ত্রপাতি ও সরঞ্জামে যান্ত্রিক ও সদৃশ (অ্যানালগ) ইলেকট্রনীয় প্রযুক্তির (যেখানে ধারাবাহিক রৈখিক সংকেতের মাধ্যমে তথ্যের প্রতিনিধিত্ব করা হয়) পরিবর্তে ডিজিটাল (দ্বি-আঙ্কিক) ইলেকট্রনীয় প্রযুক্তি (যেখানে বিচ্ছিন্ন অঙ্ক, মূলত দুইটি অঙ্ক দিয়ে তথ্যের প্রতিনিধিত্ব করা হয়) ব্যবহৃত হওয়া শুরু হয় এবং ২১শ শতকের প্রথম দুই দশকে অব্যাহত থাকে, সেই অসাধারণ রূপান্তরের পর্বটিকে\n",
      "contextual answer: বিংশ শতাব্দীর শেষভাগে এসে (১৯৮০-র দশকের শুরুতে এসে) সারা বিশ্বে তথ্য ও যোগাযোগ প্রযুক্তির ক্ষেত্রে বিভিন্ন যন্ত্রপাতি ও সরঞ্জামে যান্ত্রিক ও সদৃশ (অ্যানালগ) ইলেকট্রনীয় প্রযুক্তির (যেখানে ধারাবাহিক রৈখিক সংকেতের মাধ্যমে তথ্যের প্রতিনিধিত্ব করা হয়) পরিবর্তে ডিজিটাল (দ্বি-আঙ্কিক) ইলেকট্রনীয় প্রযুক্তি (যেখানে বিচ্ছিন্ন অঙ্ক, মূলত দুইটি অঙ্ক দিয়ে তথ্যের প্রতিনিধিত্ব করা হয়) ব্যবহৃত হওয়া শুরু হয় এবং ২১শ শতকের প্রথম দুই দশকে অব্যাহত থাকে, সেই অসাধারণ রূপান্তরের পর্বটিকে\n",
      "generated: বিংশ শতাব্দীর শেষভাগে এসে (১৯৮০-র দশকের শুরুতে এসে) সারা বিশ্বে তথ্য ও যোগাযোগ প্রযুক্তির ক্ষেত্রে বিভিন্ন যন্ত্রপাতি ও সরঞ্জামে যান্ত্রিক ও সদৃশ (অ্যানালগ) ইলেকট্রনীয় প্রযুক্তির (যেখানে ধারাবাহিক রৈখিক সংকেতের মাধ্যমে তথ্যের প্রতিনিধিত্ব করা হয়) পরিবর্তে ডিজিটাল (দ্বি-আঙ্কিক) ইলেকট্রনীয় প্রযুক্তি (যেখানে ধারাবাহিক রৈখিক সংকেতের মাধ্যমে তথ্যের প্রতিনিধিত্ব করা হয়) পরিবর্তে ডিজিটাল (দ্বি-আঙ্কিক) ইলেকট্রনীয় প্রযুক্তি (যেখানে ধারাবাহিক রৈখিক\n"
     ]
    },
    {
     "name": "stderr",
     "output_type": "stream",
     "text": [
      "Processing rows:  73%|███████████████████████████████████████████▌                | 508/700 [1:25:21<29:35,  9.25s/row]"
     ]
    },
    {
     "name": "stdout",
     "output_type": "stream",
     "text": [
      "Target: parametric answer: বিংশ\n",
      "contextual answer: বিংশ\n",
      "generated: বিংশ\n"
     ]
    },
    {
     "name": "stderr",
     "output_type": "stream",
     "text": [
      "Processing rows:  73%|███████████████████████████████████████████▋                | 509/700 [1:25:35<33:57, 10.67s/row]"
     ]
    },
    {
     "name": "stdout",
     "output_type": "stream",
     "text": [
      "Target: parametric answer: ডিজিটাল বিপ্লবের ফলে\n",
      "contextual answer: ডিজিটাল বিপ্লবের ফলে\n",
      "generated: ডিজিটাল বিপ্লবের ফলে\n"
     ]
    },
    {
     "name": "stderr",
     "output_type": "stream",
     "text": [
      "Processing rows:  73%|███████████████████████████████████████████▋                | 510/700 [1:25:50<37:45, 11.92s/row]"
     ]
    },
    {
     "name": "stdout",
     "output_type": "stream",
     "text": [
      "Target: parametric answer: কম্পিউটার; ডিজিটাল মুঠোফোন; বিশ্বব্যাপী কম্পিউটারের আন্তর্জাল বা ইন্টারনেট\n",
      "contextual answer: কম্পিউটার; ডিজিটাল মুঠোফোন; বিশ্বব্যাপী কম্পিউটারের আন্তর্জাল বা ইন্টারনেট\n",
      "generated: ডিজিটাল (দ্বি-আঙ্কিক) যুক্তির বর্তনী, মসফেট ট্রানজিস্টর নামক ইলেকট্রনীয় যন্ত্র\n"
     ]
    },
    {
     "name": "stderr",
     "output_type": "stream",
     "text": [
      "Processing rows:  73%|███████████████████████████████████████████▊                | 511/700 [1:26:06<41:19, 13.12s/row]"
     ]
    },
    {
     "name": "stdout",
     "output_type": "stream",
     "text": [
      "Target: parametric answer: যিরমিয়\n",
      "contextual answer: যিরমিয়\n",
      "generated: যিরমিয়\n"
     ]
    },
    {
     "name": "stderr",
     "output_type": "stream",
     "text": [
      "Processing rows:  73%|███████████████████████████████████████████▉                | 513/700 [1:26:20<35:10, 11.29s/row]"
     ]
    },
    {
     "name": "stdout",
     "output_type": "stream",
     "text": [
      "Target: parametric answer: হিব্রু বাইবেলের মূখ্য নবীদের অন্যতম একজন নবী।\n",
      "contextual answer: হিব্রু বাইবেলের মূখ্য নবীদের অন্যতম একজন নবী।\n",
      "generated: হিব্রু বাইবেলের মূখ্য নবীদের অন্যতম একজন নবী\n"
     ]
    },
    {
     "name": "stderr",
     "output_type": "stream",
     "text": [
      "Processing rows:  73%|████████████████████████████████████████████                | 514/700 [1:26:36<38:43, 12.49s/row]"
     ]
    },
    {
     "name": "stdout",
     "output_type": "stream",
     "text": [
      "Target: parametric answer: ইয়াহওয়েহ\n",
      "contextual answer: ইয়াহওয়েহ\n",
      "generated: ইয়াহওয়েহ\n"
     ]
    },
    {
     "name": "stderr",
     "output_type": "stream",
     "text": [
      "Processing rows:  74%|████████████████████████████████████████████▏               | 515/700 [1:26:50<40:41, 13.20s/row]"
     ]
    },
    {
     "name": "stdout",
     "output_type": "stream",
     "text": [
      "Target: parametric answer: দ্বিতীয় নবী\n",
      "contextual answer: দ্বিতীয় নবী\n",
      "generated: দ্বিতীয়\n"
     ]
    },
    {
     "name": "stderr",
     "output_type": "stream",
     "text": [
      "Processing rows:  74%|████████████████████████████████████████████▏               | 516/700 [1:27:06<42:34, 13.88s/row]"
     ]
    },
    {
     "name": "stdout",
     "output_type": "stream",
     "text": [
      "Target: parametric answer: পাতাল রেল সুড়ঙ্গ যা সাগরের তলদেশ দিয়ে বিস্তৃত\n",
      "contextual answer: পাতাল রেল সুড়ঙ্গ যা সাগরের তলদেশ দিয়ে বিস্তৃত\n",
      "generated: একটি ৫০.৫ কিলোমিটার দীর্ঘ পাতাল রেল সুড়ঙ্গ যা সাগরের তলদেশ দিয়ে বিস্তৃত\n"
     ]
    },
    {
     "name": "stderr",
     "output_type": "stream",
     "text": [
      "Processing rows:  74%|████████████████████████████████████████████▍               | 518/700 [1:27:25<38:11, 12.59s/row]"
     ]
    },
    {
     "name": "stdout",
     "output_type": "stream",
     "text": [
      "Target: parametric answer: সাগরের তলদেশ দিয়ে বিস্তৃত হয়ে\n",
      "contextual answer: সাগরের তলদেশ দিয়ে বিস্তৃত হয়ে\n",
      "generated: nan\n"
     ]
    },
    {
     "name": "stderr",
     "output_type": "stream",
     "text": [
      "Processing rows:  74%|████████████████████████████████████████████▌               | 520/700 [1:27:38<32:22, 10.79s/row]"
     ]
    },
    {
     "name": "stdout",
     "output_type": "stream",
     "text": [
      "Target: parametric answer: ১৯৯৪\n",
      "contextual answer: ১৯৯৪\n",
      "generated: ১৯৯৪\n"
     ]
    },
    {
     "name": "stderr",
     "output_type": "stream",
     "text": [
      "Processing rows:  75%|████████████████████████████████████████████▋               | 522/700 [1:27:52<28:42,  9.68s/row]"
     ]
    },
    {
     "name": "stdout",
     "output_type": "stream",
     "text": [
      "Target: parametric answer: প্রায় ১৬ লক্ষ প্রকৌশলী\n",
      "contextual answer: প্রায় ১৬ লক্ষ প্রকৌশলী\n",
      "generated: ১৬ লক্ষ\n"
     ]
    },
    {
     "name": "stderr",
     "output_type": "stream",
     "text": [
      "Processing rows:  75%|████████████████████████████████████████████▊               | 523/700 [1:28:11<36:18, 12.31s/row]"
     ]
    },
    {
     "name": "stdout",
     "output_type": "stream",
     "text": [
      "Target: parametric answer: ১৫%\n",
      "contextual answer: ১৫%\n",
      "generated: প্রায় ২৩৯০০০\n"
     ]
    },
    {
     "name": "stderr",
     "output_type": "stream",
     "text": [
      "Processing rows:  75%|████████████████████████████████████████████▉               | 524/700 [1:28:25<37:33, 12.81s/row]"
     ]
    },
    {
     "name": "stdout",
     "output_type": "stream",
     "text": [
      "Target: parametric answer: ৫৮,৮০০ মার্কিন ডলার\n",
      "contextual answer: ৫৮,৮০০ মার্কিন ডলার\n",
      "generated: ৭৪,০০০\n"
     ]
    },
    {
     "name": "stderr",
     "output_type": "stream",
     "text": [
      "Processing rows:  75%|█████████████████████████████████████████████               | 525/700 [1:28:40<39:29, 13.54s/row]"
     ]
    },
    {
     "name": "stdout",
     "output_type": "stream",
     "text": [
      "Target: parametric answer: কম্পিউটার নিয়ন্ত্রিত প্রকৌশল ব্যবস্থা ব্যবহার করে\n",
      "contextual answer: কম্পিউটার নিয়ন্ত্রিত প্রকৌশল ব্যবস্থা ব্যবহার করে\n",
      "generated: কম্পিউটার নিয়ন্ত্রিত প্রকৌশল ব্যবস্থা\n"
     ]
    },
    {
     "name": "stderr",
     "output_type": "stream",
     "text": [
      "Processing rows:  75%|█████████████████████████████████████████████               | 526/700 [1:28:55<40:35, 14.00s/row]"
     ]
    },
    {
     "name": "stdout",
     "output_type": "stream",
     "text": [
      "Target: parametric answer: ইন্টারনেটের মাধ্যমে ভোক্তা থেকে ভোক্তা এবং ব্যবসায়ী থেকে ভোক্তাকে বিক্রয় সেবা\n",
      "contextual answer: ইন্টারনেটের মাধ্যমে ভোক্তা থেকে ভোক্তা এবং ব্যবসায়ী থেকে ভোক্তাকে বিক্রয় সেবা\n",
      "generated: ইন্টারনেটের মাধ্যমে ভোক্তা থেকে ভোক্তা এবং ব্যবসায়ী থেকে ভোক্তাকে\n"
     ]
    },
    {
     "name": "stderr",
     "output_type": "stream",
     "text": [
      "Processing rows:  75%|█████████████████████████████████████████████▏              | 527/700 [1:29:09<40:18, 13.98s/row]"
     ]
    },
    {
     "name": "stdout",
     "output_type": "stream",
     "text": [
      "Target: parametric answer: ইবে\n",
      "contextual answer: ইবে\n",
      "generated: ইবে\n"
     ]
    },
    {
     "name": "stderr",
     "output_type": "stream",
     "text": [
      "Processing rows:  75%|█████████████████████████████████████████████▎              | 528/700 [1:29:23<39:59, 13.95s/row]"
     ]
    },
    {
     "name": "stdout",
     "output_type": "stream",
     "text": [
      "Target: parametric answer: ৩০টিরও বেশি দেশে\n",
      "contextual answer: ৩০টিরও বেশি দেশে\n",
      "generated: ৩০টিরও বেশি\n"
     ]
    },
    {
     "name": "stderr",
     "output_type": "stream",
     "text": [
      "Processing rows:  76%|█████████████████████████████████████████████▎              | 529/700 [1:29:37<39:46, 13.96s/row]"
     ]
    },
    {
     "name": "stdout",
     "output_type": "stream",
     "text": [
      "Target: parametric answer: বায়ুচাপ ও ধূলা বাবস্থাপনার জন্য\n",
      "contextual answer: বায়ুচাপ ও ধূলা বাবস্থাপনার জন্য\n",
      "generated: nan\n"
     ]
    },
    {
     "name": "stderr",
     "output_type": "stream",
     "text": [
      "Processing rows:  76%|█████████████████████████████████████████████▌              | 532/700 [1:29:50<31:02, 11.08s/row]"
     ]
    },
    {
     "name": "stdout",
     "output_type": "stream",
     "text": [
      "Target: parametric answer: অক্সিজেন\n",
      "contextual answer: অক্সিজেন\n",
      "generated: অক্সিজেন\n"
     ]
    },
    {
     "name": "stderr",
     "output_type": "stream",
     "text": [
      "Processing rows:  76%|█████████████████████████████████████████████▋              | 533/700 [1:30:05<33:53, 12.18s/row]"
     ]
    },
    {
     "name": "stdout",
     "output_type": "stream",
     "text": [
      "Target: parametric answer: ৪০ ডেসিবেল\n",
      "contextual answer: ৪০ ডেসিবেল\n",
      "generated: ৪০\n"
     ]
    },
    {
     "name": "stderr",
     "output_type": "stream",
     "text": [
      "Processing rows:  76%|█████████████████████████████████████████████▊              | 535/700 [1:30:19<29:15, 10.64s/row]"
     ]
    },
    {
     "name": "stdout",
     "output_type": "stream",
     "text": [
      "Target: parametric answer: ৭৫ ডেসিবেলের\n",
      "contextual answer: ৭৫ ডেসিবেলের\n",
      "generated: ৭৫\n"
     ]
    },
    {
     "name": "stderr",
     "output_type": "stream",
     "text": [
      "Processing rows:  77%|██████████████████████████████████████████████              | 537/700 [1:30:35<26:41,  9.82s/row]"
     ]
    },
    {
     "name": "stdout",
     "output_type": "stream",
     "text": [
      "Target: parametric answer: সরল বিদ্যুৎচালিত যন্ত্র\n",
      "contextual answer: সরল বিদ্যুৎচালিত যন্ত্র\n",
      "generated: সরল বিদ্যুৎচালিত\n"
     ]
    },
    {
     "name": "stderr",
     "output_type": "stream",
     "text": [
      "Processing rows:  77%|██████████████████████████████████████████████              | 538/700 [1:30:49<30:29, 11.29s/row]"
     ]
    },
    {
     "name": "stdout",
     "output_type": "stream",
     "text": [
      "Target: parametric answer: রাজনীতি হলো দলীয় বা নির্দিষ্ট ব্যক্তিবর্গের মধ্যে ক্ষমতার সম্পর্কের ক্ষেত্রে সিদ্ধান্ত গ্রহণ বিষয়ক কর্মকাণ্ডের সমষ্টি\n",
      "contextual answer: রাজনীতি হলো দলীয় বা নির্দিষ্ট ব্যক্তিবর্গের মধ্যে ক্ষমতার সম্পর্কের ক্ষেত্রে সিদ্ধান্ত গ্রহণ বিষয়ক কর্মকাণ্ডের সমষ্টি\n",
      "generated: দলীয় বা নির্দিষ্ট ব্যক্তিবর্গের মধ্যে ক্ষমতার সম্পর্কের ক্ষেত্রে সিদ্ধান্ত গ্রহণ বিষয়ক কর্মকাণ্ডের সমষ্টি\n"
     ]
    },
    {
     "name": "stderr",
     "output_type": "stream",
     "text": [
      "Processing rows:  77%|██████████████████████████████████████████████▏             | 539/700 [1:31:05<33:46, 12.59s/row]"
     ]
    },
    {
     "name": "stdout",
     "output_type": "stream",
     "text": [
      "Target: parametric answer: রাজনীতিবিজ্ঞান বা রাষ্ট্রবিজ্ঞান\n",
      "contextual answer: রাজনীতিবিজ্ঞান বা রাষ্ট্রবিজ্ঞান\n",
      "generated: রাজনীতিবিজ্ঞান বা রাষ্ট্রবিজ্ঞান\n"
     ]
    },
    {
     "name": "stderr",
     "output_type": "stream",
     "text": [
      "Processing rows:  77%|██████████████████████████████████████████████▎             | 541/700 [1:31:20<29:11, 11.01s/row]"
     ]
    },
    {
     "name": "stdout",
     "output_type": "stream",
     "text": [
      "Target: parametric answer: রাজনীতি নিয়ে গবেষণা করা\n",
      "contextual answer: রাজনীতি নিয়ে গবেষণা করা\n",
      "generated: রাজনীতি নিয়ে গবেষণা করা\n"
     ]
    },
    {
     "name": "stderr",
     "output_type": "stream",
     "text": [
      "Processing rows:  77%|██████████████████████████████████████████████▍             | 542/700 [1:31:34<31:49, 12.08s/row]"
     ]
    },
    {
     "name": "stdout",
     "output_type": "stream",
     "text": [
      "Target: parametric answer: পটসডামের গোলম\n",
      "contextual answer: পটসডামের গোলম\n",
      "generated: পটসডামের গোলম\n"
     ]
    },
    {
     "name": "stderr",
     "output_type": "stream",
     "text": [
      "Processing rows:  78%|██████████████████████████████████████████████▋             | 545/700 [1:31:49<25:33,  9.89s/row]"
     ]
    },
    {
     "name": "stdout",
     "output_type": "stream",
     "text": [
      "Target: parametric answer: ২০০২\n",
      "contextual answer: ২০০২\n",
      "generated: ২০০২\n"
     ]
    },
    {
     "name": "stderr",
     "output_type": "stream",
     "text": [
      "Processing rows:  78%|██████████████████████████████████████████████▊             | 546/700 [1:32:03<28:42, 11.19s/row]"
     ]
    },
    {
     "name": "stdout",
     "output_type": "stream",
     "text": [
      "Target: parametric answer: এএমপির\n",
      "contextual answer: এএমপির\n",
      "generated: এএমপি\n"
     ]
    },
    {
     "name": "stderr",
     "output_type": "stream",
     "text": [
      "Processing rows:  78%|██████████████████████████████████████████████▉             | 548/700 [1:32:17<25:11,  9.94s/row]"
     ]
    },
    {
     "name": "stdout",
     "output_type": "stream",
     "text": [
      "Target: parametric answer: অর্থায়ন\n",
      "contextual answer: অর্থায়ন\n",
      "generated: অর্থায়ন\n"
     ]
    },
    {
     "name": "stderr",
     "output_type": "stream",
     "text": [
      "Processing rows:  78%|███████████████████████████████████████████████             | 549/700 [1:32:31<28:06, 11.17s/row]"
     ]
    },
    {
     "name": "stdout",
     "output_type": "stream",
     "text": [
      "Target: parametric answer: $৫০০ বিলিয়ন\n",
      "contextual answer: $৫০০ বিলিয়ন\n",
      "generated: $৫০০ বিলিয়ন\n"
     ]
    },
    {
     "name": "stderr",
     "output_type": "stream",
     "text": [
      "Processing rows:  79%|███████████████████████████████████████████████▏            | 550/700 [1:32:45<30:01, 12.01s/row]"
     ]
    },
    {
     "name": "stdout",
     "output_type": "stream",
     "text": [
      "Target: parametric answer: মহাকাশ পর্যটন\n",
      "contextual answer: মহাকাশ পর্যটন\n",
      "generated: মহাকাশ পর্যটন\n",
      "Error processing row: 500 Internal error encountered.\n"
     ]
    },
    {
     "name": "stderr",
     "output_type": "stream",
     "text": [
      "Processing rows:  79%|███████████████████████████████████████████████▏            | 551/700 [1:32:58<30:59, 12.48s/row]"
     ]
    },
    {
     "name": "stdout",
     "output_type": "stream",
     "text": [
      "Target: parametric answer: মহাকাশ পর্যটনের\n",
      "contextual answer: মহাকাশ পর্যটনের\n",
      "generated: মহাকাশ পর্যটনের\n"
     ]
    },
    {
     "name": "stderr",
     "output_type": "stream",
     "text": [
      "Processing rows:  79%|███████████████████████████████████████████████▎            | 552/700 [1:33:21<38:00, 15.41s/row]"
     ]
    },
    {
     "name": "stdout",
     "output_type": "stream",
     "text": [
      "Target: parametric answer: বস্তুটির অভিকর্ষের কারণে\n",
      "contextual answer: বস্তুটির অভিকর্ষের কারণে\n",
      "generated: বস্তুটির অভিকর্ষের\n"
     ]
    },
    {
     "name": "stderr",
     "output_type": "stream",
     "text": [
      "Processing rows:  79%|███████████████████████████████████████████████▌            | 555/700 [1:33:36<29:49, 12.34s/row]"
     ]
    },
    {
     "name": "stdout",
     "output_type": "stream",
     "text": [
      "Target: parametric answer: মধ্যাকর্ষণ শক্তি দ্বারা\n",
      "contextual answer: মধ্যাকর্ষণ শক্তি দ্বারা\n",
      "generated: মধ্যাকর্ষণ শক্তি\n"
     ]
    },
    {
     "name": "stderr",
     "output_type": "stream",
     "text": [
      "Processing rows:  80%|███████████████████████████████████████████████▋            | 557/700 [1:33:51<26:00, 10.91s/row]"
     ]
    },
    {
     "name": "stdout",
     "output_type": "stream",
     "text": [
      "Target: parametric answer: ১০১.৩২৫\n",
      "contextual answer: ১০১.৩২৫\n",
      "generated: ১০১.৩২৫\n"
     ]
    },
    {
     "name": "stderr",
     "output_type": "stream",
     "text": [
      "Processing rows:  80%|███████████████████████████████████████████████▊            | 558/700 [1:34:06<28:17, 11.96s/row]"
     ]
    },
    {
     "name": "stdout",
     "output_type": "stream",
     "text": [
      "Target: parametric answer: পূর্ব পাকিস্তানের বৃহত্তম রাজনৈতিক দল আওয়ামী লীগ\n",
      "contextual answer: পূর্ব পাকিস্তানের বৃহত্তম রাজনৈতিক দল আওয়ামী লীগ\n",
      "generated: শেখ মুজিবুর রহমানের নেতৃত্বে পূর্ব পাকিস্তানের বৃহত্তম রাজনৈতিক দল আওয়ামী লীগ\n"
     ]
    },
    {
     "name": "stderr",
     "output_type": "stream",
     "text": [
      "Processing rows:  80%|███████████████████████████████████████████████▉            | 559/700 [1:34:23<32:04, 13.65s/row]"
     ]
    },
    {
     "name": "stdout",
     "output_type": "stream",
     "text": [
      "Target: parametric answer: ১৬৭টি\n",
      "contextual answer: ১৬৭টি\n",
      "generated: ১৬৭ আসনে\n"
     ]
    },
    {
     "name": "stderr",
     "output_type": "stream",
     "text": [
      "Processing rows:  80%|████████████████████████████████████████████████            | 560/700 [1:34:39<32:55, 14.11s/row]"
     ]
    },
    {
     "name": "stdout",
     "output_type": "stream",
     "text": [
      "Target: parametric answer: পাকিস্তান পিপলস‌ পার্টি\n",
      "contextual answer: পাকিস্তান পিপলস‌ পার্টি\n",
      "generated: পাকিস্তান পিপলস পার্টির\n"
     ]
    },
    {
     "name": "stderr",
     "output_type": "stream",
     "text": [
      "Processing rows:  80%|████████████████████████████████████████████████            | 561/700 [1:34:53<33:03, 14.27s/row]"
     ]
    },
    {
     "name": "stdout",
     "output_type": "stream",
     "text": [
      "Target: parametric answer: যে \"রুশম্যান\" এজেন্ট নাতাশা রোমানফ এবং হাওয়ার্ড স্টার্ক একজন এস.এইচ.আই.ই.এল.ডি. প্রতিষ্ঠাতা যাকে ফিউরি ব্যক্তিগতভাবে জানতেন\n",
      "contextual answer: যে \"রুশম্যান\" এজেন্ট নাতাশা রোমানফ এবং হাওয়ার্ড স্টার্ক একজন এস.এইচ.আই.ই.এল.ডি. প্রতিষ্ঠাতা যাকে ফিউরি ব্যক্তিগতভাবে জানতেন\n",
      "generated: রুশম্যান\" এজেন্ট নাতাশা রোমানফ এবং হাওয়ার্ড স্টার্ক\n"
     ]
    },
    {
     "name": "stderr",
     "output_type": "stream",
     "text": [
      "Processing rows:  81%|████████████████████████████████████████████████▎           | 564/700 [1:35:09<26:16, 11.59s/row]"
     ]
    },
    {
     "name": "stdout",
     "output_type": "stream",
     "text": [
      "Target: parametric answer: ভানকোর বাবা এবং স্টার্ক\n",
      "contextual answer: ভানকোর বাবা এবং স্টার্ক\n",
      "generated: ভানকোর বাবা এবং স্টার্ক\n"
     ]
    },
    {
     "name": "stderr",
     "output_type": "stream",
     "text": [
      "Processing rows:  81%|████████████████████████████████████████████████▍           | 565/700 [1:35:24<28:30, 12.67s/row]"
     ]
    },
    {
     "name": "stdout",
     "output_type": "stream",
     "text": [
      "Target: parametric answer: গুলাগে\n",
      "contextual answer: গুলাগে\n",
      "generated: গুলাগে\n"
     ]
    },
    {
     "name": "stderr",
     "output_type": "stream",
     "text": [
      "Processing rows:  81%|████████████████████████████████████████████████▌           | 566/700 [1:35:39<29:21, 13.15s/row]"
     ]
    },
    {
     "name": "stdout",
     "output_type": "stream",
     "text": [
      "Target: parametric answer: মার্কিন\n",
      "contextual answer: মার্কিন\n",
      "generated: মার্কিন\n"
     ]
    },
    {
     "name": "stderr",
     "output_type": "stream",
     "text": [
      "Processing rows:  81%|████████████████████████████████████████████████▌           | 567/700 [1:35:54<30:25, 13.72s/row]"
     ]
    },
    {
     "name": "stdout",
     "output_type": "stream",
     "text": [
      "Target: parametric answer: ২০০৬\n",
      "contextual answer: ২০০৬\n",
      "generated: ২০০৬\n"
     ]
    },
    {
     "name": "stderr",
     "output_type": "stream",
     "text": [
      "Processing rows:  81%|████████████████████████████████████████████████▋           | 568/700 [1:36:08<30:24, 13.82s/row]"
     ]
    },
    {
     "name": "stdout",
     "output_type": "stream",
     "text": [
      "Target: parametric answer: অর্থনীতিতে\n",
      "contextual answer: অর্থনীতিতে\n",
      "generated: অর্থনীতিতে\n"
     ]
    },
    {
     "name": "stderr",
     "output_type": "stream",
     "text": [
      "Processing rows:  81%|████████████████████████████████████████████████▊           | 569/700 [1:36:22<30:33, 13.99s/row]"
     ]
    },
    {
     "name": "stdout",
     "output_type": "stream",
     "text": [
      "Target: parametric answer: আজকাবান থেকে\n",
      "contextual answer: আজকাবান থেকে\n",
      "generated: আজকাবান\n"
     ]
    },
    {
     "name": "stderr",
     "output_type": "stream",
     "text": [
      "Processing rows:  82%|████████████████████████████████████████████████▉           | 571/700 [1:36:38<26:08, 12.16s/row]"
     ]
    },
    {
     "name": "stdout",
     "output_type": "stream",
     "text": [
      "Target: parametric answer: ডিমেন্টরদের\n",
      "contextual answer: ডিমেন্টরদের\n",
      "generated: ডিমেন্টরদের\n"
     ]
    },
    {
     "name": "stderr",
     "output_type": "stream",
     "text": [
      "Processing rows:  82%|█████████████████████████████████████████████████           | 572/700 [1:36:52<27:06, 12.71s/row]"
     ]
    },
    {
     "name": "stdout",
     "output_type": "stream",
     "text": [
      "Target: parametric answer: তার মন্ত্রক-অনুমোদিত টাইম-টার্নারটি ব্যবহার করে তিন ঘণ্টা সময় পিছিয়ে গিয়ে\n",
      "contextual answer: তার মন্ত্রক-অনুমোদিত টাইম-টার্নারটি ব্যবহার করে তিন ঘণ্টা সময় পিছিয়ে গিয়ে\n",
      "generated: তিন ঘণ্টা সময় পিছিয়ে গিয়ে\n"
     ]
    },
    {
     "name": "stderr",
     "output_type": "stream",
     "text": [
      "Processing rows:  82%|█████████████████████████████████████████████████▏          | 574/700 [1:37:07<23:24, 11.14s/row]"
     ]
    },
    {
     "name": "stdout",
     "output_type": "stream",
     "text": [
      "Target: parametric answer: শহরাঞ্চলে প্রচলিত উচ্চক্ষমতাসম্পন্ন ও দ্রুতগামী বৈদ্যুতিক যাত্রীবাহী রেলব্যবস্থাকে বোঝায়\n",
      "contextual answer: শহরাঞ্চলে প্রচলিত উচ্চক্ষমতাসম্পন্ন ও দ্রুতগামী বৈদ্যুতিক যাত্রীবাহী রেলব্যবস্থাকে বোঝায়\n",
      "generated: শহরাঞ্চলে প্রচলিত উচ্চক্ষমতাসম্পন্ন ও দ্রুতগামী বৈদ্যুতিক যাত্রীবাহী রেলব্যবস্থাকে\n"
     ]
    },
    {
     "name": "stderr",
     "output_type": "stream",
     "text": [
      "Processing rows:  82%|█████████████████████████████████████████████████▎          | 575/700 [1:37:21<24:58, 11.99s/row]"
     ]
    },
    {
     "name": "stdout",
     "output_type": "stream",
     "text": [
      "Target: parametric answer: স্তর-পৃথকীকৃত ভূসমতলস্থিত\n",
      "contextual answer: স্তর-পৃথকীকৃত ভূসমতলস্থিত\n",
      "generated: স্তর-পৃথকীকৃত ভূসমতলস্থিত\n"
     ]
    },
    {
     "name": "stderr",
     "output_type": "stream",
     "text": [
      "Processing rows:  82%|█████████████████████████████████████████████████▎          | 576/700 [1:37:36<26:27, 12.80s/row]"
     ]
    },
    {
     "name": "stdout",
     "output_type": "stream",
     "text": [
      "Target: parametric answer: শহরের বাইরে\n",
      "contextual answer: শহরের বাইরে\n",
      "generated: সড়কপথের সমতলে\n"
     ]
    },
    {
     "name": "stderr",
     "output_type": "stream",
     "text": [
      "Processing rows:  82%|█████████████████████████████████████████████████▍          | 577/700 [1:37:51<27:49, 13.57s/row]"
     ]
    },
    {
     "name": "stdout",
     "output_type": "stream",
     "text": [
      "Target: parametric answer: শেষ তুষারযুগে বিভিন্ন শীতসহিষ্ণু উদ্ভিদ এবং প্রাণী প্রজাতি (যেমন নরওয়ে স্প্রুস এবং নরওয়েজিয়ান লেমিংস) ইউরোপের আল্পসের উত্তরে বরফ-মুক্ত মাইক্রোরেফুজিয়াতে উপস্থিত ছিল\n",
      "contextual answer: শেষ তুষারযুগে বিভিন্ন শীতসহিষ্ণু উদ্ভিদ এবং প্রাণী প্রজাতি (যেমন নরওয়ে স্প্রুস এবং নরওয়েজিয়ান লেমিংস) ইউরোপের আল্পসের উত্তরে বরফ-মুক্ত মাইক্রোরেফুজিয়াতে উপস্থিত ছিল\n",
      "generated: শেষ তুষারযুগে বিভিন্ন শীতসহিষ্ণু উদ্ভিদ এবং প্রাণী প্রজাতি (যেমন নরওয়ে স্প্রুস এবং নরওয়েজিয়ান লেমিংস) ইউরোপের আল্পসের উত্তরে বরফ-মুক্ত মাইক্রোরেফুজিয়াতে উপস্থিত ছিল বলে ধারণা করা হয়\n"
     ]
    },
    {
     "name": "stderr",
     "output_type": "stream",
     "text": [
      "Processing rows:  83%|█████████████████████████████████████████████████▋          | 579/700 [1:38:05<23:24, 11.61s/row]"
     ]
    },
    {
     "name": "stdout",
     "output_type": "stream",
     "text": [
      "Target: parametric answer: তুষারাবৃত অঞ্চলগুলোতে সব প্রজাতি বিলুপ্ত হয়েছিলো এবং দক্ষিণে সীমান্তবর্তী রেফুজিয়াতে যারা বেচে ছিলো যারা তুষার যুগের পর খালি অঞ্চলগুলোতে স্থানান্তরিত হয়েছিলো\n",
      "contextual answer: তুষারাবৃত অঞ্চলগুলোতে সব প্রজাতি বিলুপ্ত হয়েছিলো এবং দক্ষিণে সীমান্তবর্তী রেফুজিয়াতে যারা বেচে ছিলো যারা তুষার যুগের পর খালি অঞ্চলগুলোতে স্থানান্তরিত হয়েছিলো\n",
      "generated: ইউরোপের দক্ষিণাঞ্চলীয় রেফুজিয়া (দক্ষিণে রেফুজিয়া উদাহরণ) থেকে তুষারযুগ পরবর্তী অভিবাসন বিষয়ক বিকল্প আরেকটি হাইপোথিসিস\n"
     ]
    },
    {
     "name": "stderr",
     "output_type": "stream",
     "text": [
      "Processing rows:  83%|█████████████████████████████████████████████████▊          | 581/700 [1:38:23<21:27, 10.82s/row]"
     ]
    },
    {
     "name": "stdout",
     "output_type": "stream",
     "text": [
      "Target: parametric answer: ১.৫ ভোল্টের নামমাত্র ভোল্টেজ\n",
      "contextual answer: ১.৫ ভোল্টের নামমাত্র ভোল্টেজ\n",
      "generated: ১.৫ ভোল্টের\n"
     ]
    },
    {
     "name": "stderr",
     "output_type": "stream",
     "text": [
      "Processing rows:  83%|██████████████████████████████████████████████████          | 584/700 [1:38:41<18:02,  9.33s/row]"
     ]
    },
    {
     "name": "stdout",
     "output_type": "stream",
     "text": [
      "Target: parametric answer: অ্যামোনিয়াম ক্লোরাইড; ম্যাঙ্গানিজ ডাই অক্সাইড সমন্বিত অন্য একটি পেস্ট\n",
      "contextual answer: অ্যামোনিয়াম ক্লোরাইড; ম্যাঙ্গানিজ ডাই অক্সাইড সমন্বিত অন্য একটি পেস্ট\n",
      "generated: একটি পেস্ট\n"
     ]
    },
    {
     "name": "stderr",
     "output_type": "stream",
     "text": [
      "Processing rows:  84%|██████████████████████████████████████████████████▏         | 585/700 [1:38:57<21:48, 11.38s/row]"
     ]
    },
    {
     "name": "stdout",
     "output_type": "stream",
     "text": [
      "Target: parametric answer: সাধারণত নলাকার পাত্রের আকারের একটি দস্তা অ্যানোড; একটি কেন্দ্রীয় দণ্ড আকারের কার্বন ক্যাথোড\n",
      "contextual answer: সাধারণত নলাকার পাত্রের আকারের একটি দস্তা অ্যানোড; একটি কেন্দ্রীয় দণ্ড আকারের কার্বন ক্যাথোড\n",
      "generated: কার্বন ক্যাথোড\n"
     ]
    },
    {
     "name": "stderr",
     "output_type": "stream",
     "text": [
      "Processing rows:  84%|██████████████████████████████████████████████████▏         | 586/700 [1:39:14<24:46, 13.04s/row]"
     ]
    },
    {
     "name": "stdout",
     "output_type": "stream",
     "text": [
      "Target: parametric answer: ই-বাণিজ্য সাইট\n",
      "contextual answer: ই-বাণিজ্য সাইট\n",
      "generated: অনলাইনভিত্তিক পণ্য কেনার ওয়েবসাইট\n"
     ]
    },
    {
     "name": "stderr",
     "output_type": "stream",
     "text": [
      "Processing rows:  84%|██████████████████████████████████████████████████▍         | 589/700 [1:39:33<20:23, 11.02s/row]"
     ]
    },
    {
     "name": "stdout",
     "output_type": "stream",
     "text": [
      "Target: parametric answer: ২০১২\n",
      "contextual answer: ২০১২\n",
      "generated: ২০১২\n"
     ]
    },
    {
     "name": "stderr",
     "output_type": "stream",
     "text": [
      "Processing rows:  84%|██████████████████████████████████████████████████▋         | 591/700 [1:39:47<17:50,  9.82s/row]"
     ]
    },
    {
     "name": "stdout",
     "output_type": "stream",
     "text": [
      "Target: parametric answer: মুঘল সম্রাট হুমায়ুন\n",
      "contextual answer: মুঘল সম্রাট হুমায়ুন\n",
      "generated: শেখ আবদুল খালিক\n"
     ]
    },
    {
     "name": "stderr",
     "output_type": "stream",
     "text": [
      "Processing rows:  85%|██████████████████████████████████████████████████▋         | 592/700 [1:40:01<19:57, 11.09s/row]"
     ]
    },
    {
     "name": "stdout",
     "output_type": "stream",
     "text": [
      "Target: parametric answer: মুঘলদের\n",
      "contextual answer: মুঘলদের\n",
      "generated: মুঘলদের\n"
     ]
    },
    {
     "name": "stderr",
     "output_type": "stream",
     "text": [
      "Processing rows:  85%|██████████████████████████████████████████████████▊         | 593/700 [1:40:15<21:32, 12.08s/row]"
     ]
    },
    {
     "name": "stdout",
     "output_type": "stream",
     "text": [
      "Target: parametric answer: চারটি\n",
      "contextual answer: চারটি\n",
      "generated: চারটি\n"
     ]
    },
    {
     "name": "stderr",
     "output_type": "stream",
     "text": [
      "Processing rows:  85%|██████████████████████████████████████████████████▉         | 594/700 [1:40:30<22:43, 12.86s/row]"
     ]
    },
    {
     "name": "stdout",
     "output_type": "stream",
     "text": [
      "Target: parametric answer: আবদুল গফুর জনসাধারণের সাথে তার খাবার ভাগ করে নেওয়ার অনুমতি পান\n",
      "contextual answer: আবদুল গফুর জনসাধারণের সাথে তার খাবার ভাগ করে নেওয়ার অনুমতি পান\n",
      "generated: nan\n"
     ]
    },
    {
     "name": "stderr",
     "output_type": "stream",
     "text": [
      "Processing rows:  85%|███████████████████████████████████████████████████         | 595/700 [1:40:43<22:38, 12.94s/row]"
     ]
    },
    {
     "name": "stdout",
     "output_type": "stream",
     "text": [
      "Target: parametric answer: ৮ই মার্চ\n",
      "contextual answer: ৮ই মার্চ\n",
      "generated: ৮ই মার্চ\n"
     ]
    },
    {
     "name": "stderr",
     "output_type": "stream",
     "text": [
      "Processing rows:  85%|███████████████████████████████████████████████████▏        | 597/700 [1:40:57<19:08, 11.15s/row]"
     ]
    },
    {
     "name": "stdout",
     "output_type": "stream",
     "text": [
      "Target: parametric answer: না\n",
      "contextual answer: না\n",
      "generated: না\n"
     ]
    },
    {
     "name": "stderr",
     "output_type": "stream",
     "text": [
      "Processing rows:  85%|███████████████████████████████████████████████████▎        | 598/700 [1:41:12<20:48, 12.24s/row]"
     ]
    },
    {
     "name": "stdout",
     "output_type": "stream",
     "text": [
      "Target: parametric answer: রয়াল থাই নৌবাহিনী মালয়েশিয়ার পক্ষ থেকে অনুরোধ পেয়ে\n",
      "contextual answer: রয়াল থাই নৌবাহিনী মালয়েশিয়ার পক্ষ থেকে অনুরোধ পেয়ে\n",
      "generated: রয়াল থাই নৌবাহিনী মালয়েশিয়ার পক্ষ থেকে অনুরোধ পেয়ে\n"
     ]
    },
    {
     "name": "stderr",
     "output_type": "stream",
     "text": [
      "Processing rows:  86%|███████████████████████████████████████████████████▍        | 600/700 [1:41:26<17:46, 10.67s/row]"
     ]
    },
    {
     "name": "stdout",
     "output_type": "stream",
     "text": [
      "Target: parametric answer: ১৯৭৭\n",
      "contextual answer: ১৯৭৭\n",
      "generated: ১৯৭৭\n"
     ]
    },
    {
     "name": "stderr",
     "output_type": "stream",
     "text": [
      "Processing rows:  86%|███████████████████████████████████████████████████▌        | 601/700 [1:41:40<19:14, 11.66s/row]"
     ]
    },
    {
     "name": "stdout",
     "output_type": "stream",
     "text": [
      "Target: parametric answer: সংরক্ষণশীল দলগুলোর সমালোচনা এবং শিক্ষা প্রতিষ্ঠানগুলোতে থাকা নারীদের মধ্যে বিদ্যমান সাদা বর্ণের অস্তিত্ববাদী এবং বিপরীত লিঙ্গের জন্য ভিন্ন ভিন্ন সূবিধার বিষয়গুলো নিয়ে নারী আন্দোলনের সাথে জড়িত নারীদের উদ্বিগ্নতার কারণে\n",
      "contextual answer: সংরক্ষণশীল দলগুলোর সমালোচনা এবং শিক্ষা প্রতিষ্ঠানগুলোতে থাকা নারীদের মধ্যে বিদ্যমান সাদা বর্ণের অস্তিত্ববাদী এবং বিপরীত লিঙ্গের জন্য ভিন্ন ভিন্ন সূবিধার বিষয়গুলো নিয়ে নারী আন্দোলনের সাথে জড়িত নারীদের উদ্বিগ্নতার কারণে\n",
      "generated: সংরক্ষণশীল দলগুলোর সমালোচনা এবং শিক্ষা প্রতিষ্ঠানগুলোতে থাকা নারীদের মধ্যে বিদ্যমান সাদা বর্ণের অস্তিত্ববাদী এবং বিপরীত লিঙ্গের জন্য ভিন্ন ভিন্ন সূবিধার বিষয়গুলো নিয়ে নারী আন্দোলনের সাথে জড়িত নারীদের উদ্বেগের কারণে\n"
     ]
    },
    {
     "name": "stderr",
     "output_type": "stream",
     "text": [
      "Processing rows:  86%|███████████████████████████████████████████████████▌        | 602/700 [1:41:55<21:04, 12.90s/row]"
     ]
    },
    {
     "name": "stdout",
     "output_type": "stream",
     "text": [
      "Target: parametric answer: “নারী” -এর ধারণা বর্ধিত হতে থাকায়, লিঙ্গের সামাজিক গঠন আবিষ্কারের ফলে\n",
      "contextual answer: “নারী” -এর ধারণা বর্ধিত হতে থাকায়, লিঙ্গের সামাজিক গঠন আবিষ্কারের ফলে\n",
      "generated: নারী -এর ধারণা বর্ধিত হতে থাকায়, লিঙ্গের সামাজিক গঠন আবিষ্কারের ফলে\n"
     ]
    },
    {
     "name": "stderr",
     "output_type": "stream",
     "text": [
      "Processing rows:  86%|███████████████████████████████████████████████████▋        | 603/700 [1:42:11<22:00, 13.62s/row]"
     ]
    },
    {
     "name": "stdout",
     "output_type": "stream",
     "text": [
      "Target: parametric answer: অধ্যাপকের বিকেন্দ্রীকরণ\n",
      "contextual answer: অধ্যাপকের বিকেন্দ্রীকরণ\n",
      "generated: অধ্যাপকের বিকেন্দ্রীকরণ\n"
     ]
    },
    {
     "name": "stderr",
     "output_type": "stream",
     "text": [
      "Processing rows:  86%|███████████████████████████████████████████████████▊        | 605/700 [1:42:26<18:36, 11.75s/row]"
     ]
    },
    {
     "name": "stdout",
     "output_type": "stream",
     "text": [
      "Target: parametric answer: সামাজিক পরিবর্তন আনার এবং সমাজে বিদ্যুতের বৈষম্য সম্পর্কে কিছু করার জন্য\n",
      "contextual answer: সামাজিক পরিবর্তন আনার এবং সমাজে বিদ্যুতের বৈষম্য সম্পর্কে কিছু করার জন্য\n",
      "generated: সামাজিক পরিবর্তন আনার এবং সমাজে বিদ্যুতের বৈষম্য সম্পর্কে কিছু করার শক্তি\n"
     ]
    },
    {
     "name": "stderr",
     "output_type": "stream",
     "text": [
      "Processing rows:  87%|███████████████████████████████████████████████████▉        | 606/700 [1:42:43<20:52, 13.33s/row]"
     ]
    },
    {
     "name": "stdout",
     "output_type": "stream",
     "text": [
      "Target: parametric answer: কোকো\n",
      "contextual answer: কোকো\n",
      "generated: হারকিন-এঙ্গেল প্রটোকল\n"
     ]
    },
    {
     "name": "stderr",
     "output_type": "stream",
     "text": [
      "Processing rows:  87%|████████████████████████████████████████████████████        | 608/700 [1:42:58<17:47, 11.61s/row]"
     ]
    },
    {
     "name": "stdout",
     "output_type": "stream",
     "text": [
      "Target: parametric answer: সেপ্টেম্বর ২০০১\n",
      "contextual answer: সেপ্টেম্বর ২০০১\n",
      "generated: সেপ্টেম্বর ২০০১\n"
     ]
    },
    {
     "name": "stderr",
     "output_type": "stream",
     "text": [
      "Processing rows:  87%|████████████████████████████████████████████████████▏       | 609/700 [1:43:13<19:09, 12.63s/row]"
     ]
    },
    {
     "name": "stdout",
     "output_type": "stream",
     "text": [
      "Target: parametric answer: না\n",
      "contextual answer: না\n",
      "generated: না\n"
     ]
    },
    {
     "name": "stderr",
     "output_type": "stream",
     "text": [
      "Processing rows:  87%|████████████████████████████████████████████████████▎       | 610/700 [1:43:30<21:01, 14.02s/row]"
     ]
    },
    {
     "name": "stdout",
     "output_type": "stream",
     "text": [
      "Target: parametric answer: ঢাকা মেট্রোপলিটন পুলিশ স্পেশাল উইপন্স অ্যান্ড ট্যাকটিক্স টিম\n",
      "contextual answer: ঢাকা মেট্রোপলিটন পুলিশ স্পেশাল উইপন্স অ্যান্ড ট্যাকটিক্স টিম\n",
      "generated: ঢাকা মেট্রোপলিটন পুলিশ স্পেশাল উইপন্স অ্যান্ড ট্যাকটিক্স টিম\n"
     ]
    },
    {
     "name": "stderr",
     "output_type": "stream",
     "text": [
      "Processing rows:  88%|████████████████████████████████████████████████████▋       | 614/700 [1:43:46<15:48, 11.03s/row]"
     ]
    },
    {
     "name": "stdout",
     "output_type": "stream",
     "text": [
      "Target: parametric answer: ১৯৬০ এবং ১৯৭০ এর দশকে\n",
      "contextual answer: ১৯৬০ এবং ১৯৭০ এর দশকে\n",
      "generated: ১৯৬০ এবং ১৯৭০ এর দশকে\n"
     ]
    },
    {
     "name": "stderr",
     "output_type": "stream",
     "text": [
      "Processing rows:  88%|████████████████████████████████████████████████████▉       | 617/700 [1:44:01<12:44,  9.22s/row]"
     ]
    },
    {
     "name": "stdout",
     "output_type": "stream",
     "text": [
      "Target: parametric answer: বিহারে\n",
      "contextual answer: বিহারে\n",
      "generated: বিহারে\n"
     ]
    },
    {
     "name": "stderr",
     "output_type": "stream",
     "text": [
      "Processing rows:  88%|████████████████████████████████████████████████████▉       | 618/700 [1:44:15<14:35, 10.68s/row]"
     ]
    },
    {
     "name": "stdout",
     "output_type": "stream",
     "text": [
      "Target: parametric answer: ডঃ জগন্নাথ মিশ্র\n",
      "contextual answer: ডঃ জগন্নাথ মিশ্র\n",
      "generated: ডঃ জগন্নাথ মিশ্র\n"
     ]
    },
    {
     "name": "stderr",
     "output_type": "stream",
     "text": [
      "Processing rows:  88%|█████████████████████████████████████████████████████       | 619/700 [1:44:29<15:43, 11.65s/row]"
     ]
    },
    {
     "name": "stdout",
     "output_type": "stream",
     "text": [
      "Target: parametric answer: ভারতীয় পন্ডিতরা\n",
      "contextual answer: ভারতীয় পন্ডিতরা\n",
      "generated: ভারতীয় পন্ডিতরা\n"
     ]
    },
    {
     "name": "stderr",
     "output_type": "stream",
     "text": [
      "Processing rows:  89%|█████████████████████████████████████████████████████▏      | 620/700 [1:44:44<16:50, 12.63s/row]"
     ]
    },
    {
     "name": "stdout",
     "output_type": "stream",
     "text": [
      "Target: parametric answer: কানুন মাসুউদী\n",
      "contextual answer: কানুন মাসুউদী\n",
      "generated: কানুন মাসুউদী\n"
     ]
    },
    {
     "name": "stderr",
     "output_type": "stream",
     "text": [
      "Processing rows:  89%|█████████████████████████████████████████████████████▏      | 621/700 [1:44:59<17:39, 13.41s/row]"
     ]
    },
    {
     "name": "stdout",
     "output_type": "stream",
     "text": [
      "Target: parametric answer: ১১\n",
      "contextual answer: ১১\n",
      "generated: ১১\n"
     ]
    },
    {
     "name": "stderr",
     "output_type": "stream",
     "text": [
      "Processing rows:  89%|█████████████████████████████████████████████████████▎      | 622/700 [1:45:13<17:40, 13.60s/row]"
     ]
    },
    {
     "name": "stdout",
     "output_type": "stream",
     "text": [
      "Target: parametric answer: সিস্টেমটিকে হালনাগাদ রাখতে ব্যবহারকারীকে পুরো সিস্টেমটি পুনরায় ইন্সটল করতে হয় না\n",
      "contextual answer: সিস্টেমটিকে হালনাগাদ রাখতে ব্যবহারকারীকে পুরো সিস্টেমটি পুনরায় ইন্সটল করতে হয় না\n",
      "generated: সিস্টেমটিকে হালনাগাদ রাখতে ব্যবহারকারীকে পুরো সিস্টেমটি পুনরায় ইন্সটল করতে হয় না\n"
     ]
    },
    {
     "name": "stderr",
     "output_type": "stream",
     "text": [
      "Processing rows:  89%|█████████████████████████████████████████████████████▌      | 625/700 [1:45:27<13:38, 10.92s/row]"
     ]
    },
    {
     "name": "stdout",
     "output_type": "stream",
     "text": [
      "Target: parametric answer: বক্সিট\n",
      "contextual answer: বক্সিট\n",
      "generated: বক্সিট\n"
     ]
    },
    {
     "name": "stderr",
     "output_type": "stream",
     "text": [
      "Processing rows:  89%|█████████████████████████████████████████████████████▋      | 626/700 [1:45:41<14:36, 11.84s/row]"
     ]
    },
    {
     "name": "stdout",
     "output_type": "stream",
     "text": [
      "Target: parametric answer: ২০১৭\n",
      "contextual answer: ২০১৭\n",
      "generated: nan\n"
     ]
    },
    {
     "name": "stderr",
     "output_type": "stream",
     "text": [
      "Processing rows:  90%|█████████████████████████████████████████████████████▋      | 627/700 [1:45:54<14:52, 12.22s/row]"
     ]
    },
    {
     "name": "stdout",
     "output_type": "stream",
     "text": [
      "Target: parametric answer: একটি কমান্ড-লাইন নেট ইন্সটলার যা ব্যবহারকারীকে ইন্সটলের সময় নিজস্ব কার্নেল সংস্করণ, ড্রাইভার এবং ডেস্কটপ পরিবেশ নির্বাচনের সুযোগ প্রদান করে\n",
      "contextual answer: একটি কমান্ড-লাইন নেট ইন্সটলার যা ব্যবহারকারীকে ইন্সটলের সময় নিজস্ব কার্নেল সংস্করণ, ড্রাইভার এবং ডেস্কটপ পরিবেশ নির্বাচনের সুযোগ প্রদান করে\n",
      "generated: একটি কমান্ড-লাইন নেট ইন্সটলার যা ব্যবহারকারীকে ইন্সটলের সময় নিজস্ব কার্নেল সংস্করণ, ড্রাইভার এবং ডেস্কটপ পরিবেশ নির্বাচনের সুযোগ প্রদান করে\n"
     ]
    },
    {
     "name": "stderr",
     "output_type": "stream",
     "text": [
      "Processing rows:  90%|█████████████████████████████████████████████████████▊      | 628/700 [1:46:08<15:17, 12.75s/row]"
     ]
    },
    {
     "name": "stdout",
     "output_type": "stream",
     "text": [
      "Target: parametric answer: খালেদা খানম পুতুল\n",
      "contextual answer: খালেদা খানম পুতুল\n",
      "generated: খালেদা খানম পুতুল\n"
     ]
    },
    {
     "name": "stderr",
     "output_type": "stream",
     "text": [
      "Processing rows:  90%|██████████████████████████████████████████████████████      | 630/700 [1:46:23<12:52, 11.03s/row]"
     ]
    },
    {
     "name": "stdout",
     "output_type": "stream",
     "text": [
      "Target: parametric answer: ১৯৬০\n",
      "contextual answer: ১৯৬০\n",
      "generated: ১৯৬০\n"
     ]
    },
    {
     "name": "stderr",
     "output_type": "stream",
     "text": [
      "Processing rows:  90%|██████████████████████████████████████████████████████▏     | 632/700 [1:46:37<11:09,  9.84s/row]"
     ]
    },
    {
     "name": "stdout",
     "output_type": "stream",
     "text": [
      "Target: parametric answer: তার নিজ শহর সিরাকিউজের প্রয়োজন মেটানোর জন্য\n",
      "contextual answer: তার নিজ শহর সিরাকিউজের প্রয়োজন মেটানোর জন্য\n",
      "generated: তার নিজ শহর সিরাকিউজের প্রয়োজন মেটানো\n"
     ]
    },
    {
     "name": "stderr",
     "output_type": "stream",
     "text": [
      "Processing rows:  91%|██████████████████████████████████████████████████████▎     | 634/700 [1:46:51<09:53,  9.00s/row]"
     ]
    },
    {
     "name": "stdout",
     "output_type": "stream",
     "text": [
      "Target: parametric answer: সিরাকিউসা\n",
      "contextual answer: সিরাকিউসা\n",
      "generated: সিরাকিউজের\n"
     ]
    },
    {
     "name": "stderr",
     "output_type": "stream",
     "text": [
      "Processing rows:  91%|██████████████████████████████████████████████████████▍     | 635/700 [1:47:07<12:02, 11.12s/row]"
     ]
    },
    {
     "name": "stdout",
     "output_type": "stream",
     "text": [
      "Target: parametric answer: রাজা দ্বিতীয় হিয়েরোর জন্য\n",
      "contextual answer: রাজা দ্বিতীয় হিয়েরোর জন্য\n",
      "generated: রাজা দ্বিতীয় হিয়েরোর\n"
     ]
    },
    {
     "name": "stderr",
     "output_type": "stream",
     "text": [
      "Processing rows:  91%|██████████████████████████████████████████████████████▌     | 636/700 [1:47:22<13:19, 12.49s/row]"
     ]
    },
    {
     "name": "stdout",
     "output_type": "stream",
     "text": [
      "Target: parametric answer: লি ফক\n",
      "contextual answer: লি ফক\n",
      "generated: লি ফক\n"
     ]
    },
    {
     "name": "stderr",
     "output_type": "stream",
     "text": [
      "Processing rows:  91%|██████████████████████████████████████████████████████▊     | 639/700 [1:47:36<10:18, 10.15s/row]"
     ]
    },
    {
     "name": "stdout",
     "output_type": "stream",
     "text": [
      "Target: parametric answer: ১৯৩৪\n",
      "contextual answer: ১৯৩৪\n",
      "generated: nan\n"
     ]
    },
    {
     "name": "stderr",
     "output_type": "stream",
     "text": [
      "Processing rows:  91%|██████████████████████████████████████████████████████▊     | 640/700 [1:47:50<11:02, 11.04s/row]"
     ]
    },
    {
     "name": "stdout",
     "output_type": "stream",
     "text": [
      "Target: parametric answer: বিখ্যাত জাদুকর লিওন ম্যানড্রেক\n",
      "contextual answer: বিখ্যাত জাদুকর লিওন ম্যানড্রেক\n",
      "generated: বিখ্যাত জাদুকর লিওন ম্যানড্রেক\n"
     ]
    },
    {
     "name": "stderr",
     "output_type": "stream",
     "text": [
      "Processing rows:  92%|██████████████████████████████████████████████████████▉     | 641/700 [1:48:04<11:43, 11.93s/row]"
     ]
    },
    {
     "name": "stdout",
     "output_type": "stream",
     "text": [
      "Target: parametric answer: দুটি\n",
      "contextual answer: দুটি\n",
      "generated: দুটি\n"
     ]
    },
    {
     "name": "stderr",
     "output_type": "stream",
     "text": [
      "Processing rows:  92%|███████████████████████████████████████████████████████     | 642/700 [1:48:18<12:07, 12.55s/row]"
     ]
    },
    {
     "name": "stdout",
     "output_type": "stream",
     "text": [
      "Target: parametric answer: জিম উইন্সলো\n",
      "contextual answer: জিম উইন্সলো\n",
      "generated: জিম উইন্সলো\n"
     ]
    },
    {
     "name": "stderr",
     "output_type": "stream",
     "text": [
      "Processing rows:  92%|███████████████████████████████████████████████████████▏    | 644/700 [1:48:32<10:17, 11.02s/row]"
     ]
    },
    {
     "name": "stdout",
     "output_type": "stream",
     "text": [
      "Target: parametric answer: খেলা শুরু হওয়ার আগে প্রতি খেলোয়াড় গোপণে তার ভাগের রাজা বাদে যে কোন একটি গুটিতে একটি লাল বিন্দু আটকে দেন\n",
      "contextual answer: খেলা শুরু হওয়ার আগে প্রতি খেলোয়াড় গোপণে তার ভাগের রাজা বাদে যে কোন একটি গুটিতে একটি লাল বিন্দু আটকে দেন\n",
      "generated: বোমা বাহক\n"
     ]
    },
    {
     "name": "stderr",
     "output_type": "stream",
     "text": [
      "Processing rows:  92%|███████████████████████████████████████████████████████▎    | 645/700 [1:48:48<11:18, 12.33s/row]"
     ]
    },
    {
     "name": "stdout",
     "output_type": "stream",
     "text": [
      "Target: parametric answer: রাজা বাদে যে একটি গুটিতে একটি লাল বিন্দু আটকানো\n",
      "contextual answer: রাজা বাদে যে একটি গুটিতে একটি লাল বিন্দু আটকানো\n",
      "generated: খেলা শুরু হওয়ার আগে প্রতি খেলোয়াড় গোপণে তার ভাগের রাজা বাদে যে কোন একটি গুটিতে একটি লাল বিন্দু আটকে দেন\n"
     ]
    },
    {
     "name": "stderr",
     "output_type": "stream",
     "text": [
      "Processing rows:  92%|███████████████████████████████████████████████████████▎    | 646/700 [1:49:04<12:04, 13.41s/row]"
     ]
    },
    {
     "name": "stdout",
     "output_type": "stream",
     "text": [
      "Target: parametric answer: বিভিন্ন উচু পর্বতের শিখরে আরোহণের চেষ্টা থেকে\n",
      "contextual answer: বিভিন্ন উচু পর্বতের শিখরে আরোহণের চেষ্টা থেকে\n",
      "generated: বিভিন্ন উচু পর্বতের শিখরে আরোহণের চেষ্টা থেকে\n"
     ]
    },
    {
     "name": "stderr",
     "output_type": "stream",
     "text": [
      "Processing rows:  93%|███████████████████████████████████████████████████████▌    | 648/700 [1:49:18<10:02, 11.58s/row]"
     ]
    },
    {
     "name": "stdout",
     "output_type": "stream",
     "text": [
      "Target: parametric answer: পর্বতের পৃষ্ঠের উপর\n",
      "contextual answer: পর্বতের পৃষ্ঠের উপর\n",
      "generated: পর্বতের পৃষ্ঠের উপর\n"
     ]
    },
    {
     "name": "stderr",
     "output_type": "stream",
     "text": [
      "Processing rows:  93%|███████████████████████████████████████████████████████▋    | 649/700 [1:49:32<10:28, 12.32s/row]"
     ]
    },
    {
     "name": "stdout",
     "output_type": "stream",
     "text": [
      "Target: parametric answer: ঊনবিংশ\n",
      "contextual answer: ঊনবিংশ\n",
      "generated: ঊনবিংশ\n"
     ]
    },
    {
     "name": "stderr",
     "output_type": "stream",
     "text": [
      "Processing rows:  93%|███████████████████████████████████████████████████████▋    | 650/700 [1:49:46<10:40, 12.82s/row]"
     ]
    },
    {
     "name": "stdout",
     "output_type": "stream",
     "text": [
      "Target: parametric answer: আর্জেন্টিনা\n",
      "contextual answer: আর্জেন্টিনা\n",
      "generated: আর্জেন্টিনায়\n"
     ]
    },
    {
     "name": "stderr",
     "output_type": "stream",
     "text": [
      "Processing rows:  93%|███████████████████████████████████████████████████████▉    | 652/700 [1:50:02<09:04, 11.34s/row]"
     ]
    },
    {
     "name": "stdout",
     "output_type": "stream",
     "text": [
      "Target: parametric answer: রাগবি খেলার ক্ষিপ্রতার জন্য\n",
      "contextual answer: রাগবি খেলার ক্ষিপ্রতার জন্য\n",
      "generated: রাগবি খেলার ক্ষিপ্রতার জন্য\n"
     ]
    },
    {
     "name": "stderr",
     "output_type": "stream",
     "text": [
      "Processing rows:  94%|████████████████████████████████████████████████████████▏   | 655/700 [1:50:16<06:59,  9.33s/row]"
     ]
    },
    {
     "name": "stdout",
     "output_type": "stream",
     "text": [
      "Target: parametric answer: কেবল কিছু উৎসাহী ব্যক্তিই\n",
      "contextual answer: কেবল কিছু উৎসাহী ব্যক্তিই\n",
      "generated: কেবল কিছু উৎসাহী ব্যক্তি\n"
     ]
    },
    {
     "name": "stderr",
     "output_type": "stream",
     "text": [
      "Processing rows:  94%|████████████████████████████████████████████████████████▎   | 657/700 [1:50:32<06:21,  8.88s/row]"
     ]
    },
    {
     "name": "stdout",
     "output_type": "stream",
     "text": [
      "Target: parametric answer: ইন্টেল ৩৮৬\n",
      "contextual answer: ইন্টেল ৩৮৬\n",
      "generated: ৩৮৬\n"
     ]
    },
    {
     "name": "stderr",
     "output_type": "stream",
     "text": [
      "Processing rows:  94%|████████████████████████████████████████████████████████▍   | 658/700 [1:50:46<07:16, 10.40s/row]"
     ]
    },
    {
     "name": "stdout",
     "output_type": "stream",
     "text": [
      "Target: parametric answer: প্রাণনাশক ভ্রূণের অস্বাভাবিকতার ক্ষেত্রে গর্ভ সমাপ্তি\n",
      "contextual answer: প্রাণনাশক ভ্রূণের অস্বাভাবিকতার ক্ষেত্রে গর্ভ সমাপ্তি\n",
      "generated: প্রাণনাশক ভ্রূণের অস্বাভাবিকতার ক্ষেত্রে গর্ভ সমাপ্তি\n"
     ]
    },
    {
     "name": "stderr",
     "output_type": "stream",
     "text": [
      "Processing rows:  94%|████████████████████████████████████████████████████████▋   | 661/700 [1:51:00<05:38,  8.68s/row]"
     ]
    },
    {
     "name": "stdout",
     "output_type": "stream",
     "text": [
      "Target: parametric answer: গর্ভপাত আইন নিয়ে আলোচনা করার জন্য\n",
      "contextual answer: গর্ভপাত আইন নিয়ে আলোচনা করার জন্য\n",
      "generated: আয়ারল্যান্ডের গর্ভপাত আইন নিয়ে আলোচনা করার জন্য\n"
     ]
    },
    {
     "name": "stderr",
     "output_type": "stream",
     "text": [
      "Processing rows:  95%|████████████████████████████████████████████████████████▊   | 663/700 [1:51:15<05:10,  8.39s/row]"
     ]
    },
    {
     "name": "stdout",
     "output_type": "stream",
     "text": [
      "Target: parametric answer: প্রাণনাশক অস্বাভাবিক ভ্রূণ নির্ণয় করা গেছে এমন শিশুদের পিতামাতার জন্য একটি অনুরূপ সমর্থন / প্রচারণা গোষ্ঠী\n",
      "contextual answer: প্রাণনাশক অস্বাভাবিক ভ্রূণ নির্ণয় করা গেছে এমন শিশুদের পিতামাতার জন্য একটি অনুরূপ সমর্থন / প্রচারণা গোষ্ঠী\n",
      "generated: প্রাণনাশক অস্বাভাবিক ভ্রূণ নির্ণয় করা গেছে এমন শিশুদের পিতামাতার জন্য একটি অনুরূপ সমর্থন / প্রচারণা গোষ্ঠী\n"
     ]
    },
    {
     "name": "stderr",
     "output_type": "stream",
     "text": [
      "Processing rows:  95%|████████████████████████████████████████████████████████▉   | 664/700 [1:51:29<06:03, 10.09s/row]"
     ]
    },
    {
     "name": "stdout",
     "output_type": "stream",
     "text": [
      "Target: parametric answer: ডেফার্ট\n",
      "contextual answer: ডেফার্ট\n",
      "generated: ডেফার্ট\n"
     ]
    },
    {
     "name": "stderr",
     "output_type": "stream",
     "text": [
      "Processing rows:  95%|█████████████████████████████████████████████████████████   | 666/700 [1:51:43<05:11,  9.16s/row]"
     ]
    },
    {
     "name": "stdout",
     "output_type": "stream",
     "text": [
      "Target: parametric answer: ১৯৬৫\n",
      "contextual answer: ১৯৬৫\n",
      "generated: ১৯৬৫\n"
     ]
    },
    {
     "name": "stderr",
     "output_type": "stream",
     "text": [
      "Processing rows:  95%|█████████████████████████████████████████████████████████▏  | 667/700 [1:51:58<06:00, 10.92s/row]"
     ]
    },
    {
     "name": "stdout",
     "output_type": "stream",
     "text": [
      "Target: parametric answer: ১৯৬৬\n",
      "contextual answer: ১৯৬৬\n",
      "generated: ১৯৬৬\n"
     ]
    },
    {
     "name": "stderr",
     "output_type": "stream",
     "text": [
      "Processing rows:  95%|█████████████████████████████████████████████████████████▎  | 668/700 [1:52:14<06:31, 12.24s/row]"
     ]
    },
    {
     "name": "stdout",
     "output_type": "stream",
     "text": [
      "Target: parametric answer: ১৯৬৮\n",
      "contextual answer: ১৯৬৮\n",
      "generated: ১৯৬৮\n"
     ]
    },
    {
     "name": "stderr",
     "output_type": "stream",
     "text": [
      "Processing rows:  96%|█████████████████████████████████████████████████████████▎  | 669/700 [1:52:28<06:42, 12.97s/row]"
     ]
    },
    {
     "name": "stdout",
     "output_type": "stream",
     "text": [
      "Target: parametric answer: ডাক আদান-প্রদানভিত্তিক\n",
      "contextual answer: ডাক আদান-প্রদানভিত্তিক\n",
      "generated: ডাক আদান-প্রদানভিত্তিক\n"
     ]
    },
    {
     "name": "stderr",
     "output_type": "stream",
     "text": [
      "Processing rows:  96%|█████████████████████████████████████████████████████████▌  | 671/700 [1:52:44<05:33, 11.51s/row]"
     ]
    },
    {
     "name": "stdout",
     "output_type": "stream",
     "text": [
      "Target: parametric answer: ১০,০০০ কিলোমিটার\n",
      "contextual answer: ১০,০০০ কিলোমিটার\n",
      "generated: ১০,০০০ কিলোমিটার\n"
     ]
    },
    {
     "name": "stderr",
     "output_type": "stream",
     "text": [
      "Processing rows:  96%|█████████████████████████████████████████████████████████▌  | 672/700 [1:52:59<05:50, 12.52s/row]"
     ]
    },
    {
     "name": "stdout",
     "output_type": "stream",
     "text": [
      "Target: parametric answer: ২,৮৯১ কিলোমিটার রেলপথ\n",
      "contextual answer: ২,৮৯১ কিলোমিটার রেলপথ\n",
      "generated: ২,৮৯১\n"
     ]
    },
    {
     "name": "stderr",
     "output_type": "stream",
     "text": [
      "Processing rows:  96%|█████████████████████████████████████████████████████████▋  | 673/700 [1:53:15<06:01, 13.40s/row]"
     ]
    },
    {
     "name": "stdout",
     "output_type": "stream",
     "text": [
      "Target: parametric answer: ৮,৯০০ কিলোমিটার নৌপথ\n",
      "contextual answer: ৮,৯০০ কিলোমিটার নৌপথ\n",
      "generated: ৮,৯০০ কিলোমিটার\n"
     ]
    },
    {
     "name": "stderr",
     "output_type": "stream",
     "text": [
      "Processing rows:  96%|█████████████████████████████████████████████████████████▊  | 674/700 [1:53:29<05:53, 13.58s/row]"
     ]
    },
    {
     "name": "stdout",
     "output_type": "stream",
     "text": [
      "Target: parametric answer: তিন\n",
      "contextual answer: তিন\n",
      "generated: তিন\n"
     ]
    },
    {
     "name": "stderr",
     "output_type": "stream",
     "text": [
      "Processing rows:  97%|█████████████████████████████████████████████████████████▉  | 676/700 [1:53:44<04:41, 11.75s/row]"
     ]
    },
    {
     "name": "stdout",
     "output_type": "stream",
     "text": [
      "Target: parametric answer: আইন ৪০-এর\n",
      "contextual answer: আইন ৪০-এর\n",
      "generated: ৪০\n"
     ]
    },
    {
     "name": "stderr",
     "output_type": "stream",
     "text": [
      "Processing rows:  97%|██████████████████████████████████████████████████████████  | 677/700 [1:53:58<04:45, 12.43s/row]"
     ]
    },
    {
     "name": "stdout",
     "output_type": "stream",
     "text": [
      "Target: parametric answer: না\n",
      "contextual answer: না\n",
      "generated: না\n"
     ]
    },
    {
     "name": "stderr",
     "output_type": "stream",
     "text": [
      "Processing rows:  97%|██████████████████████████████████████████████████████████  | 678/700 [1:54:13<04:49, 13.14s/row]"
     ]
    },
    {
     "name": "stdout",
     "output_type": "stream",
     "text": [
      "Target: parametric answer: সবচেয়ে খারাপ ব্যাটসম্যানটিকে\n",
      "contextual answer: সবচেয়ে খারাপ ব্যাটসম্যানটিকে\n",
      "generated: সবচেয়ে খারাপ ব্যাটসম্যানটিকে\n"
     ]
    },
    {
     "name": "stderr",
     "output_type": "stream",
     "text": [
      "Processing rows:  97%|██████████████████████████████████████████████████████████▎ | 680/700 [1:54:26<03:45, 11.28s/row]"
     ]
    },
    {
     "name": "stdout",
     "output_type": "stream",
     "text": [
      "Target: parametric answer: ১৯৮৬\n",
      "contextual answer: ১৯৮৬\n",
      "generated: ১৯৮৬\n"
     ]
    },
    {
     "name": "stderr",
     "output_type": "stream",
     "text": [
      "Processing rows:  97%|██████████████████████████████████████████████████████████▎ | 681/700 [1:54:40<03:50, 12.11s/row]"
     ]
    },
    {
     "name": "stdout",
     "output_type": "stream",
     "text": [
      "Target: parametric answer: চেরনোবিল বিদ্যুৎ কেন্দ্র পরিদর্শনকারী অতিথিদের জন্য\n",
      "contextual answer: চেরনোবিল বিদ্যুৎ কেন্দ্র পরিদর্শনকারী অতিথিদের জন্য\n",
      "generated: ১৯৭০-এর দশকের মাঝামাঝি সময়ে চেরনোবিল বিদ্যুৎ কেন্দ্র পরিদর্শনকারী অতিথিদের\n"
     ]
    },
    {
     "name": "stderr",
     "output_type": "stream",
     "text": [
      "Processing rows:  97%|██████████████████████████████████████████████████████████▍ | 682/700 [1:54:57<04:00, 13.38s/row]"
     ]
    },
    {
     "name": "stdout",
     "output_type": "stream",
     "text": [
      "Target: parametric answer: কল অব ডিউটি ৪: মডার্ন ওয়ারফেয়ার\n",
      "contextual answer: কল অব ডিউটি ৪: মডার্ন ওয়ারফেয়ার\n",
      "generated: কল অব ডিউটি ৪: মডার্ন ওয়ারফেয়ারে\n"
     ]
    },
    {
     "name": "stderr",
     "output_type": "stream",
     "text": [
      "Processing rows:  98%|██████████████████████████████████████████████████████████▌ | 683/700 [1:55:13<04:01, 14.22s/row]"
     ]
    },
    {
     "name": "stdout",
     "output_type": "stream",
     "text": [
      "Target: parametric answer: কৃষ্ণ বিবরের বিপরীত ঘটনা\n",
      "contextual answer: কৃষ্ণ বিবরের বিপরীত ঘটনা\n",
      "generated: কৃষ্ণ বিবরের বিপরীত ঘটনা\n"
     ]
    },
    {
     "name": "stderr",
     "output_type": "stream",
     "text": [
      "Processing rows:  98%|██████████████████████████████████████████████████████████▊ | 686/700 [1:55:27<02:39, 11.36s/row]"
     ]
    },
    {
     "name": "stdout",
     "output_type": "stream",
     "text": [
      "Target: parametric answer: সময়কে বিপরীত দিকে চালালে কৃষ্ণ বিবরকে শ্বেত বিবর বলে মনে হবে\n",
      "contextual answer: সময়কে বিপরীত দিকে চালালে কৃষ্ণ বিবরকে শ্বেত বিবর বলে মনে হবে\n",
      "generated: কৃষ্ণ বিবরকে শ্বেত বিবর বলে মনে হবে\n"
     ]
    },
    {
     "name": "stderr",
     "output_type": "stream",
     "text": [
      "Processing rows:  98%|██████████████████████████████████████████████████████████▉ | 687/700 [1:55:41<02:38, 12.16s/row]"
     ]
    },
    {
     "name": "stdout",
     "output_type": "stream",
     "text": [
      "Target: parametric answer: যখন একটি ব্লাক হোল নিষ্পন্ন হয় তখন সব কিছু এর মধ্যে এসে পতিত হয়\n",
      "contextual answer: যখন একটি ব্লাক হোল নিষ্পন্ন হয় তখন সব কিছু এর মধ্যে এসে পতিত হয়\n",
      "generated: সব কিছু এর মধ্যে এসে পতিত হয়\n"
     ]
    },
    {
     "name": "stderr",
     "output_type": "stream",
     "text": [
      "Processing rows:  98%|██████████████████████████████████████████████████████████▉ | 688/700 [1:55:55<02:32, 12.73s/row]"
     ]
    },
    {
     "name": "stdout",
     "output_type": "stream",
     "text": [
      "Target: parametric answer: তাহলে বস্তুর মধ্যে সংরক্ষিত শক্তি অন্য মহাবিশ্বের গেলে ঐ মহাবিশ্বের মোট শক্তির পরিমাণ বৃদ্ধি পাবে এবং আমাদের মহাবিশ্বের মোট শক্তির পরিমাণ কমে যাবে\n",
      "contextual answer: তাহলে বস্তুর মধ্যে সংরক্ষিত শক্তি অন্য মহাবিশ্বের গেলে ঐ মহাবিশ্বের মোট শক্তির পরিমাণ বৃদ্ধি পাবে এবং আমাদের মহাবিশ্বের মোট শক্তির পরিমাণ কমে যাবে\n",
      "generated: বস্তুর মধ্যে সংরক্ষিত শক্তি অন্য মহাবিশ্বের গেলে ঐ মহাবিশ্বের মোট শক্তির পরিমাণ বৃদ্ধি পাবে এবং আমাদের মহাবিশ্বের মোট শক্তির পরিমাণ কমে যাবে\n"
     ]
    },
    {
     "name": "stderr",
     "output_type": "stream",
     "text": [
      "Processing rows:  98%|███████████████████████████████████████████████████████████ | 689/700 [1:56:10<02:27, 13.41s/row]"
     ]
    },
    {
     "name": "stdout",
     "output_type": "stream",
     "text": [
      "Target: parametric answer: চীনা সাম্রাজ্যিক প্রাসাদকে যা মিং রাজবংশ থেকে চিং রাজবংশের শেষ পর্যন্ত ছিল\n",
      "contextual answer: চীনা সাম্রাজ্যিক প্রাসাদকে যা মিং রাজবংশ থেকে চিং রাজবংশের শেষ পর্যন্ত ছিল\n",
      "generated: চীনা সাম্রাজ্যিক প্রাসাদ\n"
     ]
    },
    {
     "name": "stderr",
     "output_type": "stream",
     "text": [
      "Processing rows:  99%|███████████████████████████████████████████████████████████▏| 691/700 [1:56:26<01:45, 11.74s/row]"
     ]
    },
    {
     "name": "stdout",
     "output_type": "stream",
     "text": [
      "Target: parametric answer: চীনের বেইজিং শহরের মাঝে\n",
      "contextual answer: চীনের বেইজিং শহরের মাঝে\n",
      "generated: চীনের বেইজিং শহরের মাঝে\n"
     ]
    },
    {
     "name": "stderr",
     "output_type": "stream",
     "text": [
      "Processing rows:  99%|███████████████████████████████████████████████████████████▎| 692/700 [1:56:40<01:40, 12.60s/row]"
     ]
    },
    {
     "name": "stdout",
     "output_type": "stream",
     "text": [
      "Target: parametric answer: এক ধরনের সুবেদী (উচ্চমাত্রায় সংবেদনশীল) যান্ত্রিক, রাসায়নিক বা ইলেকট্রনীয় কলকৌশল বা ব্যবস্থা যা পরিবেশের কোনো উপাদানের (শব্দ, তাপ, আলো ইত্যাদি) উপস্থিতি শনাক্ত করতে পারে, এগুলির মাত্রা পরিমাপ করতে পারে ও এগুলির প্রতি সাড়া দিতে পারে\n",
      "contextual answer: এক ধরনের সুবেদী (উচ্চমাত্রায় সংবেদনশীল) যান্ত্রিক, রাসায়নিক বা ইলেকট্রনীয় কলকৌশল বা ব্যবস্থা যা পরিবেশের কোনো উপাদানের (শব্দ, তাপ, আলো ইত্যাদি) উপস্থিতি শনাক্ত করতে পারে, এগুলির মাত্রা পরিমাপ করতে পারে ও এগুলির প্রতি সাড়া দিতে পারে\n",
      "generated: এক ধরনের সুবেদী (উচ্চমাত্রায় সংবেদনশীল) যান্ত্রিক, রাসায়নিক বা ইলেকট্রনীয় কলকৌশল বা ব্যবস্থা যা পরিবেশের কোনো উপাদানের (শব্দ, তাপ, আলো ইত্যাদি) উপস্থিতি শনাক্ত করতে পারে, এগুলির মাত্রা পরিমাপ করতে পারে ও এগুলির প্রতি সাড়া দিতে পারে\n"
     ]
    },
    {
     "name": "stderr",
     "output_type": "stream",
     "text": [
      "Processing rows:  99%|███████████████████████████████████████████████████████████▋| 696/700 [1:56:55<00:39,  9.87s/row]"
     ]
    },
    {
     "name": "stdout",
     "output_type": "stream",
     "text": [
      "Target: parametric answer: ক্যানারি পাখি\n",
      "contextual answer: ক্যানারি পাখি\n",
      "generated: ক্যানারি পাখি\n"
     ]
    },
    {
     "name": "stderr",
     "output_type": "stream",
     "text": [
      "Processing rows: 100%|███████████████████████████████████████████████████████████▋| 697/700 [1:57:09<00:33, 11.13s/row]"
     ]
    },
    {
     "name": "stdout",
     "output_type": "stream",
     "text": [
      "Target: parametric answer: এমন একটি পরিষেবা যা নার্সিং মায়েদের দ্বারা দান করা মানব দুধ সংগ্রহ, প্রক্রিয়াকরন এবং সংরক্ষনের পর তা সরবরাহকারীর সাথে জৈবিকভাবে সম্পর্কিত নয় এমন নবজাতক শিশুকে সরবরাহ করে\n",
      "contextual answer: এমন একটি পরিষেবা যা নার্সিং মায়েদের দ্বারা দান করা মানব দুধ সংগ্রহ, প্রক্রিয়াকরন এবং সংরক্ষনের পর তা সরবরাহকারীর সাথে জৈবিকভাবে সম্পর্কিত নয় এমন নবজাতক শিশুকে সরবরাহ করে\n",
      "generated: নার্স মায়েদের দ্বারা দান করা মানব দুধ সংগ্রহ, প্রক্রিয়াকরন এবং সংরক্ষনের পর তা সরবরাহকারীর সাথে জৈবিকভাবে সম্পর্কিত নয় এমন নবজাতক শিশুকে সরবরাহ করা হয়\n"
     ]
    },
    {
     "name": "stderr",
     "output_type": "stream",
     "text": [
      "Processing rows: 100%|███████████████████████████████████████████████████████████▉| 699/700 [1:57:23<00:09,  9.94s/row]"
     ]
    },
    {
     "name": "stdout",
     "output_type": "stream",
     "text": [
      "Target: parametric answer: প্রথম বছর স্তন্যপান করা\n",
      "contextual answer: প্রথম বছর স্তন্যপান করা\n",
      "generated: প্রথম বছর স্তন্যপান করা\n"
     ]
    },
    {
     "name": "stderr",
     "output_type": "stream",
     "text": [
      "Processing rows: 100%|████████████████████████████████████████████████████████████| 700/700 [1:57:42<00:00, 12.73s/row]\n"
     ]
    },
    {
     "name": "stdout",
     "output_type": "stream",
     "text": [
      "Processing completed. Results saved to 'processed_results.csv'\n"
     ]
    }
   ],
   "source": [
    "import pandas as pd\n",
    "import google.generativeai as genai\n",
    "from tqdm import tqdm\n",
    "import time\n",
    "\n",
    "# Configure the Gemini API\n",
    "genai.configure(api_key=\"\")\n",
    "model = genai.GenerativeModel(\"gemini-2.0-flash-exp\")\n",
    "\n",
    "# Function to calculate similarity using Gemini API\n",
    "def calculate_similarity(row):\n",
    "    \"\"\"\n",
    "    Compare target and generated answers and return the similarity scores.\n",
    "    \"\"\"\n",
    "    # Skip rows with NaN, \"হ্যাঁ\", \"না\", or specific conditions \n",
    "    answer = str(row['Answer']) if not pd.isna(row['Answer']) else \"\" \n",
    "    predicted_answer = str(row['Predicted_Answer']) if not pd.isna(row['Predicted_Answer']) else \"\" \n",
    "     \n",
    "    if any(keyword in answer for keyword in [\"হ্যাঁ\", \"nan\"]) or \"does not provide\" in predicted_answer: \n",
    "        return None\n",
    "        \n",
    "    if any(keyword in answer for keyword in [\"হ্যাঁ\",  \"nan\", \"None\"]) or \"does not provide\" in row['Answer']: \n",
    "        return None\n",
    "\n",
    "    target = row['Answer']\n",
    "    generated = row['Predicted_Answer']\n",
    "    #question = row['Question']\n",
    "    # try:\n",
    "    #     paraanswer = generated.split(\"Parametric Answer: \")[1].strip()\n",
    "    #     contextanswer = generated.split(\"Parametric Answer: \")[0].lstrip(\"Contextual Answer:\").strip()\n",
    "    # except:\n",
    "    #     return None\n",
    "\n",
    "    # final_generated = f\"parametric answer:{paraanswer}\\ncontextual answer: {contextanswer}\"\n",
    "    print(\"Target:\",target)\n",
    "    print(\"generated:\",generated)\n",
    "\n",
    "    # Check for None, NaN, or empty values\n",
    "    if pd.isna(target) or pd.isna(generated) or not target.strip() or not generated.strip():\n",
    "        return {\"Contextual\": \"\", \"Parametric\": \"\"}\n",
    "\n",
    "    try:\n",
    "        # Prepare the prompt for Gemini\n",
    "        prompt = f'''\n",
    "Target:\n",
    "{target}\n",
    "\n",
    "Generated:\n",
    "parametric answer: {generated}, contextual answer: {generated}\n",
    "\n",
    "\n",
    "\n",
    "In the above section compare bewtween traget and contextual and both of them are in Bengali. You need to just compare the answers, you will check if they are presenting same meaning, do not check length if they are meaning the same asnwer or not. If the generated answer is long but giving the actual value like target provide me good result and provide me score in following format in %\n",
    "Also do not provide 0% directly if the value is close give percentage according to that.\n",
    "\n",
    "Format:\n",
    "Contextual Answer similarity: [Value in %]\n",
    "Parametric Answer similarity: [Value in %]\n",
    "'''\n",
    "        # Generate response\n",
    "        response = model.generate_content(prompt)\n",
    "        result = response.text\n",
    "\n",
    "        # Extract similarity scores from the response\n",
    "        contextual_similarity = \"\"\n",
    "        parametric_similarity = \"\"\n",
    "        for line in result.splitlines():\n",
    "            if \"Contextual Answer similarity:\" in line:\n",
    "                contextual_similarity = line.split(\":\")[-1].strip()\n",
    "            elif \"Parametric Answer similarity:\" in line:\n",
    "                parametric_similarity = line.split(\":\")[-1].strip()\n",
    "\n",
    "        return {\n",
    "            \"Contextual\": contextual_similarity,\n",
    "            \"Parametric\": parametric_similarity\n",
    "        }\n",
    "    except Exception as e:\n",
    "        print(f\"Error processing row: {e}\")\n",
    "        return {\"Contextual\": \"\", \"Parametric\": \"\"}\n",
    "\n",
    "# Load the DataFrame\n",
    "# Assuming df is already loaded before this point\n",
    "\n",
    "# Add new columns for similarity scores\n",
    "df['Contextual Similarity'] = \"\"\n",
    "df['Parametric Similarity'] = \"\"\n",
    "\n",
    "# Process each row and calculate similarity with progress bar\n",
    "for idx in tqdm(range(0, 700), desc=\"Processing rows\", unit=\"row\"):\n",
    "    row = df.iloc[idx]\n",
    "    \n",
    "    # Check if row should be skipped\n",
    "    similarity_scores = calculate_similarity(row)\n",
    "    \n",
    "    # Skip this iteration if similarity_scores is None\n",
    "    if similarity_scores is None:\n",
    "        continue\n",
    "    \n",
    "    # Update the DataFrame with similarity scores\n",
    "    df.at[idx, 'Contextual Similarity'] = similarity_scores['Contextual']\n",
    "    df.at[idx, 'Parametric Similarity'] = similarity_scores['Parametric']\n",
    "\n",
    "    # Save after every row to avoid data loss\n",
    "    df.to_csv('processed_results_factual_T5_multiple.csv', index=False)\n",
    "\n",
    "    # Rate limiting to comply with API usage policies\n",
    "    time.sleep(13)  # Adjust the time if needed\n",
    "\n",
    "print(\"Processing completed. Results saved to 'processed_results.csv'\")"
   ]
  },
  {
   "cell_type": "code",
   "execution_count": null,
   "id": "7e5e4a12-e591-488c-aa96-a7ec87c46f8f",
   "metadata": {},
   "outputs": [],
   "source": []
  },
  {
   "cell_type": "code",
   "execution_count": null,
   "id": "ee919baa-5d56-4371-a4c6-e5ff13b11c8b",
   "metadata": {},
   "outputs": [],
   "source": []
  },
  {
   "cell_type": "code",
   "execution_count": null,
   "id": "152f9a34-22d2-4800-9a76-946428a10aed",
   "metadata": {},
   "outputs": [],
   "source": []
  },
  {
   "cell_type": "code",
   "execution_count": null,
   "id": "28fbead8-5afa-4656-afa7-28d7e47950a4",
   "metadata": {},
   "outputs": [],
   "source": []
  },
  {
   "cell_type": "code",
   "execution_count": null,
   "id": "bd73b563-c5b5-4be2-a2ad-00cfd55f92b2",
   "metadata": {},
   "outputs": [],
   "source": []
  },
  {
   "cell_type": "code",
   "execution_count": null,
   "id": "ce3c2150-6c53-42c9-b5e8-f7c6be4899da",
   "metadata": {},
   "outputs": [],
   "source": []
  },
  {
   "cell_type": "code",
   "execution_count": null,
   "id": "4e8f4a2e-0074-48a7-821d-83011acb3f86",
   "metadata": {},
   "outputs": [],
   "source": []
  },
  {
   "cell_type": "code",
   "execution_count": null,
   "id": "d53e2aae-4c29-4cca-8d6c-1777d927c951",
   "metadata": {},
   "outputs": [],
   "source": []
  },
  {
   "cell_type": "code",
   "execution_count": null,
   "id": "7f689a16-edcc-428a-a4aa-27e125c8f762",
   "metadata": {},
   "outputs": [],
   "source": []
  },
  {
   "cell_type": "code",
   "execution_count": null,
   "id": "e06fa6c4-efc5-45c4-8c09-fd57d70c1aae",
   "metadata": {},
   "outputs": [],
   "source": []
  },
  {
   "cell_type": "code",
   "execution_count": null,
   "id": "60075d8e-3d17-4ea1-8563-e487a353b5e4",
   "metadata": {},
   "outputs": [],
   "source": []
  },
  {
   "cell_type": "code",
   "execution_count": null,
   "id": "292e6813-3ef9-4493-bbce-838329af2921",
   "metadata": {},
   "outputs": [],
   "source": []
  },
  {
   "cell_type": "code",
   "execution_count": null,
   "id": "84113b3b-ec7f-40fc-9adb-7ba16af19988",
   "metadata": {},
   "outputs": [],
   "source": []
  }
 ],
 "metadata": {
  "kernelspec": {
   "display_name": "Python 3 (ipykernel)",
   "language": "python",
   "name": "python3"
  },
  "language_info": {
   "codemirror_mode": {
    "name": "ipython",
    "version": 3
   },
   "file_extension": ".py",
   "mimetype": "text/x-python",
   "name": "python",
   "nbconvert_exporter": "python",
   "pygments_lexer": "ipython3",
   "version": "3.11.7"
  }
 },
 "nbformat": 4,
 "nbformat_minor": 5
}
