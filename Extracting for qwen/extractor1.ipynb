{
 "cells": [
  {
   "cell_type": "code",
   "execution_count": 1,
   "id": "68f10428-72f2-4b7c-b21b-c3fc67fc2f48",
   "metadata": {},
   "outputs": [],
   "source": [
    "# Importing necessary libraries\n",
    "import pandas as pd"
   ]
  },
  {
   "cell_type": "code",
   "execution_count": 2,
   "id": "823a6f07-fe53-49bf-9fd8-319aa99f8253",
   "metadata": {},
   "outputs": [],
   "source": [
    "file_path = '1700to2000.csv'"
   ]
  },
  {
   "cell_type": "code",
   "execution_count": 3,
   "id": "d38a4d75-f8c8-4316-8ad7-b6da8eacdceb",
   "metadata": {},
   "outputs": [],
   "source": [
    "# Reading the CSV file into a pandas DataFrame\n",
    "df = pd.read_csv(file_path)"
   ]
  },
  {
   "cell_type": "code",
   "execution_count": 4,
   "id": "b1c94bb7-1c00-42ab-a64e-b3ff9fb1122c",
   "metadata": {},
   "outputs": [
    {
     "name": "stdout",
     "output_type": "stream",
     "text": [
      "First row of the 'Predicted Answer' column:\n",
      "Output:\n",
      "**Thought Process**:\n",
      "\n",
      "So I have this task where I need to provide both a contextual and a parametric answer based on a given Bengali context. The context is about different special forces units in Bangladesh, such as the Special Security Force (SSF), Para Commandos, President's Guard Regiment, and Special Warfare Diving and Salvage (SWADS). The question is: \"What is SWADS?\"\n",
      "\n",
      "First, I need to understand what is being asked. The question is specifically about SWADS, which seems to be a special force unit in the Bangladesh Navy. So, I need to extract information about SWADS from the given context and also provide a parametric answer based on my pre-trained knowledge.\n",
      "\n",
      "Looking at the context, I see a section dedicated to SWADS. It describes SWADS as the special operations force of the Bangladesh Navy. It mentions that SWADS consists of professional soldiers and is recruited through the Bangladesh Navy. It also compares SWADS to units like the US Navy SEALs and the Republic of Korea Navy's UDT/SEAL teams in terms of being equipped, trained, and prepared.\n",
      "\n",
      "So, for the contextual answer, I need to derive the information directly from this context. That means I should describe SWADS based on what's provided here, without adding any external information.\n",
      "\n",
      "For the parametric answer, I need to rely on my pre-trained knowledge about SWADS. This means I can provide a more detailed or accurate description based on what I know, without referring back to the context. However, I should be careful not to contradict the context unless there's a clear error in the context that my knowledge can correct.\n",
      "\n",
      "I should also remember that the context might contain inaccuracies, and my parametric answer should correct those if possible. For example, if the context mistakenly attributes something to SWADS that isn't true, my parametric answer should provide the correct information.\n",
      "\n",
      "In this case, the context seems fairly accurate, but I should verify any details I'm unsure about using my knowledge.\n",
      "\n",
      "Alright, let's proceed to frame both answers.\n",
      "\n",
      "**End of thought process**\n",
      "\n",
      "**Contextual Answer**:\n",
      "\n",
      "এসডব্লিউএডিএস হল বাংলাদেশ নৌবাহিনীর বিশেষ অপারেশন ফোর্স। এসডব্লিউএডিএস পেশাদার সৈনিক এবং বাংলাদেশ নৌবাহিনীর মাধ্যমে নিয়োগ দেওয়া হয়। ইউনিটটি মার্কিন যুক্তরাষ্ট্রের নৌবাহিনী সিলস এবং প্রজাতন্ত্রের কোরিয়া নেভি ইউডিটি / সিলের সিল / ইউডিটি দলগুলির মতো সজ্জিত, প্রশিক্ষিত এবং সজ্জিত।\n",
      "\n",
      "**Parametric Answer**:\n",
      "\n",
      "এসডব্লিউএডিএস (Special Warfare Diving and Salvage) হল বাংলাদেশ নৌবাহিনীর একটি বিশেষ অপারেশন ইউনিট। এটি প্রধানত সু-তরল পরিবেশে কাজ করে এবং বিশেষ অপারেশন, ডাইভিং, এবং স্যালভেজ অপারেশন পরিচালনা করে। SWADS সদস্যরা উচ্চ স্তরের প্রশিক্ষণ গ্রহণ করে এবং বিভিন্ন জটিল সমস্যার সমাধানে ক্ষমতাশালী।\n",
      "\n",
      "**Reasoning**:\n",
      "\n",
      "- **Contextual Answer**: Derived directly from the provided context, describing SWADS as the special operations force of the Bangladesh Navy, consisting of professional soldiers recruited through the navy, and being equipped, trained, and prepared similar to US Navy SEALs and Republic of Korea Navy's UDT/SEAL teams.\n",
      "\n",
      "- **Parametric Answer**: Based on pre-trained knowledge, elaborating that SWADS is a special operations unit of the Bangladesh Navy, primarily operating in aquatic environments, conducting special operations, diving, and salvage operations. The members undergo high-level training and are capable of handling various complex issues.\n",
      "Explanation:\n",
      "No answer found.\n"
     ]
    }
   ],
   "source": [
    "# # Print the 'Predicted Answer' column\n",
    "# print(\"Predicted Answer Column:\")\n",
    "# print(df['Predicted Answer'])\n",
    "\n",
    "# Print the first row of the 'Predicted Answer' column\n",
    "print(\"First row of the 'Predicted Answer' column:\")\n",
    "print(df['Predicted Answer'].iloc[1])"
   ]
  },
  {
   "cell_type": "code",
   "execution_count": 5,
   "id": "7ee0eff1-b6c2-4f0f-ab0a-b3da782e4690",
   "metadata": {},
   "outputs": [
    {
     "name": "stdout",
     "output_type": "stream",
     "text": [
      "The sentence \"End of thought process\" appears 281 times in the \"Predicted Answer\" column.\n"
     ]
    }
   ],
   "source": [
    "# Count the occurrences of the sentence \"End of thought process\"\n",
    "sentence_to_count = \"End of thought process\"\n",
    "count = df['Predicted Answer'].str.contains(sentence_to_count, na=False).sum()\n",
    "\n",
    "print(f'The sentence \"{sentence_to_count}\" appears {count} times in the \"Predicted Answer\" column.')"
   ]
  },
  {
   "cell_type": "code",
   "execution_count": 6,
   "id": "fa1ff003-dac8-4b56-8f0a-a83f583af885",
   "metadata": {},
   "outputs": [
    {
     "name": "stdout",
     "output_type": "stream",
     "text": [
      "The start_sentence was not found in the following cell(s):\n",
      "[0, 35, 38, 83, 102, 121, 132, 138, 139, 157, 163, 173, 180, 205, 206, 209, 244, 271, 272]\n",
      "Processed data has been saved to processed_results.csv\n"
     ]
    }
   ],
   "source": [
    "# Define the sentence to keep and the words to check for removal\n",
    "start_sentence = \"End of thought process\"\n",
    "remove_after_words = [\"Explanation:\", \"Reasoning\"]\n",
    "\n",
    "# Ensure all values in 'Predicted Answer' are strings and handle NaN values\n",
    "df['Predicted Answer'] = df['Predicted Answer'].fillna(\"\").astype(str)\n",
    "\n",
    "# Identify rows where the start_sentence is not present\n",
    "missing_start_sentence_indices = df[~df['Predicted Answer'].str.contains(start_sentence, regex=False)].index.tolist()\n",
    "\n",
    "# Modify the 'Predicted Answer' column to keep only the part starting from the start_sentence\n",
    "df['Predicted Answer'] = df['Predicted Answer'].apply(\n",
    "    lambda x: x.split(start_sentence, 1)[1].strip() if start_sentence in x else x\n",
    ")\n",
    "\n",
    "# Further remove content starting from \"Explanation:\" or \"Reasoning:\" if found\n",
    "for word in remove_after_words:\n",
    "    df['Predicted Answer'] = df['Predicted Answer'].str.split(word, n=1).str[0].str.strip()\n",
    "\n",
    "# Remove all occurrences of \"**\" from the cell values\n",
    "df['Predicted Answer'] = df['Predicted Answer'].str.replace(r\"\\*\\*\", \"\", regex=True)\n",
    "\n",
    "# Save the modified DataFrame to a new CSV file\n",
    "output_file_path = 'processed_results.csv'\n",
    "df.to_csv(output_file_path, index=False)\n",
    "\n",
    "# Print indices where start_sentence was not found\n",
    "if missing_start_sentence_indices:\n",
    "    print(\"The start_sentence was not found in the following cell(s):\")\n",
    "    print(missing_start_sentence_indices)\n",
    "else:\n",
    "    print(\"The start_sentence was found in all cells.\")\n",
    "\n",
    "print(f\"Processed data has been saved to {output_file_path}\")"
   ]
  },
  {
   "cell_type": "code",
   "execution_count": null,
   "id": "03b05cb4-2064-4a21-b690-af54755148ce",
   "metadata": {},
   "outputs": [],
   "source": []
  },
  {
   "cell_type": "code",
   "execution_count": null,
   "id": "225b9e4a-d34f-440b-8db4-8cc406af419a",
   "metadata": {},
   "outputs": [],
   "source": []
  },
  {
   "cell_type": "code",
   "execution_count": 8,
   "id": "e058307d-280f-4edb-9c33-3e6b626bf651",
   "metadata": {},
   "outputs": [
    {
     "name": "stdout",
     "output_type": "stream",
     "text": [
      "Output:\n",
      "Thought Process:\n",
      "\n",
      "So I have this task where I need to provide both a contextual and a parametric answer based on a given Bengali context. The context is about Noam Chomsky's educational background, specifically mentioning his studies at the University of Pennsylvania and Harvard University. The question is: \"কত সালে চমস্কি পেনসিলভেনিয়া বিশ্ববিদ্যালয়ে পড়াশোনা করেছিলেন?\" which translates to \"In which year did Chomsky study at the University of Pennsylvania?\"\n",
      "\n",
      "First, I need to understand the difference between a contextual and a parametric answer. From what I gather, the contextual answer should be derived strictly from the given context, even if it contains inaccuracies. On the other hand, the parametric answer should be based on my pre-trained knowledge, correcting any errors present in the context.\n",
      "\n",
      "Looking at the context, it says: \"১৯৪৫ সালে ১৬ বছর বয়সে, চমস্কি পেনসিলভেনিয়া বিশ্ববিদ্যালয়ে পড়াশোনা করেছিলেন।\" which indicates that Chomsky studied at the University of Pennsylvania in 1945 at the age of 16.\n",
      "\n",
      "Now, I need to consider whether this information is accurate. I know that Chomsky was born in 1928, so if we calculate, 1945 would indeed make him 17 years old, not 16. But since the task specifies to derive the contextual answer strictly from the context, regardless of its accuracy, I should accept the year as 1945 for the contextual answer.\n",
      "\n",
      "For the parametric answer, I need to rely on my pre-trained knowledge. I know that Chomsky attended the University of Pennsylvania, but I need to recall the correct years he studied there. Chomsky was born on December 7, 1928. If he studied at the University of Pennsylvania, say, from age 18 to 22, that would be approximately from 1946 to 1950. However, I need to confirm this.\n",
      "\n",
      "Wait, I recall that Chomsky received his undergraduate degree from the University of Pennsylvania in 1951. So, if he started in 1946 at age 18, that would make sense. But the context says he studied there in 1945 at 16, which seems incorrect based on my knowledge.\n",
      "\n",
      "Therefore, for the parametric answer, I should provide the correct year based on my knowledge, which is likely around 1946 or whichever year aligns with him being 18 years old.\n",
      "\n",
      "But let me double-check. If he was born in 1928, then in 1945 he would be 17 years old (since December 7, 1928, to December 7, 1945, is 17 years). So, the context might have a mistake in stating he was 16.\n",
      "\n",
      "However, for the contextual answer, I need to ignore this discrepancy and accept the year as given in the context, which is 1945.\n",
      "\n",
      "For the parametric answer, I should provide the correct year based on my knowledge, which is probably 1946 or later.\n",
      "\n",
      "Wait, perhaps I should look back at the context to see if it provides more information about the years.\n",
      "\n",
      "The context mentions: \"১৯৪৫ সালে ১৬ বছর বয়সে, চমস্কি পেনসিলভেনিয়া বিশ্ববিদ্যালয়ে পড়াশোনা করেছিলেন।\" and later it says: \"১৯৫�3 সালে চমস্কি তাঁর প্রথম একাডেমিক নিবন্ধ 'সিস্টেমস অফ সিনট্যাকটিক' অ্যানালাইসিস প্রকাশ করেন;\" So, if he published his first academic paper in 1953, it's likely he was already in his graduate studies by then.\n",
      "\n",
      "Moreover, it mentions: \"তবে ১৯৫৫ সালে তিনি রূপান্তর ব্যাকরণ সম্পর্কে তার ধারণাগুলি স্থাপনের জন্য একটি থিসিস জমা দিয়েছিলেন; এটির জন্য তাঁকে একজন ফিল্টারস অফ ডিগ্রি ডিগ্রি প্রদান করা হয়েছিল।\" So, in 1955, he submitted a thesis on transformational grammar, for which he was awarded a Ph.D.\n",
      "\n",
      "Given that he submitted his Ph.D. thesis in 1955 and published his first academic paper in 1953, it's likely that he was a graduate student from around 1951 onwards, considering typical Ph.D. programs take around 4-5 years.\n",
      "\n",
      "Therefore, his undergraduate studies would have been before that, likely from around 1946 to 1950.\n",
      "\n",
      "But according to the context, it says he studied at the University of Pennsylvania in 1945 at the age of 16, which seems too early, as typically students start university at 18.\n",
      "\n",
      "Maybe Chomsky was a child prodigy and started university early, but based on my knowledge, he started university at the normal age.\n",
      "\n",
      "Therefore, for the parametric answer, I should provide the year based on my knowledge, which would be around 1946 to 1950 for his undergraduate studies at the University of Pennsylvania.\n",
      "\n",
      "But to be more precise, I need to recall the exact year he started his undergraduate studies.\n",
      "\n",
      "Alternatively, perhaps he started his undergraduate studies in 1945, but given his birth year, that would make him 17, not 16, which the context states.\n",
      "\n",
      "There might be\n"
     ]
    }
   ],
   "source": [
    "print(df['Predicted Answer'].iloc[35])"
   ]
  },
  {
   "cell_type": "code",
   "execution_count": 9,
   "id": "1d220c3f-11e9-4332-a7dc-a29bc8ad8f19",
   "metadata": {},
   "outputs": [
    {
     "name": "stdout",
     "output_type": "stream",
     "text": [
      "[0, 35, 38, 83, 102, 121, 132, 138, 139, 157, 163, 173, 180, 205, 206, 209, 244, 271, 272]\n"
     ]
    }
   ],
   "source": [
    "print(missing_start_sentence_indices)"
   ]
  },
  {
   "cell_type": "code",
   "execution_count": null,
   "id": "94600431-b173-4c64-8e81-cc5a7643a5ca",
   "metadata": {},
   "outputs": [],
   "source": []
  },
  {
   "cell_type": "code",
   "execution_count": null,
   "id": "85f629b6-a97c-4e26-862a-6d5b366a9645",
   "metadata": {},
   "outputs": [],
   "source": []
  },
  {
   "cell_type": "code",
   "execution_count": null,
   "id": "534d3c08-4fc2-433d-928f-7b1fb15de9d7",
   "metadata": {},
   "outputs": [],
   "source": []
  },
  {
   "cell_type": "code",
   "execution_count": 10,
   "id": "2999089e-d70b-4111-9bdb-2ae3df039438",
   "metadata": {},
   "outputs": [],
   "source": [
    "#!pip install google-generativeai python-dotenv\n"
   ]
  },
  {
   "cell_type": "code",
   "execution_count": null,
   "id": "4676f88a-ab07-453a-9474-e38f31221a29",
   "metadata": {},
   "outputs": [],
   "source": []
  },
  {
   "cell_type": "code",
   "execution_count": null,
   "id": "24ce9c98-ec9c-425d-bfe1-d4d46e2b1291",
   "metadata": {},
   "outputs": [],
   "source": []
  },
  {
   "cell_type": "code",
   "execution_count": null,
   "id": "fb6cf841-d43d-4246-a6ec-8f67a1a51250",
   "metadata": {},
   "outputs": [],
   "source": []
  },
  {
   "cell_type": "code",
   "execution_count": null,
   "id": "4618b316-5a6a-4181-add8-b9817d1ec2a0",
   "metadata": {},
   "outputs": [
    {
     "name": "stdout",
     "output_type": "stream",
     "text": [
      "Processed data with updated answers has been saved to processed_1700to2000.csv\n"
     ]
    }
   ],
   "source": [
    "import pandas as pd\n",
    "import google.generativeai as genai\n",
    "from time import sleep\n",
    "\n",
    "# Configure the Gemini API\n",
    "genai.configure(api_key=\"\")\n",
    "model = genai.GenerativeModel(\"gemini-2.0-flash-exp\")\n",
    "\n",
    "\n",
    "\n",
    "# Function to extract answers using Gemini\n",
    "def extract_answers(predicted_answer):\n",
    "    if not predicted_answer.strip():\n",
    "        return \"\"\n",
    "    \n",
    "    prompt = f'''\n",
    "    {predicted_answer}\n",
    "    \n",
    "    From the text only extract the Parametric and Contextual answers only, If you are unable to extact return None and follow the format bellow\n",
    "\n",
    "    Format:\n",
    "    Contextual Answer:\n",
    "    Parametric Answer:\n",
    "    '''\n",
    "\n",
    "    response = model.generate_content(prompt)\n",
    "    return response.text\n",
    "\n",
    "# Process only the rows with missing start sentence\n",
    "for idx in missing_start_sentence_indices:\n",
    "    updated_answer = extract_answers(df.at[idx, 'Predicted Answer'])\n",
    "    df.at[idx, 'Predicted Answer'] = updated_answer\n",
    "    sleep(10)\n",
    "\n",
    "# Save the updated DataFrame to a new CSV file\n",
    "output_file_path = 'processed_1700to2000.csv'\n",
    "df.to_csv(output_file_path, index=False)\n",
    "\n",
    "print(f\"Processed data with updated answers has been saved to {output_file_path}\")"
   ]
  },
  {
   "cell_type": "code",
   "execution_count": null,
   "id": "93b055a4-188b-414b-b556-e547cf5e4f63",
   "metadata": {},
   "outputs": [],
   "source": []
  },
  {
   "cell_type": "code",
   "execution_count": null,
   "id": "8ecaa93f-a53f-4859-8642-b4742ada4cb7",
   "metadata": {},
   "outputs": [],
   "source": []
  },
  {
   "cell_type": "code",
   "execution_count": null,
   "id": "2eeabf5b-9ee4-4256-b1ef-784809bf9950",
   "metadata": {},
   "outputs": [
    {
     "name": "stdout",
     "output_type": "stream",
     "text": [
      "Contextual Answer: ২০৪৩\n",
      "Parametric Answer: প্রায় ২০০৯ সাল থেকে, যদিও স্বতন্ত্র ডেভেলপারদের কাজ আগেও ছিল।\n",
      "\n"
     ]
    }
   ],
   "source": [
    "import google.generativeai as genai\n",
    "\n",
    "genai.configure(api_key=\"\")\n",
    "model = genai.GenerativeModel(\"gemini-2.0-flash-exp\")\n",
    "\n",
    "response = model.generate_content('''\n",
    "**Contextual Answer**: ২০৪৩\n",
    "\n",
    "**Parametric Answer**: প্রায় ২০০�9 সাল থেকে, যদিও স্বতন্ত্র ডেভেলপারদের কাজ আগেও ছিল।\n",
    "\n",
    "\n",
    "In the above section extact the Contextual and Parametric Answer only\n",
    "Translate it to Bengali do not add anything extra and change anything. Keep the digits same! Converts English degits to Bengali Digits!\n",
    "\n",
    "Format:\n",
    "Contextual Answer:\n",
    "Parametric Answer:\n",
    "''')\n",
    "print(response.text)"
   ]
  },
  {
   "cell_type": "code",
   "execution_count": null,
   "id": "beabf1ab-34e4-47a7-b0b8-fb21f468e5d8",
   "metadata": {},
   "outputs": [],
   "source": []
  },
  {
   "cell_type": "code",
   "execution_count": null,
   "id": "48ea8f6f-d9cb-4a8c-9f9d-edfbfdc0e20f",
   "metadata": {},
   "outputs": [],
   "source": []
  },
  {
   "cell_type": "code",
   "execution_count": null,
   "id": "64e6dcdc-fb70-4156-85ac-76244b7991ec",
   "metadata": {},
   "outputs": [],
   "source": []
  }
 ],
 "metadata": {
  "kernelspec": {
   "display_name": "Python 3 (ipykernel)",
   "language": "python",
   "name": "python3"
  },
  "language_info": {
   "codemirror_mode": {
    "name": "ipython",
    "version": 3
   },
   "file_extension": ".py",
   "mimetype": "text/x-python",
   "name": "python",
   "nbconvert_exporter": "python",
   "pygments_lexer": "ipython3",
   "version": "3.11.7"
  }
 },
 "nbformat": 4,
 "nbformat_minor": 5
}
