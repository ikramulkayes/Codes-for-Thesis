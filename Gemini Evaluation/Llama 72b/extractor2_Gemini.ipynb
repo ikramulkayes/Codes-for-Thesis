{
 "cells": [
  {
   "cell_type": "code",
   "execution_count": 1,
   "id": "be05c329-444d-4516-8f28-28e89c4f1d78",
   "metadata": {},
   "outputs": [],
   "source": [
    "# Importing necessary libraries\n",
    "import pandas as pd"
   ]
  },
  {
   "cell_type": "code",
   "execution_count": 2,
   "id": "59364c62-c2cb-425e-99dc-92f249f85ca8",
   "metadata": {},
   "outputs": [],
   "source": [
    "file_path = 'Parametric_data_llama_updated.csv'"
   ]
  },
  {
   "cell_type": "code",
   "execution_count": 3,
   "id": "90d06aa6-52ea-4709-a61f-2d8f1461a8b9",
   "metadata": {},
   "outputs": [],
   "source": [
    "# Reading the CSV file into a pandas DataFrame\n",
    "df = pd.read_csv(file_path)"
   ]
  },
  {
   "cell_type": "code",
   "execution_count": 4,
   "id": "2954ba86-cbc8-49d0-801a-31f9b957fa95",
   "metadata": {},
   "outputs": [
    {
     "name": "stdout",
     "output_type": "stream",
     "text": [
      "First row of the 'Predicted Answer' column:\n",
      "\n",
      "\n",
      "Contextual Answer: এম. স্টিভেন ফিশ এবং ম্যাথু ক্রোয়েনিগ।\n",
      "\n",
      "Parametric Answer: এই প্রশ্নের উত্তর দেওয়ার জন্য প্রদত্ত পাঠ্যের বাইরে কোনো তথ্যের প্রয়োজন নেই। তাই প্যারামেট্রিক উত্তর একই রকম। এম. স্টিভেন ফিশ এবং ম্যাথু ক্রোয়েনিগ।\n"
     ]
    }
   ],
   "source": [
    "# # Print the 'Predicted Answer' column\n",
    "# print(\"Predicted Answer Column:\")\n",
    "# print(df['Predicted Answer'])\n",
    "\n",
    "# Print the first row of the 'Predicted Answer' column\n",
    "print(\"First row of the 'Predicted Answer' column:\")\n",
    "print(df['Predicted Answer'].iloc[9])"
   ]
  },
  {
   "cell_type": "code",
   "execution_count": null,
   "id": "6ffc41ae-aa61-4ed6-9ca5-084e198b0b9b",
   "metadata": {},
   "outputs": [],
   "source": []
  },
  {
   "cell_type": "code",
   "execution_count": 5,
   "id": "4f6fb9cf-d07a-4e20-820a-c0c64b02166e",
   "metadata": {},
   "outputs": [
    {
     "data": {
      "text/html": [
       "<div>\n",
       "<style scoped>\n",
       "    .dataframe tbody tr th:only-of-type {\n",
       "        vertical-align: middle;\n",
       "    }\n",
       "\n",
       "    .dataframe tbody tr th {\n",
       "        vertical-align: top;\n",
       "    }\n",
       "\n",
       "    .dataframe thead th {\n",
       "        text-align: right;\n",
       "    }\n",
       "</style>\n",
       "<table border=\"1\" class=\"dataframe\">\n",
       "  <thead>\n",
       "    <tr style=\"text-align: right;\">\n",
       "      <th></th>\n",
       "      <th>Context</th>\n",
       "      <th>Question</th>\n",
       "      <th>Answer</th>\n",
       "      <th>Predicted Answer</th>\n",
       "    </tr>\n",
       "  </thead>\n",
       "  <tbody>\n",
       "    <tr>\n",
       "      <th>0</th>\n",
       "      <td>ফুডপান্ডা হলো অনলাইনে খাবার অর্ডার করার একধরনে...</td>\n",
       "      <td>ফুডপান্ডা বর্তমানে চীনের বাইরে এশিয়ার বৃহত্তম...</td>\n",
       "      <td>parametric answer: nan\\ncontextual answer: nan</td>\n",
       "      <td>\\n\\nContextual Answer: ফুডপান্ডা বর্তমানে চীনে...</td>\n",
       "    </tr>\n",
       "    <tr>\n",
       "      <th>1</th>\n",
       "      <td>ফুডপান্ডা হলো অনলাইনে খাবার অর্ডার করার একধরনে...</td>\n",
       "      <td>কোম্পানি অনুযায়ী তাদের নতুন লোগোটি পূর্বের তু...</td>\n",
       "      <td>parametric answer: nan\\ncontextual answer: nan</td>\n",
       "      <td>\\n\\nContextual Answer: কোম্পানি তাদের নতুন লোগ...</td>\n",
       "    </tr>\n",
       "    <tr>\n",
       "      <th>2</th>\n",
       "      <td>ফুডপান্ডা হলো অনলাইনে খাবার অর্ডার করার একধরনে...</td>\n",
       "      <td>ফুডপান্ডার আরেকটি সহযোগী কোম্পানি কি ফুডুরা?</td>\n",
       "      <td>parametric answer: হ্যাঁ\\ncontextual answer: হ...</td>\n",
       "      <td>Contextual Answer: হ্যাঁ, ফুডুরা ফুডপান্ডার এক...</td>\n",
       "    </tr>\n",
       "    <tr>\n",
       "      <th>3</th>\n",
       "      <td>ফুডপান্ডা হলো অনলাইনে খাবার অর্ডার করার একধরনে...</td>\n",
       "      <td>২০১৩ সালের এপ্রিলে ফুডপান্ডাকে শুরুর দিকে ২০ ম...</td>\n",
       "      <td>parametric answer: ইনভেস্টমেন্ট এবি কিনেভিক; প...</td>\n",
       "      <td>\\n\\nContextual Answer: ইনভেস্টমেন্ট এবি কিনেভি...</td>\n",
       "    </tr>\n",
       "    <tr>\n",
       "      <th>4</th>\n",
       "      <td>ক্রিকেট এ টস কোনও দলীয় ম্যাচের শুরুতে অনুষ্ঠি...</td>\n",
       "      <td>ক্রিকেট এ টস কখন অনুষ্ঠিত হয়?</td>\n",
       "      <td>parametric answer: কোনও দলীয় ম্যাচের শুরুতে\\n...</td>\n",
       "      <td>\\n\\nContextual Answer: ক্রিকেট এ টস খেলার শুরু...</td>\n",
       "    </tr>\n",
       "    <tr>\n",
       "      <th>...</th>\n",
       "      <td>...</td>\n",
       "      <td>...</td>\n",
       "      <td>...</td>\n",
       "      <td>...</td>\n",
       "    </tr>\n",
       "    <tr>\n",
       "      <th>735</th>\n",
       "      <td>পর্বতারোহণ একধরনের খেলা, শখ বা পেশা। বিভিন্ন উ...</td>\n",
       "      <td>কোন শতকে অ্যালপিনিজম কথাটি প্রচলিত হয় ?</td>\n",
       "      <td>parametric answer: ঊনবিংশ\\ncontextual answer: ...</td>\n",
       "      <td>Contextual Answer: ঊনবিংশ শতকে\\nParametric Ans...</td>\n",
       "    </tr>\n",
       "    <tr>\n",
       "      <th>736</th>\n",
       "      <td>পর্বতারোহণ একধরনের খেলা, শখ বা পেশা। বিভিন্ন উ...</td>\n",
       "      <td>বরফের ঢালে চলাচলের সময় ক্র্যাম্পন ব্যবহার করত...</td>\n",
       "      <td>parametric answer: nan\\ncontextual answer: nan</td>\n",
       "      <td>Contextual Answer: প্রদত্ত পাঠ্যটিতে ক্র্যাম্প...</td>\n",
       "    </tr>\n",
       "    <tr>\n",
       "      <th>737</th>\n",
       "      <td>১৯২৮ সালের ১৪জুন এর্নেস্তো গেভারা রোসারিও, আর্...</td>\n",
       "      <td>এর্নেস্তো গেভারা রোসারিও কোথায় জন্ম গ্রহণ করেন ?</td>\n",
       "      <td>parametric answer: আর্জেন্টিনা\\ncontextual ans...</td>\n",
       "      <td>Contextual Answer: আর্জেন্টিনা\\nParametric Ans...</td>\n",
       "    </tr>\n",
       "    <tr>\n",
       "      <th>738</th>\n",
       "      <td>১৯২৮ সালের ১৪জুন এর্নেস্তো গেভারা রোসারিও, আর্...</td>\n",
       "      <td>পরিবারের পাঁচ সন্তানের মধ্যে চে গেভারা সবার বয...</td>\n",
       "      <td>parametric answer: হ্যাঁ\\ncontextual answer: হ...</td>\n",
       "      <td>Contextual Answer: হ্যাঁ, পরিবারের পাঁচ সন্তান...</td>\n",
       "    </tr>\n",
       "    <tr>\n",
       "      <th>739</th>\n",
       "      <td>১৯২৮ সালের ১৪জুন এর্নেস্তো গেভারা রোসারিও, আর্...</td>\n",
       "      <td>চে গেভারা সাইক্লিংয়ের একজন অক্লান্ত খেলোয়াড়...</td>\n",
       "      <td>parametric answer: হ্যাঁ\\ncontextual answer: হ...</td>\n",
       "      <td>Contextual Answer: হ্যাঁ, চে গেভারা সাইক্লিংয়...</td>\n",
       "    </tr>\n",
       "  </tbody>\n",
       "</table>\n",
       "<p>740 rows × 4 columns</p>\n",
       "</div>"
      ],
      "text/plain": [
       "                                               Context  \\\n",
       "0    ফুডপান্ডা হলো অনলাইনে খাবার অর্ডার করার একধরনে...   \n",
       "1    ফুডপান্ডা হলো অনলাইনে খাবার অর্ডার করার একধরনে...   \n",
       "2    ফুডপান্ডা হলো অনলাইনে খাবার অর্ডার করার একধরনে...   \n",
       "3    ফুডপান্ডা হলো অনলাইনে খাবার অর্ডার করার একধরনে...   \n",
       "4    ক্রিকেট এ টস কোনও দলীয় ম্যাচের শুরুতে অনুষ্ঠি...   \n",
       "..                                                 ...   \n",
       "735  পর্বতারোহণ একধরনের খেলা, শখ বা পেশা। বিভিন্ন উ...   \n",
       "736  পর্বতারোহণ একধরনের খেলা, শখ বা পেশা। বিভিন্ন উ...   \n",
       "737  ১৯২৮ সালের ১৪জুন এর্নেস্তো গেভারা রোসারিও, আর্...   \n",
       "738  ১৯২৮ সালের ১৪জুন এর্নেস্তো গেভারা রোসারিও, আর্...   \n",
       "739  ১৯২৮ সালের ১৪জুন এর্নেস্তো গেভারা রোসারিও, আর্...   \n",
       "\n",
       "                                              Question  \\\n",
       "0    ফুডপান্ডা বর্তমানে চীনের বাইরে এশিয়ার বৃহত্তম...   \n",
       "1    কোম্পানি অনুযায়ী তাদের নতুন লোগোটি পূর্বের তু...   \n",
       "2         ফুডপান্ডার আরেকটি সহযোগী কোম্পানি কি ফুডুরা?   \n",
       "3    ২০১৩ সালের এপ্রিলে ফুডপান্ডাকে শুরুর দিকে ২০ ম...   \n",
       "4                       ক্রিকেট এ টস কখন অনুষ্ঠিত হয়?   \n",
       "..                                                 ...   \n",
       "735           কোন শতকে অ্যালপিনিজম কথাটি প্রচলিত হয় ?   \n",
       "736  বরফের ঢালে চলাচলের সময় ক্র্যাম্পন ব্যবহার করত...   \n",
       "737   এর্নেস্তো গেভারা রোসারিও কোথায় জন্ম গ্রহণ করেন ?   \n",
       "738  পরিবারের পাঁচ সন্তানের মধ্যে চে গেভারা সবার বয...   \n",
       "739  চে গেভারা সাইক্লিংয়ের একজন অক্লান্ত খেলোয়াড়...   \n",
       "\n",
       "                                                Answer  \\\n",
       "0       parametric answer: nan\\ncontextual answer: nan   \n",
       "1       parametric answer: nan\\ncontextual answer: nan   \n",
       "2    parametric answer: হ্যাঁ\\ncontextual answer: হ...   \n",
       "3    parametric answer: ইনভেস্টমেন্ট এবি কিনেভিক; প...   \n",
       "4    parametric answer: কোনও দলীয় ম্যাচের শুরুতে\\n...   \n",
       "..                                                 ...   \n",
       "735  parametric answer: ঊনবিংশ\\ncontextual answer: ...   \n",
       "736     parametric answer: nan\\ncontextual answer: nan   \n",
       "737  parametric answer: আর্জেন্টিনা\\ncontextual ans...   \n",
       "738  parametric answer: হ্যাঁ\\ncontextual answer: হ...   \n",
       "739  parametric answer: হ্যাঁ\\ncontextual answer: হ...   \n",
       "\n",
       "                                      Predicted Answer  \n",
       "0    \\n\\nContextual Answer: ফুডপান্ডা বর্তমানে চীনে...  \n",
       "1    \\n\\nContextual Answer: কোম্পানি তাদের নতুন লোগ...  \n",
       "2    Contextual Answer: হ্যাঁ, ফুডুরা ফুডপান্ডার এক...  \n",
       "3    \\n\\nContextual Answer: ইনভেস্টমেন্ট এবি কিনেভি...  \n",
       "4    \\n\\nContextual Answer: ক্রিকেট এ টস খেলার শুরু...  \n",
       "..                                                 ...  \n",
       "735  Contextual Answer: ঊনবিংশ শতকে\\nParametric Ans...  \n",
       "736  Contextual Answer: প্রদত্ত পাঠ্যটিতে ক্র্যাম্প...  \n",
       "737  Contextual Answer: আর্জেন্টিনা\\nParametric Ans...  \n",
       "738  Contextual Answer: হ্যাঁ, পরিবারের পাঁচ সন্তান...  \n",
       "739  Contextual Answer: হ্যাঁ, চে গেভারা সাইক্লিংয়...  \n",
       "\n",
       "[740 rows x 4 columns]"
      ]
     },
     "execution_count": 5,
     "metadata": {},
     "output_type": "execute_result"
    }
   ],
   "source": [
    "df"
   ]
  },
  {
   "cell_type": "code",
   "execution_count": null,
   "id": "46db83d7-d8ed-43e2-885f-fbdbde5bd833",
   "metadata": {},
   "outputs": [],
   "source": []
  },
  {
   "cell_type": "code",
   "execution_count": null,
   "id": "33a0fd84-eb73-4485-b341-0c9cdee82814",
   "metadata": {},
   "outputs": [],
   "source": []
  },
  {
   "cell_type": "code",
   "execution_count": null,
   "id": "6a740f9d-6c1d-4a2f-81a1-b4bb79e70afc",
   "metadata": {},
   "outputs": [],
   "source": []
  },
  {
   "cell_type": "code",
   "execution_count": null,
   "id": "051d150f-f7d8-4961-a453-d19df8bf0858",
   "metadata": {},
   "outputs": [],
   "source": []
  },
  {
   "cell_type": "code",
   "execution_count": null,
   "id": "1f849c1c-eb58-4ac4-a1e5-c4ea1d632af7",
   "metadata": {},
   "outputs": [],
   "source": []
  },
  {
   "cell_type": "code",
   "execution_count": 6,
   "id": "79f6bb9c-2d62-44e3-a148-2a862de7a057",
   "metadata": {},
   "outputs": [],
   "source": [
    "# import pandas as pd\n",
    "# import google.generativeai as genai\n",
    "# from tqdm import tqdm\n",
    "# import time\n",
    "\n",
    "# # Configure the Gemini API\n",
    "# genai.configure(api_key=\"\")\n",
    "# model = genai.GenerativeModel(\"gemini-2.0-flash-exp\")\n",
    "\n",
    "\n",
    "\n",
    "# # Function to extract answers using Gemini\n",
    "# def extract_answers(predicted_answer):\n",
    "#     # Check for None, NaN, or empty values\n",
    "#     if pd.isna(predicted_answer) or predicted_answer is None or (isinstance(predicted_answer, str) and not predicted_answer.strip()):\n",
    "#         return \"\"\n",
    "    \n",
    "#     try:\n",
    "#         # Convert to string if it's not already\n",
    "#         predicted_answer = str(predicted_answer)\n",
    "        \n",
    "#         prompt = f'''\n",
    "        \n",
    "#         {predicted_answer}\n",
    "        \n",
    "# In the above section extact the Contextual and Parametric Answer only\n",
    "# Translate it to Bengali do not add anything extra and change anything. Keep the digits same! Converts English degits to Bengali Digits!\n",
    "# Format:\n",
    "# Contextual Answer:\n",
    "# Parametric Answer:\n",
    "#         '''\n",
    "#         response = model.generate_content(prompt)\n",
    "#         return response.text\n",
    "#     except Exception as e:\n",
    "#         print(f\"Error processing answer: {e}\")\n",
    "#         return \"\"\n",
    "\n",
    "# # Process each row in the DataFrame with progress bar and rate limiting\n",
    "# request_count = 0\n",
    "\n",
    "# for idx in tqdm(range(0,len(df)), desc=\"Processing answers\", unit=\"row\"):\n",
    "#     # Update request counter\n",
    "#     request_count += 1\n",
    "    \n",
    "#     # Process the current row\n",
    "#     updated_answer = extract_answers(df.iloc[idx]['Predicted Answer'])\n",
    "#     df.at[idx, 'Predicted Answer'] = updated_answer\n",
    "    \n",
    "#     # Rate limiting logic\n",
    "#     if request_count % 100 == 0:\n",
    "#         print(f\"\\nMade 20 requests. Pausing for 80 seconds...\")\n",
    "#         time.sleep(80)  # Wait for 80 seconds after every 20 requests\n",
    "#     else:\n",
    "#         print(f\"\\nWaiting 10 seconds before next request...\")\n",
    "#         time.sleep(13)  # Wait for 15 seconds between regular requests\n",
    "\n",
    "# # Save the updated DataFrame to a new CSV file\n",
    "# output_file_path = 'processed_results_1700to2000.csv'\n",
    "# df.to_csv(output_file_path, index=False)\n",
    "# print(f\"\\nProcessed data with updated answers has been saved to {output_file_path}\")"
   ]
  },
  {
   "cell_type": "code",
   "execution_count": 7,
   "id": "f39e68ee-3176-4784-9cf7-aefc10528a2d",
   "metadata": {},
   "outputs": [],
   "source": [
    "# output_file_path = 'processed_results_with_answers.csv'\n",
    "# df.to_csv(output_file_path, index=False)\n",
    "# print(f\"\\nProcessed data with updated answers has been saved to {output_file_path}\")"
   ]
  },
  {
   "cell_type": "code",
   "execution_count": null,
   "id": "6d31a34c-af79-4636-908b-d4aefaed4740",
   "metadata": {},
   "outputs": [],
   "source": []
  },
  {
   "cell_type": "code",
   "execution_count": null,
   "id": "982ddde9-2981-45bc-a2c6-ff8ddde2bc33",
   "metadata": {},
   "outputs": [
    {
     "name": "stdout",
     "output_type": "stream",
     "text": [
      "Okay, I understand. Here's the comparison and scoring based on your instructions:\n",
      "\n",
      "**Analysis:**\n",
      "\n",
      "*   **Target:** সাতোশি টোবা\n",
      "*   **Contextual Answer:** সাতোশি তোবা\n",
      "*   **Parametric Answer:** শিনিচিরো টোবা\n",
      "\n",
      "The Contextual Answer is an exact match to the Target.  The Parametric Answer is different from the Target; \"সাতোশি\" is not \"শিনিচিরো\". Both are names and the last name is same but the first name is different.\n",
      "\n",
      "**Scores:**\n",
      "\n",
      "Contextual Answer similarity: 100%\n",
      "Parametric Answer similarity: 0%\n",
      "\n"
     ]
    }
   ],
   "source": [
    "import google.generativeai as genai\n",
    "\n",
    "genai.configure(api_key=\"\")\n",
    "model = genai.GenerativeModel(\"gemini-2.0-flash-exp\")\n",
    "\n",
    "response = model.generate_content('''\n",
    "Target:\n",
    "parametric answer: সাতোশি টোবা\n",
    "contextual answer: সাতোশি টোবা\n",
    "\n",
    "\n",
    "Generated:\n",
    "Contextual Answer: সাতোশি তোবা\n",
    "Parametric Answer: শিনিচিরো টোবা\n",
    "\n",
    "\n",
    "\n",
    "In the above section compare bewtween traget and contextual and both of them are in Bengali. You need to just compare the answers, you will check if they are presenting same meaning, do not check length if they are meaning the same asnwer or not. If the generated answer is long but giving the actual value like target provide me good result and provide me score in following format in %\n",
    "\n",
    "Format:\n",
    "Contextual Answer smilirarity:\n",
    "Parametric Answer similarity:\n",
    "''')\n",
    "print(response.text)"
   ]
  },
  {
   "cell_type": "code",
   "execution_count": null,
   "id": "ed1ffe06-b774-4a6d-843c-6263ac751b2d",
   "metadata": {},
   "outputs": [],
   "source": []
  },
  {
   "cell_type": "code",
   "execution_count": null,
   "id": "5d80f785-f9ec-44dd-8ebe-859f5053c640",
   "metadata": {},
   "outputs": [],
   "source": []
  },
  {
   "cell_type": "code",
   "execution_count": null,
   "id": "d606ed1f-cf12-43f9-b268-110351cc5bac",
   "metadata": {},
   "outputs": [],
   "source": []
  },
  {
   "cell_type": "code",
   "execution_count": null,
   "id": "aea61cd9-c712-4460-acff-8f643aee433c",
   "metadata": {},
   "outputs": [],
   "source": []
  },
  {
   "cell_type": "code",
   "execution_count": 9,
   "id": "d8f99968-c26b-45d9-89d9-61e38fdb1b98",
   "metadata": {},
   "outputs": [],
   "source": [
    "# import pandas as pd\n",
    "# import google.generativeai as genai\n",
    "# from tqdm import tqdm\n",
    "# import time\n",
    "\n",
    "# # Configure the Gemini API\n",
    "# genai.configure(api_key=\"\")\n",
    "# model = genai.GenerativeModel(\"gemini-2.0-flash-exp\")\n",
    "\n",
    "# # Function to calculate similarity using Gemini API\n",
    "# def calculate_similarity(row):\n",
    "#     \"\"\"\n",
    "#     Compare target and generated answers and return the similarity scores.\n",
    "#     \"\"\"\n",
    "#     target = row['Answer']\n",
    "#     generated = row['Predicted Answer']\n",
    "\n",
    "#     paraanswer = generated.split(\"Parametric Answer: \")[1].strip()\n",
    "#     contextanswer = generated.split(\"Parametric Answer: \")[0].lstrip(\"Contextual Answer:\").strip()\n",
    "\n",
    "#     final_generated = f\"parametric answer:{paraanswer}\\ncontextual answer: {contextanswer}\"\n",
    "#     print(\"Target:\",target)\n",
    "#     print(\"generated:\",final_generated)\n",
    "\n",
    "#     # Check for None, NaN, or empty values\n",
    "#     if pd.isna(target) or pd.isna(generated) or not target.strip() or not generated.strip():\n",
    "#         return {\"Contextual\": \"\", \"Parametric\": \"\"}\n",
    "\n",
    "#     try:\n",
    "#         # Prepare the prompt for Gemini\n",
    "#         prompt = f'''\n",
    "# Target:\n",
    "# {target}\n",
    "\n",
    "# Generated:\n",
    "# {final_generated}\n",
    "\n",
    "# In the above section, compare the target and contextual answers. Both are in Bengali.\n",
    "# You need to check if they present the same meaning without considering length.\n",
    "# If they mean the same, provide a similarity score. Ensure accuracy.\n",
    "\n",
    "# Format:\n",
    "# Contextual Answer similarity: [Value in %]\n",
    "# Parametric Answer similarity: [Value in %]\n",
    "# '''\n",
    "#         # Generate response\n",
    "#         response = model.generate_content(prompt)\n",
    "#         result = response.text\n",
    "\n",
    "#         # Extract similarity scores from the response\n",
    "#         contextual_similarity = \"\"\n",
    "#         parametric_similarity = \"\"\n",
    "#         for line in result.splitlines():\n",
    "#             if \"Contextual Answer similarity:\" in line:\n",
    "#                 contextual_similarity = line.split(\":\")[-1].strip()\n",
    "#             elif \"Parametric Answer similarity:\" in line:\n",
    "#                 parametric_similarity = line.split(\":\")[-1].strip()\n",
    "\n",
    "#         return {\n",
    "#             \"Contextual\": contextual_similarity,\n",
    "#             \"Parametric\": parametric_similarity\n",
    "#         }\n",
    "#     except Exception as e:\n",
    "#         print(f\"Error processing row: {e}\")\n",
    "#         return {\"Contextual\": \"\", \"Parametric\": \"\"}\n",
    "\n",
    "# # Load the DataFrame\n",
    "\n",
    "\n",
    "# # Add new columns for similarity scores\n",
    "# df['Contextual Similarity'] = \"\"\n",
    "# df['Parametric Similarity'] = \"\"\n",
    "\n",
    "# # Process each row and calculate similarity with progress bar\n",
    "# for idx in tqdm(range(0,len(df)), desc=\"Processing rows\", unit=\"row\"):\n",
    "#     row = df.iloc[idx]\n",
    "#     similarity_scores = calculate_similarity(row)\n",
    "    \n",
    "#     # Update the DataFrame with similarity scores\n",
    "#     df.at[idx, 'Contextual Similarity'] = similarity_scores['Contextual']\n",
    "#     df.at[idx, 'Parametric Similarity'] = similarity_scores['Parametric']\n",
    "\n",
    "#     # Save after every row to avoid data loss\n",
    "#     df.to_csv('processed_results.csv', index=False)\n",
    "\n",
    "#     # Rate limiting to comply with API usage policies\n",
    "#     time.sleep(13)  # Adjust the time if needed\n",
    "\n",
    "# print(\"Processing completed. Results saved to 'processed_results.csv'\")\n"
   ]
  },
  {
   "cell_type": "code",
   "execution_count": null,
   "id": "614b783d-5388-4020-8758-4831520f27fe",
   "metadata": {},
   "outputs": [],
   "source": []
  },
  {
   "cell_type": "code",
   "execution_count": null,
   "id": "f2a813f0-d151-4164-b57f-23e4d0e07b8c",
   "metadata": {},
   "outputs": [],
   "source": []
  },
  {
   "cell_type": "code",
   "execution_count": null,
   "id": "12231636-507c-45e7-b3cf-71ca693a03d2",
   "metadata": {},
   "outputs": [
    {
     "name": "stderr",
     "output_type": "stream",
     "text": [
      "Processing rows:   0%|                                                                        | 0/740 [00:00<?, ?row/s]"
     ]
    },
    {
     "name": "stdout",
     "output_type": "stream",
     "text": [
      "Target: parametric answer: ইনভেস্টমেন্ট এবি কিনেভিক; পেনোমেন ভেঞ্চার; রকেট ইন্টারনেট\n",
      "contextual answer: ইনভেস্টমেন্ট এবি কিনেভিক; পেনোমেন ভেঞ্চার; রকেট ইন্টারনেট\n",
      "generated: parametric answer:এই প্রশ্নের উত্তর দেওয়ার জন্য আমার পূর্ব-প্রশিক্ষিত জ্ঞানের প্রয়োজন নেই, কারণ উত্তরটি প্রদত্ত পাঠ্যটিতে রয়েছে।\n",
      "contextual answer: ইনভেস্টমেন্ট এবি কিনেভিক, পেনোমেন ভেঞ্চার এবং রকেট ইন্টারনেট কোম্পানিত্রয়।\n"
     ]
    },
    {
     "name": "stderr",
     "output_type": "stream",
     "text": [
      "Processing rows:   1%|▎                                                               | 4/740 [00:17<54:54,  4.48s/row]"
     ]
    },
    {
     "name": "stdout",
     "output_type": "stream",
     "text": [
      "Target: parametric answer: কোনও দলীয় ম্যাচের শুরুতে\n",
      "contextual answer: কোনও দলীয় ম্যাচের শুরুতে\n",
      "generated: parametric answer:ক্রিকেট খেলার শুরুতে দুই দলের অধিনায়ক মুদ্রার টসের মাধ্যমে ব্যাটিং এবং ফিল্ডিং এর সিদ্ধান্ত নেন।\n",
      "contextual answer: ক্রিকেট এ টস খেলার শুরুতে অনুষ্ঠিত হয়।\n"
     ]
    },
    {
     "name": "stderr",
     "output_type": "stream",
     "text": [
      "Processing rows:   1%|▍                                                             | 5/740 [00:31<1:29:47,  7.33s/row]"
     ]
    },
    {
     "name": "stdout",
     "output_type": "stream",
     "text": [
      "Target: parametric answer: পিচটি যদি নরম বা ধূলিময় হয়\n",
      "contextual answer: পিচটি যদি নরম বা ধূলিময় হয়\n",
      "generated: parametric answer:ক্রিকেট খেলায়, অধিনায়করা সাধারণত পিচটি নরম বা ধূলিময় হলে স্পিনারদের প্রাধান্য দেন, কারণ এই ধরনের পিচে স্পিন বলগুলি আরও কার্যকর হয়।\n",
      "contextual answer: অধিনায়ক তাদের এগারো জন খেলোয়াড় নির্বাচনে স্পিনারদের প্রাধান্য দেন যখন পিচটি নরম বা ধূলিময় হয়।\n"
     ]
    },
    {
     "name": "stderr",
     "output_type": "stream",
     "text": [
      "Processing rows:   1%|▌                                                             | 6/740 [00:45<1:53:50,  9.31s/row]"
     ]
    },
    {
     "name": "stdout",
     "output_type": "stream",
     "text": [
      "Target: parametric answer: আধঘণ্টা\n",
      "contextual answer: আধঘণ্টা\n",
      "generated: parametric answer:খেলা শুরুর আধঘণ্টা আগে দুই অধিনায়ক খেলোয়াড় তালিকা প্রদান করেন।\n",
      "contextual answer: খেলা শুরুর আধঘণ্টা আগে।\n"
     ]
    },
    {
     "name": "stderr",
     "output_type": "stream",
     "text": [
      "Processing rows:   1%|▌                                                             | 7/740 [00:59<2:10:57, 10.72s/row]"
     ]
    },
    {
     "name": "stdout",
     "output_type": "stream",
     "text": [
      "Target: parametric answer: কনকাসন\n",
      "contextual answer: কনকাসন\n",
      "generated: parametric answer:ক্রিকেট খেলায় মাথার আঘাত বা কনকাসনের কারণে খেলোয়াড় প্রতিস্থাপন করা যায়।\n",
      "contextual answer: কনকাসন বিকল্প ক্ষেত্রে ম্যাচ চলাকালীন তালিকাবদ্ধ এগারো জনের তালিকার বাইরের খেলোয়াড় খেলানো যায়।\n"
     ]
    },
    {
     "name": "stderr",
     "output_type": "stream",
     "text": [
      "Processing rows:   1%|▊                                                             | 9/740 [01:13<1:57:01,  9.60s/row]"
     ]
    },
    {
     "name": "stdout",
     "output_type": "stream",
     "text": [
      "Target: parametric answer: রাষ্ট্রবিজ্ঞানী এম. স্টিভেন ফিশ; ম্যাথু ক্রোয়েনিগ\n",
      "contextual answer: রাষ্ট্রবিজ্ঞানী এম. স্টিভেন ফিশ; ম্যাথু ক্রোয়েনিগ\n",
      "generated: parametric answer:এই প্রশ্নের উত্তর দেওয়ার জন্য প্রদত্ত পাঠ্যের বাইরে কোনো তথ্যের প্রয়োজন নেই। তাই প্যারামেট্রিক উত্তর একই রকম। এম. স্টিভেন ফিশ এবং ম্যাথু ক্রোয়েনিগ।\n",
      "contextual answer: এম. স্টিভেন ফিশ এবং ম্যাথু ক্রোয়েনিগ।\n"
     ]
    },
    {
     "name": "stderr",
     "output_type": "stream",
     "text": [
      "Processing rows:   1%|▊                                                            | 10/740 [01:27<2:13:23, 10.96s/row]"
     ]
    },
    {
     "name": "stdout",
     "output_type": "stream",
     "text": [
      "Target: parametric answer: জার্মান বুন্দেসট্যাগ; ইতালীয় সংসদ;মঙ্গোলিয়ার রাজ্য বৃহৎ খুরাল\n",
      "contextual answer: জার্মান বুন্দেসট্যাগ; ইতালীয় সংসদ;মঙ্গোলিয়ার রাজ্য বৃহৎ খুরাল\n",
      "generated: parametric answer:এই প্রশ্নের উত্তর দেওয়ার জন্য আমার পূর্ব-প্রশিক্ষিত জ্ঞানের প্রয়োজন নেই, কারণ উত্তরটি প্রদত্ত পাঠ্যে স্পষ্টভাবে উল্লেখ করা হয়েছে।\n",
      "contextual answer: জার্মান বুন্দেসট্যাগ, ইতালীয় সংসদ এবং মঙ্গোলিয়ার রাজ্য বৃহৎ খুরাল সবচেয়ে শক্তিশালী আইনসভা।\n"
     ]
    },
    {
     "name": "stderr",
     "output_type": "stream",
     "text": [
      "Processing rows:   1%|▉                                                            | 11/740 [01:41<2:24:04, 11.86s/row]"
     ]
    },
    {
     "name": "stdout",
     "output_type": "stream",
     "text": [
      "Target: parametric answer: মিয়ানমারের প্রতিনিধি পরিষদ এবং সোমালিয়ার অন্তর্বর্তীকালীন কেন্দ্রীয় পরিষদ\n",
      "contextual answer: মিয়ানমারের প্রতিনিধি পরিষদ এবং সোমালিয়ার অন্তর্বর্তীকালীন কেন্দ্রীয় পরিষদ\n",
      "generated: parametric answer:এই প্রশ্নের উত্তর দেওয়ার জন্য আমার পূর্ব-প্রশিক্ষিত জ্ঞানের প্রয়োজন নেই, কারণ উত্তরটি প্রদত্ত পাঠ্যটিতে রয়েছে।\n",
      "contextual answer: মিয়ানমারের প্রতিনিধি পরিষদ এবং সোমালিয়ার অন্তর্বর্তীকালীন কেন্দ্রীয় পরিষদ (সোমালিয়া কেন্দ্রীয় সংসদ দ্বারা প্রতিস্থাপিত হওয়ার পর থেকে) সবচেয়ে কম শক্তিশালী আইনসভা।\n"
     ]
    },
    {
     "name": "stderr",
     "output_type": "stream",
     "text": [
      "Processing rows:   2%|▉                                                            | 12/740 [01:58<2:39:52, 13.18s/row]"
     ]
    },
    {
     "name": "stdout",
     "output_type": "stream",
     "text": [
      "Target: parametric answer: প্রশাসনিক বা নির্বাহী সংস্থাগুলির হাতে\n",
      "contextual answer: প্রশাসনিক বা নির্বাহী সংস্থাগুলির হাতে\n",
      "generated: parametric answer:আইনসভাগুলি তাদের আইনি ক্ষমতা বিভিন্ন ধরনের সংস্থা বা ব্যক্তির হাতে অর্পণ করতে পারে, যেমন প্রশাসনিক সংস্থা, নির্বাহী সংস্থা, বিচার বিভাগ বা অন্যান্য সরকারি সংস্থা।\n",
      "contextual answer: আইনসভাগুলি কখনও কখনও তাদের আইনি ক্ষমতা প্রশাসনিক বা নির্বাহী সংস্থাগুলির হাতে অর্পণ করে।\n"
     ]
    },
    {
     "name": "stderr",
     "output_type": "stream",
     "text": [
      "Processing rows:   2%|█▏                                                           | 14/740 [02:15<2:23:36, 11.87s/row]"
     ]
    },
    {
     "name": "stdout",
     "output_type": "stream",
     "text": [
      "Target: parametric answer: ডেস্কটপের তুলনায় ল্যাপটপের সম্প্রসারণ ক্ষমতা খুব কম\n",
      "contextual answer: ডেস্কটপের তুলনায় ল্যাপটপের সম্প্রসারণ ক্ষমতা খুব কম\n",
      "generated: parametric answer:ল্যাপটপের গ্রাফিক্স প্রসেসর সাধারণত ডেস্কটপের গ্রাফিক্স প্রসেসরের তুলনায় কম শক্তিশালী হয়।\n",
      "contextual answer: ল্যাপটপের গ্রাফিক্স প্রসেসর ডেস্কটপের গ্রাফিক্স প্রসেসরের তুলনায় পিছিয়ে আছে।\n"
     ]
    },
    {
     "name": "stderr",
     "output_type": "stream",
     "text": [
      "Processing rows:   2%|█▏                                                           | 15/740 [02:31<2:38:00, 13.08s/row]"
     ]
    },
    {
     "name": "stdout",
     "output_type": "stream",
     "text": [
      "Target: parametric answer: বৈজ্ঞানিক; ৩ডি গেমিংয়ে\n",
      "contextual answer: বৈজ্ঞানিক; ৩ডি গেমিংয়ে\n",
      "generated: parametric answer:ল্যাপটপের ব্যবহার বিভিন্ন কারণে সীমাবদ্ধ হতে পারে, যেমন প্রসেসরের ক্ষমতা, গ্রাফিক্স প্রসেসর, মেমরি ইত্যাদি।\n",
      "contextual answer: ল্যাপটপের ব্যবহার বৈজ্ঞানিক ও ৩ডি গেমিংয়ের মাঝে সীমাবদ্ধ।\n"
     ]
    },
    {
     "name": "stderr",
     "output_type": "stream",
     "text": [
      "Processing rows:   2%|█▎                                                           | 16/740 [02:49<2:54:53, 14.49s/row]"
     ]
    },
    {
     "name": "stdout",
     "output_type": "stream",
     "text": [
      "Target: parametric answer: সম্প্রসারণ ক্ষমতা\n",
      "contextual answer: সম্প্রসারণ ক্ষমতা\n",
      "generated: parametric answer:ডেস্কটপের তুলনায় ল্যাপটপের গ্রাফিক্স প্রসেসর ক্ষমতা খুব কম।\n",
      "contextual answer: ডেস্কটপের তুলনায় ল্যাপটপের সম্প্রসারণ ক্ষমতা খুব কম।\n"
     ]
    },
    {
     "name": "stderr",
     "output_type": "stream",
     "text": [
      "Processing rows:   2%|█▍                                                           | 17/740 [03:05<2:58:47, 14.84s/row]"
     ]
    },
    {
     "name": "stdout",
     "output_type": "stream",
     "text": [
      "Target: parametric answer: বাঁধ;চর;জল বণ্টন ব্যবস্থা;জল সংগ্রহ ব্যবস্থা;নিকাশী ব্যবস্থা;ঝড়-ঝঞ্ঝার ফলে জমা অতিরিক্ত জলের ব্যবস্থা; পলল পরিবহন;পরিবহণ প্রকৌশল ও ভূ-কারিগরি প্রকৌশল\n",
      "contextual answer: বাঁধ;চর;জল বণ্টন ব্যবস্থা;জল সংগ্রহ ব্যবস্থা;নিকাশী ব্যবস্থা;ঝড়-ঝঞ্ঝার ফলে জমা অতিরিক্ত জলের ব্যবস্থা; পলল পরিবহন;পরিবহণ প্রকৌশল ও ভূ-কারিগরি প্রকৌশল\n",
      "generated: parametric answer:তরল প্রবাহ প্রকৌশলীরা জলবাহী কাঠামো, জল বণ্টন ব্যবস্থা, জল সংগ্রহ ব্যবস্থা, নিকাশী ব্যবস্থা, ঝড়-ঝঞ্ঝার ফলে জমা অতিরিক্ত জলের ব্যবস্থা, পলল পরিবহন, এবং পরিবহণ প্রকৌশল ও ভূ-কারিগরি প্রকৌশল-এর বিভিন্ন বিষয়ের নকশা ও অধ্যয়ন করে।\n",
      "contextual answer: \n",
      "তরল প্রবাহ প্রকৌশলীরা জলবাহী কাঠামো, জল বণ্টন ব্যবস্থা, জল সংগ্রহ ব্যবস্থা, নিকাশী ব্যবস্থা, ঝড়-ঝঞ্ঝার ফলে জমা অতিরিক্ত জলের ব্যবস্থা, পলল পরিবহন, এবং পরিবহণ প্রকৌশল ও ভূ-কারিগরি প্রকৌশল-এর বিভিন্ন বিষয়ের নকশা ও অধ্যয়ন করে।\n"
     ]
    },
    {
     "name": "stderr",
     "output_type": "stream",
     "text": [
      "Processing rows:   3%|█▋                                                           | 20/740 [03:23<2:26:45, 12.23s/row]"
     ]
    },
    {
     "name": "stdout",
     "output_type": "stream",
     "text": [
      "Target: parametric answer: আফ্রিকা এবং মধ্যপ্রাচ্যে\n",
      "contextual answer: আফ্রিকা এবং মধ্যপ্রাচ্যে\n",
      "generated: parametric answer:প্রাচীন সভ্যতার বিকাশের সাথে সাথে তরল প্রবাহ প্রকৌশলের ব্যবহার শুরু হয়। প্রাচীন মিসর, ব্যাবিলন, এবং অ্যাসিরিয়ায় তরল প্রবাহ প্রকৌশলের ব্যবহার দেখা যায়। তবে, প্রদত্ত প্রসঙ্গ অনুযায়ী, ফসল সেচ করার জন্য আফ্রিকা এবং মধ্যপ্রাচ্যে তরল প্রবাহ প্রকৌশলের প্রাচীনতম ব্যবহারের নিদর্শন পাওয়া যায়।\n",
      "contextual answer: আফ্রিকা এবং মধ্যপ্রাচ্যে।\n"
     ]
    },
    {
     "name": "stderr",
     "output_type": "stream",
     "text": [
      "Processing rows:   3%|█▋                                                           | 21/740 [03:37<2:32:32, 12.73s/row]"
     ]
    },
    {
     "name": "stdout",
     "output_type": "stream",
     "text": [
      "Target: parametric answer: সুনসু আও\n",
      "contextual answer: সুনসু আও\n",
      "generated: parametric answer:আমার প্রাক-প্রশিক্ষিত জ্ঞান অনুযায়ী, সুনসু আও একজন প্রাচীন চীনা প্রকৌশলী ছিলেন যিনি তরল প্রবাহ প্রকৌশলে অবদান রেখেছিলেন।\n",
      "contextual answer: সুনসু আও-কে প্রথম চীনা তরল প্রবাহ প্রকৌশলী হিসাবে বিবেচনা করা হয়।\n"
     ]
    },
    {
     "name": "stderr",
     "output_type": "stream",
     "text": [
      "Processing rows:   3%|█▊                                                           | 22/740 [03:57<2:58:58, 14.96s/row]"
     ]
    },
    {
     "name": "stdout",
     "output_type": "stream",
     "text": [
      "Target: parametric answer: যন্ত্রকৌশল;বায়বাকাশ প্রকৌশল;যানচলাচল প্রকৌশলে ব্যাপকভাবে ব্যবহৃত হয়\n",
      "contextual answer: যন্ত্রকৌশল;বায়বাকাশ প্রকৌশল;যানচলাচল প্রকৌশলে ব্যাপকভাবে ব্যবহৃত হয়\n",
      "generated: parametric answer:প্রবাহী গতিবিজ্ঞান এবং তরল বলবিজ্ঞানের বিভিন্ন সমীকরণ প্রকৌশলের বিভিন্ন শাখায় ব্যবহৃত হয়, যার মধ্যে রয়েছে যন্ত্রকৌশল, বায়বাকাশ প্রকৌশল, যানচলাচল প্রকৌশল, নৌকৌশল, পেট্রোলিয়াম প্রকৌশল, রাসায়নিক প্রকৌশল, পারমাণবিক প্রকৌশল, ইত্যাদি।\n",
      "contextual answer: \n",
      "প্রবাহী গতিবিজ্ঞান এবং তরল বলবিজ্ঞানের বিভিন্ন সমীকরণ প্রকৌশলের যন্ত্রকৌশল, বায়বাকাশ প্রকৌশল, যানচলাচল প্রকৌশল শাখায় ব্যাপকভাবে ব্যবহৃত হয়।\n"
     ]
    },
    {
     "name": "stderr",
     "output_type": "stream",
     "text": [
      "Processing rows:   3%|█▉                                                           | 23/740 [04:15<3:08:28, 15.77s/row]"
     ]
    },
    {
     "name": "stdout",
     "output_type": "stream",
     "text": [
      "Target: parametric answer: ঘড়িতে একটি অর্ধবৃত্তাকার ভর পর্যায়বৃত্ত গতিতে আন্দোলিত হতে থাকে\n",
      "contextual answer: ঘড়িতে একটি অর্ধবৃত্তাকার ভর পর্যায়বৃত্ত গতিতে আন্দোলিত হতে থাকে\n",
      "generated: parametric answer:ঘড়ির স্বয়ংক্রিয় গতি হল এক ধরনের গতি যা ঘড়িকে স্বয়ংক্রিয়ভাবে গতিপ্রাপ্ত করে। এটি ঘড়ির ভিতরে একটি অর্ধবৃত্তাকার ভর দ্বারা সম্পন্ন হয় যা পর্যায়বৃত্ত গতিতে আন্দোলিত হয়।\n",
      "contextual answer: ঘড়ি স্বয়ংক্রিয় পদ্ধতিতে গতি প্রাপ্ত হয় যখন ব্যক্তি হাঁটাহাঁটি বা দৌড়াদৌড়ি করে, তখন ঘড়িতে একটি অর্ধবৃত্তাকার ভর পর্যায়বৃত্ত গতিতে আন্দোলিত হতে থাকে। এর ফলে মেইনস্প্রিং গতিশক্তি প্রাপ্ত হয় এবং ঘড়ির গতিকে নিয়ন্ত্রণ করে।\n"
     ]
    },
    {
     "name": "stderr",
     "output_type": "stream",
     "text": [
      "Processing rows:   3%|██                                                           | 25/740 [04:32<2:42:30, 13.64s/row]"
     ]
    },
    {
     "name": "stdout",
     "output_type": "stream",
     "text": [
      "Target: parametric answer: কোয়ার্জ গতি\n",
      "contextual answer: কোয়ার্জ গতি\n",
      "generated: parametric answer:ইলেকট্রনিক গতি কোয়ার্জ গতি নামেও পরিচিত।\n",
      "contextual answer: \n",
      "ইলেকট্রনিক গতি কোয়ার্জ গতি হিসেবেও সমধিক পরিচিত।\n"
     ]
    },
    {
     "name": "stderr",
     "output_type": "stream",
     "text": [
      "Processing rows:   4%|██▏                                                          | 26/740 [04:48<2:50:15, 14.31s/row]"
     ]
    },
    {
     "name": "stdout",
     "output_type": "stream",
     "text": [
      "Target: parametric answer: জাপানিজ 'সিকো'\n",
      "contextual answer: জাপানিজ 'সিকো'\n",
      "generated: parametric answer:সিকো কোম্পানি সর্বপ্রথম কোয়ার্টজ চালিত ঘড়ি বাজারে আনে।\n",
      "contextual answer: জাপানিজ 'সিকো' কোম্পানি সর্বপ্রথম কোয়ার্টজ চালিত ঘড়ি বাজারে আনে।\n"
     ]
    },
    {
     "name": "stderr",
     "output_type": "stream",
     "text": [
      "Processing rows:   4%|██▏                                                          | 27/740 [05:02<2:48:48, 14.21s/row]"
     ]
    },
    {
     "name": "stdout",
     "output_type": "stream",
     "text": [
      "Target: parametric answer: কোয়ার্টজ ঘড়ি\n",
      "contextual answer: কোয়ার্টজ ঘড়ি\n",
      "generated: parametric answer:কোয়ার্টজ ঘড়ি সবচেয়ে নিখুঁতভাবে সময়ের হালনাগাদ করতে পারে।\n",
      "contextual answer: ইলেকট্রনিক ঘড়ি সবচেয়ে নিখুঁতভাবে সময়ের হালনাগাদ করতে পারে।\n"
     ]
    },
    {
     "name": "stderr",
     "output_type": "stream",
     "text": [
      "Processing rows:   4%|██▎                                                          | 28/740 [05:16<2:47:31, 14.12s/row]"
     ]
    },
    {
     "name": "stdout",
     "output_type": "stream",
     "text": [
      "Target: parametric answer: ডেনড্রোক্রোনোলজির\n",
      "contextual answer: ডেনড্রোক্রোনোলজির\n",
      "generated: parametric answer:বৈজ্ঞানিক পদ্ধতি ডেনড্রোক্রোনোলজি ব্যবহার করে বৃক্ষের চক্র গঠনের সময় নির্ধারণ করা সম্ভব।\n",
      "contextual answer: ডেনড্রোক্রোনোলজির মাধ্যমে\n"
     ]
    },
    {
     "name": "stderr",
     "output_type": "stream",
     "text": [
      "Processing rows:   4%|██▍                                                          | 30/740 [05:30<2:21:37, 11.97s/row]"
     ]
    },
    {
     "name": "stdout",
     "output_type": "stream",
     "text": [
      "Target: parametric answer: প্রত্নবাস্তুবিদ্যা ;যেখানে অতীতের বাস্তুবিদ্যার কিছু দিক ;প্রত্নতত্ত্ব ;রেডিওকার্বন ডেটিং\n",
      "contextual answer: প্রত্নবাস্তুবিদ্যা ;যেখানে অতীতের বাস্তুবিদ্যার কিছু দিক ;প্রত্নতত্ত্ব ;রেডিওকার্বন ডেটিং\n",
      "generated: parametric answer:ডেনড্রোক্রোনোলজির প্রয়োগের ক্ষেত্রগুলি হল প্রত্নবাস্তুবিদ্যা, প্রত্নতত্ত্ব, রেডিওকার্বন ডেটিং, জলবায়ু পরিবর্তন গবেষণা এবং বনবিদ্যা।\n",
      "contextual answer: ডেনড্রোক্রোনোলজির প্রয়োগের তিনটি প্রধান ক্ষেত্র রয়েছে: প্রত্নবাস্তুবিদ্যা, প্রত্নতত্ত্ব এবং রেডিওকার্বন ডেটিং।\n"
     ]
    },
    {
     "name": "stderr",
     "output_type": "stream",
     "text": [
      "Processing rows:   4%|██▌                                                          | 31/740 [05:44<2:29:25, 12.65s/row]"
     ]
    },
    {
     "name": "stdout",
     "output_type": "stream",
     "text": [
      "Target: parametric answer: ১১\n",
      "contextual answer: ১১\n",
      "generated: parametric answer:ডেনড্রোক্রোনোলজি বা বৃক্ষ-চক্র ডেটিং এর মাধ্যমে বর্তমান থেকে আরম্ভ করে সর্বোচ্চ ১১ হাজার বছর অতীত পর্যন্ত বিশ্বাসযোগ্যভাবে কালক্রম পাওয়া গেছে।\n",
      "contextual answer: ১১ হাজার বছর।\n"
     ]
    },
    {
     "name": "stderr",
     "output_type": "stream",
     "text": [
      "Processing rows:   4%|██▋                                                          | 32/740 [06:00<2:41:56, 13.72s/row]"
     ]
    },
    {
     "name": "stdout",
     "output_type": "stream",
     "text": [
      "Target: parametric answer: পঞ্চম\n",
      "contextual answer: পঞ্চম\n",
      "generated: parametric answer:বৃহস্পতি গ্রহ সূর্য থেকে দূরত্বের দিক দিয়ে পঞ্চম।\n",
      "contextual answer: \n",
      "বৃহস্পতি গ্রহ সূর্য থেকে দূরত্বের দিক দিয়ে পঞ্চম।\n"
     ]
    },
    {
     "name": "stderr",
     "output_type": "stream",
     "text": [
      "Processing rows:   5%|██▉                                                          | 35/740 [06:14<2:09:16, 11.00s/row]"
     ]
    },
    {
     "name": "stdout",
     "output_type": "stream",
     "text": [
      "Target: parametric answer: প্লুটোর\n",
      "contextual answer: প্লুটোর\n",
      "generated: parametric answer:নিউ হরাইজন্‌স একটি মহাকাশ অভিযান যা প্লুটো এবং কাইপার বেল্ট অন্বেষণ করার জন্য ডিজাইন করা হয়েছে।\n",
      "contextual answer: নিউ হরাইজন্‌স মূলত প্লুটোর উদ্দেশ্যে যাত্রা শুরু করেছে।\n"
     ]
    },
    {
     "name": "stderr",
     "output_type": "stream",
     "text": [
      "Processing rows:   5%|██▉                                                          | 36/740 [06:33<2:37:48, 13.45s/row]"
     ]
    },
    {
     "name": "stdout",
     "output_type": "stream",
     "text": [
      "Target: parametric answer: ২০০৭ সালের ফেব্রুয়ারি মাসে\n",
      "contextual answer: ২০০৭ সালের ফেব্রুয়ারি মাসে\n",
      "generated: parametric answer:নিউ হরাইজন্‌স অভিযানটি ২০০৭ সালের ফেব্রুয়ারি ২৮ তারিখে বৃহস্পতির কাছ দিয়ে গেছে।\n",
      "contextual answer: ২০০৭ সালের ফেব্রুয়ারি মাসে\n"
     ]
    },
    {
     "name": "stderr",
     "output_type": "stream",
     "text": [
      "Processing rows:   5%|███                                                          | 37/740 [06:47<2:39:14, 13.59s/row]"
     ]
    },
    {
     "name": "stdout",
     "output_type": "stream",
     "text": [
      "Target: parametric answer: জিউস\n",
      "contextual answer: জিউস\n",
      "generated: parametric answer:জিউস\n",
      "contextual answer: জিউস\n"
     ]
    },
    {
     "name": "stderr",
     "output_type": "stream",
     "text": [
      "Processing rows:   5%|███▏                                                         | 38/740 [07:01<2:40:41, 13.73s/row]"
     ]
    },
    {
     "name": "stdout",
     "output_type": "stream",
     "text": [
      "Target: parametric answer: ২.৮\n",
      "contextual answer: ২.৮\n",
      "generated: parametric answer:বৃহস্পতির আপাত মান হল ২.৮।\n",
      "contextual answer: ২.৮\n"
     ]
    },
    {
     "name": "stderr",
     "output_type": "stream",
     "text": [
      "Processing rows:   5%|███▏                                                         | 39/740 [07:17<2:47:35, 14.35s/row]"
     ]
    },
    {
     "name": "stdout",
     "output_type": "stream",
     "text": [
      "Target: parametric answer: টি এ গাঙ্গুলী\n",
      "contextual answer: টি এ গাঙ্গুলী\n",
      "generated: parametric answer:আমার প্রশিক্ষণ ডেটাতে এই তথ্য নেই।\n",
      "contextual answer: যুদ্ধ পরবর্তী সময়ে আর্চবিশপ টি এ গাঙ্গুলী ছিলেন।\n"
     ]
    },
    {
     "name": "stderr",
     "output_type": "stream",
     "text": [
      "Processing rows:   5%|███▎                                                         | 40/740 [07:31<2:45:20, 14.17s/row]"
     ]
    },
    {
     "name": "stdout",
     "output_type": "stream",
     "text": [
      "Target: parametric answer: নিজের গলার স্বর্ণের চেইন ও ক্রুশ\n",
      "contextual answer: নিজের গলার স্বর্ণের চেইন ও ক্রুশ\n",
      "generated: parametric answer:এই প্রশ্নের উত্তর দেওয়ার জন্য আমার প্রাক-প্রশিক্ষিত জ্ঞানের প্রয়োজন নেই, কারণ এটি প্রদত্ত পাঠ্যের উপর ভিত্তি করে।\n",
      "contextual answer: তৎকালীন আর্চবিশপ টি এ গাঙ্গুলী বঙ্গবন্ধু শেখ মুজিবুরের সাথে দেখা করে নিজের গলার স্বর্ণের চেইন ও ক্রুশ দান করেছিলেন।\n"
     ]
    },
    {
     "name": "stderr",
     "output_type": "stream",
     "text": [
      "Processing rows:   6%|███▍                                                         | 41/740 [07:45<2:44:17, 14.10s/row]"
     ]
    },
    {
     "name": "stdout",
     "output_type": "stream",
     "text": [
      "Target: parametric answer: বিশিষ্ট মুক্তিযোদ্ধা ,যিনি বর্তমান সরকারের একজন সমাজ কল্যাণ প্রতিমন্ত্রী হিসেবে দায়িত্ব পালন করছেন\n",
      "contextual answer: বিশিষ্ট মুক্তিযোদ্ধা ,যিনি বর্তমান সরকারের একজন সমাজ কল্যাণ প্রতিমন্ত্রী হিসেবে দায়িত্ব পালন করছেন\n",
      "generated: parametric answer:এড. প্রমোদ মানকিন একজন বাংলাদেশী রাজনীতিবিদ এবং মুক্তিযোদ্ধা।\n",
      "contextual answer: \n",
      "এড. প্রমোদ মানকিন একজন বিশিষ্ট মুক্তিযোদ্ধা এবং বর্তমান সরকারের একজন সমাজ কল্যাণ প্রতিমন্ত্রী।\n"
     ]
    },
    {
     "name": "stderr",
     "output_type": "stream",
     "text": [
      "Processing rows:   6%|███▍                                                         | 42/740 [07:59<2:43:21, 14.04s/row]"
     ]
    },
    {
     "name": "stdout",
     "output_type": "stream",
     "text": [
      "Target: parametric answer: মুক্তিযোদ্ধা ও বিশিষ্ট সাংবাদিক চিত্ত\n",
      "contextual answer: মুক্তিযোদ্ধা ও বিশিষ্ট সাংবাদিক চিত্ত\n",
      "generated: parametric answer:চিত্ত ফ্রান্সিস রিবেরূ একজন বাংলাদেশী সাংবাদিক এবং মুক্তিযোদ্ধা ছিলেন।\n",
      "contextual answer: \n",
      "চিত্ত ফ্রান্সিস রিবেরূ একজন মুক্তিযোদ্ধা এবং বিশিষ্ট সাংবাদিক ছিলেন যিনি মুক্তিযুদ্ধ চলাকালিন গুরুত্বপূর্ণ ভূমিকা পালন করেছিলেন।\n"
     ]
    },
    {
     "name": "stderr",
     "output_type": "stream",
     "text": [
      "Processing rows:   6%|███▌                                                         | 43/740 [08:15<2:51:50, 14.79s/row]"
     ]
    },
    {
     "name": "stdout",
     "output_type": "stream",
     "text": [
      "Target: parametric answer: ১৯৭৩\n",
      "contextual answer: ১৯৭৩\n",
      "generated: parametric answer:১৯৭৩ সালে\n",
      "contextual answer: ১৯৭৩ সালে\n"
     ]
    },
    {
     "name": "stderr",
     "output_type": "stream",
     "text": [
      "Processing rows:   6%|███▊                                                         | 46/740 [08:29<2:15:54, 11.75s/row]"
     ]
    },
    {
     "name": "stdout",
     "output_type": "stream",
     "text": [
      "Target: parametric answer: আইবিএম ৫১০০\n",
      "contextual answer: আইবিএম ৫১০০\n",
      "generated: parametric answer:আইবিএম ৫১০০\n",
      "contextual answer: আইবিএম ৫১০০\n"
     ]
    },
    {
     "name": "stderr",
     "output_type": "stream",
     "text": [
      "Processing rows:   6%|███▊                                                         | 47/740 [08:46<2:33:07, 13.26s/row]"
     ]
    },
    {
     "name": "stdout",
     "output_type": "stream",
     "text": [
      "Target: parametric answer: ১৯৭৫\n",
      "contextual answer: ১৯৭৫\n",
      "generated: parametric answer:১৯৭৫ সালে\n",
      "contextual answer: ১৯৭৫ সালের সেপ্টেম্বর মাসে\n"
     ]
    },
    {
     "name": "stderr",
     "output_type": "stream",
     "text": [
      "Processing rows:   6%|███▉                                                         | 48/740 [09:00<2:37:01, 13.62s/row]"
     ]
    },
    {
     "name": "stdout",
     "output_type": "stream",
     "text": [
      "Target: parametric answer: আন্তর্জাতিক ক্যাপিটাল মুভমেন্টের কালজয়ী অবদান রাখার জন্য\n",
      "contextual answer: আন্তর্জাতিক ক্যাপিটাল মুভমেন্টের কালজয়ী অবদান রাখার জন্য\n",
      "generated: parametric answer:জেমস মীড আন্তর্জাতিক বাণিজ্য এবং আন্তর্জাতিক মুদ্রা ব্যবস্থার উপর তার কাজের জন্য নোবেল পুরস্কার পেয়েছেন।\n",
      "contextual answer: জেমস এডওয়ার্ড মীড আন্তর্জাতিক বাণিজ্য ও আন্তর্জাতিক ক্যাপিটাল মুভমেন্টের কালজয়ী অবদান রাখার জন্য নোবেল পুরস্কার পেয়েছেন।\n"
     ]
    },
    {
     "name": "stderr",
     "output_type": "stream",
     "text": [
      "Processing rows:   7%|████▏                                                        | 51/740 [09:15<2:05:51, 10.96s/row]"
     ]
    },
    {
     "name": "stdout",
     "output_type": "stream",
     "text": [
      "Target: parametric answer: বার্টিল ওহলিনের\n",
      "contextual answer: বার্টিল ওহলিনের\n",
      "generated: parametric answer:বার্টিল ওহলিন\n",
      "contextual answer: বার্টিল ওহলিন\n"
     ]
    },
    {
     "name": "stderr",
     "output_type": "stream",
     "text": [
      "Processing rows:   7%|████▎                                                        | 52/740 [09:29<2:15:33, 11.82s/row]"
     ]
    },
    {
     "name": "stdout",
     "output_type": "stream",
     "text": [
      "Target: parametric answer: দর্শন; রাজনীতি; অর্থনীতি\n",
      "contextual answer: দর্শন; রাজনীতি; অর্থনীতি\n",
      "generated: parametric answer:অজানা।\n",
      "contextual answer: গ্রেটস এবং পরবর্তীতে দর্শন, রাজনীতি ও অর্থনীতি।\n"
     ]
    },
    {
     "name": "stderr",
     "output_type": "stream",
     "text": [
      "Processing rows:   7%|████▎                                                        | 53/740 [09:45<2:29:38, 13.07s/row]"
     ]
    },
    {
     "name": "stdout",
     "output_type": "stream",
     "text": [
      "Target: parametric answer: ডেনিস রবার্টসন; জন মেনার্ড কেইনস\n",
      "contextual answer: ডেনিস রবার্টসন; জন মেনার্ড কেইনস\n",
      "generated: parametric answer:ডেনিস রবার্টসন এবং জন মেনার্ড কেইনস।\n",
      "contextual answer: ডেনিস রবার্টসন এবং জন মেনার্ড কেইনস।\n"
     ]
    },
    {
     "name": "stderr",
     "output_type": "stream",
     "text": [
      "Processing rows:   7%|████▍                                                        | 54/740 [10:00<2:38:20, 13.85s/row]"
     ]
    },
    {
     "name": "stdout",
     "output_type": "stream",
     "text": [
      "Target: parametric answer: পাঁচ\n",
      "contextual answer: পাঁচ\n",
      "generated: parametric answer:পাঁচ বছর।\n",
      "contextual answer: পাঁচ বছর।\n"
     ]
    },
    {
     "name": "stderr",
     "output_type": "stream",
     "text": [
      "Processing rows:   8%|████▌                                                        | 56/740 [10:14<2:14:26, 11.79s/row]"
     ]
    },
    {
     "name": "stdout",
     "output_type": "stream",
     "text": [
      "Target: parametric answer: জেমস কুক; জ্যঁ-ফ্রাঁসোয়া দ্য গালপ; কঁতে দে লা পেরুজ\n",
      "contextual answer: জেমস কুক; জ্যঁ-ফ্রাঁসোয়া দ্য গালপ; কঁতে দে লা পেরুজ\n",
      "generated: parametric answer:জেমস কুক এবং অন্যান্য বিখ্যাত নৌ-অভিযানের সাথে।\n",
      "contextual answer: জেমস কুক এবং জ্যঁ-ফ্রাঁসোয়া দ্য গালপ, কঁতে দে লা পেরুজের নৌযাত্রার সাথে।\n"
     ]
    },
    {
     "name": "stderr",
     "output_type": "stream",
     "text": [
      "Processing rows:   8%|████▋                                                        | 57/740 [10:31<2:32:20, 13.38s/row]"
     ]
    },
    {
     "name": "stdout",
     "output_type": "stream",
     "text": [
      "Target: parametric answer: সরকারকে উৎখাতের ষড়যন্ত্রে মালাস্পিনার সম্পৃক্ততার অভিযোগ আসে তাই\n",
      "contextual answer: সরকারকে উৎখাতের ষড়যন্ত্রে মালাস্পিনার সম্পৃক্ততার অভিযোগ আসে তাই\n",
      "generated: parametric answer:মালাস্পিনা রাজনৈতিক কারণে কারাগারে পাঠানো হয়েছিল, কারণ তিনি স্পেনীয় সরকারের বিরুদ্ধে ষড়যন্ত্রে জড়িত ছিলেন।\n",
      "contextual answer: সরকারকে উৎখাতের ষড়যন্ত্রে মালাস্পিনার সম্পৃক্ততার অভিযোগে তাকে কারাগারে পাঠানো হয়েছিল।\n"
     ]
    },
    {
     "name": "stderr",
     "output_type": "stream",
     "text": [
      "Processing rows:   8%|████▊                                                        | 58/740 [10:50<2:49:33, 14.92s/row]"
     ]
    },
    {
     "name": "stdout",
     "output_type": "stream",
     "text": [
      "Target: parametric answer: ১৫,০০,০০,০০০ কি.মি\n",
      "contextual answer: ১৫,০০,০০,০০০ কি.মি\n",
      "generated: parametric answer:১৪.৯৬ কোটি কিলোমিটার\n",
      "contextual answer: ১৫,০০,০০,০০০ কি.মি\n"
     ]
    },
    {
     "name": "stderr",
     "output_type": "stream",
     "text": [
      "Processing rows:   8%|█████                                                        | 61/740 [11:05<2:15:10, 11.94s/row]"
     ]
    },
    {
     "name": "stdout",
     "output_type": "stream",
     "text": [
      "Target: parametric answer: ৩০%\n",
      "contextual answer: ৩০%\n",
      "generated: parametric answer:৩০%\n",
      "contextual answer: ৩০%\n"
     ]
    },
    {
     "name": "stderr",
     "output_type": "stream",
     "text": [
      "Processing rows:   8%|█████                                                        | 62/740 [11:22<2:31:48, 13.43s/row]"
     ]
    },
    {
     "name": "stdout",
     "output_type": "stream",
     "text": [
      "Target: parametric answer: ১.৭ এইউ\n",
      "contextual answer: ১.৭ এইউ\n",
      "generated: parametric answer:প্রসঙ্গের উপর ভিত্তি করে ১.৭ এইউ।\n",
      "contextual answer: ১.৭ এইউ।\n"
     ]
    },
    {
     "name": "stderr",
     "output_type": "stream",
     "text": [
      "Processing rows:   9%|█████▏                                                       | 63/740 [11:36<2:33:20, 13.59s/row]"
     ]
    },
    {
     "name": "stdout",
     "output_type": "stream",
     "text": [
      "Target: parametric answer: অনলাইনে খাবার অর্ডার করার একধরনের ব্র্যান্ড বা কোম্পানি\n",
      "contextual answer: অনলাইনে খাবার অর্ডার করার একধরনের ব্র্যান্ড বা কোম্পানি\n",
      "generated: parametric answer:ফুডপান্ডা একটি অনলাইন খাদ্য বিতরণ প্ল্যাটফর\n",
      "contextual answer: ফুডপান্ডা হলো অনলাইনে খাবার অর্ডার করার একধরনের ব্র্যান্ড বা কোম্পানি।\n"
     ]
    },
    {
     "name": "stderr",
     "output_type": "stream",
     "text": [
      "Processing rows:   9%|█████▎                                                       | 65/740 [11:50<2:10:50, 11.63s/row]"
     ]
    },
    {
     "name": "stdout",
     "output_type": "stream",
     "text": [
      "Target: parametric answer: ইনভেস্টমেন্ট এবি কিনেভিক; পেনোমেন ভেঞ্চার; রকেট ইন্টারনেট\n",
      "contextual answer: ইনভেস্টমেন্ট এবি কিনেভিক; পেনোমেন ভেঞ্চার; রকেট ইন্টারনেট\n",
      "generated: parametric answer:ইনভেস্টমেন্ট এবি কিনেভিক, পেনোমেন ভেঞ্চার এবং রকেট ইন্টারনেট কোম্পানিত্রয়।\n",
      "contextual answer: ইনভেস্টমেন্ট এবি কিনেভিক, পেনোমেন ভেঞ্চার এবং রকেট ইন্টারনেট কোম্পানিত্রয়।\n"
     ]
    },
    {
     "name": "stderr",
     "output_type": "stream",
     "text": [
      "Processing rows:   9%|█████▋                                                       | 69/740 [12:05<1:43:56,  9.29s/row]"
     ]
    },
    {
     "name": "stdout",
     "output_type": "stream",
     "text": [
      "Target: parametric answer: কোনও দলীয় ম্যাচের শুরুতে\n",
      "contextual answer: কোনও দলীয় ম্যাচের শুরুতে\n",
      "generated: parametric answer:ক্রিকেট এ টস সাধারণত ম্যাচের শুরুতে অনুষ্ঠিত হয়, যা খেলার শুরু হওয়ার আগে ঘটে।\n",
      "contextual answer: ক্রিকেট এ টস ম্যাচের শুরুতে অনুষ্ঠিত হয়।\n"
     ]
    },
    {
     "name": "stderr",
     "output_type": "stream",
     "text": [
      "Processing rows:   9%|█████▊                                                       | 70/740 [12:19<1:59:21, 10.69s/row]"
     ]
    },
    {
     "name": "stdout",
     "output_type": "stream",
     "text": [
      "Target: parametric answer: পিচটি যদি নরম বা ধূলিময় হয়\n",
      "contextual answer: পিচটি যদি নরম বা ধূলিময় হয়\n",
      "generated: parametric answer:পিচটি যদি নরম বা ধূলিময় হয়।\n",
      "contextual answer: পিচটি যদি নরম বা ধূলিময় হয়।\n"
     ]
    },
    {
     "name": "stderr",
     "output_type": "stream",
     "text": [
      "Processing rows:  10%|█████▊                                                       | 71/740 [12:34<2:13:49, 12.00s/row]"
     ]
    },
    {
     "name": "stdout",
     "output_type": "stream",
     "text": [
      "Target: parametric answer: আধঘণ্টা\n",
      "contextual answer: আধঘণ্টা\n",
      "generated: parametric answer:খেলা শুরুর আগে এক ঘন্টা বা তার কম সময়ের মধ্যে।\n",
      "contextual answer: খেলা শুরুর আধঘণ্টা আগে।\n"
     ]
    },
    {
     "name": "stderr",
     "output_type": "stream",
     "text": [
      "Processing rows:  10%|█████▉                                                       | 72/740 [12:49<2:21:42, 12.73s/row]"
     ]
    },
    {
     "name": "stdout",
     "output_type": "stream",
     "text": [
      "Target: parametric answer: কনকাসন\n",
      "contextual answer: কনকাসন\n",
      "generated: parametric answer:কোনও কনকাসন বা আঘাতজনিত কারণে।\n",
      "contextual answer: কোনও কনকাসন বিকল্প ক্ষেত্রে।\n"
     ]
    },
    {
     "name": "stderr",
     "output_type": "stream",
     "text": [
      "Processing rows:  10%|██████                                                       | 74/740 [13:04<2:05:07, 11.27s/row]"
     ]
    },
    {
     "name": "stdout",
     "output_type": "stream",
     "text": [
      "Target: parametric answer: রাষ্ট্রবিজ্ঞানী এম. স্টিভেন ফিশ; ম্যাথু ক্রোয়েনিগ\n",
      "contextual answer: রাষ্ট্রবিজ্ঞানী এম. স্টিভেন ফিশ; ম্যাথু ক্রোয়েনিগ\n",
      "generated: parametric answer:রাষ্ট্রবিজ্ঞানী এম. স্টিভেন ফিশ এবং ম্যাথু ক্রোয়েনিগ।\n",
      "contextual answer: রাষ্ট্রবিজ্ঞানী এম. স্টিভেন ফিশ এবং ম্যাথু ক্রোয়েনিগ।\n"
     ]
    },
    {
     "name": "stderr",
     "output_type": "stream",
     "text": [
      "Processing rows:  10%|██████▏                                                      | 75/740 [13:22<2:26:06, 13.18s/row]"
     ]
    },
    {
     "name": "stdout",
     "output_type": "stream",
     "text": [
      "Target: parametric answer: জার্মান বুন্দেসট্যাগ; ইতালীয় সংসদ;মঙ্গোলিয়ার রাজ্য বৃহৎ খুরাল\n",
      "contextual answer: জার্মান বুন্দেসট্যাগ; ইতালীয় সংসদ;মঙ্গোলিয়ার রাজ্য বৃহৎ খুরাল\n",
      "generated: parametric answer:জার্মান বুন্দেসট্যাগ, ইতালীয় সংসদ এবং মঙ্গোলিয়ার রাজ্য বৃহৎ খুরাল।\n",
      "contextual answer: জার্মান বুন্দেসট্যাগ, ইতালীয় সংসদ এবং মঙ্গোলিয়ার রাজ্য বৃহৎ খুরাল।\n"
     ]
    },
    {
     "name": "stderr",
     "output_type": "stream",
     "text": [
      "Processing rows:  10%|██████▎                                                      | 76/740 [13:38<2:33:37, 13.88s/row]"
     ]
    },
    {
     "name": "stdout",
     "output_type": "stream",
     "text": [
      "Target: parametric answer: মিয়ানমারের প্রতিনিধি পরিষদ এবং সোমালিয়ার অন্তর্বর্তীকালীন কেন্দ্রীয় পরিষদ\n",
      "contextual answer: মিয়ানমারের প্রতিনিধি পরিষদ এবং সোমালিয়ার অন্তর্বর্তীকালীন কেন্দ্রীয় পরিষদ\n",
      "generated: parametric answer:মিয়ানমারের প্রতিনিধি পরিষদ এবং সোমালিয়ার অন্তর্বর্তীকালীন কেন্দ্রীয় পরিষদ।\n",
      "contextual answer: মিয়ানমারের প্রতিনিধি পরিষদ এবং সোমালিয়ার অন্তর্বর্তীকালীন কেন্দ্রীয় পরিষদ।\n"
     ]
    },
    {
     "name": "stderr",
     "output_type": "stream",
     "text": [
      "Processing rows:  10%|██████▎                                                      | 77/740 [13:52<2:33:54, 13.93s/row]"
     ]
    },
    {
     "name": "stdout",
     "output_type": "stream",
     "text": [
      "Target: parametric answer: প্রশাসনিক বা নির্বাহী সংস্থাগুলির হাতে\n",
      "contextual answer: প্রশাসনিক বা নির্বাহী সংস্থাগুলির হাতে\n",
      "generated: parametric answer:প্রশাসনিক বা নির্বাহী সংস্থাগুলির হাতে।\n",
      "contextual answer: প্রশাসনিক বা নির্বাহী সংস্থাগুলির হাতে।\n"
     ]
    },
    {
     "name": "stderr",
     "output_type": "stream",
     "text": [
      "Processing rows:  11%|██████▌                                                      | 79/740 [14:05<2:10:21, 11.83s/row]"
     ]
    },
    {
     "name": "stdout",
     "output_type": "stream",
     "text": [
      "Target: parametric answer: ডেস্কটপের তুলনায় ল্যাপটপের সম্প্রসারণ ক্ষমতা খুব কম\n",
      "contextual answer: ডেস্কটপের তুলনায় ল্যাপটপের সম্প্রসারণ ক্ষমতা খুব কম\n",
      "generated: parametric answer:ল্যাপটপগুলি ডেস্কটপের মতো শক্তিশালী গ্রাফিক্স প্রসেসর সহ নয়, কারণ তাদের আকার এবং শক্তি সীমাবদ্ধতার কারণে। আধুনিক ল্যাপটপগুলি উন্নত গ্রাফিক্স প্রসেসর সহ উপলব্ধ।\n",
      "contextual answer: ল্যাপটপের গ্রাফিক্স প্রসেসর ডেস্কটপের গ্রাফিক্স প্রসেসরের তুলনায় পিছিয়ে আছে। এটি বৈজ্ঞানিক ও ৩ডি গেমিংয়ে ল্যাপটপের ব্যবহার সীমাবদ্ধ করে তোলে।\n"
     ]
    },
    {
     "name": "stderr",
     "output_type": "stream",
     "text": [
      "Processing rows:  11%|██████▌                                                      | 80/740 [14:23<2:28:05, 13.46s/row]"
     ]
    },
    {
     "name": "stdout",
     "output_type": "stream",
     "text": [
      "Target: parametric answer: বৈজ্ঞানিক; ৩ডি গেমিংয়ে\n",
      "contextual answer: বৈজ্ঞানিক; ৩ডি গেমিংয়ে\n",
      "generated: parametric answer:বৈজ্ঞানিক গবেষণা, উচ্চ পর্যায়ের গেমিং, ভিডিও সম্পাদনা, সফ্টওয়্যার ডেভেলপমেন্ট এবং অন্যান্য উচ্চ ক্ষমতা সম্পন্ন কাজে।\n",
      "contextual answer: বৈজ্ঞানিক এবং ৩ডি গেমিংয়ে।\n"
     ]
    },
    {
     "name": "stderr",
     "output_type": "stream",
     "text": [
      "Processing rows:  11%|██████▋                                                      | 81/740 [14:38<2:32:43, 13.91s/row]"
     ]
    },
    {
     "name": "stdout",
     "output_type": "stream",
     "text": [
      "Target: parametric answer: সম্প্রসারণ ক্ষমতা\n",
      "contextual answer: সম্প্রসারণ ক্ষমতা\n",
      "generated: parametric answer:সম্প্রসারণ ক্ষমতা\n",
      "contextual answer: সম্প্রসারণ সক্ষমতা\n"
     ]
    },
    {
     "name": "stderr",
     "output_type": "stream",
     "text": [
      "Processing rows:  11%|██████▊                                                      | 82/740 [14:51<2:32:05, 13.87s/row]"
     ]
    },
    {
     "name": "stdout",
     "output_type": "stream",
     "text": [
      "Target: parametric answer: আফ্রিকা এবং মধ্যপ্রাচ্যে\n",
      "contextual answer: আফ্রিকা এবং মধ্যপ্রাচ্যে\n",
      "generated: parametric answer:মেসোপটেমিয়া, মিশর, এবং ভারতে\n",
      "contextual answer: আফ্রিকা এবং মধ্যপ্রাচ্যে\n"
     ]
    },
    {
     "name": "stderr",
     "output_type": "stream",
     "text": [
      "Processing rows:  12%|███████                                                      | 86/740 [15:05<1:57:11, 10.75s/row]"
     ]
    },
    {
     "name": "stdout",
     "output_type": "stream",
     "text": [
      "Target: parametric answer: সুনসু আও\n",
      "contextual answer: সুনসু আও\n",
      "generated: parametric answer:সুনসু আও\n",
      "contextual answer: সুনসু আও\n"
     ]
    },
    {
     "name": "stderr",
     "output_type": "stream",
     "text": [
      "Processing rows:  12%|███████▏                                                     | 87/740 [15:20<2:09:59, 11.94s/row]"
     ]
    },
    {
     "name": "stdout",
     "output_type": "stream",
     "text": [
      "Target: parametric answer: যন্ত্রকৌশল;বায়বাকাশ প্রকৌশল;যানচলাচল প্রকৌশলে ব্যাপকভাবে ব্যবহৃত হয়\n",
      "contextual answer: যন্ত্রকৌশল;বায়বাকাশ প্রকৌশল;যানচলাচল প্রকৌশলে ব্যাপকভাবে ব্যবহৃত হয়\n",
      "generated: parametric answer:যন্ত্র প্রকৌশল, বায়বাকাশ প্রকৌশল, জলবাহী প্রকৌশল, এবং পরিবহন প্রকৌশল।\n",
      "contextual answer: যন্ত্রকৌশল, বায়বাকাশ প্রকৌশল, যানচলাচল প্রকৌশলে।\n"
     ]
    },
    {
     "name": "stderr",
     "output_type": "stream",
     "text": [
      "Processing rows:  12%|███████▎                                                     | 88/740 [15:41<2:38:35, 14.59s/row]"
     ]
    },
    {
     "name": "stdout",
     "output_type": "stream",
     "text": [
      "Target: parametric answer: ঘড়িতে একটি অর্ধবৃত্তাকার ভর পর্যায়বৃত্ত গতিতে আন্দোলিত হতে থাকে\n",
      "contextual answer: ঘড়িতে একটি অর্ধবৃত্তাকার ভর পর্যায়বৃত্ত গতিতে আন্দোলিত হতে থাকে\n",
      "generated: parametric answer:স্বয়ংক্রিয় ঘড়িগুলি ব্যক্তির গতিবিধি থেকে শক্তি সংগ্রহ করে, যা একটি রোটর বা অন্যান্য যান্ত্রিক উপাদানকে ঘোরানোর জন্য ব্যবহৃত হয়, যা তারপর একটি স্প্রিংকে চার্জ করে বা একটি ইলেকট্রিক মোটরকে চালিত করে।\n",
      "contextual answer: ব্যক্তি যখন হাঁটাহাঁটি বা দৌড়াদৌড়ি করে তখন ঘড়িতে একটি অর্ধবৃত্তাকার ভর পর্যায়বৃত্ত গতিতে আন্দোলিত হতে থাকে, যার ফলে মেইনস্প্রিং গতিশক্তি প্রাপ্ত হয় এবং ঘড়ির গতিকে নিয়ন্ত্রণ করে।\n"
     ]
    },
    {
     "name": "stderr",
     "output_type": "stream",
     "text": [
      "Processing rows:  12%|███████▍                                                     | 90/740 [15:58<2:18:13, 12.76s/row]"
     ]
    },
    {
     "name": "stdout",
     "output_type": "stream",
     "text": [
      "Target: parametric answer: কোয়ার্জ গতি\n",
      "contextual answer: কোয়ার্জ গতি\n",
      "generated: parametric answer:কোয়ার্টজ গতি।\n",
      "contextual answer: কোয়ার্টজ গতি।\n"
     ]
    },
    {
     "name": "stderr",
     "output_type": "stream",
     "text": [
      "Processing rows:  12%|███████▌                                                     | 91/740 [16:14<2:30:00, 13.87s/row]"
     ]
    },
    {
     "name": "stdout",
     "output_type": "stream",
     "text": [
      "Target: parametric answer: জাপানিজ 'সিকো'\n",
      "contextual answer: জাপানিজ 'সিকো'\n",
      "generated: parametric answer:সিকো কোম্পানি।\n",
      "contextual answer: জাপানিজ 'সিকো' কোম্পানি।\n"
     ]
    },
    {
     "name": "stderr",
     "output_type": "stream",
     "text": [
      "Processing rows:  12%|███████▌                                                     | 92/740 [16:29<2:31:18, 14.01s/row]"
     ]
    },
    {
     "name": "stdout",
     "output_type": "stream",
     "text": [
      "Target: parametric answer: কোয়ার্টজ ঘড়ি\n",
      "contextual answer: কোয়ার্টজ ঘড়ি\n",
      "generated: parametric answer:কোয়ার্টজ ঘড়ি সবচেয়ে নিখুঁতভাবে সময়ের হালনাগাদ করতে পারে।\n",
      "contextual answer: কোয়ার্টজ ঘড়ি সবচেয়ে নিখুঁতভাবে সময়ের হালনাগাদ করতে পারে।\n"
     ]
    },
    {
     "name": "stderr",
     "output_type": "stream",
     "text": [
      "Processing rows:  13%|███████▋                                                     | 93/740 [16:45<2:39:22, 14.78s/row]"
     ]
    },
    {
     "name": "stdout",
     "output_type": "stream",
     "text": [
      "Target: parametric answer: ডেনড্রোক্রোনোলজির\n",
      "contextual answer: ডেনড্রোক্রোনোলজির\n",
      "generated: parametric answer:ডেনড্রোক্রোনোলজির মাধ্যমে\n",
      "contextual answer: ডেনড্রোক্রোনোলজির মাধ্যমে\n"
     ]
    },
    {
     "name": "stderr",
     "output_type": "stream",
     "text": [
      "Processing rows:  13%|███████▊                                                     | 95/740 [16:59<2:14:06, 12.48s/row]"
     ]
    },
    {
     "name": "stdout",
     "output_type": "stream",
     "text": [
      "Target: parametric answer: প্রত্নবাস্তুবিদ্যা ;যেখানে অতীতের বাস্তুবিদ্যার কিছু দিক ;প্রত্নতত্ত্ব ;রেডিওকার্বন ডেটিং\n",
      "contextual answer: প্রত্নবাস্তুবিদ্যা ;যেখানে অতীতের বাস্তুবিদ্যার কিছু দিক ;প্রত্নতত্ত্ব ;রেডিওকার্বন ডেটিং\n",
      "generated: parametric answer:প্রত্নবাস্তুবিদ্যা, প্রত্নতত্ত্ব, রেডিওকার্বন ডেটিং, এবং জলবায়ু গবেষণা।\n",
      "contextual answer: প্রত্নবাস্তুবিদ্যা, প্রত্নতত্ত্ব, এবং রেডিওকার্বন ডেটিং।\n"
     ]
    },
    {
     "name": "stderr",
     "output_type": "stream",
     "text": [
      "Processing rows:  13%|███████▉                                                     | 96/740 [17:17<2:29:09, 13.90s/row]"
     ]
    },
    {
     "name": "stdout",
     "output_type": "stream",
     "text": [
      "Target: parametric answer: ১১\n",
      "contextual answer: ১১\n",
      "generated: parametric answer:বিভিন্ন অঞ্চলে এবং বৃক্ষের প্রজাতির উপর নির্ভর করে, তবে সাধারণত ১০ হাজার বছরের বেশি সময় পর্যন্ত বিশ্বাসযোগ্যভাবে কালক্রম পাওয়া সম\n",
      "contextual answer: ১১ হাজার বছর\n"
     ]
    },
    {
     "name": "stderr",
     "output_type": "stream",
     "text": [
      "Processing rows:  13%|███████▉                                                     | 97/740 [17:31<2:29:55, 13.99s/row]"
     ]
    },
    {
     "name": "stdout",
     "output_type": "stream",
     "text": [
      "Target: parametric answer: পঞ্চম\n",
      "contextual answer: পঞ্চম\n",
      "generated: parametric answer:পঞ্চম\n",
      "contextual answer: বৃহস্পতি গ্রহ সূর্য থেকে দূরত্বের দিক দিয়ে পঞ্চম।\n"
     ]
    },
    {
     "name": "stderr",
     "output_type": "stream",
     "text": [
      "Processing rows:  14%|████████                                                    | 100/740 [17:45<1:59:18, 11.18s/row]"
     ]
    },
    {
     "name": "stdout",
     "output_type": "stream",
     "text": [
      "Target: parametric answer: প্লুটোর\n",
      "contextual answer: প্লুটোর\n",
      "generated: parametric answer:প্লুটোর উদ্দেশ্যে যাত্রা শুরু করেছিল।\n",
      "contextual answer: প্লুটোর উদ্দেশ্যে যাত্রা শুরু করেছিল।\n"
     ]
    },
    {
     "name": "stderr",
     "output_type": "stream",
     "text": [
      "Processing rows:  14%|████████▏                                                   | 101/740 [17:59<2:08:27, 12.06s/row]"
     ]
    },
    {
     "name": "stdout",
     "output_type": "stream",
     "text": [
      "Target: parametric answer: ২০০৭ সালের ফেব্রুয়ারি মাসে\n",
      "contextual answer: ২০০৭ সালের ফেব্রুয়ারি মাসে\n",
      "generated: parametric answer:None\n",
      "contextual answer: ২০০৭ সালের ফেব্রুয়ারি মাসে\n"
     ]
    },
    {
     "name": "stderr",
     "output_type": "stream",
     "text": [
      "Processing rows:  14%|████████▎                                                   | 102/740 [18:13<2:16:33, 12.84s/row]"
     ]
    },
    {
     "name": "stdout",
     "output_type": "stream",
     "text": [
      "Target: parametric answer: জিউস\n",
      "contextual answer: জিউস\n",
      "generated: parametric answer:জিউস\n",
      "contextual answer: জিউস\n"
     ]
    },
    {
     "name": "stderr",
     "output_type": "stream",
     "text": [
      "Processing rows:  14%|████████▎                                                   | 103/740 [18:27<2:19:19, 13.12s/row]"
     ]
    },
    {
     "name": "stdout",
     "output_type": "stream",
     "text": [
      "Target: parametric answer: ২.৮\n",
      "contextual answer: ২.৮\n",
      "generated: parametric answer:২.৮ (বা একটি মান যা -২.৯ থেকে -১.৬ পর্যন\n",
      "contextual answer: ২.৮\n"
     ]
    },
    {
     "name": "stderr",
     "output_type": "stream",
     "text": [
      "Processing rows:  14%|████████▍                                                   | 104/740 [18:41<2:21:33, 13.35s/row]"
     ]
    },
    {
     "name": "stdout",
     "output_type": "stream",
     "text": [
      "Target: parametric answer: টি এ গাঙ্গুলী\n",
      "contextual answer: টি এ গাঙ্গুলী\n",
      "generated: parametric answer:দেশের পুনর্বাসনে অবদান রাখা আর্চবিশপ টি এ গাঙ্গুলী ছিলেন বলে জানা যায়।\n",
      "contextual answer: টি এ গাঙ্গুলী\n"
     ]
    },
    {
     "name": "stderr",
     "output_type": "stream",
     "text": [
      "Processing rows:  14%|████████▌                                                   | 105/740 [18:55<2:23:10, 13.53s/row]"
     ]
    },
    {
     "name": "stdout",
     "output_type": "stream",
     "text": [
      "Target: parametric answer: নিজের গলার স্বর্ণের চেইন ও ক্রুশ\n",
      "contextual answer: নিজের গলার স্বর্ণের চেইন ও ক্রুশ\n",
      "generated: parametric answer:স্বর্ণের চেইন ও ক্রুশ\n",
      "contextual answer: স্বর্ণের চেইন ও ক্রুশ\n"
     ]
    },
    {
     "name": "stderr",
     "output_type": "stream",
     "text": [
      "Processing rows:  14%|████████▌                                                   | 106/740 [19:11<2:29:12, 14.12s/row]"
     ]
    },
    {
     "name": "stdout",
     "output_type": "stream",
     "text": [
      "Target: parametric answer: বিশিষ্ট মুক্তিযোদ্ধা ,যিনি বর্তমান সরকারের একজন সমাজ কল্যাণ প্রতিমন্ত্রী হিসেবে দায়িত্ব পালন করছেন\n",
      "contextual answer: বিশিষ্ট মুক্তিযোদ্ধা ,যিনি বর্তমান সরকারের একজন সমাজ কল্যাণ প্রতিমন্ত্রী হিসেবে দায়িত্ব পালন করছেন\n",
      "generated: parametric answer:একজন মুক্তিযোদ্ধা এবং সমাজকল্যাণে জড়িত ব্যক্তি।\n",
      "contextual answer: বিশিষ্ট মুক্তিযোদ্ধা এবং বর্তমান সরকারের একজন সমাজ কল্যাণ প্রতিমন্ত্রী।\n"
     ]
    },
    {
     "name": "stderr",
     "output_type": "stream",
     "text": [
      "Processing rows:  14%|████████▋                                                   | 107/740 [19:27<2:34:54, 14.68s/row]"
     ]
    },
    {
     "name": "stdout",
     "output_type": "stream",
     "text": [
      "Target: parametric answer: মুক্তিযোদ্ধা ও বিশিষ্ট সাংবাদিক চিত্ত\n",
      "contextual answer: মুক্তিযোদ্ধা ও বিশিষ্ট সাংবাদিক চিত্ত\n",
      "generated: parametric answer:চিত্ত ফ্রান্সিস রিবেরূ একজন বিশিষ্ট বাংলাদেশী সাংবাদিক এবং মুক্তিযোদ্ধা।\n",
      "contextual answer: চিত্ত ফ্রান্সিস রিবেরূ একজন মুক্তিযোদ্ধা এবং বিশিষ্ট সাংবাদিক।\n"
     ]
    },
    {
     "name": "stderr",
     "output_type": "stream",
     "text": [
      "Processing rows:  15%|████████▊                                                   | 108/740 [19:42<2:37:52, 14.99s/row]"
     ]
    },
    {
     "name": "stdout",
     "output_type": "stream",
     "text": [
      "Target: parametric answer: নেটস্কেপের মত কোম্পানিগুলোর জন্যে প্রযুক্তি প্রদান করা\n",
      "contextual answer: নেটস্কেপের মত কোম্পানিগুলোর জন্যে প্রযুক্তি প্রদান করা\n",
      "generated: parametric answer:মোজিলা একটি অলাভজনক সংস্থা যার লক্ষ্য ওপেন সোর্স সফ্টওয়্যার এবং ওপেন ওয়েব প্রযুক্তির প্রচার করা। মোজিলার উদ্দেশ্য হল ইন্টারনেট এবং ওয়েব প্রযুক\n",
      "contextual answer: মোজিলার প্রধান উদ্দেশ্য ছিল নেটস্কেপের মত কোম্পানিগুলোর জন্য প্রযুক্তি প্রদান করা, যারা তাদের ওপেন সোর্স কোডকে বাণিজ্যিকীকরণ করবে।\n"
     ]
    },
    {
     "name": "stderr",
     "output_type": "stream",
     "text": [
      "Processing rows:  15%|████████▉                                                   | 110/740 [19:59<2:16:27, 13.00s/row]"
     ]
    },
    {
     "name": "stdout",
     "output_type": "stream",
     "text": [
      "Target: parametric answer: $১৬৩ মিলিয়ন\n",
      "contextual answer: $১৬৩ মিলিয়ন\n",
      "generated: parametric answer:$১৬৩ ম\n",
      "contextual answer: $১৬৩ মিলিয়ন\n"
     ]
    },
    {
     "name": "stderr",
     "output_type": "stream",
     "text": [
      "Processing rows:  15%|█████████                                                   | 111/740 [20:15<2:24:33, 13.79s/row]"
     ]
    },
    {
     "name": "stdout",
     "output_type": "stream",
     "text": [
      "Target: parametric answer: ডিসেম্বর ২০১৩ সালে\n",
      "contextual answer: ডিসেম্বর ২০১৩ সালে\n",
      "generated: parametric answer:None\n",
      "contextual answer: ডিসেম্বর ২০১৩ সালে ফায়ারফক্স নন-ফ্রি গেমের উন্নয়নের জন্যে অর্থায়নের কথা জানায়।\n"
     ]
    },
    {
     "name": "stderr",
     "output_type": "stream",
     "text": [
      "Processing rows:  15%|█████████                                                   | 112/740 [20:29<2:24:51, 13.84s/row]"
     ]
    },
    {
     "name": "stdout",
     "output_type": "stream",
     "text": [
      "Target: parametric answer: মোবাইল ডিভাইস (আমার কাছে যা আছে); ফিঙ্গারপ্রিন্ট স্ক্যান (আমি কে); আলফানিউমেরিক পাসওয়ার্ড (আমি যা জানি)\n",
      "contextual answer: মোবাইল ডিভাইস (আমার কাছে যা আছে); ফিঙ্গারপ্রিন্ট স্ক্যান (আমি কে); আলফানিউমেরিক পাসওয়ার্ড (আমি যা জানি)\n",
      "generated: parametric answer:মাল্টি-ফ্যাক্টর প্রমাণীকরণ হল একটি নিরাপত্তা প\n",
      "contextual answer: মাল্টি-ফ্যাক্টর প্রমাণীকরণে তিনটি উপাদান রয়েছে: (ক) মোবাইল ডিভাইস (আমার কাছে যা আছে), (খ) ফিঙ্গারপ্রিন্ট স্ক্যান (আমি কে), এবং (গ) আলফানিউমেরিক পাসওয়ার্ড (আমি যা জানি)।\n"
     ]
    },
    {
     "name": "stderr",
     "output_type": "stream",
     "text": [
      "Processing rows:  16%|█████████▍                                                  | 116/740 [20:42<1:51:31, 10.72s/row]"
     ]
    },
    {
     "name": "stdout",
     "output_type": "stream",
     "text": [
      "Target: parametric answer: চীনা অ্যান্ড্রয়েড ডিভাইসগুলিকে\n",
      "contextual answer: চীনা অ্যান্ড্রয়েড ডিভাইসগুলিকে\n",
      "generated: parametric answer:এসএমএসজম্বি হল একটি ম্যালওয়্যার যা অ্যান্ড্রয়েড ডিভাইসগুলিকে লক্ষ্য করে।\n",
      "contextual answer: এসএমএসজম্বি চীনা অ্যান্ড্রয়েড ডিভাইসগুলিকে সংক্রামিত করে।\n"
     ]
    },
    {
     "name": "stderr",
     "output_type": "stream",
     "text": [
      "Processing rows:  16%|█████████▍                                                  | 117/740 [20:57<2:04:41, 12.01s/row]"
     ]
    },
    {
     "name": "stdout",
     "output_type": "stream",
     "text": [
      "Target: parametric answer: ২০০৫\n",
      "contextual answer: ২০০৫\n",
      "generated: parametric answer:২০০৫\n",
      "contextual answer: ফাউন্ডেশনটি ২০০৫ সালে প্রতিষ্ঠিত হয়েছিল।\n"
     ]
    },
    {
     "name": "stderr",
     "output_type": "stream",
     "text": [
      "Processing rows:  16%|█████████▋                                                  | 120/740 [21:14<1:43:56, 10.06s/row]"
     ]
    },
    {
     "name": "stdout",
     "output_type": "stream",
     "text": [
      "Target: parametric answer: ব্যক্তিগত অনুদানের দ্বারা; ইউএনএআইডিএস-এর অনুদানের দ্বারা; জাতিসংঘের মাদক ও অপরাধ দপ্তর\n",
      "contextual answer: ব্যক্তিগত অনুদানের দ্বারা; ইউএনএআইডিএস-এর অনুদানের দ্বারা; জাতিসংঘের মাদক ও অপরাধ দপ্তর\n",
      "generated: parametric answer:None\n",
      "contextual answer: রিনিউ ব্যক্তিগত অনুদান, ইউএনএআই\n"
     ]
    },
    {
     "name": "stderr",
     "output_type": "stream",
     "text": [
      "Processing rows:  16%|█████████▊                                                  | 121/740 [21:31<2:04:56, 12.11s/row]"
     ]
    },
    {
     "name": "stdout",
     "output_type": "stream",
     "text": [
      "Target: parametric answer: শহরের পাচারকৃত নারী ও মেয়েদের জীবন উন্নয়নে অক্লান্ত পরিশ্রমের জন্য\n",
      "contextual answer: শহরের পাচারকৃত নারী ও মেয়েদের জীবন উন্নয়নে অক্লান্ত পরিশ্রমের জন্য\n",
      "generated: parametric answer:মায়লিন ফুলার, সোরোপটিমিস্ট রুবি অ্যাওয়ার্ড, শহরের পাচারকৃত নারী ও মেয়ে।\n",
      "contextual answer: শহরের পাচারকৃত নারী ও মেয়েদের জন্য কাজের স্বীকৃতিস্বরূপ মায়লিন ফুলারকে সোরোপটিমিস্ট রুবি অ্যাওয়ার্ড প্রদান করা হয়েছে।\n"
     ]
    },
    {
     "name": "stderr",
     "output_type": "stream",
     "text": [
      "Processing rows:  17%|█████████▉                                                  | 123/740 [21:48<1:53:43, 11.06s/row]"
     ]
    },
    {
     "name": "stdout",
     "output_type": "stream",
     "text": [
      "Target: parametric answer: যাবির ইবনে জায়েদের\n",
      "contextual answer: যাবির ইবনে জায়েদের\n",
      "generated: parametric answer:যাবির ইবনে জায়েদের অনুসারী\n",
      "contextual answer: যাবির ইবনে জায়েদের অনুসারী (তাবেয়ি)\n"
     ]
    },
    {
     "name": "stderr",
     "output_type": "stream",
     "text": [
      "Processing rows:  17%|██████████▏                                                 | 125/740 [22:04<1:44:17, 10.17s/row]"
     ]
    },
    {
     "name": "stdout",
     "output_type": "stream",
     "text": [
      "Target: parametric answer: আধ্যাত্মিক এবং ব্যক্তিগত গুণাবলীর অধিকারী যারা আছে, সেই প্রার্থীদের কাছ থেকে বিভিন্ন সম্প্রদায়ের দ্বারা নির্বাচিত ইমামের দ্বারা ইসলামের নেতৃত্বের মনোনীত করা উচিত\n",
      "contextual answer: আধ্যাত্মিক এবং ব্যক্তিগত গুণাবলীর অধিকারী যারা আছে, সেই প্রার্থীদের কাছ থেকে বিভিন্ন সম্প্রদায়ের দ্বারা নির্বাচিত ইমামের দ্বারা ইসলামের নেতৃত্বের মনোনীত করা উচিত\n",
      "generated: parametric answer:ইবাদিরা দৃঢ়ভাবে দাবি করে যে নেতৃত্ব নির্বাচন করা উচিত আধ্যাত্মিক ও ব্যক্তিগত গুণাবলীর উপর ভিত্তি করে।\n",
      "contextual answer: ইবাদিরা দৃঢ়ভাবে দাবি করে যে আধ্যাত্মিক ও ব্যক্তিগত গুণাবলীর অধিকারী যারা আছে, সেই প্রার্থীদের কাছ থেকে বিভিন্ন সম্প্রদায়ের দ্বারা নির্বাচিত ইমামের দ্বারা ইসলামের নেতৃত্বের মনোনীত করা উচিত।\n"
     ]
    },
    {
     "name": "stderr",
     "output_type": "stream",
     "text": [
      "Processing rows:  17%|██████████▏                                                 | 126/740 [22:20<2:02:38, 11.98s/row]"
     ]
    },
    {
     "name": "stdout",
     "output_type": "stream",
     "text": [
      "Target: parametric answer: একজন ইমামের উপর\n",
      "contextual answer: একজন ইমামের উপর\n",
      "generated: parametric answer:একজন ইমামের উপর।\n",
      "contextual answer: একজন ইমামের উপর।\n"
     ]
    },
    {
     "name": "stderr",
     "output_type": "stream",
     "text": [
      "Processing rows:  17%|██████████▎                                                 | 127/740 [22:34<2:08:10, 12.55s/row]"
     ]
    },
    {
     "name": "stdout",
     "output_type": "stream",
     "text": [
      "Target: parametric answer: ইমাম বিশিষ্ট ব্যক্তিদের বা শায়েখদের কাউন্সিল দ্বারা\n",
      "contextual answer: ইমাম বিশিষ্ট ব্যক্তিদের বা শায়েখদের কাউন্সিল দ্বারা\n",
      "generated: parametric answer:ইমাম সাধারণত একটি কাউন্সিল বা শুরা দ্বারা নির্বাচিত হন, যা সম্প্রদায়ের বিশিষ্ট ব্যক্তিদের নিয়ে গঠিত।\n",
      "contextual answer: ইমাম বিশিষ্ট ব্যক্তিদের বা শায়েখদের কাউন্সিল দ্বারা নির্বাচিত হন।\n"
     ]
    },
    {
     "name": "stderr",
     "output_type": "stream",
     "text": [
      "Processing rows:  17%|██████████▍                                                 | 128/740 [22:48<2:12:14, 12.97s/row]"
     ]
    },
    {
     "name": "stdout",
     "output_type": "stream",
     "text": [
      "Target: parametric answer: রেশম সুতা উৎপাদনের লক্ষ্যে রেশমপোকা প্রতিপালনকে\n",
      "contextual answer: রেশম সুতা উৎপাদনের লক্ষ্যে রেশমপোকা প্রতিপালনকে\n",
      "generated: parametric answer:রেশম সুতা উৎপাদনের লক্ষ্যে রেশমপোকা প্রতিপালনকে রেশম চাষ বলে।\n",
      "contextual answer: রেশম সুতা উৎপাদনের লক্ষ্যে রেশমপোকা প্রতিপালনকে রেশম চাষ বলে।\n"
     ]
    },
    {
     "name": "stderr",
     "output_type": "stream",
     "text": [
      "Processing rows:  18%|██████████▌                                                 | 130/740 [23:04<1:56:26, 11.45s/row]"
     ]
    },
    {
     "name": "stdout",
     "output_type": "stream",
     "text": [
      "Target: parametric answer: সেরিসিন\n",
      "contextual answer: সেরিসিন\n",
      "generated: parametric answer:ফাইব্রোইন এবং সেরিসিন\n",
      "contextual answer: সেরিসিন\n"
     ]
    },
    {
     "name": "stderr",
     "output_type": "stream",
     "text": [
      "Processing rows:  18%|██████████▌                                                 | 131/740 [23:18<2:03:50, 12.20s/row]"
     ]
    },
    {
     "name": "stdout",
     "output_type": "stream",
     "text": [
      "Target: parametric answer: চীন\n",
      "contextual answer: চীন\n",
      "generated: parametric answer:চীন\n",
      "contextual answer: চীন\n"
     ]
    },
    {
     "name": "stderr",
     "output_type": "stream",
     "text": [
      "Processing rows:  18%|██████████▋                                                 | 132/740 [23:32<2:08:58, 12.73s/row]"
     ]
    },
    {
     "name": "stdout",
     "output_type": "stream",
     "text": [
      "Target: parametric answer: চুরি করে\n",
      "contextual answer: চুরি করে\n",
      "generated: parametric answer:চীন থেকে রেশম পোকার ডিম এবং তুঁত গাছের বীজ চুরি করে নিয়ে এসে রেশম উৎপাদনের কৌশল শিখে নেন।\n",
      "contextual answer: চুরি করে রেশম উৎপাদনের কৌশল শিখে নেন।\n"
     ]
    },
    {
     "name": "stderr",
     "output_type": "stream",
     "text": [
      "Processing rows:  18%|██████████▊                                                 | 133/740 [23:48<2:17:36, 13.60s/row]"
     ]
    },
    {
     "name": "stdout",
     "output_type": "stream",
     "text": [
      "Target: parametric answer: তুঁতপাতা উৎপাদন; রেশম পোকা (পলু) পালন; রেশম পোকার রোগ, পেষ্ট ও নিয়ন্ত্রণ ব্যবস্থা\n",
      "contextual answer: তুঁতপাতা উৎপাদন; রেশম পোকা (পলু) পালন; রেশম পোকার রোগ, পেষ্ট ও নিয়ন্ত্রণ ব্যবস্থা\n",
      "generated: parametric answer:রেশম পোকা প্রতিপালন করে রেশম সুতা উৎপাদন করা, যাতে রেশম পোকার ডিম থেকে শ\n",
      "contextual answer: রেশম পোকা প্রতিপালন করে রেশম সুতা উৎপাদন করা।\n"
     ]
    },
    {
     "name": "stderr",
     "output_type": "stream",
     "text": [
      "Processing rows:  18%|██████████▊                                                 | 134/740 [24:05<2:27:27, 14.60s/row]"
     ]
    },
    {
     "name": "stdout",
     "output_type": "stream",
     "text": [
      "Target: parametric answer: ভাষাবিজ্ঞান শাস্ত্রে\n",
      "contextual answer: ভাষাবিজ্ঞান শাস্ত্রে\n",
      "generated: parametric answer:ভাষাবিজ্ঞান শাস্ত্রে\n",
      "contextual answer: ভাষাবিজ্ঞান শাস্ত্রে\n"
     ]
    },
    {
     "name": "stderr",
     "output_type": "stream",
     "text": [
      "Processing rows:  18%|██████████▉                                                 | 135/740 [24:19<2:26:22, 14.52s/row]"
     ]
    },
    {
     "name": "stdout",
     "output_type": "stream",
     "text": [
      "Target: parametric answer: \"রূপান্তরমূলক উৎপাদনশীল ব্যাকরণ\"\n",
      "contextual answer: \"রূপান্তরমূলক উৎপাদনশীল ব্যাকরণ\"\n",
      "generated: parametric answer:রূপান্তরমূলক উৎপাদনশীল ব্যাকরণ\n",
      "contextual answer: রূপান্তরমূলক উৎপাদনশীল ব্যাকরণ\n"
     ]
    },
    {
     "name": "stderr",
     "output_type": "stream",
     "text": [
      "Processing rows:  18%|███████████                                                 | 136/740 [24:33<2:23:56, 14.30s/row]"
     ]
    },
    {
     "name": "stdout",
     "output_type": "stream",
     "text": [
      "Target: parametric answer: মানবমন-সংক্রান্ত\n",
      "contextual answer: মানবমন-সংক্রান্ত\n",
      "generated: parametric answer:মানব মন ও সংজ্ঞানাত্মক বিজ্ঞান সংক্রান্ত বিষয় গবেষণার কেন্দ্রে\n",
      "contextual answer: মানবমন-সংক্রান্ত বিষয় গবেষণার কেন্দ্রে\n"
     ]
    },
    {
     "name": "stderr",
     "output_type": "stream",
     "text": [
      "Processing rows:  19%|███████████                                                 | 137/740 [24:48<2:26:47, 14.61s/row]"
     ]
    },
    {
     "name": "stdout",
     "output_type": "stream",
     "text": [
      "Target: parametric answer: ওসামু তেজুকা\n",
      "contextual answer: ওসামু তেজুকা\n",
      "generated: parametric answer:ওসামু তেজুকা\n",
      "contextual answer: ওসামু তেজুকা\n"
     ]
    },
    {
     "name": "stderr",
     "output_type": "stream",
     "text": [
      "Processing rows:  19%|███████████▎                                                | 140/740 [25:02<1:56:11, 11.62s/row]"
     ]
    },
    {
     "name": "stdout",
     "output_type": "stream",
     "text": [
      "Target: parametric answer: ১৯৫২\n",
      "contextual answer: ১৯৫২\n",
      "generated: parametric answer:১৯৫২ সালে\n",
      "contextual answer: ১৯৫২ সালে\n"
     ]
    },
    {
     "name": "stderr",
     "output_type": "stream",
     "text": [
      "Processing rows:  19%|███████████▍                                                | 141/740 [25:19<2:12:01, 13.23s/row]"
     ]
    },
    {
     "name": "stdout",
     "output_type": "stream",
     "text": [
      "Target: parametric answer: ১৯৮০\n",
      "contextual answer: ১৯৮০\n",
      "generated: parametric answer:১৯৮০ খ্রিষ্টাব্দে\n",
      "contextual answer: ১৯৮০ খ্রিষ্টাব্দে\n"
     ]
    },
    {
     "name": "stderr",
     "output_type": "stream",
     "text": [
      "Processing rows:  19%|███████████▌                                                | 142/740 [25:33<2:13:30, 13.40s/row]"
     ]
    },
    {
     "name": "stdout",
     "output_type": "stream",
     "text": [
      "Target: parametric answer: ২৩ অক্টোবর, ২০০৯\n",
      "contextual answer: ২৩ অক্টোবর, ২০০৯\n",
      "generated: parametric answer:২৩ অক্টোবর, ২০০৯।\n",
      "contextual answer: ২৩ অক্টোবর, ২০০৯।\n"
     ]
    },
    {
     "name": "stderr",
     "output_type": "stream",
     "text": [
      "Processing rows:  19%|███████████▌                                                | 143/740 [25:47<2:14:45, 13.54s/row]"
     ]
    },
    {
     "name": "stdout",
     "output_type": "stream",
     "text": [
      "Target: parametric answer: আয়ারল্যান্ডের ডাবলিনের সেন্ট স্টিফেনস গ্রীণ এর দক্ষিণ পাশে একটি সুষমা-মণ্ডিত অট্টালিকায়\n",
      "contextual answer: আয়ারল্যান্ডের ডাবলিনের সেন্ট স্টিফেনস গ্রীণ এর দক্ষিণ পাশে একটি সুষমা-মণ্ডিত অট্টালিকায়\n",
      "generated: parametric answer:আয়ারল্যান্ডের ডাবলিনের সেন্ট স্টিফেনস গ্রীণের দক্ষিণ পাশে।\n",
      "contextual answer: আয়ারল্যান্ডের ডাবলিনের সেন্ট স্টিফেনস গ্রীণের দক্ষিণ পাশে।\n"
     ]
    },
    {
     "name": "stderr",
     "output_type": "stream",
     "text": [
      "Processing rows:  20%|███████████▊                                                | 145/740 [26:03<1:58:10, 11.92s/row]"
     ]
    },
    {
     "name": "stdout",
     "output_type": "stream",
     "text": [
      "Target: parametric answer: ম্যারিয়ট ইন্টারন্যাশনাল\n",
      "contextual answer: ম্যারিয়ট ইন্টারন্যাশনাল\n",
      "generated: parametric answer:ম্যারিয়ট ইন্টারন্যাশনাল দ্বারা পরিচালিত হয়।\n",
      "contextual answer: ম্যারিয়ট ইন্টারন্যাশনাল দ্বারা পরিচালিত হয়।\n"
     ]
    },
    {
     "name": "stderr",
     "output_type": "stream",
     "text": [
      "Processing rows:  20%|███████████▊                                                | 146/740 [26:17<2:04:22, 12.56s/row]"
     ]
    },
    {
     "name": "stdout",
     "output_type": "stream",
     "text": [
      "Target: parametric answer: জন ম্যাক কার্ডি\n",
      "contextual answer: জন ম্যাক কার্ডি\n",
      "generated: parametric answer:জন ম্যাক কার্ডি\n",
      "contextual answer: জন ম্যাক কার্ডি\n"
     ]
    },
    {
     "name": "stderr",
     "output_type": "stream",
     "text": [
      "Processing rows:  20%|███████████▉                                                | 147/740 [26:31<2:07:57, 12.95s/row]"
     ]
    },
    {
     "name": "stdout",
     "output_type": "stream",
     "text": [
      "Target: parametric answer: পূর্বে অ্যামেরিটেক প্লাজা এবং এসবিসি প্লাজা\n",
      "contextual answer: পূর্বে অ্যামেরিটেক প্লাজা এবং এসবিসি প্লাজা\n",
      "generated: parametric answer:অ্যামেরিটেক প্লাজা এবং এসবিসি প্লাজা।\n",
      "contextual answer: অ্যামেরিটেক প্লাজা এবং এসবিসি প্লাজা।\n"
     ]
    },
    {
     "name": "stderr",
     "output_type": "stream",
     "text": [
      "Processing rows:  20%|████████████▏                                               | 150/740 [26:47<1:45:02, 10.68s/row]"
     ]
    },
    {
     "name": "stdout",
     "output_type": "stream",
     "text": [
      "Target: parametric answer: মিলেনিয়াম পার্কে\n",
      "contextual answer: মিলেনিয়াম পার্কে\n",
      "generated: parametric answer:শিকাগোর লুপ সম্প্রদায় এলাকার মধ্যে মিলেনিয়াম পার্কে অবস্থিত।\n",
      "contextual answer: শিকাগোর লুপ সম্প্রদায় এলাকার মধ্যে মিলেনিয়াম পার্কে অবস্থিত।\n"
     ]
    },
    {
     "name": "stderr",
     "output_type": "stream",
     "text": [
      "Processing rows:  20%|████████████▏                                               | 151/740 [27:03<2:00:16, 12.25s/row]"
     ]
    },
    {
     "name": "stdout",
     "output_type": "stream",
     "text": [
      "Target: parametric answer: তৃতীয় সহস্রাব্দ উদযাপনের জন্য নির্মাণ করা হয়\n",
      "contextual answer: তৃতীয় সহস্রাব্দ উদযাপনের জন্য নির্মাণ করা হয়\n",
      "generated: parametric answer:এটি অ্যান্ড টি প্লাজা সম্ভবত পর্যটকদের আকর্ষণ করার জন্য এবং শহরের সৌন্দর্য বৃদ্ধি করার জন্য নির্মাণ করা হয়েছে।\n",
      "contextual answer: প্রসঙ্গটি এই প্রশ্নের উত্তর দেয় না।\n"
     ]
    },
    {
     "name": "stderr",
     "output_type": "stream",
     "text": [
      "Processing rows:  21%|████████████▎                                               | 152/740 [27:19<2:11:31, 13.42s/row]"
     ]
    },
    {
     "name": "stdout",
     "output_type": "stream",
     "text": [
      "Target: parametric answer: কংক্রিটের তৈরি\n",
      "contextual answer: কংক্রিটের তৈরি\n",
      "generated: parametric answer:কংক্রিট\n",
      "contextual answer: কংক্রিট\n"
     ]
    },
    {
     "name": "stderr",
     "output_type": "stream",
     "text": [
      "Processing rows:  21%|████████████▍                                               | 153/740 [27:33<2:12:27, 13.54s/row]"
     ]
    },
    {
     "name": "stdout",
     "output_type": "stream",
     "text": [
      "Target: parametric answer: অসমতল বিশেষকরে পাহাড়ী রাস্তায় সাইকেল চালনার এক ধরনের ক্রীড়া\n",
      "contextual answer: অসমতল বিশেষকরে পাহাড়ী রাস্তায় সাইকেল চালনার এক ধরনের ক্রীড়া\n",
      "generated: parametric answer:মাউন্টেন বাইকিং হলো একটি ক্রীড়া যেখানে পাহাড়ী এবং অসমতল এলাকায় সাইকেল চালানো হয়, যা শারীরিক সুস্থতা এবং ক্রীড়া উত্সাহীদের মধ্যে প্রিয়।\n",
      "contextual answer: মাউন্টেন বাইকিং হলো অসমতল বিশেষকরে পাহাড়ী রাস্তায় সাইকেল চালনার এক ধরনের ক্রীড়া।\n"
     ]
    },
    {
     "name": "stderr",
     "output_type": "stream",
     "text": [
      "Processing rows:  21%|████████████▌                                               | 155/740 [27:47<1:52:34, 11.55s/row]"
     ]
    },
    {
     "name": "stdout",
     "output_type": "stream",
     "text": [
      "Target: parametric answer: ১৮৮৬ সালের আগস্টে\n",
      "contextual answer: ১৮৮৬ সালের আগস্টে\n",
      "generated: parametric answer:সঠিক তারিখ নির্দিষ্ট করা কঠিন, কিন্তু সাধারণত ১৯শ শতাব্দীর শেষের দিকে বা ২০শ শতাব্দীর গোড়ার দিকে হয়েছিল বলে মনে করা হয়।\n",
      "contextual answer: ১৮৮৬ সালের আগস্টে\n"
     ]
    },
    {
     "name": "stderr",
     "output_type": "stream",
     "text": [
      "Processing rows:  21%|████████████▋                                               | 156/740 [28:01<2:00:18, 12.36s/row]"
     ]
    },
    {
     "name": "stdout",
     "output_type": "stream",
     "text": [
      "Target: parametric answer: না\n",
      "contextual answer: না\n",
      "generated: parametric answer:না, মাউন্টেন বাইকিং একটি সমতল রাস্তায় সাইকেল চালানোর বিষয়ে নয়।\n",
      "contextual answer: না, মাউন্টেন বাইকিং একটি সমতল রাস্তায় সাইকেল চালানোর বিষয়ে নয়।\n"
     ]
    },
    {
     "name": "stderr",
     "output_type": "stream",
     "text": [
      "Processing rows:  21%|████████████▋                                               | 157/740 [28:16<2:06:54, 13.06s/row]"
     ]
    },
    {
     "name": "stdout",
     "output_type": "stream",
     "text": [
      "Target: parametric answer: মাউন্টেন বাইকিং\n",
      "contextual answer: মাউন্টেন বাইকিং\n",
      "generated: parametric answer:পাহাড়ি বা অসমতল রাস্তায় চলাচলের ক্ষেত্রে সাধারণত সাধারণ সাইকেল এর পরিবর্তে বিশেষ ধরনের সাইকেল ব্যবহার করা হয়।\n",
      "contextual answer: মাউন্টেন বাইকিং এর ক্ষেত্রে সাধারণত সাধারণ সাইকেল এর পরিবর্তে বিশেষ ধরনের সাইকেল ব্যবহার করা হয়।\n"
     ]
    },
    {
     "name": "stderr",
     "output_type": "stream",
     "text": [
      "Processing rows:  21%|████████████▊                                               | 158/740 [28:32<2:17:15, 14.15s/row]"
     ]
    },
    {
     "name": "stdout",
     "output_type": "stream",
     "text": [
      "Target: parametric answer: ৮৩৭\n",
      "contextual answer: ৮৩৭\n",
      "generated: parametric answer:৮৩৭\n",
      "contextual answer: ৮৩৭\n"
     ]
    },
    {
     "name": "stderr",
     "output_type": "stream",
     "text": [
      "Processing rows:  22%|█████████████▏                                              | 162/740 [28:46<1:45:32, 10.96s/row]"
     ]
    },
    {
     "name": "stdout",
     "output_type": "stream",
     "text": [
      "Target: parametric answer: খলিফা আল-মুতাসিমের\n",
      "contextual answer: খলিফা আল-মুতাসিমের\n",
      "generated: parametric answer:খলিফা আল-মুতাসিমের\n",
      "contextual answer: খলিফা আল-মুতাসিমের\n"
     ]
    },
    {
     "name": "stderr",
     "output_type": "stream",
     "text": [
      "Processing rows:  22%|█████████████▏                                              | 163/740 [29:00<1:54:08, 11.87s/row]"
     ]
    },
    {
     "name": "stdout",
     "output_type": "stream",
     "text": [
      "Target: parametric answer: ডোরিলাইয়ামে\n",
      "contextual answer: ডোরিলাইয়ামে\n",
      "generated: parametric answer:None\n",
      "contextual answer: ডোরিল\n"
     ]
    },
    {
     "name": "stderr",
     "output_type": "stream",
     "text": [
      "Processing rows:  22%|█████████████▎                                              | 164/740 [29:14<1:59:42, 12.47s/row]"
     ]
    },
    {
     "name": "stdout",
     "output_type": "stream",
     "text": [
      "Target: parametric answer: গৌণ ব্যাটারি\n",
      "contextual answer: গৌণ ব্যাটারি\n",
      "generated: parametric answer:গৌণ ব্যাটারি বা রিচার্জেবল ব্যাটারি।\n",
      "contextual answer: গৌণ ব্যাটারি, যা সেকেন্ডারি সেল বা রিচার্জেবল ব্যাটারি হিসাবেও পরিচিত।\n"
     ]
    },
    {
     "name": "stderr",
     "output_type": "stream",
     "text": [
      "Processing rows:  22%|█████████████▍                                              | 165/740 [29:34<2:19:32, 14.56s/row]"
     ]
    },
    {
     "name": "stdout",
     "output_type": "stream",
     "text": [
      "Target: parametric answer: বৈদ্যুতিক প্রবাহ প্রয়োগ করে\n",
      "contextual answer: বৈদ্যুতিক প্রবাহ প্রয়োগ করে\n",
      "generated: parametric answer:রিচার্জেবল ব্যাটারিগুলি একটি চার্জার ব্যবহার করে পুনরায় চার্জ করা হয়, যা ব্যাটারিতে বৈদ্যুতিক প্রবাহ সরবরাহ করে এবং এর রাসায়নিক বিক্রিয়াকে বিপরীত দিকে ঘটায়।\n",
      "contextual answer: রিচার্জেবল ব্যাটারিগুলি বৈদ্যুতিক প্রবাহ প্রয়োগ করে পুনরায় চার্জ করা হয়, যা ক্ষরণ/ব্যবহারের সময় ঘটে এমন রাসায়নিক বিক্রিয়াকে বিপরীত দিকে ঘটায়।\n"
     ]
    },
    {
     "name": "stderr",
     "output_type": "stream",
     "text": [
      "Processing rows:  22%|█████████████▍                                              | 166/740 [29:52<2:29:36, 15.64s/row]"
     ]
    },
    {
     "name": "stdout",
     "output_type": "stream",
     "text": [
      "Target: parametric answer: লেড-অ্যাসিড ব্যাটারি\n",
      "contextual answer: লেড-অ্যাসিড ব্যাটারি\n",
      "generated: parametric answer:লেড-অ্যাসিড ব্যাটারি\n",
      "contextual answer: লেড-অ্যাসিড ব্যাটারি\n"
     ]
    },
    {
     "name": "stderr",
     "output_type": "stream",
     "text": [
      "Processing rows:  23%|█████████████▌                                              | 167/740 [30:06<2:24:33, 15.14s/row]"
     ]
    },
    {
     "name": "stdout",
     "output_type": "stream",
     "text": [
      "Target: parametric answer: ডিম্বাণু\n",
      "contextual answer: ডিম্বাণু\n",
      "generated: parametric answer:ডিম্বাণু\n",
      "contextual answer: ডিম্বাণু\n"
     ]
    },
    {
     "name": "stderr",
     "output_type": "stream",
     "text": [
      "Processing rows:  23%|█████████████▊                                              | 170/740 [30:20<1:54:19, 12.03s/row]"
     ]
    },
    {
     "name": "stdout",
     "output_type": "stream",
     "text": [
      "Target: parametric answer: দুই\n",
      "contextual answer: দুই\n",
      "generated: parametric answer:দুই মাসিকের মাঝামাঝি সময়ে\n",
      "contextual answer: দুই মাসিকের মাঝামাঝি সময়ে\n"
     ]
    },
    {
     "name": "stderr",
     "output_type": "stream",
     "text": [
      "Processing rows:  23%|█████████████▊                                              | 171/740 [30:34<1:59:55, 12.65s/row]"
     ]
    },
    {
     "name": "stdout",
     "output_type": "stream",
     "text": [
      "Target: parametric answer: পুরুষের শুক্রাণু যোনিপথ দিয়ে ডিম্ববাহী নালীতে গিয়ে পৌঁছে। সেখানে ডিম্বাণুর সাথে মিলিত হবার ফলে ভ্রুণ তৈরি হয়। একে গর্ভধারণ বলে।\n",
      "contextual answer: পুরুষের শুক্রাণু যোনিপথ দিয়ে ডিম্ববাহী নালীতে গিয়ে পৌঁছে। সেখানে ডিম্বাণুর সাথে মিলিত হবার ফলে ভ্রুণ তৈরি হয়। একে গর্ভধারণ বলে।\n",
      "generated: parametric answer:গর্ভধারণ হলো একটি জৈবিক প্রক্রিয়া যেখানে একটি নারীর দেহে এক বা একাধিক ভ্রূণ বা ভ্রূণ বৃদ্ধি পায়।\n",
      "contextual answer: গর্ভধারণ হলো এমন একটি প্রক্রিয়া যেখানে একজন নারীর শরীরের মধ্যে এক বা একাধিক সন্তান বৃদ্ধিলাভ করে থাকে।\n"
     ]
    },
    {
     "name": "stderr",
     "output_type": "stream",
     "text": [
      "Processing rows:  23%|█████████████▉                                              | 172/740 [30:52<2:13:32, 14.11s/row]"
     ]
    },
    {
     "name": "stdout",
     "output_type": "stream",
     "text": [
      "Target: parametric answer: জরায়ুতে\n",
      "contextual answer: জরায়ুতে\n",
      "generated: parametric answer:জরায়ুতে\n",
      "contextual answer: জরায়ুতে\n"
     ]
    },
    {
     "name": "stderr",
     "output_type": "stream",
     "text": [
      "Processing rows:  23%|██████████████                                              | 173/740 [31:06<2:12:32, 14.03s/row]"
     ]
    },
    {
     "name": "stdout",
     "output_type": "stream",
     "text": [
      "Target: parametric answer: ১৯৬০ ও ১৯৭০ এর দশকে\n",
      "contextual answer: ১৯৬০ ও ১৯৭০ এর দশকে\n",
      "generated: parametric answer:None\n",
      "contextual answer: None\n"
     ]
    },
    {
     "name": "stderr",
     "output_type": "stream",
     "text": [
      "Processing rows:  24%|██████████████▏                                             | 175/740 [31:19<1:52:06, 11.91s/row]"
     ]
    },
    {
     "name": "stdout",
     "output_type": "stream",
     "text": [
      "Target: parametric answer: পিতৃতন্ত্র ও পুঁজিবাদের মধ্যে যে সংযোগ তার উপরই\n",
      "contextual answer: পিতৃতন্ত্র ও পুঁজিবাদের মধ্যে যে সংযোগ তার উপরই\n",
      "generated: parametric answer:None\n",
      "contextual answer: None\n"
     ]
    },
    {
     "name": "stderr",
     "output_type": "stream",
     "text": [
      "Processing rows:  24%|██████████████▎                                             | 176/740 [31:36<2:04:27, 13.24s/row]"
     ]
    },
    {
     "name": "stdout",
     "output_type": "stream",
     "text": [
      "Target: parametric answer: অর্থনৈতিক নির্ভরতাকে\n",
      "contextual answer: অর্থনৈতিক নির্ভরতাকে\n",
      "generated: parametric answer:None\n",
      "contextual answer: None\n"
     ]
    },
    {
     "name": "stderr",
     "output_type": "stream",
     "text": [
      "Processing rows:  24%|██████████████▎                                             | 177/740 [31:50<2:06:24, 13.47s/row]"
     ]
    },
    {
     "name": "stdout",
     "output_type": "stream",
     "text": [
      "Target: parametric answer: রঞ্জন রশ্মি প্রতিফলক\n",
      "contextual answer: রঞ্জন রশ্মি প্রতিফলক\n",
      "generated: parametric answer:নিউটনিয়ান দূরবীক্ষণ যন্ত্র\n",
      "contextual answer: রঞ্জন রশ্মি প্রতিফলক দূরবীক্ষণ যন্ত্র\n"
     ]
    },
    {
     "name": "stderr",
     "output_type": "stream",
     "text": [
      "Processing rows:  24%|██████████████▌                                             | 180/740 [32:04<1:41:19, 10.86s/row]"
     ]
    },
    {
     "name": "stdout",
     "output_type": "stream",
     "text": [
      "Target: parametric answer: লেন্সের মত\n",
      "contextual answer: লেন্সের মত\n",
      "generated: parametric answer:আলোকে ফোকাস করার ক্ষেত্রে লেন্সের মত কাজ করে, তবে প্রতিফলনের মাধ্যমে।\n",
      "contextual answer: লেন্সের মত কাচ করে।\n"
     ]
    },
    {
     "name": "stderr",
     "output_type": "stream",
     "text": [
      "Processing rows:  24%|██████████████▋                                             | 181/740 [32:18<1:50:58, 11.91s/row]"
     ]
    },
    {
     "name": "stdout",
     "output_type": "stream",
     "text": [
      "Target: parametric answer: ইতালীয় অধ্যাপক নিকোলো জুচ্চি\n",
      "contextual answer: ইতালীয় অধ্যাপক নিকোলো জুচ্চি\n",
      "generated: parametric answer:নিকোলো জুচ্চি\n",
      "contextual answer: নিকোলো জুচ্চি\n"
     ]
    },
    {
     "name": "stderr",
     "output_type": "stream",
     "text": [
      "Processing rows:  25%|██████████████▊                                             | 182/740 [32:36<2:06:37, 13.62s/row]"
     ]
    },
    {
     "name": "stdout",
     "output_type": "stream",
     "text": [
      "Target: parametric answer: রবার্ট হুক\n",
      "contextual answer: রবার্ট হুক\n",
      "generated: parametric answer:রবার্ট হুক\n",
      "contextual answer: রবার্ট হুক\n"
     ]
    },
    {
     "name": "stderr",
     "output_type": "stream",
     "text": [
      "Processing rows:  25%|██████████████▊                                             | 183/740 [32:50<2:07:17, 13.71s/row]"
     ]
    },
    {
     "name": "stdout",
     "output_type": "stream",
     "text": [
      "Target: parametric answer: ১৭তম শতাব্দীর\n",
      "contextual answer: ১৭তম শতাব্দীর\n",
      "generated: parametric answer:১৭তম শতাব্দীর গোড়ার দিকে\n",
      "contextual answer: ১৭তম শতাব্দীর গোড়ার দিকে\n"
     ]
    },
    {
     "name": "stderr",
     "output_type": "stream",
     "text": [
      "Processing rows:  25%|███████████████                                             | 185/740 [33:04<1:48:09, 11.69s/row]"
     ]
    },
    {
     "name": "stdout",
     "output_type": "stream",
     "text": [
      "Target: parametric answer: ১৭০৭\n",
      "contextual answer: ১৭০৭\n",
      "generated: parametric answer:১৭০৭ সালে\n",
      "contextual answer: ১৭০৭ সালে\n"
     ]
    },
    {
     "name": "stderr",
     "output_type": "stream",
     "text": [
      "Processing rows:  25%|███████████████▏                                            | 187/740 [33:18<1:35:08, 10.32s/row]"
     ]
    },
    {
     "name": "stdout",
     "output_type": "stream",
     "text": [
      "Target: parametric answer: ১৭১৭\n",
      "contextual answer: ১৭১৭\n",
      "generated: parametric answer:১৭১৭ সালে\n",
      "contextual answer: ১৭১৭ সালে\n"
     ]
    },
    {
     "name": "stderr",
     "output_type": "stream",
     "text": [
      "Processing rows:  25%|███████████████▏                                            | 188/740 [33:32<1:44:44, 11.39s/row]"
     ]
    },
    {
     "name": "stdout",
     "output_type": "stream",
     "text": [
      "Target: parametric answer: একটি পরিবহন অবস্থা থেকে অন্য পরিবহন অবস্থায় স্থানান্তর প্রক্রিয়া\n",
      "contextual answer: একটি পরিবহন অবস্থা থেকে অন্য পরিবহন অবস্থায় স্থানান্তর প্রক্রিয়া\n",
      "generated: parametric answer:ট্রান্সলোডিং একটি পরিবহন প্রক্রিয়া যেখানে পণ্যগুলি একটি পরিবহন ব্যবস্থা থেকে অন্য পরিবহন ব্যবস্থায় স্থানান্তরিত হয়।\n",
      "contextual answer: ট্রান্সলোডিং একটি পরিবহন অবস্থা থেকে অন্য পরিবহন অবস্থায় স্থানান্তর প্রক্রিয়া। এটি বিভিন্ন পরিবহন ব্যবস্থার মধ্যে পণ্য স্থানান্তরের প্রক্রিয়াকে বোঝায়, যেমন ট্রাক থেকে রেল বা জাহাজে। এই প্রক্রিয়াটি প্রায়শই পণ্যগুলিকে এক জায়গা থেকে অন্য জায়গায় দ্রুত এবং দক্ষতার সাথে পরিবহন করার জন্য প্রয়োজনীয়।\n"
     ]
    },
    {
     "name": "stderr",
     "output_type": "stream",
     "text": [
      "Processing rows:  26%|███████████████▍                                            | 190/740 [33:47<1:33:03, 10.15s/row]"
     ]
    },
    {
     "name": "stdout",
     "output_type": "stream",
     "text": [
      "Target: parametric answer: ট্রান্সলোডিং\n",
      "contextual answer: ট্রান্সলোডিং\n",
      "generated: parametric answer:কনভেয়ার বেল্ট, ক্রেন, ফোর্কলিফ্ট ইত্যাদি।\n",
      "contextual answer: খনি থেকে রেল গাড়িতে তোলার জন্য বিশেষ পদ্ধতির হ্যান্ডলিং এবং স্টোরেজ বা পন্য মজুত ব্যবস্থা সাধারণত প্রদান করা হয়। তবে, এটি উল্লেখ করেছে যে বাল্ক পণ্য যেমন কয়লা, খনি থেকে রেল গাড়িতে তোলা এবং বন্দরে একটি জাহাজে স্থানান্তর জড়িত হতে পারে।\n"
     ]
    },
    {
     "name": "stderr",
     "output_type": "stream",
     "text": [
      "Processing rows:  26%|███████████████▍                                            | 191/740 [34:02<1:47:06, 11.71s/row]"
     ]
    },
    {
     "name": "stdout",
     "output_type": "stream",
     "text": [
      "Target: parametric answer: গুদাম ঘর\n",
      "contextual answer: গুদাম ঘর\n",
      "generated: parametric answer:শস্য এলিভেটর, সিলো, বা বিশেষ কোল্ডস্টোরেজ সুবিধা\n",
      "contextual answer: বাল্ক পণ্য, যেমন শস্য, এর জন্য বিশেষ পদ্ধতির হ্যান্ডলিং এবং স্টোরেজ বা পণ্য মজুত ব্যবস্থা সাধারণত প্রদান করা হয়, যেমন শস্য এলিভেটর মধ্যে।\n"
     ]
    },
    {
     "name": "stderr",
     "output_type": "stream",
     "text": [
      "Processing rows:  26%|███████████████▌                                            | 192/740 [34:16<1:52:42, 12.34s/row]"
     ]
    },
    {
     "name": "stdout",
     "output_type": "stream",
     "text": [
      "Target: parametric answer: যেহেতু সঞ্চয়ের জন্য পণ্যগুলি পরিচালনা করা প্রয়োজন\n",
      "contextual answer: যেহেতু সঞ্চয়ের জন্য পণ্যগুলি পরিচালনা করা প্রয়োজন\n",
      "generated: parametric answer:ট্রান্সলোডিং একটি প্রক্রিয়া যা পণ্যগুলিকে একটি পরিবহন মাধ্যম থেকে অন্য পরিবহন মাধ্যমে স্থানান্তর করে, যা পণ্যগুলির ক্ষতির ঝুঁকি বাড়াতে পারে।\n",
      "contextual answer: ট্রান্সলোডিং হল একটি পরিবহন অবস্থা থেকে অন্য পরিবহন অবস্থায় স্থানান্তর প্রক্রিয়া। এটি উল্লেখ করে যে সঞ্চয়ের জন্য পণ্যগুলি পরিচালনা করা প্রয়োজন, যা ক্ষতির একটি উচ্চ ঝুঁকি সৃষ্টি করে।\n"
     ]
    },
    {
     "name": "stderr",
     "output_type": "stream",
     "text": [
      "Processing rows:  26%|███████████████▋                                            | 193/740 [34:32<2:03:35, 13.56s/row]"
     ]
    },
    {
     "name": "stdout",
     "output_type": "stream",
     "text": [
      "Target: parametric answer: পৃথিবী গোলাকার নয়, বরং সমতল, এই ধারণাকে বোঝানো হচ্ছে\n",
      "contextual answer: পৃথিবী গোলাকার নয়, বরং সমতল, এই ধারণাকে বোঝানো হচ্ছে\n",
      "generated: parametric answer:সমতল পৃথিবী বলতে একটি ভুল ধারণাকে বোঝায় যা পৃথিবীকে একটি সমতল হিসাবে বর্ণনা করে, যা বৈজ্ঞানিকভাবে ভুল প্রমাণিত হয়েছে।\n",
      "contextual answer: সমতল পৃথিবী বলতে পৃথিবী গোলাকার নয়, বরং সমতল এই ধারণাকে বোঝানো হচ্ছে।\n"
     ]
    },
    {
     "name": "stderr",
     "output_type": "stream",
     "text": [
      "Processing rows:  26%|███████████████▊                                            | 195/740 [34:48<1:47:53, 11.88s/row]"
     ]
    },
    {
     "name": "stdout",
     "output_type": "stream",
     "text": [
      "Target: parametric answer: খ্রিস্টপূর্ব ৪র্থ শতক\n",
      "contextual answer: খ্রিস্টপূর্ব ৪র্থ শতক\n",
      "generated: parametric answer:খ্রিস্টপূর্ব ৪র্থ শতকে\n",
      "contextual answer: খ্রিস্টপূর্ব ৪র্থ শতকে\n"
     ]
    },
    {
     "name": "stderr",
     "output_type": "stream",
     "text": [
      "Processing rows:  26%|███████████████▉                                            | 196/740 [35:02<1:53:21, 12.50s/row]"
     ]
    },
    {
     "name": "stdout",
     "output_type": "stream",
     "text": [
      "Target: parametric answer: কারণ পৃথিবী এতো বড় গোলক যে, কোন নির্দিষ্ট স্থান থেকে চারপাশটা সমতল মনে হয়\n",
      "contextual answer: কারণ পৃথিবী এতো বড় গোলক যে, কোন নির্দিষ্ট স্থান থেকে চারপাশটা সমতল মনে হয়\n",
      "generated: parametric answer:পৃথিবী একটি বিশাল গোলক, এবং আমরা পৃথিবীর পৃষ্ঠের একটি ছোট অংশে অবস্থান করি, যা আমাদের দৃষ্টিকোণ থেকে সমতল বলে মনে হয়।\n",
      "contextual answer: পৃথিবী এতো বড় গোলক যে, কোন নির্দিষ্ট স্থান থেকে চারপাশটা সমতল মনে হয়।\n"
     ]
    },
    {
     "name": "stderr",
     "output_type": "stream",
     "text": [
      "Processing rows:  27%|███████████████▉                                            | 197/740 [35:22<2:13:28, 14.75s/row]"
     ]
    },
    {
     "name": "stdout",
     "output_type": "stream",
     "text": [
      "Target: parametric answer: বিদ ধাতু\n",
      "contextual answer: বিদ ধাতু\n",
      "generated: parametric answer:বিদ ধাতু\n",
      "contextual answer: বিদ ধাতু\n"
     ]
    },
    {
     "name": "stderr",
     "output_type": "stream",
     "text": [
      "Processing rows:  27%|████████████████▏                                           | 200/740 [35:37<1:46:33, 11.84s/row]"
     ]
    },
    {
     "name": "stdout",
     "output_type": "stream",
     "text": [
      "Target: parametric answer: জ্ঞান\n",
      "contextual answer: জ্ঞান\n",
      "generated: parametric answer:জ্ঞান\n",
      "contextual answer: জ্ঞান\n"
     ]
    },
    {
     "name": "stderr",
     "output_type": "stream",
     "text": [
      "Processing rows:  27%|████████████████▎                                           | 201/740 [35:51<1:51:59, 12.47s/row]"
     ]
    },
    {
     "name": "stdout",
     "output_type": "stream",
     "text": [
      "Target: parametric answer: বেদজ্ঞানী\n",
      "contextual answer: বেদজ্ঞানী\n",
      "generated: parametric answer:আয়ুর্বেদী চিকিৎসক\n",
      "contextual answer: বেদজ্ঞানী\n"
     ]
    },
    {
     "name": "stderr",
     "output_type": "stream",
     "text": [
      "Processing rows:  27%|████████████████▍                                           | 202/740 [36:06<1:59:21, 13.31s/row]"
     ]
    },
    {
     "name": "stdout",
     "output_type": "stream",
     "text": [
      "Target: parametric answer: গুরুশিষ্য\n",
      "contextual answer: গুরুশিষ্য\n",
      "generated: parametric answer:গুরুশিষ্য পরম্পরায়\n",
      "contextual answer: গুরুশিষ্য পরম্পরায়\n"
     ]
    },
    {
     "name": "stderr",
     "output_type": "stream",
     "text": [
      "Processing rows:  27%|████████████████▍                                           | 203/740 [36:20<2:00:53, 13.51s/row]"
     ]
    },
    {
     "name": "stdout",
     "output_type": "stream",
     "text": [
      "Target: parametric answer: দুটি\n",
      "contextual answer: দুটি\n",
      "generated: parametric answer:দুটি\n",
      "contextual answer: দুটি\n"
     ]
    },
    {
     "name": "stderr",
     "output_type": "stream",
     "text": [
      "Processing rows:  28%|████████████████▌                                           | 205/740 [36:40<1:50:35, 12.40s/row]"
     ]
    },
    {
     "name": "stdout",
     "output_type": "stream",
     "text": [
      "Target: parametric answer: ক্রানিওফেসিয়াল সার্জারি; হাতের সার্জারি; মাইক্রোসার্জারি; পোড়ার চিকিৎসা\n",
      "contextual answer: ক্রানিওফেসিয়াল সার্জারি; হাতের সার্জারি; মাইক্রোসার্জারি; পোড়ার চিকিৎসা\n",
      "generated: parametric answer:ক্রানিওফেসিয়াল সার্জারি, হাতের সার্জারি, মাইক্রোসার্জারি, পোড়ার চিকিৎসা, প্লাস্টিক সার্জারি, ট্রমা সার্জারি, ইত্যাদি।\n",
      "contextual answer: ক্রানিওফেসিয়াল সার্জারি, হাতের সার্জারি, মাইক্রোসার্জারি ও পোড়ার চিকিৎসা।\n"
     ]
    },
    {
     "name": "stderr",
     "output_type": "stream",
     "text": [
      "Processing rows:  28%|████████████████▋                                           | 206/740 [36:55<1:56:08, 13.05s/row]"
     ]
    },
    {
     "name": "stdout",
     "output_type": "stream",
     "text": [
      "Target: parametric answer: সুশ্রুত সংহিতা\n",
      "contextual answer: সুশ্রুত সংহিতা\n",
      "generated: parametric answer:সুশ্রুত সংহিতা\n",
      "contextual answer: সুশ্রুত সংহিতা\n"
     ]
    },
    {
     "name": "stderr",
     "output_type": "stream",
     "text": [
      "Processing rows:  28%|████████████████▊                                           | 208/740 [37:14<1:46:22, 12.00s/row]"
     ]
    },
    {
     "name": "stdout",
     "output_type": "stream",
     "text": [
      "Target: parametric answer: হিতোমি কিসুগি\n",
      "contextual answer: হিতোমি কিসুগি\n",
      "generated: parametric answer:কোন তথ্য নেই\n",
      "contextual answer: হিতোমি\n"
     ]
    },
    {
     "name": "stderr",
     "output_type": "stream",
     "text": [
      "Processing rows:  28%|█████████████████                                           | 210/740 [37:29<1:35:01, 10.76s/row]"
     ]
    },
    {
     "name": "stdout",
     "output_type": "stream",
     "text": [
      "Target: parametric answer: ক্রীড়াবিদ; ঘোড়ার পিঠে চড়া; তালা খোলা\n",
      "contextual answer: ক্রীড়াবিদ; ঘোড়ার পিঠে চড়া; তালা খোলা\n",
      "generated: parametric answer:হিতোমি একজন দক্ষ ক্রীড়াবিদ, ঘোড়ার পিঠে চড়া, জিমন্যাস্ট, এবং মার্শাল আর্টিস্ট। তিনি জুডো, বক্সিং, কারাতে, কেন্ডো, এবং আইকিডোতে দক্ষ। তিনি ছদ্মবেশ ধারণ করতে পারেন এবং বেশ কয়েকটি ভাষায় কথা বলতে পারেন।\n",
      "contextual answer: হিতোমি একজন দক্ষ ক্রীড়াবিদ, ঘোড়ার পিঠে চড়া, জিমন্যাস্ট, এবং মার্শাল আর্টিস্ট। তিনি জুডো, বক্সিং, কারাতে, কেন্ডো, এবং আইকিডোতে দক্ষ। তিনি ছদ্মবেশ ধারণ করতে পারেন এবং বেশ কয়েকটি ভাষায় কথা বলতে পারেন।\n"
     ]
    },
    {
     "name": "stderr",
     "output_type": "stream",
     "text": [
      "Processing rows:  29%|█████████████████                                           | 211/740 [37:43<1:43:15, 11.71s/row]"
     ]
    },
    {
     "name": "stdout",
     "output_type": "stream",
     "text": [
      "Target: parametric answer: এর মাধ্যমে মুন্সিগঞ্জের লৌহজংয়ের সাথে শরীয়তপুর ও মাদারীপুর জেলা যুক্ত হবে\n",
      "contextual answer: এর মাধ্যমে মুন্সিগঞ্জের লৌহজংয়ের সাথে শরীয়তপুর ও মাদারীপুর জেলা যুক্ত হবে\n",
      "generated: parametric answer:মুন্সিগঞ্জ, শরীয়তপুর এবং মাদারীপুর।\n",
      "contextual answer: মুন্সিগঞ্জ, শরীয়তপুর এবং মাদারীপুর।\n"
     ]
    },
    {
     "name": "stderr",
     "output_type": "stream",
     "text": [
      "Processing rows:  29%|█████████████████▎                                          | 214/740 [37:59<1:25:29,  9.75s/row]"
     ]
    },
    {
     "name": "stdout",
     "output_type": "stream",
     "text": [
      "Target: parametric answer: ৪১টি স্পান\n",
      "contextual answer: ৪১টি স্পান\n",
      "generated: parametric answer:৪১টি স্পান\n",
      "contextual answer: ৪১টি স্পান\n"
     ]
    },
    {
     "name": "stderr",
     "output_type": "stream",
     "text": [
      "Processing rows:  29%|█████████████████▌                                          | 216/740 [38:14<1:19:33,  9.11s/row]"
     ]
    },
    {
     "name": "stdout",
     "output_type": "stream",
     "text": [
      "Target: parametric answer: প্রকল্প প্রস্তুতির সাথে যুক্ত কিছু লোকের দুর্নীতির অভিযোগ উঠায়\n",
      "contextual answer: প্রকল্প প্রস্তুতির সাথে যুক্ত কিছু লোকের দুর্নীতির অভিযোগ উঠায়\n",
      "generated: parametric answer:দুর্নীতির অভিযোগ।\n",
      "contextual answer: দুর্নীতির অভিযোগ।\n"
     ]
    },
    {
     "name": "stderr",
     "output_type": "stream",
     "text": [
      "Processing rows:  29%|█████████████████▌                                          | 217/740 [38:30<1:37:52, 11.23s/row]"
     ]
    },
    {
     "name": "stdout",
     "output_type": "stream",
     "text": [
      "Target: parametric answer: এন্ডোগ্যামাস\n",
      "contextual answer: এন্ডোগ্যামাস\n",
      "generated: parametric answer:এন্ডোগ্যামাস এবং এক্সোগ্যামাস উপগোষ্ঠীতে।\n",
      "contextual answer: এন্ডোগ্যামাস উপগোষ্ঠীতে।\n"
     ]
    },
    {
     "name": "stderr",
     "output_type": "stream",
     "text": [
      "Processing rows:  30%|█████████████████▊                                          | 219/740 [38:47<1:29:44, 10.34s/row]"
     ]
    },
    {
     "name": "stdout",
     "output_type": "stream",
     "text": [
      "Target: parametric answer: ১৯২৫\n",
      "contextual answer: ১৯২৫\n",
      "generated: parametric answer:নির্দিষ্ট তারিখ নেই, তবে ভারতে ব্রিটিশ শাসনামলে এবং স্বাধীনতার পর আন্তঃবর্ণ বিবাহ আইনগতভাবে অনুমোদিত হয়েছিল।\n",
      "contextual answer: ১৯২৫ সালের প্রথম দিকে\n"
     ]
    },
    {
     "name": "stderr",
     "output_type": "stream",
     "text": [
      "Processing rows:  30%|█████████████████▉                                          | 221/740 [39:01<1:20:40,  9.33s/row]"
     ]
    },
    {
     "name": "stdout",
     "output_type": "stream",
     "text": [
      "Target: parametric answer: বাঙালি হিন্দুদের সাথে অন্যান্য হিন্দুরাও অভিন্ন হিন্দু আইন দ্বারা পরিচালিত হচ্ছে\n",
      "contextual answer: বাঙালি হিন্দুদের সাথে অন্যান্য হিন্দুরাও অভিন্ন হিন্দু আইন দ্বারা পরিচালিত হচ্ছে\n",
      "generated: parametric answer:ভারতে হিন্দু কোড বিল জারি করার পরে হিন্দু সম্প্রদায়ের জন্য একটি একক আইনি ব্যবস্থা প্রবর্তিত হয়েছে, যা বাঙালি হিন্দুদের সাথে অন্যান্য হিন্দুদের জন্য একটি সমান আইনি কাঠামো প্রদান করে।\n",
      "contextual answer: ভারতে হিন্দু কোড বিল জারি করার পরে বাঙালি হিন্দুদের সাথে অন্যান্য হিন্দুরাও অভিন্ন হিন্দু আইন দ্বারা পরিচালিত হচ্ছে।\n"
     ]
    },
    {
     "name": "stderr",
     "output_type": "stream",
     "text": [
      "Processing rows:  30%|██████████████████                                          | 222/740 [39:17<1:37:59, 11.35s/row]"
     ]
    },
    {
     "name": "stdout",
     "output_type": "stream",
     "text": [
      "Target: parametric answer: বাংলাদেশী অমনিবাস ওয়েব ধারাবাহিক\n",
      "contextual answer: বাংলাদেশী অমনিবাস ওয়েব ধারাবাহিক\n",
      "generated: parametric answer:মনস্তাত্ত্বিক থ্রিলার ওয়েব ধারাবাহিক\n",
      "contextual answer: ওয়েব ধারাবাহিক\n"
     ]
    },
    {
     "name": "stderr",
     "output_type": "stream",
     "text": [
      "Processing rows:  30%|██████████████████▏                                         | 224/740 [39:33<1:28:55, 10.34s/row]"
     ]
    },
    {
     "name": "stdout",
     "output_type": "stream",
     "text": [
      "Target: parametric answer: চরকি ওয়েব প্ল্যাটফর্মে\n",
      "contextual answer: চরকি ওয়েব প্ল্যাটফর্মে\n",
      "generated: parametric answer:চরকি ওয়েব প্ল্যাটফর্ম\n",
      "contextual answer: চরকি ওয়েব প্ল্যাটফর্ম\n"
     ]
    },
    {
     "name": "stderr",
     "output_type": "stream",
     "text": [
      "Processing rows:  30%|██████████████████▏                                         | 225/740 [39:50<1:45:38, 12.31s/row]"
     ]
    },
    {
     "name": "stdout",
     "output_type": "stream",
     "text": [
      "Target: parametric answer: পাঁচটি\n",
      "contextual answer: পাঁচটি\n",
      "generated: parametric answer:পাঁচটি\n",
      "contextual answer: পাঁচটি\n"
     ]
    },
    {
     "name": "stderr",
     "output_type": "stream",
     "text": [
      "Processing rows:  31%|██████████████████▎                                         | 226/740 [40:06<1:55:58, 13.54s/row]"
     ]
    },
    {
     "name": "stdout",
     "output_type": "stream",
     "text": [
      "Target: parametric answer: মীর মোকাররম হোসেন; তানিম নূর; রুমেল চৌধুরী\n",
      "contextual answer: মীর মোকাররম হোসেন; তানিম নূর; রুমেল চৌধুরী\n",
      "generated: parametric answer:মীর মোকাররম হোসেন, তানিম নূর ও রুমেল চৌধুরী\n",
      "contextual answer: মীর মোকাররম হোসেন, তানিম নূর ও রুমেল চৌধুরী\n"
     ]
    },
    {
     "name": "stderr",
     "output_type": "stream",
     "text": [
      "Processing rows:  31%|██████████████████▍                                         | 227/740 [40:20<1:56:37, 13.64s/row]"
     ]
    },
    {
     "name": "stdout",
     "output_type": "stream",
     "text": [
      "Target: parametric answer: নিউ ইয়র্ক; হংকং\n",
      "contextual answer: নিউ ইয়র্ক; হংকং\n",
      "generated: parametric answer:নিউ ইয়র্ক এবং হংকং শহর।\n",
      "contextual answer: নিউ ইয়র্ক এবং হংকং শহর।\n"
     ]
    },
    {
     "name": "stderr",
     "output_type": "stream",
     "text": [
      "Processing rows:  31%|██████████████████▌                                         | 229/740 [40:34<1:38:58, 11.62s/row]"
     ]
    },
    {
     "name": "stdout",
     "output_type": "stream",
     "text": [
      "Target: parametric answer: মঙ্গল\n",
      "contextual answer: মঙ্গল\n",
      "generated: parametric answer:মঙ্গল\n",
      "contextual answer: মঙ্গল\n"
     ]
    },
    {
     "name": "stderr",
     "output_type": "stream",
     "text": [
      "Processing rows:  31%|██████████████████▋                                         | 230/740 [40:48<1:44:45, 12.32s/row]"
     ]
    },
    {
     "name": "stdout",
     "output_type": "stream",
     "text": [
      "Target: parametric answer: সাতোশি টোবা\n",
      "contextual answer: সাতোশি টোবা\n",
      "generated: parametric answer:সাতোশি টোবা\n",
      "contextual answer: সাতোশি টোবা\n"
     ]
    },
    {
     "name": "stderr",
     "output_type": "stream",
     "text": [
      "Processing rows:  31%|██████████████████▋                                         | 231/740 [41:02<1:48:31, 12.79s/row]"
     ]
    },
    {
     "name": "stdout",
     "output_type": "stream",
     "text": [
      "Target: parametric answer: রাষ্ট্রহীনের চেয়ে বহুজাতিক\n",
      "contextual answer: রাষ্ট্রহীনের চেয়ে বহুজাতিক\n",
      "generated: parametric answer:ওয়াতানাবে একটি বহুজাতিক বিশ্বের কল্পনা করেছিলেন।\n",
      "contextual answer: ওয়াতানাবে একটি বহুজাতিক বিশ্বের কল্পনা করেছিলেন।\n"
     ]
    },
    {
     "name": "stderr",
     "output_type": "stream",
     "text": [
      "Processing rows:  31%|██████████████████▊                                         | 232/740 [41:18<1:56:46, 13.79s/row]"
     ]
    },
    {
     "name": "stdout",
     "output_type": "stream",
     "text": [
      "Target: parametric answer: জ্যোতির্বিদ্যা\n",
      "contextual answer: জ্যোতির্বিদ্যা\n",
      "generated: parametric answer:জ্যোতির্বিদ্যা এবং জ্যোতির্বিজ্ঞান\n",
      "contextual answer: জ্যোতির্বিদ্যা\n"
     ]
    },
    {
     "name": "stderr",
     "output_type": "stream",
     "text": [
      "Processing rows:  32%|██████████████████▉                                         | 234/740 [41:32<1:39:02, 11.74s/row]"
     ]
    },
    {
     "name": "stdout",
     "output_type": "stream",
     "text": [
      "Target: parametric answer: মধ্যযুগীয়\n",
      "contextual answer: মধ্যযুগীয়\n",
      "generated: parametric answer:ইসলামী স্বর্ণযুগে\n",
      "contextual answer: মধ্যযুগীয় ইসলামী বিশ্বে\n"
     ]
    },
    {
     "name": "stderr",
     "output_type": "stream",
     "text": [
      "Processing rows:  32%|███████████████████                                         | 235/740 [41:46<1:45:27, 12.53s/row]"
     ]
    },
    {
     "name": "stdout",
     "output_type": "stream",
     "text": [
      "Target: parametric answer: মূলত জাহাজ চালানোর সহায়তা; মক্কার দিকনির্দেশনা কিবলা সন্ধানের উপায় হিসাবে\n",
      "contextual answer: মূলত জাহাজ চালানোর সহায়তা; মক্কার দিকনির্দেশনা কিবলা সন্ধানের উপায় হিসাবে\n",
      "generated: parametric answer:জাহাজ চালানো, সময় নির্ধারণ, জ্যোতির্বিদ্যা সংক্রান্ত গণনা এবং কিবলা সন্ধানের উপায় হিসাবে।\n",
      "contextual answer: জাহাজ চালানোর সহায়তা এবং মক্কার দিকনির্দেশনা কিবলা সন্ধানের উপায় হিসাবে।\n"
     ]
    },
    {
     "name": "stderr",
     "output_type": "stream",
     "text": [
      "Processing rows:  32%|███████████████████▏                                        | 236/740 [42:04<1:59:42, 14.25s/row]"
     ]
    },
    {
     "name": "stdout",
     "output_type": "stream",
     "text": [
      "Target: parametric answer: অষ্টম শতাব্দীর গণিতবিদ মুহাম্মদ আল-ফাজারী\n",
      "contextual answer: অষ্টম শতাব্দীর গণিতবিদ মুহাম্মদ আল-ফাজারী\n",
      "generated: parametric answer:মুহাম্মদ আল-ফাজারী\n",
      "contextual answer: মুহাম্মদ আল-ফাজারী\n"
     ]
    },
    {
     "name": "stderr",
     "output_type": "stream",
     "text": [
      "Processing rows:  32%|███████████████████▏                                        | 237/740 [42:19<2:00:12, 14.34s/row]"
     ]
    },
    {
     "name": "stdout",
     "output_type": "stream",
     "text": [
      "Target: parametric answer: কনকাকাফ\n",
      "contextual answer: কনকাকাফ\n",
      "generated: parametric answer:কনকাকাফ\n",
      "contextual answer: কনকাকাফ\n"
     ]
    },
    {
     "name": "stderr",
     "output_type": "stream",
     "text": [
      "Processing rows:  32%|███████████████████▍                                        | 239/740 [42:33<1:41:06, 12.11s/row]"
     ]
    },
    {
     "name": "stdout",
     "output_type": "stream",
     "text": [
      "Target: parametric answer: মেক্সিকো\n",
      "contextual answer: মেক্সিকো\n",
      "generated: parametric answer:মেক্সিকো\n",
      "contextual answer: মেক্সিকো\n"
     ]
    },
    {
     "name": "stderr",
     "output_type": "stream",
     "text": [
      "Processing rows:  32%|███████████████████▍                                        | 240/740 [42:47<1:45:26, 12.65s/row]"
     ]
    },
    {
     "name": "stdout",
     "output_type": "stream",
     "text": [
      "Target: parametric answer: না\n",
      "contextual answer: না\n",
      "generated: parametric answer:হ্যাঁ, মার্কিন যুক্তরাষ্ট্রের পুরুষ দল কনকাকাফ গোল্ড কাপ জয় করেছে।\n",
      "contextual answer: না\n"
     ]
    },
    {
     "name": "stderr",
     "output_type": "stream",
     "text": [
      "Processing rows:  33%|███████████████████▌                                        | 241/740 [43:03<1:54:00, 13.71s/row]"
     ]
    },
    {
     "name": "stdout",
     "output_type": "stream",
     "text": [
      "Target: parametric answer: চার\n",
      "contextual answer: চার\n",
      "generated: parametric answer:চারবার অলিম্পিক\n",
      "contextual answer: চারবার অলিম্পিক\n"
     ]
    },
    {
     "name": "stderr",
     "output_type": "stream",
     "text": [
      "Processing rows:  33%|███████████████████▌                                        | 242/740 [43:20<2:03:27, 14.87s/row]"
     ]
    },
    {
     "name": "stdout",
     "output_type": "stream",
     "text": [
      "Target: parametric answer: প্রায় ২৫০০ বছর আগের\n",
      "contextual answer: প্রায় ২৫০০ বছর আগের\n",
      "generated: parametric answer:২৫০০ বছর আগের\n",
      "contextual answer: ২৫০০ বছর আগের\n"
     ]
    },
    {
     "name": "stderr",
     "output_type": "stream",
     "text": [
      "Processing rows:  33%|███████████████████▊                                        | 244/740 [43:34<1:43:25, 12.51s/row]"
     ]
    },
    {
     "name": "stdout",
     "output_type": "stream",
     "text": [
      "Target: parametric answer: ১৬৯৬\n",
      "contextual answer: ১৬৯৬\n",
      "generated: parametric answer:১৬৯৬ সালে\n",
      "contextual answer: ১৬৯৬ সালে\n"
     ]
    },
    {
     "name": "stderr",
     "output_type": "stream",
     "text": [
      "Processing rows:  33%|███████████████████▊                                        | 245/740 [43:48<1:47:04, 12.98s/row]"
     ]
    },
    {
     "name": "stdout",
     "output_type": "stream",
     "text": [
      "Target: parametric answer: একজন নৈরাজ্যবাদী রাশিয়ান লেখক\n",
      "contextual answer: একজন নৈরাজ্যবাদী রাশিয়ান লেখক\n",
      "generated: parametric answer:একজন রাশিয়ান-আমেরিকান নৈরাজ্যবাদী, লেখক, এবং নারীবাদী।\n",
      "contextual answer: একজন নৈরাজ্যবাদী রাশিয়ান লেখক।\n"
     ]
    },
    {
     "name": "stderr",
     "output_type": "stream",
     "text": [
      "Processing rows:  34%|████████████████████▏                                       | 249/740 [44:04<1:24:12, 10.29s/row]"
     ]
    },
    {
     "name": "stdout",
     "output_type": "stream",
     "text": [
      "Target: parametric answer: রাশিয়ান সাম্রাজ্যের কভ্ন\n",
      "contextual answer: রাশিয়ান সাম্রাজ্যের কভ্ন\n",
      "generated: parametric answer:জুন ২৭, ১৮৬৯\n",
      "contextual answer: জুন ২৭, ১৮৬৯\n"
     ]
    },
    {
     "name": "stderr",
     "output_type": "stream",
     "text": [
      "Processing rows:  34%|████████████████████▎                                       | 250/740 [44:18<1:33:05, 11.40s/row]"
     ]
    },
    {
     "name": "stdout",
     "output_type": "stream",
     "text": [
      "Target: parametric answer: অবৈধভাবে জন্ম নিয়ন্ত্রণ সম্পর্কে তথ্য বিতরণের জন্য\n",
      "contextual answer: অবৈধভাবে জন্ম নিয়ন্ত্রণ সম্পর্কে তথ্য বিতরণের জন্য\n",
      "generated: parametric answer:এমা গোল্ডম্যানকে তার নৈরাজ্যবাদী মতাদর্শ, নারী অধিকার ও জন্ম নিয়ন্ত্রণ সমর্থনের কারণে বারবার কারারুদ্ধ করা হয়েছিল।\n",
      "contextual answer: গোল্ডম্যানকে কয়েকবার কারারুদ্ধ করা হয় \"দাঙ্গা উস্কে\" এবং অবৈধভাবে জন্ম নিয়ন্ত্রণ সম্পর্কে তথ্য বিতরণের জন্য।\n"
     ]
    },
    {
     "name": "stderr",
     "output_type": "stream",
     "text": [
      "Processing rows:  34%|████████████████████▎                                       | 251/740 [44:32<1:39:20, 12.19s/row]"
     ]
    },
    {
     "name": "stdout",
     "output_type": "stream",
     "text": [
      "Target: parametric answer: ১৮৮৫\n",
      "contextual answer: ১৮৮৫\n",
      "generated: parametric answer:১৮৮৫ সালে\n",
      "contextual answer: ১৮৮৫ সালে\n"
     ]
    },
    {
     "name": "stderr",
     "output_type": "stream",
     "text": [
      "Processing rows:  34%|████████████████████▍                                       | 252/740 [44:47<1:44:04, 12.80s/row]"
     ]
    },
    {
     "name": "stdout",
     "output_type": "stream",
     "text": [
      "Target: parametric answer: অ্যানিমেশন স্টুডিও সানরাইজ\n",
      "contextual answer: অ্যানিমেশন স্টুডিও সানরাইজ\n",
      "generated: parametric answer:সানরাইজ\n",
      "contextual answer: সানরাইজ\n"
     ]
    },
    {
     "name": "stderr",
     "output_type": "stream",
     "text": [
      "Processing rows:  34%|████████████████████▌                                       | 254/740 [45:05<1:34:18, 11.64s/row]"
     ]
    },
    {
     "name": "stdout",
     "output_type": "stream",
     "text": [
      "Target: parametric answer: শিনিচিরো ওয়াতানাবে\n",
      "contextual answer: শিনিচিরো ওয়াতানাবে\n",
      "generated: parametric answer:পরিচালক শিনিচিরো ওয়াতানাবে\n",
      "contextual answer: পরিচালক শিনিচিরো ওয়াতানাবে\n"
     ]
    },
    {
     "name": "stderr",
     "output_type": "stream",
     "text": [
      "Processing rows:  34%|████████████████████▋                                       | 255/740 [45:18<1:39:25, 12.30s/row]"
     ]
    },
    {
     "name": "stdout",
     "output_type": "stream",
     "text": [
      "Target: parametric answer: চিত্রনাট্যকার কেইকো নোবুমোতো; চরিত্র ডিজাইনার তোশিহিরো কাওয়ামোতো; মেকানিক্যাল আর্ট ডিজাইনার কিমিতোশি ইয়ামানে; সুরকার ইয়োকো কান্নো; প্রযোজক মাসাহিকো মিনামি; ইয়োশিউকি তাকি\n",
      "contextual answer: চিত্রনাট্যকার কেইকো নোবুমোতো; চরিত্র ডিজাইনার তোশিহিরো কাওয়ামোতো; মেকানিক্যাল আর্ট ডিজাইনার কিমিতোশি ইয়ামানে; সুরকার ইয়োকো কান্নো; প্রযোজক মাসাহিকো মিনামি; ইয়োশিউকি তাকি\n",
      "generated: parametric answer:দুর্ভাগ্যবশত, আমার প্রশিক্ষণ ডেটাতে এই নির্দিষ্ট তথ্য নেই, তাই আমি প্রদত্ত প্রসঙ্গের উপর নির্ভর করছি।\n",
      "contextual answer: পরিচালক শিনিচিরো ওয়াতানাবে, চিত্রনাট্যকার কেইকো নোবুমোতো, চরিত্র ডিজাইনার তোশিহিরো কাওয়ামোতো, মেকানিক্যাল আর্ট ডিজাইনার কিমিতোশি ইয়ামানে, সুরকার ইয়োকো কান্নো এবং প্রযোজক মাসাহিকো মিনামি এবং ইয়োশিউকি তাকি।\n"
     ]
    },
    {
     "name": "stderr",
     "output_type": "stream",
     "text": [
      "Processing rows:  35%|████████████████████▊                                       | 256/740 [45:40<2:00:56, 14.99s/row]"
     ]
    },
    {
     "name": "stdout",
     "output_type": "stream",
     "text": [
      "Target: parametric answer: কারণ তিনি মেচা অ্যানিমেতে তার আগের কাজ থেকে ভিন্ন কিছু করতে চেয়েছিলেন\n",
      "contextual answer: কারণ তিনি মেচা অ্যানিমেতে তার আগের কাজ থেকে ভিন্ন কিছু করতে চেয়েছিলেন\n",
      "generated: parametric answer:মিনামি সম্ভবত একটি নতুন চ্যালেঞ্জ খুঁজছিলেন বা তার দক্ষতা বিকাশের জন্য একটি নতুন সুযোগ খুঁজছিলেন।\n",
      "contextual answer: মিনামি প্রকল্পে যোগদান করেন কারণ তিনি মেচা অ্যানিমেতে তার আগের কাজ থেকে ভিন্ন কিছু করতে চেয়েছিলেন।\n"
     ]
    },
    {
     "name": "stderr",
     "output_type": "stream",
     "text": [
      "Processing rows:  35%|████████████████████▊                                       | 257/740 [45:59<2:10:42, 16.24s/row]"
     ]
    },
    {
     "name": "stdout",
     "output_type": "stream",
     "text": [
      "Target: parametric answer: ৩০ হাজার ১৯৩ দশমিক ৩৯ কোটি টাকা\n",
      "contextual answer: ৩০ হাজার ১৯৩ দশমিক ৩৯ কোটি টাকা\n",
      "generated: parametric answer:৩০ হাজার ১৯৩ দশমিক ৩৯ কোটি টাকা\n",
      "contextual answer: ৩০ হাজার ১৯৩ দশমিক ৩৯ কোটি টাকা\n"
     ]
    },
    {
     "name": "stderr",
     "output_type": "stream",
     "text": [
      "Processing rows:  35%|█████████████████████                                       | 259/740 [46:13<1:47:47, 13.45s/row]"
     ]
    },
    {
     "name": "stdout",
     "output_type": "stream",
     "text": [
      "Target: parametric answer: সেতুর অবকাঠামো তৈরি; নদী শাসন; সংযোগ সড়ক; ভূমি অধিগ্রহণ; পুনর্বাসন ও পরিবেশ; বেতন-ভাতা\n",
      "contextual answer: সেতুর অবকাঠামো তৈরি; নদী শাসন; সংযোগ সড়ক; ভূমি অধিগ্রহণ; পুনর্বাসন ও পরিবেশ; বেতন-ভাতা\n",
      "generated: parametric answer:নকশা ও পরিকল্পনা, ভূমি অধিগ্রহণ ও পুনর্বাসন, নির্মাণ সামগ্রী ও শ্রম, প্রকৌশল ও অবকাঠামো উন্নয়ন, সংযোগকারী সড়ক ও মহাসড়ক, পরিবেশগত প্রভাব মূল্যায়ন ও প্রশমন, প্রকল্প ব্যবস্থাপনা ও প্রশাসনিক খরচ।\n",
      "contextual answer: সেতুর অবকাঠামো তৈরি, নদী শাসন, সংযোগ সড়ক, ভূমি অধিগ্রহণ, পুনর্বাসন ও পরিবেশ, বেতন-ভাতা।\n"
     ]
    },
    {
     "name": "stderr",
     "output_type": "stream",
     "text": [
      "Processing rows:  35%|█████████████████████                                       | 260/740 [46:31<1:58:33, 14.82s/row]"
     ]
    },
    {
     "name": "stdout",
     "output_type": "stream",
     "text": [
      "Target: parametric answer: ১২,০০০/- কোটি টাকা\n",
      "contextual answer: ১২,০০০/- কোটি টাকা\n",
      "generated: parametric answer:১২,০০০ কোটি টাকা।\n",
      "contextual answer: ১২,০০০ কোটি টাকা।\n"
     ]
    },
    {
     "name": "stderr",
     "output_type": "stream",
     "text": [
      "Processing rows:  35%|█████████████████████▏                                      | 261/740 [46:45<1:56:36, 14.61s/row]"
     ]
    },
    {
     "name": "stdout",
     "output_type": "stream",
     "text": [
      "Target: parametric answer: ২০১৪\n",
      "contextual answer: ২০১৪\n",
      "generated: parametric answer:২০১৪ সালে\n",
      "contextual answer: ২০১৪ সালে\n"
     ]
    },
    {
     "name": "stderr",
     "output_type": "stream",
     "text": [
      "Processing rows:  35%|█████████████████████▏                                      | 262/740 [47:06<2:12:13, 16.60s/row]"
     ]
    },
    {
     "name": "stdout",
     "output_type": "stream",
     "text": [
      "Target: parametric answer: ভূগোল;জীববিজ্ঞান;সামাজিক বিজ্ঞান;রাষ্ট্রবিজ্ঞান;গণ নীতি;বাস্তুশাস্ত্র;পদার্থবিজ্ঞান;রসায়ন;সমাজবিজ্ঞান;মনোবিজ্ঞান;শারীরবৃত্তিসহ বিজ্ঞানের অনেকগুলি ক্ষেত্র রয়েছে\n",
      "contextual answer: ভূগোল;জীববিজ্ঞান;সামাজিক বিজ্ঞান;রাষ্ট্রবিজ্ঞান;গণ নীতি;বাস্তুশাস্ত্র;পদার্থবিজ্ঞান;রসায়ন;সমাজবিজ্ঞান;মনোবিজ্ঞান;শারীরবৃত্তিসহ বিজ্ঞানের অনেকগুলি ক্ষেত্র রয়েছে\n",
      "generated: parametric answer:পরিবেশগত সম্পদ ব্যবস্থাপনায় বিজ্ঞানের অনেকগুলি ক্ষেত্র রয়েছে, যার মধ্যে রয়েছে ভূগোল, জীববিজ্ঞান, সামাজিক বিজ্ঞান, রাষ্ট্রবিজ্ঞান, গণ নীতি, বাস্তুশাস্ত্র, পদার্থবিজ্ঞান, রসায়ন, সমাজবিজ্ঞান, মনোবিজ্ঞান এবং শারীরবৃত্তি। এছাড়াও, অর্থনীতি, পরিসংখ্যান, তথ্যবিজ্ঞান এবং প্রকৌশল বিজ্ঞানও এই ক্ষেত্রে গুরুত্বপূর্ণ ভূমিকা পালন করে।\n",
      "contextual answer: ভূগোল, জীববিজ্ঞান, সামাজিক বিজ্ঞান, রাষ্ট্রবিজ্ঞান, গণ নীতি, বাস্তুশাস্ত্র, পদার্থবিজ্ঞান, রসায়ন, সমাজবিজ্ঞান, মনোবিজ্ঞান এবং শারীরবৃত্তি।\n"
     ]
    },
    {
     "name": "stderr",
     "output_type": "stream",
     "text": [
      "Processing rows:  36%|█████████████████████▍                                      | 264/740 [47:24<1:53:12, 14.27s/row]"
     ]
    },
    {
     "name": "stdout",
     "output_type": "stream",
     "text": [
      "Target: parametric answer: পরিবেশ আচরণ;ধর্ম;সংস্কৃতি;অর্থনৈতিক অনুশীলনকে প্রভাবিত করে\n",
      "contextual answer: পরিবেশ আচরণ;ধর্ম;সংস্কৃতি;অর্থনৈতিক অনুশীলনকে প্রভাবিত করে\n",
      "generated: parametric answer:পরিবেশ মানুষ, প্রাণী, উদ্ভিদ এবং পৃথিবীর চারপাশের স্থানগুলির প্রকৃতি নির্ধার\n",
      "contextual answer: পরিবেশ মানুষ, প্রাণী, উদ্ভিদ এবং পৃথিবীর চারপাশের স্থানগুলির প্রকৃতি নির্ধারণ করে থাকে কারণ এটি তাদের বেঁচে থাকার এবং বিকাশের জন্য প্রয়োজনীয় অবস্থা এবং সম্পদ প্রদান করে।\n"
     ]
    },
    {
     "name": "stderr",
     "output_type": "stream",
     "text": [
      "Processing rows:  36%|█████████████████████▌                                      | 266/740 [47:41<1:38:57, 12.53s/row]"
     ]
    },
    {
     "name": "stdout",
     "output_type": "stream",
     "text": [
      "Target: parametric answer: পরিবেশগত নিমিত্তবাদ;সম্ভাব্যতাবাদ;সম্ভাবনাবাদ সম্পর্কিত ধারণা পরিবেশগত সম্পদ ব্যবস্থাপনার ধারণার ক্ষেত্রে তাৎপর্যপূর্ণ\n",
      "contextual answer: পরিবেশগত নিমিত্তবাদ;সম্ভাব্যতাবাদ;সম্ভাবনাবাদ সম্পর্কিত ধারণা পরিবেশগত সম্পদ ব্যবস্থাপনার ধারণার ক্ষেত্রে তাৎপর্যপূর্ণ\n",
      "generated: parametric answer:পরিবেশগত নিমিত্তবাদ, সম্ভাব্যতাবাদ এবং সম্ভাবনাবাদ।\n",
      "contextual answer: পরিবেশগত নিমিত্তবাদ, সম্ভাব্যতাবাদ এবং সম্ভাবনাবাদ।\n"
     ]
    },
    {
     "name": "stderr",
     "output_type": "stream",
     "text": [
      "Processing rows:  36%|█████████████████████▋                                      | 268/740 [47:55<1:25:52, 10.92s/row]"
     ]
    },
    {
     "name": "stdout",
     "output_type": "stream",
     "text": [
      "Target: parametric answer: দু’ধরনের\n",
      "contextual answer: দু’ধরনের\n",
      "generated: parametric answer:অ্যানালগ এবং ডিজিটাল।\n",
      "contextual answer: অ্যানালগ এবং ডিজিটাল।\n"
     ]
    },
    {
     "name": "stderr",
     "output_type": "stream",
     "text": [
      "Processing rows:  36%|█████████████████████▊                                      | 269/740 [48:10<1:36:10, 12.25s/row]"
     ]
    },
    {
     "name": "stdout",
     "output_type": "stream",
     "text": [
      "Target: parametric answer: পরস্পরের সাথে সংযুক্ত এক গুচ্ছ ট্রান্সমিটার, রিসিভার বা ট্রান্সিভারের সমন্বয়ে\n",
      "contextual answer: পরস্পরের সাথে সংযুক্ত এক গুচ্ছ ট্রান্সমিটার, রিসিভার বা ট্রান্সিভারের সমন্বয়ে\n",
      "generated: parametric answer:নেটওয়ার্ক গঠন করতে কম্পিউটার, সার্ভার, রাউটার, সুইচ এবং অন্যান্য নেটওয়ার্ক ডিভাইসের একটি সংযুক্ত সিস্টেম ব্যবহার করা হয়।\n",
      "contextual answer: পরস্পরের সাথে সংযুক্ত এক গুচ্ছ ট্রান্সমিটার, রিসিভার বা ট্রান্সভারের সমন্বয়ে নেটওয়ার্ক গঠিত হয়।\n"
     ]
    },
    {
     "name": "stderr",
     "output_type": "stream",
     "text": [
      "Processing rows:  36%|█████████████████████▉                                      | 270/740 [48:27<1:47:04, 13.67s/row]"
     ]
    },
    {
     "name": "stdout",
     "output_type": "stream",
     "text": [
      "Target: parametric answer: একটি নির্দিষ্ট বাবহারকারীর কাছে তথ্য পাঠানো\n",
      "contextual answer: একটি নির্দিষ্ট বাবহারকারীর কাছে তথ্য পাঠানো\n",
      "generated: parametric answer:রাউটারের কাজ হল ডেটা প্যাকেটগুলিকে এক নেটওয়ার্ক থেকে অন্য নেটওয়ার্কে পাঠানো।\n",
      "contextual answer: রাউটারের কাজ হলো একটি নির্দিষ্ট বাবহারকারীর কাছে তথ্য পাঠানো।\n"
     ]
    },
    {
     "name": "stderr",
     "output_type": "stream",
     "text": [
      "Processing rows:  37%|█████████████████████▉                                      | 271/740 [48:44<1:54:46, 14.68s/row]"
     ]
    },
    {
     "name": "stdout",
     "output_type": "stream",
     "text": [
      "Target: parametric answer: যাতে দুর্বল অ্যানালগ সিগনালকে বিবর্ধিত করে শক্তিশালী;বিকৃত ডিজিটাল সিগনালকে পুনর্গঠন করা যায়\n",
      "contextual answer: যাতে দুর্বল অ্যানালগ সিগনালকে বিবর্ধিত করে শক্তিশালী;বিকৃত ডিজিটাল সিগনালকে পুনর্গঠন করা যায়\n",
      "generated: parametric answer:সিগনালগুলি দূরত্বের সাথে সাথে দুর্বল হয়ে যায় এবং তাদের পুনরায় সংকেত দেওয়ার জন্য রিপিটারগুলি প্রয়োজন।\n",
      "contextual answer: দুর্বল অ্যানালগ সিগনালকে বিবর্ধিত করে শক্তিশালী এবং বিকৃত ডিজিটাল সিগনালকে পুনর্গঠন করা যায়।\n"
     ]
    },
    {
     "name": "stderr",
     "output_type": "stream",
     "text": [
      "Processing rows:  37%|██████████████████████                                      | 272/740 [49:00<1:57:48, 15.10s/row]"
     ]
    },
    {
     "name": "stdout",
     "output_type": "stream",
     "text": [
      "Target: parametric answer: নতুন\n",
      "contextual answer: নতুন\n",
      "generated: parametric answer:নতুন\n",
      "contextual answer: নতুন\n"
     ]
    },
    {
     "name": "stderr",
     "output_type": "stream",
     "text": [
      "Processing rows:  37%|██████████████████████▏                                     | 274/740 [49:14<1:38:21, 12.66s/row]"
     ]
    },
    {
     "name": "stdout",
     "output_type": "stream",
     "text": [
      "Target: parametric answer: ১৯২৬\n",
      "contextual answer: ১৯২৬\n",
      "generated: parametric answer:১৯২৬ সালে\n",
      "contextual answer: ১৯২৬ সালে\n"
     ]
    },
    {
     "name": "stderr",
     "output_type": "stream",
     "text": [
      "Processing rows:  37%|██████████████████████▎                                     | 275/740 [49:30<1:44:24, 13.47s/row]"
     ]
    },
    {
     "name": "stdout",
     "output_type": "stream",
     "text": [
      "Target: parametric answer: ৩৬৭\n",
      "contextual answer: ৩৬৭\n",
      "generated: parametric answer:২০০৫ সালে ৩৬৭টি অতিনবতারা আবিষ্কৃত হয়।\n",
      "contextual answer: ২০০৫ সালে ৩৬৭টি অতিনবতারা আবিষ্কৃত হয়।\n"
     ]
    },
    {
     "name": "stderr",
     "output_type": "stream",
     "text": [
      "Processing rows:  37%|██████████████████████▍                                     | 276/740 [49:44<1:45:09, 13.60s/row]"
     ]
    },
    {
     "name": "stdout",
     "output_type": "stream",
     "text": [
      "Target: parametric answer: ইন্টারন্যাশনাল অ্যাস্ট্রোনমিক্যাল ইউনিয়ন-এর সেন্ট্রাল ব্যুরো ফর অ্যাস্ট্রোনমিক্যাল টেলিগ্রাম্‌স শীর্ষক\n",
      "contextual answer: ইন্টারন্যাশনাল অ্যাস্ট্রোনমিক্যাল ইউনিয়ন-এর সেন্ট্রাল ব্যুরো ফর অ্যাস্ট্রোনমিক্যাল টেলিগ্রাম্‌স শীর্ষক\n",
      "generated: parametric answer:ইন্টারন্যাশনাল অ্যাস্ট্রোনমিক্যাল ইউনিয়ন-এর সেন্ট্রাল ব্যুরো ফর অ্যাস্ট্রোনমিক্যাল টেলিগ্রাম্‌স।\n",
      "contextual answer: ইন্টারন্যাশনাল অ্যাস্ট্রোনমিক্যাল ইউনিয়ন-এর সেন্ট্রাল ব্যুরো ফর অ্যাস্ট্রোনমিক্যাল টেলিগ্রাম্‌স।\n"
     ]
    },
    {
     "name": "stderr",
     "output_type": "stream",
     "text": [
      "Processing rows:  37%|██████████████████████▍                                     | 277/740 [49:58<1:46:37, 13.82s/row]"
     ]
    },
    {
     "name": "stdout",
     "output_type": "stream",
     "text": [
      "Target: parametric answer: টেকোগ্রাফ\n",
      "contextual answer: টেকোগ্রাফ\n",
      "generated: parametric answer:None\n",
      "contextual answer: None\n"
     ]
    },
    {
     "name": "stderr",
     "output_type": "stream",
     "text": [
      "Processing rows:  38%|██████████████████████▋                                     | 280/740 [50:12<1:24:50, 11.07s/row]"
     ]
    },
    {
     "name": "stdout",
     "output_type": "stream",
     "text": [
      "Target: parametric answer: জ্বালানী পর্যবেক্ষণ; দূরত্ব হিসাব; সম্পত্তির দেখাশনা করা; মাঠ পর্যায়ে পণ্য বিক্রি\n",
      "contextual answer: জ্বালানী পর্যবেক্ষণ; দূরত্ব হিসাব; সম্পত্তির দেখাশনা করা; মাঠ পর্যায়ে পণ্য বিক্রি\n",
      "generated: parametric answer:None\n",
      "contextual answer: None\n"
     ]
    },
    {
     "name": "stderr",
     "output_type": "stream",
     "text": [
      "Processing rows:  38%|██████████████████████▊                                     | 281/740 [50:26<1:31:04, 11.91s/row]"
     ]
    },
    {
     "name": "stdout",
     "output_type": "stream",
     "text": [
      "Target: parametric answer: জিপিএস; জিএসএম প্রযুক্তি\n",
      "contextual answer: জিপিএস; জিএসএম প্রযুক্তি\n",
      "generated: parametric answer:None\n",
      "contextual answer: None\n"
     ]
    },
    {
     "name": "stderr",
     "output_type": "stream",
     "text": [
      "Processing rows:  38%|██████████████████████▊                                     | 282/740 [50:40<1:35:39, 12.53s/row]"
     ]
    },
    {
     "name": "stdout",
     "output_type": "stream",
     "text": [
      "Target: parametric answer: ২০০২\n",
      "contextual answer: ২০০২\n",
      "generated: parametric answer:১৯৯০ এর দশকের শেষের দিকে\n",
      "contextual answer: ২০০২ সাল থেকে\n"
     ]
    },
    {
     "name": "stderr",
     "output_type": "stream",
     "text": [
      "Processing rows:  38%|███████████████████████                                     | 284/740 [50:56<1:24:37, 11.14s/row]"
     ]
    },
    {
     "name": "stdout",
     "output_type": "stream",
     "text": [
      "Target: parametric answer: ২০১৪\n",
      "contextual answer: ২০১৪\n",
      "generated: parametric answer:২০১৪ সাল\n",
      "contextual answer: ২০১৪ সাল\n"
     ]
    },
    {
     "name": "stderr",
     "output_type": "stream",
     "text": [
      "Processing rows:  39%|███████████████████████                                     | 285/740 [51:10<1:30:57, 11.99s/row]"
     ]
    },
    {
     "name": "stdout",
     "output_type": "stream",
     "text": [
      "Target: parametric answer: ঢাকা রেসিং, রাস্তায় দৌড় ভিডিও গেম সেট ঢাকা\n",
      "contextual answer: ঢাকা রেসিং, রাস্তায় দৌড় ভিডিও গেম সেট ঢাকা\n",
      "generated: parametric answer:ঢাকা রেসিং নামের একটি ভিডিও গেম।\n",
      "contextual answer: ঢাকা রেসিং নামের একটি ভিডিও গেম।\n"
     ]
    },
    {
     "name": "stderr",
     "output_type": "stream",
     "text": [
      "Processing rows:  39%|███████████████████████▏                                    | 286/740 [51:25<1:38:05, 12.96s/row]"
     ]
    },
    {
     "name": "stdout",
     "output_type": "stream",
     "text": [
      "Target: parametric answer: দেশজুড়ে গেমারদের কাছ থেকে ইতিবাচক সাড়া পেয়ে\n",
      "contextual answer: দেশজুড়ে গেমারদের কাছ থেকে ইতিবাচক সাড়া পেয়ে\n",
      "generated: parametric answer:একটি গেম স্থানীয় ভিডিও গেম ডেভেলপমেন্ট সেক্টরের পথ সুগম করতে পারে যদি এটি জনপ্রিয় হয়, ইতিবাচক পর্যালোচনা পায় এবং অন্যদের জন্য অনুপ্রেরণা হয়।\n",
      "contextual answer: গেমটি দেশজুড়ে গেমারদের কাছ থেকে ইতিবাচক সাড়া পেয়েছে।\n"
     ]
    },
    {
     "name": "stderr",
     "output_type": "stream",
     "text": [
      "Processing rows:  39%|███████████████████████▎                                    | 287/740 [51:41<1:44:46, 13.88s/row]"
     ]
    },
    {
     "name": "stdout",
     "output_type": "stream",
     "text": [
      "Target: parametric answer: চট্টগ্রাম\n",
      "contextual answer: চট্টগ্রাম\n",
      "generated: parametric answer:চট্টগ্রাম\n",
      "contextual answer: চট্টগ্রাম\n"
     ]
    },
    {
     "name": "stderr",
     "output_type": "stream",
     "text": [
      "Processing rows:  39%|███████████████████████▎                                    | 288/740 [51:55<1:44:25, 13.86s/row]"
     ]
    },
    {
     "name": "stdout",
     "output_type": "stream",
     "text": [
      "Target: parametric answer: কোন বস্তুকে সরাসরি স্পর্শ না করে সেই বস্তু হতে তার গুনাবলি সম্পর্কিত উপাত্ত সংগ্রহ করা এবং পর্যবেক্ষন করার এক ধরনের কৌশল\n",
      "contextual answer: কোন বস্তুকে সরাসরি স্পর্শ না করে সেই বস্তু হতে তার গুনাবলি সম্পর্কিত উপাত্ত সংগ্রহ করা এবং পর্যবেক্ষন করার এক ধরনের কৌশল\n",
      "generated: parametric answer:দূর অনুধাবন হল একটি পদ্ধতি যাতে মহাকাশ বা বিমান থেকে পৃথিবীর পৃষ্ঠ সম্পর্কিত তথ্য সংগ্রহ করা হয়, যা বিভিন্ন সেন্সর এবং প্রযুক্তি ব্যবহার করে করা হয়।\n",
      "contextual answer: দূর অনুধাবন হল কোন বস্তুকে সরাসরি স্পর্শ না করে সেই বস্তু হতে তার গুনাবলি সম্পর্কিত উপাত্ত সংগ্রহ করা এবং পর্যবেক্ষন করার এক ধরনের কৌশল।\n"
     ]
    },
    {
     "name": "stderr",
     "output_type": "stream",
     "text": [
      "Processing rows:  39%|███████████████████████▍                                    | 289/740 [52:10<1:47:01, 14.24s/row]"
     ]
    },
    {
     "name": "stdout",
     "output_type": "stream",
     "text": [
      "Target: parametric answer: ক্যামেরা; লেসার; রেডিও তরঙ্গ গ্রহণকারী রিসিভার বা সংগ্রাহক; রাডার ব্যবস্থা; সনার; সীসমোগ্রাফ; গ্রাভিমিটারস; ম্যাগ্নেটমিটার\n",
      "contextual answer: ক্যামেরা; লেসার; রেডিও তরঙ্গ গ্রহণকারী রিসিভার বা সংগ্রাহক; রাডার ব্যবস্থা; সনার; সীসমোগ্রাফ; গ্রাভিমিটারস; ম্যাগ্নেটমিটার\n",
      "generated: parametric answer:ক্যামেরা, লেসার, রেডিও তরঙ্গ গ্রহণকারী রিসিভার বা সংগ্রাহক, রাডার ব্যবস্থা, সনার, সীসমোগ্রাফ, গ্রাভিমিটারস, ম্যাগ্নেটমিটার, এবং আরও অনেক অন্যান্য যেমন হাইপারস্পেকট্রাল সেন্সর, মাল্টিস্পেকট্রাল সেন্সর ইত্যাদি।\n",
      "contextual answer: ক্যামেরা, লেসার, রেডিও তরঙ্গ গ্রহণকারী রিসিভার বা সংগ্রাহক, রাডার ব্যবস্থা, সনার, সীসমোগ্রাফ, গ্রাভিমিটারস, ম্যাগ্নেটমিটার।\n"
     ]
    },
    {
     "name": "stderr",
     "output_type": "stream",
     "text": [
      "Processing rows:  39%|███████████████████████▌                                    | 290/740 [52:24<1:47:04, 14.28s/row]"
     ]
    },
    {
     "name": "stdout",
     "output_type": "stream",
     "text": [
      "Target: parametric answer: পদার্থ বিজ্ঞান ও গণিতে\n",
      "contextual answer: পদার্থ বিজ্ঞান ও গণিতে\n",
      "generated: parametric answer:পদার্থ বিজ্ঞান ও গণিত\n",
      "contextual answer: পদার্থ বিজ্ঞান ও গণিত\n"
     ]
    },
    {
     "name": "stderr",
     "output_type": "stream",
     "text": [
      "Processing rows:  39%|███████████████████████▋                                    | 292/740 [52:40<1:32:11, 12.35s/row]"
     ]
    },
    {
     "name": "stdout",
     "output_type": "stream",
     "text": [
      "Target: parametric answer: ১৯৪৮\n",
      "contextual answer: ১৯৪৮\n",
      "generated: parametric answer:১৯৪৮ সালে\n",
      "contextual answer: ১৯৪৮ সালে\n"
     ]
    },
    {
     "name": "stderr",
     "output_type": "stream",
     "text": [
      "Processing rows:  40%|███████████████████████▊                                    | 294/740 [52:54<1:19:51, 10.74s/row]"
     ]
    },
    {
     "name": "stdout",
     "output_type": "stream",
     "text": [
      "Target: parametric answer: রিং চিপস; চানাচুর\n",
      "contextual answer: রিং চিপস; চানাচুর\n",
      "generated: parametric answer:রিং চিপস এবং চানাচুর\n",
      "contextual answer: রিং চিপস এবং চানাচুর\n"
     ]
    },
    {
     "name": "stderr",
     "output_type": "stream",
     "text": [
      "Processing rows:  40%|███████████████████████▉                                    | 295/740 [53:08<1:26:47, 11.70s/row]"
     ]
    },
    {
     "name": "stdout",
     "output_type": "stream",
     "text": [
      "Target: parametric answer: ২০২০\n",
      "contextual answer: ২০২০\n",
      "generated: parametric answer:২০২০ সাল\n",
      "contextual answer: ২০২০ সাল\n"
     ]
    },
    {
     "name": "stderr",
     "output_type": "stream",
     "text": [
      "Processing rows:  40%|████████████████████████                                    | 297/740 [53:22<1:15:53, 10.28s/row]"
     ]
    },
    {
     "name": "stdout",
     "output_type": "stream",
     "text": [
      "Target: parametric answer: আলুর চিপস; মিস্টার টুইস্ট; আলুজ চিপস; পাস্তাচিপস\n",
      "contextual answer: আলুর চিপস; মিস্টার টুইস্ট; আলুজ চিপস; পাস্তাচিপস\n",
      "generated: parametric answer:মিষ্টি, নাস্তা, পানীয়, হিমায়িত খাবার, মশলা এবং অন্যান্য খাবার পণ্য।\n",
      "contextual answer: পানীয়, হিমায়িত খাবার, মশলা, আলুর চিপস, মিস্টার টুইস্ট, অ্যালুজ এবং পাস্তাচিপস।\n"
     ]
    },
    {
     "name": "stderr",
     "output_type": "stream",
     "text": [
      "Processing rows:  40%|████████████████████████▏                                   | 298/740 [53:38<1:30:03, 12.22s/row]"
     ]
    },
    {
     "name": "stdout",
     "output_type": "stream",
     "text": [
      "Target: parametric answer: কাভানা; চার্চ; হসপিটাল; মানসিক আশ্রয়স্থান; ঘণ্টা-মিনার (বেল টাওয়ার); কিছু পরিত্যক্ত বাড়ি ও প্রাক্তন প্রশাসনিক ভবন\n",
      "contextual answer: কাভানা; চার্চ; হসপিটাল; মানসিক আশ্রয়স্থান; ঘণ্টা-মিনার (বেল টাওয়ার); কিছু পরিত্যক্ত বাড়ি ও প্রাক্তন প্রশাসনিক ভবন\n",
      "generated: parametric answer:ঐতিহাসিক দ্বীপ পোভেগ্লিয়াতে থাকা ভবনগুলোর মধ্যে রয়েছে গির্জা, হাসপাতাল, মানসিক আশ্রয়স্থান, ঘণ্টা-মিনার এবং অন্যান্য ঐতিহাসিক ও প্রশাসনিক ভবন।\n",
      "contextual answer: কাভানা, চার্চ, হসপিটাল, মানসিক আশ্রয়স্থান, ঘণ্টা-মিনার (বেল টাওয়ার) এবং কিছু পরিত্যক্ত বাড়ি ও প্রাক্তন প্রশাসনিক ভবন।\n"
     ]
    },
    {
     "name": "stderr",
     "output_type": "stream",
     "text": [
      "Processing rows:  40%|████████████████████████▏                                   | 299/740 [53:55<1:38:52, 13.45s/row]"
     ]
    },
    {
     "name": "stdout",
     "output_type": "stream",
     "text": [
      "Target: parametric answer: সান ভিটলে\n",
      "contextual answer: সান ভিটলে\n",
      "generated: parametric answer:সান ভিটলে চার্চের।\n",
      "contextual answer: সান ভিটলে চার্চের।\n"
     ]
    },
    {
     "name": "stderr",
     "output_type": "stream",
     "text": [
      "Processing rows:  41%|████████████████████████▎                                   | 300/740 [54:09<1:39:53, 13.62s/row]"
     ]
    },
    {
     "name": "stdout",
     "output_type": "stream",
     "text": [
      "Target: parametric answer: চাপা আতঙ্ক ও ভয় এবং অদৃশ্য কারও অনুভূতি পাবার কারণ দেখিয়ে\n",
      "contextual answer: চাপা আতঙ্ক ও ভয় এবং অদৃশ্য কারও অনুভূতি পাবার কারণ দেখিয়ে\n",
      "generated: parametric answer:পোভেগ্লিয়া দ্বীপের ভূতুড়ে পরিবেশের কারণে চিকিৎসক, সেবিকা আর অন্যান্য কর্মরত লোকজন চাকুরী করতে চাইতেন না।\n",
      "contextual answer: চিকিৎসক, সেবিকা আর অন্যান্য কর্মরত লোকজন চাপা আতঙ্ক ও ভয় এবং অদৃশ্য কারও অনুভূতি পাবার কারণ দেখিয়ে চাকুরী করতে চাইতেন না।\n"
     ]
    },
    {
     "name": "stderr",
     "output_type": "stream",
     "text": [
      "Processing rows:  41%|████████████████████████▍                                   | 302/740 [54:25<1:27:32, 11.99s/row]"
     ]
    },
    {
     "name": "stdout",
     "output_type": "stream",
     "text": [
      "Target: parametric answer: মারা যাওয়া এই মানুষগুলোর অতৃপ্ত আত্মা ঘুরে ফেরে এই দ্বীপে এবং এসব আত্মা অন্যের আধিপত্য মেনে নিতে পারে না\n",
      "contextual answer: মারা যাওয়া এই মানুষগুলোর অতৃপ্ত আত্মা ঘুরে ফেরে এই দ্বীপে এবং এসব আত্মা অন্যের আধিপত্য মেনে নিতে পারে না\n",
      "generated: parametric answer:পোভেগ্লিয়া দ্বীপ ইতালির একটি দ্বীপ, যা ভেনিস ল্যাগুনে অবস্থিত। এটি একটি ঐতিহাসিক এবং সাংস্কৃতিক তাত্পর্য সমৃদ্ধ স্থান, এবং এটি তার সৌন্দর্য এবং ঐতিহাসিক নিদর্শনগুলির জন্য পরিচিত।\n",
      "contextual answer: ১৪শ শতকের যুদ্ধের কামান ও বন্দুকের আওয়াজ এখনও রাতে শোনা যায় এবং দ্বীপের চারপাশে ছড়িয়ে পড়ে থাকা হাজার-হাজার কঙ্কাল তৈরি করে রেখেছে থমথমে একটা পরিবেশ। স্থানীয় লোকমুখে জানা যায়, মারা যাওয়া এই মানুষগুলোর অতৃপ্ত আত্মা ঘুরে ফেরে এই দ্বীপে এবং এসব আত্মা অন্যের আধিপত্য মেনে নিতে পারে না।\n"
     ]
    },
    {
     "name": "stderr",
     "output_type": "stream",
     "text": [
      "Processing rows:  41%|████████████████████████▌                                   | 303/740 [54:41<1:36:54, 13.31s/row]"
     ]
    },
    {
     "name": "stdout",
     "output_type": "stream",
     "text": [
      "Target: parametric answer: প্রদর্শনীর জন্য ব্যবহৃত একটি স্থান, সাধারণত দৃশ্য শিল্পের জন্য\n",
      "contextual answer: প্রদর্শনীর জন্য ব্যবহৃত একটি স্থান, সাধারণত দৃশ্য শিল্পের জন্য\n",
      "generated: parametric answer:একটি শিল্প যাদুঘর বা শিল্প গ্যালারি হল একটি স্থান যেখানে শিল্পকর্ম প্রদর্শিত হয়, এবং এটি পাবলিক বা ব্যক্তিগত হতে পারে।\n",
      "contextual answer: একটি শিল্প যাদুঘর বা শিল্প গ্যালারি হল প্রদর্শনীর জন্য ব্যবহৃত একটি স্থান, সাধারণত দৃশ্য শিল্পের জন্য।\n"
     ]
    },
    {
     "name": "stderr",
     "output_type": "stream",
     "text": [
      "Processing rows:  41%|████████████████████████▋                                   | 304/740 [54:58<1:43:27, 14.24s/row]"
     ]
    },
    {
     "name": "stdout",
     "output_type": "stream",
     "text": [
      "Target: parametric answer: একপ্রকারের বাণিজ্যিক প্রতিষ্ঠান যারা শিল্পকর্ম বিক্রয় করে\n",
      "contextual answer: একপ্রকারের বাণিজ্যিক প্রতিষ্ঠান যারা শিল্পকর্ম বিক্রয় করে\n",
      "generated: parametric answer:একটি ব্যক্তিগত সংগ্রহশালা হল একটি প্রতিষ্ঠান যা শিল্পকর্ম প্রদর্শন এবং বিক্রয় করে, প্রায়শই শিল্পী বা সংগ্রাহকদের কাছ থেকে কেনা বা কমিশন করা কাজগুলির একটি সংগ্রহ সহ।\n",
      "contextual answer: ব্যক্তিগত সংগ্রহশালা একপ্রকারের বাণিজ্যিক প্রতিষ্ঠান যারা শিল্পকর্ম বিক্রয় করে।\n"
     ]
    },
    {
     "name": "stderr",
     "output_type": "stream",
     "text": [
      "Processing rows:  41%|████████████████████████▉                                   | 307/740 [55:14<1:23:53, 11.62s/row]"
     ]
    },
    {
     "name": "stdout",
     "output_type": "stream",
     "text": [
      "Target: parametric answer: লউফির\n",
      "contextual answer: লউফির\n",
      "generated: parametric answer:লউফি\n",
      "contextual answer: লউফি\n"
     ]
    },
    {
     "name": "stderr",
     "output_type": "stream",
     "text": [
      "Processing rows:  42%|█████████████████████████                                   | 309/740 [55:28<1:13:26, 10.22s/row]"
     ]
    },
    {
     "name": "stdout",
     "output_type": "stream",
     "text": [
      "Target: parametric answer: \"ওডিনস্লিপে\"\n",
      "contextual answer: \"ওডিনস্লিপে\"\n",
      "generated: parametric answer:ওডিনস্লিপে\n",
      "contextual answer: ওডিনস্লিপে\n"
     ]
    },
    {
     "name": "stderr",
     "output_type": "stream",
     "text": [
      "Processing rows:  42%|█████████████████████████▏                                  | 310/740 [55:43<1:21:39, 11.39s/row]"
     ]
    },
    {
     "name": "stdout",
     "output_type": "stream",
     "text": [
      "Target: parametric answer: ডেস্ট্রয়ারকে\n",
      "contextual answer: ডেস্ট্রয়ারকে\n",
      "generated: parametric answer:ডেস্ট্রয়ার\n",
      "contextual answer: ডেস্ট্রয়ার\n"
     ]
    },
    {
     "name": "stderr",
     "output_type": "stream",
     "text": [
      "Processing rows:  42%|█████████████████████████▏                                  | 311/740 [56:07<1:50:18, 15.43s/row]"
     ]
    },
    {
     "name": "stdout",
     "output_type": "stream",
     "text": [
      "Target: parametric answer: যাতে লোকি যুদ্ধে যেতে না পারে\n",
      "contextual answer: যাতে লোকি যুদ্ধে যেতে না পারে\n",
      "generated: parametric answer:থর বাইফ্রস্ট ভেঙ্গে দেয় যাতে লোকির যুদ্ধে যোগদান বন্ধ করা এবং ওডিনকে জাগিয়ে তোলা।\n",
      "contextual answer: থর বাইফ্রস্ট ভেঙ্গে দেয় যাতে লোকি যুদ্ধে যেতে না পারে।\n"
     ]
    },
    {
     "name": "stderr",
     "output_type": "stream",
     "text": [
      "Processing rows:  42%|█████████████████████████▎                                  | 312/740 [56:23<1:50:55, 15.55s/row]"
     ]
    },
    {
     "name": "stdout",
     "output_type": "stream",
     "text": [
      "Target: parametric answer: ১৭৫৭\n",
      "contextual answer: ১৭৫৭\n",
      "generated: parametric answer:১৭৫৭ সাল।\n",
      "contextual answer: ১৭৫৭ সাল।\n"
     ]
    },
    {
     "name": "stderr",
     "output_type": "stream",
     "text": [
      "Processing rows:  42%|█████████████████████████▍                                  | 314/740 [56:37<1:32:19, 13.00s/row]"
     ]
    },
    {
     "name": "stdout",
     "output_type": "stream",
     "text": [
      "Target: parametric answer: ১৭৯৯\n",
      "contextual answer: ১৭৯৯\n",
      "generated: parametric answer:১৭৯৯ সালে\n",
      "contextual answer: ১৭৯৯ সালে\n"
     ]
    },
    {
     "name": "stderr",
     "output_type": "stream",
     "text": [
      "Processing rows:  43%|█████████████████████████▌                                  | 316/740 [56:52<1:19:40, 11.27s/row]"
     ]
    },
    {
     "name": "stdout",
     "output_type": "stream",
     "text": [
      "Target: parametric answer: ১৭৯৩\n",
      "contextual answer: ১৭৯৩\n",
      "generated: parametric answer:১৭৯৩ সালে\n",
      "contextual answer: ১৭৯৩ সালে\n"
     ]
    },
    {
     "name": "stderr",
     "output_type": "stream",
     "text": [
      "Processing rows:  43%|█████████████████████████▊                                  | 318/740 [57:06<1:10:52, 10.08s/row]"
     ]
    },
    {
     "name": "stdout",
     "output_type": "stream",
     "text": [
      "Target: parametric answer: ১৯৮৯\n",
      "contextual answer: ১৯৮৯\n",
      "generated: parametric answer:১৯৮৯ সাল পর্যন্ত\n",
      "contextual answer: ১৯৮৯ সাল পর্যন্ত\n"
     ]
    },
    {
     "name": "stderr",
     "output_type": "stream",
     "text": [
      "Processing rows:  43%|██████████████████████████▉                                   | 321/740 [57:21<59:10,  8.47s/row]"
     ]
    },
    {
     "name": "stdout",
     "output_type": "stream",
     "text": [
      "Target: parametric answer: ১৯৭২\n",
      "contextual answer: ১৯৭২\n",
      "generated: parametric answer:১৯৭২ সালে\n",
      "contextual answer: ১৯৭২ সালে\n"
     ]
    },
    {
     "name": "stderr",
     "output_type": "stream",
     "text": [
      "Processing rows:  44%|██████████████████████████                                  | 322/740 [57:39<1:19:05, 11.35s/row]"
     ]
    },
    {
     "name": "stdout",
     "output_type": "stream",
     "text": [
      "Target: parametric answer: ১৯৭৩\n",
      "contextual answer: ১৯৭৩\n",
      "generated: parametric answer:১৯৭৩ সালে\n",
      "contextual answer: ১৯৭৩ সালে\n"
     ]
    },
    {
     "name": "stderr",
     "output_type": "stream",
     "text": [
      "Processing rows:  44%|██████████████████████████▏                                 | 323/740 [57:53<1:24:22, 12.14s/row]"
     ]
    },
    {
     "name": "stdout",
     "output_type": "stream",
     "text": [
      "Target: parametric answer: লাইম্যান স্পিটজার\n",
      "contextual answer: লাইম্যান স্পিটজার\n",
      "generated: parametric answer:লাইম্যান স্পিটজার\n",
      "contextual answer: লাইম্যান স্পিটজার\n"
     ]
    },
    {
     "name": "stderr",
     "output_type": "stream",
     "text": [
      "Processing rows:  44%|██████████████████████████▎                                 | 324/740 [58:07<1:27:51, 12.67s/row]"
     ]
    },
    {
     "name": "stdout",
     "output_type": "stream",
     "text": [
      "Target: parametric answer: জ্যোতির্বৈজ্ঞানিক মানমন্দির অর্বিটিং অ্যাস্ট্রোনমিকাল অবজারভেটরি-২\n",
      "contextual answer: জ্যোতির্বৈজ্ঞানিক মানমন্দির অর্বিটিং অ্যাস্ট্রোনমিকাল অবজারভেটরি-২\n",
      "generated: parametric answer:অর্বিটিং অ্যাস্ট্রোনমিকাল অবজারভেটরি-২\n",
      "contextual answer: অর্বিটিং অ্যাস্ট্রোনমিকাল অবজারভেটরি-২\n"
     ]
    },
    {
     "name": "stderr",
     "output_type": "stream",
     "text": [
      "Processing rows:  44%|██████████████████████████▎                                 | 325/740 [58:22<1:34:12, 13.62s/row]"
     ]
    },
    {
     "name": "stdout",
     "output_type": "stream",
     "text": [
      "Target: parametric answer: ডিস্কভারি\n",
      "contextual answer: ডিস্কভারি\n",
      "generated: parametric answer:ডিস্কভারি নভোখেয়াযান\n",
      "contextual answer: ডিস্কভারি নভোখেয়াযান\n"
     ]
    },
    {
     "name": "stderr",
     "output_type": "stream",
     "text": [
      "Processing rows:  44%|██████████████████████████▍                                 | 326/740 [58:36<1:34:48, 13.74s/row]"
     ]
    },
    {
     "name": "stdout",
     "output_type": "stream",
     "text": [
      "Target: parametric answer: সালিউত মহাকাশ বিরোতিস্থলের উপর\n",
      "contextual answer: সালিউত মহাকাশ বিরোতিস্থলের উপর\n",
      "generated: parametric answer:সালিউত মহাকাশ বিরতিস্থলের উপরে।\n",
      "contextual answer: সালিউত মহাকাশ বিরতিস্থলের উপরে।\n"
     ]
    },
    {
     "name": "stderr",
     "output_type": "stream",
     "text": [
      "Processing rows:  44%|██████████████████████████▌                                 | 327/740 [58:50<1:35:01, 13.80s/row]"
     ]
    },
    {
     "name": "stdout",
     "output_type": "stream",
     "text": [
      "Target: parametric answer: জার্মান ব্যারন কার্ল ভন ড্রাইস\n",
      "contextual answer: জার্মান ব্যারন কার্ল ভন ড্রাইস\n",
      "generated: parametric answer:জার্মান ব্যারন কার্ল ভন ড্রাইস।\n",
      "contextual answer: জার্মান ব্যারন কার্ল ভন ড্রাইস।\n"
     ]
    },
    {
     "name": "stderr",
     "output_type": "stream",
     "text": [
      "Processing rows:  44%|██████████████████████████▋                                 | 329/740 [59:05<1:20:54, 11.81s/row]"
     ]
    },
    {
     "name": "stdout",
     "output_type": "stream",
     "text": [
      "Target: parametric answer: ১৮১৭ সালের ১২ জুন\n",
      "contextual answer: ১৮১৭ সালের ১২ জুন\n",
      "generated: parametric answer:১৮১৭ সালের ১২ জুন\n",
      "contextual answer: ১৮১৭ সালের ১২ জুন\n"
     ]
    },
    {
     "name": "stderr",
     "output_type": "stream",
     "text": [
      "Processing rows:  45%|██████████████████████████▊                                 | 330/740 [59:19<1:25:26, 12.50s/row]"
     ]
    },
    {
     "name": "stdout",
     "output_type": "stream",
     "text": [
      "Target: parametric answer: পিতলের গুল্ম; লোহার শড চাকা; একটি পিছন চাকার ব্রেক; ৪.১৫২ মি.মি. (৬ ইঞ্চি) সামনের চাকার লেজ\n",
      "contextual answer: পিতলের গুল্ম; লোহার শড চাকা; একটি পিছন চাকার ব্রেক; ৪.১৫২ মি.মি. (৬ ইঞ্চি) সামনের চাকার লেজ\n",
      "generated: parametric answer:স্ব-কেন্দ্রীকরণ কাস্টার প্রভাব জন্য বাইসাইকেলের চাকায় বিয়ারিংয়ের মধ্যে পিতলের গুল্ম ব্যবহার করা হয়েছিল, তবে আধুনিক বাইসাইকেলে এই পদ্ধতি ব্যবহার করা হয় না। আধুনিক বাইসাইকেলে বল বিয়ারিং ব্যবহার করা হয়।\n",
      "contextual answer: বাইসাইকেলের চাকায় স্ব-কেন্দ্রীকরণ কাস্টার প্রভাব জন্য বিয়ারিংয়ের মধ্যে পিতলের গুল্ম ব্যবহার করা হয়েছিল।\n"
     ]
    },
    {
     "name": "stderr",
     "output_type": "stream",
     "text": [
      "Processing rows:  45%|██████████████████████████▉                                 | 332/740 [59:41<1:22:03, 12.07s/row]"
     ]
    },
    {
     "name": "stdout",
     "output_type": "stream",
     "text": [
      "Target: parametric answer: আংশিক ক্রমবর্ধমান দুর্ঘটনার কারণে\n",
      "contextual answer: আংশিক ক্রমবর্ধমান দুর্ঘটনার কারণে\n",
      "generated: parametric answer:ক্রমবর্ধমান দুর্ঘটনার কারণে।\n",
      "contextual answer: ক্রমবর্ধমান দুর্ঘটনার কারণে।\n"
     ]
    },
    {
     "name": "stderr",
     "output_type": "stream",
     "text": [
      "Processing rows:  45%|███████████████████████████                                 | 333/740 [59:57<1:29:40, 13.22s/row]"
     ]
    },
    {
     "name": "stdout",
     "output_type": "stream",
     "text": [
      "Target: parametric answer: এ.আই সাবরা\n",
      "contextual answer: এ.আই সাবরা\n",
      "generated: parametric answer:এ.আই সাবরা\n",
      "contextual answer: এ.আই সাবরা \"আরব বিজ্ঞানের অবস্থান: স্থান বনাম গুরুত্ব\" শিরোনামে তাঁর নিবন্ধে লিখেছেন।\n"
     ]
    },
    {
     "name": "stderr",
     "output_type": "stream",
     "text": [
      "Processing rows:  45%|██████████████████████████▏                               | 334/740 [1:00:12<1:33:14, 13.78s/row]"
     ]
    },
    {
     "name": "stdout",
     "output_type": "stream",
     "text": [
      "Target: parametric answer: আলকেমি রিস্টোরড\n",
      "contextual answer: আলকেমি রিস্টোরড\n",
      "generated: parametric answer:আলকেমি রিস্টোরড\n",
      "contextual answer: লরেন্স প্রিন্সিপের লেখার শিরোনাম \"আলকেমি রিস্টোরড\"।\n"
     ]
    },
    {
     "name": "stderr",
     "output_type": "stream",
     "text": [
      "Processing rows:  45%|██████████████████████████▎                               | 335/740 [1:00:26<1:33:06, 13.79s/row]"
     ]
    },
    {
     "name": "stdout",
     "output_type": "stream",
     "text": [
      "Target: parametric answer: ধাতুকে অন্য পদার্থে রূপান্তরের জন্য অনুসন্ধান ও পরীক্ষা-নিরীক্ষা\n",
      "contextual answer: ধাতুকে অন্য পদার্থে রূপান্তরের জন্য অনুসন্ধান ও পরীক্ষা-নিরীক্ষা\n",
      "generated: parametric answer:None\n",
      "contextual answer: ধাতুকে অন্য পদার্থে রূপান্তরের জন্য অনুসন্ধান ও পরীক্ষা-নিরীক্ষাকে ক্রিয়োসোপিয়া বলা হয়।\n"
     ]
    },
    {
     "name": "stderr",
     "output_type": "stream",
     "text": [
      "Processing rows:  45%|██████████████████████████▎                               | 336/740 [1:00:44<1:41:34, 15.08s/row]"
     ]
    },
    {
     "name": "stdout",
     "output_type": "stream",
     "text": [
      "Target: parametric answer: আলকেমি এবং প্রথম দিকের রসায়নকে অন্তর্ভুক্ত করে একীভূত বিজ্ঞানকে\n",
      "contextual answer: আলকেমি এবং প্রথম দিকের রসায়নকে অন্তর্ভুক্ত করে একীভূত বিজ্ঞানকে\n",
      "generated: parametric answer:None\n",
      "contextual answer: লরেন্স প্রিন্সিপ তার \"আলকেমি রিস্টোরড\" শীর্ষক লেখায় আলকেমি ও রসায়নের মধ্যকার সম্পর্কের বর্ণনা দিয়েছেন। তিনি বলেছেন যে, কেমিস্ট্রি শব্দের প্রথম দিকের বানানটি মূলত আলকেমি এবং প্রথম দিকের রসায়নকে অন্তর্ভুক্ত করে একীভূত।\n"
     ]
    },
    {
     "name": "stderr",
     "output_type": "stream",
     "text": [
      "Processing rows:  46%|██████████████████████████▍                               | 337/740 [1:00:58<1:39:13, 14.77s/row]"
     ]
    },
    {
     "name": "stdout",
     "output_type": "stream",
     "text": [
      "Target: parametric answer: ক্রিয়োসোপিয়া\n",
      "contextual answer: ক্রিয়োসোপিয়া\n",
      "generated: parametric answer:আলকেমি\n",
      "contextual answer: সপ্তদশ শতাব্দীর শেষভাগে সাধারণভাবে আলকেমিকে রসায়নের সমার্থক হিসেবে দেখা হয়েছিল।\n"
     ]
    },
    {
     "name": "stderr",
     "output_type": "stream",
     "text": [
      "Processing rows:  46%|██████████████████████████▍                               | 338/740 [1:01:12<1:38:07, 14.65s/row]"
     ]
    },
    {
     "name": "stdout",
     "output_type": "stream",
     "text": [
      "Target: parametric answer: মহাপুরুষ\n",
      "contextual answer: মহাপুরুষ\n",
      "generated: parametric answer:মহাপুরুষ।\n",
      "contextual answer: মহাপুরুষ।\n"
     ]
    },
    {
     "name": "stderr",
     "output_type": "stream",
     "text": [
      "Processing rows:  46%|██████████████████████████▌                               | 339/740 [1:01:26<1:36:40, 14.46s/row]"
     ]
    },
    {
     "name": "stdout",
     "output_type": "stream",
     "text": [
      "Target: parametric answer: রূপা\n",
      "contextual answer: রূপা\n",
      "generated: parametric answer:রূপা\n",
      "contextual answer: রূপা\n"
     ]
    },
    {
     "name": "stderr",
     "output_type": "stream",
     "text": [
      "Processing rows:  46%|██████████████████████████▋                               | 341/740 [1:01:40<1:21:16, 12.22s/row]"
     ]
    },
    {
     "name": "stdout",
     "output_type": "stream",
     "text": [
      "Target: parametric answer: না\n",
      "contextual answer: না\n",
      "generated: parametric answer:না\n",
      "contextual answer: না\n"
     ]
    },
    {
     "name": "stderr",
     "output_type": "stream",
     "text": [
      "Processing rows:  46%|██████████████████████████▊                               | 342/740 [1:01:54<1:24:51, 12.79s/row]"
     ]
    },
    {
     "name": "stdout",
     "output_type": "stream",
     "text": [
      "Target: parametric answer: যা হিমালয় পর্বতের ন্যায় মহত্ব প্রকাশ করে\n",
      "contextual answer: যা হিমালয় পর্বতের ন্যায় মহত্ব প্রকাশ করে\n",
      "generated: parametric answer:হিমুর বাবা তার ছেলের নাম হিমালয় রেখেছিলেন কারণ এটি একটি শক্তিশালী এবং মহান নাম।\n",
      "contextual answer: হিমুর বাবা তার ছেলের নাম হিমালয় রেখেছিলেন কারণ তিনি তাকে একজন মহাপুরুষ হিসাবে গড়ে তুলতে চেয়েছিলেন এবং হিমালয় পর্বতের মতো মহত্ব প্রকাশ করতে চেয়েছিলেন।\n"
     ]
    },
    {
     "name": "stderr",
     "output_type": "stream",
     "text": [
      "Processing rows:  46%|██████████████████████████▉                               | 343/740 [1:02:10<1:31:06, 13.77s/row]"
     ]
    },
    {
     "name": "stdout",
     "output_type": "stream",
     "text": [
      "Target: parametric answer: স্তন্যপায়ী প্রাণী\n",
      "contextual answer: স্তন্যপায়ী প্রাণী\n",
      "generated: parametric answer:স্তন্যপায়ী প্রাণীর\n",
      "contextual answer: স্তন্যপায়ী প্রাণীর\n"
     ]
    },
    {
     "name": "stderr",
     "output_type": "stream",
     "text": [
      "Processing rows:  46%|██████████████████████████▉                               | 344/740 [1:02:24<1:31:01, 13.79s/row]"
     ]
    },
    {
     "name": "stdout",
     "output_type": "stream",
     "text": [
      "Target: parametric answer: ২\n",
      "contextual answer: ২\n",
      "generated: parametric answer:মানব চুল, পশু চুল (যেমন লোম, উল), এবং এছাড়াও চুলের বিভিন্ন প্রকার যেমন স্ট্রেইট, কার্লি, ওয়েভি ইত্যাদি।\n",
      "contextual answer: লোম বা ফার, এবং উল।\n"
     ]
    },
    {
     "name": "stderr",
     "output_type": "stream",
     "text": [
      "Processing rows:  47%|███████████████████████████                               | 345/740 [1:02:38<1:30:56, 13.82s/row]"
     ]
    },
    {
     "name": "stdout",
     "output_type": "stream",
     "text": [
      "Target: parametric answer: চুল অন্তস্ত্বক বা ত্বকের বহিঃস্তরে অবস্থিত ফলিকল থেকে উৎপন্ন চিকন লম্বা সুতার মতোন প্রোটিন তন্তু।\n",
      "contextual answer: চুল অন্তস্ত্বক বা ত্বকের বহিঃস্তরে অবস্থিত ফলিকল থেকে উৎপন্ন চিকন লম্বা সুতার মতোন প্রোটিন তন্তু।\n",
      "generated: parametric answer:চুল হল এক ধরনের প্রোটিন তন্তু যা স্তন্যপায়ী প্রাণীর শরীরে জন্মায়।\n",
      "contextual answer: চুল হল ফলিকল থেকে উৎপন্ন চিকন লম্বা সুতার মতোন প্রোটিন তন্তু যা স্তন্যপায়ী প্রাণীর শরীরে পাওয়া যায়।\n"
     ]
    },
    {
     "name": "stderr",
     "output_type": "stream",
     "text": [
      "Processing rows:  47%|███████████████████████████                               | 346/740 [1:02:53<1:32:12, 14.04s/row]"
     ]
    },
    {
     "name": "stdout",
     "output_type": "stream",
     "text": [
      "Target: parametric answer: কেরাটিন\n",
      "contextual answer: কেরাটিন\n",
      "generated: parametric answer:কেরাটিন\n",
      "contextual answer: কেরাটিন\n"
     ]
    },
    {
     "name": "stderr",
     "output_type": "stream",
     "text": [
      "Processing rows:  47%|███████████████████████████▏                              | 347/740 [1:03:09<1:36:33, 14.74s/row]"
     ]
    },
    {
     "name": "stdout",
     "output_type": "stream",
     "text": [
      "Target: parametric answer: সাধারণ গণিতের বাইরে গিয়ে যে সমস্ত গণিতবিদেরা গাণিতিক সমস্যার সমাধানের কাজে নিযুক্ত থাকেন\n",
      "contextual answer: সাধারণ গণিতের বাইরে গিয়ে যে সমস্ত গণিতবিদেরা গাণিতিক সমস্যার সমাধানের কাজে নিযুক্ত থাকেন\n",
      "generated: parametric answer:প্রয়োগমূলক গণিতবিদ হলেন এমন গণিতবিদ যারা গাণিতিক তত্ত্ব এবং পদ্ধতিগুলি ব্যবহার করে বিভিন্ন ক্ষেত্রে সমস্যার সমাধান করেন।\n",
      "contextual answer: সাধারণ গণিতের বাইরে গিয়ে গাণিতিক সমস্যার সমাধানের কাজে নিযুক্ত থাকেন এমন গণিতবিদদেরকে প্রয়োগমূলক গণিতজ্ঞ বলা হয়।\n"
     ]
    },
    {
     "name": "stderr",
     "output_type": "stream",
     "text": [
      "Processing rows:  47%|███████████████████████████▎                              | 349/740 [1:03:27<1:24:30, 12.97s/row]"
     ]
    },
    {
     "name": "stdout",
     "output_type": "stream",
     "text": [
      "Target: parametric answer: যাঁরা তাদের বিশেষ জ্ঞান এবং পেশাদারী পদ্ধতির সঙ্গে, অনেক ভাবগম্ভীর বৈজ্ঞানিক ক্ষেত্রের সমস্যার মধ্যে উপস্থিত হয়ে অগ্রসর হন\n",
      "contextual answer: যাঁরা তাদের বিশেষ জ্ঞান এবং পেশাদারী পদ্ধতির সঙ্গে, অনেক ভাবগম্ভীর বৈজ্ঞানিক ক্ষেত্রের সমস্যার মধ্যে উপস্থিত হয়ে অগ্রসর হন\n",
      "generated: parametric answer:প্রয়োগমূলক গণিতবিদরা হলেন এমন গাণিতিক বিজ্ঞ\n",
      "contextual answer: প্রয়োগমূলক গণিতবিদরা হলেন এমন গাণিতিক বিজ্ঞানী, যাঁরা তাদের বিশেষ জ্ঞান এবং পেশাদারী পদ্ধতির সঙ্গে, অনেক ভাবগম্ভীর বৈজ্ঞানিক ক্ষেত্রের সমস্যার মধ্যে উপস্থিত হয়ে অগ্রসর হন।\n"
     ]
    },
    {
     "name": "stderr",
     "output_type": "stream",
     "text": [
      "Processing rows:  47%|███████████████████████████▍                              | 350/740 [1:03:45<1:35:25, 14.68s/row]"
     ]
    },
    {
     "name": "stdout",
     "output_type": "stream",
     "text": [
      "Target: parametric answer: পেশাদারী ভঙ্গিতে বিভিন্ন ধরনের সমস্যা; তাত্ত্বিক পদ্ধতি ; স্থানীয় নির্মানের উপর নিয়মিত গবেষণা; গাণিতিক নকশা\n",
      "contextual answer: পেশাদারী ভঙ্গিতে বিভিন্ন ধরনের সমস্যা; তাত্ত্বিক পদ্ধতি ; স্থানীয় নির্মানের উপর নিয়মিত গবেষণা; গাণিতিক নকশা\n",
      "generated: parametric answer:গবেষণা, গাণিতিক মডেল, অ্যালগরিদম, এবং গাণিতিক নকশা\n",
      "contextual answer: গবেষণা এবং গাণিতিক নকশা\n"
     ]
    },
    {
     "name": "stderr",
     "output_type": "stream",
     "text": [
      "Processing rows:  47%|███████████████████████████▌                              | 351/740 [1:04:02<1:39:20, 15.32s/row]"
     ]
    },
    {
     "name": "stdout",
     "output_type": "stream",
     "text": [
      "Target: parametric answer: গণিত সংখ্যা; তথ্য; সংগ্রহ; পরিমাণ; গঠন; স্থান পরিবর্তন\n",
      "contextual answer: গণিত সংখ্যা; তথ্য; সংগ্রহ; পরিমাণ; গঠন; স্থান পরিবর্তন\n",
      "generated: parametric answer:গণিত সংখ্যা, গঠন, স্থান, পরিবর্তন, সংখ্যা তত্ত্ব, বীজগণিত, জ্যামিতি, বিশ্লেষণ এবং অন্যান্য ধারণার সাথে সংশ্লিষ্ট হয়।\n",
      "contextual answer: গণিত সংখ্যা, তথ্য, সংগ্রহ, পরিমাণ, গঠন, স্থান, এবং পরিবর্তনের সাথে সংশ্লিষ্ট হয়।\n"
     ]
    },
    {
     "name": "stderr",
     "output_type": "stream",
     "text": [
      "Processing rows:  48%|███████████████████████████▌                              | 352/740 [1:04:17<1:38:47, 15.28s/row]"
     ]
    },
    {
     "name": "stdout",
     "output_type": "stream",
     "text": [
      "Target: parametric answer: সাধারণত ভুলভাবে ব্যবহার বা ত্রুটিযুক্ত কারণে\n",
      "contextual answer: সাধারণত ভুলভাবে ব্যবহার বা ত্রুটিযুক্ত কারণে\n",
      "generated: parametric answer:অতিরিক্ত চার্জ, শর্ট সার্কিট, তাপমাত্রা বৃদ্ধি, এবং অপর্যাপ্ত নিরাপত্তা ব্যবস্থা। লিথিয়াম-আয়ন ব্যাটারিতে ব্যবহৃত তরল তড়িৎবিশ্লেষ্য পদার্থ বিস্ফোরক হতে পারে এবং শর্ট সার্কিটের কারণ হতে পারে।\n",
      "contextual answer: ব্যাটারি বিস্ফোরণের কারণগুলির মধ্যে রয়েছে ভুল ব্যবহার বা ত্রুটি, যেমন প্রাথমিক ব্যাটারি রিচার্জ করার চেষ্টা, শর্ট সার্কিট, অতিরিক্ত চার্জ, এবং পোড়ানোর মাধ্যমে ব্যাটারি ডিসপোজ করা। লিথিয়াম-আয়ন ব্যাটারিতে অ্যানোড এবং ক্যাথোডের মধ্যে লিথিয়াম আয়ন পরিবহনে তরল তড়িৎবিশ্লেষ্য পদার্থ ব্যবহার করা হয়, যা শর্ট সার্কিটের কারণ হতে পারে এবং বিস্ফোরণ ঘটাতে পারে।\n"
     ]
    },
    {
     "name": "stderr",
     "output_type": "stream",
     "text": [
      "Processing rows:  48%|███████████████████████████▋                              | 354/740 [1:04:35<1:26:16, 13.41s/row]"
     ]
    },
    {
     "name": "stdout",
     "output_type": "stream",
     "text": [
      "Target: parametric answer: হাইড্রোজেন এবং অক্সিজেনের একটি বিস্ফোরক গ্যাস\n",
      "contextual answer: হাইড্রোজেন এবং অক্সিজেনের একটি বিস্ফোরক গ্যাস\n",
      "generated: parametric answer:হাইড্রোজেন এবং অক্সিজেনের একটি বিস্ফোরক মিশ্রণ।\n",
      "contextual answer: হাইড্রোজেন এবং অক্সিজেনের একটি বিস্ফোরক গ্যাস মিশ্রণ।\n"
     ]
    },
    {
     "name": "stderr",
     "output_type": "stream",
     "text": [
      "Processing rows:  48%|███████████████████████████▊                              | 355/740 [1:04:51<1:30:03, 14.04s/row]"
     ]
    },
    {
     "name": "stdout",
     "output_type": "stream",
     "text": [
      "Target: parametric answer: বদ্ধ কেসটির মধ্যে\n",
      "contextual answer: বদ্ধ কেসটির মধ্যে\n",
      "generated: parametric answer:ব্যাটারির বদ্ধ কেসটির মধ্যে\n",
      "contextual answer: ব্যাটারির বদ্ধ কেসটির মধ্যে\n"
     ]
    },
    {
     "name": "stderr",
     "output_type": "stream",
     "text": [
      "Processing rows:  48%|███████████████████████████▉                              | 356/740 [1:05:05<1:29:52, 14.04s/row]"
     ]
    },
    {
     "name": "stdout",
     "output_type": "stream",
     "text": [
      "Target: parametric answer: ঢাকা\n",
      "contextual answer: ঢাকা\n",
      "generated: parametric answer:ঢাকায়\n",
      "contextual answer: ঢাকায়\n"
     ]
    },
    {
     "name": "stderr",
     "output_type": "stream",
     "text": [
      "Processing rows:  49%|████████████████████████████▏                             | 359/740 [1:05:19<1:11:14, 11.22s/row]"
     ]
    },
    {
     "name": "stdout",
     "output_type": "stream",
     "text": [
      "Target: parametric answer: ১৯৩৬ সাল\n",
      "contextual answer: ১৯৩৬ সাল\n",
      "generated: parametric answer:১৯৩৬ সালে\n",
      "contextual answer: ১৯৩৬ সালে\n"
     ]
    },
    {
     "name": "stderr",
     "output_type": "stream",
     "text": [
      "Processing rows:  49%|████████████████████████████▏                             | 360/740 [1:05:33<1:17:10, 12.18s/row]"
     ]
    },
    {
     "name": "stdout",
     "output_type": "stream",
     "text": [
      "Target: parametric answer: ১৯৫১\n",
      "contextual answer: ১৯৫১\n",
      "generated: parametric answer:১৯৫১ সালে\n",
      "contextual answer: ১৯৫১ সালে\n"
     ]
    },
    {
     "name": "stderr",
     "output_type": "stream",
     "text": [
      "Processing rows:  49%|████████████████████████████▎                             | 361/740 [1:05:49<1:23:01, 13.14s/row]"
     ]
    },
    {
     "name": "stdout",
     "output_type": "stream",
     "text": [
      "Target: parametric answer: আনুভূমিক সারি\n",
      "contextual answer: আনুভূমিক সারি\n",
      "generated: parametric answer:পর্যায় সারণির একটি অনুভূমিক সারি যা একই সংখ্যক শেল ইলেকট্রন সহ মৌলগুলিকে একত্রিত করে।\n",
      "contextual answer: পর্যায় সারণির একটি অংশ যা একটি নির্দিষ্ট সংখ্যক মৌল ধারণ করে।\n"
     ]
    },
    {
     "name": "stderr",
     "output_type": "stream",
     "text": [
      "Processing rows:  49%|████████████████████████████▌                             | 364/740 [1:06:09<1:10:16, 11.21s/row]"
     ]
    },
    {
     "name": "stdout",
     "output_type": "stream",
     "text": [
      "Target: parametric answer: খাড়া স্তম্ভ\n",
      "contextual answer: খাড়া স্তম্ভ\n",
      "generated: parametric answer:গ্রুপ হল পর্যায় সারণীতে একটি উল্লম্ব কলাম যা মৌলগুলিকে একই রাসায়নিক বৈশিষ্ট্য অনুসারে গোষ্ঠীবদ্ধ করে।\n",
      "contextual answer: গ্রুপ হল পর্যায় সারণিতে মৌলগুলিকে একই রাসায়নিক বৈশিষ্ট্য অনুসারে গোষ্ঠীবদ্ধ করার একটি উপায়।\n"
     ]
    },
    {
     "name": "stderr",
     "output_type": "stream",
     "text": [
      "Processing rows:  49%|████████████████████████████▌                             | 365/740 [1:06:31<1:29:58, 14.40s/row]"
     ]
    },
    {
     "name": "stdout",
     "output_type": "stream",
     "text": [
      "Target: parametric answer: গ্রুপ-২ এবং গ্রুপ-৩ এর মধ্যবর্তী স্থানে অবস্থানকারী মৌল\n",
      "contextual answer: গ্রুপ-২ এবং গ্রুপ-৩ এর মধ্যবর্তী স্থানে অবস্থানকারী মৌল\n",
      "generated: parametric answer:অবস্থান্তর মৌল হল এমন মৌল যেগুলি পর্যায় সারণির গ্রুপ 3 থেকে 12 পর্যন্ত অবস্থান করে।\n",
      "contextual answer: গ্রুপ-২ এবং গ্রুপ-৩ এর মধ্যবর্তী স্থানে অবস্থানকারী মৌলগুলোকে \"অবস্থান্তর মৌল\" বলা হয়।\n"
     ]
    },
    {
     "name": "stderr",
     "output_type": "stream",
     "text": [
      "Processing rows:  49%|████████████████████████████▋                             | 366/740 [1:06:45<1:29:01, 14.28s/row]"
     ]
    },
    {
     "name": "stdout",
     "output_type": "stream",
     "text": [
      "Target: parametric answer: ৩২টি\n",
      "contextual answer: ৩২টি\n",
      "generated: parametric answer:গ্রুপ ৩ এ ২টি মৌল রয়েছে।\n",
      "contextual answer: গ্রুপ ৩ এ ৩২টি মৌল রয়েছে।\n"
     ]
    },
    {
     "name": "stderr",
     "output_type": "stream",
     "text": [
      "Processing rows:  50%|████████████████████████████▊                             | 367/740 [1:06:59<1:28:19, 14.21s/row]"
     ]
    },
    {
     "name": "stdout",
     "output_type": "stream",
     "text": [
      "Target: parametric answer: ৭টি\n",
      "contextual answer: ৭টি\n",
      "generated: parametric answer:গ্রুপ ১৮ এ ৭টি মৌল রয়েছে।\n",
      "contextual answer: গ্রুপ ১৮ এ ৭টি মৌল রয়েছে।\n"
     ]
    },
    {
     "name": "stderr",
     "output_type": "stream",
     "text": [
      "Processing rows:  50%|████████████████████████████▊                             | 368/740 [1:07:13<1:27:37, 14.13s/row]"
     ]
    },
    {
     "name": "stdout",
     "output_type": "stream",
     "text": [
      "Target: parametric answer: গোলাকৃতি\n",
      "contextual answer: গোলাকৃতি\n",
      "generated: parametric answer:গোলাকৃতি, কমলা রঙের\n",
      "contextual answer: গোলাকৃতি, কমলা রঙের\n"
     ]
    },
    {
     "name": "stderr",
     "output_type": "stream",
     "text": [
      "Processing rows:  50%|████████████████████████████▉                             | 369/740 [1:07:27<1:28:03, 14.24s/row]"
     ]
    },
    {
     "name": "stdout",
     "output_type": "stream",
     "text": [
      "Target: parametric answer: কোর্টে উলম্বভাবে স্থাপিত একটি বাস্কেট বা ঝুড়িতে বল নিক্ষেপের মাধ্যমে পয়েন্ট সংগ্রহ করা\n",
      "contextual answer: কোর্টে উলম্বভাবে স্থাপিত একটি বাস্কেট বা ঝুড়িতে বল নিক্ষেপের মাধ্যমে পয়েন্ট সংগ্রহ করা\n",
      "generated: parametric answer:প্রতিপক্ষের বাস্কেটে বল নিক্ষেপ করে পয়েন্ট অর্জন করা এবং প্রতিপক্ষের স্কোর করা রোধ করা।\n",
      "contextual answer: কোর্টে উলম্বভাবে স্থাপিত একটি বাস্কেট বা ঝুড়িতে বল নিক্ষেপের মাধ্যমে পয়েন্ট সংগ্রহ করা।\n"
     ]
    },
    {
     "name": "stderr",
     "output_type": "stream",
     "text": [
      "Processing rows:  50%|█████████████████████████████                             | 370/740 [1:07:43<1:30:46, 14.72s/row]"
     ]
    },
    {
     "name": "stdout",
     "output_type": "stream",
     "text": [
      "Target: parametric answer: ৫\n",
      "contextual answer: ৫\n",
      "generated: parametric answer:৫ জন\n",
      "contextual answer: ৫ জন\n"
     ]
    },
    {
     "name": "stderr",
     "output_type": "stream",
     "text": [
      "Processing rows:  50%|█████████████████████████████                             | 371/740 [1:07:57<1:29:12, 14.51s/row]"
     ]
    },
    {
     "name": "stdout",
     "output_type": "stream",
     "text": [
      "Target: parametric answer: চতুর্ভূজ আকৃতির বাস্কেটবল কোর্টের উভয় দিকের শেষ প্রান্তে বাস্কেট\n",
      "contextual answer: চতুর্ভূজ আকৃতির বাস্কেটবল কোর্টের উভয় দিকের শেষ প্রান্তে বাস্কেট\n",
      "generated: parametric answer:রিম হলো বাস্কেটের উপরের অংশ, যা একটি বৃত্তাকার ধাতব বা প্লাস্টিকের তৈজসপত্র।\n",
      "contextual answer: রিম হলো বাস্কেটবল কোর্টের উভয় পাশে থাকা বাস্কেটের উপরের অংশ।\n"
     ]
    },
    {
     "name": "stderr",
     "output_type": "stream",
     "text": [
      "Processing rows:  50%|█████████████████████████████▏                            | 372/740 [1:08:20<1:44:22, 17.02s/row]"
     ]
    },
    {
     "name": "stdout",
     "output_type": "stream",
     "text": [
      "Target: parametric answer: এক ধরনের প্রহসন\n",
      "contextual answer: এক ধরনের প্রহসন\n",
      "generated: parametric answer:স্ট্যান্ড আপ কমেডি এক ধরনের বিনোদন যেখানে একজন কমেডিয়ান সরাসরি দর্শকদের সামনে হাস্যরসাত্মক কথা বলেন।\n",
      "contextual answer: স্ট্যান্ড আপ কমেডি এক ধরনের প্রহসন যেখানে একজন কমেডিয়ান জনসমক্ষে হাস্যরসাত্মক ভঙ্গিতে বিভিন্ন বিষয় উপস্থাপন করে।\n"
     ]
    },
    {
     "name": "stderr",
     "output_type": "stream",
     "text": [
      "Processing rows:  51%|█████████████████████████████▎                            | 374/740 [1:08:38<1:29:09, 14.62s/row]"
     ]
    },
    {
     "name": "stdout",
     "output_type": "stream",
     "text": [
      "Target: parametric answer: হাস্যরসাত্মক\n",
      "contextual answer: হাস্যরসাত্মক\n",
      "generated: parametric answer:হাস্যরসাত্মক ভঙ্গিমায়, কৌতুক, গল্প, এবং মজার ঘটনা বলে শ্রোতাদের হাসান।\n",
      "contextual answer: হাস্যরসাত্মক ভঙ্গিমায় সরাসরি উপস্থাপন করেন।\n"
     ]
    },
    {
     "name": "stderr",
     "output_type": "stream",
     "text": [
      "Processing rows:  51%|█████████████████████████████▍                            | 375/740 [1:08:56<1:34:17, 15.50s/row]"
     ]
    },
    {
     "name": "stdout",
     "output_type": "stream",
     "text": [
      "Target: parametric answer: উন্মুক্ত মঞ্চ; থিয়েটার; জনসমাগম; ভোজসভা; ক্লাবঘরের ছোট পরিসরে এমনকি কোন খোলা জায়গায়\n",
      "contextual answer: উন্মুক্ত মঞ্চ; থিয়েটার; জনসমাগম; ভোজসভা; ক্লাবঘরের ছোট পরিসরে এমনকি কোন খোলা জায়গায়\n",
      "generated: parametric answer:কমেডি ক্লাব, থিয়েটার, বার, রেস্তোরাঁ, ক্যাফে, ইভেন্ট ভেন্যু এবং অনলাইন প্ল্যাটফর্ম।\n",
      "contextual answer: উন্মুক্ত মঞ্চ, থিয়েটার, জনসমাগম, ভোজসভা, ক্লাবঘরের ছোট পরিসরে এমনকি কোন খোলা জায়গায়।\n"
     ]
    },
    {
     "name": "stderr",
     "output_type": "stream",
     "text": [
      "Processing rows:  51%|█████████████████████████████▍                            | 376/740 [1:09:16<1:43:41, 17.09s/row]"
     ]
    },
    {
     "name": "stdout",
     "output_type": "stream",
     "text": [
      "Target: parametric answer: বাচনভঙ্গী; অঙ্গভঙ্গী; মুখাবয়ব; স্বরের ওঠা নামা; সর্বোপরি লোক হাসানোর দক্ষতা\n",
      "contextual answer: বাচনভঙ্গী; অঙ্গভঙ্গী; মুখাবয়ব; স্বরের ওঠা নামা; সর্বোপরি লোক হাসানোর দক্ষতা\n",
      "generated: parametric answer:কমেডিয়ানের নিজস্ব বাচনভঙ্গী, অঙ্গভঙ্গী, মুখাবয়ব, স্বরের ওঠা নামা, লোক হাসানোর দক্ষতা এবং তাদের সৃজনশীলতা স্ট্যান্ড আপ কমেডিতে জনসাধারণের বিনোদনের জন্য গুরুত্বপূর্ণ ভূমিকা পালন করে।\n",
      "contextual answer: কমেডিয়ানের নিজস্ব বাচনভঙ্গী, অঙ্গভঙ্গী, মুখাবয়ব, স্বরের ওঠা নামা এবং লোক হাসানোর নিজস্ব দক্ষতা স্ট্যান্ড আপ কমেডিতে জনসাধারণের বিনোদনের অন্যতম উপাদান হিসেবে কাজ করে।\n"
     ]
    },
    {
     "name": "stderr",
     "output_type": "stream",
     "text": [
      "Processing rows:  51%|█████████████████████████████▌                            | 377/740 [1:09:30<1:37:48, 16.17s/row]"
     ]
    },
    {
     "name": "stdout",
     "output_type": "stream",
     "text": [
      "Target: parametric answer: বাংলাদেশী অপরাধ থ্রিলার ওয়েব ধারাবাহিক\n",
      "contextual answer: বাংলাদেশী অপরাধ থ্রিলার ওয়েব ধারাবাহিক\n",
      "generated: parametric answer:অপরাধ থ্রিলার ওয়েব ধারাবাহিক\n",
      "contextual answer: অপরাধ থ্রিলার ওয়েব ধারাবাহিক\n"
     ]
    },
    {
     "name": "stderr",
     "output_type": "stream",
     "text": [
      "Processing rows:  51%|█████████████████████████████▋                            | 379/740 [1:09:49<1:24:35, 14.06s/row]"
     ]
    },
    {
     "name": "stdout",
     "output_type": "stream",
     "text": [
      "Target: parametric answer: রেদওয়ান রনি\n",
      "contextual answer: রেদওয়ান রনি\n",
      "generated: parametric answer:রেদওয়ান রনি\n",
      "contextual answer: রেদওয়ান রনি\n"
     ]
    },
    {
     "name": "stderr",
     "output_type": "stream",
     "text": [
      "Processing rows:  51%|█████████████████████████████▊                            | 380/740 [1:10:03<1:24:05, 14.01s/row]"
     ]
    },
    {
     "name": "stdout",
     "output_type": "stream",
     "text": [
      "Target: parametric answer: মরীচিকা\n",
      "contextual answer: মরীচিকা\n",
      "generated: parametric answer:মরীচিকা\n",
      "contextual answer: মরীচিকা\n"
     ]
    },
    {
     "name": "stderr",
     "output_type": "stream",
     "text": [
      "Processing rows:  51%|█████████████████████████████▊                            | 381/740 [1:10:16<1:23:46, 14.00s/row]"
     ]
    },
    {
     "name": "stdout",
     "output_type": "stream",
     "text": [
      "Target: parametric answer: স্নায়ুরোগের কারণে\n",
      "contextual answer: স্নায়ুরোগের কারণে\n",
      "generated: parametric answer:স্নোডেনের গোপন নজরদারির তথ্য ফাঁস করার সাথে সম্পর্কিত হতে পারে।\n",
      "contextual answer: স্নায়ুরোগের কারণে।\n"
     ]
    },
    {
     "name": "stderr",
     "output_type": "stream",
     "text": [
      "Processing rows:  52%|██████████████████████████████                            | 384/740 [1:10:32<1:07:23, 11.36s/row]"
     ]
    },
    {
     "name": "stdout",
     "output_type": "stream",
     "text": [
      "Target: parametric answer: ২০১৩ এর জানুয়ারিতে\n",
      "contextual answer: ২০১৩ এর জানুয়ারিতে\n",
      "generated: parametric answer:২০১৩ এর জানুয়ারিতে\n",
      "contextual answer: ২০১৩ এর জানুয়ারিতে\n"
     ]
    },
    {
     "name": "stderr",
     "output_type": "stream",
     "text": [
      "Processing rows:  52%|██████████████████████████████▏                           | 385/740 [1:10:46<1:11:53, 12.15s/row]"
     ]
    },
    {
     "name": "stdout",
     "output_type": "stream",
     "text": [
      "Target: parametric answer: দ্য ওয়াশিংটন পোস্টের\n",
      "contextual answer: দ্য ওয়াশিংটন পোস্টের\n",
      "generated: parametric answer:দ্য ওয়াশিংটন পোস্ট\n",
      "contextual answer: দ্য ওয়াশিংটন পোস্ট\n"
     ]
    },
    {
     "name": "stderr",
     "output_type": "stream",
     "text": [
      "Processing rows:  52%|██████████████████████████████▎                           | 386/740 [1:11:00<1:14:40, 12.66s/row]"
     ]
    },
    {
     "name": "stdout",
     "output_type": "stream",
     "text": [
      "Target: parametric answer: লেন্স এবং দর্পণের সাহায্যে\n",
      "contextual answer: লেন্স এবং দর্পণের সাহায্যে\n",
      "generated: parametric answer:লেন্স এবং দর্পণের সাহায্যে।\n",
      "contextual answer: লেন্স এবং দর্পণের সাহায্যে।\n"
     ]
    },
    {
     "name": "stderr",
     "output_type": "stream",
     "text": [
      "Processing rows:  53%|███████████████████████████████▉                            | 394/740 [1:11:14<54:07,  9.38s/row]"
     ]
    },
    {
     "name": "stdout",
     "output_type": "stream",
     "text": [
      "Target: parametric answer: ১৬০৯\n",
      "contextual answer: ১৬০৯\n",
      "generated: parametric answer:১৬০৯ সালে\n",
      "contextual answer: ১৬০৯ সালে\n"
     ]
    },
    {
     "name": "stderr",
     "output_type": "stream",
     "text": [
      "Processing rows:  53%|██████████████████████████████▉                           | 395/740 [1:11:28<1:01:53, 10.76s/row]"
     ]
    },
    {
     "name": "stdout",
     "output_type": "stream",
     "text": [
      "Target: parametric answer: বৃহস্পতির উপগ্রহ; শনির বলয়\n",
      "contextual answer: বৃহস্পতির উপগ্রহ; শনির বলয়\n",
      "generated: parametric answer:বৃহস্পতির উপগ্রহ, শনির বলয়, শুক্র গ্রহের দশা এবং চাঁদের পৃষ্ঠের ত্রুটিগুলি।\n",
      "contextual answer: বৃহস্পতির উপগ্রহ এবং শনির বলয়।\n"
     ]
    },
    {
     "name": "stderr",
     "output_type": "stream",
     "text": [
      "Processing rows:  54%|███████████████████████████████                           | 396/740 [1:11:45<1:12:35, 12.66s/row]"
     ]
    },
    {
     "name": "stdout",
     "output_type": "stream",
     "text": [
      "Target: parametric answer: ৩য়\n",
      "contextual answer: ৩য়\n",
      "generated: parametric answer:৩য় হিজরিতে\n",
      "contextual answer: ৩য় হিজরিতে\n"
     ]
    },
    {
     "name": "stderr",
     "output_type": "stream",
     "text": [
      "Processing rows:  54%|███████████████████████████████▎                          | 399/740 [1:12:03<1:00:31, 10.65s/row]"
     ]
    },
    {
     "name": "stdout",
     "output_type": "stream",
     "text": [
      "Target: parametric answer: ছুটে এসে সদ্যপ্রসূত সন্তানকে দু‘হাতে তুলে তার কানে আযান দিলেন; দৌহিত্র হাসানের মাথা মুড়িয়ে তার চুলের সমপরিমাণ ওজনের রূপা গরীব-মিসকীনদের মধ্যে দান করে দিলেন\n",
      "contextual answer: ছুটে এসে সদ্যপ্রসূত সন্তানকে দু‘হাতে তুলে তার কানে আযান দিলেন; দৌহিত্র হাসানের মাথা মুড়িয়ে তার চুলের সমপরিমাণ ওজনের রূপা গরীব-মিসকীনদের মধ্যে দান করে দিলেন\n",
      "generated: parametric answer:হাসানের জন্ম সংবাদ পেয়ে মুহাম্মাদ ছুটে এসে তাকে দেখে আনন্দিত হয়েছেন এবং তার কানে আযান দেন, যা একটি ইসলামিক ঐতিহ্য। এছাড়াও, তিনি হাসানের চুলের ওজনের সমান রূপা দান করেছেন, যা একটি ঐতিহ্যগত অনুশীলন।\n",
      "contextual answer: হাসানের জন্ম সংবাদ পেয়ে মুহাম্মাদ ছুটে এসে সদ্যপ্রসূত সন্তানকে দু‘হাতে তুলে তার কানে আযান দিলেন, এবং দৌহিত্র হাসানের মাথা মুড়িয়ে তার চুলের সমপরিমাণ ওজনের রূপা গরীব-মিসকীনদের মধ্যে দান করে দিলেন।\n"
     ]
    },
    {
     "name": "stderr",
     "output_type": "stream",
     "text": [
      "Processing rows:  54%|███████████████████████████████▎                          | 400/740 [1:12:19<1:10:09, 12.38s/row]"
     ]
    },
    {
     "name": "stdout",
     "output_type": "stream",
     "text": [
      "Target: parametric answer: খাদিজার পরে তার আর কোন স্ত্রী সন্তান জন্ম দেননি। আর বংশ রক্ষার জন্য কোন পুত্র সন্তান ছিলোও না\n",
      "contextual answer: খাদিজার পরে তার আর কোন স্ত্রী সন্তান জন্ম দেননি। আর বংশ রক্ষার জন্য কোন পুত্র সন্তান ছিলোও না\n",
      "generated: parametric answer:মুহাম্মাদ হাসান ও হোসাইনকে নাতী ও পুত্রের উভয় আদর-সোহাগ একসাথে দিয়ে বড় করেছেন কারণ তিনি ত\n",
      "contextual answer: মুহাম্মাদ হাসান ও হোসাইনকে নাতী ও পুত্রের উভয় আদর-সোহাগ একসাথে দিয়ে বড় করেছেন কারণ খাদিজার পরে তার আর কোন স্ত্রী সন্তান জন্ম দেননি এবং বংশ রক্ষার জন্য কোন পুত্র সন্তান ছিল না।\n"
     ]
    },
    {
     "name": "stderr",
     "output_type": "stream",
     "text": [
      "Processing rows:  54%|███████████████████████████████▍                          | 401/740 [1:12:34<1:13:48, 13.06s/row]"
     ]
    },
    {
     "name": "stdout",
     "output_type": "stream",
     "text": [
      "Target: parametric answer: দৌড়াদৌড়ি খেলা খেলতেন; ছোয়াছুয়ি খেলা খেলতেন; জড়িয়ে ধরে চুমো খেতেন; এমনকি হোসাইন মুহাম্মাদের বুকের উপর পা দিয়েও খেলা করতেন\n",
      "contextual answer: দৌড়াদৌড়ি খেলা খেলতেন; ছোয়াছুয়ি খেলা খেলতেন; জড়িয়ে ধরে চুমো খেতেন; এমনকি হোসাইন মুহাম্মাদের বুকের উপর পা দিয়েও খেলা করতেন\n",
      "generated: parametric answer:মুহাম্মাদ তার নাতীদের সাথে বিভিন্ন ধরনের খেলা করতেন, যার মধ্যে দৌড়াদৌড়ি, ছোয়াছুয়ি, জড়িয়ে ধরে চুমো অন্তর্ভুক্ত।\n",
      "contextual answer: মুহাম্মাদ তার নাতীদের সাথে দৌড়াদৌড়ি খেলা, ছোয়াছুয়ি খেলা, জড়িয়ে ধরে চুমো খেতেন এবং হোসাইন তার পা দিয়ে খেলা করতেন।\n"
     ]
    },
    {
     "name": "stderr",
     "output_type": "stream",
     "text": [
      "Processing rows:  54%|███████████████████████████████▌                          | 402/740 [1:12:51<1:20:14, 14.24s/row]"
     ]
    },
    {
     "name": "stdout",
     "output_type": "stream",
     "text": [
      "Target: parametric answer: জীবনের বাকি ৪০\n",
      "contextual answer: জীবনের বাকি ৪০\n",
      "generated: parametric answer:৭ বছর\n",
      "contextual answer: ৪০ বছর\n"
     ]
    },
    {
     "name": "stderr",
     "output_type": "stream",
     "text": [
      "Processing rows:  55%|███████████████████████████████▋                          | 404/740 [1:13:07<1:09:03, 12.33s/row]"
     ]
    },
    {
     "name": "stdout",
     "output_type": "stream",
     "text": [
      "Target: parametric answer: তোরণ ;  দানেস্ক; এল্বলাগ; গ্রুদজিয়াজ; মাল্বরক; কনিসবারগ\n",
      "contextual answer: তোরণ ;  দানেস্ক; এল্বলাগ; গ্রুদজিয়াজ; মাল্বরক; কনিসবারগ\n",
      "generated: parametric answer:কোপারনিকাসের ভ্রমণ সম্পর্কে নির্দিষ্ট তথ্য না থাকলেও, তিনি ইতালি, পোল্যান্ড এবং অন্যান্য ইউরোপীয় দেশগুলিতে ভ্রমণ করেছিলেন।\n",
      "contextual answer: তোরণ, দানেস্ক, এল্বলাগ, গ্রুদজিয়াজ, মাল্বরক, কনিসবারগ।\n"
     ]
    },
    {
     "name": "stderr",
     "output_type": "stream",
     "text": [
      "Processing rows:  55%|███████████████████████████████▋                          | 405/740 [1:13:23<1:14:57, 13.43s/row]"
     ]
    },
    {
     "name": "stdout",
     "output_type": "stream",
     "text": [
      "Target: parametric answer: কারণ দেশের নিজস্ব খাদ্য, অর্থ, এবং ধন সম্পদ একই ছিল\n",
      "contextual answer: কারণ দেশের নিজস্ব খাদ্য, অর্থ, এবং ধন সম্পদ একই ছিল\n",
      "generated: parametric answer:ওয়ারমিয়ার রাজপুত স্বায়ত্তশাসন ভোগ করেছিল কারণ তারা তাদের নিজস্ব শাসন ব্যবস্থা এবং অর্থনৈতিক ব্যবস্থা বজায় রেখেছিল।\n",
      "contextual answer: ওয়ারমিয়ার রাজপুত তখন দেশে স্বায়ত্তশাসন ভোগ করছিল কারণ দেশের নিজস্ব খাদ্য, অর্থ, এবং ধন সম্পদ একই ছিল।\n"
     ]
    },
    {
     "name": "stderr",
     "output_type": "stream",
     "text": [
      "Processing rows:  55%|███████████████████████████████▊                          | 406/740 [1:13:38<1:18:42, 14.14s/row]"
     ]
    },
    {
     "name": "stdout",
     "output_type": "stream",
     "text": [
      "Target: parametric answer: তার মামার\n",
      "contextual answer: তার মামার\n",
      "generated: parametric answer:লুকাস ওয়াতজেনরদের\n",
      "contextual answer: তার মামার\n"
     ]
    },
    {
     "name": "stderr",
     "output_type": "stream",
     "text": [
      "Processing rows:  55%|███████████████████████████████▉                          | 407/740 [1:13:54<1:21:24, 14.67s/row]"
     ]
    },
    {
     "name": "stdout",
     "output_type": "stream",
     "text": [
      "Target: parametric answer: পিটার মেইস্টার এবং তার সহযোগীরা\n",
      "contextual answer: পিটার মেইস্টার এবং তার সহযোগীরা\n",
      "generated: parametric answer:পিটার মেইস্টার এবং তার সহযোগীরা।\n",
      "contextual answer: পিটার মেইস্টার এবং তার সহযোগীরা।\n"
     ]
    },
    {
     "name": "stderr",
     "output_type": "stream",
     "text": [
      "Processing rows:  55%|████████████████████████████████                          | 409/740 [1:14:09<1:09:01, 12.51s/row]"
     ]
    },
    {
     "name": "stdout",
     "output_type": "stream",
     "text": [
      "Target: parametric answer: মেইস্টারের\n",
      "contextual answer: মেইস্টারের\n",
      "generated: parametric answer:পিটার মেইস্টার\n",
      "contextual answer: পিটার মেইস্টার\n"
     ]
    },
    {
     "name": "stderr",
     "output_type": "stream",
     "text": [
      "Processing rows:  55%|████████████████████████████████▏                         | 410/740 [1:14:26<1:14:59, 13.63s/row]"
     ]
    },
    {
     "name": "stdout",
     "output_type": "stream",
     "text": [
      "Target: parametric answer: ইউক্যারিওটিক\n",
      "contextual answer: ইউক্যারিওটিক\n",
      "generated: parametric answer:ইউক্যারিওটিক কোষে\n",
      "contextual answer: অনেক ইউক্যারিওটিক কোষে\n"
     ]
    },
    {
     "name": "stderr",
     "output_type": "stream",
     "text": [
      "Processing rows:  56%|████████████████████████████████▏                         | 411/740 [1:14:44<1:22:12, 14.99s/row]"
     ]
    },
    {
     "name": "stdout",
     "output_type": "stream",
     "text": [
      "Target: parametric answer: পেনসিলভানিয়ার ওয়িলমেরডিং-এ অবস্থিত\n",
      "contextual answer: পেনসিলভানিয়ার ওয়িলমেরডিং-এ অবস্থিত\n",
      "generated: parametric answer:পেনসিলভানিয়ার ওয়িলমেরডিং-এ\n",
      "contextual answer: পেনসিলভানিয়ার ওয়িলমেরডিং-এ\n"
     ]
    },
    {
     "name": "stderr",
     "output_type": "stream",
     "text": [
      "Processing rows:  56%|████████████████████████████████▎                         | 412/740 [1:14:58<1:20:41, 14.76s/row]"
     ]
    },
    {
     "name": "stdout",
     "output_type": "stream",
     "text": [
      "Target: parametric answer: লাইব্রেরি হল' বা 'প্রাসাদ'\n",
      "contextual answer: লাইব্রেরি হল' বা 'প্রাসাদ'\n",
      "generated: parametric answer:লাইব্রেরি হল বা প্রাসাদ\n",
      "contextual answer: লাইব্রেরি হল বা প্রাসাদ\n"
     ]
    },
    {
     "name": "stderr",
     "output_type": "stream",
     "text": [
      "Processing rows:  56%|████████████████████████████████▎                         | 413/740 [1:15:13<1:20:47, 14.82s/row]"
     ]
    },
    {
     "name": "stdout",
     "output_type": "stream",
     "text": [
      "Target: parametric answer: ১৮৯০\n",
      "contextual answer: ১৮৯০\n",
      "generated: parametric answer:১৮৯০ সালে\n",
      "contextual answer: ১৮৯০ সালে\n"
     ]
    },
    {
     "name": "stderr",
     "output_type": "stream",
     "text": [
      "Processing rows:  56%|████████████████████████████████▍                         | 414/740 [1:15:27<1:19:08, 14.57s/row]"
     ]
    },
    {
     "name": "stdout",
     "output_type": "stream",
     "text": [
      "Target: parametric answer: জর্জ ওয়েস্টিংহাউস জাদুঘর\n",
      "contextual answer: জর্জ ওয়েস্টিংহাউস জাদুঘর\n",
      "generated: parametric answer:জর্জ ওয়েস্টিংহাউস জাদুঘর হিসেবে।\n",
      "contextual answer: জর্জ ওয়েস্টিংহাউস জাদুঘর হিসেবে।\n"
     ]
    },
    {
     "name": "stderr",
     "output_type": "stream",
     "text": [
      "Processing rows:  56%|████████████████████████████████▌                         | 415/740 [1:15:41<1:18:03, 14.41s/row]"
     ]
    },
    {
     "name": "stdout",
     "output_type": "stream",
     "text": [
      "Target: parametric answer: এডি/সিই ভিত্তিক বর্ষ সংখ্যা পদ্ধতি\n",
      "contextual answer: এডি/সিই ভিত্তিক বর্ষ সংখ্যা পদ্ধতি\n",
      "generated: parametric answer:সাধারণ দশমিক পূর্ণ সংখ্যা পদ্ধতি।\n",
      "contextual answer: সাধারণ দশমিক পূর্ণ সংখ্যা পদ্ধতি।\n"
     ]
    },
    {
     "name": "stderr",
     "output_type": "stream",
     "text": [
      "Processing rows:  56%|████████████████████████████████▋                         | 417/740 [1:15:55<1:05:26, 12.16s/row]"
     ]
    },
    {
     "name": "stdout",
     "output_type": "stream",
     "text": [
      "Target: parametric answer: জুলীয়\n",
      "contextual answer: জুলীয়\n",
      "generated: parametric answer:জুলীয় বর্ষপঞ্জি\n",
      "contextual answer: জুলীয় বর্ষপঞ্জি\n"
     ]
    },
    {
     "name": "stderr",
     "output_type": "stream",
     "text": [
      "Processing rows:  57%|██████████████████████████████████                          | 420/740 [1:16:09<52:50,  9.91s/row]"
     ]
    },
    {
     "name": "stdout",
     "output_type": "stream",
     "text": [
      "Target: parametric answer: মুক্ত-চলমান হার; পেগড (স্থির) হার; হাইব্রিড বা সংকর হার\n",
      "contextual answer: মুক্ত-চলমান হার; পেগড (স্থির) হার; হাইব্রিড বা সংকর হার\n",
      "generated: parametric answer:মুক্ত-চলমান হার, পেগড (স্থির) হার, এবং হাইব্রিড বা সংকর হার।\n",
      "contextual answer: মুক্ত-চলমান হার, পেগড (স্থির) হার, এবং হাইব্রিড বা সংকর হার।\n"
     ]
    },
    {
     "name": "stderr",
     "output_type": "stream",
     "text": [
      "Processing rows:  57%|██████████████████████████████████▏                         | 422/740 [1:16:23<47:54,  9.04s/row]"
     ]
    },
    {
     "name": "stdout",
     "output_type": "stream",
     "text": [
      "Target: parametric answer: না\n",
      "contextual answer: না\n",
      "generated: parametric answer:None\n",
      "contextual answer: পেগড (স্থির) ব্যবস্থায় মুদ্রার বিনিময় হার সাধারণত অপরিবর্তিত থাকে, কিন্তু এটি একেবারে অপরিবর্তিত থাকে না। নির্দিষ্ট সময় পরপর বা প্রয়োজনীয়তা অনুসারে মুদ্রামান পুনঃমূল্যায়ন করে বিনিময় হার নির্ধারণ করা যায়।\n"
     ]
    },
    {
     "name": "stderr",
     "output_type": "stream",
     "text": [
      "Processing rows:  57%|██████████████████████████████████▍                         | 424/740 [1:16:37<44:19,  8.42s/row]"
     ]
    },
    {
     "name": "stdout",
     "output_type": "stream",
     "text": [
      "Target: parametric answer: মুদ্রার চাহিদা ও যোগানের উপর ভিত্তি করে\n",
      "contextual answer: মুদ্রার চাহিদা ও যোগানের উপর ভিত্তি করে\n",
      "generated: parametric answer:None\n",
      "contextual answer: পরিবর্তনশীল বিনিময় হার ব্যবস্থায় বিনিময় হার বৈদেশিক মুদ্রা বাজারে মুদ্রার চাহিদা এবং যোগানের উপর ভিত্তি করে নির্ধারিত হয়। এটি একটি গতিশীল প্রক্রিয়া, যেখানে বিনিময় হার বাজারের অবস্থা ও অর্থনৈতিক কারণগুলির উপর নির্ভর করে পরিবর্তিত হতে পারে।\n"
     ]
    },
    {
     "name": "stderr",
     "output_type": "stream",
     "text": [
      "Processing rows:  58%|██████████████████████████████████▌                         | 426/740 [1:16:54<44:05,  8.42s/row]"
     ]
    },
    {
     "name": "stdout",
     "output_type": "stream",
     "text": [
      "Target: parametric answer: জেমস জয়েস; স্যামুয়েল বেকেট\n",
      "contextual answer: জেমস জয়েস; স্যামুয়েল বেকেট\n",
      "generated: parametric answer:জেমস জয়েস এবং স্যামুয়েল বেকেট\n",
      "contextual answer: জেমস জয়েস এবং স্যামুয়েল বেকেট\n"
     ]
    },
    {
     "name": "stderr",
     "output_type": "stream",
     "text": [
      "Processing rows:  58%|██████████████████████████████████▌                         | 427/740 [1:17:10<55:52, 10.71s/row]"
     ]
    },
    {
     "name": "stdout",
     "output_type": "stream",
     "text": [
      "Target: parametric answer: ইংরেজি\n",
      "contextual answer: ইংরেজি\n",
      "generated: parametric answer:ইংরেজি ভাষায়\n",
      "contextual answer: ইংরেজি ভাষায়\n"
     ]
    },
    {
     "name": "stderr",
     "output_type": "stream",
     "text": [
      "Processing rows:  58%|█████████████████████████████████▌                        | 428/740 [1:17:24<1:02:10, 11.96s/row]"
     ]
    },
    {
     "name": "stdout",
     "output_type": "stream",
     "text": [
      "Target: parametric answer: দ্বিতীয় বিশ্বযুদ্ধ-পরবর্তী\n",
      "contextual answer: দ্বিতীয় বিশ্বযুদ্ধ-পরবর্তী\n",
      "generated: parametric answer:দ্বিতীয় বিশ্বযুদ্ধ-পরবর্তী সাহিত্যের বিভিন্ন দিকগুলিকে উত্তর-আধুনিক সাহিত্য হিসেবে চিহ্নিত করা শুরু হয়।\n",
      "contextual answer: দ্বিতীয় বিশ্বযুদ্ধ-পরবর্তী সাহিত্যের বিভিন্ন দিকগুলিকে উত্তর-আধুনিক সাহিত্য হিসেবে চিহ্নিত করা শুরু হয়।\n"
     ]
    },
    {
     "name": "stderr",
     "output_type": "stream",
     "text": [
      "Processing rows:  58%|█████████████████████████████████▌                        | 429/740 [1:17:41<1:09:14, 13.36s/row]"
     ]
    },
    {
     "name": "stdout",
     "output_type": "stream",
     "text": [
      "Target: parametric answer: বিউলফ; কিনেউলফ; দি রুইন; দি ওয়ান্ডারার; দি সী ফেয়ারার\n",
      "contextual answer: বিউলফ; কিনেউলফ; দি রুইন; দি ওয়ান্ডারার; দি সী ফেয়ারার\n",
      "generated: parametric answer:বিউলফ, ক্যাডমনের হার্টজ, দি ওয়ান্ডারার, দি সী ফেয়ারার প্রভৃতি।\n",
      "contextual answer: বিউলফ, কিনেউলফ, দি রুইন, দি ওয়ান্ডারার, দি সী ফেয়ারার প্রভৃতি।\n"
     ]
    },
    {
     "name": "stderr",
     "output_type": "stream",
     "text": [
      "Processing rows:  58%|█████████████████████████████████▋                        | 430/740 [1:17:58<1:14:29, 14.42s/row]"
     ]
    },
    {
     "name": "stdout",
     "output_type": "stream",
     "text": [
      "Target: parametric answer: জীবিত মানুষের দেহাকৃতি অঙ্কন\n",
      "contextual answer: জীবিত মানুষের দেহাকৃতি অঙ্কন\n",
      "generated: parametric answer:জীবিত মানুষের দেহাকৃতি অঙ্কন বা মডেল ব্যবহার করা\n",
      "contextual answer: জীবিত মানুষের দেহাকৃতি অঙ্কন\n"
     ]
    },
    {
     "name": "stderr",
     "output_type": "stream",
     "text": [
      "Processing rows:  58%|█████████████████████████████████▊                        | 432/740 [1:18:13<1:03:31, 12.37s/row]"
     ]
    },
    {
     "name": "stdout",
     "output_type": "stream",
     "text": [
      "Target: parametric answer:  আর্ট স্কুল, শ্রেণীকক্ষ প্রভৃতি স্থানে, যেখানে উদ্দেশ্য আকার, বয়স, বর্ণভেদে মানুষের দেহাকৃতি অঙ্কণ শেখানো, সেসকল স্থানে\n",
      "contextual answer:  আর্ট স্কুল, শ্রেণীকক্ষ প্রভৃতি স্থানে, যেখানে উদ্দেশ্য আকার, বয়স, বর্ণভেদে মানুষের দেহাকৃতি অঙ্কণ শেখানো, সেসকল স্থানে\n",
      "generated: parametric answer:শিল্প বিদ্যালয়, কলেজ, বিশ্ববিদ্যালয় এবং অন্যান্য শিক্ষাপ্রতিষ্ঠান\n",
      "contextual answer: আর্ট স্কুল, শ্রেণীকক্ষ প্রভৃতি স্থানে\n"
     ]
    },
    {
     "name": "stderr",
     "output_type": "stream",
     "text": [
      "Processing rows:  59%|█████████████████████████████████▉                        | 433/740 [1:18:27<1:05:33, 12.81s/row]"
     ]
    },
    {
     "name": "stdout",
     "output_type": "stream",
     "text": [
      "Target: parametric answer: দেহাকৃতি অঙ্কনের জন্য\n",
      "contextual answer: দেহাকৃতি অঙ্কনের জন্য\n",
      "generated: parametric answer:নগ্ন মডেল ব্যবহার করার কারণ হল শিল্পীদের মানবদেহের গঠন, আকৃতি এবং অনুপাত অধ্যয়ন করতে সাহায্য করা।\n",
      "contextual answer: দেহাকৃতি অঙ্কনের জন্য বেশিরভাগ ক্ষেত্রেই নগ্ন মডেল ব্যবহৃত হয়, এবং সকল প্রকার কৃত্রিম বস্তুকে অগ্রাহ্য করা হয়।\n"
     ]
    },
    {
     "name": "stderr",
     "output_type": "stream",
     "text": [
      "Processing rows:  59%|██████████████████████████████████                        | 434/740 [1:18:45<1:12:50, 14.28s/row]"
     ]
    },
    {
     "name": "stdout",
     "output_type": "stream",
     "text": [
      "Target: parametric answer: না\n",
      "contextual answer: না\n",
      "generated: parametric answer:হ্যাঁ, ব্রাহ্মস্ফুটসিদ্ধান্তে গাণিতিক ধারণাগুলি প্রকাশ করার জন্য কিছু ধরনের চিহ্ন বা পদ্ধতি ব্যবহার করা হয়েছিল।\n",
      "contextual answer: না, ব্রাহ্মস্ফুটসিদ্ধান্তে কোন গাণিতিক চিহ্ন ব্যবহার করা হয়নি।\n"
     ]
    },
    {
     "name": "stderr",
     "output_type": "stream",
     "text": [
      "Processing rows:  59%|██████████████████████████████████                        | 435/740 [1:18:59<1:12:04, 14.18s/row]"
     ]
    },
    {
     "name": "stdout",
     "output_type": "stream",
     "text": [
      "Target: parametric answer: ব্রাহ্মস্ফুটসিদ্ধান্ত\n",
      "contextual answer: ব্রাহ্মস্ফুটসিদ্ধান্ত\n",
      "generated: parametric answer:ব্রাহ্মস্ফুটসিদ্ধান্ত\n",
      "contextual answer: ব্রাহ্মস্ফুটসিদ্ধান্ত\n"
     ]
    },
    {
     "name": "stderr",
     "output_type": "stream",
     "text": [
      "Processing rows:  59%|██████████████████████████████████▏                       | 436/740 [1:19:14<1:12:56, 14.40s/row]"
     ]
    },
    {
     "name": "stdout",
     "output_type": "stream",
     "text": [
      "Target: parametric answer: গাণিতিক জ্যোতির্বিজ্ঞানের উপর লিখিত একটি পুস্তক\n",
      "contextual answer: গাণিতিক জ্যোতির্বিজ্ঞানের উপর লিখিত একটি পুস্তক\n",
      "generated: parametric answer:ব্রাহ্মস্ফুটসিদ্ধান্ত হল একটি গুরুত্বপূর্ণ গাণিতিক গ্রন্থ যা ব্রহ্মগুপ্ত দ্বারা রচিত হয়েছিল।\n",
      "contextual answer: ব্রাহ্মস্ফুটসিদ্ধান্ত হল ব্রহ্মগুপ্তের লেখা একটি গাণিতিক জ্যোতির্বিজ্ঞানের বই।\n"
     ]
    },
    {
     "name": "stderr",
     "output_type": "stream",
     "text": [
      "Processing rows:  59%|██████████████████████████████████▎                       | 437/740 [1:19:30<1:16:02, 15.06s/row]"
     ]
    },
    {
     "name": "stdout",
     "output_type": "stream",
     "text": [
      "Target: parametric answer: ব্রহ্মগুপ্ত\n",
      "contextual answer: ব্রহ্মগুপ্ত\n",
      "generated: parametric answer:ব্রহ্মগুপ্ত\n",
      "contextual answer: ব্রহ্মগুপ্ত\n"
     ]
    },
    {
     "name": "stderr",
     "output_type": "stream",
     "text": [
      "Processing rows:  59%|██████████████████████████████████▎                       | 438/740 [1:19:44<1:14:17, 14.76s/row]"
     ]
    },
    {
     "name": "stdout",
     "output_type": "stream",
     "text": [
      "Target: parametric answer: যে কম্পিউটার একটি রাশিকে অপর একটি রাশির সাপেক্ষে পরিমাপ করতে পারে\n",
      "contextual answer: যে কম্পিউটার একটি রাশিকে অপর একটি রাশির সাপেক্ষে পরিমাপ করতে পারে\n",
      "generated: parametric answer:এনালগ কম্পিউটার\n",
      "contextual answer: প্রদত্ত প্রসঙ্গ বিশ্লেষণ করে এনালগ কম্পিউটার সম্পর্কে তথ্য জানতে চাওয়া হয়েছে।\n"
     ]
    },
    {
     "name": "stderr",
     "output_type": "stream",
     "text": [
      "Processing rows:  59%|██████████████████████████████████▍                       | 440/740 [1:19:58<1:02:11, 12.44s/row]"
     ]
    },
    {
     "name": "stdout",
     "output_type": "stream",
     "text": [
      "Target: parametric answer: দুই\n",
      "contextual answer: দুই\n",
      "generated: parametric answer:None\n",
      "contextual answer: ডিজিটাল কম্পিউটার সম্পর্\n"
     ]
    },
    {
     "name": "stderr",
     "output_type": "stream",
     "text": [
      "Processing rows:  60%|██████████████████████████████████▌                       | 441/740 [1:20:12<1:04:10, 12.88s/row]"
     ]
    },
    {
     "name": "stdout",
     "output_type": "stream",
     "text": [
      "Target: parametric answer: এমন একটি কম্পিউটার যা এনালগ ও ডিজিটাল কম্পিউটারের সর্বোত্তম বৈশিষ্ট্যগুলোর সমন্বয়ে গঠিত\n",
      "contextual answer: এমন একটি কম্পিউটার যা এনালগ ও ডিজিটাল কম্পিউটারের সর্বোত্তম বৈশিষ্ট্যগুলোর সমন্বয়ে গঠিত\n",
      "generated: parametric answer:None\n",
      "contextual answer: হাইব্রিড কম্পিউটার সম্পর্কে জানতে, প্রথমেই আমাদের এই ধরনের কম্পিউটারের সংজ্ঞা ও\n"
     ]
    },
    {
     "name": "stderr",
     "output_type": "stream",
     "text": [
      "Processing rows:  60%|███████████████████████████████████▉                        | 443/740 [1:20:29<56:49, 11.48s/row]"
     ]
    },
    {
     "name": "stdout",
     "output_type": "stream",
     "text": [
      "Target: parametric answer: বৈজ্ঞানিক গবেষণায়\n",
      "contextual answer: বৈজ্ঞানিক গবেষণায়\n",
      "generated: parametric answer:বৈজ্ঞানিক গবেষণায়\n",
      "contextual answer: Hybrid কম্পিউটার বৈজ্ঞানিক গবেষণায় ব্যবহৃত হয় যেখানে অ্যানালগ এবং ডিজিটাল কম্পিউটিংয়ের সুবিধা প্রয়োজন।\n"
     ]
    },
    {
     "name": "stderr",
     "output_type": "stream",
     "text": [
      "Processing rows:  60%|██████████████████████████████████▊                       | 444/740 [1:20:43<1:00:16, 12.22s/row]"
     ]
    },
    {
     "name": "stdout",
     "output_type": "stream",
     "text": [
      "Target: parametric answer: না\n",
      "contextual answer: না\n",
      "generated: parametric answer:না\n",
      "contextual answer: না\n"
     ]
    },
    {
     "name": "stderr",
     "output_type": "stream",
     "text": [
      "Processing rows:  60%|██████████████████████████████████▉                       | 445/740 [1:20:59<1:05:59, 13.42s/row]"
     ]
    },
    {
     "name": "stdout",
     "output_type": "stream",
     "text": [
      "Target: parametric answer: হ্যারল্ড ল্যাসওয়েল; চার্লস এডওয়ার্ড মেরিয়ামের\n",
      "contextual answer: হ্যারল্ড ল্যাসওয়েল; চার্লস এডওয়ার্ড মেরিয়ামের\n",
      "generated: parametric answer:হ্যারল্ড ল্যাসওয়েল এবং চার্লস এডওয়ার্ড মেরিয়ামের অধীনে।\n",
      "contextual answer: হ্যারল্ড ল্যাসওয়েল এবং চার্লস এডওয়ার্ড মেরিয়ামের অধীনে।\n"
     ]
    },
    {
     "name": "stderr",
     "output_type": "stream",
     "text": [
      "Processing rows:  60%|██████████████████████████████████▉                       | 446/740 [1:21:15<1:10:25, 14.37s/row]"
     ]
    },
    {
     "name": "stdout",
     "output_type": "stream",
     "text": [
      "Target: parametric answer: লোভনীয় অফার দিয়ে ক্রেতা টানার কৌশলের কারণে\n",
      "contextual answer: লোভনীয় অফার দিয়ে ক্রেতা টানার কৌশলের কারণে\n",
      "generated: parametric answer:আমার পূর্বশক্ত জ্ঞান অনুসারে, ইভ্যালি সমালোচিত হয় কারণ তারা অনৈতিক ব্যবসায়িক অনুশীলন অনুসরণ করে, যেমন পঞ্জি স্কিমের মতো কার্যক্রম পরিচালনা করা। তারা গ্রাহকদের সাথে অন্যায় আচরণ করে, তাদের অধিকার লঙ্ঘন করে, এবং আর্থিক নিয়ম লঙ্ঘন করে।\n",
      "contextual answer: প্রসঙ্গ অনুসারে, ইভ্যালি সমালোচিত হয় কারণ তারা লোভনীয় অফার দিয়ে গ্রাহকদের আকর্ষণ করে, কিন্তু তাদের প্রতিশ্রুতি পূরণ করতে ব্যর্থ হয়। তারা গ্রাহকদের টাকা ফেরত দিতে পারে না, পণ্য সরবরাহ করতে ব্যর্থ হয়, এবং তাদের ক্যাশব্যাক সিস্টেম জটিল।\n"
     ]
    },
    {
     "name": "stderr",
     "output_type": "stream",
     "text": [
      "Processing rows:  61%|████████████████████████████████████▍                       | 449/740 [1:21:32<57:02, 11.76s/row]"
     ]
    },
    {
     "name": "stdout",
     "output_type": "stream",
     "text": [
      "Target: parametric answer: ইংরেজি ভাষায়\n",
      "contextual answer: ইংরেজি ভাষায়\n",
      "generated: parametric answer:ইংরেজি\n",
      "contextual answer: ইংরেজি\n"
     ]
    },
    {
     "name": "stderr",
     "output_type": "stream",
     "text": [
      "Processing rows:  61%|███████████████████████████████████▎                      | 450/740 [1:21:50<1:05:53, 13.63s/row]"
     ]
    },
    {
     "name": "stdout",
     "output_type": "stream",
     "text": [
      "Target: parametric answer: \"সাইক্লোন\" (ঘূর্ণিঝড়); আর্থকুয়েক (ভূমিকম্প)\n",
      "contextual answer: \"সাইক্লোন\" (ঘূর্ণিঝড়); আর্থকুয়েক (ভূমিকম্প)\n",
      "generated: parametric answer:সাইক্লোন, আর্থকুয়েক।\n",
      "contextual answer: সাইক্লোন, আর্থকুয়েক।\n"
     ]
    },
    {
     "name": "stderr",
     "output_type": "stream",
     "text": [
      "Processing rows:  61%|███████████████████████████████████▎                      | 451/740 [1:22:04<1:06:10, 13.74s/row]"
     ]
    },
    {
     "name": "stdout",
     "output_type": "stream",
     "text": [
      "Target: parametric answer: নতুন গ্রাহকদের অর্থ দিয়ে পুরোনো গ্রাহকদের লোভনীয় অফার সম্পন্ন করায়\n",
      "contextual answer: নতুন গ্রাহকদের অর্থ দিয়ে পুরোনো গ্রাহকদের লোভনীয় অফার সম্পন্ন করায়\n",
      "generated: parametric answer:একটি পঞ্জি স্কিম হল এক ধরনের বিনিয়োগ স্কিম যেখানে বিনিয়োগকারীদের উচ্চ রিটার্নের প্রতিশ্রুতি দেওয়া হয়, কিন্তু প্রকৃতপক্ষে স্কিমটি নতুন বিনিয়োগকারীদের অর্থ দিয়ে পুরোনো বিনিয়োগকারীদের অর্থ প্রদান করে। এটি একটি অস্থিতিশীল এবং অবৈধ বিনিয়োগ কৌশল।\n",
      "contextual answer: ইভ্যালি তাদের গ্রাহকদের লোভনীয় অফার দিয়ে আকর্ষণ করেছে, যার মধ্যে রয়েছে 100% থেকে 150% পর্যন্ত ক্যাশব্যাক। এছাড়াও, ইভ্যালি নতুন গ্রাহকদের অর্থ দিয়ে পুরোনো গ্রাহকদের লোভনীয় অফার সম্পন্ন করে, যা অনেকে পঞ্জি স্কিমের সাথে তুলনা করে।\n"
     ]
    },
    {
     "name": "stderr",
     "output_type": "stream",
     "text": [
      "Processing rows:  61%|███████████████████████████████████▍                      | 452/740 [1:22:22<1:11:11, 14.83s/row]"
     ]
    },
    {
     "name": "stdout",
     "output_type": "stream",
     "text": [
      "Target: parametric answer: একজন প্রাঙ্কস্টার; জাগলার; সেফক্রাকার; শখের চিত্রশিল্পী; বঙ্গোবাদক\n",
      "contextual answer: একজন প্রাঙ্কস্টার; জাগলার; সেফক্রাকার; শখের চিত্রশিল্পী; বঙ্গোবাদক\n",
      "generated: parametric answer:ফাইনম্যান একজন প্রখ্যাত পদার্থবিজ্ঞানী, শিক্ষক এবং লেখক ছিলেন। তিনি কোয়ান্টাম ইলেক্ট্রোডাইনামিক্স এবং পারমাণবিক পদার্থবিজ্ঞানে অবদান রেখেছেন।\n",
      "contextual answer: ফাইনম্যান একজন প্রাঙ্কস্টার, জাগলার, সেফক্রাকার, শখের চিত্রশিল্পী ও বঙ্গোবাদক ছিলেন। তিনি একজন মুক্ত চিন্তার অধিকারী একজন সুরসিক ব্যক্তি ছিলেন।\n"
     ]
    },
    {
     "name": "stderr",
     "output_type": "stream",
     "text": [
      "Processing rows:  61%|███████████████████████████████████▌                      | 454/740 [1:22:38<1:01:06, 12.82s/row]"
     ]
    },
    {
     "name": "stdout",
     "output_type": "stream",
     "text": [
      "Target: parametric answer: পদার্থবিজ্ঞান; জীববিজ্ঞান; চিত্রকলা; মায়ান স্ক্রিপ্ট; সেফক্রাকিং\n",
      "contextual answer: পদার্থবিজ্ঞান; জীববিজ্ঞান; চিত্রকলা; মায়ান স্ক্রিপ্ট; সেফক্রাকিং\n",
      "generated: parametric answer:ফাইনম্যানের পদার্থবিজ্ঞান, সঙ্গীত, চিত্রকলা এবং বিজ্ঞানের ইতিহাস সম্পর্কে আগ্রহ ছিল।\n",
      "contextual answer: ফাইনম্যানের পদার্থবিজ্ঞান, জীববিজ্ঞান, চিত্রকলা, মায়ান স্ক্রিপ্ট, সেফক্রাকিং, প্রাঙ্কস্টার, জাগলার, সেফক্রাকার, শখের চিত্রশিল্পী এবং বঙ্গোবাদক সম্পর্কে আগ্রহ ছিল।\n"
     ]
    },
    {
     "name": "stderr",
     "output_type": "stream",
     "text": [
      "Processing rows:  61%|███████████████████████████████████▋                      | 455/740 [1:22:54<1:06:06, 13.92s/row]"
     ]
    },
    {
     "name": "stdout",
     "output_type": "stream",
     "text": [
      "Target: parametric answer: জিনবিজ্ঞানী; অণুজীববিজ্ঞানী\n",
      "contextual answer: জিনবিজ্ঞানী; অণুজীববিজ্ঞানী\n",
      "generated: parametric answer:অণুজীববিজ্ঞানী\n",
      "contextual answer: জিনবিজ্ঞানী এবং অণুজীববিজ্ঞানী\n"
     ]
    },
    {
     "name": "stderr",
     "output_type": "stream",
     "text": [
      "Processing rows:  62%|███████████████████████████████████▋                      | 456/740 [1:23:16<1:16:12, 16.10s/row]"
     ]
    },
    {
     "name": "stdout",
     "output_type": "stream",
     "text": [
      "Target: parametric answer: এস্থার লিডারবার্গ\n",
      "contextual answer: এস্থার লিডারবার্গ\n",
      "generated: parametric answer:এস্থার লিডারবার্গ\n",
      "contextual answer: এস্থার লিডারবার্গ\n"
     ]
    },
    {
     "name": "stderr",
     "output_type": "stream",
     "text": [
      "Processing rows:  62%|███████████████████████████████████▉                      | 458/740 [1:23:30<1:02:48, 13.36s/row]"
     ]
    },
    {
     "name": "stdout",
     "output_type": "stream",
     "text": [
      "Target: parametric answer: এদের বিরুদ্ধে রেজিস্টেন্স হওয়ার প্রবণতা অপেক্ষাকৃত কম\n",
      "contextual answer: এদের বিরুদ্ধে রেজিস্টেন্স হওয়ার প্রবণতা অপেক্ষাকৃত কম\n",
      "generated: parametric answer:রাইবোজোমে ক্রিয়াকারী অ্যান্টিবায়োটিকগুলি প্রোটিন সংশ্লেষণকে বাধা দেয়, যা ব্যাকটেরিয়ার বৃদ্ধি এবং বেঁচে থাকার জন্য অপরিহার্য। এই অ্যান্টিবায়োটিকগুলি রাইবোজোমের কার্যকারিতা ব্যাহত করে, যা প্রোটিন সংশ্লেষণের জন্য দায়ী। এটি ব্যাকটেরিয়াকে মারাত্মকভাবে প্রভাবিত করে, কারণ তারা তাদের প্রয়োজনীয় প্রোটিন তৈরি করতে অক্ষম হয়। এই অ্যান্টিবায়োটিকগুলির বিরুদ্ধে প্রতিরোধ ক্ষমতা বিকাশের সম্ভাবনা কম, কারণ তাদের কার্যকারিতা রাইবোজোমের গঠন এবং কার্যক\n",
      "contextual answer: রাইবোজোমে ক্রিয়াকারী অ্যান্টিবায়োটিকের সুবিধা হল এদের বিরুদ্ধে রেজিস্টেন্স হওয়ার প্রবণতা অপেক্ষাকৃত কম। এর কারণ হিসেবে বলা হয়েছে যে রাইবোজোমীয় আরএনএ জিনগুলির অনেকগুলি করে অণুলিপি থাকে, তাই একটি রেজিস্ট্যান্ট হয়ে গেলেও যতক্ষণ না অধিকাংশ অণুলিপি রেজিস্টান্ট না হচ্ছে ততক্ষণ অ্যান্টিবায়োটিকের ক্রিয়া বজায় থাকে। অতিরিক্তভাবে, প্রসঙ্গে উল্লেখ করা হয়েছে যে অনেকগুলি করে রাইবোজোম একই এম-আরএনএ এর রেললাইনের উপর পেছন পেছন চলতে থাকে, যার ফলে যেকোন একটি অ্যান্টিবায়োটিকের কার্যের ফলে অবরুদ্ধ হলে তার পিছনের সব কটিও লাইন দিয়ে আটকে যাবে।\n"
     ]
    },
    {
     "name": "stderr",
     "output_type": "stream",
     "text": [
      "Processing rows:  62%|█████████████████████████████████████▎                      | 460/740 [1:23:48<56:41, 12.15s/row]"
     ]
    },
    {
     "name": "stdout",
     "output_type": "stream",
     "text": [
      "Target: parametric answer: টোপোয়াইসোমারেজ-২\n",
      "contextual answer: টোপোয়াইসোমারেজ-২\n",
      "generated: parametric answer:টোপোয়াইসোমারেজ-২।\n",
      "contextual answer: জাইরেজ।\n"
     ]
    },
    {
     "name": "stderr",
     "output_type": "stream",
     "text": [
      "Processing rows:  63%|█████████████████████████████████████▌                      | 463/740 [1:24:02<45:39,  9.89s/row]"
     ]
    },
    {
     "name": "stdout",
     "output_type": "stream",
     "text": [
      "Target: parametric answer: তৃতীয়তম\n",
      "contextual answer: তৃতীয়তম\n",
      "generated: parametric answer:তৃতীয়তম বন্ড হিসেবে\n",
      "contextual answer: তৃতীয়তম বন্ড হিসেবে\n"
     ]
    },
    {
     "name": "stderr",
     "output_type": "stream",
     "text": [
      "Processing rows:  63%|█████████████████████████████████████▌                      | 464/740 [1:24:16<51:22, 11.17s/row]"
     ]
    },
    {
     "name": "stdout",
     "output_type": "stream",
     "text": [
      "Target: parametric answer: টিমোথি ডাল্টন\n",
      "contextual answer: টিমোথি ডাল্টন\n",
      "generated: parametric answer:টিমোথি ডাল্টন\n",
      "contextual answer: টিমোথি ডাল্টন\n"
     ]
    },
    {
     "name": "stderr",
     "output_type": "stream",
     "text": [
      "Processing rows:  63%|█████████████████████████████████████▋                      | 465/740 [1:24:30<55:20, 12.08s/row]"
     ]
    },
    {
     "name": "stdout",
     "output_type": "stream",
     "text": [
      "Target: parametric answer: প্যাকেজ ম্যানেজার প্যাকম্যান\n",
      "contextual answer: প্যাকেজ ম্যানেজার প্যাকম্যান\n",
      "generated: parametric answer:প্যাকম্যান\n",
      "contextual answer: প্যাকম্যান\n"
     ]
    },
    {
     "name": "stderr",
     "output_type": "stream",
     "text": [
      "Processing rows:  64%|██████████████████████████████████████▏                     | 471/740 [1:24:44<41:02,  9.15s/row]"
     ]
    },
    {
     "name": "stdout",
     "output_type": "stream",
     "text": [
      "Target: parametric answer: রোলিং রিলিজ বা চলতি প্রকাশনা নীতি\n",
      "contextual answer: রোলিং রিলিজ বা চলতি প্রকাশনা নীতি\n",
      "generated: parametric answer:আর্চ লিনাক্স একটি রোলিং রিলিজ মডেল ব্যবহার করে, যার অর্থ এটি প্রতিনিয়ত নতুন সফ্টওয়্যার প্যাকেজ এবং আপডেট প্রকাশ করে।\n",
      "contextual answer: আর্চ লিনাক্স একটি রোলিং রিলিজ বা চলতি প্রকাশনা নীতি ব্যবহার করে।\n"
     ]
    },
    {
     "name": "stderr",
     "output_type": "stream",
     "text": [
      "Processing rows:  64%|██████████████████████████████████████▎                     | 472/740 [1:24:59<47:33, 10.65s/row]"
     ]
    },
    {
     "name": "stdout",
     "output_type": "stream",
     "text": [
      "Target: parametric answer: মার্কিন যুক্তরাষ্ট্রের\n",
      "contextual answer: মার্কিন যুক্তরাষ্ট্রের\n",
      "generated: parametric answer:মার্কিন যুক্তরাষ্ট্র\n",
      "contextual answer: মার্কিন যুক্তরাষ্ট্র\n"
     ]
    },
    {
     "name": "stderr",
     "output_type": "stream",
     "text": [
      "Processing rows:  64%|██████████████████████████████████████▍                     | 474/740 [1:25:13<42:23,  9.56s/row]"
     ]
    },
    {
     "name": "stdout",
     "output_type": "stream",
     "text": [
      "Target: parametric answer: জেনারেল ইলেকট্রিকে,গণিত,পদার্থবিজ্ঞানের ডিগ্রীধারী মহিলাদের জন্য চাকরির পাশাপাশি প্রকৌশল প্রশিক্ষণ;কার্টিস-রাইট ইঞ্জিনিয়ারিং প্রোগ্রামের কার্টিস-রাইট ক্যাডেটস (উদাহরণস্বরূপ, রোজেলা ফেন্টন)\n",
      "contextual answer: জেনারেল ইলেকট্রিকে,গণিত,পদার্থবিজ্ঞানের ডিগ্রীধারী মহিলাদের জন্য চাকরির পাশাপাশি প্রকৌশল প্রশিক্ষণ;কার্টিস-রাইট ইঞ্জিনিয়ারিং প্রোগ্রামের কার্টিস-রাইট ক্যাডেটস (উদাহরণস্বরূপ, রোজেলা ফেন্টন)\n",
      "generated: parametric answer:None\n",
      "contextual answer: জেনারেল ইলেকট্রিক, গণিত ও পদার্থবিজ্ঞানের ডিগ্রীধারী মহিলাদের জন্য চাকরির পাশাপাশি প্রকৌশল প্রশিক্ষণ এবং কার্টিস-রাইট ইঞ্জিনিয়ারিং প্রোগ্রামের কার্টিস-রাইট ক্যাডেটস\n"
     ]
    },
    {
     "name": "stderr",
     "output_type": "stream",
     "text": [
      "Processing rows:  64%|██████████████████████████████████████▌                     | 475/740 [1:25:29<51:34, 11.68s/row]"
     ]
    },
    {
     "name": "stdout",
     "output_type": "stream",
     "text": [
      "Target: parametric answer: ৬০০ এরও বেশি\n",
      "contextual answer: ৬০০ এরও বেশি\n",
      "generated: parametric answer:কোন তথ্য নেই\n",
      "contextual answer: ৬০০ এরও বেশি নারী\n"
     ]
    },
    {
     "name": "stderr",
     "output_type": "stream",
     "text": [
      "Processing rows:  64%|██████████████████████████████████████▌                     | 476/740 [1:25:46<57:57, 13.17s/row]"
     ]
    },
    {
     "name": "stdout",
     "output_type": "stream",
     "text": [
      "Target: parametric answer: প্রকৌশল পাঠ্যক্রম\n",
      "contextual answer: প্রকৌশল পাঠ্যক্রম\n",
      "generated: parametric answer:বিভিন্ন ধরনের শিক্ষা সম্পর্কিত পাঠ্যক্রম, যার মধ্যে প্রকৌশল সম্পর্কিত পাঠ্যক্রমও অন্তর্ভুক্ত।\n",
      "contextual answer: প্রকৌশল সম্পর্কিত কোর্স\n"
     ]
    },
    {
     "name": "stderr",
     "output_type": "stream",
     "text": [
      "Processing rows:  64%|█████████████████████████████████████▍                    | 477/740 [1:26:01<1:00:45, 13.86s/row]"
     ]
    },
    {
     "name": "stdout",
     "output_type": "stream",
     "text": [
      "Target: parametric answer: ৩৬৫.২৬\n",
      "contextual answer: ৩৬৫.২৬\n",
      "generated: parametric answer:৩৬৫.২৪ সৌরদিন (প্রায় ৩৬৫.২৬ সৌর দিনে)\n",
      "contextual answer: ৩৬৫.২৬ সৌর দিনে বা এক নক্ষত্র বর্ষে\n"
     ]
    },
    {
     "name": "stderr",
     "output_type": "stream",
     "text": [
      "Processing rows:  66%|███████████████████████████████████████▎                    | 485/740 [1:26:20<44:14, 10.41s/row]"
     ]
    },
    {
     "name": "stdout",
     "output_type": "stream",
     "text": [
      "Target: parametric answer: ৬৬.১/২\n",
      "contextual answer: ৬৬.১/২\n",
      "generated: parametric answer:২৩.৫ ডিগ্রি\n",
      "contextual answer: ৬৬.১/২ ডিগ্রি\n"
     ]
    },
    {
     "name": "stderr",
     "output_type": "stream",
     "text": [
      "Processing rows:  66%|███████████████████████████████████████▍                    | 486/740 [1:26:36<51:16, 12.11s/row]"
     ]
    },
    {
     "name": "stdout",
     "output_type": "stream",
     "text": [
      "Target: parametric answer: পৃথিবী নিজ অক্ষের ৬৬.১/২ ডিগ্রি কোণে হেলে রয়েছে। এর ফলে এক বিষুবীয় বছর (৩৬৫.২৪ সৌরদিন) সময়কালের মধ্যে এই বিশ্বের বুকে ঋতুপরিবর্তন ঘটে থাকে\n",
      "contextual answer: পৃথিবী নিজ অক্ষের ৬৬.১/২ ডিগ্রি কোণে হেলে রয়েছে। এর ফলে এক বিষুবীয় বছর (৩৬৫.২৪ সৌরদিন) সময়কালের মধ্যে এই বিশ্বের বুকে ঋতুপরিবর্তন ঘটে থাকে\n",
      "generated: parametric answer:পৃথিবীর অক্ষের হেলে থাকা এবং সূর্যের চারদিকে ঘুরে বেড়ানোর কারণে ঋতুপরিবর্তন ঘটে।\n",
      "contextual answer: পৃথিবী নিজ অক্ষের ৬৬.১/২ ডিগ্রি কোণে হেলে রয়েছে।\n"
     ]
    },
    {
     "name": "stderr",
     "output_type": "stream",
     "text": [
      "Processing rows:  66%|███████████████████████████████████████▍                    | 487/740 [1:26:53<57:15, 13.58s/row]"
     ]
    },
    {
     "name": "stdout",
     "output_type": "stream",
     "text": [
      "Target: parametric answer: ৪.৩৫\n",
      "contextual answer: ৪.৩৫\n",
      "generated: parametric answer:৪.৫ বিলিয়ন বছর আগে\n",
      "contextual answer: ৪.৩৫ বিলিয়ন বছর আগে\n"
     ]
    },
    {
     "name": "stderr",
     "output_type": "stream",
     "text": [
      "Processing rows:  66%|███████████████████████████████████████▌                    | 488/740 [1:27:09<59:59, 14.29s/row]"
     ]
    },
    {
     "name": "stdout",
     "output_type": "stream",
     "text": [
      "Target: parametric answer: ‘পেরিপ্লাস অব দ্য এরিথ্রিয়ান সি’\n",
      "contextual answer: ‘পেরিপ্লাস অব দ্য এরিথ্রিয়ান সি’\n",
      "generated: parametric answer:None\n",
      "contextual answer: None\n"
     ]
    },
    {
     "name": "stderr",
     "output_type": "stream",
     "text": [
      "Processing rows:  66%|███████████████████████████████████████▋                    | 489/740 [1:27:23<59:29, 14.22s/row]"
     ]
    },
    {
     "name": "stdout",
     "output_type": "stream",
     "text": [
      "Target: parametric answer: ৪০ হাত লম্বা ও ২ হাত চাওড়া\n",
      "contextual answer: ৪০ হাত লম্বা ও ২ হাত চাওড়া\n",
      "generated: parametric answer:None\n",
      "contextual answer: None\n"
     ]
    },
    {
     "name": "stderr",
     "output_type": "stream",
     "text": [
      "Processing rows:  66%|███████████████████████████████████████▋                    | 490/740 [1:27:38<59:40, 14.32s/row]"
     ]
    },
    {
     "name": "stdout",
     "output_type": "stream",
     "text": [
      "Target: parametric answer: কিতাবুর রেহালায়'\n",
      "contextual answer: কিতাবুর রেহালায়'\n",
      "generated: parametric answer:None\n",
      "contextual answer: None\n"
     ]
    },
    {
     "name": "stderr",
     "output_type": "stream",
     "text": [
      "Processing rows:  66%|██████████████████████████████████████▍                   | 491/740 [1:27:58<1:06:42, 16.07s/row]"
     ]
    },
    {
     "name": "stdout",
     "output_type": "stream",
     "text": [
      "Target: parametric answer: ১৭৫৭\n",
      "contextual answer: ১৭৫৭\n",
      "generated: parametric answer:None\n",
      "contextual answer: প্রথমে, আমাকে প্রশ্নটি বুঝতে হবে, যা হল কখন\n"
     ]
    },
    {
     "name": "stderr",
     "output_type": "stream",
     "text": [
      "Processing rows:  66%|██████████████████████████████████████▌                   | 492/740 [1:28:12<1:03:50, 15.45s/row]"
     ]
    },
    {
     "name": "stdout",
     "output_type": "stream",
     "text": [
      "Target: parametric answer: ২০০২ সালের এপ্রিলে\n",
      "contextual answer: ২০০২ সালের এপ্রিলে\n",
      "generated: parametric answer:None\n",
      "contextual answer: ইউইক একটি গুজব প্রকাশ করে যে অ্যাপলের কাছে ম্যাক ওএস এক্স এর মার্কলার কোড-নামযুক্ত একটি সংস্করণ রয়েছে, যা ইন্টেল।\n"
     ]
    },
    {
     "name": "stderr",
     "output_type": "stream",
     "text": [
      "Processing rows:  67%|████████████████████████████████████████                    | 494/740 [1:28:27<53:16, 12.99s/row]"
     ]
    },
    {
     "name": "stdout",
     "output_type": "stream",
     "text": [
      "Target: parametric answer: পাওয়ারপিসি-অনলি\n",
      "contextual answer: পাওয়ারপিসি-অনলি\n",
      "generated: parametric answer:None\n",
      "contextual answer: পাওয়ারপিসি-অনলি সফটওয়্যার অ্যাপলের আনুষ্ঠানিক ইমুলেশন সফটওয়্যার রোজেটা দ্বারা সমর্থিত।\n"
     ]
    },
    {
     "name": "stderr",
     "output_type": "stream",
     "text": [
      "Processing rows:  67%|████████████████████████████████████████▏                   | 496/740 [1:28:40<45:29, 11.19s/row]"
     ]
    },
    {
     "name": "stdout",
     "output_type": "stream",
     "text": [
      "Target: parametric answer: ৭০-১৪০\n",
      "contextual answer: ৭০-১৪০\n",
      "generated: parametric answer:৭০-১৪০ লিটার\n",
      "contextual answer: ৭০-১৪০ লিটার\n"
     ]
    },
    {
     "name": "stderr",
     "output_type": "stream",
     "text": [
      "Processing rows:  67%|████████████████████████████████████████▍                   | 499/740 [1:28:55<37:09,  9.25s/row]"
     ]
    },
    {
     "name": "stdout",
     "output_type": "stream",
     "text": [
      "Target: parametric answer: ০.১৬%\n",
      "contextual answer: ০.১৬%\n",
      "generated: parametric answer:0.16%\n",
      "contextual answer: মঙ্গল গ্রহের বায়ুমণ্ডলে অক্সিজেনের পরিমাণ ০.১৬%।\n"
     ]
    },
    {
     "name": "stderr",
     "output_type": "stream",
     "text": [
      "Processing rows:  68%|████████████████████████████████████████▌                   | 500/740 [1:29:18<54:04, 13.52s/row]"
     ]
    },
    {
     "name": "stdout",
     "output_type": "stream",
     "text": [
      "Target: parametric answer: সায়ানোব্যাকটেরিয়া\n",
      "contextual answer: সায়ানোব্যাকটেরিয়া\n",
      "generated: parametric answer:সায়ানোব্যাকটেরিয়া, লাইকেন\n",
      "contextual answer: মঙ্গল গ্রহে স্বয়ংসম্পূর্ণ বাস্তুতন্ত্র গড়ে তোলার জন্য সায়ানোব্যাকটেরিয়া এবং লাইকেন নামক অণুজীবগুলি গুরুত্বপূর্ণ ভূমিকা রাখতে পারে।\n"
     ]
    },
    {
     "name": "stderr",
     "output_type": "stream",
     "text": [
      "Processing rows:  68%|████████████████████████████████████████▌                   | 501/740 [1:29:32<54:14, 13.62s/row]"
     ]
    },
    {
     "name": "stdout",
     "output_type": "stream",
     "text": [
      "Target: parametric answer: নিম্ন অক্ষাংশ বিশিষ্ট\n",
      "contextual answer: নিম্ন অক্ষাংশ বিশিষ্ট\n",
      "generated: parametric answer:মঙ্গলের নিম্ন অক্ষাংশ বিশিষ্ট এলাকার তাপমাত্রা অ্যান\n",
      "contextual answer: মঙ্গলের নিম্ন অক্ষাংশ বিশিষ্ট এলাকার তাপমাত্রা অ্যান্টার্কটিকার তাপমাত্রার সমান।\n"
     ]
    },
    {
     "name": "stderr",
     "output_type": "stream",
     "text": [
      "Processing rows:  68%|████████████████████████████████████████▋                   | 502/740 [1:29:48<57:23, 14.47s/row]"
     ]
    },
    {
     "name": "stdout",
     "output_type": "stream",
     "text": [
      "Target: parametric answer: ১৯৫০এর\n",
      "contextual answer: ১৯৫০এর\n",
      "generated: parametric answer:১৯৫০ এর দশকে\n",
      "contextual answer: ১৯৫০ এর দশকে\n"
     ]
    },
    {
     "name": "stderr",
     "output_type": "stream",
     "text": [
      "Processing rows:  68%|████████████████████████████████████████▊                   | 504/740 [1:30:06<49:54, 12.69s/row]"
     ]
    },
    {
     "name": "stdout",
     "output_type": "stream",
     "text": [
      "Target: parametric answer: চিনামাটির বাসন\n",
      "contextual answer: চিনামাটির বাসন\n",
      "generated: parametric answer:চিনামাটির বাসন\n",
      "contextual answer: চিনামাটির বাসন\n"
     ]
    },
    {
     "name": "stderr",
     "output_type": "stream",
     "text": [
      "Processing rows:  68%|████████████████████████████████████████▉                   | 505/740 [1:30:20<51:29, 13.15s/row]"
     ]
    },
    {
     "name": "stdout",
     "output_type": "stream",
     "text": [
      "Target: parametric answer: ময়মনসিংহের বিজয়পুরে\n",
      "contextual answer: ময়মনসিংহের বিজয়পুরে\n",
      "generated: parametric answer:ময়মনসিংহের বিজয়পুরে\n",
      "contextual answer: ময়মনসিংহের বিজয়পুরে\n"
     ]
    },
    {
     "name": "stderr",
     "output_type": "stream",
     "text": [
      "Processing rows:  68%|█████████████████████████████████████████                   | 506/740 [1:30:34<52:17, 13.41s/row]"
     ]
    },
    {
     "name": "stdout",
     "output_type": "stream",
     "text": [
      "Target: parametric answer: চীন; ভারত; নিউজিল্যান্ড; জার্মানি\n",
      "contextual answer: চীন; ভারত; নিউজিল্যান্ড; জার্মানি\n",
      "generated: parametric answer:চীন, ভারত, নিউজিল্যান্ড ও জার্মানি\n",
      "contextual answer: চীন, ভারত, নিউজিল্যান্ড ও জার্মানি\n"
     ]
    },
    {
     "name": "stderr",
     "output_type": "stream",
     "text": [
      "Processing rows:  69%|█████████████████████████████████████████                   | 507/740 [1:30:48<52:53, 13.62s/row]"
     ]
    },
    {
     "name": "stdout",
     "output_type": "stream",
     "text": [
      "Target: parametric answer: ১৮১৬\n",
      "contextual answer: ১৮১৬\n",
      "generated: parametric answer:১৮১৬ সালে\n",
      "contextual answer: ১৮১৬ সালে\n"
     ]
    },
    {
     "name": "stderr",
     "output_type": "stream",
     "text": [
      "Processing rows:  69%|█████████████████████████████████████████▎                  | 509/740 [1:31:02<44:46, 11.63s/row]"
     ]
    },
    {
     "name": "stdout",
     "output_type": "stream",
     "text": [
      "Target: parametric answer: ফরাসি বিরোধী হিসেবে\n",
      "contextual answer: ফরাসি বিরোধী হিসেবে\n",
      "generated: parametric answer:ব্যক্তিকেন্দ্রিক এবং রোমান্টিক হিসেবে।\n",
      "contextual answer: স্বাদেশিকরূপে এবং সুস্পষ্টভাবেই ফরাসি বিরোধী হিসেবে।\n"
     ]
    },
    {
     "name": "stderr",
     "output_type": "stream",
     "text": [
      "Processing rows:  69%|█████████████████████████████████████████▎                  | 510/740 [1:31:19<51:02, 13.32s/row]"
     ]
    },
    {
     "name": "stdout",
     "output_type": "stream",
     "text": [
      "Target: parametric answer: ড্রেসডেন ভিত্তিক বন্ধু গ্রাফ ভিৎসজিয়াম ভন ইক্সটেট এর সহায়তায়\n",
      "contextual answer: ড্রেসডেন ভিত্তিক বন্ধু গ্রাফ ভিৎসজিয়াম ভন ইক্সটেট এর সহায়তায়\n",
      "generated: parametric answer:ফ্রিডরিখ তার ড্রেসডেন ভিত্তিক বন্ধু গ্রাফ ভিৎসজিয়াম ভন ইক্সটেটের সহায়তায় নাগরিকত্ব অর্জন করেন।\n",
      "contextual answer: ফ্রিডরিখ তার ড্রেসডেন ভিত্তিক বন্ধু গ্রাফ ভিৎসজিয়াম ভন ইক্সটেটের সহায়তায় নাগরিকত্ব অর্জন করেন।\n"
     ]
    },
    {
     "name": "stderr",
     "output_type": "stream",
     "text": [
      "Processing rows:  69%|█████████████████████████████████████████▍                  | 511/740 [1:31:36<54:53, 14.38s/row]"
     ]
    },
    {
     "name": "stdout",
     "output_type": "stream",
     "text": [
      "Target: parametric answer: ১৫০ থ্যালার\n",
      "contextual answer: ১৫০ থ্যালার\n",
      "generated: parametric answer:১৫০ থ্যালারের বিনিময়ে ফ্রিডরিখ স্যাক্সন অ্যাকাডেমির বাৎসরিক সদস্যপদ লাভ করেন।\n",
      "contextual answer: ১৫০ থ্যালারের বিনিময়ে ফ্রিডরিখ স্যাক্সন অ্যাকাডেমির বাৎসরিক সদস্যপদ লাভ করেন।\n"
     ]
    },
    {
     "name": "stderr",
     "output_type": "stream",
     "text": [
      "Processing rows:  69%|█████████████████████████████████████████▌                  | 512/740 [1:31:50<54:13, 14.27s/row]"
     ]
    },
    {
     "name": "stdout",
     "output_type": "stream",
     "text": [
      "Target: parametric answer: পালামনইডা\n",
      "contextual answer: পালামনইডা\n",
      "generated: parametric answer:প্যালেমনিডি\n",
      "contextual answer: পালামনইডা\n"
     ]
    },
    {
     "name": "stderr",
     "output_type": "stream",
     "text": [
      "Processing rows:  69%|█████████████████████████████████████████▋                  | 514/740 [1:32:04<45:31, 12.09s/row]"
     ]
    },
    {
     "name": "stdout",
     "output_type": "stream",
     "text": [
      "Target: parametric answer: বাগেরহাট; বরিশাল; পটুয়াখালী; সুন্দরবন\n",
      "contextual answer: বাগেরহাট; বরিশাল; পটুয়াখালী; সুন্দরবন\n",
      "generated: parametric answer:বাংলাদেশের বিভিন্ন অঞ্চলে, তবে সঠিক জেলাগুলি সম্পর্কে আমার কাছে কোনও নির্দিষ্ট তথ্য নেই।\n",
      "contextual answer: বাগেরহাট, বরিশাল, পটুয়াখালী এবং সুন্দরবন।\n"
     ]
    },
    {
     "name": "stderr",
     "output_type": "stream",
     "text": [
      "Processing rows:  70%|█████████████████████████████████████████▊                  | 516/740 [1:32:21<41:21, 11.08s/row]"
     ]
    },
    {
     "name": "stdout",
     "output_type": "stream",
     "text": [
      "Target: parametric answer: রাতে\n",
      "contextual answer: রাতে\n",
      "generated: parametric answer:রাতে\n",
      "contextual answer: রাতে\n"
     ]
    },
    {
     "name": "stderr",
     "output_type": "stream",
     "text": [
      "Processing rows:  70%|█████████████████████████████████████████▉                  | 517/740 [1:32:36<45:04, 12.13s/row]"
     ]
    },
    {
     "name": "stdout",
     "output_type": "stream",
     "text": [
      "Target: parametric answer: রবার্ট এইচ\n",
      "contextual answer: রবার্ট এইচ\n",
      "generated: parametric answer:রবার্ট এইচ. গডার্ড\n",
      "contextual answer: হেরমান অব্যর্থ\n"
     ]
    },
    {
     "name": "stderr",
     "output_type": "stream",
     "text": [
      "Processing rows:  70%|██████████████████████████████████████████                  | 519/740 [1:32:53<40:40, 11.04s/row]"
     ]
    },
    {
     "name": "stdout",
     "output_type": "stream",
     "text": [
      "Target: parametric answer: অবলোহিত; অতিবেগুনী আলো\n",
      "contextual answer: অবলোহিত; অতিবেগুনী আলো\n",
      "generated: parametric answer:অবলোহিত, অতিবেগুনী\n",
      "contextual answer: বায়ুমণ্ডলে দৃঢ়ভাবে শোষিত হয় এমন দুটি আলোক রশ্মি হল অবলোহিত এবং অতিবেগুনী আলো।\n"
     ]
    },
    {
     "name": "stderr",
     "output_type": "stream",
     "text": [
      "Processing rows:  70%|██████████████████████████████████████████▏                 | 520/740 [1:33:10<46:42, 12.74s/row]"
     ]
    },
    {
     "name": "stdout",
     "output_type": "stream",
     "text": [
      "Target: parametric answer: ০.৫-১.০ টি\n",
      "contextual answer: ০.৫-১.০ টি\n",
      "generated: parametric answer:None\n",
      "contextual answer: সেই সময় ভূগর্ভে অবস্থিত টেলিস্কোপগুলি ০.৫-১.০ টি আর্কসেকেন্ডের রেজুলেশনে সীমাবদ্ধ ছিল।\n"
     ]
    },
    {
     "name": "stderr",
     "output_type": "stream",
     "text": [
      "Processing rows:  70%|██████████████████████████████████████████▏                 | 521/740 [1:33:24<47:56, 13.14s/row]"
     ]
    },
    {
     "name": "stdout",
     "output_type": "stream",
     "text": [
      "Target: parametric answer: পারস্য\n",
      "contextual answer: পারস্য\n",
      "generated: parametric answer:পারস্য\n",
      "contextual answer: পারস্য\n"
     ]
    },
    {
     "name": "stderr",
     "output_type": "stream",
     "text": [
      "Processing rows:  71%|██████████████████████████████████████████▍                 | 524/740 [1:33:38<38:07, 10.59s/row]"
     ]
    },
    {
     "name": "stdout",
     "output_type": "stream",
     "text": [
      "Target: parametric answer: তেলবাহী জাহাজের নিয়মিত চলাচলে প্রায়শঃই তেল নির্গত হয়ে এর জলরাশিকে বিষাক্ত করে তুলছে\n",
      "contextual answer: তেলবাহী জাহাজের নিয়মিত চলাচলে প্রায়শঃই তেল নির্গত হয়ে এর জলরাশিকে বিষাক্ত করে তুলছে\n",
      "generated: parametric answer:পারস্য উপসাগরের জলরাশি বিভিন্ন উত্স থেকে দূষিত হতে পারে, যার মধ্যে রয়েছে তেল নির্গমন, শিল্প ও কৃষি কার্যকলাপ, এবং অন্যান্য মানবিক কার্যকলাপ।\n",
      "contextual answer: তেলবাহী জাহাজের নিয়মিত চলাচলে প্রায়শঃই তেল নির্গত হয়ে এর জলরাশিকে বিষাক্ত করে তুলছে।\n"
     ]
    },
    {
     "name": "stderr",
     "output_type": "stream",
     "text": [
      "Processing rows:  71%|██████████████████████████████████████████▌                 | 525/740 [1:33:54<44:14, 12.35s/row]"
     ]
    },
    {
     "name": "stdout",
     "output_type": "stream",
     "text": [
      "Target: parametric answer: বিশ্ব রাজনৈতিক প্রেক্ষাপটে\n",
      "contextual answer: বিশ্ব রাজনৈতিক প্রেক্ষাপটে\n",
      "generated: parametric answer:বিশ্ব রাজনৈতিক প্রেক্ষাপটে এবং বিশ্ব বাণিজ্যের জন্য একটি গুরুত্বপূর্ণ জলপথ হিসেবে\n",
      "contextual answer: বিশ্ব রাজনৈতিক প্রেক্ষাপটে\n"
     ]
    },
    {
     "name": "stderr",
     "output_type": "stream",
     "text": [
      "Processing rows:  71%|██████████████████████████████████████████▋                 | 526/740 [1:34:10<47:40, 13.37s/row]"
     ]
    },
    {
     "name": "stdout",
     "output_type": "stream",
     "text": [
      "Target: parametric answer: পারস্য উপসাগর\n",
      "contextual answer: পারস্য উপসাগর\n",
      "generated: parametric answer:পারস্য উপসাগর নয়, এটি একটি পৃথক জলভাগ।\n",
      "contextual answer: পারস্য উপসাগর\n"
     ]
    },
    {
     "name": "stderr",
     "output_type": "stream",
     "text": [
      "Processing rows:  71%|██████████████████████████████████████████▋                 | 527/740 [1:34:24<48:12, 13.58s/row]"
     ]
    },
    {
     "name": "stdout",
     "output_type": "stream",
     "text": [
      "Target: parametric answer: কাতার\n",
      "contextual answer: কাতার\n",
      "generated: parametric answer:কাতার\n",
      "contextual answer: কাতার\n"
     ]
    },
    {
     "name": "stderr",
     "output_type": "stream",
     "text": [
      "Processing rows:  71%|██████████████████████████████████████████▉                 | 529/740 [1:34:38<40:52, 11.62s/row]"
     ]
    },
    {
     "name": "stdout",
     "output_type": "stream",
     "text": [
      "Target: parametric answer: দোহার ওয়াদি আল সাইলের রেডিও এবং টেলিভিশন কর্পোরেশন কমপ্লেক্সে\n",
      "contextual answer: দোহার ওয়াদি আল সাইলের রেডিও এবং টেলিভিশন কর্পোরেশন কমপ্লেক্সে\n",
      "generated: parametric answer:দোহা, কাতারে\n",
      "contextual answer: দোহার ওয়াদি আল সাইলের রেডিও এবং টেলিভিশন কর্পোরেশন কমপ্লেক্সে\n"
     ]
    },
    {
     "name": "stderr",
     "output_type": "stream",
     "text": [
      "Processing rows:  72%|██████████████████████████████████████████▉                 | 530/740 [1:34:54<44:51, 12.82s/row]"
     ]
    },
    {
     "name": "stdout",
     "output_type": "stream",
     "text": [
      "Target: parametric answer: আরবি\n",
      "contextual answer: আরবি\n",
      "generated: parametric answer:আরবি\n",
      "contextual answer: আরবি\n"
     ]
    },
    {
     "name": "stderr",
     "output_type": "stream",
     "text": [
      "Processing rows:  72%|███████████████████████████████████████████                 | 531/740 [1:35:14<52:21, 15.03s/row]"
     ]
    },
    {
     "name": "stdout",
     "output_type": "stream",
     "text": [
      "Target: parametric answer: শেখ হামাদ বিন থামির আল থানি\n",
      "contextual answer: শেখ হামাদ বিন থামির আল থানি\n",
      "generated: parametric answer:শেখ হামাদ বিন থামির আল থানি\n",
      "contextual answer: শেখ হামাদ বিন থামির আল থানি\n"
     ]
    },
    {
     "name": "stderr",
     "output_type": "stream",
     "text": [
      "Processing rows:  72%|███████████████████████████████████████████▏                | 532/740 [1:35:28<51:04, 14.73s/row]"
     ]
    },
    {
     "name": "stdout",
     "output_type": "stream",
     "text": [
      "Target: parametric answer: দুই চাকাবিশিষ্ট গরু বা বলদে টানা একপ্রকার যান বিশেষ\n",
      "contextual answer: দুই চাকাবিশিষ্ট গরু বা বলদে টানা একপ্রকার যান বিশেষ\n",
      "generated: parametric answer:গরুর গাড়ি হল এক প্রকার প্রাচীন যানবাহন যা গরু বা বলদ দ্বারা টানা হয়, যা বিশ্বের বিভিন্ন অঞ্চলে পরিবহন ও মালবহনের জন্য ব্যবহৃত হয়।\n",
      "contextual answer: গরুর গাড়ি হল দুই চাকাবিশিষ্ট গরু বা বলদে টানা একপ্রকার যান বিশেষ।\n"
     ]
    },
    {
     "name": "stderr",
     "output_type": "stream",
     "text": [
      "Processing rows:  72%|███████████████████████████████████████████▎                | 534/740 [1:35:44<43:37, 12.71s/row]"
     ]
    },
    {
     "name": "stdout",
     "output_type": "stream",
     "text": [
      "Target: parametric answer: মোটরচালিত যানের আধিক্য, অপেক্ষাকৃত ধীর গতির\n",
      "contextual answer: মোটরচালিত যানের আধিক্য, অপেক্ষাকৃত ধীর গতির\n",
      "generated: parametric answer:শহরায়ণ, প্রযুক্তিগত অগ্রগতি এবং আধুনিক যানবাহনের বর্ধিত প্রাপ্যতার কারণে গরুর গাড়ির ব্যবহার কমে এসেছে।\n",
      "contextual answer: নানাধরনের মোটরচালিত যানের আধিক্যর কারণে অপেক্ষাকৃত ধীর গতির এই যানটির ব্যবহার অনেক কমে এসেছে।\n"
     ]
    },
    {
     "name": "stderr",
     "output_type": "stream",
     "text": [
      "Processing rows:  72%|███████████████████████████████████████████▍                | 535/740 [1:36:01<47:41, 13.96s/row]"
     ]
    },
    {
     "name": "stdout",
     "output_type": "stream",
     "text": [
      "Target: parametric answer: আল্পস পর্বতের উপত্যকায় একটি গুহায় গরুর গাড়ির যে ছবি পাওয়া যায়\n",
      "contextual answer: আল্পস পর্বতের উপত্যকায় একটি গুহায় গরুর গাড়ির যে ছবি পাওয়া যায়\n",
      "generated: parametric answer:প্রাগৈতিহাসিক চিত্রকর্ম বা প্রত্নতাত্ত্বিক নিদর্শন।\n",
      "contextual answer: ফ্রান্সের ফঁতান অঞ্চলে আল্পস পর্বতের উপত্যকায় একটি গুহায় গরুর গাড়ির যে ছবি পাওয়া যায়।\n"
     ]
    },
    {
     "name": "stderr",
     "output_type": "stream",
     "text": [
      "Processing rows:  72%|███████████████████████████████████████████▍                | 536/740 [1:36:18<50:20, 14.80s/row]"
     ]
    },
    {
     "name": "stdout",
     "output_type": "stream",
     "text": [
      "Target: parametric answer: প্রায় ৯৯%\n",
      "contextual answer: প্রায় ৯৯%\n",
      "generated: parametric answer:৯৯%\n",
      "contextual answer: ৯৯%\n"
     ]
    },
    {
     "name": "stderr",
     "output_type": "stream",
     "text": [
      "Processing rows:  73%|███████████████████████████████████████████▊                | 540/740 [1:36:31<38:02, 11.41s/row]"
     ]
    },
    {
     "name": "stdout",
     "output_type": "stream",
     "text": [
      "Target: parametric answer: ১৯৮৭\n",
      "contextual answer: ১৯৮৭\n",
      "generated: parametric answer:১৯৮৭\n",
      "contextual answer: ১৯৮৭\n"
     ]
    },
    {
     "name": "stderr",
     "output_type": "stream",
     "text": [
      "Processing rows:  73%|███████████████████████████████████████████▊                | 541/740 [1:36:45<40:22, 12.17s/row]"
     ]
    },
    {
     "name": "stdout",
     "output_type": "stream",
     "text": [
      "Target: parametric answer: ৪১ ভাষা\n",
      "contextual answer: ৪১ ভাষা\n",
      "generated: parametric answer:৪১টি ভাষা প্রচলিত আছে।\n",
      "contextual answer: ৪১টি ভাষা প্রচলিত আছে।\n"
     ]
    },
    {
     "name": "stderr",
     "output_type": "stream",
     "text": [
      "Processing rows:  73%|███████████████████████████████████████████▉                | 542/740 [1:37:00<42:15, 12.81s/row]"
     ]
    },
    {
     "name": "stdout",
     "output_type": "stream",
     "text": [
      "Target: parametric answer: চাঁটগাঁইয়া ভাষা ও সিলেটি ভাষা (যদি স্বতন্ত্র ভাষা ধরা হয়); চাকমা ভাষা; মারমা ভাষা; রাখাইন ভাষা; বর্মী ভাষা; ওড়াওঁ ভাষা; ককবরক ভাষা (ত্রিপুরাদের ভাষা); মৈতৈ ভাষা; বিহারি ভাষা; হাজং ভাষা; ম্রো ভাষা; বিষ্ণুপ্রিয়া মণিপুরী ভাষা; কোল ভাষা; তঞ্চৈঙ্গা ভাষা; খাসি ভাষা; কুরুক্স ভাষা; রোহিঙ্গা ভাষা; মিজো ভাষা; আটং ভাষা; পাংখো ভাষা\n",
      "contextual answer: চাঁটগাঁইয়া ভাষা ও সিলেটি ভাষা (যদি স্বতন্ত্র ভাষা ধরা হয়); চাকমা ভাষা; মারমা ভাষা; রাখাইন ভাষা; বর্মী ভাষা; ওড়াওঁ ভাষা; ককবরক ভাষা (ত্রিপুরাদের ভাষা); মৈতৈ ভাষা; বিহারি ভাষা; হাজং ভাষা; ম্রো ভাষা; বিষ্ণুপ্রিয়া মণিপুরী ভাষা; কোল ভাষা; তঞ্চৈঙ্গা ভাষা; খাসি ভাষা; কুরুক্স ভাষা; রোহিঙ্গা ভাষা; মিজো ভাষা; আটং ভাষা; পাংখো ভাষা\n",
      "generated: parametric answer:বাংলা ভাষা ছাড়াও বাংলাদেশে ইংরেজি, চাকমা, মারমা, রাখাইন,\n",
      "contextual answer: বাংলা ভাষা ছাড়াও বাংলাদেশে চাঁটগাঁইয়া ভাষা, সিলেটি ভাষা, চাকমা ভাষা, মারমা ভাষা, রাখাইন ভাষা, বর্মী ভাষা, ওড়াওঁ ভাষা, ককবরক ভাষা, মৈতৈ ভাষা, বিহারি ভাষা, হাজং ভাষা, ম্রো ভাষা, বিষ্ণুপ্রিয়া মণিপুরী ভাষা, কোল ভাষা, তঞ্চৈঙ্গা ভাষা, খাসি ভাষা, কুরুক্স ভাষা, রোহিঙ্গা ভাষা, মিজো ভাষা, আটং ভাষা, পাংখো ভাষা ইত্যাদি ভাষা রয়েছে।\n"
     ]
    },
    {
     "name": "stderr",
     "output_type": "stream",
     "text": [
      "Processing rows:  73%|████████████████████████████████████████████                | 543/740 [1:37:14<43:14, 13.17s/row]"
     ]
    },
    {
     "name": "stdout",
     "output_type": "stream",
     "text": [
      "Target: parametric answer: ইসলামী শিক্ষা ও বৃত্তির\n",
      "contextual answer: ইসলামী শিক্ষা ও বৃত্তির\n",
      "generated: parametric answer:ইসলামী শিক্ষা, বিজ্ঞান, এবং সংস্কৃতির একটি কেন্দ্র।\n",
      "contextual answer: ইসলামী শিক্ষা ও বৃত্তির একটি চক্রকেন্দ্র।\n"
     ]
    },
    {
     "name": "stderr",
     "output_type": "stream",
     "text": [
      "Processing rows:  74%|████████████████████████████████████████████                | 544/740 [1:37:30<46:15, 14.16s/row]"
     ]
    },
    {
     "name": "stdout",
     "output_type": "stream",
     "text": [
      "Target: parametric answer: বাগদাদ\n",
      "contextual answer: বাগদাদ\n",
      "generated: parametric answer:বাগদাদ\n",
      "contextual answer: বাগদাদ\n"
     ]
    },
    {
     "name": "stderr",
     "output_type": "stream",
     "text": [
      "Processing rows:  74%|████████████████████████████████████████████▏               | 545/740 [1:37:46<47:22, 14.57s/row]"
     ]
    },
    {
     "name": "stdout",
     "output_type": "stream",
     "text": [
      "Target: parametric answer: ইরাকের নাজাফ শহরে\n",
      "contextual answer: ইরাকের নাজাফ শহরে\n",
      "generated: parametric answer:নাজাফ\n",
      "contextual answer: নাজাফ\n"
     ]
    },
    {
     "name": "stderr",
     "output_type": "stream",
     "text": [
      "Processing rows:  74%|████████████████████████████████████████████▎               | 546/740 [1:38:00<46:32, 14.40s/row]"
     ]
    },
    {
     "name": "stdout",
     "output_type": "stream",
     "text": [
      "Target: parametric answer: ইরাকের কুফা শহরে\n",
      "contextual answer: ইরাকের কুফা শহরে\n",
      "generated: parametric answer:ইরাকের কুফা শহরে।\n",
      "contextual answer: ইরাকের কুফা শহরে।\n"
     ]
    },
    {
     "name": "stderr",
     "output_type": "stream",
     "text": [
      "Processing rows:  74%|████████████████████████████████████████████▎               | 547/740 [1:38:14<45:47, 14.24s/row]"
     ]
    },
    {
     "name": "stdout",
     "output_type": "stream",
     "text": [
      "Target: parametric answer: ক্রোম ওএস\n",
      "contextual answer: ক্রোম ওএস\n",
      "generated: parametric answer:ক্রোম ওএস\n",
      "contextual answer: ক্রোম ওএস\n"
     ]
    },
    {
     "name": "stderr",
     "output_type": "stream",
     "text": [
      "Processing rows:  74%|████████████████████████████████████████████▌               | 549/740 [1:38:28<38:23, 12.06s/row]"
     ]
    },
    {
     "name": "stdout",
     "output_type": "stream",
     "text": [
      "Target: parametric answer: গুগলের প্রস্তুতকারক সহযোগীদের\n",
      "contextual answer: গুগলের প্রস্তুতকারক সহযোগীদের\n",
      "generated: parametric answer:গুগলের অংশীদারদের দ্বারা তৈরি ক্রোমবুক ল্যাপটপে\n",
      "contextual answer: গুগলের প্রস্তুতকারক সহযোগীদের যন্ত্রে\n"
     ]
    },
    {
     "name": "stderr",
     "output_type": "stream",
     "text": [
      "Processing rows:  74%|████████████████████████████████████████████▋               | 551/740 [1:38:43<33:47, 10.73s/row]"
     ]
    },
    {
     "name": "stdout",
     "output_type": "stream",
     "text": [
      "Target: parametric answer: ইসলাম ও নারীবাদের একটি সমন্বয়\n",
      "contextual answer: ইসলাম ও নারীবাদের একটি সমন্বয়\n",
      "generated: parametric answer:ইসলামি নারীবাদ হল একটি আন্দোলন যা ইসলামের নীতি ও মূল্যবোধের উপর ভিত্তি করে নারীর অধিকার ও স্বাধীনতা প্রতিষ্ঠা করার লক্ষ্যে কাজ করে।\n",
      "contextual answer: ইসলামি নারীবাদ হল একটি ধারণা যা ইসলাম ও নারীবাদের সমন্বয়কে বোঝায়, যেখানে নারীরা তাদের অধিকার ও স্বাধীনতা প্রতিষ্ঠা করার জন্য ইসলামের শিক্ষা ব্যবহার করেন।\n"
     ]
    },
    {
     "name": "stderr",
     "output_type": "stream",
     "text": [
      "Processing rows:  75%|████████████████████████████████████████████▉               | 554/740 [1:38:59<28:20,  9.14s/row]"
     ]
    },
    {
     "name": "stdout",
     "output_type": "stream",
     "text": [
      "Target: parametric answer: ইসলাম ও ইসলামের শিক্ষা থেকে তাঁদের মত প্রকাশ করেন; ব্যক্তিগত ও পাবলিক ক্ষেত্রসমূহে নারী ও পুরুষের পূর্ণাঙ্গ সাম্য দাবি করেন; এই আলোচনা ও বিতর্কগুলোতে অমুসলিমদেরকে নিয়ে আসেন\n",
      "contextual answer: ইসলাম ও ইসলামের শিক্ষা থেকে তাঁদের মত প্রকাশ করেন; ব্যক্তিগত ও পাবলিক ক্ষেত্রসমূহে নারী ও পুরুষের পূর্ণাঙ্গ সাম্য দাবি করেন; এই আলোচনা ও বিতর্কগুলোতে অমুসলিমদেরকে নিয়ে আসেন\n",
      "generated: parametric answer:ইসলামি নারীবাদীরা নারীদের অধিকার ও স্বাধীনতা প্রচার করেন, তাদের সামাজিক ও রাজনৈতিক অংশগ্রহণকে উন্নীত করেন এবং ইসলামি মূল্যবোধ ও নীতির প্রচার করেন। তারা নারীদের শিক্ষা, স্বাস্থ্যসেবা এবং অর্থনৈতিক ক্ষমতায়নের জন্য কাজ করেন।\n",
      "contextual answer: ইসলামি নারীবাদীরা ইসলাম ও ইসলামের শিক্ষা থেকে তাদের মত প্রকাশ করেন এবং ব্যক্তিগত ও পাবলিক ক্ষেত্রে নারী ও পুরুষের পূর্ণাঙ্গ সাম্য দাবি করেন। তারা নারী অধিকার ও স্বাধীনতার উন্নয়নের জন্য কাজ করেন এবং নারীদের সাক্ষরতা ও শিক্ষার জন্য কাজ করেন।\n"
     ]
    },
    {
     "name": "stderr",
     "output_type": "stream",
     "text": [
      "Processing rows:  75%|█████████████████████████████████████████████               | 555/740 [1:39:17<35:52, 11.63s/row]"
     ]
    },
    {
     "name": "stdout",
     "output_type": "stream",
     "text": [
      "Target: parametric answer: লন্ডনের সেন্ট জনসে\n",
      "contextual answer: লন্ডনের সেন্ট জনসে\n",
      "generated: parametric answer:লন্ডনের সেন্ট জনসে\n",
      "contextual answer: লন্ডনের সেন্ট জনসে\n"
     ]
    },
    {
     "name": "stderr",
     "output_type": "stream",
     "text": [
      "Processing rows:  76%|█████████████████████████████████████████████▎              | 559/740 [1:39:33<28:10,  9.34s/row]"
     ]
    },
    {
     "name": "stdout",
     "output_type": "stream",
     "text": [
      "Target: parametric answer: এসচাম সেন্ট ভিনসেন্ট’স প্রিপ্যাটরি স্কুল ও এটনে\n",
      "contextual answer: এসচাম সেন্ট ভিনসেন্ট’স প্রিপ্যাটরি স্কুল ও এটনে\n",
      "generated: parametric answer:এসচাম সেন্ট ভিনসেন্ট'স প্রিপ্যাটরি স্কুল ও এটনে।\n",
      "contextual answer: এসচাম সেন্ট ভিনসেন্ট'স প্রিপ্যাটরি স্কুল ও এটনে।\n"
     ]
    },
    {
     "name": "stderr",
     "output_type": "stream",
     "text": [
      "Processing rows:  76%|█████████████████████████████████████████████▍              | 560/740 [1:39:47<32:14, 10.75s/row]"
     ]
    },
    {
     "name": "stdout",
     "output_type": "stream",
     "text": [
      "Target: parametric answer: সাহসী; অকালপক্ক\n",
      "contextual answer: সাহসী; অকালপক্ক\n",
      "generated: parametric answer:এয়ার সাহসী ও অকালপক্ক ছিলেন।\n",
      "contextual answer: এয়ার সাহসী ও অকালপক্ক ছিলেন।\n"
     ]
    },
    {
     "name": "stderr",
     "output_type": "stream",
     "text": [
      "Processing rows:  76%|█████████████████████████████████████████████▍              | 561/740 [1:40:02<36:22, 12.19s/row]"
     ]
    },
    {
     "name": "stdout",
     "output_type": "stream",
     "text": [
      "Target: parametric answer: আইইটিএফ রিকোয়েস্ট ফর কমেন্ট;তাদের কাজের দল;বিস্তারিত ভাবে স্টাইল গাইডস দ্বারা\n",
      "contextual answer: আইইটিএফ রিকোয়েস্ট ফর কমেন্ট;তাদের কাজের দল;বিস্তারিত ভাবে স্টাইল গাইডস দ্বারা\n",
      "generated: parametric answer:ইমেইল বানানটি বিশ্বব্যাপী ব্যবহৃত হয় এবং এটি বিভিন্ন প্রতিষ্ঠান এবং ব্যক্তি দ্বারা ব্যবহৃত হয়।\n",
      "contextual answer: আইইটিএফ রিকোয়েস্ট ফর কমেন্ট এবং তাদের কাজের দল এবং বিস্তৃত ভাবে স্টাইল গাইডস দ্বারা ইমেইল বানানটি ব্যবহৃত হয়।\n"
     ]
    },
    {
     "name": "stderr",
     "output_type": "stream",
     "text": [
      "Processing rows:  76%|█████████████████████████████████████████████▋              | 564/740 [1:40:20<30:09, 10.28s/row]"
     ]
    },
    {
     "name": "stdout",
     "output_type": "stream",
     "text": [
      "Target: parametric answer: ইমেইল\n",
      "contextual answer: ইমেইল\n",
      "generated: parametric answer:ইমেইল\n",
      "contextual answer: ইমেইল\n"
     ]
    },
    {
     "name": "stderr",
     "output_type": "stream",
     "text": [
      "Processing rows:  76%|█████████████████████████████████████████████▊              | 565/740 [1:40:33<33:07, 11.36s/row]"
     ]
    },
    {
     "name": "stdout",
     "output_type": "stream",
     "text": [
      "Target: parametric answer: ১৯৭১\n",
      "contextual answer: ১৯৭১\n",
      "generated: parametric answer:১৯৬৯ সালে\n",
      "contextual answer: ১৯৭১ সালে\n"
     ]
    },
    {
     "name": "stderr",
     "output_type": "stream",
     "text": [
      "Processing rows:  76%|█████████████████████████████████████████████▉              | 566/740 [1:40:48<35:50, 12.36s/row]"
     ]
    },
    {
     "name": "stdout",
     "output_type": "stream",
     "text": [
      "Target: parametric answer: রোমান্ড স্যামুয়েল টমলিসন\n",
      "contextual answer: রোমান্ড স্যামুয়েল টমলিসন\n",
      "generated: parametric answer:রে টমলিনসন\n",
      "contextual answer: রোমান্ড স্যামুয়েল টমলিসন\n"
     ]
    },
    {
     "name": "stderr",
     "output_type": "stream",
     "text": [
      "Processing rows:  77%|█████████████████████████████████████████████▉              | 567/740 [1:41:02<37:00, 12.84s/row]"
     ]
    },
    {
     "name": "stdout",
     "output_type": "stream",
     "text": [
      "Target: parametric answer: রুডল্ফ লুডভিগ কার্ল ফিরখো\n",
      "contextual answer: রুডল্ফ লুডভিগ কার্ল ফিরখো\n",
      "generated: parametric answer:None\n",
      "contextual answer: None\n"
     ]
    },
    {
     "name": "stderr",
     "output_type": "stream",
     "text": [
      "Processing rows:  77%|██████████████████████████████████████████████▏             | 569/740 [1:41:17<32:06, 11.26s/row]"
     ]
    },
    {
     "name": "stdout",
     "output_type": "stream",
     "text": [
      "Target: parametric answer: পিটার মুলারের অধীনে\n",
      "contextual answer: পিটার মুলারের অধীনে\n",
      "generated: parametric answer:None\n",
      "contextual answer: None\n"
     ]
    },
    {
     "name": "stderr",
     "output_type": "stream",
     "text": [
      "Processing rows:  77%|██████████████████████████████████████████████▎             | 571/740 [1:41:32<28:31, 10.12s/row]"
     ]
    },
    {
     "name": "stdout",
     "output_type": "stream",
     "text": [
      "Target: parametric answer: বিংশ শতাব্দীর শেষভাগে এসে (১৯৮০-র দশকের শুরুতে এসে) সারা বিশ্বে তথ্য ও যোগাযোগ প্রযুক্তির ক্ষেত্রে বিভিন্ন যন্ত্রপাতি ও সরঞ্জামে যান্ত্রিক ও সদৃশ (অ্যানালগ) ইলেকট্রনীয় প্রযুক্তির (যেখানে ধারাবাহিক রৈখিক সংকেতের মাধ্যমে তথ্যের প্রতিনিধিত্ব করা হয়) পরিবর্তে ডিজিটাল (দ্বি-আঙ্কিক) ইলেকট্রনীয় প্রযুক্তি (যেখানে বিচ্ছিন্ন অঙ্ক, মূলত দুইটি অঙ্ক দিয়ে তথ্যের প্রতিনিধিত্ব করা হয়) ব্যবহৃত হওয়া শুরু হয় এবং ২১শ শতকের প্রথম দুই দশকে অব্যাহত থাকে, সেই অসাধারণ রূপান্তরের পর্বটিকে\n",
      "contextual answer: বিংশ শতাব্দীর শেষভাগে এসে (১৯৮০-র দশকের শুরুতে এসে) সারা বিশ্বে তথ্য ও যোগাযোগ প্রযুক্তির ক্ষেত্রে বিভিন্ন যন্ত্রপাতি ও সরঞ্জামে যান্ত্রিক ও সদৃশ (অ্যানালগ) ইলেকট্রনীয় প্রযুক্তির (যেখানে ধারাবাহিক রৈখিক সংকেতের মাধ্যমে তথ্যের প্রতিনিধিত্ব করা হয়) পরিবর্তে ডিজিটাল (দ্বি-আঙ্কিক) ইলেকট্রনীয় প্রযুক্তি (যেখানে বিচ্ছিন্ন অঙ্ক, মূলত দুইটি অঙ্ক দিয়ে তথ্যের প্রতিনিধিত্ব করা হয়) ব্যবহৃত হওয়া শুরু হয় এবং ২১শ শতকের প্রথম দুই দশকে অব্যাহত থাকে, সেই অসাধারণ রূপান্তরের পর্বটিকে\n",
      "generated: parametric answer:ডিজিটাল বিপ্লব বলতে ডিজিটাল প্রযুক্তির উন্নয়ন ও ব্যাপক গ্রহণের ফলে সমাজ, অর্থনীতি এবং ব্যক্তিগত জীবনে আসা ব্যাপক ও গভীর পরিবর্তনকে বোঝায়।\n",
      "contextual answer: ডিজিটাল বিপ্লব বলতে বিংশ শতাব্দীর শেষভাগে এসে (১৯৮০-র দশকের শুরুতে এসে) সারা বিশ্বে তথ্য ও যোগাযোগ প্রযুক্তির ক্ষেত্রে বিভিন্ন যন্ত্রপাতি ও সরঞ্জামে যান্ত্রিক ও সদৃশ (অ্যানালগ) ইলেকট্রনীয় প্রযুক্তির পরিবর্তে ডিজিটাল (দ্বি-আঙ্কিক) ইলেকট্রনীয় প্রযুক্তি ব্যবহৃত হওয়া শুরু হওয়া এবং ২১শ শতকের প্রথম দুই দশকে অব্যাহত থাকা অসাধারণ রূপান্তরের পর্বটিকে বোঝায়।\n"
     ]
    },
    {
     "name": "stderr",
     "output_type": "stream",
     "text": [
      "Processing rows:  78%|██████████████████████████████████████████████▌             | 574/740 [1:41:50<24:35,  8.89s/row]"
     ]
    },
    {
     "name": "stdout",
     "output_type": "stream",
     "text": [
      "Target: parametric answer: বিংশ\n",
      "contextual answer: বিংশ\n",
      "generated: parametric answer:বিংশ শতাব্দীর শেষভাগে\n",
      "contextual answer: বিংশ শতাব্দীর শেষভাগে\n"
     ]
    },
    {
     "name": "stderr",
     "output_type": "stream",
     "text": [
      "Processing rows:  78%|██████████████████████████████████████████████▌             | 575/740 [1:42:04<28:36, 10.40s/row]"
     ]
    },
    {
     "name": "stdout",
     "output_type": "stream",
     "text": [
      "Target: parametric answer: ডিজিটাল বিপ্লবের ফলে\n",
      "contextual answer: ডিজিটাল বিপ্লবের ফলে\n",
      "generated: parametric answer:ডিজিটাল প্রযুক্তির বিকাশের ফলে মানবজাতির ইতিহাসে তথ্য যুগের সূচনা হয়েছে, যা তথ্য এবং যোগাযোগের উপর ভিত্তি করে।\n",
      "contextual answer: ডিজিটাল বিপ্লবের ফলে মানবজাতির ইতিহাসে তথ্য যুগের সূচনা হয়েছে।\n"
     ]
    },
    {
     "name": "stderr",
     "output_type": "stream",
     "text": [
      "Processing rows:  78%|██████████████████████████████████████████████▋             | 576/740 [1:42:21<33:23, 12.21s/row]"
     ]
    },
    {
     "name": "stdout",
     "output_type": "stream",
     "text": [
      "Target: parametric answer: যিরমিয়\n",
      "contextual answer: যিরমিয়\n",
      "generated: parametric answer:যিরমিয়\n",
      "contextual answer: যিরমিয়\n"
     ]
    },
    {
     "name": "stderr",
     "output_type": "stream",
     "text": [
      "Processing rows:  78%|██████████████████████████████████████████████▉             | 579/740 [1:42:35<26:50, 10.00s/row]"
     ]
    },
    {
     "name": "stdout",
     "output_type": "stream",
     "text": [
      "Target: parametric answer: হিব্রু বাইবেলের মূখ্য নবীদের অন্যতম একজন নবী।\n",
      "contextual answer: হিব্রু বাইবেলের মূখ্য নবীদের অন্যতম একজন নবী।\n",
      "generated: parametric answer:যিরমিয় একজন হিব্রু নবী ছিলেন যিনি হিব্রু বাইবেলের একটি বই লিখেছিলেন।\n",
      "contextual answer: যিরমিয় একজন নবী ছিলেন।\n"
     ]
    },
    {
     "name": "stderr",
     "output_type": "stream",
     "text": [
      "Processing rows:  78%|███████████████████████████████████████████████             | 580/740 [1:42:52<32:19, 12.12s/row]"
     ]
    },
    {
     "name": "stdout",
     "output_type": "stream",
     "text": [
      "Target: parametric answer: ইয়াহওয়েহ\n",
      "contextual answer: ইয়াহওয়েহ\n",
      "generated: parametric answer:ঈশ্বর বা ইয়াহওয়েহ\n",
      "contextual answer: ইয়াহওয়েহ\n"
     ]
    },
    {
     "name": "stderr",
     "output_type": "stream",
     "text": [
      "Processing rows:  79%|███████████████████████████████████████████████             | 581/740 [1:43:09<35:27, 13.38s/row]"
     ]
    },
    {
     "name": "stdout",
     "output_type": "stream",
     "text": [
      "Target: parametric answer: দ্বিতীয় নবী\n",
      "contextual answer: দ্বিতীয় নবী\n",
      "generated: parametric answer:নির্দিষ্ট করা যায় না\n",
      "contextual answer: দ্বিতীয় নবী\n"
     ]
    },
    {
     "name": "stderr",
     "output_type": "stream",
     "text": [
      "Processing rows:  79%|███████████████████████████████████████████████▏            | 582/740 [1:43:25<37:24, 14.21s/row]"
     ]
    },
    {
     "name": "stdout",
     "output_type": "stream",
     "text": [
      "Target: parametric answer: পাতাল রেল সুড়ঙ্গ যা সাগরের তলদেশ দিয়ে বিস্তৃত\n",
      "contextual answer: পাতাল রেল সুড়ঙ্গ যা সাগরের তলদেশ দিয়ে বিস্তৃত\n",
      "generated: parametric answer:None\n",
      "contextual answer: Format:\n",
      "Contextual Answer: None\n"
     ]
    },
    {
     "name": "stderr",
     "output_type": "stream",
     "text": [
      "Processing rows:  79%|███████████████████████████████████████████████▎            | 584/740 [1:43:39<31:15, 12.02s/row]"
     ]
    },
    {
     "name": "stdout",
     "output_type": "stream",
     "text": [
      "Target: parametric answer: সাগরের তলদেশ দিয়ে বিস্তৃত হয়ে\n",
      "contextual answer: সাগরের তলদেশ দিয়ে বিস্তৃত হয়ে\n",
      "generated: parametric answer:None\n",
      "contextual answer: None\n"
     ]
    },
    {
     "name": "stderr",
     "output_type": "stream",
     "text": [
      "Processing rows:  79%|███████████████████████████████████████████████▌            | 586/740 [1:43:52<26:58, 10.51s/row]"
     ]
    },
    {
     "name": "stdout",
     "output_type": "stream",
     "text": [
      "Target: parametric answer: ১৯৯৪\n",
      "contextual answer: ১৯৯৪\n",
      "generated: parametric answer:None\n",
      "contextual answer: None\n"
     ]
    },
    {
     "name": "stderr",
     "output_type": "stream",
     "text": [
      "Processing rows:  79%|███████████████████████████████████████████████▋            | 588/740 [1:44:07<24:16,  9.58s/row]"
     ]
    },
    {
     "name": "stdout",
     "output_type": "stream",
     "text": [
      "Target: parametric answer: প্রায় ১৬ লক্ষ প্রকৌশলী\n",
      "contextual answer: প্রায় ১৬ লক্ষ প্রকৌশলী\n",
      "generated: parametric answer:None\n",
      "contextual answer: None\n"
     ]
    },
    {
     "name": "stderr",
     "output_type": "stream",
     "text": [
      "Processing rows:  80%|███████████████████████████████████████████████▊            | 589/740 [1:44:26<30:38, 12.17s/row]"
     ]
    },
    {
     "name": "stdout",
     "output_type": "stream",
     "text": [
      "Target: parametric answer: ১৫%\n",
      "contextual answer: ১৫%\n",
      "generated: parametric answer:None\n",
      "contextual answer: ২০০৯ সালে যুক্তরাষ্ট্রে প্রায় ১৬ লক্ষ প্রকৌশলী কর্মরত ছিলেন এবং তাদের মধ্যে প্রায় ২৩৯,০০০ জন যন্ত্র প্রকৌশলী ছিলেন।\n"
     ]
    },
    {
     "name": "stderr",
     "output_type": "stream",
     "text": [
      "Processing rows:  80%|███████████████████████████████████████████████▊            | 590/740 [1:44:40<32:13, 12.89s/row]"
     ]
    },
    {
     "name": "stdout",
     "output_type": "stream",
     "text": [
      "Target: parametric answer: ৫৮,৮০০ মার্কিন ডলার\n",
      "contextual answer: ৫৮,৮০০ মার্কিন ডলার\n",
      "generated: parametric answer:৭৪,০০০ মার্কিন ডলার\n",
      "contextual answer: যন্ত্রপ্রকৌশলীদের গড় বেতন প্রতি বছরে ৭৪,০০০ মার্কিন ডলার।\n"
     ]
    },
    {
     "name": "stderr",
     "output_type": "stream",
     "text": [
      "Processing rows:  80%|███████████████████████████████████████████████▉            | 591/740 [1:44:55<33:26, 13.47s/row]"
     ]
    },
    {
     "name": "stdout",
     "output_type": "stream",
     "text": [
      "Target: parametric answer: কম্পিউটার নিয়ন্ত্রিত প্রকৌশল ব্যবস্থা ব্যবহার করে\n",
      "contextual answer: কম্পিউটার নিয়ন্ত্রিত প্রকৌশল ব্যবস্থা ব্যবহার করে\n",
      "generated: parametric answer:কম্পিউটার নিয়ন্ত্রিত প্রকৌশল ব্যবস্থা\n",
      "contextual answer: যন্ত্রকৌশল নকশাকারকগণ কম্পিউটার নিয়ন্ত্রিত প্রকৌশল ব্যবস্থা ব্যবহার করে দ্রুততার সাথে এবং কম খরচে উৎপাদিত দ্রব্য সমূহের নকশা তৈরি করেন।\n"
     ]
    },
    {
     "name": "stderr",
     "output_type": "stream",
     "text": [
      "Processing rows:  80%|████████████████████████████████████████████████            | 592/740 [1:45:15<38:05, 15.44s/row]"
     ]
    },
    {
     "name": "stdout",
     "output_type": "stream",
     "text": [
      "Target: parametric answer: ইন্টারনেটের মাধ্যমে ভোক্তা থেকে ভোক্তা এবং ব্যবসায়ী থেকে ভোক্তাকে বিক্রয় সেবা\n",
      "contextual answer: ইন্টারনেটের মাধ্যমে ভোক্তা থেকে ভোক্তা এবং ব্যবসায়ী থেকে ভোক্তাকে বিক্রয় সেবা\n",
      "generated: parametric answer:ই-কমার্স প্ল্যাটফর্ম হিসেবে ভোক্তা থেকে ভোক্তা এবং ব্যবসায়ী থেকে ভোক্তাকে বিক্রয় সেবা।\n",
      "contextual answer: ভোক্তা থেকে ভোক্তা এবং ব্যবসায়ী থেকে ভোক্তাকে বিক্রয় সেবা।\n"
     ]
    },
    {
     "name": "stderr",
     "output_type": "stream",
     "text": [
      "Processing rows:  80%|████████████████████████████████████████████████▏           | 594/740 [1:45:32<32:27, 13.34s/row]"
     ]
    },
    {
     "name": "stdout",
     "output_type": "stream",
     "text": [
      "Target: parametric answer: ইবে\n",
      "contextual answer: ইবে\n",
      "generated: parametric answer:ইবে\n",
      "contextual answer: ইবে\n"
     ]
    },
    {
     "name": "stderr",
     "output_type": "stream",
     "text": [
      "Processing rows:  80%|████████████████████████████████████████████████▏           | 595/740 [1:45:46<32:41, 13.53s/row]"
     ]
    },
    {
     "name": "stdout",
     "output_type": "stream",
     "text": [
      "Target: parametric answer: ৩০টিরও বেশি দেশে\n",
      "contextual answer: ৩০টিরও বেশি দেশে\n",
      "generated: parametric answer:বিশ্বের অনেক দেশে, কিন্তু সঠিক সংখ্যা আমার কাছে নেই।\n",
      "contextual answer: ৩০টিরও বেশি দেশে\n"
     ]
    },
    {
     "name": "stderr",
     "output_type": "stream",
     "text": [
      "Processing rows:  81%|████████████████████████████████████████████████▎           | 596/740 [1:46:04<35:58, 14.99s/row]"
     ]
    },
    {
     "name": "stdout",
     "output_type": "stream",
     "text": [
      "Target: parametric answer: বায়ুচাপ ও ধূলা বাবস্থাপনার জন্য\n",
      "contextual answer: বায়ুচাপ ও ধূলা বাবস্থাপনার জন্য\n",
      "generated: parametric answer:বায়ুচাপ ও ধূলা বাবস্থাপনার জন্য, এবং একটি নিরাপদ এবং নিয়ন্ত্রিত পরিবেশ প্রদান করা।\n",
      "contextual answer: বায়ুচাপ ও ধূলা বাবস্থাপনার জন্য।\n"
     ]
    },
    {
     "name": "stderr",
     "output_type": "stream",
     "text": [
      "Processing rows:  81%|████████████████████████████████████████████████▌           | 599/740 [1:46:19<28:15, 12.02s/row]"
     ]
    },
    {
     "name": "stdout",
     "output_type": "stream",
     "text": [
      "Target: parametric answer: অক্সিজেন, বিদ্যুৎ; স্থানীয় যোগাযোগ; বর্জ্য নিষ্কাশন; স্বাস্থ্যব্যবস্থা; পুনঃব্যবহারযোগ্য পানি\n",
      "contextual answer: অক্সিজেন, বিদ্যুৎ; স্থানীয় যোগাযোগ; বর্জ্য নিষ্কাশন; স্বাস্থ্যব্যবস্থা; পুনঃব্যবহারযোগ্য পানি\n",
      "generated: parametric answer:None\n",
      "contextual answer: প্রয়োজনীয় উপযোগ (অক্সিজেন, বিদ্যুৎ, স্থানীয় যোগাযোগ, বর্জ্য নিষ্কাশন, স্বাস্থ্যব্যবস্থা ও পুনঃব্যবহারযোগ্য পানি), আবাস সামগ্রী, সংরক্ষ\n"
     ]
    },
    {
     "name": "stderr",
     "output_type": "stream",
     "text": [
      "Processing rows:  81%|████████████████████████████████████████████████▋           | 600/740 [1:46:37<31:32, 13.52s/row]"
     ]
    },
    {
     "name": "stdout",
     "output_type": "stream",
     "text": [
      "Target: parametric answer: অক্সিজেন\n",
      "contextual answer: অক্সিজেন\n",
      "generated: parametric answer:অক্সিজেন\n",
      "contextual answer: অক্সিজেন\n"
     ]
    },
    {
     "name": "stderr",
     "output_type": "stream",
     "text": [
      "Processing rows:  81%|████████████████████████████████████████████████▋           | 601/740 [1:46:50<31:36, 13.64s/row]"
     ]
    },
    {
     "name": "stdout",
     "output_type": "stream",
     "text": [
      "Target: parametric answer: ৪০ ডেসিবেল\n",
      "contextual answer: ৪০ ডেসিবেল\n",
      "generated: parametric answer:৪০ ডেসিবেল।\n",
      "contextual answer: ৪০ ডেসিবেল।\n"
     ]
    },
    {
     "name": "stderr",
     "output_type": "stream",
     "text": [
      "Processing rows:  82%|████████████████████████████████████████████████▉           | 604/740 [1:47:05<24:51, 10.96s/row]"
     ]
    },
    {
     "name": "stdout",
     "output_type": "stream",
     "text": [
      "Target: parametric answer: পথচারীকে চমকে দিতে পারে; তার মনে বিরক্তির উদ্রেক করতে পারে; তার মানসিক চাপ বৃদ্ধি করতে পারে\n",
      "contextual answer: পথচারীকে চমকে দিতে পারে; তার মনে বিরক্তির উদ্রেক করতে পারে; তার মানসিক চাপ বৃদ্ধি করতে পারে\n",
      "generated: parametric answer:অত্যধিক শব্দ মানুষের মানসিক স্বাস্থ্যের উপর নেতিবাচক প্রভাব ফেলতে পারে, যার মধ্যে চাপ, বিরক্তি, এবং অন্যান্য মানসিক সমস্যা অন্তর্ভুক্ত।\n",
      "contextual answer: ভেঁপুর শব্দ পথচারীকে চমকে দিতে পারে, তার মনে বিরক্তির উদ্রেক করতে পারে, তার মানসিক চাপ বৃদ্ধি করতে পারে এবং তার ভেতরে অন্যান্য নেতিবাচক মানসিক প্রতিক্রিয়ার সৃষ্টি করতে পারে।\n"
     ]
    },
    {
     "name": "stderr",
     "output_type": "stream",
     "text": [
      "Processing rows:  82%|█████████████████████████████████████████████████           | 605/740 [1:47:21<28:28, 12.65s/row]"
     ]
    },
    {
     "name": "stdout",
     "output_type": "stream",
     "text": [
      "Target: parametric answer: ৭৫ ডেসিবেলের\n",
      "contextual answer: ৭৫ ডেসিবেলের\n",
      "generated: parametric answer:৭৫ ডেসিবেলের উপরে\n",
      "contextual answer: ৭৫ ডেসিবেলের উপরে\n"
     ]
    },
    {
     "name": "stderr",
     "output_type": "stream",
     "text": [
      "Processing rows:  82%|█████████████████████████████████████████████████▏          | 607/740 [1:47:35<24:18, 10.97s/row]"
     ]
    },
    {
     "name": "stdout",
     "output_type": "stream",
     "text": [
      "Target: parametric answer: সরল বিদ্যুৎচালিত যন্ত্র\n",
      "contextual answer: সরল বিদ্যুৎচালিত যন্ত্র\n",
      "generated: parametric answer:একটি বিদ্যুৎচালিত যন্ত্র যা বিদ্যুৎচুম্বকীয় নীতির উপর কাজ করে।\n",
      "contextual answer: একটি সরল বিদ্যুৎচালিত যন্ত্র।\n"
     ]
    },
    {
     "name": "stderr",
     "output_type": "stream",
     "text": [
      "Processing rows:  82%|█████████████████████████████████████████████████▎          | 608/740 [1:47:49<26:07, 11.87s/row]"
     ]
    },
    {
     "name": "stdout",
     "output_type": "stream",
     "text": [
      "Target: parametric answer: রাজনীতি হলো দলীয় বা নির্দিষ্ট ব্যক্তিবর্গের মধ্যে ক্ষমতার সম্পর্কের ক্ষেত্রে সিদ্ধান্ত গ্রহণ বিষয়ক কর্মকাণ্ডের সমষ্টি\n",
      "contextual answer: রাজনীতি হলো দলীয় বা নির্দিষ্ট ব্যক্তিবর্গের মধ্যে ক্ষমতার সম্পর্কের ক্ষেত্রে সিদ্ধান্ত গ্রহণ বিষয়ক কর্মকাণ্ডের সমষ্টি\n",
      "generated: parametric answer:রাজনীতি হল একটি সামাজিক বিজ্ঞান যা রাষ্ট্র, সরকার এবং রাজনৈতিক প্রতিষ্ঠানগুলির অধ্যয়ন করে।\n",
      "contextual answer: রাজনীতি হল দলীয় বা নির্দিষ্ট ব্যক্তিবর্গের মধ্যে ক্ষমতার সম্পর্কের ক্ষেত্রে সিদ্ধান্ত গ্রহণ বিষয়ক কর্মকাণ্ডের সমষ্টি।\n"
     ]
    },
    {
     "name": "stderr",
     "output_type": "stream",
     "text": [
      "Processing rows:  82%|█████████████████████████████████████████████████▍          | 609/740 [1:48:05<28:27, 13.03s/row]"
     ]
    },
    {
     "name": "stdout",
     "output_type": "stream",
     "text": [
      "Target: parametric answer: রাজনীতিবিজ্ঞান বা রাষ্ট্রবিজ্ঞান\n",
      "contextual answer: রাজনীতিবিজ্ঞান বা রাষ্ট্রবিজ্ঞান\n",
      "generated: parametric answer:রাজনীতিবিজ্ঞান বা রাষ্ট্রবিজ্ঞান।\n",
      "contextual answer: রাজনীতিবিজ্ঞান বা রাষ্ট্রবিজ্ঞান।\n"
     ]
    },
    {
     "name": "stderr",
     "output_type": "stream",
     "text": [
      "Processing rows:  83%|█████████████████████████████████████████████████▌          | 611/740 [1:48:19<24:06, 11.22s/row]"
     ]
    },
    {
     "name": "stdout",
     "output_type": "stream",
     "text": [
      "Target: parametric answer: রাজনীতি নিয়ে গবেষণা করা\n",
      "contextual answer: রাজনীতি নিয়ে গবেষণা করা\n",
      "generated: parametric answer:রাষ্ট্রবিজ্ঞানের কাজ হলো রাষ্ট্র, সরকার, রাজনৈতিক প্রতিষ্ঠান এবং রাজনৈতিক আচরণ অধ্যয়ন করা।\n",
      "contextual answer: রাষ্ট্রবিজ্ঞানের কাজ হলো রাজনীতি নিয়ে গবেষণা করা।\n"
     ]
    },
    {
     "name": "stderr",
     "output_type": "stream",
     "text": [
      "Processing rows:  83%|█████████████████████████████████████████████████▌          | 612/740 [1:48:35<26:49, 12.57s/row]"
     ]
    },
    {
     "name": "stdout",
     "output_type": "stream",
     "text": [
      "Target: parametric answer: পটসডামের গোলম\n",
      "contextual answer: পটসডামের গোলম\n",
      "generated: parametric answer:পটসডামের গোলম এলাকায়\n",
      "contextual answer: পটসডামের গোলম এলাকায়\n"
     ]
    },
    {
     "name": "stderr",
     "output_type": "stream",
     "text": [
      "Processing rows:  83%|█████████████████████████████████████████████████▊          | 615/740 [1:48:49<21:15, 10.20s/row]"
     ]
    },
    {
     "name": "stdout",
     "output_type": "stream",
     "text": [
      "Target: parametric answer: ২০০২\n",
      "contextual answer: ২০০২\n",
      "generated: parametric answer:২০০২ সাল থেকে\n",
      "contextual answer: ২০০২ সাল থেকে\n"
     ]
    },
    {
     "name": "stderr",
     "output_type": "stream",
     "text": [
      "Processing rows:  83%|█████████████████████████████████████████████████▉          | 616/740 [1:49:03<23:39, 11.44s/row]"
     ]
    },
    {
     "name": "stdout",
     "output_type": "stream",
     "text": [
      "Target: parametric answer: এএমপির\n",
      "contextual answer: এএমপির\n",
      "generated: parametric answer:পরমাণু ও অণু পদার্থবিজ্ঞান (এএমপি) ইনস্টিটিউট\n",
      "contextual answer: পরমাণু ও অণু পদার্থবিজ্ঞান (এএমপি) ইনস্টিটিউট\n"
     ]
    },
    {
     "name": "stderr",
     "output_type": "stream",
     "text": [
      "Processing rows:  84%|██████████████████████████████████████████████████          | 618/740 [1:49:17<20:37, 10.14s/row]"
     ]
    },
    {
     "name": "stdout",
     "output_type": "stream",
     "text": [
      "Target: parametric answer: অর্থায়ন\n",
      "contextual answer: অর্থায়ন\n",
      "generated: parametric answer:অর্থায়ন, প্রযুক্তিগত চ্যালেঞ্জ, এবং মহাকাশে ভ্রমণের সময় মানুষের শরীরের উপর প্রভাব\n",
      "contextual answer: অর্থায়ন\n"
     ]
    },
    {
     "name": "stderr",
     "output_type": "stream",
     "text": [
      "Processing rows:  84%|██████████████████████████████████████████████████▏         | 619/740 [1:49:33<23:40, 11.74s/row]"
     ]
    },
    {
     "name": "stdout",
     "output_type": "stream",
     "text": [
      "Target: parametric answer: $৫০০ বিলিয়ন\n",
      "contextual answer: $৫০০ বিলিয়ন\n",
      "generated: parametric answer:কয\n",
      "contextual answer: ৫০০ বিলিয়ন ডলার।\n"
     ]
    },
    {
     "name": "stderr",
     "output_type": "stream",
     "text": [
      "Processing rows:  84%|██████████████████████████████████████████████████▎         | 620/740 [1:49:48<25:29, 12.75s/row]"
     ]
    },
    {
     "name": "stdout",
     "output_type": "stream",
     "text": [
      "Target: parametric answer: মহাকাশ পর্যটন\n",
      "contextual answer: মহাকাশ পর্যটন\n",
      "generated: parametric answer:মহাকাশ পর্যটন, প্রযুক্তিগত অগ্রগতি, অর্থনৈতিক সুবিধা, এবং আন্তর্জাতিক সহযোগিতা\n",
      "contextual answer: মহাকাশ পর্যটন\n"
     ]
    },
    {
     "name": "stderr",
     "output_type": "stream",
     "text": [
      "Processing rows:  84%|██████████████████████████████████████████████████▎         | 621/740 [1:50:04<27:21, 13.79s/row]"
     ]
    },
    {
     "name": "stdout",
     "output_type": "stream",
     "text": [
      "Target: parametric answer: মহাকাশ পর্যটনের\n",
      "contextual answer: মহাকাশ পর্যটনের\n",
      "generated: parametric answer:মহাকাশ পর্যটন\n",
      "contextual answer: মহাকাশ পর্যটন\n"
     ]
    },
    {
     "name": "stderr",
     "output_type": "stream",
     "text": [
      "Processing rows:  84%|██████████████████████████████████████████████████▍         | 622/740 [1:50:18<27:15, 13.86s/row]"
     ]
    },
    {
     "name": "stdout",
     "output_type": "stream",
     "text": [
      "Target: parametric answer: বস্তুটির অভিকর্ষের কারণে\n",
      "contextual answer: বস্তুটির অভিকর্ষের কারণে\n",
      "generated: parametric answer:পৃথিবীর মধ্যাকর্ষণ শক্তির কারণে বায়ুমণ্ডল গ্যাসের আস্তরণ পৃথিবীর চারদিকে আবদ্ধ থাকে।\n",
      "contextual answer: বস্তুটির অভিকর্ষের কারণে এই গ্যাসপুঞ্জ তার চারদিকে আবদ্ধ থাকে।\n"
     ]
    },
    {
     "name": "stderr",
     "output_type": "stream",
     "text": [
      "Processing rows:  84%|██████████████████████████████████████████████████▋         | 625/740 [1:50:34<21:43, 11.33s/row]"
     ]
    },
    {
     "name": "stdout",
     "output_type": "stream",
     "text": [
      "Target: parametric answer: মধ্যাকর্ষণ শক্তি দ্বারা\n",
      "contextual answer: মধ্যাকর্ষণ শক্তি দ্বারা\n",
      "generated: parametric answer:মধ্যাকর্ষণ শক্তি\n",
      "contextual answer: মধ্যাকর্ষণ শক্তি\n"
     ]
    },
    {
     "name": "stderr",
     "output_type": "stream",
     "text": [
      "Processing rows:  85%|██████████████████████████████████████████████████▊         | 627/740 [1:50:48<18:53, 10.03s/row]"
     ]
    },
    {
     "name": "stdout",
     "output_type": "stream",
     "text": [
      "Target: parametric answer: ১০১.৩২৫\n",
      "contextual answer: ১০১.৩২৫\n",
      "generated: parametric answer:১০১.৩২৫ কিলো প্যাসকেল\n",
      "contextual answer: ১০১.৩২৫ কিলো প্যাসকেল\n"
     ]
    },
    {
     "name": "stderr",
     "output_type": "stream",
     "text": [
      "Processing rows:  85%|██████████████████████████████████████████████████▉         | 628/740 [1:51:03<21:04, 11.29s/row]"
     ]
    },
    {
     "name": "stdout",
     "output_type": "stream",
     "text": [
      "Target: parametric answer: পূর্ব পাকিস্তানের বৃহত্তম রাজনৈতিক দল আওয়ামী লীগ\n",
      "contextual answer: পূর্ব পাকিস্তানের বৃহত্তম রাজনৈতিক দল আওয়ামী লীগ\n",
      "generated: parametric answer:আওয়ামী লীগ।\n",
      "contextual answer: আওয়ামী লীগ।\n"
     ]
    },
    {
     "name": "stderr",
     "output_type": "stream",
     "text": [
      "Processing rows:  85%|███████████████████████████████████████████████████         | 629/740 [1:51:17<22:31, 12.18s/row]"
     ]
    },
    {
     "name": "stdout",
     "output_type": "stream",
     "text": [
      "Target: parametric answer: ১৬৭টি\n",
      "contextual answer: ১৬৭টি\n",
      "generated: parametric answer:১৬৭টি\n",
      "contextual answer: ১৬৭টি\n"
     ]
    },
    {
     "name": "stderr",
     "output_type": "stream",
     "text": [
      "Processing rows:  85%|███████████████████████████████████████████████████         | 630/740 [1:51:33<24:20, 13.28s/row]"
     ]
    },
    {
     "name": "stdout",
     "output_type": "stream",
     "text": [
      "Target: parametric answer: পাকিস্তান পিপলস‌ পার্টি\n",
      "contextual answer: পাকিস্তান পিপলস‌ পার্টি\n",
      "generated: parametric answer:পাকিস্তান পিপলস‌ পার্টি\n",
      "contextual answer: পাকিস্তান পিপলস‌ পার্টি\n"
     ]
    },
    {
     "name": "stderr",
     "output_type": "stream",
     "text": [
      "Processing rows:  85%|███████████████████████████████████████████████████▏        | 631/740 [1:51:47<24:38, 13.56s/row]"
     ]
    },
    {
     "name": "stdout",
     "output_type": "stream",
     "text": [
      "Target: parametric answer: যে \"রুশম্যান\" এজেন্ট নাতাশা রোমানফ এবং হাওয়ার্ড স্টার্ক একজন এস.এইচ.আই.ই.এল.ডি. প্রতিষ্ঠাতা যাকে ফিউরি ব্যক্তিগতভাবে জানতেন\n",
      "contextual answer: যে \"রুশম্যান\" এজেন্ট নাতাশা রোমানফ এবং হাওয়ার্ড স্টার্ক একজন এস.এইচ.আই.ই.এল.ডি. প্রতিষ্ঠাতা যাকে ফিউরি ব্যক্তিগতভাবে জানতেন\n",
      "generated: parametric answer:এস.এইচ.আই.এল.ডি.-র পরিচালক নিক ফিউরি টনি স্টার্কের কাছে উপস্থিত হয়ে কী প্রকাশ করেছেন তা আমার জ্ঞানের ভিত্তিতে নির্দিষ্ট কোনো তথ্য নেই।\n",
      "contextual answer: এস.এইচ.আই.ই.এল.ডি.-র পরিচালক নিক ফিউরি স্টার্কের কাছে উপস্থিত হয়ে প্রকাশ করেছেন যে \"রুশম্যান\" এজেন্ট নাতাশা রোমানফ এবং হাওয়ার্ড স্টার্ক একজন এস.এইচ.আই.ই.এল.ডি. প্রতিষ্ঠাতা যাকে ফিউরি ব্যক্তিগতভাবে জানতেন।\n"
     ]
    },
    {
     "name": "stderr",
     "output_type": "stream",
     "text": [
      "Processing rows:  86%|███████████████████████████████████████████████████▍        | 635/740 [1:52:05<18:58, 10.84s/row]"
     ]
    },
    {
     "name": "stdout",
     "output_type": "stream",
     "text": [
      "Target: parametric answer: ভানকোর বাবা এবং স্টার্ক\n",
      "contextual answer: ভানকোর বাবা এবং স্টার্ক\n",
      "generated: parametric answer:অর্ক চুল্লির আবিষ্কারক সম্পর্কে আমার জ্ঞান ভান্ডারে কোনো তথ্য নেই।\n",
      "contextual answer: ভানকোর বাবা এবং স্টার্ক।\n"
     ]
    },
    {
     "name": "stderr",
     "output_type": "stream",
     "text": [
      "Processing rows:  86%|███████████████████████████████████████████████████▌        | 636/740 [1:52:20<20:53, 12.05s/row]"
     ]
    },
    {
     "name": "stdout",
     "output_type": "stream",
     "text": [
      "Target: parametric answer: গুলাগে\n",
      "contextual answer: গুলাগে\n",
      "generated: parametric answer:গুলাগে\n",
      "contextual answer: গুলাগে\n"
     ]
    },
    {
     "name": "stderr",
     "output_type": "stream",
     "text": [
      "Processing rows:  86%|███████████████████████████████████████████████████▋        | 637/740 [1:52:35<22:11, 12.93s/row]"
     ]
    },
    {
     "name": "stdout",
     "output_type": "stream",
     "text": [
      "Target: parametric answer: মার্কিন\n",
      "contextual answer: মার্কিন\n",
      "generated: parametric answer:মার্কিন\n",
      "contextual answer: মার্কিন\n"
     ]
    },
    {
     "name": "stderr",
     "output_type": "stream",
     "text": [
      "Processing rows:  86%|███████████████████████████████████████████████████▊        | 639/740 [1:52:51<19:28, 11.57s/row]"
     ]
    },
    {
     "name": "stdout",
     "output_type": "stream",
     "text": [
      "Target: parametric answer: ২০০৬\n",
      "contextual answer: ২০০৬\n",
      "generated: parametric answer:২০০৬ সালে\n",
      "contextual answer: ২০০৬ সালে\n"
     ]
    },
    {
     "name": "stderr",
     "output_type": "stream",
     "text": [
      "Processing rows:  86%|███████████████████████████████████████████████████▉        | 640/740 [1:53:06<20:31, 12.32s/row]"
     ]
    },
    {
     "name": "stdout",
     "output_type": "stream",
     "text": [
      "Target: parametric answer: অর্থনীতিতে\n",
      "contextual answer: অর্থনীতিতে\n",
      "generated: parametric answer:অর্থনীতিতে\n",
      "contextual answer: অর্থনীতিতে\n"
     ]
    },
    {
     "name": "stderr",
     "output_type": "stream",
     "text": [
      "Processing rows:  87%|███████████████████████████████████████████████████▉        | 641/740 [1:53:20<21:08, 12.81s/row]"
     ]
    },
    {
     "name": "stdout",
     "output_type": "stream",
     "text": [
      "Target: parametric answer: কলাম্বিয়া বিশ্ববিদ্যালয়; পেন্সিলভেনিয়া বিশ্ববিদ্যালয়\n",
      "contextual answer: কলাম্বিয়া বিশ্ববিদ্যালয়; পেন্সিলভেনিয়া বিশ্ববিদ্যালয়\n",
      "generated: parametric answer:পেন্সিলভেনিয়া বিশ্ববিদ্যালয় এবং কলাম্বিয়া বিশ্ববিদ্যালয়।\n",
      "contextual answer: পেন্সিলভেনিয়া বিশ্ববিদ্যালয় এবং কলাম্বিয়া বিশ্ববিদ্যালয়।\n"
     ]
    },
    {
     "name": "stderr",
     "output_type": "stream",
     "text": [
      "Processing rows:  87%|████████████████████████████████████████████████████        | 642/740 [1:53:33<21:26, 13.12s/row]"
     ]
    },
    {
     "name": "stdout",
     "output_type": "stream",
     "text": [
      "Target: parametric answer: আজকাবান থেকে\n",
      "contextual answer: আজকাবান থেকে\n",
      "generated: parametric answer:আজকাবান থেকে\n",
      "contextual answer: আজকাবান থেকে\n"
     ]
    },
    {
     "name": "stderr",
     "output_type": "stream",
     "text": [
      "Processing rows:  87%|████████████████████████████████████████████████████▏       | 644/740 [1:53:47<18:03, 11.29s/row]"
     ]
    },
    {
     "name": "stdout",
     "output_type": "stream",
     "text": [
      "Target: parametric answer: ডিমেন্টরদের\n",
      "contextual answer: ডিমেন্টরদের\n",
      "generated: parametric answer:ডিমেন্টরদের\n",
      "contextual answer: ডিমেন্টরদের\n"
     ]
    },
    {
     "name": "stderr",
     "output_type": "stream",
     "text": [
      "Processing rows:  87%|████████████████████████████████████████████████████▎       | 645/740 [1:54:01<19:09, 12.10s/row]"
     ]
    },
    {
     "name": "stdout",
     "output_type": "stream",
     "text": [
      "Target: parametric answer: তার মন্ত্রক-অনুমোদিত টাইম-টার্নারটি ব্যবহার করে তিন ঘণ্টা সময় পিছিয়ে গিয়ে\n",
      "contextual answer: তার মন্ত্রক-অনুমোদিত টাইম-টার্নারটি ব্যবহার করে তিন ঘণ্টা সময় পিছিয়ে গিয়ে\n",
      "generated: parametric answer:হারমায়োনি গ্রেঞ্জার টাইম-টার্নার ব্যবহার করে অতীতে ফিরে যান এবং হিপোগ্রিফ বাকবিক ও সিরিয়াসকে তাদের অন্যায় মৃত্যুদণ্ডাজ্ঞার হাত থেকে উদ্ধার করতে সাহায্য করেন।\n",
      "contextual answer: ডাম্বলডোর হারমায়োনিকে তার মন্ত্রক-অনুমোদিত টাইম-টার্নারটি ব্যবহার করে তিন ঘণ্টা সময় পিছিয়ে গিয়ে হিপোগ্রিফ বাকবিক ও সিরিয়াসকে তাদের অন্যায় মৃত্যুদণ্ডাজ্ঞার হাত থেকে উদ্ধার করতে বলেন।\n"
     ]
    },
    {
     "name": "stderr",
     "output_type": "stream",
     "text": [
      "Processing rows:  87%|████████████████████████████████████████████████████▍       | 647/740 [1:54:19<17:10, 11.08s/row]"
     ]
    },
    {
     "name": "stdout",
     "output_type": "stream",
     "text": [
      "Target: parametric answer: শহরাঞ্চলে প্রচলিত উচ্চক্ষমতাসম্পন্ন ও দ্রুতগামী বৈদ্যুতিক যাত্রীবাহী রেলব্যবস্থাকে বোঝায়\n",
      "contextual answer: শহরাঞ্চলে প্রচলিত উচ্চক্ষমতাসম্পন্ন ও দ্রুতগামী বৈদ্যুতিক যাত্রীবাহী রেলব্যবস্থাকে বোঝায়\n",
      "generated: parametric answer:দ্রুতগামী গণপরিবহন ব্যবস্থা বলতে উচ্চক্ষমতাসম্পন্ন এবং নির্দিষ্ট পথে ও সময়সূচী অনুসারে চলমান জনপরিবহন ব্যবস্থাকে বোঝায়, যেমন মেট্রো, লাইট রেল বা সাবওয়ে।\n",
      "contextual answer: দ্রুতগামী গণপরিবহন ব্যবস্থা বলতে মূলত শহরাঞ্চলে প্রচলিত উচ্চক্ষমতাসম্পন্ন ও দ্রুতগামী বৈদ্যুতিক যাত্রীবাহী রেলব্যবস্থাকে বোঝায়।\n"
     ]
    },
    {
     "name": "stderr",
     "output_type": "stream",
     "text": [
      "Processing rows:  88%|████████████████████████████████████████████████████▌       | 648/740 [1:54:36<19:44, 12.87s/row]"
     ]
    },
    {
     "name": "stdout",
     "output_type": "stream",
     "text": [
      "Target: parametric answer: স্তর-পৃথকীকৃত ভূসমতলস্থিত\n",
      "contextual answer: স্তর-পৃথকীকৃত ভূসমতলস্থিত\n",
      "generated: parametric answer:স্তর-পৃথকীকৃত পথে, যা ভূমি সমতলে, ভূগর্ভস্থ বা উঁচু স্তরে হতে পারে।\n",
      "contextual answer: স্তর-পৃথকীকৃত ভূসমতলস্থিত পথের উপর\n"
     ]
    },
    {
     "name": "stderr",
     "output_type": "stream",
     "text": [
      "Processing rows:  88%|████████████████████████████████████████████████████▌       | 649/740 [1:54:54<21:42, 14.31s/row]"
     ]
    },
    {
     "name": "stdout",
     "output_type": "stream",
     "text": [
      "Target: parametric answer: সাধারণ রেলগাড়ি; গাড়ি; বাস; ট্রাম\n",
      "contextual answer: সাধারণ রেলগাড়ি; গাড়ি; বাস; ট্রাম\n",
      "generated: parametric answer:সড়ক যানবাহন, সাধারণ রেলগাড়ি, বাস, ট্রাম এবং অন্যান্য ধরনের যানবাহন।\n",
      "contextual answer: সাধারণ রেলগাড়ি, গাড়ি, বাস, ট্রাম ইত্যাদি।\n"
     ]
    },
    {
     "name": "stderr",
     "output_type": "stream",
     "text": [
      "Processing rows:  88%|████████████████████████████████████████████████████▋       | 650/740 [1:55:09<21:58, 14.65s/row]"
     ]
    },
    {
     "name": "stdout",
     "output_type": "stream",
     "text": [
      "Target: parametric answer: শহরের বাইরে\n",
      "contextual answer: শহরের বাইরে\n",
      "generated: parametric answer:সড়কপথের সমতলে\n",
      "contextual answer: সড়কপথের সমতলে\n"
     ]
    },
    {
     "name": "stderr",
     "output_type": "stream",
     "text": [
      "Processing rows:  88%|████████████████████████████████████████████████████▊       | 651/740 [1:55:23<21:22, 14.41s/row]"
     ]
    },
    {
     "name": "stdout",
     "output_type": "stream",
     "text": [
      "Target: parametric answer: শেষ তুষারযুগে বিভিন্ন শীতসহিষ্ণু উদ্ভিদ এবং প্রাণী প্রজাতি (যেমন নরওয়ে স্প্রুস এবং নরওয়েজিয়ান লেমিংস) ইউরোপের আল্পসের উত্তরে বরফ-মুক্ত মাইক্রোরেফুজিয়াতে উপস্থিত ছিল\n",
      "contextual answer: শেষ তুষারযুগে বিভিন্ন শীতসহিষ্ণু উদ্ভিদ এবং প্রাণী প্রজাতি (যেমন নরওয়ে স্প্রুস এবং নরওয়েজিয়ান লেমিংস) ইউরোপের আল্পসের উত্তরে বরফ-মুক্ত মাইক্রোরেফুজিয়াতে উপস্থিত ছিল\n",
      "generated: parametric answer:হিমবাহ উদ্বর্তন অনুকল্প অনুসারে, কিছু উদ্ভিদ এবং প্রাণী প্রজাতি হিমবাহের সময় বেঁচে থাকতে পারে এবং এমনকি বরফ শীটের প্রান্তে বিচ্ছিন্ন উত্তরাঞ্চলীয় কোনো বরফ-মুক্ত যায়গায় বা বরফ শীটের অভ্যন্তরে বরফ দ্বারা আবৃত উন্মুক্ত পর\n",
      "contextual answer: শেষ তুষারযুগে বিভিন্ন শীতসহিষ্ণু উদ্ভিদ এবং প্রাণী প্রজাতি ইউরোপের আল্পসের উত্তরে বরফ-মুক্ত মাইক্রোরেফুজিয়াতে উপস্থিত ছিল বলে ধারণা করা হয়।\n"
     ]
    },
    {
     "name": "stderr",
     "output_type": "stream",
     "text": [
      "Processing rows:  88%|████████████████████████████████████████████████████▉       | 653/740 [1:55:37<17:40, 12.19s/row]"
     ]
    },
    {
     "name": "stdout",
     "output_type": "stream",
     "text": [
      "Target: parametric answer: তুষারাবৃত অঞ্চলগুলোতে সব প্রজাতি বিলুপ্ত হয়েছিলো এবং দক্ষিণে সীমান্তবর্তী রেফুজিয়াতে যারা বেচে ছিলো যারা তুষার যুগের পর খালি অঞ্চলগুলোতে স্থানান্তরিত হয়েছিলো\n",
      "contextual answer: তুষারাবৃত অঞ্চলগুলোতে সব প্রজাতি বিলুপ্ত হয়েছিলো এবং দক্ষিণে সীমান্তবর্তী রেফুজিয়াতে যারা বেচে ছিলো যারা তুষার যুগের পর খালি অঞ্চলগুলোতে স্থানান্তরিত হয়েছিলো\n",
      "generated: parametric answer:ট্যাবুলা রাসা হাইপোথিসিস হল একটি বৈজ্ঞানিক তত্ত্ব যা বলে যে শেষ তুষারযুগের সময়, শীতসহিষ্ণু উদ্ভিদ এবং প্রাণী প্রজাতিগুলি দক্ষিণে অবস্থিত রেফুজিয\n",
      "contextual answer: ট্যাবুলা রাসা হাইপোথিসিস হল একটি হাইপোথিসিস যা বলে যে শেষ তুষারযুগের সময়, শীতসহিষ্ণু উদ্ভিদ এবং প্রাণী প্রজাতিগুলি দক্ষিণে অবস্থিত রেফুজিয়াতে বেঁচে ছিল এবং তুষারযুগের পরে খালি অঞ্চলগুলিতে স্থানান্তরিত হয়েছিল।\n"
     ]
    },
    {
     "name": "stderr",
     "output_type": "stream",
     "text": [
      "Processing rows:  89%|█████████████████████████████████████████████████████       | 655/740 [1:55:57<16:24, 11.58s/row]"
     ]
    },
    {
     "name": "stdout",
     "output_type": "stream",
     "text": [
      "Target: parametric answer: ১.৫ ভোল্টের নামমাত্র ভোল্টেজ\n",
      "contextual answer: ১.৫ ভোল্টের নামমাত্র ভোল্টেজ\n",
      "generated: parametric answer:১.৫ ভোল্ট\n",
      "contextual answer: ১.৫ ভোল্ট\n"
     ]
    },
    {
     "name": "stderr",
     "output_type": "stream",
     "text": [
      "Processing rows:  89%|█████████████████████████████████████████████████████▎      | 658/740 [1:56:13<13:17,  9.72s/row]"
     ]
    },
    {
     "name": "stdout",
     "output_type": "stream",
     "text": [
      "Target: parametric answer: অ্যামোনিয়াম ক্লোরাইড; ম্যাঙ্গানিজ ডাই অক্সাইড সমন্বিত অন্য একটি পেস্ট\n",
      "contextual answer: অ্যামোনিয়াম ক্লোরাইড; ম্যাঙ্গানিজ ডাই অক্সাইড সমন্বিত অন্য একটি পেস্ট\n",
      "generated: parametric answer:অ্যামোনিয়াম ক্লোরাইড এবং ম্যাঙ্গান\n",
      "contextual answer: অ্যামোনিয়াম ক্লোরাইড এবং ম্যাঙ্গানিজ ডাই অক্সাইড সমন্বিত অন্য একটি পেস্ট দ্বারা।\n"
     ]
    },
    {
     "name": "stderr",
     "output_type": "stream",
     "text": [
      "Processing rows:  89%|█████████████████████████████████████████████████████▍      | 659/740 [1:56:30<15:47, 11.69s/row]"
     ]
    },
    {
     "name": "stdout",
     "output_type": "stream",
     "text": [
      "Target: parametric answer: সাধারণত নলাকার পাত্রের আকারের একটি দস্তা অ্যানোড; একটি কেন্দ্রীয় দণ্ড আকারের কার্বন ক্যাথোড\n",
      "contextual answer: সাধারণত নলাকার পাত্রের আকারের একটি দস্তা অ্যানোড; একটি কেন্দ্রীয় দণ্ড আকারের কার্বন ক্যাথোড\n",
      "generated: parametric answer:একটি মানসম্পন্ন শুষ্ক কোষে দস্তা অ্যানোড এবং কার্বন ক্যাথোড ব্যবহার করা হয়।\n",
      "contextual answer: একটি মানসম্পন্ন শুষ্ক কোষে দস্তা অ্যানোড এবং কার্বন ক্যাথোড ব্যবহার করা হয়।\n"
     ]
    },
    {
     "name": "stderr",
     "output_type": "stream",
     "text": [
      "Processing rows:  89%|█████████████████████████████████████████████████████▌      | 660/740 [1:56:44<16:30, 12.38s/row]"
     ]
    },
    {
     "name": "stdout",
     "output_type": "stream",
     "text": [
      "Target: parametric answer: বই; ডিভিডি; ভিডিও টিউটোরিয়াল; ক্রীড়া সামগ্রী; অন্য রকম বিজ্ঞান বাক্স (বিজ্ঞান পরীক্ষণের কিট); ক্যালকুলেটর; ঘড়ি; পেনড্রাইভ; কম্পিউটারের নানাবিধ যন্ত্রাংশসহ বিভিন্ন পণ্য\n",
      "contextual answer: বই; ডিভিডি; ভিডিও টিউটোরিয়াল; ক্রীড়া সামগ্রী; অন্য রকম বিজ্ঞান বাক্স (বিজ্ঞান পরীক্ষণের কিট); ক্যালকুলেটর; ঘড়ি; পেনড্রাইভ; কম্পিউটারের নানাবিধ যন্ত্রাংশসহ বিভিন্ন পণ্য\n",
      "generated: parametric answer:রকমারিতে ইলেকট্রনিক্স, ফ্যাশন পণ্য, হোম এবং কিচেন সামগ্রী, বই, খেলনা এবং আরও অনেক ধরনের পণ্য পাওয়া যায়।\n",
      "contextual answer: রকমারিতে বই, ডিভিডি, ভিডিও টিউটোরিয়াল, ক্রীড়া সামগ্রী, বিজ্ঞান বাক্স, ক্যালকুলেটর, ঘড়ি, পেনড্রাইভ, কম্পিউটারের যন্ত্রাংশ এবং অন্যান্য পণ্য পাওয়া যায়।\n"
     ]
    },
    {
     "name": "stderr",
     "output_type": "stream",
     "text": [
      "Processing rows:  90%|█████████████████████████████████████████████████████▊      | 663/740 [1:56:58<13:01, 10.15s/row]"
     ]
    },
    {
     "name": "stdout",
     "output_type": "stream",
     "text": [
      "Target: parametric answer: আবুল হাসান লিটন; এহতেশামুল শামস রাকিব; জুবায়ের বিন আমিন; মোঃ খায়রুল আনাম\n",
      "contextual answer: আবুল হাসান লিটন; এহতেশামুল শামস রাকিব; জুবায়ের বিন আমিন; মোঃ খায়রুল আনাম\n",
      "generated: parametric answer:রকমারি.কম এর প্রতিষ্ঠাতাদের সম্পর্কে আমার কাছে কোনো তথ্য নেই।\n",
      "contextual answer: মাহমুদুল হাসান সোহাগ, আবুল হাসান লিটন, এহতেশামুল শামস রাকিব, জুবায়ের বিন আমিন এবং মোঃ খায়রুল আনাম।\n"
     ]
    },
    {
     "name": "stderr",
     "output_type": "stream",
     "text": [
      "Processing rows:  90%|█████████████████████████████████████████████████████▊      | 664/740 [1:57:15<15:14, 12.04s/row]"
     ]
    },
    {
     "name": "stdout",
     "output_type": "stream",
     "text": [
      "Target: parametric answer: ই-বাণিজ্য সাইট\n",
      "contextual answer: ই-বাণিজ্য সাইট\n",
      "generated: parametric answer:রকমারি.কম একটি ই-কমার্স সাইট।\n",
      "contextual answer: রকমারি.কম একটি অনলাইনভিত্তিক পণ্য কেনার ওয়েবসাইট।\n"
     ]
    },
    {
     "name": "stderr",
     "output_type": "stream",
     "text": [
      "Processing rows:  90%|█████████████████████████████████████████████████████▉      | 665/740 [1:57:34<17:32, 14.04s/row]"
     ]
    },
    {
     "name": "stdout",
     "output_type": "stream",
     "text": [
      "Target: parametric answer: ২০১২\n",
      "contextual answer: ২০১২\n",
      "generated: parametric answer:২০১২ সালে\n",
      "contextual answer: ২০১২ সালে\n"
     ]
    },
    {
     "name": "stderr",
     "output_type": "stream",
     "text": [
      "Processing rows:  90%|██████████████████████████████████████████████████████      | 667/740 [1:57:48<14:30, 11.93s/row]"
     ]
    },
    {
     "name": "stdout",
     "output_type": "stream",
     "text": [
      "Target: parametric answer: মুঘল সম্রাট হুমায়ুন\n",
      "contextual answer: মুঘল সম্রাট হুমায়ুন\n",
      "generated: parametric answer:মুঘল সম্রাট হুমায়ুন\n",
      "contextual answer: মুঘল সম্রাট হুমায়ুন\n"
     ]
    },
    {
     "name": "stderr",
     "output_type": "stream",
     "text": [
      "Processing rows:  90%|██████████████████████████████████████████████████████▏     | 668/740 [1:58:01<15:00, 12.51s/row]"
     ]
    },
    {
     "name": "stdout",
     "output_type": "stream",
     "text": [
      "Target: parametric answer: মুঘলদের\n",
      "contextual answer: মুঘলদের\n",
      "generated: parametric answer:মুঘল সম্রাটদের\n",
      "contextual answer: মুঘলদের\n"
     ]
    },
    {
     "name": "stderr",
     "output_type": "stream",
     "text": [
      "Processing rows:  90%|██████████████████████████████████████████████████████▏     | 669/740 [1:58:15<15:16, 12.91s/row]"
     ]
    },
    {
     "name": "stdout",
     "output_type": "stream",
     "text": [
      "Target: parametric answer: চারটি\n",
      "contextual answer: চারটি\n",
      "generated: parametric answer:চারটি\n",
      "contextual answer: চারটি\n"
     ]
    },
    {
     "name": "stderr",
     "output_type": "stream",
     "text": [
      "Processing rows:  91%|██████████████████████████████████████████████████████▎     | 670/740 [1:58:31<16:03, 13.76s/row]"
     ]
    },
    {
     "name": "stdout",
     "output_type": "stream",
     "text": [
      "Target: parametric answer: আবদুল গফুর জনসাধারণের সাথে তার খাবার ভাগ করে নেওয়ার অনুমতি পান\n",
      "contextual answer: আবদুল গফুর জনসাধারণের সাথে তার খাবার ভাগ করে নেওয়ার অনুমতি পান\n",
      "generated: parametric answer:আবদুল গফুর সম্ভবত একটি দোকান খোলার জন্য প্রয়োজনীয় অনুমতি এবং লাইসেন্স পেয়েছিলেন এবং তারপর সেখানে একটি দোকান স্থাপন করেছিলেন।\n",
      "contextual answer: আবদুল গফুর ১৮৩৫ সালে জনসাধারণের সাথে তার খাবার ভাগ করে নেওয়ার অনুমতি পান এবং ভারতের চাঁদনী চকের ঘন্টা ঘর এলাকায় একটি দোকান খোলেন।\n"
     ]
    },
    {
     "name": "stderr",
     "output_type": "stream",
     "text": [
      "Processing rows:  91%|██████████████████████████████████████████████████████▍     | 671/740 [1:58:49<17:22, 15.10s/row]"
     ]
    },
    {
     "name": "stdout",
     "output_type": "stream",
     "text": [
      "Target: parametric answer: না\n",
      "contextual answer: না\n",
      "generated: parametric answer:None\n",
      "contextual answer: None\n"
     ]
    },
    {
     "name": "stderr",
     "output_type": "stream",
     "text": [
      "Processing rows:  91%|██████████████████████████████████████████████████████▋     | 674/740 [1:59:05<13:22, 12.15s/row]"
     ]
    },
    {
     "name": "stdout",
     "output_type": "stream",
     "text": [
      "Target: parametric answer: মালয়েশিয়া; অস্ট্রেলিয়া; বাংলাদেশ; ব্রুনাই,; চীন; ভারত; ইন্দোনেশিয়া; জাপান; নিউজিল্যান্ড; ফিলিপাইন; সিঙ্গাপুর; দক্ষিণ কোরিয়া; তাইওয়ান; থাইল্যান্ড; যুক্তরাষ্ট্র; ভিয়েতনাম\n",
      "contextual answer: মালয়েশিয়া; অস্ট্রেলিয়া; বাংলাদেশ; ব্রুনাই,; চীন; ভারত; ইন্দোনেশিয়া; জাপান; নিউজিল্যান্ড; ফিলিপাইন; সিঙ্গাপুর; দক্ষিণ কোরিয়া; তাইওয়ান; থাইল্যান্ড; যুক্তরাষ্ট্র; ভিয়েতনাম\n",
      "generated: parametric answer:None\n",
      "contextual answer: None\n"
     ]
    },
    {
     "name": "stderr",
     "output_type": "stream",
     "text": [
      "Processing rows:  91%|██████████████████████████████████████████████████████▋     | 675/740 [1:59:30<17:18, 15.97s/row]"
     ]
    },
    {
     "name": "stdout",
     "output_type": "stream",
     "text": [
      "Target: parametric answer: রয়াল থাই নৌবাহিনী মালয়েশিয়ার পক্ষ থেকে অনুরোধ পেয়ে\n",
      "contextual answer: রয়াল থাই নৌবাহিনী মালয়েশিয়ার পক্ষ থেকে অনুরোধ পেয়ে\n",
      "generated: parametric answer:None\n",
      "contextual answer: None\n"
     ]
    },
    {
     "name": "stderr",
     "output_type": "stream",
     "text": [
      "Processing rows:  91%|██████████████████████████████████████████████████████▉     | 677/740 [1:59:45<14:03, 13.39s/row]"
     ]
    },
    {
     "name": "stdout",
     "output_type": "stream",
     "text": [
      "Target: parametric answer: ১৯৭৭\n",
      "contextual answer: ১৯৭৭\n",
      "generated: parametric answer:১৯৭৭ সালে\n",
      "contextual answer: ১৯৭৭ সালে\n"
     ]
    },
    {
     "name": "stderr",
     "output_type": "stream",
     "text": [
      "Processing rows:  92%|██████████████████████████████████████████████████████▉     | 678/740 [1:59:59<14:01, 13.58s/row]"
     ]
    },
    {
     "name": "stdout",
     "output_type": "stream",
     "text": [
      "Target: parametric answer: সংরক্ষণশীল দলগুলোর সমালোচনা এবং শিক্ষা প্রতিষ্ঠানগুলোতে থাকা নারীদের মধ্যে বিদ্যমান সাদা বর্ণের অস্তিত্ববাদী এবং বিপরীত লিঙ্গের জন্য ভিন্ন ভিন্ন সূবিধার বিষয়গুলো নিয়ে নারী আন্দোলনের সাথে জড়িত নারীদের উদ্বিগ্নতার কারণে\n",
      "contextual answer: সংরক্ষণশীল দলগুলোর সমালোচনা এবং শিক্ষা প্রতিষ্ঠানগুলোতে থাকা নারীদের মধ্যে বিদ্যমান সাদা বর্ণের অস্তিত্ববাদী এবং বিপরীত লিঙ্গের জন্য ভিন্ন ভিন্ন সূবিধার বিষয়গুলো নিয়ে নারী আন্দোলনের সাথে জড়িত নারীদের উদ্বিগ্নতার কারণে\n",
      "generated: parametric answer:None\n",
      "contextual answer: None\n"
     ]
    },
    {
     "name": "stderr",
     "output_type": "stream",
     "text": [
      "Processing rows:  92%|███████████████████████████████████████████████████████     | 679/740 [2:00:15<14:44, 14.50s/row]"
     ]
    },
    {
     "name": "stdout",
     "output_type": "stream",
     "text": [
      "Target: parametric answer: “নারী” -এর ধারণা বর্ধিত হতে থাকায়, লিঙ্গের সামাজিক গঠন আবিষ্কারের ফলে\n",
      "contextual answer: “নারী” -এর ধারণা বর্ধিত হতে থাকায়, লিঙ্গের সামাজিক গঠন আবিষ্কারের ফলে\n",
      "generated: parametric answer:যখন \"নারী\" এর ধারণা বৃদ্ধি পেয়েছিল এবং লিঙ্গের সামাজিক গঠন আবিষ্কার করা হয়েছিল।\n",
      "contextual answer: নারীবাদী আন্দোলন এবং নারী বিদ্যার বিকাশ এই অধ্যায়নগুলোর শুরুতে গুরুত্বপূর্ণ ভূমিকা পালন করেছে।\n"
     ]
    },
    {
     "name": "stderr",
     "output_type": "stream",
     "text": [
      "Processing rows:  92%|███████████████████████████████████████████████████████▏    | 680/740 [2:00:33<15:29, 15.49s/row]"
     ]
    },
    {
     "name": "stdout",
     "output_type": "stream",
     "text": [
      "Target: parametric answer: অধ্যাপকের বিকেন্দ্রীকরণ\n",
      "contextual answer: অধ্যাপকের বিকেন্দ্রীকরণ\n",
      "generated: parametric answer:অধ্যাপকের বিকেন্দ্রীকরণ\n",
      "contextual answer: অধ্যাপকের বিকেন্দ্রীকরণ\n"
     ]
    },
    {
     "name": "stderr",
     "output_type": "stream",
     "text": [
      "Processing rows:  92%|███████████████████████████████████████████████████████▍    | 683/740 [2:00:47<11:37, 12.24s/row]"
     ]
    },
    {
     "name": "stdout",
     "output_type": "stream",
     "text": [
      "Target: parametric answer: মিডিয়া সাক্ষরতা; যৌনতা, জাতি এবং জাতিগত বিষয়; মহিলাদের জড়িত ইতিহাস; কৌতুক তত্ত্ব; বহুসংস্কৃতিবাদ \n",
      "contextual answer: মিডিয়া সাক্ষরতা; যৌনতা, জাতি এবং জাতিগত বিষয়; মহিলাদের জড়িত ইতিহাস; কৌতুক তত্ত্ব; বহুসংস্কৃতিবাদ \n",
      "generated: parametric answer:None\n",
      "contextual answer: None\n"
     ]
    },
    {
     "name": "stderr",
     "output_type": "stream",
     "text": [
      "Processing rows:  92%|███████████████████████████████████████████████████████▍    | 684/740 [2:01:03<12:23, 13.28s/row]"
     ]
    },
    {
     "name": "stdout",
     "output_type": "stream",
     "text": [
      "Target: parametric answer: সামাজিক পরিবর্তন আনার এবং সমাজে বিদ্যুতের বৈষম্য সম্পর্কে কিছু করার জন্য\n",
      "contextual answer: সামাজিক পরিবর্তন আনার এবং সমাজে বিদ্যুতের বৈষম্য সম্পর্কে কিছু করার জন্য\n",
      "generated: parametric answer:None\n",
      "contextual answer: সামাজিক পর\n"
     ]
    },
    {
     "name": "stderr",
     "output_type": "stream",
     "text": [
      "Processing rows:  93%|███████████████████████████████████████████████████████▌    | 685/740 [2:01:18<12:42, 13.86s/row]"
     ]
    },
    {
     "name": "stdout",
     "output_type": "stream",
     "text": [
      "Target: parametric answer: কোকো\n",
      "contextual answer: কোকো\n",
      "generated: parametric answer:কোকো\n",
      "contextual answer: কোকো\n"
     ]
    },
    {
     "name": "stderr",
     "output_type": "stream",
     "text": [
      "Processing rows:  93%|███████████████████████████████████████████████████████▊    | 688/740 [2:01:32<09:38, 11.12s/row]"
     ]
    },
    {
     "name": "stdout",
     "output_type": "stream",
     "text": [
      "Target: parametric answer: সেপ্টেম্বর ২০০১\n",
      "contextual answer: সেপ্টেম্বর ২০০১\n",
      "generated: parametric answer:২০০১ সালের সেপ্টেম্বরে\n",
      "contextual answer: সেপ্টেম্বর ২০০১\n"
     ]
    },
    {
     "name": "stderr",
     "output_type": "stream",
     "text": [
      "Processing rows:  93%|███████████████████████████████████████████████████████▊    | 689/740 [2:01:47<10:26, 12.28s/row]"
     ]
    },
    {
     "name": "stdout",
     "output_type": "stream",
     "text": [
      "Target: parametric answer: না\n",
      "contextual answer: না\n",
      "generated: parametric answer:না, আইভরি কোস্টের শিশুশ্রম কমানোর অঙ্গীকার পূরণ হয়নি।\n",
      "contextual answer: না, আইভরি কোস্টের শিশুশ্রম কমানোর অঙ্গীকার পূরণ হয়নি।\n"
     ]
    },
    {
     "name": "stderr",
     "output_type": "stream",
     "text": [
      "Processing rows:  93%|███████████████████████████████████████████████████████▉    | 690/740 [2:02:01<10:39, 12.78s/row]"
     ]
    },
    {
     "name": "stdout",
     "output_type": "stream",
     "text": [
      "Target: parametric answer: ঢাকা মেট্রোপলিটন পুলিশ স্পেশাল উইপন্স অ্যান্ড ট্যাকটিক্স টিম\n",
      "contextual answer: ঢাকা মেট্রোপলিটন পুলিশ স্পেশাল উইপন্স অ্যান্ড ট্যাকটিক্স টিম\n",
      "generated: parametric answer:সোয়াট হলো বিশেষ অস্ত্র ও কৌশল ব্যবহারকারী পুলিশের একটি বিশেষ ইউনিট যারা উচ্চ ঝুঁকিপূর্ণ পরিস্থিতিতে অভিজ্ঞ হয়।\n",
      "contextual answer: সোয়াট হলো বিশেষ অস্ত্র ও কৌশল ব্যবহারকারী পুলিশের একটি বিশেষ ইউনিট।\n"
     ]
    },
    {
     "name": "stderr",
     "output_type": "stream",
     "text": [
      "Processing rows:  94%|████████████████████████████████████████████████████████▎   | 694/740 [2:02:21<07:58, 10.40s/row]"
     ]
    },
    {
     "name": "stdout",
     "output_type": "stream",
     "text": [
      "Target: parametric answer: আমেরিকা; দক্ষিণ কোরিয়া; ইরাক\n",
      "contextual answer: আমেরিকা; দক্ষিণ কোরিয়া; ইরাক\n",
      "generated: parametric answer:আমেরিকা, কানাডা, অস্ট্রেলিয়া, যুক্তরাজ্য, জার্মানি, ফ্রান্স, ইতালি, স্পেন, পোল্যান্ড, রাশিয়া, চীন, জাপান, দক্ষিণ কোরিয়া, ইসরায়েল, ভারত, পাকিস্তান, ইন্দোনেশিয়া, মালয়েশিয়া, সিঙ্গাপুর, থাইল্যান্ড, ভিয়েতনাম, ফিলিপাইন, মিশর, দক্ষিণ আফ্রিকা, ব্রাজিল, আর্জেন্টিনা, মেক্সিকো, কলম্বিয়া, পেরু, চিলি, ইকুয়েডর, ইত্যাদি।\n",
      "contextual answer: আমেরিকা, দক্ষিণ কোরিয়া, ইরাক, জাপান, মালয়েশিয়া, ব্রিটেন, ভারত (মুম্বাই), এবং ইন্দোনেশিয়া।\n"
     ]
    },
    {
     "name": "stderr",
     "output_type": "stream",
     "text": [
      "Processing rows:  94%|████████████████████████████████████████████████████████▍   | 696/740 [2:02:40<07:30, 10.23s/row]"
     ]
    },
    {
     "name": "stdout",
     "output_type": "stream",
     "text": [
      "Target: parametric answer: ওইনিবার রাজবংশ; দরভঙ্গা রাজ (খণ্ডবাল)\n",
      "contextual answer: ওইনিবার রাজবংশ; দরভঙ্গা রাজ (খণ্ডবাল)\n",
      "generated: parametric answer:ওইনিবার রাজবংশ, দরভঙ্গা রাজ, এবং অন্যান্য বংশীয় পরিবার।\n",
      "contextual answer: ওইনিবার রাজবংশ এবং দরভঙ্গা রাজ (খণ্ডবাল)\n"
     ]
    },
    {
     "name": "stderr",
     "output_type": "stream",
     "text": [
      "Processing rows:  94%|████████████████████████████████████████████████████████▌   | 698/740 [2:03:03<07:21, 10.52s/row]"
     ]
    },
    {
     "name": "stdout",
     "output_type": "stream",
     "text": [
      "Target: parametric answer: ১৯৬০ এবং ১৯৭০ এর দশকে\n",
      "contextual answer: ১৯৬০ এবং ১৯৭০ এর দশকে\n",
      "generated: parametric answer:১৯৬০ এবং ১৯৭০ এর দশকে\n",
      "contextual answer: ১৯৬০ এবং ১৯৭০ এর দশকে\n"
     ]
    },
    {
     "name": "stderr",
     "output_type": "stream",
     "text": [
      "Processing rows:  94%|████████████████████████████████████████████████████████▋   | 699/740 [2:03:17<08:00, 11.72s/row]"
     ]
    },
    {
     "name": "stdout",
     "output_type": "stream",
     "text": [
      "Target: parametric answer: বিহারে\n",
      "contextual answer: বিহারে\n",
      "generated: parametric answer:বিহারে এবং নেপালের কিছু অংশে\n",
      "contextual answer: বিহারে\n"
     ]
    },
    {
     "name": "stderr",
     "output_type": "stream",
     "text": [
      "Processing rows:  95%|████████████████████████████████████████████████████████▊   | 700/740 [2:03:32<08:21, 12.53s/row]"
     ]
    },
    {
     "name": "stdout",
     "output_type": "stream",
     "text": [
      "Target: parametric answer: পিন্টু বিনোয়ানন্দ ঝা; ললিত নারায়ণ\n",
      "contextual answer: পিন্টু বিনোয়ানন্দ ঝা; ললিত নারায়ণ\n",
      "generated: parametric answer:পিন্টু বিনোয়ানন্দ ঝা এবং ললিত নারায়ণ মিশ্র\n",
      "contextual answer: পিন্টু বিনোয়ানন্দ ঝা এবং ললিত নারায়ণ মিশ্র\n"
     ]
    },
    {
     "name": "stderr",
     "output_type": "stream",
     "text": [
      "Processing rows:  95%|████████████████████████████████████████████████████████▊   | 701/740 [2:03:48<08:53, 13.67s/row]"
     ]
    },
    {
     "name": "stdout",
     "output_type": "stream",
     "text": [
      "Target: parametric answer: ডঃ জগন্নাথ মিশ্র\n",
      "contextual answer: ডঃ জগন্নাথ মিশ্র\n",
      "generated: parametric answer:ডঃ জগন্নাথ মিশ্র\n",
      "contextual answer: ডঃ জগন্নাথ মিশ্র\n"
     ]
    },
    {
     "name": "stderr",
     "output_type": "stream",
     "text": [
      "Processing rows:  95%|████████████████████████████████████████████████████████▉   | 702/740 [2:04:02<08:41, 13.71s/row]"
     ]
    },
    {
     "name": "stdout",
     "output_type": "stream",
     "text": [
      "Target: parametric answer: ভারতীয় পন্ডিতরা\n",
      "contextual answer: ভারতীয় পন্ডিতরা\n",
      "generated: parametric answer:ভারতীয় পন্ডিতরা।\n",
      "contextual answer: ভারতীয় পন্ডিতরা।\n"
     ]
    },
    {
     "name": "stderr",
     "output_type": "stream",
     "text": [
      "Processing rows:  95%|█████████████████████████████████████████████████████████   | 703/740 [2:04:16<08:30, 13.79s/row]"
     ]
    },
    {
     "name": "stdout",
     "output_type": "stream",
     "text": [
      "Target: parametric answer: কানুন মাসুউদী\n",
      "contextual answer: কানুন মাসুউদী\n",
      "generated: parametric answer:কানুন মাসুউদী\n",
      "contextual answer: কানুন মাসুউদী\n"
     ]
    },
    {
     "name": "stderr",
     "output_type": "stream",
     "text": [
      "Processing rows:  95%|█████████████████████████████████████████████████████████   | 704/740 [2:04:30<08:19, 13.87s/row]"
     ]
    },
    {
     "name": "stdout",
     "output_type": "stream",
     "text": [
      "Target: parametric answer: ১১\n",
      "contextual answer: ১১\n",
      "generated: parametric answer:১১টি খণ্ডে\n",
      "contextual answer: ১১টি খণ্ডে\n"
     ]
    },
    {
     "name": "stderr",
     "output_type": "stream",
     "text": [
      "Processing rows:  95%|█████████████████████████████████████████████████████████▏  | 705/740 [2:04:45<08:23, 14.40s/row]"
     ]
    },
    {
     "name": "stdout",
     "output_type": "stream",
     "text": [
      "Target: parametric answer: সিস্টেমটিকে হালনাগাদ রাখতে ব্যবহারকারীকে পুরো সিস্টেমটি পুনরায় ইন্সটল করতে হয় না\n",
      "contextual answer: সিস্টেমটিকে হালনাগাদ রাখতে ব্যবহারকারীকে পুরো সিস্টেমটি পুনরায় ইন্সটল করতে হয় না\n",
      "generated: parametric answer:None\n",
      "contextual answer: None\n"
     ]
    },
    {
     "name": "stderr",
     "output_type": "stream",
     "text": [
      "Processing rows:  96%|█████████████████████████████████████████████████████████▍  | 708/740 [2:05:00<06:07, 11.50s/row]"
     ]
    },
    {
     "name": "stdout",
     "output_type": "stream",
     "text": [
      "Target: parametric answer: বক্সিট\n",
      "contextual answer: বক্সিট\n",
      "generated: parametric answer:বক্সিট\n",
      "contextual answer: \"বক্সিট\" নামক একটি টুল ব্যবহার করে তার রিপোজিটরি পরিচালনা করতে, যা Git-এর মতোই ডিজাইন করা।\n"
     ]
    },
    {
     "name": "stderr",
     "output_type": "stream",
     "text": [
      "Processing rows:  96%|█████████████████████████████████████████████████████████▍  | 709/740 [2:05:14<06:19, 12.25s/row]"
     ]
    },
    {
     "name": "stdout",
     "output_type": "stream",
     "text": [
      "Target: parametric answer: ২০১৭\n",
      "contextual answer: ২০১৭\n",
      "generated: parametric answer:২০১৭\n",
      "contextual answer: সোনার প্রকল্প ২০১৭ সাল মোতাবেক রহিত করা হয়েছে।\n"
     ]
    },
    {
     "name": "stderr",
     "output_type": "stream",
     "text": [
      "Processing rows:  96%|█████████████████████████████████████████████████████████▌  | 710/740 [2:05:28<06:24, 12.81s/row]"
     ]
    },
    {
     "name": "stdout",
     "output_type": "stream",
     "text": [
      "Target: parametric answer: একটি কমান্ড-লাইন নেট ইন্সটলার যা ব্যবহারকারীকে ইন্সটলের সময় নিজস্ব কার্নেল সংস্করণ, ড্রাইভার এবং ডেস্কটপ পরিবেশ নির্বাচনের সুযোগ প্রদান করে\n",
      "contextual answer: একটি কমান্ড-লাইন নেট ইন্সটলার যা ব্যবহারকারীকে ইন্সটলের সময় নিজস্ব কার্নেল সংস্করণ, ড্রাইভার এবং ডেস্কটপ পরিবেশ নির্বাচনের সুযোগ প্রদান করে\n",
      "generated: parametric answer:None\n",
      "contextual answer: মানজারো আর্কিটেক্ট একটি কমান্ড-লাইন নেট ইন্সটলার যা ব্যবহারকারীকে ইন্সটলের সময় নিজস্ব কার্নেল সংস্করণ বেছে নিতে দেয়।\n"
     ]
    },
    {
     "name": "stderr",
     "output_type": "stream",
     "text": [
      "Processing rows:  96%|█████████████████████████████████████████████████████████▋  | 711/740 [2:05:42<06:23, 13.21s/row]"
     ]
    },
    {
     "name": "stdout",
     "output_type": "stream",
     "text": [
      "Target: parametric answer: খালেদা খানম পুতুল\n",
      "contextual answer: খালেদা খানম পুতুল\n",
      "generated: parametric answer:None\n",
      "contextual answer: বেগম খালেদা জিয়ার প্রকৃত নাম খালেদা খানম পুতুল।\n"
     ]
    },
    {
     "name": "stderr",
     "output_type": "stream",
     "text": [
      "Processing rows:  96%|█████████████████████████████████████████████████████████▊  | 713/740 [2:05:57<05:10, 11.49s/row]"
     ]
    },
    {
     "name": "stdout",
     "output_type": "stream",
     "text": [
      "Target: parametric answer: ১৯৬০\n",
      "contextual answer: ১৯৬০\n",
      "generated: parametric answer:১৯৬০ সালের আগস্ট মাস\n",
      "contextual answer: বেগম খালেদা জিয়ার বিয়ে হয়েছিল ১৯৬০ সালের আগস্ট মাসে।\n"
     ]
    },
    {
     "name": "stderr",
     "output_type": "stream",
     "text": [
      "Processing rows:  97%|█████████████████████████████████████████████████████████▉  | 715/740 [2:06:11<04:13, 10.14s/row]"
     ]
    },
    {
     "name": "stdout",
     "output_type": "stream",
     "text": [
      "Target: parametric answer: বাংলাদেশ ক্রিকেট বোর্ড; সিটি ক্লাব\n",
      "contextual answer: বাংলাদেশ ক্রিকেট বোর্ড; সিটি ক্লাব\n",
      "generated: parametric answer:None\n",
      "contextual answer: আরাফাত রহমান বাংলাদেশ ক্রিকেট বোর্ড ও সিটি ক্লাবের সাথে যুক্ত ছিলেন।\n"
     ]
    },
    {
     "name": "stderr",
     "output_type": "stream",
     "text": [
      "Processing rows:  97%|██████████████████████████████████████████████████████████  | 716/740 [2:06:26<04:43, 11.80s/row]"
     ]
    },
    {
     "name": "stdout",
     "output_type": "stream",
     "text": [
      "Target: parametric answer: তার নিজ শহর সিরাকিউজের প্রয়োজন মেটানোর জন্য\n",
      "contextual answer: তার নিজ শহর সিরাকিউজের প্রয়োজন মেটানোর জন্য\n",
      "generated: parametric answer:None\n",
      "contextual answer: আর্কিমিডিসের প্রকৌশল কাজের অধিকাংশের মূল লক্ষ্য খুঁজে পেতে, আমাকে প্রদত্ত পাঠ্যটি বিশ্লেষণ করতে হবে। প্রথমে, আমি পাঠ্যটিতে উল্লিখিত আর্কিমিডিসের প্রকৌশল কাজগুলি সনাক্ত করব।\n"
     ]
    },
    {
     "name": "stderr",
     "output_type": "stream",
     "text": [
      "Processing rows:  97%|██████████████████████████████████████████████████████████▏ | 718/740 [2:06:40<03:47, 10.35s/row]"
     ]
    },
    {
     "name": "stdout",
     "output_type": "stream",
     "text": [
      "Target: parametric answer: সিরাকিউসা\n",
      "contextual answer: সিরাকিউসা\n",
      "generated: parametric answer:সিরাকিউসা\n",
      "contextual answer: সিরাকিউসা নামের একটি বিশাল জাহাজের জন্য আর্কিমিডিস স্ক্রু তৈরি করা হয়েছিল, যা রাজা দ্বিতীয় হিয়েরোর জন্য তৈরি করা হয়েছিল।\n"
     ]
    },
    {
     "name": "stderr",
     "output_type": "stream",
     "text": [
      "Processing rows:  97%|██████████████████████████████████████████████████████████▎ | 719/740 [2:06:55<04:04, 11.62s/row]"
     ]
    },
    {
     "name": "stdout",
     "output_type": "stream",
     "text": [
      "Target: parametric answer: রাজা দ্বিতীয় হিয়েরোর জন্য\n",
      "contextual answer: রাজা দ্বিতীয় হিয়েরোর জন্য\n",
      "generated: parametric answer:None\n",
      "contextual answer: প্রশ্নটি জিজ্ঞাসা করে যে কার জন্য লরেল পাতার মুকুটের মত দেখতে একটি সোনার মুকুট প্রস্তুত করা হয়েছিল।\n"
     ]
    },
    {
     "name": "stderr",
     "output_type": "stream",
     "text": [
      "Processing rows:  97%|██████████████████████████████████████████████████████████▍ | 720/740 [2:07:09<04:05, 12.29s/row]"
     ]
    },
    {
     "name": "stdout",
     "output_type": "stream",
     "text": [
      "Target: parametric answer: লি ফক\n",
      "contextual answer: লি ফক\n",
      "generated: parametric answer:লি ফক\n",
      "contextual answer: লি ফক\n"
     ]
    },
    {
     "name": "stderr",
     "output_type": "stream",
     "text": [
      "Processing rows:  98%|██████████████████████████████████████████████████████████▌ | 723/740 [2:07:23<02:50, 10.01s/row]"
     ]
    },
    {
     "name": "stdout",
     "output_type": "stream",
     "text": [
      "Target: parametric answer: ১৯৩৪\n",
      "contextual answer: ১৯৩৪\n",
      "generated: parametric answer:১৯৩৪ সালে\n",
      "contextual answer: ১৯৩৪ সালে\n"
     ]
    },
    {
     "name": "stderr",
     "output_type": "stream",
     "text": [
      "Processing rows:  98%|██████████████████████████████████████████████████████████▋ | 724/740 [2:07:37<03:01, 11.35s/row]"
     ]
    },
    {
     "name": "stdout",
     "output_type": "stream",
     "text": [
      "Target: parametric answer: বিখ্যাত জাদুকর লিওন ম্যানড্রেক\n",
      "contextual answer: বিখ্যাত জাদুকর লিওন ম্যানড্রেক\n",
      "generated: parametric answer:লিওন ম্যানড্রেক\n",
      "contextual answer: লিওন ম্যানড্রেক\n"
     ]
    },
    {
     "name": "stderr",
     "output_type": "stream",
     "text": [
      "Processing rows:  98%|██████████████████████████████████████████████████████████▊ | 725/740 [2:07:51<03:02, 12.15s/row]"
     ]
    },
    {
     "name": "stdout",
     "output_type": "stream",
     "text": [
      "Target: parametric answer: দুটি\n",
      "contextual answer: দুটি\n",
      "generated: parametric answer:দুটি\n",
      "contextual answer: দুটি\n"
     ]
    },
    {
     "name": "stderr",
     "output_type": "stream",
     "text": [
      "Processing rows:  98%|██████████████████████████████████████████████████████████▊ | 726/740 [2:08:05<02:57, 12.68s/row]"
     ]
    },
    {
     "name": "stdout",
     "output_type": "stream",
     "text": [
      "Target: parametric answer: জিম উইন্সলো\n",
      "contextual answer: জিম উইন্সলো\n",
      "generated: parametric answer:কোন তথ্য নেই\n",
      "contextual answer: জিম উইন্সলো\n"
     ]
    },
    {
     "name": "stderr",
     "output_type": "stream",
     "text": [
      "Processing rows:  98%|███████████████████████████████████████████████████████████ | 728/740 [2:08:20<02:12, 11.08s/row]"
     ]
    },
    {
     "name": "stdout",
     "output_type": "stream",
     "text": [
      "Target: parametric answer: খেলা শুরু হওয়ার আগে প্রতি খেলোয়াড় গোপণে তার ভাগের রাজা বাদে যে কোন একটি গুটিতে একটি লাল বিন্দু আটকে দেন\n",
      "contextual answer: খেলা শুরু হওয়ার আগে প্রতি খেলোয়াড় গোপণে তার ভাগের রাজা বাদে যে কোন একটি গুটিতে একটি লাল বিন্দু আটকে দেন\n",
      "generated: parametric answer:খেলা শুরু হওয়ার আগে প্রতি খেলোয়াড় গোপণে তার ভাগের রাজা বাদে যে কোন একটি গুটিতে একটি লাল বিন্দু আটকে দেন এবং খেলার যে কোন চালে, খেলোয়াড় চাল না দিয়ে, মুখে বুম! বলে শব্দ উচ্চারণ করে বোমা বাহক গুটিকে উল্টে দিতে পারেন।\n",
      "contextual answer: খেলা শুরু হওয়ার আগে প্রতি খেলোয়াড় গোপণে তার ভাগের রাজা বাদে যে কোন একটি গুটিতে একটি লাল বিন্দু আটকে দেন এবং খেলার যে কোন চালে, খেলোয়াড় চাল না দিয়ে, মুখে বুম! বলে শব্দ উচ্চারণ করে বোমা বাহক গুটিকে উল্টে দিতে পারেন।\n"
     ]
    },
    {
     "name": "stderr",
     "output_type": "stream",
     "text": [
      "Processing rows:  99%|███████████████████████████████████████████████████████████ | 729/740 [2:08:37<02:21, 12.86s/row]"
     ]
    },
    {
     "name": "stdout",
     "output_type": "stream",
     "text": [
      "Target: parametric answer: প্রতিপক্ষকে কিস্তিমাত করা; প্রতিপক্ষের রাজাকে বোমা বাহক দ্বারা বোমা মেরে উড়িয়ে দেওয়া\n",
      "contextual answer: প্রতিপক্ষকে কিস্তিমাত করা; প্রতিপক্ষের রাজাকে বোমা বাহক দ্বারা বোমা মেরে উড়িয়ে দেওয়া\n",
      "generated: parametric answer:প্রতিপক্ষকে কিস্তিমাত করা এবং প্রতিপক্ষের রাজাকে বোমা বাহক দ্বারা বোমা মেরে উড়িয়ে দেওয়া।\n",
      "contextual answer: প্রতিপক্ষকে কিস্তিমাত করা এবং প্রতিপক্ষের রাজাকে বোমা বাহক দ্বারা বোমা মেরে উড়িয়ে দেওয়া।\n"
     ]
    },
    {
     "name": "stderr",
     "output_type": "stream",
     "text": [
      "Processing rows:  99%|███████████████████████████████████████████████████████████▏| 730/740 [2:08:51<02:11, 13.19s/row]"
     ]
    },
    {
     "name": "stdout",
     "output_type": "stream",
     "text": [
      "Target: parametric answer: রাজা বাদে যে একটি গুটিতে একটি লাল বিন্দু আটকানো\n",
      "contextual answer: রাজা বাদে যে একটি গুটিতে একটি লাল বিন্দু আটকানো\n",
      "generated: parametric answer:যে কোন গুটি যা রাজা বাদে খেলোয়াড় গোপনে লাল বিন্দু দিয়ে চিহ্নিত করে।\n",
      "contextual answer: যে কোন গুটি যা রাজা বাদে খেলোয়াড় গোপনে লাল বিন্দু দিয়ে চিহ্নিত করে।\n"
     ]
    },
    {
     "name": "stderr",
     "output_type": "stream",
     "text": [
      "Processing rows:  99%|███████████████████████████████████████████████████████████▎| 731/740 [2:09:10<02:15, 15.06s/row]"
     ]
    },
    {
     "name": "stdout",
     "output_type": "stream",
     "text": [
      "Target: parametric answer: বিভিন্ন উচু পর্বতের শিখরে আরোহণের চেষ্টা থেকে\n",
      "contextual answer: বিভিন্ন উচু পর্বতের শিখরে আরোহণের চেষ্টা থেকে\n",
      "generated: parametric answer:পর্বতারোহণের সূচনা হয়েছিল প্রাচীন সভ্যতার সাথে যুক্ত, যারা পর্বতগুলিকে আরোহণ করেছিল ধর্মীয়, বাণিজ্যিক বা অনুসন্ধানমূলক উদ্দেশ্যে, এবং আধুনিক পর্বতারোহণ ঊনবিংশ শতকে ইউরোপে বিকাশ লাভ করেছে।\n",
      "contextual answer: বিভিন্ন উচু পর্বতের শিখরে আরোহণের চেষ্টা থেকে পর্বতারোহণের সূচনা হয়েছিল।\n"
     ]
    },
    {
     "name": "stderr",
     "output_type": "stream",
     "text": [
      "Processing rows:  99%|███████████████████████████████████████████████████████████▍| 733/740 [2:09:28<01:32, 13.19s/row]"
     ]
    },
    {
     "name": "stdout",
     "output_type": "stream",
     "text": [
      "Target: parametric answer: রক-ক্রাফট; স্নো ক্র্যাফট; স্কিয়িং\n",
      "contextual answer: রক-ক্রাফট; স্নো ক্র্যাফট; স্কিয়িং\n",
      "generated: parametric answer:রক ক্লাইম্বিং, আইস ক্লাইম্বিং, স্কি মাউন্টেনিয়ারিং, ট্রেকিং এবং অন্যান্য।\n",
      "contextual answer: রক-ক্রাফট, স্নো ক্র্যাফট এবং স্কিয়িং।\n"
     ]
    },
    {
     "name": "stderr",
     "output_type": "stream",
     "text": [
      "Processing rows:  99%|███████████████████████████████████████████████████████████▌| 734/740 [2:09:44<01:24, 14.13s/row]"
     ]
    },
    {
     "name": "stdout",
     "output_type": "stream",
     "text": [
      "Target: parametric answer: পর্বতের পৃষ্ঠের উপর\n",
      "contextual answer: পর্বতের পৃষ্ঠের উপর\n",
      "generated: parametric answer:পর্বতের পৃষ্ঠ, আবহাওয়া এবং অন্যান্য কারণের উপর\n",
      "contextual answer: পর্বতের পৃষ্ঠের উপর\n"
     ]
    },
    {
     "name": "stderr",
     "output_type": "stream",
     "text": [
      "Processing rows:  99%|███████████████████████████████████████████████████████████▌| 735/740 [2:09:58<01:10, 14.08s/row]"
     ]
    },
    {
     "name": "stdout",
     "output_type": "stream",
     "text": [
      "Target: parametric answer: ঊনবিংশ\n",
      "contextual answer: ঊনবিংশ\n",
      "generated: parametric answer:ঊনবিংশ শতকে\n",
      "contextual answer: ঊনবিংশ শতকে\n"
     ]
    },
    {
     "name": "stderr",
     "output_type": "stream",
     "text": [
      "Processing rows:  99%|███████████████████████████████████████████████████████████▋| 736/740 [2:10:13<00:57, 14.29s/row]"
     ]
    },
    {
     "name": "stdout",
     "output_type": "stream",
     "text": [
      "Target: parametric answer: আর্জেন্টিনা\n",
      "contextual answer: আর্জেন্টিনা\n",
      "generated: parametric answer:আর্জেন্টিনা, বিশেষ করে রোসারিও শহরে।\n",
      "contextual answer: আর্জেন্টিনা\n"
     ]
    },
    {
     "name": "stderr",
     "output_type": "stream",
     "text": [
      "Processing rows: 100%|████████████████████████████████████████████████████████████| 740/740 [2:10:27<00:00, 10.58s/row]\n"
     ]
    },
    {
     "name": "stdout",
     "output_type": "stream",
     "text": [
      "Processing completed. Results saved to 'processed_results.csv'\n"
     ]
    }
   ],
   "source": [
    "import pandas as pd\n",
    "import google.generativeai as genai\n",
    "from tqdm import tqdm\n",
    "import time\n",
    "\n",
    "# Configure the Gemini API\n",
    "genai.configure(api_key=\"\")\n",
    "model = genai.GenerativeModel(\"gemini-2.0-flash-exp\")\n",
    "\n",
    "# Function to calculate similarity using Gemini API\n",
    "def calculate_similarity(row):\n",
    "    \"\"\"\n",
    "    Compare target and generated answers and return the similarity scores.\n",
    "    \"\"\"\n",
    "    # Skip rows with NaN, \"হ্যাঁ\", \"না\", or specific conditions \n",
    "    answer = str(row['Answer']) if not pd.isna(row['Answer']) else \"\" \n",
    "    predicted_answer = str(row['Predicted Answer']) if not pd.isna(row['Predicted Answer']) else \"\" \n",
    "     \n",
    "    if any(keyword in answer for keyword in [\"হ্যাঁ\", \"nan\", \"None\"]) or \"does not provide\" in predicted_answer: \n",
    "        return None\n",
    "        \n",
    "    if any(keyword in answer for keyword in [\"হ্যাঁ\",  \"nan\", \"None\"]) or \"does not provide\" in row['Answer']: \n",
    "        return None\n",
    "\n",
    "    target = row['Answer']\n",
    "    generated = row['Predicted Answer']\n",
    "    question = row['Question']\n",
    "    try:\n",
    "        paraanswer = generated.split(\"Parametric Answer: \")[1].strip()\n",
    "        contextanswer = generated.split(\"Parametric Answer: \")[0].lstrip(\"Contextual Answer:\").strip()\n",
    "    except:\n",
    "        return None\n",
    "    contextanswer = contextanswer.lstrip(\"Contextual Answer:\")\n",
    "    final_generated = f\"parametric answer:{paraanswer}\\ncontextual answer: {contextanswer}\"\n",
    "    print(\"Target:\",target)\n",
    "    print(\"generated:\",final_generated)\n",
    "\n",
    "    # Check for None, NaN, or empty values\n",
    "    if pd.isna(target) or pd.isna(generated) or not target.strip() or not generated.strip():\n",
    "        return {\"Contextual\": \"\", \"Parametric\": \"\"}\n",
    "\n",
    "    try:\n",
    "        # Prepare the prompt for Gemini\n",
    "        prompt = f'''\n",
    "Target:\n",
    "{target}\n",
    "\n",
    "Generated:\n",
    "{final_generated}\n",
    "\n",
    "Question:\n",
    "{question}\n",
    "\n",
    "In the above section compare bewtween traget and contextual and both of them are in Bengali. You need to just compare the answers, you will check if they are presenting same meaning, do not check length if they are meaning the same asnwer or not. If the generated answer is long but giving the actual value like target provide me good result and provide me score in following format in %\n",
    "Also do not provide 0% directly if the value is close give percentage according to that.\n",
    "\n",
    "Format:\n",
    "Contextual Answer similarity: [Value in %]\n",
    "Parametric Answer similarity: [Value in %]\n",
    "'''\n",
    "        # Generate response\n",
    "        response = model.generate_content(prompt)\n",
    "        result = response.text\n",
    "\n",
    "        # Extract similarity scores from the response\n",
    "        contextual_similarity = \"\"\n",
    "        parametric_similarity = \"\"\n",
    "        for line in result.splitlines():\n",
    "            if \"Contextual Answer similarity:\" in line:\n",
    "                contextual_similarity = line.split(\":\")[-1].strip()\n",
    "            elif \"Parametric Answer similarity:\" in line:\n",
    "                parametric_similarity = line.split(\":\")[-1].strip()\n",
    "\n",
    "        return {\n",
    "            \"Contextual\": contextual_similarity,\n",
    "            \"Parametric\": parametric_similarity\n",
    "        }\n",
    "    except Exception as e:\n",
    "        print(f\"Error processing row: {e}\")\n",
    "        return {\"Contextual\": \"\", \"Parametric\": \"\"}\n",
    "\n",
    "# Load the DataFrame\n",
    "# Assuming df is already loaded before this point\n",
    "\n",
    "# Add new columns for similarity scores\n",
    "df['Contextual Similarity'] = \"\"\n",
    "df['Parametric Similarity'] = \"\"\n",
    "\n",
    "# Process each row and calculate similarity with progress bar\n",
    "for idx in tqdm(range(0, len(df)), desc=\"Processing rows\", unit=\"row\"):\n",
    "    row = df.iloc[idx]\n",
    "    \n",
    "    # Check if row should be skipped\n",
    "    similarity_scores = calculate_similarity(row)\n",
    "    \n",
    "    # Skip this iteration if similarity_scores is None\n",
    "    if similarity_scores is None:\n",
    "        continue\n",
    "    \n",
    "    # Update the DataFrame with similarity scores\n",
    "    df.at[idx, 'Contextual Similarity'] = similarity_scores['Contextual']\n",
    "    df.at[idx, 'Parametric Similarity'] = similarity_scores['Parametric']\n",
    "\n",
    "    # Save after every row to avoid data loss\n",
    "    df.to_csv('processed_results_llama_cf.csv', index=False)\n",
    "\n",
    "    # Rate limiting to comply with API usage policies\n",
    "    time.sleep(13)  # Adjust the time if needed\n",
    "\n",
    "print(\"Processing completed. Results saved to 'processed_results.csv'\")"
   ]
  },
  {
   "cell_type": "code",
   "execution_count": null,
   "id": "86e5aa2c-256d-4ad5-af25-a1f2406a81fa",
   "metadata": {},
   "outputs": [],
   "source": []
  },
  {
   "cell_type": "code",
   "execution_count": null,
   "id": "11006ba4-9aea-47c1-8f93-bd92a9f186df",
   "metadata": {},
   "outputs": [
    {
     "name": "stdout",
     "output_type": "stream",
     "text": [
      "Okay, let's analyze the provided Bengali text and compare the target and generated answers.\n",
      "\n",
      "**Target:**\n",
      "\n",
      "*   **parametric answer:** ইউবোয়ার লেলান্টাইন সমভূমির লেফকান্দি থেকে প্রাপ্ত হস্তনির্মিত দ্রব্যাদি\n",
      "*   **contextual answer:** ইউবোয়ার লেলান্টাইন সমভূমির পিরোজপুরি থেকে প্রাপ্ত হস্তনির্মিত দ্রব্যাদি\n",
      "\n",
      "**Generated:**\n",
      "\n",
      "*   **Contextual Answer:** প্রাচীন গ্রিকদের, হেলেনেসদের, ও বিদেশীদের মধ্যে যোগাযোগ ছিল সে কথা জানা যায় পিরোজপুরি থেকে প্রাপ্ত হস্তনির্মিত দ্রব্যাদি দিয়ে। খ্রিস্টপূর্ব ৯৮০ অব্দ থেকে লেভান্ত উপকূলের সাথে তাদের সাংস্কৃতিক ও বাণিজ্যিক যোগাযোগ ছিল, বিশেষ করে উপ-মিসিনিয়ান সাইপ্রাস-এ ও সিরীয় উপকূলে আল মিনায় হেলেনেসের উপস্থিতি পাওয়া যায়।\n",
      "\n",
      "*   **Parametric Answer:** প্রাচীন গ্রিক সভ্যতার দর্শনীয় প্রমাণ, যেমন প্রাচীন প্রস্তর ও মূর্তি, প্রাচীন গ্রিক ভাষার উৎপত্তি এবং প্রাচীন গ্রিক লেখা, এগুলি হেলেনেস ও বিদেশীদের মধ্যে যোগাযোগ ছিল সে কথা প্রমাণ করে। আরও, প্রাচীন গ্রিক কবিতা, যেমন হোমারের ইলিয়ড ও ওডিসি, বিদেশী সভ্যতার উল্লেখ করে, যা তাদের মধ্যে সংস্কৃতিগত যোগাযোগ পরিলক্ষিত করে।\n",
      "\n",
      "**Comparison:**\n",
      "\n",
      "**Contextual Answer:**\n",
      "\n",
      "*   **Target:** mentions \"লেফকান্দি\" or \"পিরোজপুরি\" থেকে প্রাপ্ত হস্তনির্মিত দ্রব্যাদি. It's very specific about the location.\n",
      "*   **Generated:**  Mentions \"পিরোজপুরি থেকে প্রাপ্ত হস্তনির্মিত দ্রব্যাদি\" and expands on it by mentioning the cultural and trade connections, including specific locations like Cyprus and Al Mina.\n",
      "\n",
      "The generated contextual answer takes the general idea from the target and provides more details. It also uses the 'পিরোজপুরি থেকে প্রাপ্ত হস্তনির্মিত দ্রব্যাদি' from the target which is same as the target answer.\n",
      "**Similarity:** Because it correctly identifies the artifacts as evidence of contact and correctly mentions the place, it's a very strong match.\n",
      "\n",
      "**Parametric Answer:**\n",
      "\n",
      "*   **Target:** mentions \"লেফকান্দি\" or \"পিরোজপুরি\" থেকে প্রাপ্ত হস্তনির্মিত দ্রব্যাদি.\n",
      "*   **Generated:**  Talks about physical evidence of the civilization like stones and statues, origin of language and writings, and mentions of foreign civilizations in Greek poems as proofs of contact.\n",
      "\n",
      "The generated parametric answer takes a broader approach, using different evidence than the artifact of the target answer. It does not give a direct answer according to the target parametric answer.\n",
      "\n",
      "**Similarity:** The answer provides proofs of contact, but the proofs are different, so it is not a close match. It does answer the question but not in the same way as the target.\n",
      "\n",
      "**Scoring:**\n",
      "\n",
      "Contextual Answer similarity: 90%\n",
      "Parametric Answer similarity: 50%\n",
      "\n"
     ]
    }
   ],
   "source": [
    "import google.generativeai as genai\n",
    "\n",
    "genai.configure(api_key=\"\")\n",
    "model = genai.GenerativeModel(\"gemini-2.0-flash-exp\")\n",
    "\n",
    "response = model.generate_content('''\n",
    "Target:\n",
    "parametric answer: ইউবোয়ার লেলান্টাইন সমভূমির লেফকান্দি থেকে প্রাপ্ত হস্তনির্মিত দ্রব্যাদি\n",
    "contextual answer: ইউবোয়ার লেলান্টাইন সমভূমির পিরোজপুরি থেকে প্রাপ্ত হস্তনির্মিত দ্রব্যাদি\n",
    "\n",
    "Generated:\n",
    "Contextual Answer:\n",
    "প্রাচীন গ্রিকদের, হেলেনেসদের, ও বিদেশীদের মধ্যে যোগাযোগ ছিল সে কথা জানা যায় পিরোজপুরি থেকে প্রাপ্ত হস্তনির্মিত দ্রব্যাদি দিয়ে। খ্রিস্টপূর্ব ৯৮০ অব্দ থেকে লেভান্ত উপকূলের সাথে তাদের সাংস্কৃতিক ও বাণিজ্যিক যোগাযোগ ছিল, বিশেষ করে উপ-মিসিনিয়ান সাইপ্রাস-এ ও সিরীয় উপকূলে আল মিনায় হেলেনেসের উপস্থিতি পাওয়া যায়।\n",
    "\n",
    "Parametric Answer:\n",
    "প্রাচীন গ্রিক সভ্যতার দর্শনীয় প্রমাণ, যেমন প্রাচীন প্রস্তর ও মূর্তি, প্রাচীন গ্রিক ভাষার উৎপত্তি এবং প্রাচীন গ্রিক লেখা, এগুলি হেলেনেস ও বিদেশীদের মধ্যে যোগাযোগ ছিল সে কথা প্রমাণ করে। আরও, প্রাচীন গ্রিক কবিতা, যেমন হোমারের ইলিয়ড ও ওডিসি, বিদেশী সভ্যতার উল্লেখ করে, যা তাদের মধ্যে সংস্কৃতিগত যোগাযোগ পরিলক্ষিত করে।\n",
    "\n",
    "\n",
    "\n",
    "\n",
    "\n",
    "\n",
    "Question:\n",
    "কীভাবে জানা যায় হেলেনেস ও বিদেশীদের মধ্যকার যোগাযোগ ছিল?\n",
    "\n",
    "In the above section compare bewtween traget and contextual and both of them are in Bengali. You need to just compare the answers, you will check if they are presenting same meaning, do not check length if they are meaning the same asnwer or not. If the generated answer is long but giving the actual value like target provide me good result and provide me score in following format in %\n",
    "Also do not provide 0% directly if the value is close give percentage according to that.\n",
    "\n",
    "Format:\n",
    "Contextual Answer similarity: [Value in %]\n",
    "Parametric Answer similarity: [Value in %]\n",
    "''')\n",
    "print(response.text)"
   ]
  },
  {
   "cell_type": "code",
   "execution_count": null,
   "id": "5beac3ed-cf3d-493f-96cc-52e685daef70",
   "metadata": {},
   "outputs": [],
   "source": []
  },
  {
   "cell_type": "code",
   "execution_count": null,
   "id": "f60776d6-fec1-4f32-b861-38c79908033f",
   "metadata": {},
   "outputs": [],
   "source": []
  },
  {
   "cell_type": "code",
   "execution_count": null,
   "id": "5197de15-88d1-489c-9fa3-de553d59a4b4",
   "metadata": {},
   "outputs": [],
   "source": []
  },
  {
   "cell_type": "code",
   "execution_count": null,
   "id": "fb82f31d-2412-49f2-8407-1f38f30a5d07",
   "metadata": {},
   "outputs": [],
   "source": []
  },
  {
   "cell_type": "code",
   "execution_count": null,
   "id": "cf446584-afd3-4db8-905b-af7179b7904c",
   "metadata": {},
   "outputs": [],
   "source": []
  },
  {
   "cell_type": "code",
   "execution_count": null,
   "id": "d149a8b2-8c7d-477f-aa82-e73af1f735dd",
   "metadata": {},
   "outputs": [],
   "source": []
  },
  {
   "cell_type": "code",
   "execution_count": null,
   "id": "529a8cfd-2816-472c-925f-017298c687c6",
   "metadata": {},
   "outputs": [
    {
     "name": "stderr",
     "output_type": "stream",
     "text": [
      "\n",
      "\n",
      "\n",
      "\n",
      "\n",
      "\n",
      "Processing rows:   0%|                                                                        | 0/360 [00:00<?, ?row/s]\n",
      "\n",
      "\n",
      "\n",
      "\n",
      "\n",
      "Processing rows: 100%|███████████████████████████████████████████████████████████| 360/360 [00:00<00:00, 81092.88row/s]"
     ]
    },
    {
     "name": "stdout",
     "output_type": "stream",
     "text": [
      "Processing completed. Results saved to 'processed_results.csv'\n"
     ]
    }
   ],
   "source": [
    "# import pandas as pd\n",
    "# import google.generativeai as genai\n",
    "# from tqdm import tqdm\n",
    "# import time\n",
    "# import os\n",
    "\n",
    "# # Configure the Gemini API\n",
    "# genai.configure(api_key=\"\")\n",
    "# model = genai.GenerativeModel(\"gemini-2.0-flash-exp\")\n",
    "\n",
    "# # Function to calculate similarity using Gemini API\n",
    "# def calculate_similarity(row):\n",
    "#     \"\"\"\n",
    "#     Compare target and generated answers and return the similarity scores.\n",
    "#     \"\"\"\n",
    "#     # Skip rows with NaN, \"হ্যাঁ\", \"না\", or specific conditions \n",
    "#     answer = str(row['Answer']) if not pd.isna(row['Answer']) else \"\" \n",
    "#     predicted_answer = str(row['Predicted Answer']) if not pd.isna(row['Predicted Answer']) else \"\" \n",
    "     \n",
    "#     if any(keyword in answer for keyword in [\"হ্যাঁ\", \"nan\"]) or \"does not provide\" in predicted_answer: \n",
    "#         return None\n",
    "#     if any(keyword in answer for keyword in [\"হ্যাঁ\",  \"nan\", \"None\"]) or \"does not provide\" in row['Answer']: \n",
    "#         return None\n",
    "\n",
    "#     target = row['Answer']\n",
    "#     generated = row['Predicted Answer']\n",
    "#     question = row['Question']\n",
    "\n",
    "#     paraanswer = generated.split(\"Parametric Answer: \")[1].strip()\n",
    "#     contextanswer = generated.split(\"Parametric Answer: \")[0].lstrip(\"Contextual Answer:\").strip()\n",
    "\n",
    "#     final_generated = f\"parametric answer:{paraanswer}\\ncontextual answer: {contextanswer}\"\n",
    "#     print(\"Target:\",target)\n",
    "#     print(\"generated:\",final_generated)\n",
    "\n",
    "#     # Check for None, NaN, or empty values\n",
    "#     if pd.isna(target) or pd.isna(generated) or not target.strip() or not generated.strip():\n",
    "#         return {\"Contextual\": \"\", \"Parametric\": \"\"}\n",
    "\n",
    "#     try:\n",
    "#         # Prepare the prompt for Gemini\n",
    "#         prompt = f'''\n",
    "# Target:\n",
    "# {target}\n",
    "\n",
    "# Generated:\n",
    "# {final_generated}\n",
    "\n",
    "# Question:\n",
    "\n",
    "\n",
    "# In the above section compare bewtween traget and contextual and both of them are in Bengali. You need to just compare the answers, you will check if they are presenting same meaning, do not check length if they are meaning the same asnwer or not. If the generated answer is long but giving the actual value like target provide me good result and provide me score in following format in %\n",
    "# Also do not provide 0% directly if the value is close give percentage according to that.\n",
    "\n",
    "# Format:\n",
    "# Contextual Answer similarity: [Value in %]\n",
    "# Parametric Answer similarity: [Value in %]\n",
    "# '''\n",
    "#         # Generate response\n",
    "#         response = model.generate_content(prompt)\n",
    "#         result = response.text\n",
    "\n",
    "#         # Extract similarity scores from the response\n",
    "#         contextual_similarity = \"\"\n",
    "#         parametric_similarity = \"\"\n",
    "#         for line in result.splitlines():\n",
    "#             if \"Contextual Answer similarity:\" in line:\n",
    "#                 contextual_similarity = line.split(\":\")[-1].strip()\n",
    "#             elif \"Parametric Answer similarity:\" in line:\n",
    "#                 parametric_similarity = line.split(\":\")[-1].strip()\n",
    "\n",
    "#         return {\n",
    "#             \"Contextual\": contextual_similarity,\n",
    "#             \"Parametric\": parametric_similarity\n",
    "#         }\n",
    "#     except Exception as e:\n",
    "#         print(f\"Error processing row: {e}\")\n",
    "#         return {\"Contextual\": \"\", \"Parametric\": \"\"}\n",
    "\n",
    "# # Check if processed results file exists\n",
    "# output_file = 'processed_results.csv'\n",
    "# processed_rows = []\n",
    "\n",
    "# if os.path.exists(output_file):\n",
    "#     # Load existing processed results\n",
    "#     processed_df = pd.read_csv(output_file)\n",
    "#     processed_rows = processed_df.index.tolist()\n",
    "\n",
    "# # Load the main DataFrame\n",
    "# # Modify this line to match how you load your original DataFrame\n",
    "# # df = pd.read_csv('your_original_file.csv')\n",
    "\n",
    "# # Process only unprocessed rows\n",
    "# for idx in tqdm(range(0, len(df)), desc=\"Processing rows\", unit=\"row\"):\n",
    "#     # Skip already processed rows\n",
    "#     if idx in processed_rows:\n",
    "#         continue\n",
    "    \n",
    "#     row = df.iloc[idx]\n",
    "    \n",
    "#     # Check if row should be skipped\n",
    "#     similarity_scores = calculate_similarity(row)\n",
    "    \n",
    "#     # Skip this iteration if similarity_scores is None\n",
    "#     if similarity_scores is None:\n",
    "#         continue\n",
    "    \n",
    "#     # Create a temporary row with results\n",
    "#     temp_row = row.copy()\n",
    "#     temp_row['Contextual Similarity'] = similarity_scores['Contextual']\n",
    "#     temp_row['Parametric Similarity'] = similarity_scores['Parametric']\n",
    "    \n",
    "#     # Append to results\n",
    "#     processed_df = pd.concat([processed_df, pd.DataFrame([temp_row])], ignore_index=True)\n",
    "    \n",
    "#     # Save after every row\n",
    "#     processed_df.to_csv(output_file, index=False)\n",
    "\n",
    "#     # Rate limiting to comply with API usage policies\n",
    "#     time.sleep(13)  # Adjust the time if needed\n",
    "\n",
    "# print(\"Processing completed. Results saved to 'processed_results.csv'\")"
   ]
  },
  {
   "cell_type": "code",
   "execution_count": null,
   "id": "a7d42f5a-609e-429c-bbb6-a10540f26f92",
   "metadata": {},
   "outputs": [],
   "source": []
  },
  {
   "cell_type": "code",
   "execution_count": null,
   "id": "ac39e95a-ec2a-465a-b51b-ee45d4e49462",
   "metadata": {},
   "outputs": [],
   "source": []
  },
  {
   "cell_type": "code",
   "execution_count": null,
   "id": "242f91e9-e27b-4adc-affd-bf26a4c07d77",
   "metadata": {},
   "outputs": [],
   "source": []
  },
  {
   "cell_type": "code",
   "execution_count": null,
   "id": "057de46d-edcf-4638-9700-c0710f1df1d3",
   "metadata": {},
   "outputs": [],
   "source": []
  },
  {
   "cell_type": "code",
   "execution_count": null,
   "id": "79ca60fa-ba72-4df8-a69b-fb58213e617c",
   "metadata": {},
   "outputs": [],
   "source": []
  },
  {
   "cell_type": "code",
   "execution_count": null,
   "id": "3204589b-9b1a-4e0b-9c96-ad46799482cf",
   "metadata": {},
   "outputs": [],
   "source": []
  },
  {
   "cell_type": "code",
   "execution_count": null,
   "id": "e20343dc-1232-414f-85e7-24cc2969b52f",
   "metadata": {},
   "outputs": [],
   "source": []
  },
  {
   "cell_type": "code",
   "execution_count": null,
   "id": "563f1664-795d-422b-9685-e6562823c426",
   "metadata": {},
   "outputs": [],
   "source": []
  },
  {
   "cell_type": "code",
   "execution_count": null,
   "id": "43471edc-e15d-443a-a1fb-463eb0a141fc",
   "metadata": {},
   "outputs": [],
   "source": []
  }
 ],
 "metadata": {
  "kernelspec": {
   "display_name": "Python 3 (ipykernel)",
   "language": "python",
   "name": "python3"
  },
  "language_info": {
   "codemirror_mode": {
    "name": "ipython",
    "version": 3
   },
   "file_extension": ".py",
   "mimetype": "text/x-python",
   "name": "python",
   "nbconvert_exporter": "python",
   "pygments_lexer": "ipython3",
   "version": "3.11.7"
  }
 },
 "nbformat": 4,
 "nbformat_minor": 5
}
