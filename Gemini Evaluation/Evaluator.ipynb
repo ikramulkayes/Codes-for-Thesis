{
 "cells": [
  {
   "cell_type": "code",
   "execution_count": null,
   "id": "9473717e-f04f-49f1-9df6-bcadb939ea65",
   "metadata": {},
   "outputs": [],
   "source": [
    "import pandas as pd\n",
    "\n",
    "# Load the CSV file\n",
    "file_path = 'processed_results_f_deepseek.csv'\n",
    "data = pd.read_csv(file_path)\n",
    "\n",
    "# Function to clean and extract valid percentages, converting them to float\n",
    "def clean_similarity_column(column):\n",
    "    cleaned_column = (\n",
    "        column.str.extract(r\"(\\d+)%\")  # Extract numeric percentages\n",
    "        .dropna()  # Remove invalid rows\n",
    "        .astype(float)[0]  # Convert to float\n",
    "    )\n",
    "    return cleaned_column / 100  # Scale to range 0-1\n",
    "\n",
    "# Clean the relevant columns\n",
    "data['Contextual Similarity'] = clean_similarity_column(data['Contextual Similarity'])\n",
    "data['Parametric Similarity'] = clean_similarity_column(data['Parametric Similarity'])\n",
    "\n",
    "# Calculate the mean for parametric and contextual similarity\n",
    "mean_contextual_similarity = data['Contextual Similarity'].mean()\n",
    "mean_parametric_similarity = data['Parametric Similarity'].mean()\n",
    "\n",
    "# Print the results\n",
    "print(f\"Mean Contextual Similarity: {mean_contextual_similarity:.2f}\")\n",
    "print(f\"Mean Parametric Similarity: {mean_parametric_similarity:.2f}\")\n"
   ]
  },
  {
   "cell_type": "code",
   "execution_count": null,
   "id": "907d8237-4786-4ea3-b13d-5f04de1e4f9e",
   "metadata": {},
   "outputs": [],
   "source": [
    "import pandas as pd\n",
    "\n",
    "# Load the CSV file\n",
    "file_path = 'processed_results_factual.csv'\n",
    "data = pd.read_csv(file_path)\n",
    "\n",
    "# Function to clean and extract valid percentages, converting them to float\n",
    "def clean_similarity_column(column):\n",
    "    cleaned_column = (\n",
    "        column.str.extract(r\"(\\d+)%\")  # Extract numeric percentages\n",
    "        .dropna()  # Remove invalid rows\n",
    "        .astype(float)[0]  # Convert to float\n",
    "    )\n",
    "    return cleaned_column / 100  # Scale to range 0-1\n",
    "\n",
    "# Clean the relevant columns\n",
    "data['Contextual Similarity'] = clean_similarity_column(data['Contextual Similarity'])\n",
    "data['Parametric Similarity'] = clean_similarity_column(data['Parametric Similarity'])\n",
    "\n",
    "# Calculate the mean for parametric and contextual similarity\n",
    "mean_contextual_similarity = data['Contextual Similarity'].mean()\n",
    "mean_parametric_similarity = data['Parametric Similarity'].mean()\n",
    "\n",
    "# Print the results\n",
    "print(f\"Mean Contextual Similarity: {mean_contextual_similarity:.2f}\")\n",
    "print(f\"Mean Parametric Similarity: {mean_parametric_similarity:.2f}\")\n"
   ]
  },
  {
   "cell_type": "code",
   "execution_count": null,
   "id": "ed22778a-069c-443a-ba85-05789ce17cbd",
   "metadata": {},
   "outputs": [],
   "source": []
  }
 ],
 "metadata": {
  "kernelspec": {
   "display_name": "Python 3 (ipykernel)",
   "language": "python",
   "name": "python3"
  },
  "language_info": {
   "codemirror_mode": {
    "name": "ipython",
    "version": 3
   },
   "file_extension": ".py",
   "mimetype": "text/x-python",
   "name": "python",
   "nbconvert_exporter": "python",
   "pygments_lexer": "ipython3",
   "version": "3.11.7"
  }
 },
 "nbformat": 4,
 "nbformat_minor": 5
}
