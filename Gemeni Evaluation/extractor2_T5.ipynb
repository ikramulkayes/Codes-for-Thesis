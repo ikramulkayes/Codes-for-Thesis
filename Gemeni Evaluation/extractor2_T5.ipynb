{
 "cells": [
  {
   "cell_type": "code",
   "execution_count": 6,
   "id": "be05c329-444d-4516-8f28-28e89c4f1d78",
   "metadata": {},
   "outputs": [],
   "source": [
    "# Importing necessary libraries\n",
    "import pandas as pd"
   ]
  },
  {
   "cell_type": "code",
   "execution_count": 7,
   "id": "59364c62-c2cb-425e-99dc-92f249f85ca8",
   "metadata": {},
   "outputs": [],
   "source": [
    "file_path = 'factual_results.csv'"
   ]
  },
  {
   "cell_type": "code",
   "execution_count": 8,
   "id": "90d06aa6-52ea-4709-a61f-2d8f1461a8b9",
   "metadata": {},
   "outputs": [],
   "source": [
    "# Reading the CSV file into a pandas DataFrame\n",
    "df = pd.read_csv(file_path)"
   ]
  },
  {
   "cell_type": "code",
   "execution_count": 9,
   "id": "2954ba86-cbc8-49d0-801a-31f9b957fa95",
   "metadata": {},
   "outputs": [
    {
     "name": "stdout",
     "output_type": "stream",
     "text": [
      "First row of the 'Predicted Answer' column:\n",
      "parametric answer: জিয়ান ও সুনেওর, contextual answer: জিয়ান ও সুনেওর\n"
     ]
    }
   ],
   "source": [
    "# # Print the 'Predicted Answer' column\n",
    "# print(\"Predicted Answer Column:\")\n",
    "# print(df['Predicted Answer'])\n",
    "\n",
    "# Print the first row of the 'Predicted Answer' column\n",
    "print(\"First row of the 'Predicted Answer' column:\")\n",
    "print(df['Predicted_Answer'].iloc[9])"
   ]
  },
  {
   "cell_type": "code",
   "execution_count": null,
   "id": "6ffc41ae-aa61-4ed6-9ca5-084e198b0b9b",
   "metadata": {},
   "outputs": [],
   "source": []
  },
  {
   "cell_type": "code",
   "execution_count": 10,
   "id": "4f6fb9cf-d07a-4e20-820a-c0c64b02166e",
   "metadata": {},
   "outputs": [
    {
     "data": {
      "text/html": [
       "<div>\n",
       "<style scoped>\n",
       "    .dataframe tbody tr th:only-of-type {\n",
       "        vertical-align: middle;\n",
       "    }\n",
       "\n",
       "    .dataframe tbody tr th {\n",
       "        vertical-align: top;\n",
       "    }\n",
       "\n",
       "    .dataframe thead th {\n",
       "        text-align: right;\n",
       "    }\n",
       "</style>\n",
       "<table border=\"1\" class=\"dataframe\">\n",
       "  <thead>\n",
       "    <tr style=\"text-align: right;\">\n",
       "      <th></th>\n",
       "      <th>Question</th>\n",
       "      <th>Answer</th>\n",
       "      <th>Predicted_Answer</th>\n",
       "    </tr>\n",
       "  </thead>\n",
       "  <tbody>\n",
       "    <tr>\n",
       "      <th>0</th>\n",
       "      <td>Question: কোন জাদুঘরে সারগনিক বিজয় ফলক আছে?\\nC...</td>\n",
       "      <td>parametric answer: ল্যুভর জাদুঘরে\\ncontextual ...</td>\n",
       "      <td>parametric answer: ল্যুভর, contextual answer: ...</td>\n",
       "    </tr>\n",
       "    <tr>\n",
       "      <th>1</th>\n",
       "      <td>Question: ল্যুভর জাদুঘরে দুটি সারগনিক বিজয় ফল...</td>\n",
       "      <td>parametric answer: খুব সম্ভবত মেসোপটেমিয়া ত্থ...</td>\n",
       "      <td>parametric answer: সুসা (যেখানে এগুলি খুব সম্ভ...</td>\n",
       "    </tr>\n",
       "    <tr>\n",
       "      <th>2</th>\n",
       "      <td>Question: ল্যুভর জাদুঘরে দুটি সারগনিক বিজয় ফল...</td>\n",
       "      <td>parametric answer: দ্বাদশ শতাব্দীতে\\ncontextua...</td>\n",
       "      <td>parametric answer: দ্বাদশ, contextual answer: ...</td>\n",
       "    </tr>\n",
       "    <tr>\n",
       "      <th>3</th>\n",
       "      <td>Question: সরগন কোন ভাষার লিপির প্রসার ঘটিয়ে ছি...</td>\n",
       "      <td>parametric answer: সেমেটিক (আক্কাদীয়ান)\\ncont...</td>\n",
       "      <td>parametric answer: সেমেটিক (আক্কাদীয়ান), cont...</td>\n",
       "    </tr>\n",
       "    <tr>\n",
       "      <th>4</th>\n",
       "      <td>Question: সুমেরিয়ান কারা?\\nContext:&lt;p&gt; আস্যাইর...</td>\n",
       "      <td>parametric answer: nan\\ncontextual answer: nan</td>\n",
       "      <td>parametric answer: nan, contextual answer: nan</td>\n",
       "    </tr>\n",
       "    <tr>\n",
       "      <th>...</th>\n",
       "      <td>...</td>\n",
       "      <td>...</td>\n",
       "      <td>...</td>\n",
       "    </tr>\n",
       "    <tr>\n",
       "      <th>1315</th>\n",
       "      <td>Question: পানামা উপসাগরে সর্বোচ্চ গভীরতা কত?\\n...</td>\n",
       "      <td>parametric answer: ২২০ মিটার\\ncontextual answe...</td>\n",
       "      <td>parametric answer: ২২০ মিটার, contextual answe...</td>\n",
       "    </tr>\n",
       "    <tr>\n",
       "      <th>1316</th>\n",
       "      <td>Question: পানামা উপসাগরে কয়টি দ্বীপও আছে?\\nCon...</td>\n",
       "      <td>parametric answer: nan\\ncontextual answer: nan</td>\n",
       "      <td>parametric answer: কিছু, contextual answer: কিছু</td>\n",
       "    </tr>\n",
       "    <tr>\n",
       "      <th>1317</th>\n",
       "      <td>Question: সাংবাদিকতা বলতে কী বুঝায়?\\nContext:&lt;...</td>\n",
       "      <td>parametric answer: বিভিন্ন ঘটনাবলী, বিষয়, ধার...</td>\n",
       "      <td>parametric answer: বিভিন্ন ঘটনাবলী, বিষয়, ধার...</td>\n",
       "    </tr>\n",
       "    <tr>\n",
       "      <th>1318</th>\n",
       "      <td>Question: কোন দশকে আধুনিক সাংবাদিকতা রূপ ধারণ ...</td>\n",
       "      <td>parametric answer: ১৯২০\\ncontextual answer: ১৯২০</td>\n",
       "      <td>parametric answer: ১৯২০, contextual answer: ১৯২০</td>\n",
       "    </tr>\n",
       "    <tr>\n",
       "      <th>1319</th>\n",
       "      <td>Question: কোনটি কে প্রথম সংবাদপত্র বলে অভিহিত ...</td>\n",
       "      <td>parametric answer: nan\\ncontextual answer: nan</td>\n",
       "      <td>parametric answer: nan, contextual answer: nan</td>\n",
       "    </tr>\n",
       "  </tbody>\n",
       "</table>\n",
       "<p>1320 rows × 3 columns</p>\n",
       "</div>"
      ],
      "text/plain": [
       "                                               Question  \\\n",
       "0     Question: কোন জাদুঘরে সারগনিক বিজয় ফলক আছে?\\nC...   \n",
       "1     Question: ল্যুভর জাদুঘরে দুটি সারগনিক বিজয় ফল...   \n",
       "2     Question: ল্যুভর জাদুঘরে দুটি সারগনিক বিজয় ফল...   \n",
       "3     Question: সরগন কোন ভাষার লিপির প্রসার ঘটিয়ে ছি...   \n",
       "4     Question: সুমেরিয়ান কারা?\\nContext:<p> আস্যাইর...   \n",
       "...                                                 ...   \n",
       "1315  Question: পানামা উপসাগরে সর্বোচ্চ গভীরতা কত?\\n...   \n",
       "1316  Question: পানামা উপসাগরে কয়টি দ্বীপও আছে?\\nCon...   \n",
       "1317  Question: সাংবাদিকতা বলতে কী বুঝায়?\\nContext:<...   \n",
       "1318  Question: কোন দশকে আধুনিক সাংবাদিকতা রূপ ধারণ ...   \n",
       "1319  Question: কোনটি কে প্রথম সংবাদপত্র বলে অভিহিত ...   \n",
       "\n",
       "                                                 Answer  \\\n",
       "0     parametric answer: ল্যুভর জাদুঘরে\\ncontextual ...   \n",
       "1     parametric answer: খুব সম্ভবত মেসোপটেমিয়া ত্থ...   \n",
       "2     parametric answer: দ্বাদশ শতাব্দীতে\\ncontextua...   \n",
       "3     parametric answer: সেমেটিক (আক্কাদীয়ান)\\ncont...   \n",
       "4        parametric answer: nan\\ncontextual answer: nan   \n",
       "...                                                 ...   \n",
       "1315  parametric answer: ২২০ মিটার\\ncontextual answe...   \n",
       "1316     parametric answer: nan\\ncontextual answer: nan   \n",
       "1317  parametric answer: বিভিন্ন ঘটনাবলী, বিষয়, ধার...   \n",
       "1318   parametric answer: ১৯২০\\ncontextual answer: ১৯২০   \n",
       "1319     parametric answer: nan\\ncontextual answer: nan   \n",
       "\n",
       "                                       Predicted_Answer  \n",
       "0     parametric answer: ল্যুভর, contextual answer: ...  \n",
       "1     parametric answer: সুসা (যেখানে এগুলি খুব সম্ভ...  \n",
       "2     parametric answer: দ্বাদশ, contextual answer: ...  \n",
       "3     parametric answer: সেমেটিক (আক্কাদীয়ান), cont...  \n",
       "4        parametric answer: nan, contextual answer: nan  \n",
       "...                                                 ...  \n",
       "1315  parametric answer: ২২০ মিটার, contextual answe...  \n",
       "1316   parametric answer: কিছু, contextual answer: কিছু  \n",
       "1317  parametric answer: বিভিন্ন ঘটনাবলী, বিষয়, ধার...  \n",
       "1318   parametric answer: ১৯২০, contextual answer: ১৯২০  \n",
       "1319     parametric answer: nan, contextual answer: nan  \n",
       "\n",
       "[1320 rows x 3 columns]"
      ]
     },
     "execution_count": 10,
     "metadata": {},
     "output_type": "execute_result"
    }
   ],
   "source": [
    "df"
   ]
  },
  {
   "cell_type": "code",
   "execution_count": null,
   "id": "46db83d7-d8ed-43e2-885f-fbdbde5bd833",
   "metadata": {},
   "outputs": [],
   "source": []
  },
  {
   "cell_type": "code",
   "execution_count": null,
   "id": "33a0fd84-eb73-4485-b341-0c9cdee82814",
   "metadata": {},
   "outputs": [],
   "source": []
  },
  {
   "cell_type": "code",
   "execution_count": null,
   "id": "6a740f9d-6c1d-4a2f-81a1-b4bb79e70afc",
   "metadata": {},
   "outputs": [],
   "source": []
  },
  {
   "cell_type": "code",
   "execution_count": null,
   "id": "051d150f-f7d8-4961-a453-d19df8bf0858",
   "metadata": {},
   "outputs": [],
   "source": []
  },
  {
   "cell_type": "code",
   "execution_count": null,
   "id": "1f849c1c-eb58-4ac4-a1e5-c4ea1d632af7",
   "metadata": {},
   "outputs": [],
   "source": []
  },
  {
   "cell_type": "code",
   "execution_count": 34,
   "id": "79f6bb9c-2d62-44e3-a148-2a862de7a057",
   "metadata": {},
   "outputs": [],
   "source": [
    "# import pandas as pd\n",
    "# import google.generativeai as genai\n",
    "# from tqdm import tqdm\n",
    "# import time\n",
    "\n",
    "# # Configure the Gemini API\n",
    "# genai.configure(api_key=\"\")\n",
    "# model = genai.GenerativeModel(\"gemini-2.0-flash-exp\")\n",
    "\n",
    "\n",
    "\n",
    "# # Function to extract answers using Gemini\n",
    "# def extract_answers(predicted_answer):\n",
    "#     # Check for None, NaN, or empty values\n",
    "#     if pd.isna(predicted_answer) or predicted_answer is None or (isinstance(predicted_answer, str) and not predicted_answer.strip()):\n",
    "#         return \"\"\n",
    "    \n",
    "#     try:\n",
    "#         # Convert to string if it's not already\n",
    "#         predicted_answer = str(predicted_answer)\n",
    "        \n",
    "#         prompt = f'''\n",
    "        \n",
    "#         {predicted_answer}\n",
    "        \n",
    "# In the above section extact the Contextual and Parametric Answer only\n",
    "# Translate it to Bengali do not add anything extra and change anything. Keep the digits same! Converts English degits to Bengali Digits!\n",
    "# Format:\n",
    "# Contextual Answer:\n",
    "# Parametric Answer:\n",
    "#         '''\n",
    "#         response = model.generate_content(prompt)\n",
    "#         return response.text\n",
    "#     except Exception as e:\n",
    "#         print(f\"Error processing answer: {e}\")\n",
    "#         return \"\"\n",
    "\n",
    "# # Process each row in the DataFrame with progress bar and rate limiting\n",
    "# request_count = 0\n",
    "\n",
    "# for idx in tqdm(range(0,len(df)), desc=\"Processing answers\", unit=\"row\"):\n",
    "#     # Update request counter\n",
    "#     request_count += 1\n",
    "    \n",
    "#     # Process the current row\n",
    "#     updated_answer = extract_answers(df.iloc[idx]['Predicted Answer'])\n",
    "#     df.at[idx, 'Predicted Answer'] = updated_answer\n",
    "    \n",
    "#     # Rate limiting logic\n",
    "#     if request_count % 100 == 0:\n",
    "#         print(f\"\\nMade 20 requests. Pausing for 80 seconds...\")\n",
    "#         time.sleep(80)  # Wait for 80 seconds after every 20 requests\n",
    "#     else:\n",
    "#         print(f\"\\nWaiting 10 seconds before next request...\")\n",
    "#         time.sleep(13)  # Wait for 15 seconds between regular requests\n",
    "\n",
    "# # Save the updated DataFrame to a new CSV file\n",
    "# output_file_path = 'processed_results_1700to2000.csv'\n",
    "# df.to_csv(output_file_path, index=False)\n",
    "# print(f\"\\nProcessed data with updated answers has been saved to {output_file_path}\")"
   ]
  },
  {
   "cell_type": "code",
   "execution_count": 6,
   "id": "f39e68ee-3176-4784-9cf7-aefc10528a2d",
   "metadata": {},
   "outputs": [
    {
     "name": "stdout",
     "output_type": "stream",
     "text": [
      "\n",
      "Processed data with updated answers has been saved to processed_results_with_answers.csv\n"
     ]
    }
   ],
   "source": [
    "# output_file_path = 'processed_results_with_answers.csv'\n",
    "# df.to_csv(output_file_path, index=False)\n",
    "# print(f\"\\nProcessed data with updated answers has been saved to {output_file_path}\")"
   ]
  },
  {
   "cell_type": "code",
   "execution_count": null,
   "id": "6d31a34c-af79-4636-908b-d4aefaed4740",
   "metadata": {},
   "outputs": [],
   "source": []
  },
  {
   "cell_type": "code",
   "execution_count": null,
   "id": "982ddde9-2981-45bc-a2c6-ff8ddde2bc33",
   "metadata": {},
   "outputs": [
    {
     "name": "stdout",
     "output_type": "stream",
     "text": [
      "Contextual Answer similarity: 100%\n",
      "Parametric Answer similarity: 0%\n",
      "\n"
     ]
    }
   ],
   "source": [
    "import google.generativeai as genai\n",
    "\n",
    "genai.configure(api_key=\"\")\n",
    "model = genai.GenerativeModel(\"gemini-2.0-flash-exp\")\n",
    "\n",
    "response = model.generate_content('''\n",
    "Target:\n",
    "parametric answer: সাতোশি টোবা\n",
    "contextual answer: সাতোশি টোবা\n",
    "\n",
    "\n",
    "Generated:\n",
    "Contextual Answer: সাতোশি তোবা\n",
    "Parametric Answer: শিনিচিরো টোবা\n",
    "\n",
    "\n",
    "\n",
    "In the above section compare bewtween traget and contextual and both of them are in Bengali. You need to just compare the answers, you will check if they are presenting same meaning, do not check length if they are meaning the same asnwer or not. If the generated answer is long but giving the actual value like target provide me good result and provide me score in following format in %\n",
    "\n",
    "Format:\n",
    "Contextual Answer smilirarity:\n",
    "Parametric Answer similarity:\n",
    "''')\n",
    "print(response.text)"
   ]
  },
  {
   "cell_type": "code",
   "execution_count": null,
   "id": "ed1ffe06-b774-4a6d-843c-6263ac751b2d",
   "metadata": {},
   "outputs": [],
   "source": []
  },
  {
   "cell_type": "code",
   "execution_count": null,
   "id": "5d80f785-f9ec-44dd-8ebe-859f5053c640",
   "metadata": {},
   "outputs": [],
   "source": []
  },
  {
   "cell_type": "code",
   "execution_count": null,
   "id": "d606ed1f-cf12-43f9-b268-110351cc5bac",
   "metadata": {},
   "outputs": [],
   "source": []
  },
  {
   "cell_type": "code",
   "execution_count": null,
   "id": "aea61cd9-c712-4460-acff-8f643aee433c",
   "metadata": {},
   "outputs": [],
   "source": []
  },
  {
   "cell_type": "code",
   "execution_count": 35,
   "id": "d8f99968-c26b-45d9-89d9-61e38fdb1b98",
   "metadata": {},
   "outputs": [],
   "source": [
    "# import pandas as pd\n",
    "# import google.generativeai as genai\n",
    "# from tqdm import tqdm\n",
    "# import time\n",
    "\n",
    "# # Configure the Gemini API\n",
    "# genai.configure(api_key=\"\")\n",
    "# model = genai.GenerativeModel(\"gemini-2.0-flash-exp\")\n",
    "\n",
    "# # Function to calculate similarity using Gemini API\n",
    "# def calculate_similarity(row):\n",
    "#     \"\"\"\n",
    "#     Compare target and generated answers and return the similarity scores.\n",
    "#     \"\"\"\n",
    "#     target = row['Answer']\n",
    "#     generated = row['Predicted Answer']\n",
    "\n",
    "#     paraanswer = generated.split(\"Parametric Answer: \")[1].strip()\n",
    "#     contextanswer = generated.split(\"Parametric Answer: \")[0].lstrip(\"Contextual Answer:\").strip()\n",
    "\n",
    "#     final_generated = f\"parametric answer:{paraanswer}\\ncontextual answer: {contextanswer}\"\n",
    "#     print(\"Target:\",target)\n",
    "#     print(\"generated:\",final_generated)\n",
    "\n",
    "#     # Check for None, NaN, or empty values\n",
    "#     if pd.isna(target) or pd.isna(generated) or not target.strip() or not generated.strip():\n",
    "#         return {\"Contextual\": \"\", \"Parametric\": \"\"}\n",
    "\n",
    "#     try:\n",
    "#         # Prepare the prompt for Gemini\n",
    "#         prompt = f'''\n",
    "# Target:\n",
    "# {target}\n",
    "\n",
    "# Generated:\n",
    "# {final_generated}\n",
    "\n",
    "# In the above section, compare the target and contextual answers. Both are in Bengali.\n",
    "# You need to check if they present the same meaning without considering length.\n",
    "# If they mean the same, provide a similarity score. Ensure accuracy.\n",
    "\n",
    "# Format:\n",
    "# Contextual Answer similarity: [Value in %]\n",
    "# Parametric Answer similarity: [Value in %]\n",
    "# '''\n",
    "#         # Generate response\n",
    "#         response = model.generate_content(prompt)\n",
    "#         result = response.text\n",
    "\n",
    "#         # Extract similarity scores from the response\n",
    "#         contextual_similarity = \"\"\n",
    "#         parametric_similarity = \"\"\n",
    "#         for line in result.splitlines():\n",
    "#             if \"Contextual Answer similarity:\" in line:\n",
    "#                 contextual_similarity = line.split(\":\")[-1].strip()\n",
    "#             elif \"Parametric Answer similarity:\" in line:\n",
    "#                 parametric_similarity = line.split(\":\")[-1].strip()\n",
    "\n",
    "#         return {\n",
    "#             \"Contextual\": contextual_similarity,\n",
    "#             \"Parametric\": parametric_similarity\n",
    "#         }\n",
    "#     except Exception as e:\n",
    "#         print(f\"Error processing row: {e}\")\n",
    "#         return {\"Contextual\": \"\", \"Parametric\": \"\"}\n",
    "\n",
    "# # Load the DataFrame\n",
    "\n",
    "\n",
    "# # Add new columns for similarity scores\n",
    "# df['Contextual Similarity'] = \"\"\n",
    "# df['Parametric Similarity'] = \"\"\n",
    "\n",
    "# # Process each row and calculate similarity with progress bar\n",
    "# for idx in tqdm(range(0,len(df)), desc=\"Processing rows\", unit=\"row\"):\n",
    "#     row = df.iloc[idx]\n",
    "#     similarity_scores = calculate_similarity(row)\n",
    "    \n",
    "#     # Update the DataFrame with similarity scores\n",
    "#     df.at[idx, 'Contextual Similarity'] = similarity_scores['Contextual']\n",
    "#     df.at[idx, 'Parametric Similarity'] = similarity_scores['Parametric']\n",
    "\n",
    "#     # Save after every row to avoid data loss\n",
    "#     df.to_csv('processed_results.csv', index=False)\n",
    "\n",
    "#     # Rate limiting to comply with API usage policies\n",
    "#     time.sleep(13)  # Adjust the time if needed\n",
    "\n",
    "# print(\"Processing completed. Results saved to 'processed_results.csv'\")\n"
   ]
  },
  {
   "cell_type": "code",
   "execution_count": null,
   "id": "614b783d-5388-4020-8758-4831520f27fe",
   "metadata": {},
   "outputs": [],
   "source": []
  },
  {
   "cell_type": "code",
   "execution_count": null,
   "id": "f2a813f0-d151-4164-b57f-23e4d0e07b8c",
   "metadata": {},
   "outputs": [],
   "source": []
  },
  {
   "cell_type": "code",
   "execution_count": null,
   "id": "12231636-507c-45e7-b3cf-71ca693a03d2",
   "metadata": {},
   "outputs": [
    {
     "name": "stderr",
     "output_type": "stream",
     "text": [
      "Processing rows:   0%|                                                                       | 0/1320 [00:00<?, ?row/s]"
     ]
    },
    {
     "name": "stdout",
     "output_type": "stream",
     "text": [
      "Target: parametric answer: ল্যুভর জাদুঘরে\n",
      "contextual answer: ল্যুভর জাদুঘরে\n",
      "generated: parametric answer: ল্যুভর, contextual answer: ল্যুভর\n"
     ]
    },
    {
     "name": "stderr",
     "output_type": "stream",
     "text": [
      "Processing rows:   0%|                                                             | 1/1320 [00:16<6:08:00, 16.74s/row]"
     ]
    },
    {
     "name": "stdout",
     "output_type": "stream",
     "text": [
      "Target: parametric answer: খুব সম্ভবত মেসোপটেমিয়া ত্থেকে\n",
      "contextual answer: খুব সম্ভবত মেসোপটেমিয়া ত্থেকে\n",
      "generated: parametric answer: সুসা (যেখানে এগুলি খুব সম্ভবত মেসোপটেমিয়া ত্থেকে দ্বাদশ শতাব্দীতে স্থানান্তরিত করা হয়েছিল), contextual answer: সুসা (যেখানে এগুলি খুব সম্ভবত মেসোপটেমিয়া ত্থেকে দ্বাদশ শতাব্দীতে স্থানান্তরিত করা হয়েছিল)\n"
     ]
    },
    {
     "name": "stderr",
     "output_type": "stream",
     "text": [
      "Processing rows:   0%|                                                             | 2/1320 [00:32<5:59:45, 16.38s/row]"
     ]
    },
    {
     "name": "stdout",
     "output_type": "stream",
     "text": [
      "Target: parametric answer: দ্বাদশ শতাব্দীতে\n",
      "contextual answer: দ্বাদশ শতাব্দীতে\n",
      "generated: parametric answer: দ্বাদশ, contextual answer: দ্বাদশ\n"
     ]
    },
    {
     "name": "stderr",
     "output_type": "stream",
     "text": [
      "Processing rows:   0%|▏                                                            | 3/1320 [00:47<5:52:49, 16.07s/row]"
     ]
    },
    {
     "name": "stdout",
     "output_type": "stream",
     "text": [
      "Target: parametric answer: সেমেটিক (আক্কাদীয়ান)\n",
      "contextual answer: সেমেটিক (আক্কাদীয়ান)\n",
      "generated: parametric answer: সেমেটিক (আক্কাদীয়ান), contextual answer: সেমেটিক (আক্কাদীয়ান)\n"
     ]
    },
    {
     "name": "stderr",
     "output_type": "stream",
     "text": [
      "Processing rows:   0%|▏                                                            | 4/1320 [01:01<5:38:21, 15.43s/row]"
     ]
    },
    {
     "name": "stdout",
     "output_type": "stream",
     "text": [
      "Target: parametric answer: মাৎসুশিবা রোবোট\n",
      "contextual answer: মাৎসুশিবা রোবোট\n",
      "generated: parametric answer: মাৎসুশিবা রোবোট ফ্যাক্টরি, contextual answer: মাৎসুশিবা রোবোট ফ্যাক্টরি\n"
     ]
    },
    {
     "name": "stderr",
     "output_type": "stream",
     "text": [
      "Processing rows:   0%|▎                                                            | 6/1320 [01:16<4:45:58, 13.06s/row]"
     ]
    },
    {
     "name": "stdout",
     "output_type": "stream",
     "text": [
      "Target: parametric answer: ২১১২\n",
      "contextual answer: ২১১২\n",
      "generated: parametric answer: ২১১২, contextual answer: ২১১২\n"
     ]
    },
    {
     "name": "stderr",
     "output_type": "stream",
     "text": [
      "Processing rows:   1%|▎                                                            | 7/1320 [01:30<4:51:16, 13.31s/row]"
     ]
    },
    {
     "name": "stdout",
     "output_type": "stream",
     "text": [
      "Target: parametric answer: ডোরেমন তৈরির সময় দুজন সন্ত্রাসী টাইম ওয়ার্প দিয়ে টাইম প্যাট্রোল থেকে পালাচ্ছিলো যার ফলে\n",
      "contextual answer: ডোরেমন তৈরির সময় দুজন সন্ত্রাসী টাইম ওয়ার্প দিয়ে টাইম প্যাট্রোল থেকে পালাচ্ছিলো যার ফলে\n",
      "generated: parametric answer: ডোরেমন তৈরির সময় দুজন সন্ত্রাসী টাইম ওয়ার্প দিয়ে টাইম প্যাট্রোল থেকে পালাচ্ছিলো যার ফলে, contextual answer: ডোরেমন তৈরির সময় দুজন সন্ত্রাসী টাইম ওয়ার্প দিয়ে টাইম প্যাট্রোল থেকে পালাচ্ছিলো যার ফলে\n"
     ]
    },
    {
     "name": "stderr",
     "output_type": "stream",
     "text": [
      "Processing rows:   1%|▍                                                            | 9/1320 [01:44<4:09:19, 11.41s/row]"
     ]
    },
    {
     "name": "stdout",
     "output_type": "stream",
     "text": [
      "Target: parametric answer: জিয়ান ও সুনেওর\n",
      "contextual answer: জিয়ান ও সুনেওর\n",
      "generated: parametric answer: জিয়ান ও সুনেওর, contextual answer: জিয়ান ও সুনেওর\n"
     ]
    },
    {
     "name": "stderr",
     "output_type": "stream",
     "text": [
      "Processing rows:   1%|▍                                                           | 10/1320 [01:59<4:31:48, 12.45s/row]"
     ]
    },
    {
     "name": "stdout",
     "output_type": "stream",
     "text": [
      "Target: parametric answer: ৫৫ লাখ\n",
      "contextual answer: ৫৫ লাখ\n",
      "generated: parametric answer: ৫৫ লাখ, contextual answer: ৫৫ লাখ\n"
     ]
    },
    {
     "name": "stderr",
     "output_type": "stream",
     "text": [
      "Processing rows:   1%|▌                                                           | 11/1320 [02:13<4:41:50, 12.92s/row]"
     ]
    },
    {
     "name": "stdout",
     "output_type": "stream",
     "text": [
      "Target: parametric answer: ২৬টি\n",
      "contextual answer: ২৬টি\n",
      "generated: parametric answer: ২৬, contextual answer: ২৬\n"
     ]
    },
    {
     "name": "stderr",
     "output_type": "stream",
     "text": [
      "Processing rows:   1%|▌                                                           | 12/1320 [02:28<4:55:13, 13.54s/row]"
     ]
    },
    {
     "name": "stdout",
     "output_type": "stream",
     "text": [
      "Target: parametric answer: দুটি\n",
      "contextual answer: দুটি\n",
      "generated: parametric answer: দুটি, contextual answer: দুটি\n"
     ]
    },
    {
     "name": "stderr",
     "output_type": "stream",
     "text": [
      "Processing rows:   1%|▌                                                           | 13/1320 [02:42<5:01:33, 13.84s/row]"
     ]
    },
    {
     "name": "stdout",
     "output_type": "stream",
     "text": [
      "Target: parametric answer: গাড়ি সামের্থ্যর সর্বোচ্চ পর্যায়ে পৌছা পর্যন্ত গাড়িকে স্থিতিশীল রাখতে সাহায্য করে\n",
      "contextual answer: গাড়ি সামের্থ্যর সর্বোচ্চ পর্যায়ে পৌছা পর্যন্ত গাড়িকে স্থিতিশীল রাখতে সাহায্য করে\n",
      "generated: parametric answer: nan, contextual answer: nan\n"
     ]
    },
    {
     "name": "stderr",
     "output_type": "stream",
     "text": [
      "Processing rows:   1%|▋                                                           | 14/1320 [02:57<5:08:03, 14.15s/row]"
     ]
    },
    {
     "name": "stdout",
     "output_type": "stream",
     "text": [
      "Target: parametric answer: ২০১৫ সালের\n",
      "contextual answer: ২০১৫ সালের\n",
      "generated: parametric answer: ২০১৫, contextual answer: ২০১৫\n"
     ]
    },
    {
     "name": "stderr",
     "output_type": "stream",
     "text": [
      "Processing rows:   1%|▊                                                           | 17/1320 [03:13<4:08:35, 11.45s/row]"
     ]
    },
    {
     "name": "stdout",
     "output_type": "stream",
     "text": [
      "Target: parametric answer: ইলেক্ট্রিক্যাল এন্ড মেকানিক্যাল ইঞ্জিনিয়ার্স\n",
      "contextual answer: ইলেক্ট্রিক্যাল এন্ড মেকানিক্যাল ইঞ্জিনিয়ার্স\n",
      "generated: parametric answer: ইলেক্ট্রিকাল এন্ড মেকানিক্যাল ইঞ্জিনিয়ার্স, contextual answer: ইলেক্ট্রিকাল এন্ড মেকানিক্যাল ইঞ্জিনিয়ার\n"
     ]
    },
    {
     "name": "stderr",
     "output_type": "stream",
     "text": [
      "Processing rows:   1%|▊                                                           | 18/1320 [03:28<4:32:58, 12.58s/row]"
     ]
    },
    {
     "name": "stdout",
     "output_type": "stream",
     "text": [
      "Target: parametric answer: স্লাটওয়াকের\n",
      "contextual answer: স্লাটওয়াকের\n",
      "generated: parametric answer: মহিলাদের, contextual answer: স্লাটওয়াকের\n"
     ]
    },
    {
     "name": "stderr",
     "output_type": "stream",
     "text": [
      "Processing rows:   2%|▉                                                           | 21/1320 [03:43<3:43:38, 10.33s/row]"
     ]
    },
    {
     "name": "stdout",
     "output_type": "stream",
     "text": [
      "Target: parametric answer: ভোপালে\n",
      "contextual answer: ভোপালে\n",
      "generated: parametric answer: ভোপালে, contextual answer: ভোপালে\n"
     ]
    },
    {
     "name": "stderr",
     "output_type": "stream",
     "text": [
      "Processing rows:   2%|█                                                           | 22/1320 [03:58<4:12:45, 11.68s/row]"
     ]
    },
    {
     "name": "stdout",
     "output_type": "stream",
     "text": [
      "Target: parametric answer: নাম\n",
      "contextual answer: নাম\n",
      "generated: parametric answer: নাম, contextual answer: নাম\n"
     ]
    },
    {
     "name": "stderr",
     "output_type": "stream",
     "text": [
      "Processing rows:   2%|█                                                           | 23/1320 [04:13<4:31:54, 12.58s/row]"
     ]
    },
    {
     "name": "stdout",
     "output_type": "stream",
     "text": [
      "Target: parametric answer: জাপান\n",
      "contextual answer: জাপান\n",
      "generated: parametric answer: জাপান, contextual answer: জাপান\n"
     ]
    },
    {
     "name": "stderr",
     "output_type": "stream",
     "text": [
      "Processing rows:   2%|█▏                                                          | 26/1320 [04:27<3:40:11, 10.21s/row]"
     ]
    },
    {
     "name": "stdout",
     "output_type": "stream",
     "text": [
      "Target: parametric answer: ১৯৯৭ সালের ১ এপ্রিল\n",
      "contextual answer: ১৯৯৭ সালের ১ এপ্রিল\n",
      "generated: parametric answer: ১৯৯৭ সালের ১ এপ্রিল, contextual answer: ১৯৯৭ সালের ১ এপ্রিল\n"
     ]
    },
    {
     "name": "stderr",
     "output_type": "stream",
     "text": [
      "Processing rows:   2%|█▎                                                          | 28/1320 [04:41<3:18:50,  9.23s/row]"
     ]
    },
    {
     "name": "stdout",
     "output_type": "stream",
     "text": [
      "Target: parametric answer: অ্যাশ কেচম\n",
      "contextual answer: অ্যাশ কেচম\n",
      "generated: parametric answer: nan, contextual answer: nan\n"
     ]
    },
    {
     "name": "stderr",
     "output_type": "stream",
     "text": [
      "Processing rows:   2%|█▎                                                          | 29/1320 [04:55<3:49:22, 10.66s/row]"
     ]
    },
    {
     "name": "stdout",
     "output_type": "stream",
     "text": [
      "Target: parametric answer: টয়োটা\n",
      "contextual answer: টয়োটা\n",
      "generated: parametric answer: টয়োটা, contextual answer: টয়োটা\n"
     ]
    },
    {
     "name": "stderr",
     "output_type": "stream",
     "text": [
      "Processing rows:   2%|█▍                                                          | 31/1320 [05:09<3:28:05,  9.69s/row]"
     ]
    },
    {
     "name": "stdout",
     "output_type": "stream",
     "text": [
      "Target: parametric answer: ১৯৯৮\n",
      "contextual answer: ১৯৯৮\n",
      "generated: parametric answer: ১৯৯৮, contextual answer: ১৯৯৮\n"
     ]
    },
    {
     "name": "stderr",
     "output_type": "stream",
     "text": [
      "Processing rows:   2%|█▍                                                          | 32/1320 [05:23<3:55:11, 10.96s/row]"
     ]
    },
    {
     "name": "stdout",
     "output_type": "stream",
     "text": [
      "Target: parametric answer: টয়োটা গাড়ি\n",
      "contextual answer: টয়োটা গাড়ি\n",
      "generated: parametric answer: টয়োটা গাড়ি নেভিগেশন সিস্টেমে মানচিত্রের হালনাগাদ বিতরণ করার জন্য, contextual answer: টয়োটা গাড়ি নেভিগেশন সিস্টেমে মানচিত্রের হালনাগাদ বিতরণ করার জন্য\n"
     ]
    },
    {
     "name": "stderr",
     "output_type": "stream",
     "text": [
      "Processing rows:   2%|█▌                                                          | 33/1320 [05:38<4:21:32, 12.19s/row]"
     ]
    },
    {
     "name": "stdout",
     "output_type": "stream",
     "text": [
      "Target: parametric answer: টয়োটা ক্রাউন-এ অ্যাডাপটিভ ভেরিয়েবল সাসপেনশন সিস্টেমের (এনএভিআই / এআই-এভিএস) সাথে সংযুক্ত বিশ্বের প্রথম নেভিগেশন সিস্টেম-সংযুক্ত ব্রেক সহায়তা ফাংশন এবং নেভিগেশন সিস্টেম\n",
      "contextual answer: টয়োটা ক্রাউন-এ অ্যাডাপটিভ ভেরিয়েবল সাসপেনশন সিস্টেমের (এনএভিআই / এআই-এভিএস) সাথে সংযুক্ত বিশ্বের প্রথম নেভিগেশন সিস্টেম-সংযুক্ত ব্রেক সহায়তা ফাংশন এবং নেভিগেশন সিস্টেম\n",
      "generated: parametric answer: টয়োটা ক্রাউন-এ অ্যাডাপটিভ ভেরিয়েবল সাসপেনশন সিস্টেমের (এনএভিআই) সাথে সংযুক্ত বিশ্বের প্রথম নেভিগেশন সিস্টেম-সংযুক্ত ব্রেক সহায়তা ফাংশন এবং নেভিগেশন সিস্টেম, contextual answer: টয়োটা ক্রাউন-এ অ্যাডাপটিভ ভেরিয়েবল সাসপেনশন সিস্টেমের (এনএভিআই) সাথে সংযুক্ত বিশ্বের প্রথম নেভিগেশন সিস্টেম-সংযুক্ত ব্রেক সহায়তা ফাংশন এবং নেভিগেশন সিস্টেম\n"
     ]
    },
    {
     "name": "stderr",
     "output_type": "stream",
     "text": [
      "Processing rows:   3%|█▌                                                          | 34/1320 [05:52<4:32:41, 12.72s/row]"
     ]
    },
    {
     "name": "stdout",
     "output_type": "stream",
     "text": [
      "Target: parametric answer: সাউদার্ন ক্যালিফোর্নিয়া বিশ্ববিদ্যালয়ের ইনস্টিটিউট ফর ক্রিয়েটিভ টেকনোলজিস এবং ইউএস আর্মি রিসার্চ ল্যাবরেটরি\n",
      "contextual answer: সাউদার্ন ক্যালিফোর্নিয়া বিশ্ববিদ্যালয়ের ইনস্টিটিউট ফর ক্রিয়েটিভ টেকনোলজিস এবং ইউএস আর্মি রিসার্চ ল্যাবরেটরি\n",
      "generated: parametric answer: সাউদার্ন ক্যালিফোর্নিয়া বিশ্ববিদ্যালয়ের ইনস্টিটিউট ফর ক্রিয়েটিভ টেকনোলজিস এবং ইউএস আর্মি রিসার্চ ল্যাবরেটরি (এআরএল) দ্বারা, contextual answer: সাউদার্ন ক্যালিফোর্নিয়া বিশ্ববিদ্যালয়ের ইনস্টিটিউট ফর ক্রিয়েটিভ টেকনোলজিস এবং ইউএস আর্মি রিসার্চ ল্যাবরেটরি (এআরএল) দ্বারা\n"
     ]
    },
    {
     "name": "stderr",
     "output_type": "stream",
     "text": [
      "Processing rows:   3%|█▋                                                          | 37/1320 [06:07<3:40:37, 10.32s/row]"
     ]
    },
    {
     "name": "stdout",
     "output_type": "stream",
     "text": [
      "Target: parametric answer: কমান্ড দলের\n",
      "contextual answer: কমান্ড দলের\n",
      "generated: parametric answer: কমান্ড দলের, contextual answer: কমান্ড দলের\n"
     ]
    },
    {
     "name": "stderr",
     "output_type": "stream",
     "text": [
      "Processing rows:   3%|█▋                                                          | 38/1320 [06:21<4:04:20, 11.44s/row]"
     ]
    },
    {
     "name": "stdout",
     "output_type": "stream",
     "text": [
      "Target: parametric answer: ২০১৬ সালের ২১ মার্চ\n",
      "contextual answer: ২০১৬ সালের ২১ মার্চ\n",
      "generated: parametric answer: ২০১৬ সালের ২১ মার্চ, contextual answer: ২০১৬ সালের ২১ মার্চ\n"
     ]
    },
    {
     "name": "stderr",
     "output_type": "stream",
     "text": [
      "Processing rows:   3%|█▊                                                          | 39/1320 [06:35<4:23:12, 12.33s/row]"
     ]
    },
    {
     "name": "stdout",
     "output_type": "stream",
     "text": [
      "Target: parametric answer: ১১০০ অব্দ থেকে শুরু করে খ্রিস্টপূর্ব ৯ম শতাব্দীতে\n",
      "contextual answer: ১১০০ অব্দ থেকে শুরু করে খ্রিস্টপূর্ব ৯ম শতাব্দীতে\n",
      "generated: parametric answer: প্রাচীন গ্রীসের শেষ দিকে খ্রিস্টপূর্ব ১১০০ অব্দ থেকে শুরু করে খ্রিস্টপূর্ব ৯ম শতাব্দীতে প্রাচীন গ্রীসের প্রথম নিদর্শন পর্যন্ত, contextual answer: মিসিনিয়ান সভ্যতার শেষ দিকে খ্রিস্টপূর্ব ১১০০ অব্দ থেকে শুরু করে খ্রিস্টপূর্ব ৯ম শতাব্দীতে প্রাচীন গ্রীসের প্রথম নিদর্শন পর্যন্ত\n"
     ]
    },
    {
     "name": "stderr",
     "output_type": "stream",
     "text": [
      "Processing rows:   3%|█▊                                                          | 41/1320 [06:49<3:49:34, 10.77s/row]"
     ]
    },
    {
     "name": "stdout",
     "output_type": "stream",
     "text": [
      "Target: parametric answer: ইউবোয়ার লেলান্টাইন সমভূমির লেফকান্দি থেকে প্রাপ্ত হস্তনির্মিত দ্রব্যাদি\n",
      "contextual answer: ইউবোয়ার লেলান্টাইন সমভূমির লেফকান্দি থেকে প্রাপ্ত হস্তনির্মিত দ্রব্যাদি\n",
      "generated: parametric answer: অল্পবিস্তর সাংস্কৃতিক উন্নতির কারণে পূর্বে ধারণা করা হত এই সময়ে প্রধান ভূমি হেলেনেসের এবং বিদেশীদের মধ্যকার সকল যোগাযোগ বিচ্যুত হয়েছে, contextual answer: অল্পবিস্তর সাংস্কৃতিক উন্নতির কারণে পূর্বে ধারণা করা হত এই সময়ে প্রধান ভূমি হেলেনেসের এবং বিদেশীদের মধ্যকার সকল যোগাযোগ বিচ্যুত হয়েছে\n"
     ]
    },
    {
     "name": "stderr",
     "output_type": "stream",
     "text": [
      "Processing rows:   3%|█▉                                                          | 42/1320 [07:09<4:44:05, 13.34s/row]"
     ]
    },
    {
     "name": "stdout",
     "output_type": "stream",
     "text": [
      "Target: parametric answer: ১৯৭৩\n",
      "contextual answer: ১৯৭৩\n",
      "generated: parametric answer: ১৯৭৩, contextual answer: ১৯৭৩\n"
     ]
    },
    {
     "name": "stderr",
     "output_type": "stream",
     "text": [
      "Processing rows:   3%|██                                                          | 45/1320 [07:23<3:49:16, 10.79s/row]"
     ]
    },
    {
     "name": "stdout",
     "output_type": "stream",
     "text": [
      "Target: parametric answer: আইবিএম ৫১০০\n",
      "contextual answer: আইবিএম ৫১০০\n",
      "generated: parametric answer: আইবিএম ৫১০০, contextual answer: আইবিএম ৫১০০\n"
     ]
    },
    {
     "name": "stderr",
     "output_type": "stream",
     "text": [
      "Processing rows:   3%|██                                                          | 46/1320 [07:38<4:15:44, 12.04s/row]"
     ]
    },
    {
     "name": "stdout",
     "output_type": "stream",
     "text": [
      "Target: parametric answer: ১৯৭৫\n",
      "contextual answer: ১৯৭৫\n",
      "generated: parametric answer: ১৯৭৫, contextual answer: ১৯৭৫\n"
     ]
    },
    {
     "name": "stderr",
     "output_type": "stream",
     "text": [
      "Processing rows:   4%|██▏                                                         | 47/1320 [07:52<4:27:47, 12.62s/row]"
     ]
    },
    {
     "name": "stdout",
     "output_type": "stream",
     "text": [
      "Target: parametric answer: আন্তর্জাতিক ক্যাপিটাল মুভমেন্টের কালজয়ী অবদান রাখার জন্য\n",
      "contextual answer: আন্তর্জাতিক ক্যাপিটাল মুভমেন্টের কালজয়ী অবদান রাখার জন্য\n",
      "generated: parametric answer: আন্তর্জাতিক বাণিজ্য ও আন্তর্জাতিক ক্যাপিটাল মুভমেন্টের কালজয়ী অবদান রাখার জন্য, contextual answer: আন্তর্জাতিক বাণিজ্য ও আন্তর্জাতিক ক্যাপিটাল মুভমেন্টের কালজয়ী অবদান রাখার জন্য\n"
     ]
    },
    {
     "name": "stderr",
     "output_type": "stream",
     "text": [
      "Processing rows:   4%|██▏                                                         | 49/1320 [08:10<4:04:40, 11.55s/row]"
     ]
    },
    {
     "name": "stdout",
     "output_type": "stream",
     "text": [
      "Target: parametric answer: বার্টিল ওহলিনের\n",
      "contextual answer: বার্টিল ওহলিনের\n",
      "generated: parametric answer: সুইডিশ অর্থনীতিবিদ বারটিল ওহলিনের, contextual answer: সুইডিশ অর্থনীতিবিদ বার্টিল ওহলিনের\n"
     ]
    },
    {
     "name": "stderr",
     "output_type": "stream",
     "text": [
      "Processing rows:   4%|██▎                                                         | 50/1320 [08:28<4:43:54, 13.41s/row]"
     ]
    },
    {
     "name": "stdout",
     "output_type": "stream",
     "text": [
      "Target: parametric answer: পাঁচ\n",
      "contextual answer: পাঁচ\n",
      "generated: parametric answer: পাঁচ, contextual answer: পাঁচ\n"
     ]
    },
    {
     "name": "stderr",
     "output_type": "stream",
     "text": [
      "Processing rows:   4%|██▎                                                         | 52/1320 [08:44<4:08:58, 11.78s/row]"
     ]
    },
    {
     "name": "stdout",
     "output_type": "stream",
     "text": [
      "Target: parametric answer: সরকারকে উৎখাতের ষড়যন্ত্রে মালাস্পিনার সম্পৃক্ততার অভিযোগ আসে তাই\n",
      "contextual answer: সরকারকে উৎখাতের ষড়যন্ত্রে মালাস্পিনার সম্পৃক্ততার অভিযোগ আসে তাই\n",
      "generated: parametric answer: সরকার উৎখাতের ষড়যন্ত্রে মালাস্পিনার সম্পৃক্ততার অভিযোগে, contextual answer: সরকার উৎখাতের ষড়যন্ত্রে মালাস্পিনার সম্পৃক্ততার অভিযোগে\n"
     ]
    },
    {
     "name": "stderr",
     "output_type": "stream",
     "text": [
      "Processing rows:   4%|██▍                                                         | 53/1320 [09:00<4:35:12, 13.03s/row]"
     ]
    },
    {
     "name": "stdout",
     "output_type": "stream",
     "text": [
      "Target: parametric answer: ১৫,০০,০০,০০০ কি.মি\n",
      "contextual answer: ১৫,০০,০০,০০০ কি.মি\n",
      "generated: parametric answer: ১৫,০০,০০,০০০, contextual answer: ১৫,০০,০০,০০০\n"
     ]
    },
    {
     "name": "stderr",
     "output_type": "stream",
     "text": [
      "Processing rows:   4%|██▌                                                         | 56/1320 [09:16<3:47:16, 10.79s/row]"
     ]
    },
    {
     "name": "stdout",
     "output_type": "stream",
     "text": [
      "Target: parametric answer: ৩০%\n",
      "contextual answer: ৩০%\n",
      "generated: parametric answer: ৩০, contextual answer: ৩০\n"
     ]
    },
    {
     "name": "stderr",
     "output_type": "stream",
     "text": [
      "Processing rows:   4%|██▌                                                         | 57/1320 [09:31<4:13:52, 12.06s/row]"
     ]
    },
    {
     "name": "stdout",
     "output_type": "stream",
     "text": [
      "Target: parametric answer: ১.৭ এইউ\n",
      "contextual answer: ১.৭ এইউ\n",
      "generated: parametric answer: ১.৭, contextual answer: ১.৭\n"
     ]
    },
    {
     "name": "stderr",
     "output_type": "stream",
     "text": [
      "Processing rows:   4%|██▋                                                         | 58/1320 [09:47<4:34:16, 13.04s/row]"
     ]
    },
    {
     "name": "stdout",
     "output_type": "stream",
     "text": [
      "Target: parametric answer:  ২০০৮ সালে করা একটি সিমুলেশনের ফলাফল ইঙ্গিত দেয় যে, জোয়ার-ভাটার প্রভাব না থাকার কারণে পৃথিবীর কক্ষপথ এক সময় হ্রাস পাবে\n",
      "contextual answer:  ২০০৮ সালে করা একটি সিমুলেশনের ফলাফল ইঙ্গিত দেয় যে, জোয়ার-ভাটার প্রভাব না থাকার কারণে পৃথিবীর কক্ষপথ এক সময় হ্রাস পাবে\n",
      "generated: parametric answer: জোয়ার-ভাটার প্রভাব না থাকার কারণে, contextual answer: জোয়ার-ভাটার প্রভাব না থাকার কারণে\n"
     ]
    },
    {
     "name": "stderr",
     "output_type": "stream",
     "text": [
      "Processing rows:   4%|██▋                                                         | 59/1320 [10:04<4:58:13, 14.19s/row]"
     ]
    },
    {
     "name": "stdout",
     "output_type": "stream",
     "text": [
      "Target: parametric answer: অনলাইনে খাবার অর্ডার করার একধরনের ব্র্যান্ড বা কোম্পানি\n",
      "contextual answer: অনলাইনে খাবার অর্ডার করার একধরনের ব্র্যান্ড বা কোম্পানি\n",
      "generated: parametric answer: অনলাইনে খাবার অর্ডার করার একধরনের ব্র্যান্ড বা কোম্পানি, contextual answer: অনলাইনে খাবার অর্ডার করার একধরনের ব্র্যান্ড বা কোম্পানি\n"
     ]
    },
    {
     "name": "stderr",
     "output_type": "stream",
     "text": [
      "Processing rows:   5%|██▋                                                         | 60/1320 [10:19<5:03:18, 14.44s/row]"
     ]
    },
    {
     "name": "stdout",
     "output_type": "stream",
     "text": [
      "Target: parametric answer: কোনও দলীয় ম্যাচের শুরুতে\n",
      "contextual answer: কোনও দলীয় ম্যাচের শুরুতে\n",
      "generated: parametric answer: কোনও দলীয় ম্যাচের শুরুতে, contextual answer: কোনও দলীয় ম্যাচের শুরুতে\n"
     ]
    },
    {
     "name": "stderr",
     "output_type": "stream",
     "text": [
      "Processing rows:   5%|██▉                                                         | 64/1320 [10:33<3:53:45, 11.17s/row]"
     ]
    },
    {
     "name": "stdout",
     "output_type": "stream",
     "text": [
      "Target: parametric answer: পিচটি যদি নরম বা ধূলিময় হয়\n",
      "contextual answer: পিচটি যদি নরম বা ধূলিময় হয়\n",
      "generated: parametric answer: nan, contextual answer: nan\n"
     ]
    },
    {
     "name": "stderr",
     "output_type": "stream",
     "text": [
      "Processing rows:   5%|██▉                                                         | 65/1320 [10:53<4:48:15, 13.78s/row]"
     ]
    },
    {
     "name": "stdout",
     "output_type": "stream",
     "text": [
      "Target: parametric answer: আধঘণ্টা\n",
      "contextual answer: আধঘণ্টা\n",
      "generated: parametric answer: আধঘণ্টা, contextual answer: আধঘণ্টা\n"
     ]
    },
    {
     "name": "stderr",
     "output_type": "stream",
     "text": [
      "Processing rows:   5%|███                                                         | 66/1320 [11:07<4:49:09, 13.84s/row]"
     ]
    },
    {
     "name": "stdout",
     "output_type": "stream",
     "text": [
      "Target: parametric answer: কনকাসন\n",
      "contextual answer: কনকাসন\n",
      "generated: parametric answer: কোনও কনকাসন বিকল্প ক্ষেত্র ছাড়া, contextual answer: কোনও কনকাসন বিকল্প ক্ষেত্র ছাড়া\n"
     ]
    },
    {
     "name": "stderr",
     "output_type": "stream",
     "text": [
      "Processing rows:   5%|███                                                         | 68/1320 [11:22<4:11:09, 12.04s/row]"
     ]
    },
    {
     "name": "stdout",
     "output_type": "stream",
     "text": [
      "Target: parametric answer: প্রশাসনিক বা নির্বাহী সংস্থাগুলির হাতে\n",
      "contextual answer: প্রশাসনিক বা নির্বাহী সংস্থাগুলির হাতে\n",
      "generated: parametric answer: প্রশাসনিক বা নির্বাহী সংস্থাগুলির, contextual answer: প্রশাসনিক বা নির্বাহী সংস্থাগুলির\n"
     ]
    },
    {
     "name": "stderr",
     "output_type": "stream",
     "text": [
      "Processing rows:   5%|███▏                                                        | 70/1320 [11:38<3:44:06, 10.76s/row]"
     ]
    },
    {
     "name": "stdout",
     "output_type": "stream",
     "text": [
      "Target: parametric answer: ডেস্কটপের তুলনায় ল্যাপটপের সম্প্রসারণ ক্ষমতা খুব কম\n",
      "contextual answer: ডেস্কটপের তুলনায় ল্যাপটপের সম্প্রসারণ ক্ষমতা খুব কম\n",
      "generated: parametric answer: ডেস্কটপের গ্রাফিক্স প্রসেসরের তুলনায় ল্যাপটপের গ্রাফিক্স প্রসেসরও পিছিয়ে আছে, contextual answer: ডেস্কটপের গ্রাফিক্স প্রসেসরের তুলনায় ল্যাপটপের গ্রাফিক্স প্রসেসরও পিছিয়ে আছে\n"
     ]
    },
    {
     "name": "stderr",
     "output_type": "stream",
     "text": [
      "Processing rows:   5%|███▏                                                        | 71/1320 [11:54<4:14:26, 12.22s/row]"
     ]
    },
    {
     "name": "stdout",
     "output_type": "stream",
     "text": [
      "Target: parametric answer: সম্প্রসারণ ক্ষমতা\n",
      "contextual answer: সম্প্রসারণ ক্ষমতা\n",
      "generated: parametric answer: হ্যাঁ, contextual answer: হ্যাঁ\n"
     ]
    },
    {
     "name": "stderr",
     "output_type": "stream",
     "text": [
      "Processing rows:   5%|███▎                                                        | 72/1320 [12:10<4:38:07, 13.37s/row]"
     ]
    },
    {
     "name": "stdout",
     "output_type": "stream",
     "text": [
      "Target: parametric answer: আফ্রিকা এবং মধ্যপ্রাচ্যে\n",
      "contextual answer: আফ্রিকা এবং মধ্যপ্রাচ্যে\n",
      "generated: parametric answer: আফ্রিকা; মধ্যপ্রাচ্যে, contextual answer: আফ্রিকা; মধ্যপ্রাচ্যে\n"
     ]
    },
    {
     "name": "stderr",
     "output_type": "stream",
     "text": [
      "Processing rows:   6%|███▍                                                        | 75/1320 [12:26<3:48:12, 11.00s/row]"
     ]
    },
    {
     "name": "stdout",
     "output_type": "stream",
     "text": [
      "Target: parametric answer: সুনসু আও\n",
      "contextual answer: সুনসু আও\n",
      "generated: parametric answer: সুনসু আও, contextual answer: সুনসু আও\n"
     ]
    },
    {
     "name": "stderr",
     "output_type": "stream",
     "text": [
      "Processing rows:   6%|███▍                                                        | 76/1320 [12:43<4:26:11, 12.84s/row]"
     ]
    },
    {
     "name": "stdout",
     "output_type": "stream",
     "text": [
      "Target: parametric answer: ঘড়িতে একটি অর্ধবৃত্তাকার ভর পর্যায়বৃত্ত গতিতে আন্দোলিত হতে থাকে\n",
      "contextual answer: ঘড়িতে একটি অর্ধবৃত্তাকার ভর পর্যায়বৃত্ত গতিতে আন্দোলিত হতে থাকে\n",
      "generated: parametric answer: স্প্রিং ঘুরিয়ে দম দেয়ার প্রয়োজন হয় না। ব্যক্তি যখন হাঁটাহাঁটি বা দৌড়াদৌড়ি করে তখন ঘড়িতে একটি অর্ধবৃত্তাকার ভর পর্যায়বৃত্ত গতিতে আন্দোলিত হতে থাকে। এর ফলে মেইনস্প্রিং গতিশক্তি প্রাপ্ত হয় এবং ঘড়ির গতিকে নিয়ন্ত্রণ করে।, contextual answer: স্প্রিং ঘুরিয়ে দম দেয়ার প্রয়োজন হয় না। ব্যক্তি যখন হাঁটাহাঁটি বা দৌড়াদৌড়ি করে তখন ঘড়িতে একটি অর্ধবৃত্তাকার ভর পর্যায়বৃত্ত গতিতে আন্দোলিত হতে থাকে। এর ফলে মেইনস্প্রিং গতিশক্তি প্রাপ্ত হয় এবং ঘড়ির গতিকে নিয়ন্ত্রণ\n"
     ]
    },
    {
     "name": "stderr",
     "output_type": "stream",
     "text": [
      "Processing rows:   6%|███▌                                                        | 77/1320 [13:00<4:51:21, 14.06s/row]"
     ]
    },
    {
     "name": "stdout",
     "output_type": "stream",
     "text": [
      "Target: parametric answer: কোয়ার্জ গতি\n",
      "contextual answer: কোয়ার্জ গতি\n",
      "generated: parametric answer: আলফা গতি, contextual answer: কোয়ার্জ গতি\n"
     ]
    },
    {
     "name": "stderr",
     "output_type": "stream",
     "text": [
      "Processing rows:   6%|███▌                                                        | 78/1320 [13:15<4:55:55, 14.30s/row]"
     ]
    },
    {
     "name": "stdout",
     "output_type": "stream",
     "text": [
      "Target: parametric answer: জাপানিজ 'সিকো'\n",
      "contextual answer: জাপানিজ 'সিকো'\n",
      "generated: parametric answer: জাপানি 'সিকো', contextual answer: জাপানি 'সিকো'\n"
     ]
    },
    {
     "name": "stderr",
     "output_type": "stream",
     "text": [
      "Processing rows:   6%|███▌                                                        | 79/1320 [13:29<4:54:02, 14.22s/row]"
     ]
    },
    {
     "name": "stdout",
     "output_type": "stream",
     "text": [
      "Target: parametric answer: কোয়ার্টজ ঘড়ি\n",
      "contextual answer: কোয়ার্টজ ঘড়ি\n",
      "generated: parametric answer: ইলেকট্রনিক ঘড়ি, contextual answer: কোয়ার্টজ ঘড়ি\n"
     ]
    },
    {
     "name": "stderr",
     "output_type": "stream",
     "text": [
      "Processing rows:   6%|███▋                                                        | 80/1320 [13:44<4:59:39, 14.50s/row]"
     ]
    },
    {
     "name": "stdout",
     "output_type": "stream",
     "text": [
      "Target: parametric answer: ডেনড্রোক্রোনোলজির\n",
      "contextual answer: ডেনড্রোক্রোনোলজির\n",
      "generated: parametric answer: ডেনড্রোক্রোনোলজির, contextual answer: ডেনড্রোক্রোনোলজির\n"
     ]
    },
    {
     "name": "stderr",
     "output_type": "stream",
     "text": [
      "Processing rows:   6%|███▋                                                        | 82/1320 [13:58<4:12:56, 12.26s/row]"
     ]
    },
    {
     "name": "stdout",
     "output_type": "stream",
     "text": [
      "Target: parametric answer: ১১\n",
      "contextual answer: ১১\n",
      "generated: parametric answer: ১০, contextual answer: ১১\n"
     ]
    },
    {
     "name": "stderr",
     "output_type": "stream",
     "text": [
      "Processing rows:   6%|███▊                                                        | 83/1320 [14:14<4:32:56, 13.24s/row]"
     ]
    },
    {
     "name": "stdout",
     "output_type": "stream",
     "text": [
      "Target: parametric answer: পঞ্চম\n",
      "contextual answer: পঞ্চম\n",
      "generated: parametric answer: পঞ্চম, contextual answer: পঞ্চম\n"
     ]
    },
    {
     "name": "stderr",
     "output_type": "stream",
     "text": [
      "Processing rows:   7%|███▉                                                        | 86/1320 [14:28<3:40:52, 10.74s/row]"
     ]
    },
    {
     "name": "stdout",
     "output_type": "stream",
     "text": [
      "Target: parametric answer: প্লুটোর\n",
      "contextual answer: প্লুটোর\n",
      "generated: parametric answer: nan, contextual answer: nan\n"
     ]
    },
    {
     "name": "stderr",
     "output_type": "stream",
     "text": [
      "Processing rows:   7%|███▉                                                        | 87/1320 [14:44<4:09:13, 12.13s/row]"
     ]
    },
    {
     "name": "stdout",
     "output_type": "stream",
     "text": [
      "Target: parametric answer: ২০০৭ সালের ফেব্রুয়ারি মাসে\n",
      "contextual answer: ২০০৭ সালের ফেব্রুয়ারি মাসে\n",
      "generated: parametric answer: nan, contextual answer: nan\n"
     ]
    },
    {
     "name": "stderr",
     "output_type": "stream",
     "text": [
      "Processing rows:   7%|████                                                        | 88/1320 [14:59<4:29:34, 13.13s/row]"
     ]
    },
    {
     "name": "stdout",
     "output_type": "stream",
     "text": [
      "Target: parametric answer: জিউস\n",
      "contextual answer: জিউস\n",
      "generated: parametric answer: জিউস, contextual answer: জিউস\n"
     ]
    },
    {
     "name": "stderr",
     "output_type": "stream",
     "text": [
      "Processing rows:   7%|████                                                        | 89/1320 [15:16<4:49:55, 14.13s/row]"
     ]
    },
    {
     "name": "stdout",
     "output_type": "stream",
     "text": [
      "Target: parametric answer: ২.৮\n",
      "contextual answer: ২.৮\n",
      "generated: parametric answer: ২.৮, contextual answer: ২.৮\n"
     ]
    },
    {
     "name": "stderr",
     "output_type": "stream",
     "text": [
      "Processing rows:   7%|████                                                        | 90/1320 [15:35<5:18:59, 15.56s/row]"
     ]
    },
    {
     "name": "stdout",
     "output_type": "stream",
     "text": [
      "Target: parametric answer: টি এ গাঙ্গুলী\n",
      "contextual answer: টি এ গাঙ্গুলী\n",
      "generated: parametric answer: টি এ গাঙ্গুলী, contextual answer: টি এ গাঙ্গুলী\n"
     ]
    },
    {
     "name": "stderr",
     "output_type": "stream",
     "text": [
      "Processing rows:   7%|████▏                                                       | 91/1320 [15:49<5:09:10, 15.09s/row]"
     ]
    },
    {
     "name": "stdout",
     "output_type": "stream",
     "text": [
      "Target: parametric answer: নিজের গলার স্বর্ণের চেইন ও ক্রুশ\n",
      "contextual answer: নিজের গলার স্বর্ণের চেইন ও ক্রুশ\n",
      "generated: parametric answer: গলার স্বর্ণের চেইন ও ক্রুশ, contextual answer: গলার স্বর্ণের চেইন ও ক্রুশ\n"
     ]
    },
    {
     "name": "stderr",
     "output_type": "stream",
     "text": [
      "Processing rows:   7%|████▏                                                       | 92/1320 [16:05<5:17:20, 15.51s/row]"
     ]
    },
    {
     "name": "stdout",
     "output_type": "stream",
     "text": [
      "Target: parametric answer: বিশিষ্ট মুক্তিযোদ্ধা ,যিনি বর্তমান সরকারের একজন সমাজ কল্যাণ প্রতিমন্ত্রী হিসেবে দায়িত্ব পালন করছেন\n",
      "contextual answer: বিশিষ্ট মুক্তিযোদ্ধা ,যিনি বর্তমান সরকারের একজন সমাজ কল্যাণ প্রতিমন্ত্রী হিসেবে দায়িত্ব পালন করছেন\n",
      "generated: parametric answer: বর্তমান সরকারের একজন সমাজ কল্যাণ প্রতিমন্ত্রী হিসেবে দায়িত্ব পালন করছেন, contextual answer: বর্তমান সরকারের একজন সমাজ কল্যাণ প্রতিমন্ত্রী হিসেবে দায়িত্ব পালন করছেন\n"
     ]
    },
    {
     "name": "stderr",
     "output_type": "stream",
     "text": [
      "Processing rows:   7%|████▏                                                       | 93/1320 [16:21<5:20:20, 15.66s/row]"
     ]
    },
    {
     "name": "stdout",
     "output_type": "stream",
     "text": [
      "Target: parametric answer: মুক্তিযোদ্ধা ও বিশিষ্ট সাংবাদিক চিত্ত\n",
      "contextual answer: মুক্তিযোদ্ধা ও বিশিষ্ট সাংবাদিক চিত্ত\n",
      "generated: parametric answer: মুক্তিযোদ্ধা ও বিশিষ্ট সাংবাদিক, contextual answer: মুক্তিযোদ্ধা ও বিশিষ্ট সাংবাদিক\n"
     ]
    },
    {
     "name": "stderr",
     "output_type": "stream",
     "text": [
      "Processing rows:   7%|████▎                                                       | 94/1320 [16:35<5:10:31, 15.20s/row]"
     ]
    },
    {
     "name": "stdout",
     "output_type": "stream",
     "text": [
      "Target: parametric answer: নেটস্কেপের মত কোম্পানিগুলোর জন্যে প্রযুক্তি প্রদান করা\n",
      "contextual answer: নেটস্কেপের মত কোম্পানিগুলোর জন্যে প্রযুক্তি প্রদান করা\n",
      "generated: parametric answer: নেটস্কেপের মত কোম্পানিগুলোর জন্যে প্রযুক্তি প্রদান করা, যারা তাদের ওপেন সোর্স কোডকে বাণিজ্যিকীকরণ করবে, contextual answer: নেটস্কেপের মত কোম্পানিগুলোর জন্যে প্রযুক্তি প্রদান করা, যারা তাদের ওপেন সোর্স কোডকে বাণিজ্যিকীকরণ করবে\n"
     ]
    },
    {
     "name": "stderr",
     "output_type": "stream",
     "text": [
      "Processing rows:   7%|████▎                                                       | 96/1320 [16:51<4:24:13, 12.95s/row]"
     ]
    },
    {
     "name": "stdout",
     "output_type": "stream",
     "text": [
      "Target: parametric answer: $১৬৩ মিলিয়ন\n",
      "contextual answer: $১৬৩ মিলিয়ন\n",
      "generated: parametric answer: $১২৩ মিলিয়ন, contextual answer: $১৬৩ মিলিয়ন\n"
     ]
    },
    {
     "name": "stderr",
     "output_type": "stream",
     "text": [
      "Processing rows:   7%|████▍                                                       | 97/1320 [17:05<4:30:30, 13.27s/row]"
     ]
    },
    {
     "name": "stdout",
     "output_type": "stream",
     "text": [
      "Target: parametric answer: ডিসেম্বর ২০১৩ সালে\n",
      "contextual answer: ডিসেম্বর ২০১৩ সালে\n",
      "generated: parametric answer: ডিসেম্বর ২০১৩ সালে, contextual answer: ডিসেম্বর ২০১৩ সালে\n"
     ]
    },
    {
     "name": "stderr",
     "output_type": "stream",
     "text": [
      "Processing rows:   7%|████▍                                                       | 98/1320 [17:19<4:34:26, 13.48s/row]"
     ]
    },
    {
     "name": "stdout",
     "output_type": "stream",
     "text": [
      "Target: parametric answer: চীনা অ্যান্ড্রয়েড ডিভাইসগুলিকে\n",
      "contextual answer: চীনা অ্যান্ড্রয়েড ডিভাইসগুলিকে\n",
      "generated: parametric answer: চীনা অ্যান্ড্রয়েড ডিভাইসগুলিকে, contextual answer: চীনা অ্যান্ড্রয়েড ডিভাইসগুলিকে\n"
     ]
    },
    {
     "name": "stderr",
     "output_type": "stream",
     "text": [
      "Processing rows:   8%|████▌                                                      | 102/1320 [17:33<3:32:46, 10.48s/row]"
     ]
    },
    {
     "name": "stdout",
     "output_type": "stream",
     "text": [
      "Target: parametric answer: ২০০৫\n",
      "contextual answer: ২০০৫\n",
      "generated: parametric answer: ২০০৫, contextual answer: ২০০৫\n"
     ]
    },
    {
     "name": "stderr",
     "output_type": "stream",
     "text": [
      "Processing rows:   8%|████▌                                                      | 103/1320 [17:46<3:53:23, 11.51s/row]"
     ]
    },
    {
     "name": "stdout",
     "output_type": "stream",
     "text": [
      "Target: parametric answer: শহরের পাচারকৃত নারী ও মেয়েদের জীবন উন্নয়নে অক্লান্ত পরিশ্রমের জন্য\n",
      "contextual answer: শহরের পাচারকৃত নারী ও মেয়েদের জীবন উন্নয়নে অক্লান্ত পরিশ্রমের জন্য\n",
      "generated: parametric answer: শহরের পাচারকৃত নারী ও মেয়েদের জীবন উন্নয়নে অক্লান্ত পরিশ্রমের জন্য, contextual answer: শহরের পাচারকৃত নারী ও মেয়েদের জীবন উন্নয়নে অক্লান্ত পরিশ্রমের জন্য\n"
     ]
    },
    {
     "name": "stderr",
     "output_type": "stream",
     "text": [
      "Processing rows:   8%|████▋                                                      | 105/1320 [18:01<3:26:07, 10.18s/row]"
     ]
    },
    {
     "name": "stdout",
     "output_type": "stream",
     "text": [
      "Target: parametric answer: যাবির ইবনে জায়েদের\n",
      "contextual answer: যাবির ইবনে জায়েদের\n",
      "generated: parametric answer: যাবির ইবনে জায়েদের, contextual answer: যাবির ইবনে জায়েদের\n"
     ]
    },
    {
     "name": "stderr",
     "output_type": "stream",
     "text": [
      "Processing rows:   8%|████▊                                                      | 107/1320 [18:17<3:13:29,  9.57s/row]"
     ]
    },
    {
     "name": "stdout",
     "output_type": "stream",
     "text": [
      "Target: parametric answer: আধ্যাত্মিক এবং ব্যক্তিগত গুণাবলীর অধিকারী যারা আছে, সেই প্রার্থীদের কাছ থেকে বিভিন্ন সম্প্রদায়ের দ্বারা নির্বাচিত ইমামের দ্বারা ইসলামের নেতৃত্বের মনোনীত করা উচিত\n",
      "contextual answer: আধ্যাত্মিক এবং ব্যক্তিগত গুণাবলীর অধিকারী যারা আছে, সেই প্রার্থীদের কাছ থেকে বিভিন্ন সম্প্রদায়ের দ্বারা নির্বাচিত ইমামের দ্বারা ইসলামের নেতৃত্বের মনোনীত করা উচিত\n",
      "generated: parametric answer: আধ্যাত্মিক এবং ব্যক্তিগত গুণাবলীর অধিকারী যারা আছে, সেই প্রার্থীদের কাছ থেকে বিভিন্ন সম্প্রদায়ের দ্বারা নির্বাচিত ইমামের দ্বারা ইসলামের নেতৃত্বের মনোনীত করা উচিত, contextual answer: আধ্যাত্মিক এবং ব্যক্তিগত গুণাবলীর অধিকারী যারা আছে, সেই প্রার্থীদের কাছ থেকে বিভিন্ন সম্প্রদায়ের দ্বারা নির্বাচিত ইমামের দ্বারা ইসলামের নেতৃত্বের মনোনীত করা উচিত\n"
     ]
    },
    {
     "name": "stderr",
     "output_type": "stream",
     "text": [
      "Processing rows:   8%|████▊                                                      | 108/1320 [18:35<4:07:23, 12.25s/row]"
     ]
    },
    {
     "name": "stdout",
     "output_type": "stream",
     "text": [
      "Target: parametric answer: একজন ইমামের উপর\n",
      "contextual answer: একজন ইমামের উপর\n",
      "generated: parametric answer: একজন ইমামের, contextual answer: একজন ইমামের\n",
      "Error processing row: 429 Resource has been exhausted (e.g. check quota).\n"
     ]
    },
    {
     "name": "stderr",
     "output_type": "stream",
     "text": [
      "Processing rows:   8%|████▊                                                      | 109/1320 [18:49<4:14:52, 12.63s/row]"
     ]
    },
    {
     "name": "stdout",
     "output_type": "stream",
     "text": [
      "Target: parametric answer: ইমাম বিশিষ্ট ব্যক্তিদের বা শায়েখদের কাউন্সিল দ্বারা\n",
      "contextual answer: ইমাম বিশিষ্ট ব্যক্তিদের বা শায়েখদের কাউন্সিল দ্বারা\n",
      "generated: parametric answer: বিশিষ্ট ব্যক্তিদের বা শায়েখদের কাউন্সিল দ্বারা, contextual answer: বিশিষ্ট ব্যক্তিদের বা শায়েখদের কাউন্সিল দ্বারা\n",
      "Error processing row: 429 Resource has been exhausted (e.g. check quota).\n"
     ]
    },
    {
     "name": "stderr",
     "output_type": "stream",
     "text": [
      "Processing rows:   8%|████▉                                                      | 110/1320 [19:02<4:20:03, 12.90s/row]"
     ]
    },
    {
     "name": "stdout",
     "output_type": "stream",
     "text": [
      "Target: parametric answer: রেশম সুতা উৎপাদনের লক্ষ্যে রেশমপোকা প্রতিপালনকে\n",
      "contextual answer: রেশম সুতা উৎপাদনের লক্ষ্যে রেশমপোকা প্রতিপালনকে\n",
      "generated: parametric answer: রেশম সুতা উৎপাদনের লক্ষ্যে রেশমপোকা প্রতিপালন, contextual answer: রেশম সুতা উৎপাদনের লক্ষ্যে রেশমপোকা প্রতিপালন\n",
      "Error processing row: 429 Resource has been exhausted (e.g. check quota).\n"
     ]
    },
    {
     "name": "stderr",
     "output_type": "stream",
     "text": [
      "Processing rows:   8%|█████                                                      | 112/1320 [19:16<3:42:38, 11.06s/row]"
     ]
    },
    {
     "name": "stdout",
     "output_type": "stream",
     "text": [
      "Target: parametric answer: সেরিসিন\n",
      "contextual answer: সেরিসিন\n",
      "generated: parametric answer: সেরিসিন, contextual answer: সেরিসিন\n",
      "Error processing row: 429 Resource has been exhausted (e.g. check quota).\n"
     ]
    },
    {
     "name": "stderr",
     "output_type": "stream",
     "text": [
      "Processing rows:   9%|█████                                                      | 113/1320 [19:29<3:57:18, 11.80s/row]"
     ]
    },
    {
     "name": "stdout",
     "output_type": "stream",
     "text": [
      "Target: parametric answer: চীন\n",
      "contextual answer: চীন\n",
      "generated: parametric answer: চীন, contextual answer: চীন\n",
      "Error processing row: 429 Resource has been exhausted (e.g. check quota).\n"
     ]
    },
    {
     "name": "stderr",
     "output_type": "stream",
     "text": [
      "Processing rows:   9%|█████                                                      | 114/1320 [19:43<4:07:40, 12.32s/row]"
     ]
    },
    {
     "name": "stdout",
     "output_type": "stream",
     "text": [
      "Target: parametric answer: চুরি করে\n",
      "contextual answer: চুরি করে\n",
      "generated: parametric answer: চুরি করে, contextual answer: চুরি করে\n"
     ]
    },
    {
     "name": "stderr",
     "output_type": "stream",
     "text": [
      "Processing rows:   9%|█████▏                                                     | 115/1320 [19:57<4:18:11, 12.86s/row]"
     ]
    },
    {
     "name": "stdout",
     "output_type": "stream",
     "text": [
      "Target: parametric answer: ভাষাবিজ্ঞান শাস্ত্রে\n",
      "contextual answer: ভাষাবিজ্ঞান শাস্ত্রে\n",
      "generated: parametric answer: ভাষাবিজ্ঞান, contextual answer: ভাষাবিজ্ঞান\n",
      "Error processing row: 429 Resource has been exhausted (e.g. check quota).\n"
     ]
    },
    {
     "name": "stderr",
     "output_type": "stream",
     "text": [
      "Processing rows:   9%|█████▏                                                     | 116/1320 [20:11<4:22:01, 13.06s/row]"
     ]
    },
    {
     "name": "stdout",
     "output_type": "stream",
     "text": [
      "Target: parametric answer: \"রূপান্তরমূলক উৎপাদনশীল ব্যাকরণ\"\n",
      "contextual answer: \"রূপান্তরমূলক উৎপাদনশীল ব্যাকরণ\"\n",
      "generated: parametric answer: রূপান্তরমূলক উৎপাদনশীল ব্যাকরণ, contextual answer: রূপান্তরমূলক উৎপাদনশীল ব্যাকরণ\n",
      "Error processing row: 429 Resource has been exhausted (e.g. check quota).\n"
     ]
    },
    {
     "name": "stderr",
     "output_type": "stream",
     "text": [
      "Processing rows:   9%|█████▏                                                     | 117/1320 [20:24<4:24:35, 13.20s/row]"
     ]
    },
    {
     "name": "stdout",
     "output_type": "stream",
     "text": [
      "Target: parametric answer: মানবমন-সংক্রান্ত\n",
      "contextual answer: মানবমন-সংক্রান্ত\n",
      "generated: parametric answer: মানবমন-সংক্রান্ত, contextual answer: মানবমন-সংক্রান্ত\n",
      "Error processing row: 429 Resource has been exhausted (e.g. check quota).\n"
     ]
    },
    {
     "name": "stderr",
     "output_type": "stream",
     "text": [
      "Processing rows:   9%|█████▎                                                     | 118/1320 [20:38<4:26:17, 13.29s/row]"
     ]
    },
    {
     "name": "stdout",
     "output_type": "stream",
     "text": [
      "Target: parametric answer: ওসামু তেজুকা\n",
      "contextual answer: ওসামু তেজুকা\n",
      "generated: parametric answer: ওসামু তেজুকা, contextual answer: ওসামু তেজুকা\n",
      "Error processing row: 429 Resource has been exhausted (e.g. check quota).\n"
     ]
    },
    {
     "name": "stderr",
     "output_type": "stream",
     "text": [
      "Processing rows:   9%|█████▍                                                     | 121/1320 [20:51<3:32:58, 10.66s/row]"
     ]
    },
    {
     "name": "stdout",
     "output_type": "stream",
     "text": [
      "Target: parametric answer: ১৯৫২\n",
      "contextual answer: ১৯৫২\n",
      "generated: parametric answer: ১৯৫২ থেকে ১৯৬৮, contextual answer: ১৯৫২ থেকে ১৯৬৮\n",
      "Error processing row: 429 Resource has been exhausted (e.g. check quota).\n"
     ]
    },
    {
     "name": "stderr",
     "output_type": "stream",
     "text": [
      "Processing rows:   9%|█████▍                                                     | 122/1320 [21:05<3:49:57, 11.52s/row]"
     ]
    },
    {
     "name": "stdout",
     "output_type": "stream",
     "text": [
      "Target: parametric answer: ১৯৮০\n",
      "contextual answer: ১৯৮০\n",
      "generated: parametric answer: ১৯৮০, contextual answer: ১৯৮০\n",
      "Error processing row: 429 Resource has been exhausted (e.g. check quota).\n"
     ]
    },
    {
     "name": "stderr",
     "output_type": "stream",
     "text": [
      "Processing rows:   9%|█████▍                                                     | 123/1320 [21:18<4:02:05, 12.14s/row]"
     ]
    },
    {
     "name": "stdout",
     "output_type": "stream",
     "text": [
      "Target: parametric answer: ২৩ অক্টোবর, ২০০৯\n",
      "contextual answer: ২৩ অক্টোবর, ২০০৯\n",
      "generated: parametric answer: ২৩ অক্টোবর, ২০০৯, contextual answer: ২৩ অক্টোবর, ২০০৯\n",
      "Error processing row: 429 Resource has been exhausted (e.g. check quota).\n"
     ]
    },
    {
     "name": "stderr",
     "output_type": "stream",
     "text": [
      "Processing rows:   9%|█████▌                                                     | 124/1320 [21:32<4:10:31, 12.57s/row]"
     ]
    },
    {
     "name": "stdout",
     "output_type": "stream",
     "text": [
      "Target: parametric answer: আয়ারল্যান্ডের ডাবলিনের সেন্ট স্টিফেনস গ্রীণ এর দক্ষিণ পাশে একটি সুষমা-মণ্ডিত অট্টালিকায়\n",
      "contextual answer: আয়ারল্যান্ডের ডাবলিনের সেন্ট স্টিফেনস গ্রীণ এর দক্ষিণ পাশে একটি সুষমা-মণ্ডিত অট্টালিকায়\n",
      "generated: parametric answer: আয়ারল্যান্ডের ডাবলিনের সেন্ট স্টিফেনস গ্রীণ এর দক্ষিণ পাশে একটি সুষমা-মণ্ডিত অট্টালিকায়, contextual answer: আয়ারল্যান্ডের ডাবলিনের সেন্ট স্টিফেনস গ্রীণ এর দক্ষিণ পাশে একটি সুষমা-মণ্ডিত অট্টালিকায়\n",
      "Error processing row: 429 Resource has been exhausted (e.g. check quota).\n"
     ]
    },
    {
     "name": "stderr",
     "output_type": "stream",
     "text": [
      "Processing rows:  10%|█████▋                                                     | 126/1320 [21:45<3:35:38, 10.84s/row]"
     ]
    },
    {
     "name": "stdout",
     "output_type": "stream",
     "text": [
      "Target: parametric answer: ম্যারিয়ট ইন্টারন্যাশনাল\n",
      "contextual answer: ম্যারিয়ট ইন্টারন্যাশনাল\n",
      "generated: parametric answer: ম্যারিয়ট ইন্টারন্যাশনাল, contextual answer: ম্যারিয়ট ইন্টারন্যাশনাল\n",
      "Error processing row: 429 Resource has been exhausted (e.g. check quota).\n"
     ]
    },
    {
     "name": "stderr",
     "output_type": "stream",
     "text": [
      "Processing rows:  10%|█████▋                                                     | 127/1320 [21:59<3:51:27, 11.64s/row]"
     ]
    },
    {
     "name": "stdout",
     "output_type": "stream",
     "text": [
      "Target: parametric answer: জন ম্যাক কার্ডি\n",
      "contextual answer: জন ম্যাক কার্ডি\n",
      "generated: parametric answer: জন ম্যাক কার্ডি, contextual answer: জন ম্যাক কার্ডি\n",
      "Error processing row: 429 Resource has been exhausted (e.g. check quota).\n"
     ]
    },
    {
     "name": "stderr",
     "output_type": "stream",
     "text": [
      "Processing rows:  10%|█████▋                                                     | 128/1320 [22:13<4:02:38, 12.21s/row]"
     ]
    },
    {
     "name": "stdout",
     "output_type": "stream",
     "text": [
      "Target: parametric answer: পূর্বে অ্যামেরিটেক প্লাজা এবং এসবিসি প্লাজা\n",
      "contextual answer: পূর্বে অ্যামেরিটেক প্লাজা এবং এসবিসি প্লাজা\n",
      "generated: parametric answer: অ্যামেরিটেক প্লাজা এবং এসবিসি প্লাজা, contextual answer: অ্যামেরিটেক প্লাজা এবং এসবিসি প্লাজা\n",
      "Error processing row: 429 Resource has been exhausted (e.g. check quota).\n"
     ]
    },
    {
     "name": "stderr",
     "output_type": "stream",
     "text": [
      "Processing rows:  10%|█████▊                                                     | 130/1320 [22:26<3:29:52, 10.58s/row]"
     ]
    },
    {
     "name": "stdout",
     "output_type": "stream",
     "text": [
      "Target: parametric answer: মিলেনিয়াম পার্কে\n",
      "contextual answer: মিলেনিয়াম পার্কে\n",
      "generated: parametric answer: যুক্তরাষ্ট্রের শিকাগো , ইলিনয়-এর লুপ সম্প্রদায় এলাকার মধ্যে, contextual answer: যুক্তরাষ্ট্রের শিকাগো , ইলিনয়-এর লুপ সম্প্রদায় এলাকার মধ্যে\n",
      "Error processing row: 429 Resource has been exhausted (e.g. check quota).\n"
     ]
    },
    {
     "name": "stderr",
     "output_type": "stream",
     "text": [
      "Processing rows:  10%|█████▊                                                     | 131/1320 [22:40<3:47:30, 11.48s/row]"
     ]
    },
    {
     "name": "stdout",
     "output_type": "stream",
     "text": [
      "Target: parametric answer: তৃতীয় সহস্রাব্দ উদযাপনের জন্য নির্মাণ করা হয়\n",
      "contextual answer: তৃতীয় সহস্রাব্দ উদযাপনের জন্য নির্মাণ করা হয়\n",
      "generated: parametric answer: তৃতীয় সহস্রাব্দ উদযাপনের জন্য, contextual answer: তৃতীয় সহস্রাব্দ উদযাপনের জন্য\n",
      "Error processing row: 429 Resource has been exhausted (e.g. check quota).\n"
     ]
    },
    {
     "name": "stderr",
     "output_type": "stream",
     "text": [
      "Processing rows:  10%|█████▉                                                     | 132/1320 [22:53<3:59:20, 12.09s/row]"
     ]
    },
    {
     "name": "stdout",
     "output_type": "stream",
     "text": [
      "Target: parametric answer: কংক্রিটের তৈরি\n",
      "contextual answer: কংক্রিটের তৈরি\n",
      "generated: parametric answer: কংক্রিট, contextual answer: কংক্রিট\n",
      "Error processing row: 429 Resource has been exhausted (e.g. check quota).\n"
     ]
    },
    {
     "name": "stderr",
     "output_type": "stream",
     "text": [
      "Processing rows:  10%|█████▉                                                     | 133/1320 [23:07<4:07:36, 12.52s/row]"
     ]
    },
    {
     "name": "stdout",
     "output_type": "stream",
     "text": [
      "Target: parametric answer: অসমতল বিশেষকরে পাহাড়ী রাস্তায় সাইকেল চালনার এক ধরনের ক্রীড়া\n",
      "contextual answer: অসমতল বিশেষকরে পাহাড়ী রাস্তায় সাইকেল চালনার এক ধরনের ক্রীড়া\n",
      "generated: parametric answer: অসমতল বিশেষকরে পাহাড়ী রাস্তায় সাইকেল চালনার এক ধরনের ক্রীড়া, contextual answer: অসমতল বিশেষকরে পাহাড়ী রাস্তায় সাইকেল চালনার এক ধরনের ক্রীড়া\n",
      "Error processing row: 429 Resource has been exhausted (e.g. check quota).\n"
     ]
    },
    {
     "name": "stderr",
     "output_type": "stream",
     "text": [
      "Processing rows:  10%|██████                                                     | 135/1320 [23:20<3:33:04, 10.79s/row]"
     ]
    },
    {
     "name": "stdout",
     "output_type": "stream",
     "text": [
      "Target: parametric answer: ১৮৮৬ সালের আগস্টে\n",
      "contextual answer: ১৮৮৬ সালের আগস্টে\n",
      "generated: parametric answer: ১৮৮৬ সালের আগস্টে, contextual answer: ১৮৮৬ সালের আগস্টে\n",
      "Error processing row: 429 Resource has been exhausted (e.g. check quota).\n"
     ]
    },
    {
     "name": "stderr",
     "output_type": "stream",
     "text": [
      "Processing rows:  10%|██████                                                     | 136/1320 [23:34<3:49:03, 11.61s/row]"
     ]
    },
    {
     "name": "stdout",
     "output_type": "stream",
     "text": [
      "Target: parametric answer: না\n",
      "contextual answer: না\n",
      "generated: parametric answer: হ্যাঁ, contextual answer: হ্যাঁ\n"
     ]
    },
    {
     "name": "stderr",
     "output_type": "stream",
     "text": [
      "Processing rows:  10%|██████                                                     | 137/1320 [23:48<4:03:25, 12.35s/row]"
     ]
    },
    {
     "name": "stdout",
     "output_type": "stream",
     "text": [
      "Target: parametric answer: মাউন্টেন বাইকিং\n",
      "contextual answer: মাউন্টেন বাইকিং\n",
      "generated: parametric answer: পাহাড়ী বা পাহাড়ী রাস্তায় চলাচল উপযোগী, contextual answer: অসমতল বা পাহাড়ী রাস্তায় চলাচল উপযোগী\n",
      "Error processing row: 429 Resource has been exhausted (e.g. check quota).\n"
     ]
    },
    {
     "name": "stderr",
     "output_type": "stream",
     "text": [
      "Processing rows:  10%|██████▏                                                    | 138/1320 [24:01<4:10:07, 12.70s/row]"
     ]
    },
    {
     "name": "stdout",
     "output_type": "stream",
     "text": [
      "Target: parametric answer: ৮৩৭\n",
      "contextual answer: ৮৩৭\n",
      "generated: parametric answer: ৮৩৭, contextual answer: ৮৩৭\n"
     ]
    },
    {
     "name": "stderr",
     "output_type": "stream",
     "text": [
      "Processing rows:  11%|██████▎                                                    | 142/1320 [24:16<3:15:43,  9.97s/row]"
     ]
    },
    {
     "name": "stdout",
     "output_type": "stream",
     "text": [
      "Target: parametric answer: খলিফা আল-মুতাসিমের\n",
      "contextual answer: খলিফা আল-মুতাসিমের\n",
      "generated: parametric answer: খলিফা আল-মুতাসিমের, contextual answer: খলিফা আল-মুতাসিমের\n"
     ]
    },
    {
     "name": "stderr",
     "output_type": "stream",
     "text": [
      "Processing rows:  11%|██████▍                                                    | 143/1320 [24:30<3:39:24, 11.18s/row]"
     ]
    },
    {
     "name": "stdout",
     "output_type": "stream",
     "text": [
      "Target: parametric answer: ডোরিলাইয়ামে\n",
      "contextual answer: ডোরিলাইয়ামে\n",
      "generated: parametric answer: ডোরিলাইয়ামে, contextual answer: ডোরিলাইয়ামে\n",
      "Error processing row: 429 Resource has been exhausted (e.g. check quota).\n"
     ]
    },
    {
     "name": "stderr",
     "output_type": "stream",
     "text": [
      "Processing rows:  11%|██████▍                                                    | 144/1320 [24:43<3:53:10, 11.90s/row]"
     ]
    },
    {
     "name": "stdout",
     "output_type": "stream",
     "text": [
      "Target: parametric answer: গৌণ ব্যাটারি\n",
      "contextual answer: গৌণ ব্যাটারি\n",
      "generated: parametric answer: সেকেন্ডারি ব্যাটারি, contextual answer: গৌণ ব্যাটারি\n",
      "Error processing row: 429 Resource has been exhausted (e.g. check quota).\n"
     ]
    },
    {
     "name": "stderr",
     "output_type": "stream",
     "text": [
      "Processing rows:  11%|██████▍                                                    | 145/1320 [24:57<4:02:32, 12.39s/row]"
     ]
    },
    {
     "name": "stdout",
     "output_type": "stream",
     "text": [
      "Target: parametric answer: বৈদ্যুতিক প্রবাহ প্রয়োগ করে\n",
      "contextual answer: বৈদ্যুতিক প্রবাহ প্রয়োগ করে\n",
      "generated: parametric answer: বৈদ্যুতিক প্রবাহ প্রয়োগ করে, contextual answer: বৈদ্যুতিক প্রবাহ প্রয়োগ করে\n",
      "Error processing row: 429 Resource has been exhausted (e.g. check quota).\n"
     ]
    },
    {
     "name": "stderr",
     "output_type": "stream",
     "text": [
      "Processing rows:  11%|██████▌                                                    | 146/1320 [25:10<4:09:04, 12.73s/row]"
     ]
    },
    {
     "name": "stdout",
     "output_type": "stream",
     "text": [
      "Target: parametric answer: লেড-অ্যাসিড ব্যাটারি\n",
      "contextual answer: লেড-অ্যাসিড ব্যাটারি\n",
      "generated: parametric answer: লেড-অ্যাসিড ব্যাটারি, contextual answer: লেড-অ্যাসিড ব্যাটারি\n",
      "Error processing row: 429 Resource has been exhausted (e.g. check quota).\n"
     ]
    },
    {
     "name": "stderr",
     "output_type": "stream",
     "text": [
      "Processing rows:  11%|██████▌                                                    | 147/1320 [25:24<4:13:28, 12.97s/row]"
     ]
    },
    {
     "name": "stdout",
     "output_type": "stream",
     "text": [
      "Target: parametric answer: ডিম্বাণু\n",
      "contextual answer: ডিম্বাণু\n",
      "generated: parametric answer: ডিম্বাণু, contextual answer: ডিম্বাণু\n",
      "Error processing row: 429 Resource has been exhausted (e.g. check quota).\n"
     ]
    },
    {
     "name": "stderr",
     "output_type": "stream",
     "text": [
      "Processing rows:  11%|██████▋                                                    | 150/1320 [25:37<3:23:25, 10.43s/row]"
     ]
    },
    {
     "name": "stdout",
     "output_type": "stream",
     "text": [
      "Target: parametric answer: দুই\n",
      "contextual answer: দুই\n",
      "generated: parametric answer: দুই, contextual answer: দুই\n",
      "Error processing row: 429 Resource has been exhausted (e.g. check quota).\n"
     ]
    },
    {
     "name": "stderr",
     "output_type": "stream",
     "text": [
      "Processing rows:  11%|██████▋                                                    | 151/1320 [25:51<3:41:12, 11.35s/row]"
     ]
    },
    {
     "name": "stdout",
     "output_type": "stream",
     "text": [
      "Target: parametric answer: পুরুষের শুক্রাণু যোনিপথ দিয়ে ডিম্ববাহী নালীতে গিয়ে পৌঁছে। সেখানে ডিম্বাণুর সাথে মিলিত হবার ফলে ভ্রুণ তৈরি হয়। একে গর্ভধারণ বলে।\n",
      "contextual answer: পুরুষের শুক্রাণু যোনিপথ দিয়ে ডিম্ববাহী নালীতে গিয়ে পৌঁছে। সেখানে ডিম্বাণুর সাথে মিলিত হবার ফলে ভ্রুণ তৈরি হয়। একে গর্ভধারণ বলে।\n",
      "generated: parametric answer: যখন কোনো নারীর শরীরের মধ্যে এক বা একাধিক সন্তান বৃদ্ধিলাভ করে থাকে, contextual answer: যখন কোনো নারীর শরীরের মধ্যে এক বা একাধিক সন্তান বৃদ্ধিলাভ করে থাকে\n",
      "Error processing row: 429 Resource has been exhausted (e.g. check quota).\n"
     ]
    },
    {
     "name": "stderr",
     "output_type": "stream",
     "text": [
      "Processing rows:  12%|██████▊                                                    | 152/1320 [26:04<3:53:49, 12.01s/row]"
     ]
    },
    {
     "name": "stdout",
     "output_type": "stream",
     "text": [
      "Target: parametric answer: জরায়ুতে\n",
      "contextual answer: জরায়ুতে\n",
      "generated: parametric answer: জরায়ুতে এসে পৌঁছায় এবং সেখানে বড় হয়ে শিশুতে পরিণত হয়, contextual answer: জরায়ুতে এসে পৌঁছায় এবং সেখানে বড় হয়ে শিশুতে পরিণত হয়\n",
      "Error processing row: 429 Resource has been exhausted (e.g. check quota).\n"
     ]
    },
    {
     "name": "stderr",
     "output_type": "stream",
     "text": [
      "Processing rows:  12%|██████▊                                                    | 153/1320 [26:18<4:02:24, 12.46s/row]"
     ]
    },
    {
     "name": "stdout",
     "output_type": "stream",
     "text": [
      "Target: parametric answer: ১৯৬০ ও ১৯৭০ এর দশকে\n",
      "contextual answer: ১৯৬০ ও ১৯৭০ এর দশকে\n",
      "generated: parametric answer: ১৯৬০ ও ১৯৭০ এর দশকে, contextual answer: ১৯৬০ ও ১৯৭০ এর দশকে\n",
      "Error processing row: 429 Resource has been exhausted (e.g. check quota).\n"
     ]
    },
    {
     "name": "stderr",
     "output_type": "stream",
     "text": [
      "Processing rows:  12%|██████▉                                                    | 155/1320 [26:32<3:28:46, 10.75s/row]"
     ]
    },
    {
     "name": "stdout",
     "output_type": "stream",
     "text": [
      "Target: parametric answer: পিতৃতন্ত্র ও পুঁজিবাদের মধ্যে যে সংযোগ তার উপরই\n",
      "contextual answer: পিতৃতন্ত্র ও পুঁজিবাদের মধ্যে যে সংযোগ তার উপরই\n",
      "generated: parametric answer: পিতৃতন্ত্র ও পুঁজিবাদের মধ্যে যে সংযোগ তার উপর, contextual answer: পিতৃতন্ত্র ও পুঁজিবাদের মধ্যে যে সংযোগ তার উপর\n",
      "Error processing row: 429 Resource has been exhausted (e.g. check quota).\n"
     ]
    },
    {
     "name": "stderr",
     "output_type": "stream",
     "text": [
      "Processing rows:  12%|██████▉                                                    | 156/1320 [26:45<3:44:40, 11.58s/row]"
     ]
    },
    {
     "name": "stdout",
     "output_type": "stream",
     "text": [
      "Target: parametric answer: অর্থনৈতিক নির্ভরতাকে\n",
      "contextual answer: অর্থনৈতিক নির্ভরতাকে\n",
      "generated: parametric answer: অর্থনৈতিক নির্ভরতাকে, contextual answer: অর্থনৈতিক নির্ভরতাকে\n",
      "Error processing row: 429 Resource has been exhausted (e.g. check quota).\n"
     ]
    },
    {
     "name": "stderr",
     "output_type": "stream",
     "text": [
      "Processing rows:  12%|███████                                                    | 157/1320 [26:59<3:55:57, 12.17s/row]"
     ]
    },
    {
     "name": "stdout",
     "output_type": "stream",
     "text": [
      "Target: parametric answer: রঞ্জন রশ্মি প্রতিফলক\n",
      "contextual answer: রঞ্জন রশ্মি প্রতিফলক\n",
      "generated: parametric answer: রঞ্জন রশ্মি, contextual answer: রঞ্জন রশ্মি\n",
      "Error processing row: 429 Resource has been exhausted (e.g. check quota).\n"
     ]
    },
    {
     "name": "stderr",
     "output_type": "stream",
     "text": [
      "Processing rows:  12%|███████▏                                                   | 160/1320 [27:12<3:10:52,  9.87s/row]"
     ]
    },
    {
     "name": "stdout",
     "output_type": "stream",
     "text": [
      "Target: parametric answer: লেন্সের মত\n",
      "contextual answer: লেন্সের মত\n",
      "generated: parametric answer: কাচ, contextual answer: কাচ\n",
      "Error processing row: 429 Resource has been exhausted (e.g. check quota).\n"
     ]
    },
    {
     "name": "stderr",
     "output_type": "stream",
     "text": [
      "Processing rows:  12%|███████▏                                                   | 161/1320 [27:26<3:31:49, 10.97s/row]"
     ]
    },
    {
     "name": "stdout",
     "output_type": "stream",
     "text": [
      "Target: parametric answer: ইতালীয় অধ্যাপক নিকোলো জুচ্চি\n",
      "contextual answer: ইতালীয় অধ্যাপক নিকোলো জুচ্চি\n",
      "generated: parametric answer: নিকোলো জুচ্চি, contextual answer: নিকোলো জুচ্চি\n",
      "Error processing row: 429 Resource has been exhausted (e.g. check quota).\n"
     ]
    },
    {
     "name": "stderr",
     "output_type": "stream",
     "text": [
      "Processing rows:  12%|███████▏                                                   | 162/1320 [27:39<3:46:26, 11.73s/row]"
     ]
    },
    {
     "name": "stdout",
     "output_type": "stream",
     "text": [
      "Target: parametric answer: রবার্ট হুক\n",
      "contextual answer: রবার্ট হুক\n",
      "generated: parametric answer: রবার্ট হুক, contextual answer: রবার্ট হুক\n",
      "Error processing row: 429 Resource has been exhausted (e.g. check quota).\n"
     ]
    },
    {
     "name": "stderr",
     "output_type": "stream",
     "text": [
      "Processing rows:  12%|███████▎                                                   | 163/1320 [27:53<3:56:29, 12.26s/row]"
     ]
    },
    {
     "name": "stdout",
     "output_type": "stream",
     "text": [
      "Target: parametric answer: ১৭তম শতাব্দীর\n",
      "contextual answer: ১৭তম শতাব্দীর\n",
      "generated: parametric answer: ১৭, contextual answer: ১৭\n",
      "Error processing row: 429 Resource has been exhausted (e.g. check quota).\n"
     ]
    },
    {
     "name": "stderr",
     "output_type": "stream",
     "text": [
      "Processing rows:  12%|███████▍                                                   | 165/1320 [28:06<3:24:16, 10.61s/row]"
     ]
    },
    {
     "name": "stdout",
     "output_type": "stream",
     "text": [
      "Target: parametric answer: ১৭০৭\n",
      "contextual answer: ১৭০৭\n",
      "generated: parametric answer: ১৭০৭, contextual answer: ১৭০৭\n",
      "Error processing row: 429 Resource has been exhausted (e.g. check quota).\n"
     ]
    },
    {
     "name": "stderr",
     "output_type": "stream",
     "text": [
      "Processing rows:  13%|███████▍                                                   | 167/1320 [28:20<3:01:43,  9.46s/row]"
     ]
    },
    {
     "name": "stdout",
     "output_type": "stream",
     "text": [
      "Target: parametric answer: ১৭১৭\n",
      "contextual answer: ১৭১৭\n",
      "generated: parametric answer: ১৭১৭, contextual answer: ১৭১৭\n",
      "Error processing row: 429 Resource has been exhausted (e.g. check quota).\n"
     ]
    },
    {
     "name": "stderr",
     "output_type": "stream",
     "text": [
      "Processing rows:  13%|███████▌                                                   | 168/1320 [28:33<3:24:57, 10.67s/row]"
     ]
    },
    {
     "name": "stdout",
     "output_type": "stream",
     "text": [
      "Target: parametric answer: একটি পরিবহন অবস্থা থেকে অন্য পরিবহন অবস্থায় স্থানান্তর প্রক্রিয়া\n",
      "contextual answer: একটি পরিবহন অবস্থা থেকে অন্য পরিবহন অবস্থায় স্থানান্তর প্রক্রিয়া\n",
      "generated: parametric answer: একটি পরিবহন অবস্থা থেকে অন্য পরিবহন অবস্থায় স্থানান্তর প্রক্রিয়া, contextual answer: একটি পরিবহন অবস্থা থেকে অন্য পরিবহন অবস্থায় স্থানান্তর প্রক্রিয়া\n",
      "Error processing row: 429 Resource has been exhausted (e.g. check quota).\n"
     ]
    },
    {
     "name": "stderr",
     "output_type": "stream",
     "text": [
      "Processing rows:  13%|███████▌                                                   | 170/1320 [28:47<3:02:04,  9.50s/row]"
     ]
    },
    {
     "name": "stdout",
     "output_type": "stream",
     "text": [
      "Target: parametric answer: ট্রান্সলোডিং\n",
      "contextual answer: ট্রান্সলোডিং\n",
      "generated: parametric answer: কার্গো ট্রাক, contextual answer: বাল্ক বস্তু\n",
      "Error processing row: 429 Resource has been exhausted (e.g. check quota).\n"
     ]
    },
    {
     "name": "stderr",
     "output_type": "stream",
     "text": [
      "Processing rows:  13%|███████▋                                                   | 171/1320 [29:00<3:24:58, 10.70s/row]"
     ]
    },
    {
     "name": "stdout",
     "output_type": "stream",
     "text": [
      "Target: parametric answer: গুদাম ঘর\n",
      "contextual answer: গুদাম ঘর\n",
      "generated: parametric answer: nan, contextual answer: nan\n",
      "Error processing row: 429 Resource has been exhausted (e.g. check quota).\n"
     ]
    },
    {
     "name": "stderr",
     "output_type": "stream",
     "text": [
      "Processing rows:  13%|███████▋                                                   | 172/1320 [29:14<3:40:58, 11.55s/row]"
     ]
    },
    {
     "name": "stdout",
     "output_type": "stream",
     "text": [
      "Target: parametric answer: যেহেতু সঞ্চয়ের জন্য পণ্যগুলি পরিচালনা করা প্রয়োজন\n",
      "contextual answer: যেহেতু সঞ্চয়ের জন্য পণ্যগুলি পরিচালনা করা প্রয়োজন\n",
      "generated: parametric answer: সঞ্চয়ের জন্য পণ্যগুলি পরিচালনা করা প্রয়োজন, contextual answer: সঞ্চয়ের জন্য পণ্যগুলি পরিচালনা করা প্রয়োজন\n",
      "Error processing row: 429 Resource has been exhausted (e.g. check quota).\n"
     ]
    },
    {
     "name": "stderr",
     "output_type": "stream",
     "text": [
      "Processing rows:  13%|███████▋                                                   | 173/1320 [29:27<3:52:01, 12.14s/row]"
     ]
    },
    {
     "name": "stdout",
     "output_type": "stream",
     "text": [
      "Target: parametric answer: পৃথিবী গোলাকার নয়, বরং সমতল, এই ধারণাকে বোঝানো হচ্ছে\n",
      "contextual answer: পৃথিবী গোলাকার নয়, বরং সমতল, এই ধারণাকে বোঝানো হচ্ছে\n",
      "generated: parametric answer: পৃথিবী গোলাকার নয়, বরং সমতল, এই ধারণাকে, contextual answer: পৃথিবী গোলাকার নয়, বরং সমতল, এই ধারণাকে\n",
      "Error processing row: 429 Resource has been exhausted (e.g. check quota).\n"
     ]
    },
    {
     "name": "stderr",
     "output_type": "stream",
     "text": [
      "Processing rows:  13%|███████▊                                                   | 175/1320 [29:41<3:20:59, 10.53s/row]"
     ]
    },
    {
     "name": "stdout",
     "output_type": "stream",
     "text": [
      "Target: parametric answer: খ্রিস্টপূর্ব ৪র্থ শতক\n",
      "contextual answer: খ্রিস্টপূর্ব ৪র্থ শতক\n",
      "generated: parametric answer: খ্রিস্টপূর্ব ৪র্থ শতকে, contextual answer: খ্রিস্টপূর্ব ৪র্থ শতকে\n",
      "Error processing row: 429 Resource has been exhausted (e.g. check quota).\n"
     ]
    },
    {
     "name": "stderr",
     "output_type": "stream",
     "text": [
      "Processing rows:  13%|███████▊                                                   | 176/1320 [29:54<3:37:52, 11.43s/row]"
     ]
    },
    {
     "name": "stdout",
     "output_type": "stream",
     "text": [
      "Target: parametric answer: কারণ পৃথিবী এতো বড় গোলক যে, কোন নির্দিষ্ট স্থান থেকে চারপাশটা সমতল মনে হয়\n",
      "contextual answer: কারণ পৃথিবী এতো বড় গোলক যে, কোন নির্দিষ্ট স্থান থেকে চারপাশটা সমতল মনে হয়\n",
      "generated: parametric answer: কারণ পৃথিবী এতো বড় গোলক যে, কোন নির্দিষ্ট স্থান থেকে চারপাশটা সমতল মনে হয়। বিজ্ঞানের যে পরীক্ষাগুলোতে পৃথিবীর উপরিতলের ছোট কোন অংশ নিয়ে কাজ করা হয় সেখানে সমতলই ধরা যায়, contextual answer: কারণ পৃথিবী এতো বড় গোলক যে, কোন নির্দিষ্ট স্থান থেকে চারপাশটা সমতল মনে হয়। বিজ্ঞানের যে পরীক্ষাগুলোতে পৃথিবীর উপরিতলের ছোট কোন অংশ নিয়ে কাজ করা হয় সেখানে সমতলই ধরা যেতে পারে\n",
      "Error processing row: 429 Resource has been exhausted (e.g. check quota).\n"
     ]
    },
    {
     "name": "stderr",
     "output_type": "stream",
     "text": [
      "Processing rows:  13%|███████▉                                                   | 177/1320 [30:08<3:49:52, 12.07s/row]"
     ]
    },
    {
     "name": "stdout",
     "output_type": "stream",
     "text": [
      "Target: parametric answer: বিদ ধাতু\n",
      "contextual answer: বিদ ধাতু\n",
      "generated: parametric answer: বেদ, contextual answer: বিদ\n",
      "Error processing row: 429 Resource has been exhausted (e.g. check quota).\n"
     ]
    },
    {
     "name": "stderr",
     "output_type": "stream",
     "text": [
      "Processing rows:  14%|████████                                                   | 180/1320 [30:21<3:06:08,  9.80s/row]"
     ]
    },
    {
     "name": "stdout",
     "output_type": "stream",
     "text": [
      "Target: parametric answer: জ্ঞান\n",
      "contextual answer: জ্ঞান\n",
      "generated: parametric answer: জ্ঞানী, contextual answer: জ্ঞান\n",
      "Error processing row: 429 Resource has been exhausted (e.g. check quota).\n"
     ]
    },
    {
     "name": "stderr",
     "output_type": "stream",
     "text": [
      "Processing rows:  14%|████████                                                   | 181/1320 [30:35<3:27:12, 10.92s/row]"
     ]
    },
    {
     "name": "stdout",
     "output_type": "stream",
     "text": [
      "Target: parametric answer: বেদজ্ঞানী\n",
      "contextual answer: বেদজ্ঞানী\n",
      "generated: parametric answer: বেদজ্ঞানী, contextual answer: বেদজ্ঞানী\n",
      "Error processing row: 429 Resource has been exhausted (e.g. check quota).\n"
     ]
    },
    {
     "name": "stderr",
     "output_type": "stream",
     "text": [
      "Processing rows:  14%|████████▏                                                  | 182/1320 [30:48<3:41:50, 11.70s/row]"
     ]
    },
    {
     "name": "stdout",
     "output_type": "stream",
     "text": [
      "Target: parametric answer: গুরুশিষ্য\n",
      "contextual answer: গুরুশিষ্য\n",
      "generated: parametric answer: গুরুশিষ্য, contextual answer: গুরুশিষ্য\n",
      "Error processing row: 429 Resource has been exhausted (e.g. check quota).\n"
     ]
    },
    {
     "name": "stderr",
     "output_type": "stream",
     "text": [
      "Processing rows:  14%|████████▏                                                  | 183/1320 [31:02<3:51:57, 12.24s/row]"
     ]
    },
    {
     "name": "stdout",
     "output_type": "stream",
     "text": [
      "Target: parametric answer: দুটি\n",
      "contextual answer: দুটি\n",
      "generated: parametric answer: দুটি, contextual answer: দুটি\n",
      "Error processing row: 429 Resource has been exhausted (e.g. check quota).\n"
     ]
    },
    {
     "name": "stderr",
     "output_type": "stream",
     "text": [
      "Processing rows:  14%|████████▏                                                  | 184/1320 [31:16<3:59:00, 12.62s/row]"
     ]
    },
    {
     "name": "stdout",
     "output_type": "stream",
     "text": [
      "Target: parametric answer: সুশ্রুত সংহিতা\n",
      "contextual answer: সুশ্রুত সংহিতা\n",
      "generated: parametric answer: সুশ্রুত সংহিতায়, contextual answer: সুশ্রুত সংহিতায়\n",
      "Error processing row: 429 Resource has been exhausted (e.g. check quota).\n"
     ]
    },
    {
     "name": "stderr",
     "output_type": "stream",
     "text": [
      "Processing rows:  14%|████████▎                                                  | 186/1320 [31:29<3:25:19, 10.86s/row]"
     ]
    },
    {
     "name": "stdout",
     "output_type": "stream",
     "text": [
      "Target: parametric answer: হিতোমি কিসুগি\n",
      "contextual answer: হিতোমি কিসুগি\n",
      "generated: parametric answer: যে ক্যাটস আইয়ের সদস্য হিসেবে চুরির কাজগুলো করে, contextual answer: যে ক্যাটস আইয়ের সদস্য হিসেবে চুরির কাজগুলো করে\n",
      "Error processing row: 429 Resource has been exhausted (e.g. check quota).\n"
     ]
    },
    {
     "name": "stderr",
     "output_type": "stream",
     "text": [
      "Processing rows:  14%|████████▍                                                  | 188/1320 [31:43<3:01:42,  9.63s/row]"
     ]
    },
    {
     "name": "stdout",
     "output_type": "stream",
     "text": [
      "Target: parametric answer: এর মাধ্যমে মুন্সিগঞ্জের লৌহজংয়ের সাথে শরীয়তপুর ও মাদারীপুর জেলা যুক্ত হবে\n",
      "contextual answer: এর মাধ্যমে মুন্সিগঞ্জের লৌহজংয়ের সাথে শরীয়তপুর ও মাদারীপুর জেলা যুক্ত হবে\n",
      "generated: parametric answer: মুন্সিগঞ্জের লৌহজংয়ের সাথে শরীয়তপুর ও মাদারীপুর জেলা যুক্ত হবে, contextual answer: মুন্সিগঞ্জের লৌহজংয়ের সাথে শরীয়তপুর ও মাদারীপুর জেলা যুক্ত হবে\n",
      "Error processing row: 429 Resource has been exhausted (e.g. check quota).\n"
     ]
    },
    {
     "name": "stderr",
     "output_type": "stream",
     "text": [
      "Processing rows:  14%|████████▌                                                  | 191/1320 [31:56<2:32:18,  8.09s/row]"
     ]
    },
    {
     "name": "stdout",
     "output_type": "stream",
     "text": [
      "Target: parametric answer: ৪১টি স্পান\n",
      "contextual answer: ৪১টি স্পান\n",
      "generated: parametric answer: ৪১টি, contextual answer: ৪১টি\n",
      "Error processing row: 429 Resource has been exhausted (e.g. check quota).\n"
     ]
    },
    {
     "name": "stderr",
     "output_type": "stream",
     "text": [
      "Processing rows:  15%|████████▋                                                  | 193/1320 [32:10<2:24:30,  7.69s/row]"
     ]
    },
    {
     "name": "stdout",
     "output_type": "stream",
     "text": [
      "Target: parametric answer: প্রকল্প প্রস্তুতির সাথে যুক্ত কিছু লোকের দুর্নীতির অভিযোগ উঠায়\n",
      "contextual answer: প্রকল্প প্রস্তুতির সাথে যুক্ত কিছু লোকের দুর্নীতির অভিযোগ উঠায়\n",
      "generated: parametric answer: প্রকল্প প্রস্তুতির সাথে যুক্ত কিছু লোকের দুর্নীতির অভিযোগ উঠায়, contextual answer: প্রকল্প প্রস্তুতির সাথে যুক্ত কিছু লোকের দুর্নীতির অভিযোগ উঠায়\n",
      "Error processing row: 429 Resource has been exhausted (e.g. check quota).\n"
     ]
    },
    {
     "name": "stderr",
     "output_type": "stream",
     "text": [
      "Processing rows:  15%|████████▋                                                  | 194/1320 [32:23<2:57:23,  9.45s/row]"
     ]
    },
    {
     "name": "stdout",
     "output_type": "stream",
     "text": [
      "Target: parametric answer: এন্ডোগ্যামাস\n",
      "contextual answer: এন্ডোগ্যামাস\n",
      "generated: parametric answer: এন্ডোগ্যামাস, contextual answer: এন্ডোগ্যামাস\n",
      "Error processing row: 429 Resource has been exhausted (e.g. check quota).\n"
     ]
    },
    {
     "name": "stderr",
     "output_type": "stream",
     "text": [
      "Processing rows:  15%|████████▊                                                  | 196/1320 [32:37<2:41:58,  8.65s/row]"
     ]
    },
    {
     "name": "stdout",
     "output_type": "stream",
     "text": [
      "Target: parametric answer: ১৯২৫\n",
      "contextual answer: ১৯২৫\n",
      "generated: parametric answer: ১৯২৫, contextual answer: ১৯২৫\n",
      "Error processing row: 429 Resource has been exhausted (e.g. check quota).\n"
     ]
    },
    {
     "name": "stderr",
     "output_type": "stream",
     "text": [
      "Processing rows:  15%|████████▊                                                  | 198/1320 [32:50<2:31:06,  8.08s/row]"
     ]
    },
    {
     "name": "stdout",
     "output_type": "stream",
     "text": [
      "Target: parametric answer: বাঙালি হিন্দুদের সাথে অন্যান্য হিন্দুরাও অভিন্ন হিন্দু আইন দ্বারা পরিচালিত হচ্ছে\n",
      "contextual answer: বাঙালি হিন্দুদের সাথে অন্যান্য হিন্দুরাও অভিন্ন হিন্দু আইন দ্বারা পরিচালিত হচ্ছে\n",
      "generated: parametric answer: বাঙালি হিন্দুদের সাথে অন্যান্য হিন্দুরাও অভিন্ন হিন্দু আইন দ্বারা পরিচালিত হচ্ছে, contextual answer: বাঙালি হিন্দুদের সাথে অন্যান্য হিন্দুরাও অভিন্ন হিন্দু আইন দ্বারা পরিচালিত হচ্ছে\n",
      "Error processing row: 429 Resource has been exhausted (e.g. check quota).\n"
     ]
    },
    {
     "name": "stderr",
     "output_type": "stream",
     "text": [
      "Processing rows:  15%|████████▉                                                  | 199/1320 [33:04<3:01:40,  9.72s/row]"
     ]
    },
    {
     "name": "stdout",
     "output_type": "stream",
     "text": [
      "Target: parametric answer: বাংলাদেশী অমনিবাস ওয়েব ধারাবাহিক\n",
      "contextual answer: বাংলাদেশী অমনিবাস ওয়েব ধারাবাহিক\n",
      "generated: parametric answer: বাংলাদেশী অমনিবাস ওয়েব ধারাবাহিক, contextual answer: বাংলাদেশী অমনিবাস ওয়েব ধারাবাহিক\n",
      "Error processing row: 429 Resource has been exhausted (e.g. check quota).\n"
     ]
    },
    {
     "name": "stderr",
     "output_type": "stream",
     "text": [
      "Processing rows:  15%|████████▉                                                  | 200/1320 [33:17<3:22:47, 10.86s/row]"
     ]
    },
    {
     "name": "stdout",
     "output_type": "stream",
     "text": [
      "Target: parametric answer: চরকি ওয়েব প্ল্যাটফর্মে\n",
      "contextual answer: চরকি ওয়েব প্ল্যাটফর্মে\n",
      "generated: parametric answer: ডিপজল, contextual answer: চরকি\n",
      "Error processing row: 429 Resource has been exhausted (e.g. check quota).\n"
     ]
    },
    {
     "name": "stderr",
     "output_type": "stream",
     "text": [
      "Processing rows:  15%|████████▉                                                  | 201/1320 [33:31<3:37:24, 11.66s/row]"
     ]
    },
    {
     "name": "stdout",
     "output_type": "stream",
     "text": [
      "Target: parametric answer: পাঁচটি\n",
      "contextual answer: পাঁচটি\n",
      "generated: parametric answer: পাঁচটি, contextual answer: পাঁচটি\n",
      "Error processing row: 429 Resource has been exhausted (e.g. check quota).\n"
     ]
    },
    {
     "name": "stderr",
     "output_type": "stream",
     "text": [
      "Processing rows:  15%|█████████                                                  | 202/1320 [33:44<3:47:38, 12.22s/row]"
     ]
    },
    {
     "name": "stdout",
     "output_type": "stream",
     "text": [
      "Target: parametric answer: মঙ্গল\n",
      "contextual answer: মঙ্গল\n",
      "generated: parametric answer: মঙ্গল, contextual answer: মঙ্গল\n",
      "Error processing row: 429 Resource has been exhausted (e.g. check quota).\n"
     ]
    },
    {
     "name": "stderr",
     "output_type": "stream",
     "text": [
      "Processing rows:  15%|█████████                                                  | 204/1320 [33:58<3:16:45, 10.58s/row]"
     ]
    },
    {
     "name": "stdout",
     "output_type": "stream",
     "text": [
      "Target: parametric answer: সাতোশি টোবা\n",
      "contextual answer: সাতোশি টোবা\n",
      "generated: parametric answer: সাতোশি টোবা, contextual answer: সাতোশি টোবা\n",
      "Error processing row: 429 Resource has been exhausted (e.g. check quota).\n"
     ]
    },
    {
     "name": "stderr",
     "output_type": "stream",
     "text": [
      "Processing rows:  16%|█████████▏                                                 | 205/1320 [34:11<3:32:53, 11.46s/row]"
     ]
    },
    {
     "name": "stdout",
     "output_type": "stream",
     "text": [
      "Target: parametric answer: রাষ্ট্রহীনের চেয়ে বহুজাতিক\n",
      "contextual answer: রাষ্ট্রহীনের চেয়ে বহুজাতিক\n",
      "generated: parametric answer: রাষ্ট্রহীনের চেয়ে বহুজাতিক, contextual answer: রাষ্ট্রহীনের চেয়ে বহুজাতিক\n",
      "Error processing row: 429 Resource has been exhausted (e.g. check quota).\n"
     ]
    },
    {
     "name": "stderr",
     "output_type": "stream",
     "text": [
      "Processing rows:  16%|█████████▏                                                 | 206/1320 [34:25<3:44:03, 12.07s/row]"
     ]
    },
    {
     "name": "stdout",
     "output_type": "stream",
     "text": [
      "Target: parametric answer: জ্যোতির্বিদ্যা\n",
      "contextual answer: জ্যোতির্বিদ্যা\n",
      "generated: parametric answer: জ্যোতির্বিজ্ঞানের বিভিন্ন ধরনের সমস্যা এবং কাজ করতে সক্ষম, contextual answer: জ্যোতির্বিজ্ঞানের বিভিন্ন ধরনের সমস্যা এবং কাজ করতে সক্ষম\n",
      "Error processing row: 429 Resource has been exhausted (e.g. check quota).\n"
     ]
    },
    {
     "name": "stderr",
     "output_type": "stream",
     "text": [
      "Processing rows:  16%|█████████▎                                                 | 208/1320 [34:38<3:14:05, 10.47s/row]"
     ]
    },
    {
     "name": "stdout",
     "output_type": "stream",
     "text": [
      "Target: parametric answer: মধ্যযুগীয়\n",
      "contextual answer: মধ্যযুগীয়\n",
      "generated: parametric answer: মধ্যযুগীয়, contextual answer: মধ্যযুগীয়\n",
      "Error processing row: 429 Resource has been exhausted (e.g. check quota).\n"
     ]
    },
    {
     "name": "stderr",
     "output_type": "stream",
     "text": [
      "Processing rows:  16%|█████████▎                                                 | 209/1320 [34:52<3:30:43, 11.38s/row]"
     ]
    },
    {
     "name": "stdout",
     "output_type": "stream",
     "text": [
      "Target: parametric answer: অষ্টম শতাব্দীর গণিতবিদ মুহাম্মদ আল-ফাজারী\n",
      "contextual answer: অষ্টম শতাব্দীর গণিতবিদ মুহাম্মদ আল-ফাজারী\n",
      "generated: parametric answer: অষ্টম শতাব্দীর গণিতবিদ মুহাম্মদ আল-ফাজারী, contextual answer: অষ্টম শতাব্দীর গণিতবিদ মুহাম্মদ আল-ফাজারী\n",
      "Error processing row: 429 Resource has been exhausted (e.g. check quota).\n"
     ]
    },
    {
     "name": "stderr",
     "output_type": "stream",
     "text": [
      "Processing rows:  16%|█████████▍                                                 | 210/1320 [35:05<3:42:20, 12.02s/row]"
     ]
    },
    {
     "name": "stdout",
     "output_type": "stream",
     "text": [
      "Target: parametric answer: কনকাকাফ\n",
      "contextual answer: কনকাকাফ\n",
      "generated: parametric answer: কনকাকাফ, contextual answer: কনকাকাফ\n",
      "Error processing row: 429 Resource has been exhausted (e.g. check quota).\n"
     ]
    },
    {
     "name": "stderr",
     "output_type": "stream",
     "text": [
      "Processing rows:  16%|█████████▍                                                 | 212/1320 [35:19<3:12:47, 10.44s/row]"
     ]
    },
    {
     "name": "stdout",
     "output_type": "stream",
     "text": [
      "Target: parametric answer: মেক্সিকো\n",
      "contextual answer: মেক্সিকো\n",
      "generated: parametric answer: ব্রাজিল, contextual answer: মেক্সিকো\n",
      "Error processing row: 429 Resource has been exhausted (e.g. check quota).\n"
     ]
    },
    {
     "name": "stderr",
     "output_type": "stream",
     "text": [
      "Processing rows:  16%|█████████▌                                                 | 213/1320 [35:32<3:29:37, 11.36s/row]"
     ]
    },
    {
     "name": "stdout",
     "output_type": "stream",
     "text": [
      "Target: parametric answer: না\n",
      "contextual answer: না\n",
      "generated: parametric answer: না, contextual answer: না\n",
      "Error processing row: 429 Resource has been exhausted (e.g. check quota).\n"
     ]
    },
    {
     "name": "stderr",
     "output_type": "stream",
     "text": [
      "Processing rows:  16%|█████████▌                                                 | 214/1320 [35:46<3:41:15, 12.00s/row]"
     ]
    },
    {
     "name": "stdout",
     "output_type": "stream",
     "text": [
      "Target: parametric answer: চার\n",
      "contextual answer: চার\n",
      "generated: parametric answer: চারবার, contextual answer: চারবার\n",
      "Error processing row: 429 Resource has been exhausted (e.g. check quota).\n"
     ]
    },
    {
     "name": "stderr",
     "output_type": "stream",
     "text": [
      "Processing rows:  16%|█████████▌                                                 | 215/1320 [35:59<3:49:21, 12.45s/row]"
     ]
    },
    {
     "name": "stdout",
     "output_type": "stream",
     "text": [
      "Target: parametric answer: প্রায় ২৫০০ বছর আগের\n",
      "contextual answer: প্রায় ২৫০০ বছর আগের\n",
      "generated: parametric answer: ২৫০০ বছর, contextual answer: ২৫০০ বছর\n",
      "Error processing row: 429 Resource has been exhausted (e.g. check quota).\n"
     ]
    },
    {
     "name": "stderr",
     "output_type": "stream",
     "text": [
      "Processing rows:  16%|█████████▋                                                 | 217/1320 [36:13<3:17:29, 10.74s/row]"
     ]
    },
    {
     "name": "stdout",
     "output_type": "stream",
     "text": [
      "Target: parametric answer: ১৬৯৬\n",
      "contextual answer: ১৬৯৬\n",
      "generated: parametric answer: ১৬৯৬, contextual answer: ১৬৯৬\n",
      "Error processing row: 429 Resource has been exhausted (e.g. check quota).\n"
     ]
    },
    {
     "name": "stderr",
     "output_type": "stream",
     "text": [
      "Processing rows:  17%|█████████▋                                                 | 218/1320 [36:26<3:32:37, 11.58s/row]"
     ]
    },
    {
     "name": "stdout",
     "output_type": "stream",
     "text": [
      "Target: parametric answer: একজন নৈরাজ্যবাদী রাশিয়ান লেখক\n",
      "contextual answer: একজন নৈরাজ্যবাদী রাশিয়ান লেখক\n",
      "generated: parametric answer: নৈরাজ্যবাদী আমেরিকান লেখক যিনি লেখা, বক্তৃতা এবং রাজনৈতিক সক্রিয়তার মাধ্যমে পরিচিত ছিলেন, contextual answer: নৈরাজ্যবাদী রাশিয়ান লেখক যিনি লেখা, বক্তৃতা এবং রাজনৈতিক সক্রিয়তার মাধ্যমে পরিচিত ছিলেন\n",
      "Error processing row: 429 Resource has been exhausted (e.g. check quota).\n"
     ]
    },
    {
     "name": "stderr",
     "output_type": "stream",
     "text": [
      "Processing rows:  17%|█████████▉                                                 | 221/1320 [36:40<2:53:11,  9.46s/row]"
     ]
    },
    {
     "name": "stdout",
     "output_type": "stream",
     "text": [
      "Target: parametric answer: রাশিয়ান সাম্রাজ্যের কভ্ন\n",
      "contextual answer: রাশিয়ান সাম্রাজ্যের কভ্ন\n",
      "generated: parametric answer: রাশিয়ান সাম্রাজ্যের কভ্ন (বর্তমানে কাউনাস, লিত্ভা) এক ইহুদী পরিবারে, contextual answer: রাশিয়ান সাম্রাজ্যের কভ্ন (বর্তমানে কাউনাস, লিত্ভা) এক ইহুদী পরিবারে\n",
      "Error processing row: 429 Resource has been exhausted (e.g. check quota).\n"
     ]
    },
    {
     "name": "stderr",
     "output_type": "stream",
     "text": [
      "Processing rows:  17%|█████████▉                                                 | 222/1320 [36:53<3:15:15, 10.67s/row]"
     ]
    },
    {
     "name": "stdout",
     "output_type": "stream",
     "text": [
      "Target: parametric answer: অবৈধভাবে জন্ম নিয়ন্ত্রণ সম্পর্কে তথ্য বিতরণের জন্য\n",
      "contextual answer: অবৈধভাবে জন্ম নিয়ন্ত্রণ সম্পর্কে তথ্য বিতরণের জন্য\n",
      "generated: parametric answer: দাঙ্গা উস্কে\" এবং অবৈধভাবে জন্ম নিয়ন্ত্রণ সম্পর্কে তথ্য বিতরণের জন্য, contextual answer: দাঙ্গা উস্কে\" এবং অবৈধভাবে জন্ম নিয়ন্ত্রণ সম্পর্কে তথ্য বিতরণের জন্য\n",
      "Error processing row: 429 Resource has been exhausted (e.g. check quota).\n"
     ]
    },
    {
     "name": "stderr",
     "output_type": "stream",
     "text": [
      "Processing rows:  17%|█████████▉                                                 | 223/1320 [37:07<3:30:33, 11.52s/row]"
     ]
    },
    {
     "name": "stdout",
     "output_type": "stream",
     "text": [
      "Target: parametric answer: ১৮৮৫\n",
      "contextual answer: ১৮৮৫\n",
      "generated: parametric answer: ১৮৮৭, contextual answer: ১৮৮৫\n",
      "Error processing row: 429 Resource has been exhausted (e.g. check quota).\n"
     ]
    },
    {
     "name": "stderr",
     "output_type": "stream",
     "text": [
      "Processing rows:  17%|██████████                                                 | 224/1320 [37:20<3:41:16, 12.11s/row]"
     ]
    },
    {
     "name": "stdout",
     "output_type": "stream",
     "text": [
      "Target: parametric answer: অ্যানিমেশন স্টুডিও সানরাইজ\n",
      "contextual answer: অ্যানিমেশন স্টুডিও সানরাইজ\n",
      "generated: parametric answer: সানরাইজ, contextual answer: সানরাইজ\n",
      "Error processing row: 429 Resource has been exhausted (e.g. check quota).\n"
     ]
    },
    {
     "name": "stderr",
     "output_type": "stream",
     "text": [
      "Processing rows:  17%|██████████                                                 | 226/1320 [37:34<3:11:33, 10.51s/row]"
     ]
    },
    {
     "name": "stdout",
     "output_type": "stream",
     "text": [
      "Target: parametric answer: শিনিচিরো ওয়াতানাবে\n",
      "contextual answer: শিনিচিরো ওয়াতানাবে\n",
      "generated: parametric answer: শিনিচিরো ওয়াতানাবে, contextual answer: শিনিচিরো ওয়াতানাবে\n",
      "Error processing row: 429 Resource has been exhausted (e.g. check quota).\n"
     ]
    },
    {
     "name": "stderr",
     "output_type": "stream",
     "text": [
      "Processing rows:  17%|██████████▏                                                | 227/1320 [37:47<3:27:44, 11.40s/row]"
     ]
    },
    {
     "name": "stdout",
     "output_type": "stream",
     "text": [
      "Target: parametric answer: কারণ তিনি মেচা অ্যানিমেতে তার আগের কাজ থেকে ভিন্ন কিছু করতে চেয়েছিলেন\n",
      "contextual answer: কারণ তিনি মেচা অ্যানিমেতে তার আগের কাজ থেকে ভিন্ন কিছু করতে চেয়েছিলেন\n",
      "generated: parametric answer: তিনি মেচা অ্যানিমেতে তার আগের কাজ থেকে ভিন্ন কিছু করতে চেয়েছিলেন, contextual answer: তিনি মেচা অ্যানিমেতে তার আগের কাজ থেকে ভিন্ন কিছু করতে চেয়েছিলেন\n",
      "Error processing row: 429 Resource has been exhausted (e.g. check quota).\n"
     ]
    },
    {
     "name": "stderr",
     "output_type": "stream",
     "text": [
      "Processing rows:  17%|██████████▏                                                | 228/1320 [38:01<3:39:05, 12.04s/row]"
     ]
    },
    {
     "name": "stdout",
     "output_type": "stream",
     "text": [
      "Target: parametric answer: ৩০ হাজার ১৯৩ দশমিক ৩৯ কোটি টাকা\n",
      "contextual answer: ৩০ হাজার ১৯৩ দশমিক ৩৯ কোটি টাকা\n",
      "generated: parametric answer: ৩০ হাজার ১৯৩ দশমিক ৩৯ কোটি টাকা, contextual answer: ৩০ হাজার ১৯৩ দশমিক ৩৯ কোটি টাকা\n",
      "Error processing row: 429 Resource has been exhausted (e.g. check quota).\n"
     ]
    },
    {
     "name": "stderr",
     "output_type": "stream",
     "text": [
      "Processing rows:  17%|██████████▎                                                | 230/1320 [38:14<3:09:53, 10.45s/row]"
     ]
    },
    {
     "name": "stdout",
     "output_type": "stream",
     "text": [
      "Target: parametric answer: ১২,০০০/- কোটি টাকা\n",
      "contextual answer: ১২,০০০/- কোটি টাকা\n",
      "generated: parametric answer: ১২,০০০/- কোটি টাকা, contextual answer: ১২,০০০/- কোটি টাকা\n",
      "Error processing row: 429 Resource has been exhausted (e.g. check quota).\n"
     ]
    },
    {
     "name": "stderr",
     "output_type": "stream",
     "text": [
      "Processing rows:  18%|██████████▎                                                | 231/1320 [38:28<3:26:19, 11.37s/row]"
     ]
    },
    {
     "name": "stdout",
     "output_type": "stream",
     "text": [
      "Target: parametric answer: ২০১৪\n",
      "contextual answer: ২০১৪\n",
      "generated: parametric answer: ২০১৪, contextual answer: ২০১৪\n",
      "Error processing row: 429 Resource has been exhausted (e.g. check quota).\n"
     ]
    },
    {
     "name": "stderr",
     "output_type": "stream",
     "text": [
      "Processing rows:  18%|██████████▎                                                | 232/1320 [38:41<3:37:49, 12.01s/row]"
     ]
    },
    {
     "name": "stdout",
     "output_type": "stream",
     "text": [
      "Target: parametric answer: পরিবেশ আচরণ;ধর্ম;সংস্কৃতি;অর্থনৈতিক অনুশীলনকে প্রভাবিত করে\n",
      "contextual answer: পরিবেশ আচরণ;ধর্ম;সংস্কৃতি;অর্থনৈতিক অনুশীলনকে প্রভাবিত করে\n",
      "generated: parametric answer: আচরণ, ধর্ম, সংস্কৃতি এবং অর্থনৈতিক অনুশীলনকে প্রভাবিত করে, contextual answer: আচরণ, ধর্ম, সংস্কৃতি এবং অর্থনৈতিক অনুশীলনকে প্রভাবিত করে\n",
      "Error processing row: 429 Resource has been exhausted (e.g. check quota).\n"
     ]
    },
    {
     "name": "stderr",
     "output_type": "stream",
     "text": [
      "Processing rows:  18%|██████████▌                                                | 235/1320 [38:55<2:56:33,  9.76s/row]"
     ]
    },
    {
     "name": "stdout",
     "output_type": "stream",
     "text": [
      "Target: parametric answer: দু’ধরনের\n",
      "contextual answer: দু’ধরনের\n",
      "generated: parametric answer: দুই, contextual answer: দুই\n",
      "Error processing row: 429 Resource has been exhausted (e.g. check quota).\n"
     ]
    },
    {
     "name": "stderr",
     "output_type": "stream",
     "text": [
      "Processing rows:  18%|██████████▌                                                | 237/1320 [39:08<2:39:56,  8.86s/row]"
     ]
    },
    {
     "name": "stdout",
     "output_type": "stream",
     "text": [
      "Target: parametric answer: দু’ধরনের\n",
      "contextual answer: চার ধরনের\n",
      "generated: parametric answer: দুই, contextual answer: চার\n",
      "Error processing row: 429 Resource has been exhausted (e.g. check quota).\n"
     ]
    },
    {
     "name": "stderr",
     "output_type": "stream",
     "text": [
      "Processing rows:  18%|██████████▋                                                | 238/1320 [39:22<3:04:54, 10.25s/row]"
     ]
    },
    {
     "name": "stdout",
     "output_type": "stream",
     "text": [
      "Target: parametric answer: পরস্পরের সাথে সংযুক্ত এক গুচ্ছ ট্রান্সমিটার, রিসিভার বা ট্রান্সিভারের সমন্বয়ে\n",
      "contextual answer: পরস্পরের সাথে সংযুক্ত এক গুচ্ছ ট্রান্সমিটার, রিসিভার বা ট্রান্সিভারের সমন্বয়ে\n",
      "generated: parametric answer: পরস্পরের সাথে সংযুক্ত এক গুচ্ছ ট্রান্সমিটার, রিসিভার বা ট্রান্সিভারের সমন্বয়ে গঠিত হয়, contextual answer: পরস্পরের সাথে সংযুক্ত এক গুচ্ছ ট্রান্সমিটার, রিসিভার বা ট্রান্সিভারের সমন্বয়ে গঠিত হয়\n",
      "Error processing row: 429 Resource has been exhausted (e.g. check quota).\n"
     ]
    },
    {
     "name": "stderr",
     "output_type": "stream",
     "text": [
      "Processing rows:  18%|██████████▋                                                | 239/1320 [39:36<3:22:27, 11.24s/row]"
     ]
    },
    {
     "name": "stdout",
     "output_type": "stream",
     "text": [
      "Target: parametric answer: একটি নির্দিষ্ট বাবহারকারীর কাছে তথ্য পাঠানো\n",
      "contextual answer: একটি নির্দিষ্ট বাবহারকারীর কাছে তথ্য পাঠানো\n",
      "generated: parametric answer: একটি নির্দিষ্ট বাবহারকারীর কাছে তথ্য পাঠানো, contextual answer: একটি নির্দিষ্ট বাবহারকারীর কাছে তথ্য পাঠানো\n",
      "Error processing row: 429 Resource has been exhausted (e.g. check quota).\n"
     ]
    },
    {
     "name": "stderr",
     "output_type": "stream",
     "text": [
      "Processing rows:  18%|██████████▋                                                | 240/1320 [39:49<3:34:35, 11.92s/row]"
     ]
    },
    {
     "name": "stdout",
     "output_type": "stream",
     "text": [
      "Target: parametric answer: যাতে দুর্বল অ্যানালগ সিগনালকে বিবর্ধিত করে শক্তিশালী;বিকৃত ডিজিটাল সিগনালকে পুনর্গঠন করা যায়\n",
      "contextual answer: যাতে দুর্বল অ্যানালগ সিগনালকে বিবর্ধিত করে শক্তিশালী;বিকৃত ডিজিটাল সিগনালকে পুনর্গঠন করা যায়\n",
      "generated: parametric answer: যাতে দুর্বল অ্যানালগ সিগনালকে বিবর্ধিত করে শক্তিশালী এবং বিকৃত ডিজিটাল সিগনালকে পুনর্গঠন করা যায়, contextual answer: যাতে দুর্বল অ্যানালগ সিগনালকে বিবর্ধিত করে শক্তিশালী এবং বিকৃত ডিজিটাল সিগনালকে পুনর্গঠন করা যায়\n",
      "Error processing row: 429 Resource has been exhausted (e.g. check quota).\n"
     ]
    },
    {
     "name": "stderr",
     "output_type": "stream",
     "text": [
      "Processing rows:  18%|██████████▊                                                | 241/1320 [40:03<3:42:56, 12.40s/row]"
     ]
    },
    {
     "name": "stdout",
     "output_type": "stream",
     "text": [
      "Target: parametric answer: নতুন\n",
      "contextual answer: নতুন\n",
      "generated: parametric answer: নতুন, contextual answer: নতুন\n",
      "Error processing row: 429 Resource has been exhausted (e.g. check quota).\n"
     ]
    },
    {
     "name": "stderr",
     "output_type": "stream",
     "text": [
      "Processing rows:  18%|██████████▊                                                | 243/1320 [40:16<3:12:09, 10.71s/row]"
     ]
    },
    {
     "name": "stdout",
     "output_type": "stream",
     "text": [
      "Target: parametric answer: ১৯২৬\n",
      "contextual answer: ১৯২৬\n",
      "generated: parametric answer: ১৯২৬, contextual answer: ১৯২৬\n",
      "Error processing row: 429 Resource has been exhausted (e.g. check quota).\n"
     ]
    },
    {
     "name": "stderr",
     "output_type": "stream",
     "text": [
      "Processing rows:  18%|██████████▉                                                | 244/1320 [40:30<3:27:05, 11.55s/row]"
     ]
    },
    {
     "name": "stdout",
     "output_type": "stream",
     "text": [
      "Target: parametric answer: ৩৬৭\n",
      "contextual answer: ৩৬৭\n",
      "generated: parametric answer: ৩৬৭টি, contextual answer: ৩৬৭টি\n",
      "Error processing row: 429 Resource has been exhausted (e.g. check quota).\n"
     ]
    },
    {
     "name": "stderr",
     "output_type": "stream",
     "text": [
      "Processing rows:  19%|██████████▉                                                | 245/1320 [40:43<3:37:32, 12.14s/row]"
     ]
    },
    {
     "name": "stdout",
     "output_type": "stream",
     "text": [
      "Target: parametric answer: ইন্টারন্যাশনাল অ্যাস্ট্রোনমিক্যাল ইউনিয়ন-এর সেন্ট্রাল ব্যুরো ফর অ্যাস্ট্রোনমিক্যাল টেলিগ্রাম্‌স শীর্ষক\n",
      "contextual answer: ইন্টারন্যাশনাল অ্যাস্ট্রোনমিক্যাল ইউনিয়ন-এর সেন্ট্রাল ব্যুরো ফর অ্যাস্ট্রোনমিক্যাল টেলিগ্রাম্‌স শীর্ষক\n",
      "generated: parametric answer: ইন্টারন্যাশনাল অ্যাস্ট্রোনমিক্যাল ইউনিয়ন-এর সেন্ট্রাল ব্যুরো ফর অ্যাস্ট্রোনমিক্যাল টেলিগ্রাম্ স শিরোনামে, contextual answer: ইন্টারন্যাশনাল অ্যাস্ট্রোনমিক্যাল ইউনিয়ন-এর সেন্ট্রাল ব্যুরো ফর অ্যাস্ট্রোনমিক্যাল টেলিগ্রাম্ স শিরোনামে\n",
      "Error processing row: 429 Resource has been exhausted (e.g. check quota).\n"
     ]
    },
    {
     "name": "stderr",
     "output_type": "stream",
     "text": [
      "Processing rows:  19%|██████████▉                                                | 246/1320 [40:57<3:44:46, 12.56s/row]"
     ]
    },
    {
     "name": "stdout",
     "output_type": "stream",
     "text": [
      "Target: parametric answer: একটি সেলুলার ওবিডি সন্ধানার সরাসরি সেলুলার টাওয়ারের সাথে যোগাযোগ স্থাপন করে এবং সেলুলার ওয়্যারলেস নেটওয়ার্কের মধ্যমে যানবাহনের অবস্থান এবং অন্যান্য তথ্য সার্ভারে প্রেরণ করে দেয়\n",
      "contextual answer: একটি সেলুলার ওবিডি সন্ধানার সরাসরি সেলুলার টাওয়ারের সাথে যোগাযোগ স্থাপন করে এবং সেলুলার ওয়্যারলেস নেটওয়ার্কের মধ্যমে যানবাহনের অবস্থান এবং অন্যান্য তথ্য সার্ভারে প্রেরণ করে দেয়\n",
      "generated: parametric answer: একটি ওবিডি জিপিএস সন্ধানার হালকা বা মধ্যম কর্মক্ষমতার গাড়ির ওবিডি পোর্টে যুক্ত করে দেয়া হয়, contextual answer: একটি ওবিডি জিপিএস সন্ধানার হালকা বা মধ্যম কর্মক্ষমতার গাড়ির ওবিডি পোর্টে যুক্ত করে দেয়া হয়\n",
      "Error processing row: 429 Resource has been exhausted (e.g. check quota).\n"
     ]
    },
    {
     "name": "stderr",
     "output_type": "stream",
     "text": [
      "Processing rows:  19%|███████████                                                | 248/1320 [41:10<3:13:28, 10.83s/row]"
     ]
    },
    {
     "name": "stdout",
     "output_type": "stream",
     "text": [
      "Target: parametric answer: টেকোগ্রাফ\n",
      "contextual answer: টেকোগ্রাফ\n",
      "generated: parametric answer: একটি টেকোগ্রাফ, contextual answer: একটি টেকোগ্রাফ\n",
      "Error processing row: 429 Resource has been exhausted (e.g. check quota).\n"
     ]
    },
    {
     "name": "stderr",
     "output_type": "stream",
     "text": [
      "Processing rows:  19%|███████████▏                                               | 249/1320 [41:24<3:27:41, 11.64s/row]"
     ]
    },
    {
     "name": "stdout",
     "output_type": "stream",
     "text": [
      "Target: parametric answer: ২০০২\n",
      "contextual answer: ২০০২\n",
      "generated: parametric answer: ২০০২, contextual answer: ২০০২\n",
      "Error processing row: 429 Resource has been exhausted (e.g. check quota).\n"
     ]
    },
    {
     "name": "stderr",
     "output_type": "stream",
     "text": [
      "Processing rows:  19%|███████████▏                                               | 251/1320 [41:37<3:01:16, 10.17s/row]"
     ]
    },
    {
     "name": "stdout",
     "output_type": "stream",
     "text": [
      "Target: parametric answer: ২০১৪\n",
      "contextual answer: ২০১৪\n",
      "generated: parametric answer: ২০১৪, contextual answer: ২০১৪\n",
      "Error processing row: 429 Resource has been exhausted (e.g. check quota).\n"
     ]
    },
    {
     "name": "stderr",
     "output_type": "stream",
     "text": [
      "Processing rows:  19%|███████████▎                                               | 252/1320 [41:51<3:18:51, 11.17s/row]"
     ]
    },
    {
     "name": "stdout",
     "output_type": "stream",
     "text": [
      "Target: parametric answer: ঢাকা রেসিং, রাস্তায় দৌড় ভিডিও গেম সেট ঢাকা\n",
      "contextual answer: ঢাকা রেসিং, রাস্তায় দৌড় ভিডিও গেম সেট ঢাকা\n",
      "generated: parametric answer: ঢাকা রেসিং, রাস্তায় দৌড় ভিডিও গেম সেট ঢাকা, contextual answer: ঢাকা রেসিং, রাস্তায় দৌড় ভিডিও গেম সেট ঢাকা\n",
      "Error processing row: 429 Resource has been exhausted (e.g. check quota).\n"
     ]
    },
    {
     "name": "stderr",
     "output_type": "stream",
     "text": [
      "Processing rows:  19%|███████████▎                                               | 253/1320 [42:04<3:31:10, 11.88s/row]"
     ]
    },
    {
     "name": "stdout",
     "output_type": "stream",
     "text": [
      "Target: parametric answer: দেশজুড়ে গেমারদের কাছ থেকে ইতিবাচক সাড়া পেয়ে\n",
      "contextual answer: দেশজুড়ে গেমারদের কাছ থেকে ইতিবাচক সাড়া পেয়ে\n",
      "generated: parametric answer: দেশজুড়ে গেমারদের কাছ থেকে ইতিবাচক সাড়া পেয়ে, contextual answer: দেশজুড়ে গেমারদের কাছ থেকে ইতিবাচক সাড়া পেয়ে\n",
      "Error processing row: 429 Resource has been exhausted (e.g. check quota).\n"
     ]
    },
    {
     "name": "stderr",
     "output_type": "stream",
     "text": [
      "Processing rows:  19%|███████████▎                                               | 254/1320 [42:18<3:39:39, 12.36s/row]"
     ]
    },
    {
     "name": "stdout",
     "output_type": "stream",
     "text": [
      "Target: parametric answer: চট্টগ্রাম\n",
      "contextual answer: চট্টগ্রাম\n",
      "generated: parametric answer: চট্টগ্রামের, contextual answer: চট্টগ্রামের\n",
      "Error processing row: 429 Resource has been exhausted (e.g. check quota).\n"
     ]
    },
    {
     "name": "stderr",
     "output_type": "stream",
     "text": [
      "Processing rows:  19%|███████████▍                                               | 255/1320 [42:31<3:45:46, 12.72s/row]"
     ]
    },
    {
     "name": "stdout",
     "output_type": "stream",
     "text": [
      "Target: parametric answer: কোন বস্তুকে সরাসরি স্পর্শ না করে সেই বস্তু হতে তার গুনাবলি সম্পর্কিত উপাত্ত সংগ্রহ করা এবং পর্যবেক্ষন করার এক ধরনের কৌশল\n",
      "contextual answer: কোন বস্তুকে সরাসরি স্পর্শ না করে সেই বস্তু হতে তার গুনাবলি সম্পর্কিত উপাত্ত সংগ্রহ করা এবং পর্যবেক্ষন করার এক ধরনের কৌশল\n",
      "generated: parametric answer: কোন বস্তুকে সরাসরি স্পর্শ না করে সেই বস্তু হতে তার গুনাবলি সম্পর্কিত উপাত্ত সংগ্রহ করা এবং পর্যবেক্ষন করার এক ধরনের কৌশল, contextual answer: কোন বস্তুকে সরাসরি স্পর্শ না করে সেই বস্তু হতে তার গুনাবলি সম্পর্কিত উপাত্ত সংগ্রহ করা এবং পর্যবেক্ষন করার এক ধরনের কৌশল\n",
      "Error processing row: 429 Resource has been exhausted (e.g. check quota).\n"
     ]
    },
    {
     "name": "stderr",
     "output_type": "stream",
     "text": [
      "Processing rows:  19%|███████████▍                                               | 256/1320 [42:45<3:49:59, 12.97s/row]"
     ]
    },
    {
     "name": "stdout",
     "output_type": "stream",
     "text": [
      "Target: parametric answer: ১৯৪৮\n",
      "contextual answer: ১৯৪৮\n",
      "generated: parametric answer: ১৯৪৮, contextual answer: ১৯৪৮\n",
      "Error processing row: 429 Resource has been exhausted (e.g. check quota).\n"
     ]
    },
    {
     "name": "stderr",
     "output_type": "stream",
     "text": [
      "Processing rows:  20%|███████████▌                                               | 259/1320 [42:58<3:04:30, 10.43s/row]"
     ]
    },
    {
     "name": "stdout",
     "output_type": "stream",
     "text": [
      "Target: parametric answer: ২০২০\n",
      "contextual answer: ২০২০\n",
      "generated: parametric answer: ২০২০, contextual answer: ২০২০\n",
      "Error processing row: 429 Resource has been exhausted (e.g. check quota).\n"
     ]
    },
    {
     "name": "stderr",
     "output_type": "stream",
     "text": [
      "Processing rows:  20%|███████████▋                                               | 261/1320 [43:12<2:44:40,  9.33s/row]"
     ]
    },
    {
     "name": "stdout",
     "output_type": "stream",
     "text": [
      "Target: parametric answer: সান ভিটলে\n",
      "contextual answer: সান ভিটলে\n",
      "generated: parametric answer: সান ভিটলে, contextual answer: সান ভিটলে\n",
      "Error processing row: 429 Resource has been exhausted (e.g. check quota).\n"
     ]
    },
    {
     "name": "stderr",
     "output_type": "stream",
     "text": [
      "Processing rows:  20%|███████████▋                                               | 262/1320 [43:25<3:06:41, 10.59s/row]"
     ]
    },
    {
     "name": "stdout",
     "output_type": "stream",
     "text": [
      "Target: parametric answer: চাপা আতঙ্ক ও ভয় এবং অদৃশ্য কারও অনুভূতি পাবার কারণ দেখিয়ে\n",
      "contextual answer: চাপা আতঙ্ক ও ভয় এবং অদৃশ্য কারও অনুভূতি পাবার কারণ দেখিয়ে\n",
      "generated: parametric answer: চাপা আতঙ্ক ও ভয় এবং অদৃশ্য কারও অনুভূতি পাবার কারণ দেখিয়ে, contextual answer: চাপা আতঙ্ক ও ভয় এবং অদৃশ্য কারও অনুভূতি পাবার কারণ দেখিয়ে\n",
      "Error processing row: 429 Resource has been exhausted (e.g. check quota).\n"
     ]
    },
    {
     "name": "stderr",
     "output_type": "stream",
     "text": [
      "Processing rows:  20%|███████████▊                                               | 264/1320 [43:39<2:46:08,  9.44s/row]"
     ]
    },
    {
     "name": "stdout",
     "output_type": "stream",
     "text": [
      "Target: parametric answer: মারা যাওয়া এই মানুষগুলোর অতৃপ্ত আত্মা ঘুরে ফেরে এই দ্বীপে এবং এসব আত্মা অন্যের আধিপত্য মেনে নিতে পারে না\n",
      "contextual answer: মারা যাওয়া এই মানুষগুলোর অতৃপ্ত আত্মা ঘুরে ফেরে এই দ্বীপে এবং এসব আত্মা অন্যের আধিপত্য মেনে নিতে পারে না\n",
      "generated: parametric answer: মারা যাওয়া এই মানুষগুলোর অতৃপ্ত আত্মা ঘুরে ফেরে এই দ্বীপে এবং এসব আত্মা অন্যের আধিপত্য মেনে নিতে পারে না, contextual answer: মারা যাওয়া এই মানুষগুলোর অতৃপ্ত আত্মা ঘুরে ফেরে এই দ্বীপে এবং এসব আত্মা অন্যের আধিপত্য মেনে নিতে পারে না\n",
      "Error processing row: 429 Resource has been exhausted (e.g. check quota).\n"
     ]
    },
    {
     "name": "stderr",
     "output_type": "stream",
     "text": [
      "Processing rows:  20%|███████████▊                                               | 265/1320 [43:53<3:07:29, 10.66s/row]"
     ]
    },
    {
     "name": "stdout",
     "output_type": "stream",
     "text": [
      "Target: parametric answer: প্রদর্শনীর জন্য ব্যবহৃত একটি স্থান, সাধারণত দৃশ্য শিল্পের জন্য\n",
      "contextual answer: প্রদর্শনীর জন্য ব্যবহৃত একটি স্থান, সাধারণত দৃশ্য শিল্পের জন্য\n",
      "generated: parametric answer: প্রদর্শনীর জন্য ব্যবহৃত একটি স্থান, সাধারণত দৃশ্য শিল্পের জন্য, contextual answer: প্রদর্শনীর জন্য ব্যবহৃত একটি স্থান, সাধারণত দৃশ্য শিল্পের জন্য\n",
      "Error processing row: 429 Resource has been exhausted (e.g. check quota).\n"
     ]
    },
    {
     "name": "stderr",
     "output_type": "stream",
     "text": [
      "Processing rows:  20%|███████████▉                                               | 266/1320 [44:06<3:22:19, 11.52s/row]"
     ]
    },
    {
     "name": "stdout",
     "output_type": "stream",
     "text": [
      "Target: parametric answer: একপ্রকারের বাণিজ্যিক প্রতিষ্ঠান যারা শিল্পকর্ম বিক্রয় করে\n",
      "contextual answer: একপ্রকারের বাণিজ্যিক প্রতিষ্ঠান যারা শিল্পকর্ম বিক্রয় করে\n",
      "generated: parametric answer: একপ্রকারের বাণিজ্যিক প্রতিষ্ঠান যারা শিল্পকর্ম বিক্রয় করে, contextual answer: একপ্রকারের বাণিজ্যিক প্রতিষ্ঠান যারা শিল্পকর্ম বিক্রয় করে\n",
      "Error processing row: 429 Resource has been exhausted (e.g. check quota).\n"
     ]
    },
    {
     "name": "stderr",
     "output_type": "stream",
     "text": [
      "Processing rows:  20%|████████████                                               | 269/1320 [44:20<2:44:54,  9.41s/row]"
     ]
    },
    {
     "name": "stdout",
     "output_type": "stream",
     "text": [
      "Target: parametric answer: লউফির\n",
      "contextual answer: লউফির\n",
      "generated: parametric answer: লউফির, contextual answer: লউফির\n",
      "Error processing row: 429 Resource has been exhausted (e.g. check quota).\n"
     ]
    },
    {
     "name": "stderr",
     "output_type": "stream",
     "text": [
      "Processing rows:  21%|████████████                                               | 271/1320 [44:33<2:30:39,  8.62s/row]"
     ]
    },
    {
     "name": "stdout",
     "output_type": "stream",
     "text": [
      "Target: parametric answer: \"ওডিনস্লিপে\"\n",
      "contextual answer: \"ওডিনস্লিপে\"\n",
      "generated: parametric answer: ওডিনস্লিপে, contextual answer: ওডিনস্লিপে\n",
      "Error processing row: 429 Resource has been exhausted (e.g. check quota).\n"
     ]
    },
    {
     "name": "stderr",
     "output_type": "stream",
     "text": [
      "Processing rows:  21%|████████████▏                                              | 272/1320 [44:47<2:56:09, 10.09s/row]"
     ]
    },
    {
     "name": "stdout",
     "output_type": "stream",
     "text": [
      "Target: parametric answer: ডেস্ট্রয়ারকে\n",
      "contextual answer: ডেস্ট্রয়ারকে\n",
      "generated: parametric answer: ডেস্ট্রয়ারকে, contextual answer: ডেস্ট্রয়ারকে\n",
      "Error processing row: 429 Resource has been exhausted (e.g. check quota).\n"
     ]
    },
    {
     "name": "stderr",
     "output_type": "stream",
     "text": [
      "Processing rows:  21%|████████████▏                                              | 273/1320 [45:00<3:14:15, 11.13s/row]"
     ]
    },
    {
     "name": "stdout",
     "output_type": "stream",
     "text": [
      "Target: parametric answer: যাতে লোকি যুদ্ধে যেতে না পারে\n",
      "contextual answer: যাতে লোকি যুদ্ধে যেতে না পারে\n",
      "generated: parametric answer: যাতে লোকি যুদ্ধে যেতে না পারে, contextual answer: যাতে লোকি যুদ্ধে যেতে না পারে\n",
      "Error processing row: 429 Resource has been exhausted (e.g. check quota).\n"
     ]
    },
    {
     "name": "stderr",
     "output_type": "stream",
     "text": [
      "Processing rows:  21%|████████████▏                                              | 274/1320 [45:14<3:26:30, 11.85s/row]"
     ]
    },
    {
     "name": "stdout",
     "output_type": "stream",
     "text": [
      "Target: parametric answer: ১৭৫৭\n",
      "contextual answer: ১৭৫৭\n",
      "generated: parametric answer: ১৭৫৭, contextual answer: ১৭৫৭\n",
      "Error processing row: 429 Resource has been exhausted (e.g. check quota).\n"
     ]
    },
    {
     "name": "stderr",
     "output_type": "stream",
     "text": [
      "Processing rows:  21%|████████████▎                                              | 276/1320 [45:27<2:59:33, 10.32s/row]"
     ]
    },
    {
     "name": "stdout",
     "output_type": "stream",
     "text": [
      "Target: parametric answer: ১৭৯৯\n",
      "contextual answer: ১৭৯৯\n",
      "generated: parametric answer: ১৭৯৯, contextual answer: ১৭৯৯\n",
      "Error processing row: 429 Resource has been exhausted (e.g. check quota).\n"
     ]
    },
    {
     "name": "stderr",
     "output_type": "stream",
     "text": [
      "Processing rows:  21%|████████████▍                                              | 278/1320 [45:41<2:40:39,  9.25s/row]"
     ]
    },
    {
     "name": "stdout",
     "output_type": "stream",
     "text": [
      "Target: parametric answer: ১৭৯৩\n",
      "contextual answer: ১৭৯৩\n",
      "generated: parametric answer: ১৭৯৩, contextual answer: ১৭৯৩\n",
      "Error processing row: 429 Resource has been exhausted (e.g. check quota).\n"
     ]
    },
    {
     "name": "stderr",
     "output_type": "stream",
     "text": [
      "Processing rows:  21%|████████████▌                                              | 280/1320 [45:54<2:27:23,  8.50s/row]"
     ]
    },
    {
     "name": "stdout",
     "output_type": "stream",
     "text": [
      "Target: parametric answer: ১৯৮৯\n",
      "contextual answer: ১৯৮৯\n",
      "generated: parametric answer: ১৯৮৯, contextual answer: ১৯৮৯\n",
      "Error processing row: 429 Resource has been exhausted (e.g. check quota).\n"
     ]
    },
    {
     "name": "stderr",
     "output_type": "stream",
     "text": [
      "Processing rows:  21%|████████████▋                                              | 283/1320 [46:08<2:06:12,  7.30s/row]"
     ]
    },
    {
     "name": "stdout",
     "output_type": "stream",
     "text": [
      "Target: parametric answer: ১৯৭২\n",
      "contextual answer: ১৯৭২\n",
      "generated: parametric answer: ১৯৭২, contextual answer: ১৯৭২\n",
      "Error processing row: 429 Resource has been exhausted (e.g. check quota).\n"
     ]
    },
    {
     "name": "stderr",
     "output_type": "stream",
     "text": [
      "Processing rows:  22%|████████████▋                                              | 284/1320 [46:21<2:38:20,  9.17s/row]"
     ]
    },
    {
     "name": "stdout",
     "output_type": "stream",
     "text": [
      "Target: parametric answer: ১৯৭৩\n",
      "contextual answer: ১৯৭৩\n",
      "generated: parametric answer: ১৯৭৪, contextual answer: ১৯৭৩\n",
      "Error processing row: 429 Resource has been exhausted (e.g. check quota).\n"
     ]
    },
    {
     "name": "stderr",
     "output_type": "stream",
     "text": [
      "Processing rows:  22%|████████████▋                                              | 285/1320 [46:35<3:00:37, 10.47s/row]"
     ]
    },
    {
     "name": "stdout",
     "output_type": "stream",
     "text": [
      "Target: parametric answer: লাইম্যান স্পিটজার\n",
      "contextual answer: লাইম্যান স্পিটজার\n",
      "generated: parametric answer: লাইম্যান স্পিটজার, contextual answer: লাইম্যান স্পিটজার\n",
      "Error processing row: 429 Resource has been exhausted (e.g. check quota).\n"
     ]
    },
    {
     "name": "stderr",
     "output_type": "stream",
     "text": [
      "Processing rows:  22%|████████████▊                                              | 286/1320 [46:48<3:16:08, 11.38s/row]"
     ]
    },
    {
     "name": "stdout",
     "output_type": "stream",
     "text": [
      "Target: parametric answer: জ্যোতির্বৈজ্ঞানিক মানমন্দির অর্বিটিং অ্যাস্ট্রোনমিকাল অবজারভেটরি-২\n",
      "contextual answer: জ্যোতির্বৈজ্ঞানিক মানমন্দির অর্বিটিং অ্যাস্ট্রোনমিকাল অবজারভেটরি-২\n",
      "generated: parametric answer: অর্বিটিং অ্যাস্ট্রোনমিকাল অবজারভেটরি-২, contextual answer: অর্বিটিং অ্যাস্ট্রোনমিকাল অবজারভেটরি-২\n",
      "Error processing row: 429 Resource has been exhausted (e.g. check quota).\n"
     ]
    },
    {
     "name": "stderr",
     "output_type": "stream",
     "text": [
      "Processing rows:  22%|████████████▊                                              | 287/1320 [47:02<3:26:54, 12.02s/row]"
     ]
    },
    {
     "name": "stdout",
     "output_type": "stream",
     "text": [
      "Target: parametric answer: ডিস্কভারি\n",
      "contextual answer: ডিস্কভারি\n",
      "generated: parametric answer: ডিস্কভারি, contextual answer: ডিস্কভারি\n",
      "Error processing row: 429 Resource has been exhausted (e.g. check quota).\n"
     ]
    },
    {
     "name": "stderr",
     "output_type": "stream",
     "text": [
      "Processing rows:  22%|████████████▊                                              | 288/1320 [47:15<3:34:25, 12.47s/row]"
     ]
    },
    {
     "name": "stdout",
     "output_type": "stream",
     "text": [
      "Target: parametric answer: সালিউত মহাকাশ বিরোতিস্থলের উপর\n",
      "contextual answer: সালিউত মহাকাশ বিরোতিস্থলের উপর\n",
      "generated: parametric answer: সোভিয়েত ইউনিয়নের সালিউত, contextual answer: সোভিয়েত ইউনিয়নের সালিউত\n",
      "Error processing row: 429 Resource has been exhausted (e.g. check quota).\n"
     ]
    },
    {
     "name": "stderr",
     "output_type": "stream",
     "text": [
      "Processing rows:  22%|████████████▉                                              | 289/1320 [47:29<3:39:34, 12.78s/row]"
     ]
    },
    {
     "name": "stdout",
     "output_type": "stream",
     "text": [
      "Target: parametric answer: জার্মান ব্যারন কার্ল ভন ড্রাইস\n",
      "contextual answer: জার্মান ব্যারন কার্ল ভন ড্রাইস\n",
      "generated: parametric answer: জার্মান ব্যারন কার্ল ভন ড্রাইস, contextual answer: জার্মান ব্যারন কার্ল ভন ড্রাইস\n",
      "Error processing row: 429 Resource has been exhausted (e.g. check quota).\n"
     ]
    },
    {
     "name": "stderr",
     "output_type": "stream",
     "text": [
      "Processing rows:  22%|█████████████                                              | 291/1320 [47:42<3:08:10, 10.97s/row]"
     ]
    },
    {
     "name": "stdout",
     "output_type": "stream",
     "text": [
      "Target: parametric answer: ১৮১৭ সালের ১২ জুন\n",
      "contextual answer: ১৮১৭ সালের ১২ জুন\n",
      "generated: parametric answer: ১৮১৭ সালের ১২ জুন, contextual answer: ১৮১৭ সালের ১২ জুন\n",
      "Error processing row: 429 Resource has been exhausted (e.g. check quota).\n"
     ]
    },
    {
     "name": "stderr",
     "output_type": "stream",
     "text": [
      "Processing rows:  22%|█████████████                                              | 292/1320 [47:56<3:21:20, 11.75s/row]"
     ]
    },
    {
     "name": "stdout",
     "output_type": "stream",
     "text": [
      "Target: parametric answer: আংশিক ক্রমবর্ধমান দুর্ঘটনার কারণে\n",
      "contextual answer: আংশিক ক্রমবর্ধমান দুর্ঘটনার কারণে\n",
      "generated: parametric answer: আংশিক ক্রমবর্ধমান দুর্ঘটনার কারণে, contextual answer: আংশিক ক্রমবর্ধমান দুর্ঘটনার কারণে\n",
      "Error processing row: 429 Resource has been exhausted (e.g. check quota).\n"
     ]
    },
    {
     "name": "stderr",
     "output_type": "stream",
     "text": [
      "Processing rows:  22%|█████████████                                              | 293/1320 [48:09<3:30:09, 12.28s/row]"
     ]
    },
    {
     "name": "stdout",
     "output_type": "stream",
     "text": [
      "Target: parametric answer: এ.আই সাবরা\n",
      "contextual answer: এ.আই সাবরা\n",
      "generated: parametric answer: এ.আই সাবরা, contextual answer: এ.আই সাবরা\n",
      "Error processing row: 429 Resource has been exhausted (e.g. check quota).\n"
     ]
    },
    {
     "name": "stderr",
     "output_type": "stream",
     "text": [
      "Processing rows:  22%|█████████████▏                                             | 294/1320 [48:23<3:36:24, 12.66s/row]"
     ]
    },
    {
     "name": "stdout",
     "output_type": "stream",
     "text": [
      "Target: parametric answer: আলকেমি রিস্টোরড\n",
      "contextual answer: আলকেমি রিস্টোরড\n",
      "generated: parametric answer: আলকেমি রিস্টোরড, contextual answer: আলকেমি রিস্টোরড\n",
      "Error processing row: 429 Resource has been exhausted (e.g. check quota).\n"
     ]
    },
    {
     "name": "stderr",
     "output_type": "stream",
     "text": [
      "Processing rows:  22%|█████████████▏                                             | 295/1320 [48:36<3:40:37, 12.91s/row]"
     ]
    },
    {
     "name": "stdout",
     "output_type": "stream",
     "text": [
      "Target: parametric answer: ধাতুকে অন্য পদার্থে রূপান্তরের জন্য অনুসন্ধান ও পরীক্ষা-নিরীক্ষা\n",
      "contextual answer: ধাতুকে অন্য পদার্থে রূপান্তরের জন্য অনুসন্ধান ও পরীক্ষা-নিরীক্ষা\n",
      "generated: parametric answer: ধাতুকে অন্য পদার্থে রূপান্তরের জন্য অনুসন্ধান ও পরীক্ষা-নিরীক্ষা, contextual answer: ধাতুকে অন্য পদার্থে রূপান্তরের জন্য অনুসন্ধান ও পরীক্ষা-নিরীক্ষা\n",
      "Error processing row: 429 Resource has been exhausted (e.g. check quota).\n"
     ]
    },
    {
     "name": "stderr",
     "output_type": "stream",
     "text": [
      "Processing rows:  22%|█████████████▏                                             | 296/1320 [48:50<3:43:30, 13.10s/row]"
     ]
    },
    {
     "name": "stdout",
     "output_type": "stream",
     "text": [
      "Target: parametric answer: আলকেমি এবং প্রথম দিকের রসায়নকে অন্তর্ভুক্ত করে একীভূত বিজ্ঞানকে\n",
      "contextual answer: আলকেমি এবং প্রথম দিকের রসায়নকে অন্তর্ভুক্ত করে একীভূত বিজ্ঞানকে\n",
      "generated: parametric answer: আলকেমি এবং প্রথম দিকের রসায়নকে অন্তর্ভুক্ত করে একীভূত বিজ্ঞানকেই বোঝায়, contextual answer: আলকেমি এবং প্রথম দিকের রসায়নকে অন্তর্ভুক্ত করে একীভূত বিজ্ঞানকেই বোঝায়\n",
      "Error processing row: 429 Resource has been exhausted (e.g. check quota).\n"
     ]
    },
    {
     "name": "stderr",
     "output_type": "stream",
     "text": [
      "Processing rows:  22%|█████████████▎                                             | 297/1320 [49:03<3:45:26, 13.22s/row]"
     ]
    },
    {
     "name": "stdout",
     "output_type": "stream",
     "text": [
      "Target: parametric answer: ক্রিয়োসোপিয়া\n",
      "contextual answer: ক্রিয়োসোপিয়া\n",
      "generated: parametric answer: রসায়ন, contextual answer: রসায়ন\n",
      "Error processing row: 429 Resource has been exhausted (e.g. check quota).\n"
     ]
    },
    {
     "name": "stderr",
     "output_type": "stream",
     "text": [
      "Processing rows:  23%|█████████████▎                                             | 298/1320 [49:17<3:46:42, 13.31s/row]"
     ]
    },
    {
     "name": "stdout",
     "output_type": "stream",
     "text": [
      "Target: parametric answer: মহাপুরুষ\n",
      "contextual answer: মহাপুরুষ\n",
      "generated: parametric answer: মহাপুরুষ, contextual answer: মহাপুরুষ\n",
      "Error processing row: 429 Resource has been exhausted (e.g. check quota).\n"
     ]
    },
    {
     "name": "stderr",
     "output_type": "stream",
     "text": [
      "Processing rows:  23%|█████████████▎                                             | 299/1320 [49:31<3:47:34, 13.37s/row]"
     ]
    },
    {
     "name": "stdout",
     "output_type": "stream",
     "text": [
      "Target: parametric answer: রূপা\n",
      "contextual answer: রূপা\n",
      "generated: parametric answer: রূপা, contextual answer: রূপা\n",
      "Error processing row: 429 Resource has been exhausted (e.g. check quota).\n"
     ]
    },
    {
     "name": "stderr",
     "output_type": "stream",
     "text": [
      "Processing rows:  23%|█████████████▍                                             | 301/1320 [49:44<3:13:32, 11.40s/row]"
     ]
    },
    {
     "name": "stdout",
     "output_type": "stream",
     "text": [
      "Target: parametric answer: না\n",
      "contextual answer: না\n",
      "generated: parametric answer: না, contextual answer: না\n",
      "Error processing row: 429 Resource has been exhausted (e.g. check quota).\n"
     ]
    },
    {
     "name": "stderr",
     "output_type": "stream",
     "text": [
      "Processing rows:  23%|█████████████▍                                             | 302/1320 [49:58<3:24:06, 12.03s/row]"
     ]
    },
    {
     "name": "stdout",
     "output_type": "stream",
     "text": [
      "Target: parametric answer: যা হিমালয় পর্বতের ন্যায় মহত্ব প্রকাশ করে\n",
      "contextual answer: যা হিমালয় পর্বতের ন্যায় মহত্ব প্রকাশ করে\n",
      "generated: parametric answer: হিমুর বাবা তাকে একজন মহাপুরুষ হিসাবে গড়ে তুলতে চেয়েছিলেন তাই, contextual answer: হিমুর বাবা তাকে একজন মহাপুরুষ হিসাবে গড়ে তুলতে চেয়েছিলেন তাই\n",
      "Error processing row: 429 Resource has been exhausted (e.g. check quota).\n"
     ]
    },
    {
     "name": "stderr",
     "output_type": "stream",
     "text": [
      "Processing rows:  23%|█████████████▌                                             | 303/1320 [50:11<3:31:25, 12.47s/row]"
     ]
    },
    {
     "name": "stdout",
     "output_type": "stream",
     "text": [
      "Target: parametric answer: স্তন্যপায়ী প্রাণী\n",
      "contextual answer: স্তন্যপায়ী প্রাণী\n",
      "generated: parametric answer: মেরুদণ্ডী, contextual answer: স্তন্যপায়ী\n",
      "Error processing row: 429 Resource has been exhausted (e.g. check quota).\n"
     ]
    },
    {
     "name": "stderr",
     "output_type": "stream",
     "text": [
      "Processing rows:  23%|█████████████▌                                             | 304/1320 [50:25<3:36:27, 12.78s/row]"
     ]
    },
    {
     "name": "stdout",
     "output_type": "stream",
     "text": [
      "Target: parametric answer: ২\n",
      "contextual answer: ২\n",
      "generated: parametric answer: nan, contextual answer: nan\n",
      "Error processing row: 429 Resource has been exhausted (e.g. check quota).\n"
     ]
    },
    {
     "name": "stderr",
     "output_type": "stream",
     "text": [
      "Processing rows:  23%|█████████████▋                                             | 305/1320 [50:38<3:39:54, 13.00s/row]"
     ]
    },
    {
     "name": "stdout",
     "output_type": "stream",
     "text": [
      "Target: parametric answer: চুল অন্তস্ত্বক বা ত্বকের বহিঃস্তরে অবস্থিত ফলিকল থেকে উৎপন্ন চিকন লম্বা সুতার মতোন প্রোটিন তন্তু।\n",
      "contextual answer: চুল অন্তস্ত্বক বা ত্বকের বহিঃস্তরে অবস্থিত ফলিকল থেকে উৎপন্ন চিকন লম্বা সুতার মতোন প্রোটিন তন্তু।\n",
      "generated: parametric answer: অন্তস্ত্বক বা ত্বকের বহিঃস্তরে অবস্থিত ফলিকল থেকে উৎপন্ন চিকন লম্বা সুতার মতোন প্রোটিন তন্তু, contextual answer: অন্তস্ত্বক বা ত্বকের বহিঃস্তরে অবস্থিত ফলিকল থেকে উৎপন্ন চিকন লম্বা সুতার মতোন প্রোটিন তন্তু\n",
      "Error processing row: 429 Resource has been exhausted (e.g. check quota).\n"
     ]
    },
    {
     "name": "stderr",
     "output_type": "stream",
     "text": [
      "Processing rows:  23%|█████████████▋                                             | 306/1320 [50:52<3:42:18, 13.15s/row]"
     ]
    },
    {
     "name": "stdout",
     "output_type": "stream",
     "text": [
      "Target: parametric answer: কেরাটিন\n",
      "contextual answer: কেরাটিন\n",
      "generated: parametric answer: কেরাটিন, contextual answer: কেরাটিন\n",
      "Error processing row: 429 Resource has been exhausted (e.g. check quota).\n"
     ]
    },
    {
     "name": "stderr",
     "output_type": "stream",
     "text": [
      "Processing rows:  23%|█████████████▋                                             | 307/1320 [51:05<3:44:06, 13.27s/row]"
     ]
    },
    {
     "name": "stdout",
     "output_type": "stream",
     "text": [
      "Target: parametric answer: সাধারণ গণিতের বাইরে গিয়ে যে সমস্ত গণিতবিদেরা গাণিতিক সমস্যার সমাধানের কাজে নিযুক্ত থাকেন\n",
      "contextual answer: সাধারণ গণিতের বাইরে গিয়ে যে সমস্ত গণিতবিদেরা গাণিতিক সমস্যার সমাধানের কাজে নিযুক্ত থাকেন\n",
      "generated: parametric answer: সাধারণ গণিতের বাইরে গিয়ে যে সমস্ত গণিতবিদেরা গাণিতিক সমস্যার সমাধানের কাজে নিযুক্ত থাকেন, contextual answer: সাধারণ গণিতের বাইরে গিয়ে যে সমস্ত গণিতবিদেরা গাণিতিক সমস্যার সমাধানের কাজে নিযুক্ত থাকেন\n",
      "Error processing row: 429 Resource has been exhausted (e.g. check quota).\n"
     ]
    },
    {
     "name": "stderr",
     "output_type": "stream",
     "text": [
      "Processing rows:  23%|█████████████▊                                             | 309/1320 [51:19<3:10:42, 11.32s/row]"
     ]
    },
    {
     "name": "stdout",
     "output_type": "stream",
     "text": [
      "Target: parametric answer: যাঁরা তাদের বিশেষ জ্ঞান এবং পেশাদারী পদ্ধতির সঙ্গে, অনেক ভাবগম্ভীর বৈজ্ঞানিক ক্ষেত্রের সমস্যার মধ্যে উপস্থিত হয়ে অগ্রসর হন\n",
      "contextual answer: যাঁরা তাদের বিশেষ জ্ঞান এবং পেশাদারী পদ্ধতির সঙ্গে, অনেক ভাবগম্ভীর বৈজ্ঞানিক ক্ষেত্রের সমস্যার মধ্যে উপস্থিত হয়ে অগ্রসর হন\n",
      "generated: parametric answer: যাঁরা তাদের বিশেষ জ্ঞান এবং পেশাদারী পদ্ধতির সঙ্গে, অনেক ভাবগম্ভীর বৈজ্ঞানিক ক্ষেত্রের সমস্যার মধ্যে উপস্থিত হয়ে অগ্রসর হন, contextual answer: যাঁরা তাদের বিশেষ জ্ঞান এবং পেশাদারী পদ্ধতির সঙ্গে, অনেক ভাবগম্ভীর বৈজ্ঞানিক ক্ষেত্রের সমস্যার মধ্যে উপস্থিত হয়ে অগ্রসর হন\n",
      "Error processing row: 429 Resource has been exhausted (e.g. check quota).\n"
     ]
    },
    {
     "name": "stderr",
     "output_type": "stream",
     "text": [
      "Processing rows:  23%|█████████████▊                                             | 310/1320 [51:32<3:21:40, 11.98s/row]"
     ]
    },
    {
     "name": "stdout",
     "output_type": "stream",
     "text": [
      "Target: parametric answer: সাধারণত ভুলভাবে ব্যবহার বা ত্রুটিযুক্ত কারণে\n",
      "contextual answer: সাধারণত ভুলভাবে ব্যবহার বা ত্রুটিযুক্ত কারণে\n",
      "generated: parametric answer: সাধারণত ভুলভাবে ব্যবহার বা ত্রুটিযুক্ত কারণে, contextual answer: সাধারণত ভুলভাবে ব্যবহার বা ত্রুটিযুক্ত কারণে\n",
      "Error processing row: 429 Resource has been exhausted (e.g. check quota).\n"
     ]
    },
    {
     "name": "stderr",
     "output_type": "stream",
     "text": [
      "Processing rows:  24%|█████████████▉                                             | 312/1320 [51:46<2:54:55, 10.41s/row]"
     ]
    },
    {
     "name": "stdout",
     "output_type": "stream",
     "text": [
      "Target: parametric answer: হাইড্রোজেন এবং অক্সিজেনের একটি বিস্ফোরক গ্যাস\n",
      "contextual answer: হাইড্রোজেন এবং অক্সিজেনের একটি বিস্ফোরক গ্যাস\n",
      "generated: parametric answer: হাইড্রোজেন এবং অক্সিজেনের একটি বিস্ফোরক মিশ্রণ, contextual answer: হাইড্রোজেন এবং অক্সিজেনের একটি বিস্ফোরক গ্যাস মিশ্রণ\n",
      "Error processing row: 429 Resource has been exhausted (e.g. check quota).\n"
     ]
    },
    {
     "name": "stderr",
     "output_type": "stream",
     "text": [
      "Processing rows:  24%|█████████████▉                                             | 313/1320 [51:59<3:10:25, 11.35s/row]"
     ]
    },
    {
     "name": "stdout",
     "output_type": "stream",
     "text": [
      "Target: parametric answer: বদ্ধ কেসটির মধ্যে\n",
      "contextual answer: বদ্ধ কেসটির মধ্যে\n",
      "generated: parametric answer: বদ্ধ কেসটির মধ্যে, contextual answer: বদ্ধ কেসটির মধ্যে\n",
      "Error processing row: 429 Resource has been exhausted (e.g. check quota).\n"
     ]
    },
    {
     "name": "stderr",
     "output_type": "stream",
     "text": [
      "Processing rows:  24%|██████████████                                             | 314/1320 [52:13<3:21:06, 12.00s/row]"
     ]
    },
    {
     "name": "stdout",
     "output_type": "stream",
     "text": [
      "Target: parametric answer: ঢাকা\n",
      "contextual answer: ঢাকা\n",
      "generated: parametric answer: বাংলাদেশের রাজধানী ঢাকা, contextual answer: বাংলাদেশের রাজধানী ঢাকা\n",
      "Error processing row: 429 Resource has been exhausted (e.g. check quota).\n"
     ]
    },
    {
     "name": "stderr",
     "output_type": "stream",
     "text": [
      "Processing rows:  24%|██████████████▏                                            | 317/1320 [52:26<2:42:58,  9.75s/row]"
     ]
    },
    {
     "name": "stdout",
     "output_type": "stream",
     "text": [
      "Target: parametric answer: ১৯৩৬ সাল\n",
      "contextual answer: ১৯৩৬ সাল\n",
      "generated: parametric answer: ১৯৩৫ সালে, contextual answer: ১৯৩৬ সালে\n",
      "Error processing row: 429 Resource has been exhausted (e.g. check quota).\n"
     ]
    },
    {
     "name": "stderr",
     "output_type": "stream",
     "text": [
      "Processing rows:  24%|██████████████▏                                            | 318/1320 [52:40<3:01:57, 10.90s/row]"
     ]
    },
    {
     "name": "stdout",
     "output_type": "stream",
     "text": [
      "Target: parametric answer: ১৯৫১\n",
      "contextual answer: ১৯৫১\n",
      "generated: parametric answer: ১৯৫১, contextual answer: ১৯৫১\n",
      "Error processing row: 429 Resource has been exhausted (e.g. check quota).\n"
     ]
    },
    {
     "name": "stderr",
     "output_type": "stream",
     "text": [
      "Processing rows:  24%|██████████████▎                                            | 319/1320 [52:53<3:14:51, 11.68s/row]"
     ]
    },
    {
     "name": "stdout",
     "output_type": "stream",
     "text": [
      "Target: parametric answer: আনুভূমিক সারি\n",
      "contextual answer: আনুভূমিক সারি\n",
      "generated: parametric answer: nan, contextual answer: nan\n",
      "Error processing row: 429 Resource has been exhausted (e.g. check quota).\n"
     ]
    },
    {
     "name": "stderr",
     "output_type": "stream",
     "text": [
      "Processing rows:  24%|██████████████▍                                            | 322/1320 [53:07<2:38:27,  9.53s/row]"
     ]
    },
    {
     "name": "stdout",
     "output_type": "stream",
     "text": [
      "Target: parametric answer: খাড়া স্তম্ভ\n",
      "contextual answer: খাড়া স্তম্ভ\n",
      "generated: parametric answer: nan, contextual answer: nan\n",
      "Error processing row: 429 Resource has been exhausted (e.g. check quota).\n"
     ]
    },
    {
     "name": "stderr",
     "output_type": "stream",
     "text": [
      "Processing rows:  24%|██████████████▍                                            | 323/1320 [53:20<2:58:10, 10.72s/row]"
     ]
    },
    {
     "name": "stdout",
     "output_type": "stream",
     "text": [
      "Target: parametric answer: গ্রুপ-২ এবং গ্রুপ-৩ এর মধ্যবর্তী স্থানে অবস্থানকারী মৌল\n",
      "contextual answer: গ্রুপ-২ এবং গ্রুপ-৩ এর মধ্যবর্তী স্থানে অবস্থানকারী মৌল\n",
      "generated: parametric answer: গ্রুপ-২ এবং গ্রুপ-৩ এর মধ্যবর্তী স্থানে অবস্থানকারী মৌলগুলোকে, contextual answer: গ্রুপ-২ এবং গ্রুপ-৩ এর মধ্যবর্তী স্থানে অবস্থানকারী মৌলগুলোকে\n",
      "Error processing row: 429 Resource has been exhausted (e.g. check quota).\n"
     ]
    },
    {
     "name": "stderr",
     "output_type": "stream",
     "text": [
      "Processing rows:  25%|██████████████▍                                            | 324/1320 [53:34<3:11:50, 11.56s/row]"
     ]
    },
    {
     "name": "stdout",
     "output_type": "stream",
     "text": [
      "Target: parametric answer: ৩২টি\n",
      "contextual answer: ৩২টি\n",
      "generated: parametric answer: ৩২টি, contextual answer: ৩২টি\n",
      "Error processing row: 429 Resource has been exhausted (e.g. check quota).\n"
     ]
    },
    {
     "name": "stderr",
     "output_type": "stream",
     "text": [
      "Processing rows:  25%|██████████████▌                                            | 325/1320 [53:47<3:21:21, 12.14s/row]"
     ]
    },
    {
     "name": "stdout",
     "output_type": "stream",
     "text": [
      "Target: parametric answer: ৭টি\n",
      "contextual answer: ৭টি\n",
      "generated: parametric answer: ৭টি, contextual answer: ৭টি\n",
      "Error processing row: 429 Resource has been exhausted (e.g. check quota).\n"
     ]
    },
    {
     "name": "stderr",
     "output_type": "stream",
     "text": [
      "Processing rows:  25%|██████████████▌                                            | 326/1320 [54:01<3:28:00, 12.56s/row]"
     ]
    },
    {
     "name": "stdout",
     "output_type": "stream",
     "text": [
      "Target: parametric answer: গোলাকৃতি\n",
      "contextual answer: গোলাকৃতি\n",
      "generated: parametric answer: গোলাকার, contextual answer: গোলাকার\n",
      "Error processing row: 429 Resource has been exhausted (e.g. check quota).\n"
     ]
    },
    {
     "name": "stderr",
     "output_type": "stream",
     "text": [
      "Processing rows:  25%|██████████████▌                                            | 327/1320 [54:14<3:32:49, 12.86s/row]"
     ]
    },
    {
     "name": "stdout",
     "output_type": "stream",
     "text": [
      "Target: parametric answer: কোর্টে উলম্বভাবে স্থাপিত একটি বাস্কেট বা ঝুড়িতে বল নিক্ষেপের মাধ্যমে পয়েন্ট সংগ্রহ করা\n",
      "contextual answer: কোর্টে উলম্বভাবে স্থাপিত একটি বাস্কেট বা ঝুড়িতে বল নিক্ষেপের মাধ্যমে পয়েন্ট সংগ্রহ করা\n",
      "generated: parametric answer: কোর্টে উলম্বভাবে স্থাপিত একটি বাস্কেট বা ঝুড়িতে বল নিক্ষেপের মাধ্যমে পয়েন্ট সংগ্রহ করা, contextual answer: কোর্টে উলম্বভাবে স্থাপিত একটি বাস্কেট বা ঝুড়িতে বল নিক্ষেপের মাধ্যমে পয়েন্ট সংগ্রহ করা\n",
      "Error processing row: 429 Resource has been exhausted (e.g. check quota).\n"
     ]
    },
    {
     "name": "stderr",
     "output_type": "stream",
     "text": [
      "Processing rows:  25%|██████████████▋                                            | 328/1320 [54:28<3:35:52, 13.06s/row]"
     ]
    },
    {
     "name": "stdout",
     "output_type": "stream",
     "text": [
      "Target: parametric answer: ৫\n",
      "contextual answer: ৫\n",
      "generated: parametric answer: ৫, contextual answer: ৫\n",
      "Error processing row: 429 Resource has been exhausted (e.g. check quota).\n"
     ]
    },
    {
     "name": "stderr",
     "output_type": "stream",
     "text": [
      "Processing rows:  25%|██████████████▋                                            | 329/1320 [54:42<3:38:16, 13.22s/row]"
     ]
    },
    {
     "name": "stdout",
     "output_type": "stream",
     "text": [
      "Target: parametric answer: চতুর্ভূজ আকৃতির বাস্কেটবল কোর্টের উভয় দিকের শেষ প্রান্তে বাস্কেট\n",
      "contextual answer: চতুর্ভূজ আকৃতির বাস্কেটবল কোর্টের উভয় দিকের শেষ প্রান্তে বাস্কেট\n",
      "generated: parametric answer: চতুর্ভূজ আকৃতির বাস্কেটবল কোর্টের উভয় দিকের শেষ প্রান্তে বাস্কেট ঝুলিয়ে রাখা হয়, contextual answer: চতুর্ভূজ আকৃতির বাস্কেটবল কোর্টের উভয় দিকের শেষ প্রান্তে বাস্কেট ঝুলিয়ে রাখা হয়\n",
      "Error processing row: 429 Resource has been exhausted (e.g. check quota).\n"
     ]
    },
    {
     "name": "stderr",
     "output_type": "stream",
     "text": [
      "Processing rows:  25%|██████████████▊                                            | 330/1320 [54:55<3:39:31, 13.30s/row]"
     ]
    },
    {
     "name": "stdout",
     "output_type": "stream",
     "text": [
      "Target: parametric answer: এক ধরনের প্রহসন\n",
      "contextual answer: এক ধরনের প্রহসন\n",
      "generated: parametric answer: এক ধরনের প্রহসন, contextual answer: এক ধরনের প্রহসন\n",
      "Error processing row: 429 Resource has been exhausted (e.g. check quota).\n"
     ]
    },
    {
     "name": "stderr",
     "output_type": "stream",
     "text": [
      "Processing rows:  25%|██████████████▊                                            | 332/1320 [55:09<3:06:44, 11.34s/row]"
     ]
    },
    {
     "name": "stdout",
     "output_type": "stream",
     "text": [
      "Target: parametric answer: হাস্যরসাত্মক\n",
      "contextual answer: হাস্যরসাত্মক\n",
      "generated: parametric answer: হাস্যরসাত্মক, contextual answer: হাস্যরসাত্মক\n",
      "Error processing row: 429 Resource has been exhausted (e.g. check quota).\n"
     ]
    },
    {
     "name": "stderr",
     "output_type": "stream",
     "text": [
      "Processing rows:  25%|██████████████▉                                            | 333/1320 [55:22<3:17:17, 11.99s/row]"
     ]
    },
    {
     "name": "stdout",
     "output_type": "stream",
     "text": [
      "Target: parametric answer: বাংলাদেশী অপরাধ থ্রিলার ওয়েব ধারাবাহিক\n",
      "contextual answer: বাংলাদেশী অপরাধ থ্রিলার ওয়েব ধারাবাহিক\n",
      "generated: parametric answer: বাংলাদেশী অপরাধ থ্রিলার ওয়েব ধারাবাহিক, contextual answer: বাংলাদেশী অপরাধ থ্রিলার ওয়েব ধারাবাহিক\n",
      "Error processing row: 429 Resource has been exhausted (e.g. check quota).\n"
     ]
    },
    {
     "name": "stderr",
     "output_type": "stream",
     "text": [
      "Processing rows:  25%|██████████████▉                                            | 335/1320 [55:36<2:51:06, 10.42s/row]"
     ]
    },
    {
     "name": "stdout",
     "output_type": "stream",
     "text": [
      "Target: parametric answer: রেদওয়ান রনি\n",
      "contextual answer: রেদওয়ান রনি\n",
      "generated: parametric answer: রেদওয়ান রনি, contextual answer: রেদওয়ান রনি\n",
      "Error processing row: 429 Resource has been exhausted (e.g. check quota).\n"
     ]
    },
    {
     "name": "stderr",
     "output_type": "stream",
     "text": [
      "Processing rows:  25%|███████████████                                            | 336/1320 [55:49<3:06:08, 11.35s/row]"
     ]
    },
    {
     "name": "stdout",
     "output_type": "stream",
     "text": [
      "Target: parametric answer: মরীচিকা\n",
      "contextual answer: মরীচিকা\n",
      "generated: parametric answer: চোরাবালি, contextual answer: মরীচিকা\n",
      "Error processing row: 429 Resource has been exhausted (e.g. check quota).\n"
     ]
    },
    {
     "name": "stderr",
     "output_type": "stream",
     "text": [
      "Processing rows:  26%|███████████████                                            | 337/1320 [56:03<3:16:34, 12.00s/row]"
     ]
    },
    {
     "name": "stdout",
     "output_type": "stream",
     "text": [
      "Target: parametric answer: স্নায়ুরোগের কারণে\n",
      "contextual answer: স্নায়ুরোগের কারণে\n",
      "generated: parametric answer: স্নায়ুরোগের কারণে, contextual answer: স্নায়ুরোগের কারণে\n",
      "Error processing row: 429 Resource has been exhausted (e.g. check quota).\n"
     ]
    },
    {
     "name": "stderr",
     "output_type": "stream",
     "text": [
      "Processing rows:  26%|███████████████▏                                           | 340/1320 [56:16<2:39:13,  9.75s/row]"
     ]
    },
    {
     "name": "stdout",
     "output_type": "stream",
     "text": [
      "Target: parametric answer: ২০১৩ এর জানুয়ারিতে\n",
      "contextual answer: ২০১৩ এর জানুয়ারিতে\n",
      "generated: parametric answer: ২০১৩ এর জানুয়ারিতে, contextual answer: ২০১৩ এর জানুয়ারিতে\n",
      "Error processing row: 429 Resource has been exhausted (e.g. check quota).\n"
     ]
    },
    {
     "name": "stderr",
     "output_type": "stream",
     "text": [
      "Processing rows:  26%|███████████████▏                                           | 341/1320 [56:30<2:57:43, 10.89s/row]"
     ]
    },
    {
     "name": "stdout",
     "output_type": "stream",
     "text": [
      "Target: parametric answer: দ্য ওয়াশিংটন পোস্টের\n",
      "contextual answer: দ্য ওয়াশিংটন পোস্টের\n",
      "generated: parametric answer: দ্য ওয়াশিংটন পোস্টের, contextual answer: দ্য ওয়াশিংটন পোস্টের\n",
      "Error processing row: 429 Resource has been exhausted (e.g. check quota).\n"
     ]
    },
    {
     "name": "stderr",
     "output_type": "stream",
     "text": [
      "Processing rows:  26%|███████████████▎                                           | 342/1320 [56:43<3:10:26, 11.68s/row]"
     ]
    },
    {
     "name": "stdout",
     "output_type": "stream",
     "text": [
      "Target: parametric answer: লেন্স এবং দর্পণের সাহায্যে\n",
      "contextual answer: লেন্স এবং দর্পণের সাহায্যে\n",
      "generated: parametric answer: লেন্স এবং দর্পণের সাহায্যে, contextual answer: লেন্স এবং দর্পণের সাহায্যে\n",
      "Error processing row: 429 Resource has been exhausted (e.g. check quota).\n"
     ]
    },
    {
     "name": "stderr",
     "output_type": "stream",
     "text": [
      "Processing rows:  26%|███████████████▌                                           | 349/1320 [56:57<2:21:44,  8.76s/row]"
     ]
    },
    {
     "name": "stdout",
     "output_type": "stream",
     "text": [
      "Target: parametric answer: ১৬০৯\n",
      "contextual answer: ১৬০৯\n",
      "generated: parametric answer: ১৬০৯, contextual answer: ১৬০৯\n",
      "Error processing row: 429 Resource has been exhausted (e.g. check quota).\n"
     ]
    },
    {
     "name": "stderr",
     "output_type": "stream",
     "text": [
      "Processing rows:  27%|███████████████▋                                           | 350/1320 [57:10<2:44:38, 10.18s/row]"
     ]
    },
    {
     "name": "stdout",
     "output_type": "stream",
     "text": [
      "Target: parametric answer: ৩য়\n",
      "contextual answer: ৩য়\n",
      "generated: parametric answer: ৩য়, contextual answer: ৩য়\n",
      "Error processing row: 429 Resource has been exhausted (e.g. check quota).\n"
     ]
    },
    {
     "name": "stderr",
     "output_type": "stream",
     "text": [
      "Processing rows:  27%|███████████████▊                                           | 353/1320 [57:24<2:16:42,  8.48s/row]"
     ]
    },
    {
     "name": "stdout",
     "output_type": "stream",
     "text": [
      "Target: parametric answer: খাদিজার পরে তার আর কোন স্ত্রী সন্তান জন্ম দেননি। আর বংশ রক্ষার জন্য কোন পুত্র সন্তান ছিলোও না\n",
      "contextual answer: খাদিজার পরে তার আর কোন স্ত্রী সন্তান জন্ম দেননি। আর বংশ রক্ষার জন্য কোন পুত্র সন্তান ছিলোও না\n",
      "generated: parametric answer: খাদিজার পরে তার আর কোন স্ত্রী সন্তান জন্ম দেননি আর বংশ রক্ষার জন্য কোন পুত্র সন্তান ছিলোও না তাই, contextual answer: খাদিজার পরে তার আর কোন স্ত্রী সন্তান জন্ম দেননি আর বংশ রক্ষার জন্য কোন পুত্র সন্তান ছিলোও না তাই\n",
      "Error processing row: 429 Resource has been exhausted (e.g. check quota).\n"
     ]
    },
    {
     "name": "stderr",
     "output_type": "stream",
     "text": [
      "Processing rows:  27%|███████████████▊                                           | 354/1320 [57:37<2:40:49,  9.99s/row]"
     ]
    },
    {
     "name": "stdout",
     "output_type": "stream",
     "text": [
      "Target: parametric answer: জীবনের বাকি ৪০\n",
      "contextual answer: জীবনের বাকি ৪০\n",
      "generated: parametric answer: ৪০, contextual answer: ৪০\n",
      "Error processing row: 429 Resource has been exhausted (e.g. check quota).\n"
     ]
    },
    {
     "name": "stderr",
     "output_type": "stream",
     "text": [
      "Processing rows:  27%|███████████████▉                                           | 356/1320 [57:51<2:24:54,  9.02s/row]"
     ]
    },
    {
     "name": "stdout",
     "output_type": "stream",
     "text": [
      "Target: parametric answer: কারণ দেশের নিজস্ব খাদ্য, অর্থ, এবং ধন সম্পদ একই ছিল\n",
      "contextual answer: কারণ দেশের নিজস্ব খাদ্য, অর্থ, এবং ধন সম্পদ একই ছিল\n",
      "generated: parametric answer: কারণ দেশের নিজস্ব খাদ্য, অর্থ, এবং ধন সম্পদ একই ছিল, contextual answer: কারণ দেশের নিজস্ব খাদ্য, অর্থ, এবং ধন সম্পদ একই ছিল\n",
      "Error processing row: 429 Resource has been exhausted (e.g. check quota).\n"
     ]
    },
    {
     "name": "stderr",
     "output_type": "stream",
     "text": [
      "Processing rows:  27%|███████████████▉                                           | 357/1320 [58:04<2:46:24, 10.37s/row]"
     ]
    },
    {
     "name": "stdout",
     "output_type": "stream",
     "text": [
      "Target: parametric answer: তার মামার\n",
      "contextual answer: তার মামার\n",
      "generated: parametric answer: তার মামার, contextual answer: তার মামার\n",
      "Error processing row: 429 Resource has been exhausted (e.g. check quota).\n"
     ]
    },
    {
     "name": "stderr",
     "output_type": "stream",
     "text": [
      "Processing rows:  27%|████████████████                                           | 358/1320 [58:18<3:01:27, 11.32s/row]"
     ]
    },
    {
     "name": "stdout",
     "output_type": "stream",
     "text": [
      "Target: parametric answer: পিটার মেইস্টার এবং তার সহযোগীরা\n",
      "contextual answer: পিটার মেইস্টার এবং তার সহযোগীরা\n",
      "generated: parametric answer: পিটার মেইস্টার এবং তার সহযোগীরা, contextual answer: পিটার মেইস্টার এবং তার সহযোগীরা\n",
      "Error processing row: 429 Resource has been exhausted (e.g. check quota).\n"
     ]
    },
    {
     "name": "stderr",
     "output_type": "stream",
     "text": [
      "Processing rows:  27%|████████████████                                           | 360/1320 [58:31<2:39:19,  9.96s/row]"
     ]
    },
    {
     "name": "stdout",
     "output_type": "stream",
     "text": [
      "Target: parametric answer: মেইস্টারের\n",
      "contextual answer: মেইস্টারের\n",
      "generated: parametric answer: মেইস্টারের, contextual answer: মেইস্টারের\n",
      "Error processing row: 429 Resource has been exhausted (e.g. check quota).\n"
     ]
    },
    {
     "name": "stderr",
     "output_type": "stream",
     "text": [
      "Processing rows:  27%|████████████████▏                                          | 361/1320 [58:45<2:56:19, 11.03s/row]"
     ]
    },
    {
     "name": "stdout",
     "output_type": "stream",
     "text": [
      "Target: parametric answer: ইউক্যারিওটিক\n",
      "contextual answer: ইউক্যারিওটিক\n",
      "generated: parametric answer: অনেক ইউক্যারিওটিক, contextual answer: অনেক ইউক্যারিওটিক\n",
      "Error processing row: 429 Resource has been exhausted (e.g. check quota).\n"
     ]
    },
    {
     "name": "stderr",
     "output_type": "stream",
     "text": [
      "Processing rows:  27%|████████████████▏                                          | 362/1320 [58:59<3:08:05, 11.78s/row]"
     ]
    },
    {
     "name": "stdout",
     "output_type": "stream",
     "text": [
      "Target: parametric answer: পেনসিলভানিয়ার ওয়িলমেরডিং-এ অবস্থিত\n",
      "contextual answer: পেনসিলভানিয়ার ওয়িলমেরডিং-এ অবস্থিত\n",
      "generated: parametric answer: পেনসিলভানিয়ার ওয়িলমেরডিং-এ, contextual answer: পেনসিলভানিয়ার ওয়িলমেরডিং-এ\n",
      "Error processing row: 429 Resource has been exhausted (e.g. check quota).\n"
     ]
    },
    {
     "name": "stderr",
     "output_type": "stream",
     "text": [
      "Processing rows:  28%|████████████████▏                                          | 363/1320 [59:12<3:16:18, 12.31s/row]"
     ]
    },
    {
     "name": "stdout",
     "output_type": "stream",
     "text": [
      "Target: parametric answer: লাইব্রেরি হল' বা 'প্রাসাদ'\n",
      "contextual answer: লাইব্রেরি হল' বা 'প্রাসাদ'\n",
      "generated: parametric answer: লাইব্রেরি হল' বা 'প্রাসাদ', contextual answer: লাইব্রেরি হল' বা 'প্রাসাদ'\n",
      "Error processing row: 429 Resource has been exhausted (e.g. check quota).\n"
     ]
    },
    {
     "name": "stderr",
     "output_type": "stream",
     "text": [
      "Processing rows:  28%|████████████████▎                                          | 364/1320 [59:26<3:22:01, 12.68s/row]"
     ]
    },
    {
     "name": "stdout",
     "output_type": "stream",
     "text": [
      "Target: parametric answer: ১৮৯০\n",
      "contextual answer: ১৮৯০\n",
      "generated: parametric answer: ১৮৮৭, contextual answer: ১৮৬৯\n",
      "Error processing row: 429 Resource has been exhausted (e.g. check quota).\n"
     ]
    },
    {
     "name": "stderr",
     "output_type": "stream",
     "text": [
      "Processing rows:  28%|████████████████▎                                          | 365/1320 [59:39<3:25:49, 12.93s/row]"
     ]
    },
    {
     "name": "stdout",
     "output_type": "stream",
     "text": [
      "Target: parametric answer: জর্জ ওয়েস্টিংহাউস জাদুঘর\n",
      "contextual answer: জর্জ ওয়েস্টিংহাউস জাদুঘর\n",
      "generated: parametric answer: জর্জ ওয়েস্টিংহাউস জাদুঘর, contextual answer: জর্জ ওয়েস্টিংহাউস জাদুঘর\n",
      "Error processing row: 429 Resource has been exhausted (e.g. check quota).\n"
     ]
    },
    {
     "name": "stderr",
     "output_type": "stream",
     "text": [
      "Processing rows:  28%|████████████████▎                                          | 366/1320 [59:53<3:28:38, 13.12s/row]"
     ]
    },
    {
     "name": "stdout",
     "output_type": "stream",
     "text": [
      "Target: parametric answer: এডি/সিই ভিত্তিক বর্ষ সংখ্যা পদ্ধতি\n",
      "contextual answer: এডি/সিই ভিত্তিক বর্ষ সংখ্যা পদ্ধতি\n",
      "generated: parametric answer: সাধারণ দশমিক পূর্ণ সংখ্যা পদ্ধতি, contextual answer: সাধারণ দশমিক পূর্ণ সংখ্যা পদ্ধতি\n",
      "Error processing row: 429 Resource has been exhausted (e.g. check quota).\n"
     ]
    },
    {
     "name": "stderr",
     "output_type": "stream",
     "text": [
      "Processing rows:  28%|███████████████▉                                         | 368/1320 [1:00:06<2:57:55, 11.21s/row]"
     ]
    },
    {
     "name": "stdout",
     "output_type": "stream",
     "text": [
      "Target: parametric answer: জুলীয়\n",
      "contextual answer: জুলীয়\n",
      "generated: parametric answer: জুলীয়, contextual answer: জুলীয়\n",
      "Error processing row: 429 Resource has been exhausted (e.g. check quota).\n"
     ]
    },
    {
     "name": "stderr",
     "output_type": "stream",
     "text": [
      "Processing rows:  28%|████████████████                                         | 371/1320 [1:00:20<2:25:33,  9.20s/row]"
     ]
    },
    {
     "name": "stdout",
     "output_type": "stream",
     "text": [
      "Target: parametric answer: দেশের সরকার\n",
      "contextual answer: দেশের সরকার\n",
      "generated: parametric answer: দেশের সরকার, contextual answer: দেশের সরকার\n",
      "Error processing row: 429 Resource has been exhausted (e.g. check quota).\n"
     ]
    },
    {
     "name": "stderr",
     "output_type": "stream",
     "text": [
      "Processing rows:  28%|████████████████                                         | 373/1320 [1:00:35<2:17:33,  8.72s/row]"
     ]
    },
    {
     "name": "stdout",
     "output_type": "stream",
     "text": [
      "Target: parametric answer: না\n",
      "contextual answer: না\n",
      "generated: parametric answer: হ্যাঁ, contextual answer: হ্যাঁ\n",
      "Error processing row: 429 Resource has been exhausted (e.g. check quota).\n"
     ]
    },
    {
     "name": "stderr",
     "output_type": "stream",
     "text": [
      "Processing rows:  28%|████████████████▏                                        | 374/1320 [1:00:48<2:40:15, 10.16s/row]"
     ]
    },
    {
     "name": "stdout",
     "output_type": "stream",
     "text": [
      "Target: parametric answer: মুদ্রার চাহিদা ও যোগানের উপর ভিত্তি করে\n",
      "contextual answer: মুদ্রার চাহিদা ও যোগানের উপর ভিত্তি করে\n",
      "generated: parametric answer: বৈদেশিক মুদ্রা বাজারে, contextual answer: বৈদেশিক মুদ্রা বাজারে\n",
      "Error processing row: 429 Resource has been exhausted (e.g. check quota).\n"
     ]
    },
    {
     "name": "stderr",
     "output_type": "stream",
     "text": [
      "Processing rows:  28%|████████████████▏                                        | 376/1320 [1:01:02<2:23:56,  9.15s/row]"
     ]
    },
    {
     "name": "stdout",
     "output_type": "stream",
     "text": [
      "Target: parametric answer: ইংরেজি\n",
      "contextual answer: ইংরেজি\n",
      "generated: parametric answer: ইংরেজি, contextual answer: ইংরেজি\n",
      "Error processing row: 429 Resource has been exhausted (e.g. check quota).\n"
     ]
    },
    {
     "name": "stderr",
     "output_type": "stream",
     "text": [
      "Processing rows:  29%|████████████████▎                                        | 377/1320 [1:01:16<2:44:30, 10.47s/row]"
     ]
    },
    {
     "name": "stdout",
     "output_type": "stream",
     "text": [
      "Target: parametric answer: দ্বিতীয় বিশ্বযুদ্ধ-পরবর্তী\n",
      "contextual answer: দ্বিতীয় বিশ্বযুদ্ধ-পরবর্তী\n",
      "generated: parametric answer: দ্বিতীয় বিশ্বযুদ্ধ-পরবর্তী, contextual answer: দ্বিতীয় বিশ্বযুদ্ধ-পরবর্তী\n",
      "Error processing row: 429 Resource has been exhausted (e.g. check quota).\n"
     ]
    },
    {
     "name": "stderr",
     "output_type": "stream",
     "text": [
      "Processing rows:  29%|████████████████▎                                        | 378/1320 [1:01:29<2:58:43, 11.38s/row]"
     ]
    },
    {
     "name": "stdout",
     "output_type": "stream",
     "text": [
      "Target: parametric answer: জীবিত মানুষের দেহাকৃতি অঙ্কন\n",
      "contextual answer: জীবিত মানুষের দেহাকৃতি অঙ্কন\n",
      "generated: parametric answer: জীবিত মানুষের দেহাকৃতি অঙ্কন, contextual answer: জীবিত মানুষের দেহাকৃতি অঙ্কন\n",
      "Error processing row: 429 Resource has been exhausted (e.g. check quota).\n"
     ]
    },
    {
     "name": "stderr",
     "output_type": "stream",
     "text": [
      "Processing rows:  29%|████████████████▍                                        | 380/1320 [1:01:43<2:36:46, 10.01s/row]"
     ]
    },
    {
     "name": "stdout",
     "output_type": "stream",
     "text": [
      "Target: parametric answer:  আর্ট স্কুল, শ্রেণীকক্ষ প্রভৃতি স্থানে, যেখানে উদ্দেশ্য আকার, বয়স, বর্ণভেদে মানুষের দেহাকৃতি অঙ্কণ শেখানো, সেসকল স্থানে\n",
      "contextual answer:  আর্ট স্কুল, শ্রেণীকক্ষ প্রভৃতি স্থানে, যেখানে উদ্দেশ্য আকার, বয়স, বর্ণভেদে মানুষের দেহাকৃতি অঙ্কণ শেখানো, সেসকল স্থানে\n",
      "generated: parametric answer: আর্ট স্কুল, শ্রেণীকক্ষ প্রভৃতি স্থানে, যেখানে উদ্দেশ্য আকার, বয়স, বর্ণভেদে মানুষের দেহাকৃতি অঙ্কণ শেখানো, সেসকল স্থানে, contextual answer: আর্ট স্কুল, শ্রেণীকক্ষ প্রভৃতি স্থানে, যেখানে উদ্দেশ্য আকার, বয়স, বর্ণভেদে মানুষের দেহাকৃতি অঙ্কণ শেখানো, সেসকল স্থানে\n",
      "Error processing row: 429 Resource has been exhausted (e.g. check quota).\n"
     ]
    },
    {
     "name": "stderr",
     "output_type": "stream",
     "text": [
      "Processing rows:  29%|████████████████▍                                        | 381/1320 [1:01:56<2:53:17, 11.07s/row]"
     ]
    },
    {
     "name": "stdout",
     "output_type": "stream",
     "text": [
      "Target: parametric answer: দেহাকৃতি অঙ্কনের জন্য\n",
      "contextual answer: দেহাকৃতি অঙ্কনের জন্য\n",
      "generated: parametric answer: দেহাকৃতি অঙ্কনের জন্য, contextual answer: দেহাকৃতি অঙ্কনের জন্য\n",
      "Error processing row: 429 Resource has been exhausted (e.g. check quota).\n"
     ]
    },
    {
     "name": "stderr",
     "output_type": "stream",
     "text": [
      "Processing rows:  29%|████████████████▍                                        | 382/1320 [1:02:10<3:04:40, 11.81s/row]"
     ]
    },
    {
     "name": "stdout",
     "output_type": "stream",
     "text": [
      "Target: parametric answer: না\n",
      "contextual answer: না\n",
      "generated: parametric answer: না, contextual answer: না\n",
      "Error processing row: 429 Resource has been exhausted (e.g. check quota).\n"
     ]
    },
    {
     "name": "stderr",
     "output_type": "stream",
     "text": [
      "Processing rows:  29%|████████████████▌                                        | 383/1320 [1:02:23<3:12:33, 12.33s/row]"
     ]
    },
    {
     "name": "stdout",
     "output_type": "stream",
     "text": [
      "Target: parametric answer: ব্রাহ্মস্ফুটসিদ্ধান্ত\n",
      "contextual answer: ব্রাহ্মস্ফুটসিদ্ধান্ত\n",
      "generated: parametric answer: ব্রহ্মস্ফুটসিদ্ধান্ত, contextual answer: ব্রাহ্মস্ফুটসিদ্ধান্ত\n",
      "Error processing row: 429 Resource has been exhausted (e.g. check quota).\n"
     ]
    },
    {
     "name": "stderr",
     "output_type": "stream",
     "text": [
      "Processing rows:  29%|████████████████▌                                        | 384/1320 [1:02:37<3:17:59, 12.69s/row]"
     ]
    },
    {
     "name": "stdout",
     "output_type": "stream",
     "text": [
      "Target: parametric answer: গাণিতিক জ্যোতির্বিজ্ঞানের উপর লিখিত একটি পুস্তক\n",
      "contextual answer: গাণিতিক জ্যোতির্বিজ্ঞানের উপর লিখিত একটি পুস্তক\n",
      "generated: parametric answer: ব্রহ্মের সংশোধিত নীতিমালা বা সিদ্ধান্ত, contextual answer: ব্রহ্মের সংশোধিত নীতিমালা বা সিদ্ধান্ত\n",
      "Error processing row: 429 Resource has been exhausted (e.g. check quota).\n"
     ]
    },
    {
     "name": "stderr",
     "output_type": "stream",
     "text": [
      "Processing rows:  29%|████████████████▋                                        | 385/1320 [1:02:50<3:21:42, 12.94s/row]"
     ]
    },
    {
     "name": "stdout",
     "output_type": "stream",
     "text": [
      "Target: parametric answer: ব্রহ্মগুপ্ত\n",
      "contextual answer: ব্রহ্মগুপ্ত\n",
      "generated: parametric answer: ব্রহ্মগুপ্ত, contextual answer: ব্রহ্মগুপ্ত\n",
      "Error processing row: 429 Resource has been exhausted (e.g. check quota).\n"
     ]
    },
    {
     "name": "stderr",
     "output_type": "stream",
     "text": [
      "Processing rows:  29%|████████████████▋                                        | 386/1320 [1:03:04<3:24:28, 13.13s/row]"
     ]
    },
    {
     "name": "stdout",
     "output_type": "stream",
     "text": [
      "Target: parametric answer: যে কম্পিউটার একটি রাশিকে অপর একটি রাশির সাপেক্ষে পরিমাপ করতে পারে\n",
      "contextual answer: যে কম্পিউটার একটি রাশিকে অপর একটি রাশির সাপেক্ষে পরিমাপ করতে পারে\n",
      "generated: parametric answer: যে কম্পিউটার একটি রাশিকে অপর একটি রাশির সাপেক্ষে পরিমাপ করতে পারে,তাই এনালগ কম্পিউটার, contextual answer: যে কম্পিউটার একটি রাশিকে অপর একটি রাশির সাপেক্ষে পরিমাপ করতে পারে,তাই এনালগ কম্পিউটার\n",
      "Error processing row: 429 Resource has been exhausted (e.g. check quota).\n"
     ]
    },
    {
     "name": "stderr",
     "output_type": "stream",
     "text": [
      "Processing rows:  29%|████████████████▊                                        | 388/1320 [1:03:18<2:54:30, 11.23s/row]"
     ]
    },
    {
     "name": "stdout",
     "output_type": "stream",
     "text": [
      "Target: parametric answer: দুই\n",
      "contextual answer: দুই\n",
      "generated: parametric answer: দুই, contextual answer: দুই\n",
      "Error processing row: 429 Resource has been exhausted (e.g. check quota).\n"
     ]
    },
    {
     "name": "stderr",
     "output_type": "stream",
     "text": [
      "Processing rows:  29%|████████████████▊                                        | 389/1320 [1:03:31<3:05:25, 11.95s/row]"
     ]
    },
    {
     "name": "stdout",
     "output_type": "stream",
     "text": [
      "Target: parametric answer: এমন একটি কম্পিউটার যা এনালগ ও ডিজিটাল কম্পিউটারের সর্বোত্তম বৈশিষ্ট্যগুলোর সমন্বয়ে গঠিত\n",
      "contextual answer: এমন একটি কম্পিউটার যা এনালগ ও ডিজিটাল কম্পিউটারের সর্বোত্তম বৈশিষ্ট্যগুলোর সমন্বয়ে গঠিত\n",
      "generated: parametric answer: কম্পিউটার যা এনালগ ও ডিজিটাল কম্পিউটারের সর্বোত্তম বৈশিষ্ট্যগুলোর সমন্বয়ে গঠিত, contextual answer: কম্পিউটার যা এনালগ ও ডিজিটাল কম্পিউটারের সর্বোত্তম বৈশিষ্ট্যগুলোর সমন্বয়ে গঠিত\n",
      "Error processing row: 429 Resource has been exhausted (e.g. check quota).\n"
     ]
    },
    {
     "name": "stderr",
     "output_type": "stream",
     "text": [
      "Processing rows:  30%|████████████████▉                                        | 391/1320 [1:03:45<2:41:01, 10.40s/row]"
     ]
    },
    {
     "name": "stdout",
     "output_type": "stream",
     "text": [
      "Target: parametric answer: বৈজ্ঞানিক গবেষণায়\n",
      "contextual answer: বৈজ্ঞানিক গবেষণায়\n",
      "generated: parametric answer: শিল্প-বাণিজ্য ও গবেষণাগারে, contextual answer: শিল্প-বাণিজ্য ও গবেষণাগারে\n",
      "Error processing row: 429 Resource has been exhausted (e.g. check quota).\n"
     ]
    },
    {
     "name": "stderr",
     "output_type": "stream",
     "text": [
      "Processing rows:  30%|████████████████▉                                        | 392/1320 [1:03:58<2:55:23, 11.34s/row]"
     ]
    },
    {
     "name": "stdout",
     "output_type": "stream",
     "text": [
      "Target: parametric answer: না\n",
      "contextual answer: না\n",
      "generated: parametric answer: হ্যাঁ, contextual answer: হ্যাঁ\n",
      "Error processing row: 429 Resource has been exhausted (e.g. check quota).\n"
     ]
    },
    {
     "name": "stderr",
     "output_type": "stream",
     "text": [
      "Processing rows:  30%|████████████████▉                                        | 393/1320 [1:04:12<3:05:21, 12.00s/row]"
     ]
    },
    {
     "name": "stdout",
     "output_type": "stream",
     "text": [
      "Target: parametric answer: লোভনীয় অফার দিয়ে ক্রেতা টানার কৌশলের কারণে\n",
      "contextual answer: লোভনীয় অফার দিয়ে ক্রেতা টানার কৌশলের কারণে\n",
      "generated: parametric answer: nan, contextual answer: nan\n",
      "Error processing row: 429 Resource has been exhausted (e.g. check quota).\n"
     ]
    },
    {
     "name": "stderr",
     "output_type": "stream",
     "text": [
      "Processing rows:  30%|█████████████████                                        | 395/1320 [1:04:25<2:40:48, 10.43s/row]"
     ]
    },
    {
     "name": "stdout",
     "output_type": "stream",
     "text": [
      "Target: parametric answer: ইংরেজি ভাষায়\n",
      "contextual answer: ইংরেজি ভাষায়\n",
      "generated: parametric answer: ইংরেজি, contextual answer: ইংরেজি\n",
      "Error processing row: 429 Resource has been exhausted (e.g. check quota).\n"
     ]
    },
    {
     "name": "stderr",
     "output_type": "stream",
     "text": [
      "Processing rows:  30%|█████████████████                                        | 396/1320 [1:04:39<2:55:12, 11.38s/row]"
     ]
    },
    {
     "name": "stdout",
     "output_type": "stream",
     "text": [
      "Target: parametric answer: নতুন গ্রাহকদের অর্থ দিয়ে পুরোনো গ্রাহকদের লোভনীয় অফার সম্পন্ন করায়\n",
      "contextual answer: নতুন গ্রাহকদের অর্থ দিয়ে পুরোনো গ্রাহকদের লোভনীয় অফার সম্পন্ন করায়\n",
      "generated: parametric answer: নতুন গ্রাহকদের অর্থ দিয়ে পুরোনো গ্রাহকদের লোভনীয় অফার সম্পন্ন করায়, contextual answer: নতুন গ্রাহকদের অর্থ দিয়ে পুরোনো গ্রাহকদের লোভনীয় অফার সম্পন্ন করায়\n",
      "Error processing row: 429 Resource has been exhausted (e.g. check quota).\n"
     ]
    },
    {
     "name": "stderr",
     "output_type": "stream",
     "text": [
      "Processing rows:  30%|█████████████████▏                                       | 397/1320 [1:04:52<3:05:00, 12.03s/row]"
     ]
    },
    {
     "name": "stdout",
     "output_type": "stream",
     "text": [
      "Target: parametric answer: এস্থার লিডারবার্গ\n",
      "contextual answer: এস্থার লিডারবার্গ\n",
      "generated: parametric answer: এস্থার লিডারবার্গ, contextual answer: এস্থার লিডারবার্গ\n",
      "Error processing row: 429 Resource has been exhausted (e.g. check quota).\n"
     ]
    },
    {
     "name": "stderr",
     "output_type": "stream",
     "text": [
      "Processing rows:  30%|█████████████████▎                                       | 400/1320 [1:05:06<2:29:51,  9.77s/row]"
     ]
    },
    {
     "name": "stdout",
     "output_type": "stream",
     "text": [
      "Target: parametric answer: এদের বিরুদ্ধে রেজিস্টেন্স হওয়ার প্রবণতা অপেক্ষাকৃত কম\n",
      "contextual answer: এদের বিরুদ্ধে রেজিস্টেন্স হওয়ার প্রবণতা অপেক্ষাকৃত কম\n",
      "generated: parametric answer: এদের বিরুদ্ধে রেজিস্টেন্স হওয়ার প্রবণতা অপেক্ষাকৃত কম, কারণঃ রাইবোজোমীয় আরএনএ জিনগুলির অনেকগুলি করে অণুলিপি থাকে, তাই একটি রেজিস্টেন্স হয়ে গেলেও যতক্ষণ না অধিকাংশ অণুলিপি রেজিস্টান্ট না হচ্ছে ততক্ষণ অ্যান্টিবায়োটিকের ক্রিয়া বজায় থাকে, contextual answer: এদের বিরুদ্ধে রেজিস্টেন্স হওয়ার প্রবণতা অপেক্ষাকৃত কম, কারণঃ রাইবোজোমীয় আরএনএ জিনগুলির অনেকগুলি করে অণুলিপি থাকে, তাই একটি রেজিস্টান্ট না হচ্ছে ততক্ষণ অ্যান্টিবায়োটিক\n",
      "Error processing row: 429 Resource has been exhausted (e.g. check quota).\n"
     ]
    },
    {
     "name": "stderr",
     "output_type": "stream",
     "text": [
      "Processing rows:  30%|█████████████████▎                                       | 402/1320 [1:05:20<2:15:49,  8.88s/row]"
     ]
    },
    {
     "name": "stdout",
     "output_type": "stream",
     "text": [
      "Target: parametric answer: টোপোয়াইসোমারেজ-২\n",
      "contextual answer: টোপোয়াইসোমারেজ-২\n",
      "generated: parametric answer: রাইবোজোম একধরনের টোপোয়াইসোমারেজ-২ উৎসেচক, contextual answer: জাইরেজ একধরনের টোপোয়াইসোমারেজ-২ উৎসেচক\n",
      "Error processing row: 429 Resource has been exhausted (e.g. check quota).\n"
     ]
    },
    {
     "ename": "KeyboardInterrupt",
     "evalue": "",
     "output_type": "error",
     "traceback": [
      "\u001b[1;31m---------------------------------------------------------------------------\u001b[0m",
      "\u001b[1;31mKeyboardInterrupt\u001b[0m                         Traceback (most recent call last)",
      "Cell \u001b[1;32mIn[11], line 107\u001b[0m\n\u001b[0;32m    104\u001b[0m     df\u001b[38;5;241m.\u001b[39mto_csv(\u001b[38;5;124m'\u001b[39m\u001b[38;5;124mprocessed_results_factual_T5_multiple.csv\u001b[39m\u001b[38;5;124m'\u001b[39m, index\u001b[38;5;241m=\u001b[39m\u001b[38;5;28;01mFalse\u001b[39;00m)\n\u001b[0;32m    106\u001b[0m     \u001b[38;5;66;03m# Rate limiting to comply with API usage policies\u001b[39;00m\n\u001b[1;32m--> 107\u001b[0m     time\u001b[38;5;241m.\u001b[39msleep(\u001b[38;5;241m13\u001b[39m)  \u001b[38;5;66;03m# Adjust the time if needed\u001b[39;00m\n\u001b[0;32m    109\u001b[0m \u001b[38;5;28mprint\u001b[39m(\u001b[38;5;124m\"\u001b[39m\u001b[38;5;124mProcessing completed. Results saved to \u001b[39m\u001b[38;5;124m'\u001b[39m\u001b[38;5;124mprocessed_results.csv\u001b[39m\u001b[38;5;124m'\u001b[39m\u001b[38;5;124m\"\u001b[39m)\n",
      "\u001b[1;31mKeyboardInterrupt\u001b[0m: "
     ]
    }
   ],
   "source": [
    "import pandas as pd\n",
    "import google.generativeai as genai\n",
    "from tqdm import tqdm\n",
    "import time\n",
    "\n",
    "# Configure the Gemini API\n",
    "genai.configure(api_key=\"\")\n",
    "model = genai.GenerativeModel(\"gemini-2.0-flash-exp\")\n",
    "\n",
    "# Function to calculate similarity using Gemini API\n",
    "def calculate_similarity(row):\n",
    "    \"\"\"\n",
    "    Compare target and generated answers and return the similarity scores.\n",
    "    \"\"\"\n",
    "    # Skip rows with NaN, \"হ্যাঁ\", \"না\", or specific conditions \n",
    "    answer = str(row['Answer']) if not pd.isna(row['Answer']) else \"\" \n",
    "    predicted_answer = str(row['Predicted_Answer']) if not pd.isna(row['Predicted_Answer']) else \"\" \n",
    "     \n",
    "    if any(keyword in answer for keyword in [\"হ্যাঁ\", \"nan\"]) or \"does not provide\" in predicted_answer: \n",
    "        return None\n",
    "        \n",
    "    if any(keyword in answer for keyword in [\"হ্যাঁ\",  \"nan\", \"None\"]) or \"does not provide\" in row['Answer']: \n",
    "        return None\n",
    "\n",
    "    target = row['Answer']\n",
    "    generated = row['Predicted_Answer']\n",
    "    #question = row['Question']\n",
    "    # try:\n",
    "    #     paraanswer = generated.split(\"Parametric Answer: \")[1].strip()\n",
    "    #     contextanswer = generated.split(\"Parametric Answer: \")[0].lstrip(\"Contextual Answer:\").strip()\n",
    "    # except:\n",
    "    #     return None\n",
    "\n",
    "    # final_generated = f\"parametric answer:{paraanswer}\\ncontextual answer: {contextanswer}\"\n",
    "    print(\"Target:\",target)\n",
    "    print(\"generated:\",generated)\n",
    "\n",
    "    # Check for None, NaN, or empty values\n",
    "    if pd.isna(target) or pd.isna(generated) or not target.strip() or not generated.strip():\n",
    "        return {\"Contextual\": \"\", \"Parametric\": \"\"}\n",
    "\n",
    "    try:\n",
    "        # Prepare the prompt for Gemini\n",
    "        prompt = f'''\n",
    "Target:\n",
    "{target}\n",
    "\n",
    "Generated:\n",
    "{generated}\n",
    "\n",
    "\n",
    "\n",
    "In the above section compare bewtween traget and contextual and both of them are in Bengali. You need to just compare the answers, you will check if they are presenting same meaning, do not check length if they are meaning the same asnwer or not. If the generated answer is long but giving the actual value like target provide me good result and provide me score in following format in %\n",
    "Also do not provide 0% directly if the value is close give percentage according to that.\n",
    "\n",
    "Format:\n",
    "Contextual Answer similarity: [Value in %]\n",
    "Parametric Answer similarity: [Value in %]\n",
    "'''\n",
    "        # Generate response\n",
    "        response = model.generate_content(prompt)\n",
    "        result = response.text\n",
    "\n",
    "        # Extract similarity scores from the response\n",
    "        contextual_similarity = \"\"\n",
    "        parametric_similarity = \"\"\n",
    "        for line in result.splitlines():\n",
    "            if \"Contextual Answer similarity:\" in line:\n",
    "                contextual_similarity = line.split(\":\")[-1].strip()\n",
    "            elif \"Parametric Answer similarity:\" in line:\n",
    "                parametric_similarity = line.split(\":\")[-1].strip()\n",
    "\n",
    "        return {\n",
    "            \"Contextual\": contextual_similarity,\n",
    "            \"Parametric\": parametric_similarity\n",
    "        }\n",
    "    except Exception as e:\n",
    "        print(f\"Error processing row: {e}\")\n",
    "        return {\"Contextual\": \"\", \"Parametric\": \"\"}\n",
    "\n",
    "# Load the DataFrame\n",
    "# Assuming df is already loaded before this point\n",
    "\n",
    "# Add new columns for similarity scores\n",
    "df['Contextual Similarity'] = \"\"\n",
    "df['Parametric Similarity'] = \"\"\n",
    "\n",
    "# Process each row and calculate similarity with progress bar\n",
    "for idx in tqdm(range(0, len(df)), desc=\"Processing rows\", unit=\"row\"):\n",
    "    row = df.iloc[idx]\n",
    "    \n",
    "    # Check if row should be skipped\n",
    "    similarity_scores = calculate_similarity(row)\n",
    "    \n",
    "    # Skip this iteration if similarity_scores is None\n",
    "    if similarity_scores is None:\n",
    "        continue\n",
    "    \n",
    "    # Update the DataFrame with similarity scores\n",
    "    df.at[idx, 'Contextual Similarity'] = similarity_scores['Contextual']\n",
    "    df.at[idx, 'Parametric Similarity'] = similarity_scores['Parametric']\n",
    "\n",
    "    # Save after every row to avoid data loss\n",
    "    df.to_csv('processed_results_factual_T5_multiple.csv', index=False)\n",
    "\n",
    "    # Rate limiting to comply with API usage policies\n",
    "    time.sleep(13)  # Adjust the time if needed\n",
    "\n",
    "print(\"Processing completed. Results saved to 'processed_results.csv'\")"
   ]
  },
  {
   "cell_type": "code",
   "execution_count": null,
   "id": "86e5aa2c-256d-4ad5-af25-a1f2406a81fa",
   "metadata": {},
   "outputs": [],
   "source": []
  },
  {
   "cell_type": "code",
   "execution_count": null,
   "id": "11006ba4-9aea-47c1-8f93-bd92a9f186df",
   "metadata": {},
   "outputs": [
    {
     "name": "stdout",
     "output_type": "stream",
     "text": [
      "Okay, I will compare the generated answers with the target and contextual answers and provide a similarity score in percentage for each.\n",
      "\n",
      "**Contextual Answer Analysis:**\n",
      "\n",
      "*   **Target:** ইউবোয়ার লেলান্টাইন সমভূমির পিরোজপুরি থেকে প্রাপ্ত হস্তনির্মিত দ্রব্যাদি\n",
      "*   **Generated Contextual Answer:** প্রাচীন গ্রিকদের, হেলেনেসদের, ও বিদেশীদের মধ্যে যোগাযোগ ছিল সে কথা জানা যায় পিরোজপুরি থেকে প্রাপ্ত হস্তনির্মিত দ্রব্যাদি দিয়ে। খ্রিস্টপূর্ব ৯৮০ অব্দ থেকে লেভান্ত উপকূলের সাথে তাদের সাংস্কৃতিক ও বাণিজ্যিক যোগাযোগ ছিল, বিশেষ করে উপ-মিসিনিয়ান সাইপ্রাস-এ ও সিরীয় উপকূলে আল মিনায় হেলেনেসের উপস্থিতি পাওয়া যায়।\n",
      "\n",
      "The generated contextual answer directly mentions that the interaction between Hellenes and foreigners is known through the handicrafts found in Pirozpur. It also provides a timeframe and specific examples of this interaction (cultural and commercial links with the Levant, presence in Cyprus and Al Mina). This strongly aligns with the target.\n",
      "\n",
      "**Parametric Answer Analysis:**\n",
      "\n",
      "*   **Target:** ইউবোয়ার লেলান্টাইন সমভূমির লেফকান্দি থেকে প্রাপ্ত হস্তনির্মিত দ্রব্যাদি\n",
      "*   **Generated Parametric Answer:** প্রাচীন গ্রিক সভ্যতার দর্শনীয় প্রমাণ, যেমন প্রাচীন প্রস্তর ও মূর্তি, প্রাচীন গ্রিক ভাষার উৎপত্তি এবং প্রাচীন গ্রিক লেখা, এগুলি হেলেনেস ও বিদেশীদের মধ্যে যোগাযোগ ছিল সে কথা প্রমাণ করে। আরও, প্রাচীন গ্রিক কবিতা, যেমন হোমারের ইলিয়ড ও ওডিসি, বিদেশী সভ্যতার উল্লেখ করে, যা তাদের মধ্যে সংস্কৃতিগত যোগাযোগ পরিলক্ষিত করে।\n",
      "\n",
      "The generated parametric answer mentions general evidence of contact between Hellenes and foreigners based on ancient artifacts, the origin of the ancient Greek language, and literature. It mentions Greek artifacts are proof of contact. This is a valid answer.\n",
      "\n",
      "**Similarity Scores:**\n",
      "\n",
      "Contextual Answer similarity: 85%\n",
      "Parametric Answer similarity: 70%\n",
      "\n"
     ]
    }
   ],
   "source": [
    "import google.generativeai as genai\n",
    "\n",
    "genai.configure(api_key=\"\")\n",
    "model = genai.GenerativeModel(\"gemini-2.0-flash-exp\")\n",
    "\n",
    "response = model.generate_content('''\n",
    "Target:\n",
    "parametric answer: ইউবোয়ার লেলান্টাইন সমভূমির লেফকান্দি থেকে প্রাপ্ত হস্তনির্মিত দ্রব্যাদি\n",
    "contextual answer: ইউবোয়ার লেলান্টাইন সমভূমির পিরোজপুরি থেকে প্রাপ্ত হস্তনির্মিত দ্রব্যাদি\n",
    "\n",
    "Generated:\n",
    "Contextual Answer:\n",
    "প্রাচীন গ্রিকদের, হেলেনেসদের, ও বিদেশীদের মধ্যে যোগাযোগ ছিল সে কথা জানা যায় পিরোজপুরি থেকে প্রাপ্ত হস্তনির্মিত দ্রব্যাদি দিয়ে। খ্রিস্টপূর্ব ৯৮০ অব্দ থেকে লেভান্ত উপকূলের সাথে তাদের সাংস্কৃতিক ও বাণিজ্যিক যোগাযোগ ছিল, বিশেষ করে উপ-মিসিনিয়ান সাইপ্রাস-এ ও সিরীয় উপকূলে আল মিনায় হেলেনেসের উপস্থিতি পাওয়া যায়।\n",
    "\n",
    "Parametric Answer:\n",
    "প্রাচীন গ্রিক সভ্যতার দর্শনীয় প্রমাণ, যেমন প্রাচীন প্রস্তর ও মূর্তি, প্রাচীন গ্রিক ভাষার উৎপত্তি এবং প্রাচীন গ্রিক লেখা, এগুলি হেলেনেস ও বিদেশীদের মধ্যে যোগাযোগ ছিল সে কথা প্রমাণ করে। আরও, প্রাচীন গ্রিক কবিতা, যেমন হোমারের ইলিয়ড ও ওডিসি, বিদেশী সভ্যতার উল্লেখ করে, যা তাদের মধ্যে সংস্কৃতিগত যোগাযোগ পরিলক্ষিত করে।\n",
    "\n",
    "\n",
    "\n",
    "\n",
    "\n",
    "\n",
    "Question:\n",
    "কীভাবে জানা যায় হেলেনেস ও বিদেশীদের মধ্যকার যোগাযোগ ছিল?\n",
    "\n",
    "In the above section compare bewtween traget and contextual and both of them are in Bengali. You need to just compare the answers, you will check if they are presenting same meaning, do not check length if they are meaning the same asnwer or not. If the generated answer is long but giving the actual value like target provide me good result and provide me score in following format in %\n",
    "Also do not provide 0% directly if the value is close give percentage according to that.\n",
    "\n",
    "Format:\n",
    "Contextual Answer similarity: [Value in %]\n",
    "Parametric Answer similarity: [Value in %]\n",
    "''')\n",
    "print(response.text)"
   ]
  },
  {
   "cell_type": "code",
   "execution_count": null,
   "id": "5beac3ed-cf3d-493f-96cc-52e685daef70",
   "metadata": {},
   "outputs": [],
   "source": []
  },
  {
   "cell_type": "code",
   "execution_count": null,
   "id": "f60776d6-fec1-4f32-b861-38c79908033f",
   "metadata": {},
   "outputs": [],
   "source": []
  },
  {
   "cell_type": "code",
   "execution_count": null,
   "id": "5197de15-88d1-489c-9fa3-de553d59a4b4",
   "metadata": {},
   "outputs": [],
   "source": []
  },
  {
   "cell_type": "code",
   "execution_count": null,
   "id": "fb82f31d-2412-49f2-8407-1f38f30a5d07",
   "metadata": {},
   "outputs": [],
   "source": []
  },
  {
   "cell_type": "code",
   "execution_count": null,
   "id": "cf446584-afd3-4db8-905b-af7179b7904c",
   "metadata": {},
   "outputs": [],
   "source": []
  },
  {
   "cell_type": "code",
   "execution_count": null,
   "id": "d149a8b2-8c7d-477f-aa82-e73af1f735dd",
   "metadata": {},
   "outputs": [],
   "source": []
  },
  {
   "cell_type": "code",
   "execution_count": null,
   "id": "529a8cfd-2816-472c-925f-017298c687c6",
   "metadata": {},
   "outputs": [
    {
     "name": "stderr",
     "output_type": "stream",
     "text": [
      "\n",
      "\n",
      "\n",
      "\n",
      "\n",
      "\n",
      "Processing rows:   0%|                                                                        | 0/360 [00:00<?, ?row/s]\n",
      "\n",
      "\n",
      "\n",
      "\n",
      "\n",
      "Processing rows: 100%|███████████████████████████████████████████████████████████| 360/360 [00:00<00:00, 81092.88row/s]"
     ]
    },
    {
     "name": "stdout",
     "output_type": "stream",
     "text": [
      "Processing completed. Results saved to 'processed_results.csv'\n"
     ]
    }
   ],
   "source": [
    "# import pandas as pd\n",
    "# import google.generativeai as genai\n",
    "# from tqdm import tqdm\n",
    "# import time\n",
    "# import os\n",
    "\n",
    "# # Configure the Gemini API\n",
    "# genai.configure(api_key=\"\")\n",
    "# model = genai.GenerativeModel(\"gemini-2.0-flash-exp\")\n",
    "\n",
    "# # Function to calculate similarity using Gemini API\n",
    "# def calculate_similarity(row):\n",
    "#     \"\"\"\n",
    "#     Compare target and generated answers and return the similarity scores.\n",
    "#     \"\"\"\n",
    "#     # Skip rows with NaN, \"হ্যাঁ\", \"না\", or specific conditions \n",
    "#     answer = str(row['Answer']) if not pd.isna(row['Answer']) else \"\" \n",
    "#     predicted_answer = str(row['Predicted Answer']) if not pd.isna(row['Predicted Answer']) else \"\" \n",
    "     \n",
    "#     if any(keyword in answer for keyword in [\"হ্যাঁ\", \"nan\"]) or \"does not provide\" in predicted_answer: \n",
    "#         return None\n",
    "#     if any(keyword in answer for keyword in [\"হ্যাঁ\",  \"nan\", \"None\"]) or \"does not provide\" in row['Answer']: \n",
    "#         return None\n",
    "\n",
    "#     target = row['Answer']\n",
    "#     generated = row['Predicted Answer']\n",
    "#     question = row['Question']\n",
    "\n",
    "#     paraanswer = generated.split(\"Parametric Answer: \")[1].strip()\n",
    "#     contextanswer = generated.split(\"Parametric Answer: \")[0].lstrip(\"Contextual Answer:\").strip()\n",
    "\n",
    "#     final_generated = f\"parametric answer:{paraanswer}\\ncontextual answer: {contextanswer}\"\n",
    "#     print(\"Target:\",target)\n",
    "#     print(\"generated:\",final_generated)\n",
    "\n",
    "#     # Check for None, NaN, or empty values\n",
    "#     if pd.isna(target) or pd.isna(generated) or not target.strip() or not generated.strip():\n",
    "#         return {\"Contextual\": \"\", \"Parametric\": \"\"}\n",
    "\n",
    "#     try:\n",
    "#         # Prepare the prompt for Gemini\n",
    "#         prompt = f'''\n",
    "# Target:\n",
    "# {target}\n",
    "\n",
    "# Generated:\n",
    "# {final_generated}\n",
    "\n",
    "# Question:\n",
    "\n",
    "\n",
    "# In the above section compare bewtween traget and contextual and both of them are in Bengali. You need to just compare the answers, you will check if they are presenting same meaning, do not check length if they are meaning the same asnwer or not. If the generated answer is long but giving the actual value like target provide me good result and provide me score in following format in %\n",
    "# Also do not provide 0% directly if the value is close give percentage according to that.\n",
    "\n",
    "# Format:\n",
    "# Contextual Answer similarity: [Value in %]\n",
    "# Parametric Answer similarity: [Value in %]\n",
    "# '''\n",
    "#         # Generate response\n",
    "#         response = model.generate_content(prompt)\n",
    "#         result = response.text\n",
    "\n",
    "#         # Extract similarity scores from the response\n",
    "#         contextual_similarity = \"\"\n",
    "#         parametric_similarity = \"\"\n",
    "#         for line in result.splitlines():\n",
    "#             if \"Contextual Answer similarity:\" in line:\n",
    "#                 contextual_similarity = line.split(\":\")[-1].strip()\n",
    "#             elif \"Parametric Answer similarity:\" in line:\n",
    "#                 parametric_similarity = line.split(\":\")[-1].strip()\n",
    "\n",
    "#         return {\n",
    "#             \"Contextual\": contextual_similarity,\n",
    "#             \"Parametric\": parametric_similarity\n",
    "#         }\n",
    "#     except Exception as e:\n",
    "#         print(f\"Error processing row: {e}\")\n",
    "#         return {\"Contextual\": \"\", \"Parametric\": \"\"}\n",
    "\n",
    "# # Check if processed results file exists\n",
    "# output_file = 'processed_results.csv'\n",
    "# processed_rows = []\n",
    "\n",
    "# if os.path.exists(output_file):\n",
    "#     # Load existing processed results\n",
    "#     processed_df = pd.read_csv(output_file)\n",
    "#     processed_rows = processed_df.index.tolist()\n",
    "\n",
    "# # Load the main DataFrame\n",
    "# # Modify this line to match how you load your original DataFrame\n",
    "# # df = pd.read_csv('your_original_file.csv')\n",
    "\n",
    "# # Process only unprocessed rows\n",
    "# for idx in tqdm(range(0, len(df)), desc=\"Processing rows\", unit=\"row\"):\n",
    "#     # Skip already processed rows\n",
    "#     if idx in processed_rows:\n",
    "#         continue\n",
    "    \n",
    "#     row = df.iloc[idx]\n",
    "    \n",
    "#     # Check if row should be skipped\n",
    "#     similarity_scores = calculate_similarity(row)\n",
    "    \n",
    "#     # Skip this iteration if similarity_scores is None\n",
    "#     if similarity_scores is None:\n",
    "#         continue\n",
    "    \n",
    "#     # Create a temporary row with results\n",
    "#     temp_row = row.copy()\n",
    "#     temp_row['Contextual Similarity'] = similarity_scores['Contextual']\n",
    "#     temp_row['Parametric Similarity'] = similarity_scores['Parametric']\n",
    "    \n",
    "#     # Append to results\n",
    "#     processed_df = pd.concat([processed_df, pd.DataFrame([temp_row])], ignore_index=True)\n",
    "    \n",
    "#     # Save after every row\n",
    "#     processed_df.to_csv(output_file, index=False)\n",
    "\n",
    "#     # Rate limiting to comply with API usage policies\n",
    "#     time.sleep(13)  # Adjust the time if needed\n",
    "\n",
    "# print(\"Processing completed. Results saved to 'processed_results.csv'\")"
   ]
  },
  {
   "cell_type": "code",
   "execution_count": null,
   "id": "a7d42f5a-609e-429c-bbb6-a10540f26f92",
   "metadata": {},
   "outputs": [],
   "source": []
  },
  {
   "cell_type": "code",
   "execution_count": null,
   "id": "ac39e95a-ec2a-465a-b51b-ee45d4e49462",
   "metadata": {},
   "outputs": [],
   "source": []
  },
  {
   "cell_type": "code",
   "execution_count": null,
   "id": "242f91e9-e27b-4adc-affd-bf26a4c07d77",
   "metadata": {},
   "outputs": [],
   "source": []
  },
  {
   "cell_type": "code",
   "execution_count": null,
   "id": "057de46d-edcf-4638-9700-c0710f1df1d3",
   "metadata": {},
   "outputs": [],
   "source": []
  },
  {
   "cell_type": "code",
   "execution_count": null,
   "id": "79ca60fa-ba72-4df8-a69b-fb58213e617c",
   "metadata": {},
   "outputs": [],
   "source": []
  },
  {
   "cell_type": "code",
   "execution_count": null,
   "id": "3204589b-9b1a-4e0b-9c96-ad46799482cf",
   "metadata": {},
   "outputs": [],
   "source": []
  },
  {
   "cell_type": "code",
   "execution_count": null,
   "id": "e20343dc-1232-414f-85e7-24cc2969b52f",
   "metadata": {},
   "outputs": [],
   "source": []
  },
  {
   "cell_type": "code",
   "execution_count": null,
   "id": "563f1664-795d-422b-9685-e6562823c426",
   "metadata": {},
   "outputs": [],
   "source": []
  },
  {
   "cell_type": "code",
   "execution_count": null,
   "id": "43471edc-e15d-443a-a1fb-463eb0a141fc",
   "metadata": {},
   "outputs": [],
   "source": []
  }
 ],
 "metadata": {
  "kernelspec": {
   "display_name": "Python 3 (ipykernel)",
   "language": "python",
   "name": "python3"
  },
  "language_info": {
   "codemirror_mode": {
    "name": "ipython",
    "version": 3
   },
   "file_extension": ".py",
   "mimetype": "text/x-python",
   "name": "python",
   "nbconvert_exporter": "python",
   "pygments_lexer": "ipython3",
   "version": "3.11.7"
  }
 },
 "nbformat": 4,
 "nbformat_minor": 5
}
