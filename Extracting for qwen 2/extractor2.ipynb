{
 "cells": [
  {
   "cell_type": "code",
   "execution_count": 1,
   "id": "be05c329-444d-4516-8f28-28e89c4f1d78",
   "metadata": {},
   "outputs": [],
   "source": [
    "# Importing necessary libraries\n",
    "import pandas as pd"
   ]
  },
  {
   "cell_type": "code",
   "execution_count": 2,
   "id": "59364c62-c2cb-425e-99dc-92f249f85ca8",
   "metadata": {},
   "outputs": [],
   "source": [
    "file_path = 'processed_1700to2000.csv'"
   ]
  },
  {
   "cell_type": "code",
   "execution_count": 3,
   "id": "90d06aa6-52ea-4709-a61f-2d8f1461a8b9",
   "metadata": {},
   "outputs": [],
   "source": [
    "# Reading the CSV file into a pandas DataFrame\n",
    "df = pd.read_csv(file_path)"
   ]
  },
  {
   "cell_type": "code",
   "execution_count": 4,
   "id": "2954ba86-cbc8-49d0-801a-31f9b957fa95",
   "metadata": {},
   "outputs": [
    {
     "name": "stdout",
     "output_type": "stream",
     "text": [
      "First row of the 'Predicted Answer' column:\n",
      "\n",
      "\n",
      "Contextual Answer: বর্ণবাদের শিকার হন।\n",
      "\n",
      "Parametric Answer: বর্ণবাদের শিকার হন।\n"
     ]
    }
   ],
   "source": [
    "# # Print the 'Predicted Answer' column\n",
    "# print(\"Predicted Answer Column:\")\n",
    "# print(df['Predicted Answer'])\n",
    "\n",
    "# Print the first row of the 'Predicted Answer' column\n",
    "print(\"First row of the 'Predicted Answer' column:\")\n",
    "print(df['Predicted Answer'].iloc[97])"
   ]
  },
  {
   "cell_type": "code",
   "execution_count": null,
   "id": "1f849c1c-eb58-4ac4-a1e5-c4ea1d632af7",
   "metadata": {},
   "outputs": [],
   "source": []
  },
  {
   "cell_type": "code",
   "execution_count": null,
   "id": "79f6bb9c-2d62-44e3-a148-2a862de7a057",
   "metadata": {},
   "outputs": [
    {
     "name": "stderr",
     "output_type": "stream",
     "text": [
      "Processing answers:   0%|                                                                     | 0/300 [00:00<?, ?row/s]"
     ]
    },
    {
     "name": "stdout",
     "output_type": "stream",
     "text": [
      "\n",
      "Waiting 10 seconds before next request...\n"
     ]
    },
    {
     "name": "stderr",
     "output_type": "stream",
     "text": [
      "Processing answers:   0%|▏                                                          | 1/300 [00:14<1:10:26, 14.14s/row]"
     ]
    },
    {
     "name": "stdout",
     "output_type": "stream",
     "text": [
      "\n",
      "Waiting 10 seconds before next request...\n"
     ]
    },
    {
     "name": "stderr",
     "output_type": "stream",
     "text": [
      "Processing answers:   1%|▍                                                          | 2/300 [00:29<1:11:59, 14.49s/row]"
     ]
    },
    {
     "name": "stdout",
     "output_type": "stream",
     "text": [
      "\n",
      "Waiting 10 seconds before next request...\n"
     ]
    },
    {
     "name": "stderr",
     "output_type": "stream",
     "text": [
      "Processing answers:   1%|▌                                                          | 3/300 [00:44<1:12:53, 14.73s/row]"
     ]
    },
    {
     "name": "stdout",
     "output_type": "stream",
     "text": [
      "\n",
      "Waiting 10 seconds before next request...\n"
     ]
    },
    {
     "name": "stderr",
     "output_type": "stream",
     "text": [
      "Processing answers:   1%|▊                                                          | 4/300 [00:59<1:13:26, 14.89s/row]"
     ]
    },
    {
     "name": "stdout",
     "output_type": "stream",
     "text": [
      "\n",
      "Waiting 10 seconds before next request...\n"
     ]
    },
    {
     "name": "stderr",
     "output_type": "stream",
     "text": [
      "Processing answers:   2%|▉                                                          | 5/300 [01:14<1:12:32, 14.75s/row]"
     ]
    },
    {
     "name": "stdout",
     "output_type": "stream",
     "text": [
      "\n",
      "Waiting 10 seconds before next request...\n"
     ]
    },
    {
     "name": "stderr",
     "output_type": "stream",
     "text": [
      "Processing answers:   2%|█▏                                                         | 6/300 [01:28<1:11:54, 14.67s/row]"
     ]
    },
    {
     "name": "stdout",
     "output_type": "stream",
     "text": [
      "\n",
      "Waiting 10 seconds before next request...\n"
     ]
    },
    {
     "name": "stderr",
     "output_type": "stream",
     "text": [
      "Processing answers:   2%|█▍                                                         | 7/300 [01:43<1:11:08, 14.57s/row]"
     ]
    },
    {
     "name": "stdout",
     "output_type": "stream",
     "text": [
      "\n",
      "Waiting 10 seconds before next request...\n"
     ]
    },
    {
     "name": "stderr",
     "output_type": "stream",
     "text": [
      "Processing answers:   3%|█▌                                                         | 8/300 [01:57<1:10:58, 14.58s/row]"
     ]
    },
    {
     "name": "stdout",
     "output_type": "stream",
     "text": [
      "\n",
      "Waiting 10 seconds before next request...\n"
     ]
    },
    {
     "name": "stderr",
     "output_type": "stream",
     "text": [
      "Processing answers:   3%|█▊                                                         | 9/300 [02:11<1:09:54, 14.41s/row]"
     ]
    },
    {
     "name": "stdout",
     "output_type": "stream",
     "text": [
      "\n",
      "Waiting 10 seconds before next request...\n"
     ]
    },
    {
     "name": "stderr",
     "output_type": "stream",
     "text": [
      "Processing answers:   3%|█▉                                                        | 10/300 [02:25<1:09:06, 14.30s/row]"
     ]
    },
    {
     "name": "stdout",
     "output_type": "stream",
     "text": [
      "\n",
      "Waiting 10 seconds before next request...\n"
     ]
    },
    {
     "name": "stderr",
     "output_type": "stream",
     "text": [
      "Processing answers:   4%|██▏                                                       | 11/300 [02:39<1:08:13, 14.16s/row]"
     ]
    },
    {
     "name": "stdout",
     "output_type": "stream",
     "text": [
      "\n",
      "Waiting 10 seconds before next request...\n"
     ]
    },
    {
     "name": "stderr",
     "output_type": "stream",
     "text": [
      "Processing answers:   4%|██▎                                                       | 12/300 [02:53<1:07:25, 14.05s/row]"
     ]
    },
    {
     "name": "stdout",
     "output_type": "stream",
     "text": [
      "\n",
      "Waiting 10 seconds before next request...\n"
     ]
    },
    {
     "name": "stderr",
     "output_type": "stream",
     "text": [
      "Processing answers:   4%|██▌                                                       | 13/300 [03:07<1:07:10, 14.04s/row]"
     ]
    },
    {
     "name": "stdout",
     "output_type": "stream",
     "text": [
      "\n",
      "Waiting 10 seconds before next request...\n"
     ]
    },
    {
     "name": "stderr",
     "output_type": "stream",
     "text": [
      "Processing answers:   5%|██▋                                                       | 14/300 [03:23<1:09:46, 14.64s/row]"
     ]
    },
    {
     "name": "stdout",
     "output_type": "stream",
     "text": [
      "\n",
      "Waiting 10 seconds before next request...\n"
     ]
    },
    {
     "name": "stderr",
     "output_type": "stream",
     "text": [
      "Processing answers:   5%|██▉                                                       | 15/300 [03:41<1:14:03, 15.59s/row]"
     ]
    },
    {
     "name": "stdout",
     "output_type": "stream",
     "text": [
      "\n",
      "Waiting 10 seconds before next request...\n"
     ]
    },
    {
     "name": "stderr",
     "output_type": "stream",
     "text": [
      "Processing answers:   5%|███                                                       | 16/300 [03:57<1:13:56, 15.62s/row]"
     ]
    },
    {
     "name": "stdout",
     "output_type": "stream",
     "text": [
      "\n",
      "Waiting 10 seconds before next request...\n"
     ]
    },
    {
     "name": "stderr",
     "output_type": "stream",
     "text": [
      "Processing answers:   6%|███▎                                                      | 17/300 [04:12<1:12:54, 15.46s/row]"
     ]
    },
    {
     "name": "stdout",
     "output_type": "stream",
     "text": [
      "\n",
      "Waiting 10 seconds before next request...\n"
     ]
    },
    {
     "name": "stderr",
     "output_type": "stream",
     "text": [
      "Processing answers:   6%|███▍                                                      | 18/300 [04:33<1:21:08, 17.26s/row]"
     ]
    },
    {
     "name": "stdout",
     "output_type": "stream",
     "text": [
      "\n",
      "Waiting 10 seconds before next request...\n"
     ]
    },
    {
     "name": "stderr",
     "output_type": "stream",
     "text": [
      "Processing answers:   6%|███▋                                                      | 19/300 [04:48<1:17:32, 16.56s/row]"
     ]
    },
    {
     "name": "stdout",
     "output_type": "stream",
     "text": [
      "\n",
      "Waiting 10 seconds before next request...\n"
     ]
    },
    {
     "name": "stderr",
     "output_type": "stream",
     "text": [
      "Processing answers:   7%|███▊                                                      | 20/300 [05:02<1:13:26, 15.74s/row]"
     ]
    },
    {
     "name": "stdout",
     "output_type": "stream",
     "text": [
      "\n",
      "Waiting 10 seconds before next request...\n"
     ]
    },
    {
     "name": "stderr",
     "output_type": "stream",
     "text": [
      "Processing answers:   7%|████                                                      | 21/300 [05:16<1:11:18, 15.33s/row]"
     ]
    },
    {
     "name": "stdout",
     "output_type": "stream",
     "text": [
      "\n",
      "Waiting 10 seconds before next request...\n"
     ]
    },
    {
     "name": "stderr",
     "output_type": "stream",
     "text": [
      "Processing answers:   7%|████▎                                                     | 22/300 [05:30<1:08:49, 14.86s/row]"
     ]
    },
    {
     "name": "stdout",
     "output_type": "stream",
     "text": [
      "\n",
      "Waiting 10 seconds before next request...\n"
     ]
    },
    {
     "name": "stderr",
     "output_type": "stream",
     "text": [
      "Processing answers:   8%|████▍                                                     | 23/300 [05:44<1:07:08, 14.54s/row]"
     ]
    },
    {
     "name": "stdout",
     "output_type": "stream",
     "text": [
      "\n",
      "Waiting 10 seconds before next request...\n"
     ]
    },
    {
     "name": "stderr",
     "output_type": "stream",
     "text": [
      "Processing answers:   8%|████▋                                                     | 24/300 [05:58<1:06:37, 14.48s/row]"
     ]
    },
    {
     "name": "stdout",
     "output_type": "stream",
     "text": [
      "\n",
      "Waiting 10 seconds before next request...\n"
     ]
    },
    {
     "name": "stderr",
     "output_type": "stream",
     "text": [
      "Processing answers:   8%|████▊                                                     | 25/300 [06:12<1:05:52, 14.37s/row]"
     ]
    },
    {
     "name": "stdout",
     "output_type": "stream",
     "text": [
      "\n",
      "Waiting 10 seconds before next request...\n"
     ]
    },
    {
     "name": "stderr",
     "output_type": "stream",
     "text": [
      "Processing answers:   9%|█████                                                     | 26/300 [06:27<1:06:42, 14.61s/row]"
     ]
    },
    {
     "name": "stdout",
     "output_type": "stream",
     "text": [
      "\n",
      "Waiting 10 seconds before next request...\n"
     ]
    },
    {
     "name": "stderr",
     "output_type": "stream",
     "text": [
      "Processing answers:   9%|█████▏                                                    | 27/300 [06:42<1:06:15, 14.56s/row]"
     ]
    },
    {
     "name": "stdout",
     "output_type": "stream",
     "text": [
      "\n",
      "Waiting 10 seconds before next request...\n"
     ]
    },
    {
     "name": "stderr",
     "output_type": "stream",
     "text": [
      "Processing answers:   9%|█████▍                                                    | 28/300 [06:56<1:05:00, 14.34s/row]"
     ]
    },
    {
     "name": "stdout",
     "output_type": "stream",
     "text": [
      "\n",
      "Waiting 10 seconds before next request...\n"
     ]
    },
    {
     "name": "stderr",
     "output_type": "stream",
     "text": [
      "Processing answers:  10%|█████▌                                                    | 29/300 [07:10<1:04:03, 14.18s/row]"
     ]
    },
    {
     "name": "stdout",
     "output_type": "stream",
     "text": [
      "\n",
      "Waiting 10 seconds before next request...\n"
     ]
    },
    {
     "name": "stderr",
     "output_type": "stream",
     "text": [
      "Processing answers:  10%|█████▊                                                    | 30/300 [07:23<1:03:26, 14.10s/row]"
     ]
    },
    {
     "name": "stdout",
     "output_type": "stream",
     "text": [
      "\n",
      "Waiting 10 seconds before next request...\n"
     ]
    },
    {
     "name": "stderr",
     "output_type": "stream",
     "text": [
      "Processing answers:  10%|█████▉                                                    | 31/300 [07:37<1:02:34, 13.96s/row]"
     ]
    },
    {
     "name": "stdout",
     "output_type": "stream",
     "text": [
      "\n",
      "Waiting 10 seconds before next request...\n"
     ]
    },
    {
     "name": "stderr",
     "output_type": "stream",
     "text": [
      "Processing answers:  11%|██████▏                                                   | 32/300 [07:51<1:02:03, 13.89s/row]"
     ]
    },
    {
     "name": "stdout",
     "output_type": "stream",
     "text": [
      "\n",
      "Waiting 10 seconds before next request...\n"
     ]
    },
    {
     "name": "stderr",
     "output_type": "stream",
     "text": [
      "Processing answers:  11%|██████▍                                                   | 33/300 [08:05<1:02:08, 13.96s/row]"
     ]
    },
    {
     "name": "stdout",
     "output_type": "stream",
     "text": [
      "\n",
      "Waiting 10 seconds before next request...\n"
     ]
    },
    {
     "name": "stderr",
     "output_type": "stream",
     "text": [
      "Processing answers:  11%|██████▌                                                   | 34/300 [08:19<1:02:19, 14.06s/row]"
     ]
    },
    {
     "name": "stdout",
     "output_type": "stream",
     "text": [
      "\n",
      "Waiting 10 seconds before next request...\n"
     ]
    },
    {
     "name": "stderr",
     "output_type": "stream",
     "text": [
      "Processing answers:  12%|██████▊                                                   | 35/300 [08:33<1:02:16, 14.10s/row]"
     ]
    },
    {
     "name": "stdout",
     "output_type": "stream",
     "text": [
      "\n",
      "Waiting 10 seconds before next request...\n"
     ]
    },
    {
     "name": "stderr",
     "output_type": "stream",
     "text": [
      "Processing answers:  12%|██████▉                                                   | 36/300 [08:47<1:01:46, 14.04s/row]"
     ]
    },
    {
     "name": "stdout",
     "output_type": "stream",
     "text": [
      "\n",
      "Waiting 10 seconds before next request...\n"
     ]
    },
    {
     "name": "stderr",
     "output_type": "stream",
     "text": [
      "Processing answers:  12%|███████▏                                                  | 37/300 [09:01<1:01:05, 13.94s/row]"
     ]
    },
    {
     "name": "stdout",
     "output_type": "stream",
     "text": [
      "\n",
      "Waiting 10 seconds before next request...\n"
     ]
    },
    {
     "name": "stderr",
     "output_type": "stream",
     "text": [
      "Processing answers:  13%|███████▎                                                  | 38/300 [09:16<1:02:42, 14.36s/row]"
     ]
    },
    {
     "name": "stdout",
     "output_type": "stream",
     "text": [
      "\n",
      "Waiting 10 seconds before next request...\n"
     ]
    },
    {
     "name": "stderr",
     "output_type": "stream",
     "text": [
      "Processing answers:  13%|███████▌                                                  | 39/300 [10:30<2:19:46, 32.13s/row]"
     ]
    },
    {
     "name": "stdout",
     "output_type": "stream",
     "text": [
      "\n",
      "Waiting 10 seconds before next request...\n"
     ]
    },
    {
     "name": "stderr",
     "output_type": "stream",
     "text": [
      "Processing answers:  13%|███████▋                                                  | 40/300 [10:44<1:55:30, 26.66s/row]"
     ]
    },
    {
     "name": "stdout",
     "output_type": "stream",
     "text": [
      "\n",
      "Waiting 10 seconds before next request...\n"
     ]
    },
    {
     "name": "stderr",
     "output_type": "stream",
     "text": [
      "Processing answers:  14%|███████▉                                                  | 41/300 [10:58<1:39:01, 22.94s/row]"
     ]
    },
    {
     "name": "stdout",
     "output_type": "stream",
     "text": [
      "\n",
      "Waiting 10 seconds before next request...\n"
     ]
    },
    {
     "name": "stderr",
     "output_type": "stream",
     "text": [
      "Processing answers:  14%|████████                                                  | 42/300 [11:13<1:27:49, 20.43s/row]"
     ]
    },
    {
     "name": "stdout",
     "output_type": "stream",
     "text": [
      "\n",
      "Waiting 10 seconds before next request...\n"
     ]
    },
    {
     "name": "stderr",
     "output_type": "stream",
     "text": [
      "Processing answers:  14%|████████▎                                                 | 43/300 [11:27<1:19:20, 18.52s/row]"
     ]
    },
    {
     "name": "stdout",
     "output_type": "stream",
     "text": [
      "\n",
      "Waiting 10 seconds before next request...\n"
     ]
    },
    {
     "name": "stderr",
     "output_type": "stream",
     "text": [
      "Processing answers:  15%|████████▌                                                 | 44/300 [11:41<1:13:06, 17.14s/row]"
     ]
    },
    {
     "name": "stdout",
     "output_type": "stream",
     "text": [
      "\n",
      "Waiting 10 seconds before next request...\n"
     ]
    },
    {
     "name": "stderr",
     "output_type": "stream",
     "text": [
      "Processing answers:  15%|████████▋                                                 | 45/300 [11:55<1:09:15, 16.30s/row]"
     ]
    },
    {
     "name": "stdout",
     "output_type": "stream",
     "text": [
      "\n",
      "Waiting 10 seconds before next request...\n"
     ]
    },
    {
     "name": "stderr",
     "output_type": "stream",
     "text": [
      "Processing answers:  15%|████████▉                                                 | 46/300 [12:09<1:05:53, 15.57s/row]"
     ]
    },
    {
     "name": "stdout",
     "output_type": "stream",
     "text": [
      "\n",
      "Waiting 10 seconds before next request...\n"
     ]
    },
    {
     "name": "stderr",
     "output_type": "stream",
     "text": [
      "Processing answers:  16%|█████████                                                 | 47/300 [12:23<1:04:25, 15.28s/row]"
     ]
    },
    {
     "name": "stdout",
     "output_type": "stream",
     "text": [
      "\n",
      "Waiting 10 seconds before next request...\n"
     ]
    },
    {
     "name": "stderr",
     "output_type": "stream",
     "text": [
      "Processing answers:  16%|█████████▎                                                | 48/300 [12:38<1:02:43, 14.93s/row]"
     ]
    },
    {
     "name": "stdout",
     "output_type": "stream",
     "text": [
      "\n",
      "Waiting 10 seconds before next request...\n"
     ]
    },
    {
     "name": "stderr",
     "output_type": "stream",
     "text": [
      "Processing answers:  16%|█████████▍                                                | 49/300 [12:52<1:01:50, 14.78s/row]"
     ]
    },
    {
     "name": "stdout",
     "output_type": "stream",
     "text": [
      "\n",
      "Waiting 10 seconds before next request...\n"
     ]
    },
    {
     "name": "stderr",
     "output_type": "stream",
     "text": [
      "Processing answers:  17%|█████████▋                                                | 50/300 [13:06<1:00:29, 14.52s/row]"
     ]
    },
    {
     "name": "stdout",
     "output_type": "stream",
     "text": [
      "\n",
      "Waiting 10 seconds before next request...\n"
     ]
    },
    {
     "name": "stderr",
     "output_type": "stream",
     "text": [
      "Processing answers:  17%|██████████▏                                                 | 51/300 [13:20<59:37, 14.37s/row]"
     ]
    },
    {
     "name": "stdout",
     "output_type": "stream",
     "text": [
      "\n",
      "Waiting 10 seconds before next request...\n"
     ]
    },
    {
     "name": "stderr",
     "output_type": "stream",
     "text": [
      "Processing answers:  17%|██████████▍                                                 | 52/300 [13:34<58:35, 14.18s/row]"
     ]
    },
    {
     "name": "stdout",
     "output_type": "stream",
     "text": [
      "\n",
      "Waiting 10 seconds before next request...\n"
     ]
    },
    {
     "name": "stderr",
     "output_type": "stream",
     "text": [
      "Processing answers:  18%|██████████▌                                                 | 53/300 [13:48<57:58, 14.08s/row]"
     ]
    },
    {
     "name": "stdout",
     "output_type": "stream",
     "text": [
      "\n",
      "Waiting 10 seconds before next request...\n"
     ]
    },
    {
     "name": "stderr",
     "output_type": "stream",
     "text": [
      "Processing answers:  18%|██████████▊                                                 | 54/300 [14:02<58:12, 14.20s/row]"
     ]
    },
    {
     "name": "stdout",
     "output_type": "stream",
     "text": [
      "\n",
      "Waiting 10 seconds before next request...\n"
     ]
    },
    {
     "name": "stderr",
     "output_type": "stream",
     "text": [
      "Processing answers:  18%|███████████                                                 | 55/300 [14:17<58:29, 14.32s/row]"
     ]
    },
    {
     "name": "stdout",
     "output_type": "stream",
     "text": [
      "\n",
      "Waiting 10 seconds before next request...\n"
     ]
    },
    {
     "name": "stderr",
     "output_type": "stream",
     "text": [
      "Processing answers:  19%|███████████▏                                                | 56/300 [14:30<57:36, 14.16s/row]"
     ]
    },
    {
     "name": "stdout",
     "output_type": "stream",
     "text": [
      "\n",
      "Waiting 10 seconds before next request...\n"
     ]
    },
    {
     "name": "stderr",
     "output_type": "stream",
     "text": [
      "Processing answers:  19%|███████████▍                                                | 57/300 [14:44<56:57, 14.06s/row]"
     ]
    },
    {
     "name": "stdout",
     "output_type": "stream",
     "text": [
      "\n",
      "Waiting 10 seconds before next request...\n"
     ]
    },
    {
     "name": "stderr",
     "output_type": "stream",
     "text": [
      "Processing answers:  19%|███████████▌                                                | 58/300 [14:59<57:17, 14.21s/row]"
     ]
    },
    {
     "name": "stdout",
     "output_type": "stream",
     "text": [
      "\n",
      "Waiting 10 seconds before next request...\n"
     ]
    },
    {
     "name": "stderr",
     "output_type": "stream",
     "text": [
      "Processing answers:  20%|███████████▊                                                | 59/300 [15:14<58:00, 14.44s/row]"
     ]
    },
    {
     "name": "stdout",
     "output_type": "stream",
     "text": [
      "\n",
      "Waiting 10 seconds before next request...\n"
     ]
    },
    {
     "name": "stderr",
     "output_type": "stream",
     "text": [
      "Processing answers:  20%|████████████                                                | 60/300 [15:29<58:53, 14.72s/row]"
     ]
    },
    {
     "name": "stdout",
     "output_type": "stream",
     "text": [
      "\n",
      "Waiting 10 seconds before next request...\n"
     ]
    },
    {
     "name": "stderr",
     "output_type": "stream",
     "text": [
      "Processing answers:  20%|████████████▏                                               | 61/300 [15:44<58:31, 14.69s/row]"
     ]
    },
    {
     "name": "stdout",
     "output_type": "stream",
     "text": [
      "\n",
      "Waiting 10 seconds before next request...\n"
     ]
    },
    {
     "name": "stderr",
     "output_type": "stream",
     "text": [
      "Processing answers:  21%|████████████▍                                               | 62/300 [15:58<57:41, 14.54s/row]"
     ]
    },
    {
     "name": "stdout",
     "output_type": "stream",
     "text": [
      "\n",
      "Waiting 10 seconds before next request...\n"
     ]
    },
    {
     "name": "stderr",
     "output_type": "stream",
     "text": [
      "Processing answers:  21%|████████████▌                                               | 63/300 [16:12<56:30, 14.31s/row]"
     ]
    },
    {
     "name": "stdout",
     "output_type": "stream",
     "text": [
      "\n",
      "Waiting 10 seconds before next request...\n"
     ]
    },
    {
     "name": "stderr",
     "output_type": "stream",
     "text": [
      "Processing answers:  21%|████████████▊                                               | 64/300 [16:26<56:08, 14.27s/row]"
     ]
    },
    {
     "name": "stdout",
     "output_type": "stream",
     "text": [
      "\n",
      "Waiting 10 seconds before next request...\n"
     ]
    },
    {
     "name": "stderr",
     "output_type": "stream",
     "text": [
      "Processing answers:  22%|█████████████                                               | 65/300 [16:40<56:14, 14.36s/row]"
     ]
    },
    {
     "name": "stdout",
     "output_type": "stream",
     "text": [
      "\n",
      "Waiting 10 seconds before next request...\n"
     ]
    },
    {
     "name": "stderr",
     "output_type": "stream",
     "text": [
      "Processing answers:  22%|█████████████▏                                              | 66/300 [16:54<55:31, 14.24s/row]"
     ]
    },
    {
     "name": "stdout",
     "output_type": "stream",
     "text": [
      "\n",
      "Waiting 10 seconds before next request...\n"
     ]
    },
    {
     "name": "stderr",
     "output_type": "stream",
     "text": [
      "Processing answers:  22%|█████████████▍                                              | 67/300 [17:08<54:44, 14.10s/row]"
     ]
    },
    {
     "name": "stdout",
     "output_type": "stream",
     "text": [
      "\n",
      "Waiting 10 seconds before next request...\n"
     ]
    },
    {
     "name": "stderr",
     "output_type": "stream",
     "text": [
      "Processing answers:  23%|█████████████▌                                              | 68/300 [17:22<54:12, 14.02s/row]"
     ]
    },
    {
     "name": "stdout",
     "output_type": "stream",
     "text": [
      "\n",
      "Waiting 10 seconds before next request...\n"
     ]
    },
    {
     "name": "stderr",
     "output_type": "stream",
     "text": [
      "Processing answers:  23%|█████████████▊                                              | 69/300 [17:36<53:53, 14.00s/row]"
     ]
    },
    {
     "name": "stdout",
     "output_type": "stream",
     "text": [
      "\n",
      "Waiting 10 seconds before next request...\n"
     ]
    },
    {
     "name": "stderr",
     "output_type": "stream",
     "text": [
      "Processing answers:  23%|██████████████                                              | 70/300 [17:51<54:34, 14.24s/row]"
     ]
    },
    {
     "name": "stdout",
     "output_type": "stream",
     "text": [
      "\n",
      "Waiting 10 seconds before next request...\n"
     ]
    },
    {
     "name": "stderr",
     "output_type": "stream",
     "text": [
      "Processing answers:  24%|██████████████▏                                             | 71/300 [18:06<55:18, 14.49s/row]"
     ]
    },
    {
     "name": "stdout",
     "output_type": "stream",
     "text": [
      "\n",
      "Waiting 10 seconds before next request...\n"
     ]
    },
    {
     "name": "stderr",
     "output_type": "stream",
     "text": [
      "Processing answers:  24%|██████████████▍                                             | 72/300 [18:19<53:22, 14.05s/row]"
     ]
    },
    {
     "name": "stdout",
     "output_type": "stream",
     "text": [
      "\n",
      "Waiting 10 seconds before next request...\n"
     ]
    },
    {
     "name": "stderr",
     "output_type": "stream",
     "text": [
      "Processing answers:  24%|██████████████▌                                             | 73/300 [18:35<54:57, 14.52s/row]"
     ]
    },
    {
     "name": "stdout",
     "output_type": "stream",
     "text": [
      "\n",
      "Waiting 10 seconds before next request...\n"
     ]
    },
    {
     "name": "stderr",
     "output_type": "stream",
     "text": [
      "Processing answers:  25%|██████████████▊                                             | 74/300 [18:48<53:55, 14.32s/row]"
     ]
    },
    {
     "name": "stdout",
     "output_type": "stream",
     "text": [
      "\n",
      "Waiting 10 seconds before next request...\n"
     ]
    },
    {
     "name": "stderr",
     "output_type": "stream",
     "text": [
      "Processing answers:  25%|███████████████                                             | 75/300 [19:02<53:25, 14.25s/row]"
     ]
    },
    {
     "name": "stdout",
     "output_type": "stream",
     "text": [
      "\n",
      "Waiting 10 seconds before next request...\n"
     ]
    },
    {
     "name": "stderr",
     "output_type": "stream",
     "text": [
      "Processing answers:  25%|███████████████▏                                            | 76/300 [19:16<52:56, 14.18s/row]"
     ]
    },
    {
     "name": "stdout",
     "output_type": "stream",
     "text": [
      "\n",
      "Waiting 10 seconds before next request...\n"
     ]
    },
    {
     "name": "stderr",
     "output_type": "stream",
     "text": [
      "Processing answers:  26%|███████████████▍                                            | 77/300 [19:30<52:16, 14.06s/row]"
     ]
    },
    {
     "name": "stdout",
     "output_type": "stream",
     "text": [
      "\n",
      "Waiting 10 seconds before next request...\n"
     ]
    },
    {
     "name": "stderr",
     "output_type": "stream",
     "text": [
      "Processing answers:  26%|███████████████▌                                            | 78/300 [19:44<51:57, 14.04s/row]"
     ]
    },
    {
     "name": "stdout",
     "output_type": "stream",
     "text": [
      "\n",
      "Waiting 10 seconds before next request...\n"
     ]
    },
    {
     "name": "stderr",
     "output_type": "stream",
     "text": [
      "Processing answers:  26%|███████████████▊                                            | 79/300 [19:58<51:41, 14.03s/row]"
     ]
    },
    {
     "name": "stdout",
     "output_type": "stream",
     "text": [
      "\n",
      "Waiting 10 seconds before next request...\n"
     ]
    },
    {
     "name": "stderr",
     "output_type": "stream",
     "text": [
      "Processing answers:  27%|████████████████                                            | 80/300 [20:12<51:20, 14.00s/row]"
     ]
    },
    {
     "name": "stdout",
     "output_type": "stream",
     "text": [
      "\n",
      "Waiting 10 seconds before next request...\n"
     ]
    },
    {
     "name": "stderr",
     "output_type": "stream",
     "text": [
      "Processing answers:  27%|████████████████▏                                           | 81/300 [20:27<52:16, 14.32s/row]"
     ]
    },
    {
     "name": "stdout",
     "output_type": "stream",
     "text": [
      "\n",
      "Waiting 10 seconds before next request...\n"
     ]
    },
    {
     "name": "stderr",
     "output_type": "stream",
     "text": [
      "Processing answers:  27%|████████████████▍                                           | 82/300 [20:42<52:06, 14.34s/row]"
     ]
    },
    {
     "name": "stdout",
     "output_type": "stream",
     "text": [
      "\n",
      "Waiting 10 seconds before next request...\n"
     ]
    },
    {
     "name": "stderr",
     "output_type": "stream",
     "text": [
      "Processing answers:  28%|████████████████▌                                           | 83/300 [20:56<51:23, 14.21s/row]"
     ]
    },
    {
     "name": "stdout",
     "output_type": "stream",
     "text": [
      "\n",
      "Waiting 10 seconds before next request...\n"
     ]
    },
    {
     "name": "stderr",
     "output_type": "stream",
     "text": [
      "Processing answers:  28%|████████████████▊                                           | 84/300 [21:09<50:32, 14.04s/row]"
     ]
    },
    {
     "name": "stdout",
     "output_type": "stream",
     "text": [
      "\n",
      "Waiting 10 seconds before next request...\n"
     ]
    },
    {
     "name": "stderr",
     "output_type": "stream",
     "text": [
      "Processing answers:  28%|█████████████████                                           | 85/300 [21:24<51:38, 14.41s/row]"
     ]
    },
    {
     "name": "stdout",
     "output_type": "stream",
     "text": [
      "\n",
      "Waiting 10 seconds before next request...\n"
     ]
    },
    {
     "name": "stderr",
     "output_type": "stream",
     "text": [
      "Processing answers:  29%|█████████████████▏                                          | 86/300 [21:40<52:09, 14.62s/row]"
     ]
    },
    {
     "name": "stdout",
     "output_type": "stream",
     "text": [
      "\n",
      "Waiting 10 seconds before next request...\n"
     ]
    },
    {
     "name": "stderr",
     "output_type": "stream",
     "text": [
      "Processing answers:  29%|█████████████████▍                                          | 87/300 [21:54<51:44, 14.57s/row]"
     ]
    },
    {
     "name": "stdout",
     "output_type": "stream",
     "text": [
      "\n",
      "Waiting 10 seconds before next request...\n"
     ]
    },
    {
     "name": "stderr",
     "output_type": "stream",
     "text": [
      "Processing answers:  29%|█████████████████▌                                          | 88/300 [22:08<50:35, 14.32s/row]"
     ]
    },
    {
     "name": "stdout",
     "output_type": "stream",
     "text": [
      "\n",
      "Waiting 10 seconds before next request...\n"
     ]
    },
    {
     "name": "stderr",
     "output_type": "stream",
     "text": [
      "Processing answers:  30%|█████████████████▊                                          | 89/300 [22:22<50:47, 14.44s/row]"
     ]
    },
    {
     "name": "stdout",
     "output_type": "stream",
     "text": [
      "\n",
      "Waiting 10 seconds before next request...\n"
     ]
    },
    {
     "name": "stderr",
     "output_type": "stream",
     "text": [
      "Processing answers:  30%|██████████████████                                          | 90/300 [22:37<50:58, 14.56s/row]"
     ]
    },
    {
     "name": "stdout",
     "output_type": "stream",
     "text": [
      "\n",
      "Waiting 10 seconds before next request...\n"
     ]
    },
    {
     "name": "stderr",
     "output_type": "stream",
     "text": [
      "Processing answers:  30%|██████████████████▏                                         | 91/300 [22:52<50:28, 14.49s/row]"
     ]
    },
    {
     "name": "stdout",
     "output_type": "stream",
     "text": [
      "\n",
      "Waiting 10 seconds before next request...\n"
     ]
    },
    {
     "name": "stderr",
     "output_type": "stream",
     "text": [
      "Processing answers:  31%|██████████████████▍                                         | 92/300 [23:05<49:26, 14.26s/row]"
     ]
    },
    {
     "name": "stdout",
     "output_type": "stream",
     "text": [
      "\n",
      "Waiting 10 seconds before next request...\n"
     ]
    },
    {
     "name": "stderr",
     "output_type": "stream",
     "text": [
      "Processing answers:  31%|██████████████████▌                                         | 93/300 [23:20<49:31, 14.35s/row]"
     ]
    },
    {
     "name": "stdout",
     "output_type": "stream",
     "text": [
      "\n",
      "Waiting 10 seconds before next request...\n"
     ]
    },
    {
     "name": "stderr",
     "output_type": "stream",
     "text": [
      "Processing answers:  31%|██████████████████▊                                         | 94/300 [23:35<50:29, 14.71s/row]"
     ]
    },
    {
     "name": "stdout",
     "output_type": "stream",
     "text": [
      "\n",
      "Waiting 10 seconds before next request...\n"
     ]
    },
    {
     "name": "stderr",
     "output_type": "stream",
     "text": [
      "Processing answers:  32%|███████████████████                                         | 95/300 [23:51<50:50, 14.88s/row]"
     ]
    },
    {
     "name": "stdout",
     "output_type": "stream",
     "text": [
      "\n",
      "Waiting 10 seconds before next request...\n"
     ]
    },
    {
     "name": "stderr",
     "output_type": "stream",
     "text": [
      "Processing answers:  32%|███████████████████▏                                        | 96/300 [24:05<49:35, 14.58s/row]"
     ]
    },
    {
     "name": "stdout",
     "output_type": "stream",
     "text": [
      "\n",
      "Waiting 10 seconds before next request...\n"
     ]
    },
    {
     "name": "stderr",
     "output_type": "stream",
     "text": [
      "Processing answers:  32%|███████████████████▍                                        | 97/300 [24:20<50:11, 14.84s/row]"
     ]
    },
    {
     "name": "stdout",
     "output_type": "stream",
     "text": [
      "\n",
      "Waiting 10 seconds before next request...\n"
     ]
    },
    {
     "name": "stderr",
     "output_type": "stream",
     "text": [
      "Processing answers:  33%|███████████████████▌                                        | 98/300 [24:34<48:45, 14.48s/row]"
     ]
    },
    {
     "name": "stdout",
     "output_type": "stream",
     "text": [
      "\n",
      "Waiting 10 seconds before next request...\n"
     ]
    },
    {
     "name": "stderr",
     "output_type": "stream",
     "text": [
      "Processing answers:  33%|███████████████████▊                                        | 99/300 [24:48<48:10, 14.38s/row]"
     ]
    },
    {
     "name": "stdout",
     "output_type": "stream",
     "text": [
      "\n",
      "Made 20 requests. Pausing for 80 seconds...\n"
     ]
    },
    {
     "name": "stderr",
     "output_type": "stream",
     "text": [
      "Processing answers:  33%|███████████████████                                      | 100/300 [26:09<1:54:29, 34.35s/row]"
     ]
    },
    {
     "name": "stdout",
     "output_type": "stream",
     "text": [
      "\n",
      "Waiting 10 seconds before next request...\n"
     ]
    },
    {
     "name": "stderr",
     "output_type": "stream",
     "text": [
      "Processing answers:  34%|███████████████████▏                                     | 101/300 [26:23<1:33:54, 28.31s/row]"
     ]
    },
    {
     "name": "stdout",
     "output_type": "stream",
     "text": [
      "\n",
      "Waiting 10 seconds before next request...\n"
     ]
    },
    {
     "name": "stderr",
     "output_type": "stream",
     "text": [
      "Processing answers:  34%|███████████████████▍                                     | 102/300 [26:37<1:19:19, 24.04s/row]"
     ]
    },
    {
     "name": "stdout",
     "output_type": "stream",
     "text": [
      "\n",
      "Waiting 10 seconds before next request...\n"
     ]
    },
    {
     "name": "stderr",
     "output_type": "stream",
     "text": [
      "Processing answers:  34%|███████████████████▌                                     | 103/300 [26:51<1:09:00, 21.02s/row]"
     ]
    },
    {
     "name": "stdout",
     "output_type": "stream",
     "text": [
      "\n",
      "Waiting 10 seconds before next request...\n"
     ]
    },
    {
     "name": "stderr",
     "output_type": "stream",
     "text": [
      "Processing answers:  35%|███████████████████▊                                     | 104/300 [27:05<1:01:30, 18.83s/row]"
     ]
    },
    {
     "name": "stdout",
     "output_type": "stream",
     "text": [
      "\n",
      "Waiting 10 seconds before next request...\n"
     ]
    },
    {
     "name": "stderr",
     "output_type": "stream",
     "text": [
      "Processing answers:  35%|████████████████████▋                                      | 105/300 [27:19<56:18, 17.33s/row]"
     ]
    },
    {
     "name": "stdout",
     "output_type": "stream",
     "text": [
      "\n",
      "Waiting 10 seconds before next request...\n"
     ]
    },
    {
     "name": "stderr",
     "output_type": "stream",
     "text": [
      "Processing answers:  35%|████████████████████▊                                      | 106/300 [27:33<52:46, 16.32s/row]"
     ]
    },
    {
     "name": "stdout",
     "output_type": "stream",
     "text": [
      "\n",
      "Waiting 10 seconds before next request...\n"
     ]
    },
    {
     "name": "stderr",
     "output_type": "stream",
     "text": [
      "Processing answers:  36%|█████████████████████                                      | 107/300 [27:46<50:03, 15.56s/row]"
     ]
    },
    {
     "name": "stdout",
     "output_type": "stream",
     "text": [
      "\n",
      "Waiting 10 seconds before next request...\n"
     ]
    },
    {
     "name": "stderr",
     "output_type": "stream",
     "text": [
      "Processing answers:  36%|█████████████████████▏                                     | 108/300 [28:00<48:07, 15.04s/row]"
     ]
    },
    {
     "name": "stdout",
     "output_type": "stream",
     "text": [
      "\n",
      "Waiting 10 seconds before next request...\n"
     ]
    },
    {
     "name": "stderr",
     "output_type": "stream",
     "text": [
      "Processing answers:  36%|█████████████████████▍                                     | 109/300 [28:15<47:44, 15.00s/row]"
     ]
    },
    {
     "name": "stdout",
     "output_type": "stream",
     "text": [
      "\n",
      "Waiting 10 seconds before next request...\n"
     ]
    },
    {
     "name": "stderr",
     "output_type": "stream",
     "text": [
      "Processing answers:  37%|█████████████████████▋                                     | 110/300 [28:29<46:18, 14.62s/row]"
     ]
    },
    {
     "name": "stdout",
     "output_type": "stream",
     "text": [
      "\n",
      "Waiting 10 seconds before next request...\n"
     ]
    },
    {
     "name": "stderr",
     "output_type": "stream",
     "text": [
      "Processing answers:  37%|█████████████████████▊                                     | 111/300 [28:44<46:56, 14.90s/row]"
     ]
    },
    {
     "name": "stdout",
     "output_type": "stream",
     "text": [
      "\n",
      "Waiting 10 seconds before next request...\n"
     ]
    },
    {
     "name": "stderr",
     "output_type": "stream",
     "text": [
      "Processing answers:  37%|██████████████████████                                     | 112/300 [28:58<45:49, 14.62s/row]"
     ]
    },
    {
     "name": "stdout",
     "output_type": "stream",
     "text": [
      "\n",
      "Waiting 10 seconds before next request...\n"
     ]
    },
    {
     "name": "stderr",
     "output_type": "stream",
     "text": [
      "Processing answers:  38%|██████████████████████▏                                    | 113/300 [29:12<44:55, 14.42s/row]"
     ]
    },
    {
     "name": "stdout",
     "output_type": "stream",
     "text": [
      "\n",
      "Waiting 10 seconds before next request...\n"
     ]
    },
    {
     "name": "stderr",
     "output_type": "stream",
     "text": [
      "Processing answers:  38%|██████████████████████▍                                    | 114/300 [29:26<44:21, 14.31s/row]"
     ]
    },
    {
     "name": "stdout",
     "output_type": "stream",
     "text": [
      "\n",
      "Waiting 10 seconds before next request...\n"
     ]
    },
    {
     "name": "stderr",
     "output_type": "stream",
     "text": [
      "Processing answers:  38%|██████████████████████▌                                    | 115/300 [29:40<43:28, 14.10s/row]"
     ]
    },
    {
     "name": "stdout",
     "output_type": "stream",
     "text": [
      "\n",
      "Waiting 10 seconds before next request...\n"
     ]
    },
    {
     "name": "stderr",
     "output_type": "stream",
     "text": [
      "Processing answers:  39%|██████████████████████▊                                    | 116/300 [29:54<42:47, 13.95s/row]"
     ]
    },
    {
     "name": "stdout",
     "output_type": "stream",
     "text": [
      "\n",
      "Waiting 10 seconds before next request...\n"
     ]
    },
    {
     "name": "stderr",
     "output_type": "stream",
     "text": [
      "Processing answers:  39%|███████████████████████                                    | 117/300 [30:08<42:38, 13.98s/row]"
     ]
    },
    {
     "name": "stdout",
     "output_type": "stream",
     "text": [
      "\n",
      "Waiting 10 seconds before next request...\n"
     ]
    },
    {
     "name": "stderr",
     "output_type": "stream",
     "text": [
      "Processing answers:  39%|███████████████████████▏                                   | 118/300 [30:23<43:42, 14.41s/row]"
     ]
    },
    {
     "name": "stdout",
     "output_type": "stream",
     "text": [
      "\n",
      "Waiting 10 seconds before next request...\n"
     ]
    },
    {
     "name": "stderr",
     "output_type": "stream",
     "text": [
      "Processing answers:  40%|███████████████████████▍                                   | 119/300 [30:38<43:44, 14.50s/row]"
     ]
    },
    {
     "name": "stdout",
     "output_type": "stream",
     "text": [
      "\n",
      "Waiting 10 seconds before next request...\n"
     ]
    },
    {
     "name": "stderr",
     "output_type": "stream",
     "text": [
      "Processing answers:  40%|███████████████████████▌                                   | 120/300 [30:52<43:19, 14.44s/row]"
     ]
    },
    {
     "name": "stdout",
     "output_type": "stream",
     "text": [
      "\n",
      "Waiting 10 seconds before next request...\n"
     ]
    },
    {
     "name": "stderr",
     "output_type": "stream",
     "text": [
      "Processing answers:  40%|███████████████████████▊                                   | 121/300 [31:06<42:36, 14.28s/row]"
     ]
    },
    {
     "name": "stdout",
     "output_type": "stream",
     "text": [
      "\n",
      "Waiting 10 seconds before next request...\n"
     ]
    },
    {
     "name": "stderr",
     "output_type": "stream",
     "text": [
      "Processing answers:  41%|███████████████████████▉                                   | 122/300 [31:21<42:57, 14.48s/row]"
     ]
    },
    {
     "name": "stdout",
     "output_type": "stream",
     "text": [
      "\n",
      "Waiting 10 seconds before next request...\n"
     ]
    },
    {
     "name": "stderr",
     "output_type": "stream",
     "text": [
      "Processing answers:  41%|████████████████████████▏                                  | 123/300 [31:35<42:37, 14.45s/row]"
     ]
    },
    {
     "name": "stdout",
     "output_type": "stream",
     "text": [
      "\n",
      "Waiting 10 seconds before next request...\n"
     ]
    },
    {
     "name": "stderr",
     "output_type": "stream",
     "text": [
      "Processing answers:  41%|████████████████████████▍                                  | 124/300 [31:50<42:45, 14.58s/row]"
     ]
    },
    {
     "name": "stdout",
     "output_type": "stream",
     "text": [
      "\n",
      "Waiting 10 seconds before next request...\n"
     ]
    },
    {
     "name": "stderr",
     "output_type": "stream",
     "text": [
      "Processing answers:  42%|████████████████████████▌                                  | 125/300 [32:05<43:03, 14.76s/row]"
     ]
    },
    {
     "name": "stdout",
     "output_type": "stream",
     "text": [
      "\n",
      "Waiting 10 seconds before next request...\n"
     ]
    },
    {
     "name": "stderr",
     "output_type": "stream",
     "text": [
      "Processing answers:  42%|████████████████████████▊                                  | 126/300 [32:19<42:00, 14.49s/row]"
     ]
    },
    {
     "name": "stdout",
     "output_type": "stream",
     "text": [
      "\n",
      "Waiting 10 seconds before next request...\n"
     ]
    },
    {
     "name": "stderr",
     "output_type": "stream",
     "text": [
      "Processing answers:  42%|████████████████████████▉                                  | 127/300 [32:33<41:33, 14.41s/row]"
     ]
    },
    {
     "name": "stdout",
     "output_type": "stream",
     "text": [
      "\n",
      "Waiting 10 seconds before next request...\n"
     ]
    },
    {
     "name": "stderr",
     "output_type": "stream",
     "text": [
      "Processing answers:  43%|█████████████████████████▏                                 | 128/300 [32:47<40:55, 14.28s/row]"
     ]
    },
    {
     "name": "stdout",
     "output_type": "stream",
     "text": [
      "\n",
      "Waiting 10 seconds before next request...\n"
     ]
    },
    {
     "name": "stderr",
     "output_type": "stream",
     "text": [
      "Processing answers:  43%|█████████████████████████▎                                 | 129/300 [33:02<40:43, 14.29s/row]"
     ]
    },
    {
     "name": "stdout",
     "output_type": "stream",
     "text": [
      "\n",
      "Waiting 10 seconds before next request...\n"
     ]
    },
    {
     "name": "stderr",
     "output_type": "stream",
     "text": [
      "Processing answers:  43%|█████████████████████████▌                                 | 130/300 [33:16<40:16, 14.22s/row]"
     ]
    },
    {
     "name": "stdout",
     "output_type": "stream",
     "text": [
      "\n",
      "Waiting 10 seconds before next request...\n"
     ]
    },
    {
     "name": "stderr",
     "output_type": "stream",
     "text": [
      "Processing answers:  44%|█████████████████████████▊                                 | 131/300 [33:30<39:55, 14.17s/row]"
     ]
    },
    {
     "name": "stdout",
     "output_type": "stream",
     "text": [
      "\n",
      "Waiting 10 seconds before next request...\n"
     ]
    },
    {
     "name": "stderr",
     "output_type": "stream",
     "text": [
      "Processing answers:  44%|█████████████████████████▉                                 | 132/300 [33:44<39:28, 14.10s/row]"
     ]
    },
    {
     "name": "stdout",
     "output_type": "stream",
     "text": [
      "\n",
      "Waiting 10 seconds before next request...\n"
     ]
    },
    {
     "name": "stderr",
     "output_type": "stream",
     "text": [
      "Processing answers:  44%|██████████████████████████▏                                | 133/300 [33:58<39:07, 14.05s/row]"
     ]
    },
    {
     "name": "stdout",
     "output_type": "stream",
     "text": [
      "\n",
      "Waiting 10 seconds before next request...\n"
     ]
    },
    {
     "name": "stderr",
     "output_type": "stream",
     "text": [
      "Processing answers:  45%|██████████████████████████▎                                | 134/300 [34:12<38:54, 14.06s/row]"
     ]
    },
    {
     "name": "stdout",
     "output_type": "stream",
     "text": [
      "\n",
      "Waiting 10 seconds before next request...\n"
     ]
    },
    {
     "name": "stderr",
     "output_type": "stream",
     "text": [
      "Processing answers:  45%|██████████████████████████▌                                | 135/300 [34:27<39:31, 14.37s/row]"
     ]
    },
    {
     "name": "stdout",
     "output_type": "stream",
     "text": [
      "\n",
      "Waiting 10 seconds before next request...\n"
     ]
    },
    {
     "name": "stderr",
     "output_type": "stream",
     "text": [
      "Processing answers:  45%|██████████████████████████▋                                | 136/300 [34:41<38:51, 14.21s/row]"
     ]
    },
    {
     "name": "stdout",
     "output_type": "stream",
     "text": [
      "\n",
      "Waiting 10 seconds before next request...\n"
     ]
    },
    {
     "name": "stderr",
     "output_type": "stream",
     "text": [
      "Processing answers:  46%|██████████████████████████▉                                | 137/300 [34:55<38:22, 14.12s/row]"
     ]
    },
    {
     "name": "stdout",
     "output_type": "stream",
     "text": [
      "\n",
      "Waiting 10 seconds before next request...\n"
     ]
    },
    {
     "name": "stderr",
     "output_type": "stream",
     "text": [
      "Processing answers:  46%|███████████████████████████▏                               | 138/300 [35:09<37:53, 14.04s/row]"
     ]
    },
    {
     "name": "stdout",
     "output_type": "stream",
     "text": [
      "\n",
      "Waiting 10 seconds before next request...\n"
     ]
    },
    {
     "name": "stderr",
     "output_type": "stream",
     "text": [
      "Processing answers:  46%|███████████████████████████▎                               | 139/300 [35:23<37:48, 14.09s/row]"
     ]
    },
    {
     "name": "stdout",
     "output_type": "stream",
     "text": [
      "\n",
      "Waiting 10 seconds before next request...\n"
     ]
    },
    {
     "name": "stderr",
     "output_type": "stream",
     "text": [
      "Processing answers:  47%|███████████████████████████▌                               | 140/300 [35:37<37:27, 14.05s/row]"
     ]
    },
    {
     "name": "stdout",
     "output_type": "stream",
     "text": [
      "\n",
      "Waiting 10 seconds before next request...\n"
     ]
    },
    {
     "name": "stderr",
     "output_type": "stream",
     "text": [
      "Processing answers:  47%|███████████████████████████▋                               | 141/300 [35:50<36:56, 13.94s/row]"
     ]
    },
    {
     "name": "stdout",
     "output_type": "stream",
     "text": [
      "\n",
      "Waiting 10 seconds before next request...\n"
     ]
    },
    {
     "name": "stderr",
     "output_type": "stream",
     "text": [
      "Processing answers:  47%|███████████████████████████▉                               | 142/300 [36:04<36:37, 13.91s/row]"
     ]
    },
    {
     "name": "stdout",
     "output_type": "stream",
     "text": [
      "\n",
      "Waiting 10 seconds before next request...\n"
     ]
    },
    {
     "name": "stderr",
     "output_type": "stream",
     "text": [
      "Processing answers:  48%|████████████████████████████                               | 143/300 [36:18<36:24, 13.91s/row]"
     ]
    },
    {
     "name": "stdout",
     "output_type": "stream",
     "text": [
      "\n",
      "Waiting 10 seconds before next request...\n"
     ]
    },
    {
     "name": "stderr",
     "output_type": "stream",
     "text": [
      "Processing answers:  48%|████████████████████████████▎                              | 144/300 [36:33<36:51, 14.18s/row]"
     ]
    },
    {
     "name": "stdout",
     "output_type": "stream",
     "text": [
      "\n",
      "Waiting 10 seconds before next request...\n"
     ]
    },
    {
     "name": "stderr",
     "output_type": "stream",
     "text": [
      "Processing answers:  48%|████████████████████████████▌                              | 145/300 [36:47<36:33, 14.15s/row]"
     ]
    },
    {
     "name": "stdout",
     "output_type": "stream",
     "text": [
      "\n",
      "Waiting 10 seconds before next request...\n"
     ]
    },
    {
     "name": "stderr",
     "output_type": "stream",
     "text": [
      "Processing answers:  49%|████████████████████████████▋                              | 146/300 [37:01<36:06, 14.07s/row]"
     ]
    },
    {
     "name": "stdout",
     "output_type": "stream",
     "text": [
      "\n",
      "Waiting 10 seconds before next request...\n"
     ]
    },
    {
     "name": "stderr",
     "output_type": "stream",
     "text": [
      "Processing answers:  49%|████████████████████████████▉                              | 147/300 [37:15<35:40, 13.99s/row]"
     ]
    },
    {
     "name": "stdout",
     "output_type": "stream",
     "text": [
      "\n",
      "Waiting 10 seconds before next request...\n"
     ]
    },
    {
     "name": "stderr",
     "output_type": "stream",
     "text": [
      "Processing answers:  49%|█████████████████████████████                              | 148/300 [37:29<35:44, 14.11s/row]"
     ]
    },
    {
     "name": "stdout",
     "output_type": "stream",
     "text": [
      "\n",
      "Waiting 10 seconds before next request...\n"
     ]
    },
    {
     "name": "stderr",
     "output_type": "stream",
     "text": [
      "Processing answers:  50%|█████████████████████████████▎                             | 149/300 [37:43<35:41, 14.18s/row]"
     ]
    },
    {
     "name": "stdout",
     "output_type": "stream",
     "text": [
      "\n",
      "Waiting 10 seconds before next request...\n"
     ]
    },
    {
     "name": "stderr",
     "output_type": "stream",
     "text": [
      "Processing answers:  50%|█████████████████████████████▌                             | 150/300 [37:58<35:26, 14.18s/row]"
     ]
    },
    {
     "name": "stdout",
     "output_type": "stream",
     "text": [
      "\n",
      "Waiting 10 seconds before next request...\n"
     ]
    },
    {
     "name": "stderr",
     "output_type": "stream",
     "text": [
      "Processing answers:  50%|█████████████████████████████▋                             | 151/300 [38:11<34:50, 14.03s/row]"
     ]
    },
    {
     "name": "stdout",
     "output_type": "stream",
     "text": [
      "\n",
      "Waiting 10 seconds before next request...\n"
     ]
    },
    {
     "name": "stderr",
     "output_type": "stream",
     "text": [
      "Processing answers:  51%|█████████████████████████████▉                             | 152/300 [38:25<34:30, 13.99s/row]"
     ]
    },
    {
     "name": "stdout",
     "output_type": "stream",
     "text": [
      "\n",
      "Waiting 10 seconds before next request...\n"
     ]
    },
    {
     "name": "stderr",
     "output_type": "stream",
     "text": [
      "Processing answers:  51%|██████████████████████████████                             | 153/300 [38:39<34:03, 13.90s/row]"
     ]
    },
    {
     "name": "stdout",
     "output_type": "stream",
     "text": [
      "\n",
      "Waiting 10 seconds before next request...\n"
     ]
    },
    {
     "name": "stderr",
     "output_type": "stream",
     "text": [
      "Processing answers:  51%|██████████████████████████████▎                            | 154/300 [38:53<33:41, 13.85s/row]"
     ]
    },
    {
     "name": "stdout",
     "output_type": "stream",
     "text": [
      "\n",
      "Waiting 10 seconds before next request...\n"
     ]
    },
    {
     "name": "stderr",
     "output_type": "stream",
     "text": [
      "Processing answers:  52%|██████████████████████████████▍                            | 155/300 [39:07<33:59, 14.07s/row]"
     ]
    },
    {
     "name": "stdout",
     "output_type": "stream",
     "text": [
      "\n",
      "Waiting 10 seconds before next request...\n"
     ]
    },
    {
     "name": "stderr",
     "output_type": "stream",
     "text": [
      "Processing answers:  52%|██████████████████████████████▋                            | 156/300 [39:22<34:15, 14.28s/row]"
     ]
    },
    {
     "name": "stdout",
     "output_type": "stream",
     "text": [
      "\n",
      "Waiting 10 seconds before next request...\n"
     ]
    },
    {
     "name": "stderr",
     "output_type": "stream",
     "text": [
      "Processing answers:  52%|██████████████████████████████▉                            | 157/300 [39:37<34:29, 14.48s/row]"
     ]
    },
    {
     "name": "stdout",
     "output_type": "stream",
     "text": [
      "\n",
      "Waiting 10 seconds before next request...\n"
     ]
    },
    {
     "name": "stderr",
     "output_type": "stream",
     "text": [
      "Processing answers:  53%|███████████████████████████████                            | 158/300 [39:51<33:47, 14.28s/row]"
     ]
    },
    {
     "name": "stdout",
     "output_type": "stream",
     "text": [
      "\n",
      "Waiting 10 seconds before next request...\n"
     ]
    },
    {
     "name": "stderr",
     "output_type": "stream",
     "text": [
      "Processing answers:  53%|███████████████████████████████▎                           | 159/300 [40:05<33:15, 14.15s/row]"
     ]
    },
    {
     "name": "stdout",
     "output_type": "stream",
     "text": [
      "\n",
      "Waiting 10 seconds before next request...\n"
     ]
    },
    {
     "name": "stderr",
     "output_type": "stream",
     "text": [
      "Processing answers:  53%|███████████████████████████████▍                           | 160/300 [40:19<33:12, 14.23s/row]"
     ]
    },
    {
     "name": "stdout",
     "output_type": "stream",
     "text": [
      "\n",
      "Waiting 10 seconds before next request...\n"
     ]
    },
    {
     "name": "stderr",
     "output_type": "stream",
     "text": [
      "Processing answers:  54%|███████████████████████████████▋                           | 161/300 [40:33<32:36, 14.08s/row]"
     ]
    },
    {
     "name": "stdout",
     "output_type": "stream",
     "text": [
      "\n",
      "Waiting 10 seconds before next request...\n"
     ]
    },
    {
     "name": "stderr",
     "output_type": "stream",
     "text": [
      "Processing answers:  54%|███████████████████████████████▊                           | 162/300 [40:46<32:05, 13.95s/row]"
     ]
    },
    {
     "name": "stdout",
     "output_type": "stream",
     "text": [
      "\n",
      "Waiting 10 seconds before next request...\n"
     ]
    },
    {
     "name": "stderr",
     "output_type": "stream",
     "text": [
      "Processing answers:  54%|████████████████████████████████                           | 163/300 [41:00<31:41, 13.88s/row]"
     ]
    },
    {
     "name": "stdout",
     "output_type": "stream",
     "text": [
      "\n",
      "Waiting 10 seconds before next request...\n"
     ]
    },
    {
     "name": "stderr",
     "output_type": "stream",
     "text": [
      "Processing answers:  55%|████████████████████████████████▎                          | 164/300 [41:14<31:20, 13.83s/row]"
     ]
    },
    {
     "name": "stdout",
     "output_type": "stream",
     "text": [
      "\n",
      "Waiting 10 seconds before next request...\n"
     ]
    },
    {
     "name": "stderr",
     "output_type": "stream",
     "text": [
      "Processing answers:  55%|████████████████████████████████▍                          | 165/300 [41:28<31:17, 13.90s/row]"
     ]
    },
    {
     "name": "stdout",
     "output_type": "stream",
     "text": [
      "\n",
      "Waiting 10 seconds before next request...\n"
     ]
    },
    {
     "name": "stderr",
     "output_type": "stream",
     "text": [
      "Processing answers:  55%|████████████████████████████████▋                          | 166/300 [41:42<30:56, 13.86s/row]"
     ]
    },
    {
     "name": "stdout",
     "output_type": "stream",
     "text": [
      "\n",
      "Waiting 10 seconds before next request...\n"
     ]
    },
    {
     "name": "stderr",
     "output_type": "stream",
     "text": [
      "Processing answers:  56%|████████████████████████████████▊                          | 167/300 [41:55<30:42, 13.86s/row]"
     ]
    },
    {
     "name": "stdout",
     "output_type": "stream",
     "text": [
      "\n",
      "Waiting 10 seconds before next request...\n"
     ]
    },
    {
     "name": "stderr",
     "output_type": "stream",
     "text": [
      "Processing answers:  56%|█████████████████████████████████                          | 168/300 [42:09<30:35, 13.90s/row]"
     ]
    },
    {
     "name": "stdout",
     "output_type": "stream",
     "text": [
      "\n",
      "Waiting 10 seconds before next request...\n"
     ]
    },
    {
     "name": "stderr",
     "output_type": "stream",
     "text": [
      "Processing answers:  56%|█████████████████████████████████▏                         | 169/300 [42:23<30:22, 13.91s/row]"
     ]
    },
    {
     "name": "stdout",
     "output_type": "stream",
     "text": [
      "\n",
      "Waiting 10 seconds before next request...\n"
     ]
    },
    {
     "name": "stderr",
     "output_type": "stream",
     "text": [
      "Processing answers:  57%|█████████████████████████████████▍                         | 170/300 [42:43<34:01, 15.70s/row]"
     ]
    },
    {
     "name": "stdout",
     "output_type": "stream",
     "text": [
      "\n",
      "Waiting 10 seconds before next request...\n"
     ]
    },
    {
     "name": "stderr",
     "output_type": "stream",
     "text": [
      "Processing answers:  57%|█████████████████████████████████▋                         | 171/300 [42:57<32:29, 15.12s/row]"
     ]
    },
    {
     "name": "stdout",
     "output_type": "stream",
     "text": [
      "\n",
      "Waiting 10 seconds before next request...\n"
     ]
    },
    {
     "name": "stderr",
     "output_type": "stream",
     "text": [
      "Processing answers:  57%|█████████████████████████████████▊                         | 172/300 [43:11<31:27, 14.75s/row]"
     ]
    },
    {
     "name": "stdout",
     "output_type": "stream",
     "text": [
      "\n",
      "Waiting 10 seconds before next request...\n"
     ]
    },
    {
     "name": "stderr",
     "output_type": "stream",
     "text": [
      "Processing answers:  58%|██████████████████████████████████                         | 173/300 [43:25<30:52, 14.58s/row]"
     ]
    },
    {
     "name": "stdout",
     "output_type": "stream",
     "text": [
      "\n",
      "Waiting 10 seconds before next request...\n"
     ]
    },
    {
     "name": "stderr",
     "output_type": "stream",
     "text": [
      "Processing answers:  58%|██████████████████████████████████▏                        | 174/300 [43:39<30:06, 14.34s/row]"
     ]
    },
    {
     "name": "stdout",
     "output_type": "stream",
     "text": [
      "\n",
      "Waiting 10 seconds before next request...\n"
     ]
    },
    {
     "name": "stderr",
     "output_type": "stream",
     "text": [
      "Processing answers:  58%|██████████████████████████████████▍                        | 175/300 [43:53<29:54, 14.35s/row]"
     ]
    },
    {
     "name": "stdout",
     "output_type": "stream",
     "text": [
      "\n",
      "Waiting 10 seconds before next request...\n"
     ]
    },
    {
     "name": "stderr",
     "output_type": "stream",
     "text": [
      "Processing answers:  59%|██████████████████████████████████▌                        | 176/300 [44:09<30:26, 14.73s/row]"
     ]
    },
    {
     "name": "stdout",
     "output_type": "stream",
     "text": [
      "\n",
      "Waiting 10 seconds before next request...\n"
     ]
    },
    {
     "name": "stderr",
     "output_type": "stream",
     "text": [
      "Processing answers:  59%|██████████████████████████████████▊                        | 177/300 [44:27<31:59, 15.60s/row]"
     ]
    },
    {
     "name": "stdout",
     "output_type": "stream",
     "text": [
      "\n",
      "Waiting 10 seconds before next request...\n"
     ]
    },
    {
     "name": "stderr",
     "output_type": "stream",
     "text": [
      "Processing answers:  59%|███████████████████████████████████                        | 178/300 [44:40<30:34, 15.04s/row]"
     ]
    },
    {
     "name": "stdout",
     "output_type": "stream",
     "text": [
      "\n",
      "Waiting 10 seconds before next request...\n"
     ]
    },
    {
     "name": "stderr",
     "output_type": "stream",
     "text": [
      "Processing answers:  60%|███████████████████████████████████▏                       | 179/300 [44:54<29:44, 14.75s/row]"
     ]
    },
    {
     "name": "stdout",
     "output_type": "stream",
     "text": [
      "\n",
      "Waiting 10 seconds before next request...\n"
     ]
    },
    {
     "name": "stderr",
     "output_type": "stream",
     "text": [
      "Processing answers:  60%|███████████████████████████████████▍                       | 180/300 [45:08<28:56, 14.47s/row]"
     ]
    },
    {
     "name": "stdout",
     "output_type": "stream",
     "text": [
      "\n",
      "Waiting 10 seconds before next request...\n"
     ]
    },
    {
     "name": "stderr",
     "output_type": "stream",
     "text": [
      "Processing answers:  60%|███████████████████████████████████▌                       | 181/300 [45:22<28:37, 14.43s/row]"
     ]
    },
    {
     "name": "stdout",
     "output_type": "stream",
     "text": [
      "\n",
      "Waiting 10 seconds before next request...\n"
     ]
    },
    {
     "name": "stderr",
     "output_type": "stream",
     "text": [
      "Processing answers:  61%|███████████████████████████████████▊                       | 182/300 [45:40<29:56, 15.22s/row]"
     ]
    },
    {
     "name": "stdout",
     "output_type": "stream",
     "text": [
      "\n",
      "Waiting 10 seconds before next request...\n"
     ]
    },
    {
     "name": "stderr",
     "output_type": "stream",
     "text": [
      "Processing answers:  61%|███████████████████████████████████▉                       | 183/300 [45:54<29:16, 15.01s/row]"
     ]
    },
    {
     "name": "stdout",
     "output_type": "stream",
     "text": [
      "\n",
      "Waiting 10 seconds before next request...\n"
     ]
    },
    {
     "name": "stderr",
     "output_type": "stream",
     "text": [
      "Processing answers:  61%|████████████████████████████████████▏                      | 184/300 [46:08<28:19, 14.65s/row]"
     ]
    },
    {
     "name": "stdout",
     "output_type": "stream",
     "text": [
      "\n",
      "Waiting 10 seconds before next request...\n"
     ]
    },
    {
     "name": "stderr",
     "output_type": "stream",
     "text": [
      "Processing answers:  62%|████████████████████████████████████▍                      | 185/300 [46:22<27:34, 14.39s/row]"
     ]
    },
    {
     "name": "stdout",
     "output_type": "stream",
     "text": [
      "\n",
      "Waiting 10 seconds before next request...\n"
     ]
    },
    {
     "name": "stderr",
     "output_type": "stream",
     "text": [
      "Processing answers:  62%|████████████████████████████████████▌                      | 186/300 [46:36<27:04, 14.25s/row]"
     ]
    },
    {
     "name": "stdout",
     "output_type": "stream",
     "text": [
      "\n",
      "Waiting 10 seconds before next request...\n"
     ]
    },
    {
     "name": "stderr",
     "output_type": "stream",
     "text": [
      "Processing answers:  62%|████████████████████████████████████▊                      | 187/300 [46:49<26:28, 14.05s/row]"
     ]
    },
    {
     "name": "stdout",
     "output_type": "stream",
     "text": [
      "\n",
      "Waiting 10 seconds before next request...\n"
     ]
    },
    {
     "name": "stderr",
     "output_type": "stream",
     "text": [
      "Processing answers:  63%|████████████████████████████████████▉                      | 188/300 [47:03<26:13, 14.05s/row]"
     ]
    },
    {
     "name": "stdout",
     "output_type": "stream",
     "text": [
      "\n",
      "Waiting 10 seconds before next request...\n"
     ]
    },
    {
     "name": "stderr",
     "output_type": "stream",
     "text": [
      "Processing answers:  63%|█████████████████████████████████████▏                     | 189/300 [47:17<25:50, 13.97s/row]"
     ]
    },
    {
     "name": "stdout",
     "output_type": "stream",
     "text": [
      "\n",
      "Waiting 10 seconds before next request...\n"
     ]
    },
    {
     "name": "stderr",
     "output_type": "stream",
     "text": [
      "Processing answers:  63%|█████████████████████████████████████▎                     | 190/300 [47:32<26:05, 14.23s/row]"
     ]
    },
    {
     "name": "stdout",
     "output_type": "stream",
     "text": [
      "\n",
      "Waiting 10 seconds before next request...\n"
     ]
    },
    {
     "name": "stderr",
     "output_type": "stream",
     "text": [
      "Processing answers:  64%|█████████████████████████████████████▌                     | 191/300 [47:47<26:22, 14.52s/row]"
     ]
    },
    {
     "name": "stdout",
     "output_type": "stream",
     "text": [
      "\n",
      "Waiting 10 seconds before next request...\n"
     ]
    },
    {
     "name": "stderr",
     "output_type": "stream",
     "text": [
      "Processing answers:  64%|█████████████████████████████████████▊                     | 192/300 [48:01<25:41, 14.28s/row]"
     ]
    },
    {
     "name": "stdout",
     "output_type": "stream",
     "text": [
      "\n",
      "Waiting 10 seconds before next request...\n"
     ]
    },
    {
     "name": "stderr",
     "output_type": "stream",
     "text": [
      "Processing answers:  64%|█████████████████████████████████████▉                     | 193/300 [48:15<25:12, 14.14s/row]"
     ]
    },
    {
     "name": "stdout",
     "output_type": "stream",
     "text": [
      "\n",
      "Waiting 10 seconds before next request...\n"
     ]
    },
    {
     "name": "stderr",
     "output_type": "stream",
     "text": [
      "Processing answers:  65%|██████████████████████████████████████▏                    | 194/300 [48:30<25:47, 14.60s/row]"
     ]
    },
    {
     "name": "stdout",
     "output_type": "stream",
     "text": [
      "\n",
      "Waiting 10 seconds before next request...\n"
     ]
    },
    {
     "name": "stderr",
     "output_type": "stream",
     "text": [
      "Processing answers:  65%|██████████████████████████████████████▎                    | 195/300 [48:44<25:22, 14.50s/row]"
     ]
    },
    {
     "name": "stdout",
     "output_type": "stream",
     "text": [
      "\n",
      "Waiting 10 seconds before next request...\n"
     ]
    },
    {
     "name": "stderr",
     "output_type": "stream",
     "text": [
      "Processing answers:  65%|██████████████████████████████████████▌                    | 196/300 [49:00<25:51, 14.92s/row]"
     ]
    },
    {
     "name": "stdout",
     "output_type": "stream",
     "text": [
      "\n",
      "Waiting 10 seconds before next request...\n"
     ]
    },
    {
     "name": "stderr",
     "output_type": "stream",
     "text": [
      "Processing answers:  66%|██████████████████████████████████████▋                    | 197/300 [49:15<25:12, 14.68s/row]"
     ]
    },
    {
     "name": "stdout",
     "output_type": "stream",
     "text": [
      "\n",
      "Waiting 10 seconds before next request...\n"
     ]
    },
    {
     "name": "stderr",
     "output_type": "stream",
     "text": [
      "Processing answers:  66%|██████████████████████████████████████▉                    | 198/300 [49:36<28:30, 16.77s/row]"
     ]
    },
    {
     "name": "stdout",
     "output_type": "stream",
     "text": [
      "\n",
      "Waiting 10 seconds before next request...\n"
     ]
    },
    {
     "name": "stderr",
     "output_type": "stream",
     "text": [
      "Processing answers:  66%|███████████████████████████████████████▏                   | 199/300 [49:50<26:43, 15.87s/row]"
     ]
    },
    {
     "name": "stdout",
     "output_type": "stream",
     "text": [
      "\n",
      "Made 20 requests. Pausing for 80 seconds...\n"
     ]
    },
    {
     "name": "stderr",
     "output_type": "stream",
     "text": [
      "Processing answers:  67%|███████████████████████████████████████▎                   | 200/300 [51:11<59:09, 35.49s/row]"
     ]
    },
    {
     "name": "stdout",
     "output_type": "stream",
     "text": [
      "\n",
      "Waiting 10 seconds before next request...\n"
     ]
    },
    {
     "name": "stderr",
     "output_type": "stream",
     "text": [
      "Processing answers:  67%|███████████████████████████████████████▌                   | 201/300 [51:26<48:08, 29.18s/row]"
     ]
    },
    {
     "name": "stdout",
     "output_type": "stream",
     "text": [
      "\n",
      "Waiting 10 seconds before next request...\n"
     ]
    },
    {
     "name": "stderr",
     "output_type": "stream",
     "text": [
      "Processing answers:  67%|███████████████████████████████████████▋                   | 202/300 [51:39<40:08, 24.58s/row]"
     ]
    },
    {
     "name": "stdout",
     "output_type": "stream",
     "text": [
      "\n",
      "Waiting 10 seconds before next request...\n"
     ]
    },
    {
     "name": "stderr",
     "output_type": "stream",
     "text": [
      "Processing answers:  68%|███████████████████████████████████████▉                   | 203/300 [51:56<35:43, 22.10s/row]"
     ]
    },
    {
     "name": "stdout",
     "output_type": "stream",
     "text": [
      "\n",
      "Waiting 10 seconds before next request...\n"
     ]
    },
    {
     "name": "stderr",
     "output_type": "stream",
     "text": [
      "Processing answers:  68%|████████████████████████████████████████                   | 204/300 [52:10<31:24, 19.63s/row]"
     ]
    },
    {
     "name": "stdout",
     "output_type": "stream",
     "text": [
      "\n",
      "Waiting 10 seconds before next request...\n"
     ]
    },
    {
     "name": "stderr",
     "output_type": "stream",
     "text": [
      "Processing answers:  68%|████████████████████████████████████████▎                  | 205/300 [52:24<28:26, 17.96s/row]"
     ]
    },
    {
     "name": "stdout",
     "output_type": "stream",
     "text": [
      "\n",
      "Waiting 10 seconds before next request...\n"
     ]
    },
    {
     "name": "stderr",
     "output_type": "stream",
     "text": [
      "Processing answers:  69%|████████████████████████████████████████▌                  | 206/300 [52:38<26:18, 16.79s/row]"
     ]
    },
    {
     "name": "stdout",
     "output_type": "stream",
     "text": [
      "\n",
      "Waiting 10 seconds before next request...\n"
     ]
    },
    {
     "name": "stderr",
     "output_type": "stream",
     "text": [
      "Processing answers:  69%|████████████████████████████████████████▋                  | 207/300 [52:52<24:46, 15.98s/row]"
     ]
    },
    {
     "name": "stdout",
     "output_type": "stream",
     "text": [
      "\n",
      "Waiting 10 seconds before next request...\n"
     ]
    },
    {
     "name": "stderr",
     "output_type": "stream",
     "text": [
      "Processing answers:  69%|████████████████████████████████████████▉                  | 208/300 [53:06<23:43, 15.48s/row]"
     ]
    },
    {
     "name": "stdout",
     "output_type": "stream",
     "text": [
      "\n",
      "Waiting 10 seconds before next request...\n"
     ]
    },
    {
     "name": "stderr",
     "output_type": "stream",
     "text": [
      "Processing answers:  70%|█████████████████████████████████████████                  | 209/300 [53:21<23:02, 15.19s/row]"
     ]
    },
    {
     "name": "stdout",
     "output_type": "stream",
     "text": [
      "\n",
      "Waiting 10 seconds before next request...\n"
     ]
    },
    {
     "name": "stderr",
     "output_type": "stream",
     "text": [
      "Processing answers:  70%|█████████████████████████████████████████▎                 | 210/300 [53:37<23:28, 15.65s/row]"
     ]
    },
    {
     "name": "stdout",
     "output_type": "stream",
     "text": [
      "\n",
      "Waiting 10 seconds before next request...\n"
     ]
    },
    {
     "name": "stderr",
     "output_type": "stream",
     "text": [
      "Processing answers:  70%|█████████████████████████████████████████▍                 | 211/300 [53:51<22:29, 15.16s/row]"
     ]
    },
    {
     "name": "stdout",
     "output_type": "stream",
     "text": [
      "\n",
      "Waiting 10 seconds before next request...\n"
     ]
    },
    {
     "name": "stderr",
     "output_type": "stream",
     "text": [
      "Processing answers:  71%|█████████████████████████████████████████▋                 | 212/300 [54:06<22:00, 15.01s/row]"
     ]
    },
    {
     "name": "stdout",
     "output_type": "stream",
     "text": [
      "\n",
      "Waiting 10 seconds before next request...\n"
     ]
    },
    {
     "name": "stderr",
     "output_type": "stream",
     "text": [
      "Processing answers:  71%|█████████████████████████████████████████▉                 | 213/300 [54:21<21:33, 14.86s/row]"
     ]
    },
    {
     "name": "stdout",
     "output_type": "stream",
     "text": [
      "\n",
      "Waiting 10 seconds before next request...\n"
     ]
    },
    {
     "name": "stderr",
     "output_type": "stream",
     "text": [
      "Processing answers:  71%|██████████████████████████████████████████                 | 214/300 [54:37<22:06, 15.42s/row]"
     ]
    },
    {
     "name": "stdout",
     "output_type": "stream",
     "text": [
      "\n",
      "Waiting 10 seconds before next request...\n"
     ]
    },
    {
     "name": "stderr",
     "output_type": "stream",
     "text": [
      "Processing answers:  72%|██████████████████████████████████████████▎                | 215/300 [54:53<22:03, 15.57s/row]"
     ]
    },
    {
     "name": "stdout",
     "output_type": "stream",
     "text": [
      "\n",
      "Waiting 10 seconds before next request...\n"
     ]
    },
    {
     "name": "stderr",
     "output_type": "stream",
     "text": [
      "Processing answers:  72%|██████████████████████████████████████████▍                | 216/300 [55:08<21:29, 15.35s/row]"
     ]
    },
    {
     "name": "stdout",
     "output_type": "stream",
     "text": [
      "\n",
      "Waiting 10 seconds before next request...\n"
     ]
    },
    {
     "name": "stderr",
     "output_type": "stream",
     "text": [
      "Processing answers:  72%|██████████████████████████████████████████▋                | 217/300 [55:24<21:15, 15.37s/row]"
     ]
    },
    {
     "name": "stdout",
     "output_type": "stream",
     "text": [
      "\n",
      "Waiting 10 seconds before next request...\n"
     ]
    },
    {
     "name": "stderr",
     "output_type": "stream",
     "text": [
      "Processing answers:  73%|██████████████████████████████████████████▊                | 218/300 [55:40<21:17, 15.58s/row]"
     ]
    },
    {
     "name": "stdout",
     "output_type": "stream",
     "text": [
      "\n",
      "Waiting 10 seconds before next request...\n"
     ]
    },
    {
     "name": "stderr",
     "output_type": "stream",
     "text": [
      "Processing answers:  73%|███████████████████████████████████████████                | 219/300 [55:55<21:04, 15.61s/row]"
     ]
    },
    {
     "name": "stdout",
     "output_type": "stream",
     "text": [
      "\n",
      "Waiting 10 seconds before next request...\n"
     ]
    },
    {
     "name": "stderr",
     "output_type": "stream",
     "text": [
      "Processing answers:  73%|███████████████████████████████████████████▎               | 220/300 [56:10<20:30, 15.39s/row]"
     ]
    },
    {
     "name": "stdout",
     "output_type": "stream",
     "text": [
      "\n",
      "Waiting 10 seconds before next request...\n"
     ]
    },
    {
     "name": "stderr",
     "output_type": "stream",
     "text": [
      "Processing answers:  74%|███████████████████████████████████████████▍               | 221/300 [56:24<19:37, 14.91s/row]"
     ]
    },
    {
     "name": "stdout",
     "output_type": "stream",
     "text": [
      "\n",
      "Waiting 10 seconds before next request...\n"
     ]
    },
    {
     "name": "stderr",
     "output_type": "stream",
     "text": [
      "Processing answers:  74%|███████████████████████████████████████████▋               | 222/300 [56:38<18:57, 14.58s/row]"
     ]
    },
    {
     "name": "stdout",
     "output_type": "stream",
     "text": [
      "\n",
      "Waiting 10 seconds before next request...\n"
     ]
    },
    {
     "name": "stderr",
     "output_type": "stream",
     "text": [
      "Processing answers:  74%|███████████████████████████████████████████▊               | 223/300 [56:51<18:21, 14.31s/row]"
     ]
    },
    {
     "name": "stdout",
     "output_type": "stream",
     "text": [
      "\n",
      "Waiting 10 seconds before next request...\n"
     ]
    },
    {
     "name": "stderr",
     "output_type": "stream",
     "text": [
      "Processing answers:  75%|████████████████████████████████████████████               | 224/300 [57:06<18:17, 14.44s/row]"
     ]
    },
    {
     "name": "stdout",
     "output_type": "stream",
     "text": [
      "\n",
      "Waiting 10 seconds before next request...\n"
     ]
    },
    {
     "name": "stderr",
     "output_type": "stream",
     "text": [
      "Processing answers:  75%|████████████████████████████████████████████▎              | 225/300 [57:26<20:08, 16.11s/row]"
     ]
    },
    {
     "name": "stdout",
     "output_type": "stream",
     "text": [
      "\n",
      "Waiting 10 seconds before next request...\n"
     ]
    },
    {
     "name": "stderr",
     "output_type": "stream",
     "text": [
      "Processing answers:  75%|████████████████████████████████████████████▍              | 226/300 [57:40<19:01, 15.42s/row]"
     ]
    },
    {
     "name": "stdout",
     "output_type": "stream",
     "text": [
      "\n",
      "Waiting 10 seconds before next request...\n"
     ]
    },
    {
     "name": "stderr",
     "output_type": "stream",
     "text": [
      "Processing answers:  76%|████████████████████████████████████████████▋              | 227/300 [57:54<18:20, 15.07s/row]"
     ]
    },
    {
     "name": "stdout",
     "output_type": "stream",
     "text": [
      "\n",
      "Waiting 10 seconds before next request...\n"
     ]
    },
    {
     "name": "stderr",
     "output_type": "stream",
     "text": [
      "Processing answers:  76%|████████████████████████████████████████████▊              | 228/300 [58:11<18:43, 15.60s/row]"
     ]
    },
    {
     "name": "stdout",
     "output_type": "stream",
     "text": [
      "\n",
      "Waiting 10 seconds before next request...\n"
     ]
    },
    {
     "name": "stderr",
     "output_type": "stream",
     "text": [
      "Processing answers:  76%|█████████████████████████████████████████████              | 229/300 [58:27<18:33, 15.69s/row]"
     ]
    },
    {
     "name": "stdout",
     "output_type": "stream",
     "text": [
      "\n",
      "Waiting 10 seconds before next request...\n"
     ]
    },
    {
     "name": "stderr",
     "output_type": "stream",
     "text": [
      "Processing answers:  77%|█████████████████████████████████████████████▏             | 230/300 [58:41<17:46, 15.24s/row]"
     ]
    },
    {
     "name": "stdout",
     "output_type": "stream",
     "text": [
      "\n",
      "Waiting 10 seconds before next request...\n"
     ]
    },
    {
     "name": "stderr",
     "output_type": "stream",
     "text": [
      "Processing answers:  77%|█████████████████████████████████████████████▍             | 231/300 [58:57<17:33, 15.28s/row]"
     ]
    },
    {
     "name": "stdout",
     "output_type": "stream",
     "text": [
      "\n",
      "Waiting 10 seconds before next request...\n"
     ]
    },
    {
     "name": "stderr",
     "output_type": "stream",
     "text": [
      "Processing answers:  77%|█████████████████████████████████████████████▋             | 232/300 [59:10<16:46, 14.81s/row]"
     ]
    },
    {
     "name": "stdout",
     "output_type": "stream",
     "text": [
      "\n",
      "Waiting 10 seconds before next request...\n"
     ]
    },
    {
     "name": "stderr",
     "output_type": "stream",
     "text": [
      "Processing answers:  78%|█████████████████████████████████████████████▊             | 233/300 [59:24<16:08, 14.45s/row]"
     ]
    },
    {
     "name": "stdout",
     "output_type": "stream",
     "text": [
      "\n",
      "Waiting 10 seconds before next request...\n"
     ]
    },
    {
     "name": "stderr",
     "output_type": "stream",
     "text": [
      "Processing answers:  78%|██████████████████████████████████████████████             | 234/300 [59:48<18:59, 17.27s/row]"
     ]
    },
    {
     "name": "stdout",
     "output_type": "stream",
     "text": [
      "\n",
      "Waiting 10 seconds before next request...\n"
     ]
    },
    {
     "name": "stderr",
     "output_type": "stream",
     "text": [
      "Processing answers:  78%|████████████████████████████████████████████▋            | 235/300 [1:00:03<17:55, 16.55s/row]"
     ]
    },
    {
     "name": "stdout",
     "output_type": "stream",
     "text": [
      "\n",
      "Waiting 10 seconds before next request...\n"
     ]
    },
    {
     "name": "stderr",
     "output_type": "stream",
     "text": [
      "Processing answers:  79%|████████████████████████████████████████████▊            | 236/300 [1:00:17<17:07, 16.06s/row]"
     ]
    },
    {
     "name": "stdout",
     "output_type": "stream",
     "text": [
      "\n",
      "Waiting 10 seconds before next request...\n"
     ]
    },
    {
     "name": "stderr",
     "output_type": "stream",
     "text": [
      "Processing answers:  79%|█████████████████████████████████████████████            | 237/300 [1:00:33<16:34, 15.78s/row]"
     ]
    },
    {
     "name": "stdout",
     "output_type": "stream",
     "text": [
      "\n",
      "Waiting 10 seconds before next request...\n"
     ]
    },
    {
     "name": "stderr",
     "output_type": "stream",
     "text": [
      "Processing answers:  79%|█████████████████████████████████████████████▏           | 238/300 [1:00:48<16:05, 15.57s/row]"
     ]
    },
    {
     "name": "stdout",
     "output_type": "stream",
     "text": [
      "\n",
      "Waiting 10 seconds before next request...\n"
     ]
    },
    {
     "name": "stderr",
     "output_type": "stream",
     "text": [
      "Processing answers:  80%|█████████████████████████████████████████████▍           | 239/300 [1:01:02<15:28, 15.22s/row]"
     ]
    },
    {
     "name": "stdout",
     "output_type": "stream",
     "text": [
      "\n",
      "Waiting 10 seconds before next request...\n"
     ]
    },
    {
     "name": "stderr",
     "output_type": "stream",
     "text": [
      "Processing answers:  80%|█████████████████████████████████████████████▌           | 240/300 [1:01:16<14:50, 14.85s/row]"
     ]
    },
    {
     "name": "stdout",
     "output_type": "stream",
     "text": [
      "\n",
      "Waiting 10 seconds before next request...\n"
     ]
    },
    {
     "name": "stderr",
     "output_type": "stream",
     "text": [
      "Processing answers:  80%|█████████████████████████████████████████████▊           | 241/300 [1:01:31<14:35, 14.84s/row]"
     ]
    },
    {
     "name": "stdout",
     "output_type": "stream",
     "text": [
      "\n",
      "Waiting 10 seconds before next request...\n"
     ]
    },
    {
     "name": "stderr",
     "output_type": "stream",
     "text": [
      "Processing answers:  81%|█████████████████████████████████████████████▉           | 242/300 [1:01:46<14:24, 14.90s/row]"
     ]
    },
    {
     "name": "stdout",
     "output_type": "stream",
     "text": [
      "\n",
      "Waiting 10 seconds before next request...\n"
     ]
    },
    {
     "name": "stderr",
     "output_type": "stream",
     "text": [
      "Processing answers:  81%|██████████████████████████████████████████████▏          | 243/300 [1:02:03<14:54, 15.69s/row]"
     ]
    },
    {
     "name": "stdout",
     "output_type": "stream",
     "text": [
      "\n",
      "Waiting 10 seconds before next request...\n"
     ]
    },
    {
     "name": "stderr",
     "output_type": "stream",
     "text": [
      "Processing answers:  81%|██████████████████████████████████████████████▎          | 244/300 [1:02:24<15:54, 17.04s/row]"
     ]
    },
    {
     "name": "stdout",
     "output_type": "stream",
     "text": [
      "\n",
      "Waiting 10 seconds before next request...\n"
     ]
    },
    {
     "name": "stderr",
     "output_type": "stream",
     "text": [
      "Processing answers:  82%|██████████████████████████████████████████████▌          | 245/300 [1:02:41<15:48, 17.25s/row]"
     ]
    },
    {
     "name": "stdout",
     "output_type": "stream",
     "text": [
      "\n",
      "Waiting 10 seconds before next request...\n"
     ]
    },
    {
     "name": "stderr",
     "output_type": "stream",
     "text": [
      "Processing answers:  82%|██████████████████████████████████████████████▋          | 246/300 [1:03:01<16:05, 17.88s/row]"
     ]
    },
    {
     "name": "stdout",
     "output_type": "stream",
     "text": [
      "\n",
      "Waiting 10 seconds before next request...\n"
     ]
    },
    {
     "name": "stderr",
     "output_type": "stream",
     "text": [
      "Processing answers:  82%|██████████████████████████████████████████████▉          | 247/300 [1:03:15<14:56, 16.92s/row]"
     ]
    },
    {
     "name": "stdout",
     "output_type": "stream",
     "text": [
      "\n",
      "Waiting 10 seconds before next request...\n"
     ]
    },
    {
     "name": "stderr",
     "output_type": "stream",
     "text": [
      "Processing answers:  83%|███████████████████████████████████████████████          | 248/300 [1:03:29<13:49, 15.95s/row]"
     ]
    },
    {
     "name": "stdout",
     "output_type": "stream",
     "text": [
      "\n",
      "Waiting 10 seconds before next request...\n"
     ]
    },
    {
     "name": "stderr",
     "output_type": "stream",
     "text": [
      "Processing answers:  83%|███████████████████████████████████████████████▎         | 249/300 [1:03:43<12:59, 15.28s/row]"
     ]
    },
    {
     "name": "stdout",
     "output_type": "stream",
     "text": [
      "\n",
      "Waiting 10 seconds before next request...\n"
     ]
    },
    {
     "name": "stderr",
     "output_type": "stream",
     "text": [
      "Processing answers:  83%|███████████████████████████████████████████████▌         | 250/300 [1:04:00<13:10, 15.81s/row]"
     ]
    },
    {
     "name": "stdout",
     "output_type": "stream",
     "text": [
      "\n",
      "Waiting 10 seconds before next request...\n"
     ]
    },
    {
     "name": "stderr",
     "output_type": "stream",
     "text": [
      "Processing answers:  84%|███████████████████████████████████████████████▋         | 251/300 [1:04:14<12:29, 15.30s/row]"
     ]
    },
    {
     "name": "stdout",
     "output_type": "stream",
     "text": [
      "\n",
      "Waiting 10 seconds before next request...\n"
     ]
    },
    {
     "name": "stderr",
     "output_type": "stream",
     "text": [
      "Processing answers:  84%|███████████████████████████████████████████████▉         | 252/300 [1:04:29<12:03, 15.06s/row]"
     ]
    },
    {
     "name": "stdout",
     "output_type": "stream",
     "text": [
      "\n",
      "Waiting 10 seconds before next request...\n"
     ]
    },
    {
     "name": "stderr",
     "output_type": "stream",
     "text": [
      "Processing answers:  84%|████████████████████████████████████████████████         | 253/300 [1:04:44<11:55, 15.23s/row]"
     ]
    },
    {
     "name": "stdout",
     "output_type": "stream",
     "text": [
      "\n",
      "Waiting 10 seconds before next request...\n"
     ]
    },
    {
     "name": "stderr",
     "output_type": "stream",
     "text": [
      "Processing answers:  85%|████████████████████████████████████████████████▎        | 254/300 [1:04:59<11:35, 15.12s/row]"
     ]
    },
    {
     "name": "stdout",
     "output_type": "stream",
     "text": [
      "\n",
      "Waiting 10 seconds before next request...\n"
     ]
    },
    {
     "name": "stderr",
     "output_type": "stream",
     "text": [
      "Processing answers:  85%|████████████████████████████████████████████████▍        | 255/300 [1:05:13<11:02, 14.72s/row]"
     ]
    },
    {
     "name": "stdout",
     "output_type": "stream",
     "text": [
      "\n",
      "Waiting 10 seconds before next request...\n"
     ]
    },
    {
     "name": "stderr",
     "output_type": "stream",
     "text": [
      "Processing answers:  85%|████████████████████████████████████████████████▋        | 256/300 [1:05:31<11:32, 15.75s/row]"
     ]
    },
    {
     "name": "stdout",
     "output_type": "stream",
     "text": [
      "\n",
      "Waiting 10 seconds before next request...\n"
     ]
    },
    {
     "name": "stderr",
     "output_type": "stream",
     "text": [
      "Processing answers:  86%|████████████████████████████████████████████████▊        | 257/300 [1:05:45<10:53, 15.19s/row]"
     ]
    },
    {
     "name": "stdout",
     "output_type": "stream",
     "text": [
      "\n",
      "Waiting 10 seconds before next request...\n"
     ]
    },
    {
     "name": "stderr",
     "output_type": "stream",
     "text": [
      "Processing answers:  86%|█████████████████████████████████████████████████        | 258/300 [1:05:59<10:24, 14.86s/row]"
     ]
    },
    {
     "name": "stdout",
     "output_type": "stream",
     "text": [
      "\n",
      "Waiting 10 seconds before next request...\n"
     ]
    },
    {
     "name": "stderr",
     "output_type": "stream",
     "text": [
      "Processing answers:  86%|█████████████████████████████████████████████████▏       | 259/300 [1:06:13<09:56, 14.54s/row]"
     ]
    },
    {
     "name": "stdout",
     "output_type": "stream",
     "text": [
      "\n",
      "Waiting 10 seconds before next request...\n"
     ]
    },
    {
     "name": "stderr",
     "output_type": "stream",
     "text": [
      "Processing answers:  87%|█████████████████████████████████████████████████▍       | 260/300 [1:06:27<09:33, 14.33s/row]"
     ]
    },
    {
     "name": "stdout",
     "output_type": "stream",
     "text": [
      "\n",
      "Waiting 10 seconds before next request...\n"
     ]
    },
    {
     "name": "stderr",
     "output_type": "stream",
     "text": [
      "Processing answers:  87%|█████████████████████████████████████████████████▌       | 261/300 [1:06:41<09:20, 14.38s/row]"
     ]
    },
    {
     "name": "stdout",
     "output_type": "stream",
     "text": [
      "\n",
      "Waiting 10 seconds before next request...\n"
     ]
    },
    {
     "name": "stderr",
     "output_type": "stream",
     "text": [
      "Processing answers:  87%|█████████████████████████████████████████████████▊       | 262/300 [1:06:56<09:15, 14.62s/row]"
     ]
    },
    {
     "name": "stdout",
     "output_type": "stream",
     "text": [
      "\n",
      "Waiting 10 seconds before next request...\n"
     ]
    },
    {
     "name": "stderr",
     "output_type": "stream",
     "text": [
      "Processing answers:  88%|█████████████████████████████████████████████████▉       | 263/300 [1:07:11<09:07, 14.79s/row]"
     ]
    },
    {
     "name": "stdout",
     "output_type": "stream",
     "text": [
      "\n",
      "Waiting 10 seconds before next request...\n"
     ]
    },
    {
     "name": "stderr",
     "output_type": "stream",
     "text": [
      "Processing answers:  88%|██████████████████████████████████████████████████▏      | 264/300 [1:07:29<09:17, 15.49s/row]"
     ]
    },
    {
     "name": "stdout",
     "output_type": "stream",
     "text": [
      "\n",
      "Waiting 10 seconds before next request...\n"
     ]
    },
    {
     "name": "stderr",
     "output_type": "stream",
     "text": [
      "Processing answers:  88%|██████████████████████████████████████████████████▎      | 265/300 [1:07:46<09:25, 16.15s/row]"
     ]
    },
    {
     "name": "stdout",
     "output_type": "stream",
     "text": [
      "\n",
      "Waiting 10 seconds before next request...\n"
     ]
    },
    {
     "name": "stderr",
     "output_type": "stream",
     "text": [
      "Processing answers:  89%|██████████████████████████████████████████████████▌      | 266/300 [1:08:00<08:48, 15.54s/row]"
     ]
    },
    {
     "name": "stdout",
     "output_type": "stream",
     "text": [
      "\n",
      "Waiting 10 seconds before next request...\n"
     ]
    },
    {
     "name": "stderr",
     "output_type": "stream",
     "text": [
      "Processing answers:  89%|██████████████████████████████████████████████████▋      | 267/300 [1:08:15<08:24, 15.29s/row]"
     ]
    },
    {
     "name": "stdout",
     "output_type": "stream",
     "text": [
      "\n",
      "Waiting 10 seconds before next request...\n"
     ]
    },
    {
     "name": "stderr",
     "output_type": "stream",
     "text": [
      "Processing answers:  89%|██████████████████████████████████████████████████▉      | 268/300 [1:08:33<08:31, 15.99s/row]"
     ]
    },
    {
     "name": "stdout",
     "output_type": "stream",
     "text": [
      "\n",
      "Waiting 10 seconds before next request...\n"
     ]
    },
    {
     "name": "stderr",
     "output_type": "stream",
     "text": [
      "Processing answers:  90%|███████████████████████████████████████████████████      | 269/300 [1:08:47<08:00, 15.49s/row]"
     ]
    },
    {
     "name": "stdout",
     "output_type": "stream",
     "text": [
      "\n",
      "Waiting 10 seconds before next request...\n"
     ]
    },
    {
     "name": "stderr",
     "output_type": "stream",
     "text": [
      "Processing answers:  90%|███████████████████████████████████████████████████▎     | 270/300 [1:09:01<07:28, 14.93s/row]"
     ]
    },
    {
     "name": "stdout",
     "output_type": "stream",
     "text": [
      "\n",
      "Waiting 10 seconds before next request...\n"
     ]
    },
    {
     "name": "stderr",
     "output_type": "stream",
     "text": [
      "Processing answers:  90%|███████████████████████████████████████████████████▍     | 271/300 [1:09:15<07:03, 14.62s/row]"
     ]
    },
    {
     "name": "stdout",
     "output_type": "stream",
     "text": [
      "\n",
      "Waiting 10 seconds before next request...\n"
     ]
    },
    {
     "name": "stderr",
     "output_type": "stream",
     "text": [
      "Processing answers:  91%|███████████████████████████████████████████████████▋     | 272/300 [1:09:31<07:01, 15.05s/row]"
     ]
    },
    {
     "name": "stdout",
     "output_type": "stream",
     "text": [
      "\n",
      "Waiting 10 seconds before next request...\n"
     ]
    },
    {
     "name": "stderr",
     "output_type": "stream",
     "text": [
      "Processing answers:  91%|███████████████████████████████████████████████████▊     | 273/300 [1:09:45<06:45, 15.01s/row]"
     ]
    },
    {
     "name": "stdout",
     "output_type": "stream",
     "text": [
      "\n",
      "Waiting 10 seconds before next request...\n"
     ]
    },
    {
     "name": "stderr",
     "output_type": "stream",
     "text": [
      "Processing answers:  91%|████████████████████████████████████████████████████     | 274/300 [1:10:01<06:34, 15.19s/row]"
     ]
    },
    {
     "name": "stdout",
     "output_type": "stream",
     "text": [
      "\n",
      "Waiting 10 seconds before next request...\n"
     ]
    },
    {
     "name": "stderr",
     "output_type": "stream",
     "text": [
      "Processing answers:  92%|████████████████████████████████████████████████████▎    | 275/300 [1:10:16<06:15, 15.01s/row]"
     ]
    },
    {
     "name": "stdout",
     "output_type": "stream",
     "text": [
      "\n",
      "Waiting 10 seconds before next request...\n"
     ]
    },
    {
     "name": "stderr",
     "output_type": "stream",
     "text": [
      "Processing answers:  92%|████████████████████████████████████████████████████▍    | 276/300 [1:10:30<05:54, 14.78s/row]"
     ]
    },
    {
     "name": "stdout",
     "output_type": "stream",
     "text": [
      "\n",
      "Waiting 10 seconds before next request...\n"
     ]
    },
    {
     "name": "stderr",
     "output_type": "stream",
     "text": [
      "Processing answers:  92%|████████████████████████████████████████████████████▋    | 277/300 [1:10:44<05:33, 14.49s/row]"
     ]
    },
    {
     "name": "stdout",
     "output_type": "stream",
     "text": [
      "\n",
      "Waiting 10 seconds before next request...\n"
     ]
    },
    {
     "name": "stderr",
     "output_type": "stream",
     "text": [
      "Processing answers:  93%|████████████████████████████████████████████████████▊    | 278/300 [1:11:02<05:46, 15.73s/row]"
     ]
    },
    {
     "name": "stdout",
     "output_type": "stream",
     "text": [
      "\n",
      "Waiting 10 seconds before next request...\n"
     ]
    },
    {
     "name": "stderr",
     "output_type": "stream",
     "text": [
      "Processing answers:  93%|█████████████████████████████████████████████████████    | 279/300 [1:11:16<05:18, 15.18s/row]"
     ]
    },
    {
     "name": "stdout",
     "output_type": "stream",
     "text": [
      "\n",
      "Waiting 10 seconds before next request...\n"
     ]
    },
    {
     "name": "stderr",
     "output_type": "stream",
     "text": [
      "Processing answers:  93%|█████████████████████████████████████████████████████▏   | 280/300 [1:11:30<04:57, 14.87s/row]"
     ]
    },
    {
     "name": "stdout",
     "output_type": "stream",
     "text": [
      "\n",
      "Waiting 10 seconds before next request...\n"
     ]
    },
    {
     "name": "stderr",
     "output_type": "stream",
     "text": [
      "Processing answers:  94%|█████████████████████████████████████████████████████▍   | 281/300 [1:11:52<05:22, 16.95s/row]"
     ]
    },
    {
     "name": "stdout",
     "output_type": "stream",
     "text": [
      "\n",
      "Waiting 10 seconds before next request...\n"
     ]
    },
    {
     "name": "stderr",
     "output_type": "stream",
     "text": [
      "Processing answers:  94%|█████████████████████████████████████████████████████▌   | 282/300 [1:12:07<04:51, 16.17s/row]"
     ]
    },
    {
     "name": "stdout",
     "output_type": "stream",
     "text": [
      "\n",
      "Waiting 10 seconds before next request...\n"
     ]
    },
    {
     "name": "stderr",
     "output_type": "stream",
     "text": [
      "Processing answers:  94%|█████████████████████████████████████████████████████▊   | 283/300 [1:12:21<04:28, 15.77s/row]"
     ]
    },
    {
     "name": "stdout",
     "output_type": "stream",
     "text": [
      "\n",
      "Waiting 10 seconds before next request...\n"
     ]
    },
    {
     "name": "stderr",
     "output_type": "stream",
     "text": [
      "Processing answers:  95%|█████████████████████████████████████████████████████▉   | 284/300 [1:12:39<04:20, 16.27s/row]"
     ]
    },
    {
     "name": "stdout",
     "output_type": "stream",
     "text": [
      "\n",
      "Waiting 10 seconds before next request...\n"
     ]
    },
    {
     "name": "stderr",
     "output_type": "stream",
     "text": [
      "Processing answers:  95%|██████████████████████████████████████████████████████▏  | 285/300 [1:12:55<04:02, 16.15s/row]"
     ]
    },
    {
     "name": "stdout",
     "output_type": "stream",
     "text": [
      "\n",
      "Waiting 10 seconds before next request...\n"
     ]
    },
    {
     "name": "stderr",
     "output_type": "stream",
     "text": [
      "Processing answers:  95%|██████████████████████████████████████████████████████▎  | 286/300 [1:13:09<03:36, 15.49s/row]"
     ]
    },
    {
     "name": "stdout",
     "output_type": "stream",
     "text": [
      "\n",
      "Waiting 10 seconds before next request...\n"
     ]
    },
    {
     "name": "stderr",
     "output_type": "stream",
     "text": [
      "Processing answers:  96%|██████████████████████████████████████████████████████▌  | 287/300 [1:13:23<03:16, 15.11s/row]"
     ]
    },
    {
     "name": "stdout",
     "output_type": "stream",
     "text": [
      "\n",
      "Waiting 10 seconds before next request...\n"
     ]
    },
    {
     "name": "stderr",
     "output_type": "stream",
     "text": [
      "Processing answers:  96%|██████████████████████████████████████████████████████▋  | 288/300 [1:13:39<03:06, 15.50s/row]"
     ]
    },
    {
     "name": "stdout",
     "output_type": "stream",
     "text": [
      "\n",
      "Waiting 10 seconds before next request...\n"
     ]
    },
    {
     "name": "stderr",
     "output_type": "stream",
     "text": [
      "Processing answers:  96%|██████████████████████████████████████████████████████▉  | 289/300 [1:13:54<02:48, 15.33s/row]"
     ]
    },
    {
     "name": "stdout",
     "output_type": "stream",
     "text": [
      "\n",
      "Waiting 10 seconds before next request...\n"
     ]
    },
    {
     "name": "stderr",
     "output_type": "stream",
     "text": [
      "Processing answers:  97%|███████████████████████████████████████████████████████  | 290/300 [1:14:09<02:30, 15.04s/row]"
     ]
    },
    {
     "name": "stdout",
     "output_type": "stream",
     "text": [
      "\n",
      "Waiting 10 seconds before next request...\n"
     ]
    },
    {
     "name": "stderr",
     "output_type": "stream",
     "text": [
      "Processing answers:  97%|███████████████████████████████████████████████████████▎ | 291/300 [1:14:28<02:28, 16.50s/row]"
     ]
    },
    {
     "name": "stdout",
     "output_type": "stream",
     "text": [
      "\n",
      "Waiting 10 seconds before next request...\n"
     ]
    },
    {
     "name": "stderr",
     "output_type": "stream",
     "text": [
      "Processing answers:  97%|███████████████████████████████████████████████████████▍ | 292/300 [1:14:42<02:05, 15.72s/row]"
     ]
    },
    {
     "name": "stdout",
     "output_type": "stream",
     "text": [
      "\n",
      "Waiting 10 seconds before next request...\n"
     ]
    },
    {
     "name": "stderr",
     "output_type": "stream",
     "text": [
      "Processing answers:  98%|███████████████████████████████████████████████████████▋ | 293/300 [1:14:56<01:46, 15.19s/row]"
     ]
    },
    {
     "name": "stdout",
     "output_type": "stream",
     "text": [
      "\n",
      "Waiting 10 seconds before next request...\n"
     ]
    },
    {
     "name": "stderr",
     "output_type": "stream",
     "text": [
      "Processing answers:  98%|███████████████████████████████████████████████████████▊ | 294/300 [1:15:11<01:30, 15.04s/row]"
     ]
    },
    {
     "name": "stdout",
     "output_type": "stream",
     "text": [
      "\n",
      "Waiting 10 seconds before next request...\n"
     ]
    },
    {
     "name": "stderr",
     "output_type": "stream",
     "text": [
      "Processing answers:  98%|████████████████████████████████████████████████████████ | 295/300 [1:15:29<01:19, 15.89s/row]"
     ]
    },
    {
     "name": "stdout",
     "output_type": "stream",
     "text": [
      "\n",
      "Waiting 10 seconds before next request...\n"
     ]
    },
    {
     "name": "stderr",
     "output_type": "stream",
     "text": [
      "Processing answers:  99%|████████████████████████████████████████████████████████▏| 296/300 [1:15:44<01:02, 15.66s/row]"
     ]
    },
    {
     "name": "stdout",
     "output_type": "stream",
     "text": [
      "\n",
      "Waiting 10 seconds before next request...\n"
     ]
    },
    {
     "name": "stderr",
     "output_type": "stream",
     "text": [
      "Processing answers:  99%|████████████████████████████████████████████████████████▍| 297/300 [1:15:59<00:46, 15.38s/row]"
     ]
    },
    {
     "name": "stdout",
     "output_type": "stream",
     "text": [
      "\n",
      "Waiting 10 seconds before next request...\n"
     ]
    },
    {
     "name": "stderr",
     "output_type": "stream",
     "text": [
      "Processing answers:  99%|████████████████████████████████████████████████████████▌| 298/300 [1:16:13<00:30, 15.06s/row]"
     ]
    },
    {
     "name": "stdout",
     "output_type": "stream",
     "text": [
      "\n",
      "Waiting 10 seconds before next request...\n"
     ]
    },
    {
     "name": "stderr",
     "output_type": "stream",
     "text": [
      "Processing answers: 100%|████████████████████████████████████████████████████████▊| 299/300 [1:16:27<00:14, 14.82s/row]"
     ]
    },
    {
     "name": "stdout",
     "output_type": "stream",
     "text": [
      "\n",
      "Made 20 requests. Pausing for 80 seconds...\n"
     ]
    },
    {
     "name": "stderr",
     "output_type": "stream",
     "text": [
      "Processing answers: 100%|█████████████████████████████████████████████████████████| 300/300 [1:17:48<00:00, 34.68s/row]\n"
     ]
    },
    {
     "name": "stdout",
     "output_type": "stream",
     "text": [
      "\n",
      "Processed data with updated answers has been saved to processed_results_1700to2000.csv\n"
     ]
    }
   ],
   "source": [
    "import pandas as pd\n",
    "import google.generativeai as genai\n",
    "from tqdm import tqdm\n",
    "import time\n",
    "\n",
    "# Configure the Gemini API\n",
    "genai.configure(api_key=\"\")\n",
    "model = genai.GenerativeModel(\"gemini-2.0-flash-exp\")\n",
    "\n",
    "\n",
    "\n",
    "# Function to extract answers using Gemini\n",
    "def extract_answers(predicted_answer):\n",
    "    # Check for None, NaN, or empty values\n",
    "    if pd.isna(predicted_answer) or predicted_answer is None or (isinstance(predicted_answer, str) and not predicted_answer.strip()):\n",
    "        return \"\"\n",
    "    \n",
    "    try:\n",
    "        # Convert to string if it's not already\n",
    "        predicted_answer = str(predicted_answer)\n",
    "        \n",
    "        prompt = f'''\n",
    "        \n",
    "        {predicted_answer}\n",
    "        \n",
    "In the above section extact the Contextual and Parametric Answer only\n",
    "Translate it to Bengali do not add anything extra and change anything. Keep the digits same! Converts English degits to Bengali Digits!\n",
    "Format:\n",
    "Contextual Answer:\n",
    "Parametric Answer:\n",
    "        '''\n",
    "        response = model.generate_content(prompt)\n",
    "        return response.text\n",
    "    except Exception as e:\n",
    "        print(f\"Error processing answer: {e}\")\n",
    "        return \"\"\n",
    "\n",
    "# Process each row in the DataFrame with progress bar and rate limiting\n",
    "request_count = 0\n",
    "for idx in tqdm(range(0,len(df)), desc=\"Processing answers\", unit=\"row\"):\n",
    "    # Update request counter\n",
    "    request_count += 1\n",
    "    \n",
    "    # Process the current row\n",
    "    updated_answer = extract_answers(df.iloc[idx]['Predicted Answer'])\n",
    "    df.at[idx, 'Predicted Answer'] = updated_answer\n",
    "    \n",
    "    # Rate limiting logic\n",
    "    if request_count % 100 == 0:\n",
    "        print(f\"\\nMade 20 requests. Pausing for 80 seconds...\")\n",
    "        time.sleep(80)  # Wait for 80 seconds after every 20 requests\n",
    "    else:\n",
    "        print(f\"\\nWaiting 10 seconds before next request...\")\n",
    "        time.sleep(13)  # Wait for 15 seconds between regular requests\n",
    "\n",
    "# Save the updated DataFrame to a new CSV file\n",
    "output_file_path = 'processed_results_1700to2000.csv'\n",
    "df.to_csv(output_file_path, index=False)\n",
    "print(f\"\\nProcessed data with updated answers has been saved to {output_file_path}\")"
   ]
  },
  {
   "cell_type": "code",
   "execution_count": 6,
   "id": "f39e68ee-3176-4784-9cf7-aefc10528a2d",
   "metadata": {},
   "outputs": [
    {
     "name": "stdout",
     "output_type": "stream",
     "text": [
      "\n",
      "Processed data with updated answers has been saved to processed_results_with_answers.csv\n"
     ]
    }
   ],
   "source": [
    "output_file_path = 'processed_results_with_answers.csv'\n",
    "df.to_csv(output_file_path, index=False)\n",
    "print(f\"\\nProcessed data with updated answers has been saved to {output_file_path}\")"
   ]
  },
  {
   "cell_type": "code",
   "execution_count": null,
   "id": "6d31a34c-af79-4636-908b-d4aefaed4740",
   "metadata": {},
   "outputs": [],
   "source": []
  },
  {
   "cell_type": "code",
   "execution_count": null,
   "id": "982ddde9-2981-45bc-a2c6-ff8ddde2bc33",
   "metadata": {},
   "outputs": [],
   "source": [
    "import google.generativeai as genai\n",
    "\n",
    "genai.configure(api_key=\"\")\n",
    "model = genai.GenerativeModel(\"gemini-2.0-flash-exp\")\n",
    "\n",
    "response = model.generate_content('''\n",
    "Target:\n",
    "parametric answer: সাতোশি টোবা\n",
    "contextual answer: সাতোশি টোবা\n",
    "\n",
    "\n",
    "Generated:\n",
    "Contextual Answer: সাতোশি তোবা\n",
    "Parametric Answer: শিনিচিরো টোবা\n",
    "\n",
    "\n",
    "\n",
    "In the above section compare bewtween traget and contextual and both of them are in Bengali. You need to just compare the answers, you will check if they are presenting same meaning, do not check length if they are meaning the same asnwer or not. If the generated answer is long but giving the actual value like target provide me good result and provide me score in following format in %\n",
    "\n",
    "Format:\n",
    "Contextual Answer smilirarity:\n",
    "Parametric Answer similarity:\n",
    "''')\n",
    "print(response.text)"
   ]
  },
  {
   "cell_type": "code",
   "execution_count": null,
   "id": "ed1ffe06-b774-4a6d-843c-6263ac751b2d",
   "metadata": {},
   "outputs": [],
   "source": []
  },
  {
   "cell_type": "code",
   "execution_count": null,
   "id": "5d80f785-f9ec-44dd-8ebe-859f5053c640",
   "metadata": {},
   "outputs": [],
   "source": []
  },
  {
   "cell_type": "code",
   "execution_count": null,
   "id": "d606ed1f-cf12-43f9-b268-110351cc5bac",
   "metadata": {},
   "outputs": [],
   "source": []
  },
  {
   "cell_type": "code",
   "execution_count": null,
   "id": "aea61cd9-c712-4460-acff-8f643aee433c",
   "metadata": {},
   "outputs": [],
   "source": []
  },
  {
   "cell_type": "code",
   "execution_count": null,
   "id": "d8f99968-c26b-45d9-89d9-61e38fdb1b98",
   "metadata": {},
   "outputs": [],
   "source": []
  },
  {
   "cell_type": "code",
   "execution_count": null,
   "id": "614b783d-5388-4020-8758-4831520f27fe",
   "metadata": {},
   "outputs": [],
   "source": []
  },
  {
   "cell_type": "code",
   "execution_count": null,
   "id": "f2a813f0-d151-4164-b57f-23e4d0e07b8c",
   "metadata": {},
   "outputs": [],
   "source": []
  },
  {
   "cell_type": "code",
   "execution_count": null,
   "id": "12231636-507c-45e7-b3cf-71ca693a03d2",
   "metadata": {},
   "outputs": [],
   "source": []
  },
  {
   "cell_type": "code",
   "execution_count": null,
   "id": "86e5aa2c-256d-4ad5-af25-a1f2406a81fa",
   "metadata": {},
   "outputs": [],
   "source": []
  },
  {
   "cell_type": "code",
   "execution_count": null,
   "id": "d149a8b2-8c7d-477f-aa82-e73af1f735dd",
   "metadata": {},
   "outputs": [],
   "source": []
  },
  {
   "cell_type": "code",
   "execution_count": null,
   "id": "529a8cfd-2816-472c-925f-017298c687c6",
   "metadata": {},
   "outputs": [],
   "source": []
  },
  {
   "cell_type": "code",
   "execution_count": null,
   "id": "a7d42f5a-609e-429c-bbb6-a10540f26f92",
   "metadata": {},
   "outputs": [],
   "source": []
  },
  {
   "cell_type": "code",
   "execution_count": null,
   "id": "ac39e95a-ec2a-465a-b51b-ee45d4e49462",
   "metadata": {},
   "outputs": [],
   "source": []
  },
  {
   "cell_type": "code",
   "execution_count": null,
   "id": "242f91e9-e27b-4adc-affd-bf26a4c07d77",
   "metadata": {},
   "outputs": [],
   "source": []
  },
  {
   "cell_type": "code",
   "execution_count": null,
   "id": "057de46d-edcf-4638-9700-c0710f1df1d3",
   "metadata": {},
   "outputs": [],
   "source": []
  },
  {
   "cell_type": "code",
   "execution_count": null,
   "id": "79ca60fa-ba72-4df8-a69b-fb58213e617c",
   "metadata": {},
   "outputs": [],
   "source": []
  },
  {
   "cell_type": "code",
   "execution_count": null,
   "id": "3204589b-9b1a-4e0b-9c96-ad46799482cf",
   "metadata": {},
   "outputs": [],
   "source": []
  },
  {
   "cell_type": "code",
   "execution_count": null,
   "id": "e20343dc-1232-414f-85e7-24cc2969b52f",
   "metadata": {},
   "outputs": [],
   "source": []
  },
  {
   "cell_type": "code",
   "execution_count": null,
   "id": "563f1664-795d-422b-9685-e6562823c426",
   "metadata": {},
   "outputs": [],
   "source": []
  },
  {
   "cell_type": "code",
   "execution_count": null,
   "id": "43471edc-e15d-443a-a1fb-463eb0a141fc",
   "metadata": {},
   "outputs": [],
   "source": []
  }
 ],
 "metadata": {
  "kernelspec": {
   "display_name": "Python 3 (ipykernel)",
   "language": "python",
   "name": "python3"
  },
  "language_info": {
   "codemirror_mode": {
    "name": "ipython",
    "version": 3
   },
   "file_extension": ".py",
   "mimetype": "text/x-python",
   "name": "python",
   "nbconvert_exporter": "python",
   "pygments_lexer": "ipython3",
   "version": "3.11.7"
  }
 },
 "nbformat": 4,
 "nbformat_minor": 5
}
