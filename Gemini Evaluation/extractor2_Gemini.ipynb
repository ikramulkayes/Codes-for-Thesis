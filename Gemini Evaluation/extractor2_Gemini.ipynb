{
 "cells": [
  {
   "cell_type": "code",
   "execution_count": 1,
   "id": "be05c329-444d-4516-8f28-28e89c4f1d78",
   "metadata": {},
   "outputs": [],
   "source": [
    "# Importing necessary libraries\n",
    "import pandas as pd"
   ]
  },
  {
   "cell_type": "code",
   "execution_count": 2,
   "id": "59364c62-c2cb-425e-99dc-92f249f85ca8",
   "metadata": {},
   "outputs": [],
   "source": [
    "file_path = 'Parametric_data_deepseek.csv'"
   ]
  },
  {
   "cell_type": "code",
   "execution_count": 3,
   "id": "90d06aa6-52ea-4709-a61f-2d8f1461a8b9",
   "metadata": {},
   "outputs": [],
   "source": [
    "# Reading the CSV file into a pandas DataFrame\n",
    "df = pd.read_csv(file_path)"
   ]
  },
  {
   "cell_type": "code",
   "execution_count": 4,
   "id": "2954ba86-cbc8-49d0-801a-31f9b957fa95",
   "metadata": {},
   "outputs": [
    {
     "name": "stdout",
     "output_type": "stream",
     "text": [
      "First row of the 'Predicted Answer' column:\n",
      "Contextual Answer: জাইবী ও কেন্তার ব্যক্তিত্ব জিয়ান ও সুনেওর মতো।\n",
      "Parametric Answer: জাইবী ও কেন্তার ব্যক্তিত্ব জিয়ান ও সুনেওর মতো, যেমন জিয়ান মিশিভিয়াস এবং সুনেও শান্তিপূর্ণ।\n"
     ]
    }
   ],
   "source": [
    "# # Print the 'Predicted Answer' column\n",
    "# print(\"Predicted Answer Column:\")\n",
    "# print(df['Predicted Answer'])\n",
    "\n",
    "# Print the first row of the 'Predicted Answer' column\n",
    "print(\"First row of the 'Predicted Answer' column:\")\n",
    "print(df['Predicted Answer'].iloc[9])"
   ]
  },
  {
   "cell_type": "code",
   "execution_count": null,
   "id": "6ffc41ae-aa61-4ed6-9ca5-084e198b0b9b",
   "metadata": {},
   "outputs": [],
   "source": []
  },
  {
   "cell_type": "code",
   "execution_count": 5,
   "id": "4f6fb9cf-d07a-4e20-820a-c0c64b02166e",
   "metadata": {},
   "outputs": [
    {
     "data": {
      "text/html": [
       "<div>\n",
       "<style scoped>\n",
       "    .dataframe tbody tr th:only-of-type {\n",
       "        vertical-align: middle;\n",
       "    }\n",
       "\n",
       "    .dataframe tbody tr th {\n",
       "        vertical-align: top;\n",
       "    }\n",
       "\n",
       "    .dataframe thead th {\n",
       "        text-align: right;\n",
       "    }\n",
       "</style>\n",
       "<table border=\"1\" class=\"dataframe\">\n",
       "  <thead>\n",
       "    <tr style=\"text-align: right;\">\n",
       "      <th></th>\n",
       "      <th>Context</th>\n",
       "      <th>Question</th>\n",
       "      <th>Answer</th>\n",
       "      <th>Predicted Answer</th>\n",
       "    </tr>\n",
       "  </thead>\n",
       "  <tbody>\n",
       "    <tr>\n",
       "      <th>0</th>\n",
       "      <td>আস্যাইরিয়ান ও ব্যাবলিয়ান সাহিত্যে সরগন তার অ...</td>\n",
       "      <td>কোন জাদুঘরে সারগনিক বিজয় ফলক আছে?</td>\n",
       "      <td>parametric answer: ল্যুভর জাদুঘরে\\ncontextual ...</td>\n",
       "      <td>Contextual Answer: ল্যুভর জাদুঘরে।\\nParametric...</td>\n",
       "    </tr>\n",
       "    <tr>\n",
       "      <th>1</th>\n",
       "      <td>আস্যাইরিয়ান ও ব্যাবলিয়ান সাহিত্যে সরগন তার অ...</td>\n",
       "      <td>ল্যুভর জাদুঘরে দুটি সারগনিক বিজয় ফলক কোথা থেক...</td>\n",
       "      <td>parametric answer: খুব সম্ভবত মেসোপটেমিয়া ত্থ...</td>\n",
       "      <td>Contextual Answer: সুসা থেকে মেসোপটেমিয়া ত্থে...</td>\n",
       "    </tr>\n",
       "    <tr>\n",
       "      <th>2</th>\n",
       "      <td>আস্যাইরিয়ান ও ব্যাবলিয়ান সাহিত্যে সরগন তার অ...</td>\n",
       "      <td>ল্যুভর জাদুঘরে দুটি সারগনিক বিজয় ফলক কোন শতাব...</td>\n",
       "      <td>parametric answer: দ্বাদশ শতাব্দীতে\\ncontextua...</td>\n",
       "      <td>Contextual Answer: ১২তম শতাব্দীতে।\\nParametric...</td>\n",
       "    </tr>\n",
       "    <tr>\n",
       "      <th>3</th>\n",
       "      <td>আস্যাইরিয়ান ও ব্যাবলিয়ান সাহিত্যে সরগন তার অ...</td>\n",
       "      <td>সরগন কোন ভাষার লিপির প্রসার ঘটিয়ে ছিলেন?</td>\n",
       "      <td>parametric answer: সেমেটিক (আক্কাদীয়ান)\\ncont...</td>\n",
       "      <td>Contextual Answer: সেমেটিক (আক্কাদীয়ান) ভাষার...</td>\n",
       "    </tr>\n",
       "    <tr>\n",
       "      <th>4</th>\n",
       "      <td>আস্যাইরিয়ান ও ব্যাবলিয়ান সাহিত্যে সরগন তার অ...</td>\n",
       "      <td>সুমেরিয়ান কারা?</td>\n",
       "      <td>parametric answer: nan\\ncontextual answer: nan</td>\n",
       "      <td>Contextual Answer: সুমেরিয়ান হলেন মেসোপটেমিয়...</td>\n",
       "    </tr>\n",
       "    <tr>\n",
       "      <th>...</th>\n",
       "      <td>...</td>\n",
       "      <td>...</td>\n",
       "      <td>...</td>\n",
       "      <td>...</td>\n",
       "    </tr>\n",
       "    <tr>\n",
       "      <th>735</th>\n",
       "      <td>পর্বতারোহণ একধরনের খেলা, শখ বা পেশা। বিভিন্ন উ...</td>\n",
       "      <td>কোন শতকে অ্যালপিনিজম কথাটি প্রচলিত হয় ?</td>\n",
       "      <td>parametric answer: ঊনবিংশ\\ncontextual answer: ...</td>\n",
       "      <td>Contextual Answer: ঊনবিংশ শতকে।\\nParametric An...</td>\n",
       "    </tr>\n",
       "    <tr>\n",
       "      <th>736</th>\n",
       "      <td>পর্বতারোহণ একধরনের খেলা, শখ বা পেশা। বিভিন্ন উ...</td>\n",
       "      <td>বরফের ঢালে চলাচলের সময় ক্র্যাম্পন ব্যবহার করত...</td>\n",
       "      <td>parametric answer: nan\\ncontextual answer: nan</td>\n",
       "      <td>Contextual Answer: বরফের ঢালে চলাচলের সময় ক্র...</td>\n",
       "    </tr>\n",
       "    <tr>\n",
       "      <th>737</th>\n",
       "      <td>১৯২৮ সালের ১৪জুন এর্নেস্তো গেভারা রোসারিও, আর্...</td>\n",
       "      <td>এর্নেস্তো গেভারা রোসারিও কোথায় জন্ম গ্রহণ করেন ?</td>\n",
       "      <td>parametric answer: আর্জেন্টিনা\\ncontextual ans...</td>\n",
       "      <td>Contextual Answer: আর্জেন্টিনার রোসারিওতে।\\nPa...</td>\n",
       "    </tr>\n",
       "    <tr>\n",
       "      <th>738</th>\n",
       "      <td>১৯২৮ সালের ১৪জুন এর্নেস্তো গেভারা রোসারিও, আর্...</td>\n",
       "      <td>পরিবারের পাঁচ সন্তানের মধ্যে চে গেভারা সবার বয...</td>\n",
       "      <td>parametric answer: হ্যাঁ\\ncontextual answer: হ...</td>\n",
       "      <td>Contextual Answer: হ্যাঁ, চে গেভারা পরিবারের প...</td>\n",
       "    </tr>\n",
       "    <tr>\n",
       "      <th>739</th>\n",
       "      <td>১৯২৮ সালের ১৪জুন এর্নেস্তো গেভারা রোসারিও, আর্...</td>\n",
       "      <td>চে গেভারা সাইক্লিংয়ের একজন অক্লান্ত খেলোয়াড়...</td>\n",
       "      <td>parametric answer: হ্যাঁ\\ncontextual answer: হ...</td>\n",
       "      <td>Contextual Answer: হ্যাঁ, চে গেভারা সাইক্লিংয়...</td>\n",
       "    </tr>\n",
       "  </tbody>\n",
       "</table>\n",
       "<p>740 rows × 4 columns</p>\n",
       "</div>"
      ],
      "text/plain": [
       "                                               Context  \\\n",
       "0    আস্যাইরিয়ান ও ব্যাবলিয়ান সাহিত্যে সরগন তার অ...   \n",
       "1    আস্যাইরিয়ান ও ব্যাবলিয়ান সাহিত্যে সরগন তার অ...   \n",
       "2    আস্যাইরিয়ান ও ব্যাবলিয়ান সাহিত্যে সরগন তার অ...   \n",
       "3    আস্যাইরিয়ান ও ব্যাবলিয়ান সাহিত্যে সরগন তার অ...   \n",
       "4    আস্যাইরিয়ান ও ব্যাবলিয়ান সাহিত্যে সরগন তার অ...   \n",
       "..                                                 ...   \n",
       "735  পর্বতারোহণ একধরনের খেলা, শখ বা পেশা। বিভিন্ন উ...   \n",
       "736  পর্বতারোহণ একধরনের খেলা, শখ বা পেশা। বিভিন্ন উ...   \n",
       "737  ১৯২৮ সালের ১৪জুন এর্নেস্তো গেভারা রোসারিও, আর্...   \n",
       "738  ১৯২৮ সালের ১৪জুন এর্নেস্তো গেভারা রোসারিও, আর্...   \n",
       "739  ১৯২৮ সালের ১৪জুন এর্নেস্তো গেভারা রোসারিও, আর্...   \n",
       "\n",
       "                                              Question  \\\n",
       "0                    কোন জাদুঘরে সারগনিক বিজয় ফলক আছে?   \n",
       "1    ল্যুভর জাদুঘরে দুটি সারগনিক বিজয় ফলক কোথা থেক...   \n",
       "2    ল্যুভর জাদুঘরে দুটি সারগনিক বিজয় ফলক কোন শতাব...   \n",
       "3             সরগন কোন ভাষার লিপির প্রসার ঘটিয়ে ছিলেন?   \n",
       "4                                      সুমেরিয়ান কারা?   \n",
       "..                                                 ...   \n",
       "735           কোন শতকে অ্যালপিনিজম কথাটি প্রচলিত হয় ?   \n",
       "736  বরফের ঢালে চলাচলের সময় ক্র্যাম্পন ব্যবহার করত...   \n",
       "737   এর্নেস্তো গেভারা রোসারিও কোথায় জন্ম গ্রহণ করেন ?   \n",
       "738  পরিবারের পাঁচ সন্তানের মধ্যে চে গেভারা সবার বয...   \n",
       "739  চে গেভারা সাইক্লিংয়ের একজন অক্লান্ত খেলোয়াড়...   \n",
       "\n",
       "                                                Answer  \\\n",
       "0    parametric answer: ল্যুভর জাদুঘরে\\ncontextual ...   \n",
       "1    parametric answer: খুব সম্ভবত মেসোপটেমিয়া ত্থ...   \n",
       "2    parametric answer: দ্বাদশ শতাব্দীতে\\ncontextua...   \n",
       "3    parametric answer: সেমেটিক (আক্কাদীয়ান)\\ncont...   \n",
       "4       parametric answer: nan\\ncontextual answer: nan   \n",
       "..                                                 ...   \n",
       "735  parametric answer: ঊনবিংশ\\ncontextual answer: ...   \n",
       "736     parametric answer: nan\\ncontextual answer: nan   \n",
       "737  parametric answer: আর্জেন্টিনা\\ncontextual ans...   \n",
       "738  parametric answer: হ্যাঁ\\ncontextual answer: হ...   \n",
       "739  parametric answer: হ্যাঁ\\ncontextual answer: হ...   \n",
       "\n",
       "                                      Predicted Answer  \n",
       "0    Contextual Answer: ল্যুভর জাদুঘরে।\\nParametric...  \n",
       "1    Contextual Answer: সুসা থেকে মেসোপটেমিয়া ত্থে...  \n",
       "2    Contextual Answer: ১২তম শতাব্দীতে।\\nParametric...  \n",
       "3    Contextual Answer: সেমেটিক (আক্কাদীয়ান) ভাষার...  \n",
       "4    Contextual Answer: সুমেরিয়ান হলেন মেসোপটেমিয়...  \n",
       "..                                                 ...  \n",
       "735  Contextual Answer: ঊনবিংশ শতকে।\\nParametric An...  \n",
       "736  Contextual Answer: বরফের ঢালে চলাচলের সময় ক্র...  \n",
       "737  Contextual Answer: আর্জেন্টিনার রোসারিওতে।\\nPa...  \n",
       "738  Contextual Answer: হ্যাঁ, চে গেভারা পরিবারের প...  \n",
       "739  Contextual Answer: হ্যাঁ, চে গেভারা সাইক্লিংয়...  \n",
       "\n",
       "[740 rows x 4 columns]"
      ]
     },
     "execution_count": 5,
     "metadata": {},
     "output_type": "execute_result"
    }
   ],
   "source": [
    "df"
   ]
  },
  {
   "cell_type": "code",
   "execution_count": null,
   "id": "46db83d7-d8ed-43e2-885f-fbdbde5bd833",
   "metadata": {},
   "outputs": [],
   "source": []
  },
  {
   "cell_type": "code",
   "execution_count": null,
   "id": "33a0fd84-eb73-4485-b341-0c9cdee82814",
   "metadata": {},
   "outputs": [],
   "source": []
  },
  {
   "cell_type": "code",
   "execution_count": null,
   "id": "6a740f9d-6c1d-4a2f-81a1-b4bb79e70afc",
   "metadata": {},
   "outputs": [],
   "source": []
  },
  {
   "cell_type": "code",
   "execution_count": null,
   "id": "051d150f-f7d8-4961-a453-d19df8bf0858",
   "metadata": {},
   "outputs": [],
   "source": []
  },
  {
   "cell_type": "code",
   "execution_count": null,
   "id": "1f849c1c-eb58-4ac4-a1e5-c4ea1d632af7",
   "metadata": {},
   "outputs": [],
   "source": []
  },
  {
   "cell_type": "code",
   "execution_count": 34,
   "id": "79f6bb9c-2d62-44e3-a148-2a862de7a057",
   "metadata": {},
   "outputs": [],
   "source": [
    "# import pandas as pd\n",
    "# import google.generativeai as genai\n",
    "# from tqdm import tqdm\n",
    "# import time\n",
    "\n",
    "# # Configure the Gemini API\n",
    "# genai.configure(api_key=\"\")\n",
    "# model = genai.GenerativeModel(\"gemini-2.0-flash-exp\")\n",
    "\n",
    "\n",
    "\n",
    "# # Function to extract answers using Gemini\n",
    "# def extract_answers(predicted_answer):\n",
    "#     # Check for None, NaN, or empty values\n",
    "#     if pd.isna(predicted_answer) or predicted_answer is None or (isinstance(predicted_answer, str) and not predicted_answer.strip()):\n",
    "#         return \"\"\n",
    "    \n",
    "#     try:\n",
    "#         # Convert to string if it's not already\n",
    "#         predicted_answer = str(predicted_answer)\n",
    "        \n",
    "#         prompt = f'''\n",
    "        \n",
    "#         {predicted_answer}\n",
    "        \n",
    "# In the above section extact the Contextual and Parametric Answer only\n",
    "# Translate it to Bengali do not add anything extra and change anything. Keep the digits same! Converts English degits to Bengali Digits!\n",
    "# Format:\n",
    "# Contextual Answer:\n",
    "# Parametric Answer:\n",
    "#         '''\n",
    "#         response = model.generate_content(prompt)\n",
    "#         return response.text\n",
    "#     except Exception as e:\n",
    "#         print(f\"Error processing answer: {e}\")\n",
    "#         return \"\"\n",
    "\n",
    "# # Process each row in the DataFrame with progress bar and rate limiting\n",
    "# request_count = 0\n",
    "\n",
    "# for idx in tqdm(range(0,len(df)), desc=\"Processing answers\", unit=\"row\"):\n",
    "#     # Update request counter\n",
    "#     request_count += 1\n",
    "    \n",
    "#     # Process the current row\n",
    "#     updated_answer = extract_answers(df.iloc[idx]['Predicted Answer'])\n",
    "#     df.at[idx, 'Predicted Answer'] = updated_answer\n",
    "    \n",
    "#     # Rate limiting logic\n",
    "#     if request_count % 100 == 0:\n",
    "#         print(f\"\\nMade 20 requests. Pausing for 80 seconds...\")\n",
    "#         time.sleep(80)  # Wait for 80 seconds after every 20 requests\n",
    "#     else:\n",
    "#         print(f\"\\nWaiting 10 seconds before next request...\")\n",
    "#         time.sleep(13)  # Wait for 15 seconds between regular requests\n",
    "\n",
    "# # Save the updated DataFrame to a new CSV file\n",
    "# output_file_path = 'processed_results_1700to2000.csv'\n",
    "# df.to_csv(output_file_path, index=False)\n",
    "# print(f\"\\nProcessed data with updated answers has been saved to {output_file_path}\")"
   ]
  },
  {
   "cell_type": "code",
   "execution_count": 6,
   "id": "f39e68ee-3176-4784-9cf7-aefc10528a2d",
   "metadata": {},
   "outputs": [
    {
     "name": "stdout",
     "output_type": "stream",
     "text": [
      "\n",
      "Processed data with updated answers has been saved to processed_results_with_answers.csv\n"
     ]
    }
   ],
   "source": [
    "# output_file_path = 'processed_results_with_answers.csv'\n",
    "# df.to_csv(output_file_path, index=False)\n",
    "# print(f\"\\nProcessed data with updated answers has been saved to {output_file_path}\")"
   ]
  },
  {
   "cell_type": "code",
   "execution_count": null,
   "id": "6d31a34c-af79-4636-908b-d4aefaed4740",
   "metadata": {},
   "outputs": [],
   "source": []
  },
  {
   "cell_type": "code",
   "execution_count": null,
   "id": "982ddde9-2981-45bc-a2c6-ff8ddde2bc33",
   "metadata": {},
   "outputs": [
    {
     "name": "stdout",
     "output_type": "stream",
     "text": [
      "Okay, I understand. Here's the comparison and scoring based on your instructions:\n",
      "\n",
      "**Analysis:**\n",
      "\n",
      "*   **Target:** সাতোশি টোবা\n",
      "*   **Contextual Answer:** সাতোশি তোবা\n",
      "*   **Parametric Answer:** শিনিচিরো টোবা\n",
      "\n",
      "The contextual answer is an exact match to the target. However, the parametric answer is not correct.\n",
      "\n",
      "**Score:**\n",
      "\n",
      "Contextual Answer similarity: 100%\n",
      "Parametric Answer similarity: 0%\n",
      "\n"
     ]
    }
   ],
   "source": [
    "import google.generativeai as genai\n",
    "\n",
    "genai.configure(api_key=\"\")\n",
    "model = genai.GenerativeModel(\"gemini-2.0-flash-exp\")\n",
    "\n",
    "response = model.generate_content('''\n",
    "Target:\n",
    "parametric answer: সাতোশি টোবা\n",
    "contextual answer: সাতোশি টোবা\n",
    "\n",
    "\n",
    "Generated:\n",
    "Contextual Answer: সাতোশি তোবা\n",
    "Parametric Answer: শিনিচিরো টোবা\n",
    "\n",
    "\n",
    "\n",
    "In the above section compare bewtween traget and contextual and both of them are in Bengali. You need to just compare the answers, you will check if they are presenting same meaning, do not check length if they are meaning the same asnwer or not. If the generated answer is long but giving the actual value like target provide me good result and provide me score in following format in %\n",
    "\n",
    "Format:\n",
    "Contextual Answer smilirarity:\n",
    "Parametric Answer similarity:\n",
    "''')\n",
    "print(response.text)"
   ]
  },
  {
   "cell_type": "code",
   "execution_count": null,
   "id": "ed1ffe06-b774-4a6d-843c-6263ac751b2d",
   "metadata": {},
   "outputs": [],
   "source": []
  },
  {
   "cell_type": "code",
   "execution_count": null,
   "id": "5d80f785-f9ec-44dd-8ebe-859f5053c640",
   "metadata": {},
   "outputs": [],
   "source": []
  },
  {
   "cell_type": "code",
   "execution_count": null,
   "id": "d606ed1f-cf12-43f9-b268-110351cc5bac",
   "metadata": {},
   "outputs": [],
   "source": []
  },
  {
   "cell_type": "code",
   "execution_count": null,
   "id": "aea61cd9-c712-4460-acff-8f643aee433c",
   "metadata": {},
   "outputs": [],
   "source": []
  },
  {
   "cell_type": "code",
   "execution_count": 35,
   "id": "d8f99968-c26b-45d9-89d9-61e38fdb1b98",
   "metadata": {},
   "outputs": [],
   "source": [
    "# import pandas as pd\n",
    "# import google.generativeai as genai\n",
    "# from tqdm import tqdm\n",
    "# import time\n",
    "\n",
    "# # Configure the Gemini API\n",
    "# genai.configure(api_key=\"\")\n",
    "# model = genai.GenerativeModel(\"gemini-2.0-flash-exp\")\n",
    "\n",
    "# # Function to calculate similarity using Gemini API\n",
    "# def calculate_similarity(row):\n",
    "#     \"\"\"\n",
    "#     Compare target and generated answers and return the similarity scores.\n",
    "#     \"\"\"\n",
    "#     target = row['Answer']\n",
    "#     generated = row['Predicted Answer']\n",
    "\n",
    "#     paraanswer = generated.split(\"Parametric Answer: \")[1].strip()\n",
    "#     contextanswer = generated.split(\"Parametric Answer: \")[0].lstrip(\"Contextual Answer:\").strip()\n",
    "\n",
    "#     final_generated = f\"parametric answer:{paraanswer}\\ncontextual answer: {contextanswer}\"\n",
    "#     print(\"Target:\",target)\n",
    "#     print(\"generated:\",final_generated)\n",
    "\n",
    "#     # Check for None, NaN, or empty values\n",
    "#     if pd.isna(target) or pd.isna(generated) or not target.strip() or not generated.strip():\n",
    "#         return {\"Contextual\": \"\", \"Parametric\": \"\"}\n",
    "\n",
    "#     try:\n",
    "#         # Prepare the prompt for Gemini\n",
    "#         prompt = f'''\n",
    "# Target:\n",
    "# {target}\n",
    "\n",
    "# Generated:\n",
    "# {final_generated}\n",
    "\n",
    "# In the above section, compare the target and contextual answers. Both are in Bengali.\n",
    "# You need to check if they present the same meaning without considering length.\n",
    "# If they mean the same, provide a similarity score. Ensure accuracy.\n",
    "\n",
    "# Format:\n",
    "# Contextual Answer similarity: [Value in %]\n",
    "# Parametric Answer similarity: [Value in %]\n",
    "# '''\n",
    "#         # Generate response\n",
    "#         response = model.generate_content(prompt)\n",
    "#         result = response.text\n",
    "\n",
    "#         # Extract similarity scores from the response\n",
    "#         contextual_similarity = \"\"\n",
    "#         parametric_similarity = \"\"\n",
    "#         for line in result.splitlines():\n",
    "#             if \"Contextual Answer similarity:\" in line:\n",
    "#                 contextual_similarity = line.split(\":\")[-1].strip()\n",
    "#             elif \"Parametric Answer similarity:\" in line:\n",
    "#                 parametric_similarity = line.split(\":\")[-1].strip()\n",
    "\n",
    "#         return {\n",
    "#             \"Contextual\": contextual_similarity,\n",
    "#             \"Parametric\": parametric_similarity\n",
    "#         }\n",
    "#     except Exception as e:\n",
    "#         print(f\"Error processing row: {e}\")\n",
    "#         return {\"Contextual\": \"\", \"Parametric\": \"\"}\n",
    "\n",
    "# # Load the DataFrame\n",
    "\n",
    "\n",
    "# # Add new columns for similarity scores\n",
    "# df['Contextual Similarity'] = \"\"\n",
    "# df['Parametric Similarity'] = \"\"\n",
    "\n",
    "# # Process each row and calculate similarity with progress bar\n",
    "# for idx in tqdm(range(0,len(df)), desc=\"Processing rows\", unit=\"row\"):\n",
    "#     row = df.iloc[idx]\n",
    "#     similarity_scores = calculate_similarity(row)\n",
    "    \n",
    "#     # Update the DataFrame with similarity scores\n",
    "#     df.at[idx, 'Contextual Similarity'] = similarity_scores['Contextual']\n",
    "#     df.at[idx, 'Parametric Similarity'] = similarity_scores['Parametric']\n",
    "\n",
    "#     # Save after every row to avoid data loss\n",
    "#     df.to_csv('processed_results.csv', index=False)\n",
    "\n",
    "#     # Rate limiting to comply with API usage policies\n",
    "#     time.sleep(13)  # Adjust the time if needed\n",
    "\n",
    "# print(\"Processing completed. Results saved to 'processed_results.csv'\")\n"
   ]
  },
  {
   "cell_type": "code",
   "execution_count": null,
   "id": "614b783d-5388-4020-8758-4831520f27fe",
   "metadata": {},
   "outputs": [],
   "source": []
  },
  {
   "cell_type": "code",
   "execution_count": null,
   "id": "f2a813f0-d151-4164-b57f-23e4d0e07b8c",
   "metadata": {},
   "outputs": [],
   "source": []
  },
  {
   "cell_type": "code",
   "execution_count": null,
   "id": "12231636-507c-45e7-b3cf-71ca693a03d2",
   "metadata": {},
   "outputs": [
    {
     "name": "stderr",
     "output_type": "stream",
     "text": [
      "Processing rows:   0%|                                                                        | 0/740 [00:00<?, ?row/s]"
     ]
    },
    {
     "name": "stdout",
     "output_type": "stream",
     "text": [
      "Target: parametric answer: ল্যুভর জাদুঘরে\n",
      "contextual answer: ল্যুভর জাদুঘরে\n",
      "generated: parametric answer:ল্যুভর জাদুঘরে।\n",
      "contextual answer: ল্যুভর জাদুঘরে।\n"
     ]
    },
    {
     "name": "stderr",
     "output_type": "stream",
     "text": [
      "Processing rows:   0%|                                                              | 1/740 [00:15<3:12:43, 15.65s/row]"
     ]
    },
    {
     "name": "stdout",
     "output_type": "stream",
     "text": [
      "Target: parametric answer: খুব সম্ভবত মেসোপটেমিয়া ত্থেকে\n",
      "contextual answer: খুব সম্ভবত মেসোপটেমিয়া ত্থেকে\n",
      "generated: parametric answer:সুসা থেকে মেসোপটেমিয়া ত্থেকে দ্বাদশ শতাব্দীতে স্থানান্তরিত করা হয়েছিল।\n",
      "contextual answer: সুসা থেকে মেসোপটেমিয়া ত্থেকে দ্বাদশ শতাব্দীতে স্থানান্তরিত করা হয়েছিল।\n"
     ]
    },
    {
     "name": "stderr",
     "output_type": "stream",
     "text": [
      "Processing rows:   0%|▏                                                             | 2/740 [00:29<3:06:10, 15.14s/row]"
     ]
    },
    {
     "name": "stdout",
     "output_type": "stream",
     "text": [
      "Target: parametric answer: দ্বাদশ শতাব্দীতে\n",
      "contextual answer: দ্বাদশ শতাব্দীতে\n",
      "generated: parametric answer:১৯তম শতাব্দীতে।\n",
      "contextual answer: ১২তম শতাব্দীতে।\n"
     ]
    },
    {
     "name": "stderr",
     "output_type": "stream",
     "text": [
      "Processing rows:   0%|▎                                                             | 3/740 [00:43<3:01:11, 14.75s/row]"
     ]
    },
    {
     "name": "stdout",
     "output_type": "stream",
     "text": [
      "Target: parametric answer: সেমেটিক (আক্কাদীয়ান)\n",
      "contextual answer: সেমেটিক (আক্কাদীয়ান)\n",
      "generated: parametric answer:আক্কাদীয়ান ভাষার লিপি, যা কুনিফর্ম লিপিতে লেখা হত।\n",
      "contextual answer: সেমেটিক (আক্কাদীয়ান) ভাষার লিপি।\n"
     ]
    },
    {
     "name": "stderr",
     "output_type": "stream",
     "text": [
      "Processing rows:   1%|▎                                                             | 4/740 [00:59<3:07:20, 15.27s/row]"
     ]
    },
    {
     "name": "stdout",
     "output_type": "stream",
     "text": [
      "Target: parametric answer: মাৎসুশিবা রোবোট\n",
      "contextual answer: মাৎসুশিবা রোবোট\n",
      "generated: parametric answer:নোব্লেক্স ফ্যাক্টরিতে।\n",
      "contextual answer: মাৎসুশিবা রোবোট ফ্যাক্টরিতে।\"\n"
     ]
    },
    {
     "name": "stderr",
     "output_type": "stream",
     "text": [
      "Processing rows:   1%|▌                                                             | 6/740 [01:15<2:39:06, 13.01s/row]"
     ]
    },
    {
     "name": "stdout",
     "output_type": "stream",
     "text": [
      "Target: parametric answer: ২১১২\n",
      "contextual answer: ২১১২\n",
      "generated: parametric answer:১৯৬৯ সালে।\n",
      "contextual answer: ২১১২ সালে।\n"
     ]
    },
    {
     "name": "stderr",
     "output_type": "stream",
     "text": [
      "Processing rows:   1%|▌                                                             | 7/740 [01:29<2:42:04, 13.27s/row]"
     ]
    },
    {
     "name": "stdout",
     "output_type": "stream",
     "text": [
      "Target: parametric answer: ডোরেমন তৈরির সময় দুজন সন্ত্রাসী টাইম ওয়ার্প দিয়ে টাইম প্যাট্রোল থেকে পালাচ্ছিলো যার ফলে\n",
      "contextual answer: ডোরেমন তৈরির সময় দুজন সন্ত্রাসী টাইম ওয়ার্প দিয়ে টাইম প্যাট্রোল থেকে পালাচ্ছিলো যার ফলে\n",
      "generated: parametric answer:বৈদ্যুতিক 'পাওয়ারসার্জ' হয় বৈশাদ্রিক বিভাবের কারণে, যেমন টাইম ওয়ার্প ব্যবহারের ফলে বৈদ্যুতিক প্রবাহে গুরুতর পরিবর্তন হয়।\n",
      "contextual answer: দুজন সন্ত্রাসী টাইম ওয়ার্প দিয়ে টাইম প্যাট্রোল থেকে পালাচ্ছিলো যার ফলে রোবোট ফ্যাক্টরিতে বৈদ্যুতিক 'পাওয়ারসার্জ' সৃষ্টি হয়।\n"
     ]
    },
    {
     "name": "stderr",
     "output_type": "stream",
     "text": [
      "Processing rows:   1%|▊                                                             | 9/740 [01:46<2:25:06, 11.91s/row]"
     ]
    },
    {
     "name": "stdout",
     "output_type": "stream",
     "text": [
      "Target: parametric answer: জিয়ান ও সুনেওর\n",
      "contextual answer: জিয়ান ও সুনেওর\n",
      "generated: parametric answer:জাইবী ও কেন্তার ব্যক্তিত্ব জিয়ান ও সুনেওর মতো, যেমন জিয়ান মিশিভিয়াস এবং সুনেও শান্তিপূর্ণ।\n",
      "contextual answer: জাইবী ও কেন্তার ব্যক্তিত্ব জিয়ান ও সুনেওর মতো।\n"
     ]
    },
    {
     "name": "stderr",
     "output_type": "stream",
     "text": [
      "Processing rows:   1%|▊                                                            | 10/740 [02:00<2:31:58, 12.49s/row]"
     ]
    },
    {
     "name": "stdout",
     "output_type": "stream",
     "text": [
      "Target: parametric answer: ৫৫ লাখ\n",
      "contextual answer: ৫৫ লাখ\n",
      "generated: parametric answer:প্রতি বছর প্রায় ১০ মিলিয়ন গাড়ি তৈরি হয়।\n",
      "contextual answer: প্রতি বছর ৫৫ লাখ গাড়ি তৈরি হয়।\n"
     ]
    },
    {
     "name": "stderr",
     "output_type": "stream",
     "text": [
      "Processing rows:   1%|▉                                                            | 11/740 [02:15<2:40:56, 13.25s/row]"
     ]
    },
    {
     "name": "stdout",
     "output_type": "stream",
     "text": [
      "Target: parametric answer: ২৬টি\n",
      "contextual answer: ২৬টি\n",
      "generated: parametric answer:টয়োটা মোটর কর্পরেশনের কারখানা বিশ্বের বেশি কিছু দেশে রয়েছে, তবে বিশ্বব্যাপী প্রায় ২০টি দেশে তাদের কারখানা রয়েছে।\n",
      "contextual answer: বিশ্বের ২৬টি দেশে\n"
     ]
    },
    {
     "name": "stderr",
     "output_type": "stream",
     "text": [
      "Processing rows:   2%|▉                                                            | 12/740 [02:29<2:43:20, 13.46s/row]"
     ]
    },
    {
     "name": "stdout",
     "output_type": "stream",
     "text": [
      "Target: parametric answer: দুটি\n",
      "contextual answer: দুটি\n",
      "generated: parametric answer:দুটি শ্রেণীতে বিভক্ত করা যায়।\n",
      "contextual answer: দুটি শ্রেণীতে বিভক্ত করা যায়।\n"
     ]
    },
    {
     "name": "stderr",
     "output_type": "stream",
     "text": [
      "Processing rows:   2%|█                                                            | 13/740 [02:43<2:45:08, 13.63s/row]"
     ]
    },
    {
     "name": "stdout",
     "output_type": "stream",
     "text": [
      "Target: parametric answer: গাড়ি সামের্থ্যর সর্বোচ্চ পর্যায়ে পৌছা পর্যন্ত গাড়িকে স্থিতিশীল রাখতে সাহায্য করে\n",
      "contextual answer: গাড়ি সামের্থ্যর সর্বোচ্চ পর্যায়ে পৌছা পর্যন্ত গাড়িকে স্থিতিশীল রাখতে সাহায্য করে\n",
      "generated: parametric answer:টয়োটার ডায়নামিক ইন্টিগ্রেটেড ম্যানেজমেন্ট সিস্টেম (DIMS) গাড়ির নিরাপদ চলাকালো নিশ্চিত করে ব্রেক, ইঞ্জিন, স্টিয়ারিং এবং অন্যান্য নিয়ন্ত্রণ প্রক্রিয়াকে একত্রিত করে। এটি গাড়ির স্থিতিশীলতা নিয়ন্ত্রণ করে এবং স্কিডিং বা নিয়ন্ত্রণের ক্ষুধার প্রতিরোধ করে, ফলে দুর্ঘটনা প্রতিরোধ করা হয়।\n",
      "contextual answer: টয়োটা গাড়ি ভেহিকাল ডায়নামিক ইন্টিগ্রেটেড ম্যানেজমেন্ট সিস্টেম ব্যবহার করে ইঞ্জিন, ব্রেক, স্টিয়ারিং এবং অন্যসব নিয়ন্ত্রণ প্রক্রিয়াকে সমন্বিত করে তৈরি করে। এর মাধ্যমে গাড়ি সামের্থ্যর সর্বোচ্চ পর্যায়ে পৌছা পর্যন্ত গাড়িকে স্থিতিশীল রাখতে সাহায্য করে।\n"
     ]
    },
    {
     "name": "stderr",
     "output_type": "stream",
     "text": [
      "Processing rows:   2%|█▏                                                           | 14/740 [03:00<2:56:00, 14.55s/row]"
     ]
    },
    {
     "name": "stdout",
     "output_type": "stream",
     "text": [
      "Target: parametric answer: ২০১৫ সালের\n",
      "contextual answer: ২০১৫ সালের\n",
      "generated: parametric answer:২০১৫\n",
      "contextual answer: ২০১৫\n"
     ]
    },
    {
     "name": "stderr",
     "output_type": "stream",
     "text": [
      "Processing rows:   2%|█▍                                                           | 17/740 [03:14<2:19:45, 11.60s/row]"
     ]
    },
    {
     "name": "stdout",
     "output_type": "stream",
     "text": [
      "Target: parametric answer: ইলেক্ট্রিক্যাল এন্ড মেকানিক্যাল ইঞ্জিনিয়ার্স\n",
      "contextual answer: ইলেক্ট্রিক্যাল এন্ড মেকানিক্যাল ইঞ্জিনিয়ার্স\n",
      "generated: parametric answer:ইএমই (ইলেক্ট্রিক্যাল এন্ড মেকানিক্যাল ইঞ্জিনিয়ার্স) কোরে।\n",
      "contextual answer: ইএমই (ইলেক্ট্রিক্যাল এন্ড মেকানিক্যাল ইঞ্জিনিয়ার্স) কোরে।\"\n"
     ]
    },
    {
     "name": "stderr",
     "output_type": "stream",
     "text": [
      "Processing rows:   2%|█▍                                                           | 18/740 [03:28<2:27:48, 12.28s/row]"
     ]
    },
    {
     "name": "stdout",
     "output_type": "stream",
     "text": [
      "Target: parametric answer: স্লাটওয়াকের\n",
      "contextual answer: স্লাটওয়াকের\n",
      "generated: parametric answer:স্লাটওয়াকের ভারতীয় সমতুল্য সংগঠন হলো বেশারমি মোর্চা।\n",
      "contextual answer: স্লাটওয়াকের ভারতীয় সমতুল্য সংগঠন।\n"
     ]
    },
    {
     "name": "stderr",
     "output_type": "stream",
     "text": [
      "Processing rows:   3%|█▋                                                           | 21/740 [03:44<2:02:56, 10.26s/row]"
     ]
    },
    {
     "name": "stdout",
     "output_type": "stream",
     "text": [
      "Target: parametric answer: ভোপালে\n",
      "contextual answer: ভোপালে\n",
      "generated: parametric answer:টরন্টোতে\n",
      "contextual answer: ভোপালে\n"
     ]
    },
    {
     "name": "stderr",
     "output_type": "stream",
     "text": [
      "Processing rows:   3%|█▊                                                           | 22/740 [03:58<2:15:28, 11.32s/row]"
     ]
    },
    {
     "name": "stdout",
     "output_type": "stream",
     "text": [
      "Target: parametric answer: নাম\n",
      "contextual answer: নাম\n",
      "generated: parametric answer:বেশারমি মোর্চা\" বলতে নির্লজ্জ জোট বা নির্লজ্জ প্রতিবাদ বোঝায়, যা মহিলাদের পোশাকের বিষয়ে সমাজের নোংরা নীতিকে চALLENGE করার জন্য গঠিত হয়েছে।\n",
      "contextual answer: বেশারমি মোর্চাকে ভারতে তার বিভিন্ন সাংস্কৃতিক দিক এবং ভাষাগুলি সম্বোধন করার জন্য নাম হিসাবে বেছে নেওয়া হয়েছিল।\n"
     ]
    },
    {
     "name": "stderr",
     "output_type": "stream",
     "text": [
      "Processing rows:   3%|█▉                                                           | 23/740 [04:12<2:24:11, 12.07s/row]"
     ]
    },
    {
     "name": "stdout",
     "output_type": "stream",
     "text": [
      "Target: parametric answer: জাপান\n",
      "contextual answer: জাপান\n",
      "generated: parametric answer:জাপান।\n",
      "contextual answer: জাপান।\n"
     ]
    },
    {
     "name": "stderr",
     "output_type": "stream",
     "text": [
      "Processing rows:   4%|██▏                                                          | 26/740 [04:26<1:56:59,  9.83s/row]"
     ]
    },
    {
     "name": "stdout",
     "output_type": "stream",
     "text": [
      "Target: parametric answer: ১৯৯৭ সালের ১ এপ্রিল\n",
      "contextual answer: ১৯৯৭ সালের ১ এপ্রিল\n",
      "generated: parametric answer:১৯৯৭ সালের ১ এপ্রিল।\n",
      "contextual answer: ১৯৯৭ সালের ১ এপ্রিল।\n"
     ]
    },
    {
     "name": "stderr",
     "output_type": "stream",
     "text": [
      "Processing rows:   4%|██▎                                                          | 28/740 [04:40<1:46:16,  8.96s/row]"
     ]
    },
    {
     "name": "stdout",
     "output_type": "stream",
     "text": [
      "Target: parametric answer: অ্যাশ কেচম\n",
      "contextual answer: অ্যাশ কেচম\n",
      "generated: parametric answer:পোকেমনের প্রধান চরিত্র হলো অ্যাশ কেচম, পিকাচু, মিস্টি, ব্রক এবং অন্যান্য সাহয়ক চরিত্র।\n",
      "contextual answer: পোকেমনের প্রধান চরিত্র হলো অ্যাশ কেচম, পিকাচু এবং গোহ।\n"
     ]
    },
    {
     "name": "stderr",
     "output_type": "stream",
     "text": [
      "Processing rows:   4%|██▍                                                          | 29/740 [04:56<2:10:59, 11.05s/row]"
     ]
    },
    {
     "name": "stdout",
     "output_type": "stream",
     "text": [
      "Target: parametric answer: টয়োটা\n",
      "contextual answer: টয়োটা\n",
      "generated: parametric answer:টয়োটা।\n",
      "contextual answer: টয়োটা।\n"
     ]
    },
    {
     "name": "stderr",
     "output_type": "stream",
     "text": [
      "Processing rows:   4%|██▌                                                          | 31/740 [05:10<1:56:04,  9.82s/row]"
     ]
    },
    {
     "name": "stdout",
     "output_type": "stream",
     "text": [
      "Target: parametric answer: ১৯৯৮\n",
      "contextual answer: ১৯৯৮\n",
      "generated: parametric answer:১৯৯৮\n",
      "contextual answer: ১৯৯৮\n"
     ]
    },
    {
     "name": "stderr",
     "output_type": "stream",
     "text": [
      "Processing rows:   4%|██▋                                                          | 32/740 [05:24<2:10:39, 11.07s/row]"
     ]
    },
    {
     "name": "stdout",
     "output_type": "stream",
     "text": [
      "Target: parametric answer: টয়োটা গাড়ি\n",
      "contextual answer: টয়োটা গাড়ি\n",
      "generated: parametric answer:টয়োটা\n",
      "contextual answer: টয়োটা\n"
     ]
    },
    {
     "name": "stderr",
     "output_type": "stream",
     "text": [
      "Processing rows:   4%|██▋                                                          | 33/740 [05:38<2:21:23, 12.00s/row]"
     ]
    },
    {
     "name": "stdout",
     "output_type": "stream",
     "text": [
      "Target: parametric answer: টয়োটা ক্রাউন-এ অ্যাডাপটিভ ভেরিয়েবল সাসপেনশন সিস্টেমের (এনএভিআই / এআই-এভিএস) সাথে সংযুক্ত বিশ্বের প্রথম নেভিগেশন সিস্টেম-সংযুক্ত ব্রেক সহায়তা ফাংশন এবং নেভিগেশন সিস্টেম\n",
      "contextual answer: টয়োটা ক্রাউন-এ অ্যাডাপটিভ ভেরিয়েবল সাসপেনশন সিস্টেমের (এনএভিআই / এআই-এভিএস) সাথে সংযুক্ত বিশ্বের প্রথম নেভিগেশন সিস্টেম-সংযুক্ত ব্রেক সহায়তা ফাংশন এবং নেভিগেশন সিস্টেম\n",
      "generated: parametric answer:এনএভিআই / এআই-এভিএস হলো এক種 অ্যাডাপটিভ ভেরিয়েবল সাসপেনশন সিস্টেম, যা গাড়ির সাসপেনশন সিস্টেমের ভেরিয়েবল অংশকে ব্যান্ডওয়াইড ব্রেক সহায়তা ফাংশনের সাথে সংযুক্ত করে ব্রেকিং প্রক্রিয়াকে সুবিধাজনক করে।\n",
      "contextual answer: অ্যাডাপটিভ ভেরিয়েবল সাসপেনশন সিস্টেম।\n"
     ]
    },
    {
     "name": "stderr",
     "output_type": "stream",
     "text": [
      "Processing rows:   5%|██▊                                                          | 34/740 [05:52<2:28:15, 12.60s/row]"
     ]
    },
    {
     "name": "stdout",
     "output_type": "stream",
     "text": [
      "Target: parametric answer: সাউদার্ন ক্যালিফোর্নিয়া বিশ্ববিদ্যালয়ের ইনস্টিটিউট ফর ক্রিয়েটিভ টেকনোলজিস এবং ইউএস আর্মি রিসার্চ ল্যাবরেটরি\n",
      "contextual answer: সাউদার্ন ক্যালিফোর্নিয়া বিশ্ববিদ্যালয়ের ইনস্টিটিউট ফর ক্রিয়েটিভ টেকনোলজিস এবং ইউএস আর্মি রিসার্চ ল্যাবরেটরি\n",
      "generated: parametric answer:সাউদার্ন ক্যালিফোর্নিয়া বিশ্ববিদ্যালয়ের ইনস্টিটিউট ফর ক্রিয়েটিভ টেকনোলজিস এবং ইউএস আর্মি রিসার্চ ল্যাবরেটরি (এআরএল) তৈরি করেছিল।\n",
      "contextual answer: সাউদার্ন ক্যালিফোর্নিয়া বিশ্ববিদ্যালয়ের ইনস্টিটিউট ফর ক্রিয়েটিভ টেকনোলজিস এবং ইউএস আর্মি রিসার্চ ল্যাবরেটরি (এআরএল) দ্বারা তৈরি করা হয়েছিল।\n"
     ]
    },
    {
     "name": "stderr",
     "output_type": "stream",
     "text": [
      "Processing rows:   5%|███                                                          | 37/740 [06:06<1:59:34, 10.21s/row]"
     ]
    },
    {
     "name": "stdout",
     "output_type": "stream",
     "text": [
      "Target: parametric answer: কমান্ড দলের\n",
      "contextual answer: কমান্ড দলের\n",
      "generated: parametric answer:এলিট-শার্প সিটিটি প্রোগ্রামটি মার্কিন সেনাবাহিনীর ব্যাটালিয়ন এবং ব্রিগেড কমান্ডারদের জন্য ডিজাইন করা হয়েছিল।\n",
      "contextual answer: এলিট-শার্প সিটিটি প্রোগ্রামটি কমান্ড টিম জন্য ডিজাইন করা হয়েছিল।\n"
     ]
    },
    {
     "name": "stderr",
     "output_type": "stream",
     "text": [
      "Processing rows:   5%|███▏                                                         | 38/740 [06:21<2:18:32, 11.84s/row]"
     ]
    },
    {
     "name": "stdout",
     "output_type": "stream",
     "text": [
      "Target: parametric answer: ২০১৬ সালের ২১ মার্চ\n",
      "contextual answer: ২০১৬ সালের ২১ মার্চ\n",
      "generated: parametric answer:২১ মার্চ ২০১৬ সালে।\n",
      "contextual answer: ২১ মার্চ ২০১৬ সালে।\n"
     ]
    },
    {
     "name": "stderr",
     "output_type": "stream",
     "text": [
      "Processing rows:   5%|███▏                                                         | 39/740 [06:35<2:25:28, 12.45s/row]"
     ]
    },
    {
     "name": "stdout",
     "output_type": "stream",
     "text": [
      "Target: parametric answer: হোমেরিক যুগ; জ্যামিতিক যুগ\n",
      "contextual answer: হোমেরিক যুগ; জ্যামিতিক যুগ\n",
      "generated: parametric answer:গ্রিক অন্ধকার যুগ হোমেরিক যুগ এবং জ্যামিতিক যুগ নামে পরিচিত।\n",
      "contextual answer: গ্রিক অন্ধকার যুগ হোমেরিক যুগ এবং জ্যামিতিক যুগ নামে পরিচিত।\n"
     ]
    },
    {
     "name": "stderr",
     "output_type": "stream",
     "text": [
      "Processing rows:   6%|███▍                                                         | 41/740 [06:49<2:05:44, 10.79s/row]"
     ]
    },
    {
     "name": "stdout",
     "output_type": "stream",
     "text": [
      "Target: parametric answer: ১১০০ অব্দ থেকে শুরু করে খ্রিস্টপূর্ব ৯ম শতাব্দীতে\n",
      "contextual answer: ১১০০ অব্দ থেকে শুরু করে খ্রিস্টপূর্ব ৯ম শতাব্দীতে\n",
      "generated: parametric answer:গ্রিক অন্ধকার যুগ খ্রিস্টপূর্ব ৮ম শতাব্দীতে স্থায়ী ছিল।\n",
      "contextual answer: গ্রিক অন্ধকার যুগ খ্রিস্টপূর্ব ৯ম শতাব্দীতে প্রাচীন গ্রীসের প্রথম নিদর্শন পর্যন্ত স্থায়ী ছিল।\n"
     ]
    },
    {
     "name": "stderr",
     "output_type": "stream",
     "text": [
      "Processing rows:   6%|███▍                                                         | 42/740 [07:06<2:27:46, 12.70s/row]"
     ]
    },
    {
     "name": "stdout",
     "output_type": "stream",
     "text": [
      "Target: parametric answer: ইউবোয়ার লেলান্টাইন সমভূমির লেফকান্দি থেকে প্রাপ্ত হস্তনির্মিত দ্রব্যাদি\n",
      "contextual answer: ইউবোয়ার লেলান্টাইন সমভূমির লেফকান্দি থেকে প্রাপ্ত হস্তনির্মিত দ্রব্যাদি\n",
      "generated: parametric answer:হেলেনেস ও বিদেশীদের মধ্যকার যোগাযোগ জানা যায় কারণ তারা মিডিটের্নের বাণিজ্যিক পথে সাংস্কৃতিক এবং বাণিজ্যিক যোগাযোগ সtabl করেছিলেন, যা ইতিহাসের রেকর্ডে প্রকাশিত হয়েছে।\n",
      "contextual answer: হেলেনেস ও বিদেশীদের মধ্যকার যোগাযোগ জানা যায় কারণ লেফকান্দি থেকে প্রাপ্ত হস্তনির্মিত দ্রব্যাদি পূর্বাঞ্চলের সাথে তাদের সাংস্কৃতিক ও বাণিজ্যিক যোগাযোগ দেখায়, বিশেষ করে খ্রিস্টপূর্ব ৯০০ অব্দ থেকে লেভান্ত উপকূলের সাথে। এছাড়া উপ-মিসিনিয়ান সাইপ্রাস-এ ও সিরীয় উপকূলে আল মিনায় হেলেনেসের উপস্থিতি পাওয়া যায়।\n"
     ]
    },
    {
     "name": "stderr",
     "output_type": "stream",
     "text": [
      "Processing rows:   6%|███▌                                                         | 43/740 [07:24<2:46:51, 14.36s/row]"
     ]
    },
    {
     "name": "stdout",
     "output_type": "stream",
     "text": [
      "Target: parametric answer: ১৯৭৩\n",
      "contextual answer: ১৯৭৩\n",
      "generated: parametric answer:১৯৭৩ সালে।\n",
      "contextual answer: ১৯৭৩ সালে।\n"
     ]
    },
    {
     "name": "stderr",
     "output_type": "stream",
     "text": [
      "Processing rows:   6%|███▊                                                         | 46/740 [07:38<2:12:21, 11.44s/row]"
     ]
    },
    {
     "name": "stdout",
     "output_type": "stream",
     "text": [
      "Target: parametric answer: আইবিএম ৫১০০\n",
      "contextual answer: আইবিএম ৫১০০\n",
      "generated: parametric answer:আইবিএম ৫১০০\n",
      "contextual answer: আইবিএম ৫১০০\n"
     ]
    },
    {
     "name": "stderr",
     "output_type": "stream",
     "text": [
      "Processing rows:   6%|███▊                                                         | 47/740 [07:52<2:21:12, 12.23s/row]"
     ]
    },
    {
     "name": "stdout",
     "output_type": "stream",
     "text": [
      "Target: parametric answer: ১৯৭৫\n",
      "contextual answer: ১৯৭৫\n",
      "generated: parametric answer:১৯৭৫ সালে।\n",
      "contextual answer: ১৯৭৫ সালের সেপ্টেম্বর মাসে।\n"
     ]
    },
    {
     "name": "stderr",
     "output_type": "stream",
     "text": [
      "Processing rows:   6%|███▉                                                         | 48/740 [08:08<2:31:29, 13.14s/row]"
     ]
    },
    {
     "name": "stdout",
     "output_type": "stream",
     "text": [
      "Target: parametric answer: আন্তর্জাতিক ক্যাপিটাল মুভমেন্টের কালজয়ী অবদান রাখার জন্য\n",
      "contextual answer: আন্তর্জাতিক ক্যাপিটাল মুভমেন্টের কালজয়ী অবদান রাখার জন্য\n",
      "generated: parametric answer:জেমস এডওয়ার্ড মীড নোবেল পুরস্কার পেয়েছিলেন কারণ তিনি আন্তর্জাতিক বাণিজ্যের থিওরি, বিশেষ করে অসমান প্রতিস্পর্ধার তত্ত্ব এবং ব্যালেন্স অব পেমেন্টের অধ্যয়নে অগ্রণী ভূমিকা রাখলেন। তিনি আন্তর্জাতিক ক্যাপিটাল মুভমেন্ট এবং সরকারের ব্যবস্থা বিষয়েও প্রভাবশালী অবদান রাখলেন।\n",
      "contextual answer: জেমস এডওয়ার্ড মীড নোবেল পুরস্কার পেয়েছিলেন কারণ তিনি আন্তর্জাতিক বাণিজ্য এবং আন্তর্জাতিক ক্যাপিটাল মুভমেন্টের কালজয়ী অবদান রাখার জন্য ১৯৭৭ সালে সুইডিশ অর্থনীতিবিদ বার্টিল ওহলিনের সাথে সমন্বিতভাবে অর্থনীতিতে নোবেল স্মারক পুরস্কার বিজয়ী ছিলেন।\n"
     ]
    },
    {
     "name": "stderr",
     "output_type": "stream",
     "text": [
      "Processing rows:   7%|████▏                                                        | 51/740 [08:21<2:01:27, 10.58s/row]"
     ]
    },
    {
     "name": "stdout",
     "output_type": "stream",
     "text": [
      "Target: parametric answer: বার্টিল ওহলিনের\n",
      "contextual answer: বার্টিল ওহলিনের\n",
      "generated: parametric answer:বার্টিল ওহলিন।\n",
      "contextual answer: বার্টিল ওহলিন।\n"
     ]
    },
    {
     "name": "stderr",
     "output_type": "stream",
     "text": [
      "Processing rows:   7%|████▎                                                        | 52/740 [08:35<2:13:29, 11.64s/row]"
     ]
    },
    {
     "name": "stdout",
     "output_type": "stream",
     "text": [
      "Target: parametric answer: দর্শন; রাজনীতি; অর্থনীতি\n",
      "contextual answer: দর্শন; রাজনীতি; অর্থনীতি\n",
      "generated: parametric answer:জেমস এডওয়ার্ড মীড ওরিয়েল কলেজে গ্রেটস (Classics), দর্শন, রাজনীতি ও অর্থনীতি বিষয়ে অধ্যয়ন করেন।\n",
      "contextual answer: জেমস এডওয়ার্ড মীড ওরিয়েল কলেজে গ্রেটস, দর্শন, রাজনীতি ও অর্থনীতি বিষয়ে অধ্যয়ন করেন।\n"
     ]
    },
    {
     "name": "stderr",
     "output_type": "stream",
     "text": [
      "Processing rows:   7%|████▎                                                        | 53/740 [08:52<2:28:43, 12.99s/row]"
     ]
    },
    {
     "name": "stdout",
     "output_type": "stream",
     "text": [
      "Target: parametric answer: ডেনিস রবার্টসন; জন মেনার্ড কেইনস\n",
      "contextual answer: ডেনিস রবার্টসন; জন মেনার্ড কেইনস\n",
      "generated: parametric answer:ডেনিস রবার্টসন এবং জন মেনার্ড কেইনস।\n",
      "contextual answer: ডেনিস রবার্টসন এবং জন মেনার্ড কেইনস।\n"
     ]
    },
    {
     "name": "stderr",
     "output_type": "stream",
     "text": [
      "Processing rows:   7%|████▍                                                        | 54/740 [09:06<2:32:14, 13.32s/row]"
     ]
    },
    {
     "name": "stdout",
     "output_type": "stream",
     "text": [
      "Target: parametric answer: পাঁচ\n",
      "contextual answer: পাঁচ\n",
      "generated: parametric answer:পাঁচ বছর।\n",
      "contextual answer: পাঁচ বছর।\n"
     ]
    },
    {
     "name": "stderr",
     "output_type": "stream",
     "text": [
      "Processing rows:   8%|████▌                                                        | 56/740 [09:20<2:10:07, 11.41s/row]"
     ]
    },
    {
     "name": "stdout",
     "output_type": "stream",
     "text": [
      "Target: parametric answer: জেমস কুক; জ্যঁ-ফ্রাঁসোয়া দ্য গালপ; কঁতে দে লা পেরুজ\n",
      "contextual answer: জেমস কুক; জ্যঁ-ফ্রাঁসোয়া দ্য গালপ; কঁতে দে লা পেরুজ\n",
      "generated: parametric answer:জেমস কুক এবং জ্যঁ-ফ্রাঁসোয়া দ্য গালপ, কঁতে দে লা পেরুজের নৌযাত্রার সাথে সমতুল্য ছিল।\n",
      "contextual answer: জেমস কুক এবং জ্যঁ-ফ্রাঁসোয়া দ্য গালপ, কঁতে দে লা পেরুজের নৌযাত্রার সাথে সমতুল্য ছিল।\n"
     ]
    },
    {
     "name": "stderr",
     "output_type": "stream",
     "text": [
      "Processing rows:   8%|████▋                                                        | 57/740 [09:36<2:27:48, 12.98s/row]"
     ]
    },
    {
     "name": "stdout",
     "output_type": "stream",
     "text": [
      "Target: parametric answer: সরকারকে উৎখাতের ষড়যন্ত্রে মালাস্পিনার সম্পৃক্ততার অভিযোগ আসে তাই\n",
      "contextual answer: সরকারকে উৎখাতের ষড়যন্ত্রে মালাস্পিনার সম্পৃক্ততার অভিযোগ আসে তাই\n",
      "generated: parametric answer:মালাস্পিনাকে কারাগারে পাঠানো হয়েছিল কারণ তিনি স্পেনের সরকারের বিরুদ্ধে ষড়যন্ত্রে সম্পৃক্ত হলে অভিযোগ করা হয়েছিল।\n",
      "contextual answer: মালাস্পিনাকে কারাগারে পাঠানো হয়েছিল কারণ তিনি সরকারের বিরুদ্ধে ষড়যন্ত্রে সম্পৃক্ত হলে অভিযোগ করা হয়েছিল।\n"
     ]
    },
    {
     "name": "stderr",
     "output_type": "stream",
     "text": [
      "Processing rows:   8%|████▊                                                        | 58/740 [09:54<2:42:44, 14.32s/row]"
     ]
    },
    {
     "name": "stdout",
     "output_type": "stream",
     "text": [
      "Target: parametric answer: ১৫,০০,০০,০০০ কি.মি\n",
      "contextual answer: ১৫,০০,০০,০০০ কি.মি\n",
      "generated: parametric answer:১ এইউ হল ১৫০ মিলিয়ন কি.মি।\n",
      "contextual answer: ১ এইউ হল ১৫,০০,০০,০০০ কি.মি (১৫০ মিলিয়ন কি.মি)।\n"
     ]
    },
    {
     "name": "stderr",
     "output_type": "stream",
     "text": [
      "Processing rows:   8%|█████                                                        | 61/740 [10:08<2:09:25, 11.44s/row]"
     ]
    },
    {
     "name": "stdout",
     "output_type": "stream",
     "text": [
      "Target: parametric answer: ৩০%\n",
      "contextual answer: ৩০%\n",
      "generated: parametric answer:৩০%\n",
      "contextual answer: ৩০%\n"
     ]
    },
    {
     "name": "stderr",
     "output_type": "stream",
     "text": [
      "Processing rows:   8%|█████                                                        | 62/740 [10:22<2:17:20, 12.15s/row]"
     ]
    },
    {
     "name": "stdout",
     "output_type": "stream",
     "text": [
      "Target: parametric answer: ১.৭ এইউ\n",
      "contextual answer: ১.৭ এইউ\n",
      "generated: parametric answer:প্রায় ১ এইউ (বর্তমান দূরত্ব)\n",
      "contextual answer: প্রায় ১.৭ এইউ\n"
     ]
    },
    {
     "name": "stderr",
     "output_type": "stream",
     "text": [
      "Processing rows:   9%|█████▏                                                       | 63/740 [10:36<2:23:18, 12.70s/row]"
     ]
    },
    {
     "name": "stdout",
     "output_type": "stream",
     "text": [
      "Target: parametric answer:  ২০০৮ সালে করা একটি সিমুলেশনের ফলাফল ইঙ্গিত দেয় যে, জোয়ার-ভাটার প্রভাব না থাকার কারণে পৃথিবীর কক্ষপথ এক সময় হ্রাস পাবে\n",
      "contextual answer:  ২০০৮ সালে করা একটি সিমুলেশনের ফলাফল ইঙ্গিত দেয় যে, জোয়ার-ভাটার প্রভাব না থাকার কারণে পৃথিবীর কক্ষপথ এক সময় হ্রাস পাবে\n",
      "generated: parametric answer:পৃথিবীর কক্ষপথ হ্রাস পাবে কারণ জোয়ার-ভাটার প্রভাব না থাকা সুবিধা হলে পৃথিবী সূর্যের কাছাকাছি চলে যাবে। সত্যিকারে, জোয়ার-ভাটা প্রভাবের কারণে পৃথিবীর কক্ষপথ বৃদ্ধি পায়, তবে জোয়ার-ভাটার প্রভাব না থাকলে পৃথিবী সূর্যের কাছাকাছি চলে যাবে এবং সূর্যের পরিমণ্ডলে প্রবেশ করবে।\n",
      "contextual answer: পৃথিবীর কক্ষপথ হ্রাস পাবে কারণ জোয়ার-ভাটার প্রভাব না থাকা।\n"
     ]
    },
    {
     "name": "stderr",
     "output_type": "stream",
     "text": [
      "Processing rows:   9%|█████▎                                                       | 64/740 [10:53<2:39:11, 14.13s/row]"
     ]
    },
    {
     "name": "stdout",
     "output_type": "stream",
     "text": [
      "Target: parametric answer: অনলাইনে খাবার অর্ডার করার একধরনের ব্র্যান্ড বা কোম্পানি\n",
      "contextual answer: অনলাইনে খাবার অর্ডার করার একধরনের ব্র্যান্ড বা কোম্পানি\n",
      "generated: parametric answer:ফুডপান্ডা হলো একটি অনলাইন খাবার অর্ডারিং সার্ভিস, যা ডেলিভারি হিরো কোম্পানির মালিকানাধীন। এটি বিশ্বব্যাপী ৫০ টি দেশে ব্যবসা করে এবং বিভিন্ন রাষ্ট্রে খাবার ডেলিভারি সেবা প্রদান করে।\n",
      "contextual answer: ফুডপান্ডা হলো অনলাইনে খাবার অর্ডার করার একধরনের ব্র্যান্ড বা কোম্পানি। এটি ডেলিভারি হিরো এর মালিকানাধীন একটি অনলাইন খাদ্য এবং মুদি বিতরণ প্ল্যাটফর্ম ব্র্যান্ড। এটির প্রধান সদরদপ্তর জার্মানির বার্লিন শহরে অবস্থিত এবং চারটি মহাদেশ জুড়ে প্রায় ৫০ টি দেশে ২০ টি ব্র্যান্ডের সাথে এটি কাজ করে।\n"
     ]
    },
    {
     "name": "stderr",
     "output_type": "stream",
     "text": [
      "Processing rows:   9%|█████▎                                                       | 65/740 [11:10<2:48:29, 14.98s/row]"
     ]
    },
    {
     "name": "stdout",
     "output_type": "stream",
     "text": [
      "Target: parametric answer: ইনভেস্টমেন্ট এবি কিনেভিক; পেনোমেন ভেঞ্চার; রকেট ইন্টারনেট\n",
      "contextual answer: ইনভেস্টমেন্ট এবি কিনেভিক; পেনোমেন ভেঞ্চার; রকেট ইন্টারনেট\n",
      "generated: parametric answer:ইনভেস্টমেন্ট এবি কিনেভিক, পেনোমেন ভেঞ্চার এবং রকেট ইন্টারনেট।\n",
      "contextual answer: ইনভেস্টমেন্ট এবি কিনেভিক, পেনোমেন ভেঞ্চার এবং রকেট ইন্টারনেট।\n"
     ]
    },
    {
     "name": "stderr",
     "output_type": "stream",
     "text": [
      "Processing rows:   9%|█████▋                                                       | 69/740 [11:26<2:10:22, 11.66s/row]"
     ]
    },
    {
     "name": "stdout",
     "output_type": "stream",
     "text": [
      "Target: parametric answer: কোনও দলীয় ম্যাচের শুরুতে\n",
      "contextual answer: কোনও দলীয় ম্যাচের শুরুতে\n",
      "generated: parametric answer:ক্রিকেট এ টস ম্যাচের শুরুতে অনুষ্ঠিত হয়।\n",
      "contextual answer: ক্রিকেট এ টস কোনও দলীয় ম্যাচের শুরুতে অনুষ্ঠিত হয়।\n"
     ]
    },
    {
     "name": "stderr",
     "output_type": "stream",
     "text": [
      "Processing rows:   9%|█████▊                                                       | 70/740 [11:40<2:17:57, 12.35s/row]"
     ]
    },
    {
     "name": "stdout",
     "output_type": "stream",
     "text": [
      "Target: parametric answer: পিচটি যদি নরম বা ধূলিময় হয়\n",
      "contextual answer: পিচটি যদি নরম বা ধূলিময় হয়\n",
      "generated: parametric answer:পিচটি নরম বা ধূলিময় হলে অধিনায়ক স্পিনারদের প্রাধান্য দেন।\n",
      "contextual answer: পিচটি যদি নরম বা ধূলিময় হয় তবে অধিনায়ক আরও স্পিন বোলার বাছাই করতে চান।\n"
     ]
    },
    {
     "name": "stderr",
     "output_type": "stream",
     "text": [
      "Processing rows:  10%|█████▊                                                       | 71/740 [11:57<2:32:51, 13.71s/row]"
     ]
    },
    {
     "name": "stdout",
     "output_type": "stream",
     "text": [
      "Target: parametric answer: আধঘণ্টা\n",
      "contextual answer: আধঘণ্টা\n",
      "generated: parametric answer:৩০ মিনিট আগে।\n",
      "contextual answer: ৩০ মিনিট আগে।\n"
     ]
    },
    {
     "name": "stderr",
     "output_type": "stream",
     "text": [
      "Processing rows:  10%|█████▉                                                       | 72/740 [12:11<2:33:37, 13.80s/row]"
     ]
    },
    {
     "name": "stdout",
     "output_type": "stream",
     "text": [
      "Target: parametric answer: কনকাসন\n",
      "contextual answer: কনকাসন\n",
      "generated: parametric answer:কোনও কনকাসন বিকল্প ক্ষেত্র বাদে ম্যাচের সময়কালে ঐ তালিকাবদ্ধ খেলোয়াড়দের পরিবর্তন করা যায় না।\n",
      "contextual answer: কোনও কনকাসন বিকল্প ক্ষেত্র বাদে ম্যাচের সময়কালে ঐ তালিকাবদ্ধ খেলোয়াড়দের পরিবর্তন করা যায় না।\n"
     ]
    },
    {
     "name": "stderr",
     "output_type": "stream",
     "text": [
      "Processing rows:  10%|██████                                                       | 74/740 [12:27<2:14:40, 12.13s/row]"
     ]
    },
    {
     "name": "stdout",
     "output_type": "stream",
     "text": [
      "Target: parametric answer: রাষ্ট্রবিজ্ঞানী এম. স্টিভেন ফিশ; ম্যাথু ক্রোয়েনিগ\n",
      "contextual answer: রাষ্ট্রবিজ্ঞানী এম. স্টিভেন ফিশ; ম্যাথু ক্রোয়েনিগ\n",
      "generated: parametric answer:এম. স্টিভেন ফিশ এবং ম্যাথু ক্রোয়েনিগ।\n",
      "contextual answer: এম. স্টিভেন ফিশ এবং ম্যাথু ক্রোয়েনিগ।\n"
     ]
    },
    {
     "name": "stderr",
     "output_type": "stream",
     "text": [
      "Processing rows:  10%|██████▏                                                      | 75/740 [12:41<2:21:57, 12.81s/row]"
     ]
    },
    {
     "name": "stdout",
     "output_type": "stream",
     "text": [
      "Target: parametric answer: জার্মান বুন্দেসট্যাগ; ইতালীয় সংসদ;মঙ্গোলিয়ার রাজ্য বৃহৎ খুরাল\n",
      "contextual answer: জার্মান বুন্দেসট্যাগ; ইতালীয় সংসদ;মঙ্গোলিয়ার রাজ্য বৃহৎ খুরাল\n",
      "generated: parametric answer:জার্মান বুন্দেসট্যাগ, ইতালীয় সংসদ এবং মঙ্গোলিয়ার রাজ্য বৃহৎ খুরাল।\n",
      "contextual answer: জার্মান বুন্দেসট্যাগ, ইতালীয় সংসদ এবং মঙ্গোলিয়ার রাজ্য বৃহৎ খুরাল।\n"
     ]
    },
    {
     "name": "stderr",
     "output_type": "stream",
     "text": [
      "Processing rows:  10%|██████▎                                                      | 76/740 [12:55<2:25:36, 13.16s/row]"
     ]
    },
    {
     "name": "stdout",
     "output_type": "stream",
     "text": [
      "Target: parametric answer: মিয়ানমারের প্রতিনিধি পরিষদ এবং সোমালিয়ার অন্তর্বর্তীকালীন কেন্দ্রীয় পরিষদ\n",
      "contextual answer: মিয়ানমারের প্রতিনিধি পরিষদ এবং সোমালিয়ার অন্তর্বর্তীকালীন কেন্দ্রীয় পরিষদ\n",
      "generated: parametric answer:মিয়ানমারের প্রতিনিধি পরিষদ এবং সোমালিয়ার অন্তর্বর্তীকালীন কেন্দ্রীয় পরিষদ সবচেয়ে কম শক্তিশালী আইনসভা।\n",
      "contextual answer: মিয়ানমারের প্রতিনিধি পরিষদ এবং সোমালিয়ার অন্তর্বর্তীকালীন কেন্দ্রীয় পরিষদ (সোমালিয়া কেন্দ্রীয় সংসদ দ্বারা প্রতিস্থাপিত হওয়ার পর থেকে) সবচেয়ে কম শক্তিশালী।\n"
     ]
    },
    {
     "name": "stderr",
     "output_type": "stream",
     "text": [
      "Processing rows:  10%|██████▎                                                      | 77/740 [13:11<2:34:35, 13.99s/row]"
     ]
    },
    {
     "name": "stdout",
     "output_type": "stream",
     "text": [
      "Target: parametric answer: প্রশাসনিক বা নির্বাহী সংস্থাগুলির হাতে\n",
      "contextual answer: প্রশাসনিক বা নির্বাহী সংস্থাগুলির হাতে\n",
      "generated: parametric answer:আইনসভাগুলি তাদের আইনি ক্ষমতা প্রশাসনিক সংস্থা, স্থানীয় সরকার, বা বিশেষ ক্ষেত্রে ব্যক্তিগত সংস্থাগুলির হাতে অর্পণ করতে পারেন। এই অর্পণ সাধারণত নির্দিষ্ট বিষয়ের জন্য হয় এবং এটি সরকারের কার্যকলাপকে সহজ করতে সাহায্য করে।\n",
      "contextual answer: আইনসভাগুলি কখনও কখনও তাদের আইনি ক্ষমতা প্রশাসনিক বা নির্বাহী সংস্থাগুলির হাতে অর্পণ করে।\n"
     ]
    },
    {
     "name": "stderr",
     "output_type": "stream",
     "text": [
      "Processing rows:  11%|██████▌                                                      | 79/740 [13:25<2:10:57, 11.89s/row]"
     ]
    },
    {
     "name": "stdout",
     "output_type": "stream",
     "text": [
      "Target: parametric answer: ডেস্কটপের তুলনায় ল্যাপটপের সম্প্রসারণ ক্ষমতা খুব কম\n",
      "contextual answer: ডেস্কটপের তুলনায় ল্যাপটপের সম্প্রসারণ ক্ষমতা খুব কম\n",
      "generated: parametric answer:ল্যাপটপের গ্রাফিক্স প্রসেসর সাধারণত ডেস্কটপের তুলনায় কম ক্ষমতাসম্পন্ন।\n",
      "contextual answer: ল্যাপটপের গ্রাফিক্স প্রসেসর ডেস্কটপের তুলনায় পিছিয়ে আছে।\n"
     ]
    },
    {
     "name": "stderr",
     "output_type": "stream",
     "text": [
      "Processing rows:  11%|██████▌                                                      | 80/740 [13:42<2:27:18, 13.39s/row]"
     ]
    },
    {
     "name": "stdout",
     "output_type": "stream",
     "text": [
      "Target: parametric answer: বৈজ্ঞানিক; ৩ডি গেমিংয়ে\n",
      "contextual answer: বৈজ্ঞানিক; ৩ডি গেমিংয়ে\n",
      "generated: parametric answer:ল্যাপটপের ব্যবহার বৈজ্ঞানিক কাজ, ৩ডি গেমিং, ভিডিও সম্পাদনা এবং ভার্চুয়াল জগতের কাজে সীমাবদ্ধ, কারণ তাদের ক্ষমতা এবং সম্প্রসারণ সক্ষমতা ডেস্কটপের তুলনায় কম।\n",
      "contextual answer: ল্যাপটপের ব্যবহার বৈজ্ঞানিক কাজ এবং ৩ডি গেমিংয়ে সীমাবদ্ধ, কারণ তাদের গ্রাফিক্স প্রসেসর ডেস্কটপের তুলনায় পিছিয়ে আছে। সম্প্রসারণ সক্ষমতা খুব কম এবং বহনযোগ্যতা ক্ষতিগ্রস্ত হয় বাহ্যিক সম্প্রসারণ কার্ড ব্যবহার করলে।\n"
     ]
    },
    {
     "name": "stderr",
     "output_type": "stream",
     "text": [
      "Processing rows:  11%|██████▋                                                      | 81/740 [14:00<2:40:03, 14.57s/row]"
     ]
    },
    {
     "name": "stdout",
     "output_type": "stream",
     "text": [
      "Target: parametric answer: সম্প্রসারণ ক্ষমতা\n",
      "contextual answer: সম্প্রসারণ ক্ষমতা\n",
      "generated: parametric answer:ল্যাপটপের সম্প্রসারণ সক্ষমতা খুব কম।\n",
      "contextual answer: ল্যাপটপের সম্প্রসারণ সক্ষমতা খুব কম।\n"
     ]
    },
    {
     "name": "stderr",
     "output_type": "stream",
     "text": [
      "Processing rows:  11%|██████▊                                                      | 82/740 [14:15<2:43:09, 14.88s/row]"
     ]
    },
    {
     "name": "stdout",
     "output_type": "stream",
     "text": [
      "Target: parametric answer: বাঁধ;চর;জল বণ্টন ব্যবস্থা;জল সংগ্রহ ব্যবস্থা;নিকাশী ব্যবস্থা;ঝড়-ঝঞ্ঝার ফলে জমা অতিরিক্ত জলের ব্যবস্থা; পলল পরিবহন;পরিবহণ প্রকৌশল ও ভূ-কারিগরি প্রকৌশল\n",
      "contextual answer: বাঁধ;চর;জল বণ্টন ব্যবস্থা;জল সংগ্রহ ব্যবস্থা;নিকাশী ব্যবস্থা;ঝড়-ঝঞ্ঝার ফলে জমা অতিরিক্ত জলের ব্যবস্থা; পলল পরিবহন;পরিবহণ প্রকৌশল ও ভূ-কারিগরি প্রকৌশল\n",
      "generated: parametric answer:তরল প্রবাহ প্রকৌশলীদের সাধারণত তরলের গতি, তরলের বলবিজ্ঞান, তরলের স্থিতিবিজ্ঞান, তরলের সমীকরণ, তরলের চলন, তরলের প্রবাহ, তরলের স্পন্দন, তরলের উপকারিতা, তরলের স্তর, তরলের প্রবাহের সমীকরণ, তরলের প্রবাহের গতিবিজ্ঞান, তরলের প্রবাহের বলবিজ্ঞান, তরলের প্রবাহের স্থিতিবিজ্ঞান, তরলের প্রবাহের সমীকরণ, তরলের প্রবাহের গতিবিজ্ঞান, তরলের প্রবাহের বলবিজ্ঞান, তরলের প্রবাহের স্থিতিবিজ্ঞান, তরলের প্রবাহের সমীকরণ, তরলের প্রবাহের গতিবিজ্ঞান, তরলের প্রবাহের বলবিজ্ঞান, তরলের প্রবাহের স্থিতিবিজ্ঞান, তরলের প্রবাহের\n",
      "contextual answer: তরল প্রবাহ প্রকৌশলীদের সাধারণত জলবাহী কাঠামো যেমন বাঁধ, চর, জল বণ্টন ব্যবস্থা, জল সংগ্রহ ব্যবস্থা, নিকাশী ব্যবস্থা, ঝড়-ঝঞ্ঝার ফলে জমা অতিরিক্ত জলের ব্যবস্থা, পলল পরিবহন, এবং পরিবহণ প্রকৌশল ও ভূ-কারিগরি প্রকৌশল-এর বিভিন্ন বিষয়ের নকশা ও অধ্যয়ন করতে হয়। প্রবাহী গতিবিজ্ঞান এবং তরল বলবিজ্ঞানের বিভিন্ন সমীকরণ প্রকৌশলের বিভিন্ন শাখা যেমন যন্ত্রকৌশল, বায়বাকাশ প্রকৌশল, যানচলাচল প্রকৌশলে ব্যাপকভাবে ব্যবহৃত হয়। এই শাখার সংশ্লিষ্ট শাখা হলো জলবাহী বিজ্ঞান এবং প্রবাহ বিদ্যা যারা জলবহনের নকশা, বন্যার মানচিত্র, অববাহিকায় বন্যারোধী ব্যবস্থাপনা, উপকূল ব্যবস্থাপনা পরিকল্পনা, মোহনা পরিকল্পনা, উপকূলীয় সুরক্ষা, বন্যা বিমোচন ইত্যাদি বিষয় নিয়ে কাজ করে।\n"
     ]
    },
    {
     "name": "stderr",
     "output_type": "stream",
     "text": [
      "Processing rows:  11%|███████                                                      | 85/740 [14:29<2:08:58, 11.81s/row]"
     ]
    },
    {
     "name": "stdout",
     "output_type": "stream",
     "text": [
      "Target: parametric answer: আফ্রিকা এবং মধ্যপ্রাচ্যে\n",
      "contextual answer: আফ্রিকা এবং মধ্যপ্রাচ্যে\n",
      "generated: parametric answer:প্রাচীন মিসর, বাবিলন, এবং পারস্যে (যেমন শাত্ত আল-আরব নদী এবং কানাত নালী ব্যবস্থা)।\n",
      "contextual answer: আফ্রিকা এবং মধ্যপ্রাচ্যে।\n"
     ]
    },
    {
     "name": "stderr",
     "output_type": "stream",
     "text": [
      "Processing rows:  12%|███████                                                      | 86/740 [14:46<2:25:06, 13.31s/row]"
     ]
    },
    {
     "name": "stdout",
     "output_type": "stream",
     "text": [
      "Target: parametric answer: সুনসু আও\n",
      "contextual answer: সুনসু আও\n",
      "generated: parametric answer:সুনসু আও\n",
      "contextual answer: সুনসু আও\n"
     ]
    },
    {
     "name": "stderr",
     "output_type": "stream",
     "text": [
      "Processing rows:  12%|███████▏                                                     | 87/740 [15:00<2:26:58, 13.50s/row]"
     ]
    },
    {
     "name": "stdout",
     "output_type": "stream",
     "text": [
      "Target: parametric answer: যন্ত্রকৌশল;বায়বাকাশ প্রকৌশল;যানচলাচল প্রকৌশলে ব্যাপকভাবে ব্যবহৃত হয়\n",
      "contextual answer: যন্ত্রকৌশল;বায়বাকাশ প্রকৌশল;যানচলাচল প্রকৌশলে ব্যাপকভাবে ব্যবহৃত হয়\n",
      "generated: parametric answer:যন্ত্রকৌশল, বায়বাকাশ প্রকৌশল, যানচলাচল প্রকৌশল।\n",
      "contextual answer: যন্ত্রকৌশল, বায়বাকাশ প্রকৌশল, যানচলাচল প্রকৌশল।\n"
     ]
    },
    {
     "name": "stderr",
     "output_type": "stream",
     "text": [
      "Processing rows:  12%|███████▎                                                     | 88/740 [15:14<2:28:39, 13.68s/row]"
     ]
    },
    {
     "name": "stdout",
     "output_type": "stream",
     "text": [
      "Target: parametric answer: ঘড়িতে একটি অর্ধবৃত্তাকার ভর পর্যায়বৃত্ত গতিতে আন্দোলিত হতে থাকে\n",
      "contextual answer: ঘড়িতে একটি অর্ধবৃত্তাকার ভর পর্যায়বৃত্ত গতিতে আন্দোলিত হতে থাকে\n",
      "generated: parametric answer:স্বয়ংক্রিয় ঘড়িতে ঘড়ি স্বয়ংক্রিয়ভাবে গতিপ্রাপ্ত হয় ব্যক্তি যখন হাঁটাহাঁটি করে তখন ঘড়িতে একটি রোটার বা ভর গতিশক্তি সংগ্রহ করে মেইনস্প্রিংকে চালিত করে। এই প্রক্রিয়াতে কিনেটিক শক্তি তড়িৎ শক্তিতে রুপান্তরিত হয় এবং ঘড়ির গতিকে নিয়ন্ত্রণ করে।\n",
      "contextual answer: ঘড়ি স্বয়ংক্রিয়ভাবে গতিপ্রাপ্ত হয় ব্যক্তি যখন হাঁটাহাঁটি বা দৌড়াদৌড়ি করে তখন ঘড়িতে একটি অর্ধবৃত্তাকার ভর পর্যায়বৃত্ত গতিতে আন্দোলিত হতে থাকে। এর ফলে মেইনস্প্রিং গতিশক্তি প্রাপ্ত হয় এবং ঘড়ির গতিকে নিয়ন্ত্রণ করে।\n"
     ]
    },
    {
     "name": "stderr",
     "output_type": "stream",
     "text": [
      "Processing rows:  12%|███████▍                                                     | 90/740 [15:31<2:11:56, 12.18s/row]"
     ]
    },
    {
     "name": "stdout",
     "output_type": "stream",
     "text": [
      "Target: parametric answer: কোয়ার্জ গতি\n",
      "contextual answer: কোয়ার্জ গতি\n",
      "generated: parametric answer:কোয়ার্জ গতি।\n",
      "contextual answer: কোয়ার্জ গতি।\n"
     ]
    },
    {
     "name": "stderr",
     "output_type": "stream",
     "text": [
      "Processing rows:  12%|███████▌                                                     | 91/740 [15:45<2:17:37, 12.72s/row]"
     ]
    },
    {
     "name": "stdout",
     "output_type": "stream",
     "text": [
      "Target: parametric answer: জাপানিজ 'সিকো'\n",
      "contextual answer: জাপানিজ 'সিকো'\n",
      "generated: parametric answer:সিকো (Seiko)।\n",
      "contextual answer: জাপানিজ 'সিকো' কোম্পানি।\n"
     ]
    },
    {
     "name": "stderr",
     "output_type": "stream",
     "text": [
      "Processing rows:  12%|███████▌                                                     | 92/740 [15:59<2:21:21, 13.09s/row]"
     ]
    },
    {
     "name": "stdout",
     "output_type": "stream",
     "text": [
      "Target: parametric answer: কোয়ার্টজ ঘড়ি\n",
      "contextual answer: কোয়ার্টজ ঘড়ি\n",
      "generated: parametric answer:কোয়ার্টজ ঘড়ি সবচেয়ে নিখুঁতভাবে সময়ের হালনাগাদ করতে পারে।\n",
      "contextual answer: কোয়ার্টজ ঘড়ি সবচেয়ে নিখুঁতভাবে সময়ের হালনাগাদ করতে পারে।\n"
     ]
    },
    {
     "name": "stderr",
     "output_type": "stream",
     "text": [
      "Processing rows:  13%|███████▋                                                     | 93/740 [16:13<2:24:04, 13.36s/row]"
     ]
    },
    {
     "name": "stdout",
     "output_type": "stream",
     "text": [
      "Target: parametric answer: ডেনড্রোক্রোনোলজির\n",
      "contextual answer: ডেনড্রোক্রোনোলজির\n",
      "generated: parametric answer:ডেনড্রোক্রোনোলজি বা বৃক্ষ-চক্র ডেটিং।\n",
      "contextual answer: ডেনড্রোক্রোনোলজি বা বৃক্ষ-চক্র ডেটিং।\n"
     ]
    },
    {
     "name": "stderr",
     "output_type": "stream",
     "text": [
      "Processing rows:  13%|███████▊                                                     | 95/740 [16:27<2:03:00, 11.44s/row]"
     ]
    },
    {
     "name": "stdout",
     "output_type": "stream",
     "text": [
      "Target: parametric answer: প্রত্নবাস্তুবিদ্যা ;যেখানে অতীতের বাস্তুবিদ্যার কিছু দিক ;প্রত্নতত্ত্ব ;রেডিওকার্বন ডেটিং\n",
      "contextual answer: প্রত্নবাস্তুবিদ্যা ;যেখানে অতীতের বাস্তুবিদ্যার কিছু দিক ;প্রত্নতত্ত্ব ;রেডিওকার্বন ডেটিং\n",
      "generated: parametric answer:প্রত্নবাস্তুবিদ্যা, জলবায়ুবিজ্ঞান, এবং রেডিওকার্বন ডেটিং।\n",
      "contextual answer: প্রত্নবাস্তুবিদ্যা, প্রত্নতত্ত্ব, এবং রেডিওকার্বন ডেটিং।\n"
     ]
    },
    {
     "name": "stderr",
     "output_type": "stream",
     "text": [
      "Processing rows:  13%|███████▉                                                     | 96/740 [16:46<2:26:31, 13.65s/row]"
     ]
    },
    {
     "name": "stdout",
     "output_type": "stream",
     "text": [
      "Target: parametric answer: ১১\n",
      "contextual answer: ১১\n",
      "generated: parametric answer:১১ হাজার বছর।\n",
      "contextual answer: ১১ হাজার বছর।\n"
     ]
    },
    {
     "name": "stderr",
     "output_type": "stream",
     "text": [
      "Processing rows:  13%|███████▉                                                     | 97/740 [17:00<2:27:14, 13.74s/row]"
     ]
    },
    {
     "name": "stdout",
     "output_type": "stream",
     "text": [
      "Target: parametric answer: পঞ্চম\n",
      "contextual answer: পঞ্চম\n",
      "generated: parametric answer:বৃহস্পতি গ্রহ সূর্য থেকে দূরত্বের দিক দিয়ে পঞ্চম তম।\n",
      "contextual answer: বৃহস্পতি গ্রহ সূর্য থেকে দূরত্বের দিক দিয়ে পঞ্চম তম।\n"
     ]
    },
    {
     "name": "stderr",
     "output_type": "stream",
     "text": [
      "Processing rows:  14%|████████                                                    | 100/740 [17:14<1:57:31, 11.02s/row]"
     ]
    },
    {
     "name": "stdout",
     "output_type": "stream",
     "text": [
      "Target: parametric answer: প্লুটোর\n",
      "contextual answer: প্লুটোর\n",
      "generated: parametric answer:নিউ হরাইজন্ মহাশূন্যযানের উদ্দেশ্য ছিল প্লুটো এবং কুইপার বelts-এর অন্যান্য বস্তুগুলো অনুসন্ধান করা।\n",
      "contextual answer: নিউ হরাইজন্ মূলত প্লুটোর উদ্দেশ্যে যাত্রা শুরু করেছিল।\n"
     ]
    },
    {
     "name": "stderr",
     "output_type": "stream",
     "text": [
      "Processing rows:  14%|████████▏                                                   | 101/740 [17:28<2:06:44, 11.90s/row]"
     ]
    },
    {
     "name": "stdout",
     "output_type": "stream",
     "text": [
      "Target: parametric answer: ২০০৭ সালের ফেব্রুয়ারি মাসে\n",
      "contextual answer: ২০০৭ সালের ফেব্রুয়ারি মাসে\n",
      "generated: parametric answer:২০০৭ সালের ফেব্রুয়ারি মাসে।\n",
      "contextual answer: ২০০৭ সালের ফেব্রুয়ারি মাসে।\n"
     ]
    },
    {
     "name": "stderr",
     "output_type": "stream",
     "text": [
      "Processing rows:  14%|████████▎                                                   | 102/740 [17:42<2:13:00, 12.51s/row]"
     ]
    },
    {
     "name": "stdout",
     "output_type": "stream",
     "text": [
      "Target: parametric answer: জিউস\n",
      "contextual answer: জিউস\n",
      "generated: parametric answer:জিউস।\n",
      "contextual answer: জিউস।\n"
     ]
    },
    {
     "name": "stderr",
     "output_type": "stream",
     "text": [
      "Processing rows:  14%|████████▎                                                   | 103/740 [17:56<2:17:21, 12.94s/row]"
     ]
    },
    {
     "name": "stdout",
     "output_type": "stream",
     "text": [
      "Target: parametric answer: ২.৮\n",
      "contextual answer: ২.৮\n",
      "generated: parametric answer:-২.৮\n",
      "contextual answer: ২.৮\n"
     ]
    },
    {
     "name": "stderr",
     "output_type": "stream",
     "text": [
      "Processing rows:  14%|████████▍                                                   | 104/740 [18:10<2:20:29, 13.25s/row]"
     ]
    },
    {
     "name": "stdout",
     "output_type": "stream",
     "text": [
      "Target: parametric answer: টি এ গাঙ্গুলী\n",
      "contextual answer: টি এ গাঙ্গুলী\n",
      "generated: parametric answer:টি এ গাঙ্গুলী\n",
      "contextual answer: টি এ গাঙ্গুলী\n"
     ]
    },
    {
     "name": "stderr",
     "output_type": "stream",
     "text": [
      "Processing rows:  14%|████████▌                                                   | 105/740 [18:24<2:22:26, 13.46s/row]"
     ]
    },
    {
     "name": "stdout",
     "output_type": "stream",
     "text": [
      "Target: parametric answer: নিজের গলার স্বর্ণের চেইন ও ক্রুশ\n",
      "contextual answer: নিজের গলার স্বর্ণের চেইন ও ক্রুশ\n",
      "generated: parametric answer:গলার স্বর্ণের চেইন ও ক্রুশ।\n",
      "contextual answer: গলার স্বর্ণের চেইন ও ক্রুশ।\n"
     ]
    },
    {
     "name": "stderr",
     "output_type": "stream",
     "text": [
      "Processing rows:  14%|████████▌                                                   | 106/740 [18:38<2:23:41, 13.60s/row]"
     ]
    },
    {
     "name": "stdout",
     "output_type": "stream",
     "text": [
      "Target: parametric answer: বিশিষ্ট মুক্তিযোদ্ধা ,যিনি বর্তমান সরকারের একজন সমাজ কল্যাণ প্রতিমন্ত্রী হিসেবে দায়িত্ব পালন করছেন\n",
      "contextual answer: বিশিষ্ট মুক্তিযোদ্ধা ,যিনি বর্তমান সরকারের একজন সমাজ কল্যাণ প্রতিমন্ত্রী হিসেবে দায়িত্ব পালন করছেন\n",
      "generated: parametric answer:এড. প্রমোদ মানকিন বাংলাদেশের মহান মুক্তিযোদ্ধা এবং একজন স্পর্দ্ধাত্মক রাজনীতিবিদ, যিনি সমাজ কল্যাণ মন্ত্রিত্বে দায়িত্ব পালন করেছেন এবং বিভিন্ন সামাজিক কার্যকলাপে অবদান রাখেছেন।\n",
      "contextual answer: এড. প্রমোদ মানকিন মুক্তিযোদ্ধা এবং বর্তমান সরকারের একজন সমাজ কল্যাণ প্রতিমন্ত্রী।\n"
     ]
    },
    {
     "name": "stderr",
     "output_type": "stream",
     "text": [
      "Processing rows:  14%|████████▋                                                   | 107/740 [18:55<2:33:55, 14.59s/row]"
     ]
    },
    {
     "name": "stdout",
     "output_type": "stream",
     "text": [
      "Target: parametric answer: মুক্তিযোদ্ধা ও বিশিষ্ট সাংবাদিক চিত্ত\n",
      "contextual answer: মুক্তিযোদ্ধা ও বিশিষ্ট সাংবাদিক চিত্ত\n",
      "generated: parametric answer:চিত্ত ফ্রান্সিস রিবেরূ ছিলেন একজন মুক্তিযোদ্ধা এবং সাংবাদিক, যিনি বাংলাদেশের মুক্তিযুদ্ধে গুরুত্বপূর্ণ ভূমিকা পালন করেছিলেন।\n",
      "contextual answer: চিত্ত ফ্রান্সিস রিবেরূ মুক্তিযোদ্ধা এবং বিশিষ্ট সাংবাদিক ছিলেন। তিনি মুক্তিযুদ্ধ চলাকালিন গুরুত্বপূর্ণ ভূমিকা পালন করেন।\n"
     ]
    },
    {
     "name": "stderr",
     "output_type": "stream",
     "text": [
      "Processing rows:  15%|████████▊                                                   | 108/740 [19:11<2:38:21, 15.03s/row]"
     ]
    },
    {
     "name": "stdout",
     "output_type": "stream",
     "text": [
      "Target: parametric answer: নেটস্কেপের মত কোম্পানিগুলোর জন্যে প্রযুক্তি প্রদান করা\n",
      "contextual answer: নেটস্কেপের মত কোম্পানিগুলোর জন্যে প্রযুক্তি প্রদান করা\n",
      "generated: parametric answer:মোজিলার উদ্দেশ্য ছিলো ওপেন সোর্স সফটওয়্যার বিকাস করা এবং ইন্টারনেটের সম্প্রদায়কে বাঁচাবার জন্য প্রযুক্তি বিকাস করা, যেমন ফায়ারফক্স ব্রাউজার।\n",
      "contextual answer: মোজিলার উদ্দেশ্য ছিলো নেটস্কেপের মত কোম্পানিগুলোর জন্যে প্রযুক্তি প্রদান করা, যারা তাদের ওপেন সোর্স কোডকে বাণিজ্যিকীকরণ করবে।\n"
     ]
    },
    {
     "name": "stderr",
     "output_type": "stream",
     "text": [
      "Processing rows:  15%|████████▉                                                   | 110/740 [19:27<2:16:46, 13.03s/row]"
     ]
    },
    {
     "name": "stdout",
     "output_type": "stream",
     "text": [
      "Target: parametric answer: $১৬৩ মিলিয়ন\n",
      "contextual answer: $১৬৩ মিলিয়ন\n",
      "generated: parametric answer:২০১১ সালে মোজিলার মোট মুনাফা ছিলো $১৬৩ মিলিয়ন।\n",
      "contextual answer: ২০১১ সালে মোজিলার মোট মুনাফা ছিলো $১৬৩ মিলিয়ন।\n"
     ]
    },
    {
     "name": "stderr",
     "output_type": "stream",
     "text": [
      "Processing rows:  15%|█████████                                                   | 111/740 [19:43<2:24:17, 13.76s/row]"
     ]
    },
    {
     "name": "stdout",
     "output_type": "stream",
     "text": [
      "Target: parametric answer: ডিসেম্বর ২০১৩ সালে\n",
      "contextual answer: ডিসেম্বর ২০১৩ সালে\n",
      "generated: parametric answer:ডিসেম্বর ২০১৩ সালে।\n",
      "contextual answer: ডিসেম্বর ২০১৩ সালে।\n"
     ]
    },
    {
     "name": "stderr",
     "output_type": "stream",
     "text": [
      "Processing rows:  15%|█████████                                                   | 112/740 [19:57<2:24:57, 13.85s/row]"
     ]
    },
    {
     "name": "stdout",
     "output_type": "stream",
     "text": [
      "Target: parametric answer: মোবাইল ডিভাইস (আমার কাছে যা আছে); ফিঙ্গারপ্রিন্ট স্ক্যান (আমি কে); আলফানিউমেরিক পাসওয়ার্ড (আমি যা জানি)\n",
      "contextual answer: মোবাইল ডিভাইস (আমার কাছে যা আছে); ফিঙ্গারপ্রিন্ট স্ক্যান (আমি কে); আলফানিউমেরিক পাসওয়ার্ড (আমি যা জানি)\n",
      "generated: parametric answer:মাল্টি-ফ্যাক্টর প্রমাণীকরণ অন্তর্ভুক্ত করে: (ক) একটি বস্তু (যেমন মোবাইল ডিভাইস), (খ) একটি জ্ঞাতব্যাহতি (যেমন ফিঙ্গারপ্রিন্ট), এবং (গ) একটি পাসওয়ার্ড বা সুরক্ষা কোড।\n",
      "contextual answer: মাল্টি-ফ্যাক্টর প্রমাণীকরণ অন্তর্ভুক্ত করে: (ক) মোবাইল ডিভাইস (আমার কাছে যা আছে), (খ) ফিঙ্গারপ্রিন্ট স্ক্যান (আমি কে), এবং (গ) আলফানিউমেরিক পাসওয়ার্ড (আমি যা জানি)।\n"
     ]
    },
    {
     "name": "stderr",
     "output_type": "stream",
     "text": [
      "Processing rows:  16%|█████████▍                                                  | 116/740 [20:14<1:54:22, 11.00s/row]"
     ]
    },
    {
     "name": "stdout",
     "output_type": "stream",
     "text": [
      "Target: parametric answer: চীনা অ্যান্ড্রয়েড ডিভাইসগুলিকে\n",
      "contextual answer: চীনা অ্যান্ড্রয়েড ডিভাইসগুলিকে\n",
      "generated: parametric answer:চায়না অ্যান্ড্রয়েড ডিভাইসগুলি।\n",
      "contextual answer: চায়না অ্যান্ড্রয়েড ডিভাইসগুলি।\n"
     ]
    },
    {
     "name": "stderr",
     "output_type": "stream",
     "text": [
      "Processing rows:  16%|█████████▍                                                  | 117/740 [20:28<2:03:19, 11.88s/row]"
     ]
    },
    {
     "name": "stdout",
     "output_type": "stream",
     "text": [
      "Target: parametric answer: ২০০৫\n",
      "contextual answer: ২০০৫\n",
      "generated: parametric answer:২০০৫ সালে।\n",
      "contextual answer: ২০০৫ সালে।\n"
     ]
    },
    {
     "name": "stderr",
     "output_type": "stream",
     "text": [
      "Processing rows:  16%|█████████▋                                                  | 120/740 [20:42<1:40:26,  9.72s/row]"
     ]
    },
    {
     "name": "stdout",
     "output_type": "stream",
     "text": [
      "Target: parametric answer: ব্যক্তিগত অনুদানের দ্বারা; ইউএনএআইডিএস-এর অনুদানের দ্বারা; জাতিসংঘের মাদক ও অপরাধ দপ্তর\n",
      "contextual answer: ব্যক্তিগত অনুদানের দ্বারা; ইউএনএআইডিএস-এর অনুদানের দ্বারা; জাতিসংঘের মাদক ও অপরাধ দপ্তর\n",
      "generated: parametric answer:রিনিউ ব্যক্তিগত অনুদানের দ্বারা, ইউএনএআইডিএস-এর অনুদানের দ্বারা এবং জাতিসংঘের মাদক ও অপরাধ দপ্তর দ্বারা পরিচালিত হয়। এছাড়াও যুক্তরাজ্যের নিবন্ধিত দাতব্য প্রতিষ্ঠান হিসেবে রিনিউ পরিচালিত হয়।\n",
      "contextual answer: রিনিউ ব্যক্তিগত অনুদানের দ্বারা, ইউএনএআইডিএস-এর অনুদানের দ্বারা এবং জাতিসংঘের মাদক ও অপরাধ দপ্তর দ্বারা পরিচালিত হয়। এছাড়াও যুক্তরাজ্যের নিবন্ধিত দাতব্য প্রতিষ্ঠান হিসেবে রিনিউ পরিচালিত হয়।\n"
     ]
    },
    {
     "name": "stderr",
     "output_type": "stream",
     "text": [
      "Processing rows:  16%|█████████▊                                                  | 121/740 [20:59<2:01:25, 11.77s/row]"
     ]
    },
    {
     "name": "stdout",
     "output_type": "stream",
     "text": [
      "Target: parametric answer: শহরের পাচারকৃত নারী ও মেয়েদের জীবন উন্নয়নে অক্লান্ত পরিশ্রমের জন্য\n",
      "contextual answer: শহরের পাচারকৃত নারী ও মেয়েদের জীবন উন্নয়নে অক্লান্ত পরিশ্রমের জন্য\n",
      "generated: parametric answer:মায়লিন ফুলারকে সোরোপটিমিস্ট রুবি অ্যাওয়ার্ড প্রদান করা হয়েছে কারণ তিনি মানব পাচার ও পতিতাবৃত্তি থেকে বেঁচে যাওয়া নারীদের সাহায্য করতে অক্লান্ত পরিশ্রম করেছেন, যা সমাজের প্রতি বৃহৎ যোগদান রাখে।\n",
      "contextual answer: মায়লিন ফুলারকে সোরোপটিমিস্ট রুবি অ্যাওয়ার্ড প্রদান করা হয়েছে কারণ তিনি শহরের পাচারকৃত নারী ও মেয়েদের জীবন উন্নয়নে অক্লান্ত পরিশ্রম করেছেন।\n"
     ]
    },
    {
     "name": "stderr",
     "output_type": "stream",
     "text": [
      "Processing rows:  17%|█████████▉                                                  | 123/740 [21:13<1:46:18, 10.34s/row]"
     ]
    },
    {
     "name": "stdout",
     "output_type": "stream",
     "text": [
      "Target: parametric answer: যাবির ইবনে জায়েদের\n",
      "contextual answer: যাবির ইবনে জায়েদের\n",
      "generated: parametric answer:ইবাদিরা আবু বিন ওয়াহাবের অনুসারী।\n",
      "contextual answer: ইবাদিরা যাবির ইবনে জায়েদের অনুসারী।\n"
     ]
    },
    {
     "name": "stderr",
     "output_type": "stream",
     "text": [
      "Processing rows:  17%|██████████▏                                                 | 125/740 [21:28<1:37:40,  9.53s/row]"
     ]
    },
    {
     "name": "stdout",
     "output_type": "stream",
     "text": [
      "Target: parametric answer: আধ্যাত্মিক এবং ব্যক্তিগত গুণাবলীর অধিকারী যারা আছে, সেই প্রার্থীদের কাছ থেকে বিভিন্ন সম্প্রদায়ের দ্বারা নির্বাচিত ইমামের দ্বারা ইসলামের নেতৃত্বের মনোনীত করা উচিত\n",
      "contextual answer: আধ্যাত্মিক এবং ব্যক্তিগত গুণাবলীর অধিকারী যারা আছে, সেই প্রার্থীদের কাছ থেকে বিভিন্ন সম্প্রদায়ের দ্বারা নির্বাচিত ইমামের দ্বারা ইসলামের নেতৃত্বের মনোনীত করা উচিত\n",
      "generated: parametric answer:ইবাদিরা দৃঢ়ভাবে দাবি করে যে, ইসলামের নেতৃত্ব একজন ইমামের উপর ন্যস্ত হওয়া উচিত, যিনি বিশিষ্ট ব্যক্তিদের বা শায়েখদের কাউন্সিল দ্বারা নির্বাচিত হন এবং ধর্মীয় ও রাজনৈতিক কর্তৃত্বের সমন্বয় সাধন করে থাকেন।\n",
      "contextual answer: ইবাদিরা দৃঢ়ভাবে দাবি করে যে, আধ্যাত্মিক এবং ব্যক্তিগত গুণাবলীর অধিকারী যারা আছে, সেই প্রার্থীদের কাছ থেকে বিভিন্ন সম্প্রদায়ের দ্বারা নির্বাচিত ইমামের দ্বারা ইসলামের নেতৃত্বের মনোনীত করা উচিত।\n"
     ]
    },
    {
     "name": "stderr",
     "output_type": "stream",
     "text": [
      "Processing rows:  17%|██████████▏                                                 | 126/740 [21:44<1:58:31, 11.58s/row]"
     ]
    },
    {
     "name": "stdout",
     "output_type": "stream",
     "text": [
      "Target: parametric answer: একজন ইমামের উপর\n",
      "contextual answer: একজন ইমামের উপর\n",
      "generated: parametric answer:ইবাদিদের নেতৃত্ব একজন ইমামের উপর ন্যস্ত।\n",
      "contextual answer: ইবাদিদের নেতৃত্ব একজন ইমামের উপর ন্যস্ত।\n"
     ]
    },
    {
     "name": "stderr",
     "output_type": "stream",
     "text": [
      "Processing rows:  17%|██████████▎                                                 | 127/740 [21:58<2:05:33, 12.29s/row]"
     ]
    },
    {
     "name": "stdout",
     "output_type": "stream",
     "text": [
      "Target: parametric answer: ইমাম বিশিষ্ট ব্যক্তিদের বা শায়েখদের কাউন্সিল দ্বারা\n",
      "contextual answer: ইমাম বিশিষ্ট ব্যক্তিদের বা শায়েখদের কাউন্সিল দ্বারা\n",
      "generated: parametric answer:ইমাম বিশিষ্ট ব্যক্তিদের বা শায়েখদের কাউন্সিল দ্বারা নির্বাচিত হন।\n",
      "contextual answer: ইমাম বিশিষ্ট ব্যক্তিদের বা শায়েখদের কাউন্সিল দ্বারা নির্বাচিত হন।\n"
     ]
    },
    {
     "name": "stderr",
     "output_type": "stream",
     "text": [
      "Processing rows:  17%|██████████▍                                                 | 128/740 [22:13<2:13:59, 13.14s/row]"
     ]
    },
    {
     "name": "stdout",
     "output_type": "stream",
     "text": [
      "Target: parametric answer: রেশম সুতা উৎপাদনের লক্ষ্যে রেশমপোকা প্রতিপালনকে\n",
      "contextual answer: রেশম সুতা উৎপাদনের লক্ষ্যে রেশমপোকা প্রতিপালনকে\n",
      "generated: parametric answer:রেশম চাষ (sericulture) হল রেশমপোকা (Bombyx mori) প্রতিপালন এবং রেশম উৎপাদনের কৌশল, যা সেরিসিন নামক এক ধরনের প্রোটিন বস্তু থেকে বানানো হয়।\n",
      "contextual answer: রেশম চাষ বলতে রেশম সুতা উৎপাদনের লক্ষ্যে রেশমপোকা প্রতিপালনকে বোঝায়। এটি ফলিত প্রাণিবিজ্ঞানের একটি শাখা।\n"
     ]
    },
    {
     "name": "stderr",
     "output_type": "stream",
     "text": [
      "Processing rows:  18%|██████████▌                                                 | 130/740 [22:31<1:59:29, 11.75s/row]"
     ]
    },
    {
     "name": "stdout",
     "output_type": "stream",
     "text": [
      "Target: parametric answer: সেরিসিন\n",
      "contextual answer: সেরিসিন\n",
      "generated: parametric answer:ফিব্রোইন।\n",
      "contextual answer: সেরিসিন।\n"
     ]
    },
    {
     "name": "stderr",
     "output_type": "stream",
     "text": [
      "Processing rows:  18%|██████████▌                                                 | 131/740 [22:44<2:06:00, 12.41s/row]"
     ]
    },
    {
     "name": "stdout",
     "output_type": "stream",
     "text": [
      "Target: parametric answer: চীন\n",
      "contextual answer: চীন\n",
      "generated: parametric answer:চীন দেশে\n",
      "contextual answer: চীন দেশে\n"
     ]
    },
    {
     "name": "stderr",
     "output_type": "stream",
     "text": [
      "Processing rows:  18%|██████████▋                                                 | 132/740 [22:59<2:12:28, 13.07s/row]"
     ]
    },
    {
     "name": "stdout",
     "output_type": "stream",
     "text": [
      "Target: parametric answer: চুরি করে\n",
      "contextual answer: চুরি করে\n",
      "generated: parametric answer:দুজন ইউরোপীয় পাদ্রী চীনে রেশম উৎপাদনের কৌশল শিখে নেন, এবং রেশম পোকার ডিম ও তুঁত গাছের বীজ নিয়ে ইউরোপে গেন, এবং সেখানে রেশম চাষ শুরু করেন।\n",
      "contextual answer: দুজন ইউরোপীয় পাদ্রী রেশম উৎপাদনের কৌশল চুরি করে নেন, এবং রেশম পোকার ডিম ও তুঁত গাছের বীজ নিয়ে ইউরোপে গেন, এবং সেখানে রেশম চাষ শুরু করেন।\n"
     ]
    },
    {
     "name": "stderr",
     "output_type": "stream",
     "text": [
      "Processing rows:  18%|██████████▊                                                 | 133/740 [23:13<2:15:50, 13.43s/row]"
     ]
    },
    {
     "name": "stdout",
     "output_type": "stream",
     "text": [
      "Target: parametric answer: তুঁতপাতা উৎপাদন; রেশম পোকা (পলু) পালন; রেশম পোকার রোগ, পেষ্ট ও নিয়ন্ত্রণ ব্যবস্থা\n",
      "contextual answer: তুঁতপাতা উৎপাদন; রেশম পোকা (পলু) পালন; রেশম পোকার রোগ, পেষ্ট ও নিয়ন্ত্রণ ব্যবস্থা\n",
      "generated: parametric answer:রেশম চাষের মূল কার্যক্রমগুলো হলো কোকন উৎপাদন, মুল্বারি পাতা খাওয়া, কোকন হারানো, রেশম সুতা বার করা এবং রোগ নিয়ন্ত্রণ।\n",
      "contextual answer: রেশম চাষের মূল কার্যক্রমগুলো হলো রেশম পোকার প্রতিপালন, রোগ নিয়ন্ত্রণ এবং রেশম সুতা উৎপাদন।\n"
     ]
    },
    {
     "name": "stderr",
     "output_type": "stream",
     "text": [
      "Processing rows:  18%|██████████▊                                                 | 134/740 [23:31<2:28:29, 14.70s/row]"
     ]
    },
    {
     "name": "stdout",
     "output_type": "stream",
     "text": [
      "Target: parametric answer: ভাষাবিজ্ঞান শাস্ত্রে\n",
      "contextual answer: ভাষাবিজ্ঞান শাস্ত্রে\n",
      "generated: parametric answer:ভাষাবিজ্ঞান শাস্ত্রে।\n",
      "contextual answer: ভাষাবিজ্ঞান শাস্ত্রে।\n"
     ]
    },
    {
     "name": "stderr",
     "output_type": "stream",
     "text": [
      "Processing rows:  18%|██████████▉                                                 | 135/740 [23:45<2:25:55, 14.47s/row]"
     ]
    },
    {
     "name": "stdout",
     "output_type": "stream",
     "text": [
      "Target: parametric answer: \"রূপান্তরমূলক উৎপাদনশীল ব্যাকরণ\"\n",
      "contextual answer: \"রূপান্তরমূলক উৎপাদনশীল ব্যাকরণ\"\n",
      "generated: parametric answer:রূপান্তরমূলক উৎপাদনশীল ব্যাকরণ\" নামক তত্ত্বটির অবতারণা করা হয়।\n",
      "contextual answer: রূপান্তরমূলক উৎপাদনশীল ব্যাকরণ\" নামক তত্ত্বটির অবতারণা করা হয়।\n"
     ]
    },
    {
     "name": "stderr",
     "output_type": "stream",
     "text": [
      "Processing rows:  18%|███████████                                                 | 136/740 [23:59<2:25:05, 14.41s/row]"
     ]
    },
    {
     "name": "stdout",
     "output_type": "stream",
     "text": [
      "Target: parametric answer: মানবমন-সংক্রান্ত\n",
      "contextual answer: মানবমন-সংক্রান্ত\n",
      "generated: parametric answer:মানবমনের গবেষণার কেন্দ্রে স্থাপন করেন, বিশেষভাবে মানব মনের সম্প্রতিভ এবং ভাষার সম্প্রতিভ বিষয়ক গবেষণায়।\n",
      "contextual answer: মানবমন-সংক্রান্ত বিষয় গবেষণার কেন্দ্রে স্থাপন করেন।\"\n"
     ]
    },
    {
     "name": "stderr",
     "output_type": "stream",
     "text": [
      "Processing rows:  19%|███████████                                                 | 137/740 [24:17<2:36:26, 15.57s/row]"
     ]
    },
    {
     "name": "stdout",
     "output_type": "stream",
     "text": [
      "Target: parametric answer: ওসামু তেজুকা\n",
      "contextual answer: ওসামু তেজুকা\n",
      "generated: parametric answer:ওসামু তেজুকা।\n",
      "contextual answer: ওসামু তেজুকা।\n"
     ]
    },
    {
     "name": "stderr",
     "output_type": "stream",
     "text": [
      "Processing rows:  19%|███████████▎                                                | 140/740 [24:31<2:02:53, 12.29s/row]"
     ]
    },
    {
     "name": "stdout",
     "output_type": "stream",
     "text": [
      "Target: parametric answer: ১৯৫২\n",
      "contextual answer: ১৯৫২\n",
      "generated: parametric answer:১৯৫২\n",
      "contextual answer: ১৯৫২\n"
     ]
    },
    {
     "name": "stderr",
     "output_type": "stream",
     "text": [
      "Processing rows:  19%|███████████▍                                                | 141/740 [24:45<2:07:40, 12.79s/row]"
     ]
    },
    {
     "name": "stdout",
     "output_type": "stream",
     "text": [
      "Target: parametric answer: ১৯৮০\n",
      "contextual answer: ১৯৮০\n",
      "generated: parametric answer:১৯৮০ খ্রিষ্টাব্দে এটার পুনরায় নিমার্ণ করা হয়। পুনরায় নির্মাণ করা হয় ২০০৩ খ্রিস্টাবে।\n",
      "contextual answer: ১৯৮০ খ্রিষ্টাব্দে এটার পুনরায় নিমার্ণ করা হয়। পুনরায় নির্মাণ করা হয় ২০০৩ খ্রিস্টাবে।\n"
     ]
    },
    {
     "name": "stderr",
     "output_type": "stream",
     "text": [
      "Processing rows:  19%|███████████▌                                                | 142/740 [24:59<2:11:08, 13.16s/row]"
     ]
    },
    {
     "name": "stdout",
     "output_type": "stream",
     "text": [
      "Target: parametric answer: ২৩ অক্টোবর, ২০০৯\n",
      "contextual answer: ২৩ অক্টোবর, ২০০৯\n",
      "generated: parametric answer:২৩ অক্টোবর, ২০০৯।\n",
      "contextual answer: ২৩ অক্টোবর, ২০০৯।\n"
     ]
    },
    {
     "name": "stderr",
     "output_type": "stream",
     "text": [
      "Processing rows:  19%|███████████▌                                                | 143/740 [25:14<2:14:35, 13.53s/row]"
     ]
    },
    {
     "name": "stdout",
     "output_type": "stream",
     "text": [
      "Target: parametric answer: আয়ারল্যান্ডের ডাবলিনের সেন্ট স্টিফেনস গ্রীণ এর দক্ষিণ পাশে একটি সুষমা-মণ্ডিত অট্টালিকায়\n",
      "contextual answer: আয়ারল্যান্ডের ডাবলিনের সেন্ট স্টিফেনস গ্রীণ এর দক্ষিণ পাশে একটি সুষমা-মণ্ডিত অট্টালিকায়\n",
      "generated: parametric answer:শেলবর্ন হোটেল আয়ারল্যান্ডের ডাবলিনের সেন্ট স্টিফেনস গ্রীণের দক্ষিণ পাশে অবস্থিত।\n",
      "contextual answer: শেলবর্ন হোটেল আয়ারল্যান্ডের ডাবলিনের সেন্ট স্টিফেনস গ্রীণের দক্ষিণ পাশে অবস্থিত।\n"
     ]
    },
    {
     "name": "stderr",
     "output_type": "stream",
     "text": [
      "Processing rows:  20%|███████████▊                                                | 145/740 [25:30<1:57:44, 11.87s/row]"
     ]
    },
    {
     "name": "stdout",
     "output_type": "stream",
     "text": [
      "Target: parametric answer: ম্যারিয়ট ইন্টারন্যাশনাল\n",
      "contextual answer: ম্যারিয়ট ইন্টারন্যাশনাল\n",
      "generated: parametric answer:ম্যারিয়ট ইন্টারন্যাশনাল।\n",
      "contextual answer: ম্যারিয়ট ইন্টারন্যাশনাল।\"\n"
     ]
    },
    {
     "name": "stderr",
     "output_type": "stream",
     "text": [
      "Processing rows:  20%|███████████▊                                                | 146/740 [25:44<2:03:59, 12.52s/row]"
     ]
    },
    {
     "name": "stdout",
     "output_type": "stream",
     "text": [
      "Target: parametric answer: জন ম্যাক কার্ডি\n",
      "contextual answer: জন ম্যাক কার্ডি\n",
      "generated: parametric answer:জন ম্যাক কার্ডি।\n",
      "contextual answer: জন ম্যাক কার্ডি।\"\n"
     ]
    },
    {
     "name": "stderr",
     "output_type": "stream",
     "text": [
      "Processing rows:  20%|███████████▉                                                | 147/740 [25:58<2:08:03, 12.96s/row]"
     ]
    },
    {
     "name": "stdout",
     "output_type": "stream",
     "text": [
      "Target: parametric answer: পূর্বে অ্যামেরিটেক প্লাজা এবং এসবিসি প্লাজা\n",
      "contextual answer: পূর্বে অ্যামেরিটেক প্লাজা এবং এসবিসি প্লাজা\n",
      "generated: parametric answer:অ্যামেরিটেক প্লাজা।\n",
      "contextual answer: অ্যামেরিটেক প্লাজা এবং এসবিসি প্লাজা।\n"
     ]
    },
    {
     "name": "stderr",
     "output_type": "stream",
     "text": [
      "Processing rows:  20%|████████████▏                                               | 150/740 [26:12<1:42:53, 10.46s/row]"
     ]
    },
    {
     "name": "stdout",
     "output_type": "stream",
     "text": [
      "Target: parametric answer: মিলেনিয়াম পার্কে\n",
      "contextual answer: মিলেনিয়াম পার্কে\n",
      "generated: parametric answer:এটি অ্যান্ড টি প্লাজা শিকাগো, ইলিনয়, যুক্তরাষ্ট্রে অবস্থিত।\n",
      "contextual answer: এটি অ্যান্ড টি প্লাজা শিকাগো, ইলিনয়, যুক্তরাষ্ট্রে অবস্থিত।\n"
     ]
    },
    {
     "name": "stderr",
     "output_type": "stream",
     "text": [
      "Processing rows:  20%|████████████▏                                               | 151/740 [26:26<1:53:03, 11.52s/row]"
     ]
    },
    {
     "name": "stdout",
     "output_type": "stream",
     "text": [
      "Target: parametric answer: তৃতীয় সহস্রাব্দ উদযাপনের জন্য নির্মাণ করা হয়\n",
      "contextual answer: তৃতীয় সহস্রাব্দ উদযাপনের জন্য নির্মাণ করা হয়\n",
      "generated: parametric answer:এটি অ্যান্ড টি প্লাজা, যা ক্লাউড গেট বলে পরিচিত, নির্মাণ করা হয়েছে মিলেনিয়াম পার্কের অংশের রূপে তৃতীয় সহস্রাব্দ উদযাপনের জন্য এবং শিকাগোর এলাকার উন্নয়নের জন্য।\n",
      "contextual answer: এটি অ্যান্ড টি প্লাজা নির্মাণ করা হয়েছে মিলেনিয়াম পার্কের অংশের রূপে, যা তৃতীয় সহস্রাব্দ উদযাপনের জন্য নির্মাণ করা হয়।\n"
     ]
    },
    {
     "name": "stderr",
     "output_type": "stream",
     "text": [
      "Processing rows:  21%|████████████▎                                               | 152/740 [26:42<2:06:33, 12.91s/row]"
     ]
    },
    {
     "name": "stdout",
     "output_type": "stream",
     "text": [
      "Target: parametric answer: কংক্রিটের তৈরি\n",
      "contextual answer: কংক্রিটের তৈরি\n",
      "generated: parametric answer:কংক্রিট পাভেরা দিয়ে তৈরি।\n",
      "contextual answer: কংক্রিটের তৈরি।\n"
     ]
    },
    {
     "name": "stderr",
     "output_type": "stream",
     "text": [
      "Processing rows:  21%|████████████▍                                               | 153/740 [26:56<2:09:21, 13.22s/row]"
     ]
    },
    {
     "name": "stdout",
     "output_type": "stream",
     "text": [
      "Target: parametric answer: অসমতল বিশেষকরে পাহাড়ী রাস্তায় সাইকেল চালনার এক ধরনের ক্রীড়া\n",
      "contextual answer: অসমতল বিশেষকরে পাহাড়ী রাস্তায় সাইকেল চালনার এক ধরনের ক্রীড়া\n",
      "generated: parametric answer:মাউন্টেন বাইকিং হলো এক ধরনের স্পোর্ট যেখানে প্রতিযোগীরা পাহাড়ি বা অসমতল রাস্তায় সাইকেল চালিয়ে যেতে হয়। এই ক্রীড়ায় বিশেষ ধরনের সাইকেল ব্যবহার করা হয়, যা অসমতল বা পাহাড়ী রাস্তায় চলাচল উপযোগী।\n",
      "contextual answer: মাউন্টেন বাইকিং হলো অসমতল বিশেষকরে পাহাড়ী রাস্তায় সাইকেল চালনার এক ধরনের ক্রীড়া। এই ক্রীড়ায় বিশেষ ধরনের সাইকেল ব্যবহার করা হয়, যা অসমতল বা পাহাড়ী রাস্তায় চলাচল উপযোগী।\n"
     ]
    },
    {
     "name": "stderr",
     "output_type": "stream",
     "text": [
      "Processing rows:  21%|████████████▌                                               | 155/740 [27:12<1:53:48, 11.67s/row]"
     ]
    },
    {
     "name": "stdout",
     "output_type": "stream",
     "text": [
      "Target: parametric answer: ১৮৮৬ সালের আগস্টে\n",
      "contextual answer: ১৮৮৬ সালের আগস্টে\n",
      "generated: parametric answer:১৯৭০-এর দশকে।\n",
      "contextual answer: ১৮৮৬ সালের আগস্টে।\n"
     ]
    },
    {
     "name": "stderr",
     "output_type": "stream",
     "text": [
      "Processing rows:  21%|████████████▋                                               | 156/740 [27:26<1:59:49, 12.31s/row]"
     ]
    },
    {
     "name": "stdout",
     "output_type": "stream",
     "text": [
      "Target: parametric answer: না\n",
      "contextual answer: না\n",
      "generated: parametric answer:না, মাউন্টেন বাইকিং হলো পাহাড়ী বা অসমতল রাস্তায় সাইকেল চালনার এক ধরনের ক্রীড়া।\n",
      "contextual answer: না, মাউন্টেন বাইকিং হলো অসমতল বা পাহাড়ী রাস্তায় সাইকেল চালনার এক ধরনের ক্রীড়া।\"\n"
     ]
    },
    {
     "name": "stderr",
     "output_type": "stream",
     "text": [
      "Processing rows:  21%|████████████▋                                               | 157/740 [27:40<2:04:24, 12.80s/row]"
     ]
    },
    {
     "name": "stdout",
     "output_type": "stream",
     "text": [
      "Target: parametric answer: মাউন্টেন বাইকিং\n",
      "contextual answer: মাউন্টেন বাইকিং\n",
      "generated: parametric answer:পাহাড়ি বা অসমতল রাস্তা, গাছের মাঝে, বা অন্য কঠিন পথে।\n",
      "contextual answer: অসমতল বা পাহাড়ী রাস্তায়।\n"
     ]
    },
    {
     "name": "stderr",
     "output_type": "stream",
     "text": [
      "Processing rows:  21%|████████████▊                                               | 158/740 [27:54<2:07:50, 13.18s/row]"
     ]
    },
    {
     "name": "stdout",
     "output_type": "stream",
     "text": [
      "Target: parametric answer: ৮৩৭\n",
      "contextual answer: ৮৩৭\n",
      "generated: parametric answer:৮৩৭ সালে।\n",
      "contextual answer: ৮৩৭ সালে।\n"
     ]
    },
    {
     "name": "stderr",
     "output_type": "stream",
     "text": [
      "Processing rows:  22%|█████████████▏                                              | 162/740 [28:08<1:38:59, 10.28s/row]"
     ]
    },
    {
     "name": "stdout",
     "output_type": "stream",
     "text": [
      "Target: parametric answer: খলিফা আল-মুতাসিমের\n",
      "contextual answer: খলিফা আল-মুতাসিমের\n",
      "generated: parametric answer:খলিফা আল-মুতাসিম।\n",
      "contextual answer: খলিফা আল-মুতাসিম।\n"
     ]
    },
    {
     "name": "stderr",
     "output_type": "stream",
     "text": [
      "Processing rows:  22%|█████████████▏                                              | 163/740 [28:22<1:49:33, 11.39s/row]"
     ]
    },
    {
     "name": "stdout",
     "output_type": "stream",
     "text": [
      "Target: parametric answer: ডোরিলাইয়ামে\n",
      "contextual answer: ডোরিলাইয়ামে\n",
      "generated: parametric answer:ডোরিলাইয়ামে।\n",
      "contextual answer: ডোরিলাইয়ামে।\n"
     ]
    },
    {
     "name": "stderr",
     "output_type": "stream",
     "text": [
      "Processing rows:  22%|█████████████▎                                              | 164/740 [28:36<1:56:49, 12.17s/row]"
     ]
    },
    {
     "name": "stdout",
     "output_type": "stream",
     "text": [
      "Target: parametric answer: গৌণ ব্যাটারি\n",
      "contextual answer: গৌণ ব্যাটারি\n",
      "generated: parametric answer:রিচার্জেবল ব্যাটারি প্রথমবার ব্যবহারের আগে চার্জ করতে হয়।\n",
      "contextual answer: গৌণ ব্যাটারি, যা সেকেন্ডারি সেল বা রিচার্জেবল ব্যাটারি হিসাবেও পরিচিত, প্রথমবার ব্যবহারের আগে চার্জ করতে হয়।\n"
     ]
    },
    {
     "name": "stderr",
     "output_type": "stream",
     "text": [
      "Processing rows:  22%|█████████████▍                                              | 165/740 [28:52<2:08:32, 13.41s/row]"
     ]
    },
    {
     "name": "stdout",
     "output_type": "stream",
     "text": [
      "Target: parametric answer: বৈদ্যুতিক প্রবাহ প্রয়োগ করে\n",
      "contextual answer: বৈদ্যুতিক প্রবাহ প্রয়োগ করে\n",
      "generated: parametric answer:রিচার্জেবল ব্যাটারিগুলি বৈদ্যুতিক প্রবাহ প্রয়োগ করে পুনরায় চার্জ করা হয়, যা বিপরীত দিকে রাসায়নিক বিক্রিয়া ঘটায়। এই প্রবাহ একটি চার্জার দ্বারা সরবরাহ করা হয়।\n",
      "contextual answer: রিচার্জেবল ব্যাটারিগুলি বৈদ্যুতিক প্রবাহ প্রয়োগ করে পুনরায় চার্জ করা হয়, যা ক্ষরণ /ব্যবহারের সময় ঘটে এমন রাসায়নিক বিক্রিয়াকে বিপরীত দিকে ঘটায়। উপযুক্ত তড়িৎপ্রবাহ সরবরাহ করার যন্ত্রগুলিকে চার্জার বলা হয়।\n"
     ]
    },
    {
     "name": "stderr",
     "output_type": "stream",
     "text": [
      "Processing rows:  22%|█████████████▍                                              | 166/740 [29:09<2:17:25, 14.36s/row]"
     ]
    },
    {
     "name": "stdout",
     "output_type": "stream",
     "text": [
      "Target: parametric answer: লেড-অ্যাসিড ব্যাটারি\n",
      "contextual answer: লেড-অ্যাসিড ব্যাটারি\n",
      "generated: parametric answer:লেড-অ্যাসিড ব্যাটারি।\n",
      "contextual answer: লেড-অ্যাসিড ব্যাটারি।\n"
     ]
    },
    {
     "name": "stderr",
     "output_type": "stream",
     "text": [
      "Processing rows:  23%|█████████████▌                                              | 167/740 [29:23<2:15:59, 14.24s/row]"
     ]
    },
    {
     "name": "stdout",
     "output_type": "stream",
     "text": [
      "Target: parametric answer: ডিম্বাণু\n",
      "contextual answer: ডিম্বাণু\n",
      "generated: parametric answer:ডিম্বাণু\n",
      "contextual answer: ডিম্বাণু\n"
     ]
    },
    {
     "name": "stderr",
     "output_type": "stream",
     "text": [
      "Processing rows:  23%|█████████████▊                                              | 170/740 [29:37<1:48:01, 11.37s/row]"
     ]
    },
    {
     "name": "stdout",
     "output_type": "stream",
     "text": [
      "Target: parametric answer: দুই\n",
      "contextual answer: দুই\n",
      "generated: parametric answer:দুই মাসিকের মাঝামাঝি সময়ে।\n",
      "contextual answer: দুই মাসিকের মাঝামাঝি সময়ে।\n"
     ]
    },
    {
     "name": "stderr",
     "output_type": "stream",
     "text": [
      "Processing rows:  23%|█████████████▊                                              | 171/740 [29:51<1:55:07, 12.14s/row]"
     ]
    },
    {
     "name": "stdout",
     "output_type": "stream",
     "text": [
      "Target: parametric answer: পুরুষের শুক্রাণু যোনিপথ দিয়ে ডিম্ববাহী নালীতে গিয়ে পৌঁছে। সেখানে ডিম্বাণুর সাথে মিলিত হবার ফলে ভ্রুণ তৈরি হয়। একে গর্ভধারণ বলে।\n",
      "contextual answer: পুরুষের শুক্রাণু যোনিপথ দিয়ে ডিম্ববাহী নালীতে গিয়ে পৌঁছে। সেখানে ডিম্বাণুর সাথে মিলিত হবার ফলে ভ্রুণ তৈরি হয়। একে গর্ভধারণ বলে।\n",
      "generated: parametric answer:গর্ভধারণ হলো একজন নারীর শরীরে ভ্রুণ বা সন্তানের বৃদ্ধিলাভ এবং জন্মের প্রক্রিয়া, যা প্রায় ৪০ সপ্তাহের মধ্যে সমাপ্ত হয়।\n",
      "contextual answer: গর্ভধারণ হলো পুরুষের শুক্রাণু যোনিপথ দিয়ে ডিম্ববাহী নালীতে গিয়ে পৌঁছে ডিম্বাণুর সাথে মিলিত হবার ফলে ভ্রুণ তৈরি হওয়া।\n"
     ]
    },
    {
     "name": "stderr",
     "output_type": "stream",
     "text": [
      "Processing rows:  23%|█████████████▉                                              | 172/740 [30:08<2:09:08, 13.64s/row]"
     ]
    },
    {
     "name": "stdout",
     "output_type": "stream",
     "text": [
      "Target: parametric answer: জরায়ুতে\n",
      "contextual answer: জরায়ুতে\n",
      "generated: parametric answer:জরায়ুতে\n",
      "contextual answer: জরায়ুতে\n"
     ]
    },
    {
     "name": "stderr",
     "output_type": "stream",
     "text": [
      "Processing rows:  23%|██████████████                                              | 173/740 [30:22<2:10:15, 13.78s/row]"
     ]
    },
    {
     "name": "stdout",
     "output_type": "stream",
     "text": [
      "Target: parametric answer: ১৯৬০ ও ১৯৭০ এর দশকে\n",
      "contextual answer: ১৯৬০ ও ১৯৭০ এর দশকে\n",
      "generated: parametric answer:১৯৬০ ও ১৯৭০ এর দশকে।\n",
      "contextual answer: ১৯৬০ ও ১৯৭০ এর দশকে।\n"
     ]
    },
    {
     "name": "stderr",
     "output_type": "stream",
     "text": [
      "Processing rows:  24%|██████████████▏                                             | 175/740 [30:36<1:50:22, 11.72s/row]"
     ]
    },
    {
     "name": "stdout",
     "output_type": "stream",
     "text": [
      "Target: parametric answer: পিতৃতন্ত্র ও পুঁজিবাদের মধ্যে যে সংযোগ তার উপরই\n",
      "contextual answer: পিতৃতন্ত্র ও পুঁজিবাদের মধ্যে যে সংযোগ তার উপরই\n",
      "generated: parametric answer:সমাজতান্ত্রিক নারীবাদের মূল নিবন্ধের মূল বিষয় হল পুঁজিবাদ এবং পিতৃতন্ত্রের সম্পর্ক এবং এই ব্যবস্থাগুলো কিভাবে নারীদের নিপীড়ন সৃষ্টি করে। এটি শ্রেণী, জাতি এবং লিঙ্গের ব্যবস্থাগুলোর মধ্যে যুক্তি নিয়ে গেছে এবং নারীদের মুক্তির লড়াইকে সামাজিক, অর্থন\n",
      "contextual answer: সমাজতান্ত্রিক নারীবাদের মূল নিবন্ধের মূল বিষয় হল পিতৃতন্ত্র ও পুঁজিবাদের মধ্যে সম্পর্ক এবং নারীদের ব্যক্তিগত, গার্হস্থ্য এবং জনসাধারণের ভূমিকা। এটি পুঁজিবাদের অর্থনৈতিক ও সাংস্কৃতিক উভয় উৎসের মাধ্যমে নারীর নিপীড়নের সমাধানের বিষয়ে ধারণাগুলো নিয়ে গেছে।\n"
     ]
    },
    {
     "name": "stderr",
     "output_type": "stream",
     "text": [
      "Processing rows:  24%|██████████████▎                                             | 176/740 [30:53<2:05:25, 13.34s/row]"
     ]
    },
    {
     "name": "stdout",
     "output_type": "stream",
     "text": [
      "Target: parametric answer: অর্থনৈতিক নির্ভরতাকে\n",
      "contextual answer: অর্থনৈতিক নির্ভরতাকে\n",
      "generated: parametric answer:অর্থনৈতিক নির্ভরতা।\n",
      "contextual answer: অর্থনৈতিক নির্ভরতা।\n"
     ]
    },
    {
     "name": "stderr",
     "output_type": "stream",
     "text": [
      "Processing rows:  24%|██████████████▎                                             | 177/740 [31:08<2:09:19, 13.78s/row]"
     ]
    },
    {
     "name": "stdout",
     "output_type": "stream",
     "text": [
      "Target: parametric answer: রঞ্জন রশ্মি প্রতিফলক\n",
      "contextual answer: রঞ্জন রশ্মি প্রতিফলক\n",
      "generated: parametric answer:গ্রেগরীয় দূরবীক্ষণ যন্ত্র।\n",
      "contextual answer: রঞ্জন রশ্মি প্রতিফলক দূরবীক্ষণ যন্ত্র।\n"
     ]
    },
    {
     "name": "stderr",
     "output_type": "stream",
     "text": [
      "Processing rows:  24%|██████████████▌                                             | 180/740 [31:24<1:45:19, 11.28s/row]"
     ]
    },
    {
     "name": "stdout",
     "output_type": "stream",
     "text": [
      "Target: parametric answer: লেন্সের মত\n",
      "contextual answer: লেন্সের মত\n",
      "generated: parametric answer:বক্র বা গোলীয় আয়না দূরবীক্ষণ যন্ত্রের অবজেক্টিভ হিসেবে কাজ করে, যা আলোক ফাঁকে এবং এক বিন্দুতে একত্র করে।\n",
      "contextual answer: বক্র বা গোলীয় আয়না লেন্সের মত কাজ করে, অর্থাৎ দূরবীক্ষণ যন্ত্রের অবজেক্টিভ হিসেবে ব্যবহার করা হয়।\n"
     ]
    },
    {
     "name": "stderr",
     "output_type": "stream",
     "text": [
      "Processing rows:  24%|██████████████▋                                             | 181/740 [31:38<1:52:31, 12.08s/row]"
     ]
    },
    {
     "name": "stdout",
     "output_type": "stream",
     "text": [
      "Target: parametric answer: ইতালীয় অধ্যাপক নিকোলো জুচ্চি\n",
      "contextual answer: ইতালীয় অধ্যাপক নিকোলো জুচ্চি\n",
      "generated: parametric answer:None.\n",
      "contextual answer: নিকোলো জুচ্চি।\n"
     ]
    },
    {
     "name": "stderr",
     "output_type": "stream",
     "text": [
      "Processing rows:  25%|██████████████▊                                             | 182/740 [31:52<1:57:50, 12.67s/row]"
     ]
    },
    {
     "name": "stdout",
     "output_type": "stream",
     "text": [
      "Target: parametric answer: রবার্ট হুক\n",
      "contextual answer: রবার্ট হুক\n",
      "generated: parametric answer:রবার্ট হুক\n",
      "contextual answer: রবার্ট হুক\n"
     ]
    },
    {
     "name": "stderr",
     "output_type": "stream",
     "text": [
      "Processing rows:  25%|██████████████▊                                             | 183/740 [32:06<2:01:14, 13.06s/row]"
     ]
    },
    {
     "name": "stdout",
     "output_type": "stream",
     "text": [
      "Target: parametric answer: ১৭তম শতাব্দীর\n",
      "contextual answer: ১৭তম শতাব্দীর\n",
      "generated: parametric answer:১৭তম শতাব্দীর গোড়ার দিকে।\n",
      "contextual answer: ১৭তম শতাব্দীর গোড়ার দিকে।\n"
     ]
    },
    {
     "name": "stderr",
     "output_type": "stream",
     "text": [
      "Processing rows:  25%|███████████████                                             | 185/740 [32:20<1:43:58, 11.24s/row]"
     ]
    },
    {
     "name": "stdout",
     "output_type": "stream",
     "text": [
      "Target: parametric answer: ১৭০৭\n",
      "contextual answer: ১৭০৭\n",
      "generated: parametric answer:১৭০৮\n",
      "contextual answer: ১৭০৭\n"
     ]
    },
    {
     "name": "stderr",
     "output_type": "stream",
     "text": [
      "Processing rows:  25%|███████████████▏                                            | 187/740 [32:34<1:31:42,  9.95s/row]"
     ]
    },
    {
     "name": "stdout",
     "output_type": "stream",
     "text": [
      "Target: parametric answer: ১৭১৭\n",
      "contextual answer: ১৭১৭\n",
      "generated: parametric answer:১৭১৭ সালে।\n",
      "contextual answer: ১৭১৭ সালে।\n"
     ]
    },
    {
     "name": "stderr",
     "output_type": "stream",
     "text": [
      "Processing rows:  25%|███████████████▏                                            | 188/740 [32:48<1:42:34, 11.15s/row]"
     ]
    },
    {
     "name": "stdout",
     "output_type": "stream",
     "text": [
      "Target: parametric answer: একটি পরিবহন অবস্থা থেকে অন্য পরিবহন অবস্থায় স্থানান্তর প্রক্রিয়া\n",
      "contextual answer: একটি পরিবহন অবস্থা থেকে অন্য পরিবহন অবস্থায় স্থানান্তর প্রক্রিয়া\n",
      "generated: parametric answer:ট্রান্সলোডিং হল একটি পরিবহন অবস্থা থেকে অন্য পরিবহন অবস্থায় স্থানান্তর প্রক্রিয়া। এটি পণ্য পরিবহনের জন্য বিভিন্ন পরিবহন ব্যবস্থার ব্যবহার করা যাবে না যখন এটি সর্বাধিক ব্যবহৃত হয়, যেমন পণ্য একটি অভ্যন্তরীণ পয়েন্ট থেকে অন্য আন্তর্জাতিকভাবে প্রেরণ করা আবশ্যক হয়। এটি বাল্ক বস্তু (যেমন কয়লা), খনি থেকে রেল গাড়িতে তোলা এবং বন্দরে একটি জাহাজে স্থানান্তর জড়িত হতে পারে। লাইনের মধ্যে সরঞ্জামগুলি সামঞ্জস্যপূর্ণ না হওয়ার কারণে রেল গাড়িতে পরিবাহিত পন্য ব্রেক-অফ-গেজ পয়েন্টগুলিতে ট্রান্সলোডিং করাও প্রয়োজন হয়।\n",
      "contextual answer: ট্রান্সলোডিং হল একটি পরিবহন অবস্থা থেকে অন্য পরিবহন অবস্থায় স্থানান্তর প্রক্রিয়া। এটি পণ্য পরিবহনের জন্য বিভিন্ন পরিবহন ব্যবস্থার ব্যবহার করা যাবে না যখন এটি সর্বাধিক ব্যবহৃত হয়, যেমন পণ্য একটি অভ্যন্তরীণ পয়েন্ট থেকে অন্য আন্তর্জাতিকভাবে প্রেরণ করা আবশ্যক হয়। এটি বাল্ক বস্তু (যেমন কয়লা), খনি থেকে রেল গাড়িতে তোলা এবং বন্দরে একটি জাহাজে স্থানান্তর জড়িত হতে পারে। লাইনের মধ্যে সরঞ্জামগুলি সামঞ্জস্যপূর্ণ না হওয়ার কারণে রেল গাড়িতে পরিবাহিত পন্য ব্রেক-অফ-গেজ পয়েন্টগুলিতে ট্রান্সলোডিং করাও প্রয়োজন হয়।\n"
     ]
    },
    {
     "name": "stderr",
     "output_type": "stream",
     "text": [
      "Processing rows:  26%|███████████████▍                                            | 190/740 [33:06<1:36:36, 10.54s/row]"
     ]
    },
    {
     "name": "stdout",
     "output_type": "stream",
     "text": [
      "Target: parametric answer: ট্রান্সলোডিং\n",
      "contextual answer: ট্রান্সলোডিং\n",
      "generated: parametric answer:খনি থেকে রেল গাড়িতে তোলার জন্য ক্রান বা কনভাইয়ার ব্যবহৃত হয়।\n",
      "contextual answer: খনি থেকে রেল গাড়িতে তোলা হয়।\n"
     ]
    },
    {
     "name": "stderr",
     "output_type": "stream",
     "text": [
      "Processing rows:  26%|███████████████▍                                            | 191/740 [33:22<1:52:35, 12.31s/row]"
     ]
    },
    {
     "name": "stdout",
     "output_type": "stream",
     "text": [
      "Target: parametric answer: গুদাম ঘর\n",
      "contextual answer: গুদাম ঘর\n",
      "generated: parametric answer:শস্য এলিভেটর।\n",
      "contextual answer: শস্য এলিভেটর।\n"
     ]
    },
    {
     "name": "stderr",
     "output_type": "stream",
     "text": [
      "Processing rows:  26%|███████████████▌                                            | 192/740 [33:37<1:59:54, 13.13s/row]"
     ]
    },
    {
     "name": "stdout",
     "output_type": "stream",
     "text": [
      "Target: parametric answer: যেহেতু সঞ্চয়ের জন্য পণ্যগুলি পরিচালনা করা প্রয়োজন\n",
      "contextual answer: যেহেতু সঞ্চয়ের জন্য পণ্যগুলি পরিচালনা করা প্রয়োজন\n",
      "generated: parametric answer:ট্রান্সলোডিং ক্ষতির উচ্চ ঝুঁকি সৃষ্টি করে কারণ এটি পণ্যগুলির বারবার লোডিং এবং যার্ডিং প্রয়োজন, যা পণ্যগুলির ক্ষতির সম্ভাবনা বাড়ায়।\n",
      "contextual answer: ট্রান্সলোডিং ক্ষতির একটি উচ্চ ঝুঁকি সৃষ্টি করে কারণ এটি পণ্যগুলির বারবার হ্যান্ডলিং এবং স্টোরেজ প্রয়োজন হতে পারে, যা পণ্যগুলির ক্ষতির সম্ভাবনা বাড়ায়।\n"
     ]
    },
    {
     "name": "stderr",
     "output_type": "stream",
     "text": [
      "Processing rows:  26%|███████████████▋                                            | 193/740 [33:54<2:09:32, 14.21s/row]"
     ]
    },
    {
     "name": "stdout",
     "output_type": "stream",
     "text": [
      "Target: parametric answer: পৃথিবী গোলাকার নয়, বরং সমতল, এই ধারণাকে বোঝানো হচ্ছে\n",
      "contextual answer: পৃথিবী গোলাকার নয়, বরং সমতল, এই ধারণাকে বোঝানো হচ্ছে\n",
      "generated: parametric answer:সমতল পৃথিবী বলতে পৃথিবী গোলাকার নয়, বরং সমতল ধারণাকে বোঝানো হয়, কিন্তু প্রকৃতপক্ষে পৃথিবী একটি গোলক বা অভিস্ফাইরোইড।\n",
      "contextual answer: সমতল পৃথিবী বলতে পৃথিবী গোলাকার নয়, বরং সমতল ধারণাকে বোঝানো হচ্ছে।\"\n"
     ]
    },
    {
     "name": "stderr",
     "output_type": "stream",
     "text": [
      "Processing rows:  26%|███████████████▊                                            | 195/740 [34:08<1:49:22, 12.04s/row]"
     ]
    },
    {
     "name": "stdout",
     "output_type": "stream",
     "text": [
      "Target: parametric answer: খ্রিস্টপূর্ব ৪র্থ শতক\n",
      "contextual answer: খ্রিস্টপূর্ব ৪র্থ শতক\n",
      "generated: parametric answer:খ্রিস্টপূর্ব ৪র্থ শতকে।\n",
      "contextual answer: খ্রিস্টপূর্ব ৪র্থ শতকে।\n"
     ]
    },
    {
     "name": "stderr",
     "output_type": "stream",
     "text": [
      "Processing rows:  26%|███████████████▉                                            | 196/740 [34:22<1:54:30, 12.63s/row]"
     ]
    },
    {
     "name": "stdout",
     "output_type": "stream",
     "text": [
      "Target: parametric answer: কারণ পৃথিবী এতো বড় গোলক যে, কোন নির্দিষ্ট স্থান থেকে চারপাশটা সমতল মনে হয়\n",
      "contextual answer: কারণ পৃথিবী এতো বড় গোলক যে, কোন নির্দিষ্ট স্থান থেকে চারপাশটা সমতল মনে হয়\n",
      "generated: parametric answer:পৃথিবী একটি গোলক, কিন্তু এর বড় আকারের কারণে চারপাশে তাকালে গোলাকারতাটি অনুভব করা যায় না, তাই পৃথিবীকে সমতল মনে হয়।\n",
      "contextual answer: পৃথিবী এতো বড় গোলক যে, কোন নির্দিষ্ট স্থান থেকে চারপাশটা সমতল মনে হয়।\n"
     ]
    },
    {
     "name": "stderr",
     "output_type": "stream",
     "text": [
      "Processing rows:  27%|███████████████▉                                            | 197/740 [34:38<2:03:20, 13.63s/row]"
     ]
    },
    {
     "name": "stdout",
     "output_type": "stream",
     "text": [
      "Target: parametric answer: বিদ ধাতু\n",
      "contextual answer: বিদ ধাতু\n",
      "generated: parametric answer:বৈদ্য এবং বেদ একই শব্দমূল বিদ ধাতু থেকে উৎপন্ন।\n",
      "contextual answer: বৈদ্য এবং বেদ একই শব্দমূল বিদ ধাতু থেকে উৎপন্ন।\n"
     ]
    },
    {
     "name": "stderr",
     "output_type": "stream",
     "text": [
      "Processing rows:  27%|████████████████▏                                           | 200/740 [34:52<1:38:29, 10.94s/row]"
     ]
    },
    {
     "name": "stdout",
     "output_type": "stream",
     "text": [
      "Target: parametric answer: জ্ঞান\n",
      "contextual answer: জ্ঞান\n",
      "generated: parametric answer:জ্ঞান।\n",
      "contextual answer: জ্ঞান।\"\n"
     ]
    },
    {
     "name": "stderr",
     "output_type": "stream",
     "text": [
      "Processing rows:  27%|████████████████▎                                           | 201/740 [35:06<1:46:32, 11.86s/row]"
     ]
    },
    {
     "name": "stdout",
     "output_type": "stream",
     "text": [
      "Target: parametric answer: বেদজ্ঞানী\n",
      "contextual answer: বেদজ্ঞানী\n",
      "generated: parametric answer:বৈদ্য\" হল বেদ শাস্ত্রের অভিজ্ঞ ব্রাহ্মণদের এক শ্রেণী, যারা বেদ শ্রবণ করে ধারণ করতেন এবং বৈদিক ঋতু সম্পাদন করতেন।\n",
      "contextual answer: বৈদ্য\" শব্দটি \"বিদ\" ধাতু থেকে উৎপন্ন হয়েছে, যার অর্থ জ্ঞান। \"বৈদ্য\" অর্থ বেদজ্ঞানী বা বেদ চর্চাকারী জাত।\n"
     ]
    },
    {
     "name": "stderr",
     "output_type": "stream",
     "text": [
      "Processing rows:  27%|████████████████▍                                           | 202/740 [35:22<1:58:18, 13.20s/row]"
     ]
    },
    {
     "name": "stdout",
     "output_type": "stream",
     "text": [
      "Target: parametric answer: গুরুশিষ্য\n",
      "contextual answer: গুরুশিষ্য\n",
      "generated: parametric answer:গুরুশিষ্য পরম্পরায়।\n",
      "contextual answer: গুরুশিষ্য পরম্পরায়।\n"
     ]
    },
    {
     "name": "stderr",
     "output_type": "stream",
     "text": [
      "Processing rows:  27%|████████████████▍                                           | 203/740 [35:36<2:00:05, 13.42s/row]"
     ]
    },
    {
     "name": "stdout",
     "output_type": "stream",
     "text": [
      "Target: parametric answer: দুটি\n",
      "contextual answer: দুটি\n",
      "generated: parametric answer:প্লাস্টিক সার্জারি বা অস্ত্রোপচার হল সার্জিক্যাল বিশেষত্ব যার মধ্যে মানবদেহের পুনরুদ্ধার, পুনর্গঠন বা পরিবর্তন জড়িত। এটিকে দুটি প্রধান বিভাগে বিভক্ত করা যেতে পারে: পুনর্গঠনমূলক ও কসমেটিক।\n",
      "contextual answer: প্লাস্টিক সার্জারি বা অস্ত্রোপচার হল সার্জিক্যাল বিশেষত্ব যার মধ্যে মানবদেহের পুনরুদ্ধার, পুনর্গঠন বা পরিবর্তন জড়িত। এটিকে দুটি প্রধান বিভাগে বিভক্ত করা যেতে পারে: পুনর্গঠনমূলক ও কসমেটিক।\n"
     ]
    },
    {
     "name": "stderr",
     "output_type": "stream",
     "text": [
      "Processing rows:  28%|████████████████▌                                           | 205/740 [35:50<1:42:25, 11.49s/row]"
     ]
    },
    {
     "name": "stdout",
     "output_type": "stream",
     "text": [
      "Target: parametric answer: ক্রানিওফেসিয়াল সার্জারি; হাতের সার্জারি; মাইক্রোসার্জারি; পোড়ার চিকিৎসা\n",
      "contextual answer: ক্রানিওফেসিয়াল সার্জারি; হাতের সার্জারি; মাইক্রোসার্জারি; পোড়ার চিকিৎসা\n",
      "generated: parametric answer:ক্রানিওফেসিয়াল সার্জারি, হাতের সার্জারি, মাইক্রোসার্জারি ও পোড়ার চিকিৎসা।\n",
      "contextual answer: ক্রানিওফেসিয়াল সার্জারি, হাতের সার্জারি, মাইক্রোসার্জারি ও পোড়ার চিকিৎসা।\n"
     ]
    },
    {
     "name": "stderr",
     "output_type": "stream",
     "text": [
      "Processing rows:  28%|████████████████▋                                           | 206/740 [36:04<1:48:46, 12.22s/row]"
     ]
    },
    {
     "name": "stdout",
     "output_type": "stream",
     "text": [
      "Target: parametric answer: সুশ্রুত সংহিতা\n",
      "contextual answer: সুশ্রুত সংহিতা\n",
      "generated: parametric answer:সুশ্রুত সংহিতায়।\n",
      "contextual answer: সুশ্রুত সংহিতায়।\n"
     ]
    },
    {
     "name": "stderr",
     "output_type": "stream",
     "text": [
      "Processing rows:  28%|████████████████▊                                           | 208/740 [36:19<1:35:48, 10.81s/row]"
     ]
    },
    {
     "name": "stdout",
     "output_type": "stream",
     "text": [
      "Target: parametric answer: হিতোমি কিসুগি\n",
      "contextual answer: হিতোমি কিসুগি\n",
      "generated: parametric answer:None.\n",
      "contextual answer: হিতোমি।\n"
     ]
    },
    {
     "name": "stderr",
     "output_type": "stream",
     "text": [
      "Processing rows:  28%|█████████████████                                           | 210/740 [36:34<1:26:48,  9.83s/row]"
     ]
    },
    {
     "name": "stdout",
     "output_type": "stream",
     "text": [
      "Target: parametric answer: ক্রীড়াবিদ; ঘোড়ার পিঠে চড়া; তালা খোলা\n",
      "contextual answer: ক্রীড়াবিদ; ঘোড়ার পিঠে চড়া; তালা খোলা\n",
      "generated: parametric answer:হিতোমির দক্ষতাগুলো হল: জিমন্যাস্ট, অ্যাক্রোবেটিক, মার্শাল আর্টিস্ট (জুডো, আইকিডো), চেহারা ছদ্মবেশ, বিভিন্ন ভাষায় কথা বলা।\n",
      "contextual answer: হিতোমির দক্ষতাগুলো হল: জিমন্যাস্ট, অ্যাক্রোবেটিক, মার্শাল আর্টিস্ট (জুডো, বক্সিং, কারাতে, কেন্ডো, আইকিডো), চেহারা ছদ্মবেশ, বিভিন্ন ভাষায় কথা বলা।\n"
     ]
    },
    {
     "name": "stderr",
     "output_type": "stream",
     "text": [
      "Processing rows:  29%|█████████████████                                           | 211/740 [36:51<1:43:54, 11.78s/row]"
     ]
    },
    {
     "name": "stdout",
     "output_type": "stream",
     "text": [
      "Target: parametric answer: এর মাধ্যমে মুন্সিগঞ্জের লৌহজংয়ের সাথে শরীয়তপুর ও মাদারীপুর জেলা যুক্ত হবে\n",
      "contextual answer: এর মাধ্যমে মুন্সিগঞ্জের লৌহজংয়ের সাথে শরীয়তপুর ও মাদারীপুর জেলা যুক্ত হবে\n",
      "generated: parametric answer:শরীয়তপুর ও মাদারীপুর জেলা।\n",
      "contextual answer: শরীয়তপুর ও মাদারীপুর জেলা।\n"
     ]
    },
    {
     "name": "stderr",
     "output_type": "stream",
     "text": [
      "Processing rows:  29%|█████████████████▎                                          | 214/740 [37:05<1:24:33,  9.65s/row]"
     ]
    },
    {
     "name": "stdout",
     "output_type": "stream",
     "text": [
      "Target: parametric answer: ৪১টি স্পান\n",
      "contextual answer: ৪১টি স্পান\n",
      "generated: parametric answer:৪১টি স্পান।\n",
      "contextual answer: ৪১টি স্পান।\"\n"
     ]
    },
    {
     "name": "stderr",
     "output_type": "stream",
     "text": [
      "Processing rows:  29%|█████████████████▌                                          | 216/740 [37:19<1:17:12,  8.84s/row]"
     ]
    },
    {
     "name": "stdout",
     "output_type": "stream",
     "text": [
      "Target: parametric answer: প্রকল্প প্রস্তুতির সাথে যুক্ত কিছু লোকের দুর্নীতির অভিযোগ উঠায়\n",
      "contextual answer: প্রকল্প প্রস্তুতির সাথে যুক্ত কিছু লোকের দুর্নীতির অভিযোগ উঠায়\n",
      "generated: parametric answer:২০০৬-০৭ সালে বিশ্বব্যাংক প্রকল্পটি নির্মাণে তাদের প্রতিশ্রুতি প্রত্যাহার করে নেয় কারণ হলো প্রকল্পের প্রস্তুতির সাথে যুক্ত কিছু লোকের দুর্নীতির অভিযোগ।\n",
      "contextual answer: ২০০৬-০৭ সালে বিশ্বব্যাংক প্রকল্পটি নির্মাণে তাদের প্রতিশ্রুতি প্রত্যাহার করে নেয় কারণ হলো প্রকল্পের প্রস্তুতির সাথে যুক্ত কিছু লোকের দুর্নীতির অভিযোগ।\n"
     ]
    },
    {
     "name": "stderr",
     "output_type": "stream",
     "text": [
      "Processing rows:  29%|█████████████████▌                                          | 217/740 [37:35<1:35:51, 11.00s/row]"
     ]
    },
    {
     "name": "stdout",
     "output_type": "stream",
     "text": [
      "Target: parametric answer: এন্ডোগ্যামাস\n",
      "contextual answer: এন্ডোগ্যামাস\n",
      "generated: parametric answer:জাতিগোষ্ঠী\n",
      "contextual answer: এন্ডোগ্যামাস উপগোষ্ঠী\n"
     ]
    },
    {
     "name": "stderr",
     "output_type": "stream",
     "text": [
      "Processing rows:  30%|█████████████████▊                                          | 219/740 [37:50<1:27:33, 10.08s/row]"
     ]
    },
    {
     "name": "stdout",
     "output_type": "stream",
     "text": [
      "Target: parametric answer: ১৯২৫\n",
      "contextual answer: ১৯২৫\n",
      "generated: parametric answer:১৯২৫ সালে।\n",
      "contextual answer: ১৯২৫ সালে।\n"
     ]
    },
    {
     "name": "stderr",
     "output_type": "stream",
     "text": [
      "Processing rows:  30%|█████████████████▉                                          | 221/740 [38:04<1:19:08,  9.15s/row]"
     ]
    },
    {
     "name": "stdout",
     "output_type": "stream",
     "text": [
      "Target: parametric answer: বাঙালি হিন্দুদের সাথে অন্যান্য হিন্দুরাও অভিন্ন হিন্দু আইন দ্বারা পরিচালিত হচ্ছে\n",
      "contextual answer: বাঙালি হিন্দুদের সাথে অন্যান্য হিন্দুরাও অভিন্ন হিন্দু আইন দ্বারা পরিচালিত হচ্ছে\n",
      "generated: parametric answer:ভারতে হিন্দু কোড বিল জারি করার পরে হিন্দুরা একটি সমতুল্য হিন্দু আইন দ্বারা পরিচালিত হয়েছে, যা মহিলাদের সমান অধিকার দেয় এবং বিভাব অনুমতি দেয়।\n",
      "contextual answer: বাঙালি হিন্দুদের সাথে অন্যান্য হিন্দুরাও অভিন্ন হিন্দু আইন দ্বারা পরিচালিত হচ্ছে।\n"
     ]
    },
    {
     "name": "stderr",
     "output_type": "stream",
     "text": [
      "Processing rows:  30%|██████████████████                                          | 222/740 [38:21<1:38:04, 11.36s/row]"
     ]
    },
    {
     "name": "stdout",
     "output_type": "stream",
     "text": [
      "Target: parametric answer: বাংলাদেশী অমনিবাস ওয়েব ধারাবাহিক\n",
      "contextual answer: বাংলাদেশী অমনিবাস ওয়েব ধারাবাহিক\n",
      "generated: parametric answer:নাট্য ধারাবাহিক।\n",
      "contextual answer: অমনিবাস ওয়েব ধারাবাহিক।\n"
     ]
    },
    {
     "name": "stderr",
     "output_type": "stream",
     "text": [
      "Processing rows:  30%|██████████████████▏                                         | 224/740 [38:37<1:28:38, 10.31s/row]"
     ]
    },
    {
     "name": "stdout",
     "output_type": "stream",
     "text": [
      "Target: parametric answer: চরকি ওয়েব প্ল্যাটফর্মে\n",
      "contextual answer: চরকি ওয়েব প্ল্যাটফর্মে\n",
      "generated: parametric answer:চরকি ওয়েব প্ল্যাটফর্মে।\n",
      "contextual answer: চরকি ওয়েব প্ল্যাটফর্মে।\n"
     ]
    },
    {
     "name": "stderr",
     "output_type": "stream",
     "text": [
      "Processing rows:  30%|██████████████████▏                                         | 225/740 [38:51<1:37:48, 11.40s/row]"
     ]
    },
    {
     "name": "stdout",
     "output_type": "stream",
     "text": [
      "Target: parametric answer: পাঁচটি\n",
      "contextual answer: পাঁচটি\n",
      "generated: parametric answer:প্রথম মৌসুমে পাঁচটি পর্ব রয়েছে।\n",
      "contextual answer: প্রথম মৌসুমে পাঁচটি পর্ব রয়েছে।\n"
     ]
    },
    {
     "name": "stderr",
     "output_type": "stream",
     "text": [
      "Processing rows:  31%|██████████████████▎                                         | 226/740 [39:05<1:44:08, 12.16s/row]"
     ]
    },
    {
     "name": "stdout",
     "output_type": "stream",
     "text": [
      "Target: parametric answer: মীর মোকাররম হোসেন; তানিম নূর; রুমেল চৌধুরী\n",
      "contextual answer: মীর মোকাররম হোসেন; তানিম নূর; রুমেল চৌধুরী\n",
      "generated: parametric answer:মীর মোকাররম হোসেন, তানিম নূর ও রুমেল চৌধুরী।\n",
      "contextual answer: মীর মোকাররম হোসেন, তানিম নূর ও রুমেল চৌধুরী।\n"
     ]
    },
    {
     "name": "stderr",
     "output_type": "stream",
     "text": [
      "Processing rows:  31%|██████████████████▍                                         | 227/740 [39:19<1:48:43, 12.72s/row]"
     ]
    },
    {
     "name": "stdout",
     "output_type": "stream",
     "text": [
      "Target: parametric answer: নিউ ইয়র্ক; হংকং\n",
      "contextual answer: নিউ ইয়র্ক; হংকং\n",
      "generated: parametric answer:নিউ ইয়র্ক, হংকং, টোকিও, প্যারিস এবং অন্যান্য শহরগুলো।\n",
      "contextual answer: নিউ ইয়র্ক এবং হংকং।\n"
     ]
    },
    {
     "name": "stderr",
     "output_type": "stream",
     "text": [
      "Processing rows:  31%|██████████████████▌                                         | 229/740 [39:32<1:33:35, 10.99s/row]"
     ]
    },
    {
     "name": "stdout",
     "output_type": "stream",
     "text": [
      "Target: parametric answer: মঙ্গল\n",
      "contextual answer: মঙ্গল\n",
      "generated: parametric answer:মঙ্গল গ্রহটি প্রায়শই ব্যবহৃত হয়।\n",
      "contextual answer: মঙ্গল গ্রহটি প্রায়শই ব্যবহৃত হয়।\n"
     ]
    },
    {
     "name": "stderr",
     "output_type": "stream",
     "text": [
      "Processing rows:  31%|██████████████████▋                                         | 230/740 [39:47<1:43:07, 12.13s/row]"
     ]
    },
    {
     "name": "stdout",
     "output_type": "stream",
     "text": [
      "Target: parametric answer: সাতোশি টোবা\n",
      "contextual answer: সাতোশি টোবা\n",
      "generated: parametric answer:সাতোশি টোবা।\n",
      "contextual answer: সাতোশি টোবা।\n"
     ]
    },
    {
     "name": "stderr",
     "output_type": "stream",
     "text": [
      "Processing rows:  31%|██████████████████▋                                         | 231/740 [40:01<1:47:30, 12.67s/row]"
     ]
    },
    {
     "name": "stdout",
     "output_type": "stream",
     "text": [
      "Target: parametric answer: রাষ্ট্রহীনের চেয়ে বহুজাতিক\n",
      "contextual answer: রাষ্ট্রহীনের চেয়ে বহুজাতিক\n",
      "generated: parametric answer:ওয়াতানাবে বিশ্বের কল্পনা করেছিলেন যা \"রাষ্ট্রহীনের চেয়ে বহুজাতিক\" ছিল।\n",
      "contextual answer: ওয়াতানাবে বিশ্বের কল্পনা করেছিলেন যা \"রাষ্ট্রহীনের চেয়ে বহুজাতিক\" ছিল।\n"
     ]
    },
    {
     "name": "stderr",
     "output_type": "stream",
     "text": [
      "Processing rows:  31%|██████████████████▊                                         | 232/740 [40:15<1:50:28, 13.05s/row]"
     ]
    },
    {
     "name": "stdout",
     "output_type": "stream",
     "text": [
      "Target: parametric answer: জ্যোতির্বিদ্যা\n",
      "contextual answer: জ্যোতির্বিদ্যা\n",
      "generated: parametric answer:জ্যোতির্বিদ্যা\n",
      "contextual answer: জ্যোতির্বিদ্যা\n"
     ]
    },
    {
     "name": "stderr",
     "output_type": "stream",
     "text": [
      "Processing rows:  32%|██████████████████▉                                         | 234/740 [40:29<1:34:45, 11.24s/row]"
     ]
    },
    {
     "name": "stdout",
     "output_type": "stream",
     "text": [
      "Target: parametric answer: মধ্যযুগীয়\n",
      "contextual answer: মধ্যযুগীয়\n",
      "generated: parametric answer:ইসলামিক স্বর্ণযুগে (ইসলামিক গোল্ডেন এজ)\n",
      "contextual answer: মধ্যযুগীয় ইসলামী বিশ্বে\n"
     ]
    },
    {
     "name": "stderr",
     "output_type": "stream",
     "text": [
      "Processing rows:  32%|███████████████████                                         | 235/740 [40:43<1:41:26, 12.05s/row]"
     ]
    },
    {
     "name": "stdout",
     "output_type": "stream",
     "text": [
      "Target: parametric answer: মূলত জাহাজ চালানোর সহায়তা; মক্কার দিকনির্দেশনা কিবলা সন্ধানের উপায় হিসাবে\n",
      "contextual answer: মূলত জাহাজ চালানোর সহায়তা; মক্কার দিকনির্দেশনা কিবলা সন্ধানের উপায় হিসাবে\n",
      "generated: parametric answer:অ্যাস্ট্রোল্যাব মুসলিম বিশ্বে নৌকারীর সাহায্যে, কিবলা নির্দেশনায়, সময় নির্ধারণে, আকাশের ঘটনাগুলোর পূর্বানুমানে এবং জ্যোতির্বিজ্ঞানীদের কাজে ব্যবহৃত হয়েছিল।\n",
      "contextual answer: অ্যাস্�ট্রোল্যাব মুসলিম বিশ্বের সর্বত্র ব্যাপকভাবে ব্যবহৃত হয়েছিল নৌকারীর সাহায্যে এবং মক্কার দিকনির্দেশনা কিবলা সন্ধানের উপায় হিসাবে।\n"
     ]
    },
    {
     "name": "stderr",
     "output_type": "stream",
     "text": [
      "Processing rows:  32%|███████████████████▏                                        | 236/740 [41:00<1:52:38, 13.41s/row]"
     ]
    },
    {
     "name": "stdout",
     "output_type": "stream",
     "text": [
      "Target: parametric answer: অষ্টম শতাব্দীর গণিতবিদ মুহাম্মদ আল-ফাজারী\n",
      "contextual answer: অষ্টম শতাব্দীর গণিতবিদ মুহাম্মদ আল-ফাজারী\n",
      "generated: parametric answer:মুহাম্মদ আল-ফাজারী।\n",
      "contextual answer: মুহাম্মদ আল-ফাজারী।\n"
     ]
    },
    {
     "name": "stderr",
     "output_type": "stream",
     "text": [
      "Processing rows:  32%|███████████████████▏                                        | 237/740 [41:14<1:54:19, 13.64s/row]"
     ]
    },
    {
     "name": "stdout",
     "output_type": "stream",
     "text": [
      "Target: parametric answer: কনকাকাফ\n",
      "contextual answer: কনকাকাফ\n",
      "generated: parametric answer:কনকাকাফ।\n",
      "contextual answer: কনকাকাফ।\n"
     ]
    },
    {
     "name": "stderr",
     "output_type": "stream",
     "text": [
      "Processing rows:  32%|███████████████████▍                                        | 239/740 [41:28<1:37:36, 11.69s/row]"
     ]
    },
    {
     "name": "stdout",
     "output_type": "stream",
     "text": [
      "Target: parametric answer: মেক্সিকো\n",
      "contextual answer: মেক্সিকো\n",
      "generated: parametric answer:মেক্সিকো।\n",
      "contextual answer: মেক্সিকো।\n"
     ]
    },
    {
     "name": "stderr",
     "output_type": "stream",
     "text": [
      "Processing rows:  32%|███████████████████▍                                        | 240/740 [41:42<1:43:06, 12.37s/row]"
     ]
    },
    {
     "name": "stdout",
     "output_type": "stream",
     "text": [
      "Target: parametric answer: না\n",
      "contextual answer: না\n",
      "generated: parametric answer:মার্কিন যুক্তরাষ্ট্র পুরুষ দল কনকাকাফ গোল্ড কাপ জয় করেছে।\n",
      "contextual answer: মার্কিন যুক্তরাষ্ট্র পুরুষ দল কনকাকাফ গোল্ড কাপ জয় করেছে না।\n"
     ]
    },
    {
     "name": "stderr",
     "output_type": "stream",
     "text": [
      "Processing rows:  33%|███████████████████▌                                        | 241/740 [41:56<1:46:43, 12.83s/row]"
     ]
    },
    {
     "name": "stdout",
     "output_type": "stream",
     "text": [
      "Target: parametric answer: চার\n",
      "contextual answer: চার\n",
      "generated: parametric answer:মার্কিন যুক্তরাষ্ট্রের মহিলাদের দল পাঁচবার অলিম্পিক জয়লাভ করেছে।\n",
      "contextual answer: মার্কিন যুক্তরাষ্ট্রের মহিলাদের দল চারবার অলিম্পিক জয়লাভ করেছে।\n"
     ]
    },
    {
     "name": "stderr",
     "output_type": "stream",
     "text": [
      "Processing rows:  33%|███████████████████▌                                        | 242/740 [42:10<1:49:25, 13.18s/row]"
     ]
    },
    {
     "name": "stdout",
     "output_type": "stream",
     "text": [
      "Target: parametric answer: প্রায় ২৫০০ বছর আগের\n",
      "contextual answer: প্রায় ২৫০০ বছর আগের\n",
      "generated: parametric answer:প্রায় ২৩০০-২৪০০ বছর আগে।\n",
      "contextual answer: প্রায় ২৫০০ বছর আগে।\n"
     ]
    },
    {
     "name": "stderr",
     "output_type": "stream",
     "text": [
      "Processing rows:  33%|███████████████████▊                                        | 244/740 [42:24<1:33:37, 11.33s/row]"
     ]
    },
    {
     "name": "stdout",
     "output_type": "stream",
     "text": [
      "Target: parametric answer: ১৬৯৬\n",
      "contextual answer: ১৬৯৬\n",
      "generated: parametric answer:১৬৯৬ সালে।\n",
      "contextual answer: ১৬৯৬ সালে।\n"
     ]
    },
    {
     "name": "stderr",
     "output_type": "stream",
     "text": [
      "Processing rows:  33%|███████████████████▊                                        | 245/740 [42:38<1:40:02, 12.13s/row]"
     ]
    },
    {
     "name": "stdout",
     "output_type": "stream",
     "text": [
      "Target: parametric answer: একজন নৈরাজ্যবাদী রাশিয়ান লেখক\n",
      "contextual answer: একজন নৈরাজ্যবাদী রাশিয়ান লেখক\n",
      "generated: parametric answer:এমা গোল্ডম্যান ছিলেন একজন প্রখ্যাত নৈরাজ্যবাদী এবং নারী অধিকারের সক্রিয় ব্যক্তিত্ব। তিনি ১৮৬৯ সালে লিথুアニয়ের কাউনাসে (পূর্বে কভ্ন) জন্মগ্রহণ করেন এবং ১৮৮৫ সালে মার্কিন যুক্তরাষ্ট্রে নাগরিক হন। তিনি হ্যেইমার্কেট এফেয়ারের প্রভাবে নৈরাজ্যবাদে আকৃষ্ট হয়ে ১৮৮৯ সালে বার্জেনিং নৈরাজ্যবাদী আন্দোলনে যোগ দেন। তিনি হেনরি ক্লে ফ্রিককে হত্যার পরিকল্পনা করেন, কিন্তু ফ্রিক বেঁচে যান। তিনি বার্কম্যানের সাথে একসাথে কারাদন্ডে দণ্ডিত হন এবং ১৯০৬ সালে \"মাদার আর্থ\" জার্নাল প্রতিষ্ঠা করেছিলেন। তিনি মার্কিন যুক্তরাষ্ট্রের বাইরে প্রবাস গিয়ে ১৯৪০ সালে মৃত্য\n",
      "contextual answer: এমা গোল্ডম্যান ছিলেন একজন নৈরাজ্যবাদী রাশিয়ান লেখক, যিনি লেখা, বক্তৃতা এবং রাজনৈতিক সক্রিয়তার মাধ্যমে পরিচিত ছিলেন। তিনি ১৮৮৯ সালে হ্যেইমার্কেট এফেয়ার দ্বারা নৈরাজ্যবাদীতে আকৃষ্ট হয়ে বার্জেনিং নৈরাজ্যবাদী আন্দোলনে যোগ দেন। তিনি হেনরি ক্লে ফ্রিককে হত্যার পরিকল্পনা করেন, কিন্তু ফ্রিক বেঁচে যান। তিনি বার্কম্যানের সাথে একসাথে কারাদন্ডে দণ্ডিত হন এবং \"মাদার আর্থ\" নামক নৈরাজ্যবাদী জার্নাল প্রতিষ্ঠা করেছিলেন।\n"
     ]
    },
    {
     "name": "stderr",
     "output_type": "stream",
     "text": [
      "Processing rows:  34%|████████████████████▏                                       | 249/740 [42:57<1:20:50,  9.88s/row]"
     ]
    },
    {
     "name": "stdout",
     "output_type": "stream",
     "text": [
      "Target: parametric answer: রাশিয়ান সাম্রাজ্যের কভ্ন\n",
      "contextual answer: রাশিয়ান সাম্রাজ্যের কভ্ন\n",
      "generated: parametric answer:এমা গোল্ডম্যান কভ্ন (বর্তমানে কাউনাস, লিত্ভা) জন্মগ্রহণ করেন।\n",
      "contextual answer: এমা গোল্ডম্যান কভ্ন (বর্তমানে কাউনাস, লিত্ভা) জন্মগ্রহণ করেন।\n"
     ]
    },
    {
     "name": "stderr",
     "output_type": "stream",
     "text": [
      "Processing rows:  34%|████████████████████▎                                       | 250/740 [43:10<1:30:34, 11.09s/row]"
     ]
    },
    {
     "name": "stdout",
     "output_type": "stream",
     "text": [
      "Target: parametric answer: অবৈধভাবে জন্ম নিয়ন্ত্রণ সম্পর্কে তথ্য বিতরণের জন্য\n",
      "contextual answer: অবৈধভাবে জন্ম নিয়ন্ত্রণ সম্পর্কে তথ্য বিতরণের জন্য\n",
      "generated: parametric answer:গোল্ডম্যানকে কারারুদ্ধ করা হয়েছিল কারণ তিনি নৈরাজ্যবাদী দর্শন, নারী অধিকার, এবং সামাজিক বিষয়ে বক্তৃতা করছিলেন, এবং তার জার্নাল \"মাদার আর্থ\" প্রকাশ করছিলেন।\n",
      "contextual answer: গোল্ডম্যানকে কারারুদ্ধ করা হয়েছিল কারণ তিনি \"দাঙ্গা উস্কে\" এবং অবৈধভাবে জন্ম নিয়ন্ত্রণ সম্পর্কে তথ্য বিতরণ করছিলেন।\n"
     ]
    },
    {
     "name": "stderr",
     "output_type": "stream",
     "text": [
      "Processing rows:  34%|████████████████████▎                                       | 251/740 [43:27<1:43:37, 12.72s/row]"
     ]
    },
    {
     "name": "stdout",
     "output_type": "stream",
     "text": [
      "Target: parametric answer: ১৮৮৫\n",
      "contextual answer: ১৮৮৫\n",
      "generated: parametric answer:১৮৮৬ সালে\n",
      "contextual answer: ১৮৮৫ সালে\n"
     ]
    },
    {
     "name": "stderr",
     "output_type": "stream",
     "text": [
      "Processing rows:  34%|████████████████████▍                                       | 252/740 [43:41<1:46:26, 13.09s/row]"
     ]
    },
    {
     "name": "stdout",
     "output_type": "stream",
     "text": [
      "Target: parametric answer: অ্যানিমেশন স্টুডিও সানরাইজ\n",
      "contextual answer: অ্যানিমেশন স্টুডিও সানরাইজ\n",
      "generated: parametric answer:সানরাইজ।\n",
      "contextual answer: সানরাইজ।\n"
     ]
    },
    {
     "name": "stderr",
     "output_type": "stream",
     "text": [
      "Processing rows:  34%|████████████████████▌                                       | 254/740 [43:55<1:31:06, 11.25s/row]"
     ]
    },
    {
     "name": "stdout",
     "output_type": "stream",
     "text": [
      "Target: parametric answer: শিনিচিরো ওয়াতানাবে\n",
      "contextual answer: শিনিচিরো ওয়াতানাবে\n",
      "generated: parametric answer:শিনিচিরো ওয়াতানাবে।\n",
      "contextual answer: শিনিচিরো ওয়াতানাবে।\n"
     ]
    },
    {
     "name": "stderr",
     "output_type": "stream",
     "text": [
      "Processing rows:  34%|████████████████████▋                                       | 255/740 [44:09<1:37:30, 12.06s/row]"
     ]
    },
    {
     "name": "stdout",
     "output_type": "stream",
     "text": [
      "Target: parametric answer: চিত্রনাট্যকার কেইকো নোবুমোতো; চরিত্র ডিজাইনার তোশিহিরো কাওয়ামোতো; মেকানিক্যাল আর্ট ডিজাইনার কিমিতোশি ইয়ামানে; সুরকার ইয়োকো কান্নো; প্রযোজক মাসাহিকো মিনামি; ইয়োশিউকি তাকি\n",
      "contextual answer: চিত্রনাট্যকার কেইকো নোবুমোতো; চরিত্র ডিজাইনার তোশিহিরো কাওয়ামোতো; মেকানিক্যাল আর্ট ডিজাইনার কিমিতোশি ইয়ামানে; সুরকার ইয়োকো কান্নো; প্রযোজক মাসাহিকো মিনামি; ইয়োশিউকি তাকি\n",
      "generated: parametric answer:কেইকো নোবুমোতো, তোশিহিরো কাওয়ামোতো, কিমিতোশি ইয়ামানে, ইয়োকো কান্নো, মাসাহিকো মিনামি এবং ইয়োশিউকি তাকি।\n",
      "contextual answer: কেইকো নোবুমোতো, তোশিহিরো কাওয়ামোতো, কিমিতোশি ইয়ামানে, ইয়োকো কান্নো, মাসাহিকো মিনামি এবং ইয়োশিউকি তাকি।\n"
     ]
    },
    {
     "name": "stderr",
     "output_type": "stream",
     "text": [
      "Processing rows:  35%|████████████████████▊                                       | 256/740 [44:23<1:41:59, 12.64s/row]"
     ]
    },
    {
     "name": "stdout",
     "output_type": "stream",
     "text": [
      "Target: parametric answer: কারণ তিনি মেচা অ্যানিমেতে তার আগের কাজ থেকে ভিন্ন কিছু করতে চেয়েছিলেন\n",
      "contextual answer: কারণ তিনি মেচা অ্যানিমেতে তার আগের কাজ থেকে ভিন্ন কিছু করতে চেয়েছিলেন\n",
      "generated: parametric answer:মিনামি প্রকল্পে যোগদান করেন কারণ তিনি নতুন কিছু অভিষেক করতে চেয়েছিলেন এবং তার আগের কাজের থেকে ভিন্নতা চাইতেছিলেন।\n",
      "contextual answer: মিনামি প্রকল্পে যোগদান করেন কারণ তিনি মেচা অ্যানিমেতে তার আগের কাজ থেকে ভিন্ন কিছু করতে চেয়েছিলেন।\n"
     ]
    },
    {
     "name": "stderr",
     "output_type": "stream",
     "text": [
      "Processing rows:  35%|████████████████████▊                                       | 257/740 [44:39<1:49:27, 13.60s/row]"
     ]
    },
    {
     "name": "stdout",
     "output_type": "stream",
     "text": [
      "Target: parametric answer: ৩০ হাজার ১৯৩ দশমিক ৩৯ কোটি টাকা\n",
      "contextual answer: ৩০ হাজার ১৯৩ দশমিক ৩৯ কোটি টাকা\n",
      "generated: parametric answer:৩০,১৯৩ কোটি টাকা।\n",
      "contextual answer: ৩০ হাজার ১৯৩ দশমিক ৩৯ কোটি টাকা।\n"
     ]
    },
    {
     "name": "stderr",
     "output_type": "stream",
     "text": [
      "Processing rows:  35%|█████████████████████                                       | 259/740 [44:53<1:33:03, 11.61s/row]"
     ]
    },
    {
     "name": "stdout",
     "output_type": "stream",
     "text": [
      "Target: parametric answer: সেতুর অবকাঠামো তৈরি; নদী শাসন; সংযোগ সড়ক; ভূমি অধিগ্রহণ; পুনর্বাসন ও পরিবেশ; বেতন-ভাতা\n",
      "contextual answer: সেতুর অবকাঠামো তৈরি; নদী শাসন; সংযোগ সড়ক; ভূমি অধিগ্রহণ; পুনর্বাসন ও পরিবেশ; বেতন-ভাতা\n",
      "generated: parametric answer:সেতুর অবকাঠামো তৈরি, নদী শাসন, সংযোগ সড়ক, ভূমি অধিগ্রহণ, পুনর্বাসন ও পরিবেশ, বেতন-ভাতা, ঋণের সুদ ইত্যাদি।\n",
      "contextual answer: সেতুর অবকাঠামো তৈরি, নদী শাসন, সংযোগ সড়ক, ভূমি অধিগ্রহণ, পুনর্বাসন ও পরিবেশ, বেতন-ভাতা ইত্যাদি।\n"
     ]
    },
    {
     "name": "stderr",
     "output_type": "stream",
     "text": [
      "Processing rows:  35%|█████████████████████                                       | 260/740 [45:06<1:38:24, 12.30s/row]"
     ]
    },
    {
     "name": "stdout",
     "output_type": "stream",
     "text": [
      "Target: parametric answer: ১২,০০০/- কোটি টাকা\n",
      "contextual answer: ১২,০০০/- কোটি টাকা\n",
      "generated: parametric answer:১২,০০০ কোটি টাকা।\n",
      "contextual answer: ১২,০০০/- কোটি টাকা।\n"
     ]
    },
    {
     "name": "stderr",
     "output_type": "stream",
     "text": [
      "Processing rows:  35%|█████████████████████▏                                      | 261/740 [45:20<1:42:10, 12.80s/row]"
     ]
    },
    {
     "name": "stdout",
     "output_type": "stream",
     "text": [
      "Target: parametric answer: ২০১৪\n",
      "contextual answer: ২০১৪\n",
      "generated: parametric answer:২০১৪ সালে।\n",
      "contextual answer: ২০১৪ সালের ১৭ জুন।\n"
     ]
    },
    {
     "name": "stderr",
     "output_type": "stream",
     "text": [
      "Processing rows:  35%|█████████████████████▏                                      | 262/740 [45:34<1:44:42, 13.14s/row]"
     ]
    },
    {
     "name": "stdout",
     "output_type": "stream",
     "text": [
      "Target: parametric answer: ভূগোল;জীববিজ্ঞান;সামাজিক বিজ্ঞান;রাষ্ট্রবিজ্ঞান;গণ নীতি;বাস্তুশাস্ত্র;পদার্থবিজ্ঞান;রসায়ন;সমাজবিজ্ঞান;মনোবিজ্ঞান;শারীরবৃত্তিসহ বিজ্ঞানের অনেকগুলি ক্ষেত্র রয়েছে\n",
      "contextual answer: ভূগোল;জীববিজ্ঞান;সামাজিক বিজ্ঞান;রাষ্ট্রবিজ্ঞান;গণ নীতি;বাস্তুশাস্ত্র;পদার্থবিজ্ঞান;রসায়ন;সমাজবিজ্ঞান;মনোবিজ্ঞান;শারীরবৃত্তিসহ বিজ্ঞানের অনেকগুলি ক্ষেত্র রয়েছে\n",
      "generated: parametric answer:ভূগোল, জীববিজ্ঞান, পরিবেশবিজ্ঞান, সমাজবিজ্ঞান, রাষ্ট্রবিজ্ঞান, বাস্তুশাস্ত্র, পদার্থবিজ্ঞান, রসায়ন, মনোবিজ্ঞান, শারীরবৃত্তিসহ বিজ্ঞান এবং গণ নীতি।\n",
      "contextual answer: ভূগোল, জীববিজ্ঞান, সামাজিক বিজ্ঞান, রাষ্ট্রবিজ্ঞান, গণ নীতি, বাস্তুশাস্ত্র, পদার্থবিজ্ঞান, রসায়ন, সমাজবিজ্ঞান, মনোবিজ্ঞান এবং শারীরবৃত্তিসহ বিজ্ঞান।\n"
     ]
    },
    {
     "name": "stderr",
     "output_type": "stream",
     "text": [
      "Processing rows:  36%|█████████████████████▍                                      | 264/740 [45:51<1:32:51, 11.70s/row]"
     ]
    },
    {
     "name": "stdout",
     "output_type": "stream",
     "text": [
      "Target: parametric answer: পরিবেশ আচরণ;ধর্ম;সংস্কৃতি;অর্থনৈতিক অনুশীলনকে প্রভাবিত করে\n",
      "contextual answer: পরিবেশ আচরণ;ধর্ম;সংস্কৃতি;অর্থনৈতিক অনুশীলনকে প্রভাবিত করে\n",
      "generated: parametric answer:পরিবেশ মানুষ, প্রাণী, উদ্ভিদ এবং পৃথিবীর স্থানগুলির প্রকৃতি নির্ধারণ করে থাকে ব্যবস্থাপনা করে প্রকৃতির সম্পদ ব্যবস্থাপনা, জৈবপ্রাকৃতিক ব্যবস্থাপনা, পরিবেশ ব্যবস্থাপনা এবং সমাজের সাথে জড়িত বিভিন্ন বিষয়ের মাধ্যমে। পরিবেশ প্রভাবিত করে মানুষের আচরণ, ধর্ম, সংস্কৃতি এবং অর্থনৈতিক অনুশীলন, যা প্রাণী, উদ্ভিদ এবং পৃথিবীর স্থানগুলির প্রকৃতি নির্ধারণ করে।\n",
      "contextual answer: পরিবেশ আচরণ, ধর্ম, সংস্কৃতি এবং অর্থনৈতিক অনুশীলনকে প্রভাবিত করে মানুষ, প্রাণী, উদ্ভিদ এবং পৃথিবীর চারপাশের স্থানগুলির প্রকৃতি নির্ধারণ করে থাকে।\n"
     ]
    },
    {
     "name": "stderr",
     "output_type": "stream",
     "text": [
      "Processing rows:  36%|█████████████████████▌                                      | 266/740 [46:08<1:24:45, 10.73s/row]"
     ]
    },
    {
     "name": "stdout",
     "output_type": "stream",
     "text": [
      "Target: parametric answer: পরিবেশগত নিমিত্তবাদ;সম্ভাব্যতাবাদ;সম্ভাবনাবাদ সম্পর্কিত ধারণা পরিবেশগত সম্পদ ব্যবস্থাপনার ধারণার ক্ষেত্রে তাৎপর্যপূর্ণ\n",
      "contextual answer: পরিবেশগত নিমিত্তবাদ;সম্ভাব্যতাবাদ;সম্ভাবনাবাদ সম্পর্কিত ধারণা পরিবেশগত সম্পদ ব্যবস্থাপনার ধারণার ক্ষেত্রে তাৎপর্যপূর্ণ\n",
      "generated: parametric answer:স持续তাবাদ (Sustainability), প্রাকৃতিক সম্পদের ব্যবস্থাপনা, পরিবেশ বাস্তবায়ন, এবং প্রাকৃতিক সম্পদের ব্যবহারের নীতি।\n",
      "contextual answer: পরিবেশগত নিমিত্তবাদ, সম্ভাব্যতাবাদ এবং সম্ভাবনাবাদ।\n"
     ]
    },
    {
     "name": "stderr",
     "output_type": "stream",
     "text": [
      "Processing rows:  36%|█████████████████████▋                                      | 268/740 [46:25<1:18:59, 10.04s/row]"
     ]
    },
    {
     "name": "stdout",
     "output_type": "stream",
     "text": [
      "Target: parametric answer: দু’ধরনের\n",
      "contextual answer: দু’ধরনের\n",
      "generated: parametric answer:দুই ধরনের।\n",
      "contextual answer: দুই ধরনের।\n"
     ]
    },
    {
     "name": "stderr",
     "output_type": "stream",
     "text": [
      "Processing rows:  36%|█████████████████████▊                                      | 269/740 [46:39<1:28:43, 11.30s/row]"
     ]
    },
    {
     "name": "stdout",
     "output_type": "stream",
     "text": [
      "Target: parametric answer: পরস্পরের সাথে সংযুক্ত এক গুচ্ছ ট্রান্সমিটার, রিসিভার বা ট্রান্সিভারের সমন্বয়ে\n",
      "contextual answer: পরস্পরের সাথে সংযুক্ত এক গুচ্ছ ট্রান্সমিটার, রিসিভার বা ট্রান্সিভারের সমন্বয়ে\n",
      "generated: parametric answer:নেটওয়ার্ক হলো একাধিক ডিভাইস (যেমন কম্পিউটার, সার্ভার) যা কابل, ওয়াই-ফাই, ফাইবার-অপ্টিক এর মাধ্যমে সংযুক্ত হয় এবং ডাটা সম্মিলনের জন্য যোগাযোগ করে।\n",
      "contextual answer: নেটওয়ার্ক হলো পরস্পরের সাথে সংযুক্ত এক গুচ্ছ ট্রান্সমিটার, রিসিভার বা ট্রান্সিভারের সমন্বয়ে গঠিত।\n"
     ]
    },
    {
     "name": "stderr",
     "output_type": "stream",
     "text": [
      "Processing rows:  36%|█████████████████████▉                                      | 270/740 [46:55<1:38:32, 12.58s/row]"
     ]
    },
    {
     "name": "stdout",
     "output_type": "stream",
     "text": [
      "Target: parametric answer: একটি নির্দিষ্ট বাবহারকারীর কাছে তথ্য পাঠানো\n",
      "contextual answer: একটি নির্দিষ্ট বাবহারকারীর কাছে তথ্য পাঠানো\n",
      "generated: parametric answer:রাউটারের কাজ হলো ডেটা প্যাকেট বিভিন্ন কম্পিউটার নেটওয়ার্কের মধ্যে নির্দেশ করা এবং ডেটা নিচ্ছেদের সঠিক গন্তব্যে পাঠানো।\n",
      "contextual answer: একটি নির্দিষ্ট বাবহারকারীর কাছে তথ্য পাঠানো।\n"
     ]
    },
    {
     "name": "stderr",
     "output_type": "stream",
     "text": [
      "Processing rows:  37%|█████████████████████▉                                      | 271/740 [47:09<1:41:31, 12.99s/row]"
     ]
    },
    {
     "name": "stdout",
     "output_type": "stream",
     "text": [
      "Target: parametric answer: যাতে দুর্বল অ্যানালগ সিগনালকে বিবর্ধিত করে শক্তিশালী;বিকৃত ডিজিটাল সিগনালকে পুনর্গঠন করা যায়\n",
      "contextual answer: যাতে দুর্বল অ্যানালগ সিগনালকে বিবর্ধিত করে শক্তিশালী;বিকৃত ডিজিটাল সিগনালকে পুনর্গঠন করা যায়\n",
      "generated: parametric answer:বহু দূরে সিগনাল পাঠাতে রিপিটার প্রয়োজন হয় কারণ সিগনাল দূরে পাঠানোর সময় তা দূর্বল হয় (অ্যাটেনুয়েশন) এবং অ্যানালগ সিগনালের ক্ষেত্রে শব্দার্থ হারায়, জন্য রিপিটার সিগনালকে বিবর্ধিত করে এবং ডিজিটাল সিগনালের ক্ষেত্রে তা পুনরায় সঠিক করে প্রেরণ করে।\n",
      "contextual answer: বহু দূরে সিগনাল পাঠাতে রিপিটার প্রয়োজন হয় কারণ দুর্বল অ্যানালগ সিগনালকে বিবর্ধিত করে শক্তিশালী এবং বিকৃত ডিজিটাল সিগনালকে পুনর্গঠন করা যায়। এ কারণে অনাকাঙ্ক্ষিত কোনো শব্দ (যা নয়েজ নামে পরিচিত) যাতে সিগনালকে বিকৃত করতে না পারে, সেজন্য এ ব্যবস্থা নেয়া হয়।\n"
     ]
    },
    {
     "name": "stderr",
     "output_type": "stream",
     "text": [
      "Processing rows:  37%|██████████████████████                                      | 272/740 [47:26<1:50:59, 14.23s/row]"
     ]
    },
    {
     "name": "stdout",
     "output_type": "stream",
     "text": [
      "Target: parametric answer: নতুন\n",
      "contextual answer: নতুন\n",
      "generated: parametric answer:নতুন।\n",
      "contextual answer: নতুন।\n"
     ]
    },
    {
     "name": "stderr",
     "output_type": "stream",
     "text": [
      "Processing rows:  37%|██████████████████████▏                                     | 274/740 [47:40<1:33:36, 12.05s/row]"
     ]
    },
    {
     "name": "stdout",
     "output_type": "stream",
     "text": [
      "Target: parametric answer: ১৯২৬\n",
      "contextual answer: ১৯২৬\n",
      "generated: parametric answer:১৯২৬ সালে।\n",
      "contextual answer: ১৯২৬ সালে।\n"
     ]
    },
    {
     "name": "stderr",
     "output_type": "stream",
     "text": [
      "Processing rows:  37%|██████████████████████▎                                     | 275/740 [47:54<1:38:01, 12.65s/row]"
     ]
    },
    {
     "name": "stdout",
     "output_type": "stream",
     "text": [
      "Target: parametric answer: ৩৬৭\n",
      "contextual answer: ৩৬৭\n",
      "generated: parametric answer:৩৬৭টি\n",
      "contextual answer: ৩৬৭টি\n"
     ]
    },
    {
     "name": "stderr",
     "output_type": "stream",
     "text": [
      "Processing rows:  37%|██████████████████████▍                                     | 276/740 [48:08<1:40:53, 13.05s/row]"
     ]
    },
    {
     "name": "stdout",
     "output_type": "stream",
     "text": [
      "Target: parametric answer: ইন্টারন্যাশনাল অ্যাস্ট্রোনমিক্যাল ইউনিয়ন-এর সেন্ট্রাল ব্যুরো ফর অ্যাস্ট্রোনমিক্যাল টেলিগ্রাম্‌স শীর্ষক\n",
      "contextual answer: ইন্টারন্যাশনাল অ্যাস্ট্রোনমিক্যাল ইউনিয়ন-এর সেন্ট্রাল ব্যুরো ফর অ্যাস্ট্রোনমিক্যাল টেলিগ্রাম্‌স শীর্ষক\n",
      "generated: parametric answer:ইন্টারন্যাশনাল অ্যাস্ট্রোনমিক্যাল ইউনিয়ন-এর সেন্ট্রাল ব্যুরো ফর অ্যাস্ট্রোনমিক্যাল টেলিগ্রাম্‌স শীর্ষক বিভাগে।\n",
      "contextual answer: ইন্টারন্যাশনাল অ্যাস্ট্রোনমিক্যাল ইউনিয়ন-এর সেন্ট্রাল ব্যুরো ফর অ্যাস্ট্রোনমিক্যাল টেলিগ্রাম্‌স শীর্ষক বিভাগে।\n"
     ]
    },
    {
     "name": "stderr",
     "output_type": "stream",
     "text": [
      "Processing rows:  37%|██████████████████████▍                                     | 277/740 [48:22<1:42:51, 13.33s/row]"
     ]
    },
    {
     "name": "stdout",
     "output_type": "stream",
     "text": [
      "Target: parametric answer: একটি সেলুলার ওবিডি সন্ধানার সরাসরি সেলুলার টাওয়ারের সাথে যোগাযোগ স্থাপন করে এবং সেলুলার ওয়্যারলেস নেটওয়ার্কের মধ্যমে যানবাহনের অবস্থান এবং অন্যান্য তথ্য সার্ভারে প্রেরণ করে দেয়\n",
      "contextual answer: একটি সেলুলার ওবিডি সন্ধানার সরাসরি সেলুলার টাওয়ারের সাথে যোগাযোগ স্থাপন করে এবং সেলুলার ওয়্যারলেস নেটওয়ার্কের মধ্যমে যানবাহনের অবস্থান এবং অন্যান্য তথ্য সার্ভারে প্রেরণ করে দেয়\n",
      "generated: parametric answer:অন বোর্ড ডায়াগনোসিস (ওবিডি) যানবাহন সন্ধানী ব্যবস্থায়, একটি ওবিডি ডিভাইস গাড়ির OBD-II পোর্টে যুক্ত করা হয়। এই ডিভাইস গাড়ির ডায়াগনস্টিক ডেটা, যেমন ইঞ্জিন পরিচালনা, গazole খরচ, এবং মিটিক্যান উৎসেচনা, সংগ্রহ করে। এই ডেটা গ্যাম্মা এস এম (GSM) বা জিপিআরএস (GPRS) মাধ্যমে একটি সার্ভারে প্রেরণ করা হয়, যা গাড়ির অবস্থান, গতি, এবং অন্যান্য ডায়াগনস্টিক তথ্য প্রদর\n",
      "contextual answer: অন বোর্ড ডায়াগনোসিস (ওবিডি) যানবাহন সন্ধানী ব্যবস্থায়, একটি ওবিডি জিপিএস সন্ধানার হালকা বা মধ্যম কর্মক্ষমতার গাড়ির ওবিডি পোর্টে যুক্ত করে দেয়া হয়। এটি সেলুলার টাওয়ারের সাথে যোগাযোগ স্থাপন করে এবং যানবাহনের অবস্থান এবং অন্যান্য তথ্য সার্ভারে প্রেরণ করে। এটি গাড়ির ওবিডি পোর্ট থেকে শক্তি নেয়, একটি জিপিএস মডিউল এবং এন্টেনা যুক্ত হয়, এবং যানবাহনের অন্যান্য সাব-সিস্টেমের সাথে যোগাযোগ স্থাপন করে। ব্যবহারকারীরা ডেস্কটপ/ল্যাপটপ কম্পিউটারে সফটওয়্যার ব্যবহার করে বা স্মার্টফোনের অ্যাপের মাধ্যমে এই তথ্যগুলো নজর রাখতে পারেন।\n"
     ]
    },
    {
     "name": "stderr",
     "output_type": "stream",
     "text": [
      "Processing rows:  38%|██████████████████████▌                                     | 279/740 [48:39<1:31:26, 11.90s/row]"
     ]
    },
    {
     "name": "stdout",
     "output_type": "stream",
     "text": [
      "Target: parametric answer: টেকোগ্রাফ\n",
      "contextual answer: টেকোগ্রাফ\n",
      "generated: parametric answer:হ্যাঁ, যুক্তরাজ্যের যেসব প্রতিষ্ঠানের গাড়ি পণ্য পরিবহনে ব্যবহার করা হয়, তাদের সব যানবাহনে টেকোগ্রাফ স্থাপনের আইন রয়েছে।\n",
      "contextual answer: হ্যাঁ, যুক্তরাজ্যের যেসব প্রতিষ্ঠানের গাড়ি পণ্য পরিবহনে ব্যবহার করা হয়, তাদের সব যানবাহনে টেকোগ্রাফ স্থাপনের আইন রয়েছে।\n"
     ]
    },
    {
     "name": "stderr",
     "output_type": "stream",
     "text": [
      "Processing rows:  38%|██████████████████████▋                                     | 280/740 [48:55<1:41:27, 13.23s/row]"
     ]
    },
    {
     "name": "stdout",
     "output_type": "stream",
     "text": [
      "Target: parametric answer: জ্বালানী পর্যবেক্ষণ; দূরত্ব হিসাব; সম্পত্তির দেখাশনা করা; মাঠ পর্যায়ে পণ্য বিক্রি\n",
      "contextual answer: জ্বালানী পর্যবেক্ষণ; দূরত্ব হিসাব; সম্পত্তির দেখাশনা করা; মাঠ পর্যায়ে পণ্য বিক্রি\n",
      "generated: parametric answer:ফ্লিট ব্যবস্থাপনা ব্যবহার করে গাড়িগুলোর স্থান নির্ধারণ, গতি নির্ধারণ, জ্বালানী খরচ কমানো, গাড়ির কর্মক্ষমতা বাড়ানো, ড্রাইভারদের কার্যকলাপ নিয়ন্ত্রণ করা, গাড়ির পরিবহন সময় কমানো, গাড়ির পরিবহন খরচ কমানো, গাড়ির পরিবহনের সমস্যা নির্মোদন করা, গাড়ির পরিবহনের সুবিধা বাড়ানো, গাড়ির পরিবহনের সুবিধা বাড়ানো, গাড়ির পরিবহনের সুবিধা বাড়ানো, গাড়ির পরিবহনের সুবিধা বাড়ানো, গাড়ির পরিবহনের সুবিধা বাড়ানো, গাড়ির পরিবহনের সুবিধা বাড়ানো, গাড়ির পরিবহনের সুবিধা বাড়ানো, গাড়ির পরিবহনের সুবিধা বাড়ানো, গাড়ির পরিবহনের সুবিধা বাড়ানো, গাড়ির পরিবহনের সুবিধা বাড়ানো, গাড়ির পরিবহনের সুবিধা বাড়ানো, গাড়ির পরিবহনের সুবিধা বাড়ানো, গাড়ির পরিবহনের সুবিধা বাড়ানো, গাড়ির পরিবহনের সুবিধা বাড়ানো, গাড়ির পরিবহনের সুবিধা বাড়ানো, গাড়ির পরিবহনের সুবিধা বাড়ানো, গাড়ির পরিবহনের সুবিধা বাড়\n",
      "contextual answer: ফ্�লিট ব্যবস্থাপনার মাধ্যমে গাড়িগুলোকে একসাথে সন্ধান করার ক্ষেত্রে, জ্বালানী পর্যবেক্ষণ, দূরত্ব হিসাব, সম্পত্তির দেখাশনা করা এবং মাঠ পর্যায়ে পণ্য বিক্রি ইত্যাদি সুবিধা পাওয়া যায়।\n"
     ]
    },
    {
     "name": "stderr",
     "output_type": "stream",
     "text": [
      "Processing rows:  38%|██████████████████████▊                                     | 281/740 [49:14<1:53:19, 14.81s/row]"
     ]
    },
    {
     "name": "stdout",
     "output_type": "stream",
     "text": [
      "Target: parametric answer: জিপিএস; জিএসএম প্রযুক্তি\n",
      "contextual answer: জিপিএস; জিএসএম প্রযুক্তি\n",
      "generated: parametric answer:জিপিএস ও জিএসএম প্রযুক্তি ব্যবহার করা হয়।\n",
      "contextual answer: জিপিএস ও জিএসএম প্রযুক্তি ব্যবহার করা হয়।\n"
     ]
    },
    {
     "name": "stderr",
     "output_type": "stream",
     "text": [
      "Processing rows:  38%|██████████████████████▊                                     | 282/740 [49:28<1:51:07, 14.56s/row]"
     ]
    },
    {
     "name": "stdout",
     "output_type": "stream",
     "text": [
      "Target: parametric answer: ২০০২\n",
      "contextual answer: ২০০২\n",
      "generated: parametric answer:২০০২ সাল থেকে।\n",
      "contextual answer: ২০০২ সাল থেকে।\n"
     ]
    },
    {
     "name": "stderr",
     "output_type": "stream",
     "text": [
      "Processing rows:  38%|███████████████████████                                     | 284/740 [49:43<1:34:30, 12.43s/row]"
     ]
    },
    {
     "name": "stdout",
     "output_type": "stream",
     "text": [
      "Target: parametric answer: ২০১৪\n",
      "contextual answer: ২০১৪\n",
      "generated: parametric answer:২০১৪ সাল থেকে।\n",
      "contextual answer: ২০১৪ সাল থেকে।\n"
     ]
    },
    {
     "name": "stderr",
     "output_type": "stream",
     "text": [
      "Processing rows:  39%|███████████████████████                                     | 285/740 [49:56<1:37:43, 12.89s/row]"
     ]
    },
    {
     "name": "stdout",
     "output_type": "stream",
     "text": [
      "Target: parametric answer: ঢাকা রেসিং, রাস্তায় দৌড় ভিডিও গেম সেট ঢাকা\n",
      "contextual answer: ঢাকা রেসিং, রাস্তায় দৌড় ভিডিও গেম সেট ঢাকা\n",
      "generated: parametric answer:ঢাকা রেসিং\n",
      "contextual answer: ঢাকা রেসিং\n"
     ]
    },
    {
     "name": "stderr",
     "output_type": "stream",
     "text": [
      "Processing rows:  39%|███████████████████████▏                                    | 286/740 [50:10<1:39:52, 13.20s/row]"
     ]
    },
    {
     "name": "stdout",
     "output_type": "stream",
     "text": [
      "Target: parametric answer: দেশজুড়ে গেমারদের কাছ থেকে ইতিবাচক সাড়া পেয়ে\n",
      "contextual answer: দেশজুড়ে গেমারদের কাছ থেকে ইতিবাচক সাড়া পেয়ে\n",
      "generated: parametric answer:গেমটি শেষ পর্যন্ত স্থানীয় ভিডিও গেম ডেভেলপমেন্ট সেক্টরের পথ সুগম করে কারণ এটি দেখায় যে ভিডিও গেম বিকাশে সম্ভাবনা রয়েছে, যা আরও কৃত্য ব্যক্তিদের এ খাতে প্রবেশ করতে অনুপ্রাণিত করে এবং আরও বিকাশ এবং নvestment আকর্ষণ করে।\n",
      "contextual answer: গেমটি শেষ পর্যন্ত স্থানীয় ভিডিও গেম ডেভেলপমেন্ট সেক্টরের পথ সুগম করে কারণ গেমটি দেশজুড়ে গেমারদের কাছ থেকে ইতিবাচক সাড়া পেয়েছিল। এই সাড়ার কারণে গেমটি স্থানীয় ভিডিও গেম ডেভেলপমেন্ট সেক্টরের পথ সুগম করেছিল।\n"
     ]
    },
    {
     "name": "stderr",
     "output_type": "stream",
     "text": [
      "Processing rows:  39%|███████████████████████▎                                    | 287/740 [50:28<1:49:17, 14.47s/row]"
     ]
    },
    {
     "name": "stdout",
     "output_type": "stream",
     "text": [
      "Target: parametric answer: চট্টগ্রাম\n",
      "contextual answer: চট্টগ্রাম\n",
      "generated: parametric answer:চট্টগ্রাম।\n",
      "contextual answer: চট্টগ্রাম।\n"
     ]
    },
    {
     "name": "stderr",
     "output_type": "stream",
     "text": [
      "Processing rows:  39%|███████████████████████▎                                    | 288/740 [50:42<1:47:58, 14.33s/row]"
     ]
    },
    {
     "name": "stdout",
     "output_type": "stream",
     "text": [
      "Target: parametric answer: কোন বস্তুকে সরাসরি স্পর্শ না করে সেই বস্তু হতে তার গুনাবলি সম্পর্কিত উপাত্ত সংগ্রহ করা এবং পর্যবেক্ষন করার এক ধরনের কৌশল\n",
      "contextual answer: কোন বস্তুকে সরাসরি স্পর্শ না করে সেই বস্তু হতে তার গুনাবলি সম্পর্কিত উপাত্ত সংগ্রহ করা এবং পর্যবেক্ষন করার এক ধরনের কৌশল\n",
      "generated: parametric answer:দূর অনুধাবন (Remote Sensing) হল বস্তুকে সরাসরি স্পর্শ না করে তার গুনাবলি সম্পর্কিত তথ্য সংগ্রহ করা এবং পর্যবেক্ষন করার এক ধরনের কৌশল। এটি প্রকৃতি, পরিবেশ এবং সমাজের বিভিন্ন প্রক্রিয়াগুলোকে বোঝার জন্য ব্যবহার করা হয়। এটি মহাকাশ প্রযুক্তি, জিওসায়ের, রাডার, লেসার, সনার এবং অন্যান্য সেন্সর ব্যবহার করে তথ্য সংগ্রহ করে এবং এই তথ্যগুলো কম্পিউটারের মাধ্যমে প্রক্রিয়াজাত করা হয়। এটি বিজ্ঞান, প্রকৌশল, পরিবেশ বিজ্ঞান, ভূ-বিজ্ঞান, স্থাপনা নির্মাণ, সামরিক বাহিনী, পরিবহন জালি পরিকল্পনা, নগর পরিকল্পনা, কৃষি ব্যবস্থাপনা এবং পরিবেশ মডেলিং প্রভ\n",
      "contextual answer: দূর অনুধাবন হল বস্তুকে সরাসরি স্পর্শ না করে তার গুনাবলি সম্পর্কিত উপাত্ত সংগ্রহ করা এবং পর্যবেক্ষন করার এক ধরনের কৌশল। এটি জিওইনফরমেটিক্সের একটি বড় অংশ এবং ভূ-বিজ্ঞানের একটি উপশাখা। এটি বিভিন্ন সেন্সর বা ডিভাইস ব্যবহার করে তথ্য সংগ্রহ করে এবং এই তথ্যগুলো কম্পিউটারের মাধ্যমে প্রক্রিয়াজাত করা হয়। এটি বিজ্ঞান ও প্রকৌশলের বিভিন্ন শাখায় ব্যবহার করা হয়, যেমন দুর্যোগ পূর্বাভাস, আবহাওয়া পর্যবেক্ষন, বিমান চালানো, স্থাপনা নির্মাণ, সামরিক বাহিনী, পরিবহন জালি পরিকল্পনা, নগর পরিকল্পনা, কৃষি ব্যবস্থাপনা এবং পরিবেশ মডেলিং প্রভৃতি।\n"
     ]
    },
    {
     "name": "stderr",
     "output_type": "stream",
     "text": [
      "Processing rows:  39%|███████████████████████▍                                    | 289/740 [51:00<1:57:07, 15.58s/row]"
     ]
    },
    {
     "name": "stdout",
     "output_type": "stream",
     "text": [
      "Target: parametric answer: ক্যামেরা; লেসার; রেডিও তরঙ্গ গ্রহণকারী রিসিভার বা সংগ্রাহক; রাডার ব্যবস্থা; সনার; সীসমোগ্রাফ; গ্রাভিমিটারস; ম্যাগ্নেটমিটার\n",
      "contextual answer: ক্যামেরা; লেসার; রেডিও তরঙ্গ গ্রহণকারী রিসিভার বা সংগ্রাহক; রাডার ব্যবস্থা; সনার; সীসমোগ্রাফ; গ্রাভিমিটারস; ম্যাগ্নেটমিটার\n",
      "generated: parametric answer:ক্যামেরা, রাডার, লিডার, সনার, গ্রাভিমিটার, ম্যাগ্নেটমিটার, সীসমোগ্রাফ।\n",
      "contextual answer: ক্যামেরা, লেসার, রেডিও তরঙ্গ গ্রহণকারী রিসিভার বা সংগ্রাহক, রাডার ব্যবস্থা, সনার, সীসমোগ্রাফ, গ্রাভিমিটারস, ম্যাগ্নেটমিটার।\n"
     ]
    },
    {
     "name": "stderr",
     "output_type": "stream",
     "text": [
      "Processing rows:  39%|███████████████████████▌                                    | 290/740 [51:14<1:53:25, 15.12s/row]"
     ]
    },
    {
     "name": "stdout",
     "output_type": "stream",
     "text": [
      "Target: parametric answer: পদার্থ বিজ্ঞান ও গণিতে\n",
      "contextual answer: পদার্থ বিজ্ঞান ও গণিতে\n",
      "generated: parametric answer:পদার্থ বিজ্ঞান, গণিত, ভূগোল, এবং কম্পিউটার বিজ্ঞানের জ্ঞান অত্যাবশ্যক।\n",
      "contextual answer: পদার্থ বিজ্ঞান ও গণিতে যথেষ্ট জ্ঞান থাকা অত্যাবশ্যক।\n"
     ]
    },
    {
     "name": "stderr",
     "output_type": "stream",
     "text": [
      "Processing rows:  39%|███████████████████████▋                                    | 292/740 [51:28<1:34:47, 12.69s/row]"
     ]
    },
    {
     "name": "stdout",
     "output_type": "stream",
     "text": [
      "Target: parametric answer: ১৯৪৮\n",
      "contextual answer: ১৯৪৮\n",
      "generated: parametric answer:১৯৪৮ সালে।\n",
      "contextual answer: ১৯৪৮ সালে।\n"
     ]
    },
    {
     "name": "stderr",
     "output_type": "stream",
     "text": [
      "Processing rows:  40%|███████████████████████▊                                    | 294/740 [51:42<1:21:37, 10.98s/row]"
     ]
    },
    {
     "name": "stdout",
     "output_type": "stream",
     "text": [
      "Target: parametric answer: রিং চিপস; চানাচুর\n",
      "contextual answer: রিং চিপস; চানাচুর\n",
      "generated: parametric answer:রিং চিপস\" এবং \"চানাচুর।\n",
      "contextual answer: রিং চিপস\" এবং \"চানাচুর।\"\n"
     ]
    },
    {
     "name": "stderr",
     "output_type": "stream",
     "text": [
      "Processing rows:  40%|███████████████████████▉                                    | 295/740 [51:58<1:30:51, 12.25s/row]"
     ]
    },
    {
     "name": "stdout",
     "output_type": "stream",
     "text": [
      "Target: parametric answer: ২০২০\n",
      "contextual answer: ২০২০\n",
      "generated: parametric answer:২০২০\n",
      "contextual answer: ২০২০\n"
     ]
    },
    {
     "name": "stderr",
     "output_type": "stream",
     "text": [
      "Processing rows:  40%|████████████████████████                                    | 297/740 [52:12<1:18:46, 10.67s/row]"
     ]
    },
    {
     "name": "stdout",
     "output_type": "stream",
     "text": [
      "Target: parametric answer: আলুর চিপস; মিস্টার টুইস্ট; আলুজ চিপস; পাস্তাচিপস\n",
      "contextual answer: আলুর চিপস; মিস্টার টুইস্ট; আলুজ চিপস; পাস্তাচিপস\n",
      "generated: parametric answer:বোম্বে সুইটস পানীয়, হিমায়িত খাবার, মশলা, আলুর চিপস, মিস্টার টুইস্ট, অ্যালুজ, এবং পাস্তাচিপস উৎপাদন করে।\n",
      "contextual answer: বোম্বে সুইটস পানীয়, হিমায়িত খাবার, মশলা, আলুর চিপস, মিস্টার টুইস্ট, অ্যালুজ, এবং পাস্তাচিপস উৎপাদন করে।\n"
     ]
    },
    {
     "name": "stderr",
     "output_type": "stream",
     "text": [
      "Processing rows:  40%|████████████████████████▏                                   | 298/740 [52:26<1:26:13, 11.70s/row]"
     ]
    },
    {
     "name": "stdout",
     "output_type": "stream",
     "text": [
      "Target: parametric answer: কাভানা; চার্চ; হসপিটাল; মানসিক আশ্রয়স্থান; ঘণ্টা-মিনার (বেল টাওয়ার); কিছু পরিত্যক্ত বাড়ি ও প্রাক্তন প্রশাসনিক ভবন\n",
      "contextual answer: কাভানা; চার্চ; হসপিটাল; মানসিক আশ্রয়স্থান; ঘণ্টা-মিনার (বেল টাওয়ার); কিছু পরিত্যক্ত বাড়ি ও প্রাক্তন প্রশাসনিক ভবন\n",
      "generated: parametric answer:পোভেগ্লিয়াতে টিকে থাকা ভবনগুলো হলো ঘণ্টা-মিনার, চার্চ, হসপিটাল এবং অষ্টাভুজ দুর্গ।\n",
      "contextual answer: পোভেগ্লিয়াতে টিকে থাকা ভবনগুলো হলো কাভানা, চার্চ, হসপিটাল, মানসিক আশ্রয়স্থান, ঘণ্টা-মিনার, কিছু পরিত্যক্ত বাড়ি, প্রাক্তন প্রশাসনিক ভবন, একটি সেতু, অষ্টাভুজ দুর্গ, ১৫ শতকের গোয়ালঘর এবং একটি দুর্গ।\n"
     ]
    },
    {
     "name": "stderr",
     "output_type": "stream",
     "text": [
      "Processing rows:  40%|████████████████████████▏                                   | 299/740 [52:43<1:37:46, 13.30s/row]"
     ]
    },
    {
     "name": "stdout",
     "output_type": "stream",
     "text": [
      "Target: parametric answer: সান ভিটলে\n",
      "contextual answer: সান ভিটলে\n",
      "generated: parametric answer:সান ভিটলে চার্চের অংশ ছিল।\n",
      "contextual answer: সান ভিটলে চার্চের অংশ ছিল।\n"
     ]
    },
    {
     "name": "stderr",
     "output_type": "stream",
     "text": [
      "Processing rows:  41%|████████████████████████▎                                   | 300/740 [52:57<1:38:58, 13.50s/row]"
     ]
    },
    {
     "name": "stdout",
     "output_type": "stream",
     "text": [
      "Target: parametric answer: চাপা আতঙ্ক ও ভয় এবং অদৃশ্য কারও অনুভূতি পাবার কারণ দেখিয়ে\n",
      "contextual answer: চাপা আতঙ্ক ও ভয় এবং অদৃশ্য কারও অনুভূতি পাবার কারণ দেখিয়ে\n",
      "generated: parametric answer:পোভেগ্লিয়া মানসিক হাসপাতালে চিকিৎসক, সেবিকা এবং অন্যান্য কর্মরত লোকজন চাকুরী করতে চাইতেন না কারণ তারা অদৃশ্য আত্মাদের অনুভূতি করতে লাগলেন এবং হাসপাতালের ভার্ড পরিবেশে তাদের স্বাস্থ্য খারাপ হয়ে গেল। এছাড়া, হাসপাতালের সুপারিন্টেন্ডেন্ট উন্মত্ত হয়ে আত্মহত্যা করেছিলেন, যা সকলকে ভীষণ ভয় পাইয়েছিল।\n",
      "contextual answer: চিকিৎসক, সেবিকা এবং অন্যান্য কর্মরত লোকজন চাকুরী করতে চাইতেন না কারণ তারা চাপা আতঙ্ক ও ভয় অনুভব করতে লাগলেন এবং অদৃশ্য কারও অনুভূতি পাবার কারণ দেখিয়ে চাকুরী করতে চাইতেন না। হাসপাতালে থাকা ভর্তি হওয়া মানসিক রোগীরা সুস্থ হওয়ার পরিবর্তে বিকারগ্রস্ত হয়ে পড়তে থাকে।\n"
     ]
    },
    {
     "name": "stderr",
     "output_type": "stream",
     "text": [
      "Processing rows:  41%|████████████████████████▍                                   | 302/740 [53:14<1:27:56, 12.05s/row]"
     ]
    },
    {
     "name": "stdout",
     "output_type": "stream",
     "text": [
      "Target: parametric answer: মারা যাওয়া এই মানুষগুলোর অতৃপ্ত আত্মা ঘুরে ফেরে এই দ্বীপে এবং এসব আত্মা অন্যের আধিপত্য মেনে নিতে পারে না\n",
      "contextual answer: মারা যাওয়া এই মানুষগুলোর অতৃপ্ত আত্মা ঘুরে ফেরে এই দ্বীপে এবং এসব আত্মা অন্যের আধিপত্য মেনে নিতে পারে না\n",
      "generated: parametric answer:পোভেগ্লিয়া দ্বীপ পৃথিবীতে একটি ভূতুড়ে অবকাঠামো হিসাবে স্বীকৃতি পেয়েছে। স্থানীয় লোকেরা বলেন যে, এই দ্বীপের চারপাশে ছড়িয়ে পড়ে থাকা হাজার-হাজার কঙ্কাল এবং প্রাচীন যুদ্ধের স্মৃতি এই স্থানকে ভূতুড়ে বানিয়েছে। এছাড়াও, এই দ্বীপের মানসিক হাসপাতালের ভূতুড়ে অভিজ্ঞতা ও অদৃশ্য আত্মাদের কাহিনী স্থানীয় লোকেরা জানেন।\n",
      "contextual answer: স্থানীয় লোকমুখে জানা যায়, ১৪শ শতকের যুদ্ধের কামান ও বন্দুকের আওয়াজ এখনও রাতে শোনা যায়। দ্বীপের চারপাশে ছড়িয়ে পড়ে থাকা হাজার-হাজার কঙ্কাল তৈরি করে রেখেছে থমথমে একটা পরিবেশ এবং স্থানীয় লোকমুখে জানা যায়, মারা যাওয়া এই মানুষগুলোর অতৃপ্ত আত্মা ঘুরে ফেরে এই দ্বীপে এবং এসব আত্মা অন্যের আধিপত্য মেনে নিতে পারে না।\n"
     ]
    },
    {
     "name": "stderr",
     "output_type": "stream",
     "text": [
      "Processing rows:  41%|████████████████████████▌                                   | 303/740 [53:32<1:41:26, 13.93s/row]"
     ]
    },
    {
     "name": "stdout",
     "output_type": "stream",
     "text": [
      "Target: parametric answer: প্রদর্শনীর জন্য ব্যবহৃত একটি স্থান, সাধারণত দৃশ্য শিল্পের জন্য\n",
      "contextual answer: প্রদর্শনীর জন্য ব্যবহৃত একটি স্থান, সাধারণত দৃশ্য শিল্পের জন্য\n",
      "generated: parametric answer:একটি শিল্প যাদুঘর বা শিল্প গ্যালারি হল একটি স্থান যেখানে শিল্পকর্ম প্রদর্শিত হয়, সাধারণত দৃশ্য শিল্পের জন্য। পাবলিক গ্যালারি অলাভজনক হয় এবং নির্দিষ্ট শিল্পকর্ম প্রদর্শনের জন্য ব্যবহৃত হয়, জাতীয় যাদুঘর বা স্থানীয় গ্যালারির মতো। ব্যক্তিগত গ্যালারি বাণিজ্যিক প্রতিষ্ঠান হয় এবং শিল্পকর্ম বিক্রয় করে। উভয় প্রকারের গ্যালারি সাময়িক প্রদর্শনী আয়োজন করতে পারে এবং অন্য সংগ্রহশালা থেকে শিল্পসামগ্রী ঋণ নিয\n",
      "contextual answer: একটি শিল্প যাদুঘর বা শিল্প গ্যালারি হল প্রদর্শনীর জন্য ব্যবহৃত একটি স্থান, সাধারণত দৃশ্য শিল্পের জন্য। যাদুঘর প্রকাশ্য বা ব্যক্তিগত হতে পারে, তবে যে বিষয়টি যাদুঘরকে আলাদা করে সেটি হল সংগ্রহের মালিকানা। অঙ্কনচিত্রই সবচেয়ে বেশি প্রদর্শিত শিল্প সামগ্রী ; তাছাড়াও, ভাস্কর্য, আলংকারিক শিল্প, আসবাবপত্র, বস্ত্র, পোশাক, অঙ্কন, মোমরং, জল রং, কোলাজ, প্রিন্ট, শিল্পীদের এর বই, ফটোগ্রাফ, এবং স্থাপনা শিল্পও নিয়মিত প্রদর্শিত হয়। যদিও প্রাথমিকভাবে দৃশ্য শিল্পকর্ম প্রদর্শনের স্থান প্রদানের উপর বিশেষ গুরুত্ব দেওয়া হয়, তবে শিল্প গ্যালারিকে অন্যান্য শৈল্পিক কাজকর্মের জন্যও কখনও কখনও ব্যবহার করা হয়, যেমন পারফর্মিং আর্টস, সঙ্গীতানুষ্ঠান বা কবিতা পাঠ।\n"
     ]
    },
    {
     "name": "stderr",
     "output_type": "stream",
     "text": [
      "Processing rows:  41%|████████████████████████▋                                   | 304/740 [53:46<1:41:16, 13.94s/row]"
     ]
    },
    {
     "name": "stdout",
     "output_type": "stream",
     "text": [
      "Target: parametric answer: একপ্রকারের বাণিজ্যিক প্রতিষ্ঠান যারা শিল্পকর্ম বিক্রয় করে\n",
      "contextual answer: একপ্রকারের বাণিজ্যিক প্রতিষ্ঠান যারা শিল্পকর্ম বিক্রয় করে\n",
      "generated: parametric answer:ব্যক্তিগত সংগ্রহশালা হলো এক種 বাণিজ্যিক স্থান যেখানে শিল্পকর্ম বিক্রয় করা হয়, এবং শিল্পীদের কাজকর্ম প্রদর্শনের মাধ্যমে তাদের সাহায্য করা হয়।\n",
      "contextual answer: ব্যক্তিগত সংগ্রহশালা একপ্রকারের বাণিজ্যিক প্রতিষ্ঠান যারা শিল্পকর্ম বিক্রয় করে।\n"
     ]
    },
    {
     "name": "stderr",
     "output_type": "stream",
     "text": [
      "Processing rows:  41%|████████████████████████▉                                   | 307/740 [54:02<1:21:48, 11.34s/row]"
     ]
    },
    {
     "name": "stdout",
     "output_type": "stream",
     "text": [
      "Target: parametric answer: লউফির\n",
      "contextual answer: লউফির\n",
      "generated: parametric answer:লোকি ওডিনের দত্তক পুত্র, তার জৈব পুত্র হিসেবে সাধারণত ওডিনের সাথে সম্পর্কিত।\n",
      "contextual answer: লোকি লউফির জৈব পুত্র।\n"
     ]
    },
    {
     "name": "stderr",
     "output_type": "stream",
     "text": [
      "Processing rows:  42%|█████████████████████████                                   | 309/740 [54:18<1:13:49, 10.28s/row]"
     ]
    },
    {
     "name": "stdout",
     "output_type": "stream",
     "text": [
      "Target: parametric answer: \"ওডিনস্লিপে\"\n",
      "contextual answer: \"ওডিনস্লিপে\"\n",
      "generated: parametric answer:ওডিনস্লিপে।\n",
      "contextual answer: ওডিনস্লিপে।\n"
     ]
    },
    {
     "name": "stderr",
     "output_type": "stream",
     "text": [
      "Processing rows:  42%|█████████████████████████▏                                  | 310/740 [54:32<1:21:32, 11.38s/row]"
     ]
    },
    {
     "name": "stdout",
     "output_type": "stream",
     "text": [
      "Target: parametric answer: ডেস্ট্রয়ারকে\n",
      "contextual answer: ডেস্ট্রয়ারকে\n",
      "generated: parametric answer:ডেস্ট্রয়ার।\n",
      "contextual answer: ডেস্ট্রয়ার।\n"
     ]
    },
    {
     "name": "stderr",
     "output_type": "stream",
     "text": [
      "Processing rows:  42%|█████████████████████████▏                                  | 311/740 [54:47<1:30:20, 12.64s/row]"
     ]
    },
    {
     "name": "stdout",
     "output_type": "stream",
     "text": [
      "Target: parametric answer: যাতে লোকি যুদ্ধে যেতে না পারে\n",
      "contextual answer: যাতে লোকি যুদ্ধে যেতে না পারে\n",
      "generated: parametric answer:থর বাইফ্রস্ট ভেঙ্গে দেয় কারণ তিনি লোকি বা অন্য শক্তিশালীদের অ্যাসগার্ডে প্রবেশ করতে পারে না এমন একটি বাধ্যাধিকার সৃষ্টি করতে চায়।\n",
      "contextual answer: থর বাইফ্রস্ট ভেঙ্গে দেয় কারণ লোকি যুদ্ধে যেতে পারে না এবং ওডিনের ঘুম ভাঙ্গে দেয়।\n"
     ]
    },
    {
     "name": "stderr",
     "output_type": "stream",
     "text": [
      "Processing rows:  42%|█████████████████████████▎                                  | 312/740 [55:05<1:40:51, 14.14s/row]"
     ]
    },
    {
     "name": "stdout",
     "output_type": "stream",
     "text": [
      "Target: parametric answer: ১৭৫৭\n",
      "contextual answer: ১৭৫৭\n",
      "generated: parametric answer:১৭৫৭ সালে।\n",
      "contextual answer: ১৭৫৭ সালে।\n"
     ]
    },
    {
     "name": "stderr",
     "output_type": "stream",
     "text": [
      "Processing rows:  42%|█████████████████████████▍                                  | 314/740 [55:19<1:25:23, 12.03s/row]"
     ]
    },
    {
     "name": "stdout",
     "output_type": "stream",
     "text": [
      "Target: parametric answer: ১৭৯৯\n",
      "contextual answer: ১৭৯৯\n",
      "generated: parametric answer:১৭৯৯ সালে।\n",
      "contextual answer: ১৭৯৯ সালে।\n"
     ]
    },
    {
     "name": "stderr",
     "output_type": "stream",
     "text": [
      "Processing rows:  43%|█████████████████████████▌                                  | 316/740 [55:33<1:14:17, 10.51s/row]"
     ]
    },
    {
     "name": "stdout",
     "output_type": "stream",
     "text": [
      "Target: parametric answer: ১৭৯৩\n",
      "contextual answer: ১৭৯৩\n",
      "generated: parametric answer:১৭৯৩ সালে।\n",
      "contextual answer: ১৭৯৩ সালে।\n"
     ]
    },
    {
     "name": "stderr",
     "output_type": "stream",
     "text": [
      "Processing rows:  43%|█████████████████████████▊                                  | 318/740 [55:47<1:06:36,  9.47s/row]"
     ]
    },
    {
     "name": "stdout",
     "output_type": "stream",
     "text": [
      "Target: parametric answer: ১৯৮৯\n",
      "contextual answer: ১৯৮৯\n",
      "generated: parametric answer:১৯৮৯ সাল পর্যন্ত।\n",
      "contextual answer: ১৯৮৯ সাল পর্যন্ত।\n"
     ]
    },
    {
     "name": "stderr",
     "output_type": "stream",
     "text": [
      "Processing rows:  43%|██████████████████████████▉                                   | 321/740 [56:01<55:58,  8.01s/row]"
     ]
    },
    {
     "name": "stdout",
     "output_type": "stream",
     "text": [
      "Target: parametric answer: ১৯৭২\n",
      "contextual answer: ১৯৭২\n",
      "generated: parametric answer:১৯৭২ সালে\n",
      "contextual answer: ১৯৭২ সালে\n"
     ]
    },
    {
     "name": "stderr",
     "output_type": "stream",
     "text": [
      "Processing rows:  44%|██████████████████████████                                  | 322/740 [56:15<1:08:43,  9.87s/row]"
     ]
    },
    {
     "name": "stdout",
     "output_type": "stream",
     "text": [
      "Target: parametric answer: ১৯৭৩\n",
      "contextual answer: ১৯৭৩\n",
      "generated: parametric answer:১৯৭৩ সালে।\n",
      "contextual answer: ১৯৭৩ সালে।\n"
     ]
    },
    {
     "name": "stderr",
     "output_type": "stream",
     "text": [
      "Processing rows:  44%|██████████████████████████▏                                 | 323/740 [56:31<1:20:11, 11.54s/row]"
     ]
    },
    {
     "name": "stdout",
     "output_type": "stream",
     "text": [
      "Target: parametric answer: লাইম্যান স্পিটজার\n",
      "contextual answer: লাইম্যান স্পিটজার\n",
      "generated: parametric answer:লাইম্যান স্পিটজার।\n",
      "contextual answer: লাইম্যান স্পিটজার।\n"
     ]
    },
    {
     "name": "stderr",
     "output_type": "stream",
     "text": [
      "Processing rows:  44%|██████████████████████████▎                                 | 324/740 [56:45<1:24:55, 12.25s/row]"
     ]
    },
    {
     "name": "stdout",
     "output_type": "stream",
     "text": [
      "Target: parametric answer: জ্যোতির্বৈজ্ঞানিক মানমন্দির অর্বিটিং অ্যাস্ট্রোনমিকাল অবজারভেটরি-২\n",
      "contextual answer: জ্যোতির্বৈজ্ঞানিক মানমন্দির অর্বিটিং অ্যাস্ট্রোনমিকাল অবজারভেটরি-২\n",
      "generated: parametric answer:অর্বিটিং অ্যাস্ট্রোনমিকাল অবজারভেটরি-২।\n",
      "contextual answer: অর্বিটিং অ্যাস্ট্রোনমিকাল অবজারভেটরি-২।\n"
     ]
    },
    {
     "name": "stderr",
     "output_type": "stream",
     "text": [
      "Processing rows:  44%|██████████████████████████▎                                 | 325/740 [57:01<1:33:24, 13.51s/row]"
     ]
    },
    {
     "name": "stdout",
     "output_type": "stream",
     "text": [
      "Target: parametric answer: ডিস্কভারি\n",
      "contextual answer: ডিস্কভারি\n",
      "generated: parametric answer:ডিস্কভারি নভোখেয়াযানের মাধ্যমে।\n",
      "contextual answer: ডিস্কভারি নভোখেয়াযানের মাধ্যমে।\n"
     ]
    },
    {
     "name": "stderr",
     "output_type": "stream",
     "text": [
      "Processing rows:  44%|██████████████████████████▍                                 | 326/740 [57:16<1:35:51, 13.89s/row]"
     ]
    },
    {
     "name": "stdout",
     "output_type": "stream",
     "text": [
      "Target: parametric answer: সালিউত মহাকাশ বিরোতিস্থলের উপর\n",
      "contextual answer: সালিউত মহাকাশ বিরোতিস্থলের উপর\n",
      "generated: parametric answer:সোভিয়েত ইউনিয়নের সালিউত মহাকাশ বিরতিস্থলের উপরে স্থাপিত।\n",
      "contextual answer: সোভিয়েত ইউনিয়নের সালিউত মহাকাশ বিরতিস্থলের উপরে স্থাপিত।\n"
     ]
    },
    {
     "name": "stderr",
     "output_type": "stream",
     "text": [
      "Processing rows:  44%|██████████████████████████▌                                 | 327/740 [57:32<1:39:35, 14.47s/row]"
     ]
    },
    {
     "name": "stdout",
     "output_type": "stream",
     "text": [
      "Target: parametric answer: জার্মান ব্যারন কার্ল ভন ড্রাইস\n",
      "contextual answer: জার্মান ব্যারন কার্ল ভন ড্রাইস\n",
      "generated: parametric answer:ব্যবহারিকভাবে ব্যবহৃত বাইসাইকেলের প্রথম যাচাইযোগ্য দাবী জার্মান ব্যারন কার্ল ভন ড্রাইস করেছিলেন।\n",
      "contextual answer: ব্যবহারিকভাবে ব্যবহৃত বাইসাইকেলের প্রথম যাচাইযোগ্য দাবী জার্মান ব্যারন কার্ল ভন ড্রাইস করেছিলেন।\n"
     ]
    },
    {
     "name": "stderr",
     "output_type": "stream",
     "text": [
      "Processing rows:  44%|██████████████████████████▋                                 | 329/740 [57:47<1:24:46, 12.38s/row]"
     ]
    },
    {
     "name": "stdout",
     "output_type": "stream",
     "text": [
      "Target: parametric answer: ১৮১৭ সালের ১২ জুন\n",
      "contextual answer: ১৮১৭ সালের ১২ জুন\n",
      "generated: parametric answer:১৮১৭ সালের ১২ জুন\n",
      "contextual answer: ১৮১৭ সালের ১২ জুন\n"
     ]
    },
    {
     "name": "stderr",
     "output_type": "stream",
     "text": [
      "Processing rows:  45%|██████████████████████████▊                                 | 330/740 [58:01<1:29:06, 13.04s/row]"
     ]
    },
    {
     "name": "stdout",
     "output_type": "stream",
     "text": [
      "Target: parametric answer: পিতলের গুল্ম; লোহার শড চাকা; একটি পিছন চাকার ব্রেক; ৪.১৫২ মি.মি. (৬ ইঞ্চি) সামনের চাকার লেজ\n",
      "contextual answer: পিতলের গুল্ম; লোহার শড চাকা; একটি পিছন চাকার ব্রেক; ৪.১৫২ মি.মি. (৬ ইঞ্চি) সামনের চাকার লেজ\n",
      "generated: parametric answer:বাইসাইকেলের চাকায় বিয়ারিংয়ের মধ্যে পিতলের গুল্ম এবং লোহার শড চাকা ব্যবহার করা হয়েছিল।\n",
      "contextual answer: বাইসাইকেলের চাকায় বিয়ারিংয়ের মধ্যে পিতলের গুল্ম এবং লোহার শড চাকা ব্যবহার করা হয়েছিল।\n"
     ]
    },
    {
     "name": "stderr",
     "output_type": "stream",
     "text": [
      "Processing rows:  45%|██████████████████████████▉                                 | 332/740 [58:20<1:21:27, 11.98s/row]"
     ]
    },
    {
     "name": "stdout",
     "output_type": "stream",
     "text": [
      "Target: parametric answer: আংশিক ক্রমবর্ধমান দুর্ঘটনার কারণে\n",
      "contextual answer: আংশিক ক্রমবর্ধমান দুর্ঘটনার কারণে\n",
      "generated: parametric answer:সাইকেলের ব্যবহার নিষিদ্ধ করা হয়েছিল কারণ প্রারম্ভিক সাইকেলগুলো ভারী এবং নিয়ন্ত্রণশীল ছিল না, যা দুর্ঘটনার সম্ভাবনা বাড়ায়। এছাড়া, পর্যাপ্ত ট্রাফিক নিয়ম এবং ব্যবস্থা অভাবেও এই সমস্যা বাড়ে।\n",
      "contextual answer: কিছু শহর কর্তৃপক্ষ সাইকেলের ব্যবহার নিষিদ্ধ করতে শুরু করেছিল কারণ আংশিক ক্রমবর্ধমান দুর্ঘটনার কারণে।\n"
     ]
    },
    {
     "name": "stderr",
     "output_type": "stream",
     "text": [
      "Processing rows:  45%|███████████████████████████                                 | 333/740 [58:37<1:30:40, 13.37s/row]"
     ]
    },
    {
     "name": "stdout",
     "output_type": "stream",
     "text": [
      "Target: parametric answer: এ.আই সাবরা\n",
      "contextual answer: এ.আই সাবরা\n",
      "generated: parametric answer:এ.আই সাবরা।\n",
      "contextual answer: এ.আই সাবরা।\n"
     ]
    },
    {
     "name": "stderr",
     "output_type": "stream",
     "text": [
      "Processing rows:  45%|███████████████████████████                                 | 334/740 [58:51<1:32:33, 13.68s/row]"
     ]
    },
    {
     "name": "stdout",
     "output_type": "stream",
     "text": [
      "Target: parametric answer: আলকেমি রিস্টোরড\n",
      "contextual answer: আলকেমি রিস্টোরড\n",
      "generated: parametric answer:আলকেমি রিস্টোরড\n",
      "contextual answer: আলকেমি রিস্টোরড\"\n"
     ]
    },
    {
     "name": "stderr",
     "output_type": "stream",
     "text": [
      "Processing rows:  45%|███████████████████████████▏                                | 335/740 [59:06<1:33:51, 13.90s/row]"
     ]
    },
    {
     "name": "stdout",
     "output_type": "stream",
     "text": [
      "Target: parametric answer: ধাতুকে অন্য পদার্থে রূপান্তরের জন্য অনুসন্ধান ও পরীক্ষা-নিরীক্ষা\n",
      "contextual answer: ধাতুকে অন্য পদার্থে রূপান্তরের জন্য অনুসন্ধান ও পরীক্ষা-নিরীক্ষা\n",
      "generated: parametric answer:ক্রিয়োসোপিয়া\" হলো আলকেমির সঠিক নাম, যা মধ্যযুগীয় সময়ে ধাতু রূপান্তরের অনুসন্ধানকে বোঝায়।\n",
      "contextual answer: ক্রিয়োসোপিয়া\" বলতে ধাতুকে অন্য পদার্থে রূপান্তরের জন্য অনুসন্ধান ও পরীক্ষা-নিরীক্ষা বোঝায়, যাকে আমরা আলকেমি বলে থাকি।\n"
     ]
    },
    {
     "name": "stderr",
     "output_type": "stream",
     "text": [
      "Processing rows:  45%|███████████████████████████▏                                | 336/740 [59:22<1:39:23, 14.76s/row]"
     ]
    },
    {
     "name": "stdout",
     "output_type": "stream",
     "text": [
      "Target: parametric answer: আলকেমি এবং প্রথম দিকের রসায়নকে অন্তর্ভুক্ত করে একীভূত বিজ্ঞানকে\n",
      "contextual answer: আলকেমি এবং প্রথম দিকের রসায়নকে অন্তর্ভুক্ত করে একীভূত বিজ্ঞানকে\n",
      "generated: parametric answer:আলকেমি।\n",
      "contextual answer: আলকেমি।\"\n"
     ]
    },
    {
     "name": "stderr",
     "output_type": "stream",
     "text": [
      "Processing rows:  46%|███████████████████████████▎                                | 337/740 [59:38<1:40:23, 14.95s/row]"
     ]
    },
    {
     "name": "stdout",
     "output_type": "stream",
     "text": [
      "Target: parametric answer: ক্রিয়োসোপিয়া\n",
      "contextual answer: ক্রিয়োসোপিয়া\n",
      "generated: parametric answer:আলকেমি।\n",
      "contextual answer: আলকেমি।\n"
     ]
    },
    {
     "name": "stderr",
     "output_type": "stream",
     "text": [
      "Processing rows:  46%|███████████████████████████▍                                | 338/740 [59:52<1:39:14, 14.81s/row]"
     ]
    },
    {
     "name": "stdout",
     "output_type": "stream",
     "text": [
      "Target: parametric answer: মহাপুরুষ\n",
      "contextual answer: মহাপুরুষ\n",
      "generated: parametric answer:হিমুকে একজন মহাপুরুষ, মাস্টারমাইন্ড, এবং অভিজ্ঞানবান ব্যক্তি মনে করা হয়।\n",
      "contextual answer: হিমুকে মহাপুরুষ মনে করে।\n"
     ]
    },
    {
     "name": "stderr",
     "output_type": "stream",
     "text": [
      "Processing rows:  46%|██████████████████████████▌                               | 339/740 [1:00:09<1:43:16, 15.45s/row]"
     ]
    },
    {
     "name": "stdout",
     "output_type": "stream",
     "text": [
      "Target: parametric answer: রূপা\n",
      "contextual answer: রূপা\n",
      "generated: parametric answer:রূপা।\n",
      "contextual answer: রূপা।\n"
     ]
    },
    {
     "name": "stderr",
     "output_type": "stream",
     "text": [
      "Processing rows:  46%|██████████████████████████▋                               | 341/740 [1:00:23<1:25:49, 12.91s/row]"
     ]
    },
    {
     "name": "stdout",
     "output_type": "stream",
     "text": [
      "Target: parametric answer: না\n",
      "contextual answer: না\n",
      "generated: parametric answer:না, হিমু কখনো হাজতবাস করেনি।\" (Incorrect based on knowledge)\n",
      "contextual answer: না, হিমু কখনো হাজতবাস করেনি।\" (Incorrect based on context)\n"
     ]
    },
    {
     "name": "stderr",
     "output_type": "stream",
     "text": [
      "Processing rows:  46%|██████████████████████████▊                               | 342/740 [1:00:39<1:32:08, 13.89s/row]"
     ]
    },
    {
     "name": "stdout",
     "output_type": "stream",
     "text": [
      "Target: parametric answer: যা হিমালয় পর্বতের ন্যায় মহত্ব প্রকাশ করে\n",
      "contextual answer: যা হিমালয় পর্বতের ন্যায় মহত্ব প্রকাশ করে\n",
      "generated: parametric answer:হিমুর বাবা তার ছেলের নাম হিমালয় রেখেছিলেন কারণ তিনি তার ছেলেকে একজন মহাপুরুষ হিসাবে গড়ে তুলতে চেয়েছিলেন এবং হিমালয় নামটি হিমালয় পর্বতের ন্যায় মহত্ব প্রকাশ করে।\n",
      "contextual answer: হিমুর বাবা তার ছেলের নাম হিমালয় রেখেছিলেন কারণ তিনি তার ছেলেকে একজন মহাপুরুষ হিসাবে গড়ে তুলতে চেয়েছিলেন এবং হিমালয় নামটি হিমালয় পর্বতের ন্যায় মহত্ব প্রকাশ করে।\n"
     ]
    },
    {
     "name": "stderr",
     "output_type": "stream",
     "text": [
      "Processing rows:  46%|██████████████████████████▉                               | 343/740 [1:00:54<1:33:10, 14.08s/row]"
     ]
    },
    {
     "name": "stdout",
     "output_type": "stream",
     "text": [
      "Target: parametric answer: স্তন্যপায়ী প্রাণী\n",
      "contextual answer: স্তন্যপায়ী প্রাণী\n",
      "generated: parametric answer:শুধুমাত্র স্তন্যপায়ী প্রাণীর শরীরে পাওয়া যায়।\n",
      "contextual answer: শুধুমাত্র স্তন্যপায়ী প্রাণীর শরীরে পাওয়া যায়।\n"
     ]
    },
    {
     "name": "stderr",
     "output_type": "stream",
     "text": [
      "Processing rows:  46%|██████████████████████████▉                               | 344/740 [1:01:08<1:33:19, 14.14s/row]"
     ]
    },
    {
     "name": "stdout",
     "output_type": "stream",
     "text": [
      "Target: parametric answer: ২\n",
      "contextual answer: ২\n",
      "generated: parametric answer:চুল বিভিন্ন ধরনের হয়ে থাকে, যেমন ফার (fur), উল (wool), ভেলাস হেয়ার (vellus hair), এবং টার্মিনাল হেয়ার (terminal hair)। কিছু প্রজাতির ক্ষেত্রে চুল নেই, তাদেরকে লোমবিহীন বলা হয়।\n",
      "contextual answer: চুল বিভিন্ন ধরনের হয়ে থাকে, যেমন ফার (fur) এবং উল (wool)। কিছু প্রজাতির ক্ষেত্রে চুল নেই, তাদেরকে লোমবিহীন বলা হয়।\n"
     ]
    },
    {
     "name": "stderr",
     "output_type": "stream",
     "text": [
      "Processing rows:  47%|███████████████████████████                               | 345/740 [1:01:23<1:33:59, 14.28s/row]"
     ]
    },
    {
     "name": "stdout",
     "output_type": "stream",
     "text": [
      "Target: parametric answer: চুল অন্তস্ত্বক বা ত্বকের বহিঃস্তরে অবস্থিত ফলিকল থেকে উৎপন্ন চিকন লম্বা সুতার মতোন প্রোটিন তন্তু।\n",
      "contextual answer: চুল অন্তস্ত্বক বা ত্বকের বহিঃস্তরে অবস্থিত ফলিকল থেকে উৎপন্ন চিকন লম্বা সুতার মতোন প্রোটিন তন্তু।\n",
      "generated: parametric answer:চুল হলো এক ধরনের প্রোটিন তন্তু, যা কেরাটিন নামের এক ধরনের প্রোটিন থেকে বানা। এটি মানব শরীরে বেশি পাওয়া যায়, কিন্তু অন্য স্তন্যপায়ী প্রাণীদের শরীরেও পাওয়া যায়। চুলের মুল কাজ হলো শরীরকে গরম রাখা, বাতাস বা আলো থেকে বাচাবার জন্য এবং সেন্সরি কাজ করা। কিছু প্রাণীর চুল বিভিন্ন রূপে উপস্থিত হতে পারে, যেমন উল বা লোম। কিছু প্রাণী চুলবিহীন হতে পারে, বা জীবনচক্রের নির্দিষ্ট সময়ে চুল না থাকতে পারে।\n",
      "contextual answer: চুল হলো ত্বকের বহিঃস্তরে অবস্থিত ফলিকল থেকে উৎপন্ন হওয়া চিকন লম্বা সুতার মতোন প্রোটিন তন্তু। শুধুমাত্র স্তন্যপায়ী প্রাণীর শরীরে পাওয়া যায় বলে চুল স্তন্যপায়ী প্রাণীর একটি নির্দেশক বৈশিষ্ট্য। চুলের প্রধান উপাদান হচ্ছে কেরাটিন।\n"
     ]
    },
    {
     "name": "stderr",
     "output_type": "stream",
     "text": [
      "Processing rows:  47%|███████████████████████████                               | 346/740 [1:01:38<1:36:05, 14.63s/row]"
     ]
    },
    {
     "name": "stdout",
     "output_type": "stream",
     "text": [
      "Target: parametric answer: কেরাটিন\n",
      "contextual answer: কেরাটিন\n",
      "generated: parametric answer:কেরাটিন।\n",
      "contextual answer: কেরাটিন।\n"
     ]
    },
    {
     "name": "stderr",
     "output_type": "stream",
     "text": [
      "Processing rows:  47%|███████████████████████████▏                              | 347/740 [1:01:53<1:35:49, 14.63s/row]"
     ]
    },
    {
     "name": "stdout",
     "output_type": "stream",
     "text": [
      "Target: parametric answer: সাধারণ গণিতের বাইরে গিয়ে যে সমস্ত গণিতবিদেরা গাণিতিক সমস্যার সমাধানের কাজে নিযুক্ত থাকেন\n",
      "contextual answer: সাধারণ গণিতের বাইরে গিয়ে যে সমস্ত গণিতবিদেরা গাণিতিক সমস্যার সমাধানের কাজে নিযুক্ত থাকেন\n",
      "generated: parametric answer:প্রয়োগমূলক গণিতজ্ঞ বলা হয় গণিতবিদদের জন্য, যাঁরা গাণিতিক তত্ত্ব এবং পদ্ধতিকে বিজ্ঞান, প্রকৌশল, ব্যবসা এবং অন্যান্য বিষয়গুলোতে প্রয়োগ করেন।\n",
      "contextual answer: প্রয়োগমূলক গণিতজ্ঞ বলা হয় গণিতবিদদের জন্য, যাঁরা গাণিতিক সমস্যার সমাধানের কাজে নিযুক্ত থাকেন এবং তাদের বিশেষ জ্ঞান এবং পেশাদারী পদ্ধতি ব্যবহার করে বৈজ্ঞানিক ক্ষেত্রের সমস্যার মধ্যে উপস্থিত হয়ে অগ্রসর হন।\n"
     ]
    },
    {
     "name": "stderr",
     "output_type": "stream",
     "text": [
      "Processing rows:  47%|███████████████████████████▎                              | 349/740 [1:02:11<1:24:46, 13.01s/row]"
     ]
    },
    {
     "name": "stdout",
     "output_type": "stream",
     "text": [
      "Target: parametric answer: যাঁরা তাদের বিশেষ জ্ঞান এবং পেশাদারী পদ্ধতির সঙ্গে, অনেক ভাবগম্ভীর বৈজ্ঞানিক ক্ষেত্রের সমস্যার মধ্যে উপস্থিত হয়ে অগ্রসর হন\n",
      "contextual answer: যাঁরা তাদের বিশেষ জ্ঞান এবং পেশাদারী পদ্ধতির সঙ্গে, অনেক ভাবগম্ভীর বৈজ্ঞানিক ক্ষেত্রের সমস্যার মধ্যে উপস্থিত হয়ে অগ্রসর হন\n",
      "generated: parametric answer:প্রয়োগমূলক গণিতবিদেরা গাণিতিক বিজ্ঞানী হলেন এমন ব্যক্তিদের, যাঁরা গাণিতিক তত্ত্ব এবং পদ্ধতিকে বিভিন্ন বৈজ্ঞানিক ও প্রকৌশলী ক্ষেত্রে প্রয়োগ করেন। তাঁরা গাণিতিক নকশা বানান, সমস্যা সমাধান করেন এবং বিশ্লেষণ করেন বিজ্ঞান, প্রকৌশল, ব্যবসা এবং অন্যান্য ক্ষেত্রে।\n",
      "contextual answer: প্রয়োগমূলক গণিতবিদেরা গাণিতিক বিজ্ঞানী হলেন এমন গাণিতিক বিজ্ঞানী, যাঁরা তাদের বিশেষ জ্ঞান এবং পেশাদারী পদ্ধতির সঙ্গে, অনেক ভাবগম্ভীর বৈজ্ঞানিক ক্ষেত্রের সমস্যার মধ্যে উপস্থিত হয়ে অগ্রসর হন। তাঁরা বিজ্ঞান, প্রকৌশল, ব্যবসা, এবং শিল্পে গাণিতিক পদ্ধতি ব্যবহার করে সমস্যা সমাধান করেন।\n"
     ]
    },
    {
     "name": "stderr",
     "output_type": "stream",
     "text": [
      "Processing rows:  47%|███████████████████████████▍                              | 350/740 [1:02:29<1:34:29, 14.54s/row]"
     ]
    },
    {
     "name": "stdout",
     "output_type": "stream",
     "text": [
      "Target: parametric answer: পেশাদারী ভঙ্গিতে বিভিন্ন ধরনের সমস্যা; তাত্ত্বিক পদ্ধতি ; স্থানীয় নির্মানের উপর নিয়মিত গবেষণা; গাণিতিক নকশা\n",
      "contextual answer: পেশাদারী ভঙ্গিতে বিভিন্ন ধরনের সমস্যা; তাত্ত্বিক পদ্ধতি ; স্থানীয় নির্মানের উপর নিয়মিত গবেষণা; গাণিতিক নকশা\n",
      "generated: parametric answer:প্রয়োগমূলক গণিতবিদেরা গাণিতিক মডেল, অ্যালগরিদম এবং বাস্তব সমস্যার সমাধান প্রস্তুত করে থাকেন।\n",
      "contextual answer: প্রয়োগমূলক গণিতবিদেরা বিভিন্ন ধরনের সমস্যা, তাত্ত্বিক পদ্ধতি এবং স্থানীয় নির্মাণের উপর নিয়মিত গবেষণা এবং গাণিতিক নকশা প্রস্তুত করে থাকেন।\n"
     ]
    },
    {
     "name": "stderr",
     "output_type": "stream",
     "text": [
      "Processing rows:  47%|███████████████████████████▌                              | 351/740 [1:02:44<1:33:57, 14.49s/row]"
     ]
    },
    {
     "name": "stdout",
     "output_type": "stream",
     "text": [
      "Target: parametric answer: গণিত সংখ্যা; তথ্য; সংগ্রহ; পরিমাণ; গঠন; স্থান পরিবর্তন\n",
      "contextual answer: গণিত সংখ্যা; তথ্য; সংগ্রহ; পরিমাণ; গঠন; স্থান পরিবর্তন\n",
      "generated: parametric answer:গণিত সংখ্যা, পরিমাণ, গঠন, স্থান, পরিবর্তন, ভৌতিক বিজ্ঞান, প্রকৌশল, কম্পিউটার বিজ্ঞান, অর্থনীতি এবং অন্যান্য বিজ্ঞানী ক্ষেত্রের সাথে সংশ্লিষ্ট হয়।\n",
      "contextual answer: গণিত সংখ্যা, তথ্য, সংগ্রহ, পরিমাণ, গঠন, স্থান, এবং পরিবর্তনের সাথে সংশ্লিষ্ট হয়।\n"
     ]
    },
    {
     "name": "stderr",
     "output_type": "stream",
     "text": [
      "Processing rows:  48%|███████████████████████████▌                              | 352/740 [1:03:01<1:38:13, 15.19s/row]"
     ]
    },
    {
     "name": "stdout",
     "output_type": "stream",
     "text": [
      "Target: parametric answer: সাধারণত ভুলভাবে ব্যবহার বা ত্রুটিযুক্ত কারণে\n",
      "contextual answer: সাধারণত ভুলভাবে ব্যবহার বা ত্রুটিযুক্ত কারণে\n",
      "generated: parametric answer:ব্যাটারির বিস্ফোরণ ঘটে অতিরিক্ত চার্জ, শর্ট সার্কিট, নন-পুনর্ভরণযোগ্য ব্যাটারি চার্জ করা, পোড়ানোর মাধ্যমে ডিসপোজ করা, বা বাইরের ক্ষতি বা অত্যন্ত তemperature কারণে। লিথিয়াম-আয়ন ব্যাটারি ক্ষেত্রে, থার্মাল রানাওয়ে বা অত্যন্ত চার্জের কারণে বিস্ফোরণ ঘটতে পারে।\n",
      "contextual answer: ব্যাটারির বিস্ফোরণ ঘটে ব্যবহারের ভুলভাব, অতিরিক্ত চার্জ, শর্ট সার্কিট, জাম্প স্টার্ট করার সময়ের স্পার্ক, পোড়ানোর মাধ্যমে ডিসপোজ করা, এবং লিথিয়াম-আয়ন ব্যাটারির ব্যবহারের কারণে।\n"
     ]
    },
    {
     "name": "stderr",
     "output_type": "stream",
     "text": [
      "Processing rows:  48%|███████████████████████████▋                              | 354/740 [1:03:20<1:26:56, 13.51s/row]"
     ]
    },
    {
     "name": "stdout",
     "output_type": "stream",
     "text": [
      "Target: parametric answer: হাইড্রোজেন এবং অক্সিজেনের একটি বিস্ফোরক গ্যাস\n",
      "contextual answer: হাইড্রোজেন এবং অক্সিজেনের একটি বিস্ফোরক গ্যাস\n",
      "generated: parametric answer:হাইড্রোজেন এবং অক্সিজেনের মিশ্রণ।\n",
      "contextual answer: হাইড্রোজেন এবং অক্সিজেনের মিশ্রণ।\n"
     ]
    },
    {
     "name": "stderr",
     "output_type": "stream",
     "text": [
      "Processing rows:  48%|███████████████████████████▊                              | 355/740 [1:03:36<1:31:04, 14.19s/row]"
     ]
    },
    {
     "name": "stdout",
     "output_type": "stream",
     "text": [
      "Target: parametric answer: বদ্ধ কেসটির মধ্যে\n",
      "contextual answer: বদ্ধ কেসটির মধ্যে\n",
      "generated: parametric answer:বদ্ধ কেসের মধ্যে বাষ্প তৈরি হয়, যা চাপের বাড়ে বিস্ফোরণ ঘটায়।\n",
      "contextual answer: বদ্ধ কেসের মধ্যে\n"
     ]
    },
    {
     "name": "stderr",
     "output_type": "stream",
     "text": [
      "Processing rows:  48%|███████████████████████████▉                              | 356/740 [1:03:52<1:34:52, 14.82s/row]"
     ]
    },
    {
     "name": "stdout",
     "output_type": "stream",
     "text": [
      "Target: parametric answer: ঢাকা\n",
      "contextual answer: ঢাকা\n",
      "generated: parametric answer:বাংলাদেশ পাট গবেষণা ইনস্টিটিউট ঢাকায় অবস্থিত।\n",
      "contextual answer: বাংলাদেশ পাট গবেষণা ইনস্টিটিউট ঢাকায় অবস্থিত।\n"
     ]
    },
    {
     "name": "stderr",
     "output_type": "stream",
     "text": [
      "Processing rows:  49%|████████████████████████████▏                             | 359/740 [1:04:07<1:15:22, 11.87s/row]"
     ]
    },
    {
     "name": "stdout",
     "output_type": "stream",
     "text": [
      "Target: parametric answer: ১৯৩৬ সাল\n",
      "contextual answer: ১৯৩৬ সাল\n",
      "generated: parametric answer:১৯৩৬ সালে।\n",
      "contextual answer: ১৯৩৬ সালে।\n"
     ]
    },
    {
     "name": "stderr",
     "output_type": "stream",
     "text": [
      "Processing rows:  49%|████████████████████████████▏                             | 360/740 [1:04:21<1:20:03, 12.64s/row]"
     ]
    },
    {
     "name": "stdout",
     "output_type": "stream",
     "text": [
      "Target: parametric answer: ১৯৫১\n",
      "contextual answer: ১৯৫১\n",
      "generated: parametric answer:১৯৫১ সালে।\n",
      "contextual answer: ১৯৫১ সালে।\n"
     ]
    },
    {
     "name": "stderr",
     "output_type": "stream",
     "text": [
      "Processing rows:  49%|████████████████████████████▎                             | 361/740 [1:04:36<1:23:04, 13.15s/row]"
     ]
    },
    {
     "name": "stdout",
     "output_type": "stream",
     "text": [
      "Target: parametric answer: আনুভূমিক সারি\n",
      "contextual answer: আনুভূমিক সারি\n",
      "generated: parametric answer:পর্যায় হল পর্যায় সারণির একটি আনুভূমিক সারি, যা একটি নতুন প্রধান শক্তি স্তরের সাথে সম্পর্কিত। পর্যায়গুলো সাতটি এবং প্রতিটি পর্যায়ে মৌলসমূহের সংখ্যা বার্তা করে।\n",
      "contextual answer: পর্যায় হল পর্যায় সারণির আনুভূমিক সারি বা লাইন। প্রতিটি পর্যায়ে বামদিকের গ্রুপ থেকে ডানদিকে গ্রুপ-১৮ পর্যন্ত মৌলসমূহ বিস্তৃত হয়।\"\n"
     ]
    },
    {
     "name": "stderr",
     "output_type": "stream",
     "text": [
      "Processing rows:  49%|████████████████████████████▌                             | 364/740 [1:04:50<1:06:53, 10.67s/row]"
     ]
    },
    {
     "name": "stdout",
     "output_type": "stream",
     "text": [
      "Target: parametric answer: খাড়া স্তম্ভ\n",
      "contextual answer: খাড়া স্তম্ভ\n",
      "generated: parametric answer:গ্রুপ\" হল পর্যায় সারণির খাড়া স্তম্ভগুলো, যারা ১ থেকে ১৮ নম্বরের সাথে সাথে আছে। একই গ্রুপের মৌলসমূহের সর্বশেষ স্তরের ইলেকট্রন সংখ্যা এবং রাসায়নিক ধর্ম প্রায় একই রকমের হয়।\n",
      "contextual answer: গ্রুপ\" হল পর্যায় সারণির খাড়া স্তম্ভগুলো। একই গ্রুপের মৌলসমূহের ভৌত ও রাসায়নিক ধর্ম প্রায় একই রকমের হয়।\n"
     ]
    },
    {
     "name": "stderr",
     "output_type": "stream",
     "text": [
      "Processing rows:  49%|████████████████████████████▌                             | 365/740 [1:05:10<1:23:26, 13.35s/row]"
     ]
    },
    {
     "name": "stdout",
     "output_type": "stream",
     "text": [
      "Target: parametric answer: গ্রুপ-২ এবং গ্রুপ-৩ এর মধ্যবর্তী স্থানে অবস্থানকারী মৌল\n",
      "contextual answer: গ্রুপ-২ এবং গ্রুপ-৩ এর মধ্যবর্তী স্থানে অবস্থানকারী মৌল\n",
      "generated: parametric answer:অবস্থান্তর মৌলগুলো হলেন গ্রুপ-২ এবং গ্রুপ-৩ এর মধ্যবর্তী স্থানে অবস্থানকারী মৌলগুলো, যাদের সাধারণ নাম ল্যান্থানাইড এবং অ্যাকটিনাইড। এগুলো পর্যায় ৬ এবং ৭-এর অংশ।\n",
      "contextual answer: অবস্থান্তর মৌলগুলো হলেন গ্রুপ-২ এবং গ্রুপ-৩ এর মধ্যবর্তী স্থানে অবস্থানকারী মৌলগুলো। এগুলো নিচে আলাদাভাবে ল্যান্থানাইড ও অ্যাকটিনাইড সারির মৌল হিসেবে দেখানো হলেও এগুলো যথাক্রমে ৫ এবং ৭ পর্যায়ের অংশ।\n"
     ]
    },
    {
     "name": "stderr",
     "output_type": "stream",
     "text": [
      "Processing rows:  49%|████████████████████████████▋                             | 366/740 [1:05:24<1:25:01, 13.64s/row]"
     ]
    },
    {
     "name": "stdout",
     "output_type": "stream",
     "text": [
      "Target: parametric answer: ৩২টি\n",
      "contextual answer: ৩২টি\n",
      "generated: parametric answer:৩টি\n",
      "contextual answer: ৩২টি\n"
     ]
    },
    {
     "name": "stderr",
     "output_type": "stream",
     "text": [
      "Processing rows:  50%|████████████████████████████▊                             | 367/740 [1:05:38<1:25:21, 13.73s/row]"
     ]
    },
    {
     "name": "stdout",
     "output_type": "stream",
     "text": [
      "Target: parametric answer: ৭টি\n",
      "contextual answer: ৭টি\n",
      "generated: parametric answer:৭টি\n",
      "contextual answer: ৭টি\n"
     ]
    },
    {
     "name": "stderr",
     "output_type": "stream",
     "text": [
      "Processing rows:  50%|████████████████████████████▊                             | 368/740 [1:05:53<1:26:36, 13.97s/row]"
     ]
    },
    {
     "name": "stdout",
     "output_type": "stream",
     "text": [
      "Target: parametric answer: গোলাকৃতি\n",
      "contextual answer: গোলাকৃতি\n",
      "generated: parametric answer:বাস্কেটবল খেলার বল গোলাকৃতি, কমলা রঙের, লেザー বা সিন্থেটিক মাটেリアル দিয়ে বানা, প্যানেল সেলে হয়, এবং গ্রিপ এবং বাঁশির জন্য ডিজাইন করা হয়।\n",
      "contextual answer: বাস্কেটবল খেলার বল গোলাকৃতি এবং কমলা রঙের।\n"
     ]
    },
    {
     "name": "stderr",
     "output_type": "stream",
     "text": [
      "Processing rows:  50%|████████████████████████████▉                             | 369/740 [1:06:10<1:32:15, 14.92s/row]"
     ]
    },
    {
     "name": "stdout",
     "output_type": "stream",
     "text": [
      "Target: parametric answer: কোর্টে উলম্বভাবে স্থাপিত একটি বাস্কেট বা ঝুড়িতে বল নিক্ষেপের মাধ্যমে পয়েন্ট সংগ্রহ করা\n",
      "contextual answer: কোর্টে উলম্বভাবে স্থাপিত একটি বাস্কেট বা ঝুড়িতে বল নিক্ষেপের মাধ্যমে পয়েন্ট সংগ্রহ করা\n",
      "generated: parametric answer:বাস্কেটবলের মূল উদ্দেশ্য হলো বল নিক্ষেপের মাধ্যমে বাস্কেটে গোল করা এবং সর্বাধিক পয়েন্ট সংগ্রহ করা।\n",
      "contextual answer: কোর্টে উলম্বভাবে স্থাপিত একটি বাস্কেট বা ঝুড়িতে বল নিক্ষেপের মাধ্যমে পয়েন্ট সংগ্রহ করা।\n"
     ]
    },
    {
     "name": "stderr",
     "output_type": "stream",
     "text": [
      "Processing rows:  50%|█████████████████████████████                             | 370/740 [1:06:24<1:31:29, 14.84s/row]"
     ]
    },
    {
     "name": "stdout",
     "output_type": "stream",
     "text": [
      "Target: parametric answer: ৫\n",
      "contextual answer: ৫\n",
      "generated: parametric answer:৫ জন।\n",
      "contextual answer: ৫ জন।\"\n"
     ]
    },
    {
     "name": "stderr",
     "output_type": "stream",
     "text": [
      "Processing rows:  50%|█████████████████████████████                             | 371/740 [1:06:39<1:30:07, 14.65s/row]"
     ]
    },
    {
     "name": "stdout",
     "output_type": "stream",
     "text": [
      "Target: parametric answer: চতুর্ভূজ আকৃতির বাস্কেটবল কোর্টের উভয় দিকের শেষ প্রান্তে বাস্কেট\n",
      "contextual answer: চতুর্ভূজ আকৃতির বাস্কেটবল কোর্টের উভয় দিকের শেষ প্রান্তে বাস্কেট\n",
      "generated: parametric answer:রিম হল বাস্কেটবল খেলায় বল নিক্ষেপের জন্য ব্যবহৃত গোলাকার হুপ।\n",
      "contextual answer: রিম হল বাস্কেটবল খেলায় ব্যবহৃত বাস্কেট বা ঝুড়ি।\n"
     ]
    },
    {
     "name": "stderr",
     "output_type": "stream",
     "text": [
      "Processing rows:  50%|█████████████████████████████▏                            | 372/740 [1:06:53<1:28:44, 14.47s/row]"
     ]
    },
    {
     "name": "stdout",
     "output_type": "stream",
     "text": [
      "Target: parametric answer: এক ধরনের প্রহসন\n",
      "contextual answer: এক ধরনের প্রহসন\n",
      "generated: parametric answer:স্ট্যান্ড আপ কমেডি হলো এক ধরনের কমেডি প্রকাশনা, যেখানে একজন কমেডিয়ান সরাসরি জনতার সামনে হাস্যকর গল্প, অভিজ্ঞতা, এবং চুটকি উপস্থাপন করে। এটি থিয়েটার, ক্লাব, বা অন্যান্য স্থানে প্রদর্শিত হতে পারে এবং টেলিভিশন বা ওনলাইন প্লাটফর্মে প্রচারিত হতে পারে। কমেডিয়ানের নিজস্ব বাচনভঙ্গী, অঙ্গভঙ্গী, মুখাবয়ব, স্বরের ওঠা নামা এবং লোক হাসানোর দক্ষতা এই কমেডির কীর্তিমূলক বৈশিষ্ট্য।\n",
      "contextual answer: স্ট্যান্ড আপ কমেডি হলো এক ধরনের প্রহসন, যেখানে একজন কমেডিয়ান উপস্থিত জনতার সামনে কোন বিষয়কে হাস্যরসাত্মক ভঙ্গিমায় সরাসরি উপস্থাপন করেন। এটি উন্মুক্ত মঞ্চ, থিয়েটার, জনসমাগম, ভোজসভা, ক্লাবঘরের ছোট পরিসরে বা খোলা জায়গায় প্রদর্শিত হতে পারে। কমেডিয়ান নানান মজাদার গল্প, অভিজ্ঞতা, ছোটখাটো কৌতুক, একবাক্যের চুটকি ইত্যাদির মাধ্যমে দর্শকদের মনোরঞ্জনের চেষ্টা করেন।\n"
     ]
    },
    {
     "name": "stderr",
     "output_type": "stream",
     "text": [
      "Processing rows:  51%|█████████████████████████████▎                            | 374/740 [1:07:13<1:20:09, 13.14s/row]"
     ]
    },
    {
     "name": "stdout",
     "output_type": "stream",
     "text": [
      "Target: parametric answer: হাস্যরসাত্মক\n",
      "contextual answer: হাস্যরসাত্মক\n",
      "generated: parametric answer:কমেডিয়ান বিভিন্ন মজাদার গল্প, অভিজ্ঞতা, ছোটখাটো কৌতুক, একবাক্যের চুটকি ইত্যাদি ব্যবহার করে হাস্যকর ভঙ্গিমায় উপস্থাপন করেন।\n",
      "contextual answer: হাস্যরসাত্মক ভঙ্গিমায় সরাসরি উপস্থাপন করেন।\n"
     ]
    },
    {
     "name": "stderr",
     "output_type": "stream",
     "text": [
      "Processing rows:  51%|█████████████████████████████▍                            | 375/740 [1:07:29<1:26:02, 14.14s/row]"
     ]
    },
    {
     "name": "stdout",
     "output_type": "stream",
     "text": [
      "Target: parametric answer: উন্মুক্ত মঞ্চ; থিয়েটার; জনসমাগম; ভোজসভা; ক্লাবঘরের ছোট পরিসরে এমনকি কোন খোলা জায়গায়\n",
      "contextual answer: উন্মুক্ত মঞ্চ; থিয়েটার; জনসমাগম; ভোজসভা; ক্লাবঘরের ছোট পরিসরে এমনকি কোন খোলা জায়গায়\n",
      "generated: parametric answer:স্ট্যান্ড আপ কমেডি কমেডি ক্লাব, থিয়েটার, বার, ওপেন মিক নাইট, ফেস্টিভাল, টেলিভিশন শো, এবং অনলাইন প্লাটফর্মে প্রদর্শিত হতে পারে।\n",
      "contextual answer: স্ট্যান্ড আপ কমেডি উন্মুক্ত মঞ্চ, থিয়েটার, জনসমাগম, ভোজসভা, ক্লাবঘরের ছোট পরিসরে এমনকি কোন খোলা জায়গায় প্রদর্শিত হতে পারে। ডিভিডি বা টেলিভিশনের মাধ্যমেও এটি প্রচারিত হয়। অনেক কমেডিয়ান নিজের ভিডিও ব্লগও খুলেছেন।\n"
     ]
    },
    {
     "name": "stderr",
     "output_type": "stream",
     "text": [
      "Processing rows:  51%|█████████████████████████████▍                            | 376/740 [1:07:48<1:34:47, 15.62s/row]"
     ]
    },
    {
     "name": "stdout",
     "output_type": "stream",
     "text": [
      "Target: parametric answer: বাচনভঙ্গী; অঙ্গভঙ্গী; মুখাবয়ব; স্বরের ওঠা নামা; সর্বোপরি লোক হাসানোর দক্ষতা\n",
      "contextual answer: বাচনভঙ্গী; অঙ্গভঙ্গী; মুখাবয়ব; স্বরের ওঠা নামা; সর্বোপরি লোক হাসানোর দক্ষতা\n",
      "generated: parametric answer:কমেডিয়ানের নিজস্ব বাচনভঙ্গী, অঙ্গভঙ্গী, মুখাবয়ব, স্বরের ওঠা নামা, সময় ব্যবহার (timing), এবং লোক হাসানোর দক্ষতা হিসেবে কাজ করে। কিছু কমেডিয়ান সরঞ্জাম, জাদু, বাদ্যযন্ত্র, সুর ইত্যাদি ব্যবহার করে বৈচিত্র্য আনেন।\n",
      "contextual answer: কমেডিয়ানের নিজস্ব বাচনভঙ্গী, অঙ্গভঙ্গী, মুখাবয়ব, স্বরের ওঠা নামা এবং সর্বোপরি লোক হাসানোর নিজস্ব দক্ষতা হিসেবে কাজ করে। অনেকে বৈচিত্র্য আনার জন্য তাদের প্রদর্শনীতে বিভিন্ন সরঞ্জাম, জাদু, বাদ্যযন্ত্র, সুর ইত্যাদি ব্যবহার করেন।\n"
     ]
    },
    {
     "name": "stderr",
     "output_type": "stream",
     "text": [
      "Processing rows:  51%|█████████████████████████████▌                            | 377/740 [1:08:05<1:35:47, 15.83s/row]"
     ]
    },
    {
     "name": "stdout",
     "output_type": "stream",
     "text": [
      "Target: parametric answer: বাংলাদেশী অপরাধ থ্রিলার ওয়েব ধারাবাহিক\n",
      "contextual answer: বাংলাদেশী অপরাধ থ্রিলার ওয়েব ধারাবাহিক\n",
      "generated: parametric answer:মরীচিকা একটি অপরাধ থ্রিলার ওয়েব ধারাবাহিক।\n",
      "contextual answer: মরীচিকা একটি অপরাধ থ্রিলার ওয়েব ধারাবাহিক।\n"
     ]
    },
    {
     "name": "stderr",
     "output_type": "stream",
     "text": [
      "Processing rows:  51%|█████████████████████████████▋                            | 379/740 [1:08:21<1:21:11, 13.49s/row]"
     ]
    },
    {
     "name": "stdout",
     "output_type": "stream",
     "text": [
      "Target: parametric answer: রেদওয়ান রনি\n",
      "contextual answer: রেদওয়ান রনি\n",
      "generated: parametric answer:রেদওয়ান রনি।\n",
      "contextual answer: রেদওয়ান রনি।\"\n"
     ]
    },
    {
     "name": "stderr",
     "output_type": "stream",
     "text": [
      "Processing rows:  51%|█████████████████████████████▊                            | 380/740 [1:08:35<1:21:47, 13.63s/row]"
     ]
    },
    {
     "name": "stdout",
     "output_type": "stream",
     "text": [
      "Target: parametric answer: মরীচিকা\n",
      "contextual answer: মরীচিকা\n",
      "generated: parametric answer:মরীচিকা\n",
      "contextual answer: মরীচিকা\n"
     ]
    },
    {
     "name": "stderr",
     "output_type": "stream",
     "text": [
      "Processing rows:  51%|█████████████████████████████▊                            | 381/740 [1:08:50<1:25:25, 14.28s/row]"
     ]
    },
    {
     "name": "stdout",
     "output_type": "stream",
     "text": [
      "Target: parametric answer: স্নায়ুরোগের কারণে\n",
      "contextual answer: স্নায়ুরোগের কারণে\n",
      "generated: parametric answer:২০১৩ এর মে মাসে এডওয়ার্ড স্নোডেনকে এনএসএ থেকে সাময়িক ছুটির অনুমতি দেয়া হয়েছিল কারণ তিনি একটি গুরুতর স্নায়ুরোগের কারণে চিকিৎসা প্রয়োজন হতে পেরেছিলেন, যা তার ব্যাক ইনজারির কারণে ঘটেছিল।\n",
      "contextual answer: ২০১৩ এর মে মাসে স্নোডেনকে এনএসএ থেকে সাময়িক ছুটির অনুমতি দেয়া হয়েছে কারণ তিনি স্নায়ুরোগের কারণে ছুটির প্রয়োজন হতে পেরেছিলেন।\n"
     ]
    },
    {
     "name": "stderr",
     "output_type": "stream",
     "text": [
      "Processing rows:  52%|██████████████████████████████                            | 384/740 [1:09:05<1:07:41, 11.41s/row]"
     ]
    },
    {
     "name": "stdout",
     "output_type": "stream",
     "text": [
      "Target: parametric answer: ২০১৩ এর জানুয়ারিতে\n",
      "contextual answer: ২০১৩ এর জানুয়ারিতে\n",
      "generated: parametric answer:২০১৩ এর জানুয়ারিতে।\n",
      "contextual answer: ২০১৩ এর জানুয়ারিতে।\n"
     ]
    },
    {
     "name": "stderr",
     "output_type": "stream",
     "text": [
      "Processing rows:  52%|██████████████████████████████▏                           | 385/740 [1:09:19<1:12:01, 12.17s/row]"
     ]
    },
    {
     "name": "stdout",
     "output_type": "stream",
     "text": [
      "Target: parametric answer: দ্য ওয়াশিংটন পোস্টের\n",
      "contextual answer: দ্য ওয়াশিংটন পোস্টের\n",
      "generated: parametric answer:বার্টন গেলম্যান আমেরিকান সাংবাদিক ছিলেন।\n",
      "contextual answer: বার্টন গেলম্যান আমেরিকান সাংবাদিক ছিলেন।\n"
     ]
    },
    {
     "name": "stderr",
     "output_type": "stream",
     "text": [
      "Processing rows:  52%|██████████████████████████████▎                           | 386/740 [1:09:32<1:14:54, 12.69s/row]"
     ]
    },
    {
     "name": "stdout",
     "output_type": "stream",
     "text": [
      "Target: parametric answer: লেন্স এবং দর্পণের সাহায্যে\n",
      "contextual answer: লেন্স এবং দর্পণের সাহায্যে\n",
      "generated: parametric answer:সাধারণ দূরবীক্ষণ যন্ত্র তৈরি করা হয় লেন্সের সাহায্যে, বিশেষত প্রতিসরণ দূরবীক্ষণ যন্ত্রের ক্ষেত্রে। কিন্তু কিছু বৈজ্ঞানিক দূরবীক্ষণ যন্ত্রে দর্পণ ব্যবহার করা হয়।\n",
      "contextual answer: সাধারণ দূরবীক্ষণ যন্ত্র তৈরি করা হয় লেন্স এবং দর্পণের সাহায্যে।\n"
     ]
    },
    {
     "name": "stderr",
     "output_type": "stream",
     "text": [
      "Processing rows:  53%|███████████████████████████████▉                            | 394/740 [1:09:47<54:20,  9.42s/row]"
     ]
    },
    {
     "name": "stdout",
     "output_type": "stream",
     "text": [
      "Target: parametric answer: ১৬০৯\n",
      "contextual answer: ১৬০৯\n",
      "generated: parametric answer:১৬০৯ সালে।\n",
      "contextual answer: ১৬০৯ সালে।\n"
     ]
    },
    {
     "name": "stderr",
     "output_type": "stream",
     "text": [
      "Processing rows:  53%|██████████████████████████████▉                           | 395/740 [1:10:01<1:02:07, 10.81s/row]"
     ]
    },
    {
     "name": "stdout",
     "output_type": "stream",
     "text": [
      "Target: parametric answer: বৃহস্পতির উপগ্রহ; শনির বলয়\n",
      "contextual answer: বৃহস্পতির উপগ্রহ; শনির বলয়\n",
      "generated: parametric answer:গ্যালিলি তার দুরবিনের মাধ্যমে বৃহস্পতির উপগ্রহ (গালিলিয়ান উপগ্রহ), শনির বলয়, চাঁদের ক্রাটার এবং সূর্যের দাঁত (সন-スポット) পর্যবেক্ষণ করেছিলেন।\n",
      "contextual answer: গ্যালিলি তার দুরবিনের মাধ্যমে বৃহস্পতির উপগ্রহ এবং শনির বলয় পর্যবেক্ষণ করেছিলেন।\n"
     ]
    },
    {
     "name": "stderr",
     "output_type": "stream",
     "text": [
      "Processing rows:  54%|███████████████████████████████                           | 396/740 [1:10:17<1:11:52, 12.54s/row]"
     ]
    },
    {
     "name": "stdout",
     "output_type": "stream",
     "text": [
      "Target: parametric answer: ৩য়\n",
      "contextual answer: ৩য়\n",
      "generated: parametric answer:৩য় হিজরিতে\n",
      "contextual answer: ৩য় হিজরিতে\n"
     ]
    },
    {
     "name": "stderr",
     "output_type": "stream",
     "text": [
      "Processing rows:  54%|████████████████████████████████▎                           | 399/740 [1:10:32<57:56, 10.19s/row]"
     ]
    },
    {
     "name": "stdout",
     "output_type": "stream",
     "text": [
      "Target: parametric answer: ছুটে এসে সদ্যপ্রসূত সন্তানকে দু‘হাতে তুলে তার কানে আযান দিলেন; দৌহিত্র হাসানের মাথা মুড়িয়ে তার চুলের সমপরিমাণ ওজনের রূপা গরীব-মিসকীনদের মধ্যে দান করে দিলেন\n",
      "contextual answer: ছুটে এসে সদ্যপ্রসূত সন্তানকে দু‘হাতে তুলে তার কানে আযান দিলেন; দৌহিত্র হাসানের মাথা মুড়িয়ে তার চুলের সমপরিমাণ ওজনের রূপা গরীব-মিসকীনদের মধ্যে দান করে দিলেন\n",
      "generated: parametric answer:মুহাম্মাদ হাসানের ডান কানে আহান এবং বাম কানে ইকামা পাঠালেন, তারপর হাসানের মাথা মুড়িয়ে তার চুলের সমপরিমাণ ওজনের রূপা গরীবদের মধ্যে দান করলেন।\n",
      "contextual answer: মুহাম্মাদ ছুটে এসে হাসানকে দু‘হাতে তুলে তার কানে আযান দিলেন, এবং হাসানের মাথা মুড়িয়ে তার চুলের সমপরিমাণ ওজনের রূপা গরীব-মিসকীনদের মধ্যে দান করে দিলেন।\n"
     ]
    },
    {
     "name": "stderr",
     "output_type": "stream",
     "text": [
      "Processing rows:  54%|███████████████████████████████▎                          | 400/740 [1:10:48<1:09:09, 12.21s/row]"
     ]
    },
    {
     "name": "stdout",
     "output_type": "stream",
     "text": [
      "Target: parametric answer: খাদিজার পরে তার আর কোন স্ত্রী সন্তান জন্ম দেননি। আর বংশ রক্ষার জন্য কোন পুত্র সন্তান ছিলোও না\n",
      "contextual answer: খাদিজার পরে তার আর কোন স্ত্রী সন্তান জন্ম দেননি। আর বংশ রক্ষার জন্য কোন পুত্র সন্তান ছিলোও না\n",
      "generated: parametric answer:মুহাম্মাদ হাসান ও হোসাইনকে নাতী ও পুত্রের উভয় আদর-সোহাগ একসাথে দিয়ে বড় করেছেন কারণ তিনি খাদিজার পরে আর কোন স্ত্রী সন্তান জন্ম দেননি এবং তার বংশ রক্ষার জন্য কোন পুত্র সন্তান ছিলোও না।\n",
      "contextual answer: মুহাম্মাদ হাসান ও হোসাইনকে নাতী ও পুত্রের উভয় আদর-সোহাগ একসাথে দিয়ে বড় করেছেন কারণ খাদিজার পরে তার আর কোন স্ত্রী সন্তান জন্ম দেননি এবং বংশ রক্ষার জন্য কোন পুত্র সন্তান ছিলোও না।\n"
     ]
    },
    {
     "name": "stderr",
     "output_type": "stream",
     "text": [
      "Processing rows:  54%|███████████████████████████████▍                          | 401/740 [1:11:05<1:16:56, 13.62s/row]"
     ]
    },
    {
     "name": "stdout",
     "output_type": "stream",
     "text": [
      "Target: parametric answer: দৌড়াদৌড়ি খেলা খেলতেন; ছোয়াছুয়ি খেলা খেলতেন; জড়িয়ে ধরে চুমো খেতেন; এমনকি হোসাইন মুহাম্মাদের বুকের উপর পা দিয়েও খেলা করতেন\n",
      "contextual answer: দৌড়াদৌড়ি খেলা খেলতেন; ছোয়াছুয়ি খেলা খেলতেন; জড়িয়ে ধরে চুমো খেতেন; এমনকি হোসাইন মুহাম্মাদের বুকের উপর পা দিয়েও খেলা করতেন\n",
      "generated: parametric answer:মুহাম্মাদ তার নাতীদের সাথে দৌড়াদৌড়ি, ছোয়াছুয়ি, জড়িয়ে ধরে চুমো খেলা এবং পা দিয়ে বুকের উপর খেলা করতেন।\n",
      "contextual answer: মুহাম্মাদ তার নাতীদের সাথে দৌড়াদৌড়ি খেলা, ছোয়াছুয়ি খেলা, জড়িয়ে ধরে চুমো খেলা এবং হোসাইনের পা দিয়ে বুকের উপর খেলা করতেন।\n"
     ]
    },
    {
     "name": "stderr",
     "output_type": "stream",
     "text": [
      "Processing rows:  54%|███████████████████████████████▌                          | 402/740 [1:11:22<1:21:35, 14.48s/row]"
     ]
    },
    {
     "name": "stdout",
     "output_type": "stream",
     "text": [
      "Target: parametric answer: জীবনের বাকি ৪০\n",
      "contextual answer: জীবনের বাকি ৪০\n",
      "generated: parametric answer:৪০ বছর।\n",
      "contextual answer: ৪০ বছর।\n"
     ]
    },
    {
     "name": "stderr",
     "output_type": "stream",
     "text": [
      "Processing rows:  55%|███████████████████████████████▋                          | 404/740 [1:11:36<1:08:31, 12.24s/row]"
     ]
    },
    {
     "name": "stdout",
     "output_type": "stream",
     "text": [
      "Target: parametric answer: তোরণ ;  দানেস্ক; এল্বলাগ; গ্রুদজিয়াজ; মাল্বরক; কনিসবারগ\n",
      "contextual answer: তোরণ ;  দানেস্ক; এল্বলাগ; গ্রুদজিয়াজ; মাল্বরক; কনিসবারগ\n",
      "generated: parametric answer:থর্ন, দানজিক, এলবিং, গ্রাউডেনজ, মারিয়েবুর্গ, কোনিসবার্গ।\n",
      "contextual answer: তোরণ, দানেস্ক, এল্বলাগ, গ্রুদজিয়াজ, মাল্বরক, কনিসবারগ।\n"
     ]
    },
    {
     "name": "stderr",
     "output_type": "stream",
     "text": [
      "Processing rows:  55%|███████████████████████████████▋                          | 405/740 [1:11:53<1:16:09, 13.64s/row]"
     ]
    },
    {
     "name": "stdout",
     "output_type": "stream",
     "text": [
      "Target: parametric answer: কারণ দেশের নিজস্ব খাদ্য, অর্থ, এবং ধন সম্পদ একই ছিল\n",
      "contextual answer: কারণ দেশের নিজস্ব খাদ্য, অর্থ, এবং ধন সম্পদ একই ছিল\n",
      "generated: parametric answer:ওয়ারমিয়ার রাজপুত স্বায়ত্তশাসন ভোগ করতে পারছিলেন কারণ তারা স্থানীয় সম্পদ, স্ত্রীরাজ্য এবং স্থানীয় শাসন ব্যবস্থা ব্যবহার করতে পারছিলেন, এবং তারা পোলিশ সমরাজ্যের সাথে সম্পর্ক বজায় রাখতে পারছিলেন।\n",
      "contextual answer: ওয়ারমিয়ার রাজপুত তখন দেশে স্বায়ত্তশাসন ভোগ করছিলো কারণ দেশের নিজস্ব খাদ্য, অর্থ, এবং ধন সম্পদ একই ছিল।\n"
     ]
    },
    {
     "name": "stderr",
     "output_type": "stream",
     "text": [
      "Processing rows:  55%|███████████████████████████████▊                          | 406/740 [1:12:09<1:20:19, 14.43s/row]"
     ]
    },
    {
     "name": "stdout",
     "output_type": "stream",
     "text": [
      "Target: parametric answer: তার মামার\n",
      "contextual answer: তার মামার\n",
      "generated: parametric answer:তার মামার (লুকাস ওয়াৎজেন্রোড দ্য যংগার)।\n",
      "contextual answer: তার মামার।\n"
     ]
    },
    {
     "name": "stderr",
     "output_type": "stream",
     "text": [
      "Processing rows:  55%|███████████████████████████████▉                          | 407/740 [1:12:24<1:21:27, 14.68s/row]"
     ]
    },
    {
     "name": "stdout",
     "output_type": "stream",
     "text": [
      "Target: parametric answer: পিটার মেইস্টার এবং তার সহযোগীরা\n",
      "contextual answer: পিটার মেইস্টার এবং তার সহযোগীরা\n",
      "generated: parametric answer:পিটার মেইস্টার এবং তার সহযোগীরা।\n",
      "contextual answer: পিটার মেইস্টার এবং তার সহযোগীরা।\n"
     ]
    },
    {
     "name": "stderr",
     "output_type": "stream",
     "text": [
      "Processing rows:  55%|████████████████████████████████                          | 409/740 [1:12:39<1:08:57, 12.50s/row]"
     ]
    },
    {
     "name": "stdout",
     "output_type": "stream",
     "text": [
      "Target: parametric answer: মেইস্টারের\n",
      "contextual answer: মেইস্টারের\n",
      "generated: parametric answer:পিটার মেইস্টার।\n",
      "contextual answer: পিটার মেইস্টার।\n"
     ]
    },
    {
     "name": "stderr",
     "output_type": "stream",
     "text": [
      "Processing rows:  55%|████████████████████████████████▏                         | 410/740 [1:12:53<1:10:57, 12.90s/row]"
     ]
    },
    {
     "name": "stdout",
     "output_type": "stream",
     "text": [
      "Target: parametric answer: ইউক্যারিওটিক\n",
      "contextual answer: ইউক্যারিওটিক\n",
      "generated: parametric answer:ডিএনএ হেলিকেজগুলো ইউক্যারিওটিক কোষে ডাইমার গঠন করে, তবে এটি ব্যাকটেরিয়াল কোষেও বর্তমান থাকে।\n",
      "contextual answer: ডিএনএ হেলিকেজগুলো অনেক ইউক্যারিওটিক কোষে ডাইমার গঠন করে।\n"
     ]
    },
    {
     "name": "stderr",
     "output_type": "stream",
     "text": [
      "Processing rows:  56%|████████████████████████████████▏                         | 411/740 [1:13:08<1:13:58, 13.49s/row]"
     ]
    },
    {
     "name": "stdout",
     "output_type": "stream",
     "text": [
      "Target: parametric answer: পেনসিলভানিয়ার ওয়িলমেরডিং-এ অবস্থিত\n",
      "contextual answer: পেনসিলভানিয়ার ওয়িলমেরডিং-এ অবস্থিত\n",
      "generated: parametric answer:পেনসিলভানিয়ার ওয়িলমেরডিং-এ।\n",
      "contextual answer: পেনসিলভানিয়ার ওয়িলমেরডিং-এ।\n"
     ]
    },
    {
     "name": "stderr",
     "output_type": "stream",
     "text": [
      "Processing rows:  56%|████████████████████████████████▎                         | 412/740 [1:13:22<1:14:39, 13.66s/row]"
     ]
    },
    {
     "name": "stdout",
     "output_type": "stream",
     "text": [
      "Target: parametric answer: লাইব্রেরি হল' বা 'প্রাসাদ'\n",
      "contextual answer: লাইব্রেরি হল' বা 'প্রাসাদ'\n",
      "generated: parametric answer:লাইব্রেরি হল\" বা \"প্রাসাদ।\n",
      "contextual answer: লাইব্রেরি হল\" বা \"প্রাসাদ।\"\n"
     ]
    },
    {
     "name": "stderr",
     "output_type": "stream",
     "text": [
      "Processing rows:  56%|████████████████████████████████▎                         | 413/740 [1:13:36<1:14:53, 13.74s/row]"
     ]
    },
    {
     "name": "stdout",
     "output_type": "stream",
     "text": [
      "Target: parametric answer: ১৮৯০\n",
      "contextual answer: ১৮৯০\n",
      "generated: parametric answer:১৮৯০ সালে।\n",
      "contextual answer: ১৮৯০ সালে।\n"
     ]
    },
    {
     "name": "stderr",
     "output_type": "stream",
     "text": [
      "Processing rows:  56%|████████████████████████████████▍                         | 414/740 [1:13:50<1:15:04, 13.82s/row]"
     ]
    },
    {
     "name": "stdout",
     "output_type": "stream",
     "text": [
      "Target: parametric answer: জর্জ ওয়েস্টিংহাউস জাদুঘর\n",
      "contextual answer: জর্জ ওয়েস্টিংহাউস জাদুঘর\n",
      "generated: parametric answer:জর্জ ওয়েস্টিংহাউস জাদুঘর হিসেবে ঘোষিত হয়েছে।\n",
      "contextual answer: জর্জ ওয়েস্টিংহাউস জাদুঘর হিসেবে ঘোষিত হয়েছে।\n"
     ]
    },
    {
     "name": "stderr",
     "output_type": "stream",
     "text": [
      "Processing rows:  56%|████████████████████████████████▌                         | 415/740 [1:14:04<1:15:01, 13.85s/row]"
     ]
    },
    {
     "name": "stdout",
     "output_type": "stream",
     "text": [
      "Target: parametric answer: এডি/সিই ভিত্তিক বর্ষ সংখ্যা পদ্ধতি\n",
      "contextual answer: এডি/সিই ভিত্তিক বর্ষ সংখ্যা পদ্ধতি\n",
      "generated: parametric answer:দশমিক পূর্ণ সংখ্যা পদ্ধতি।\n",
      "contextual answer: দশমিক পূর্ণ সংখ্যা পদ্ধতি।\n"
     ]
    },
    {
     "name": "stderr",
     "output_type": "stream",
     "text": [
      "Processing rows:  56%|████████████████████████████████▋                         | 417/740 [1:14:19<1:04:39, 12.01s/row]"
     ]
    },
    {
     "name": "stdout",
     "output_type": "stream",
     "text": [
      "Target: parametric answer: জুলীয়\n",
      "contextual answer: জুলীয়\n",
      "generated: parametric answer:জুলীয় বর্ষপঞ্জি।\n",
      "contextual answer: জুলীয় বর্ষপঞ্জি।\n"
     ]
    },
    {
     "name": "stderr",
     "output_type": "stream",
     "text": [
      "Processing rows:  57%|██████████████████████████████████                          | 420/740 [1:14:33<52:15,  9.80s/row]"
     ]
    },
    {
     "name": "stdout",
     "output_type": "stream",
     "text": [
      "Target: parametric answer: মুক্ত-চলমান হার; পেগড (স্থির) হার; হাইব্রিড বা সংকর হার\n",
      "contextual answer: মুক্ত-চলমান হার; পেগড (স্থির) হার; হাইব্রিড বা সংকর হার\n",
      "generated: parametric answer:চলমান (Floating), স্থির (Fixed), পেগড (Pegged) বিনিময় হার।\n",
      "contextual answer: মুক্ত-চলমান হার, পেগড (স্থির) হার, হাইব্রিড বা সংকর হার।\n"
     ]
    },
    {
     "name": "stderr",
     "output_type": "stream",
     "text": [
      "Processing rows:  57%|██████████████████████████████████▏                         | 422/740 [1:14:49<48:48,  9.21s/row]"
     ]
    },
    {
     "name": "stdout",
     "output_type": "stream",
     "text": [
      "Target: parametric answer: দেশের সরকার\n",
      "contextual answer: দেশের সরকার\n",
      "generated: parametric answer:দেশের সরকার বা কেন্দ্রীয় ব্যাংক বিনিময় হার নির্ধারণ করে।\n",
      "contextual answer: দেশের সরকার বিনিময় হার নির্ধারণ করে।\n"
     ]
    },
    {
     "name": "stderr",
     "output_type": "stream",
     "text": [
      "Processing rows:  57%|██████████████████████████████████▎                         | 423/740 [1:15:05<59:50, 11.33s/row]"
     ]
    },
    {
     "name": "stdout",
     "output_type": "stream",
     "text": [
      "Target: parametric answer: না\n",
      "contextual answer: না\n",
      "generated: parametric answer:পেগড (স্থির) ব্যবস্থায় মুদ্রার বিনিময় হার সাধারণত অপরিবর্তিত থাকে, তবে নির্দিষ্ট সময় বা প্রয়োজনে সরকার মুদ্রামান পুনঃমূল্যায়ন করে বিনিময় হার নির্ধারণ করতে পারে। অতএব, বিনিময় হার একেবারে অপরিবর্তিত থাকে না।\n",
      "contextual answer: পেগড (স্থির) ব্যবস্থায় মুদ্রার বিনিময় হার সাধারণত অপরিবর্তিত থাকে, তবে নির্দিষ্ট সময় পরপর বা প্রয়োজনীয়তা অনুসারে মুদ্রামান পুনঃমূল্যায়ন করে বিনিময় হার নির্ধারণ করার হয় বা করা যায়। অতএব, বিনিময় হার একেবারে অপরিবর্তিত থাকে না।\n"
     ]
    },
    {
     "name": "stderr",
     "output_type": "stream",
     "text": [
      "Processing rows:  57%|█████████████████████████████████▏                        | 424/740 [1:15:19<1:03:49, 12.12s/row]"
     ]
    },
    {
     "name": "stdout",
     "output_type": "stream",
     "text": [
      "Target: parametric answer: মুদ্রার চাহিদা ও যোগানের উপর ভিত্তি করে\n",
      "contextual answer: মুদ্রার চাহিদা ও যোগানের উপর ভিত্তি করে\n",
      "generated: parametric answer:পরিবর্তনশীল বিনিময় হার ব্যবস্থায় বিনিময় হার নির্ধারিত হয় বৈদেশিক মুদ্রা বাজারের চাহিদা ও যোগানের উপর ভিত্তি করে, যেখানে মুদ্রার মূল্য স্বাধীনভাবে নির্ধারিত হয়।\n",
      "contextual answer: পরিবর্তনশীল বিনিময় হার ব্যবস্থায় বিনিময় হার নির্ধারিত হয় বৈদেশিক মুদ্রা বাজারে, যেখানে মুদ্রা বিনিময় ব্যবস্থা সর্বদা চলমান থাকে।\n"
     ]
    },
    {
     "name": "stderr",
     "output_type": "stream",
     "text": [
      "Processing rows:  58%|██████████████████████████████████▌                         | 426/740 [1:15:35<57:19, 10.95s/row]"
     ]
    },
    {
     "name": "stdout",
     "output_type": "stream",
     "text": [
      "Target: parametric answer: জেমস জয়েস; স্যামুয়েল বেকেট\n",
      "contextual answer: জেমস জয়েস; স্যামুয়েল বেকেট\n",
      "generated: parametric answer:জেমস জয়েস ও স্যামুয়েল বেকেট।\n",
      "contextual answer: জেমস জয়েস ও স্যামুয়েল বেকেট।\n"
     ]
    },
    {
     "name": "stderr",
     "output_type": "stream",
     "text": [
      "Processing rows:  58%|█████████████████████████████████▍                        | 427/740 [1:15:50<1:02:33, 11.99s/row]"
     ]
    },
    {
     "name": "stdout",
     "output_type": "stream",
     "text": [
      "Target: parametric answer: ইংরেজি\n",
      "contextual answer: ইংরেজি\n",
      "generated: parametric answer:ইংরেজি ভাষায়।\n",
      "contextual answer: ইংরেজি ভাষায়।\n"
     ]
    },
    {
     "name": "stderr",
     "output_type": "stream",
     "text": [
      "Processing rows:  58%|█████████████████████████████████▌                        | 428/740 [1:16:04<1:05:26, 12.59s/row]"
     ]
    },
    {
     "name": "stdout",
     "output_type": "stream",
     "text": [
      "Target: parametric answer: দ্বিতীয় বিশ্বযুদ্ধ-পরবর্তী\n",
      "contextual answer: দ্বিতীয় বিশ্বযুদ্ধ-পরবর্তী\n",
      "generated: parametric answer:দ্বিতীয় বিশ্বযুদ্ধ-পরবর্তী সময়ে (মধ্য ২০শ শতাব্দীতে) সাহিত্যের বিভিন্ন দিকগুলিকে উত্তর-আধুনিক সাহিত্য হিসেবে চিহ্নিত করা শুরু হয়।\n",
      "contextual answer: দ্বিতীয় বিশ্বযুদ্ধ-পরবর্তী সাহিত্যের বিভিন্ন দিকগুলিকে উত্তর-আধুনিক সাহিত্য হিসেবে চিহ্নিত করা শুরু হয়।\n"
     ]
    },
    {
     "name": "stderr",
     "output_type": "stream",
     "text": [
      "Processing rows:  58%|█████████████████████████████████▌                        | 429/740 [1:16:19<1:09:33, 13.42s/row]"
     ]
    },
    {
     "name": "stdout",
     "output_type": "stream",
     "text": [
      "Target: parametric answer: বিউলফ; কিনেউলফ; দি রুইন; দি ওয়ান্ডারার; দি সী ফেয়ারার\n",
      "contextual answer: বিউলফ; কিনেউলফ; দি রুইন; দি ওয়ান্ডারার; দি সী ফেয়ারার\n",
      "generated: parametric answer:বিউলফ, কিনেউলফ, দি রুইন, দি ওয়ান্ডারার, দি সী ফেয়ারার প্রভৃতি।\n",
      "contextual answer: বিউলফ, কিনেউলফ, দি রুইন, দি ওয়ান্ডারার, দি সী ফেয়ারার প্রভৃতি।\n"
     ]
    },
    {
     "name": "stderr",
     "output_type": "stream",
     "text": [
      "Processing rows:  58%|█████████████████████████████████▋                        | 430/740 [1:16:33<1:10:10, 13.58s/row]"
     ]
    },
    {
     "name": "stdout",
     "output_type": "stream",
     "text": [
      "Target: parametric answer: জীবিত মানুষের দেহাকৃতি অঙ্কন\n",
      "contextual answer: জীবিত মানুষের দেহাকৃতি অঙ্কন\n",
      "generated: parametric answer:মানব দেহাকৃতি অঙ্কন।\n",
      "contextual answer: জীবিত মানুষের দেহাকৃতি অঙ্কন।\n"
     ]
    },
    {
     "name": "stderr",
     "output_type": "stream",
     "text": [
      "Processing rows:  58%|███████████████████████████████████                         | 432/740 [1:16:47<59:31, 11.60s/row]"
     ]
    },
    {
     "name": "stdout",
     "output_type": "stream",
     "text": [
      "Target: parametric answer:  আর্ট স্কুল, শ্রেণীকক্ষ প্রভৃতি স্থানে, যেখানে উদ্দেশ্য আকার, বয়স, বর্ণভেদে মানুষের দেহাকৃতি অঙ্কণ শেখানো, সেসকল স্থানে\n",
      "contextual answer:  আর্ট স্কুল, শ্রেণীকক্ষ প্রভৃতি স্থানে, যেখানে উদ্দেশ্য আকার, বয়স, বর্ণভেদে মানুষের দেহাকৃতি অঙ্কণ শেখানো, সেসকল স্থানে\n",
      "generated: parametric answer:আর্ট স্কুল, শ্রেণীকক্ষ প্রভৃতি স্থানে\n",
      "contextual answer: আর্ট স্কুল, শ্রেণীকক্ষ প্রভৃতি স্থানে\n"
     ]
    },
    {
     "name": "stderr",
     "output_type": "stream",
     "text": [
      "Processing rows:  59%|█████████████████████████████████▉                        | 433/740 [1:17:01<1:02:58, 12.31s/row]"
     ]
    },
    {
     "name": "stdout",
     "output_type": "stream",
     "text": [
      "Target: parametric answer: দেহাকৃতি অঙ্কনের জন্য\n",
      "contextual answer: দেহাকৃতি অঙ্কনের জন্য\n",
      "generated: parametric answer:নগ্ন মডেল ব্যবহৃত হয় কারণ এর মাধ্যমে শিল্পীরা মানুষের শারীরিক অভিব্যক্তি, অনাটোমি এবং অনুপাতগুলো সম্পর্কে গভীর বুঝতে পারেন। এটি শিল্পশাস্ত্রে একটি সমুদায় পদ্ধতি হিসেবে ব্যবহৃত হয় এবং এটি সাহিত্যিক এবং ভাবাত্মক অভিব্যক্তির জন্য গুরুত্বপূর্ণ।\n",
      "contextual answer: নগ্ন মডেল ব্যবহৃত হয় কারণ এর মাধ্যমে মানুষের দেহাকৃতি অঙ্কনের সময় বস্ত্র, অলঙ্কার এবং অন্যান্য কৃত্রিম বস্তুগুলোকে অগ্রাহ্য করা হয়। এটি শিক্ষার স্থানে একজন মানুষের দেহাকৃতি অঙ্কন শেখার জন্য একটি গুরুত্বপূর্ণ মাধ্যম। এছাড়া, বাণিজ্যিক বিজ্ঞাপনেও এ ধরনের মডেলের ব্যবহার আছে।\n"
     ]
    },
    {
     "name": "stderr",
     "output_type": "stream",
     "text": [
      "Processing rows:  59%|██████████████████████████████████                        | 434/740 [1:17:17<1:08:23, 13.41s/row]"
     ]
    },
    {
     "name": "stdout",
     "output_type": "stream",
     "text": [
      "Target: parametric answer: না\n",
      "contextual answer: না\n",
      "generated: parametric answer:ব্রাহ্মস্ফুটসিদ্ধান্ত পুস্তকে গাণিতিক চিহ্ন ব্যবহার করা হয়নি। এই পুস্তকটি পুরোটাই পদ্যে রচিত হয়েছে এবং গাণিতিক চিহ্ন ব্যবহার করা হয়নি।\n",
      "contextual answer: ব্রাহ্মস্ফুটসিদ্ধান্ত পুস্তকটি পুরোটাই পদ্যে রচিত হয়েছে যেখানে কোন গাণিতিক চিহ্ন ব্যবহার করা হয়নি।\n"
     ]
    },
    {
     "name": "stderr",
     "output_type": "stream",
     "text": [
      "Processing rows:  59%|██████████████████████████████████                        | 435/740 [1:17:31<1:09:11, 13.61s/row]"
     ]
    },
    {
     "name": "stdout",
     "output_type": "stream",
     "text": [
      "Target: parametric answer: ব্রাহ্মস্ফুটসিদ্ধান্ত\n",
      "contextual answer: ব্রাহ্মস্ফুটসিদ্ধান্ত\n",
      "generated: parametric answer:ব্রাহ্মস্ফুটসিদ্ধান্ত\n",
      "contextual answer: ব্রাহ্মস্ফুটসিদ্ধান্ত\n"
     ]
    },
    {
     "name": "stderr",
     "output_type": "stream",
     "text": [
      "Processing rows:  59%|██████████████████████████████████▏                       | 436/740 [1:17:45<1:09:35, 13.74s/row]"
     ]
    },
    {
     "name": "stdout",
     "output_type": "stream",
     "text": [
      "Target: parametric answer: গাণিতিক জ্যোতির্বিজ্ঞানের উপর লিখিত একটি পুস্তক\n",
      "contextual answer: গাণিতিক জ্যোতির্বিজ্ঞানের উপর লিখিত একটি পুস্তক\n",
      "generated: parametric answer:ব্রাহ্মস্ফুটসিদ্ধান্ত হলো ব্রহ্মগুপ্তের সেরা কাজ, যা ৬২৮ খ্রিস্টাব্দে রচিত হয়েছে। এই গাণিতিক জ্যোতির্বিজ্ঞানের বইতে শূন্যের প্রকৃত ধারণা, ধনাত্মক বা ঋণাত্মক সংখ্যার নিয়ম, বর্গমূল নির্ণয়, রৈখিক ও দ্বিঘাত সমীকরণের সমাধান, ধারার সমষ্টি নির্ণয়, ব্রহ্মগুপ্তের অভেদ ও ব্রহ্মগুপ্তের উপপাদ্য এরূপ গুরুত্বপূর্ণ গাণিতিক বিষয় আছে। এই বইটি পুরোটাই পদ্যে রচিত হয়েছে এবং এতে দ্বিঘাত সমীকরণের সমাধানের সুস্পষ্ট বর্ণনা দেওয়া হয়েছে। এছাড়াও এই বইতে ব্রহ্মগুপ্তের অভেদ ও ব্রহ্মগুপ্তের উপপাদ্য এরূপ গাণিতিক উপাদান রয়েছে।\n",
      "contextual answer: ব্রাহ্মস্ফুটসিদ্ধান্ত হলো ৬২৮ খ্রিস্টাব্দে ব্রহ্মগুপ্তের লেখা একটি গাণিতিক জ্যোতির্বিজ্ঞানের বই। এই বইতে শূন্যের ভূমিকা, ধনাত্মক বা ঋণাত্মক সংখ্যার নিয়ম, বর্গমূল নির্ণয়, রৈখিক ও দ্বিঘাত সমীকরণের সমাধান, ধারার সমষ্টি নির্ণয়, ব্রহ্মগুপ্তের অভেদ ও ব্রহ্মগুপ্তের উপপাদ্য এরূপ গুরুত্বপূর্ণ গাণিতিক বিষয় আছে। এই বইটি পুরোটাই পদ্যে রচিত হয়েছে এবং এতে দ্বিঘাত সমীকরণের সমাধানের সুস্পষ্ট বর্ণনা দেওয়া হয়েছে।\n"
     ]
    },
    {
     "name": "stderr",
     "output_type": "stream",
     "text": [
      "Processing rows:  59%|██████████████████████████████████▎                       | 437/740 [1:17:59<1:09:40, 13.80s/row]"
     ]
    },
    {
     "name": "stdout",
     "output_type": "stream",
     "text": [
      "Target: parametric answer: ব্রহ্মগুপ্ত\n",
      "contextual answer: ব্রহ্মগুপ্ত\n",
      "generated: parametric answer:ব্রহ্মগুপ্ত।\n",
      "contextual answer: ব্রহ্মগুপ্ত।\n"
     ]
    },
    {
     "name": "stderr",
     "output_type": "stream",
     "text": [
      "Processing rows:  59%|██████████████████████████████████▎                       | 438/740 [1:18:13<1:09:51, 13.88s/row]"
     ]
    },
    {
     "name": "stdout",
     "output_type": "stream",
     "text": [
      "Target: parametric answer: যে কম্পিউটার একটি রাশিকে অপর একটি রাশির সাপেক্ষে পরিমাপ করতে পারে\n",
      "contextual answer: যে কম্পিউটার একটি রাশিকে অপর একটি রাশির সাপেক্ষে পরিমাপ করতে পারে\n",
      "generated: parametric answer:এনালগ কম্পিউটার হলো এমন একটি কম্পিউটার যা নিয়মিত পরিবর্তিত রাশিকে পরিমাপ করে এবং তা ব্যবহার করে গণনা করে। এটি ব্যবহার করা হয় বৈজ্ঞানিক গবেষণায় এবং বায়ুচাপ, তাপমাত্রা প্রকারের পরিমাপের জন্য।\n",
      "contextual answer: এনালগ কম্পিউটার হলো এমন একটি কম্পিউটার যে কম্পিউটার একটি রাশিকে অপর একটি রাশির সাপেক্ষে পরিমাপ করতে পারে। এটি উষ্ণতা বা অন্যান্য পরিমাপ যা নিয়মিত পরিবর্তিত হয় তা রেকর্ড করতে পারে। মোটর গাড়ির বেগ নির্ণায়ক যন্ত্র এনালগ কম্পিউটারের একটি উদাহরণ।\n"
     ]
    },
    {
     "name": "stderr",
     "output_type": "stream",
     "text": [
      "Processing rows:  59%|███████████████████████████████████▋                        | 440/740 [1:18:27<59:03, 11.81s/row]"
     ]
    },
    {
     "name": "stdout",
     "output_type": "stream",
     "text": [
      "Target: parametric answer: দুই\n",
      "contextual answer: দুই\n",
      "generated: parametric answer:ডিজিটাল কম্পিউটার দুই ধরনের বৈদ্যুতিক ভোল্টেজ দ্বারা সকল কিছু প্রকাশ করে, যেমন ১ এবং ০।\n",
      "contextual answer: ডিজিটাল কম্পিউটার দুই ধরনের বৈদ্যুতিক ভোল্টেজ দ্বারা সকল কিছু প্রকাশ করা হয়।\n"
     ]
    },
    {
     "name": "stderr",
     "output_type": "stream",
     "text": [
      "Processing rows:  60%|██████████████████████████████████▌                       | 441/740 [1:18:41<1:02:07, 12.47s/row]"
     ]
    },
    {
     "name": "stdout",
     "output_type": "stream",
     "text": [
      "Target: parametric answer: এমন একটি কম্পিউটার যা এনালগ ও ডিজিটাল কম্পিউটারের সর্বোত্তম বৈশিষ্ট্যগুলোর সমন্বয়ে গঠিত\n",
      "contextual answer: এমন একটি কম্পিউটার যা এনালগ ও ডিজিটাল কম্পিউটারের সর্বোত্তম বৈশিষ্ট্যগুলোর সমন্বয়ে গঠিত\n",
      "generated: parametric answer:হাইব্রিড কম্পিউটার হলো এনালগ এবং ডিজিটাল কম্পিউটারের সমন্বয়ে গঠিত এক種 কম্পিউটার। এটি বৈজ্ঞানিক গবেষণা, পরিস্থিতি বিজ্ঞান, এবং অন্যান্য বিশেষ অ্যাপ্লিকেশনে ব্যবহার করা হয়। হাইব্রিড কম্পিউটার অ্যানালগ পদ্ধতিতে ডেটা সংগ্রহ করে এবং ডিজিটাল পদ্ধতিতে গণনা করে, যা দুই ধরনের সুবিধার সমন্বয়ে সমস্যাগুলোকে সমাধান করতে সাহায্য করে।\n",
      "contextual answer: হাইব্রিড কম্পিউটার হলো এমন একটি কম্পিউটার যা এনালগ ও ডিজিটাল কম্পিউটারের সর্বোত্তম বৈশিষ্ট্যগুলোর সমন্বয়ে গঠিত। এটি বৈজ্ঞানিক গবেষণায় ব্যবহার করা হয়। সাধারণত হাইব্রিড কম্পিউটারে তথ্য সংগ্রহ করা হয় অ্যানালগ পদ্ধতিতে এবং গণনা করা হয় ডিজিটাল পদ্ধতিতে। যেমন আবহাওয়া দপ্তরে ব্যবহৃত হাইব্রিড কম্পিউটার অ্যানালগ পদ্ধতিতে বায়ুচাপ,তাপ ইত্যাদি পরিমাপ করে ডিজিটাল পদ্ধতিতে গণনা করে আবহাওয়ার পূর্বাভাস দিয়ে থাকে।\n"
     ]
    },
    {
     "name": "stderr",
     "output_type": "stream",
     "text": [
      "Processing rows:  60%|███████████████████████████████████▉                        | 443/740 [1:18:55<53:32, 10.82s/row]"
     ]
    },
    {
     "name": "stdout",
     "output_type": "stream",
     "text": [
      "Target: parametric answer: বৈজ্ঞানিক গবেষণায়\n",
      "contextual answer: বৈজ্ঞানিক গবেষণায়\n",
      "generated: parametric answer:হাইব্রিড কম্পিউটার বৈজ্ঞানিক গবেষণা, মেডিকেল ইমেজিং (যেমন MRI), এবং নির্মাণ এবং নকশাকার্যে ব্যবহার করা হয়। এগুলো সাধারণত ব্যবহার করা হয় যেখানে উচ্চ স্তরের সংগ্রহ এবং গণনা প্রয়োজন।\n",
      "contextual answer: হাইব্রিড কম্পিউটার বৈজ্ঞানিক গবেষণায় ব্যবহার করা হয়। যেমন আবহাওয়া দপ্তরে ব্যবহৃত হাইব্রিড কম্পিউটার অ্যানালগ পদ্ধতিতে বায়ুচাপ, তাপ ইত্যাদি পরিমাপ করে ডিজিটাল পদ্ধতিতে গণনা করে আবহাওয়ার পূর্বাভাস দিয়ে থাকে।\n"
     ]
    },
    {
     "name": "stderr",
     "output_type": "stream",
     "text": [
      "Processing rows:  60%|████████████████████████████████████                        | 444/740 [1:19:09<57:59, 11.76s/row]"
     ]
    },
    {
     "name": "stdout",
     "output_type": "stream",
     "text": [
      "Target: parametric answer: না\n",
      "contextual answer: না\n",
      "generated: parametric answer:হ্যাঁ।\n",
      "contextual answer: হ্যাঁ।\n"
     ]
    },
    {
     "name": "stderr",
     "output_type": "stream",
     "text": [
      "Processing rows:  60%|██████████████████████████████████▉                       | 445/740 [1:19:23<1:01:01, 12.41s/row]"
     ]
    },
    {
     "name": "stdout",
     "output_type": "stream",
     "text": [
      "Target: parametric answer: হ্যারল্ড ল্যাসওয়েল; চার্লস এডওয়ার্ড মেরিয়ামের\n",
      "contextual answer: হ্যারল্ড ল্যাসওয়েল; চার্লস এডওয়ার্ড মেরিয়ামের\n",
      "generated: parametric answer:হ্যারল্ড ল্যাসওয়েল ও চার্লস এডওয়ার্ড মেরিয়াম।\n",
      "contextual answer: হ্যারল্ড ল্যাসওয়েল ও চার্লস এডওয়ার্ড মেরিয়াম।\n"
     ]
    },
    {
     "name": "stderr",
     "output_type": "stream",
     "text": [
      "Processing rows:  60%|██████████████████████████████████▉                       | 446/740 [1:19:38<1:04:56, 13.25s/row]"
     ]
    },
    {
     "name": "stdout",
     "output_type": "stream",
     "text": [
      "Target: parametric answer: লোভনীয় অফার দিয়ে ক্রেতা টানার কৌশলের কারণে\n",
      "contextual answer: লোভনীয় অফার দিয়ে ক্রেতা টানার কৌশলের কারণে\n",
      "generated: parametric answer:ইভ্যালি সমালোচিত হয়েছে কারণ তারা অত্যন্ত লোভনীয় অফার দিয়ে গ্রাহকদের আকর্ষণ করেছিল, পণ্য সরবরাহে অনুপলব্ধি হয়েছিল, ক্যাশব্যাক ফেরত পাওয়া কঠিন হয়েছিল, এবং গ্রাহকদের অভিযোগ জমা হয়েছিল। এছাড়াও, ইভ্যালির ব্যবসায়িক কৌশল পঞ্জি স্কিমের সাথে তুলনা করা হয়েছে, যা গ্রাহকদের মূলধন নষ্ট করতে পারে।\n",
      "contextual answer: ইভ্যালি সমালোচিত হয়েছে কারণ তারা ১০০%, ১৫০% ক্যাশব্যাকের মতো অত্যন্ত লোভনীয় অফার দিয়েছিল, পণ্য সরবরাহের প্রতিশ্রুতি নিয়ে মাসের পর মাস পণ্য সরবরাহ করেনি, গ্রাহকরা তাদের টাকা ফেরত পাননি, এবং জাতীয় ভোক্তা অধিকার সংরক্ষণ অধিদপ্তরে ইভ্যালির বিরুদ্ধে সহস্রাধিক অভিযোগ জমা পড়েছিল। ইভ্যালি পরিচালিত বাংলা চলচ্চিত্র মিশন এক্সট্রিম এবং মিশন এক্সট্রিম-২ এর পৃষ্ঠপোষকতাও করেছিল। ইভ্যালি বিজ্ঞাপনে ও ব্র্যান্ড চিত্র তৈরিতে বিপুল পরিমাণ অর্থ খরচ করেছিল, এবং নতুন গ্রাহকদের অর্থ দিয়ে পুরোনো গ্রাহকদের লোভনীয় অফার সম্পন্ন করায় অনেকে একে পঞ্জি স্কিমের সাথে তুলনা করেছিল।\n"
     ]
    },
    {
     "name": "stderr",
     "output_type": "stream",
     "text": [
      "Processing rows:  61%|████████████████████████████████████▍                       | 449/740 [1:19:58<54:34, 11.25s/row]"
     ]
    },
    {
     "name": "stdout",
     "output_type": "stream",
     "text": [
      "Target: parametric answer: ইংরেজি ভাষায়\n",
      "contextual answer: ইংরেজি ভাষায়\n",
      "generated: parametric answer:বাংলা ভাষায়।\n",
      "contextual answer: ইংরেজি ভাষায়।\n"
     ]
    },
    {
     "name": "stderr",
     "output_type": "stream",
     "text": [
      "Processing rows:  61%|████████████████████████████████████▍                       | 450/740 [1:20:12<58:19, 12.07s/row]"
     ]
    },
    {
     "name": "stdout",
     "output_type": "stream",
     "text": [
      "Target: parametric answer: \"সাইক্লোন\" (ঘূর্ণিঝড়); আর্থকুয়েক (ভূমিকম্প)\n",
      "contextual answer: \"সাইক্লোন\" (ঘূর্ণিঝড়); আর্থকুয়েক (ভূমিকম্প)\n",
      "generated: parametric answer:ইভ্যালি গ্রাহকদের ক্যাশব্যাক অফার দেয় \"সাইক্লোন\" এবং \"আর্থকুয়েক\" নামে।\n",
      "contextual answer: ইভ্যালি গ্রাহকদের ক্যাশব্যাক অফার দেয় \"সাইক্লোন\" এবং \"আর্থকুয়েক\" নামে।\n"
     ]
    },
    {
     "name": "stderr",
     "output_type": "stream",
     "text": [
      "Processing rows:  61%|███████████████████████████████████▎                      | 451/740 [1:20:26<1:00:52, 12.64s/row]"
     ]
    },
    {
     "name": "stdout",
     "output_type": "stream",
     "text": [
      "Target: parametric answer: নতুন গ্রাহকদের অর্থ দিয়ে পুরোনো গ্রাহকদের লোভনীয় অফার সম্পন্ন করায়\n",
      "contextual answer: নতুন গ্রাহকদের অর্থ দিয়ে পুরোনো গ্রাহকদের লোভনীয় অফার সম্পন্ন করায়\n",
      "generated: parametric answer:ইভ্যালিকে পঞ্জি স্কিমের সাথে তুলনা করা হয় কারণ এটি একটি অস্থায়ী আর্থিক মডেল ব্যবহার করে যেখানে নতুন গ্রাহকদের অর্থ দিয়ে পুরোনো গ্রাহকদের অভিশাপ পূরণ করা হয়, এবং এটি প্রায় সমস্ত ক্ষেত্রে প্রভাবশালী হতে পারে না এবং অবশ্যই পতন হবে।\n",
      "contextual answer: ইভ্যালিকে পঞ্জি স্কিমের সাথে তুলনা করা হয় কারণ এটি নতুন গ্রাহকদের অর্থ দিয়ে পুরোনো গ্রাহকদের লোভনীয় অফার সম্পন্ন করে।\n"
     ]
    },
    {
     "name": "stderr",
     "output_type": "stream",
     "text": [
      "Processing rows:  61%|███████████████████████████████████▍                      | 452/740 [1:20:43<1:07:22, 14.04s/row]"
     ]
    },
    {
     "name": "stdout",
     "output_type": "stream",
     "text": [
      "Target: parametric answer: একজন প্রাঙ্কস্টার; জাগলার; সেফক্রাকার; শখের চিত্রশিল্পী; বঙ্গোবাদক\n",
      "contextual answer: একজন প্রাঙ্কস্টার; জাগলার; সেফক্রাকার; শখের চিত্রশিল্পী; বঙ্গোবাদক\n",
      "generated: parametric answer:ফাইনম্যান ছিলেন একজন পদার্থবিজ্ঞানী, প্রাঙ্কস্টার, জাগলার, সেফক্রাকার, চিত্রশিল্পী ও বঙ্গোবাদক। তিনি ছিলেন মুক্ত চিন্তার অধিকারী একজন সুরসিক ব্যক্তি এবং কোভালেন্স ইনস্টিটিউটের প্রাঙ্কস্টার হিসেবে পরিচিত।\n",
      "contextual answer: ফাইনম্যান ছিলেন একজন পদার্থবিজ্ঞানী, প্রাঙ্কস্টার, জাগলার, সেফক্রাকার, শখের চিত্রশিল্পী ও বঙ্গোবাদক। তিনি ছিলেন মুক্ত চিন্তার অধিকারী একজন সুরসিক ব্যক্তি।\n"
     ]
    },
    {
     "name": "stderr",
     "output_type": "stream",
     "text": [
      "Processing rows:  61%|████████████████████████████████████▊                       | 454/740 [1:20:57<56:46, 11.91s/row]"
     ]
    },
    {
     "name": "stdout",
     "output_type": "stream",
     "text": [
      "Target: parametric answer: পদার্থবিজ্ঞান; জীববিজ্ঞান; চিত্রকলা; মায়ান স্ক্রিপ্ট; সেফক্রাকিং\n",
      "contextual answer: পদার্থবিজ্ঞান; জীববিজ্ঞান; চিত্রকলা; মায়ান স্ক্রিপ্ট; সেফক্রাকিং\n",
      "generated: parametric answer:ফাইনম্যানের আগ্রহ ছিল পদার্থবিজ্ঞান (বিশেষত কোয়ান্টাম পদার্থবিজ্ঞান), জীববিজ্ঞান, চিত্রকলা, মায়ান স্ক্রিপ্ট, সেফক্রাকিং এবং বিশ্বাস্ত বিজ্ঞানীদের সাথে সম্পর্ক।\n",
      "contextual answer: ফাইনম্যানের আগ্রহ ছিল পদার্থবিজ্ঞান, জীববিজ্ঞান, চিত্রকলা, মায়ান স্ক্রিপ্ট এবং সেফক্রাকিং।\n"
     ]
    },
    {
     "name": "stderr",
     "output_type": "stream",
     "text": [
      "Processing rows:  61%|███████████████████████████████████▋                      | 455/740 [1:21:12<1:01:26, 12.94s/row]"
     ]
    },
    {
     "name": "stdout",
     "output_type": "stream",
     "text": [
      "Target: parametric answer: জিনবিজ্ঞানী; অণুজীববিজ্ঞানী\n",
      "contextual answer: জিনবিজ্ঞানী; অণুজীববিজ্ঞানী\n",
      "generated: parametric answer:এস্থার লিডারবার্গ ছিলেন একজন মাইক্রোবিজ্ঞানী এবং ব্যাকটেরিওলজিস্ট, যিনি ব্যাকটেরিওফাই ল্যামডা আবিষ্কার করেছিলেন এবং ব্যাকটেরিয়ার জিনিক রিকম্বিনেশনের কাজ করেছিলেন।\n",
      "contextual answer: এস্থার লিডারবার্গ ছিলেন জিনবিজ্ঞানী ও অণুজীববিজ্ঞানী।\n"
     ]
    },
    {
     "name": "stderr",
     "output_type": "stream",
     "text": [
      "Processing rows:  62%|███████████████████████████████████▋                      | 456/740 [1:21:26<1:02:40, 13.24s/row]"
     ]
    },
    {
     "name": "stdout",
     "output_type": "stream",
     "text": [
      "Target: parametric answer: এস্থার লিডারবার্গ\n",
      "contextual answer: এস্থার লিডারবার্গ\n",
      "generated: parametric answer:এস্থার লিডারবার্গ।\n",
      "contextual answer: এস্থার লিডারবার্গের বন্ধুত্ব ছিল, যিনি রেপ্লিকা প্লেটিং ও ব্যাকটেরিওফায ল্যামডা আবিষ্কার করেছিলেন।\n"
     ]
    },
    {
     "name": "stderr",
     "output_type": "stream",
     "text": [
      "Processing rows:  62%|█████████████████████████████████████▏                      | 458/740 [1:21:41<53:35, 11.40s/row]"
     ]
    },
    {
     "name": "stdout",
     "output_type": "stream",
     "text": [
      "Target: parametric answer: এদের বিরুদ্ধে রেজিস্টেন্স হওয়ার প্রবণতা অপেক্ষাকৃত কম\n",
      "contextual answer: এদের বিরুদ্ধে রেজিস্টেন্স হওয়ার প্রবণতা অপেক্ষাকৃত কম\n",
      "generated: parametric answer:রাইবোজোমে ক্রিয়াকারী অ্যান্টিবায়োটিকের সুবিধা হল এদের বিরুদ্ধে রেজিস্টেন্স হওয়ার প্রবণতা কম, কারণ বাক্তের রাইবোজোম বেশি সংখ্যায় থাকে এবং একাধারে সকল রাইবোজোমের রেজিস্টেন্স বিকাস কঠিন।\n",
      "contextual answer: রাইবোজোমে ক্রিয়াকারী অ্যান্টিবায়োটিকের সুবিধা হল এদের বিরুদ্ধে রেজিস্টেন্স হওয়ার প্রবণতা অপেক্ষাকৃত কম, কারণ রাইবোজোমীয় rRNA জিনগুলির অনেকগুলি করে অণুলিপি থাকে, তাই একটি রেজিস্ট্যান্ট হয়ে গেলেও যতক্ষণ না অধিকাংশ অণুলিপি রেজিস্টান্ট না হচ্ছে ততক্ষণ অ্যান্টিবায়োটিকের ক্রিয়া বজায় থাকে।\n"
     ]
    },
    {
     "name": "stderr",
     "output_type": "stream",
     "text": [
      "Processing rows:  62%|█████████████████████████████████████▎                      | 460/740 [1:21:59<49:49, 10.68s/row]"
     ]
    },
    {
     "name": "stdout",
     "output_type": "stream",
     "text": [
      "Target: parametric answer: টোপোয়াইসোমারেজ-২\n",
      "contextual answer: টোপোয়াইসোমারেজ-২\n",
      "generated: parametric answer:জাইরেজ (Topoisomerase II)\n",
      "contextual answer: জাইরেজ\n"
     ]
    },
    {
     "name": "stderr",
     "output_type": "stream",
     "text": [
      "Processing rows:  63%|█████████████████████████████████████▌                      | 463/740 [1:22:13<41:00,  8.88s/row]"
     ]
    },
    {
     "name": "stdout",
     "output_type": "stream",
     "text": [
      "Target: parametric answer: তৃতীয়তম\n",
      "contextual answer: তৃতীয়তম\n",
      "generated: parametric answer:রজার মুর তৃতীয়তম বন্ড হিসেবে অভিষিক্ত হয়েছিলেন।\n",
      "contextual answer: রজার মুর তৃতীয়তম বন্ড হিসেবে অভিষিক্ত হয়েছিলেন।\n"
     ]
    },
    {
     "name": "stderr",
     "output_type": "stream",
     "text": [
      "Processing rows:  63%|█████████████████████████████████████▌                      | 464/740 [1:22:27<47:56, 10.42s/row]"
     ]
    },
    {
     "name": "stdout",
     "output_type": "stream",
     "text": [
      "Target: parametric answer: টিমোথি ডাল্টন\n",
      "contextual answer: টিমোথি ডাল্টন\n",
      "generated: parametric answer:টিমোথি ডাল্টন।\n",
      "contextual answer: টিমোথি ডাল্টন।\n"
     ]
    },
    {
     "name": "stderr",
     "output_type": "stream",
     "text": [
      "Processing rows:  63%|█████████████████████████████████████▋                      | 465/740 [1:22:41<53:13, 11.61s/row]"
     ]
    },
    {
     "name": "stdout",
     "output_type": "stream",
     "text": [
      "Target: parametric answer: প্যাকেজ ম্যানেজার প্যাকম্যান\n",
      "contextual answer: প্যাকেজ ম্যানেজার প্যাকম্যান\n",
      "generated: parametric answer:প্যাকম্যান।\n",
      "contextual answer: প্যাকম্যান।\"\n"
     ]
    },
    {
     "name": "stderr",
     "output_type": "stream",
     "text": [
      "Processing rows:  64%|██████████████████████████████████████▏                     | 471/740 [1:22:55<39:34,  8.83s/row]"
     ]
    },
    {
     "name": "stdout",
     "output_type": "stream",
     "text": [
      "Target: parametric answer: রোলিং রিলিজ বা চলতি প্রকাশনা নীতি\n",
      "contextual answer: রোলিং রিলিজ বা চলতি প্রকাশনা নীতি\n",
      "generated: parametric answer:আর্চ লিনাক্স একটি রোলিং রিলিজ বা চলতি প্রকাশনা নীতি ব্যবহার করে।\n",
      "contextual answer: আর্চ লিনাক্স একটি রোলিং রিলিজ বা চলতি প্রকাশনা নীতি ব্যবহার করে।\n"
     ]
    },
    {
     "name": "stderr",
     "output_type": "stream",
     "text": [
      "Processing rows:  64%|██████████████████████████████████████▎                     | 472/740 [1:23:11<48:44, 10.91s/row]"
     ]
    },
    {
     "name": "stdout",
     "output_type": "stream",
     "text": [
      "Target: parametric answer: মার্কিন যুক্তরাষ্ট্রের\n",
      "contextual answer: মার্কিন যুক্তরাষ্ট্রের\n",
      "generated: parametric answer:মার্কিন যুক্তরাষ্ট্র।\n",
      "contextual answer: মার্কিন যুক্তরাষ্ট্র।\n"
     ]
    },
    {
     "name": "stderr",
     "output_type": "stream",
     "text": [
      "Processing rows:  64%|██████████████████████████████████████▍                     | 474/740 [1:23:25<43:08,  9.73s/row]"
     ]
    },
    {
     "name": "stdout",
     "output_type": "stream",
     "text": [
      "Target: parametric answer: জেনারেল ইলেকট্রিকে,গণিত,পদার্থবিজ্ঞানের ডিগ্রীধারী মহিলাদের জন্য চাকরির পাশাপাশি প্রকৌশল প্রশিক্ষণ;কার্টিস-রাইট ইঞ্জিনিয়ারিং প্রোগ্রামের কার্টিস-রাইট ক্যাডেটস (উদাহরণস্বরূপ, রোজেলা ফেন্টন)\n",
      "contextual answer: জেনারেল ইলেকট্রিকে,গণিত,পদার্থবিজ্ঞানের ডিগ্রীধারী মহিলাদের জন্য চাকরির পাশাপাশি প্রকৌশল প্রশিক্ষণ;কার্টিস-রাইট ইঞ্জিনিয়ারিং প্রোগ্রামের কার্টিস-রাইট ক্যাডেটস (উদাহরণস্বরূপ, রোজেলা ফেন্টন)\n",
      "generated: parametric answer:জেনারেল ইলেকট্রিকে, গণিত ও পদার্থবিজ্ঞানের ডিগ্রী, প্রকৌশল প্রশিক্ষণ, এবং কার্টিস-রাইট ইঞ্জিনিয়ারিং প্রোগ্রামের কার্টিস-রাইট ক্যাডেটস।\n",
      "contextual answer: জেনারেল ইলেকট্রিকে, গণিত ও পদার্থবিজ্ঞানের ডিগ্রী, প্রকৌশল প্রশিক্ষণ, এবং কার্টিস-রাইট ইঞ্জিনিয়ারিং প্রোগ্রামের কার্টিস-রাইট ক্যাডেটস।\n"
     ]
    },
    {
     "name": "stderr",
     "output_type": "stream",
     "text": [
      "Processing rows:  64%|██████████████████████████████████████▌                     | 475/740 [1:23:42<53:29, 12.11s/row]"
     ]
    },
    {
     "name": "stdout",
     "output_type": "stream",
     "text": [
      "Target: parametric answer: ৬০০ এরও বেশি\n",
      "contextual answer: ৬০০ এরও বেশি\n",
      "generated: parametric answer:ইউ এস অফিস অফ এডুকেশন কর্তৃক ৬০০ এরও বেশি নারী ভর্তি করে।\n",
      "contextual answer: ইউ এস অফিস অফ এডুকেশন কর্তৃক ৬০০ এরও বেশি নারী ভর্তি করে।\n"
     ]
    },
    {
     "name": "stderr",
     "output_type": "stream",
     "text": [
      "Processing rows:  64%|██████████████████████████████████████▌                     | 476/740 [1:23:56<55:42, 12.66s/row]"
     ]
    },
    {
     "name": "stdout",
     "output_type": "stream",
     "text": [
      "Target: parametric answer: প্রকৌশল পাঠ্যক্রম\n",
      "contextual answer: প্রকৌশল পাঠ্যক্রম\n",
      "generated: parametric answer:প্রকৌশল পাঠ্যক্রম।\n",
      "contextual answer: প্রকৌশল পাঠ্যক্রম।\n"
     ]
    },
    {
     "name": "stderr",
     "output_type": "stream",
     "text": [
      "Processing rows:  64%|██████████████████████████████████████▋                     | 477/740 [1:24:10<57:12, 13.05s/row]"
     ]
    },
    {
     "name": "stdout",
     "output_type": "stream",
     "text": [
      "Target: parametric answer: ৩৬৫.২৬\n",
      "contextual answer: ৩৬৫.২৬\n",
      "generated: parametric answer:৩৬৫.২৬ সৌর দিনে\n",
      "contextual answer: ৩৬৫.২৬ সৌর দিনে\n"
     ]
    },
    {
     "name": "stderr",
     "output_type": "stream",
     "text": [
      "Processing rows:  66%|███████████████████████████████████████▎                    | 485/740 [1:24:24<41:02,  9.66s/row]"
     ]
    },
    {
     "name": "stdout",
     "output_type": "stream",
     "text": [
      "Target: parametric answer: ৬৬.১/২\n",
      "contextual answer: ৬৬.১/২\n",
      "generated: parametric answer:২৩.৫ ডিগ্রি।\n",
      "contextual answer: ৬৬.১/২ ডিগ্রি।\"\n"
     ]
    },
    {
     "name": "stderr",
     "output_type": "stream",
     "text": [
      "Processing rows:  66%|███████████████████████████████████████▍                    | 486/740 [1:24:38<46:19, 10.94s/row]"
     ]
    },
    {
     "name": "stdout",
     "output_type": "stream",
     "text": [
      "Target: parametric answer: পৃথিবী নিজ অক্ষের ৬৬.১/২ ডিগ্রি কোণে হেলে রয়েছে। এর ফলে এক বিষুবীয় বছর (৩৬৫.২৪ সৌরদিন) সময়কালের মধ্যে এই বিশ্বের বুকে ঋতুপরিবর্তন ঘটে থাকে\n",
      "contextual answer: পৃথিবী নিজ অক্ষের ৬৬.১/২ ডিগ্রি কোণে হেলে রয়েছে। এর ফলে এক বিষুবীয় বছর (৩৬৫.২৪ সৌরদিন) সময়কালের মধ্যে এই বিশ্বের বুকে ঋতুপরিবর্তন ঘটে থাকে\n",
      "generated: parametric answer:পৃথিবীর অক্ষের ২৩.৫ ডিগ্রি কোণে হেলে রয়েছে। এই হেলানো কারণে সূর্যের বিক্রমের বিভিন্নতা ঘটে, যা ঋতুপরিবর্তনের কারণ হয়।\n",
      "contextual answer: পৃথিবীর অক্ষের ৬৬.১/২ ডিগ্রি কোণে হেলে রয়েছে। এর ফলে এক বিষুবীয় বছর (৩৬৫.২৪ সৌরদিন) সময়কালের মধ্যে এই বিশ্বের বুকে ঋতুপরিবর্তন ঘটে থাকে।\n"
     ]
    },
    {
     "name": "stderr",
     "output_type": "stream",
     "text": [
      "Processing rows:  66%|███████████████████████████████████████▍                    | 487/740 [1:24:52<50:16, 11.92s/row]"
     ]
    },
    {
     "name": "stdout",
     "output_type": "stream",
     "text": [
      "Target: parametric answer: ৪.৩৫\n",
      "contextual answer: ৪.৩৫\n",
      "generated: parametric answer:প্রায় ৪.৫ বিলিয়ন বছর আগে।\n",
      "contextual answer: ৪.৩৫ বিলিয়ন বছর আগে।\n"
     ]
    },
    {
     "name": "stderr",
     "output_type": "stream",
     "text": [
      "Processing rows:  66%|███████████████████████████████████████▌                    | 488/740 [1:25:06<52:47, 12.57s/row]"
     ]
    },
    {
     "name": "stdout",
     "output_type": "stream",
     "text": [
      "Target: parametric answer: ‘পেরিপ্লাস অব দ্য এরিথ্রিয়ান সি’\n",
      "contextual answer: ‘পেরিপ্লাস অব দ্য এরিথ্রিয়ান সি’\n",
      "generated: parametric answer:পেরিপ্লাস অব দ্য এরিথ্রিয়ান সি।\n",
      "contextual answer: পেরিপ্লাস অব দ্য এরিথ্রিয়ান সি।\"\n"
     ]
    },
    {
     "name": "stderr",
     "output_type": "stream",
     "text": [
      "Processing rows:  66%|███████████████████████████████████████▋                    | 489/740 [1:25:20<54:17, 12.98s/row]"
     ]
    },
    {
     "name": "stdout",
     "output_type": "stream",
     "text": [
      "Target: parametric answer: ৪০ হাত লম্বা ও ২ হাত চাওড়া\n",
      "contextual answer: ৪০ হাত লম্বা ও ২ হাত চাওড়া\n",
      "generated: parametric answer:সিলসিলাত উত তাওয়ারীখে রুমি রাজ্যের বিবরণে এক টুকরো কাপড় হলো সূক্ষ্ম ও মিহি মসলিন, যা গেনজেটিক বা গঙ্গাজলী নামে পরিচিত ছিল।\n",
      "contextual answer: সিলসিলাত উত তাওয়ারীখে রুমি রাজ্যের বিবরণে এক টুকরো কাপড় হলো ৪০ হাত লম্বা ও ২ হাত চাওড়া। এই কাপড় আংটির ভিতর দিয়ে অনায়াসে নাড়াচড়া করা যেতো।\n"
     ]
    },
    {
     "name": "stderr",
     "output_type": "stream",
     "text": [
      "Processing rows:  66%|███████████████████████████████████████▋                    | 490/740 [1:25:37<58:54, 14.14s/row]"
     ]
    },
    {
     "name": "stdout",
     "output_type": "stream",
     "text": [
      "Target: parametric answer: কিতাবুর রেহালায়'\n",
      "contextual answer: কিতাবুর রেহালায়'\n",
      "generated: parametric answer:তুরাতাল-ব-ইন-নাস।\n",
      "contextual answer: কিতাবুর রেহালায়।\n"
     ]
    },
    {
     "name": "stderr",
     "output_type": "stream",
     "text": [
      "Processing rows:  66%|███████████████████████████████████████▊                    | 491/740 [1:25:51<58:21, 14.06s/row]"
     ]
    },
    {
     "name": "stdout",
     "output_type": "stream",
     "text": [
      "Target: parametric answer: ১৭৫৭\n",
      "contextual answer: ১৭৫৭\n",
      "generated: parametric answer:মসলিন বাংলার বুক থেকে হারিয়ে যেতে শুরু করে ১৭৫৭ সালের পলাশির যুদ্ধের পর।\n",
      "contextual answer: ১৭৫৭ সালে পলাশির যুদ্ধে ইংরেজরা ক্ষমতাকে তাদের হাতে কুক্ষিগত করে ফেললে আস্তে আস্তে মসলিন বাংলার বুক থেকে হারিয়ে যেতে শুরু করে।\n"
     ]
    },
    {
     "name": "stderr",
     "output_type": "stream",
     "text": [
      "Processing rows:  66%|███████████████████████████████████████▉                    | 492/740 [1:26:05<57:59, 14.03s/row]"
     ]
    },
    {
     "name": "stdout",
     "output_type": "stream",
     "text": [
      "Target: parametric answer: ২০০২ সালের এপ্রিলে\n",
      "contextual answer: ২০০২ সালের এপ্রিলে\n",
      "generated: parametric answer:২০০৩-২০০৪ সালে।\n",
      "contextual answer: ২০০২ সালের এপ্রিলে।\n"
     ]
    },
    {
     "name": "stderr",
     "output_type": "stream",
     "text": [
      "Processing rows:  67%|████████████████████████████████████████                    | 494/740 [1:26:19<48:53, 11.92s/row]"
     ]
    },
    {
     "name": "stdout",
     "output_type": "stream",
     "text": [
      "Target: parametric answer: পাওয়ারপিসি-অনলি\n",
      "contextual answer: পাওয়ারপিসি-অনলি\n",
      "generated: parametric answer:পাওয়ারপিসি-অনলি সফটওয়্যার।\n",
      "contextual answer: পাওয়ারপিসি-অনলি সফটওয়্যার।\n"
     ]
    },
    {
     "name": "stderr",
     "output_type": "stream",
     "text": [
      "Processing rows:  67%|████████████████████████████████████████▏                   | 496/740 [1:26:33<42:26, 10.44s/row]"
     ]
    },
    {
     "name": "stdout",
     "output_type": "stream",
     "text": [
      "Target: parametric answer: ৭০-১৪০\n",
      "contextual answer: ৭০-১৪০\n",
      "generated: parametric answer:যুক্তরাজ্যে একজন ব্যক্তি প্রতিদিন গড়ে ৭০-১৪০ লিটার পানি ব্যবহার করে।\n",
      "contextual answer: যুক্তরাজ্যে একজন ব্যক্তি প্রতিদিন গড়ে ৭০-১৪০ লিটার পানি ব্যবহার করে।\n"
     ]
    },
    {
     "name": "stderr",
     "output_type": "stream",
     "text": [
      "Processing rows:  67%|████████████████████████████████████████▍                   | 499/740 [1:26:48<35:28,  8.83s/row]"
     ]
    },
    {
     "name": "stdout",
     "output_type": "stream",
     "text": [
      "Target: parametric answer: ০.১৬%\n",
      "contextual answer: ০.১৬%\n",
      "generated: parametric answer:প্রায় ০.১৩-০.১৪%\n",
      "contextual answer: ০.১৬%\n"
     ]
    },
    {
     "name": "stderr",
     "output_type": "stream",
     "text": [
      "Processing rows:  68%|████████████████████████████████████████▌                   | 500/740 [1:27:02<41:31, 10.38s/row]"
     ]
    },
    {
     "name": "stdout",
     "output_type": "stream",
     "text": [
      "Target: parametric answer: সায়ানোব্যাকটেরিয়া\n",
      "contextual answer: সায়ানোব্যাকটেরিয়া\n",
      "generated: parametric answer:সায়ানোব্যাকটেরিয়া।\n",
      "contextual answer: সায়ানোব্যাকটেরিয়া।\n"
     ]
    },
    {
     "name": "stderr",
     "output_type": "stream",
     "text": [
      "Processing rows:  68%|████████████████████████████████████████▌                   | 501/740 [1:27:16<45:37, 11.45s/row]"
     ]
    },
    {
     "name": "stdout",
     "output_type": "stream",
     "text": [
      "Target: parametric answer: নিম্ন অক্ষাংশ বিশিষ্ট\n",
      "contextual answer: নিম্ন অক্ষাংশ বিশিষ্ট\n",
      "generated: parametric answer:মঙ্গলের নিম্ন অক্ষাংশ বিশিষ্ট এলাকার তাপমাত্রা অ্যান্টার্কটিকার তাপমাত্রার সমান।\n",
      "contextual answer: মঙ্গলের নিম্ন অক্ষাংশ বিশিষ্ট এলাকার তাপমাত্রা অ্যান্টার্কটিকার তাপমাত্রার সমান।\n"
     ]
    },
    {
     "name": "stderr",
     "output_type": "stream",
     "text": [
      "Processing rows:  68%|████████████████████████████████████████▋                   | 502/740 [1:27:30<48:27, 12.22s/row]"
     ]
    },
    {
     "name": "stdout",
     "output_type": "stream",
     "text": [
      "Target: parametric answer: ১৯৫০এর\n",
      "contextual answer: ১৯৫০এর\n",
      "generated: parametric answer:১৯৫০এর দশকে।\n",
      "contextual answer: ১৯৫০এর দশকে।\n"
     ]
    },
    {
     "name": "stderr",
     "output_type": "stream",
     "text": [
      "Processing rows:  68%|████████████████████████████████████████▊                   | 504/740 [1:27:44<41:51, 10.64s/row]"
     ]
    },
    {
     "name": "stdout",
     "output_type": "stream",
     "text": [
      "Target: parametric answer: চিনামাটির বাসন\n",
      "contextual answer: চিনামাটির বাসন\n",
      "generated: parametric answer:মুন্নু সিরামিক প্রথম দিকে চিনামাটির বাসন তৈরি করতো।\n",
      "contextual answer: মুন্নু সিরামিক প্রথম দিকে চিনামাটির বাসন তৈরি করতো।\n"
     ]
    },
    {
     "name": "stderr",
     "output_type": "stream",
     "text": [
      "Processing rows:  68%|████████████████████████████████████████▉                   | 505/740 [1:27:59<47:12, 12.05s/row]"
     ]
    },
    {
     "name": "stdout",
     "output_type": "stream",
     "text": [
      "Target: parametric answer: ময়মনসিংহের বিজয়পুরে\n",
      "contextual answer: ময়মনসিংহের বিজয়পুরে\n",
      "generated: parametric answer:ময়মনসিংহের বিজয়পুরে।\n",
      "contextual answer: ময়মনসিংহের বিজয়পুরে।\n"
     ]
    },
    {
     "name": "stderr",
     "output_type": "stream",
     "text": [
      "Processing rows:  68%|█████████████████████████████████████████                   | 506/740 [1:28:13<49:12, 12.62s/row]"
     ]
    },
    {
     "name": "stdout",
     "output_type": "stream",
     "text": [
      "Target: parametric answer: চীন; ভারত; নিউজিল্যান্ড; জার্মানি\n",
      "contextual answer: চীন; ভারত; নিউজিল্যান্ড; জার্মানি\n",
      "generated: parametric answer:চীন, ভারত, নিউজিল্যান্ড ও জার্মানি থেকে কাঁচামাল আমদানি করে।\n",
      "contextual answer: চীন, ভারত, নিউজিল্যান্ড ও জার্মানি থেকে কাঁচামাল আমদানি করে।\n"
     ]
    },
    {
     "name": "stderr",
     "output_type": "stream",
     "text": [
      "Processing rows:  69%|█████████████████████████████████████████                   | 507/740 [1:28:27<50:34, 13.03s/row]"
     ]
    },
    {
     "name": "stdout",
     "output_type": "stream",
     "text": [
      "Target: parametric answer: ১৮১৬\n",
      "contextual answer: ১৮১৬\n",
      "generated: parametric answer:১৮১৬ সালে।\n",
      "contextual answer: ১৮১৬ সালে।\n"
     ]
    },
    {
     "name": "stderr",
     "output_type": "stream",
     "text": [
      "Processing rows:  69%|█████████████████████████████████████████▎                  | 509/740 [1:28:41<43:09, 11.21s/row]"
     ]
    },
    {
     "name": "stdout",
     "output_type": "stream",
     "text": [
      "Target: parametric answer: ফরাসি বিরোধী হিসেবে\n",
      "contextual answer: ফরাসি বিরোধী হিসেবে\n",
      "generated: parametric answer:ফ্রিডরিখের চিত্রকলা ব্যক্তিকেন্দ্রিক এবং স্বতন্ত্র দৃষ্টিকোণের সাথে উপলব্ধি হত, যা ফরাসি নেক্লাসিকাল শৈলীর বিরোধে স্বাদেশিক সম্পদ হিসেবে পরিচিত ছিল। তাঁর কার্যকলাপ জার্মান রোমান্টিক শৈলীর অন্তর্গত ছিল, যা প্রকৃতি এবং আত্মাবিশ্বাসের ব্যক্তিগত অভিজ্ঞতাকে প্রকাশ করত।\n",
      "contextual answer: ফ্রিডরিখের চিত্রকলা খুবই ব্যক্তিকেন্দ্রিকরূপে উপলব্ধি হয়েছিল, তাঁর দৃষ্টিকোণ এতই স্বতন্ত্র ছিল যে ছাত্রদের মাঝে তা কার্যকর উদাহরণ হিসেবে সরবরাহ করা যেত না। তাঁর চিত্রকলা মোটের উপর স্বাদেশিকরূপে এবং সুস্পষ্টভাবেই ফরাসি বিরোধী হিসেবে দেখা হত।\n"
     ]
    },
    {
     "name": "stderr",
     "output_type": "stream",
     "text": [
      "Processing rows:  69%|█████████████████████████████████████████▎                  | 510/740 [1:28:59<50:07, 13.08s/row]"
     ]
    },
    {
     "name": "stdout",
     "output_type": "stream",
     "text": [
      "Target: parametric answer: ড্রেসডেন ভিত্তিক বন্ধু গ্রাফ ভিৎসজিয়াম ভন ইক্সটেট এর সহায়তায়\n",
      "contextual answer: ড্রেসডেন ভিত্তিক বন্ধু গ্রাফ ভিৎসজিয়াম ভন ইক্সটেট এর সহায়তায়\n",
      "generated: parametric answer:ফ্রিডরিখ নাগরিকত্ব অর্জন করেন প্রথমে আবেদন করে এবং তার বন্ধুর সহায়তায় এবং অর্থ প্রদানের মাধ্যমে।\n",
      "contextual answer: ফ্রিডরিখ ১৮১৬ সালে স্যাক্সন নাগরিকত্বের জন্য আবেদন করেন এবং তার বন্ধু গ্রাফ ভিৎসজিয়াম ভন ইক্সটেটের সহায়তায় ১৮১৮ সালে ১৫০ থ্যালারের বিনিময়ে স্যাক্সন অ্যাকাডেমির বাৎসরিক সদস্যপদ লাভ করেন।\n"
     ]
    },
    {
     "name": "stderr",
     "output_type": "stream",
     "text": [
      "Processing rows:  69%|█████████████████████████████████████████▍                  | 511/740 [1:29:16<54:24, 14.26s/row]"
     ]
    },
    {
     "name": "stdout",
     "output_type": "stream",
     "text": [
      "Target: parametric answer: ১৫০ থ্যালার\n",
      "contextual answer: ১৫০ থ্যালার\n",
      "generated: parametric answer:১৫০ থ্যালারের বিনিময়ে।\n",
      "contextual answer: ১৫০ থ্যালারের বিনিময়ে।\n"
     ]
    },
    {
     "name": "stderr",
     "output_type": "stream",
     "text": [
      "Processing rows:  69%|█████████████████████████████████████████▌                  | 512/740 [1:29:30<53:49, 14.17s/row]"
     ]
    },
    {
     "name": "stdout",
     "output_type": "stream",
     "text": [
      "Target: parametric answer: পালামনইডা\n",
      "contextual answer: পালামনইডা\n",
      "generated: parametric answer:গোদা চিংড়ি 'পালামনইডা' পরিবারের অন্তর্ভুক্ত।\n",
      "contextual answer: গোদা চিংড়ি 'পালামনইডা' পরিবারের অন্তর্ভুক্ত।\n"
     ]
    },
    {
     "name": "stderr",
     "output_type": "stream",
     "text": [
      "Processing rows:  69%|█████████████████████████████████████████▋                  | 514/740 [1:29:44<45:13, 12.00s/row]"
     ]
    },
    {
     "name": "stdout",
     "output_type": "stream",
     "text": [
      "Target: parametric answer: বাগেরহাট; বরিশাল; পটুয়াখালী; সুন্দরবন\n",
      "contextual answer: বাগেরহাট; বরিশাল; পটুয়াখালী; সুন্দরবন\n",
      "generated: parametric answer:বাগেরহাট, বরিশাল, পটুয়াখালী এবং সুন্দরবনে।\n",
      "contextual answer: বাগেরহাট, বরিশাল, পটুয়াখালী এবং সুন্দরবনে।\n"
     ]
    },
    {
     "name": "stderr",
     "output_type": "stream",
     "text": [
      "Processing rows:  70%|█████████████████████████████████████████▊                  | 516/740 [1:29:58<39:16, 10.52s/row]"
     ]
    },
    {
     "name": "stdout",
     "output_type": "stream",
     "text": [
      "Target: parametric answer: রাতে\n",
      "contextual answer: রাতে\n",
      "generated: parametric answer:রাতে বেশি সক্রিয় হয়।\n",
      "contextual answer: রাতে বেশি সক্রিয় থাকে।\"\n"
     ]
    },
    {
     "name": "stderr",
     "output_type": "stream",
     "text": [
      "Processing rows:  70%|█████████████████████████████████████████▉                  | 517/740 [1:30:12<42:55, 11.55s/row]"
     ]
    },
    {
     "name": "stdout",
     "output_type": "stream",
     "text": [
      "Target: parametric answer: রবার্ট এইচ\n",
      "contextual answer: রবার্ট এইচ\n",
      "generated: parametric answer:হেরমান অব্যর্থ এবং রবার্ট এইচ. গডার্ড উভয়েই আধুনিক রকেটের পিতা হিসেবে বিবেচিত হন।\n",
      "contextual answer: হেরমান অব্যর্থ।\n"
     ]
    },
    {
     "name": "stderr",
     "output_type": "stream",
     "text": [
      "Processing rows:  70%|██████████████████████████████████████████                  | 519/740 [1:30:28<38:37, 10.49s/row]"
     ]
    },
    {
     "name": "stdout",
     "output_type": "stream",
     "text": [
      "Target: parametric answer: অবলোহিত; অতিবেগুনী আলো\n",
      "contextual answer: অবলোহিত; অতিবেগুনী আলো\n",
      "generated: parametric answer:অবলোহিত (ইনfrared) এবং অতিবেগুনী (ইউltraviolet) আলোক রশ্মি।\n",
      "contextual answer: অবলোহিত এবং অতিবেগুনী আলোক রশ্মি।\n"
     ]
    },
    {
     "name": "stderr",
     "output_type": "stream",
     "text": [
      "Processing rows:  70%|██████████████████████████████████████████▏                 | 520/740 [1:30:43<43:57, 11.99s/row]"
     ]
    },
    {
     "name": "stdout",
     "output_type": "stream",
     "text": [
      "Target: parametric answer: পারস্য\n",
      "contextual answer: পারস্য\n",
      "generated: parametric answer:পারস্য।\n",
      "contextual answer: পারস্য।\"\n"
     ]
    },
    {
     "name": "stderr",
     "output_type": "stream",
     "text": [
      "Processing rows:  71%|██████████████████████████████████████████▍                 | 524/740 [1:30:57<33:57,  9.44s/row]"
     ]
    },
    {
     "name": "stdout",
     "output_type": "stream",
     "text": [
      "Target: parametric answer: তেলবাহী জাহাজের নিয়মিত চলাচলে প্রায়শঃই তেল নির্গত হয়ে এর জলরাশিকে বিষাক্ত করে তুলছে\n",
      "contextual answer: তেলবাহী জাহাজের নিয়মিত চলাচলে প্রায়শঃই তেল নির্গত হয়ে এর জলরাশিকে বিষাক্ত করে তুলছে\n",
      "generated: parametric answer:পারস্য উপসাগরের জলরাশি তেলবাহী জাহাজের তেল নির্গত, কৃত্রিম তেল খনি থেকে তেল প্রবাহ, এবং শহুরে বাসস্থালের অপরিচ্ছন্ন সলিল বহিষ্কারের কারণে বিষাক্ত হচ্ছে।\n",
      "contextual answer: তেলবাহী জাহাজের নিয়মিত চলাচলে প্রায়শঃই তেল নির্গত হয়ে এর জলরাশিকে বিষাক্ত করে তুলছে।\n"
     ]
    },
    {
     "name": "stderr",
     "output_type": "stream",
     "text": [
      "Processing rows:  71%|██████████████████████████████████████████▌                 | 525/740 [1:31:14<42:06, 11.75s/row]"
     ]
    },
    {
     "name": "stdout",
     "output_type": "stream",
     "text": [
      "Target: parametric answer: বিশ্ব রাজনৈতিক প্রেক্ষাপটে\n",
      "contextual answer: বিশ্ব রাজনৈতিক প্রেক্ষাপটে\n",
      "generated: parametric answer:বিশ্ব রাজনৈতিক প্রেক্ষাপটে\n",
      "contextual answer: বিশ্ব রাজনৈতিক প্রেক্ষাপটে\n"
     ]
    },
    {
     "name": "stderr",
     "output_type": "stream",
     "text": [
      "Processing rows:  71%|██████████████████████████████████████████▋                 | 526/740 [1:31:28<44:17, 12.42s/row]"
     ]
    },
    {
     "name": "stdout",
     "output_type": "stream",
     "text": [
      "Target: parametric answer: পারস্য উপসাগর\n",
      "contextual answer: পারস্য উপসাগর\n",
      "generated: parametric answer:পারস্য উপসাগর ওমান উপসাগরের বর্ধিত অংশ নয়; এটি একটি ভিন্ন সমুদ্রাঞ্চল।\n",
      "contextual answer: পারস্য উপসাগর।\n"
     ]
    },
    {
     "name": "stderr",
     "output_type": "stream",
     "text": [
      "Processing rows:  71%|██████████████████████████████████████████▋                 | 527/740 [1:31:42<45:37, 12.85s/row]"
     ]
    },
    {
     "name": "stdout",
     "output_type": "stream",
     "text": [
      "Target: parametric answer: কাতার\n",
      "contextual answer: কাতার\n",
      "generated: parametric answer:কাতার।\n",
      "contextual answer: কাতার।\n"
     ]
    },
    {
     "name": "stderr",
     "output_type": "stream",
     "text": [
      "Processing rows:  71%|██████████████████████████████████████████▉                 | 529/740 [1:31:56<38:59, 11.09s/row]"
     ]
    },
    {
     "name": "stdout",
     "output_type": "stream",
     "text": [
      "Target: parametric answer: দোহার ওয়াদি আল সাইলের রেডিও এবং টেলিভিশন কর্পোরেশন কমপ্লেক্সে\n",
      "contextual answer: দোহার ওয়াদি আল সাইলের রেডিও এবং টেলিভিশন কর্পোরেশন কমপ্লেক্সে\n",
      "generated: parametric answer:দোহায়, কাতারে।\n",
      "contextual answer: দোহার ওয়াদি আল সাইল রেডিও এবং টেলিভিশন কর্পোরেশন কমপ্লেক্সে।\n"
     ]
    },
    {
     "name": "stderr",
     "output_type": "stream",
     "text": [
      "Processing rows:  72%|██████████████████████████████████████████▉                 | 530/740 [1:32:12<44:08, 12.61s/row]"
     ]
    },
    {
     "name": "stdout",
     "output_type": "stream",
     "text": [
      "Target: parametric answer: আরবি\n",
      "contextual answer: আরবি\n",
      "generated: parametric answer:আরবি\n",
      "contextual answer: আরবি\n"
     ]
    },
    {
     "name": "stderr",
     "output_type": "stream",
     "text": [
      "Processing rows:  72%|███████████████████████████████████████████                 | 531/740 [1:32:27<45:39, 13.11s/row]"
     ]
    },
    {
     "name": "stdout",
     "output_type": "stream",
     "text": [
      "Target: parametric answer: শেখ হামাদ বিন থামির আল থানি\n",
      "contextual answer: শেখ হামাদ বিন থামির আল থানি\n",
      "generated: parametric answer:শেখ হামাদ বিন থামির আল থানি।\n",
      "contextual answer: শেখ হামাদ বিন থামির আল থানি।\n"
     ]
    },
    {
     "name": "stderr",
     "output_type": "stream",
     "text": [
      "Processing rows:  72%|███████████████████████████████████████████▏                | 532/740 [1:32:40<46:19, 13.36s/row]"
     ]
    },
    {
     "name": "stdout",
     "output_type": "stream",
     "text": [
      "Target: parametric answer: দুই চাকাবিশিষ্ট গরু বা বলদে টানা একপ্রকার যান বিশেষ\n",
      "contextual answer: দুই চাকাবিশিষ্ট গরু বা বলদে টানা একপ্রকার যান বিশেষ\n",
      "generated: parametric answer:গরুর গাড়ি হল এক প্রকার দুই চাকাবিশিষ্ট গাড়ি, যা গরু বা বলদে টানা হয়। এটি সাধারণত কৃষিজাত দ্রব্য ও ফসল বহনের জন্য ব্যবহৃত হয়। গরুর গাড়ি হল একটি প্রাচীন যানবাহন, যা বিভিন্ন দেশে ব্যবহৃত হয়েছে এবং এখনও কিছু অঞ্চলে ব্যবহৃত হচ্ছে।\n",
      "contextual answer: গরুর গাড়ি হল দুই চাকাবিশিষ্ট গরু বা বলদে টানা একপ্রকার যান বিশেষ। এই যানে সাধারণত একটি মাত্র অক্ষের সাথে চাকা দুটি যুক্ত থাকে। সামনের দিকে একটি জোয়ালের সাথে দুটি গরু বা বলদ জুতে এই গাড়ি টানা হয়। সাধারণত চালক বসেন গাড়ির সামনের দিকে। তাঁর পিছনে বসেন যাত্রীরা। বিভিন্ন মালপত্র বহন করা হয় তারও পিছনের দিকে। বিভিন্ন কৃষিজাত দ্রব্য ও ফসল বহনের কাজে গরুর গাড়ির প্রচলন যথেষ্টই ব্যাপক। গ্রাম বাংলায় ঐতিহ্যগতভাবে গরুর গাড়ি কিছুদিন আগে পর্যন্তও যাতায়াত ও মালবহনের কাজে প্রভূত পরিমানে ব্যবহৃত হত।\n"
     ]
    },
    {
     "name": "stderr",
     "output_type": "stream",
     "text": [
      "Processing rows:  72%|███████████████████████████████████████████▎                | 534/740 [1:32:58<41:06, 11.97s/row]"
     ]
    },
    {
     "name": "stdout",
     "output_type": "stream",
     "text": [
      "Target: parametric answer: মোটরচালিত যানের আধিক্য, অপেক্ষাকৃত ধীর গতির\n",
      "contextual answer: মোটরচালিত যানের আধিক্য, অপেক্ষাকৃত ধীর গতির\n",
      "generated: parametric answer:গরুর গাড়ির ব্যবহার কমে এসেছে কারণ নানাধরনের গাড়ি এবং যানবাহনের ব্যবহার বাড়েছে, যা গতিবিধি এবং সময়ের সংকট সমাধানে সহায়তা করে।\n",
      "contextual answer: বর্তমানে গরুর গাড়ির ব্যবহার অনেক কমে এসেছে কারণ নানাধরনের মোটরচালিত যানের আধিক্যর কারণে অপেক্ষাকৃত ধীর গতির এই যানটির ব্যবহার অনেক কমে এসেছে।\n"
     ]
    },
    {
     "name": "stderr",
     "output_type": "stream",
     "text": [
      "Processing rows:  72%|███████████████████████████████████████████▍                | 535/740 [1:33:13<44:26, 13.01s/row]"
     ]
    },
    {
     "name": "stdout",
     "output_type": "stream",
     "text": [
      "Target: parametric answer: আল্পস পর্বতের উপত্যকায় একটি গুহায় গরুর গাড়ির যে ছবি পাওয়া যায়\n",
      "contextual answer: আল্পস পর্বতের উপত্যকায় একটি গুহায় গরুর গাড়ির যে ছবি পাওয়া যায়\n",
      "generated: parametric answer:গুহা চিত্র (cave paintings) ব্যবহার করে জানা যায়।\n",
      "contextual answer: ফ্রান্সের ফঁতান অঞ্চলে আল্পস পর্বতের উপত্যকায় একটি গুহায় গরুর গাড়ির ছবি পাওয়া গেছে।\n"
     ]
    },
    {
     "name": "stderr",
     "output_type": "stream",
     "text": [
      "Processing rows:  72%|███████████████████████████████████████████▍                | 536/740 [1:33:30<47:29, 13.97s/row]"
     ]
    },
    {
     "name": "stdout",
     "output_type": "stream",
     "text": [
      "Target: parametric answer: প্রায় ৯৯%\n",
      "contextual answer: প্রায় ৯৯%\n",
      "generated: parametric answer:প্রায় ৯৮%\n",
      "contextual answer: প্রায় ৯৯%\n"
     ]
    },
    {
     "name": "stderr",
     "output_type": "stream",
     "text": [
      "Processing rows:  73%|███████████████████████████████████████████▊                | 540/740 [1:33:43<36:04, 10.82s/row]"
     ]
    },
    {
     "name": "stdout",
     "output_type": "stream",
     "text": [
      "Target: parametric answer: ১৯৮৭\n",
      "contextual answer: ১৯৮৭\n",
      "generated: parametric answer:১৯৮৭\n",
      "contextual answer: ১৯৮৭\n"
     ]
    },
    {
     "name": "stderr",
     "output_type": "stream",
     "text": [
      "Processing rows:  73%|███████████████████████████████████████████▊                | 541/740 [1:33:57<38:59, 11.76s/row]"
     ]
    },
    {
     "name": "stdout",
     "output_type": "stream",
     "text": [
      "Target: parametric answer: ৪১ ভাষা\n",
      "contextual answer: ৪১ ভাষা\n",
      "generated: parametric answer:৪৪ ভাষা\n",
      "contextual answer: ৪১ ভাষা\n"
     ]
    },
    {
     "name": "stderr",
     "output_type": "stream",
     "text": [
      "Processing rows:  73%|███████████████████████████████████████████▉                | 542/740 [1:34:11<41:05, 12.45s/row]"
     ]
    },
    {
     "name": "stdout",
     "output_type": "stream",
     "text": [
      "Target: parametric answer: চাঁটগাঁইয়া ভাষা ও সিলেটি ভাষা (যদি স্বতন্ত্র ভাষা ধরা হয়); চাকমা ভাষা; মারমা ভাষা; রাখাইন ভাষা; বর্মী ভাষা; ওড়াওঁ ভাষা; ককবরক ভাষা (ত্রিপুরাদের ভাষা); মৈতৈ ভাষা; বিহারি ভাষা; হাজং ভাষা; ম্রো ভাষা; বিষ্ণুপ্রিয়া মণিপুরী ভাষা; কোল ভাষা; তঞ্চৈঙ্গা ভাষা; খাসি ভাষা; কুরুক্স ভাষা; রোহিঙ্গা ভাষা; মিজো ভাষা; আটং ভাষা; পাংখো ভাষা\n",
      "contextual answer: চাঁটগাঁইয়া ভাষা ও সিলেটি ভাষা (যদি স্বতন্ত্র ভাষা ধরা হয়); চাকমা ভাষা; মারমা ভাষা; রাখাইন ভাষা; বর্মী ভাষা; ওড়াওঁ ভাষা; ককবরক ভাষা (ত্রিপুরাদের ভাষা); মৈতৈ ভাষা; বিহারি ভাষা; হাজং ভাষা; ম্রো ভাষা; বিষ্ণুপ্রিয়া মণিপুরী ভাষা; কোল ভাষা; তঞ্চৈঙ্গা ভাষা; খাসি ভাষা; কুরুক্স ভাষা; রোহিঙ্গা ভাষা; মিজো ভাষা; আটং ভাষা; পাংখো ভাষা\n",
      "generated: parametric answer:চাকমা, মারমা, ককবরক (ত্রিপুরা), মৈতৈ, হাজং, ম্রো, বিষ্ণুপ্রিয়া মণিপুরী, খাসি, কুরুক্স, রোহিঙ্গা, মিজো, আটং, পাংখো ভাষাগুলো বাংলাদেশে প্রচলিত। বাংলাদেশে প্রায় ৪০টি ভাষা প্রচলিত আছে।\n",
      "contextual answer: চাঁটগাঁইয়া ভাষা, সিলেটি ভাষা, চাকমা ভাষা, মারমা ভাষা, রাখাইন ভাষা, বর্মী ভাষা, ওড়াওঁ ভাষা, ককবরক ভাষা, মৈতৈ ভাষা, বিহারি ভাষা, হাজং ভাষা, ম্রো ভাষা, বিষ্ণুপ্রিয়া মণিপুরী ভাষা, কোল ভাষা, তঞ্চৈঙ্গা ভাষা, খাসি ভাষা, কুরুক্স ভাষা, রোহিঙ্গা ভাষা, মিজো ভাষা, আটং ভাষা, পাংখো ভাষা।\n"
     ]
    },
    {
     "name": "stderr",
     "output_type": "stream",
     "text": [
      "Processing rows:  73%|████████████████████████████████████████████                | 543/740 [1:34:25<42:22, 12.91s/row]"
     ]
    },
    {
     "name": "stdout",
     "output_type": "stream",
     "text": [
      "Target: parametric answer: ইসলামী শিক্ষা ও বৃত্তির\n",
      "contextual answer: ইসলামী শিক্ষা ও বৃত্তির\n",
      "generated: parametric answer:ইসলামী শিক্ষা ও বৃত্তির চক্রকেন্দ্র ছিল।\n",
      "contextual answer: ইসলামী শিক্ষা ও বৃত্তির চক্রকেন্দ্র ছিল।\n"
     ]
    },
    {
     "name": "stderr",
     "output_type": "stream",
     "text": [
      "Processing rows:  74%|████████████████████████████████████████████                | 544/740 [1:34:39<43:09, 13.21s/row]"
     ]
    },
    {
     "name": "stdout",
     "output_type": "stream",
     "text": [
      "Target: parametric answer: বাগদাদ\n",
      "contextual answer: বাগদাদ\n",
      "generated: parametric answer:বাগদাদ।\n",
      "contextual answer: বাগদাদ।\n"
     ]
    },
    {
     "name": "stderr",
     "output_type": "stream",
     "text": [
      "Processing rows:  74%|████████████████████████████████████████████▏               | 545/740 [1:34:53<43:38, 13.43s/row]"
     ]
    },
    {
     "name": "stdout",
     "output_type": "stream",
     "text": [
      "Target: parametric answer: ইরাকের নাজাফ শহরে\n",
      "contextual answer: ইরাকের নাজাফ শহরে\n",
      "generated: parametric answer:ইরাকের নাজাফ শহরে আলী ইবনে আবু তালিবের সমাধি রয়েছে।\n",
      "contextual answer: ইরাকের নাজাফ শহরে আলী ইবনে আবু তালিবের সমাধি রয়েছে।\n"
     ]
    },
    {
     "name": "stderr",
     "output_type": "stream",
     "text": [
      "Processing rows:  74%|████████████████████████████████████████████▎               | 546/740 [1:35:08<44:58, 13.91s/row]"
     ]
    },
    {
     "name": "stdout",
     "output_type": "stream",
     "text": [
      "Target: parametric answer: ইরাকের কুফা শহরে\n",
      "contextual answer: ইরাকের কুফা শহরে\n",
      "generated: parametric answer:কুফা শহরে ছিল।\n",
      "contextual answer: কুফা শহরে ছিল।\n"
     ]
    },
    {
     "name": "stderr",
     "output_type": "stream",
     "text": [
      "Processing rows:  74%|████████████████████████████████████████████▎               | 547/740 [1:35:24<46:01, 14.31s/row]"
     ]
    },
    {
     "name": "stdout",
     "output_type": "stream",
     "text": [
      "Target: parametric answer: ক্রোম ওএস\n",
      "contextual answer: ক্রোম ওএস\n",
      "generated: parametric answer:ক্রোম ওএস।\n",
      "contextual answer: ক্রোম ওএস।\n"
     ]
    },
    {
     "name": "stderr",
     "output_type": "stream",
     "text": [
      "Processing rows:  74%|████████████████████████████████████████████▌               | 549/740 [1:35:38<38:32, 12.11s/row]"
     ]
    },
    {
     "name": "stdout",
     "output_type": "stream",
     "text": [
      "Target: parametric answer: গুগলের প্রস্তুতকারক সহযোগীদের\n",
      "contextual answer: গুগলের প্রস্তুতকারক সহযোগীদের\n",
      "generated: parametric answer:ক্রোম ওএস শুধুমাত্র গুগল ও তার অংশীদারদের দ্ধারা সাপোর্ট করা হয়, এবং এ অপারেটিং সিস্টেম চালানোর উদ্দেশ্যে বানানো হার্ডওয়্�ারেই চলে।\n",
      "contextual answer: ক্রোম ওএস শুধুমাত্র গুগলের প্রস্তুতকারক সহযোগীদের যন্ত্রেই পূর্ব ইন্সটল করা থাকে।\n"
     ]
    },
    {
     "name": "stderr",
     "output_type": "stream",
     "text": [
      "Processing rows:  74%|████████████████████████████████████████████▋               | 551/740 [1:35:51<33:16, 10.56s/row]"
     ]
    },
    {
     "name": "stdout",
     "output_type": "stream",
     "text": [
      "Target: parametric answer: ইসলাম ও নারীবাদের একটি সমন্বয়\n",
      "contextual answer: ইসলাম ও নারীবাদের একটি সমন্বয়\n",
      "generated: parametric answer:ইসলামি নারীবাদ হলো একটি সংগঠন বা আন্দোলন যা নারী অধিকার বাড়ার জন্য ইসলামি ধর্মের মাধ্যমে কাজ করে। এটি ইসলামের শাস্ত্র ও তafsir (толкование) ব্যবহার করে নারীদের সমান স্থান নিশুদ্ধ করতে প্রয়াস করে। ইসলামি নারীবাদীগণ ইসলামের মূল উদ্দেশ্য বা মতবাদের মধ্যে নারী অধিকারের সমানতাকে উল্লেখ করে তাদের দাবি প্রকাশ করেন। এটি সাধারণত সাম্যবাদ, নারী স্বাধীনতা এবং সমাজের সমানতার জন্য কাজ করে।\n",
      "contextual answer: ইসলামি নারীবাদ হলো ইসলাম ও নারীবাদের একটি সমন্বয়, যা \"ইসলামি দৃষ্টান্তে একটি নারীবাদী আলোচনা ও চর্চা\" হিসেবে ধরা হয়। ইসলামি নারীবাদীগণ ইসলাম ও ইসলামের শিক্ষা থেকে তাঁদের মত প্রকাশ করেন, ব্যক্তিগত ও পাবলিক ক্ষেত্রসমূহে নারী ও পুরুষের পূর্ণাঙ্গ সাম্য দাবি করেন, এবং এই আলোচনা ও বিতর্কগুলোতে অমুসলিমদেরকে নিয়ে আসেন।\n"
     ]
    },
    {
     "name": "stderr",
     "output_type": "stream",
     "text": [
      "Processing rows:  75%|████████████████████████████████████████████▉               | 554/740 [1:36:09<28:20,  9.14s/row]"
     ]
    },
    {
     "name": "stdout",
     "output_type": "stream",
     "text": [
      "Target: parametric answer: ইসলাম ও ইসলামের শিক্ষা থেকে তাঁদের মত প্রকাশ করেন; ব্যক্তিগত ও পাবলিক ক্ষেত্রসমূহে নারী ও পুরুষের পূর্ণাঙ্গ সাম্য দাবি করেন; এই আলোচনা ও বিতর্কগুলোতে অমুসলিমদেরকে নিয়ে আসেন\n",
      "contextual answer: ইসলাম ও ইসলামের শিক্ষা থেকে তাঁদের মত প্রকাশ করেন; ব্যক্তিগত ও পাবলিক ক্ষেত্রসমূহে নারী ও পুরুষের পূর্ণাঙ্গ সাম্য দাবি করেন; এই আলোচনা ও বিতর্কগুলোতে অমুসলিমদেরকে নিয়ে আসেন\n",
      "generated: parametric answer:ইসলামি নারীবাদীদের কাজ সমাপ্তি বানানো হয় ইসলামের মাঝে নারীদের স্বাধীনতা এবং সমানাধিকার। তারা পার্থক্য করে প্রাচীন পুরুষাধিকারিক ব্যাখ্যা এবং ইসলামিক সাহিত্যকে পুনরাবৃত্তি করে নারীদের জন্য সমানাধিকার বানানোর চেষ্টা করেন। তারা শিক্ষা, সাক্ষরতা, রাজনীতিক অংশগ্রহণ এবং আইনি অধিকারের উন্নয়নে কাজ করেন।\n",
      "contextual answer: ইসলামি নারীবাদীগণ ইসলাম ও ইসলামের শিক্ষা থেকে তাঁদের মত প্রকাশ করেন, ব্যক্তিগত ও পাবলিক ক্ষেত্রসমূহে নারী ও পুরুষের পূর্ণাঙ্গ সাম্য দাবি করেন, এবং এই আলোচনা ও বিতর্কগুলোতে অমুসলিমদেরকে নিয়ে আসেন। তারা মুসলিম-প্রধান রাষ্ট্রগুলো থেকে নারী রাষ্ট্রপ্রধান, প্রধানমন্ত্রী এবং রাষ্ট্রের সচিবগণ এসেছেন, যেমন বাংলাদেশে খালেদা জিয়া ও শেখ হাসিনা।\n"
     ]
    },
    {
     "name": "stderr",
     "output_type": "stream",
     "text": [
      "Processing rows:  75%|█████████████████████████████████████████████               | 555/740 [1:36:26<35:11, 11.42s/row]"
     ]
    },
    {
     "name": "stdout",
     "output_type": "stream",
     "text": [
      "Target: parametric answer: লন্ডনের সেন্ট জনসে\n",
      "contextual answer: লন্ডনের সেন্ট জনসে\n",
      "generated: parametric answer:ব্রুকলিন, ম্যাসাচুসেটস, অমেরিকা।\n",
      "contextual answer: লন্ডনের সেন্ট জনসে।\"\n"
     ]
    },
    {
     "name": "stderr",
     "output_type": "stream",
     "text": [
      "Processing rows:  76%|█████████████████████████████████████████████▎              | 559/740 [1:36:40<27:15,  9.03s/row]"
     ]
    },
    {
     "name": "stdout",
     "output_type": "stream",
     "text": [
      "Target: parametric answer: এসচাম সেন্ট ভিনসেন্ট’স প্রিপ্যাটরি স্কুল ও এটনে\n",
      "contextual answer: এসচাম সেন্ট ভিনসেন্ট’স প্রিপ্যাটরি স্কুল ও এটনে\n",
      "generated: parametric answer:এটন কলেজে।\n",
      "contextual answer: এয়ার শিক্ষিত হয়েছেন এসচাম সেন্ট ভিনসেন্ট’স প্রিপ্যাটরি স্কুল ও এটনে।\n"
     ]
    },
    {
     "name": "stderr",
     "output_type": "stream",
     "text": [
      "Processing rows:  76%|█████████████████████████████████████████████▍              | 560/740 [1:36:55<33:13, 11.07s/row]"
     ]
    },
    {
     "name": "stdout",
     "output_type": "stream",
     "text": [
      "Target: parametric answer: সাহসী; অকালপক্ক\n",
      "contextual answer: সাহসী; অকালপক্ক\n",
      "generated: parametric answer:সাহসী এবং দুর্দান্ত বীরত্ব ধারণকারী।\n",
      "contextual answer: সাহসী ও অকালপক্ক।\n"
     ]
    },
    {
     "name": "stderr",
     "output_type": "stream",
     "text": [
      "Processing rows:  76%|█████████████████████████████████████████████▍              | 561/740 [1:37:11<37:23, 12.54s/row]"
     ]
    },
    {
     "name": "stdout",
     "output_type": "stream",
     "text": [
      "Target: parametric answer: আইইটিএফ রিকোয়েস্ট ফর কমেন্ট;তাদের কাজের দল;বিস্তারিত ভাবে স্টাইল গাইডস দ্বারা\n",
      "contextual answer: আইইটিএফ রিকোয়েস্ট ফর কমেন্ট;তাদের কাজের দল;বিস্তারিত ভাবে স্টাইল গাইডস দ্বারা\n",
      "generated: parametric answer:ইমেইল\" বানানটি বিভিন্ন স্টাইল গাইড, অভিধান, এবং আরএফসি (RFC) দ্বারা ব্যবহৃত হয়। এটি ইউনিক্স, সিএমএস, এ্যপললিংক, ইওয়ার্ল্ড, এওএল, জিনি, হটমেইল এবং অন্যান্য প্রাচীন সফটওয়ার কম্পানির কর্তৃক ব্যবহৃত হত।\n",
      "contextual answer: ইমেইল\" বানানটি আইইটিএফ রিকোয়েস্ট ফর কমেন্ট এবং তাদের কাজের দল এবং বিস্তৃত ভাবে স্টাইল গাইডস দ্বারা ব্যবহৃত হয়। এই বানানটি বিভিন্ন অভিধানেও দেখা যায়। \"ইমেইল\" প্রথম এম অক্ষরটি বড় হাতের হরফে লেখা হত এটা অর্পানেট ব্যবহারকারী এবং প্রথম দিকের উন্নয়নকারী ইউনিক্স, সিএমএস, এ্যপললিংক, ইওয়ার্ল্ড, এওএল, জিনি এবং হটমেইল কর্তৃক ব্যবহৃত হত। \"ইমেইল\" এই বানানটি আরএফসির প্রথাগত বানান যেখানে এটি ব্যবহৃত হত অথর বা প্রবর্তকের ঠিকানা হিসেবে।\n"
     ]
    },
    {
     "name": "stderr",
     "output_type": "stream",
     "text": [
      "Processing rows:  76%|█████████████████████████████████████████████▋              | 564/740 [1:37:29<31:01, 10.57s/row]"
     ]
    },
    {
     "name": "stdout",
     "output_type": "stream",
     "text": [
      "Target: parametric answer: ইমেইল\n",
      "contextual answer: ইমেইল\n",
      "generated: parametric answer:ইমেইল।\n",
      "contextual answer: ইমেইল।\"\n"
     ]
    },
    {
     "name": "stderr",
     "output_type": "stream",
     "text": [
      "Processing rows:  76%|█████████████████████████████████████████████▊              | 565/740 [1:37:43<33:57, 11.64s/row]"
     ]
    },
    {
     "name": "stdout",
     "output_type": "stream",
     "text": [
      "Target: parametric answer: ১৯৭১\n",
      "contextual answer: ১৯৭১\n",
      "generated: parametric answer:১৯৬৯ সালে।\n",
      "contextual answer: ১৯৭১ সালে।\n"
     ]
    },
    {
     "name": "stderr",
     "output_type": "stream",
     "text": [
      "Processing rows:  76%|█████████████████████████████████████████████▉              | 566/740 [1:37:57<35:44, 12.32s/row]"
     ]
    },
    {
     "name": "stdout",
     "output_type": "stream",
     "text": [
      "Target: parametric answer: রোমান্ড স্যামুয়েল টমলিসন\n",
      "contextual answer: রোমান্ড স্যামুয়েল টমলিসন\n",
      "generated: parametric answer:রে টমলিসন\n",
      "contextual answer: রোমান্ড স্যামুয়েল টমলিসন\n"
     ]
    },
    {
     "name": "stderr",
     "output_type": "stream",
     "text": [
      "Processing rows:  77%|█████████████████████████████████████████████▉              | 567/740 [1:38:11<36:57, 12.82s/row]"
     ]
    },
    {
     "name": "stdout",
     "output_type": "stream",
     "text": [
      "Target: parametric answer: রুডল্ফ লুডভিগ কার্ল ফিরখো\n",
      "contextual answer: রুডল্ফ লুডভিগ কার্ল ফিরখো\n",
      "generated: parametric answer:রুডল্ফ ফিরখো।\n",
      "contextual answer: রুডল্ফ ফিরখো।\n"
     ]
    },
    {
     "name": "stderr",
     "output_type": "stream",
     "text": [
      "Processing rows:  77%|██████████████████████████████████████████████▏             | 569/740 [1:38:25<31:31, 11.06s/row]"
     ]
    },
    {
     "name": "stdout",
     "output_type": "stream",
     "text": [
      "Target: parametric answer: পিটার মুলারের অধীনে\n",
      "contextual answer: পিটার মুলারের অধীনে\n",
      "generated: parametric answer:ইয়োহানেস পিটার মুলারের অধীনে।\n",
      "contextual answer: ইয়োহানেস পিটার মুলারের অধীনে।\n"
     ]
    },
    {
     "name": "stderr",
     "output_type": "stream",
     "text": [
      "Processing rows:  77%|██████████████████████████████████████████████▎             | 571/740 [1:38:39<27:41,  9.83s/row]"
     ]
    },
    {
     "name": "stdout",
     "output_type": "stream",
     "text": [
      "Target: parametric answer: বিংশ শতাব্দীর শেষভাগে এসে (১৯৮০-র দশকের শুরুতে এসে) সারা বিশ্বে তথ্য ও যোগাযোগ প্রযুক্তির ক্ষেত্রে বিভিন্ন যন্ত্রপাতি ও সরঞ্জামে যান্ত্রিক ও সদৃশ (অ্যানালগ) ইলেকট্রনীয় প্রযুক্তির (যেখানে ধারাবাহিক রৈখিক সংকেতের মাধ্যমে তথ্যের প্রতিনিধিত্ব করা হয়) পরিবর্তে ডিজিটাল (দ্বি-আঙ্কিক) ইলেকট্রনীয় প্রযুক্তি (যেখানে বিচ্ছিন্ন অঙ্ক, মূলত দুইটি অঙ্ক দিয়ে তথ্যের প্রতিনিধিত্ব করা হয়) ব্যবহৃত হওয়া শুরু হয় এবং ২১শ শতকের প্রথম দুই দশকে অব্যাহত থাকে, সেই অসাধারণ রূপান্তরের পর্বটিকে\n",
      "contextual answer: বিংশ শতাব্দীর শেষভাগে এসে (১৯৮০-র দশকের শুরুতে এসে) সারা বিশ্বে তথ্য ও যোগাযোগ প্রযুক্তির ক্ষেত্রে বিভিন্ন যন্ত্রপাতি ও সরঞ্জামে যান্ত্রিক ও সদৃশ (অ্যানালগ) ইলেকট্রনীয় প্রযুক্তির (যেখানে ধারাবাহিক রৈখিক সংকেতের মাধ্যমে তথ্যের প্রতিনিধিত্ব করা হয়) পরিবর্তে ডিজিটাল (দ্বি-আঙ্কিক) ইলেকট্রনীয় প্রযুক্তি (যেখানে বিচ্ছিন্ন অঙ্ক, মূলত দুইটি অঙ্ক দিয়ে তথ্যের প্রতিনিধিত্ব করা হয়) ব্যবহৃত হওয়া শুরু হয় এবং ২১শ শতকের প্রথম দুই দশকে অব্যাহত থাকে, সেই অসাধারণ রূপান্তরের পর্বটিকে\n",
      "generated: parametric answer:ডিজিটাল বিপ্লব বলতে বিংশ শতাব্দীর মাঝামাঝি থেকে শেষভাগে (লক্ষณะ ১৯৭০-১৯৮০ দশকের প্রারম্ভে) শুরু হওয়া একটি প্রযুক্তিগত বিপ্লবকে বোঝায়, যা মাইক্রোপ্রসেসর, ব্যক্তিগত কম্পিউটার, ইন্টারনেট, স্মার্টফোন এবং অন্যান্য ডিজিটাল প্রযুক্তির উন্নতি এবং ব্যবহারের বৃদ্ধি দ্বারা সংঘটিত হয়। এটি ব্যবসা, শিল্প, সমাজ এবং ব্যক্তিগত জীবনের সকল ক্ষেত্রে গভীর পরিবর্তন আনে এবং মানবজাতির ইতিহাসে এক নতুন যুগ, যেমন তথ্য যুগের সূচনা করে।\n",
      "contextual answer: ডিজিটাল বিপ্লব বলতে বিংশ শতাব্দীর শেষভাগে (১৯৮০-র দশকের শুরুতে) সারা বিশ্বে তথ্য ও যোগাযোগ প্রযুক্তির ক্ষেত্রে ডিজিটাল ইলেকট্রনিক প্রযুক্তির ব্যবহার শুরু হওয়া এবং ২১শ শতকের প্রথম দুই দশকে অব্যাহত থাকা পর্বটিকে বোঝায়। এটি ডিজিটাল কম্পিউটার, ডিজিটাল মুঠোফোন, ইন্টারনেট এবং অন্যান্য ডিজিটাল প্রযুক্তির ব্যবহারের বৃদ্ধি এবং এগুলি দ্বারা ব্যবসা, শিল্পখাত, অর্থনীতি সহ মানবসমাজের প্রতিটি স্তরে ব্যাপক পরিবর্তন ঘটায়।\n"
     ]
    },
    {
     "name": "stderr",
     "output_type": "stream",
     "text": [
      "Processing rows:  78%|██████████████████████████████████████████████▌             | 574/740 [1:38:56<23:36,  8.53s/row]"
     ]
    },
    {
     "name": "stdout",
     "output_type": "stream",
     "text": [
      "Target: parametric answer: বিংশ\n",
      "contextual answer: বিংশ\n",
      "generated: parametric answer:বিংশ শতাব্দীর শেষভাগে\n",
      "contextual answer: বিংশ শতাব্দীর শেষভাগে\n"
     ]
    },
    {
     "name": "stderr",
     "output_type": "stream",
     "text": [
      "Processing rows:  78%|██████████████████████████████████████████████▌             | 575/740 [1:39:10<27:54, 10.15s/row]"
     ]
    },
    {
     "name": "stdout",
     "output_type": "stream",
     "text": [
      "Target: parametric answer: ডিজিটাল বিপ্লবের ফলে\n",
      "contextual answer: ডিজিটাল বিপ্লবের ফলে\n",
      "generated: parametric answer:তথ্য যুগের সূচনা হয়েছে ডিজিটাল বিপ্লবের সাথে, যা মাইক্রোপ্রসেসর এবং ইন্টারনেটের উন্নতির কারণে ঘটেছে।\n",
      "contextual answer: ডিজিটাল বিপ্লবের ফলে মানবজাতির ইতিহাসে তথ্য যুগের সূচনা হয়েছে।\n"
     ]
    },
    {
     "name": "stderr",
     "output_type": "stream",
     "text": [
      "Processing rows:  78%|██████████████████████████████████████████████▋             | 576/740 [1:39:25<32:17, 11.81s/row]"
     ]
    },
    {
     "name": "stdout",
     "output_type": "stream",
     "text": [
      "Target: parametric answer: কম্পিউটার; ডিজিটাল মুঠোফোন; বিশ্বব্যাপী কম্পিউটারের আন্তর্জাল বা ইন্টারনেট\n",
      "contextual answer: কম্পিউটার; ডিজিটাল মুঠোফোন; বিশ্বব্যাপী কম্পিউটারের আন্তর্জাল বা ইন্টারনেট\n",
      "generated: parametric answer:মাইক্রোপ্রসেসর, ইন্টেগ্রেটেড কার্টিস, মসফেট ট্রানজিস্টর, এবং ইন্টারনেট।\n",
      "contextual answer: ডিজিটাল যুক্তির বর্তনী, মসফেট ট্রানজিস্টর, সমন্বিত বর্তনী ও অণুপ্রক্রিয়াজাতকারক বা মাইক্রোপ্রসেসরের গণ-উৎপাদন এবং এগুলি থেকে উদ্ভূত বিভিন্ন প্রযুক্তি যেমন পরিগণক যন্ত্র বা কম্পিউটার, ডিজিটাল মুঠোফোন এবং বিশ্বব্যাপী কম্পিউটারের আন্তর্জাল বা ইন্টারনেটের ব্যাপক ব্যবহার।\n"
     ]
    },
    {
     "name": "stderr",
     "output_type": "stream",
     "text": [
      "Processing rows:  78%|██████████████████████████████████████████████▊             | 577/740 [1:39:43<37:09, 13.68s/row]"
     ]
    },
    {
     "name": "stdout",
     "output_type": "stream",
     "text": [
      "Target: parametric answer: যিরমিয়\n",
      "contextual answer: যিরমিয়\n",
      "generated: parametric answer:যিরমিয়\n",
      "contextual answer: যিরমিয়\n"
     ]
    },
    {
     "name": "stderr",
     "output_type": "stream",
     "text": [
      "Processing rows:  78%|██████████████████████████████████████████████▉             | 579/740 [1:39:57<31:18, 11.67s/row]"
     ]
    },
    {
     "name": "stdout",
     "output_type": "stream",
     "text": [
      "Target: parametric answer: হিব্রু বাইবেলের মূখ্য নবীদের অন্যতম একজন নবী।\n",
      "contextual answer: হিব্রু বাইবেলের মূখ্য নবীদের অন্যতম একজন নবী।\n",
      "generated: parametric answer:যিরমিয় (Jeremiah) ছিলেন হিব্রু বাইবেলের মূখ্য নবী, জীবন বাচান ৬৫০–৫৭০ খ্রিস্টপূর্বে। তিনি তার শিষ্য বারুক বেন নেরিয়ার (Baruch ben Neriah) সাহায্যে যিরমিয়ের পুস্তক, রাজাবলি এবং বিলাপ গাঁথা লিখেছিলেন। তার পুস্তকে তার ব্যক্তিগত জীবন, অভিজ্ঞতা এবং কারাবাস তুলে ধরা হয়েছে। ইহুদিবাদ, খ্রিস্টধর্ম এবং ইসলাম তাকে নবী হিসেবে গণ্য করে। তিনি ইসrael-এর পতন এবং বাবিলন বন্দী সম্পর্কে ভবিষ্যদ্বাণী করেছিলেন।\n",
      "\n",
      "End of thought process\n",
      "\n",
      "Contextual Answer: যিরমিয় ছিলেন হিব্রু বাইবেলের মূখ্য নবীদের অন্যতম একজন নবী, যিনি আনু. ৬৫০ – আনু. ৫৭০ খ্রিস্টপূর্বে জীবন বাচান। তিনি তার শিষ্য বারুক বেন জেরিয়ের সাহায্যে\n",
      "contextual answer: যিরমিয় ছিলেন হিব্রু বাইবেলের মূখ্য নবীদের অন্যতম একজন নবী, যিনি আনু. ৬৫০ – আনু. ৫৭০ খ্রিস্টপূর্বে জীবন বাচান। তিনি তার শিষ্য বারুক বেন জেরিয়ের সাহায্যে যিরমিয়ের পুস্তক, রাজাবলি এবং বিলাপ গাঁথা লিখেছিলেন। তার পুস্তকে তার ব্যক্তিগত জীবন, অভিজ্ঞতা এবং কারাবাস তুলে ধরা হয়েছে। ইহুদিবাদ, খ্রিস্টধর্ম এবং ইসলাম তাকে নবী হিসেবে গণ্য করে।\n"
     ]
    },
    {
     "name": "stderr",
     "output_type": "stream",
     "text": [
      "Processing rows:  78%|███████████████████████████████████████████████             | 580/740 [1:40:16<36:31, 13.69s/row]"
     ]
    },
    {
     "name": "stdout",
     "output_type": "stream",
     "text": [
      "Target: parametric answer: ইয়াহওয়েহ\n",
      "contextual answer: ইয়াহওয়েহ\n",
      "generated: parametric answer:ইয়াহওয়েহ (Yahweh)।\n",
      "contextual answer: ইয়াহওয়েহ।\n"
     ]
    },
    {
     "name": "stderr",
     "output_type": "stream",
     "text": [
      "Processing rows:  79%|███████████████████████████████████████████████             | 581/740 [1:40:30<36:29, 13.77s/row]"
     ]
    },
    {
     "name": "stdout",
     "output_type": "stream",
     "text": [
      "Target: parametric answer: দ্বিতীয় নবী\n",
      "contextual answer: দ্বিতীয় নবী\n",
      "generated: parametric answer:যিরমিয়কে মূখ্য নবীদের দ্বিতীয় নবী বলে গণ্য করা হয়।\n",
      "contextual answer: যিরমিয়কে মূখ্য নবীদের দ্বিতীয় নবী বলে গণ্য করে।\n"
     ]
    },
    {
     "name": "stderr",
     "output_type": "stream",
     "text": [
      "Processing rows:  79%|███████████████████████████████████████████████▏            | 582/740 [1:40:46<37:53, 14.39s/row]"
     ]
    },
    {
     "name": "stdout",
     "output_type": "stream",
     "text": [
      "Target: parametric answer: পাতাল রেল সুড়ঙ্গ যা সাগরের তলদেশ দিয়ে বিস্তৃত\n",
      "contextual answer: পাতাল রেল সুড়ঙ্গ যা সাগরের তলদেশ দিয়ে বিস্তৃত\n",
      "generated: parametric answer:চ্যানেল টানেল (Channel Tunnel) হলো একটি ৫০.৫ কিলোমিটার দীর্ঘ পাতাল রেল সুড়ঙ্গ, যা ইংলিশ চ্যানেলের তলদেশ দিয়ে বিস্তৃত। এটি যুক্তরাজ্যের ফোকস্টোনকে ফ্রান্সের কোকুয়েলসের সাথে যুক্ত করেছে। ইংলিশ চ্যানেলের উপসাগরের মধ্যে দিয়ে চ্যানেল টানেলটি নির্মিত হয়েছে। এর সর্বনিম্ন পয়েন্টের দৈর্ঘ্য ৭৫ মিটার। ৩৭.৯ কিলোমিটার দূরত্ব থেকে টানেলটির সমুদ্রতলে যে পরিমাণ দৈর্ঘ্য তা বিশ্বের দীর্ঘতম।\n",
      "contextual answer: চ্যানেল টানেল হলো একটি ৫০.৫ কিলোমিটার দীর্ঘ পাতাল রেল সুড়ঙ্গ, যা ইংলিশ চ্যানেলের তলদেশ দিয়ে বিস্তৃত। এটি যুক্তরাজ্যের ফোকস্টোনকে ফ্রান্সের কোকুয়েলসের সাথে যুক্ত করেছে। ইংলিশ চ্যানেলের উপসাগরের মধ্যে দিয়ে চ্যানেল টানেলটি নির্মিত হয়েছে। এর সর্বনিম্ন পয়েন্টের দৈর্ঘ্য ৭৫ মিটার। ৩৭.৯ কিলোমিটার দূরত্ব থেকে টানেলটির সমুদ্রতলে যে পরিমাণ দৈর্ঘ্য তা বিশ্বের দীর্ঘতম।\n"
     ]
    },
    {
     "name": "stderr",
     "output_type": "stream",
     "text": [
      "Processing rows:  79%|███████████████████████████████████████████████▎            | 584/740 [1:40:59<31:38, 12.17s/row]"
     ]
    },
    {
     "name": "stdout",
     "output_type": "stream",
     "text": [
      "Target: parametric answer: সাগরের তলদেশ দিয়ে বিস্তৃত হয়ে\n",
      "contextual answer: সাগরের তলদেশ দিয়ে বিস্তৃত হয়ে\n",
      "generated: parametric answer:চ্যানেল টানেল যুক্তরাজ্যের ফোকস্টোনকে ফ্রান্সের কোকুয়েলসের সাথে যুক্ত করেছে একটি ৫০.৫ কিলোমিটার দীর্ঘ পাতাল রেল সুড়ঙ্গ দিয়ে, যা ইংলিশ চ্যানেলের তলদেশ দিয়ে বিস্তৃত। এটি ১৯৯৪ খ্রিষ্টাব্দে উদ্বোধন করা হয়েছে এবং এটি বিশ্বের দীর্ঘতম সমুদ্রতলে অবস্থিত রেল টানেল।\n",
      "contextual answer: চ্যানেল টানেল একটি ৫০.৫ কিলোমিটার দীর্ঘ পাতাল রেল সুড়ঙ্গ যা ইংলিশ চ্যানেলের উপসাগরের মধ্যে দিয়ে নির্মিত হয়েছে। এটি যুক্তরাজ্যের ফোকস্টোনকে ফ্রান্সের কোকুয়েলসের সাথে যুক্ত করেছে। টানেলে তিনটি সুড়ঙ্গ রয়েছে: দুটি দিয়ে ট্রেণ চলাচল করে এবং তৃতীয়টি মেরামত-সংরক্ষণ কার্যক্রমের জন্য ব্যবহৃত হয়। ১৯৯৪ খ্রিষ্টাব্দে এই টানেল রেল চলাচলের জন্য উদ্বোধন করা হয়।\n"
     ]
    },
    {
     "name": "stderr",
     "output_type": "stream",
     "text": [
      "Processing rows:  79%|███████████████████████████████████████████████▌            | 586/740 [1:41:16<28:11, 10.98s/row]"
     ]
    },
    {
     "name": "stdout",
     "output_type": "stream",
     "text": [
      "Target: parametric answer: ১৯৯৪\n",
      "contextual answer: ১৯৯৪\n",
      "generated: parametric answer:১৯৯৪ খ্রিষ্টাব্দে।\n",
      "contextual answer: ১৯৯৪ খ্রিষ্টাব্দে।\n"
     ]
    },
    {
     "name": "stderr",
     "output_type": "stream",
     "text": [
      "Processing rows:  79%|███████████████████████████████████████████████▋            | 588/740 [1:41:30<24:46,  9.78s/row]"
     ]
    },
    {
     "name": "stdout",
     "output_type": "stream",
     "text": [
      "Target: parametric answer: প্রায় ১৬ লক্ষ প্রকৌশলী\n",
      "contextual answer: প্রায় ১৬ লক্ষ প্রকৌশলী\n",
      "generated: parametric answer:১৬ লক্ষ (যেহোক, আমার জ্ঞানভূক্ত হিসাবে ২০০৯ সালের সংখ্যা নিশ্চিত নয়, তবে বর্তমানে এই সংখ্যা বাড়েছে)\n",
      "contextual answer: ১৬ লক্ষ\n"
     ]
    },
    {
     "name": "stderr",
     "output_type": "stream",
     "text": [
      "Processing rows:  80%|███████████████████████████████████████████████▊            | 589/740 [1:41:44<27:44, 11.02s/row]"
     ]
    },
    {
     "name": "stdout",
     "output_type": "stream",
     "text": [
      "Target: parametric answer: ১৫%\n",
      "contextual answer: ১৫%\n",
      "generated: parametric answer:১৫%\n",
      "contextual answer: ১৫%\n"
     ]
    },
    {
     "name": "stderr",
     "output_type": "stream",
     "text": [
      "Processing rows:  80%|███████████████████████████████████████████████▊            | 590/740 [1:41:58<29:57, 11.98s/row]"
     ]
    },
    {
     "name": "stdout",
     "output_type": "stream",
     "text": [
      "Target: parametric answer: ৫৮,৮০০ মার্কিন ডলার\n",
      "contextual answer: ৫৮,৮০০ মার্কিন ডলার\n",
      "generated: parametric answer:যন্ত্রপ্রকৌশলীদের গড় বেতন প্রতি বছরে প্রায় ৯০,০০০ থেকে ১,০০,০০০ মার্কিন ডলার।\n",
      "contextual answer: যন্ত্রপ্রকৌশলীদের গড় বেতন প্রতি বছরে ৭৪,০০০ মার্কিন ডলার।\n"
     ]
    },
    {
     "name": "stderr",
     "output_type": "stream",
     "text": [
      "Processing rows:  80%|███████████████████████████████████████████████▉            | 591/740 [1:42:13<31:59, 12.89s/row]"
     ]
    },
    {
     "name": "stdout",
     "output_type": "stream",
     "text": [
      "Target: parametric answer: কম্পিউটার নিয়ন্ত্রিত প্রকৌশল ব্যবস্থা ব্যবহার করে\n",
      "contextual answer: কম্পিউটার নিয়ন্ত্রিত প্রকৌশল ব্যবস্থা ব্যবহার করে\n",
      "generated: parametric answer:কম্পিউটার-এইডেড ডিজাইন (CAD) সফটওয়্যার।\n",
      "contextual answer: কম্পিউটার নিয়ন্ত্রিত প্রকৌশল ব্যবস্থা।\n"
     ]
    },
    {
     "name": "stderr",
     "output_type": "stream",
     "text": [
      "Processing rows:  80%|████████████████████████████████████████████████            | 592/740 [1:42:29<34:23, 13.94s/row]"
     ]
    },
    {
     "name": "stdout",
     "output_type": "stream",
     "text": [
      "Target: parametric answer: ইন্টারনেটের মাধ্যমে ভোক্তা থেকে ভোক্তা এবং ব্যবসায়ী থেকে ভোক্তাকে বিক্রয় সেবা\n",
      "contextual answer: ইন্টারনেটের মাধ্যমে ভোক্তা থেকে ভোক্তা এবং ব্যবসায়ী থেকে ভোক্তাকে বিক্রয় সেবা\n",
      "generated: parametric answer:ইবে ইনকর্পোরেটেড একটি ই-কমার্স প্লাটফর্ম যা ভোক্তা থেকে ভোক্তা (C2C) এবং ব্যবসায়ী থেকে ভোক্তাকে (B2C) বিক্রয় সেবা প্রদান করে।\n",
      "contextual answer: ইবে ইনক. হল একটি আমেরিকান মাল্টিন্যাশনাল কর্পোরেশন এবং ই-কমার্স কোম্পানি, ইন্টারনেটের মাধ্যমে ভোক্তা থেকে ভোক্তা এবং ব্যবসায়ী থেকে ভোক্তাকে বিক্রয় সেবা প্রদান করা হয়ে থাকে।\n"
     ]
    },
    {
     "name": "stderr",
     "output_type": "stream",
     "text": [
      "Processing rows:  80%|████████████████████████████████████████████████▏           | 594/740 [1:42:46<29:53, 12.28s/row]"
     ]
    },
    {
     "name": "stdout",
     "output_type": "stream",
     "text": [
      "Target: parametric answer: ইবে\n",
      "contextual answer: ইবে\n",
      "generated: parametric answer:ইবে (eBay)\n",
      "contextual answer: ইবে (eBay)\n"
     ]
    },
    {
     "name": "stderr",
     "output_type": "stream",
     "text": [
      "Processing rows:  80%|████████████████████████████████████████████████▏           | 595/740 [1:43:00<30:54, 12.79s/row]"
     ]
    },
    {
     "name": "stdout",
     "output_type": "stream",
     "text": [
      "Target: parametric answer: ৩০টিরও বেশি দেশে\n",
      "contextual answer: ৩০টিরও বেশি দেশে\n",
      "generated: parametric answer:১৯০টিরও বেশি দেশে।\n",
      "contextual answer: ৩০টিরও বেশি দেশে।\"\n"
     ]
    },
    {
     "name": "stderr",
     "output_type": "stream",
     "text": [
      "Processing rows:  81%|████████████████████████████████████████████████▎           | 596/740 [1:43:16<32:36, 13.58s/row]"
     ]
    },
    {
     "name": "stdout",
     "output_type": "stream",
     "text": [
      "Target: parametric answer: বায়ুচাপ ও ধূলা বাবস্থাপনার জন্য\n",
      "contextual answer: বায়ুচাপ ও ধূলা বাবস্থাপনার জন্য\n",
      "generated: parametric answer:এয়ারলক বায়ুচাপ নিয়ন্ত্রণ এবং ধূলা বাবস্থাপনার জন্য ব্যবহৃত হয়, যা মানবের সুরক্ষিত সঠিক পরিবেশ নিশ্চিত করে।\n",
      "contextual answer: এয়ারলক বায়ুচাপ ও ধূলা বাবস্থাপনার জন্য ব্যবহৃত হয়।\n"
     ]
    },
    {
     "name": "stderr",
     "output_type": "stream",
     "text": [
      "Processing rows:  81%|████████████████████████████████████████████████▌           | 599/740 [1:43:32<26:12, 11.15s/row]"
     ]
    },
    {
     "name": "stdout",
     "output_type": "stream",
     "text": [
      "Target: parametric answer: অক্সিজেন, বিদ্যুৎ; স্থানীয় যোগাযোগ; বর্জ্য নিষ্কাশন; স্বাস্থ্যব্যবস্থা; পুনঃব্যবহারযোগ্য পানি\n",
      "contextual answer: অক্সিজেন, বিদ্যুৎ; স্থানীয় যোগাযোগ; বর্জ্য নিষ্কাশন; স্বাস্থ্যব্যবস্থা; পুনঃব্যবহারযোগ্য পানি\n",
      "generated: parametric answer:প্রয়োজনীয় উপযোগসমূহ হলো: অক্সিজেন, বিদ্যুৎ, স্থানীয় যোগাযোগ, বর্জ্য নিষ্কাশন, স্বাস্থ্যব্যবস্থা, পুনঃব্যবহারযোগ্য পানি, শক্তি উৎপাদন (সৌর বা নিউক্লিয়ার), নির্মাণ সামগ্রী, গ্রহের পৃষ্ঠে যাতায়াতের জন্য পরিবহন ব্যবস্থা, এবং জীবন সমর্থন ব্যবস্থা।\n",
      "contextual answer: প্রয়োজনীয় উপযোগসমূহ হলো: অক্সিজেন, বিদ্যুৎ, স্থানীয় যোগাযোগ, বর্জ্য নিষ্কাশন, স্বাস্থ্যব্যবস্থা ও পুনঃব্যবহারযোগ্য পানি।\n"
     ]
    },
    {
     "name": "stderr",
     "output_type": "stream",
     "text": [
      "Processing rows:  81%|████████████████████████████████████████████████▋           | 600/740 [1:43:48<29:20, 12.57s/row]"
     ]
    },
    {
     "name": "stdout",
     "output_type": "stream",
     "text": [
      "Target: parametric answer: অক্সিজেন\n",
      "contextual answer: অক্সিজেন\n",
      "generated: parametric answer:অক্সিজেন।\n",
      "contextual answer: অক্সিজেন।\n"
     ]
    },
    {
     "name": "stderr",
     "output_type": "stream",
     "text": [
      "Processing rows:  81%|████████████████████████████████████████████████▋           | 601/740 [1:44:02<30:04, 12.99s/row]"
     ]
    },
    {
     "name": "stdout",
     "output_type": "stream",
     "text": [
      "Target: parametric answer: ৪০ ডেসিবেল\n",
      "contextual answer: ৪০ ডেসিবেল\n",
      "generated: parametric answer:৪০ ডেসিবেল।\n",
      "contextual answer: ৪০ ডেসিবেল।\n"
     ]
    },
    {
     "name": "stderr",
     "output_type": "stream",
     "text": [
      "Processing rows:  82%|████████████████████████████████████████████████▉           | 604/740 [1:44:16<23:45, 10.48s/row]"
     ]
    },
    {
     "name": "stdout",
     "output_type": "stream",
     "text": [
      "Target: parametric answer: পথচারীকে চমকে দিতে পারে; তার মনে বিরক্তির উদ্রেক করতে পারে; তার মানসিক চাপ বৃদ্ধি করতে পারে\n",
      "contextual answer: পথচারীকে চমকে দিতে পারে; তার মনে বিরক্তির উদ্রেক করতে পারে; তার মানসিক চাপ বৃদ্ধি করতে পারে\n",
      "generated: parametric answer:মানসিক চাপ, বিরক্তি, চমক, ভীষণ, এবং দীর্ঘমেয়াদে হৃদরোগের ঝুঁকি বৃদ্ধি।\n",
      "contextual answer: বিরক্তি, মানসিক চাপ বৃদ্ধি, এবং অন্যান্য নেতিবাচক মানসিক প্রতিক্রিয়া।\n"
     ]
    },
    {
     "name": "stderr",
     "output_type": "stream",
     "text": [
      "Processing rows:  82%|█████████████████████████████████████████████████           | 605/740 [1:44:33<27:59, 12.44s/row]"
     ]
    },
    {
     "name": "stdout",
     "output_type": "stream",
     "text": [
      "Target: parametric answer: ৭৫ ডেসিবেলের\n",
      "contextual answer: ৭৫ ডেসিবেলের\n",
      "generated: parametric answer:৭৫ ডেসিবেলের উপরে\n",
      "contextual answer: ৭৫ ডেসিবেলের উপরে\n"
     ]
    },
    {
     "name": "stderr",
     "output_type": "stream",
     "text": [
      "Processing rows:  82%|█████████████████████████████████████████████████▏          | 607/740 [1:44:47<23:55, 10.80s/row]"
     ]
    },
    {
     "name": "stdout",
     "output_type": "stream",
     "text": [
      "Target: parametric answer: সরল বিদ্যুৎচালিত যন্ত্র\n",
      "contextual answer: সরল বিদ্যুৎচালিত যন্ত্র\n",
      "generated: parametric answer:গাঠনিকভাবে ভেঁপু (হর্ন) একটি বিদ্যুৎচালিত যন্ত্র বা ইলেকট্রোমেকানিকাল ডিভাইস যা একটি পর্দা বা ডায়াফ্র্যামের সাহায্যে শব্দ উৎপাদন করে।\n",
      "contextual answer: গাঠনিকভাবে ভেঁপু (হর্ন) একটি সরল বিদ্যুৎচালিত যন্ত্র যাতে বিদ্যুৎচুম্বকীয় কুণ্ডলী ও স্থিতিস্থাপক যান্ত্রিক কুণ্ডলী তথা স্প্রিং ব্যবহার করে একটি গোল চ্যাপ্টা পাতলা ধাতব পর্দাতে কম্পন সৃষ্টি করে নির্দিষ্ট কম্পাঙ্কের শব্দ সৃষ্টি করা হয় এবং সেটিকে চোঙের মাধ্যমে বিবর্ধিত করা হয়।\n"
     ]
    },
    {
     "name": "stderr",
     "output_type": "stream",
     "text": [
      "Processing rows:  82%|█████████████████████████████████████████████████▎          | 608/740 [1:45:05<28:33, 12.98s/row]"
     ]
    },
    {
     "name": "stdout",
     "output_type": "stream",
     "text": [
      "Target: parametric answer: রাজনীতি হলো দলীয় বা নির্দিষ্ট ব্যক্তিবর্গের মধ্যে ক্ষমতার সম্পর্কের ক্ষেত্রে সিদ্ধান্ত গ্রহণ বিষয়ক কর্মকাণ্ডের সমষ্টি\n",
      "contextual answer: রাজনীতি হলো দলীয় বা নির্দিষ্ট ব্যক্তিবর্গের মধ্যে ক্ষমতার সম্পর্কের ক্ষেত্রে সিদ্ধান্ত গ্রহণ বিষয়ক কর্মকাণ্ডের সমষ্টি\n",
      "generated: parametric answer:রাজনীতি হলো সরকারের কার্যকলাপ, সম্পদের বণ্টন এবং রাজনীতিবিজ্ঞানের মধ্যে সম্পর্ক বিশ্লেষণের ক্ষেত্র।\n",
      "contextual answer: রাজনীতি হলো দলীয় বা নির্দিষ্ট ব্যক্তিবর্গের মধ্যে ক্ষমতার সম্পর্কের ক্ষেত্রে সিদ্ধান্ত গ্রহণ বিষয়ক কর্মকাণ্ডের সমষ্টি, উদাহরণস্বরুপ সম্পদের বণ্টন। এটি বহুমুখী শব্দ এবং বিভিন্নভাবে ব্যবহৃত হতে পারে, ইতিবাচক বা নেতিবাচক অর্থে।\n"
     ]
    },
    {
     "name": "stderr",
     "output_type": "stream",
     "text": [
      "Processing rows:  82%|█████████████████████████████████████████████████▍          | 609/740 [1:45:19<29:04, 13.32s/row]"
     ]
    },
    {
     "name": "stdout",
     "output_type": "stream",
     "text": [
      "Target: parametric answer: রাজনীতিবিজ্ঞান বা রাষ্ট্রবিজ্ঞান\n",
      "contextual answer: রাজনীতিবিজ্ঞান বা রাষ্ট্রবিজ্ঞান\n",
      "generated: parametric answer:রাজনীতিবিজ্ঞান।\n",
      "contextual answer: রাজনীতিবিজ্ঞান বা রাষ্ট্রবিজ্ঞান।\n"
     ]
    },
    {
     "name": "stderr",
     "output_type": "stream",
     "text": [
      "Processing rows:  83%|█████████████████████████████████████████████████▌          | 611/740 [1:45:33<24:31, 11.41s/row]"
     ]
    },
    {
     "name": "stdout",
     "output_type": "stream",
     "text": [
      "Target: parametric answer: রাজনীতি নিয়ে গবেষণা করা\n",
      "contextual answer: রাজনীতি নিয়ে গবেষণা করা\n",
      "generated: parametric answer:রাষ্ট্রবিজ্ঞানের কাজ হলো রাজনীতি, সরকার, এবং রাষ্ট্র নিয়ে গবেষণা করা। এটি সাম্প্রতিক ও ঐতিহাসিক রাজনীতিক প্রক্রিয়া, সরকারি নীতিকে বিশদভাবে অনুসন্ধান করে এবং এর প্রভাব বিশ্লেষণ করে।\n",
      "\n",
      "End of thought process\n",
      "\n",
      "Contextual Answer: রাষ্ট্রবিজ্ঞানের কাজ হলো রাজনীতি নিয়ে গবেষণা করা।\n",
      "contextual answer: রাষ্ট্রবিজ্ঞানের কাজ হলো রাজনীতি নিয়ে গবেষণা করা।\n"
     ]
    },
    {
     "name": "stderr",
     "output_type": "stream",
     "text": [
      "Processing rows:  83%|█████████████████████████████████████████████████▌          | 612/740 [1:45:49<27:09, 12.73s/row]"
     ]
    },
    {
     "name": "stdout",
     "output_type": "stream",
     "text": [
      "Target: parametric answer: পটসডামের গোলম\n",
      "contextual answer: পটসডামের গোলম\n",
      "generated: parametric answer:পটসডামের গোলম এলাকায়।\n",
      "contextual answer: পটসডামের গোলম এলাকায়।\"\n"
     ]
    },
    {
     "name": "stderr",
     "output_type": "stream",
     "text": [
      "Processing rows:  83%|█████████████████████████████████████████████████▊          | 615/740 [1:46:03<21:28, 10.31s/row]"
     ]
    },
    {
     "name": "stdout",
     "output_type": "stream",
     "text": [
      "Target: parametric answer: ২০০২\n",
      "contextual answer: ২০০২\n",
      "generated: parametric answer:২০০২ সাল থেকে।\n",
      "contextual answer: ২০০২ সাল থেকে।\"\n"
     ]
    },
    {
     "name": "stderr",
     "output_type": "stream",
     "text": [
      "Processing rows:  83%|█████████████████████████████████████████████████▉          | 616/740 [1:46:17<23:32, 11.39s/row]"
     ]
    },
    {
     "name": "stdout",
     "output_type": "stream",
     "text": [
      "Target: parametric answer: এএমপির\n",
      "contextual answer: এএমপির\n",
      "generated: parametric answer:এএমপি ইনস্টিটিউটের উদ্যোগে।\n",
      "contextual answer: এএমপি ইনস্টিটিউটের উদ্যোগে।\n"
     ]
    },
    {
     "name": "stderr",
     "output_type": "stream",
     "text": [
      "Processing rows:  84%|██████████████████████████████████████████████████          | 618/740 [1:46:31<20:27, 10.06s/row]"
     ]
    },
    {
     "name": "stdout",
     "output_type": "stream",
     "text": [
      "Target: parametric answer: অর্থায়ন\n",
      "contextual answer: অর্থায়ন\n",
      "generated: parametric answer:অর্থায়ন।\n",
      "contextual answer: অর্থায়ন।\n"
     ]
    },
    {
     "name": "stderr",
     "output_type": "stream",
     "text": [
      "Processing rows:  84%|██████████████████████████████████████████████████▏         | 619/740 [1:46:46<23:25, 11.61s/row]"
     ]
    },
    {
     "name": "stdout",
     "output_type": "stream",
     "text": [
      "Target: parametric answer: $৫০০ বিলিয়ন\n",
      "contextual answer: $৫০০ বিলিয়ন\n",
      "generated: parametric answer:প্রায় $৫০০ বিলিয়ন।\n",
      "contextual answer: প্রায় $৫০০ বিলিয়ন।\"\n"
     ]
    },
    {
     "name": "stderr",
     "output_type": "stream",
     "text": [
      "Processing rows:  84%|██████████████████████████████████████████████████▎         | 620/740 [1:47:00<24:39, 12.33s/row]"
     ]
    },
    {
     "name": "stdout",
     "output_type": "stream",
     "text": [
      "Target: parametric answer: মহাকাশ পর্যটন\n",
      "contextual answer: মহাকাশ পর্যটন\n",
      "generated: parametric answer:মহাকাশ পর্যটন।\n",
      "contextual answer: মহাকাশ পর্যটন।\n"
     ]
    },
    {
     "name": "stderr",
     "output_type": "stream",
     "text": [
      "Processing rows:  84%|██████████████████████████████████████████████████▎         | 621/740 [1:47:14<25:24, 12.81s/row]"
     ]
    },
    {
     "name": "stdout",
     "output_type": "stream",
     "text": [
      "Target: parametric answer: মহাকাশ পর্যটনের\n",
      "contextual answer: মহাকাশ পর্যটনের\n",
      "generated: parametric answer:মহাকাশ পর্যটনের বাজার\n",
      "contextual answer: মহাকাশ পর্যটনের বাজার\n"
     ]
    },
    {
     "name": "stderr",
     "output_type": "stream",
     "text": [
      "Processing rows:  84%|██████████████████████████████████████████████████▍         | 622/740 [1:47:28<25:50, 13.14s/row]"
     ]
    },
    {
     "name": "stdout",
     "output_type": "stream",
     "text": [
      "Target: parametric answer: বস্তুটির অভিকর্ষের কারণে\n",
      "contextual answer: বস্তুটির অভিকর্ষের কারণে\n",
      "generated: parametric answer:গ্রহের অভিকর্ষের কারণে এই গ্যাসপুঞ্জ তার চারদিকে আবদ্ভ থাকে।\n",
      "contextual answer: বস্তুটির অভিকর্ষের কারণে এই গ্যাসপুঞ্জ তার চারদিকে আবদ্ভ থাকে।\n"
     ]
    },
    {
     "name": "stderr",
     "output_type": "stream",
     "text": [
      "Processing rows:  84%|██████████████████████████████████████████████████▋         | 625/740 [1:47:42<20:18, 10.59s/row]"
     ]
    },
    {
     "name": "stdout",
     "output_type": "stream",
     "text": [
      "Target: parametric answer: মধ্যাকর্ষণ শক্তি দ্বারা\n",
      "contextual answer: মধ্যাকর্ষণ শক্তি দ্বারা\n",
      "generated: parametric answer:মধ্যাকর্ষণ শক্তি।\n",
      "contextual answer: মধ্যাকর্ষণ শক্তি।\n"
     ]
    },
    {
     "name": "stderr",
     "output_type": "stream",
     "text": [
      "Processing rows:  85%|██████████████████████████████████████████████████▊         | 627/740 [1:47:55<17:54,  9.50s/row]"
     ]
    },
    {
     "name": "stdout",
     "output_type": "stream",
     "text": [
      "Target: parametric answer: ১০১.৩২৫\n",
      "contextual answer: ১০১.৩২৫\n",
      "generated: parametric answer:১০১.৩২৫ কিলো প্যাসকেল।\n",
      "contextual answer: ১০১.৩২৫ কিলো প্যাসকেল।\n"
     ]
    },
    {
     "name": "stderr",
     "output_type": "stream",
     "text": [
      "Processing rows:  85%|██████████████████████████████████████████████████▉         | 628/740 [1:48:09<20:16, 10.86s/row]"
     ]
    },
    {
     "name": "stdout",
     "output_type": "stream",
     "text": [
      "Target: parametric answer: পূর্ব পাকিস্তানের বৃহত্তম রাজনৈতিক দল আওয়ামী লীগ\n",
      "contextual answer: পূর্ব পাকিস্তানের বৃহত্তম রাজনৈতিক দল আওয়ামী লীগ\n",
      "generated: parametric answer:আওয়ামী লীগ।\n",
      "contextual answer: আওয়ামী লীগ।\n"
     ]
    },
    {
     "name": "stderr",
     "output_type": "stream",
     "text": [
      "Processing rows:  85%|███████████████████████████████████████████████████         | 629/740 [1:48:24<21:54, 11.84s/row]"
     ]
    },
    {
     "name": "stdout",
     "output_type": "stream",
     "text": [
      "Target: parametric answer: ১৬৭টি\n",
      "contextual answer: ১৬৭টি\n",
      "generated: parametric answer:১৬৭টি আসনে।\n",
      "contextual answer: ১৬৭টি আসনে।\n"
     ]
    },
    {
     "name": "stderr",
     "output_type": "stream",
     "text": [
      "Processing rows:  85%|███████████████████████████████████████████████████         | 630/740 [1:48:38<22:51, 12.47s/row]"
     ]
    },
    {
     "name": "stdout",
     "output_type": "stream",
     "text": [
      "Target: parametric answer: পাকিস্তান পিপলস‌ পার্টি\n",
      "contextual answer: পাকিস্তান পিপলস‌ পার্টি\n",
      "generated: parametric answer:পাকিস্তান পিপলস পার্টি (PPP)\n",
      "contextual answer: পাকিস্তান পিপলস পার্টি (PPP)\n"
     ]
    },
    {
     "name": "stderr",
     "output_type": "stream",
     "text": [
      "Processing rows:  85%|███████████████████████████████████████████████████▏        | 631/740 [1:48:52<23:29, 12.93s/row]"
     ]
    },
    {
     "name": "stdout",
     "output_type": "stream",
     "text": [
      "Target: parametric answer: অবিলম্বে সামরিক আইন প্রত্যাহার করতে হবে; অবিলম্বে সেনাবাহিনীকে ব্যারাকে ফিরিয়ে নিতে হবে; গণহত্যার তদন্ত করতে হবে; নির্বাচিত জনপ্রতিনিধিদের কাছে অবিলম্বে ক্ষমতা হস্তান্তর করতে হবে\n",
      "contextual answer: অবিলম্বে সামরিক আইন প্রত্যাহার করতে হবে; অবিলম্বে সেনাবাহিনীকে ব্যারাকে ফিরিয়ে নিতে হবে; গণহত্যার তদন্ত করতে হবে; নির্বাচিত জনপ্রতিনিধিদের কাছে অবিলম্বে ক্ষমতা হস্তান্তর করতে হবে\n",
      "generated: parametric answer:সামরিক আইন প্রত্যাহার করতে হবে; সেনাবাহিনীকে ব্যারাকে ফিরিয়ে নিতে হবে; গণহত্যার তদন্ত করতে হবে; নির্বাচিত জনপ্রতিনিধিদের কাছে ক্ষমতা হস্তান্তর করতে হবে।\n",
      "contextual answer: সামরিক আইন প্রত্যাহার করতে হবে; সেনাবাহিনীকে ব্যারাকে ফিরিয়ে নিতে হবে; গণহত্যার তদন্ত করতে হবে; নির্বাচিত জনপ্রতিনিধিদের কাছে ক্ষমতা হস্তান্তর করতে হবে।\n"
     ]
    },
    {
     "name": "stderr",
     "output_type": "stream",
     "text": [
      "Processing rows:  85%|███████████████████████████████████████████████████▏        | 632/740 [1:49:08<25:03, 13.92s/row]"
     ]
    },
    {
     "name": "stdout",
     "output_type": "stream",
     "text": [
      "Target: parametric answer: যে \"রুশম্যান\" এজেন্ট নাতাশা রোমানফ এবং হাওয়ার্ড স্টার্ক একজন এস.এইচ.আই.ই.এল.ডি. প্রতিষ্ঠাতা যাকে ফিউরি ব্যক্তিগতভাবে জানতেন\n",
      "contextual answer: যে \"রুশম্যান\" এজেন্ট নাতাশা রোমানফ এবং হাওয়ার্ড স্টার্ক একজন এস.এইচ.আই.ই.এল.ডি. প্রতিষ্ঠাতা যাকে ফিউরি ব্যক্তিগতভাবে জানতেন\n",
      "generated: parametric answer:নিক ফিউরি টনি স্টার্ককে বলেছিলেন যে তিনি একটি পর্যাপ্ত শক্তিশালী পদার্থ তৈরি করেছেন এবং এটি চিতারি বাহিনীর বিরুদ্ধে ব্যবহার করতে হবে। এই ব্যাপারে তিনি এভেন্জার্স টিম গঠনের ব্যাপারে স্টার্ককে অভিমত জানান।\n",
      "contextual answer: এস.এইচ.আই.ই.এল.ডি.-র পরিচালক নিক ফিউরি স্টার্কের কাছে উপস্থিত হয়ে প্রকাশ করেছেন যে \"রুশম্যান\" এজেন্ট নাতাশা রোমানফ এবং হাওয়ার্ড স্টার্ক একজন এস.এইচ.আই.ই.এল.ডি. প্রতিষ্ঠাতা যাকে ফিউরি ব্যক্তিগতভাবে জানতেন।\n"
     ]
    },
    {
     "name": "stderr",
     "output_type": "stream",
     "text": [
      "Processing rows:  86%|███████████████████████████████████████████████████▍        | 635/740 [1:49:24<19:56, 11.39s/row]"
     ]
    },
    {
     "name": "stdout",
     "output_type": "stream",
     "text": [
      "Target: parametric answer: ভানকোর বাবা এবং স্টার্ক\n",
      "contextual answer: ভানকোর বাবা এবং স্টার্ক\n",
      "generated: parametric answer:হাওয়ার্ড স্টার্ক একাকারে অর্ক চুল্লিটি আবিষ্কার করেছিলেন।\n",
      "contextual answer: ভানকোর বাবা এবং হাওয়ার্ড স্টার্ক এক সাথে অর্ক চুল্লিটি আবিষ্কার করেছিলেন।\n"
     ]
    },
    {
     "name": "stderr",
     "output_type": "stream",
     "text": [
      "Processing rows:  86%|███████████████████████████████████████████████████▌        | 636/740 [1:49:41<22:23, 12.92s/row]"
     ]
    },
    {
     "name": "stdout",
     "output_type": "stream",
     "text": [
      "Target: parametric answer: গুলাগে\n",
      "contextual answer: গুলাগে\n",
      "generated: parametric answer:গুলাগে।\n",
      "contextual answer: গুলাগে।\"\n"
     ]
    },
    {
     "name": "stderr",
     "output_type": "stream",
     "text": [
      "Processing rows:  86%|███████████████████████████████████████████████████▋        | 637/740 [1:49:55<22:56, 13.36s/row]"
     ]
    },
    {
     "name": "stdout",
     "output_type": "stream",
     "text": [
      "Target: parametric answer: মার্কিন\n",
      "contextual answer: মার্কিন\n",
      "generated: parametric answer:মার্কিন যুক্তরাষ্ট্র।\n",
      "contextual answer: মার্কিন যুক্তরাষ্ট্র।\n"
     ]
    },
    {
     "name": "stderr",
     "output_type": "stream",
     "text": [
      "Processing rows:  86%|███████████████████████████████████████████████████▊        | 639/740 [1:50:09<19:17, 11.46s/row]"
     ]
    },
    {
     "name": "stdout",
     "output_type": "stream",
     "text": [
      "Target: parametric answer: ২০০৬\n",
      "contextual answer: ২০০৬\n",
      "generated: parametric answer:২০০৬ সালে।\n",
      "contextual answer: ২০০৬ সালে।\n"
     ]
    },
    {
     "name": "stderr",
     "output_type": "stream",
     "text": [
      "Processing rows:  86%|███████████████████████████████████████████████████▉        | 640/740 [1:50:23<20:19, 12.20s/row]"
     ]
    },
    {
     "name": "stdout",
     "output_type": "stream",
     "text": [
      "Target: parametric answer: অর্থনীতিতে\n",
      "contextual answer: অর্থনীতিতে\n",
      "generated: parametric answer:অর্থনীতিতে, বিশেষভাবে আর্থিক নโยগ এবং ব্যবসায়কর্মীত্তির সম্পর্কে কাজের জন্য।\n",
      "contextual answer: অর্থনীতিতে।\n"
     ]
    },
    {
     "name": "stderr",
     "output_type": "stream",
     "text": [
      "Processing rows:  87%|███████████████████████████████████████████████████▉        | 641/740 [1:50:37<20:59, 12.72s/row]"
     ]
    },
    {
     "name": "stdout",
     "output_type": "stream",
     "text": [
      "Target: parametric answer: কলাম্বিয়া বিশ্ববিদ্যালয়; পেন্সিলভেনিয়া বিশ্ববিদ্যালয়\n",
      "contextual answer: কলাম্বিয়া বিশ্ববিদ্যালয়; পেন্সিলভেনিয়া বিশ্ববিদ্যালয়\n",
      "generated: parametric answer:পেন্সিলভেনিয়া বিশ্ববিদ্যালয়, কলাম্বিয়া বিশ্ববিদ্যালয়, এবং যেল বিশ্ববিদ্যালয়ে।\n",
      "contextual answer: পেন্সিলভেনিয়া বিশ্ববিদ্যালয় এবং কলাম্বিয়া বিশ্ববিদ্যালয়ে।\n"
     ]
    },
    {
     "name": "stderr",
     "output_type": "stream",
     "text": [
      "Processing rows:  87%|████████████████████████████████████████████████████        | 642/740 [1:50:51<21:22, 13.09s/row]"
     ]
    },
    {
     "name": "stdout",
     "output_type": "stream",
     "text": [
      "Target: parametric answer: আজকাবান থেকে\n",
      "contextual answer: আজকাবান থেকে\n",
      "generated: parametric answer:আজকাবান থেকে।\n",
      "contextual answer: আজকাবান থেকে।\"\n"
     ]
    },
    {
     "name": "stderr",
     "output_type": "stream",
     "text": [
      "Processing rows:  87%|████████████████████████████████████████████████████▏       | 644/740 [1:51:05<17:59, 11.25s/row]"
     ]
    },
    {
     "name": "stdout",
     "output_type": "stream",
     "text": [
      "Target: parametric answer: ডিমেন্টরদের\n",
      "contextual answer: ডিমেন্টরদের\n",
      "generated: parametric answer:ডিমেন্টরদের।\n",
      "contextual answer: ডিমেন্টরদের।\n"
     ]
    },
    {
     "name": "stderr",
     "output_type": "stream",
     "text": [
      "Processing rows:  87%|████████████████████████████████████████████████████▎       | 645/740 [1:51:19<19:05, 12.06s/row]"
     ]
    },
    {
     "name": "stdout",
     "output_type": "stream",
     "text": [
      "Target: parametric answer: তার মন্ত্রক-অনুমোদিত টাইম-টার্নারটি ব্যবহার করে তিন ঘণ্টা সময় পিছিয়ে গিয়ে\n",
      "contextual answer: তার মন্ত্রক-অনুমোদিত টাইম-টার্নারটি ব্যবহার করে তিন ঘণ্টা সময় পিছিয়ে গিয়ে\n",
      "generated: parametric answer:ডাম্বলডোর হারমায়োনিকে তার টাইম-টার্নার ব্যবহার করে সময় পিছিয়ে গিয়ে হিপোগ্রিফ বাকবিক ও সিরিয়াসকে তাদের অন্যায় মৃত্যুদণ্ডাজ্ঞার হাত থেকে উদ্ধার করতে বলেন।\n",
      "contextual answer: ডাম্বলডোর হারমায়োনিকে তার মন্ত্রক-অনুমোদিত টাইম-টার্নারটি ব্যবহার করে তিন ঘণ্টা সময় পিছিয়ে গিয়ে হিপোগ্রিফ বাকবিক ও সিরিয়াসকে তাদের অন্যায় মৃত্যুদণ্ডাজ্ঞার হাত থেকে উদ্ধার করতে বলেন।\n"
     ]
    },
    {
     "name": "stderr",
     "output_type": "stream",
     "text": [
      "Processing rows:  87%|████████████████████████████████████████████████████▍       | 647/740 [1:51:36<17:05, 11.03s/row]"
     ]
    },
    {
     "name": "stdout",
     "output_type": "stream",
     "text": [
      "Target: parametric answer: শহরাঞ্চলে প্রচলিত উচ্চক্ষমতাসম্পন্ন ও দ্রুতগামী বৈদ্যুতিক যাত্রীবাহী রেলব্যবস্থাকে বোঝায়\n",
      "contextual answer: শহরাঞ্চলে প্রচলিত উচ্চক্ষমতাসম্পন্ন ও দ্রুতগামী বৈদ্যুতিক যাত্রীবাহী রেলব্যবস্থাকে বোঝায়\n",
      "generated: parametric answer:দ্রুতগামী গণপরিবহন ব্যবস্থা হলো শহুরে শহরে ব্যবহৃত একটি উচ্চক্ষমতাসম্পন্ন বৈদ্যুতিক যাত্রীবাহী রেলব্যবস্থা, যা পাতাল বা উড়াল রেলপথে চলে এবং অন্য যানবাহন থেকে পৃথকভাবে চলাচল করে।\n",
      "contextual answer: দ্রুতগামী গণপরিবহন ব্যবস্থা বলতে মূলত শহরাঞ্চলে প্রচলিত উচ্চক্ষমতাসম্পন্ন ও দ্রুতগামী বৈদ্যুতিক যাত্রীবাহী রেলব্যবস্থাকে বোঝায়। এই ব্যবস্থার যানবাহন সাধারণত সড়কপথের সমতলে না থেকে ভূগর্ভস্থ পথে (পাতালরেল) বা ভূমি থেকে উঁচুতে নির্মিত রেলপথে (উড়ালরেল) চলে। এই ব্যবস্থার রেলগাড়িগুলি অন্য যানবাহন (যেমন- সাধারণ রেলগাড়ি, গাড়ি, বাস, ট্রাম, ইত্যাদি) থেকে পৃথকভাবে নিজস্ব পথে চলাচল করে।\n"
     ]
    },
    {
     "name": "stderr",
     "output_type": "stream",
     "text": [
      "Processing rows:  88%|████████████████████████████████████████████████████▌       | 648/740 [1:51:54<20:05, 13.10s/row]"
     ]
    },
    {
     "name": "stdout",
     "output_type": "stream",
     "text": [
      "Target: parametric answer: স্তর-পৃথকীকৃত ভূসমতলস্থিত\n",
      "contextual answer: স্তর-পৃথকীকৃত ভূসমতলস্থিত\n",
      "generated: parametric answer:উড়াল পথের উপর।\n",
      "contextual answer: স্তর-পৃথকীকৃত ভূসমতলস্থিত পথের উপর।\n"
     ]
    },
    {
     "name": "stderr",
     "output_type": "stream",
     "text": [
      "Processing rows:  88%|████████████████████████████████████████████████████▌       | 649/740 [1:52:10<21:08, 13.94s/row]"
     ]
    },
    {
     "name": "stdout",
     "output_type": "stream",
     "text": [
      "Target: parametric answer: সাধারণ রেলগাড়ি; গাড়ি; বাস; ট্রাম\n",
      "contextual answer: সাধারণ রেলগাড়ি; গাড়ি; বাস; ট্রাম\n",
      "generated: parametric answer:সাধারণ রেলগাড়ি, গাড়ি, বাস, ট্রাম, ইত্যাদি।\n",
      "contextual answer: সাধারণ রেলগাড়ি, গাড়ি, বাস, ট্রাম, ইত্যাদি।\n"
     ]
    },
    {
     "name": "stderr",
     "output_type": "stream",
     "text": [
      "Processing rows:  88%|████████████████████████████████████████████████████▋       | 650/740 [1:52:25<21:30, 14.34s/row]"
     ]
    },
    {
     "name": "stdout",
     "output_type": "stream",
     "text": [
      "Target: parametric answer: শহরের বাইরে\n",
      "contextual answer: শহরের বাইরে\n",
      "generated: parametric answer:সাধারণত সড়কপথের সমতলে না থেকে।\n",
      "contextual answer: সাধারণত সড়কপথের সমতলে না থেকে।\n"
     ]
    },
    {
     "name": "stderr",
     "output_type": "stream",
     "text": [
      "Processing rows:  88%|████████████████████████████████████████████████████▊       | 651/740 [1:52:41<22:03, 14.88s/row]"
     ]
    },
    {
     "name": "stdout",
     "output_type": "stream",
     "text": [
      "Target: parametric answer: শেষ তুষারযুগে বিভিন্ন শীতসহিষ্ণু উদ্ভিদ এবং প্রাণী প্রজাতি (যেমন নরওয়ে স্প্রুস এবং নরওয়েজিয়ান লেমিংস) ইউরোপের আল্পসের উত্তরে বরফ-মুক্ত মাইক্রোরেফুজিয়াতে উপস্থিত ছিল\n",
      "contextual answer: শেষ তুষারযুগে বিভিন্ন শীতসহিষ্ণু উদ্ভিদ এবং প্রাণী প্রজাতি (যেমন নরওয়ে স্প্রুস এবং নরওয়েজিয়ান লেমিংস) ইউরোপের আল্পসের উত্তরে বরফ-মুক্ত মাইক্রোরেফুজিয়াতে উপস্থিত ছিল\n",
      "generated: parametric answer:হিমবাহ উদ্বর্তন অনুকল্প অনুসারে, শেষ তুষারযুগে শীতসহিষ্ণু উদ্ভিদ এবং প্রাণী প্রজাতিরা উত্তরের বরফ-মুক্ত মাইক্রোরেফুজিয়াতে বেঁচে থাকে এবং তুষারযুগের পর দক্ষিণে বিস্তৃত হয়।\n",
      "contextual answer: শেষ তুষারযুগে বিভিন্ন শীতসহিষ্ণু উদ্ভিদ এবং প্রাণী প্রজাতি (যেমন নরওয়ে স্প্রুস এবং নরওয়েজিয়ান লেমিংস) ইউরোপের আল্পসের উত্তরে বরফ-মুক্ত মাইক্রোরেফুজিয়াতে উপস্থিত ছিল বলে ধারণা করা হয়।\n"
     ]
    },
    {
     "name": "stderr",
     "output_type": "stream",
     "text": [
      "Processing rows:  88%|████████████████████████████████████████████████████▉       | 653/740 [1:52:55<18:07, 12.50s/row]"
     ]
    },
    {
     "name": "stdout",
     "output_type": "stream",
     "text": [
      "Target: parametric answer: তুষারাবৃত অঞ্চলগুলোতে সব প্রজাতি বিলুপ্ত হয়েছিলো এবং দক্ষিণে সীমান্তবর্তী রেফুজিয়াতে যারা বেচে ছিলো যারা তুষার যুগের পর খালি অঞ্চলগুলোতে স্থানান্তরিত হয়েছিলো\n",
      "contextual answer: তুষারাবৃত অঞ্চলগুলোতে সব প্রজাতি বিলুপ্ত হয়েছিলো এবং দক্ষিণে সীমান্তবর্তী রেফুজিয়াতে যারা বেচে ছিলো যারা তুষার যুগের পর খালি অঞ্চলগুলোতে স্থানান্তরিত হয়েছিলো\n",
      "generated: parametric answer:ট্যাবুলা রাসা হাইপোথিসিস হলো এই ধারণা যে, তুষারযুগে উত্তরের অঞ্চলগুলোতে প্রজাতির বিলুপ্তি হয়েছিল এবং তুষারযুগের পর দক্ষিণে থাকা প্রজাতিগুলো উত্তরে স্থানান্তরিত হয়েছিল।\n",
      "contextual answer: ট্যাবুলা রাসা হাইপোথিসিস হলো এই ধারণা যে, তুষারযুগে উত্তরের বরফ-মুক্ত মাইক্রোরেফুজিয়াতে উদ্ভিদ এবং প্রাণী প্রজাতির অনুপস্থিতি ছিল এবং তুষারযুগের পর দক্ষিণে সীমান্তবর্তী রেফুজিয়াতে থাকা প্রজাতিগুলো খালি অঞ্চলগুলোতে স্থানান্তরিত হয়েছিলো।\n"
     ]
    },
    {
     "name": "stderr",
     "output_type": "stream",
     "text": [
      "Processing rows:  89%|█████████████████████████████████████████████████████       | 655/740 [1:53:13<16:13, 11.45s/row]"
     ]
    },
    {
     "name": "stdout",
     "output_type": "stream",
     "text": [
      "Target: parametric answer: ১.৫ ভোল্টের নামমাত্র ভোল্টেজ\n",
      "contextual answer: ১.৫ ভোল্টের নামমাত্র ভোল্টেজ\n",
      "generated: parametric answer:১.৫ ভোল্ট।\n",
      "contextual answer: ১.৫ ভোল্ট।\"\n"
     ]
    },
    {
     "name": "stderr",
     "output_type": "stream",
     "text": [
      "Processing rows:  89%|█████████████████████████████████████████████████████▎      | 658/740 [1:53:27<12:51,  9.41s/row]"
     ]
    },
    {
     "name": "stdout",
     "output_type": "stream",
     "text": [
      "Target: parametric answer: অ্যামোনিয়াম ক্লোরাইড; ম্যাঙ্গানিজ ডাই অক্সাইড সমন্বিত অন্য একটি পেস্ট\n",
      "contextual answer: অ্যামোনিয়াম ক্লোরাইড; ম্যাঙ্গানিজ ডাই অক্সাইড সমন্বিত অন্য একটি পেস্ট\n",
      "generated: parametric answer:অ্যামোনিয়াম ক্লোরাইড এবং ম্যাঙ্গানিজ ডাই অক্সাইড সমন্বিত পেস্ট।\n",
      "contextual answer: অ্যামোনিয়াম ক্লোরাইড এবং ম্যাঙ্গানিজ ডাই অক্সাইড সমন্বিত একটি পেস্ট।\n"
     ]
    },
    {
     "name": "stderr",
     "output_type": "stream",
     "text": [
      "Processing rows:  89%|█████████████████████████████████████████████████████▍      | 659/740 [1:53:43<15:21, 11.38s/row]"
     ]
    },
    {
     "name": "stdout",
     "output_type": "stream",
     "text": [
      "Target: parametric answer: সাধারণত নলাকার পাত্রের আকারের একটি দস্তা অ্যানোড; একটি কেন্দ্রীয় দণ্ড আকারের কার্বন ক্যাথোড\n",
      "contextual answer: সাধারণত নলাকার পাত্রের আকারের একটি দস্তা অ্যানোড; একটি কেন্দ্রীয় দণ্ড আকারের কার্বন ক্যাথোড\n",
      "generated: parametric answer:একটি মানসম্পন্ন শুষ্ক কোষে অ্যানোড হল জিংক এবং ক্যাথোড হল কার্বন।\n",
      "contextual answer: একটি মানসম্পন্ন শুষ্ক কোষে অ্যানোড হল জিংক এবং ক্যাথোড হল কার্বন।\n"
     ]
    },
    {
     "name": "stderr",
     "output_type": "stream",
     "text": [
      "Processing rows:  89%|█████████████████████████████████████████████████████▌      | 660/740 [1:53:57<16:11, 12.15s/row]"
     ]
    },
    {
     "name": "stdout",
     "output_type": "stream",
     "text": [
      "Target: parametric answer: বই; ডিভিডি; ভিডিও টিউটোরিয়াল; ক্রীড়া সামগ্রী; অন্য রকম বিজ্ঞান বাক্স (বিজ্ঞান পরীক্ষণের কিট); ক্যালকুলেটর; ঘড়ি; পেনড্রাইভ; কম্পিউটারের নানাবিধ যন্ত্রাংশসহ বিভিন্ন পণ্য\n",
      "contextual answer: বই; ডিভিডি; ভিডিও টিউটোরিয়াল; ক্রীড়া সামগ্রী; অন্য রকম বিজ্ঞান বাক্স (বিজ্ঞান পরীক্ষণের কিট); ক্যালকুলেটর; ঘড়ি; পেনড্রাইভ; কম্পিউটারের নানাবিধ যন্ত্রাংশসহ বিভিন্ন পণ্য\n",
      "generated: parametric answer:রকমারিতে বই, ইলেক্ট্রনিক্স, হোম এপ্লিয়ান্স, ফ্যাশন আইเทম, বিজ্ঞান বাক্স, ক্রীড়া সামগ্রী, স্টেশনারী, ব্যাটেরি, ক্যারের অংশ, ওয়াইন্ডো প্লাস্টিক, ওয়াইন্ডো ফাইল, ওয়াইন্ডো ফাইল সেট, ওয়াইন্ডো ফাইল সেট, ওয়াইন্ডো ফাইল সেট, ওয়াইন্ডো ফাইল সেট, ওয়াইন্ডো ফাইল সেট, ওয়াইন্ডো ফাইল সেট, ওয়াইন্ডো ফাইল সেট, ওয়াইন্ডো ফাইল সেট, ওয়াইন্ডো ফাইল সেট, ওয়াইন্ডো ফাইল সেট, ওয়াইন্ডো ফাইল সেট, ওয়াইন্ডো ফাইল সেট, ওয়াইন্ডো ফাইল সেট, ওয়াইন্ডো ফাইল সেট, ওয়াইন্ডো ফাইল সেট, ওয়াইন্ডো ফাইল সেট, ওয়াইন্ডো ফাইল সেট, ওয়াইন্ডো ফাইল সেট, ওয়াইন্ডো ফাইল সেট, ওয়াইন্ডো ফাইল সেট, ওয়াইন্ডো ফাইল সেট, ওয়াইন্ডো ফাইল সেট, ওয়াইন্ডো ফাইল সেট, ওয়াইন্ডো ফাইল সেট, ওয়াইন্ডো ফাইল সেট, ওয়াইন্ডো ফাইল সেট, ওয়াইন্ডো ফাইল সেট, ওয়াইন্ডো ফাইল সেট, ওয়াইন্ডো ফাইল সেট, ওয়াইন্ডো ফাইল সেট, ওয়াইন্ডো ফাইল সেট, ওয়াইন্ডো ফাইল সেট, ওয়াইন্ডো ফাইল সেট, ওয়াইন্ডো ফাইল সেট, ওয়াইন্ডো ফাইল সেট, ওয়াইন্ডো ফাইল সেট, ওয়াইন্ডো ফাইল সেট, ওয়াইন্ড\n",
      "contextual answer: রকমারি ডট কমে পাওয়া যায়: বই, ডিভিডি, ভিডিও টিউটোরিয়াল, ক্রীড়া সামগ্রী, বিজ্ঞান বাক্স (বিজ্ঞান পরীক্ষণের কিট), ক্যালকুলেটর, ঘড়ি, পেন, পেনড্রাইভ, কম্পিউটারের নানাবিধ যন্ত্রাংশ, ইলেক্ট্রনিক্স সামগ্রী, স্টেশনারী ও অন্যান্য জিনিসপত্র।\n"
     ]
    },
    {
     "name": "stderr",
     "output_type": "stream",
     "text": [
      "Processing rows:  90%|█████████████████████████████████████████████████████▊      | 663/740 [1:54:11<12:42,  9.90s/row]"
     ]
    },
    {
     "name": "stdout",
     "output_type": "stream",
     "text": [
      "Target: parametric answer: আবুল হাসান লিটন; এহতেশামুল শামস রাকিব; জুবায়ের বিন আমিন; মোঃ খায়রুল আনাম\n",
      "contextual answer: আবুল হাসান লিটন; এহতেশামুল শামস রাকিব; জুবায়ের বিন আমিন; মোঃ খায়রুল আনাম\n",
      "generated: parametric answer:মাহমুদুল হাসান সোহাগ, আবুল হাসান লিটন, এহতেশামুল শামস রাকিব, জুবায়ের বিন আমিন এবং মোঃ খায়রুল আনাম।\n",
      "contextual answer: মাহমুদুল হাসান সোহাগ, আবুল হাসান লিটন, এহতেশামুল শামস রাকিব, জুবায়ের বিন আমিন এবং মোঃ খায়রুল আনাম।\n"
     ]
    },
    {
     "name": "stderr",
     "output_type": "stream",
     "text": [
      "Processing rows:  90%|█████████████████████████████████████████████████████▊      | 664/740 [1:54:25<14:06, 11.14s/row]"
     ]
    },
    {
     "name": "stdout",
     "output_type": "stream",
     "text": [
      "Target: parametric answer: ই-বাণিজ্য সাইট\n",
      "contextual answer: ই-বাণিজ্য সাইট\n",
      "generated: parametric answer:রকমারি.কম হলো বাংলাদেশের একটি পopular ই-বাণিজ্য সাইট, যা বই, ইলেক্ট্রনিক্স, এবং অন্যান্য পণ্য বিক্রি করে।\n",
      "contextual answer: রকমারি.কম হচ্ছে বাংলাদেশের একটি অনলাইনভিত্তিক পণ্য কেনার ওয়েবসাইট।\n"
     ]
    },
    {
     "name": "stderr",
     "output_type": "stream",
     "text": [
      "Processing rows:  90%|█████████████████████████████████████████████████████▉      | 665/740 [1:54:42<15:56, 12.76s/row]"
     ]
    },
    {
     "name": "stdout",
     "output_type": "stream",
     "text": [
      "Target: parametric answer: ২০১২\n",
      "contextual answer: ২০১২\n",
      "generated: parametric answer:২০১২ সালে।\n",
      "contextual answer: ২০১২ সালে।\n"
     ]
    },
    {
     "name": "stderr",
     "output_type": "stream",
     "text": [
      "Processing rows:  90%|██████████████████████████████████████████████████████      | 667/740 [1:54:56<13:30, 11.10s/row]"
     ]
    },
    {
     "name": "stdout",
     "output_type": "stream",
     "text": [
      "Target: parametric answer: মুঘল সম্রাট হুমায়ুন\n",
      "contextual answer: মুঘল সম্রাট হুমায়ুন\n",
      "generated: parametric answer:হুমায়ুন।\n",
      "contextual answer: হুমায়ুন।\n"
     ]
    },
    {
     "name": "stderr",
     "output_type": "stream",
     "text": [
      "Processing rows:  90%|██████████████████████████████████████████████████████▏     | 668/740 [1:55:10<14:20, 11.95s/row]"
     ]
    },
    {
     "name": "stdout",
     "output_type": "stream",
     "text": [
      "Target: parametric answer: মুঘলদের\n",
      "contextual answer: মুঘলদের\n",
      "generated: parametric answer:মুঘলদের।\n",
      "contextual answer: মুঘলদের।\n"
     ]
    },
    {
     "name": "stderr",
     "output_type": "stream",
     "text": [
      "Processing rows:  90%|██████████████████████████████████████████████████████▏     | 669/740 [1:55:24<14:51, 12.55s/row]"
     ]
    },
    {
     "name": "stdout",
     "output_type": "stream",
     "text": [
      "Target: parametric answer: চারটি\n",
      "contextual answer: চারটি\n",
      "generated: parametric answer:চারটি।\n",
      "contextual answer: চারটি।\"\n"
     ]
    },
    {
     "name": "stderr",
     "output_type": "stream",
     "text": [
      "Processing rows:  91%|██████████████████████████████████████████████████████▎     | 670/740 [1:55:38<15:09, 13.00s/row]"
     ]
    },
    {
     "name": "stdout",
     "output_type": "stream",
     "text": [
      "Target: parametric answer: আবদুল গফুর জনসাধারণের সাথে তার খাবার ভাগ করে নেওয়ার অনুমতি পান\n",
      "contextual answer: আবদুল গফুর জনসাধারণের সাথে তার খাবার ভাগ করে নেওয়ার অনুমতি পান\n",
      "generated: parametric answer:আবদুল গফুর কলকাতার চাঁদনী চকের ঘন্টা ঘর এলাকায় মিষ্টির দোকান খোলেন এবং তার দোকান পরবর্তীতে চারটি শাখাযুক্ত একটি চেইন শপে বিস্তৃত হয়েছিল।\n",
      "contextual answer: আবদুল গফুর ১৮৩৫ সালে জনসাধারণের সাথে তার খাবার ভাগ করে নেওয়ার অনুমতি পান ও ভারতের চাঁদনী চকের ঘন্টা ঘর এলাকায় একটি দোকান খোলেন।\n"
     ]
    },
    {
     "name": "stderr",
     "output_type": "stream",
     "text": [
      "Processing rows:  91%|██████████████████████████████████████████████████████▍     | 671/740 [1:55:56<16:41, 14.51s/row]"
     ]
    },
    {
     "name": "stdout",
     "output_type": "stream",
     "text": [
      "Target: parametric answer: ৮ই মার্চ\n",
      "contextual answer: ৮ই মার্চ\n",
      "generated: parametric answer:৮ই মার্চ\n",
      "contextual answer: ৮ই মার্চ\n"
     ]
    },
    {
     "name": "stderr",
     "output_type": "stream",
     "text": [
      "Processing rows:  91%|██████████████████████████████████████████████████████▌     | 673/740 [1:56:10<13:42, 12.27s/row]"
     ]
    },
    {
     "name": "stdout",
     "output_type": "stream",
     "text": [
      "Target: parametric answer: না\n",
      "contextual answer: না\n",
      "generated: parametric answer:না, সেগুলো ফ্লাইট ৩৭০-এর ছিল না।\n",
      "contextual answer: না, সেগুলো ফ্লাইট ৩৭০-এর ছিল না।\n"
     ]
    },
    {
     "name": "stderr",
     "output_type": "stream",
     "text": [
      "Processing rows:  91%|██████████████████████████████████████████████████████▋     | 674/740 [1:56:24<14:03, 12.78s/row]"
     ]
    },
    {
     "name": "stdout",
     "output_type": "stream",
     "text": [
      "Target: parametric answer: মালয়েশিয়া; অস্ট্রেলিয়া; বাংলাদেশ; ব্রুনাই,; চীন; ভারত; ইন্দোনেশিয়া; জাপান; নিউজিল্যান্ড; ফিলিপাইন; সিঙ্গাপুর; দক্ষিণ কোরিয়া; তাইওয়ান; থাইল্যান্ড; যুক্তরাষ্ট্র; ভিয়েতনাম\n",
      "contextual answer: মালয়েশিয়া; অস্ট্রেলিয়া; বাংলাদেশ; ব্রুনাই,; চীন; ভারত; ইন্দোনেশিয়া; জাপান; নিউজিল্যান্ড; ফিলিপাইন; সিঙ্গাপুর; দক্ষিণ কোরিয়া; তাইওয়ান; থাইল্যান্ড; যুক্তরাষ্ট্র; ভিয়েতনাম\n",
      "generated: parametric answer:মালয়েশিয়া, অস্ট্রেলিয়া, চীন, ভারত, ইন্দোনেশিয়া, জাপান, সিঙ্গাপুর, থাইল্যান্ড, যুক্তরাষ্ট্র।\n",
      "contextual answer: মালয়েশিয়া, অস্ট্রেলিয়া, বাংলাদেশ, ব্রুনাই, চীন, ভারত, ইন্দোনেশিয়া, জাপান, নিউজিল্যান্ড, ফিলিপাইন, সিঙ্গাপুর, দক্ষিণ কোরিয়া, তাইওয়ান, থাইল্যান্ড, যুক্তরাষ্ট্র, ভিয়েতনাম।\n"
     ]
    },
    {
     "name": "stderr",
     "output_type": "stream",
     "text": [
      "Processing rows:  91%|██████████████████████████████████████████████████████▋     | 675/740 [1:56:38<14:13, 13.13s/row]"
     ]
    },
    {
     "name": "stdout",
     "output_type": "stream",
     "text": [
      "Target: parametric answer: রয়াল থাই নৌবাহিনী মালয়েশিয়ার পক্ষ থেকে অনুরোধ পেয়ে\n",
      "contextual answer: রয়াল থাই নৌবাহিনী মালয়েশিয়ার পক্ষ থেকে অনুরোধ পেয়ে\n",
      "generated: parametric answer:বিমানটির দিক পরিবর্তন হয়েছিল এবং স্যাটেলাইট ডাটা দেখায় যে এটি পশ্চিমে ফ্লাইট করছিল, সুতরাং অনুসন্ধান কার্যক্রম আন্দামান সাগরে স্থানান্তরিত করা হয়েছিল।\n",
      "contextual answer: বিমানটি সম্ভবত দিক পরিবর্তন করেছিল ও আন্দামান সাগরের দিকে গিয়েছিল।\n"
     ]
    },
    {
     "name": "stderr",
     "output_type": "stream",
     "text": [
      "Processing rows:  91%|██████████████████████████████████████████████████████▉     | 677/740 [1:56:54<12:07, 11.55s/row]"
     ]
    },
    {
     "name": "stdout",
     "output_type": "stream",
     "text": [
      "Target: parametric answer: ১৯৭৭\n",
      "contextual answer: ১৯৭৭\n",
      "generated: parametric answer:১৯৭৭ সালে।\n",
      "contextual answer: ১৯৭৭ সালে।\n"
     ]
    },
    {
     "name": "stderr",
     "output_type": "stream",
     "text": [
      "Processing rows:  92%|██████████████████████████████████████████████████████▉     | 678/740 [1:57:08<12:40, 12.27s/row]"
     ]
    },
    {
     "name": "stdout",
     "output_type": "stream",
     "text": [
      "Target: parametric answer: সংরক্ষণশীল দলগুলোর সমালোচনা এবং শিক্ষা প্রতিষ্ঠানগুলোতে থাকা নারীদের মধ্যে বিদ্যমান সাদা বর্ণের অস্তিত্ববাদী এবং বিপরীত লিঙ্গের জন্য ভিন্ন ভিন্ন সূবিধার বিষয়গুলো নিয়ে নারী আন্দোলনের সাথে জড়িত নারীদের উদ্বিগ্নতার কারণে\n",
      "contextual answer: সংরক্ষণশীল দলগুলোর সমালোচনা এবং শিক্ষা প্রতিষ্ঠানগুলোতে থাকা নারীদের মধ্যে বিদ্যমান সাদা বর্ণের অস্তিত্ববাদী এবং বিপরীত লিঙ্গের জন্য ভিন্ন ভিন্ন সূবিধার বিষয়গুলো নিয়ে নারী আন্দোলনের সাথে জড়িত নারীদের উদ্বিগ্নতার কারণে\n",
      "generated: parametric answer:১৯৮০ এর দিকে নারী বিদ্যার ক্ষেত্রটি বাধাগ্রস্ত হয়েছিল কারণ সংরক্ষণশীল দলগুলোর বিরোধ এবং নারীবাদী আন্দোলনের মধ্যে বিভাদ, সাথে সাথে সমাজের রাজনৈতিক পরিবর্তন।\n",
      "contextual answer: ১৯৮০ এর দিকে নারী বিদ্যার ক্ষেত্রটি বাধাগ্রস্ত হয়েছিল কারণ সংরক্ষণশীল দলগুলোর সমালোচনা এবং শিক্ষা প্রতিষ্ঠানগুলোতে থাকা নারীদের মধ্যে বিদ্যমান সাদা বর্ণের অস্তিত্ববাদী এবং বিপরীত লিঙ্গের জন্য ভিন্ন ভিন্ন সূবিধার বিষয়গুলো নিয়ে নারী আন্দোলনের সাথে জড়িত নারীদের উদ্বিগ্নতা।\n"
     ]
    },
    {
     "name": "stderr",
     "output_type": "stream",
     "text": [
      "Processing rows:  92%|███████████████████████████████████████████████████████     | 679/740 [1:57:24<13:47, 13.57s/row]"
     ]
    },
    {
     "name": "stdout",
     "output_type": "stream",
     "text": [
      "Target: parametric answer: “নারী” -এর ধারণা বর্ধিত হতে থাকায়, লিঙ্গের সামাজিক গঠন আবিষ্কারের ফলে\n",
      "contextual answer: “নারী” -এর ধারণা বর্ধিত হতে থাকায়, লিঙ্গের সামাজিক গঠন আবিষ্কারের ফলে\n",
      "generated: parametric answer:উভয় লিঙ্গ অধ্যায়ন এবং যৌনতা অধ্যায়ন মার্কিন যুক্তরাষ্ট্রে ১৯৬০ এবং ১৯৭০ দশকে নারীবাদী আন্দোলনের সাথে যুক্ত হয়ে শুরু হয়, এবং পরবর্তীতে বিশ্ববিদ্যালয়গুলোতে নারী বিদ্যার কোর্সগুলোর মাধ্যমে প্রাতিষ্ঠানিকভাবে বিকাশ লাভ করে।\n",
      "contextual answer: এই ক্ষেত্রটি বিস্তৃত হয় এবং উভয় লিঙ্গ অধ্যায়ন এবং যৌনতা অধ্যায়ন শুরু হয় কারণ \"নারী\" -এর ধারণা বর্ধিত হতে থাকায়, লিঙ্গের সামাজিক গঠন আবিষ্কারের ফলে।\n"
     ]
    },
    {
     "name": "stderr",
     "output_type": "stream",
     "text": [
      "Processing rows:  92%|███████████████████████████████████████████████████████▏    | 680/740 [1:57:42<14:52, 14.88s/row]"
     ]
    },
    {
     "name": "stdout",
     "output_type": "stream",
     "text": [
      "Target: parametric answer: অধ্যাপকের বিকেন্দ্রীকরণ\n",
      "contextual answer: অধ্যাপকের বিকেন্দ্রীকরণ\n",
      "generated: parametric answer:অধ্যাপকের বিকেন্দ্রীকরণ।\n",
      "contextual answer: অধ্যাপকের বিকেন্দ্রীকরণ।\n"
     ]
    },
    {
     "name": "stderr",
     "output_type": "stream",
     "text": [
      "Processing rows:  92%|███████████████████████████████████████████████████████▍    | 683/740 [1:57:57<11:16, 11.86s/row]"
     ]
    },
    {
     "name": "stdout",
     "output_type": "stream",
     "text": [
      "Target: parametric answer: মিডিয়া সাক্ষরতা; যৌনতা, জাতি এবং জাতিগত বিষয়; মহিলাদের জড়িত ইতিহাস; কৌতুক তত্ত্ব; বহুসংস্কৃতিবাদ \n",
      "contextual answer: মিডিয়া সাক্ষরতা; যৌনতা, জাতি এবং জাতিগত বিষয়; মহিলাদের জড়িত ইতিহাস; কৌতুক তত্ত্ব; বহুসংস্কৃতিবাদ \n",
      "generated: parametric answer:মহিলা অধ্যয়নের পাঠ্যক্রমগুলি সামাজিক ন্যায়বিচার, লিঙ্গ সম্পর্ক, নারীবাদী তত্ত্ব, মহিলাদের ইতিহাস, মিডিয়া এবং সংস্কৃতি, যৌনতা এবং সম্পর্ক, জাতি এবং শ্রেণি বিষয়ক, স্বাস্থ্য এবং পরিবেশ, কার্যকলাপ এবং সমাজের পরিবর্তন সহ বিভিন্ন বিষয়ে মনোনিবেশ করে। এগুলি সামাজিক বিষয়গুলির বিশ্লেষণ, সমাজের বৈষম্য এবং পরিবর্তনের সমস্যাগুলির সমাধানের প্রক্রিয়াগুলি শিখায়।\n",
      "contextual answer: মহিলা অধ্যয়নের পাঠ্যক্রমগুলি মিডিয়া সাক্ষরতা, যৌনতা, জাতি এবং জাতিগত বিষয়, মহিলাদের জড়িত ইতিহাস, কৌতুক তত্ত্ব, বহুসংস্কৃতিবাদ এবং ঘনিষ্ঠভাবে সম্পর্কিত অন্যান্য কোর্সে মনোনিবেশ করে। অনুষদ জনপ্রিয় সংস্কৃতি, অর্থনীতিতে নারী, প্রজনন ও পরিবেশগত ন্যায়বিচার এবং জীবনকাল জুড়ে মহিলাদের স্বাস্থ্য সহ বিভিন্ন বিষয় জুড়ে এই উপাদানগুলিকে শ্রেণিতে অন্তর্ভুক্ত করে।\n"
     ]
    },
    {
     "name": "stderr",
     "output_type": "stream",
     "text": [
      "Processing rows:  92%|███████████████████████████████████████████████████████▍    | 684/740 [1:58:11<11:39, 12.48s/row]"
     ]
    },
    {
     "name": "stdout",
     "output_type": "stream",
     "text": [
      "Target: parametric answer: সামাজিক পরিবর্তন আনার এবং সমাজে বিদ্যুতের বৈষম্য সম্পর্কে কিছু করার জন্য\n",
      "contextual answer: সামাজিক পরিবর্তন আনার এবং সমাজে বিদ্যুতের বৈষম্য সম্পর্কে কিছু করার জন্য\n",
      "generated: parametric answer:মহিলা অধ্যয়নরত শিক্ষার্থীরা সমাজে সামাজিক ন্যায়বিচার বাড়ার এবং মহিলাদের সম্পর্কে বৈষম্য কমার উদ্দেশ্য নিয়ে বিশ্ববিদ্যালয় ছেড়ে দেয়।\n",
      "contextual answer: মহিলা অধ্যয়নরত শিক্ষার্থীরা সমাজে সামাজিক পরিবর্তন আনার এবং সমাজে বিদ্যুতের বৈষম্য সম্পর্কে কিছু করার উদ্দেশ্য নিয়ে বিশ্ববিদ্যালয় ছেড়ে দেয়।\n"
     ]
    },
    {
     "name": "stderr",
     "output_type": "stream",
     "text": [
      "Processing rows:  93%|███████████████████████████████████████████████████████▌    | 685/740 [1:58:27<12:26, 13.56s/row]"
     ]
    },
    {
     "name": "stdout",
     "output_type": "stream",
     "text": [
      "Target: parametric answer: কোকো\n",
      "contextual answer: কোকো\n",
      "generated: parametric answer:কোকো।\n",
      "contextual answer: কোকো।\n"
     ]
    },
    {
     "name": "stderr",
     "output_type": "stream",
     "text": [
      "Processing rows:  93%|███████████████████████████████████████████████████████▊    | 688/740 [1:58:41<09:26, 10.89s/row]"
     ]
    },
    {
     "name": "stdout",
     "output_type": "stream",
     "text": [
      "Target: parametric answer: সেপ্টেম্বর ২০০১\n",
      "contextual answer: সেপ্টেম্বর ২০০১\n",
      "generated: parametric answer:২০০১ সালের সেপ্টেম্বরে।\n",
      "contextual answer: ২০০১ সালের সেপ্টেম্বরে।\n"
     ]
    },
    {
     "name": "stderr",
     "output_type": "stream",
     "text": [
      "Processing rows:  93%|███████████████████████████████████████████████████████▊    | 689/740 [1:58:55<10:01, 11.80s/row]"
     ]
    },
    {
     "name": "stdout",
     "output_type": "stream",
     "text": [
      "Target: parametric answer: না\n",
      "contextual answer: না\n",
      "generated: parametric answer:আইভরি কোস্টের শিশুশ্রম কমানোর অঙ্গীকার ২০১৫ সালের শেষের দিকে পূরণ হয়নি।\n",
      "contextual answer: আইভরি কোস্টের শিশুশ্রম কমানোর অঙ্গীকার ২০১৫ সালের শেষের দিকে পূরণ হয়নি।\n"
     ]
    },
    {
     "name": "stderr",
     "output_type": "stream",
     "text": [
      "Processing rows:  93%|███████████████████████████████████████████████████████▉    | 690/740 [1:59:09<10:22, 12.45s/row]"
     ]
    },
    {
     "name": "stdout",
     "output_type": "stream",
     "text": [
      "Target: parametric answer: ঢাকা মেট্রোপলিটন পুলিশ স্পেশাল উইপন্স অ্যান্ড ট্যাকটিক্স টিম\n",
      "contextual answer: ঢাকা মেট্রোপলিটন পুলিশ স্পেশাল উইপন্স অ্যান্ড ট্যাকটিক্স টিম\n",
      "generated: parametric answer:সোয়াট (Special Weapons and Tactics) হলো এক種 বিশেষ পুলিশ ইউনিট, যা বিভিন্ন দেশে উদ্ধারকাজ, কানুন নির্বাহ, এবং অন্যান্য কঠিন অভিযানের জন্য ব্যবহার করা হয়। এই ইউনিটের সদস্যরা শারীরিক কঠোরতা, সুস্থতা, মানসিক দৃঢ়তা এবং খাটতে পারার ক্ষমতা বিষয়ক কঠোর নিয়োগ পরীক্ষার মাধ্যমে নির্বাচিত হয়। এটি বিশেষ অস্ত্র এবং কৌশল ব্যবহার করে কাজ করে।\n",
      "contextual answer: সোয়াট (Special Weapons and Tactics) হলো ঢাকা মেট্রোপলিটন পুলিশের একটি অভিজাত কৌশলী ইউনিট, যা ২৮ ফেব্রুয়ারি, ২০০৯ সালে প্রতিষ্ঠিত হয়। এই ইউনিটটি পুলিশের গোয়েন্দা শাখার অধীনে পরিচালিত হয় এবং মার্কিন সোয়াট টিমের আদলে নির্মিত হয়। এটি সশস্ত্র উদ্ধারকাজ এবং অন্যান্য কঠিন অভিযানের জন্য স্থাপিত হয়েছে। এই ইউনিটের সদস্যরা শারীরিক কঠোরতা, সুস্থতা, মানসিক দৃঢ়তা এবং খাটতে পারার ক্ষমতা বিষয়ক কঠোর নিয়োগ পরীক্ষার মাধ্যমে নির্বাচিত হয়। এটি মার্কিন সোয়াট ও মেরিন স্ট্যান্ডার্ডের অস্ত্র ব্যবহার করে।\n"
     ]
    },
    {
     "name": "stderr",
     "output_type": "stream",
     "text": [
      "Processing rows:  94%|████████████████████████████████████████████████████████▎   | 694/740 [1:59:26<07:42, 10.05s/row]"
     ]
    },
    {
     "name": "stdout",
     "output_type": "stream",
     "text": [
      "Target: parametric answer: আমেরিকা; দক্ষিণ কোরিয়া; ইরাক\n",
      "contextual answer: আমেরিকা; দক্ষিণ কোরিয়া; ইরাক\n",
      "generated: parametric answer:আমেরিকা, কানাডা, জাপান, মালয়েশিয়া, ব্রিটেন, ফ্রান্স, জার্মানি, ইтаলি, আustralia, ইন্দোনেশিয়া, ভারত, ইরাক, দক্ষিণ কোরিয়া, মুম্বাই (ভারত), ইত্যাদি।\n",
      "contextual answer: আমেরিকা, দক্ষিণ কোরিয়া, ইরাক, জাপান, মালয়েশিয়া, ব্রিটেন, মুম্বাই (ভারত), ইন্দোনেশিয়া।\n"
     ]
    },
    {
     "name": "stderr",
     "output_type": "stream",
     "text": [
      "Processing rows:  94%|████████████████████████████████████████████████████████▍   | 696/740 [1:59:43<06:56,  9.46s/row]"
     ]
    },
    {
     "name": "stdout",
     "output_type": "stream",
     "text": [
      "Target: parametric answer: ওইনিবার রাজবংশ; দরভঙ্গা রাজ (খণ্ডবাল)\n",
      "contextual answer: ওইনিবার রাজবংশ; দরভঙ্গা রাজ (খণ্ডবাল)\n",
      "generated: parametric answer:মিথিলা অঞ্চলে বিভিন্ন বংশীয় পরিবার ছিল, যেমন রাজবংশ, খণ্ডবাল, শ্রীবস্তব, ভূমিহার, এবং ব্রাহ্মণ পরিবার।\n",
      "contextual answer: ওইনিবার রাজবংশ এবং দরভঙ্গা রাজ (খণ্ডবাল) বংশীয় পরিবার ছিল।\n"
     ]
    },
    {
     "name": "stderr",
     "output_type": "stream",
     "text": [
      "Processing rows:  94%|████████████████████████████████████████████████████████▌   | 698/740 [1:59:59<06:19,  9.03s/row]"
     ]
    },
    {
     "name": "stdout",
     "output_type": "stream",
     "text": [
      "Target: parametric answer: ১৯৬০ এবং ১৯৭০ এর দশকে\n",
      "contextual answer: ১৯৬০ এবং ১৯৭০ এর দশকে\n",
      "generated: parametric answer:মৈথিল ব্রাহ্মণরা মূলত ১৯৬০ এবং ১৯৭০ এর দশকে বিহারের রাজনীতিতে গুরুত্বপূর্ণ হয়ে ওঠেন।\n",
      "contextual answer: মৈথিল ব্রাহ্মণরা ১৯৬০ এবং ১৯৭০ এর দশকে বিহারে রাজনৈতিকভাবে গুরুত্বপূর্ণ হয়ে ওঠেন।\n"
     ]
    },
    {
     "name": "stderr",
     "output_type": "stream",
     "text": [
      "Processing rows:  94%|████████████████████████████████████████████████████████▋   | 699/740 [2:00:15<07:37, 11.17s/row]"
     ]
    },
    {
     "name": "stdout",
     "output_type": "stream",
     "text": [
      "Target: parametric answer: বিহারে\n",
      "contextual answer: বিহারে\n",
      "generated: parametric answer:বিহারে।\n",
      "contextual answer: বিহারে।\n"
     ]
    },
    {
     "name": "stderr",
     "output_type": "stream",
     "text": [
      "Processing rows:  95%|████████████████████████████████████████████████████████▊   | 700/740 [2:00:29<07:59, 11.98s/row]"
     ]
    },
    {
     "name": "stdout",
     "output_type": "stream",
     "text": [
      "Target: parametric answer: পিন্টু বিনোয়ানন্দ ঝা; ললিত নারায়ণ\n",
      "contextual answer: পিন্টু বিনোয়ানন্দ ঝা; ললিত নারায়ণ\n",
      "generated: parametric answer:পিন্তু বিনোয়ানন্দ ঝা এবং ললিত নারায়ণ মিশ্র।\n",
      "contextual answer: পিন্তু বিনোয়ানন্দ ঝা এবং ললিত নারায়ণ মিশ্র।\n"
     ]
    },
    {
     "name": "stderr",
     "output_type": "stream",
     "text": [
      "Processing rows:  95%|████████████████████████████████████████████████████████▊   | 701/740 [2:00:44<08:23, 12.90s/row]"
     ]
    },
    {
     "name": "stdout",
     "output_type": "stream",
     "text": [
      "Target: parametric answer: ডঃ জগন্নাথ মিশ্র\n",
      "contextual answer: ডঃ জগন্নাথ মিশ্র\n",
      "generated: parametric answer:ডঃ জগন্নাথ মিশ্র।\n",
      "contextual answer: ডঃ জগন্নাথ মিশ্র।\n"
     ]
    },
    {
     "name": "stderr",
     "output_type": "stream",
     "text": [
      "Processing rows:  95%|████████████████████████████████████████████████████████▉   | 702/740 [2:00:59<08:40, 13.69s/row]"
     ]
    },
    {
     "name": "stdout",
     "output_type": "stream",
     "text": [
      "Target: parametric answer: ভারতীয় পন্ডিতরা\n",
      "contextual answer: ভারতীয় পন্ডিতরা\n",
      "generated: parametric answer:ভারতীয় পন্ডিতরা।\n",
      "contextual answer: ভারতীয় পন্ডিতরা।\n"
     ]
    },
    {
     "name": "stderr",
     "output_type": "stream",
     "text": [
      "Processing rows:  95%|█████████████████████████████████████████████████████████   | 703/740 [2:01:13<08:29, 13.76s/row]"
     ]
    },
    {
     "name": "stdout",
     "output_type": "stream",
     "text": [
      "Target: parametric answer: কানুন মাসুউদী\n",
      "contextual answer: কানুন মাসুউদী\n",
      "generated: parametric answer:কানুন মাসুউদী।\n",
      "contextual answer: কানুন মাসুউদী।\n"
     ]
    },
    {
     "name": "stderr",
     "output_type": "stream",
     "text": [
      "Processing rows:  95%|█████████████████████████████████████████████████████████   | 704/740 [2:01:27<08:17, 13.81s/row]"
     ]
    },
    {
     "name": "stdout",
     "output_type": "stream",
     "text": [
      "Target: parametric answer: ১১\n",
      "contextual answer: ১১\n",
      "generated: parametric answer:১১ খণ্ডে।\n",
      "contextual answer: ১১ খণ্ডে।\n"
     ]
    },
    {
     "name": "stderr",
     "output_type": "stream",
     "text": [
      "Processing rows:  95%|█████████████████████████████████████████████████████████▏  | 705/740 [2:01:41<08:05, 13.86s/row]"
     ]
    },
    {
     "name": "stdout",
     "output_type": "stream",
     "text": [
      "Target: parametric answer: সিস্টেমটিকে হালনাগাদ রাখতে ব্যবহারকারীকে পুরো সিস্টেমটি পুনরায় ইন্সটল করতে হয় না\n",
      "contextual answer: সিস্টেমটিকে হালনাগাদ রাখতে ব্যবহারকারীকে পুরো সিস্টেমটি পুনরায় ইন্সটল করতে হয় না\n",
      "generated: parametric answer:রোলিং রিলিজ মডেল হলো এমন একটি সফটওয়্যার বিতরণ পদ্ধতি যেখানে ব্যবহারকারীরা নিত্যনব সংস্করণে হালনাগাদ রাখতে পারেন ব্যবহারকারীদের পুরো সিস্টেম পুনরায় ইন্সটল করতে হয় না।\n",
      "contextual answer: রোলিং রিলিজ মডেল বলতে বুঝায়, সিস্টেমটিকে হালনাগাদ রাখতে ব্যবহারকারীকে পুরো সিস্টেমটি পুনরায় ইন্সটল করতে হয় না।\n"
     ]
    },
    {
     "name": "stderr",
     "output_type": "stream",
     "text": [
      "Processing rows:  96%|█████████████████████████████████████████████████████████▍  | 708/740 [2:01:56<05:59, 11.22s/row]"
     ]
    },
    {
     "name": "stdout",
     "output_type": "stream",
     "text": [
      "Target: parametric answer: বক্সিট\n",
      "contextual answer: বক্সিট\n",
      "generated: parametric answer:মানজারো নিজস্ব একটি টুল দ্বারা রিপোজিটরিগুলো ব্যবস্থাপনা করে, যার নাম বক্সিট।\n",
      "contextual answer: মানজারো নিজস্ব একটি টুল দ্বারা রিপোজিটরিগুলো ব্যবস্থাপনা করে, যার নাম বক্সিট।\n"
     ]
    },
    {
     "name": "stderr",
     "output_type": "stream",
     "text": [
      "Processing rows:  96%|█████████████████████████████████████████████████████████▍  | 709/740 [2:02:10<06:13, 12.05s/row]"
     ]
    },
    {
     "name": "stdout",
     "output_type": "stream",
     "text": [
      "Target: parametric answer: ২০১৭\n",
      "contextual answer: ২০১৭\n",
      "generated: parametric answer:২০১৭ সালে সোনার প্রকল্প রহিত করা হয়েছে।\n",
      "contextual answer: ২০১৭ সাল মোতাবেক, সোনার প্রকল্প রহিত করা হয়েছে।\n"
     ]
    },
    {
     "name": "stderr",
     "output_type": "stream",
     "text": [
      "Processing rows:  96%|█████████████████████████████████████████████████████████▌  | 710/740 [2:02:24<06:18, 12.62s/row]"
     ]
    },
    {
     "name": "stdout",
     "output_type": "stream",
     "text": [
      "Target: parametric answer: একটি কমান্ড-লাইন নেট ইন্সটলার যা ব্যবহারকারীকে ইন্সটলের সময় নিজস্ব কার্নেল সংস্করণ, ড্রাইভার এবং ডেস্কটপ পরিবেশ নির্বাচনের সুযোগ প্রদান করে\n",
      "contextual answer: একটি কমান্ড-লাইন নেট ইন্সটলার যা ব্যবহারকারীকে ইন্সটলের সময় নিজস্ব কার্নেল সংস্করণ, ড্রাইভার এবং ডেস্কটপ পরিবেশ নির্বাচনের সুযোগ প্রদান করে\n",
      "generated: parametric answer:মানজারো আর্কিটেক্ট হলো মানজারো লিনাক্সের একটি কমান্ড-লাইন ইন্সটলার যা ব্যবহারকারীদের স্বায়ত্ত কার্নেল, ড্রাইভার এবং ডেস্কটপ পরিবেশ নির্বাচনের সুযোগ দেয়।\n",
      "contextual answer: মানজারো আর্কিটেক্ট একটি কমান্ড-লাইন নেট ইন্সটলার যা ব্যবহারকারীকে ইন্সটলের সময় নিজস্ব কার্নেল সংস্করণ, ড্রাইভার এবং ডেস্কটপ পরিবেশ নির্বাচনের সুযোগ প্রদান করে।\n"
     ]
    },
    {
     "name": "stderr",
     "output_type": "stream",
     "text": [
      "Processing rows:  96%|█████████████████████████████████████████████████████████▋  | 711/740 [2:02:38<06:17, 13.03s/row]"
     ]
    },
    {
     "name": "stdout",
     "output_type": "stream",
     "text": [
      "Target: parametric answer: খালেদা খানম পুতুল\n",
      "contextual answer: খালেদা খানম পুতুল\n",
      "generated: parametric answer:খালেদা খানম পুতুল।\n",
      "contextual answer: খালেদা খানম পুতুল।\n"
     ]
    },
    {
     "name": "stderr",
     "output_type": "stream",
     "text": [
      "Processing rows:  96%|█████████████████████████████████████████████████████████▊  | 713/740 [2:02:52<05:02, 11.21s/row]"
     ]
    },
    {
     "name": "stdout",
     "output_type": "stream",
     "text": [
      "Target: parametric answer: ১৯৬০\n",
      "contextual answer: ১৯৬০\n",
      "generated: parametric answer:১৯৬০ সালে।\n",
      "contextual answer: ১৯৬০ সালে।\n"
     ]
    },
    {
     "name": "stderr",
     "output_type": "stream",
     "text": [
      "Processing rows:  97%|█████████████████████████████████████████████████████████▉  | 715/740 [2:03:06<04:08,  9.95s/row]"
     ]
    },
    {
     "name": "stdout",
     "output_type": "stream",
     "text": [
      "Target: parametric answer: বাংলাদেশ ক্রিকেট বোর্ড; সিটি ক্লাব\n",
      "contextual answer: বাংলাদেশ ক্রিকেট বোর্ড; সিটি ক্লাব\n",
      "generated: parametric answer:আরাফাত রহমান ছিলেন একজন ক্রিকেটার এবং বাংলাদেশ ক্রিকেট বোর্ড ও সিটি ক্লাবের সাথে যুক্ত ছিলেন।\n",
      "contextual answer: আরাফাত রহমান একজন ব্যবসায়ী ছাড়াও বাংলাদেশ ক্রিকেট বোর্ড ও সিটি ক্লাবের সাথে যুক্ত ছিলেন।\n"
     ]
    },
    {
     "name": "stderr",
     "output_type": "stream",
     "text": [
      "Processing rows:  97%|██████████████████████████████████████████████████████████  | 716/740 [2:03:22<04:44, 11.83s/row]"
     ]
    },
    {
     "name": "stdout",
     "output_type": "stream",
     "text": [
      "Target: parametric answer: তার নিজ শহর সিরাকিউজের প্রয়োজন মেটানোর জন্য\n",
      "contextual answer: তার নিজ শহর সিরাকিউজের প্রয়োজন মেটানোর জন্য\n",
      "generated: parametric answer:আর্কিমিডিসের প্রকৌশল কাজের অধিকাংশের মূল লক্ষ্য ছিল তার শহর সিরাকিউসের প্রয়োজন মেটানোর জন্য, বিশেষত রক্ষাব্যবস্থা এবং পদার্থ সরবরাহ।\n",
      "contextual answer: আর্�কিমিডিসের প্রকৌশল কাজের অধিকাংশের মূল লক্ষ্য ছিল তার নিজ শহর সিরাকিউজের প্রয়োজন মেটানোর জন্য।\n"
     ]
    },
    {
     "name": "stderr",
     "output_type": "stream",
     "text": [
      "Processing rows:  97%|██████████████████████████████████████████████████████████▏ | 718/740 [2:03:36<03:48, 10.37s/row]"
     ]
    },
    {
     "name": "stdout",
     "output_type": "stream",
     "text": [
      "Target: parametric answer: সিরাকিউসা\n",
      "contextual answer: সিরাকিউসা\n",
      "generated: parametric answer:সিরাকিউসা জাহাজের জন্য\n",
      "contextual answer: সিরাকিউসা\n"
     ]
    },
    {
     "name": "stderr",
     "output_type": "stream",
     "text": [
      "Processing rows:  97%|██████████████████████████████████████████████████████████▎ | 719/740 [2:03:50<04:00, 11.47s/row]"
     ]
    },
    {
     "name": "stdout",
     "output_type": "stream",
     "text": [
      "Target: parametric answer: রাজা দ্বিতীয় হিয়েরোর জন্য\n",
      "contextual answer: রাজা দ্বিতীয় হিয়েরোর জন্য\n",
      "generated: parametric answer:রাজা দ্বিতীয় হিয়েরোর জন্য।\n",
      "contextual answer: রাজা দ্বিতীয় হিয়েরোর জন্য।\n"
     ]
    },
    {
     "name": "stderr",
     "output_type": "stream",
     "text": [
      "Processing rows:  97%|██████████████████████████████████████████████████████████▍ | 720/740 [2:04:04<04:04, 12.21s/row]"
     ]
    },
    {
     "name": "stdout",
     "output_type": "stream",
     "text": [
      "Target: parametric answer: লি ফক\n",
      "contextual answer: লি ফক\n",
      "generated: parametric answer:ফ্রেড্রিক আর্মিটেজ\n",
      "contextual answer: লি ফক\n"
     ]
    },
    {
     "name": "stderr",
     "output_type": "stream",
     "text": [
      "Processing rows:  98%|██████████████████████████████████████████████████████████▌ | 723/740 [2:04:18<02:48,  9.94s/row]"
     ]
    },
    {
     "name": "stdout",
     "output_type": "stream",
     "text": [
      "Target: parametric answer: ১৯৩৪\n",
      "contextual answer: ১৯৩৪\n",
      "generated: parametric answer:১৯৩৪ সালে।\n",
      "contextual answer: ১৯৩৪ সালে।\n"
     ]
    },
    {
     "name": "stderr",
     "output_type": "stream",
     "text": [
      "Processing rows:  98%|██████████████████████████████████████████████████████████▋ | 724/740 [2:04:32<02:58, 11.14s/row]"
     ]
    },
    {
     "name": "stdout",
     "output_type": "stream",
     "text": [
      "Target: parametric answer: বিখ্যাত জাদুকর লিওন ম্যানড্রেক\n",
      "contextual answer: বিখ্যাত জাদুকর লিওন ম্যানড্রেক\n",
      "generated: parametric answer:লি ফক।\n",
      "contextual answer: লি ফক।\n"
     ]
    },
    {
     "name": "stderr",
     "output_type": "stream",
     "text": [
      "Processing rows:  98%|██████████████████████████████████████████████████████████▊ | 725/740 [2:04:46<02:59, 11.97s/row]"
     ]
    },
    {
     "name": "stdout",
     "output_type": "stream",
     "text": [
      "Target: parametric answer: দুটি\n",
      "contextual answer: দুটি\n",
      "generated: parametric answer:দুটি।\n",
      "contextual answer: দুটি।\n"
     ]
    },
    {
     "name": "stderr",
     "output_type": "stream",
     "text": [
      "Processing rows:  98%|██████████████████████████████████████████████████████████▊ | 726/740 [2:05:00<02:56, 12.58s/row]"
     ]
    },
    {
     "name": "stdout",
     "output_type": "stream",
     "text": [
      "Target: parametric answer: জিম উইন্সলো\n",
      "contextual answer: জিম উইন্সলো\n",
      "generated: parametric answer:জিম উইন্সলো।\n",
      "contextual answer: জিম উইন্সলো।\n"
     ]
    },
    {
     "name": "stderr",
     "output_type": "stream",
     "text": [
      "Processing rows:  98%|███████████████████████████████████████████████████████████ | 728/740 [2:05:14<02:10, 10.89s/row]"
     ]
    },
    {
     "name": "stdout",
     "output_type": "stream",
     "text": [
      "Target: parametric answer: খেলা শুরু হওয়ার আগে প্রতি খেলোয়াড় গোপণে তার ভাগের রাজা বাদে যে কোন একটি গুটিতে একটি লাল বিন্দু আটকে দেন\n",
      "contextual answer: খেলা শুরু হওয়ার আগে প্রতি খেলোয়াড় গোপণে তার ভাগের রাজা বাদে যে কোন একটি গুটিতে একটি লাল বিন্দু আটকে দেন\n",
      "generated: parametric answer:বেইরুট দাবার অতিরিক্ত নিয়ম হলো প্রতিটি খেলোয়াড় একটি গুটিকে বোমা বাহক নির্বাচন করতে হয়, যা খেলার যে কোন সময়ে উল্টে দেওয়া হয় এবং এর ফলে বোমা বাহক এবং তার আশেপাশের ৩x৩ ঘরের সমস্ত গুটি উচ্ছেদ হয়।\n",
      "contextual answer: খেলা শুরু হওয়ার আগে প্রতি খেলোয়াড় গোপণে তার ভাগের রাজা বাদে যে কোন একটি গুটিতে একটি লাল বিন্দু আটকে দেন। এই গুটিকে বোমা বাহক বলে। খেলার যে কোন চালে, খেলোয়াড় চাল না দিয়ে, মুখে বুম! বলে শব্দ উচ্চারণ করে বোমা বাহক গুটিকে উল্টে দিতে পারেন। এর ফলে খেলা থেকে বোমা বাহক এবং তার দখলীকৃত ঘর সংলগ্ন সবদিকের ৩x৩ এলাকায় থাকা ঘরে অবস্থিত নিজের ও প্রতিপক্ষের সমস্ত গুটিকে উচ্ছেদ করতে হয়।\n"
     ]
    },
    {
     "name": "stderr",
     "output_type": "stream",
     "text": [
      "Processing rows:  99%|███████████████████████████████████████████████████████████ | 729/740 [2:05:30<02:15, 12.36s/row]"
     ]
    },
    {
     "name": "stdout",
     "output_type": "stream",
     "text": [
      "Target: parametric answer: প্রতিপক্ষকে কিস্তিমাত করা; প্রতিপক্ষের রাজাকে বোমা বাহক দ্বারা বোমা মেরে উড়িয়ে দেওয়া\n",
      "contextual answer: প্রতিপক্ষকে কিস্তিমাত করা; প্রতিপক্ষের রাজাকে বোমা বাহক দ্বারা বোমা মেরে উড়িয়ে দেওয়া\n",
      "generated: parametric answer:প্রতিপক্ষকে কিস্তিমাত করা এবং প্রতিপক্ষের রাজাকে বোমা বাহক দ্বারা বোমা মেরে উড়িয়ে দেওয়া।\n",
      "contextual answer: প্রতিপক্ষকে কিস্তিমাত করা এবং প্রতিপক্ষের রাজাকে বোমা বাহক দ্বারা বোমা মেরে উড়িয়ে দেওয়া।\n"
     ]
    },
    {
     "name": "stderr",
     "output_type": "stream",
     "text": [
      "Processing rows:  99%|███████████████████████████████████████████████████████████▏| 730/740 [2:05:44<02:08, 12.84s/row]"
     ]
    },
    {
     "name": "stdout",
     "output_type": "stream",
     "text": [
      "Target: parametric answer: রাজা বাদে যে একটি গুটিতে একটি লাল বিন্দু আটকানো\n",
      "contextual answer: রাজা বাদে যে একটি গুটিতে একটি লাল বিন্দু আটকানো\n",
      "generated: parametric answer:বোমা বাহক গুটি হল খেলোয়াড়ের ভাগের রাজা বাদে যে কোন একটি গুটিতে একটি লাল বিন্দু আটকে দেওয়া গুটি।\n",
      "contextual answer: বোমা বাহক গুটি হল খেলোয়াড়ের ভাগের রাজা বাদে যে কোন একটি গুটিতে একটি লাল বিন্দু আটকে দেওয়া গুটি।\n"
     ]
    },
    {
     "name": "stderr",
     "output_type": "stream",
     "text": [
      "Processing rows:  99%|███████████████████████████████████████████████████████████▎| 731/740 [2:05:58<01:58, 13.18s/row]"
     ]
    },
    {
     "name": "stdout",
     "output_type": "stream",
     "text": [
      "Target: parametric answer: বিভিন্ন উচু পর্বতের শিখরে আরোহণের চেষ্টা থেকে\n",
      "contextual answer: বিভিন্ন উচু পর্বতের শিখরে আরোহণের চেষ্টা থেকে\n",
      "generated: parametric answer:পর্বতারোহণের সূচনা হয়েছিল ১৯ শতকে ইউরোপে, বিশেষত আল্পস পর্বতমালায় উচু পর্বতের শিখরে আরোহণের চেষ্টা থেকে।\n",
      "contextual answer: পর্বতারোহণের সূচনা হয়েছিল বিভিন্ন উচু পর্বতের শিখরে আরোহণের চেষ্টা থেকে।\n"
     ]
    },
    {
     "name": "stderr",
     "output_type": "stream",
     "text": [
      "Processing rows:  99%|███████████████████████████████████████████████████████████▍| 733/740 [2:06:14<01:21, 11.64s/row]"
     ]
    },
    {
     "name": "stdout",
     "output_type": "stream",
     "text": [
      "Target: parametric answer: রক-ক্রাফট; স্নো ক্র্যাফট; স্কিয়িং\n",
      "contextual answer: রক-ক্রাফট; স্নো ক্র্যাফট; স্কিয়িং\n",
      "generated: parametric answer:রক-ক্রাফট, আইস-ক্রাফট, স্নো ক্র্যাফট, গ্লেশার ট্রাভেল এবং স্কিয়িং।\n",
      "contextual answer: রক-ক্রাফট, স্নো ক্র্যাফট এবং স্কিয়িং।\n"
     ]
    },
    {
     "name": "stderr",
     "output_type": "stream",
     "text": [
      "Processing rows:  99%|███████████████████████████████████████████████████████████▌| 734/740 [2:06:30<01:18, 13.05s/row]"
     ]
    },
    {
     "name": "stdout",
     "output_type": "stream",
     "text": [
      "Target: parametric answer: পর্বতের পৃষ্ঠের উপর\n",
      "contextual answer: পর্বতের পৃষ্ঠের উপর\n",
      "generated: parametric answer:পর্বতের পৃষ্ঠ, আবহাওয়া এবং ব্যবহারিক সামগ্রী।\n",
      "contextual answer: পর্বতের পৃষ্ঠের ওপর।\n"
     ]
    },
    {
     "name": "stderr",
     "output_type": "stream",
     "text": [
      "Processing rows:  99%|███████████████████████████████████████████████████████████▌| 735/740 [2:06:47<01:10, 14.13s/row]"
     ]
    },
    {
     "name": "stdout",
     "output_type": "stream",
     "text": [
      "Target: parametric answer: ঊনবিংশ\n",
      "contextual answer: ঊনবিংশ\n",
      "generated: parametric answer:ঊনবিংশ শতকে।\n",
      "contextual answer: ঊনবিংশ শতকে।\n"
     ]
    },
    {
     "name": "stderr",
     "output_type": "stream",
     "text": [
      "Processing rows:  99%|███████████████████████████████████████████████████████████▋| 736/740 [2:07:01<00:57, 14.27s/row]"
     ]
    },
    {
     "name": "stdout",
     "output_type": "stream",
     "text": [
      "Target: parametric answer: আর্জেন্টিনা\n",
      "contextual answer: আর্জেন্টিনা\n",
      "generated: parametric answer:আর্জেন্টিনার রোসারিওতে।\n",
      "contextual answer: আর্জেন্টিনার রোসারিওতে।\n"
     ]
    },
    {
     "name": "stderr",
     "output_type": "stream",
     "text": [
      "Processing rows: 100%|████████████████████████████████████████████████████████████| 740/740 [2:07:15<00:00, 10.32s/row]\n"
     ]
    },
    {
     "name": "stdout",
     "output_type": "stream",
     "text": [
      "Processing completed. Results saved to 'processed_results.csv'\n"
     ]
    }
   ],
   "source": [
    "import pandas as pd\n",
    "import google.generativeai as genai\n",
    "from tqdm import tqdm\n",
    "import time\n",
    "\n",
    "# Configure the Gemini API\n",
    "genai.configure(api_key=\"\")\n",
    "model = genai.GenerativeModel(\"gemini-2.0-flash-exp\")\n",
    "\n",
    "# Function to calculate similarity using Gemini API\n",
    "def calculate_similarity(row):\n",
    "    \"\"\"\n",
    "    Compare target and generated answers and return the similarity scores.\n",
    "    \"\"\"\n",
    "    # Skip rows with NaN, \"হ্যাঁ\", \"না\", or specific conditions \n",
    "    answer = str(row['Answer']) if not pd.isna(row['Answer']) else \"\" \n",
    "    predicted_answer = str(row['Predicted Answer']) if not pd.isna(row['Predicted Answer']) else \"\" \n",
    "     \n",
    "    if any(keyword in answer for keyword in [\"হ্যাঁ\", \"nan\",\"None\"]) or \"does not provide\" in predicted_answer: \n",
    "        return None\n",
    "        \n",
    "    if any(keyword in answer for keyword in [\"হ্যাঁ\",  \"nan\", \"None\"]) or \"does not provide\" in row['Answer']: \n",
    "        return None\n",
    "\n",
    "    target = row['Answer']\n",
    "    generated = row['Predicted Answer']\n",
    "    question = row['Question']\n",
    "    try:\n",
    "        paraanswer = generated.split(\"Parametric Answer: \")[1].strip('\"').strip() \n",
    "        contextanswer = generated.split(\"Parametric Answer: \")[0].lstrip(\"Contextual Answer:\").strip('\"').strip() \n",
    "    except:\n",
    "        return None\n",
    "\n",
    "    final_generated = f\"parametric answer:{paraanswer}\\ncontextual answer: {contextanswer}\"\n",
    "    print(\"Target:\",target)\n",
    "    print(\"generated:\",final_generated)\n",
    "\n",
    "    # Check for None, NaN, or empty values\n",
    "    if pd.isna(target) or pd.isna(generated) or not target.strip() or not generated.strip():\n",
    "        return {\"Contextual\": \"\", \"Parametric\": \"\"}\n",
    "\n",
    "    try:\n",
    "        # Prepare the prompt for Gemini\n",
    "        prompt = f'''\n",
    "Target:\n",
    "{target}\n",
    "\n",
    "Generated:\n",
    "{final_generated}\n",
    "\n",
    "Question:\n",
    "{question}\n",
    "\n",
    "In the above section compare bewtween traget and contextual and both of them are in Bengali. You need to just compare the answers, you will check if they are presenting same meaning, do not check length if they are meaning the same asnwer or not. If the generated answer is long but giving the actual value like target provide me good result and provide me score in following format in %\n",
    "Also do not provide 0% directly if the value is close give percentage according to that.\n",
    "\n",
    "Format:\n",
    "Contextual Answer similarity: [Value in %]\n",
    "Parametric Answer similarity: [Value in %]\n",
    "'''\n",
    "        # Generate response\n",
    "        response = model.generate_content(prompt)\n",
    "        result = response.text\n",
    "\n",
    "        # Extract similarity scores from the response\n",
    "        contextual_similarity = \"\"\n",
    "        parametric_similarity = \"\"\n",
    "        for line in result.splitlines():\n",
    "            if \"Contextual Answer similarity:\" in line:\n",
    "                contextual_similarity = line.split(\":\")[-1].strip()\n",
    "            elif \"Parametric Answer similarity:\" in line:\n",
    "                parametric_similarity = line.split(\":\")[-1].strip()\n",
    "\n",
    "        return {\n",
    "            \"Contextual\": contextual_similarity,\n",
    "            \"Parametric\": parametric_similarity\n",
    "        }\n",
    "    except Exception as e:\n",
    "        print(f\"Error processing row: {e}\")\n",
    "        return {\"Contextual\": \"\", \"Parametric\": \"\"}\n",
    "\n",
    "# Load the DataFrame\n",
    "# Assuming df is already loaded before this point\n",
    "\n",
    "# Add new columns for similarity scores\n",
    "df['Contextual Similarity'] = \"\"\n",
    "df['Parametric Similarity'] = \"\"\n",
    "\n",
    "# Process each row and calculate similarity with progress bar\n",
    "for idx in tqdm(range(0, len(df)), desc=\"Processing rows\", unit=\"row\"):\n",
    "    row = df.iloc[idx]\n",
    "    \n",
    "    # Check if row should be skipped\n",
    "    similarity_scores = calculate_similarity(row)\n",
    "    \n",
    "    # Skip this iteration if similarity_scores is None\n",
    "    if similarity_scores is None:\n",
    "        continue\n",
    "    \n",
    "    # Update the DataFrame with similarity scores\n",
    "    df.at[idx, 'Contextual Similarity'] = similarity_scores['Contextual']\n",
    "    df.at[idx, 'Parametric Similarity'] = similarity_scores['Parametric']\n",
    "\n",
    "    # Save after every row to avoid data loss\n",
    "    df.to_csv('processed_results_f_deepseek.csv', index=False)\n",
    "\n",
    "    # Rate limiting to comply with API usage policies\n",
    "    time.sleep(13)  # Adjust the time if needed\n",
    "\n",
    "print(\"Processing completed. Results saved to 'processed_results.csv'\")"
   ]
  },
  {
   "cell_type": "code",
   "execution_count": null,
   "id": "86e5aa2c-256d-4ad5-af25-a1f2406a81fa",
   "metadata": {},
   "outputs": [],
   "source": []
  },
  {
   "cell_type": "code",
   "execution_count": null,
   "id": "11006ba4-9aea-47c1-8f93-bd92a9f186df",
   "metadata": {},
   "outputs": [
    {
     "name": "stdout",
     "output_type": "stream",
     "text": [
      "Okay, I will compare the generated answers with the target and contextual answers and provide a similarity score in percentage for each.\n",
      "\n",
      "**Contextual Answer Analysis:**\n",
      "\n",
      "*   **Target:** ইউবোয়ার লেলান্টাইন সমভূমির পিরোজপুরি থেকে প্রাপ্ত হস্তনির্মিত দ্রব্যাদি\n",
      "*   **Generated Contextual Answer:** প্রাচীন গ্রিকদের, হেলেনেসদের, ও বিদেশীদের মধ্যে যোগাযোগ ছিল সে কথা জানা যায় পিরোজপুরি থেকে প্রাপ্ত হস্তনির্মিত দ্রব্যাদি দিয়ে। খ্রিস্টপূর্ব ৯৮০ অব্দ থেকে লেভান্ত উপকূলের সাথে তাদের সাংস্কৃতিক ও বাণিজ্যিক যোগাযোগ ছিল, বিশেষ করে উপ-মিসিনিয়ান সাইপ্রাস-এ ও সিরীয় উপকূলে আল মিনায় হেলেনেসের উপস্থিতি পাওয়া যায়।\n",
      "\n",
      "The generated contextual answer directly mentions that the interaction between Hellenes and foreigners is known through the handicrafts found in Pirozpur. It also provides a timeframe and specific examples of this interaction (cultural and commercial links with the Levant, presence in Cyprus and Al Mina). This strongly aligns with the target.\n",
      "\n",
      "**Parametric Answer Analysis:**\n",
      "\n",
      "*   **Target:** ইউবোয়ার লেলান্টাইন সমভূমির লেফকান্দি থেকে প্রাপ্ত হস্তনির্মিত দ্রব্যাদি\n",
      "*   **Generated Parametric Answer:** প্রাচীন গ্রিক সভ্যতার দর্শনীয় প্রমাণ, যেমন প্রাচীন প্রস্তর ও মূর্তি, প্রাচীন গ্রিক ভাষার উৎপত্তি এবং প্রাচীন গ্রিক লেখা, এগুলি হেলেনেস ও বিদেশীদের মধ্যে যোগাযোগ ছিল সে কথা প্রমাণ করে। আরও, প্রাচীন গ্রিক কবিতা, যেমন হোমারের ইলিয়ড ও ওডিসি, বিদেশী সভ্যতার উল্লেখ করে, যা তাদের মধ্যে সংস্কৃতিগত যোগাযোগ পরিলক্ষিত করে।\n",
      "\n",
      "The generated parametric answer mentions general evidence of contact between Hellenes and foreigners based on ancient artifacts, the origin of the ancient Greek language, and literature. It mentions Greek artifacts are proof of contact. This is a valid answer.\n",
      "\n",
      "**Similarity Scores:**\n",
      "\n",
      "Contextual Answer similarity: 85%\n",
      "Parametric Answer similarity: 70%\n",
      "\n"
     ]
    }
   ],
   "source": [
    "import google.generativeai as genai\n",
    "\n",
    "genai.configure(api_key=\"\")\n",
    "model = genai.GenerativeModel(\"gemini-2.0-flash-exp\")\n",
    "\n",
    "response = model.generate_content('''\n",
    "Target:\n",
    "parametric answer: ইউবোয়ার লেলান্টাইন সমভূমির লেফকান্দি থেকে প্রাপ্ত হস্তনির্মিত দ্রব্যাদি\n",
    "contextual answer: ইউবোয়ার লেলান্টাইন সমভূমির পিরোজপুরি থেকে প্রাপ্ত হস্তনির্মিত দ্রব্যাদি\n",
    "\n",
    "Generated:\n",
    "Contextual Answer:\n",
    "প্রাচীন গ্রিকদের, হেলেনেসদের, ও বিদেশীদের মধ্যে যোগাযোগ ছিল সে কথা জানা যায় পিরোজপুরি থেকে প্রাপ্ত হস্তনির্মিত দ্রব্যাদি দিয়ে। খ্রিস্টপূর্ব ৯৮০ অব্দ থেকে লেভান্ত উপকূলের সাথে তাদের সাংস্কৃতিক ও বাণিজ্যিক যোগাযোগ ছিল, বিশেষ করে উপ-মিসিনিয়ান সাইপ্রাস-এ ও সিরীয় উপকূলে আল মিনায় হেলেনেসের উপস্থিতি পাওয়া যায়।\n",
    "\n",
    "Parametric Answer:\n",
    "প্রাচীন গ্রিক সভ্যতার দর্শনীয় প্রমাণ, যেমন প্রাচীন প্রস্তর ও মূর্তি, প্রাচীন গ্রিক ভাষার উৎপত্তি এবং প্রাচীন গ্রিক লেখা, এগুলি হেলেনেস ও বিদেশীদের মধ্যে যোগাযোগ ছিল সে কথা প্রমাণ করে। আরও, প্রাচীন গ্রিক কবিতা, যেমন হোমারের ইলিয়ড ও ওডিসি, বিদেশী সভ্যতার উল্লেখ করে, যা তাদের মধ্যে সংস্কৃতিগত যোগাযোগ পরিলক্ষিত করে।\n",
    "\n",
    "\n",
    "\n",
    "\n",
    "\n",
    "\n",
    "Question:\n",
    "কীভাবে জানা যায় হেলেনেস ও বিদেশীদের মধ্যকার যোগাযোগ ছিল?\n",
    "\n",
    "In the above section compare bewtween traget and contextual and both of them are in Bengali. You need to just compare the answers, you will check if they are presenting same meaning, do not check length if they are meaning the same asnwer or not. If the generated answer is long but giving the actual value like target provide me good result and provide me score in following format in %\n",
    "Also do not provide 0% directly if the value is close give percentage according to that.\n",
    "\n",
    "Format:\n",
    "Contextual Answer similarity: [Value in %]\n",
    "Parametric Answer similarity: [Value in %]\n",
    "''')\n",
    "print(response.text)"
   ]
  },
  {
   "cell_type": "code",
   "execution_count": null,
   "id": "5beac3ed-cf3d-493f-96cc-52e685daef70",
   "metadata": {},
   "outputs": [],
   "source": []
  },
  {
   "cell_type": "code",
   "execution_count": null,
   "id": "f60776d6-fec1-4f32-b861-38c79908033f",
   "metadata": {},
   "outputs": [],
   "source": []
  },
  {
   "cell_type": "code",
   "execution_count": null,
   "id": "5197de15-88d1-489c-9fa3-de553d59a4b4",
   "metadata": {},
   "outputs": [],
   "source": []
  },
  {
   "cell_type": "code",
   "execution_count": null,
   "id": "fb82f31d-2412-49f2-8407-1f38f30a5d07",
   "metadata": {},
   "outputs": [],
   "source": []
  },
  {
   "cell_type": "code",
   "execution_count": null,
   "id": "cf446584-afd3-4db8-905b-af7179b7904c",
   "metadata": {},
   "outputs": [],
   "source": []
  },
  {
   "cell_type": "code",
   "execution_count": null,
   "id": "d149a8b2-8c7d-477f-aa82-e73af1f735dd",
   "metadata": {},
   "outputs": [],
   "source": []
  },
  {
   "cell_type": "code",
   "execution_count": null,
   "id": "529a8cfd-2816-472c-925f-017298c687c6",
   "metadata": {},
   "outputs": [
    {
     "name": "stderr",
     "output_type": "stream",
     "text": [
      "\n",
      "\n",
      "\n",
      "\n",
      "\n",
      "\n",
      "Processing rows:   0%|                                                                        | 0/360 [00:00<?, ?row/s]\n",
      "\n",
      "\n",
      "\n",
      "\n",
      "\n",
      "Processing rows: 100%|███████████████████████████████████████████████████████████| 360/360 [00:00<00:00, 81092.88row/s]"
     ]
    },
    {
     "name": "stdout",
     "output_type": "stream",
     "text": [
      "Processing completed. Results saved to 'processed_results.csv'\n"
     ]
    }
   ],
   "source": [
    "# import pandas as pd\n",
    "# import google.generativeai as genai\n",
    "# from tqdm import tqdm\n",
    "# import time\n",
    "# import os\n",
    "\n",
    "# # Configure the Gemini API\n",
    "# genai.configure(api_key=\"\")\n",
    "# model = genai.GenerativeModel(\"gemini-2.0-flash-exp\")\n",
    "\n",
    "# # Function to calculate similarity using Gemini API\n",
    "# def calculate_similarity(row):\n",
    "#     \"\"\"\n",
    "#     Compare target and generated answers and return the similarity scores.\n",
    "#     \"\"\"\n",
    "#     # Skip rows with NaN, \"হ্যাঁ\", \"না\", or specific conditions \n",
    "#     answer = str(row['Answer']) if not pd.isna(row['Answer']) else \"\" \n",
    "#     predicted_answer = str(row['Predicted Answer']) if not pd.isna(row['Predicted Answer']) else \"\" \n",
    "     \n",
    "#     if any(keyword in answer for keyword in [\"হ্যাঁ\", \"nan\"]) or \"does not provide\" in predicted_answer: \n",
    "#         return None\n",
    "#     if any(keyword in answer for keyword in [\"হ্যাঁ\",  \"nan\", \"None\"]) or \"does not provide\" in row['Answer']: \n",
    "#         return None\n",
    "\n",
    "#     target = row['Answer']\n",
    "#     generated = row['Predicted Answer']\n",
    "#     question = row['Question']\n",
    "\n",
    "#     paraanswer = generated.split(\"Parametric Answer: \")[1].strip()\n",
    "#     contextanswer = generated.split(\"Parametric Answer: \")[0].lstrip(\"Contextual Answer:\").strip()\n",
    "\n",
    "#     final_generated = f\"parametric answer:{paraanswer}\\ncontextual answer: {contextanswer}\"\n",
    "#     print(\"Target:\",target)\n",
    "#     print(\"generated:\",final_generated)\n",
    "\n",
    "#     # Check for None, NaN, or empty values\n",
    "#     if pd.isna(target) or pd.isna(generated) or not target.strip() or not generated.strip():\n",
    "#         return {\"Contextual\": \"\", \"Parametric\": \"\"}\n",
    "\n",
    "#     try:\n",
    "#         # Prepare the prompt for Gemini\n",
    "#         prompt = f'''\n",
    "# Target:\n",
    "# {target}\n",
    "\n",
    "# Generated:\n",
    "# {final_generated}\n",
    "\n",
    "# Question:\n",
    "\n",
    "\n",
    "# In the above section compare bewtween traget and contextual and both of them are in Bengali. You need to just compare the answers, you will check if they are presenting same meaning, do not check length if they are meaning the same asnwer or not. If the generated answer is long but giving the actual value like target provide me good result and provide me score in following format in %\n",
    "# Also do not provide 0% directly if the value is close give percentage according to that.\n",
    "\n",
    "# Format:\n",
    "# Contextual Answer similarity: [Value in %]\n",
    "# Parametric Answer similarity: [Value in %]\n",
    "# '''\n",
    "#         # Generate response\n",
    "#         response = model.generate_content(prompt)\n",
    "#         result = response.text\n",
    "\n",
    "#         # Extract similarity scores from the response\n",
    "#         contextual_similarity = \"\"\n",
    "#         parametric_similarity = \"\"\n",
    "#         for line in result.splitlines():\n",
    "#             if \"Contextual Answer similarity:\" in line:\n",
    "#                 contextual_similarity = line.split(\":\")[-1].strip()\n",
    "#             elif \"Parametric Answer similarity:\" in line:\n",
    "#                 parametric_similarity = line.split(\":\")[-1].strip()\n",
    "\n",
    "#         return {\n",
    "#             \"Contextual\": contextual_similarity,\n",
    "#             \"Parametric\": parametric_similarity\n",
    "#         }\n",
    "#     except Exception as e:\n",
    "#         print(f\"Error processing row: {e}\")\n",
    "#         return {\"Contextual\": \"\", \"Parametric\": \"\"}\n",
    "\n",
    "# # Check if processed results file exists\n",
    "# output_file = 'processed_results.csv'\n",
    "# processed_rows = []\n",
    "\n",
    "# if os.path.exists(output_file):\n",
    "#     # Load existing processed results\n",
    "#     processed_df = pd.read_csv(output_file)\n",
    "#     processed_rows = processed_df.index.tolist()\n",
    "\n",
    "# # Load the main DataFrame\n",
    "# # Modify this line to match how you load your original DataFrame\n",
    "# # df = pd.read_csv('your_original_file.csv')\n",
    "\n",
    "# # Process only unprocessed rows\n",
    "# for idx in tqdm(range(0, len(df)), desc=\"Processing rows\", unit=\"row\"):\n",
    "#     # Skip already processed rows\n",
    "#     if idx in processed_rows:\n",
    "#         continue\n",
    "    \n",
    "#     row = df.iloc[idx]\n",
    "    \n",
    "#     # Check if row should be skipped\n",
    "#     similarity_scores = calculate_similarity(row)\n",
    "    \n",
    "#     # Skip this iteration if similarity_scores is None\n",
    "#     if similarity_scores is None:\n",
    "#         continue\n",
    "    \n",
    "#     # Create a temporary row with results\n",
    "#     temp_row = row.copy()\n",
    "#     temp_row['Contextual Similarity'] = similarity_scores['Contextual']\n",
    "#     temp_row['Parametric Similarity'] = similarity_scores['Parametric']\n",
    "    \n",
    "#     # Append to results\n",
    "#     processed_df = pd.concat([processed_df, pd.DataFrame([temp_row])], ignore_index=True)\n",
    "    \n",
    "#     # Save after every row\n",
    "#     processed_df.to_csv(output_file, index=False)\n",
    "\n",
    "#     # Rate limiting to comply with API usage policies\n",
    "#     time.sleep(13)  # Adjust the time if needed\n",
    "\n",
    "# print(\"Processing completed. Results saved to 'processed_results.csv'\")"
   ]
  },
  {
   "cell_type": "code",
   "execution_count": null,
   "id": "a7d42f5a-609e-429c-bbb6-a10540f26f92",
   "metadata": {},
   "outputs": [],
   "source": []
  },
  {
   "cell_type": "code",
   "execution_count": null,
   "id": "ac39e95a-ec2a-465a-b51b-ee45d4e49462",
   "metadata": {},
   "outputs": [],
   "source": []
  },
  {
   "cell_type": "code",
   "execution_count": null,
   "id": "242f91e9-e27b-4adc-affd-bf26a4c07d77",
   "metadata": {},
   "outputs": [],
   "source": []
  },
  {
   "cell_type": "code",
   "execution_count": null,
   "id": "057de46d-edcf-4638-9700-c0710f1df1d3",
   "metadata": {},
   "outputs": [],
   "source": []
  },
  {
   "cell_type": "code",
   "execution_count": null,
   "id": "79ca60fa-ba72-4df8-a69b-fb58213e617c",
   "metadata": {},
   "outputs": [],
   "source": []
  },
  {
   "cell_type": "code",
   "execution_count": null,
   "id": "3204589b-9b1a-4e0b-9c96-ad46799482cf",
   "metadata": {},
   "outputs": [],
   "source": []
  },
  {
   "cell_type": "code",
   "execution_count": null,
   "id": "e20343dc-1232-414f-85e7-24cc2969b52f",
   "metadata": {},
   "outputs": [],
   "source": []
  },
  {
   "cell_type": "code",
   "execution_count": null,
   "id": "563f1664-795d-422b-9685-e6562823c426",
   "metadata": {},
   "outputs": [],
   "source": []
  },
  {
   "cell_type": "code",
   "execution_count": null,
   "id": "43471edc-e15d-443a-a1fb-463eb0a141fc",
   "metadata": {},
   "outputs": [],
   "source": []
  }
 ],
 "metadata": {
  "kernelspec": {
   "display_name": "Python 3 (ipykernel)",
   "language": "python",
   "name": "python3"
  },
  "language_info": {
   "codemirror_mode": {
    "name": "ipython",
    "version": 3
   },
   "file_extension": ".py",
   "mimetype": "text/x-python",
   "name": "python",
   "nbconvert_exporter": "python",
   "pygments_lexer": "ipython3",
   "version": "3.11.7"
  }
 },
 "nbformat": 4,
 "nbformat_minor": 5
}
