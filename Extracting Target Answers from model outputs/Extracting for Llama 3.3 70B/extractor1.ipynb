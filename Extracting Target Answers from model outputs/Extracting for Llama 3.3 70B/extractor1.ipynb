{
 "cells": [
  {
   "cell_type": "code",
   "execution_count": 1,
   "id": "68f10428-72f2-4b7c-b21b-c3fc67fc2f48",
   "metadata": {},
   "outputs": [],
   "source": [
    "# Importing necessary libraries\n",
    "import pandas as pd"
   ]
  },
  {
   "cell_type": "code",
   "execution_count": 2,
   "id": "823a6f07-fe53-49bf-9fd8-319aa99f8253",
   "metadata": {},
   "outputs": [],
   "source": [
    "file_path = '700to1100.csv'"
   ]
  },
  {
   "cell_type": "code",
   "execution_count": 3,
   "id": "d38a4d75-f8c8-4316-8ad7-b6da8eacdceb",
   "metadata": {},
   "outputs": [],
   "source": [
    "# Reading the CSV file into a pandas DataFrame\n",
    "df = pd.read_csv(file_path)"
   ]
  },
  {
   "cell_type": "code",
   "execution_count": 4,
   "id": "b1c94bb7-1c00-42ab-a64e-b3ff9fb1122c",
   "metadata": {},
   "outputs": [
    {
     "name": "stdout",
     "output_type": "stream",
     "text": [
      "First row of the 'Predicted Answer' column:\n",
      "Output:\n",
      "আর্চ লিনাক্স সম্পর্কে প্রশ্নের উত্তর দেওয়ার জন্য, আমাকে প্রদত্ত পাঠ্যটি বিশ্লেষণ করতে হবে এবং তারপর আমার পূর্বশক্ত জ্ঞানের উপর ভিত্তি করে উত্তর দিতে হবে।\n",
      "\n",
      "প্রথমে, আমি প্রশ্নটি পড়ি: \"আর্চ লিনাক্স মূলত কি বিনামূল্যের উন্মুক্ত উৎসের সফটওয়্যার নিয়ে গঠিত?\" এই প্রশ্নের উত্তর দেওয়ার জন্য, আমাকে প্রদত্ত পাঠ্যে সংশ্লিষ্ট অংশটি খুঁজে বের করতে হবে।\n",
      "\n",
      "পাঠ্যটিতে বলা হয়েছে: \"আর্চ লিনাক্স মূলত বিনামূল্যের উন্মুক্ত উৎসের সফটওয়্যার নিয়ে গঠিত, এবং যেকাওকে এর উন্নয়নে অংশগ্রহণ সুযোগ প্রদান করে।\"\n",
      "\n",
      "এখন, আমি প্রশ্নের উত্তর দেব আর্চ লিনাক্স সম্পর্কে আমার পূর্বশক্ত জ্ঞানের উপর ভিত্তি করে। আর্চ লিনাক্স একটি জনপ্রিয় লিনাক্স ডিস্ট্রিবিউশন যা বিনামূল্যের এবং উন্মুক্ত উৎসের সফটওয়্যার নিয়ে গঠিত।\n",
      "\n",
      "End of thought process\n",
      "\n",
      "Contextual Answer: হ্যাঁ, আর্চ লিনাক্স মূলত বিনামূল্যের উন্মুক্ত উৎসের সফটওয়্যার নিয়ে গঠিত।\n",
      "Parametric Answer: হ্যাঁ, আর্চ লিনাক্স মূলত বিনামূল্যের উন্মুক্ত উৎসের সফটওয়্যার নিয়ে গঠিত।\n",
      "Explanation:\n",
      "হ্যাঁ, আর্চ লিনাক্স মূলত বিনামূল্যের উন্মুক্ত উৎসের সফটওয়্যার নিয়ে গঠিত।\n"
     ]
    }
   ],
   "source": [
    "# # Print the 'Predicted Answer' column\n",
    "# print(\"Predicted Answer Column:\")\n",
    "# print(df['Predicted Answer'])\n",
    "\n",
    "# Print the first row of the 'Predicted Answer' column\n",
    "print(\"First row of the 'Predicted Answer' column:\")\n",
    "print(df['Predicted Answer'].iloc[1])"
   ]
  },
  {
   "cell_type": "code",
   "execution_count": 5,
   "id": "7ee0eff1-b6c2-4f0f-ab0a-b3da782e4690",
   "metadata": {},
   "outputs": [
    {
     "name": "stdout",
     "output_type": "stream",
     "text": [
      "The sentence \"End of thought process\" appears 297 times in the \"Predicted Answer\" column.\n"
     ]
    }
   ],
   "source": [
    "# Count the occurrences of the sentence \"End of thought process\"\n",
    "sentence_to_count = \"End of thought process\"\n",
    "count = df['Predicted Answer'].str.contains(sentence_to_count, na=False).sum()\n",
    "\n",
    "print(f'The sentence \"{sentence_to_count}\" appears {count} times in the \"Predicted Answer\" column.')"
   ]
  },
  {
   "cell_type": "code",
   "execution_count": 6,
   "id": "fa1ff003-dac8-4b56-8f0a-a83f583af885",
   "metadata": {},
   "outputs": [
    {
     "name": "stdout",
     "output_type": "stream",
     "text": [
      "The start_sentence was not found in the following cell(s):\n",
      "[7, 13, 18, 19, 29, 30, 31, 32, 33, 34, 35, 36, 37, 38, 39, 40, 41, 42, 43, 44, 47, 48, 49, 50, 52, 61, 80, 81, 82, 83, 84, 86, 122, 141, 155, 156, 157, 158, 159, 160, 161, 178, 179, 180, 181, 182, 183, 184, 185, 186, 187, 188, 189, 190, 191, 192, 193, 200, 201, 235, 240, 242, 256, 258, 278, 280, 281, 282, 290, 306, 308, 309, 310, 311, 312, 313, 314, 316, 317, 318, 319, 325, 330, 357, 358, 359, 360, 361, 362, 363, 364, 365, 366, 367, 368, 369, 370, 371, 372, 373, 374, 375, 376]\n",
      "Processed data has been saved to processed_results.csv\n"
     ]
    }
   ],
   "source": [
    "# Define the sentence to keep and the words to check for removal\n",
    "start_sentence = \"End of thought process\"\n",
    "remove_after_words = [\"Explanation:\", \"Reasoning\"]\n",
    "\n",
    "# Ensure all values in 'Predicted Answer' are strings and handle NaN values\n",
    "df['Predicted Answer'] = df['Predicted Answer'].fillna(\"\").astype(str)\n",
    "\n",
    "# Identify rows where the start_sentence is not present\n",
    "missing_start_sentence_indices = df[~df['Predicted Answer'].str.contains(start_sentence, regex=False)].index.tolist()\n",
    "\n",
    "# Modify the 'Predicted Answer' column to keep only the part starting from the start_sentence\n",
    "df['Predicted Answer'] = df['Predicted Answer'].apply(\n",
    "    lambda x: x.split(start_sentence, 1)[1].strip() if start_sentence in x else x\n",
    ")\n",
    "\n",
    "# Further remove content starting from \"Explanation:\" or \"Reasoning:\" if found\n",
    "for word in remove_after_words:\n",
    "    df['Predicted Answer'] = df['Predicted Answer'].str.split(word, n=1).str[0].str.strip()\n",
    "\n",
    "# Remove all occurrences of \"**\" from the cell values\n",
    "df['Predicted Answer'] = df['Predicted Answer'].str.replace(r\"\\*\\*\", \"\", regex=True)\n",
    "\n",
    "# Save the modified DataFrame to a new CSV file\n",
    "output_file_path = 'processed_results.csv'\n",
    "df.to_csv(output_file_path, index=False)\n",
    "\n",
    "# Print indices where start_sentence was not found\n",
    "if missing_start_sentence_indices:\n",
    "    print(\"The start_sentence was not found in the following cell(s):\")\n",
    "    print(missing_start_sentence_indices)\n",
    "else:\n",
    "    print(\"The start_sentence was found in all cells.\")\n",
    "\n",
    "print(f\"Processed data has been saved to {output_file_path}\")"
   ]
  },
  {
   "cell_type": "code",
   "execution_count": null,
   "id": "03b05cb4-2064-4a21-b690-af54755148ce",
   "metadata": {},
   "outputs": [],
   "source": []
  },
  {
   "cell_type": "code",
   "execution_count": null,
   "id": "225b9e4a-d34f-440b-8db4-8cc406af419a",
   "metadata": {},
   "outputs": [],
   "source": []
  },
  {
   "cell_type": "code",
   "execution_count": 19,
   "id": "e058307d-280f-4edb-9c33-3e6b626bf651",
   "metadata": {},
   "outputs": [
    {
     "name": "stdout",
     "output_type": "stream",
     "text": [
      "Contextual Answer: ৯৬৫ এরও বেশি নারী\n",
      "Parametric Answer: কোন তথ্য নেই\n"
     ]
    }
   ],
   "source": [
    "print(df['Predicted Answer'].iloc[11])"
   ]
  },
  {
   "cell_type": "code",
   "execution_count": 9,
   "id": "1d220c3f-11e9-4332-a7dc-a29bc8ad8f19",
   "metadata": {},
   "outputs": [
    {
     "name": "stdout",
     "output_type": "stream",
     "text": [
      "[7, 13, 18, 19, 29, 30, 31, 32, 33, 34, 35, 36, 37, 38, 39, 40, 41, 42, 43, 44, 47, 48, 49, 50, 52, 61, 80, 81, 82, 83, 84, 86, 122, 141, 155, 156, 157, 158, 159, 160, 161, 178, 179, 180, 181, 182, 183, 184, 185, 186, 187, 188, 189, 190, 191, 192, 193, 200, 201, 235, 240, 242, 256, 258, 278, 280, 281, 282, 290, 306, 308, 309, 310, 311, 312, 313, 314, 316, 317, 318, 319, 325, 330, 357, 358, 359, 360, 361, 362, 363, 364, 365, 366, 367, 368, 369, 370, 371, 372, 373, 374, 375, 376]\n"
     ]
    }
   ],
   "source": [
    "print(missing_start_sentence_indices)"
   ]
  },
  {
   "cell_type": "code",
   "execution_count": null,
   "id": "94600431-b173-4c64-8e81-cc5a7643a5ca",
   "metadata": {},
   "outputs": [],
   "source": []
  },
  {
   "cell_type": "code",
   "execution_count": null,
   "id": "85f629b6-a97c-4e26-862a-6d5b366a9645",
   "metadata": {},
   "outputs": [],
   "source": []
  },
  {
   "cell_type": "code",
   "execution_count": null,
   "id": "534d3c08-4fc2-433d-928f-7b1fb15de9d7",
   "metadata": {},
   "outputs": [],
   "source": []
  },
  {
   "cell_type": "code",
   "execution_count": 17,
   "id": "2999089e-d70b-4111-9bdb-2ae3df039438",
   "metadata": {},
   "outputs": [],
   "source": [
    "#!pip install google-generativeai python-dotenv\n"
   ]
  },
  {
   "cell_type": "code",
   "execution_count": null,
   "id": "4676f88a-ab07-453a-9474-e38f31221a29",
   "metadata": {},
   "outputs": [],
   "source": []
  },
  {
   "cell_type": "code",
   "execution_count": null,
   "id": "24ce9c98-ec9c-425d-bfe1-d4d46e2b1291",
   "metadata": {},
   "outputs": [],
   "source": []
  },
  {
   "cell_type": "code",
   "execution_count": null,
   "id": "fb6cf841-d43d-4246-a6ec-8f67a1a51250",
   "metadata": {},
   "outputs": [],
   "source": []
  },
  {
   "cell_type": "code",
   "execution_count": null,
   "id": "4618b316-5a6a-4181-add8-b9817d1ec2a0",
   "metadata": {},
   "outputs": [
    {
     "name": "stdout",
     "output_type": "stream",
     "text": [
      "Processed data with updated answers has been saved to processed_700to1100.csv\n"
     ]
    }
   ],
   "source": [
    "import pandas as pd\n",
    "import google.generativeai as genai\n",
    "from time import sleep\n",
    "\n",
    "# Configure the Gemini API\n",
    "genai.configure(api_key=\"\")\n",
    "model = genai.GenerativeModel(\"gemini-2.0-flash-exp\")\n",
    "\n",
    "\n",
    "\n",
    "# Function to extract answers using Gemini\n",
    "def extract_answers(predicted_answer):\n",
    "    if not predicted_answer.strip():\n",
    "        return \"\"\n",
    "    \n",
    "    prompt = f'''\n",
    "    {predicted_answer}\n",
    "    \n",
    "    From the text only extract the Parametric and Contextual answers only, If you are unable to extact return None and follow the format bellow.\n",
    "\n",
    "    Format:\n",
    "    Contextual Answer:\n",
    "    Parametric Answer:\n",
    "    '''\n",
    "\n",
    "    response = model.generate_content(prompt)\n",
    "    return response.text\n",
    "\n",
    "# Process only the rows with missing start sentence\n",
    "for idx in missing_start_sentence_indices:\n",
    "    updated_answer = extract_answers(df.at[idx, 'Predicted Answer'])\n",
    "    df.at[idx, 'Predicted Answer'] = updated_answer\n",
    "    sleep(10)\n",
    "\n",
    "# Save the updated DataFrame to a new CSV file\n",
    "output_file_path = 'processed_700to1100.csv'\n",
    "df.to_csv(output_file_path, index=False)\n",
    "\n",
    "print(f\"Processed data with updated answers has been saved to {output_file_path}\")"
   ]
  },
  {
   "cell_type": "code",
   "execution_count": null,
   "id": "93b055a4-188b-414b-b556-e547cf5e4f63",
   "metadata": {},
   "outputs": [],
   "source": []
  },
  {
   "cell_type": "code",
   "execution_count": null,
   "id": "8ecaa93f-a53f-4859-8642-b4742ada4cb7",
   "metadata": {},
   "outputs": [],
   "source": []
  },
  {
   "cell_type": "code",
   "execution_count": null,
   "id": "2eeabf5b-9ee4-4256-b1ef-784809bf9950",
   "metadata": {},
   "outputs": [
    {
     "name": "stdout",
     "output_type": "stream",
     "text": [
      "Contextual Answer: ২০৪৩\n",
      "Parametric Answer: প্রায় ২০০৯ সাল থেকে, যদিও স্বতন্ত্র ডেভেলপারদের কাজ আগেও ছিল।\n",
      "\n"
     ]
    }
   ],
   "source": [
    "import google.generativeai as genai\n",
    "\n",
    "genai.configure(api_key=\"\")\n",
    "model = genai.GenerativeModel(\"gemini-2.0-flash-exp\")\n",
    "\n",
    "response = model.generate_content('''\n",
    "**Contextual Answer**: ২০৪৩\n",
    "\n",
    "**Parametric Answer**: প্রায় ২০০�9 সাল থেকে, যদিও স্বতন্ত্র ডেভেলপারদের কাজ আগেও ছিল।\n",
    "\n",
    "\n",
    "In the above section extact the Contextual and Parametric Answer only\n",
    "Translate it to Bengali do not add anything extra and change anything. Keep the digits same! Converts English degits to Bengali Digits!\n",
    "\n",
    "Format:\n",
    "Contextual Answer:\n",
    "Parametric Answer:\n",
    "''')\n",
    "print(response.text)"
   ]
  },
  {
   "cell_type": "code",
   "execution_count": null,
   "id": "beabf1ab-34e4-47a7-b0b8-fb21f468e5d8",
   "metadata": {},
   "outputs": [],
   "source": []
  },
  {
   "cell_type": "code",
   "execution_count": null,
   "id": "48ea8f6f-d9cb-4a8c-9f9d-edfbfdc0e20f",
   "metadata": {},
   "outputs": [],
   "source": []
  },
  {
   "cell_type": "code",
   "execution_count": null,
   "id": "64e6dcdc-fb70-4156-85ac-76244b7991ec",
   "metadata": {},
   "outputs": [],
   "source": []
  },
  {
   "cell_type": "code",
   "execution_count": null,
   "id": "48b5b412-252b-460d-a62f-d7dfb390cf33",
   "metadata": {},
   "outputs": [],
   "source": []
  },
  {
   "cell_type": "code",
   "execution_count": null,
   "id": "84137fff-35fe-444a-8105-6415d40b7f05",
   "metadata": {},
   "outputs": [],
   "source": []
  },
  {
   "cell_type": "code",
   "execution_count": null,
   "id": "27ebe8d5-14e6-4877-a153-69a2cd14ea88",
   "metadata": {},
   "outputs": [],
   "source": []
  },
  {
   "cell_type": "code",
   "execution_count": null,
   "id": "a86b5922-f4a3-40b5-8cd0-bf8301f477a6",
   "metadata": {},
   "outputs": [],
   "source": []
  },
  {
   "cell_type": "code",
   "execution_count": null,
   "id": "2679440f-a6d9-47c0-a6bd-c20586359899",
   "metadata": {},
   "outputs": [],
   "source": []
  },
  {
   "cell_type": "code",
   "execution_count": null,
   "id": "7d65791e-2a40-4afe-8ef8-102119ea1075",
   "metadata": {},
   "outputs": [],
   "source": []
  },
  {
   "cell_type": "code",
   "execution_count": null,
   "id": "bc7e0cad-4837-4ba7-856a-df7d9495a56e",
   "metadata": {},
   "outputs": [],
   "source": []
  },
  {
   "cell_type": "code",
   "execution_count": null,
   "id": "6c5f83a4-8744-4541-8912-d0e27fcc45b4",
   "metadata": {},
   "outputs": [],
   "source": []
  },
  {
   "cell_type": "code",
   "execution_count": null,
   "id": "07606aeb-dec1-4daf-8c19-49ee1c73d5f1",
   "metadata": {},
   "outputs": [],
   "source": []
  },
  {
   "cell_type": "code",
   "execution_count": null,
   "id": "7867a896-fb5b-4c6a-ae28-1c6236d9bce3",
   "metadata": {},
   "outputs": [],
   "source": []
  },
  {
   "cell_type": "code",
   "execution_count": null,
   "id": "b6a8b4d5-de0e-442b-aaad-0bec9280dd9c",
   "metadata": {},
   "outputs": [],
   "source": []
  },
  {
   "cell_type": "code",
   "execution_count": null,
   "id": "234ae85f-448c-4460-8ea8-18425db2a672",
   "metadata": {},
   "outputs": [],
   "source": []
  },
  {
   "cell_type": "code",
   "execution_count": null,
   "id": "ee94ab4a-7325-4952-a23e-464f1344614b",
   "metadata": {},
   "outputs": [],
   "source": []
  },
  {
   "cell_type": "code",
   "execution_count": null,
   "id": "ee833195-bbbf-4756-81b1-16dcf7490935",
   "metadata": {},
   "outputs": [],
   "source": []
  },
  {
   "cell_type": "code",
   "execution_count": null,
   "id": "256b2015-2083-43b9-92d9-8cfa47816acf",
   "metadata": {},
   "outputs": [],
   "source": []
  },
  {
   "cell_type": "code",
   "execution_count": null,
   "id": "c1040c59-cf6d-4409-a91a-030cd0339309",
   "metadata": {},
   "outputs": [],
   "source": []
  }
 ],
 "metadata": {
  "kernelspec": {
   "display_name": "Python 3 (ipykernel)",
   "language": "python",
   "name": "python3"
  },
  "language_info": {
   "codemirror_mode": {
    "name": "ipython",
    "version": 3
   },
   "file_extension": ".py",
   "mimetype": "text/x-python",
   "name": "python",
   "nbconvert_exporter": "python",
   "pygments_lexer": "ipython3",
   "version": "3.11.7"
  }
 },
 "nbformat": 4,
 "nbformat_minor": 5
}
